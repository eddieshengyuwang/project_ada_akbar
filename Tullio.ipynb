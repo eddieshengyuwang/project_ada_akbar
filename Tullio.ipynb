{
 "cells": [
  {
   "cell_type": "code",
   "execution_count": 1,
   "metadata": {},
   "outputs": [],
   "source": [
    "# Import the necessary packages to perform the data analysis\n",
    "\n",
    "# packages to process and visualize the data\n",
    "import pandas as pd\n",
    "import numpy as np\n",
    "import seaborn as sns\n",
    "import scipy\n",
    "import matplotlib.pyplot as plt\n",
    "\n",
    "# packages to improve visual description and analysis\n",
    "from IPython.core import display as ICD\n",
    "pd.set_option('display.max_columns', 100)\n",
    "import os"
   ]
  },
  {
   "cell_type": "markdown",
   "metadata": {},
   "source": [
    "Import the dataset of top 2000 companies"
   ]
  },
  {
   "cell_type": "code",
   "execution_count": 2,
   "metadata": {},
   "outputs": [],
   "source": [
    "path='./data/'"
   ]
  },
  {
   "cell_type": "code",
   "execution_count": 4,
   "metadata": {},
   "outputs": [],
   "source": [
    "panama_docs=[]\n",
    "GDP_capita_docs=[]\n",
    "for i in os.listdir(path):\n",
    "    if i[:13]=='panama_papers':\n",
    "        panama_docs.append(i)\n",
    "    else:\n",
    "        GDP_capita_docs.append(i)"
   ]
  },
  {
   "cell_type": "code",
   "execution_count": 5,
   "metadata": {},
   "outputs": [],
   "source": [
    "df_edges_raw = pd.read_csv(path + panama_docs[0],low_memory=False)\n",
    "df_address_raw = pd.read_csv(path + panama_docs[1],low_memory=False)\n",
    "df_entity_raw = pd.read_csv(path + panama_docs[2],low_memory=False)\n",
    "df_intermediary_raw = pd.read_csv(path + panama_docs[3],low_memory=False)\n",
    "df_officier_raw = pd.read_csv(path + panama_docs[4],low_memory=False)"
   ]
  },
  {
   "cell_type": "markdown",
   "metadata": {},
   "source": [
    "**1) Map the tax heavens jurisdiction in terms of the number of entities they have registered**"
   ]
  },
  {
   "cell_type": "code",
   "execution_count": 6,
   "metadata": {},
   "outputs": [
    {
     "data": {
      "text/plain": [
       "array(['Samoa', 'Panama', 'Nevada', 'United Kingdom', 'Singapore',\n",
       "       'Ras Al Khaimah', 'Isle Of Man', 'British Anguilla', 'Seychelles',\n",
       "       'Niue', 'Uruguay', 'British Virgin Islands', 'Hong Kong',\n",
       "       'New Zealand', 'Bahamas', 'Cyprus', 'Malta', 'Belize', 'Jersey',\n",
       "       'Wyoming', 'Costa Rica'], dtype=object)"
      ]
     },
     "execution_count": 6,
     "metadata": {},
     "output_type": "execute_result"
    }
   ],
   "source": [
    "df_entity_raw['jurisdiction_description'].unique()"
   ]
  },
  {
   "cell_type": "code",
   "execution_count": null,
   "metadata": {},
   "outputs": [],
   "source": [
    "threshold1=1000\n",
    "df_entity_S1=df_entity_raw\n",
    "vc=df_entity_S1.jurisdiction_description.value_counts()\n",
    "tax_heavens_L=list(vc[vc > threshold1].index)\n",
    "tax_heavens_S=list(vc[vc <= threshold1].index)\n",
    "df_entity_S1.loc[~df_entity_S1.jurisdiction_description.isin(tax_heavens_L), 'jurisdiction_description'] = 'Others'\n",
    "df_entity_S1.jurisdiction_description.value_counts()"
   ]
  },
  {
   "cell_type": "code",
   "execution_count": null,
   "metadata": {},
   "outputs": [],
   "source": [
    "df_entity_S1.jurisdiction_description.value_counts().plot(kind='bar',title='Jurisdiction description')\n",
    "print('Countries in Others category are: ',tax_heavens_S)"
   ]
  },
  {
   "cell_type": "code",
   "execution_count": null,
   "metadata": {},
   "outputs": [],
   "source": [
    "df_entity_S1.jurisdiction_description.value_counts().sort_index().plot(kind='pie', figsize=(7, 7), title='Jurisdiction description')"
   ]
  },
  {
   "cell_type": "markdown",
   "metadata": {},
   "source": [
    "**2) Map countries in the world according to how much they appear in the Panama Papers in terms of the entities**"
   ]
  },
  {
   "cell_type": "code",
   "execution_count": null,
   "metadata": {
    "scrolled": true
   },
   "outputs": [],
   "source": [
    "df_entity_raw['countries'].unique()"
   ]
  },
  {
   "cell_type": "code",
   "execution_count": null,
   "metadata": {
    "scrolled": true
   },
   "outputs": [],
   "source": [
    "threshold2=1000\n",
    "vc=df_entity_S1.countries.value_counts()\n",
    "tax_evasions_L=list(vc[vc > threshold2].index)\n",
    "tax_evasions_S=list(vc[vc <= threshold2].index)\n",
    "df_entity_S1.loc[~df_entity_S1.countries.isin(tax_evasions_L), 'countries'] = 'Others'\n",
    "df_entity_S1.countries.value_counts()"
   ]
  },
  {
   "cell_type": "code",
   "execution_count": null,
   "metadata": {},
   "outputs": [],
   "source": [
    "df_entity_raw.countries.value_counts().plot(kind='bar',title='Countries', figsize=(10, 7), logy=True)"
   ]
  },
  {
   "cell_type": "code",
   "execution_count": null,
   "metadata": {},
   "outputs": [],
   "source": [
    "df_entity_S1.countries.value_counts().sort_index().plot(kind='pie', figsize=(7, 7), title='Countries')"
   ]
  },
  {
   "cell_type": "markdown",
   "metadata": {},
   "source": [
    "**3) HDI Analysis**"
   ]
  }
 ],
 "metadata": {
  "kernelspec": {
   "display_name": "Python 3",
   "language": "python",
   "name": "python3"
  },
  "language_info": {
   "codemirror_mode": {
    "name": "ipython",
    "version": 3
   },
   "file_extension": ".py",
   "mimetype": "text/x-python",
   "name": "python",
   "nbconvert_exporter": "python",
   "pygments_lexer": "ipython3",
   "version": "3.6.6"
  }
 },
 "nbformat": 4,
 "nbformat_minor": 2
}
