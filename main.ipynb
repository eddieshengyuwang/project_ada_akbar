{
 "cells": [
  {
   "cell_type": "markdown",
   "metadata": {},
   "source": [
    "## HERE PLACE THE GRAPHS AND THE ANALYSIS THAT HAVE TO BE DONE"
   ]
  },
  {
   "cell_type": "markdown",
   "metadata": {},
   "source": [
    "The results that are going to be obtained at the end of the research will be the following:\n",
    "\n",
    "Which are the jurisdictions in which entities found in Panama papers are registered?\n",
    "\n",
    "- **Map the tax heavens jurisdiction in terms of the number of entities they have registered** DONE, TO BE PLACED IN DATA STORY\n",
    "\n",
    "\n",
    "What countries have the most entities register in the Panama papers?\n",
    "\n",
    "- **Map countries in the world according to how much they appear in the Panama Papers in terms of entities **DONE, TO BE PLACED IN DATA STORY\n",
    "\n",
    "\n",
    "- **Use folium to make a map of the countries in terms of how mach they appear in the panama papers **, DONE, TO BE PLACED IN DATA STORY\n",
    "\n",
    "\n",
    "What are the burocratic and economic causes pushing entities to go offshore? \n",
    "\n",
    "\n",
    "- **Investigate the role that the indicators 'Days to open a business', 'Tax rate', 'Time spent dealing with legal requirements', 'Ease of doing business coefficients' have in pushing entities and companies already to establish in countries which offer business friendly regulations **DONE. The conclusion is that corporate tax rate is the better indicator since data about the rest of the other indicators are missing and they much harder to find. Hence tables showing the lack of data will be presented in the notebook, but nothing of this will be put in the data story . \n",
    "\n",
    "\n",
    "- **Relationship between presence in Panama Papers and tax rate for G7 nations, for small developped and for developped and developping countries ** DONE, TO BE PLACED IN DATA STORY\n",
    "\n",
    "\n",
    "How does the number of entities in a country which are mentioned in the Panama papers reflect with the social and income inequality within a country?\n",
    "\n",
    "\n",
    "- **Show the evolution of income inequality and entities' presence in the Panama papers over time** DONE, NOT TO BE PLACED IN DATA STORY\n",
    "\n",
    "- **Explain modifications on the dataset of entities** DONE\n",
    "\n",
    "- **Estimate how many resources could be lost by tax evasion by companies going ofsshore ** DONE, TO BE PLACED IN DATA STORY\n",
    "\n",
    "- **State assumptions in data story and notebook: the analysis is performed by assuming that most of the entities to go offshore are companies --> the use of corporate tax rate, GDP is used as measure to match countries and also as the only one to measure economic activity...** TO BE DONE\n",
    "\n",
    "\n",
    "- **Update story line of data story in the notebook making sure the two things match** TO BE DONE\n",
    "\n",
    "- **Work division update in READme and check all content and requirements of project submission** TO BE DONE"
   ]
  },
  {
   "cell_type": "code",
   "execution_count": 1,
   "metadata": {},
   "outputs": [],
   "source": [
    "# Import the necessary packages to perform the data analysis\n",
    "\n",
    "# packages to process and visualize the data\n",
    "import pandas as pd\n",
    "import numpy as np\n",
    "import seaborn as sns\n",
    "import scipy\n",
    "import matplotlib.pyplot as plt\n",
    "from scipy import stats\n",
    "\n",
    "# import othe useful packages\n",
    "import os\n",
    "from geopy.geocoders import Nominatim\n",
    "from math import pi\n",
    "import math\n",
    "from bokeh.plotting import figure, show, output_file, ColumnDataSource\n",
    "from bokeh.models import HoverTool, LogColorMapper, LogTicker, ColorBar\n",
    "from bokeh.layouts import row as row_plot\n",
    "\n",
    "# packages to improve visual description and analysis\n",
    "from IPython.core.display import display\n",
    "pd.set_option('display.max_columns', 100)"
   ]
  },
  {
   "cell_type": "code",
   "execution_count": 2,
   "metadata": {},
   "outputs": [],
   "source": [
    "# Getting file names\n",
    "\n",
    "DATA_FOLDER = './data/'\n",
    "\n",
    "# Panama papers data\n",
    "edges_csv = 'panama_papers.edges.csv'\n",
    "intermediary_csv = 'panama_papers.nodes.intermediary.csv' # company or individuals\n",
    "address_csv = 'panama_papers.nodes.address.csv'\n",
    "officer_csv = 'panama_papers.nodes.officer.csv'\n",
    "entity_csv = 'panama_papers.nodes.entity.csv' # tax haven companies\n",
    "entity_csv_mod = 'panama_papers_modified.nodes.entity.csv'"
   ]
  },
  {
   "cell_type": "markdown",
   "metadata": {},
   "source": [
    "The followings are the additional datasets used for the investigation taken in the [World Bank Dataset](https://data.worldbank.org):\n",
    "\n",
    "- `API_SI.POV.GINI_DS2_en_csv_v2_10224868.csv`, is the GINI coefficient per country\n",
    "\n",
    "- `API_NY.GDP.MKTP.CD_DS2_en_csv_v2_10224782.csv`, is the GDP per country\n",
    "\n",
    "- `API_NY.GDP.PCAP.CD_DS2_en_csv_v2_10224851.csv`, is the GDP per capita per country\n",
    "\n",
    "- `API_IC.GOV.DURS.ZS_DS2_en_csv_v2_10230883.csv`, is the time spent by business in government regulation per country\n",
    "\n",
    "- `API_GC.TAX.YPKG.RV.ZS_DS2_en_csv_v2_10227627.csv`, is the corporate tax rate per country\n",
    "\n",
    "- `API_IC.REG.DURS_DS2_en_csv_v2_10225592.csv`, days to open a business\n",
    "\n",
    "Every dataset is divided in n rows as many countries in the world and p columns for a range p of years usually going from the sixties to 2018. Hence each column represent the indicator per year. Not all countries have an indicator each year. Examples are given in the notebook."
   ]
  },
  {
   "cell_type": "code",
   "execution_count": 3,
   "metadata": {},
   "outputs": [],
   "source": [
    "#World Bank dataset\n",
    "GINI_coeff = 'API_SI.POV.GINI_DS2_en_csv_v2_10224868.csv'\n",
    "GDP_tot = 'API_NY.GDP.MKTP.CD_DS2_en_csv_v2_10224782.csv'\n",
    "GDP_cap = 'API_NY.GDP.PCAP.CD_DS2_en_csv_v2_10224851.csv'\n",
    "time_spent_by_bus = 'API_IC.GOV.DURS.ZS_DS2_en_csv_v2_10230883.csv'\n",
    "tax_rate = 'API_GC.TAX.YPKG.RV.ZS_DS2_en_csv_v2_10227627.csv'\n",
    "days_open_business='API_IC.REG.DURS_DS2_en_csv_v2_10225592.csv'"
   ]
  },
  {
   "cell_type": "code",
   "execution_count": 4,
   "metadata": {},
   "outputs": [],
   "source": [
    "# Importing the Panama Papers data into DataFrames\n",
    "df_edges_raw = pd.read_csv(DATA_FOLDER + edges_csv,low_memory=False)\n",
    "df_address_raw = pd.read_csv(DATA_FOLDER + address_csv,low_memory=False)\n",
    "df_entity_raw = pd.read_csv(DATA_FOLDER + entity_csv,low_memory=False)\n",
    "df_intermediary_raw = pd.read_csv(DATA_FOLDER + intermediary_csv,low_memory=False)\n",
    "df_officier_raw = pd.read_csv(DATA_FOLDER + officer_csv,low_memory=False)\n",
    "df_entity_mod_raw = pd.read_csv(DATA_FOLDER + entity_csv_mod,low_memory=False,encoding = \"ISO-8859-1\")"
   ]
  },
  {
   "cell_type": "code",
   "execution_count": 5,
   "metadata": {},
   "outputs": [],
   "source": [
    "#Importing World Bank Data\n",
    "df_GDP_tot_raw=pd.read_csv(DATA_FOLDER + GDP_tot,skiprows=4)\n",
    "df_GDP_cap_raw=pd.read_csv(DATA_FOLDER + GDP_cap,skiprows=4)\n",
    "df_tax_rate=pd.read_csv(DATA_FOLDER+tax_rate, skiprows=4)\n",
    "df_ease_business=pd.read_csv(DATA_FOLDER+days_open_business,skiprows=4)\n",
    "df_gini=pd.read_csv(DATA_FOLDER+GINI_coeff, skiprows=4)\n",
    "df_time_regulation=pd.read_csv(DATA_FOLDER+days_open_business, skiprows=4)"
   ]
  },
  {
   "cell_type": "markdown",
   "metadata": {},
   "source": [
    "## Handling data size\n",
    "\n",
    "First we will answer the question of whether we can handle the data in size."
   ]
  },
  {
   "cell_type": "code",
   "execution_count": 6,
   "metadata": {},
   "outputs": [
    {
     "name": "stdout",
     "output_type": "stream",
     "text": [
      "Edges shape:  (674102, 8)\n",
      "Intermediary shape:  (14110, 8)\n",
      "Address shape:  (93454, 8)\n",
      "Officer shape:  (238402, 7)\n",
      "Entity shape:  (213634, 17)\n"
     ]
    }
   ],
   "source": [
    "# Printing shapes of each DataFrame to see if any are too large\n",
    "\n",
    "print(\"Edges shape: \", df_edges_raw.shape)\n",
    "print(\"Intermediary shape: \", df_intermediary_raw.shape)\n",
    "print(\"Address shape: \", df_address_raw.shape)\n",
    "print(\"Officer shape: \", df_officier_raw.shape)\n",
    "print(\"Entity shape: \", df_entity_raw.shape)"
   ]
  },
  {
   "cell_type": "markdown",
   "metadata": {},
   "source": [
    "From above, we see that the DataFrame with the most number of rows is around 670,000 rows of data. In total the size of the Panama Papers dataset is around 352 MB, which is small enough for Jupyter Notebook and Pandas to handle effectively. Thus the data can definitely be handled within our approach of using purely a notebook. "
   ]
  },
  {
   "cell_type": "markdown",
   "metadata": {},
   "source": [
    "## Understanding the data\n",
    "\n",
    "Next we understand the data. Although the dataset is downloaded within `csv` format, the data is curated to work well within a graph database (specifically Neo4j as mentioned on the Panama Papers website). Here, the `Edges` table represents the edge connections within a graph database whereas all the other tables (`Intermediary`, `Address`, etc) are nodes within the graph. For example:"
   ]
  },
  {
   "cell_type": "code",
   "execution_count": 7,
   "metadata": {},
   "outputs": [
    {
     "data": {
      "text/html": [
       "<div>\n",
       "<style scoped>\n",
       "    .dataframe tbody tr th:only-of-type {\n",
       "        vertical-align: middle;\n",
       "    }\n",
       "\n",
       "    .dataframe tbody tr th {\n",
       "        vertical-align: top;\n",
       "    }\n",
       "\n",
       "    .dataframe thead th {\n",
       "        text-align: right;\n",
       "    }\n",
       "</style>\n",
       "<table border=\"1\" class=\"dataframe\">\n",
       "  <thead>\n",
       "    <tr style=\"text-align: right;\">\n",
       "      <th></th>\n",
       "      <th>START_ID</th>\n",
       "      <th>TYPE</th>\n",
       "      <th>END_ID</th>\n",
       "      <th>link</th>\n",
       "      <th>start_date</th>\n",
       "      <th>end_date</th>\n",
       "      <th>sourceID</th>\n",
       "      <th>valid_until</th>\n",
       "    </tr>\n",
       "  </thead>\n",
       "  <tbody>\n",
       "    <tr>\n",
       "      <th>0</th>\n",
       "      <td>10000035</td>\n",
       "      <td>registered_address</td>\n",
       "      <td>14095990</td>\n",
       "      <td>registered address</td>\n",
       "      <td>NaN</td>\n",
       "      <td>NaN</td>\n",
       "      <td>Panama Papers</td>\n",
       "      <td>NaN</td>\n",
       "    </tr>\n",
       "  </tbody>\n",
       "</table>\n",
       "</div>"
      ],
      "text/plain": [
       "   START_ID                TYPE    END_ID                link start_date  \\\n",
       "0  10000035  registered_address  14095990  registered address        NaN   \n",
       "\n",
       "  end_date       sourceID valid_until  \n",
       "0      NaN  Panama Papers         NaN  "
      ]
     },
     "metadata": {},
     "output_type": "display_data"
    }
   ],
   "source": [
    "display(df_edges_raw.head(1))"
   ]
  },
  {
   "cell_type": "markdown",
   "metadata": {},
   "source": [
    "To interpret this row in the `Edges` table, the `START_ID` and `END_ID` represent the node ids that the edge is connected to. But the node ids can correspond to any of `Intermediary, Address, Officer, Entity`, which may prove to be difficult in SQL or Pandas merging as we will have to look up the node id in every other table. One solution would be to use Neo4j and the Cypher querying language, which can be used to easily interpret the above information. Below we can see clearly that the start node is an Entity named *CARPENTER NELSON & CO., LTD* and the end node is an Address named *EUROFIN SERVICES S.A. P.O.BOX  6003 LAUSANNE 1002, VAUD SWITZERLAND* and the relationship type is *registered address*.\n",
    "\n",
    "<img src=\"ex_query1.png\" height=\"400\" width=\"1000\">"
   ]
  },
  {
   "cell_type": "markdown",
   "metadata": {},
   "source": [
    "For the purposes of our project, we may not even need to use Neo4j to answer our queries. However we have done the above analyis to identify the format of our data, which is crucial because if we do require a certain query, we understand how we can leverage different tools to achieve our goals.\n",
    "\n",
    "## Data Cleaning\n",
    "\n",
    "We see that `Edges` Dataframe and `Entity` Dataframe have mixed datatypes in their columns so we will inspect those more clearly. "
   ]
  },
  {
   "cell_type": "code",
   "execution_count": 8,
   "metadata": {},
   "outputs": [
    {
     "name": "stdout",
     "output_type": "stream",
     "text": [
      "[2500, 2205, 2201, 2099, 2088, 2088, 2020, 2019, 2015, 2015, 2015, 2015, 2015, 2015, 2015, 2015, 2015, 2015, 2015, 2015]\n",
      "[1974, 1973, 1973, 1972, 1968, 1966, 1965, 1959, 1957, 1957, 1194, 214, 213, 213, 206, 203, 202, 201, 201, 201, 200, 200, 200, 200, 200, 200, 200, 200, 199, 199, 96, 95, 82, 15, 14, 12, 12, 12, 12, 12, 12, 12, 12, 11, 9, 9, 6, 6, 4, 3]\n"
     ]
    }
   ],
   "source": [
    "start_dates = df_edges_raw.start_date.unique()[1:]\n",
    "start_dates = sorted(list(map(lambda x: int(x[-4:]), start_dates)), reverse=True)\n",
    "print(start_dates[:20])\n",
    "print(start_dates[-50:])"
   ]
  },
  {
   "cell_type": "markdown",
   "metadata": {},
   "source": [
    "We first see that the start_date and end_date columns in `Edges` have dates that are nonsensical, such as years that are well before/after 2015. Upon consideration of our research questions, we decide to drop the date columns from `Edges` as well as the Note column in `Entity` (For our research question of timeline of leaked papers, we will need to use the `Entity['incorporation_date']` column)."
   ]
  },
  {
   "cell_type": "code",
   "execution_count": 9,
   "metadata": {},
   "outputs": [],
   "source": [
    "edges = df_edges_raw.drop(columns=['start_date', 'end_date'])\n",
    "entity = df_entity_raw.drop(columns=['note'])"
   ]
  },
  {
   "cell_type": "markdown",
   "metadata": {},
   "source": [
    "Furthermore, we see that the `Entity['incorporation_date']` column have acceptable ranges below so we will convert that column from type object to date."
   ]
  },
  {
   "cell_type": "code",
   "execution_count": 10,
   "metadata": {
    "scrolled": false
   },
   "outputs": [
    {
     "name": "stdout",
     "output_type": "stream",
     "text": [
      "['01-APR-1975' '01-APR-1977' '01-APR-1981' ... '31-OCT-2013' '31-OCT-2014'\n",
      " nan]\n"
     ]
    }
   ],
   "source": [
    "print(entity['incorporation_date'].sort_values().unique())\n",
    "entity.incorporation_date = pd.to_datetime(entity.incorporation_date)"
   ]
  },
  {
   "cell_type": "markdown",
   "metadata": {},
   "source": [
    "#### Countries' names formatting"
   ]
  },
  {
   "cell_type": "markdown",
   "metadata": {},
   "source": [
    "Eventually it is important to mention that a number of countries had different spelling in the World Bank data relatively to the names given in the Panama Papers. Hence since the number of these incongruencies was lower than 15, the names were changed manually in the Panama Paper document excel. On top of that certain small countries/islands didn't have data relative to the GDP singularly and they were included by the World Bank in bigger group of countries: for example Jersey and Guernsey are included under the name 'Channel Islands' in the World Bank dataset. Hence the names were changed in the Panama Papers dataset. The new `df_entity_mod_raw` dataframe was not considered in the first analysis because no integration with other databases was performed. "
   ]
  },
  {
   "cell_type": "markdown",
   "metadata": {},
   "source": [
    "# The Panama Papers"
   ]
  },
  {
   "cell_type": "markdown",
   "metadata": {},
   "source": [
    "The Panama Papers are leaked documents that detail financial and attorney–client information for offshore entities. The documents were created by, and taken from, Panamanian law firm and corporate service provider Mossack Fonseca, and were leaked in 2015 by an anonymous source.\n",
    "\n",
    "As shown by the exploratory analysis, the entity document of the Panama Papers is very interesting: it provides a macroscopic view of how many entities per countries are involved in settling companies offshore or funds offshore. The reasons behind making an offshore company are multiple: setting a company offshore is not a crime, but it can be an indication that the business condition in the home country are not always favorable from a privacy point of view, from a bureaucratic point of view and from a tax point of view. Hence it is crucial to understand why entities decide to set their companies offshore and what is the consequence on the home country from a wealth distribution point of view. To carry out this investigation a set of questions which provide a guideline for this analysis are going to be answered\n",
    "\n",
    "**1)** Which are the jurisdictions in which entities found in Panama papers are registered?\n",
    "\n",
    "**2)** What countries have the most entities register in the Panama papers?\n",
    "\n",
    "**3)** Are there burocratic and economic causes pushing entities to go offshore ?\n",
    "\n",
    "**4)** What are the consequences of offshore companies on income inequality?"
   ]
  },
  {
   "cell_type": "markdown",
   "metadata": {},
   "source": [
    "### 1) Which are the jurisdictions in which entities found in Panama papers are registered?"
   ]
  },
  {
   "cell_type": "markdown",
   "metadata": {},
   "source": [
    "Here the jurisdiction column of the entity file is considered. It represents the county where the offshore entity is register."
   ]
  },
  {
   "cell_type": "code",
   "execution_count": 11,
   "metadata": {},
   "outputs": [
    {
     "data": {
      "text/plain": [
       "array(['Samoa', 'Panama', 'Nevada', 'United Kingdom', 'Singapore',\n",
       "       'Ras Al Khaimah', 'Isle Of Man', 'British Anguilla', 'Seychelles',\n",
       "       'Niue', 'Uruguay', 'British Virgin Islands', 'Hong Kong',\n",
       "       'New Zealand', 'Bahamas', 'Cyprus', 'Malta', 'Belize', 'Jersey',\n",
       "       'Wyoming', 'Costa Rica'], dtype=object)"
      ]
     },
     "execution_count": 11,
     "metadata": {},
     "output_type": "execute_result"
    }
   ],
   "source": [
    "df_entity_raw['jurisdiction_description'].unique()"
   ]
  },
  {
   "cell_type": "markdown",
   "metadata": {},
   "source": [
    "To better represent all the country present on different graph, all the countries appearing less times than a certain number called here threshold are grouped and considered in following steps as `Others`."
   ]
  },
  {
   "cell_type": "code",
   "execution_count": 12,
   "metadata": {
    "scrolled": true
   },
   "outputs": [
    {
     "data": {
      "text/plain": [
       "British Virgin Islands    113648\n",
       "Panama                     48360\n",
       "Bahamas                    15915\n",
       "Seychelles                 15182\n",
       "Niue                        9611\n",
       "Samoa                       5307\n",
       "British Anguilla            3253\n",
       "Nevada                      1260\n",
       "Others                      1098\n",
       "Name: jurisdiction_description, dtype: int64"
      ]
     },
     "execution_count": 12,
     "metadata": {},
     "output_type": "execute_result"
    }
   ],
   "source": [
    "threshold1=1000\n",
    "df_entity_S1=df_entity_raw.copy()\n",
    "vc=df_entity_S1.jurisdiction_description.value_counts()\n",
    "tax_havens_L=list(vc[vc > threshold1].index)\n",
    "tax_havens_S=list(vc[vc <= threshold1].index)\n",
    "df_entity_S1.loc[~df_entity_S1.jurisdiction_description.isin(tax_havens_L), 'jurisdiction_description'] = 'Others'\n",
    "df_entity_S1.jurisdiction_description.value_counts()"
   ]
  },
  {
   "cell_type": "markdown",
   "metadata": {},
   "source": [
    "A simple histogram is plotted. Logarithmic scale on the $y-axis$ is later applied noticed an approximated exponential distribution. It could be an interesting aspect to investigate. "
   ]
  },
  {
   "cell_type": "code",
   "execution_count": 13,
   "metadata": {
    "scrolled": true
   },
   "outputs": [
    {
     "name": "stdout",
     "output_type": "stream",
     "text": [
      "Countries in Others category are:  ['Hong Kong', 'United Kingdom', 'Belize', 'Costa Rica', 'Cyprus', 'Uruguay', 'New Zealand', 'Jersey', 'Wyoming', 'Malta', 'Isle Of Man', 'Ras Al Khaimah', 'Singapore']\n"
     ]
    },
    {
     "data": {
      "image/png": "[encoded data removed]",
      "text/plain": [
       "<Figure size 432x288 with 1 Axes>"
      ]
     },
     "metadata": {},
     "output_type": "display_data"
    }
   ],
   "source": [
    "df_entity_S1.jurisdiction_description.value_counts().plot(kind='bar',title='Jurisdiction description', logy=True)\n",
    "print('Countries in Others category are: ',tax_havens_S)"
   ]
  },
  {
   "cell_type": "markdown",
   "metadata": {},
   "source": [
    "Finally, we output a world map to better visualize all the jurisdictions that have offshore entities registered. First we find the latitude and longitude of all jurisdictions with help of the `Geopy` library."
   ]
  },
  {
   "cell_type": "code",
   "execution_count": 14,
   "metadata": {},
   "outputs": [],
   "source": [
    "jurisdiction_df = pd.DataFrame(df_entity_raw.jurisdiction_description.value_counts())\n",
    "jurisdiction_df.reset_index(inplace=True)\n",
    "jurisdiction_df.columns = [\"Area\", \"Count\"]\n",
    "\n",
    "# getting long, lat for all jurisdictions\n",
    "geolocator = Nominatim(user_agent='ADA_AKBAR')\n",
    "j_lat = []\n",
    "j_long = []\n",
    "\n",
    "for ind, row in jurisdiction_df.iterrows():\n",
    "    if row['Area'] == 'British Anguilla':\n",
    "        location = geolocator.geocode('Anguilla')\n",
    "    else:\n",
    "        location = geolocator.geocode(row['Area'])\n",
    "    j_lat.append(location.latitude)\n",
    "    j_long.append(location.longitude)\n",
    "\n",
    "jurisdiction_df['Latitude'] = j_lat\n",
    "jurisdiction_df['Longitude'] = j_long"
   ]
  },
  {
   "cell_type": "markdown",
   "metadata": {},
   "source": [
    "Next to plot on Bokeh, we use the Mercator Projection, which converts longitude and latitude coordinates onto the Cartesian grid so that Bokeh can successfully represent them in the plot. The equation for the Mercator Projection is:\n",
    "\n",
    "![merc](proj_jekyll/img/merc.png)"
   ]
  },
  {
   "cell_type": "code",
   "execution_count": 15,
   "metadata": {},
   "outputs": [],
   "source": [
    "def merc(lat_lst, lon_lst):\n",
    "    x_lst = []\n",
    "    y_lst = []\n",
    "    for i in range(len(lat_lst)):\n",
    "        lat = lat_lst[i]\n",
    "        lon = lon_lst[i]\n",
    "        r_major = 6378137.000\n",
    "        x = r_major * math.radians(lon)\n",
    "        scale = x/lon\n",
    "        y = 180.0/math.pi * math.log(math.tan(math.pi/4.0 + \n",
    "            lat * (math.pi/180.0)/2.0)) * scale\n",
    "        x_lst.append(x)\n",
    "        y_lst.append(y)\n",
    "    return x_lst, y_lst\n",
    "\n",
    "x_y = merc(jurisdiction_df.Latitude, jurisdiction_df.Longitude)\n",
    "jurisdiction_df['x'] = x_y[0]\n",
    "jurisdiction_df['y'] = x_y[1]"
   ]
  },
  {
   "cell_type": "markdown",
   "metadata": {},
   "source": [
    "Finally we plot the map with hovering capabilities."
   ]
  },
  {
   "cell_type": "code",
   "execution_count": 16,
   "metadata": {},
   "outputs": [
    {
     "data": {
      "text/html": [
       "\n",
       "    <div class=\"bk-root\">\n",
       "        <a href=\"https://bokeh.pydata.org\" target=\"_blank\" class=\"bk-logo bk-logo-small bk-logo-notebook\"></a>\n",
       "        <span id=\"0e203d39-bfe2-4836-bf50-d16044e77320\">Loading BokehJS ...</span>\n",
       "    </div>"
      ]
     },
     "metadata": {},
     "output_type": "display_data"
    },
    {
     "data": {
      "application/javascript": [
       "\n",
       "(function(root) {\n",
       "  function now() {\n",
       "    return new Date();\n",
       "  }\n",
       "\n",
       "  var force = true;\n",
       "\n",
       "  if (typeof (root._bokeh_onload_callbacks) === \"undefined\" || force === true) {\n",
       "    root._bokeh_onload_callbacks = [];\n",
       "    root._bokeh_is_loading = undefined;\n",
       "  }\n",
       "\n",
       "  var JS_MIME_TYPE = 'application/javascript';\n",
       "  var HTML_MIME_TYPE = 'text/html';\n",
       "  var EXEC_MIME_TYPE = 'application/vnd.bokehjs_exec.v0+json';\n",
       "  var CLASS_NAME = 'output_bokeh rendered_html';\n",
       "\n",
       "  /**\n",
       "   * Render data to the DOM node\n",
       "   */\n",
       "  function render(props, node) {\n",
       "    var script = document.createElement(\"script\");\n",
       "    node.appendChild(script);\n",
       "  }\n",
       "\n",
       "  /**\n",
       "   * Handle when an output is cleared or removed\n",
       "   */\n",
       "  function handleClearOutput(event, handle) {\n",
       "    var cell = handle.cell;\n",
       "\n",
       "    var id = cell.output_area._bokeh_element_id;\n",
       "    var server_id = cell.output_area._bokeh_server_id;\n",
       "    // Clean up Bokeh references\n",
       "    if (id !== undefined) {\n",
       "      Bokeh.index[id].model.document.clear();\n",
       "      delete Bokeh.index[id];\n",
       "    }\n",
       "\n",
       "    if (server_id !== undefined) {\n",
       "      // Clean up Bokeh references\n",
       "      var cmd = \"from bokeh.io.state import curstate; print(curstate().uuid_to_server['\" + server_id + \"'].get_sessions()[0].document.roots[0]._id)\";\n",
       "      cell.notebook.kernel.execute(cmd, {\n",
       "        iopub: {\n",
       "          output: function(msg) {\n",
       "            var element_id = msg.content.text.trim();\n",
       "            Bokeh.index[element_id].model.document.clear();\n",
       "            delete Bokeh.index[element_id];\n",
       "          }\n",
       "        }\n",
       "      });\n",
       "      // Destroy server and session\n",
       "      var cmd = \"import bokeh.io.notebook as ion; ion.destroy_server('\" + server_id + \"')\";\n",
       "      cell.notebook.kernel.execute(cmd);\n",
       "    }\n",
       "  }\n",
       "\n",
       "  /**\n",
       "   * Handle when a new output is added\n",
       "   */\n",
       "  function handleAddOutput(event, handle) {\n",
       "    var output_area = handle.output_area;\n",
       "    var output = handle.output;\n",
       "\n",
       "    // limit handleAddOutput to display_data with EXEC_MIME_TYPE content only\n",
       "    if ((output.output_type != \"display_data\") || (!output.data.hasOwnProperty(EXEC_MIME_TYPE))) {\n",
       "      return\n",
       "    }\n",
       "\n",
       "    var toinsert = output_area.element.find(\".\" + CLASS_NAME.split(' ')[0]);\n",
       "\n",
       "    if (output.metadata[EXEC_MIME_TYPE][\"id\"] !== undefined) {\n",
       "      toinsert[toinsert.length - 1].firstChild.textContent = output.data[JS_MIME_TYPE];\n",
       "      // store reference to embed id on output_area\n",
       "      output_area._bokeh_element_id = output.metadata[EXEC_MIME_TYPE][\"id\"];\n",
       "    }\n",
       "    if (output.metadata[EXEC_MIME_TYPE][\"server_id\"] !== undefined) {\n",
       "      var bk_div = document.createElement(\"div\");\n",
       "      bk_div.innerHTML = output.data[HTML_MIME_TYPE];\n",
       "      var script_attrs = bk_div.children[0].attributes;\n",
       "      for (var i = 0; i < script_attrs.length; i++) {\n",
       "        toinsert[toinsert.length - 1].firstChild.setAttribute(script_attrs[i].name, script_attrs[i].value);\n",
       "      }\n",
       "      // store reference to server id on output_area\n",
       "      output_area._bokeh_server_id = output.metadata[EXEC_MIME_TYPE][\"server_id\"];\n",
       "    }\n",
       "  }\n",
       "\n",
       "  function register_renderer(events, OutputArea) {\n",
       "\n",
       "    function append_mime(data, metadata, element) {\n",
       "      // create a DOM node to render to\n",
       "      var toinsert = this.create_output_subarea(\n",
       "        metadata,\n",
       "        CLASS_NAME,\n",
       "        EXEC_MIME_TYPE\n",
       "      );\n",
       "      this.keyboard_manager.register_events(toinsert);\n",
       "      // Render to node\n",
       "      var props = {data: data, metadata: metadata[EXEC_MIME_TYPE]};\n",
       "      render(props, toinsert[toinsert.length - 1]);\n",
       "      element.append(toinsert);\n",
       "      return toinsert\n",
       "    }\n",
       "\n",
       "    /* Handle when an output is cleared or removed */\n",
       "    events.on('clear_output.CodeCell', handleClearOutput);\n",
       "    events.on('delete.Cell', handleClearOutput);\n",
       "\n",
       "    /* Handle when a new output is added */\n",
       "    events.on('output_added.OutputArea', handleAddOutput);\n",
       "\n",
       "    /**\n",
       "     * Register the mime type and append_mime function with output_area\n",
       "     */\n",
       "    OutputArea.prototype.register_mime_type(EXEC_MIME_TYPE, append_mime, {\n",
       "      /* Is output safe? */\n",
       "      safe: true,\n",
       "      /* Index of renderer in `output_area.display_order` */\n",
       "      index: 0\n",
       "    });\n",
       "  }\n",
       "\n",
       "  // register the mime type if in Jupyter Notebook environment and previously unregistered\n",
       "  if (root.Jupyter !== undefined) {\n",
       "    var events = require('base/js/events');\n",
       "    var OutputArea = require('notebook/js/outputarea').OutputArea;\n",
       "\n",
       "    if (OutputArea.prototype.mime_types().indexOf(EXEC_MIME_TYPE) == -1) {\n",
       "      register_renderer(events, OutputArea);\n",
       "    }\n",
       "  }\n",
       "\n",
       "  \n",
       "  if (typeof (root._bokeh_timeout) === \"undefined\" || force === true) {\n",
       "    root._bokeh_timeout = Date.now() + 5000;\n",
       "    root._bokeh_failed_load = false;\n",
       "  }\n",
       "\n",
       "  var NB_LOAD_WARNING = {'data': {'text/html':\n",
       "     \"<div style='background-color: #fdd'>\\n\"+\n",
       "     \"<p>\\n\"+\n",
       "     \"BokehJS does not appear to have successfully loaded. If loading BokehJS from CDN, this \\n\"+\n",
       "     \"may be due to a slow or bad network connection. Possible fixes:\\n\"+\n",
       "     \"</p>\\n\"+\n",
       "     \"<ul>\\n\"+\n",
       "     \"<li>re-rerun `output_notebook()` to attempt to load from CDN again, or</li>\\n\"+\n",
       "     \"<li>use INLINE resources instead, as so:</li>\\n\"+\n",
       "     \"</ul>\\n\"+\n",
       "     \"<code>\\n\"+\n",
       "     \"from bokeh.resources import INLINE\\n\"+\n",
       "     \"output_notebook(resources=INLINE)\\n\"+\n",
       "     \"</code>\\n\"+\n",
       "     \"</div>\"}};\n",
       "\n",
       "  function display_loaded() {\n",
       "    var el = document.getElementById(\"0e203d39-bfe2-4836-bf50-d16044e77320\");\n",
       "    if (el != null) {\n",
       "      el.textContent = \"BokehJS is loading...\";\n",
       "    }\n",
       "    if (root.Bokeh !== undefined) {\n",
       "      if (el != null) {\n",
       "        el.textContent = \"BokehJS \" + root.Bokeh.version + \" successfully loaded.\";\n",
       "      }\n",
       "    } else if (Date.now() < root._bokeh_timeout) {\n",
       "      setTimeout(display_loaded, 100)\n",
       "    }\n",
       "  }\n",
       "\n",
       "\n",
       "  function run_callbacks() {\n",
       "    try {\n",
       "      root._bokeh_onload_callbacks.forEach(function(callback) { callback() });\n",
       "    }\n",
       "    finally {\n",
       "      delete root._bokeh_onload_callbacks\n",
       "    }\n",
       "    console.info(\"Bokeh: all callbacks have finished\");\n",
       "  }\n",
       "\n",
       "  function load_libs(js_urls, callback) {\n",
       "    root._bokeh_onload_callbacks.push(callback);\n",
       "    if (root._bokeh_is_loading > 0) {\n",
       "      console.log(\"Bokeh: BokehJS is being loaded, scheduling callback at\", now());\n",
       "      return null;\n",
       "    }\n",
       "    if (js_urls == null || js_urls.length === 0) {\n",
       "      run_callbacks();\n",
       "      return null;\n",
       "    }\n",
       "    console.log(\"Bokeh: BokehJS not loaded, scheduling load and callback at\", now());\n",
       "    root._bokeh_is_loading = js_urls.length;\n",
       "    for (var i = 0; i < js_urls.length; i++) {\n",
       "      var url = js_urls[i];\n",
       "      var s = document.createElement('script');\n",
       "      s.src = url;\n",
       "      s.async = false;\n",
       "      s.onreadystatechange = s.onload = function() {\n",
       "        root._bokeh_is_loading--;\n",
       "        if (root._bokeh_is_loading === 0) {\n",
       "          console.log(\"Bokeh: all BokehJS libraries loaded\");\n",
       "          run_callbacks()\n",
       "        }\n",
       "      };\n",
       "      s.onerror = function() {\n",
       "        console.warn(\"failed to load library \" + url);\n",
       "      };\n",
       "      console.log(\"Bokeh: injecting script tag for BokehJS library: \", url);\n",
       "      document.getElementsByTagName(\"head\")[0].appendChild(s);\n",
       "    }\n",
       "  };var element = document.getElementById(\"0e203d39-bfe2-4836-bf50-d16044e77320\");\n",
       "  if (element == null) {\n",
       "    console.log(\"Bokeh: ERROR: autoload.js configured with elementid '0e203d39-bfe2-4836-bf50-d16044e77320' but no matching script tag was found. \")\n",
       "    return false;\n",
       "  }\n",
       "\n",
       "  var js_urls = [\"https://cdn.pydata.org/bokeh/release/bokeh-0.12.16.min.js\", \"https://cdn.pydata.org/bokeh/release/bokeh-widgets-0.12.16.min.js\", \"https://cdn.pydata.org/bokeh/release/bokeh-tables-0.12.16.min.js\", \"https://cdn.pydata.org/bokeh/release/bokeh-gl-0.12.16.min.js\"];\n",
       "\n",
       "  var inline_js = [\n",
       "    function(Bokeh) {\n",
       "      Bokeh.set_log_level(\"info\");\n",
       "    },\n",
       "    \n",
       "    function(Bokeh) {\n",
       "      \n",
       "    },\n",
       "    function(Bokeh) {\n",
       "      console.log(\"Bokeh: injecting CSS: https://cdn.pydata.org/bokeh/release/bokeh-0.12.16.min.css\");\n",
       "      Bokeh.embed.inject_css(\"https://cdn.pydata.org/bokeh/release/bokeh-0.12.16.min.css\");\n",
       "      console.log(\"Bokeh: injecting CSS: https://cdn.pydata.org/bokeh/release/bokeh-widgets-0.12.16.min.css\");\n",
       "      Bokeh.embed.inject_css(\"https://cdn.pydata.org/bokeh/release/bokeh-widgets-0.12.16.min.css\");\n",
       "      console.log(\"Bokeh: injecting CSS: https://cdn.pydata.org/bokeh/release/bokeh-tables-0.12.16.min.css\");\n",
       "      Bokeh.embed.inject_css(\"https://cdn.pydata.org/bokeh/release/bokeh-tables-0.12.16.min.css\");\n",
       "    }\n",
       "  ];\n",
       "\n",
       "  function run_inline_js() {\n",
       "    \n",
       "    if ((root.Bokeh !== undefined) || (force === true)) {\n",
       "      for (var i = 0; i < inline_js.length; i++) {\n",
       "        inline_js[i].call(root, root.Bokeh);\n",
       "      }if (force === true) {\n",
       "        display_loaded();\n",
       "      }} else if (Date.now() < root._bokeh_timeout) {\n",
       "      setTimeout(run_inline_js, 100);\n",
       "    } else if (!root._bokeh_failed_load) {\n",
       "      console.log(\"Bokeh: BokehJS failed to load within specified timeout.\");\n",
       "      root._bokeh_failed_load = true;\n",
       "    } else if (force !== true) {\n",
       "      var cell = $(document.getElementById(\"0e203d39-bfe2-4836-bf50-d16044e77320\")).parents('.cell').data().cell;\n",
       "      cell.output_area.append_execute_result(NB_LOAD_WARNING)\n",
       "    }\n",
       "\n",
       "  }\n",
       "\n",
       "  if (root._bokeh_is_loading === 0) {\n",
       "    console.log(\"Bokeh: BokehJS loaded, going straight to plotting\");\n",
       "    run_inline_js();\n",
       "  } else {\n",
       "    load_libs(js_urls, function() {\n",
       "      console.log(\"Bokeh: BokehJS plotting callback run at\", now());\n",
       "      run_inline_js();\n",
       "    });\n",
       "  }\n",
       "}(window));"
      ],
      "application/vnd.bokehjs_load.v0+json": "\n(function(root) {\n  function now() {\n    return new Date();\n  }\n\n  var force = true;\n\n  if (typeof (root._bokeh_onload_callbacks) === \"undefined\" || force === true) {\n    root._bokeh_onload_callbacks = [];\n    root._bokeh_is_loading = undefined;\n  }\n\n  \n\n  \n  if (typeof (root._bokeh_timeout) === \"undefined\" || force === true) {\n    root._bokeh_timeout = Date.now() + 5000;\n    root._bokeh_failed_load = false;\n  }\n\n  var NB_LOAD_WARNING = {'data': {'text/html':\n     \"<div style='background-color: #fdd'>\\n\"+\n     \"<p>\\n\"+\n     \"BokehJS does not appear to have successfully loaded. If loading BokehJS from CDN, this \\n\"+\n     \"may be due to a slow or bad network connection. Possible fixes:\\n\"+\n     \"</p>\\n\"+\n     \"<ul>\\n\"+\n     \"<li>re-rerun `output_notebook()` to attempt to load from CDN again, or</li>\\n\"+\n     \"<li>use INLINE resources instead, as so:</li>\\n\"+\n     \"</ul>\\n\"+\n     \"<code>\\n\"+\n     \"from bokeh.resources import INLINE\\n\"+\n     \"output_notebook(resources=INLINE)\\n\"+\n     \"</code>\\n\"+\n     \"</div>\"}};\n\n  function display_loaded() {\n    var el = document.getElementById(\"0e203d39-bfe2-4836-bf50-d16044e77320\");\n    if (el != null) {\n      el.textContent = \"BokehJS is loading...\";\n    }\n    if (root.Bokeh !== undefined) {\n      if (el != null) {\n        el.textContent = \"BokehJS \" + root.Bokeh.version + \" successfully loaded.\";\n      }\n    } else if (Date.now() < root._bokeh_timeout) {\n      setTimeout(display_loaded, 100)\n    }\n  }\n\n\n  function run_callbacks() {\n    try {\n      root._bokeh_onload_callbacks.forEach(function(callback) { callback() });\n    }\n    finally {\n      delete root._bokeh_onload_callbacks\n    }\n    console.info(\"Bokeh: all callbacks have finished\");\n  }\n\n  function load_libs(js_urls, callback) {\n    root._bokeh_onload_callbacks.push(callback);\n    if (root._bokeh_is_loading > 0) {\n      console.log(\"Bokeh: BokehJS is being loaded, scheduling callback at\", now());\n      return null;\n    }\n    if (js_urls == null || js_urls.length === 0) {\n      run_callbacks();\n      return null;\n    }\n    console.log(\"Bokeh: BokehJS not loaded, scheduling load and callback at\", now());\n    root._bokeh_is_loading = js_urls.length;\n    for (var i = 0; i < js_urls.length; i++) {\n      var url = js_urls[i];\n      var s = document.createElement('script');\n      s.src = url;\n      s.async = false;\n      s.onreadystatechange = s.onload = function() {\n        root._bokeh_is_loading--;\n        if (root._bokeh_is_loading === 0) {\n          console.log(\"Bokeh: all BokehJS libraries loaded\");\n          run_callbacks()\n        }\n      };\n      s.onerror = function() {\n        console.warn(\"failed to load library \" + url);\n      };\n      console.log(\"Bokeh: injecting script tag for BokehJS library: \", url);\n      document.getElementsByTagName(\"head\")[0].appendChild(s);\n    }\n  };var element = document.getElementById(\"0e203d39-bfe2-4836-bf50-d16044e77320\");\n  if (element == null) {\n    console.log(\"Bokeh: ERROR: autoload.js configured with elementid '0e203d39-bfe2-4836-bf50-d16044e77320' but no matching script tag was found. \")\n    return false;\n  }\n\n  var js_urls = [\"https://cdn.pydata.org/bokeh/release/bokeh-0.12.16.min.js\", \"https://cdn.pydata.org/bokeh/release/bokeh-widgets-0.12.16.min.js\", \"https://cdn.pydata.org/bokeh/release/bokeh-tables-0.12.16.min.js\", \"https://cdn.pydata.org/bokeh/release/bokeh-gl-0.12.16.min.js\"];\n\n  var inline_js = [\n    function(Bokeh) {\n      Bokeh.set_log_level(\"info\");\n    },\n    \n    function(Bokeh) {\n      \n    },\n    function(Bokeh) {\n      console.log(\"Bokeh: injecting CSS: https://cdn.pydata.org/bokeh/release/bokeh-0.12.16.min.css\");\n      Bokeh.embed.inject_css(\"https://cdn.pydata.org/bokeh/release/bokeh-0.12.16.min.css\");\n      console.log(\"Bokeh: injecting CSS: https://cdn.pydata.org/bokeh/release/bokeh-widgets-0.12.16.min.css\");\n      Bokeh.embed.inject_css(\"https://cdn.pydata.org/bokeh/release/bokeh-widgets-0.12.16.min.css\");\n      console.log(\"Bokeh: injecting CSS: https://cdn.pydata.org/bokeh/release/bokeh-tables-0.12.16.min.css\");\n      Bokeh.embed.inject_css(\"https://cdn.pydata.org/bokeh/release/bokeh-tables-0.12.16.min.css\");\n    }\n  ];\n\n  function run_inline_js() {\n    \n    if ((root.Bokeh !== undefined) || (force === true)) {\n      for (var i = 0; i < inline_js.length; i++) {\n        inline_js[i].call(root, root.Bokeh);\n      }if (force === true) {\n        display_loaded();\n      }} else if (Date.now() < root._bokeh_timeout) {\n      setTimeout(run_inline_js, 100);\n    } else if (!root._bokeh_failed_load) {\n      console.log(\"Bokeh: BokehJS failed to load within specified timeout.\");\n      root._bokeh_failed_load = true;\n    } else if (force !== true) {\n      var cell = $(document.getElementById(\"0e203d39-bfe2-4836-bf50-d16044e77320\")).parents('.cell').data().cell;\n      cell.output_area.append_execute_result(NB_LOAD_WARNING)\n    }\n\n  }\n\n  if (root._bokeh_is_loading === 0) {\n    console.log(\"Bokeh: BokehJS loaded, going straight to plotting\");\n    run_inline_js();\n  } else {\n    load_libs(js_urls, function() {\n      console.log(\"Bokeh: BokehJS plotting callback run at\", now());\n      run_inline_js();\n    });\n  }\n}(window));"
     },
     "metadata": {},
     "output_type": "display_data"
    },
    {
     "data": {
      "text/html": [
       "\n",
       "<div class=\"bk-root\">\n",
       "    <div class=\"bk-plotdiv\" id=\"715a9940-c8f2-47c4-81d1-d751c4dee022\"></div>\n",
       "</div>"
      ]
     },
     "metadata": {},
     "output_type": "display_data"
    },
    {
     "data": {
      "application/javascript": [
       "(function(root) {\n",
       "  function embed_document(root) {\n",
       "    \n",
       "  var docs_json = {\"e8ac5828-d85a-4859-bf73-fe626b7704be\":{\"roots\":{\"references\":[{\"attributes\":{\"tile_source\":{\"id\":\"541b02bf-d5f2-49a3-868c-316f631380de\",\"type\":\"WMTSTileSource\"}},\"id\":\"66385c12-a21b-4cf5-b90e-bb5924665f41\",\"type\":\"TileRenderer\"},{\"attributes\":{\"source\":{\"id\":\"b9d9867f-410a-4944-b794-0c5d3029c293\",\"type\":\"ColumnDataSource\"}},\"id\":\"65752459-73f6-4476-b96a-a47a478010f2\",\"type\":\"CDSView\"},{\"attributes\":{\"data_source\":{\"id\":\"b9d9867f-410a-4944-b794-0c5d3029c293\",\"type\":\"ColumnDataSource\"},\"glyph\":{\"id\":\"75fce342-bc40-4f10-89ea-4b5494eb45c7\",\"type\":\"Circle\"},\"hover_glyph\":null,\"muted_glyph\":null,\"nonselection_glyph\":{\"id\":\"6ba924e9-3605-4b0b-b046-828b5d050649\",\"type\":\"Circle\"},\"selection_glyph\":null,\"view\":{\"id\":\"65752459-73f6-4476-b96a-a47a478010f2\",\"type\":\"CDSView\"}},\"id\":\"099150e7-36d1-41a7-b50d-e4b73d10001c\",\"type\":\"GlyphRenderer\"},{\"attributes\":{\"attribution\":\"&copy; <a href=\\\"https://www.openstreetmap.org/copyright\\\">OpenStreetMap</a> contributors,&copy; <a href=\\\"https://cartodb.com/attributions\\\">CartoDB</a>\",\"url\":\"https://tiles.basemaps.cartocdn.com/light_all/{z}/{x}/{y}.png\"},\"id\":\"541b02bf-d5f2-49a3-868c-316f631380de\",\"type\":\"WMTSTileSource\"},{\"attributes\":{},\"id\":\"c880827a-7aa4-422e-9b2c-6a6ba2e3deb8\",\"type\":\"UnionRenderers\"},{\"attributes\":{},\"id\":\"e87c25cf-be8c-47c9-89b6-d69e1e9fddd4\",\"type\":\"PanTool\"},{\"attributes\":{},\"id\":\"aeac5e4c-8614-4faa-9d48-bd5b83e17a98\",\"type\":\"WheelZoomTool\"},{\"attributes\":{},\"id\":\"df880ecf-a4cc-48fa-ae4f-e416bc904690\",\"type\":\"SaveTool\"},{\"attributes\":{},\"id\":\"e69dd65c-dc01-4543-a52f-9b7e095bd1b6\",\"type\":\"StringEditor\"},{\"attributes\":{\"fill_alpha\":{\"value\":0.05},\"fill_color\":{\"value\":\"#FF0000\"},\"line_color\":{\"value\":\"#FF0000\"},\"size\":{\"units\":\"screen\",\"value\":10},\"x\":{\"field\":\"x\"},\"y\":{\"field\":\"y\"}},\"id\":\"75fce342-bc40-4f10-89ea-4b5494eb45c7\",\"type\":\"Circle\"},{\"attributes\":{\"fill_alpha\":{\"value\":0.1},\"fill_color\":{\"value\":\"#1f77b4\"},\"line_alpha\":{\"value\":0.1},\"line_color\":{\"value\":\"#1f77b4\"},\"size\":{\"units\":\"screen\",\"value\":10},\"x\":{\"field\":\"x\"},\"y\":{\"field\":\"y\"}},\"id\":\"6ba924e9-3605-4b0b-b046-828b5d050649\",\"type\":\"Circle\"},{\"attributes\":{\"editor\":{\"id\":\"e4e2ab2b-62de-4e95-9ab1-0cfcd7acf149\",\"type\":\"StringEditor\"},\"field\":\"count\",\"formatter\":{\"id\":\"6374710a-0ad9-4805-b61a-2af6acd38588\",\"type\":\"StringFormatter\"},\"title\":\"Count\"},\"id\":\"09c4dcad-ab22-49a4-9588-a9638e9f8ad5\",\"type\":\"TableColumn\"},{\"attributes\":{\"editor\":{\"id\":\"e69dd65c-dc01-4543-a52f-9b7e095bd1b6\",\"type\":\"StringEditor\"},\"field\":\"area\",\"formatter\":{\"id\":\"95333510-f4e7-4d2f-90bb-ba1b5ab48783\",\"type\":\"StringFormatter\"},\"title\":\"Area\"},\"id\":\"8dd30321-f79a-4fe5-bbc5-5f4d82d7a31a\",\"type\":\"TableColumn\"},{\"attributes\":{\"columns\":[{\"id\":\"8dd30321-f79a-4fe5-bbc5-5f4d82d7a31a\",\"type\":\"TableColumn\"},{\"id\":\"09c4dcad-ab22-49a4-9588-a9638e9f8ad5\",\"type\":\"TableColumn\"}],\"height\":350,\"source\":{\"id\":\"b9d9867f-410a-4944-b794-0c5d3029c293\",\"type\":\"ColumnDataSource\"},\"view\":{\"id\":\"60bfadd6-f718-4db0-bcbc-677f1f2293e7\",\"type\":\"CDSView\"},\"width\":200},\"id\":\"70d5db2e-f435-415a-ae7d-15dcc094991e\",\"type\":\"DataTable\"},{\"attributes\":{\"source\":{\"id\":\"b9d9867f-410a-4944-b794-0c5d3029c293\",\"type\":\"ColumnDataSource\"}},\"id\":\"60bfadd6-f718-4db0-bcbc-677f1f2293e7\",\"type\":\"CDSView\"},{\"attributes\":{\"children\":[{\"id\":\"065c883c-706c-48ac-aace-500bd4434e96\",\"type\":\"Row\"}]},\"id\":\"f89e17a2-870c-4cd4-bf5c-a28e95c9114f\",\"type\":\"Column\"},{\"attributes\":{},\"id\":\"20cbdd97-f8f8-4741-b412-ea2564b2e0f7\",\"type\":\"Selection\"},{\"attributes\":{},\"id\":\"e4e2ab2b-62de-4e95-9ab1-0cfcd7acf149\",\"type\":\"StringEditor\"},{\"attributes\":{},\"id\":\"95333510-f4e7-4d2f-90bb-ba1b5ab48783\",\"type\":\"StringFormatter\"},{\"attributes\":{\"callback\":null,\"data\":{\"area\":[\"British Virgin Islands\",\"Panama\",\"Bahamas\",\"Seychelles\",\"Niue\",\"Samoa\",\"British Anguilla\",\"Nevada\",\"Hong Kong\",\"United Kingdom\",\"Belize\",\"Costa Rica\",\"Cyprus\",\"Uruguay\",\"New Zealand\",\"Jersey\",\"Wyoming\",\"Malta\",\"Isle Of Man\",\"Ras Al Khaimah\",\"Singapore\"],\"count\":[113648,48360,15915,15182,9611,5307,3253,1260,452,148,130,78,76,52,47,39,37,28,8,2,1],\"x\":[-7187472.52121889,-9051012.04859185,-8682926.371051485,6173112.667714758,-18908877.99671455,-19160316.41036838,-7021479.486661815,-13008096.908262393,12708546.221819662,-364746.6939418176,-9880728.32212776,-9359064.872463409,3689698.8268976193,-6236134.850461531,19239838.256721042,-236620.70513764827,-11974474.519314528,1608309.6163905105,-502562.83350708074,6223628.008792438,11560755.754232766],\"y\":[2084707.601405807,928281.1129455578,2847968.6954087946,-519042.2128561343,-2161252.339791613,-1547772.4037354763,2060443.593098529,4795839.031857152,2545095.077194767,7304312.167817082,1900577.3768912465,1149825.8292469066,4161476.289401565,-3878797.5699098497,-5086386.000692607,6310962.4537718855,5337887.511019714,4285303.614438497,7214944.260192893,2966622.529122114,143667.20055241938]},\"selected\":{\"id\":\"20cbdd97-f8f8-4741-b412-ea2564b2e0f7\",\"type\":\"Selection\"},\"selection_policy\":{\"id\":\"c880827a-7aa4-422e-9b2c-6a6ba2e3deb8\",\"type\":\"UnionRenderers\"}},\"id\":\"b9d9867f-410a-4944-b794-0c5d3029c293\",\"type\":\"ColumnDataSource\"},{\"attributes\":{\"toolbar\":{\"id\":\"33466288-37ba-46fd-aa82-df8b751d7c44\",\"type\":\"ProxyToolbar\"},\"toolbar_location\":\"above\"},\"id\":\"ba2c0a79-5e4d-4870-b05e-413a91e332b7\",\"type\":\"ToolbarBox\"},{\"attributes\":{\"callback\":null,\"renderers\":\"auto\",\"tooltips\":[[\"Area\",\"@area\"],[\"Count\",\"@count\"]]},\"id\":\"d572a65b-34a7-4490-b0c1-04527bf48ef7\",\"type\":\"HoverTool\"},{\"attributes\":{\"children\":[{\"id\":\"70d5db2e-f435-415a-ae7d-15dcc094991e\",\"type\":\"DataTable\"}],\"height\":350,\"width\":200},\"id\":\"5115b60b-097c-4020-a118-569cd4d56627\",\"type\":\"WidgetBox\"},{\"attributes\":{\"children\":[{\"id\":\"2f4a3974-e4e1-46e7-8366-1e3569f9ff97\",\"subtype\":\"Figure\",\"type\":\"Plot\"},{\"id\":\"5115b60b-097c-4020-a118-569cd4d56627\",\"type\":\"WidgetBox\"}]},\"id\":\"065c883c-706c-48ac-aace-500bd4434e96\",\"type\":\"Row\"},{\"attributes\":{},\"id\":\"6374710a-0ad9-4805-b61a-2af6acd38588\",\"type\":\"StringFormatter\"},{\"attributes\":{\"below\":[{\"id\":\"a5d122f9-4557-42e7-9ca7-1b0f2fa39d17\",\"type\":\"MercatorAxis\"}],\"left\":[{\"id\":\"a598c736-e637-4981-ae7b-c7689a7bccbb\",\"type\":\"MercatorAxis\"}],\"plot_height\":400,\"renderers\":[{\"id\":\"a5d122f9-4557-42e7-9ca7-1b0f2fa39d17\",\"type\":\"MercatorAxis\"},{\"id\":\"42be7be0-9209-4940-b4dc-7321ce851f20\",\"type\":\"Grid\"},{\"id\":\"a598c736-e637-4981-ae7b-c7689a7bccbb\",\"type\":\"MercatorAxis\"},{\"id\":\"7f983481-ccd4-4704-8e3c-e1fdc0dadbbb\",\"type\":\"Grid\"},{\"id\":\"66385c12-a21b-4cf5-b90e-bb5924665f41\",\"type\":\"TileRenderer\"},{\"id\":\"099150e7-36d1-41a7-b50d-e4b73d10001c\",\"type\":\"GlyphRenderer\"}],\"title\":{\"id\":\"cbffb6b8-8932-4f27-90f7-5f923d816f54\",\"type\":\"Title\"},\"toolbar\":{\"id\":\"5c74d17f-ce98-44a5-9d31-c2f4cb97d5c5\",\"type\":\"Toolbar\"},\"toolbar_location\":null,\"x_range\":{\"id\":\"62bad3ef-e9a7-4857-888d-a408b6b6c1f0\",\"type\":\"Range1d\"},\"x_scale\":{\"id\":\"9513e776-3a75-40a4-af91-57ce2f5c4ca3\",\"type\":\"LinearScale\"},\"y_range\":{\"id\":\"ec767d12-d77f-4fa5-b46b-0ae9c25ddfa4\",\"type\":\"Range1d\"},\"y_scale\":{\"id\":\"e61f3438-6ebd-4911-af44-ab74a98339d5\",\"type\":\"LinearScale\"}},\"id\":\"2f4a3974-e4e1-46e7-8366-1e3569f9ff97\",\"subtype\":\"Figure\",\"type\":\"Plot\"},{\"attributes\":{\"tools\":[{\"id\":\"d572a65b-34a7-4490-b0c1-04527bf48ef7\",\"type\":\"HoverTool\"},{\"id\":\"e87c25cf-be8c-47c9-89b6-d69e1e9fddd4\",\"type\":\"PanTool\"},{\"id\":\"aeac5e4c-8614-4faa-9d48-bd5b83e17a98\",\"type\":\"WheelZoomTool\"},{\"id\":\"df880ecf-a4cc-48fa-ae4f-e416bc904690\",\"type\":\"SaveTool\"}]},\"id\":\"33466288-37ba-46fd-aa82-df8b751d7c44\",\"type\":\"ProxyToolbar\"},{\"attributes\":{\"plot\":null,\"text\":\"Top jurisdictions by count\"},\"id\":\"cbffb6b8-8932-4f27-90f7-5f923d816f54\",\"type\":\"Title\"},{\"attributes\":{\"callback\":null,\"end\":10000000,\"start\":-20000000},\"id\":\"62bad3ef-e9a7-4857-888d-a408b6b6c1f0\",\"type\":\"Range1d\"},{\"attributes\":{\"children\":[{\"id\":\"ba2c0a79-5e4d-4870-b05e-413a91e332b7\",\"type\":\"ToolbarBox\"},{\"id\":\"f89e17a2-870c-4cd4-bf5c-a28e95c9114f\",\"type\":\"Column\"}]},\"id\":\"a5574c1d-bd47-4f6e-86c7-7472fafd4f05\",\"type\":\"Column\"},{\"attributes\":{\"callback\":null,\"end\":10000,\"start\":-100},\"id\":\"ec767d12-d77f-4fa5-b46b-0ae9c25ddfa4\",\"type\":\"Range1d\"},{\"attributes\":{\"active_drag\":\"auto\",\"active_inspect\":\"auto\",\"active_scroll\":\"auto\",\"active_tap\":\"auto\",\"tools\":[{\"id\":\"d572a65b-34a7-4490-b0c1-04527bf48ef7\",\"type\":\"HoverTool\"},{\"id\":\"e87c25cf-be8c-47c9-89b6-d69e1e9fddd4\",\"type\":\"PanTool\"},{\"id\":\"aeac5e4c-8614-4faa-9d48-bd5b83e17a98\",\"type\":\"WheelZoomTool\"},{\"id\":\"df880ecf-a4cc-48fa-ae4f-e416bc904690\",\"type\":\"SaveTool\"}]},\"id\":\"5c74d17f-ce98-44a5-9d31-c2f4cb97d5c5\",\"type\":\"Toolbar\"},{\"attributes\":{},\"id\":\"9513e776-3a75-40a4-af91-57ce2f5c4ca3\",\"type\":\"LinearScale\"},{\"attributes\":{},\"id\":\"e61f3438-6ebd-4911-af44-ab74a98339d5\",\"type\":\"LinearScale\"},{\"attributes\":{\"plot\":{\"id\":\"2f4a3974-e4e1-46e7-8366-1e3569f9ff97\",\"subtype\":\"Figure\",\"type\":\"Plot\"},\"ticker\":{\"id\":\"c284a3ed-186f-4779-b4e4-b4e0adb47d03\",\"type\":\"MercatorTicker\"}},\"id\":\"42be7be0-9209-4940-b4dc-7321ce851f20\",\"type\":\"Grid\"},{\"attributes\":{\"formatter\":{\"id\":\"77173707-ee57-4fe2-a62e-40b9ce08ba77\",\"type\":\"MercatorTickFormatter\"},\"plot\":{\"id\":\"2f4a3974-e4e1-46e7-8366-1e3569f9ff97\",\"subtype\":\"Figure\",\"type\":\"Plot\"},\"ticker\":{\"id\":\"c284a3ed-186f-4779-b4e4-b4e0adb47d03\",\"type\":\"MercatorTicker\"}},\"id\":\"a5d122f9-4557-42e7-9ca7-1b0f2fa39d17\",\"type\":\"MercatorAxis\"},{\"attributes\":{\"dimension\":\"lon\"},\"id\":\"c284a3ed-186f-4779-b4e4-b4e0adb47d03\",\"type\":\"MercatorTicker\"},{\"attributes\":{\"dimension\":\"lon\"},\"id\":\"77173707-ee57-4fe2-a62e-40b9ce08ba77\",\"type\":\"MercatorTickFormatter\"},{\"attributes\":{\"dimension\":1,\"plot\":{\"id\":\"2f4a3974-e4e1-46e7-8366-1e3569f9ff97\",\"subtype\":\"Figure\",\"type\":\"Plot\"},\"ticker\":{\"id\":\"11a0a242-f9a9-49f0-8f6c-ae5649d48df9\",\"type\":\"MercatorTicker\"}},\"id\":\"7f983481-ccd4-4704-8e3c-e1fdc0dadbbb\",\"type\":\"Grid\"},{\"attributes\":{\"formatter\":{\"id\":\"f61df27b-7ba7-4211-9718-6f94296783a4\",\"type\":\"MercatorTickFormatter\"},\"plot\":{\"id\":\"2f4a3974-e4e1-46e7-8366-1e3569f9ff97\",\"subtype\":\"Figure\",\"type\":\"Plot\"},\"ticker\":{\"id\":\"11a0a242-f9a9-49f0-8f6c-ae5649d48df9\",\"type\":\"MercatorTicker\"}},\"id\":\"a598c736-e637-4981-ae7b-c7689a7bccbb\",\"type\":\"MercatorAxis\"},{\"attributes\":{\"dimension\":\"lat\"},\"id\":\"11a0a242-f9a9-49f0-8f6c-ae5649d48df9\",\"type\":\"MercatorTicker\"},{\"attributes\":{\"dimension\":\"lat\"},\"id\":\"f61df27b-7ba7-4211-9718-6f94296783a4\",\"type\":\"MercatorTickFormatter\"}],\"root_ids\":[\"a5574c1d-bd47-4f6e-86c7-7472fafd4f05\"]},\"title\":\"Bokeh Application\",\"version\":\"0.12.16\"}};\n",
       "  var render_items = [{\"docid\":\"e8ac5828-d85a-4859-bf73-fe626b7704be\",\"elementid\":\"715a9940-c8f2-47c4-81d1-d751c4dee022\",\"modelid\":\"a5574c1d-bd47-4f6e-86c7-7472fafd4f05\"}];\n",
       "  root.Bokeh.embed.embed_items_notebook(docs_json, render_items);\n",
       "\n",
       "  }\n",
       "  if (root.Bokeh !== undefined) {\n",
       "    embed_document(root);\n",
       "  } else {\n",
       "    var attempts = 0;\n",
       "    var timer = setInterval(function(root) {\n",
       "      if (root.Bokeh !== undefined) {\n",
       "        embed_document(root);\n",
       "        clearInterval(timer);\n",
       "      }\n",
       "      attempts++;\n",
       "      if (attempts > 100) {\n",
       "        console.log(\"Bokeh: ERROR: Unable to run BokehJS code because BokehJS library is missing\")\n",
       "        clearInterval(timer);\n",
       "      }\n",
       "    }, 10, root)\n",
       "  }\n",
       "})(window);"
      ],
      "application/vnd.bokehjs_exec.v0+json": ""
     },
     "metadata": {
      "application/vnd.bokehjs_exec.v0+json": {
       "id": "a5574c1d-bd47-4f6e-86c7-7472fafd4f05"
      }
     },
     "output_type": "display_data"
    }
   ],
   "source": [
    "from bokeh.plotting import figure, show, output_file, output_notebook\n",
    "from bokeh.tile_providers import CARTODBPOSITRON\n",
    "from bokeh.models import ColumnDataSource, HoverTool\n",
    "from bokeh.layouts import gridplot, widgetbox\n",
    "from bokeh.models.widgets import DataTable, TableColumn\n",
    "\n",
    "def plot_map(df, title):\n",
    "    source = ColumnDataSource(data=dict(\n",
    "                            x=list(df['x']), \n",
    "                            y=list(df['y']),\n",
    "                            count=list(df['Count']),\n",
    "                            area=list(df['Area'])))\n",
    "\n",
    "    hover = HoverTool(tooltips=[\n",
    "        (\"Area\", \"@area\"),\n",
    "        (\"Count\",\"@count\")])\n",
    "\n",
    "    p = figure(\n",
    "        title = title,\n",
    "        width = 600, \n",
    "        height= 400, \n",
    "        x_range=(-20000000, 10000000), y_range=(-100, 10000),\n",
    "        x_axis_type=\"mercator\", y_axis_type=\"mercator\",\n",
    "        tools=['pan', hover, 'wheel_zoom','save'])\n",
    "\n",
    "    p.add_tile(CARTODBPOSITRON)\n",
    "\n",
    "    p.circle(x = 'x',\n",
    "             y = 'y', \n",
    "             size = 10,\n",
    "             source=source, \n",
    "             line_color=\"#FF0000\", \n",
    "             fill_color=\"#FF0000\",\n",
    "             fill_alpha=0.05)\n",
    "    \n",
    "    columns = [\n",
    "        TableColumn(field=\"area\", title=\"Area\"),\n",
    "        TableColumn(field=\"count\", title=\"Count\")\n",
    "    ]\n",
    "    \n",
    "    data_table = DataTable(source=source, columns=columns, height=350, width=200)\n",
    "    grid = gridplot([p, data_table], ncols=2)\n",
    "    \n",
    "    output_notebook()\n",
    "    show(grid)\n",
    "\n",
    "output_file(\"proj_jekyll/assets/jurisdictions_map.html\", title=\"jurisdictions\")\n",
    "plot_map(jurisdiction_df, \"Top jurisdictions by count\")"
   ]
  },
  {
   "cell_type": "markdown",
   "metadata": {},
   "source": [
    "## 2) What countries have the most entities register in the Panama papers?"
   ]
  },
  {
   "cell_type": "markdown",
   "metadata": {},
   "source": [
    "The same procedure is applied to the `country` column representing the country of origin of the offshore company. As more country are included a bigger threshold needs to be chosen in order to make the plots still readable. Same as before, the count of companies for country will be represent on an interactive map."
   ]
  },
  {
   "cell_type": "code",
   "execution_count": 17,
   "metadata": {
    "scrolled": true
   },
   "outputs": [
    {
     "data": {
      "text/plain": [
       "array(['Hong Kong', 'Taiwan', 'China', 'Switzerland', 'Singapore',\n",
       "       'Brazil', 'Panama', 'Samoa', 'Liechtenstein', 'Spain', 'Thailand',\n",
       "       'Colombia', 'Jersey', 'Andorra', 'Seychelles', 'Ireland',\n",
       "       'Belgium', 'Israel', 'Gibraltar', 'Guernsey',\n",
       "       'United Arab Emirates', 'Cyprus', 'Venezuela', 'Isle of Man',\n",
       "       'Lebanon', 'Denmark', 'Uruguay', 'Jordan', 'Bahamas',\n",
       "       'United Kingdom', nan, 'Belize', 'Luxembourg', 'Ecuador',\n",
       "       'Guatemala', 'Germany', 'Mauritius', 'Turkey', 'United States',\n",
       "       'Monaco', 'Estonia', 'Niue', 'Czech Republic', 'Netherlands',\n",
       "       'Hungary', 'Costa Rica', 'Portugal', 'Cayman Islands',\n",
       "       'South Africa', 'Malta', 'New Zealand', \"Côte d'Ivoire\",\n",
       "       'Dominican Republic', 'France', 'Italy', 'Canada', 'Russia',\n",
       "       'Greece', 'Saudi Arabia', 'Qatar', 'Mexico', 'Peru', 'Bermuda',\n",
       "       'El Salvador', 'Australia', 'Saint Kitts and Nevis', 'Argentina',\n",
       "       'Japan', 'Austria', 'American Samoa', 'Paraguay', 'Chile', 'Egypt',\n",
       "       'Sweden', 'British Virgin Islands', 'Poland', 'Slovenia',\n",
       "       'Philippines', 'Saint Lucia', 'Indonesia', 'Honduras',\n",
       "       'South Korea', 'Saint Vincent and the Grenadines', 'Kuwait',\n",
       "       'Haiti', 'Zimbabwe', 'Sudan', 'Nicaragua',\n",
       "       'Turks and Caicos Islands', 'Latvia', 'Nigeria', 'Ukraine',\n",
       "       'Anguilla', 'Kenya', 'Romania', 'Norway', 'Bolivia', 'Lithuania',\n",
       "       'Viet Nam', 'Aruba', 'Bulgaria', 'Malaysia', 'Finland', 'Iran',\n",
       "       'Lesotho', 'Mozambique', 'Macao', 'Ghana', 'Georgia', 'Yemen',\n",
       "       'Antigua and Barbuda', 'Curaçao', 'India', 'Macedonia', 'Morocco',\n",
       "       'Senegal', 'Dominica', 'Namibia', 'Botswana', 'Cuba', 'Liberia',\n",
       "       'Cook Islands', 'Syria', 'Sint Maarten (Dutch part)', 'Belarus',\n",
       "       'Djibouti', 'Barbados', 'Tunisia', 'Bahrain', 'Croatia', 'Nauru',\n",
       "       'Azerbaijan', 'Pakistan', 'Libya', 'Uganda', 'Uzbekistan',\n",
       "       'Trinidad and Tobago', 'Iceland', 'Sri Lanka',\n",
       "       'U.S. Virgin Islands', 'Tanzania', 'Puerto Rico', 'Malawi', 'Chad',\n",
       "       'Guam', 'Oman', 'Jamaica', 'Mali', 'Montenegro', 'Kazakhstan',\n",
       "       'Vanuatu', 'Moldova', 'Angola', 'Bangladesh',\n",
       "       'Central African Republic', 'Brunei', 'Albania', 'Cameroon',\n",
       "       'Zambia', 'Slovakia'], dtype=object)"
      ]
     },
     "execution_count": 17,
     "metadata": {},
     "output_type": "execute_result"
    }
   ],
   "source": [
    "df_entity_raw['countries'].unique()"
   ]
  },
  {
   "cell_type": "code",
   "execution_count": 18,
   "metadata": {
    "scrolled": false
   },
   "outputs": [
    {
     "data": {
      "text/plain": [
       "Switzerland             37911\n",
       "Hong Kong               37911\n",
       "Others                  36495\n",
       "Panama                  15811\n",
       "Jersey                  14331\n",
       "Luxembourg              10840\n",
       "United Kingdom           9619\n",
       "Guernsey                 7327\n",
       "United Arab Emirates     7269\n",
       "Bahamas                  4984\n",
       "Uruguay                  4906\n",
       "Isle of Man              4892\n",
       "Russia                   4197\n",
       "Singapore                4081\n",
       "Cyprus                   3613\n",
       "China                    3213\n",
       "Monaco                   3168\n",
       "United States            3066\n",
       "Name: countries, dtype: int64"
      ]
     },
     "execution_count": 18,
     "metadata": {},
     "output_type": "execute_result"
    }
   ],
   "source": [
    "threshold2=3000\n",
    "vc=df_entity_S1.countries.value_counts()\n",
    "tax_evasions_L=list(vc[vc > threshold2].index)\n",
    "tax_evasions_S=list(vc[vc <= threshold2].index)\n",
    "df_entity_S1.loc[~df_entity_S1.countries.isin(tax_evasions_L), 'countries'] = 'Others'\n",
    "df_entity_S1.countries.value_counts()"
   ]
  },
  {
   "cell_type": "code",
   "execution_count": 19,
   "metadata": {},
   "outputs": [
    {
     "data": {
      "text/plain": [
       "<matplotlib.axes._subplots.AxesSubplot at 0x1a0e74f940>"
      ]
     },
     "execution_count": 19,
     "metadata": {},
     "output_type": "execute_result"
    },
    {
     "data": {
      "image/png": "[encoded data removed]",
      "text/plain": [
       "<Figure size 720x504 with 1 Axes>"
      ]
     },
     "metadata": {},
     "output_type": "display_data"
    }
   ],
   "source": [
    "df_entity_S1.countries.value_counts().plot(kind='bar',title='Countries', figsize=(10, 7), logy=True)"
   ]
  },
  {
   "cell_type": "markdown",
   "metadata": {},
   "source": [
    "The value of the `Others` column is very high indicating a quite heavy tail distribution. As before, plotting the bar chart with a logarithm $y-axis$, seems that the distribution has a exponential behaviour at least his first part. "
   ]
  },
  {
   "cell_type": "markdown",
   "metadata": {},
   "source": [
    "An interesting fact can be notice from the distribution of the countries. The majority of the entities present in the papers come from a country with already favourable business condition like Honk Kong, Switzerland and Luxembourg or even from a place considered a fiscal paradise (Panama, Jersey). This fact can be explained with a tendency, amplified by globalization, of big companies of starting their international business already from a convenient economy. Later queries will need to take into account these facts, maybe weighting output by indicator of the economic situation of the county of origin. \n",
    "More analysis on this aspect will be performed, but generally business friendly business conditions correspond with very low tax rates. In other words the  countries with highest number of entities offshore are coming from tax haven countries.\n",
    "\n",
    "Lastly a world map is plotted again following the same Mercator Projection techinque used above.\n"
   ]
  },
  {
   "cell_type": "code",
   "execution_count": 20,
   "metadata": {},
   "outputs": [
    {
     "data": {
      "text/html": [
       "\n",
       "    <div class=\"bk-root\">\n",
       "        <a href=\"https://bokeh.pydata.org\" target=\"_blank\" class=\"bk-logo bk-logo-small bk-logo-notebook\"></a>\n",
       "        <span id=\"3ea24a6c-89ce-4326-a8fc-3e8bda7b0e96\">Loading BokehJS ...</span>\n",
       "    </div>"
      ]
     },
     "metadata": {},
     "output_type": "display_data"
    },
    {
     "data": {
      "application/javascript": [
       "\n",
       "(function(root) {\n",
       "  function now() {\n",
       "    return new Date();\n",
       "  }\n",
       "\n",
       "  var force = true;\n",
       "\n",
       "  if (typeof (root._bokeh_onload_callbacks) === \"undefined\" || force === true) {\n",
       "    root._bokeh_onload_callbacks = [];\n",
       "    root._bokeh_is_loading = undefined;\n",
       "  }\n",
       "\n",
       "  var JS_MIME_TYPE = 'application/javascript';\n",
       "  var HTML_MIME_TYPE = 'text/html';\n",
       "  var EXEC_MIME_TYPE = 'application/vnd.bokehjs_exec.v0+json';\n",
       "  var CLASS_NAME = 'output_bokeh rendered_html';\n",
       "\n",
       "  /**\n",
       "   * Render data to the DOM node\n",
       "   */\n",
       "  function render(props, node) {\n",
       "    var script = document.createElement(\"script\");\n",
       "    node.appendChild(script);\n",
       "  }\n",
       "\n",
       "  /**\n",
       "   * Handle when an output is cleared or removed\n",
       "   */\n",
       "  function handleClearOutput(event, handle) {\n",
       "    var cell = handle.cell;\n",
       "\n",
       "    var id = cell.output_area._bokeh_element_id;\n",
       "    var server_id = cell.output_area._bokeh_server_id;\n",
       "    // Clean up Bokeh references\n",
       "    if (id !== undefined) {\n",
       "      Bokeh.index[id].model.document.clear();\n",
       "      delete Bokeh.index[id];\n",
       "    }\n",
       "\n",
       "    if (server_id !== undefined) {\n",
       "      // Clean up Bokeh references\n",
       "      var cmd = \"from bokeh.io.state import curstate; print(curstate().uuid_to_server['\" + server_id + \"'].get_sessions()[0].document.roots[0]._id)\";\n",
       "      cell.notebook.kernel.execute(cmd, {\n",
       "        iopub: {\n",
       "          output: function(msg) {\n",
       "            var element_id = msg.content.text.trim();\n",
       "            Bokeh.index[element_id].model.document.clear();\n",
       "            delete Bokeh.index[element_id];\n",
       "          }\n",
       "        }\n",
       "      });\n",
       "      // Destroy server and session\n",
       "      var cmd = \"import bokeh.io.notebook as ion; ion.destroy_server('\" + server_id + \"')\";\n",
       "      cell.notebook.kernel.execute(cmd);\n",
       "    }\n",
       "  }\n",
       "\n",
       "  /**\n",
       "   * Handle when a new output is added\n",
       "   */\n",
       "  function handleAddOutput(event, handle) {\n",
       "    var output_area = handle.output_area;\n",
       "    var output = handle.output;\n",
       "\n",
       "    // limit handleAddOutput to display_data with EXEC_MIME_TYPE content only\n",
       "    if ((output.output_type != \"display_data\") || (!output.data.hasOwnProperty(EXEC_MIME_TYPE))) {\n",
       "      return\n",
       "    }\n",
       "\n",
       "    var toinsert = output_area.element.find(\".\" + CLASS_NAME.split(' ')[0]);\n",
       "\n",
       "    if (output.metadata[EXEC_MIME_TYPE][\"id\"] !== undefined) {\n",
       "      toinsert[toinsert.length - 1].firstChild.textContent = output.data[JS_MIME_TYPE];\n",
       "      // store reference to embed id on output_area\n",
       "      output_area._bokeh_element_id = output.metadata[EXEC_MIME_TYPE][\"id\"];\n",
       "    }\n",
       "    if (output.metadata[EXEC_MIME_TYPE][\"server_id\"] !== undefined) {\n",
       "      var bk_div = document.createElement(\"div\");\n",
       "      bk_div.innerHTML = output.data[HTML_MIME_TYPE];\n",
       "      var script_attrs = bk_div.children[0].attributes;\n",
       "      for (var i = 0; i < script_attrs.length; i++) {\n",
       "        toinsert[toinsert.length - 1].firstChild.setAttribute(script_attrs[i].name, script_attrs[i].value);\n",
       "      }\n",
       "      // store reference to server id on output_area\n",
       "      output_area._bokeh_server_id = output.metadata[EXEC_MIME_TYPE][\"server_id\"];\n",
       "    }\n",
       "  }\n",
       "\n",
       "  function register_renderer(events, OutputArea) {\n",
       "\n",
       "    function append_mime(data, metadata, element) {\n",
       "      // create a DOM node to render to\n",
       "      var toinsert = this.create_output_subarea(\n",
       "        metadata,\n",
       "        CLASS_NAME,\n",
       "        EXEC_MIME_TYPE\n",
       "      );\n",
       "      this.keyboard_manager.register_events(toinsert);\n",
       "      // Render to node\n",
       "      var props = {data: data, metadata: metadata[EXEC_MIME_TYPE]};\n",
       "      render(props, toinsert[toinsert.length - 1]);\n",
       "      element.append(toinsert);\n",
       "      return toinsert\n",
       "    }\n",
       "\n",
       "    /* Handle when an output is cleared or removed */\n",
       "    events.on('clear_output.CodeCell', handleClearOutput);\n",
       "    events.on('delete.Cell', handleClearOutput);\n",
       "\n",
       "    /* Handle when a new output is added */\n",
       "    events.on('output_added.OutputArea', handleAddOutput);\n",
       "\n",
       "    /**\n",
       "     * Register the mime type and append_mime function with output_area\n",
       "     */\n",
       "    OutputArea.prototype.register_mime_type(EXEC_MIME_TYPE, append_mime, {\n",
       "      /* Is output safe? */\n",
       "      safe: true,\n",
       "      /* Index of renderer in `output_area.display_order` */\n",
       "      index: 0\n",
       "    });\n",
       "  }\n",
       "\n",
       "  // register the mime type if in Jupyter Notebook environment and previously unregistered\n",
       "  if (root.Jupyter !== undefined) {\n",
       "    var events = require('base/js/events');\n",
       "    var OutputArea = require('notebook/js/outputarea').OutputArea;\n",
       "\n",
       "    if (OutputArea.prototype.mime_types().indexOf(EXEC_MIME_TYPE) == -1) {\n",
       "      register_renderer(events, OutputArea);\n",
       "    }\n",
       "  }\n",
       "\n",
       "  \n",
       "  if (typeof (root._bokeh_timeout) === \"undefined\" || force === true) {\n",
       "    root._bokeh_timeout = Date.now() + 5000;\n",
       "    root._bokeh_failed_load = false;\n",
       "  }\n",
       "\n",
       "  var NB_LOAD_WARNING = {'data': {'text/html':\n",
       "     \"<div style='background-color: #fdd'>\\n\"+\n",
       "     \"<p>\\n\"+\n",
       "     \"BokehJS does not appear to have successfully loaded. If loading BokehJS from CDN, this \\n\"+\n",
       "     \"may be due to a slow or bad network connection. Possible fixes:\\n\"+\n",
       "     \"</p>\\n\"+\n",
       "     \"<ul>\\n\"+\n",
       "     \"<li>re-rerun `output_notebook()` to attempt to load from CDN again, or</li>\\n\"+\n",
       "     \"<li>use INLINE resources instead, as so:</li>\\n\"+\n",
       "     \"</ul>\\n\"+\n",
       "     \"<code>\\n\"+\n",
       "     \"from bokeh.resources import INLINE\\n\"+\n",
       "     \"output_notebook(resources=INLINE)\\n\"+\n",
       "     \"</code>\\n\"+\n",
       "     \"</div>\"}};\n",
       "\n",
       "  function display_loaded() {\n",
       "    var el = document.getElementById(\"3ea24a6c-89ce-4326-a8fc-3e8bda7b0e96\");\n",
       "    if (el != null) {\n",
       "      el.textContent = \"BokehJS is loading...\";\n",
       "    }\n",
       "    if (root.Bokeh !== undefined) {\n",
       "      if (el != null) {\n",
       "        el.textContent = \"BokehJS \" + root.Bokeh.version + \" successfully loaded.\";\n",
       "      }\n",
       "    } else if (Date.now() < root._bokeh_timeout) {\n",
       "      setTimeout(display_loaded, 100)\n",
       "    }\n",
       "  }\n",
       "\n",
       "\n",
       "  function run_callbacks() {\n",
       "    try {\n",
       "      root._bokeh_onload_callbacks.forEach(function(callback) { callback() });\n",
       "    }\n",
       "    finally {\n",
       "      delete root._bokeh_onload_callbacks\n",
       "    }\n",
       "    console.info(\"Bokeh: all callbacks have finished\");\n",
       "  }\n",
       "\n",
       "  function load_libs(js_urls, callback) {\n",
       "    root._bokeh_onload_callbacks.push(callback);\n",
       "    if (root._bokeh_is_loading > 0) {\n",
       "      console.log(\"Bokeh: BokehJS is being loaded, scheduling callback at\", now());\n",
       "      return null;\n",
       "    }\n",
       "    if (js_urls == null || js_urls.length === 0) {\n",
       "      run_callbacks();\n",
       "      return null;\n",
       "    }\n",
       "    console.log(\"Bokeh: BokehJS not loaded, scheduling load and callback at\", now());\n",
       "    root._bokeh_is_loading = js_urls.length;\n",
       "    for (var i = 0; i < js_urls.length; i++) {\n",
       "      var url = js_urls[i];\n",
       "      var s = document.createElement('script');\n",
       "      s.src = url;\n",
       "      s.async = false;\n",
       "      s.onreadystatechange = s.onload = function() {\n",
       "        root._bokeh_is_loading--;\n",
       "        if (root._bokeh_is_loading === 0) {\n",
       "          console.log(\"Bokeh: all BokehJS libraries loaded\");\n",
       "          run_callbacks()\n",
       "        }\n",
       "      };\n",
       "      s.onerror = function() {\n",
       "        console.warn(\"failed to load library \" + url);\n",
       "      };\n",
       "      console.log(\"Bokeh: injecting script tag for BokehJS library: \", url);\n",
       "      document.getElementsByTagName(\"head\")[0].appendChild(s);\n",
       "    }\n",
       "  };var element = document.getElementById(\"3ea24a6c-89ce-4326-a8fc-3e8bda7b0e96\");\n",
       "  if (element == null) {\n",
       "    console.log(\"Bokeh: ERROR: autoload.js configured with elementid '3ea24a6c-89ce-4326-a8fc-3e8bda7b0e96' but no matching script tag was found. \")\n",
       "    return false;\n",
       "  }\n",
       "\n",
       "  var js_urls = [\"https://cdn.pydata.org/bokeh/release/bokeh-0.12.16.min.js\", \"https://cdn.pydata.org/bokeh/release/bokeh-widgets-0.12.16.min.js\", \"https://cdn.pydata.org/bokeh/release/bokeh-tables-0.12.16.min.js\", \"https://cdn.pydata.org/bokeh/release/bokeh-gl-0.12.16.min.js\"];\n",
       "\n",
       "  var inline_js = [\n",
       "    function(Bokeh) {\n",
       "      Bokeh.set_log_level(\"info\");\n",
       "    },\n",
       "    \n",
       "    function(Bokeh) {\n",
       "      \n",
       "    },\n",
       "    function(Bokeh) {\n",
       "      console.log(\"Bokeh: injecting CSS: https://cdn.pydata.org/bokeh/release/bokeh-0.12.16.min.css\");\n",
       "      Bokeh.embed.inject_css(\"https://cdn.pydata.org/bokeh/release/bokeh-0.12.16.min.css\");\n",
       "      console.log(\"Bokeh: injecting CSS: https://cdn.pydata.org/bokeh/release/bokeh-widgets-0.12.16.min.css\");\n",
       "      Bokeh.embed.inject_css(\"https://cdn.pydata.org/bokeh/release/bokeh-widgets-0.12.16.min.css\");\n",
       "      console.log(\"Bokeh: injecting CSS: https://cdn.pydata.org/bokeh/release/bokeh-tables-0.12.16.min.css\");\n",
       "      Bokeh.embed.inject_css(\"https://cdn.pydata.org/bokeh/release/bokeh-tables-0.12.16.min.css\");\n",
       "    }\n",
       "  ];\n",
       "\n",
       "  function run_inline_js() {\n",
       "    \n",
       "    if ((root.Bokeh !== undefined) || (force === true)) {\n",
       "      for (var i = 0; i < inline_js.length; i++) {\n",
       "        inline_js[i].call(root, root.Bokeh);\n",
       "      }if (force === true) {\n",
       "        display_loaded();\n",
       "      }} else if (Date.now() < root._bokeh_timeout) {\n",
       "      setTimeout(run_inline_js, 100);\n",
       "    } else if (!root._bokeh_failed_load) {\n",
       "      console.log(\"Bokeh: BokehJS failed to load within specified timeout.\");\n",
       "      root._bokeh_failed_load = true;\n",
       "    } else if (force !== true) {\n",
       "      var cell = $(document.getElementById(\"3ea24a6c-89ce-4326-a8fc-3e8bda7b0e96\")).parents('.cell').data().cell;\n",
       "      cell.output_area.append_execute_result(NB_LOAD_WARNING)\n",
       "    }\n",
       "\n",
       "  }\n",
       "\n",
       "  if (root._bokeh_is_loading === 0) {\n",
       "    console.log(\"Bokeh: BokehJS loaded, going straight to plotting\");\n",
       "    run_inline_js();\n",
       "  } else {\n",
       "    load_libs(js_urls, function() {\n",
       "      console.log(\"Bokeh: BokehJS plotting callback run at\", now());\n",
       "      run_inline_js();\n",
       "    });\n",
       "  }\n",
       "}(window));"
      ],
      "application/vnd.bokehjs_load.v0+json": "\n(function(root) {\n  function now() {\n    return new Date();\n  }\n\n  var force = true;\n\n  if (typeof (root._bokeh_onload_callbacks) === \"undefined\" || force === true) {\n    root._bokeh_onload_callbacks = [];\n    root._bokeh_is_loading = undefined;\n  }\n\n  \n\n  \n  if (typeof (root._bokeh_timeout) === \"undefined\" || force === true) {\n    root._bokeh_timeout = Date.now() + 5000;\n    root._bokeh_failed_load = false;\n  }\n\n  var NB_LOAD_WARNING = {'data': {'text/html':\n     \"<div style='background-color: #fdd'>\\n\"+\n     \"<p>\\n\"+\n     \"BokehJS does not appear to have successfully loaded. If loading BokehJS from CDN, this \\n\"+\n     \"may be due to a slow or bad network connection. Possible fixes:\\n\"+\n     \"</p>\\n\"+\n     \"<ul>\\n\"+\n     \"<li>re-rerun `output_notebook()` to attempt to load from CDN again, or</li>\\n\"+\n     \"<li>use INLINE resources instead, as so:</li>\\n\"+\n     \"</ul>\\n\"+\n     \"<code>\\n\"+\n     \"from bokeh.resources import INLINE\\n\"+\n     \"output_notebook(resources=INLINE)\\n\"+\n     \"</code>\\n\"+\n     \"</div>\"}};\n\n  function display_loaded() {\n    var el = document.getElementById(\"3ea24a6c-89ce-4326-a8fc-3e8bda7b0e96\");\n    if (el != null) {\n      el.textContent = \"BokehJS is loading...\";\n    }\n    if (root.Bokeh !== undefined) {\n      if (el != null) {\n        el.textContent = \"BokehJS \" + root.Bokeh.version + \" successfully loaded.\";\n      }\n    } else if (Date.now() < root._bokeh_timeout) {\n      setTimeout(display_loaded, 100)\n    }\n  }\n\n\n  function run_callbacks() {\n    try {\n      root._bokeh_onload_callbacks.forEach(function(callback) { callback() });\n    }\n    finally {\n      delete root._bokeh_onload_callbacks\n    }\n    console.info(\"Bokeh: all callbacks have finished\");\n  }\n\n  function load_libs(js_urls, callback) {\n    root._bokeh_onload_callbacks.push(callback);\n    if (root._bokeh_is_loading > 0) {\n      console.log(\"Bokeh: BokehJS is being loaded, scheduling callback at\", now());\n      return null;\n    }\n    if (js_urls == null || js_urls.length === 0) {\n      run_callbacks();\n      return null;\n    }\n    console.log(\"Bokeh: BokehJS not loaded, scheduling load and callback at\", now());\n    root._bokeh_is_loading = js_urls.length;\n    for (var i = 0; i < js_urls.length; i++) {\n      var url = js_urls[i];\n      var s = document.createElement('script');\n      s.src = url;\n      s.async = false;\n      s.onreadystatechange = s.onload = function() {\n        root._bokeh_is_loading--;\n        if (root._bokeh_is_loading === 0) {\n          console.log(\"Bokeh: all BokehJS libraries loaded\");\n          run_callbacks()\n        }\n      };\n      s.onerror = function() {\n        console.warn(\"failed to load library \" + url);\n      };\n      console.log(\"Bokeh: injecting script tag for BokehJS library: \", url);\n      document.getElementsByTagName(\"head\")[0].appendChild(s);\n    }\n  };var element = document.getElementById(\"3ea24a6c-89ce-4326-a8fc-3e8bda7b0e96\");\n  if (element == null) {\n    console.log(\"Bokeh: ERROR: autoload.js configured with elementid '3ea24a6c-89ce-4326-a8fc-3e8bda7b0e96' but no matching script tag was found. \")\n    return false;\n  }\n\n  var js_urls = [\"https://cdn.pydata.org/bokeh/release/bokeh-0.12.16.min.js\", \"https://cdn.pydata.org/bokeh/release/bokeh-widgets-0.12.16.min.js\", \"https://cdn.pydata.org/bokeh/release/bokeh-tables-0.12.16.min.js\", \"https://cdn.pydata.org/bokeh/release/bokeh-gl-0.12.16.min.js\"];\n\n  var inline_js = [\n    function(Bokeh) {\n      Bokeh.set_log_level(\"info\");\n    },\n    \n    function(Bokeh) {\n      \n    },\n    function(Bokeh) {\n      console.log(\"Bokeh: injecting CSS: https://cdn.pydata.org/bokeh/release/bokeh-0.12.16.min.css\");\n      Bokeh.embed.inject_css(\"https://cdn.pydata.org/bokeh/release/bokeh-0.12.16.min.css\");\n      console.log(\"Bokeh: injecting CSS: https://cdn.pydata.org/bokeh/release/bokeh-widgets-0.12.16.min.css\");\n      Bokeh.embed.inject_css(\"https://cdn.pydata.org/bokeh/release/bokeh-widgets-0.12.16.min.css\");\n      console.log(\"Bokeh: injecting CSS: https://cdn.pydata.org/bokeh/release/bokeh-tables-0.12.16.min.css\");\n      Bokeh.embed.inject_css(\"https://cdn.pydata.org/bokeh/release/bokeh-tables-0.12.16.min.css\");\n    }\n  ];\n\n  function run_inline_js() {\n    \n    if ((root.Bokeh !== undefined) || (force === true)) {\n      for (var i = 0; i < inline_js.length; i++) {\n        inline_js[i].call(root, root.Bokeh);\n      }if (force === true) {\n        display_loaded();\n      }} else if (Date.now() < root._bokeh_timeout) {\n      setTimeout(run_inline_js, 100);\n    } else if (!root._bokeh_failed_load) {\n      console.log(\"Bokeh: BokehJS failed to load within specified timeout.\");\n      root._bokeh_failed_load = true;\n    } else if (force !== true) {\n      var cell = $(document.getElementById(\"3ea24a6c-89ce-4326-a8fc-3e8bda7b0e96\")).parents('.cell').data().cell;\n      cell.output_area.append_execute_result(NB_LOAD_WARNING)\n    }\n\n  }\n\n  if (root._bokeh_is_loading === 0) {\n    console.log(\"Bokeh: BokehJS loaded, going straight to plotting\");\n    run_inline_js();\n  } else {\n    load_libs(js_urls, function() {\n      console.log(\"Bokeh: BokehJS plotting callback run at\", now());\n      run_inline_js();\n    });\n  }\n}(window));"
     },
     "metadata": {},
     "output_type": "display_data"
    },
    {
     "data": {
      "text/html": [
       "\n",
       "<div class=\"bk-root\">\n",
       "    <div class=\"bk-plotdiv\" id=\"8b3bfbe1-8528-4d5f-9f2f-04bd216ce741\"></div>\n",
       "</div>"
      ]
     },
     "metadata": {},
     "output_type": "display_data"
    },
    {
     "data": {
      "application/javascript": [
       "(function(root) {\n",
       "  function embed_document(root) {\n",
       "    \n",
       "  var docs_json = {\"b4dbffb4-bdac-4370-9dd3-94fbb0846331\":{\"roots\":{\"references\":[{\"attributes\":{\"callback\":null,\"end\":10000000,\"start\":-20000000},\"id\":\"d30a192a-3cec-4f54-9b0e-ac0d02f28e6e\",\"type\":\"Range1d\"},{\"attributes\":{\"attribution\":\"&copy; <a href=\\\"https://www.openstreetmap.org/copyright\\\">OpenStreetMap</a> contributors,&copy; <a href=\\\"https://cartodb.com/attributions\\\">CartoDB</a>\",\"url\":\"https://tiles.basemaps.cartocdn.com/light_all/{z}/{x}/{y}.png\"},\"id\":\"541b02bf-d5f2-49a3-868c-316f631380de\",\"type\":\"WMTSTileSource\"},{\"attributes\":{\"editor\":{\"id\":\"7322536c-6302-41b7-b5f1-5245c2baa902\",\"type\":\"StringEditor\"},\"field\":\"area\",\"formatter\":{\"id\":\"4a4b7193-7c0c-425b-b38f-62cdcaf6fc49\",\"type\":\"StringFormatter\"},\"title\":\"Area\"},\"id\":\"d8f5ccfb-d18e-4a8c-b94a-f169ed4d416d\",\"type\":\"TableColumn\"},{\"attributes\":{\"children\":[{\"id\":\"9c10e13f-6a7d-4f8a-880b-26250c1a5273\",\"type\":\"DataTable\"}],\"height\":350,\"width\":200},\"id\":\"8f1684a1-b77e-4ac9-b498-3881ee7a3a37\",\"type\":\"WidgetBox\"},{\"attributes\":{},\"id\":\"028f503e-6021-4636-85ac-4c7f084a9d7b\",\"type\":\"UnionRenderers\"},{\"attributes\":{\"dimension\":\"lat\"},\"id\":\"b58dbfca-de1f-48c9-9e6b-9c8d6b79bcff\",\"type\":\"MercatorTicker\"},{\"attributes\":{\"plot\":null,\"text\":\"Top countries that have offshore entities\"},\"id\":\"19514c4a-576b-40da-a689-91cc07d75642\",\"type\":\"Title\"},{\"attributes\":{},\"id\":\"22a3e8f8-bb5e-4c4d-bc7b-b551228f3da6\",\"type\":\"WheelZoomTool\"},{\"attributes\":{},\"id\":\"7322536c-6302-41b7-b5f1-5245c2baa902\",\"type\":\"StringEditor\"},{\"attributes\":{\"callback\":null,\"data\":{\"area\":[\"Hong Kong\",\"Switzerland\",\"Panama\",\"Jersey\",\"Luxembourg\",\"United Kingdom\",\"Guernsey\",\"United Arab Emirates\",\"Bahamas\",\"Uruguay\",\"Isle of Man\",\"Russia\",\"Singapore\",\"Cyprus\",\"China\",\"Monaco\",\"United States\",\"Taiwan\",\"Liechtenstein\",\"Gibraltar\",\"Colombia\",\"Ecuador\",\"Samoa\",\"Jordan\",\"Brazil\",\"Latvia\",\"Belize\",\"Guatemala\",\"Mauritius\",\"Spain\",\"British Virgin Islands\"],\"count\":[37911,37911,15811,14331,10840,9619,7327,7269,4984,4906,4892,4197,4081,3613,3213,3168,3066,2725,2066,2039,1854,1852,1613,1553,1399,1380,1351,1233,1217,1166,1107],\"x\":[12708546.221819662,916379.109375671,-9051012.04859185,-236620.70513764827,682352.3108602084,-364746.6939418176,-287338.1201411251,6011194.939528083,-8682926.371051485,-6236134.850461531,-502562.83350708074,10880957.702484656,11560755.754232766,3689698.8268976193,11688538.406970896,825963.6378415215,-11181584.492180988,13451331.09436194,1063452.0940343866,-596018.9695812444,-8213585.286185891,-8835060.240324289,-19160316.41036838,4112323.2180345375,-5922196.910202154,2755576.459356612,-9880728.32212776,-10007489.607405912,6408702.781499176,-538570.92109281,-7187472.52121889],\"y\":[2545095.077194767,5909256.087563407,928281.1129455578,6310962.4537718855,6414448.3294269405,7304312.167817082,6353669.71198678,2753438.426757345,2847968.6954087946,-3878797.5699098497,7214944.260192893,9526226.028606495,143667.20055241938,4161476.289401565,4163891.200373253,5423929.683316066,4834564.161615891,2704534.7932841694,5965222.525759212,4320013.535248008,321787.7928228923,-149155.75115758216,-1547772.4037354763,3654417.92515385,-1156588.4476574478,7727618.296198064,1900577.3768912465,1762562.3706028375,-2305749.223644028,4768510.183828863,2084707.601405807]},\"selected\":{\"id\":\"c9bda9d6-d223-459b-b2b2-a69d16d78743\",\"type\":\"Selection\"},\"selection_policy\":{\"id\":\"028f503e-6021-4636-85ac-4c7f084a9d7b\",\"type\":\"UnionRenderers\"}},\"id\":\"f74be06c-a8ff-45dd-b135-3cd3578d4f48\",\"type\":\"ColumnDataSource\"},{\"attributes\":{\"source\":{\"id\":\"f74be06c-a8ff-45dd-b135-3cd3578d4f48\",\"type\":\"ColumnDataSource\"}},\"id\":\"066b8d51-5aa7-4193-a1bf-5e52e4e96246\",\"type\":\"CDSView\"},{\"attributes\":{\"dimension\":\"lon\"},\"id\":\"a686f642-bd88-4ed7-8ba0-c52c44f8a877\",\"type\":\"MercatorTickFormatter\"},{\"attributes\":{\"fill_alpha\":{\"value\":0.1},\"fill_color\":{\"value\":\"#1f77b4\"},\"line_alpha\":{\"value\":0.1},\"line_color\":{\"value\":\"#1f77b4\"},\"size\":{\"units\":\"screen\",\"value\":10},\"x\":{\"field\":\"x\"},\"y\":{\"field\":\"y\"}},\"id\":\"dd427835-3355-4fc5-a2b3-2fd14ba8ab5a\",\"type\":\"Circle\"},{\"attributes\":{},\"id\":\"e26b472c-30a5-406c-9f15-dc6b9ebc5b5b\",\"type\":\"LinearScale\"},{\"attributes\":{\"tile_source\":{\"id\":\"541b02bf-d5f2-49a3-868c-316f631380de\",\"type\":\"WMTSTileSource\"}},\"id\":\"ef36d91c-b4f1-4237-b119-62bf902af6ae\",\"type\":\"TileRenderer\"},{\"attributes\":{\"dimension\":\"lat\"},\"id\":\"4e51816f-b9e0-4660-86c8-03647c43739c\",\"type\":\"MercatorTickFormatter\"},{\"attributes\":{\"formatter\":{\"id\":\"4e51816f-b9e0-4660-86c8-03647c43739c\",\"type\":\"MercatorTickFormatter\"},\"plot\":{\"id\":\"ecbd33e6-91db-43ac-ad3e-619474314f18\",\"subtype\":\"Figure\",\"type\":\"Plot\"},\"ticker\":{\"id\":\"b58dbfca-de1f-48c9-9e6b-9c8d6b79bcff\",\"type\":\"MercatorTicker\"}},\"id\":\"c60941e8-a31f-48e5-afdd-5a85c73d7869\",\"type\":\"MercatorAxis\"},{\"attributes\":{\"dimension\":\"lon\"},\"id\":\"a35a396a-8df9-4b49-94c0-669644118b32\",\"type\":\"MercatorTicker\"},{\"attributes\":{},\"id\":\"b90df07f-424b-42e9-81e9-a5e5f91d9bf8\",\"type\":\"LinearScale\"},{\"attributes\":{\"fill_alpha\":{\"value\":0.05},\"fill_color\":{\"value\":\"#FF0000\"},\"line_color\":{\"value\":\"#FF0000\"},\"size\":{\"units\":\"screen\",\"value\":10},\"x\":{\"field\":\"x\"},\"y\":{\"field\":\"y\"}},\"id\":\"b01a024e-66f3-4cdb-9b4c-08067b4d6889\",\"type\":\"Circle\"},{\"attributes\":{\"children\":[{\"id\":\"a0d3b37a-a0ed-4657-a463-f7a80a388b3f\",\"type\":\"ToolbarBox\"},{\"id\":\"4af277a9-e146-4bb2-8136-31cba1eaafc3\",\"type\":\"Column\"}]},\"id\":\"a9dda9ba-8400-4b0b-bba3-6d77832d4d9b\",\"type\":\"Column\"},{\"attributes\":{\"source\":{\"id\":\"f74be06c-a8ff-45dd-b135-3cd3578d4f48\",\"type\":\"ColumnDataSource\"}},\"id\":\"7756f9e1-9cc1-4a7a-8fe2-97faf89fc725\",\"type\":\"CDSView\"},{\"attributes\":{\"callback\":null,\"end\":10000,\"start\":-100},\"id\":\"d5bd36ef-23de-439b-bfd0-0eeaa8628adc\",\"type\":\"Range1d\"},{\"attributes\":{\"plot\":{\"id\":\"ecbd33e6-91db-43ac-ad3e-619474314f18\",\"subtype\":\"Figure\",\"type\":\"Plot\"},\"ticker\":{\"id\":\"a35a396a-8df9-4b49-94c0-669644118b32\",\"type\":\"MercatorTicker\"}},\"id\":\"8cd13666-50a5-4c6a-b638-31ec293d34f3\",\"type\":\"Grid\"},{\"attributes\":{},\"id\":\"4a4b7193-7c0c-425b-b38f-62cdcaf6fc49\",\"type\":\"StringFormatter\"},{\"attributes\":{\"children\":[{\"id\":\"286e602a-03b7-4874-8bb3-b5a701c6f4a9\",\"type\":\"Row\"}]},\"id\":\"4af277a9-e146-4bb2-8136-31cba1eaafc3\",\"type\":\"Column\"},{\"attributes\":{},\"id\":\"c9bda9d6-d223-459b-b2b2-a69d16d78743\",\"type\":\"Selection\"},{\"attributes\":{\"dimension\":1,\"plot\":{\"id\":\"ecbd33e6-91db-43ac-ad3e-619474314f18\",\"subtype\":\"Figure\",\"type\":\"Plot\"},\"ticker\":{\"id\":\"b58dbfca-de1f-48c9-9e6b-9c8d6b79bcff\",\"type\":\"MercatorTicker\"}},\"id\":\"18202ac5-51c6-446d-8b0e-31a357145f52\",\"type\":\"Grid\"},{\"attributes\":{\"below\":[{\"id\":\"a20c2beb-2b85-47ce-bc34-0f78608e2186\",\"type\":\"MercatorAxis\"}],\"left\":[{\"id\":\"c60941e8-a31f-48e5-afdd-5a85c73d7869\",\"type\":\"MercatorAxis\"}],\"plot_height\":400,\"renderers\":[{\"id\":\"a20c2beb-2b85-47ce-bc34-0f78608e2186\",\"type\":\"MercatorAxis\"},{\"id\":\"8cd13666-50a5-4c6a-b638-31ec293d34f3\",\"type\":\"Grid\"},{\"id\":\"c60941e8-a31f-48e5-afdd-5a85c73d7869\",\"type\":\"MercatorAxis\"},{\"id\":\"18202ac5-51c6-446d-8b0e-31a357145f52\",\"type\":\"Grid\"},{\"id\":\"ef36d91c-b4f1-4237-b119-62bf902af6ae\",\"type\":\"TileRenderer\"},{\"id\":\"7951fd57-b958-4fd6-8729-131414177be4\",\"type\":\"GlyphRenderer\"}],\"title\":{\"id\":\"19514c4a-576b-40da-a689-91cc07d75642\",\"type\":\"Title\"},\"toolbar\":{\"id\":\"ab4a5d44-73fa-41bc-a3a6-d7bf910edfcb\",\"type\":\"Toolbar\"},\"toolbar_location\":null,\"x_range\":{\"id\":\"d30a192a-3cec-4f54-9b0e-ac0d02f28e6e\",\"type\":\"Range1d\"},\"x_scale\":{\"id\":\"b90df07f-424b-42e9-81e9-a5e5f91d9bf8\",\"type\":\"LinearScale\"},\"y_range\":{\"id\":\"d5bd36ef-23de-439b-bfd0-0eeaa8628adc\",\"type\":\"Range1d\"},\"y_scale\":{\"id\":\"e26b472c-30a5-406c-9f15-dc6b9ebc5b5b\",\"type\":\"LinearScale\"}},\"id\":\"ecbd33e6-91db-43ac-ad3e-619474314f18\",\"subtype\":\"Figure\",\"type\":\"Plot\"},{\"attributes\":{},\"id\":\"97302a81-44ac-4afe-8f7c-3de66b0ed8fd\",\"type\":\"PanTool\"},{\"attributes\":{},\"id\":\"61b9e5f7-1a87-4079-8bde-a5e66e9296b4\",\"type\":\"StringEditor\"},{\"attributes\":{\"editor\":{\"id\":\"61b9e5f7-1a87-4079-8bde-a5e66e9296b4\",\"type\":\"StringEditor\"},\"field\":\"count\",\"formatter\":{\"id\":\"5df44119-6290-4f9f-a97b-b47b5bcdf884\",\"type\":\"StringFormatter\"},\"title\":\"Count\"},\"id\":\"3d318361-18d0-4365-a694-b50acfa8cff5\",\"type\":\"TableColumn\"},{\"attributes\":{\"formatter\":{\"id\":\"a686f642-bd88-4ed7-8ba0-c52c44f8a877\",\"type\":\"MercatorTickFormatter\"},\"plot\":{\"id\":\"ecbd33e6-91db-43ac-ad3e-619474314f18\",\"subtype\":\"Figure\",\"type\":\"Plot\"},\"ticker\":{\"id\":\"a35a396a-8df9-4b49-94c0-669644118b32\",\"type\":\"MercatorTicker\"}},\"id\":\"a20c2beb-2b85-47ce-bc34-0f78608e2186\",\"type\":\"MercatorAxis\"},{\"attributes\":{\"active_drag\":\"auto\",\"active_inspect\":\"auto\",\"active_scroll\":\"auto\",\"active_tap\":\"auto\",\"tools\":[{\"id\":\"8c87ead4-25c1-4f7a-a487-e7387919709b\",\"type\":\"HoverTool\"},{\"id\":\"97302a81-44ac-4afe-8f7c-3de66b0ed8fd\",\"type\":\"PanTool\"},{\"id\":\"22a3e8f8-bb5e-4c4d-bc7b-b551228f3da6\",\"type\":\"WheelZoomTool\"},{\"id\":\"d9580c60-333f-4c96-857a-f697dd011b5f\",\"type\":\"SaveTool\"}]},\"id\":\"ab4a5d44-73fa-41bc-a3a6-d7bf910edfcb\",\"type\":\"Toolbar\"},{\"attributes\":{},\"id\":\"d9580c60-333f-4c96-857a-f697dd011b5f\",\"type\":\"SaveTool\"},{\"attributes\":{},\"id\":\"5df44119-6290-4f9f-a97b-b47b5bcdf884\",\"type\":\"StringFormatter\"},{\"attributes\":{\"children\":[{\"id\":\"ecbd33e6-91db-43ac-ad3e-619474314f18\",\"subtype\":\"Figure\",\"type\":\"Plot\"},{\"id\":\"8f1684a1-b77e-4ac9-b498-3881ee7a3a37\",\"type\":\"WidgetBox\"}]},\"id\":\"286e602a-03b7-4874-8bb3-b5a701c6f4a9\",\"type\":\"Row\"},{\"attributes\":{\"toolbar\":{\"id\":\"d3f0e01f-d393-4c17-b756-f38323f5b2a7\",\"type\":\"ProxyToolbar\"},\"toolbar_location\":\"above\"},\"id\":\"a0d3b37a-a0ed-4657-a463-f7a80a388b3f\",\"type\":\"ToolbarBox\"},{\"attributes\":{\"data_source\":{\"id\":\"f74be06c-a8ff-45dd-b135-3cd3578d4f48\",\"type\":\"ColumnDataSource\"},\"glyph\":{\"id\":\"b01a024e-66f3-4cdb-9b4c-08067b4d6889\",\"type\":\"Circle\"},\"hover_glyph\":null,\"muted_glyph\":null,\"nonselection_glyph\":{\"id\":\"dd427835-3355-4fc5-a2b3-2fd14ba8ab5a\",\"type\":\"Circle\"},\"selection_glyph\":null,\"view\":{\"id\":\"066b8d51-5aa7-4193-a1bf-5e52e4e96246\",\"type\":\"CDSView\"}},\"id\":\"7951fd57-b958-4fd6-8729-131414177be4\",\"type\":\"GlyphRenderer\"},{\"attributes\":{\"callback\":null,\"renderers\":\"auto\",\"tooltips\":[[\"Area\",\"@area\"],[\"Count\",\"@count\"]]},\"id\":\"8c87ead4-25c1-4f7a-a487-e7387919709b\",\"type\":\"HoverTool\"},{\"attributes\":{\"columns\":[{\"id\":\"d8f5ccfb-d18e-4a8c-b94a-f169ed4d416d\",\"type\":\"TableColumn\"},{\"id\":\"3d318361-18d0-4365-a694-b50acfa8cff5\",\"type\":\"TableColumn\"}],\"height\":350,\"source\":{\"id\":\"f74be06c-a8ff-45dd-b135-3cd3578d4f48\",\"type\":\"ColumnDataSource\"},\"view\":{\"id\":\"7756f9e1-9cc1-4a7a-8fe2-97faf89fc725\",\"type\":\"CDSView\"},\"width\":200},\"id\":\"9c10e13f-6a7d-4f8a-880b-26250c1a5273\",\"type\":\"DataTable\"},{\"attributes\":{\"tools\":[{\"id\":\"8c87ead4-25c1-4f7a-a487-e7387919709b\",\"type\":\"HoverTool\"},{\"id\":\"97302a81-44ac-4afe-8f7c-3de66b0ed8fd\",\"type\":\"PanTool\"},{\"id\":\"22a3e8f8-bb5e-4c4d-bc7b-b551228f3da6\",\"type\":\"WheelZoomTool\"},{\"id\":\"d9580c60-333f-4c96-857a-f697dd011b5f\",\"type\":\"SaveTool\"}]},\"id\":\"d3f0e01f-d393-4c17-b756-f38323f5b2a7\",\"type\":\"ProxyToolbar\"}],\"root_ids\":[\"a9dda9ba-8400-4b0b-bba3-6d77832d4d9b\"]},\"title\":\"Bokeh Application\",\"version\":\"0.12.16\"}};\n",
       "  var render_items = [{\"docid\":\"b4dbffb4-bdac-4370-9dd3-94fbb0846331\",\"elementid\":\"8b3bfbe1-8528-4d5f-9f2f-04bd216ce741\",\"modelid\":\"a9dda9ba-8400-4b0b-bba3-6d77832d4d9b\"}];\n",
       "  root.Bokeh.embed.embed_items_notebook(docs_json, render_items);\n",
       "\n",
       "  }\n",
       "  if (root.Bokeh !== undefined) {\n",
       "    embed_document(root);\n",
       "  } else {\n",
       "    var attempts = 0;\n",
       "    var timer = setInterval(function(root) {\n",
       "      if (root.Bokeh !== undefined) {\n",
       "        embed_document(root);\n",
       "        clearInterval(timer);\n",
       "      }\n",
       "      attempts++;\n",
       "      if (attempts > 100) {\n",
       "        console.log(\"Bokeh: ERROR: Unable to run BokehJS code because BokehJS library is missing\")\n",
       "        clearInterval(timer);\n",
       "      }\n",
       "    }, 10, root)\n",
       "  }\n",
       "})(window);"
      ],
      "application/vnd.bokehjs_exec.v0+json": ""
     },
     "metadata": {
      "application/vnd.bokehjs_exec.v0+json": {
       "id": "a9dda9ba-8400-4b0b-bba3-6d77832d4d9b"
      }
     },
     "output_type": "display_data"
    }
   ],
   "source": [
    "# do the same for countries, filtering by countries > 1000\n",
    "\n",
    "s = df_entity_raw.countries.value_counts()\n",
    "s = s[s > 1000]\n",
    "country_df = pd.DataFrame(s).reset_index()\n",
    "country_df.columns = ['Area', 'Count']\n",
    "\n",
    "c_lat = []\n",
    "c_long = []\n",
    "\n",
    "for ind, row in country_df.iterrows():\n",
    "    location = geolocator.geocode(row['Area'])\n",
    "    c_lat.append(location.latitude)\n",
    "    c_long.append(location.longitude)\n",
    "\n",
    "country_df['Latitude'] = c_lat\n",
    "country_df['Longitude'] = c_long\n",
    "\n",
    "x_y_c = merc(country_df.Latitude, country_df.Longitude)\n",
    "country_df['x'] = x_y_c[0]\n",
    "country_df['y'] = x_y_c[1]\n",
    "\n",
    "output_file(\"proj_jekyll/assets/country_map.html\", title=\"jurisdictions\")\n",
    "plot_map(country_df, \"Top countries that have offshore entities\")"
   ]
  },
  {
   "cell_type": "markdown",
   "metadata": {},
   "source": [
    "### GDP Data Integration"
   ]
  },
  {
   "cell_type": "markdown",
   "metadata": {},
   "source": [
    "In order to go further with the investigation it is crucial to have an instrument to distinguish between categories of countries. The parameters used to do so are the Total Gross Domestic Product and the Gross Domestic Product per capita which are measures of the size of the economic activity in a country and population. Hence, using these two paramters the number of entities present in the Panama Papers will be weighted according to these indicators too."
   ]
  },
  {
   "cell_type": "markdown",
   "metadata": {},
   "source": [
    "$GDP_{cap}$"
   ]
  },
  {
   "cell_type": "markdown",
   "metadata": {},
   "source": [
    "As many of the operation performed with the GDP will involve an inner joint between the latter and the entity data frame, the correctness of the operation is investigated. "
   ]
  },
  {
   "cell_type": "code",
   "execution_count": null,
   "metadata": {},
   "outputs": [],
   "source": [
    "df_GDP_tot_raw.head()"
   ]
  },
  {
   "cell_type": "markdown",
   "metadata": {},
   "source": [
    "All the following numbers printed show the condition of the data frame as it is right now, after performing the operation later described. The year with less missing values among the ones that follow the 2008 economic crisis (meaning comparable GDP to the present ones) is chosen as measure of the GDP. It is 2014 with 16 missing values."
   ]
  },
  {
   "cell_type": "code",
   "execution_count": null,
   "metadata": {},
   "outputs": [],
   "source": [
    "print(df_GDP_tot_raw['2017'].isna().sum())\n",
    "print(df_GDP_tot_raw['2016'].isna().sum())\n",
    "print(df_GDP_tot_raw['2015'].isna().sum())\n",
    "print(df_GDP_tot_raw['2014'].isna().sum())\n",
    "print(df_GDP_tot_raw['2013'].isna().sum())\n",
    "print(df_GDP_tot_raw['2012'].isna().sum())"
   ]
  },
  {
   "cell_type": "code",
   "execution_count": null,
   "metadata": {
    "scrolled": true
   },
   "outputs": [],
   "source": [
    "df_GDP_tot=df_GDP_tot_raw[['Country Name','2014']].copy()\n",
    "df_GDP_tot.columns = ['countries', 'GDP_tot']\n",
    "#df_GDP_tot"
   ]
  },
  {
   "cell_type": "markdown",
   "metadata": {},
   "source": [
    "A new data frame from the `entity` one is created with only the relevant columns. (value_counts is applied) "
   ]
  },
  {
   "cell_type": "code",
   "execution_count": null,
   "metadata": {
    "scrolled": true
   },
   "outputs": [],
   "source": [
    "df_vc=pd.DataFrame(df_entity_raw.countries.value_counts())\n",
    "df_vc.reset_index(level=0, inplace=True)\n",
    "df_vc.columns = ['countries', 'n_companies']\n",
    "#df_vc"
   ]
  },
  {
   "cell_type": "markdown",
   "metadata": {},
   "source": [
    "Now a merge with an inner join the value counts data frame `df_vc` and the `df_GDP_tot` is performed. All the lines with a missing GDP were visualized below (lines of British Virgin Islands, Turks and Caicos Island, Sint Marteen (dutch part), Monaco, Gibraltar, Cayman Islands, Bermuda and Aruba).  The missing values are manually integrated in the `.csv` looking at reliable data online. The check for nan values now shows an empty dataframe."
   ]
  },
  {
   "cell_type": "code",
   "execution_count": null,
   "metadata": {},
   "outputs": [],
   "source": [
    "df_GDP_tot_entities=df_GDP_tot.merge(df_vc, how='inner',left_on='countries', right_on='countries')\n",
    "print('Number of countries without GDP in the database: ',df_GDP_tot_entities[df_GDP_tot_entities['GDP_tot'].isna()])\n",
    "#df_GDP_tot_entities"
   ]
  },
  {
   "cell_type": "markdown",
   "metadata": {},
   "source": [
    "$GDP_{tot}$"
   ]
  },
  {
   "cell_type": "markdown",
   "metadata": {},
   "source": [
    "The same analysis procedure is performed on the GDP pro capita data frame. The same lines of GDP were missing, and they were replaced in the same manner as for the total GDP."
   ]
  },
  {
   "cell_type": "code",
   "execution_count": null,
   "metadata": {},
   "outputs": [],
   "source": [
    "df_GDP_cap_raw.head()"
   ]
  },
  {
   "cell_type": "code",
   "execution_count": null,
   "metadata": {},
   "outputs": [],
   "source": [
    "print(df_GDP_tot_raw['2017'].isna().sum())\n",
    "print(df_GDP_tot_raw['2016'].isna().sum())\n",
    "print(df_GDP_tot_raw['2015'].isna().sum())\n",
    "print(df_GDP_tot_raw['2014'].isna().sum())\n",
    "print(df_GDP_tot_raw['2013'].isna().sum())\n",
    "print(df_GDP_tot_raw['2012'].isna().sum())"
   ]
  },
  {
   "cell_type": "code",
   "execution_count": null,
   "metadata": {},
   "outputs": [],
   "source": [
    "df_GDP_cap=df_GDP_cap_raw[['Country Name','2014']].copy()\n",
    "df_GDP_cap.columns = ['countries', 'GDP_cap']\n",
    "#df_GDP_cap"
   ]
  },
  {
   "cell_type": "code",
   "execution_count": null,
   "metadata": {
    "scrolled": true
   },
   "outputs": [],
   "source": [
    "df_GDP_cap_entities=df_GDP_cap.merge(df_vc, how='inner',left_on='countries', right_on='countries')\n",
    "print('Number of countries without GDP in the database: ',df_GDP_cap_entities[df_GDP_cap_entities['GDP_cap'].isna()])\n",
    "df_GDP_cap_entities.head()"
   ]
  },
  {
   "cell_type": "markdown",
   "metadata": {},
   "source": [
    "## 3) What drives entities to go offshore and consequently how does that affect the country?"
   ]
  },
  {
   "cell_type": "markdown",
   "metadata": {},
   "source": [
    "### Dataframe preparation"
   ]
  },
  {
   "cell_type": "markdown",
   "metadata": {},
   "source": [
    "Firstly a dataframe with the country and the respective number of entities in the Panama Papers is made `country_count`. This is used as a base to subsequentially add information regarding the indicators."
   ]
  },
  {
   "cell_type": "code",
   "execution_count": null,
   "metadata": {},
   "outputs": [],
   "source": [
    "country_count=pd.DataFrame(df_entity_mod_raw['countries'].value_counts())"
   ]
  },
  {
   "cell_type": "code",
   "execution_count": null,
   "metadata": {
    "scrolled": true
   },
   "outputs": [],
   "source": [
    "country_count=country_count.rename(columns={'countries': 'n_companies_offshore'})\n",
    "country_count['Country Name']=country_count.index\n",
    "country_count=country_count.reset_index(drop=True)"
   ]
  },
  {
   "cell_type": "code",
   "execution_count": null,
   "metadata": {},
   "outputs": [],
   "source": [
    "country_count.head()"
   ]
  },
  {
   "cell_type": "markdown",
   "metadata": {},
   "source": [
    "In order to investigate the causes pushing entities to go offshore, the number of entities per country has often to be weighted according to economical size: without doing so, big economies will automatically have a higher number of entities registered in the papers only because they are bigger. Hence GDP and GDP per capita are going to be used as weighting factor for the number of registered entities in papers, n in many analysis: \n",
    "\n",
    "\\begin{equation*}\n",
    "n_{w}=\\frac{n}{GDP_{indicator}}\n",
    "\\end{equation*}"
   ]
  },
  {
   "cell_type": "markdown",
   "metadata": {},
   "source": [
    "Hence dataframes for total GDP (`df_gdp`) and GDP per capita (`df_GDP_capita`) per countries are created and merged with `country_count`; this is not only useful as mentioned above to weight for the different sizes of the economies, but also to distinguish groups of countries according to their economies."
   ]
  },
  {
   "cell_type": "code",
   "execution_count": null,
   "metadata": {},
   "outputs": [],
   "source": [
    "df_gdp=df_GDP_tot_raw.copy()"
   ]
  },
  {
   "cell_type": "code",
   "execution_count": null,
   "metadata": {},
   "outputs": [],
   "source": [
    "df_countries_gdp=pd.DataFrame({'Country Name':df_gdp['Country Name'],'GDP':df_gdp.iloc[:,range(-15,0)].mean(axis=1,numeric_only=True)})\n",
    "# print(np.sum(df_countries_gdp['GDP'].isnull()))\n",
    "# df_gdp=df_gdp[df_gdp['GDP'].notnull()]"
   ]
  },
  {
   "cell_type": "markdown",
   "metadata": {},
   "source": [
    "Showing the missing values of GDP"
   ]
  },
  {
   "cell_type": "code",
   "execution_count": null,
   "metadata": {},
   "outputs": [],
   "source": [
    "df_countries_gdp[df_countries_gdp['GDP'].isnull()]"
   ]
  },
  {
   "cell_type": "code",
   "execution_count": null,
   "metadata": {},
   "outputs": [],
   "source": [
    "df_gdp_capita=df_GDP_cap_raw.copy()"
   ]
  },
  {
   "cell_type": "code",
   "execution_count": null,
   "metadata": {},
   "outputs": [],
   "source": [
    "df_countries_gdp_capita=pd.DataFrame({'Country Name':df_gdp_capita['Country Name'],'GDP':df_gdp_capita.iloc[:,range(-15,0)].mean(axis=1,numeric_only=True)})"
   ]
  },
  {
   "cell_type": "markdown",
   "metadata": {},
   "source": [
    "Before starting the analysis is fundamantal to check which countries don't have total GDP values"
   ]
  },
  {
   "cell_type": "code",
   "execution_count": null,
   "metadata": {},
   "outputs": [],
   "source": [
    "df_countries_gdp_capita[df_countries_gdp_capita['GDP'].isnull()]"
   ]
  },
  {
   "cell_type": "code",
   "execution_count": null,
   "metadata": {},
   "outputs": [],
   "source": [
    "# count in panama papers and gdp is merged in one dataframe\n",
    "country_count_gdp=country_count.merge(df_countries_gdp, how='outer',left_on='Country Name', right_on='Country Name')"
   ]
  },
  {
   "cell_type": "code",
   "execution_count": null,
   "metadata": {},
   "outputs": [],
   "source": [
    "# count in panama papers and gdp per capita is merged in one dataframe\n",
    "country_count_gdp=country_count_gdp.merge(df_countries_gdp_capita, how='outer',left_on='Country Name', right_on='Country Name')"
   ]
  },
  {
   "cell_type": "code",
   "execution_count": null,
   "metadata": {},
   "outputs": [],
   "source": [
    "country_count_gdp.head()"
   ]
  },
  {
   "cell_type": "markdown",
   "metadata": {},
   "source": [
    "Before starting the analysis is also important to check which countries don't have per capita GDP values"
   ]
  },
  {
   "cell_type": "code",
   "execution_count": null,
   "metadata": {},
   "outputs": [],
   "source": [
    "country_count_gdp['Country Name'][country_count_gdp['GDP_y'].isna()]"
   ]
  },
  {
   "cell_type": "markdown",
   "metadata": {},
   "source": [
    "As highlighted initially, there is a chunck of entities/companies which are registered in Panama papers and which come already from countries with favorable business conditions. Hence it will be important to understand what are these favorable conditions. The year with most data regarding each indicator will be considered assuming that the change in each indicator in the last 10 years is irrelevant. In order to explore the role of each indicator, interactive plots are created to better investigate individually what are the conditions which push entities to go offshore."
   ]
  },
  {
   "cell_type": "markdown",
   "metadata": {},
   "source": [
    "An interesting fact can be notice from the distribution of the countries. The majority of the entities present in the papers come from a country with already favourable business condition like Honk Kong, Switzerland and Luxembourg or even from a place considered a fiscal havens (Panama, Jersey). However there is evidence supporting the claim that many entities/companies coming from the above mentioned set of countries don't actually belong to those countries: in fact their GDP and their population are too low to explain such a high presence on a global scale. This fact can be explained with a tendency, amplified by globalization, of big companies of starting their international business already from a convenient country. \n",
    "\n",
    "As a consequence it is porbable that entities from all over the world are firstly influenced to go set their businesses already in countries which offer particularly good business conditions such as Switzlerand, Panama, the Channel Islands (Jersey and Guernsey), Luxemburg, the Cayman Islands, Lichteinstein, Singapore and Monaco, Isle of Man and Gibraltar. These countries are known for being small and very developped with high income per capita, but also to often be tax havens. \n",
    "\n",
    "\n",
    "Hence, on the one hand it is crucial to understand what are these business conditions (economic and bureaucratic) that make this set of countries the optimum place to do business, but also to easily go offshore and on the other hand what are the economic and bureaucratic causes which influence entities in the other countries to go offshore. "
   ]
  },
  {
   "cell_type": "markdown",
   "metadata": {},
   "source": [
    "### Corporate Tax Rate"
   ]
  },
  {
   "cell_type": "markdown",
   "metadata": {},
   "source": [
    "The first factor which is going to be investigated is corporate Tax Rate; in other words it is going to be investigated whether or not having a high corporate tax rate influence entities and especially companies to go offshore in jurisdictions offering them important advantages in terms of tax savings."
   ]
  },
  {
   "cell_type": "markdown",
   "metadata": {},
   "source": [
    "Firstly the sparsity of the data is checked by querying what is the year with the highest number of data."
   ]
  },
  {
   "cell_type": "code",
   "execution_count": null,
   "metadata": {},
   "outputs": [],
   "source": [
    "years=range(1990, 2018)\n",
    "years_count=np.array([])\n",
    "\n",
    "for year in years:\n",
    "    \n",
    "    years_count=np.append(years_count,df_tax_rate[str(year)].notnull().sum())\n",
    "print ('Year with most data is', years[np.argmax(years_count)])"
   ]
  },
  {
   "cell_type": "markdown",
   "metadata": {},
   "source": [
    "In order to fully exploit the data, the average tax rate for each country is computed over a time frame of 15 years; hence it is assumed that any change in corporate tax in this time range has not affected the number of entities going offshore in this time range."
   ]
  },
  {
   "cell_type": "code",
   "execution_count": null,
   "metadata": {},
   "outputs": [],
   "source": [
    "df_countries_tax=pd.DataFrame({'Country Name':df_tax_rate['Country Name'],'Tax Rate':df_tax_rate.iloc[:,range(-15,0)].mean(axis=1,numeric_only=True)})"
   ]
  },
  {
   "cell_type": "code",
   "execution_count": null,
   "metadata": {},
   "outputs": [],
   "source": [
    "df_countries_tax.head()"
   ]
  },
  {
   "cell_type": "markdown",
   "metadata": {},
   "source": [
    "A dataset with tax rate and number of companies registered in the panama papers is made."
   ]
  },
  {
   "cell_type": "code",
   "execution_count": null,
   "metadata": {},
   "outputs": [],
   "source": [
    "country_count_tax_rate=country_count_gdp.merge(df_countries_tax, how='outer',left_on='Country Name', right_on='Country Name')"
   ]
  },
  {
   "cell_type": "markdown",
   "metadata": {},
   "source": [
    "Then for countries having a presence in Panama Papers higher than 1000 whose tax rate was missing the, an ad hoc research was done; hence individual values of corporate tax rates were added for the countries listed below since they had a consistent proportion of entities offshore."
   ]
  },
  {
   "cell_type": "code",
   "execution_count": null,
   "metadata": {
    "scrolled": true
   },
   "outputs": [],
   "source": [
    "country_count_tax_rate[country_count_tax_rate['Tax Rate'].isna()]"
   ]
  },
  {
   "cell_type": "markdown",
   "metadata": {},
   "source": [
    "Substitute the tax rate where NaN is present by integrating the data with additional sources. In particular the tax rate in the channel island Jersey and Guersey, in the Isle of Man, Monaco, Lichtenstein, Gibraltar, Hong Kong, British Vergin Islands, United Arab Emirates, Bahamas and Ecuador have been looked up.\n",
    "\n",
    "- Jersey and Guernesey as part of the channel islands have a corporate tax rate of 0% with exeption for some kind of businesses with maximum values of 20% [Jersey](https://www.gov.je/LifeEvents/MovingToJersey/pages/tax.aspx), [Guernsey](https://www.gov.gg/article/120167/Tax-for-businesses-companies-and-employers)\n",
    "\n",
    "- Isle of Man has a corporate tax rate of 0% with exeption for some kind of businesses with maximum values of 20% [Isle of Man](https://www.gov.im/categories/tax-vat-and-your-money/income-tax-and-national-insurance/business-and-corporations/corporate-tax-rates/)\n",
    "\n",
    "- Monaco has a corporate tax rate of 0% [Monaco](https://www.investopedia.com/ask/answers/060316/why-monaco-considered-tax-haven.asp)\n",
    "\n",
    "- Lichtenstein has a corporate tax rate of 12.5% [Lichtenstein](http://taxsummaries.pwc.com/ID/Liechtenstein-Corporate-Taxes-on-corporate-income)\n",
    "\n",
    "- Gibraltar has a corporate tax rate of 10% [Gibraltar](https://www.ey.com/Publication/vwLUAssets/ey-gibraltar-tax-facts-2017-18/$FILE/ey-gibraltar-tax-facts-2017-18.pdf)\n",
    "\n",
    "- Hong Kong have a corporate tax rate of 16.5% [Hong Kong](https://tradingeconomics.com/hong-kong/corporate-tax-rate)\n",
    "\n",
    "- British Vergin Islands have a corporate tax rate of 0% [British Vergin Islands](https://www2.deloitte.com/content/dam/Deloitte/global/Documents/Tax/dttl-tax-britishvirginislandshighlights-2018.pdf?nc=1)\n",
    "\n",
    "- United Arab Emirates have a corporate tax rate of 0% [United Arab Emirates](https://en.portal.santandertrade.com/establish-overseas/united-arab-emirates/tax-system)\n",
    "\n",
    "- Bahamas have a corporate tax rate of 0% [Bahamas](https://tradingeconomics.com/bahamas/personal-income-tax-rate)\n",
    "\n",
    "- Ecuador have a corporate tax rate of 22% [Ecuador](https://tradingeconomics.com/ecuador/corporate-tax-rate)\n",
    "\n",
    "No consistent information regarding Taiwan has been found for the lack of transparency of the Chinese government.\n"
   ]
  },
  {
   "cell_type": "code",
   "execution_count": null,
   "metadata": {},
   "outputs": [],
   "source": [
    "country_count_tax_rate.loc[country_count_tax_rate['Country Name']=='Channel Islands','Tax Rate']=0\n",
    "country_count_tax_rate.loc[country_count_tax_rate['Country Name']=='Isle of Man','Tax Rate']=0\n",
    "country_count_tax_rate.loc[country_count_tax_rate['Country Name']=='Monaco','Tax Rate']=0\n",
    "country_count_tax_rate.loc[country_count_tax_rate['Country Name']=='Liechtenstein','Tax Rate']=12.5\n",
    "country_count_tax_rate.loc[country_count_tax_rate['Country Name']=='Gibraltar','Tax Rate']=10\n",
    "country_count_tax_rate.loc[country_count_tax_rate['Country Name']=='Hong Kong SAR, China','Tax Rate']=16.5\n",
    "country_count_tax_rate.loc[country_count_tax_rate['Country Name']=='Bahamas, The','Tax Rate']=0\n",
    "country_count_tax_rate.loc[country_count_tax_rate['Country Name']=='United Arab Emirates','Tax Rate']=0\n",
    "country_count_tax_rate.loc[country_count_tax_rate['Country Name']=='Ecuador','Tax Rate']=22\n",
    "country_count_tax_rate.loc[country_count_tax_rate['Country Name']=='British Virgin Islands','Tax Rate']=0"
   ]
  },
  {
   "cell_type": "markdown",
   "metadata": {},
   "source": [
    "#### Small Developped Countries"
   ]
  },
  {
   "cell_type": "markdown",
   "metadata": {},
   "source": [
    "Firstly the graph of tax rate and presence in Panama Paper of small developped countries with high income per capita is plotted. In fact, by looking at these relationship it will be possible to understand if all small developped countries with high income per capita present favourable characteristics to go offshore. \n",
    "\n",
    "All the countries with GDP per capita `GDP_y`>30000 and a total GDP `GDP_x`< 200 billions USD have been considered.\n",
    "\n",
    "The GDP has been used as a weight for the count of entities offshore because the discrepancy between the size of the economies is really high.\n",
    "\n",
    "By observing the plot below some important considerations can be drawn; two set of countries can be identified: tax havens countries and small developped countries. Firstly the tax havens countries can be identified very easily since they have a high presence in the papers and at the same time they have really low tax rates. The rest of the countries are small developped usually European countries. The trend of non tax havens countries shows that high tax rate is not a factor pushing entities to go offshore; in fact the opposite could be true: there seems to be a negative exponential relationship between presence in panama papers and tax rates, but the two tail test p value (0.395) of such relationship seems to imply that no relationship exist between tax rate and number of entities in Panama Papers for small developped countrie. However this relationship could imply the presence of an hidden covariate: high tax rate might be sinonim of tighter control and regulations on entities going offshore, meaning that countries with tighter controls will naturally have a lower number of offshore companies.\n",
    "\n",
    "In addition the graph also seems to suggest that the resons behind the presence of many companies offshore in tax havens is not only the low taxation levels: in fact corporate tax rate of tax havens countries is often comparable to that one of other small european countries. As a matter of fact tax havens countries offer entities favorable conditions to easily set compabies offshore compared to other small countries."
   ]
  },
  {
   "cell_type": "code",
   "execution_count": null,
   "metadata": {},
   "outputs": [],
   "source": [
    "selection=country_count_tax_rate['GDP_y'].apply(lambda x: x>30000) & country_count_tax_rate['GDP_x'].apply(lambda x: x<200*10e9)\n",
    "\n",
    "x = country_count_tax_rate['Tax Rate'][selection]\n",
    "y = np.log10(country_count_tax_rate['n_companies_offshore'][selection]/country_count_tax_rate['GDP_x'][selection])\n",
    "country_names=country_count_tax_rate['Country Name'][selection]\n",
    "c = country_count_tax_rate['GDP_x'][selection]\n",
    "c[c.isna()]=0\n",
    "\n",
    "# establish the color mapper schema\n",
    "color_mapper = LogColorMapper(palette=\"Colorblind3\", low=min(c),\\\n",
    "                              high=max(c))\n",
    "\n",
    "# establish the sources of data to make the interactive graph\n",
    "source=ColumnDataSource(data=dict(\n",
    "    x=list(x),\n",
    "    y=list(y),\n",
    "    country=list(country_names),\n",
    "    c=list(c),\n",
    "))\n",
    "\n",
    "    \n",
    "# set the regression line\n",
    "df=pd.DataFrame({'Tax Rate':x,'n_companies_offshore':y})\n",
    "df=df.dropna(inplace=False)\n",
    "df=df[df['n_companies_offshore'].apply(lambda x: x<-8)]\n",
    "\n",
    "a=np.array(df['Tax Rate'])\n",
    "b=np.array(df['n_companies_offshore'])\n",
    "\n",
    "m,i,r,p_value,std=stats.linregress(a,b)\n",
    "\n",
    "p = figure(title=\"Number of entities offshore vs tax rate (Small developped countries)\", plot_width=800, plot_height=800)\n",
    "\n",
    "scatter=p.scatter(x='x', y='y', radius=1, source=source, color={'field': 'c', 'transform': color_mapper}, alpha=0.5)\n",
    "hover= HoverTool(tooltips = [(\"Country\", \"@country\"),(\"(Tax Rate, Log(number of entities offshore))\", \"($x, $y)\")],renderers=[scatter])\n",
    "p.add_tools(hover)\n",
    "\n",
    "\n",
    "line=p.line(df['Tax Rate'], m*df['Tax Rate']+i, line_width=4, color='navy', alpha=0.1)\n",
    "hover0=HoverTool(tooltips = [(\"Set of Country\",'Not tax havens countries, p-value='+str(p_value)[:5])], renderers=[line])\n",
    "p.add_tools(hover0)\n",
    "circle=p.circle(19, -6.6, size=450, color=\"navy\", alpha=0.1)\n",
    "hover1=HoverTool(tooltips = [(\"Set of Country\",'Tax havens')], renderers=[circle])\n",
    "p.add_tools(hover1)\n",
    "\n",
    "\n",
    "# set the style of the title\n",
    "p.title.text_color = \"grey\"\n",
    "p.title.text_font = \"helvetica\"\n",
    "p.title.text_font_style = \"normal\"\n",
    "p.title.text_font_size = '11pt'\n",
    "\n",
    "# set the label options\n",
    "p.xaxis.axis_label='Tax Rate (%)'\n",
    "p.yaxis.axis_label='Number of Entities Offshore (log scale)'\n",
    "\n",
    "# add the color bar\n",
    "color_bar = ColorBar(color_mapper=color_mapper, ticker=LogTicker(),\n",
    "                     label_standoff=12, border_line_color=None, location=(20,0))\n",
    "\n",
    "# set the color bar title\n",
    "color_bar_height = 511\n",
    "color_bar_width = 35\n",
    "\n",
    "color_bar_plot = figure(title=\"Real GDP Legend Bar (USD)\", title_location=\"right\", \n",
    "                        height=color_bar_height, width=color_bar_width, \n",
    "                        toolbar_location=None, min_border=None, \n",
    "                        outline_line_color=None)\n",
    "\n",
    "p.add_layout(color_bar, 'right')\n",
    "\n",
    "# remove the interactive toolbar\n",
    "p.toolbar.logo = None\n",
    "p.toolbar_location = None\n",
    "\n",
    "layout = row_plot(p, color_bar_plot)\n",
    "output_file(\"taxratesmalldeveloppedcountries.html\", title=\"taxratesmalldeveloppedcountries\")\n",
    "show(layout)"
   ]
  },
  {
   "cell_type": "markdown",
   "metadata": {},
   "source": [
    "#### Developping Countries"
   ]
  },
  {
   "cell_type": "markdown",
   "metadata": {},
   "source": [
    "Secondly the graph of tax rate and presence in Panama Paper of developping countries is plotted. BRICs countries have been considered, as well as all other countries which had a GDP greater than 40 billions USD a year. Also in this case the GDP has been used as a weight for the count of entities offshore because the discrepancy between the size of the economies is really high.\n",
    "\n",
    "By observing this graphs a negative exponential relationship can be again observed further showing that for this category of countries tax rate is not a factor pushing entities to go offshore: actually the higher the tax rate the lower the number of companies offshore. Contrary to the little evidence found in small developped countries, developping countries show a very clear negative exponential relationship with a two tails p-value of 0.00143. This could be a further proof to the hypothesis that higher tax rates are correlates with higher regulations as shown in the graph for small developped countries; in fact in developping countries the bureaucratic machine and regulation could even disable further entities who are willing to go offshore."
   ]
  },
  {
   "cell_type": "code",
   "execution_count": null,
   "metadata": {},
   "outputs": [],
   "source": [
    "selection=country_count_tax_rate['GDP_y'].apply(lambda x: x<15000) & country_count_tax_rate['GDP_x'].apply(lambda x: x>40*10e9)\n",
    "\n",
    "x = country_count_tax_rate['Tax Rate'][selection]\n",
    "y = np.log10(country_count_tax_rate['n_companies_offshore'][selection]/country_count_tax_rate['GDP_x'][selection])\n",
    "country_names=country_count_tax_rate['Country Name'][selection]\n",
    "c = country_count_tax_rate['GDP_x'][selection]\n",
    "c[c.isna()]=0\n",
    "\n",
    "# set the regression line\n",
    "df=pd.DataFrame({'Tax Rate':x,'n_companies_offshore':y})\n",
    "df=df.dropna(inplace=False)\n",
    "a=np.array(df['Tax Rate'])\n",
    "b=np.array(df['n_companies_offshore'])\n",
    "\n",
    "m,i,r,p_value,std=stats.linregress(a,b)\n",
    "\n",
    "\n",
    "# establish the color mapper schema\n",
    "color_mapper = LogColorMapper(palette=\"Colorblind4\", low=min(c),\\\n",
    "                              high=max(c))\n",
    "\n",
    "# establish the sources of data to make the interactive graph\n",
    "source=ColumnDataSource(data=dict(\n",
    "    x=list(x),\n",
    "    y=list(y),\n",
    "    country=list(country_names),\n",
    "    c=list(c),\n",
    "))\n",
    "\n",
    "p = figure(title=\"Number of entities offshore vs tax rate (Major developping countries)\", plot_width=800, plot_height=800)\n",
    "scatter=p.scatter(x='x', y='y', radius=1, source=source, color={'field': 'c', 'transform': color_mapper}, alpha=0.5)\n",
    "hover= HoverTool(tooltips = [(\"Country\", \"@country\"),(\"(Tax Rate, Log(number of entities offshore))\", \"($x, $y)\")],renderers=[scatter])\n",
    "p.add_tools(hover)\n",
    "\n",
    "line=p.line(df['Tax Rate'], m*df['Tax Rate']+i, line_width=4, color='navy', alpha=0.1)\n",
    "hover0=HoverTool(tooltips = [(\"Set of Country\",'Developping countries, p-value='+str(p_value)[:5])], renderers=[line])\n",
    "p.add_tools(hover0)\n",
    "\n",
    "# set the style of the title\n",
    "p.title.text_color = \"grey\"\n",
    "p.title.text_font = \"helvetica\"\n",
    "p.title.text_font_style = \"normal\"\n",
    "p.title.text_font_size = '11pt'\n",
    "\n",
    "# set the label options\n",
    "p.xaxis.axis_label='Tax Rate (%)'\n",
    "p.yaxis.axis_label='Number of Entities Offshore (log scale)'\n",
    "\n",
    "\n",
    "# set the color bar tab\n",
    "color_bar = ColorBar(color_mapper=color_mapper, ticker=LogTicker(),\n",
    "                     label_standoff=12, border_line_color=None, location=(0,0))\n",
    "\n",
    "# set the color bar title\n",
    "color_bar_height = 511\n",
    "color_bar_width = 35\n",
    "\n",
    "color_bar_plot = figure(title=\"Real GDP Legend Bar (USD)\", title_location=\"right\", \n",
    "                        height=color_bar_height, width=color_bar_width, \n",
    "                        toolbar_location=None, min_border=None, \n",
    "                        outline_line_color=None)\n",
    "\n",
    "# add the color bar\n",
    "p.add_layout(color_bar, 'right')\n",
    "\n",
    "# remove the interactive toolbar\n",
    "p.toolbar.logo = None\n",
    "p.toolbar_location = None\n",
    "\n",
    "layout = row_plot(p, color_bar_plot)\n",
    "output_file(\"developpingcountries.html\", title=\"developpingcountries\")\n",
    "show(layout)"
   ]
  },
  {
   "cell_type": "markdown",
   "metadata": {},
   "source": [
    "#### Seven Biggest Economies"
   ]
  },
  {
   "cell_type": "markdown",
   "metadata": {},
   "source": [
    "Graph of the biggest economies. The relationship between the 7 biggest economies and tax rate has been investigated. The economies almost correspond to the G7 countries, but China has taken the place of Canada. Even though these are the biggest economies in the world, the difference in size between them influence the probability of creating business and hence having companies offshore. As a consequence also in this case the GDP was used to weight the number of offshore entities present in the panama papers. \n",
    "\n",
    "All the countries with a total GDP `GDP_x`> 200 billions USD have been considered.\n",
    "\n",
    "The figure below shows a completely different picture, compared to the previous ones: taking out Japan, it seems to be a positive exponential relationship between tax rate and number of offshore entities for the economically strongest countries suggesting that in these countries (p-value=0.531), entities are escaping corporate taxation levels by putting their companies offshore. Japan represents an exception among the 7 biggest economies: even though it has a very high tax rate, the presence of Japanese entities in the documents is really low. This could be due to cultural reasons or might be due to the fact that Japanese entities use different means to go offshore and they are not very represented in the Panama Papers themselves."
   ]
  },
  {
   "cell_type": "code",
   "execution_count": null,
   "metadata": {},
   "outputs": [],
   "source": [
    "selection=country_count_tax_rate['GDP_x'].apply(lambda x: x>200*10e9)\n",
    "x = country_count_tax_rate['Tax Rate'][selection]\n",
    "y = np.log10(country_count_tax_rate['n_companies_offshore'][selection]/country_count_tax_rate['GDP_x'][selection])\n",
    "country_names=country_count_tax_rate['Country Name'][selection]\n",
    "\n",
    "# establish the sources of data to make the interactive graph\n",
    "source=ColumnDataSource(data=dict(\n",
    "    x=list(x),\n",
    "    y=list(y),\n",
    "    country=list(country_names),\n",
    "))\n",
    "\n",
    "# set the regression line\n",
    "df=pd.DataFrame({'Tax Rate':x,'n_companies_offshore':y, 'country_name':country_names})\n",
    "df=df[df['country_name'].apply(lambda x: str(x)!='Japan')]\n",
    "df=df.dropna(inplace=False)\n",
    "a=np.array(df['Tax Rate'])\n",
    "b=np.array(df['n_companies_offshore'])\n",
    "\n",
    "m,i,r,p_value,std=stats.linregress(a,b)\n",
    "\n",
    "p = figure(title=\"Number of entities offshore vs tax rate (G7 countries)\", plot_width=800, plot_height=800)\n",
    "scatter=p.scatter(x='x', y='y', radius=1, source=source, fill_alpha=0.6)\n",
    "hover= HoverTool(tooltips = [(\"Country\", \"@country\"),(\"(Tax Rate, Log(number of entities offshore))\", \"($x, $y)\")],renderers=[scatter])\n",
    "p.add_tools(hover)\n",
    "\n",
    "line=p.line(df['Tax Rate'], m*df['Tax Rate']+i, line_width=4, color='navy', alpha=0.1)\n",
    "hover0=HoverTool(tooltips = [(\"Set of Country\",'Major biggest economies, p-value='+str(p_value)[:5])], renderers=[line])\n",
    "p.add_tools(hover0)\n",
    "\n",
    "# set the style of the title\n",
    "p.title.text_color = \"grey\"\n",
    "p.title.text_font = \"helvetica\"\n",
    "p.title.text_font_style = \"normal\"\n",
    "p.title.text_font_size = '11pt'\n",
    "\n",
    "# set the label options\n",
    "p.xaxis.axis_label='Tax Rate (%)'\n",
    "p.yaxis.axis_label='Number of Entities Offshore (log scale)'\n",
    "\n",
    "# remove the interactive toolbar\n",
    "p.toolbar.logo = None\n",
    "p.toolbar_location = None\n",
    "\n",
    "output_file(\"taxrateg7.html\", title=\"taxrateg7\")\n",
    "\n",
    "show(p)"
   ]
  },
  {
   "cell_type": "markdown",
   "metadata": {},
   "source": [
    "#### Glober Perspective"
   ]
  },
  {
   "cell_type": "markdown",
   "metadata": {},
   "source": [
    "Eventually after having analyzed the above set of countries, the global picture for developped countries has been drawn. Observing the figure, on a global scale it can be seen that there is no significant correlation between corporate tax rate and presence of offshore entities in the Panama Papers. However it is clear the a positive relationship between tax rate and number of offshore entities holds true for the major economies which are the biggest data points."
   ]
  },
  {
   "cell_type": "code",
   "execution_count": null,
   "metadata": {},
   "outputs": [],
   "source": [
    "selection=country_count_tax_rate['GDP_y']>15000\n",
    "x=country_count_tax_rate['Tax Rate'][selection]\n",
    "y=np.log10(country_count_tax_rate['n_companies_offshore'][selection])\n",
    "radii=country_count_tax_rate['GDP_x'][selection]*10e-13\n",
    "country_names=country_count_tax_rate['Country Name'][selection]\n",
    "# for colors\n",
    "c = country_count_tax_rate['GDP_y'][selection]\n",
    "c[c.isna()]=0\n",
    "\n",
    "\n",
    "color_mapper = LogColorMapper(palette=\"Colorblind4\", low=min(c),\\\n",
    "                              high=max(c))\n",
    "\n",
    "source=ColumnDataSource(data=dict(\n",
    "    x=list(x),\n",
    "    y=list(y),\n",
    "    country=list(country_names),\n",
    "    radii=list(radii),\n",
    "    c=list(c),\n",
    "))\n",
    "\n",
    "\n",
    "# set the regression line\n",
    "df=pd.DataFrame({'Tax Rate':x,'n_companies_offshore':y})\n",
    "df=df.dropna(inplace=False)\n",
    "\n",
    "a=np.array(df['Tax Rate'])\n",
    "b=np.array(df['n_companies_offshore'])\n",
    "\n",
    "m,i,r,p,std=stats.linregress(a,b)\n",
    "\n",
    "p = figure(title=\"Number of entities offshore vs tax rate (all developped countries)\", plot_width=800, plot_height=800)\n",
    "scatter=p.scatter(x='x', y='y', radius='radii', source=source, color={'field': 'c', 'transform': color_mapper}, alpha=0.5)\n",
    "hover= HoverTool(tooltips = [(\"Country\", \"@country\"),(\"(Tax Rate, Log(number of entities offshore))\", \"($x, $y)\")],renderers=[scatter])\n",
    "p.add_tools(hover)\n",
    "\n",
    "line=p.line(df['Tax Rate'], m*df['Tax Rate']+i, line_width=4, color='navy', alpha=0.1)\n",
    "hover0=HoverTool(tooltips = [(\"Set of Country\",'Trend in all developped countries')], renderers=[line])\n",
    "p.add_tools(hover0)\n",
    "\n",
    "# set the color bar tab\n",
    "color_bar = ColorBar(color_mapper=color_mapper, ticker=LogTicker(),\n",
    "                     label_standoff=12, border_line_color=None, location=(0,0))\n",
    "\n",
    "# set the color bar title\n",
    "color_bar_height = 511\n",
    "color_bar_width = 35\n",
    "\n",
    "color_bar_plot = figure(title=\"Real GDP per capita Legend Bar (USD)\", title_location=\"right\", \n",
    "                        height=color_bar_height, width=color_bar_width, \n",
    "                        toolbar_location=None, min_border=None, \n",
    "                        outline_line_color=None)\n",
    "\n",
    "\n",
    "# set the style of the title\n",
    "p.title.text_color = \"grey\"\n",
    "p.title.text_font = \"helvetica\"\n",
    "p.title.text_font_style = \"normal\"\n",
    "p.title.text_font_size = '11pt'\n",
    "\n",
    "# set the label options\n",
    "p.xaxis.axis_label='Tax Rate (%)'\n",
    "p.yaxis.axis_label='Number of Entities Offshore (log scale)'\n",
    "\n",
    "# add the color bar\n",
    "p.add_layout(color_bar, 'right')\n",
    "                        \n",
    "# remove the interactive toolbar\n",
    "p.toolbar.logo = None\n",
    "p.toolbar_location = None\n",
    "\n",
    "layout = row_plot(p, color_bar_plot)\n",
    "output_file(\"taxrate_developped.html\", title=\"taxrate_developped\")\n",
    "show(layout)\n"
   ]
  },
  {
   "cell_type": "markdown",
   "metadata": {},
   "source": [
    "### Days to open a  business"
   ]
  },
  {
   "cell_type": "markdown",
   "metadata": {},
   "source": [
    "Another parameter that could influence entities to go offshore is the number of days needed to open a busines. This parameter, in fact, is another indicator of business conditions in a country: the hypothesis is that entities go offshore in order to find better business conditions that the home country cannot offer them. "
   ]
  },
  {
   "cell_type": "code",
   "execution_count": null,
   "metadata": {},
   "outputs": [],
   "source": [
    "years=range(1990, 2018)\n",
    "years_count=np.array([])\n",
    "\n",
    "for year in years:\n",
    "    \n",
    "    years_count=np.append(years_count,df_ease_business[str(year)].notnull().sum())\n",
    "print ('Year with most data is', years[np.argmax(years_count)])"
   ]
  },
  {
   "cell_type": "markdown",
   "metadata": {},
   "source": [
    "In order to fully exploit the data, the average days to open a business for each country is computed over a time frame of 15 years; hence it is assumed that any change in days to open a business in this time range has not affected the number of entities going offshore in this time range."
   ]
  },
  {
   "cell_type": "code",
   "execution_count": null,
   "metadata": {},
   "outputs": [],
   "source": [
    "#df_countries_ease_business=pd.DataFrame({'Country Name':df_ease_business['Country Name'][df_ease_business['2015'].notnull()],'days_open_business':df_ease_business['2015'][df_ease_business['2013'].notnull()]})\n",
    "df_countries_ease_business=pd.DataFrame({'Country Name':df_ease_business['Country Name'],'days_open_business':df_ease_business.iloc[:,range(-15,0)].mean(axis=1,numeric_only=True)})\n",
    "df_countries_ease_business=df_countries_ease_business[df_countries_ease_business['days_open_business'].notnull()]"
   ]
  },
  {
   "cell_type": "markdown",
   "metadata": {},
   "source": [
    "A dataset with number of days to open a business and number of companies registered in the panama papers is made. However for this coefficient it was very hard to integrate the missing data values by using other sources. As a matter of fact the this analysis is limited to the countries which have the corporate tax rate values."
   ]
  },
  {
   "cell_type": "code",
   "execution_count": null,
   "metadata": {},
   "outputs": [],
   "source": [
    "country_count_ease_business=country_count_gdp.merge(df_countries_ease_business, how='outer',left_on='Country Name', right_on='Country Name')"
   ]
  },
  {
   "cell_type": "markdown",
   "metadata": {},
   "source": [
    "#### Small Developped Countries"
   ]
  },
  {
   "cell_type": "markdown",
   "metadata": {},
   "source": [
    "Again firstly the graph of days to open a business and presence in Panama Paper of small developped countries with high income per capita is plotted. In fact, by looking at these relationship it will be possible to understand if all small developped countries with high income per capita present favourable characteristics to go offshore.\n",
    "\n",
    "All the countries with GDP per capita `GDP_y`>30000 and a total GDP `GDP_x`< 200 billions USD have been considered.\n",
    "\n",
    "The GDP has been used as a weight for the count of entities offshore because the discrepancy between the size of the economies is really high.\n",
    "\n",
    "By observing the plot below some important considerations can be drawn; again the two set of countries can be identified: tax havens countries and small developped countries. The first ones are visibile since they have a very high number of offshore entities and the second group can be identified below. In this case it is not possible to determine whether days to open a business influence entities in countries to go offshore. Hence it seems that for this category of countries no dependency can be drawn. In fact even the regression line that should show a negative exponential relationship between days to open a business and number of entities in Panama Papers has a two tail test p-value of 0.837, which confirms the hypothesis that the slope of the line should be zero. "
   ]
  },
  {
   "cell_type": "code",
   "execution_count": null,
   "metadata": {},
   "outputs": [],
   "source": [
    "selection=country_count_ease_business['GDP_y'].apply(lambda x: x>30000) & country_count_ease_business['GDP_x'].apply(lambda x: x<200*10e9)\n",
    "\n",
    "x = np.log10(country_count_ease_business['days_open_business'][selection])\n",
    "y = np.log10(country_count_ease_business['n_companies_offshore'][selection]/country_count_ease_business['GDP_x'][selection])\n",
    "country_names=country_count_ease_business['Country Name'][selection]\n",
    "c = country_count_ease_business['GDP_x'][selection]\n",
    "c[c.isna()]=0\n",
    "\n",
    "# establish the color mapper schema\n",
    "color_mapper = LogColorMapper(palette=\"Colorblind3\", low=min(c),\\\n",
    "                              high=max(c))\n",
    "\n",
    "# establish the sources of data to make the interactive graph\n",
    "source=ColumnDataSource(data=dict(\n",
    "    x=list(x),\n",
    "    y=list(y),\n",
    "    country=list(country_names),\n",
    "    c=list(c),\n",
    "))\n",
    "\n",
    "    \n",
    "# set the regression line\n",
    "df=pd.DataFrame({'days_open_business':x,'n_companies_offshore':y})\n",
    "df=df.dropna(inplace=False)\n",
    "df=df[df['n_companies_offshore'].apply(lambda x: x<-8)]\n",
    "\n",
    "a=np.array(df['days_open_business'])\n",
    "b=np.array(df['n_companies_offshore'])\n",
    "\n",
    "m,i,r,p_value,std=stats.linregress(a,b)\n",
    "\n",
    "p = figure(title=\"Number of entities offshore vs days to open a business(Small developped countries)\", plot_width=800, plot_height=800)\n",
    "\n",
    "scatter=p.scatter(x='x', y='y', radius=0.01, source=source, color={'field': 'c', 'transform': color_mapper}, alpha=0.5)\n",
    "hover= HoverTool(tooltips = [(\"Country\", \"@country\"),(\"(Tax Rate, Log(number of entities offshore))\", \"($x, $y)\")],renderers=[scatter])\n",
    "p.add_tools(hover)\n",
    "\n",
    "\n",
    "line=p.line(df['days_open_business'], m*df['days_open_business']+i, line_width=4, color='navy', alpha=0.1)\n",
    "hover0=HoverTool(tooltips = [(\"Set of Country\",'Not tax havens countries, p-value='+str(p_value)[:5])], renderers=[line])\n",
    "p.add_tools(hover0)\n",
    "circle=p.circle(0.85, -7, size=370, color=\"navy\", alpha=0.1)\n",
    "hover1=HoverTool(tooltips = [(\"Set of Country\",'Tax havens')], renderers=[circle])\n",
    "p.add_tools(hover1)\n",
    "\n",
    "\n",
    "# set the style of the title\n",
    "p.title.text_color = \"grey\"\n",
    "p.title.text_font = \"helvetica\"\n",
    "p.title.text_font_style = \"normal\"\n",
    "p.title.text_font_size = '11pt'\n",
    "\n",
    "# set the label options\n",
    "p.xaxis.axis_label='Days to open a business'\n",
    "p.yaxis.axis_label='Number of Entities Offshore (log scale)'\n",
    "\n",
    "# add the color bar\n",
    "color_bar = ColorBar(color_mapper=color_mapper, ticker=LogTicker(),\n",
    "                     label_standoff=12, border_line_color=None, location=(20,0))\n",
    "\n",
    "# set the color bar title\n",
    "color_bar_height = 511\n",
    "color_bar_width = 35\n",
    "\n",
    "color_bar_plot = figure(title=\"Real GDP Legend Bar (USD)\", title_location=\"right\", \n",
    "                        height=color_bar_height, width=color_bar_width, \n",
    "                        toolbar_location=None, min_border=None, \n",
    "                        outline_line_color=None)\n",
    "\n",
    "p.add_layout(color_bar, 'right')\n",
    "\n",
    "# remove the interactive toolbar\n",
    "p.toolbar.logo = None\n",
    "p.toolbar_location = None\n",
    "\n",
    "layout = row_plot(p, color_bar_plot)\n",
    "output_file(\"daysbusinesssmalldeveloppedcountries.html\", title=\"daysbusinesssmalldeveloppedcountries\")\n",
    "show(layout)\n"
   ]
  },
  {
   "cell_type": "markdown",
   "metadata": {},
   "source": [
    "#### Developping Countries"
   ]
  },
  {
   "cell_type": "markdown",
   "metadata": {},
   "source": [
    "Secondly the graph of days to open a business and presence in Panama Paper of developping countries is plotted. BRICs countries have been considered, as well as all other countries which had a GDP greater than 40 billions USD a year. Also in this case the GDP has been used as a weight for the count of entities offshore because the discrepancy between the size of the economies is really high.\n",
    "\n",
    "By observing this graphs it is immediately clear that no conclusion can be drawn from the data: days to open a business is not a factor influencing in any manner entities in this category of countries to go offshore. "
   ]
  },
  {
   "cell_type": "code",
   "execution_count": null,
   "metadata": {},
   "outputs": [],
   "source": [
    "selection=country_count_ease_business['GDP_y'].apply(lambda x: x<15000) & country_count_ease_business['GDP_x'].apply(lambda x: x>40*10e9)\n",
    "\n",
    "x = np.log10(country_count_ease_business['days_open_business'][selection])\n",
    "y = np.log10(country_count_ease_business['n_companies_offshore'][selection]/country_count_ease_business['GDP_x'][selection])\n",
    "country_names=country_count_ease_business['Country Name'][selection]\n",
    "c = country_count_ease_business['GDP_x'][selection]\n",
    "c[c.isna()]=0\n",
    "\n",
    "# set the regression line\n",
    "df=pd.DataFrame({'days_open_business':x,'n_companies_offshore':y})\n",
    "df=df.dropna(inplace=False)\n",
    "a=np.array(df['days_open_business'])\n",
    "b=np.array(df['n_companies_offshore'])\n",
    "\n",
    "m,i,r,p,std=stats.linregress(a,b)\n",
    "\n",
    "# establish the color mapper schema\n",
    "color_mapper = LogColorMapper(palette=\"Colorblind4\", low=min(c),\\\n",
    "                              high=max(c))\n",
    "\n",
    "# establish the sources of data to make the interactive graph\n",
    "source=ColumnDataSource(data=dict(\n",
    "    x=list(x),\n",
    "    y=list(y),\n",
    "    country=list(country_names),\n",
    "    c=list(c),\n",
    "))\n",
    "\n",
    "p = figure(title=\"Number of entities offshore vs days to open a business (Major developping countries)\", plot_width=800, plot_height=800)\n",
    "scatter=p.scatter(x='x', y='y', radius=0.01, source=source, color={'field': 'c', 'transform': color_mapper}, alpha=0.5)\n",
    "hover= HoverTool(tooltips = [(\"Country\", \"@country\"),(\"(Tax Rate, Log(number of entities offshore))\", \"($x, $y)\")],renderers=[scatter])\n",
    "p.add_tools(hover)\n",
    "\n",
    "line=p.line(df['days_open_business'], m*df['days_open_business']+i, line_width=4, color='navy', alpha=0.1)\n",
    "hover0=HoverTool(tooltips = [(\"Set of Country\",'Developping countries')], renderers=[line])\n",
    "p.add_tools(hover0)\n",
    "\n",
    "# set the style of the title\n",
    "p.title.text_color = \"grey\"\n",
    "p.title.text_font = \"helvetica\"\n",
    "p.title.text_font_style = \"normal\"\n",
    "p.title.text_font_size = '11pt'\n",
    "\n",
    "# set the label options\n",
    "p.xaxis.axis_label='Days to open a business'\n",
    "p.yaxis.axis_label='Number of Entities Offshore (log scale)'\n",
    "\n",
    "\n",
    "# set the color bar tab\n",
    "color_bar = ColorBar(color_mapper=color_mapper, ticker=LogTicker(),\n",
    "                     label_standoff=12, border_line_color=None, location=(0,0))\n",
    "\n",
    "# set the color bar title\n",
    "color_bar_height = 511\n",
    "color_bar_width = 35\n",
    "\n",
    "color_bar_plot = figure(title=\"Real GDP Legend Bar (USD)\", title_location=\"right\", \n",
    "                        height=color_bar_height, width=color_bar_width, \n",
    "                        toolbar_location=None, min_border=None, \n",
    "                        outline_line_color=None)\n",
    "\n",
    "# add the color bar\n",
    "p.add_layout(color_bar, 'right')\n",
    "\n",
    "# remove the interactive toolbar\n",
    "p.toolbar.logo = None\n",
    "p.toolbar_location = None\n",
    "\n",
    "layout = row_plot(p, color_bar_plot)\n",
    "output_file(\"developpingcountriesdaysbusiness.html\", title=\"developpingcountriesdaysbusiness\")\n",
    "show(layout)"
   ]
  },
  {
   "cell_type": "markdown",
   "metadata": {},
   "source": [
    "#### Global Perspective"
   ]
  },
  {
   "cell_type": "markdown",
   "metadata": {},
   "source": [
    "Eventually by plotting all the developped countries together it is not possible to find a global clear relationship between number of days to open a business and number of entities in Panama Papers. Hence it can be concludede that the hypothesis established at the beginning of the analysis has been contradicted."
   ]
  },
  {
   "cell_type": "code",
   "execution_count": null,
   "metadata": {},
   "outputs": [],
   "source": [
    "selection=country_count_ease_business['GDP_y']>15000\n",
    "x=np.log10(country_count_ease_business['days_open_business'][selection])\n",
    "y=np.log10(country_count_ease_business['n_companies_offshore'][selection])\n",
    "radii=country_count_ease_business['GDP_x'][selection]*10e-15 #13\n",
    "country_names=country_count_ease_business['Country Name'][selection]\n",
    "# for colors\n",
    "c = country_count_ease_business['GDP_y'][selection]\n",
    "c[c.isna()]=0\n",
    "\n",
    "\n",
    "color_mapper = LogColorMapper(palette=\"Colorblind4\", low=min(c),\\\n",
    "                              high=max(c))\n",
    "\n",
    "source=ColumnDataSource(data=dict(\n",
    "    x=list(x),\n",
    "    y=list(y),\n",
    "    country=list(country_names),\n",
    "    radii=list(radii),\n",
    "    c=list(c),\n",
    "))\n",
    "\n",
    "\n",
    "# set the regression line\n",
    "df=pd.DataFrame({'days_open_business':x,'n_companies_offshore':y})\n",
    "df=df.dropna(inplace=False)\n",
    "\n",
    "a=np.array(df['days_open_business'])\n",
    "b=np.array(df['n_companies_offshore'])\n",
    "\n",
    "m,i,r,p_value,std=stats.linregress(a,b)\n",
    "\n",
    "p = figure(title=\"Number of entities offshore vs days to open a business (all developped countries)\", plot_width=800, plot_height=800)\n",
    "scatter=p.scatter(x='x', y='y', radius='radii', source=source, color={'field': 'c', 'transform': color_mapper}, alpha=0.5)\n",
    "hover= HoverTool(tooltips = [(\"Country\", \"@country\"),(\"(Tax Rate, Log(number of entities offshore))\", \"($x, $y)\")],renderers=[scatter])\n",
    "p.add_tools(hover)\n",
    "\n",
    "line=p.line(df['days_open_business'], m*df['days_open_business']+i, line_width=4, color='navy', alpha=0.1)\n",
    "hover0=HoverTool(tooltips = [(\"Set of Country\",'Trend in all developped countries, p-vaue='+str(p_value)[:5])], renderers=[line])\n",
    "p.add_tools(hover0)\n",
    "\n",
    "# set the color bar tab\n",
    "color_bar = ColorBar(color_mapper=color_mapper, ticker=LogTicker(),\n",
    "                     label_standoff=12, border_line_color=None, location=(0,0))\n",
    "\n",
    "# set the color bar title\n",
    "color_bar_height = 511\n",
    "color_bar_width = 35\n",
    "\n",
    "color_bar_plot = figure(title=\"Real GDP per capita Legend Bar (USD)\", title_location=\"right\", \n",
    "                        height=color_bar_height, width=color_bar_width, \n",
    "                        toolbar_location=None, min_border=None, \n",
    "                        outline_line_color=None)\n",
    "\n",
    "\n",
    "# set the style of the title\n",
    "p.title.text_color = \"grey\"\n",
    "p.title.text_font = \"helvetica\"\n",
    "p.title.text_font_style = \"normal\"\n",
    "p.title.text_font_size = '11pt'\n",
    "\n",
    "# set the label options\n",
    "p.xaxis.axis_label='Days to open a business'\n",
    "p.yaxis.axis_label='Number of Entities Offshore (log scale)'\n",
    "\n",
    "# add the color bar\n",
    "p.add_layout(color_bar, 'right')\n",
    "                        \n",
    "# remove the interactive toolbar\n",
    "p.toolbar.logo = None\n",
    "p.toolbar_location = None\n",
    "\n",
    "layout = row_plot(p, color_bar_plot)\n",
    "output_file(\"daysopenbusiness_developped.html\", title=\"daysopenbusiness_developped\")\n",
    "show(layout)"
   ]
  },
  {
   "cell_type": "markdown",
   "metadata": {},
   "source": [
    "### Time spent in regulations"
   ]
  },
  {
   "cell_type": "markdown",
   "metadata": {},
   "source": [
    "Finally the last parameter that was thought to be influencing the number of offshore entities per country is the time that entities spend for regulation. In fact this could be an important reason for which companies could be established in offshore jurisdiction."
   ]
  },
  {
   "cell_type": "code",
   "execution_count": null,
   "metadata": {},
   "outputs": [],
   "source": [
    "years=range(1990, 2018)\n",
    "years_count=np.array([])\n",
    "\n",
    "for year in years:\n",
    "    \n",
    "    years_count=np.append(years_count,df_time_regulation[str(year)].notnull().sum())\n",
    "print ('Year with most data is', years[np.argmax(years_count)])"
   ]
  },
  {
   "cell_type": "markdown",
   "metadata": {},
   "source": [
    "In order to fully exploit the data, the average time spent in regulation for each country is computed over a time frame of 15 years; hence it is assumed that any change in time spent in regulation in this time range has not affected the number of entities going offshore in this time range."
   ]
  },
  {
   "cell_type": "code",
   "execution_count": null,
   "metadata": {},
   "outputs": [],
   "source": [
    "df_time_regulation=pd.DataFrame({'Country Name':df_time_regulation['Country Name'],'time_regulation':df_time_regulation.iloc[:,range(-15,0)].mean(axis=1,numeric_only=True)})\n",
    "df_time_regulation=df_time_regulation[df_time_regulation['time_regulation'].notnull()]"
   ]
  },
  {
   "cell_type": "code",
   "execution_count": null,
   "metadata": {},
   "outputs": [],
   "source": [
    "df_time_regulation.head()"
   ]
  },
  {
   "cell_type": "code",
   "execution_count": null,
   "metadata": {},
   "outputs": [],
   "source": [
    "country_count_ease_regulation_time=country_count_gdp.merge(df_time_regulation, how='outer',left_on='Country Name', right_on='Country Name')"
   ]
  },
  {
   "cell_type": "markdown",
   "metadata": {},
   "source": [
    "Even though the investigation of the parameter could be very interesting, the data provided by World Bank are too sparse and they don't provide  information about many countries. Hence the analysis is jeopardized. "
   ]
  },
  {
   "cell_type": "code",
   "execution_count": null,
   "metadata": {
    "scrolled": true
   },
   "outputs": [],
   "source": [
    "country_count_ease_regulation_time[country_count_ease_regulation_time['time_regulation'].isna()]"
   ]
  },
  {
   "cell_type": "markdown",
   "metadata": {},
   "source": [
    "PLACE CONCLUSION OF THIS ANALYSIS MATCHING DATA STORY"
   ]
  },
  {
   "cell_type": "markdown",
   "metadata": {},
   "source": [
    "## 4) What are the consequences of offshore companies on income inequality?"
   ]
  },
  {
   "cell_type": "markdown",
   "metadata": {},
   "source": [
    "### Time dependence between entities presence in Panama Papers, economic indicators and GINI coefficient"
   ]
  },
  {
   "cell_type": "markdown",
   "metadata": {},
   "source": [
    "#### GINI coefficient: Global perspective "
   ]
  },
  {
   "cell_type": "markdown",
   "metadata": {},
   "source": [
    "One interesting fact that could be analysed is the time correlation between the number of Panama Papers during the years and the yearly development of other indicators such as GINI coefficient. "
   ]
  },
  {
   "cell_type": "markdown",
   "metadata": {},
   "source": [
    "To do so, the total database is considering for different purpose that will be later explained. Firstly, only the columns regarding the last $15$ years are considered and stored in ``df_GDP_w``. Then an average over these years is considered to obtain a single expression for each country and for mitigate the presence of missing value in the data. The column ``GDP_x`` is added with the mean and all the other columns are dropped."
   ]
  },
  {
   "cell_type": "code",
   "execution_count": null,
   "metadata": {
    "scrolled": true
   },
   "outputs": [],
   "source": [
    "cols=[0]+list(range(-17,-1))\n",
    "df_GDP_w=df_GDP_tot_raw.iloc[:,cols].copy()\n",
    "df_GDP_w['GDP_x'] = df_GDP_w.iloc[:,range(-15,0)].mean(axis=1,numeric_only=True)\n",
    "df_GDP_w=df_GDP_w.drop(df_GDP_w.columns[1:17],axis=1)\n",
    "#df_GDP_w"
   ]
  },
  {
   "cell_type": "markdown",
   "metadata": {},
   "source": [
    "Now, different filter can be applied to this data frame that will influence the final data plotted later because of the presence of different joins between the latter dataset and two others. The example showed considers only countries with a GDP higher that a threshold now set to the unrealistic value of $200$, so basically considering all countries present in the data frame. "
   ]
  },
  {
   "cell_type": "code",
   "execution_count": null,
   "metadata": {},
   "outputs": [],
   "source": [
    "df_GDP_w=df_GDP_w[df_GDP_w['GDP_x']>200]#*10e9]\n",
    "#df_GDP_w=df_GDP_w[df_GDP_w['Country Name']=='Cyprus']\n",
    "df_GDP_w.head()"
   ]
  },
  {
   "cell_type": "markdown",
   "metadata": {},
   "source": [
    "For counting the Panama Papers, the `` df_entity_raw`` is firstly joined with ``df_GDP_w`` to consider only countries previously filtered and then all the rows with $NaN$ are dropped. "
   ]
  },
  {
   "cell_type": "code",
   "execution_count": null,
   "metadata": {},
   "outputs": [],
   "source": [
    "df_entity_S2 = df_entity_raw.copy()\n",
    "df_entity_S2=df_entity_S2.merge(df_GDP_w, how='left',left_on='countries', right_on='Country Name')\n",
    "df_entity_S2=df_entity_S2[pd.notnull(df_entity_S2['GDP_x'])]\n",
    "#df_entity_S2"
   ]
  },
  {
   "cell_type": "markdown",
   "metadata": {},
   "source": [
    "Through converting the year column into index and use it through different function, the count of the number of entities of the countries considered going offshore yearly is calculated."
   ]
  },
  {
   "cell_type": "code",
   "execution_count": null,
   "metadata": {
    "scrolled": true
   },
   "outputs": [],
   "source": [
    "df_entity_S2.incorporation_date = pd.to_datetime(df_entity_S2.incorporation_date)\n",
    "df_entity_S2['Year'] = df_entity_S2.apply(lambda row: row['incorporation_date'].year, axis=1)\n",
    "series_panamas = df_entity_S2.groupby(['Year'], axis=0)['Year'].count()\n",
    "series_panamas.index = series_panamas.index.astype(int)"
   ]
  },
  {
   "cell_type": "markdown",
   "metadata": {},
   "source": [
    "Here the other country feature dataset is introduced (in this case `` df_gini``). The dataset is cleaned from useless columns and the filtering join with the GDP dataset is performed. "
   ]
  },
  {
   "cell_type": "code",
   "execution_count": null,
   "metadata": {
    "scrolled": true
   },
   "outputs": [],
   "source": [
    "series_var = df_gini.copy()\n",
    "series_var = series_var.drop(series_var.columns[1:4],axis=1).drop(series_var.columns[-1],axis=1)\n",
    "series_var=series_var.merge(df_GDP_w, how='inner',left_on='Country Name', right_on='Country Name')"
   ]
  },
  {
   "cell_type": "markdown",
   "metadata": {},
   "source": [
    "Now the latter data frame is average along the column direction, hence leaving all the years column. Different strategies were considered to make the latter average, as the purely arithmetic mean is not ideal. This is because different countries have very different weight in the world economy. One strategy was to use the GDP as weight of the country importance. This did not end up being a good solution as not all the values are available every year and so the absence of the value of a big country in one precise timestep would alter the result a lot. "
   ]
  },
  {
   "cell_type": "code",
   "execution_count": null,
   "metadata": {},
   "outputs": [],
   "source": [
    "series_var[series_var.columns[1:57]]=series_var[series_var.columns[1:57]]#.divide(series_var['GDP_x'], axis='rows')\n",
    "series_var=series_var[series_var.columns[1:57]]\n",
    "series_var = series_var.mean(axis=0, skipna=True)\n",
    "series_var.index = series_var.index.astype(int)"
   ]
  },
  {
   "cell_type": "markdown",
   "metadata": {},
   "source": [
    "Now the 2 resulting series are plotted in one graph with the following code. Only ear after 1979 are considered as before there is no significant yearly number of Panama Papers. The results are standardized with min-max standardization to plot them on a single graph and easily compared their trend and correlation."
   ]
  },
  {
   "cell_type": "code",
   "execution_count": null,
   "metadata": {
    "scrolled": true
   },
   "outputs": [],
   "source": [
    "series_panamas_cut = series_panamas[series_panamas.index>=1979]\n",
    "series_panamas_cut = (series_panamas_cut-series_panamas_cut.min())/(series_panamas_cut.max()-series_panamas_cut.min())\n",
    "series_var_cut=series_var[series_var.index>=1979]\n",
    "series_var_cut=(series_var_cut-series_var_cut.min())/(series_var_cut.max()-series_var_cut.min())\n",
    "df_plot = pd.concat([series_var_cut, series_panamas_cut], axis=1)\n",
    "df_plot.columns = [['Gini coefficient','Panama papers count']]"
   ]
  },
  {
   "cell_type": "code",
   "execution_count": null,
   "metadata": {},
   "outputs": [],
   "source": [
    "df_plot.plot(figsize=(9,4))"
   ]
  },
  {
   "cell_type": "code",
   "execution_count": null,
   "metadata": {
    "scrolled": true
   },
   "outputs": [],
   "source": [
    "plt.scatter(df_plot['Gini coefficient'], df_plot['Panama papers count'])"
   ]
  },
  {
   "cell_type": "markdown",
   "metadata": {},
   "source": [
    "The resulting plot that can be seen here above. It can be seen that, on a world scale, there is no clear correlation between the develop of the GINI and the number of worldwide entities in the Panama Papers. To confirm the hypothesis that a higher number of panama paper is a sign of more inequality in the world, the two parameters would be positively correlated, so showing similar trend. All the countries in the world are very different from each other and their behaviour in the Papers can be influenced by a lot of other covariates. A machine learning algorithm could be a nice solution to find some relation using more features, but it would be very limited by the small amount of point available (the number of world countries)."
   ]
  },
  {
   "cell_type": "code",
   "execution_count": null,
   "metadata": {},
   "outputs": [],
   "source": [
    "def series_var_processing(df,weighting):\n",
    "    series_var = df.copy()\n",
    "    series_var = series_var.drop(series_var.columns[1:4],axis=1).drop(series_var.columns[-1],axis=1)\n",
    "    series_var=series_var.merge(df_GDP_w, how='inner',left_on='Country Name', right_on='Country Name')\n",
    "    #Here the weighting of GINI is performed \n",
    "    if weighting:\n",
    "        series_var[series_var.columns[1:57]]=series_var[series_var.columns[1:57]].divide(series_var['GDP_x'], axis='rows')\n",
    "    series_var=series_var[series_var.columns[1:57]]\n",
    "    series_var = series_var.mean(axis=0, skipna=True)\n",
    "    series_var.index = series_var.index.astype(int)\n",
    "    series_panamas_cut = series_panamas[series_panamas.index>=1979]\n",
    "    series_panamas_cut = (series_panamas_cut-series_panamas_cut.min())/(series_panamas_cut.max()-series_panamas_cut.min())\n",
    "    series_var_cut=series_var[series_var.index>=1979]\n",
    "    return (series_var_cut-series_var_cut.min())/(series_var_cut.max()-series_var_cut.min())"
   ]
  },
  {
   "cell_type": "code",
   "execution_count": null,
   "metadata": {},
   "outputs": [],
   "source": [
    "series_var_cut=series_var_processing(df_gini,True)\n",
    "df_plot = pd.concat([series_var_cut, series_panamas_cut], axis=1)\n",
    "df_plot.columns = [['Gini coefficient','Panama papers count']]\n",
    "df_plot.plot(figsize=(9,4))"
   ]
  },
  {
   "cell_type": "markdown",
   "metadata": {},
   "source": [
    "In the graph above the same procedure as descripted above is used but this time the GINI coefficient is weighted by dividing it by the GDP. The scatter plot is not showed no consequent time dependence could be seen in that. In this occasion the result does not seem to show any relation. The weighting of the GINI moderates its fluctuations, but missing data creates outliers. A pseudo correlation can be noticed in the first $15 - 17$ years of the plot."
   ]
  },
  {
   "cell_type": "markdown",
   "metadata": {},
   "source": [
    "#### Corporate Tax Rate: Global perspective "
   ]
  },
  {
   "cell_type": "code",
   "execution_count": null,
   "metadata": {},
   "outputs": [],
   "source": [
    "series_var_cut=series_var_processing(df_tax_rate,False)\n",
    "df_plot = pd.concat([series_var_cut, series_panamas_cut], axis=1)\n",
    "df_plot.columns = [['Tax Rate','Panama papers count']]\n",
    "df_plot.plot(figsize=(9,4))"
   ]
  },
  {
   "cell_type": "markdown",
   "metadata": {},
   "source": [
    "For the Tax rate the same procedure applied before to the GINI is done but this time instead of GINI; tax rate is considered. No weighting is considered. As in the analsyis performed before, there is no clear intertemporal relationship between the presence of entities in the Panama Papers and the worldwide corporate tax rate."
   ]
  },
  {
   "cell_type": "markdown",
   "metadata": {},
   "source": [
    "#### GINI coefficient: G7 countries "
   ]
  },
  {
   "cell_type": "code",
   "execution_count": null,
   "metadata": {},
   "outputs": [],
   "source": [
    "df_GDP_w=df_GDP_tot_raw.iloc[:,cols].copy()\n",
    "df_GDP_w['GDP_x'] = df_GDP_w.iloc[:,range(-15,0)].mean(axis=1,numeric_only=True)\n",
    "df_GDP_w=df_GDP_w.drop(df_GDP_w.columns[1:17],axis=1)\n",
    "#Country filtering\n",
    "df_GDP_w=df_GDP_w[df_GDP_w['GDP_x']>200*10e9]\n",
    "df_entity_S2 = df_entity_raw.copy()\n",
    "df_entity_S2=df_entity_S2.merge(df_GDP_w, how='left',left_on='countries', right_on='Country Name')\n",
    "df_entity_S2=df_entity_S2[pd.notnull(df_entity_S2['GDP_x'])]\n",
    "df_entity_S2.incorporation_date = pd.to_datetime(df_entity_S2.incorporation_date)\n",
    "df_entity_S2['Year'] = df_entity_S2.apply(lambda row: row['incorporation_date'].year, axis=1)\n",
    "series_panamas = df_entity_S2.groupby(['Year'], axis=0)['Year'].count()\n",
    "series_panamas.index = series_panamas.index.astype(int)\n",
    "series_var_cut=series_var_processing(df_gini,False)\n",
    "df_plot = pd.concat([series_var_cut, series_panamas_cut], axis=1)\n",
    "df_plot.columns = [['Gini coefficient','Panama papers count']]\n",
    "df_plot.plot(figsize=(9,4))"
   ]
  },
  {
   "cell_type": "markdown",
   "metadata": {},
   "source": [
    "As previously mentioned, the countries can be filtered by GDP using the GDP database which used with the correct join can act as a filter also for the others. The result, as in the previous case of the Tax rate, is not very meaningful. The data frame analysed has a lot of missing data, hence showing a continuous trend of it just in the last 10 years. Moreover, even in this small period, no observed correlation can be observed."
   ]
  },
  {
   "cell_type": "markdown",
   "metadata": {},
   "source": [
    "PLACE CONCLUSION OF THIS ANALYSIS MATCHING DATA STORY"
   ]
  },
  {
   "cell_type": "markdown",
   "metadata": {},
   "source": [
    "#### OECD Corporate Tax: Amounts Lost"
   ]
  },
  {
   "cell_type": "markdown",
   "metadata": {},
   "source": [
    "A last piece of analysis is to come up with a hypothesized number for the amount of corporate tax revenue lost for a country **assuming that the companies offshore are evading home corporate tax.** It is very important that we assume this because it is difficult to prove that these companies are evading tax (though it is the main hypothesized reason).\n",
    "\n",
    "To do so, we obtained a [dataset from OECD](https://data.oecd.org/tax/tax-on-corporate-profits.htm) indicating the corporate tax rate % of GDP as well as a [dataset from NAICS](https://www.naics.com/business-lists/counts-by-country/) indicating the number of businesses per country. We can then calculate:\n",
    "\n",
    "$$\n",
    "Potential~Tax~Lost_{country} = \\frac{Corporate~Tax~Revenue_{country}}{Number~Businesses_{country}} \\times Number~ entities~in~PP_{country}\n",
    "$$\n",
    "\n"
   ]
  },
  {
   "cell_type": "code",
   "execution_count": null,
   "metadata": {},
   "outputs": [],
   "source": [
    "# loading data\n",
    "\n",
    "GDP_tot = 'API_NY.GDP.MKTP.CD_DS2_en_csv_v2_10224782.csv'\n",
    "corp_tax_rate = 'corp_tax_rate.csv'\n",
    "business_country = 'business_country.csv'\n",
    "\n",
    "GDP_tot_raw_df=pd.read_csv(DATA_FOLDER + GDP_tot,skiprows=4,low_memory=False)[['Country Name', '2015']]\n",
    "corp_tax_rate_df = pd.read_csv(DATA_FOLDER + corp_tax_rate)[['Location', '2015']]\n",
    "business_country_df = pd.read_csv(DATA_FOLDER + business_country)"
   ]
  },
  {
   "cell_type": "code",
   "execution_count": null,
   "metadata": {},
   "outputs": [],
   "source": [
    "# merging corp tax table with GDP table\n",
    "m1 = corp_tax_rate_df.merge(GDP_tot_raw_df, left_on='Location', \n",
    "                            right_on='Country Name', how='inner')\n",
    "\n",
    "# merging m1 with number of businesses table\n",
    "m2 = m1.merge(business_country_df, left_on='Location',\n",
    "             right_on='Country Name', how='inner')\n",
    "m2 = m2[['Location', '2015_x', '2015_y', 'Number of Businesses']]\n",
    "m2.columns = ['Location', '2015 Corp Tax Rate % of GDP', '2015 GDP', 'Number of Businesses']\n",
    "\n",
    "# calculating corporate tax revenue\n",
    "m2['Corporate Tax Revenue'] = m2['2015 Corp Tax Rate % of GDP'] * m2['2015 GDP'] / 100\n",
    "\n",
    "# calculating avg corp tax paid per business\n",
    "m2['Avg tax per business'] = m2['Corporate Tax Revenue'] / m2['Number of Businesses']\n",
    "\n",
    "# merge m2 with countries grouped by count of entries in Panama Papers\n",
    "country_entries = pd.DataFrame(df_entity_raw.countries.value_counts()).reset_index()\n",
    "country_entries.columns = ['Location', 'Count in PP']\n",
    "country_entries.loc[country_entries['Location'] == 'South Korea', 'Location'] = 'Korea, Rep.'\n",
    "m3 = m2.merge(country_entries, on='Location', how='inner')\n",
    "\n",
    "# calculate potential tax evasion\n",
    "m3['Potential Tax Lost'] = m3['Avg tax per business'] * m3['Count in PP']\n",
    "m3['Potential Real Corporate Tax Revenue'] = m3['Potential Tax Lost'] + m3['Corporate Tax Revenue']\n",
    "m3['% Tax Lost'] = m3['Potential Tax Lost'] / m3['Corporate Tax Revenue'] * 100"
   ]
  },
  {
   "cell_type": "code",
   "execution_count": null,
   "metadata": {
    "scrolled": true
   },
   "outputs": [],
   "source": [
    "m3.head(15)"
   ]
  },
  {
   "cell_type": "markdown",
   "metadata": {},
   "source": [
    "Now that the table has been created, we can make a plot to visualize the top countries who have the most potential corporate tax revenue lost. To make the graph more readible, we select the top 15 countries."
   ]
  },
  {
   "cell_type": "code",
   "execution_count": null,
   "metadata": {},
   "outputs": [],
   "source": [
    "m3.sort_values(['Potential Tax Lost'], inplace=True, ascending=False)\n",
    "plt.bar(m3.Location[:15], m3['Potential Tax Lost'][:15])\n",
    "plt.xticks(rotation=90)\n",
    "plt.ylabel('USD')\n",
    "plt.xlabel('Countries')\n",
    "plt.title('Potential Corporate Tax Revenue Loss')"
   ]
  },
  {
   "cell_type": "markdown",
   "metadata": {},
   "source": [
    "As seen from the graph, aside from Switzerland, many of the countries are not losing that much corporate tax revenue when compared to their actual corporate tax revenue. This may be because usually only large businesses with high profits have the motivation to transfer their money overseas, as they pay a larger percentages in home corporate tax. Thus they would average a higher `Avg tax per business` and consequently increase overall `Potential corporate tax loss`."
   ]
  },
  {
   "cell_type": "code",
   "execution_count": null,
   "metadata": {},
   "outputs": [],
   "source": []
  },
  {
   "cell_type": "code",
   "execution_count": null,
   "metadata": {},
   "outputs": [],
   "source": []
  },
  {
   "cell_type": "code",
   "execution_count": null,
   "metadata": {},
   "outputs": [],
   "source": []
  },
  {
   "cell_type": "code",
   "execution_count": null,
   "metadata": {},
   "outputs": [],
   "source": []
  },
  {
   "cell_type": "code",
   "execution_count": null,
   "metadata": {},
   "outputs": [],
   "source": []
  },
  {
   "cell_type": "markdown",
   "metadata": {},
   "source": [
    "# Old storyline for milestone 2"
   ]
  },
  {
   "cell_type": "markdown",
   "metadata": {},
   "source": [
    "**Investigate the role that the indicators 'Days to open a business', 'Tax rate', 'Time spent dealing with legal requirements', 'Ease of doing business coefficients' have in pushing entities and companies already to establish in countries which offer business friendly regulations**"
   ]
  },
  {
   "cell_type": "code",
   "execution_count": null,
   "metadata": {},
   "outputs": [],
   "source": [
    "country_count=pd.DataFrame(df_entity_raw['countries'].value_counts())"
   ]
  },
  {
   "cell_type": "markdown",
   "metadata": {},
   "source": [
    "Firstly a dataframe with the country and the respective number of entities in the Panama Papers is made. This is used as a base to subsequentially add information regarding the indicators."
   ]
  },
  {
   "cell_type": "code",
   "execution_count": null,
   "metadata": {
    "scrolled": true
   },
   "outputs": [],
   "source": [
    "country_count=country_count.rename(columns={'countries': 'n_companies_offshore'})\n",
    "country_count['Country Name']=country_count.index\n",
    "country_count=country_count.reset_index(drop=True)"
   ]
  },
  {
   "cell_type": "code",
   "execution_count": null,
   "metadata": {},
   "outputs": [],
   "source": [
    "country_count.head()"
   ]
  },
  {
   "cell_type": "markdown",
   "metadata": {},
   "source": [
    "In order to investigate the relationship between income inequality and number of entities in the Panama papers per country, the number of entities per country has to be weighted according to economical size: without doing so, big economies will automatically have a higher number of entities registered in the papers only because they are bigger. Hence GDP and GDP per capita are going to be used as weighting factor for the number of registered entities in papers, n: \n",
    "\n",
    "\\begin{equation*}\n",
    "n_{w}=\\frac{n}{GDP_{indicator}}\n",
    "\\end{equation*}"
   ]
  },
  {
   "cell_type": "code",
   "execution_count": null,
   "metadata": {},
   "outputs": [],
   "source": [
    "# name formatting \n",
    "df_gdp=df_GDP_tot_raw\n",
    "df_gdp_capita=df_GDP_cap_raw"
   ]
  },
  {
   "cell_type": "code",
   "execution_count": null,
   "metadata": {},
   "outputs": [],
   "source": [
    "df_countries_gdp_capita=pd.DataFrame({'Country Name':df_gdp_capita['Country Name'][df_gdp_capita['2014'].notnull()],'GDP':df_gdp_capita['2014'][df_gdp_capita['2014'].notnull()]})"
   ]
  },
  {
   "cell_type": "code",
   "execution_count": null,
   "metadata": {},
   "outputs": [],
   "source": [
    "df_countries_gdp=pd.DataFrame({'Country Name':df_gdp['Country Name'][df_gdp['2014'].notnull()],'GDP':df_gdp['2014'][df_gdp['2014'].notnull()]})"
   ]
  },
  {
   "cell_type": "code",
   "execution_count": null,
   "metadata": {},
   "outputs": [],
   "source": [
    "# count in panama papers and gdp is merged in one dataframe\n",
    "country_count_gdp=country_count.merge(df_countries_gdp, how='inner',left_on='Country Name', right_on='Country Name')"
   ]
  },
  {
   "cell_type": "code",
   "execution_count": null,
   "metadata": {},
   "outputs": [],
   "source": [
    "# count in panama papers and gdp per capita is merged in one dataframe\n",
    "country_count_gdp=country_count_gdp.merge(df_countries_gdp_capita, how='inner',left_on='Country Name', right_on='Country Name')"
   ]
  },
  {
   "cell_type": "code",
   "execution_count": null,
   "metadata": {},
   "outputs": [],
   "source": [
    "country_count_gdp.head()"
   ]
  },
  {
   "cell_type": "markdown",
   "metadata": {},
   "source": [
    "As highlighted initially, there is a chunck of entities/companies which are registered in Panama papers and which come already from countries with favorable business conditions. Hence it will be important to understand what are these favorable conditions. The year with most data regarding each indicator will be considered assuming that the change in each indicator in the last 10 years is irrelevant. In order to explore the role of each indicator, interactive plots are created to better investigate individually what are the conditions which push entities to go offshore."
   ]
  },
  {
   "cell_type": "markdown",
   "metadata": {},
   "source": [
    "#### Tax Rate"
   ]
  },
  {
   "cell_type": "markdown",
   "metadata": {},
   "source": [
    "Chances of having lower tax rates already push companies to have holdings in tax havens. Do greater tax rates correspond with higher income inequality?"
   ]
  },
  {
   "cell_type": "code",
   "execution_count": null,
   "metadata": {},
   "outputs": [],
   "source": [
    "years=range(1990, 2018)\n",
    "years_count=np.array([])\n",
    "\n",
    "for year in years:\n",
    "    \n",
    "    years_count=np.append(years_count,df_tax_weight[str(year)].notnull().sum())\n",
    "print ('Year with most data is', years[np.argmax(years_count)])"
   ]
  },
  {
   "cell_type": "code",
   "execution_count": null,
   "metadata": {},
   "outputs": [],
   "source": [
    "df_countries_tax=pd.DataFrame({'Country Name':df_tax_weight['Country Name'][df_tax_weight['2013'].notnull()],'Tax Rate':df_tax_weight['2013'][df_tax_weight['2013'].notnull()]})"
   ]
  },
  {
   "cell_type": "code",
   "execution_count": null,
   "metadata": {},
   "outputs": [],
   "source": [
    "df_countries_tax.head()"
   ]
  },
  {
   "cell_type": "markdown",
   "metadata": {},
   "source": [
    "The distribution of the tax rate overall is found"
   ]
  },
  {
   "cell_type": "code",
   "execution_count": null,
   "metadata": {
    "scrolled": true
   },
   "outputs": [],
   "source": [
    "sns.kdeplot(df_countries_tax['Tax Rate'], shade=True)"
   ]
  },
  {
   "cell_type": "markdown",
   "metadata": {},
   "source": [
    "A dataset with tax rate and number of companies registered in the panama papers is made."
   ]
  },
  {
   "cell_type": "code",
   "execution_count": null,
   "metadata": {},
   "outputs": [],
   "source": [
    "country_count_tax_rate=country_count_gdp.merge(df_countries_tax, how='inner',left_on='Country Name', right_on='Country Name')"
   ]
  },
  {
   "cell_type": "code",
   "execution_count": null,
   "metadata": {
    "scrolled": true
   },
   "outputs": [],
   "source": [
    "country_count_tax_rate.head()"
   ]
  },
  {
   "cell_type": "code",
   "execution_count": null,
   "metadata": {
    "scrolled": false
   },
   "outputs": [],
   "source": [
    "sns.jointplot(country_count_tax_rate['Tax Rate'],np.log10(country_count_tax_rate['n_companies_offshore']), kind=\"kdeplot\", n_levels=30)"
   ]
  },
  {
   "cell_type": "markdown",
   "metadata": {},
   "source": [
    "Below an interactive graph showing the relationship between the tax rate and the number of offshore entities is made to investigate a relationship between the two variables and look how each country behave."
   ]
  },
  {
   "cell_type": "code",
   "execution_count": null,
   "metadata": {},
   "outputs": [],
   "source": [
    "x = country_count_tax_rate['Tax Rate']\n",
    "y = np.log10(country_count_tax_rate['n_companies_offshore']/country_count_tax_rate['GDP_y'])\n",
    "#radii = possibility to add radii as a measure of the economy size\n",
    "\n",
    "source=ColumnDataSource(data=dict(\n",
    "    x=list(country_count_tax_rate['Tax Rate']),\n",
    "    y=list(np.log10(country_count_tax_rate['n_companies_offshore']/country_count_tax_rate['GDP_y'])),\n",
    "    country=list(country_count_tax_rate['Country Name']),\n",
    "))\n",
    "\n",
    "colors = [\n",
    "    \"#%02x%02x%02x\" % (int(r), int(g), 150) for r, g in zip(50+2*x, 30+2*y)\n",
    "]\n",
    "\n",
    "hover= HoverTool(tooltips = [(\"Country\", \"@country\"),(\"(Tax Rate, Logfrequency)\", \"($x, $y)\")])\n",
    "\n",
    "TOOLS=\"hover,crosshair,pan,wheel_zoom,zoom_in,zoom_out,box_zoom,undo,redo,reset,tap,save,box_select,poly_select,lasso_select,\"\n",
    "\n",
    "\n",
    "p = figure(tools=[hover])\n",
    "\n",
    "p.scatter(x='x', y='y', radius=1, source=source, fill_alpha=0.6)\n",
    "\n",
    "output_file(\"tax rate.html\", title=\"Tax Rate plot\")\n",
    "\n",
    "show(p)"
   ]
  },
  {
   "cell_type": "markdown",
   "metadata": {},
   "source": [
    "### Ease of Business coefficient"
   ]
  },
  {
   "cell_type": "markdown",
   "metadata": {},
   "source": [
    "Chances of having better business already push companies to have holdings in tax havens or semi tax haven countries such as Singapore, Switzerland or Hong Kong. How much weight does this coefficient have?"
   ]
  },
  {
   "cell_type": "code",
   "execution_count": null,
   "metadata": {},
   "outputs": [],
   "source": [
    "years=range(1990, 2018)\n",
    "years_count=np.array([])\n",
    "\n",
    "for year in years:\n",
    "    \n",
    "    years_count=np.append(years_count,df_ease_business[str(year)].notnull().sum())\n",
    "print ('Year with most data is', years[np.argmax(years_count)])"
   ]
  },
  {
   "cell_type": "code",
   "execution_count": null,
   "metadata": {},
   "outputs": [],
   "source": [
    "df_countries_ease_business=pd.DataFrame({'Country Name':df_ease_business['Country Name'][df_ease_business['2017'].notnull()],'days_open_business':df_ease_business['2017'][df_ease_business['2017'].notnull()]})"
   ]
  },
  {
   "cell_type": "code",
   "execution_count": null,
   "metadata": {},
   "outputs": [],
   "source": [
    "df_countries_ease_business.head()"
   ]
  },
  {
   "cell_type": "code",
   "execution_count": null,
   "metadata": {},
   "outputs": [],
   "source": [
    "country_count_ease_business=country_count_gdp.merge(df_countries_ease_business, how='inner',left_on='Country Name', right_on='Country Name')"
   ]
  },
  {
   "cell_type": "markdown",
   "metadata": {},
   "source": [
    "The distribution of the ease of business coefficients is found"
   ]
  },
  {
   "cell_type": "code",
   "execution_count": null,
   "metadata": {},
   "outputs": [],
   "source": [
    "country_count_ease_business['days_open_business'].plot(kind='hist')"
   ]
  },
  {
   "cell_type": "code",
   "execution_count": null,
   "metadata": {
    "scrolled": true
   },
   "outputs": [],
   "source": [
    "country_count_ease_business.head()"
   ]
  },
  {
   "cell_type": "markdown",
   "metadata": {},
   "source": [
    "A dataset with ease of business conditions and number of companies registered in the panama papers is made."
   ]
  },
  {
   "cell_type": "code",
   "execution_count": null,
   "metadata": {
    "scrolled": true
   },
   "outputs": [],
   "source": [
    "sns.jointplot(country_count_ease_business['days_open_business'],np.log10(country_count_ease_business['n_companies_offshore']), kind='kde')"
   ]
  },
  {
   "cell_type": "code",
   "execution_count": null,
   "metadata": {},
   "outputs": [],
   "source": [
    "x = country_count_ease_business['days_open_business']\n",
    "y = np.log10(country_count_ease_business['n_companies_offshore']/country_count_ease_business['GDP_y'])\n",
    "#radii = possibility to add radii as a measure of the economy size\n",
    "\n",
    "source=ColumnDataSource(data=dict(\n",
    "    x=list(country_count_ease_business['days_open_business']),\n",
    "    y=list(np.log10(country_count_ease_business['n_companies_offshore']/country_count_ease_business['GDP_y'])),\n",
    "    country=list(country_count_ease_business['Country Name']),\n",
    "))\n",
    "\n",
    "colors = [\n",
    "    \"#%02x%02x%02x\" % (int(r), int(g), 150) for r, g in zip(50+2*x, 30+2*y)\n",
    "]\n",
    "\n",
    "hover= HoverTool(tooltips = [(\"Country\", \"@country\"),(\"(days to open business, Logfrequency)\", \"($x, $y)\")])\n",
    "\n",
    "TOOLS=\"hover,crosshair,pan,wheel_zoom,zoom_in,zoom_out,box_zoom,undo,redo,reset,tap,save,box_select,poly_select,lasso_select,\"\n",
    "\n",
    "\n",
    "p = figure(tools=[hover])\n",
    "\n",
    "p.scatter(x='x', y='y', radius=1, source=source, fill_alpha=0.6)\n",
    "\n",
    "output_file(\"days_open_business.html\", title=\"Days open business plot\")\n",
    "\n",
    "show(p)"
   ]
  },
  {
   "cell_type": "markdown",
   "metadata": {},
   "source": [
    "#### Example of Gini Coefficient Analysis"
   ]
  },
  {
   "cell_type": "markdown",
   "metadata": {},
   "source": [
    "Finally an example of how the above mentioned coefficients will be used as weighting factors to investigate income inequality is given for tax rate."
   ]
  },
  {
   "cell_type": "code",
   "execution_count": null,
   "metadata": {},
   "outputs": [],
   "source": [
    "df_gini.head()"
   ]
  },
  {
   "cell_type": "code",
   "execution_count": null,
   "metadata": {},
   "outputs": [],
   "source": [
    "years=range(1990, 2018)\n",
    "years_count=np.array([])\n",
    "\n",
    "for year in years:\n",
    "    \n",
    "    years_count=np.append(years_count,df_gini[str(year)].notnull().sum())\n",
    "print ('Year with most data is', years[np.argmax(years_count)])"
   ]
  },
  {
   "cell_type": "code",
   "execution_count": null,
   "metadata": {},
   "outputs": [],
   "source": [
    "df_countries_gini=pd.DataFrame({'Country Name':df_gini['Country Name'][df_gini['2010'].notnull()],'Gini Coefficient':df_gini['2010'][df_gini['2010'].notnull()]})"
   ]
  },
  {
   "cell_type": "code",
   "execution_count": null,
   "metadata": {},
   "outputs": [],
   "source": [
    "df_countries_gini.head()"
   ]
  },
  {
   "cell_type": "code",
   "execution_count": null,
   "metadata": {},
   "outputs": [],
   "source": [
    "country_count_gini=country_count_gdp.merge(df_countries_gini, how='inner',left_on='Country Name', right_on='Country Name')"
   ]
  },
  {
   "cell_type": "code",
   "execution_count": null,
   "metadata": {},
   "outputs": [],
   "source": [
    "country_count_gini=country_count_gini.merge(df_countries_tax, how='inner',left_on='Country Name', right_on='Country Name')"
   ]
  },
  {
   "cell_type": "code",
   "execution_count": null,
   "metadata": {
    "scrolled": true
   },
   "outputs": [],
   "source": [
    "country_count_gini.head()"
   ]
  },
  {
   "cell_type": "markdown",
   "metadata": {},
   "source": [
    "The graph below shows that by taking account of multiple factors which influence a business to have an offshore holding and investigate the relationship with income inequality an interesting result arises. There seems to be a positive relationship between income inequality and presence in the panama papers. This suggests that even if entities move their capitals/businesses offshore without the intention of evading taxes, the discrepancy between the business conditions with their own home country can correlate with high income inequality. This is the case of some countris in Latin America such as Colombia, Uruguay, Ecuador, Costa Rica and Paraguay."
   ]
  },
  {
   "cell_type": "code",
   "execution_count": null,
   "metadata": {},
   "outputs": [],
   "source": [
    "x = country_count_gini['Gini Coefficient']\n",
    "y = np.log10(country_count_gini['n_companies_offshore']*country_count_gini['Tax Rate']/country_count_gini['GDP_y'])\n",
    "\n",
    "# radii = country_count_gini['Gini Coefficient']\n",
    "# radii=list(country_count_gini['Gini Coefficient']*0.05),\n",
    "\n",
    "source=ColumnDataSource(data=dict(\n",
    "    x=list(country_count_gini['Gini Coefficient']),\n",
    "    y=list(np.log10(country_count_gini['n_companies_offshore']*country_count_gini['Tax Rate']/country_count_gini['GDP_y'])),\n",
    "    country=list(country_count_gini['Country Name']),\n",
    "))\n",
    "\n",
    "colors = [\n",
    "    \"#%02x%02x%02x\" % (int(r), int(g), 150) for r, g in zip(50+2*x, 30+2*y)\n",
    "]\n",
    "\n",
    "hover= HoverTool(tooltips = [(\"Country\", \"@country\"),(\"(Gini, Logfrequency)\", \"($x, $y)\")])\n",
    "\n",
    "TOOLS=\"hover,crosshair,pan,wheel_zoom,zoom_in,zoom_out,box_zoom,undo,redo,reset,tap,save,box_select,poly_select,lasso_select,\"\n",
    "\n",
    "\n",
    "p = figure(tools=[hover])\n",
    "\n",
    "p.scatter(x='x', y='y', radius=1, source=source, fill_alpha=0.6)\n",
    "\n",
    "output_file(\"gini.html\", title=\"Gini Coefficient plot\")\n",
    "\n",
    "show(p)"
   ]
  },
  {
   "cell_type": "markdown",
   "metadata": {},
   "source": [
    "### Evolution in Time"
   ]
  },
  {
   "cell_type": "markdown",
   "metadata": {},
   "source": [
    "To answer the second question, we will look at the incorporation dates of different entities and groupby count by year to plot a time series chart."
   ]
  },
  {
   "cell_type": "code",
   "execution_count": null,
   "metadata": {},
   "outputs": [],
   "source": [
    "entity['Year'] = entity.apply(lambda row: row['incorporation_date'].year, axis=1)"
   ]
  },
  {
   "cell_type": "code",
   "execution_count": null,
   "metadata": {},
   "outputs": [],
   "source": [
    "series = entity.groupby(['Year'], axis=0)['Year'].count()"
   ]
  },
  {
   "cell_type": "code",
   "execution_count": null,
   "metadata": {
    "scrolled": true
   },
   "outputs": [],
   "source": [
    "x = series.index.tolist()\n",
    "y = series.tolist()\n",
    "\n",
    "plt.plot(x,y)\n",
    "plt.show()"
   ]
  },
  {
   "cell_type": "markdown",
   "metadata": {},
   "source": [
    "Thus we observe that the number of incorporations peaked between 20"
   ]
  }
 ],
 "metadata": {
  "kernelspec": {
   "display_name": "Python [conda env:anaconda3]",
   "language": "python",
   "name": "conda-env-anaconda3-py"
  },
  "language_info": {
   "codemirror_mode": {
    "name": "ipython",
    "version": 3
   },
   "file_extension": ".py",
   "mimetype": "text/x-python",
   "name": "python",
   "nbconvert_exporter": "python",
   "pygments_lexer": "ipython3",
   "version": "3.6.5"
  }
 },
 "nbformat": 4,
 "nbformat_minor": 2
}
