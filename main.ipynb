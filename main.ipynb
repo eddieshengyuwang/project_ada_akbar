{
 "cells": [
  {
   "cell_type": "code",
   "execution_count": 2,
   "metadata": {},
   "outputs": [],
   "source": [
    "# Import the necessary packages to perform the data analysis\n",
    "\n",
    "# packages to process and visualize the data\n",
    "import pandas as pd\n",
    "import numpy as np\n",
    "import seaborn as sns\n",
    "import scipy\n",
    "import matplotlib.pyplot as plt\n",
    "\n",
    "# import othe useful packages\n",
    "import os\n",
    "\n",
    "# packages to improve visual description and analysis\n",
    "from IPython.core import display as ICD\n",
    "pd.set_option('display.max_columns', 100)"
   ]
  },
  {
   "cell_type": "markdown",
   "metadata": {},
   "source": [
    "# Sociological Research\n",
    "\n",
    "**1)** Map the tax heavens jurisdiction in terms of the number of entities they have registered \n",
    "\n",
    "**2)** Map countries in the world according to how much they appear in the Panama Papers in terms of the entities\n",
    "\n",
    "**3)** Explore the GINI coefficient which is a measure of inequality: what is the correlation between counts and gini?\n",
    "\n",
    "**4)** Explore the HDI coefficient which is a measure of development: what is the correlation between counts and HDI?\n",
    "\n",
    "**5)** Explore the indices of informal sector, organized crime coefficient which is a measure of inequality: what is the correlation between counts and these indicators?"
   ]
  },
  {
   "cell_type": "markdown",
   "metadata": {},
   "source": [
    "# Economical Research\n",
    "\n",
    "**1)** Find how many companies in Fortune 2000 are involved in Panama Papers, present the top rank in the result.\n",
    "\n",
    "**2)** Timeline of number of leaked papers over the years (graph). Try to extrapolate a tendecy in this phenomena.\n",
    "\n",
    "**3)** Amount of lost capital for a country due to tax evasion.\n"
   ]
  },
  {
   "cell_type": "code",
   "execution_count": null,
   "metadata": {},
   "outputs": [],
   "source": []
  }
 ],
 "metadata": {
  "kernelspec": {
   "display_name": "Python [conda env:anaconda3]",
   "language": "python",
   "name": "conda-env-anaconda3-py"
  },
  "language_info": {
   "codemirror_mode": {
    "name": "ipython",
    "version": 3
   },
   "file_extension": ".py",
   "mimetype": "text/x-python",
   "name": "python",
   "nbconvert_exporter": "python",
   "pygments_lexer": "ipython3",
   "version": "3.6.5"
  }
 },
 "nbformat": 4,
 "nbformat_minor": 2
}
