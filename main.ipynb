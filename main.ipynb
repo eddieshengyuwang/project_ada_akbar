{
 "cells": [
  {
   "cell_type": "markdown",
   "metadata": {},
   "source": [
    "# THE PANAMA PAPERS"
   ]
  },
  {
   "cell_type": "markdown",
   "metadata": {},
   "source": [
    "## Link to data story\n",
    "The data story can be found at [this link](https://ada-akbar.github.io/2018/12/13/panama-papers.html)"
   ]
  },
  {
   "cell_type": "code",
   "execution_count": 1,
   "metadata": {},
   "outputs": [],
   "source": [
    "# Import the necessary packages to perform the data analysis\n",
    "\n",
    "# packages to process and visualize the data\n",
    "import pandas as pd\n",
    "import numpy as np\n",
    "import seaborn as sns\n",
    "import scipy\n",
    "import matplotlib.pyplot as plt\n",
    "from scipy import stats\n",
    "\n",
    "# import othe useful packages\n",
    "import os\n",
    "from geopy.geocoders import Nominatim\n",
    "from math import pi\n",
    "import math\n",
    "from bokeh.plotting import figure, show, output_file, ColumnDataSource\n",
    "from bokeh.models import HoverTool, LogColorMapper, LogTicker, ColorBar\n",
    "from bokeh.layouts import row as row_plot\n",
    "from bokeh.io import export_png\n",
    "\n",
    "# packages to improve visual description and analysis\n",
    "from IPython.core.display import display\n",
    "pd.set_option('display.max_columns', 100)"
   ]
  },
  {
   "cell_type": "code",
   "execution_count": 2,
   "metadata": {},
   "outputs": [],
   "source": [
    "# Getting file names\n",
    "\n",
    "DATA_FOLDER = './data/'\n",
    "\n",
    "# Panama papers data\n",
    "edges_csv = 'panama_papers.edges.csv'\n",
    "intermediary_csv = 'panama_papers.nodes.intermediary.csv' # company or individuals\n",
    "address_csv = 'panama_papers.nodes.address.csv'\n",
    "officer_csv = 'panama_papers.nodes.officer.csv'\n",
    "entity_csv = 'panama_papers.nodes.entity.csv' # tax haven companies\n",
    "entity_csv_mod = 'panama_papers_modified.nodes.entity.csv'"
   ]
  },
  {
   "cell_type": "markdown",
   "metadata": {},
   "source": [
    "The followings are the additional datasets used for the investigation taken in the [World Bank Dataset](https://data.worldbank.org):\n",
    "\n",
    "- `API_SI.POV.GINI_DS2_en_csv_v2_10224868.csv`, is the GINI coefficient per country\n",
    "\n",
    "- `API_NY.GDP.MKTP.CD_DS2_en_csv_v2_10224782.csv`, is the GDP per country\n",
    "\n",
    "- `API_NY.GDP.PCAP.CD_DS2_en_csv_v2_10224851.csv`, is the GDP per capita per country\n",
    "\n",
    "- `API_IC.GOV.DURS.ZS_DS2_en_csv_v2_10230883.csv`, is the time spent by business in government regulation per country\n",
    "\n",
    "- `API_GC.TAX.YPKG.RV.ZS_DS2_en_csv_v2_10227627.csv`, is the tax rate on income, profits and capital gains per country\n",
    "\n",
    "- `API_IC.REG.DURS_DS2_en_csv_v2_10225592.csv`, days to open a business\n",
    "\n",
    "Every dataset is divided in n rows as many countries in the world and p columns for a range p of years usually going from the sixties to 2018. Hence each column represent the indicator per year. Not all countries have an indicator each year. Examples are given in the notebook."
   ]
  },
  {
   "cell_type": "code",
   "execution_count": 3,
   "metadata": {},
   "outputs": [],
   "source": [
    "#World Bank dataset\n",
    "GINI_coeff = 'API_SI.POV.GINI_DS2_en_csv_v2_10224868.csv'\n",
    "GDP_tot = 'API_NY.GDP.MKTP.CD_DS2_en_csv_v2_10224782.csv'\n",
    "GDP_cap = 'API_NY.GDP.PCAP.CD_DS2_en_csv_v2_10224851.csv'\n",
    "time_spent_by_bus = 'API_IC.GOV.DURS.ZS_DS2_en_csv_v2_10230883.csv'\n",
    "tax_rate = 'API_GC.TAX.YPKG.RV.ZS_DS2_en_csv_v2_10227627.csv'\n",
    "days_open_business='API_IC.REG.DURS_DS2_en_csv_v2_10225592.csv'"
   ]
  },
  {
   "cell_type": "markdown",
   "metadata": {},
   "source": [
    "The followings are the additional datasets used for the investigation taken in the [Organisation for Economic Co-operation and Development (OECD) database](https://data.oecd.org/):\n",
    "\n",
    "- `corp_tax_rate.csv`, is the corporate tax rate per country from 2000\n",
    "\n",
    "- `business_country.csv`, in the number of businesses per country\n",
    "\n",
    "In this case only the corporate tax rate has different columns, with different data for every year."
   ]
  },
  {
   "cell_type": "code",
   "execution_count": 4,
   "metadata": {},
   "outputs": [],
   "source": [
    "#OECD dataset\n",
    "corp_tax_rate = 'corp_tax_rate.csv'\n",
    "business_country = 'business_country.csv'"
   ]
  },
  {
   "cell_type": "code",
   "execution_count": 5,
   "metadata": {},
   "outputs": [],
   "source": [
    "# Importing the Panama Papers data into DataFrames\n",
    "df_edges_raw = pd.read_csv(DATA_FOLDER + edges_csv,low_memory=False)\n",
    "df_address_raw = pd.read_csv(DATA_FOLDER + address_csv,low_memory=False)\n",
    "df_entity_raw = pd.read_csv(DATA_FOLDER + entity_csv,low_memory=False)\n",
    "df_intermediary_raw = pd.read_csv(DATA_FOLDER + intermediary_csv,low_memory=False)\n",
    "df_officier_raw = pd.read_csv(DATA_FOLDER + officer_csv,low_memory=False)\n",
    "df_entity_mod_raw = pd.read_csv(DATA_FOLDER + entity_csv_mod,low_memory=False,encoding = \"ISO-8859-1\")"
   ]
  },
  {
   "cell_type": "code",
   "execution_count": 6,
   "metadata": {},
   "outputs": [],
   "source": [
    "#Importing World Bank Data\n",
    "df_GDP_tot_raw=pd.read_csv(DATA_FOLDER + GDP_tot,skiprows=4)\n",
    "df_GDP_cap_raw=pd.read_csv(DATA_FOLDER + GDP_cap,skiprows=4)\n",
    "df_tax_rate=pd.read_csv(DATA_FOLDER+tax_rate, skiprows=4)\n",
    "df_ease_business=pd.read_csv(DATA_FOLDER+days_open_business,skiprows=4)\n",
    "df_gini=pd.read_csv(DATA_FOLDER+GINI_coeff, skiprows=4)\n",
    "df_time_regulation=pd.read_csv(DATA_FOLDER+days_open_business, skiprows=4)"
   ]
  },
  {
   "cell_type": "code",
   "execution_count": 7,
   "metadata": {},
   "outputs": [],
   "source": [
    "#Importing OECD Data\n",
    "corp_tax_rate_df = pd.read_csv(DATA_FOLDER + corp_tax_rate)\n",
    "business_country_df = pd.read_csv(DATA_FOLDER + business_country)"
   ]
  },
  {
   "cell_type": "markdown",
   "metadata": {},
   "source": [
    "# Preliminary data wrangling"
   ]
  },
  {
   "cell_type": "markdown",
   "metadata": {},
   "source": [
    "## Handling data size\n",
    "\n",
    "First we will answer the question of whether we can handle the data in size."
   ]
  },
  {
   "cell_type": "code",
   "execution_count": 8,
   "metadata": {},
   "outputs": [
    {
     "name": "stdout",
     "output_type": "stream",
     "text": [
      "Edges shape:  (674102, 8)\n",
      "Intermediary shape:  (14110, 8)\n",
      "Address shape:  (93454, 8)\n",
      "Officer shape:  (238402, 7)\n",
      "Entity shape:  (213634, 17)\n"
     ]
    }
   ],
   "source": [
    "# Printing shapes of each DataFrame to see if any are too large\n",
    "\n",
    "print(\"Edges shape: \", df_edges_raw.shape)\n",
    "print(\"Intermediary shape: \", df_intermediary_raw.shape)\n",
    "print(\"Address shape: \", df_address_raw.shape)\n",
    "print(\"Officer shape: \", df_officier_raw.shape)\n",
    "print(\"Entity shape: \", df_entity_raw.shape)"
   ]
  },
  {
   "cell_type": "markdown",
   "metadata": {},
   "source": [
    "From above, we see that the DataFrame with the most number of rows is around 670,000 rows of data. In total the size of the Panama Papers dataset is around 352 MB, which is small enough for Jupyter Notebook and Pandas to handle effectively. Thus the data can definitely be handled within our approach of using purely a notebook. "
   ]
  },
  {
   "cell_type": "markdown",
   "metadata": {},
   "source": [
    "## Understanding the data\n",
    "\n",
    "Next we understand the data. Although the dataset is downloaded within `csv` format, the data is curated to work well within a graph database (specifically Neo4j as mentioned on the Panama Papers website). Here, the `Edges` table represents the edge connections within a graph database whereas all the other tables (`Intermediary`, `Address`, etc) are nodes within the graph. For example:"
   ]
  },
  {
   "cell_type": "code",
   "execution_count": 9,
   "metadata": {},
   "outputs": [
    {
     "data": {
      "text/html": [
       "<div>\n",
       "<style scoped>\n",
       "    .dataframe tbody tr th:only-of-type {\n",
       "        vertical-align: middle;\n",
       "    }\n",
       "\n",
       "    .dataframe tbody tr th {\n",
       "        vertical-align: top;\n",
       "    }\n",
       "\n",
       "    .dataframe thead th {\n",
       "        text-align: right;\n",
       "    }\n",
       "</style>\n",
       "<table border=\"1\" class=\"dataframe\">\n",
       "  <thead>\n",
       "    <tr style=\"text-align: right;\">\n",
       "      <th></th>\n",
       "      <th>START_ID</th>\n",
       "      <th>TYPE</th>\n",
       "      <th>END_ID</th>\n",
       "      <th>link</th>\n",
       "      <th>start_date</th>\n",
       "      <th>end_date</th>\n",
       "      <th>sourceID</th>\n",
       "      <th>valid_until</th>\n",
       "    </tr>\n",
       "  </thead>\n",
       "  <tbody>\n",
       "    <tr>\n",
       "      <th>0</th>\n",
       "      <td>10000035</td>\n",
       "      <td>registered_address</td>\n",
       "      <td>14095990</td>\n",
       "      <td>registered address</td>\n",
       "      <td>NaN</td>\n",
       "      <td>NaN</td>\n",
       "      <td>Panama Papers</td>\n",
       "      <td>NaN</td>\n",
       "    </tr>\n",
       "  </tbody>\n",
       "</table>\n",
       "</div>"
      ],
      "text/plain": [
       "   START_ID                TYPE    END_ID                link start_date  \\\n",
       "0  10000035  registered_address  14095990  registered address        NaN   \n",
       "\n",
       "  end_date       sourceID valid_until  \n",
       "0      NaN  Panama Papers         NaN  "
      ]
     },
     "metadata": {},
     "output_type": "display_data"
    }
   ],
   "source": [
    "display(df_edges_raw.head(1))"
   ]
  },
  {
   "cell_type": "markdown",
   "metadata": {},
   "source": [
    "To interpret this row in the `Edges` table, the `START_ID` and `END_ID` represent the node ids that the edge is connected to. But the node ids can correspond to any of `Intermediary, Address, Officer, Entity`, which may prove to be difficult in SQL or Pandas merging as we will have to look up the node id in every other table. One solution would be to use Neo4j and the Cypher querying language, which can be used to easily interpret the above information. Below we can see clearly that the start node is an Entity named *CARPENTER NELSON & CO., LTD* and the end node is an Address named *EUROFIN SERVICES S.A. P.O.BOX  6003 LAUSANNE 1002, VAUD SWITZERLAND* and the relationship type is *registered address*.\n",
    "\n",
    "<img src=\"ex_query1.png\" height=\"400\" width=\"1000\">"
   ]
  },
  {
   "cell_type": "markdown",
   "metadata": {},
   "source": [
    "For the purposes of our project, we may not even need to use Neo4j to answer our queries. However we have done the above analyis to identify the format of our data, which is crucial because if we do require a certain query, we understand how we can leverage different tools to achieve our goals.\n",
    "\n",
    "## Data Cleaning\n",
    "\n",
    "We see that `Edges` Dataframe and `Entity` Dataframe have mixed datatypes in their columns so we will inspect those more clearly. "
   ]
  },
  {
   "cell_type": "code",
   "execution_count": 10,
   "metadata": {},
   "outputs": [
    {
     "name": "stdout",
     "output_type": "stream",
     "text": [
      "[2500, 2205, 2201, 2099, 2088, 2088, 2020, 2019, 2015, 2015, 2015, 2015, 2015, 2015, 2015, 2015, 2015, 2015, 2015, 2015]\n",
      "[1974, 1973, 1973, 1972, 1968, 1966, 1965, 1959, 1957, 1957, 1194, 214, 213, 213, 206, 203, 202, 201, 201, 201, 200, 200, 200, 200, 200, 200, 200, 200, 199, 199, 96, 95, 82, 15, 14, 12, 12, 12, 12, 12, 12, 12, 12, 11, 9, 9, 6, 6, 4, 3]\n"
     ]
    }
   ],
   "source": [
    "start_dates = df_edges_raw.start_date.unique()[1:]\n",
    "start_dates = sorted(list(map(lambda x: int(x[-4:]), start_dates)), reverse=True)\n",
    "print(start_dates[:20])\n",
    "print(start_dates[-50:])"
   ]
  },
  {
   "cell_type": "markdown",
   "metadata": {},
   "source": [
    "We first see that the start_date and end_date columns in `Edges` have dates that are nonsensical, such as years that are well before/after 2015. Upon consideration of our research questions, we decide to drop the date columns from `Edges` as well as the Note column in `Entity` (For our research question of timeline of leaked papers, we will need to use the `Entity['incorporation_date']` column)."
   ]
  },
  {
   "cell_type": "code",
   "execution_count": 11,
   "metadata": {},
   "outputs": [],
   "source": [
    "edges = df_edges_raw.drop(columns=['start_date', 'end_date'])\n",
    "entity = df_entity_raw.drop(columns=['note'])"
   ]
  },
  {
   "cell_type": "markdown",
   "metadata": {},
   "source": [
    "Furthermore, we see that the `Entity['incorporation_date']` column have acceptable ranges below so we will convert that column from type object to date."
   ]
  },
  {
   "cell_type": "code",
   "execution_count": 12,
   "metadata": {
    "scrolled": false
   },
   "outputs": [
    {
     "name": "stdout",
     "output_type": "stream",
     "text": [
      "['01-APR-1975' '01-APR-1977' '01-APR-1981' ... '31-OCT-2013' '31-OCT-2014'\n",
      " nan]\n"
     ]
    }
   ],
   "source": [
    "print(entity['incorporation_date'].sort_values().unique())\n",
    "entity.incorporation_date = pd.to_datetime(entity.incorporation_date)"
   ]
  },
  {
   "cell_type": "markdown",
   "metadata": {},
   "source": [
    "## Countries' names formatting"
   ]
  },
  {
   "cell_type": "markdown",
   "metadata": {},
   "source": [
    "Eventually it is important to mention that a number of countries had different spelling in the World Bank data relatively to the names given in the Panama Papers. Hence since the number of these incongruencies was lower than 15, the names were changed manually in the Panama Paper document excel. On top of that certain small countries/islands didn't have data relative to the GDP singularly and they were included by the World Bank in bigger group of countries: for example Jersey and Guernsey are included under the name 'Channel Islands' in the World Bank dataset. Hence the names were changed in the Panama Papers dataset. The new `df_entity_mod_raw` dataframe was not considered in the first analysis because no integration with other databases was performed. "
   ]
  },
  {
   "cell_type": "markdown",
   "metadata": {},
   "source": [
    "# The Panama Papers"
   ]
  },
  {
   "cell_type": "markdown",
   "metadata": {},
   "source": [
    "The Panama Papers are leaked documents that detail financial and attorney–client information for offshore entities. The documents were created by, and taken from, Panamanian law firm and corporate service provider Mossack Fonseca, and were leaked in 2015 by an anonymous source.\n",
    "\n",
    "As shown by the exploratory analysis, the entity document of the Panama Papers is very interesting: it provides a macroscopic view of how many entities per countries are involved in settling companies offshore or funds offshore. The reasons behind making an offshore company are multiple: setting a company offshore is not a crime, but it can be an indication that the business condition in the home country are not always favorable from a privacy point of view, from a bureaucratic point of view and from a tax point of view. Hence it is crucial to understand why entities decide to set their companies offshore and what is the consequence on the home country from a wealth distribution point of view. To carry out this investigation a set of questions which provide a guideline for this analysis are going to be answered:\n",
    "\n",
    "**1)** Which are the jurisdictions in which entities found in Panama papers are registered?\n",
    "\n",
    "**2)** What countries have the most entities register in the Panama papers?\n",
    "\n",
    "**3)** What drives entities to go offshore and consequently how does that affect the country? \n",
    "\n",
    "**4)** What are the consequences of offshore companies on income inequality? "
   ]
  },
  {
   "cell_type": "markdown",
   "metadata": {},
   "source": [
    "## 1) Which are the jurisdictions in which entities found in Panama papers are registered?"
   ]
  },
  {
   "cell_type": "markdown",
   "metadata": {},
   "source": [
    "Here the jurisdiction column of the entity file is considered. It represents the county where the offshore entity is register."
   ]
  },
  {
   "cell_type": "code",
   "execution_count": 13,
   "metadata": {},
   "outputs": [
    {
     "data": {
      "text/plain": [
       "array(['Samoa', 'Panama', 'Nevada', 'United Kingdom', 'Singapore',\n",
       "       'Ras Al Khaimah', 'Isle Of Man', 'British Anguilla', 'Seychelles',\n",
       "       'Niue', 'Uruguay', 'British Virgin Islands', 'Hong Kong',\n",
       "       'New Zealand', 'Bahamas', 'Cyprus', 'Malta', 'Belize', 'Jersey',\n",
       "       'Wyoming', 'Costa Rica'], dtype=object)"
      ]
     },
     "execution_count": 13,
     "metadata": {},
     "output_type": "execute_result"
    }
   ],
   "source": [
    "df_entity_raw['jurisdiction_description'].unique()"
   ]
  },
  {
   "cell_type": "markdown",
   "metadata": {},
   "source": [
    "To better represent all the country present on different graph, all the countries appearing less times than a certain number called here threshold are grouped and considered in following steps as `Others`."
   ]
  },
  {
   "cell_type": "code",
   "execution_count": 14,
   "metadata": {
    "scrolled": true
   },
   "outputs": [
    {
     "data": {
      "text/plain": [
       "British Virgin Islands    113648\n",
       "Panama                     48360\n",
       "Bahamas                    15915\n",
       "Seychelles                 15182\n",
       "Niue                        9611\n",
       "Samoa                       5307\n",
       "British Anguilla            3253\n",
       "Nevada                      1260\n",
       "Others                      1098\n",
       "Name: jurisdiction_description, dtype: int64"
      ]
     },
     "execution_count": 14,
     "metadata": {},
     "output_type": "execute_result"
    }
   ],
   "source": [
    "threshold1=1000\n",
    "df_entity_S1=df_entity_raw.copy()\n",
    "vc=df_entity_S1.jurisdiction_description.value_counts()\n",
    "tax_havens_L=list(vc[vc > threshold1].index)\n",
    "tax_havens_S=list(vc[vc <= threshold1].index)\n",
    "df_entity_S1.loc[~df_entity_S1.jurisdiction_description.isin(tax_havens_L), 'jurisdiction_description'] = 'Others'\n",
    "df_entity_S1.jurisdiction_description.value_counts()"
   ]
  },
  {
   "cell_type": "markdown",
   "metadata": {},
   "source": [
    "A simple histogram is plotted. Logarithmic scale on the $y-axis$ is later applied noticed an approximated exponential distribution. It could be an interesting aspect to investigate. "
   ]
  },
  {
   "cell_type": "code",
   "execution_count": 15,
   "metadata": {
    "scrolled": true
   },
   "outputs": [
    {
     "name": "stdout",
     "output_type": "stream",
     "text": [
      "Countries in Others category are:  ['Hong Kong', 'United Kingdom', 'Belize', 'Costa Rica', 'Cyprus', 'Uruguay', 'New Zealand', 'Jersey', 'Wyoming', 'Malta', 'Isle Of Man', 'Ras Al Khaimah', 'Singapore']\n"
     ]
    },
    {
     "data": {
      "image/png": "[encoded data removed]",
      "text/plain": [
       "<Figure size 432x288 with 1 Axes>"
      ]
     },
     "metadata": {
      "needs_background": "light"
     },
     "output_type": "display_data"
    }
   ],
   "source": [
    "df_entity_S1.jurisdiction_description.value_counts().plot(kind='bar',title='Jurisdiction description', logy=True)\n",
    "print('Countries in Others category are: ',tax_havens_S)"
   ]
  },
  {
   "cell_type": "markdown",
   "metadata": {},
   "source": [
    "Finally, we output a world map to better visualize all the jurisdictions that have offshore entities registered. First we find the latitude and longitude of all jurisdictions with help of the `Geopy` library."
   ]
  },
  {
   "cell_type": "code",
   "execution_count": 16,
   "metadata": {},
   "outputs": [],
   "source": [
    "jurisdiction_df = pd.DataFrame(df_entity_raw.jurisdiction_description.value_counts())\n",
    "jurisdiction_df.reset_index(inplace=True)\n",
    "jurisdiction_df.columns = [\"Area\", \"Count\"]\n",
    "\n",
    "# getting long, lat for all jurisdictions\n",
    "geolocator = Nominatim(user_agent='ADA_AKBAR')\n",
    "j_lat = []\n",
    "j_long = []\n",
    "\n",
    "for ind, row in jurisdiction_df.iterrows():\n",
    "    if row['Area'] == 'British Anguilla':\n",
    "        location = geolocator.geocode('Anguilla')\n",
    "    else:\n",
    "        location = geolocator.geocode(row['Area'])\n",
    "    j_lat.append(location.latitude)\n",
    "    j_long.append(location.longitude)\n",
    "\n",
    "jurisdiction_df['Latitude'] = j_lat\n",
    "jurisdiction_df['Longitude'] = j_long"
   ]
  },
  {
   "cell_type": "markdown",
   "metadata": {},
   "source": [
    "Next to plot on Bokeh, we use the Mercator Projection, which converts longitude and latitude coordinates onto the Cartesian grid so that Bokeh can successfully represent them in the plot. The equation for the Mercator Projection is:\n",
    "\n",
    "![merc](proj_jekyll/img/merc.png)"
   ]
  },
  {
   "cell_type": "code",
   "execution_count": 17,
   "metadata": {},
   "outputs": [],
   "source": [
    "def merc(lat_lst, lon_lst):\n",
    "    x_lst = []\n",
    "    y_lst = []\n",
    "    for i in range(len(lat_lst)):\n",
    "        lat = lat_lst[i]\n",
    "        lon = lon_lst[i]\n",
    "        r_major = 6378137.000\n",
    "        x = r_major * math.radians(lon)\n",
    "        scale = x/lon\n",
    "        y = 180.0/math.pi * math.log(math.tan(math.pi/4.0 + \n",
    "            lat * (math.pi/180.0)/2.0)) * scale\n",
    "        x_lst.append(x)\n",
    "        y_lst.append(y)\n",
    "    return x_lst, y_lst\n",
    "\n",
    "x_y = merc(jurisdiction_df.Latitude, jurisdiction_df.Longitude)\n",
    "jurisdiction_df['x'] = x_y[0]\n",
    "jurisdiction_df['y'] = x_y[1]"
   ]
  },
  {
   "cell_type": "markdown",
   "metadata": {},
   "source": [
    "Finally we plot the map with hovering capabilities."
   ]
  },
  {
   "cell_type": "code",
   "execution_count": 18,
   "metadata": {},
   "outputs": [
    {
     "data": {
      "text/html": [
       "\n",
       "    <div class=\"bk-root\">\n",
       "        <a href=\"https://bokeh.pydata.org\" target=\"_blank\" class=\"bk-logo bk-logo-small bk-logo-notebook\"></a>\n",
       "        <span id=\"1072\">Loading BokehJS ...</span>\n",
       "    </div>"
      ]
     },
     "metadata": {},
     "output_type": "display_data"
    },
    {
     "data": {
      "application/javascript": [
       "\n",
       "(function(root) {\n",
       "  function now() {\n",
       "    return new Date();\n",
       "  }\n",
       "\n",
       "  var force = true;\n",
       "\n",
       "  if (typeof (root._bokeh_onload_callbacks) === \"undefined\" || force === true) {\n",
       "    root._bokeh_onload_callbacks = [];\n",
       "    root._bokeh_is_loading = undefined;\n",
       "  }\n",
       "\n",
       "  var JS_MIME_TYPE = 'application/javascript';\n",
       "  var HTML_MIME_TYPE = 'text/html';\n",
       "  var EXEC_MIME_TYPE = 'application/vnd.bokehjs_exec.v0+json';\n",
       "  var CLASS_NAME = 'output_bokeh rendered_html';\n",
       "\n",
       "  /**\n",
       "   * Render data to the DOM node\n",
       "   */\n",
       "  function render(props, node) {\n",
       "    var script = document.createElement(\"script\");\n",
       "    node.appendChild(script);\n",
       "  }\n",
       "\n",
       "  /**\n",
       "   * Handle when an output is cleared or removed\n",
       "   */\n",
       "  function handleClearOutput(event, handle) {\n",
       "    var cell = handle.cell;\n",
       "\n",
       "    var id = cell.output_area._bokeh_element_id;\n",
       "    var server_id = cell.output_area._bokeh_server_id;\n",
       "    // Clean up Bokeh references\n",
       "    if (id != null && id in Bokeh.index) {\n",
       "      Bokeh.index[id].model.document.clear();\n",
       "      delete Bokeh.index[id];\n",
       "    }\n",
       "\n",
       "    if (server_id !== undefined) {\n",
       "      // Clean up Bokeh references\n",
       "      var cmd = \"from bokeh.io.state import curstate; print(curstate().uuid_to_server['\" + server_id + \"'].get_sessions()[0].document.roots[0]._id)\";\n",
       "      cell.notebook.kernel.execute(cmd, {\n",
       "        iopub: {\n",
       "          output: function(msg) {\n",
       "            var id = msg.content.text.trim();\n",
       "            if (id in Bokeh.index) {\n",
       "              Bokeh.index[id].model.document.clear();\n",
       "              delete Bokeh.index[id];\n",
       "            }\n",
       "          }\n",
       "        }\n",
       "      });\n",
       "      // Destroy server and session\n",
       "      var cmd = \"import bokeh.io.notebook as ion; ion.destroy_server('\" + server_id + \"')\";\n",
       "      cell.notebook.kernel.execute(cmd);\n",
       "    }\n",
       "  }\n",
       "\n",
       "  /**\n",
       "   * Handle when a new output is added\n",
       "   */\n",
       "  function handleAddOutput(event, handle) {\n",
       "    var output_area = handle.output_area;\n",
       "    var output = handle.output;\n",
       "\n",
       "    // limit handleAddOutput to display_data with EXEC_MIME_TYPE content only\n",
       "    if ((output.output_type != \"display_data\") || (!output.data.hasOwnProperty(EXEC_MIME_TYPE))) {\n",
       "      return\n",
       "    }\n",
       "\n",
       "    var toinsert = output_area.element.find(\".\" + CLASS_NAME.split(' ')[0]);\n",
       "\n",
       "    if (output.metadata[EXEC_MIME_TYPE][\"id\"] !== undefined) {\n",
       "      toinsert[toinsert.length - 1].firstChild.textContent = output.data[JS_MIME_TYPE];\n",
       "      // store reference to embed id on output_area\n",
       "      output_area._bokeh_element_id = output.metadata[EXEC_MIME_TYPE][\"id\"];\n",
       "    }\n",
       "    if (output.metadata[EXEC_MIME_TYPE][\"server_id\"] !== undefined) {\n",
       "      var bk_div = document.createElement(\"div\");\n",
       "      bk_div.innerHTML = output.data[HTML_MIME_TYPE];\n",
       "      var script_attrs = bk_div.children[0].attributes;\n",
       "      for (var i = 0; i < script_attrs.length; i++) {\n",
       "        toinsert[toinsert.length - 1].firstChild.setAttribute(script_attrs[i].name, script_attrs[i].value);\n",
       "      }\n",
       "      // store reference to server id on output_area\n",
       "      output_area._bokeh_server_id = output.metadata[EXEC_MIME_TYPE][\"server_id\"];\n",
       "    }\n",
       "  }\n",
       "\n",
       "  function register_renderer(events, OutputArea) {\n",
       "\n",
       "    function append_mime(data, metadata, element) {\n",
       "      // create a DOM node to render to\n",
       "      var toinsert = this.create_output_subarea(\n",
       "        metadata,\n",
       "        CLASS_NAME,\n",
       "        EXEC_MIME_TYPE\n",
       "      );\n",
       "      this.keyboard_manager.register_events(toinsert);\n",
       "      // Render to node\n",
       "      var props = {data: data, metadata: metadata[EXEC_MIME_TYPE]};\n",
       "      render(props, toinsert[toinsert.length - 1]);\n",
       "      element.append(toinsert);\n",
       "      return toinsert\n",
       "    }\n",
       "\n",
       "    /* Handle when an output is cleared or removed */\n",
       "    events.on('clear_output.CodeCell', handleClearOutput);\n",
       "    events.on('delete.Cell', handleClearOutput);\n",
       "\n",
       "    /* Handle when a new output is added */\n",
       "    events.on('output_added.OutputArea', handleAddOutput);\n",
       "\n",
       "    /**\n",
       "     * Register the mime type and append_mime function with output_area\n",
       "     */\n",
       "    OutputArea.prototype.register_mime_type(EXEC_MIME_TYPE, append_mime, {\n",
       "      /* Is output safe? */\n",
       "      safe: true,\n",
       "      /* Index of renderer in `output_area.display_order` */\n",
       "      index: 0\n",
       "    });\n",
       "  }\n",
       "\n",
       "  // register the mime type if in Jupyter Notebook environment and previously unregistered\n",
       "  if (root.Jupyter !== undefined) {\n",
       "    var events = require('base/js/events');\n",
       "    var OutputArea = require('notebook/js/outputarea').OutputArea;\n",
       "\n",
       "    if (OutputArea.prototype.mime_types().indexOf(EXEC_MIME_TYPE) == -1) {\n",
       "      register_renderer(events, OutputArea);\n",
       "    }\n",
       "  }\n",
       "\n",
       "  \n",
       "  if (typeof (root._bokeh_timeout) === \"undefined\" || force === true) {\n",
       "    root._bokeh_timeout = Date.now() + 5000;\n",
       "    root._bokeh_failed_load = false;\n",
       "  }\n",
       "\n",
       "  var NB_LOAD_WARNING = {'data': {'text/html':\n",
       "     \"<div style='background-color: #fdd'>\\n\"+\n",
       "     \"<p>\\n\"+\n",
       "     \"BokehJS does not appear to have successfully loaded. If loading BokehJS from CDN, this \\n\"+\n",
       "     \"may be due to a slow or bad network connection. Possible fixes:\\n\"+\n",
       "     \"</p>\\n\"+\n",
       "     \"<ul>\\n\"+\n",
       "     \"<li>re-rerun `output_notebook()` to attempt to load from CDN again, or</li>\\n\"+\n",
       "     \"<li>use INLINE resources instead, as so:</li>\\n\"+\n",
       "     \"</ul>\\n\"+\n",
       "     \"<code>\\n\"+\n",
       "     \"from bokeh.resources import INLINE\\n\"+\n",
       "     \"output_notebook(resources=INLINE)\\n\"+\n",
       "     \"</code>\\n\"+\n",
       "     \"</div>\"}};\n",
       "\n",
       "  function display_loaded() {\n",
       "    var el = document.getElementById(\"1072\");\n",
       "    if (el != null) {\n",
       "      el.textContent = \"BokehJS is loading...\";\n",
       "    }\n",
       "    if (root.Bokeh !== undefined) {\n",
       "      if (el != null) {\n",
       "        el.textContent = \"BokehJS \" + root.Bokeh.version + \" successfully loaded.\";\n",
       "      }\n",
       "    } else if (Date.now() < root._bokeh_timeout) {\n",
       "      setTimeout(display_loaded, 100)\n",
       "    }\n",
       "  }\n",
       "\n",
       "\n",
       "  function run_callbacks() {\n",
       "    try {\n",
       "      root._bokeh_onload_callbacks.forEach(function(callback) { callback() });\n",
       "    }\n",
       "    finally {\n",
       "      delete root._bokeh_onload_callbacks\n",
       "    }\n",
       "    console.info(\"Bokeh: all callbacks have finished\");\n",
       "  }\n",
       "\n",
       "  function load_libs(js_urls, callback) {\n",
       "    root._bokeh_onload_callbacks.push(callback);\n",
       "    if (root._bokeh_is_loading > 0) {\n",
       "      console.log(\"Bokeh: BokehJS is being loaded, scheduling callback at\", now());\n",
       "      return null;\n",
       "    }\n",
       "    if (js_urls == null || js_urls.length === 0) {\n",
       "      run_callbacks();\n",
       "      return null;\n",
       "    }\n",
       "    console.log(\"Bokeh: BokehJS not loaded, scheduling load and callback at\", now());\n",
       "    root._bokeh_is_loading = js_urls.length;\n",
       "    for (var i = 0; i < js_urls.length; i++) {\n",
       "      var url = js_urls[i];\n",
       "      var s = document.createElement('script');\n",
       "      s.src = url;\n",
       "      s.async = false;\n",
       "      s.onreadystatechange = s.onload = function() {\n",
       "        root._bokeh_is_loading--;\n",
       "        if (root._bokeh_is_loading === 0) {\n",
       "          console.log(\"Bokeh: all BokehJS libraries loaded\");\n",
       "          run_callbacks()\n",
       "        }\n",
       "      };\n",
       "      s.onerror = function() {\n",
       "        console.warn(\"failed to load library \" + url);\n",
       "      };\n",
       "      console.log(\"Bokeh: injecting script tag for BokehJS library: \", url);\n",
       "      document.getElementsByTagName(\"head\")[0].appendChild(s);\n",
       "    }\n",
       "  };var element = document.getElementById(\"1072\");\n",
       "  if (element == null) {\n",
       "    console.log(\"Bokeh: ERROR: autoload.js configured with elementid '1072' but no matching script tag was found. \")\n",
       "    return false;\n",
       "  }\n",
       "\n",
       "  var js_urls = [\"https://cdn.pydata.org/bokeh/release/bokeh-1.0.2.min.js\", \"https://cdn.pydata.org/bokeh/release/bokeh-widgets-1.0.2.min.js\", \"https://cdn.pydata.org/bokeh/release/bokeh-tables-1.0.2.min.js\", \"https://cdn.pydata.org/bokeh/release/bokeh-gl-1.0.2.min.js\"];\n",
       "\n",
       "  var inline_js = [\n",
       "    function(Bokeh) {\n",
       "      Bokeh.set_log_level(\"info\");\n",
       "    },\n",
       "    \n",
       "    function(Bokeh) {\n",
       "      \n",
       "    },\n",
       "    function(Bokeh) {\n",
       "      console.log(\"Bokeh: injecting CSS: https://cdn.pydata.org/bokeh/release/bokeh-1.0.2.min.css\");\n",
       "      Bokeh.embed.inject_css(\"https://cdn.pydata.org/bokeh/release/bokeh-1.0.2.min.css\");\n",
       "      console.log(\"Bokeh: injecting CSS: https://cdn.pydata.org/bokeh/release/bokeh-widgets-1.0.2.min.css\");\n",
       "      Bokeh.embed.inject_css(\"https://cdn.pydata.org/bokeh/release/bokeh-widgets-1.0.2.min.css\");\n",
       "      console.log(\"Bokeh: injecting CSS: https://cdn.pydata.org/bokeh/release/bokeh-tables-1.0.2.min.css\");\n",
       "      Bokeh.embed.inject_css(\"https://cdn.pydata.org/bokeh/release/bokeh-tables-1.0.2.min.css\");\n",
       "    }\n",
       "  ];\n",
       "\n",
       "  function run_inline_js() {\n",
       "    \n",
       "    if ((root.Bokeh !== undefined) || (force === true)) {\n",
       "      for (var i = 0; i < inline_js.length; i++) {\n",
       "        inline_js[i].call(root, root.Bokeh);\n",
       "      }if (force === true) {\n",
       "        display_loaded();\n",
       "      }} else if (Date.now() < root._bokeh_timeout) {\n",
       "      setTimeout(run_inline_js, 100);\n",
       "    } else if (!root._bokeh_failed_load) {\n",
       "      console.log(\"Bokeh: BokehJS failed to load within specified timeout.\");\n",
       "      root._bokeh_failed_load = true;\n",
       "    } else if (force !== true) {\n",
       "      var cell = $(document.getElementById(\"1072\")).parents('.cell').data().cell;\n",
       "      cell.output_area.append_execute_result(NB_LOAD_WARNING)\n",
       "    }\n",
       "\n",
       "  }\n",
       "\n",
       "  if (root._bokeh_is_loading === 0) {\n",
       "    console.log(\"Bokeh: BokehJS loaded, going straight to plotting\");\n",
       "    run_inline_js();\n",
       "  } else {\n",
       "    load_libs(js_urls, function() {\n",
       "      console.log(\"Bokeh: BokehJS plotting callback run at\", now());\n",
       "      run_inline_js();\n",
       "    });\n",
       "  }\n",
       "}(window));"
      ],
      "application/vnd.bokehjs_load.v0+json": "\n(function(root) {\n  function now() {\n    return new Date();\n  }\n\n  var force = true;\n\n  if (typeof (root._bokeh_onload_callbacks) === \"undefined\" || force === true) {\n    root._bokeh_onload_callbacks = [];\n    root._bokeh_is_loading = undefined;\n  }\n\n  \n\n  \n  if (typeof (root._bokeh_timeout) === \"undefined\" || force === true) {\n    root._bokeh_timeout = Date.now() + 5000;\n    root._bokeh_failed_load = false;\n  }\n\n  var NB_LOAD_WARNING = {'data': {'text/html':\n     \"<div style='background-color: #fdd'>\\n\"+\n     \"<p>\\n\"+\n     \"BokehJS does not appear to have successfully loaded. If loading BokehJS from CDN, this \\n\"+\n     \"may be due to a slow or bad network connection. Possible fixes:\\n\"+\n     \"</p>\\n\"+\n     \"<ul>\\n\"+\n     \"<li>re-rerun `output_notebook()` to attempt to load from CDN again, or</li>\\n\"+\n     \"<li>use INLINE resources instead, as so:</li>\\n\"+\n     \"</ul>\\n\"+\n     \"<code>\\n\"+\n     \"from bokeh.resources import INLINE\\n\"+\n     \"output_notebook(resources=INLINE)\\n\"+\n     \"</code>\\n\"+\n     \"</div>\"}};\n\n  function display_loaded() {\n    var el = document.getElementById(\"1072\");\n    if (el != null) {\n      el.textContent = \"BokehJS is loading...\";\n    }\n    if (root.Bokeh !== undefined) {\n      if (el != null) {\n        el.textContent = \"BokehJS \" + root.Bokeh.version + \" successfully loaded.\";\n      }\n    } else if (Date.now() < root._bokeh_timeout) {\n      setTimeout(display_loaded, 100)\n    }\n  }\n\n\n  function run_callbacks() {\n    try {\n      root._bokeh_onload_callbacks.forEach(function(callback) { callback() });\n    }\n    finally {\n      delete root._bokeh_onload_callbacks\n    }\n    console.info(\"Bokeh: all callbacks have finished\");\n  }\n\n  function load_libs(js_urls, callback) {\n    root._bokeh_onload_callbacks.push(callback);\n    if (root._bokeh_is_loading > 0) {\n      console.log(\"Bokeh: BokehJS is being loaded, scheduling callback at\", now());\n      return null;\n    }\n    if (js_urls == null || js_urls.length === 0) {\n      run_callbacks();\n      return null;\n    }\n    console.log(\"Bokeh: BokehJS not loaded, scheduling load and callback at\", now());\n    root._bokeh_is_loading = js_urls.length;\n    for (var i = 0; i < js_urls.length; i++) {\n      var url = js_urls[i];\n      var s = document.createElement('script');\n      s.src = url;\n      s.async = false;\n      s.onreadystatechange = s.onload = function() {\n        root._bokeh_is_loading--;\n        if (root._bokeh_is_loading === 0) {\n          console.log(\"Bokeh: all BokehJS libraries loaded\");\n          run_callbacks()\n        }\n      };\n      s.onerror = function() {\n        console.warn(\"failed to load library \" + url);\n      };\n      console.log(\"Bokeh: injecting script tag for BokehJS library: \", url);\n      document.getElementsByTagName(\"head\")[0].appendChild(s);\n    }\n  };var element = document.getElementById(\"1072\");\n  if (element == null) {\n    console.log(\"Bokeh: ERROR: autoload.js configured with elementid '1072' but no matching script tag was found. \")\n    return false;\n  }\n\n  var js_urls = [\"https://cdn.pydata.org/bokeh/release/bokeh-1.0.2.min.js\", \"https://cdn.pydata.org/bokeh/release/bokeh-widgets-1.0.2.min.js\", \"https://cdn.pydata.org/bokeh/release/bokeh-tables-1.0.2.min.js\", \"https://cdn.pydata.org/bokeh/release/bokeh-gl-1.0.2.min.js\"];\n\n  var inline_js = [\n    function(Bokeh) {\n      Bokeh.set_log_level(\"info\");\n    },\n    \n    function(Bokeh) {\n      \n    },\n    function(Bokeh) {\n      console.log(\"Bokeh: injecting CSS: https://cdn.pydata.org/bokeh/release/bokeh-1.0.2.min.css\");\n      Bokeh.embed.inject_css(\"https://cdn.pydata.org/bokeh/release/bokeh-1.0.2.min.css\");\n      console.log(\"Bokeh: injecting CSS: https://cdn.pydata.org/bokeh/release/bokeh-widgets-1.0.2.min.css\");\n      Bokeh.embed.inject_css(\"https://cdn.pydata.org/bokeh/release/bokeh-widgets-1.0.2.min.css\");\n      console.log(\"Bokeh: injecting CSS: https://cdn.pydata.org/bokeh/release/bokeh-tables-1.0.2.min.css\");\n      Bokeh.embed.inject_css(\"https://cdn.pydata.org/bokeh/release/bokeh-tables-1.0.2.min.css\");\n    }\n  ];\n\n  function run_inline_js() {\n    \n    if ((root.Bokeh !== undefined) || (force === true)) {\n      for (var i = 0; i < inline_js.length; i++) {\n        inline_js[i].call(root, root.Bokeh);\n      }if (force === true) {\n        display_loaded();\n      }} else if (Date.now() < root._bokeh_timeout) {\n      setTimeout(run_inline_js, 100);\n    } else if (!root._bokeh_failed_load) {\n      console.log(\"Bokeh: BokehJS failed to load within specified timeout.\");\n      root._bokeh_failed_load = true;\n    } else if (force !== true) {\n      var cell = $(document.getElementById(\"1072\")).parents('.cell').data().cell;\n      cell.output_area.append_execute_result(NB_LOAD_WARNING)\n    }\n\n  }\n\n  if (root._bokeh_is_loading === 0) {\n    console.log(\"Bokeh: BokehJS loaded, going straight to plotting\");\n    run_inline_js();\n  } else {\n    load_libs(js_urls, function() {\n      console.log(\"Bokeh: BokehJS plotting callback run at\", now());\n      run_inline_js();\n    });\n  }\n}(window));"
     },
     "metadata": {},
     "output_type": "display_data"
    },
    {
     "data": {
      "text/html": [
       "\n",
       "\n",
       "\n",
       "\n",
       "\n",
       "\n",
       "  <div class=\"bk-root\" id=\"7bc82bf4-3c39-4b46-9fa3-c79d12bac5fc\"></div>\n"
      ]
     },
     "metadata": {},
     "output_type": "display_data"
    },
    {
     "data": {
      "application/javascript": [
       "(function(root) {\n",
       "  function embed_document(root) {\n",
       "    \n",
       "  var docs_json = {\"22ce8c50-da51-4349-b708-f6e6d8de9588\":{\"roots\":{\"references\":[{\"attributes\":{\"children\":[{\"id\":\"1070\",\"type\":\"ToolbarBox\"},{\"id\":\"1068\",\"type\":\"Column\"}]},\"id\":\"1071\",\"type\":\"Column\"},{\"attributes\":{},\"id\":\"1011\",\"type\":\"LinearScale\"},{\"attributes\":{},\"id\":\"1033\",\"type\":\"PanTool\"},{\"attributes\":{\"source\":{\"id\":\"1002\",\"type\":\"ColumnDataSource\"}},\"id\":\"1047\",\"type\":\"CDSView\"},{\"attributes\":{\"tile_source\":{\"id\":\"1001\",\"type\":\"WMTSTileSource\"}},\"id\":\"1041\",\"type\":\"TileRenderer\"},{\"attributes\":{\"formatter\":{\"id\":\"1027\",\"type\":\"MercatorTickFormatter\"},\"plot\":{\"id\":\"1005\",\"subtype\":\"Figure\",\"type\":\"Plot\"},\"ticker\":{\"id\":\"1025\",\"type\":\"MercatorTicker\"}},\"id\":\"1024\",\"type\":\"MercatorAxis\"},{\"attributes\":{\"callback\":null,\"end\":10000000,\"start\":-20000000},\"id\":\"1007\",\"type\":\"Range1d\"},{\"attributes\":{\"formatter\":{\"id\":\"1018\",\"type\":\"MercatorTickFormatter\"},\"plot\":{\"id\":\"1005\",\"subtype\":\"Figure\",\"type\":\"Plot\"},\"ticker\":{\"id\":\"1016\",\"type\":\"MercatorTicker\"}},\"id\":\"1015\",\"type\":\"MercatorAxis\"},{\"attributes\":{},\"id\":\"1063\",\"type\":\"StringEditor\"},{\"attributes\":{\"tools\":[{\"id\":\"1003\",\"type\":\"HoverTool\"},{\"id\":\"1033\",\"type\":\"PanTool\"},{\"id\":\"1034\",\"type\":\"WheelZoomTool\"},{\"id\":\"1035\",\"type\":\"SaveTool\"}]},\"id\":\"1069\",\"type\":\"ProxyToolbar\"},{\"attributes\":{\"data_source\":{\"id\":\"1002\",\"type\":\"ColumnDataSource\"},\"glyph\":{\"id\":\"1044\",\"type\":\"Circle\"},\"hover_glyph\":null,\"muted_glyph\":null,\"nonselection_glyph\":{\"id\":\"1045\",\"type\":\"Circle\"},\"selection_glyph\":null,\"view\":{\"id\":\"1047\",\"type\":\"CDSView\"}},\"id\":\"1046\",\"type\":\"GlyphRenderer\"},{\"attributes\":{},\"id\":\"1057\",\"type\":\"Selection\"},{\"attributes\":{},\"id\":\"1061\",\"type\":\"StringEditor\"},{\"attributes\":{\"children\":[{\"id\":\"1067\",\"type\":\"Row\"}]},\"id\":\"1068\",\"type\":\"Column\"},{\"attributes\":{\"fill_alpha\":{\"value\":0.1},\"fill_color\":{\"value\":\"#1f77b4\"},\"line_alpha\":{\"value\":0.1},\"line_color\":{\"value\":\"#1f77b4\"},\"size\":{\"units\":\"screen\",\"value\":10},\"x\":{\"field\":\"x\"},\"y\":{\"field\":\"y\"}},\"id\":\"1045\",\"type\":\"Circle\"},{\"attributes\":{\"active_drag\":\"auto\",\"active_inspect\":\"auto\",\"active_multi\":null,\"active_scroll\":\"auto\",\"active_tap\":\"auto\",\"tools\":[{\"id\":\"1003\",\"type\":\"HoverTool\"},{\"id\":\"1033\",\"type\":\"PanTool\"},{\"id\":\"1034\",\"type\":\"WheelZoomTool\"},{\"id\":\"1035\",\"type\":\"SaveTool\"}]},\"id\":\"1036\",\"type\":\"Toolbar\"},{\"attributes\":{\"dimension\":\"lat\"},\"id\":\"1027\",\"type\":\"MercatorTickFormatter\"},{\"attributes\":{\"callback\":null,\"end\":10000,\"start\":-100},\"id\":\"1009\",\"type\":\"Range1d\"},{\"attributes\":{},\"id\":\"1060\",\"type\":\"StringFormatter\"},{\"attributes\":{\"dimension\":1,\"plot\":{\"id\":\"1005\",\"subtype\":\"Figure\",\"type\":\"Plot\"},\"ticker\":{\"id\":\"1025\",\"type\":\"MercatorTicker\"}},\"id\":\"1032\",\"type\":\"Grid\"},{\"attributes\":{\"columns\":[{\"id\":\"1048\",\"type\":\"TableColumn\"},{\"id\":\"1049\",\"type\":\"TableColumn\"}],\"height\":350,\"source\":{\"id\":\"1002\",\"type\":\"ColumnDataSource\"},\"view\":{\"id\":\"1051\",\"type\":\"CDSView\"},\"width\":200},\"id\":\"1050\",\"type\":\"DataTable\"},{\"attributes\":{\"toolbar\":{\"id\":\"1069\",\"type\":\"ProxyToolbar\"},\"toolbar_location\":\"above\"},\"id\":\"1070\",\"type\":\"ToolbarBox\"},{\"attributes\":{\"callback\":null,\"data\":{\"area\":[\"British Virgin Islands\",\"Panama\",\"Bahamas\",\"Seychelles\",\"Niue\",\"Samoa\",\"British Anguilla\",\"Nevada\",\"Hong Kong\",\"United Kingdom\",\"Belize\",\"Costa Rica\",\"Cyprus\",\"Uruguay\",\"New Zealand\",\"Jersey\",\"Wyoming\",\"Malta\",\"Isle Of Man\",\"Ras Al Khaimah\",\"Singapore\"],\"count\":[113648,48360,15915,15182,9611,5307,3253,1260,452,148,130,78,76,52,47,39,37,28,8,2,1],\"x\":[-7187472.52121889,-9051012.04859185,-8682926.371051485,6173112.667714758,-18908877.99671455,-19160316.41036838,-7021479.486661815,-13008096.908262393,12708546.221819662,-364746.6939418176,-9880728.32212776,-9359064.872463409,3689698.8268976193,-6236134.850461531,19239838.256721042,-236620.70513764827,-11974474.519314528,1608309.6163905105,-502562.83350708074,6223628.008792438,11560755.754232766],\"y\":[2084707.601405808,928281.1129455589,2847968.6954087955,-519042.2128561343,-2161252.339791614,-1547772.4037354763,2060443.593098529,4795839.031857152,2545095.077194767,7304312.167817082,1900577.3768912472,1149825.8292469077,4161476.289401565,-3878797.5699098497,-5086386.000692607,6310962.4537718855,5337887.511019714,4285303.614438497,7214944.260192893,2966622.529122114,143667.20055241938]},\"selected\":{\"id\":\"1057\",\"type\":\"Selection\"},\"selection_policy\":{\"id\":\"1058\",\"type\":\"UnionRenderers\"}},\"id\":\"1002\",\"type\":\"ColumnDataSource\"},{\"attributes\":{\"below\":[{\"id\":\"1015\",\"type\":\"MercatorAxis\"}],\"left\":[{\"id\":\"1024\",\"type\":\"MercatorAxis\"}],\"plot_height\":400,\"renderers\":[{\"id\":\"1015\",\"type\":\"MercatorAxis\"},{\"id\":\"1023\",\"type\":\"Grid\"},{\"id\":\"1024\",\"type\":\"MercatorAxis\"},{\"id\":\"1032\",\"type\":\"Grid\"},{\"id\":\"1041\",\"type\":\"TileRenderer\"},{\"id\":\"1046\",\"type\":\"GlyphRenderer\"}],\"title\":{\"id\":\"1004\",\"type\":\"Title\"},\"toolbar\":{\"id\":\"1036\",\"type\":\"Toolbar\"},\"toolbar_location\":null,\"x_range\":{\"id\":\"1007\",\"type\":\"Range1d\"},\"x_scale\":{\"id\":\"1011\",\"type\":\"LinearScale\"},\"y_range\":{\"id\":\"1009\",\"type\":\"Range1d\"},\"y_scale\":{\"id\":\"1013\",\"type\":\"LinearScale\"}},\"id\":\"1005\",\"subtype\":\"Figure\",\"type\":\"Plot\"},{\"attributes\":{\"dimension\":\"lon\"},\"id\":\"1018\",\"type\":\"MercatorTickFormatter\"},{\"attributes\":{\"children\":[{\"id\":\"1005\",\"subtype\":\"Figure\",\"type\":\"Plot\"},{\"id\":\"1066\",\"type\":\"WidgetBox\"}]},\"id\":\"1067\",\"type\":\"Row\"},{\"attributes\":{\"fill_alpha\":{\"value\":0.05},\"fill_color\":{\"value\":\"#FF0000\"},\"line_color\":{\"value\":\"#FF0000\"},\"size\":{\"units\":\"screen\",\"value\":10},\"x\":{\"field\":\"x\"},\"y\":{\"field\":\"y\"}},\"id\":\"1044\",\"type\":\"Circle\"},{\"attributes\":{\"editor\":{\"id\":\"1063\",\"type\":\"StringEditor\"},\"field\":\"count\",\"formatter\":{\"id\":\"1062\",\"type\":\"StringFormatter\"},\"title\":\"Count\"},\"id\":\"1049\",\"type\":\"TableColumn\"},{\"attributes\":{\"callback\":null,\"tooltips\":[[\"Area\",\"@area\"],[\"Count\",\"@count\"]]},\"id\":\"1003\",\"type\":\"HoverTool\"},{\"attributes\":{},\"id\":\"1058\",\"type\":\"UnionRenderers\"},{\"attributes\":{},\"id\":\"1035\",\"type\":\"SaveTool\"},{\"attributes\":{\"attribution\":\"&copy; <a href=\\\"https://www.openstreetmap.org/copyright\\\">OpenStreetMap</a> contributors,&copy; <a href=\\\"https://cartodb.com/attributions\\\">CartoDB</a>\",\"url\":\"https://tiles.basemaps.cartocdn.com/light_all/{z}/{x}/{y}.png\"},\"id\":\"1001\",\"type\":\"WMTSTileSource\"},{\"attributes\":{\"dimension\":\"lon\"},\"id\":\"1016\",\"type\":\"MercatorTicker\"},{\"attributes\":{},\"id\":\"1034\",\"type\":\"WheelZoomTool\"},{\"attributes\":{},\"id\":\"1062\",\"type\":\"StringFormatter\"},{\"attributes\":{\"children\":[{\"id\":\"1050\",\"type\":\"DataTable\"}],\"height\":350,\"width\":200},\"id\":\"1066\",\"type\":\"WidgetBox\"},{\"attributes\":{\"dimension\":\"lat\"},\"id\":\"1025\",\"type\":\"MercatorTicker\"},{\"attributes\":{\"plot\":null,\"text\":\"Top jurisdictions by count\"},\"id\":\"1004\",\"type\":\"Title\"},{\"attributes\":{\"source\":{\"id\":\"1002\",\"type\":\"ColumnDataSource\"}},\"id\":\"1051\",\"type\":\"CDSView\"},{\"attributes\":{\"editor\":{\"id\":\"1061\",\"type\":\"StringEditor\"},\"field\":\"area\",\"formatter\":{\"id\":\"1060\",\"type\":\"StringFormatter\"},\"title\":\"Area\"},\"id\":\"1048\",\"type\":\"TableColumn\"},{\"attributes\":{\"plot\":{\"id\":\"1005\",\"subtype\":\"Figure\",\"type\":\"Plot\"},\"ticker\":{\"id\":\"1016\",\"type\":\"MercatorTicker\"}},\"id\":\"1023\",\"type\":\"Grid\"},{\"attributes\":{},\"id\":\"1013\",\"type\":\"LinearScale\"}],\"root_ids\":[\"1071\"]},\"title\":\"Bokeh Application\",\"version\":\"1.0.2\"}};\n",
       "  var render_items = [{\"docid\":\"22ce8c50-da51-4349-b708-f6e6d8de9588\",\"roots\":{\"1071\":\"7bc82bf4-3c39-4b46-9fa3-c79d12bac5fc\"}}];\n",
       "  root.Bokeh.embed.embed_items_notebook(docs_json, render_items);\n",
       "\n",
       "  }\n",
       "  if (root.Bokeh !== undefined) {\n",
       "    embed_document(root);\n",
       "  } else {\n",
       "    var attempts = 0;\n",
       "    var timer = setInterval(function(root) {\n",
       "      if (root.Bokeh !== undefined) {\n",
       "        embed_document(root);\n",
       "        clearInterval(timer);\n",
       "      }\n",
       "      attempts++;\n",
       "      if (attempts > 100) {\n",
       "        console.log(\"Bokeh: ERROR: Unable to run BokehJS code because BokehJS library is missing\");\n",
       "        clearInterval(timer);\n",
       "      }\n",
       "    }, 10, root)\n",
       "  }\n",
       "})(window);"
      ],
      "application/vnd.bokehjs_exec.v0+json": ""
     },
     "metadata": {
      "application/vnd.bokehjs_exec.v0+json": {
       "id": "1071"
      }
     },
     "output_type": "display_data"
    }
   ],
   "source": [
    "from bokeh.plotting import figure, show, output_file, output_notebook\n",
    "from bokeh.tile_providers import CARTODBPOSITRON\n",
    "from bokeh.models import ColumnDataSource, HoverTool\n",
    "from bokeh.layouts import gridplot, widgetbox\n",
    "from bokeh.models.widgets import DataTable, TableColumn\n",
    "\n",
    "def plot_map(df, title):\n",
    "    source = ColumnDataSource(data=dict(\n",
    "                            x=list(df['x']), \n",
    "                            y=list(df['y']),\n",
    "                            count=list(df['Count']),\n",
    "                            area=list(df['Area'])))\n",
    "\n",
    "    hover = HoverTool(tooltips=[\n",
    "        (\"Area\", \"@area\"),\n",
    "        (\"Count\",\"@count\")])\n",
    "\n",
    "    p = figure(\n",
    "        title = title,\n",
    "        width = 600, \n",
    "        height= 400, \n",
    "        x_range=(-20000000, 10000000), y_range=(-100, 10000),\n",
    "        x_axis_type=\"mercator\", y_axis_type=\"mercator\",\n",
    "        tools=['pan', hover, 'wheel_zoom','save'])\n",
    "\n",
    "    p.add_tile(CARTODBPOSITRON)\n",
    "\n",
    "    p.circle(x = 'x',\n",
    "             y = 'y', \n",
    "             size = 10,\n",
    "             source=source, \n",
    "             line_color=\"#FF0000\", \n",
    "             fill_color=\"#FF0000\",\n",
    "             fill_alpha=0.05)\n",
    "    \n",
    "    columns = [\n",
    "        TableColumn(field=\"area\", title=\"Area\"),\n",
    "        TableColumn(field=\"count\", title=\"Count\")\n",
    "    ]\n",
    "    \n",
    "    data_table = DataTable(source=source, columns=columns, height=350, width=200)\n",
    "    grid = gridplot([p, data_table], ncols=2)\n",
    "    \n",
    "    output_notebook()\n",
    "    show(grid)\n",
    "\n",
    "output_file(\"proj_jekyll/assets/jurisdictions_map.html\", title=\"jurisdictions\")\n",
    "plot_map(jurisdiction_df, \"Top jurisdictions by count\")"
   ]
  },
  {
   "cell_type": "markdown",
   "metadata": {},
   "source": [
    "## 2) What countries have the most entities register in the Panama papers?"
   ]
  },
  {
   "cell_type": "markdown",
   "metadata": {},
   "source": [
    "The same procedure is applied to the `country` column representing the country of origin of the offshore company. As more country are included a bigger threshold needs to be chosen in order to make the plots still readable. Same as before, the count of companies for country will be represent on an interactive map."
   ]
  },
  {
   "cell_type": "code",
   "execution_count": 19,
   "metadata": {
    "scrolled": false
   },
   "outputs": [
    {
     "data": {
      "text/plain": [
       "Switzerland             37911\n",
       "Hong Kong               37911\n",
       "Others                  36495\n",
       "Panama                  15811\n",
       "Jersey                  14331\n",
       "Luxembourg              10840\n",
       "United Kingdom           9619\n",
       "Guernsey                 7327\n",
       "United Arab Emirates     7269\n",
       "Bahamas                  4984\n",
       "Uruguay                  4906\n",
       "Isle of Man              4892\n",
       "Russia                   4197\n",
       "Singapore                4081\n",
       "Cyprus                   3613\n",
       "China                    3213\n",
       "Monaco                   3168\n",
       "United States            3066\n",
       "Name: countries, dtype: int64"
      ]
     },
     "execution_count": 19,
     "metadata": {},
     "output_type": "execute_result"
    }
   ],
   "source": [
    "threshold2=3000\n",
    "vc=df_entity_S1.countries.value_counts()\n",
    "tax_evasions_L=list(vc[vc > threshold2].index)\n",
    "tax_evasions_S=list(vc[vc <= threshold2].index)\n",
    "df_entity_S1.loc[~df_entity_S1.countries.isin(tax_evasions_L), 'countries'] = 'Others'\n",
    "df_entity_S1.countries.value_counts()"
   ]
  },
  {
   "cell_type": "code",
   "execution_count": 20,
   "metadata": {},
   "outputs": [
    {
     "data": {
      "text/plain": [
       "<matplotlib.axes._subplots.AxesSubplot at 0x1ef82bd1b38>"
      ]
     },
     "execution_count": 20,
     "metadata": {},
     "output_type": "execute_result"
    },
    {
     "data": {
      "image/png": "[encoded data removed]",
      "text/plain": [
       "<Figure size 720x504 with 1 Axes>"
      ]
     },
     "metadata": {
      "needs_background": "light"
     },
     "output_type": "display_data"
    }
   ],
   "source": [
    "df_entity_S1.countries.value_counts().plot(kind='bar',title='Countries', figsize=(10, 7), logy=True)"
   ]
  },
  {
   "cell_type": "markdown",
   "metadata": {},
   "source": [
    "The value of the `Others` column is very high indicating a quite heavy tail distribution. As before, plotting the bar chart with a logarithm $y-axis$, seems that the distribution has a exponential behaviour at least his first part. "
   ]
  },
  {
   "cell_type": "markdown",
   "metadata": {},
   "source": [
    "Lastly a world map is plotted again following the same Mercator Projection techinque used above."
   ]
  },
  {
   "cell_type": "code",
   "execution_count": 21,
   "metadata": {},
   "outputs": [
    {
     "data": {
      "text/html": [
       "\n",
       "    <div class=\"bk-root\">\n",
       "        <a href=\"https://bokeh.pydata.org\" target=\"_blank\" class=\"bk-logo bk-logo-small bk-logo-notebook\"></a>\n",
       "        <span id=\"1290\">Loading BokehJS ...</span>\n",
       "    </div>"
      ]
     },
     "metadata": {},
     "output_type": "display_data"
    },
    {
     "data": {
      "application/javascript": [
       "\n",
       "(function(root) {\n",
       "  function now() {\n",
       "    return new Date();\n",
       "  }\n",
       "\n",
       "  var force = true;\n",
       "\n",
       "  if (typeof (root._bokeh_onload_callbacks) === \"undefined\" || force === true) {\n",
       "    root._bokeh_onload_callbacks = [];\n",
       "    root._bokeh_is_loading = undefined;\n",
       "  }\n",
       "\n",
       "  var JS_MIME_TYPE = 'application/javascript';\n",
       "  var HTML_MIME_TYPE = 'text/html';\n",
       "  var EXEC_MIME_TYPE = 'application/vnd.bokehjs_exec.v0+json';\n",
       "  var CLASS_NAME = 'output_bokeh rendered_html';\n",
       "\n",
       "  /**\n",
       "   * Render data to the DOM node\n",
       "   */\n",
       "  function render(props, node) {\n",
       "    var script = document.createElement(\"script\");\n",
       "    node.appendChild(script);\n",
       "  }\n",
       "\n",
       "  /**\n",
       "   * Handle when an output is cleared or removed\n",
       "   */\n",
       "  function handleClearOutput(event, handle) {\n",
       "    var cell = handle.cell;\n",
       "\n",
       "    var id = cell.output_area._bokeh_element_id;\n",
       "    var server_id = cell.output_area._bokeh_server_id;\n",
       "    // Clean up Bokeh references\n",
       "    if (id != null && id in Bokeh.index) {\n",
       "      Bokeh.index[id].model.document.clear();\n",
       "      delete Bokeh.index[id];\n",
       "    }\n",
       "\n",
       "    if (server_id !== undefined) {\n",
       "      // Clean up Bokeh references\n",
       "      var cmd = \"from bokeh.io.state import curstate; print(curstate().uuid_to_server['\" + server_id + \"'].get_sessions()[0].document.roots[0]._id)\";\n",
       "      cell.notebook.kernel.execute(cmd, {\n",
       "        iopub: {\n",
       "          output: function(msg) {\n",
       "            var id = msg.content.text.trim();\n",
       "            if (id in Bokeh.index) {\n",
       "              Bokeh.index[id].model.document.clear();\n",
       "              delete Bokeh.index[id];\n",
       "            }\n",
       "          }\n",
       "        }\n",
       "      });\n",
       "      // Destroy server and session\n",
       "      var cmd = \"import bokeh.io.notebook as ion; ion.destroy_server('\" + server_id + \"')\";\n",
       "      cell.notebook.kernel.execute(cmd);\n",
       "    }\n",
       "  }\n",
       "\n",
       "  /**\n",
       "   * Handle when a new output is added\n",
       "   */\n",
       "  function handleAddOutput(event, handle) {\n",
       "    var output_area = handle.output_area;\n",
       "    var output = handle.output;\n",
       "\n",
       "    // limit handleAddOutput to display_data with EXEC_MIME_TYPE content only\n",
       "    if ((output.output_type != \"display_data\") || (!output.data.hasOwnProperty(EXEC_MIME_TYPE))) {\n",
       "      return\n",
       "    }\n",
       "\n",
       "    var toinsert = output_area.element.find(\".\" + CLASS_NAME.split(' ')[0]);\n",
       "\n",
       "    if (output.metadata[EXEC_MIME_TYPE][\"id\"] !== undefined) {\n",
       "      toinsert[toinsert.length - 1].firstChild.textContent = output.data[JS_MIME_TYPE];\n",
       "      // store reference to embed id on output_area\n",
       "      output_area._bokeh_element_id = output.metadata[EXEC_MIME_TYPE][\"id\"];\n",
       "    }\n",
       "    if (output.metadata[EXEC_MIME_TYPE][\"server_id\"] !== undefined) {\n",
       "      var bk_div = document.createElement(\"div\");\n",
       "      bk_div.innerHTML = output.data[HTML_MIME_TYPE];\n",
       "      var script_attrs = bk_div.children[0].attributes;\n",
       "      for (var i = 0; i < script_attrs.length; i++) {\n",
       "        toinsert[toinsert.length - 1].firstChild.setAttribute(script_attrs[i].name, script_attrs[i].value);\n",
       "      }\n",
       "      // store reference to server id on output_area\n",
       "      output_area._bokeh_server_id = output.metadata[EXEC_MIME_TYPE][\"server_id\"];\n",
       "    }\n",
       "  }\n",
       "\n",
       "  function register_renderer(events, OutputArea) {\n",
       "\n",
       "    function append_mime(data, metadata, element) {\n",
       "      // create a DOM node to render to\n",
       "      var toinsert = this.create_output_subarea(\n",
       "        metadata,\n",
       "        CLASS_NAME,\n",
       "        EXEC_MIME_TYPE\n",
       "      );\n",
       "      this.keyboard_manager.register_events(toinsert);\n",
       "      // Render to node\n",
       "      var props = {data: data, metadata: metadata[EXEC_MIME_TYPE]};\n",
       "      render(props, toinsert[toinsert.length - 1]);\n",
       "      element.append(toinsert);\n",
       "      return toinsert\n",
       "    }\n",
       "\n",
       "    /* Handle when an output is cleared or removed */\n",
       "    events.on('clear_output.CodeCell', handleClearOutput);\n",
       "    events.on('delete.Cell', handleClearOutput);\n",
       "\n",
       "    /* Handle when a new output is added */\n",
       "    events.on('output_added.OutputArea', handleAddOutput);\n",
       "\n",
       "    /**\n",
       "     * Register the mime type and append_mime function with output_area\n",
       "     */\n",
       "    OutputArea.prototype.register_mime_type(EXEC_MIME_TYPE, append_mime, {\n",
       "      /* Is output safe? */\n",
       "      safe: true,\n",
       "      /* Index of renderer in `output_area.display_order` */\n",
       "      index: 0\n",
       "    });\n",
       "  }\n",
       "\n",
       "  // register the mime type if in Jupyter Notebook environment and previously unregistered\n",
       "  if (root.Jupyter !== undefined) {\n",
       "    var events = require('base/js/events');\n",
       "    var OutputArea = require('notebook/js/outputarea').OutputArea;\n",
       "\n",
       "    if (OutputArea.prototype.mime_types().indexOf(EXEC_MIME_TYPE) == -1) {\n",
       "      register_renderer(events, OutputArea);\n",
       "    }\n",
       "  }\n",
       "\n",
       "  \n",
       "  if (typeof (root._bokeh_timeout) === \"undefined\" || force === true) {\n",
       "    root._bokeh_timeout = Date.now() + 5000;\n",
       "    root._bokeh_failed_load = false;\n",
       "  }\n",
       "\n",
       "  var NB_LOAD_WARNING = {'data': {'text/html':\n",
       "     \"<div style='background-color: #fdd'>\\n\"+\n",
       "     \"<p>\\n\"+\n",
       "     \"BokehJS does not appear to have successfully loaded. If loading BokehJS from CDN, this \\n\"+\n",
       "     \"may be due to a slow or bad network connection. Possible fixes:\\n\"+\n",
       "     \"</p>\\n\"+\n",
       "     \"<ul>\\n\"+\n",
       "     \"<li>re-rerun `output_notebook()` to attempt to load from CDN again, or</li>\\n\"+\n",
       "     \"<li>use INLINE resources instead, as so:</li>\\n\"+\n",
       "     \"</ul>\\n\"+\n",
       "     \"<code>\\n\"+\n",
       "     \"from bokeh.resources import INLINE\\n\"+\n",
       "     \"output_notebook(resources=INLINE)\\n\"+\n",
       "     \"</code>\\n\"+\n",
       "     \"</div>\"}};\n",
       "\n",
       "  function display_loaded() {\n",
       "    var el = document.getElementById(\"1290\");\n",
       "    if (el != null) {\n",
       "      el.textContent = \"BokehJS is loading...\";\n",
       "    }\n",
       "    if (root.Bokeh !== undefined) {\n",
       "      if (el != null) {\n",
       "        el.textContent = \"BokehJS \" + root.Bokeh.version + \" successfully loaded.\";\n",
       "      }\n",
       "    } else if (Date.now() < root._bokeh_timeout) {\n",
       "      setTimeout(display_loaded, 100)\n",
       "    }\n",
       "  }\n",
       "\n",
       "\n",
       "  function run_callbacks() {\n",
       "    try {\n",
       "      root._bokeh_onload_callbacks.forEach(function(callback) { callback() });\n",
       "    }\n",
       "    finally {\n",
       "      delete root._bokeh_onload_callbacks\n",
       "    }\n",
       "    console.info(\"Bokeh: all callbacks have finished\");\n",
       "  }\n",
       "\n",
       "  function load_libs(js_urls, callback) {\n",
       "    root._bokeh_onload_callbacks.push(callback);\n",
       "    if (root._bokeh_is_loading > 0) {\n",
       "      console.log(\"Bokeh: BokehJS is being loaded, scheduling callback at\", now());\n",
       "      return null;\n",
       "    }\n",
       "    if (js_urls == null || js_urls.length === 0) {\n",
       "      run_callbacks();\n",
       "      return null;\n",
       "    }\n",
       "    console.log(\"Bokeh: BokehJS not loaded, scheduling load and callback at\", now());\n",
       "    root._bokeh_is_loading = js_urls.length;\n",
       "    for (var i = 0; i < js_urls.length; i++) {\n",
       "      var url = js_urls[i];\n",
       "      var s = document.createElement('script');\n",
       "      s.src = url;\n",
       "      s.async = false;\n",
       "      s.onreadystatechange = s.onload = function() {\n",
       "        root._bokeh_is_loading--;\n",
       "        if (root._bokeh_is_loading === 0) {\n",
       "          console.log(\"Bokeh: all BokehJS libraries loaded\");\n",
       "          run_callbacks()\n",
       "        }\n",
       "      };\n",
       "      s.onerror = function() {\n",
       "        console.warn(\"failed to load library \" + url);\n",
       "      };\n",
       "      console.log(\"Bokeh: injecting script tag for BokehJS library: \", url);\n",
       "      document.getElementsByTagName(\"head\")[0].appendChild(s);\n",
       "    }\n",
       "  };var element = document.getElementById(\"1290\");\n",
       "  if (element == null) {\n",
       "    console.log(\"Bokeh: ERROR: autoload.js configured with elementid '1290' but no matching script tag was found. \")\n",
       "    return false;\n",
       "  }\n",
       "\n",
       "  var js_urls = [\"https://cdn.pydata.org/bokeh/release/bokeh-1.0.2.min.js\", \"https://cdn.pydata.org/bokeh/release/bokeh-widgets-1.0.2.min.js\", \"https://cdn.pydata.org/bokeh/release/bokeh-tables-1.0.2.min.js\", \"https://cdn.pydata.org/bokeh/release/bokeh-gl-1.0.2.min.js\"];\n",
       "\n",
       "  var inline_js = [\n",
       "    function(Bokeh) {\n",
       "      Bokeh.set_log_level(\"info\");\n",
       "    },\n",
       "    \n",
       "    function(Bokeh) {\n",
       "      \n",
       "    },\n",
       "    function(Bokeh) {\n",
       "      console.log(\"Bokeh: injecting CSS: https://cdn.pydata.org/bokeh/release/bokeh-1.0.2.min.css\");\n",
       "      Bokeh.embed.inject_css(\"https://cdn.pydata.org/bokeh/release/bokeh-1.0.2.min.css\");\n",
       "      console.log(\"Bokeh: injecting CSS: https://cdn.pydata.org/bokeh/release/bokeh-widgets-1.0.2.min.css\");\n",
       "      Bokeh.embed.inject_css(\"https://cdn.pydata.org/bokeh/release/bokeh-widgets-1.0.2.min.css\");\n",
       "      console.log(\"Bokeh: injecting CSS: https://cdn.pydata.org/bokeh/release/bokeh-tables-1.0.2.min.css\");\n",
       "      Bokeh.embed.inject_css(\"https://cdn.pydata.org/bokeh/release/bokeh-tables-1.0.2.min.css\");\n",
       "    }\n",
       "  ];\n",
       "\n",
       "  function run_inline_js() {\n",
       "    \n",
       "    if ((root.Bokeh !== undefined) || (force === true)) {\n",
       "      for (var i = 0; i < inline_js.length; i++) {\n",
       "        inline_js[i].call(root, root.Bokeh);\n",
       "      }if (force === true) {\n",
       "        display_loaded();\n",
       "      }} else if (Date.now() < root._bokeh_timeout) {\n",
       "      setTimeout(run_inline_js, 100);\n",
       "    } else if (!root._bokeh_failed_load) {\n",
       "      console.log(\"Bokeh: BokehJS failed to load within specified timeout.\");\n",
       "      root._bokeh_failed_load = true;\n",
       "    } else if (force !== true) {\n",
       "      var cell = $(document.getElementById(\"1290\")).parents('.cell').data().cell;\n",
       "      cell.output_area.append_execute_result(NB_LOAD_WARNING)\n",
       "    }\n",
       "\n",
       "  }\n",
       "\n",
       "  if (root._bokeh_is_loading === 0) {\n",
       "    console.log(\"Bokeh: BokehJS loaded, going straight to plotting\");\n",
       "    run_inline_js();\n",
       "  } else {\n",
       "    load_libs(js_urls, function() {\n",
       "      console.log(\"Bokeh: BokehJS plotting callback run at\", now());\n",
       "      run_inline_js();\n",
       "    });\n",
       "  }\n",
       "}(window));"
      ],
      "application/vnd.bokehjs_load.v0+json": "\n(function(root) {\n  function now() {\n    return new Date();\n  }\n\n  var force = true;\n\n  if (typeof (root._bokeh_onload_callbacks) === \"undefined\" || force === true) {\n    root._bokeh_onload_callbacks = [];\n    root._bokeh_is_loading = undefined;\n  }\n\n  \n\n  \n  if (typeof (root._bokeh_timeout) === \"undefined\" || force === true) {\n    root._bokeh_timeout = Date.now() + 5000;\n    root._bokeh_failed_load = false;\n  }\n\n  var NB_LOAD_WARNING = {'data': {'text/html':\n     \"<div style='background-color: #fdd'>\\n\"+\n     \"<p>\\n\"+\n     \"BokehJS does not appear to have successfully loaded. If loading BokehJS from CDN, this \\n\"+\n     \"may be due to a slow or bad network connection. Possible fixes:\\n\"+\n     \"</p>\\n\"+\n     \"<ul>\\n\"+\n     \"<li>re-rerun `output_notebook()` to attempt to load from CDN again, or</li>\\n\"+\n     \"<li>use INLINE resources instead, as so:</li>\\n\"+\n     \"</ul>\\n\"+\n     \"<code>\\n\"+\n     \"from bokeh.resources import INLINE\\n\"+\n     \"output_notebook(resources=INLINE)\\n\"+\n     \"</code>\\n\"+\n     \"</div>\"}};\n\n  function display_loaded() {\n    var el = document.getElementById(\"1290\");\n    if (el != null) {\n      el.textContent = \"BokehJS is loading...\";\n    }\n    if (root.Bokeh !== undefined) {\n      if (el != null) {\n        el.textContent = \"BokehJS \" + root.Bokeh.version + \" successfully loaded.\";\n      }\n    } else if (Date.now() < root._bokeh_timeout) {\n      setTimeout(display_loaded, 100)\n    }\n  }\n\n\n  function run_callbacks() {\n    try {\n      root._bokeh_onload_callbacks.forEach(function(callback) { callback() });\n    }\n    finally {\n      delete root._bokeh_onload_callbacks\n    }\n    console.info(\"Bokeh: all callbacks have finished\");\n  }\n\n  function load_libs(js_urls, callback) {\n    root._bokeh_onload_callbacks.push(callback);\n    if (root._bokeh_is_loading > 0) {\n      console.log(\"Bokeh: BokehJS is being loaded, scheduling callback at\", now());\n      return null;\n    }\n    if (js_urls == null || js_urls.length === 0) {\n      run_callbacks();\n      return null;\n    }\n    console.log(\"Bokeh: BokehJS not loaded, scheduling load and callback at\", now());\n    root._bokeh_is_loading = js_urls.length;\n    for (var i = 0; i < js_urls.length; i++) {\n      var url = js_urls[i];\n      var s = document.createElement('script');\n      s.src = url;\n      s.async = false;\n      s.onreadystatechange = s.onload = function() {\n        root._bokeh_is_loading--;\n        if (root._bokeh_is_loading === 0) {\n          console.log(\"Bokeh: all BokehJS libraries loaded\");\n          run_callbacks()\n        }\n      };\n      s.onerror = function() {\n        console.warn(\"failed to load library \" + url);\n      };\n      console.log(\"Bokeh: injecting script tag for BokehJS library: \", url);\n      document.getElementsByTagName(\"head\")[0].appendChild(s);\n    }\n  };var element = document.getElementById(\"1290\");\n  if (element == null) {\n    console.log(\"Bokeh: ERROR: autoload.js configured with elementid '1290' but no matching script tag was found. \")\n    return false;\n  }\n\n  var js_urls = [\"https://cdn.pydata.org/bokeh/release/bokeh-1.0.2.min.js\", \"https://cdn.pydata.org/bokeh/release/bokeh-widgets-1.0.2.min.js\", \"https://cdn.pydata.org/bokeh/release/bokeh-tables-1.0.2.min.js\", \"https://cdn.pydata.org/bokeh/release/bokeh-gl-1.0.2.min.js\"];\n\n  var inline_js = [\n    function(Bokeh) {\n      Bokeh.set_log_level(\"info\");\n    },\n    \n    function(Bokeh) {\n      \n    },\n    function(Bokeh) {\n      console.log(\"Bokeh: injecting CSS: https://cdn.pydata.org/bokeh/release/bokeh-1.0.2.min.css\");\n      Bokeh.embed.inject_css(\"https://cdn.pydata.org/bokeh/release/bokeh-1.0.2.min.css\");\n      console.log(\"Bokeh: injecting CSS: https://cdn.pydata.org/bokeh/release/bokeh-widgets-1.0.2.min.css\");\n      Bokeh.embed.inject_css(\"https://cdn.pydata.org/bokeh/release/bokeh-widgets-1.0.2.min.css\");\n      console.log(\"Bokeh: injecting CSS: https://cdn.pydata.org/bokeh/release/bokeh-tables-1.0.2.min.css\");\n      Bokeh.embed.inject_css(\"https://cdn.pydata.org/bokeh/release/bokeh-tables-1.0.2.min.css\");\n    }\n  ];\n\n  function run_inline_js() {\n    \n    if ((root.Bokeh !== undefined) || (force === true)) {\n      for (var i = 0; i < inline_js.length; i++) {\n        inline_js[i].call(root, root.Bokeh);\n      }if (force === true) {\n        display_loaded();\n      }} else if (Date.now() < root._bokeh_timeout) {\n      setTimeout(run_inline_js, 100);\n    } else if (!root._bokeh_failed_load) {\n      console.log(\"Bokeh: BokehJS failed to load within specified timeout.\");\n      root._bokeh_failed_load = true;\n    } else if (force !== true) {\n      var cell = $(document.getElementById(\"1290\")).parents('.cell').data().cell;\n      cell.output_area.append_execute_result(NB_LOAD_WARNING)\n    }\n\n  }\n\n  if (root._bokeh_is_loading === 0) {\n    console.log(\"Bokeh: BokehJS loaded, going straight to plotting\");\n    run_inline_js();\n  } else {\n    load_libs(js_urls, function() {\n      console.log(\"Bokeh: BokehJS plotting callback run at\", now());\n      run_inline_js();\n    });\n  }\n}(window));"
     },
     "metadata": {},
     "output_type": "display_data"
    },
    {
     "data": {
      "text/html": [
       "\n",
       "\n",
       "\n",
       "\n",
       "\n",
       "\n",
       "  <div class=\"bk-root\" id=\"92a2f992-781b-4f3a-8bf4-fd01a8865c5f\"></div>\n"
      ]
     },
     "metadata": {},
     "output_type": "display_data"
    },
    {
     "data": {
      "application/javascript": [
       "(function(root) {\n",
       "  function embed_document(root) {\n",
       "    \n",
       "  var docs_json = {\"060ae6e7-1c02-43b1-95f4-9d0420b233f6\":{\"roots\":{\"references\":[{\"attributes\":{\"children\":[{\"id\":\"1288\",\"type\":\"ToolbarBox\"},{\"id\":\"1286\",\"type\":\"Column\"}]},\"id\":\"1289\",\"type\":\"Column\"},{\"attributes\":{\"data_source\":{\"id\":\"1220\",\"type\":\"ColumnDataSource\"},\"glyph\":{\"id\":\"1262\",\"type\":\"Circle\"},\"hover_glyph\":null,\"muted_glyph\":null,\"nonselection_glyph\":{\"id\":\"1263\",\"type\":\"Circle\"},\"selection_glyph\":null,\"view\":{\"id\":\"1265\",\"type\":\"CDSView\"}},\"id\":\"1264\",\"type\":\"GlyphRenderer\"},{\"attributes\":{},\"id\":\"1280\",\"type\":\"StringFormatter\"},{\"attributes\":{\"children\":[{\"id\":\"1285\",\"type\":\"Row\"}]},\"id\":\"1286\",\"type\":\"Column\"},{\"attributes\":{\"callback\":null,\"data\":{\"area\":[\"Hong Kong\",\"Switzerland\",\"Panama\",\"Jersey\",\"Luxembourg\",\"United Kingdom\",\"Guernsey\",\"United Arab Emirates\",\"Bahamas\",\"Uruguay\",\"Isle of Man\",\"Russia\",\"Singapore\",\"Cyprus\",\"China\",\"Monaco\",\"United States\",\"Taiwan\",\"Liechtenstein\",\"Gibraltar\",\"Colombia\",\"Ecuador\",\"Samoa\",\"Jordan\",\"Brazil\",\"Latvia\",\"Belize\",\"Guatemala\",\"Mauritius\",\"Spain\",\"British Virgin Islands\"],\"count\":[37911,37911,15811,14331,10840,9619,7327,7269,4984,4906,4892,4197,4081,3613,3213,3168,3066,2725,2066,2039,1854,1852,1613,1553,1399,1380,1351,1233,1217,1166,1107],\"x\":[12708546.221819662,916379.109375671,-9051012.04859185,-236620.70513764827,682352.3108602084,-364746.6939418176,-287338.1201411251,6011194.939528083,-8682926.371051485,-6236134.850461531,-502562.83350708074,10880957.702484656,11560755.754232766,3689698.8268976193,11688538.406970896,825963.6378415215,-11181584.492180988,13451331.09436194,1063452.0940343866,-596018.9695812444,-8213585.286185891,-8835060.240324289,-19160316.41036838,4112323.2180345375,-5922196.910202154,2755576.459356612,-9880728.32212776,-10007489.607405912,6408702.781499176,-538570.92109281,-7187472.52121889],\"y\":[2545095.077194767,5909256.087563407,928281.1129455589,6310962.4537718855,6414448.329426942,7304312.167817082,6353669.71198678,2753438.426757345,2847968.6954087955,-3878797.5699098497,7214944.260192893,9526226.028606495,143667.20055241938,4161476.289401565,4163891.200373253,5423929.683316068,4834564.161615891,2704534.79328417,5965222.525759214,4320013.535248008,321787.7928228937,-149155.75115758216,-1547772.4037354763,3654417.925153851,-1156588.4476574468,7727618.2961980635,1900577.3768912472,1762562.3706028375,-2305749.223644028,4768510.183828863,2084707.601405808]},\"selected\":{\"id\":\"1275\",\"type\":\"Selection\"},\"selection_policy\":{\"id\":\"1276\",\"type\":\"UnionRenderers\"}},\"id\":\"1220\",\"type\":\"ColumnDataSource\"},{\"attributes\":{},\"id\":\"1252\",\"type\":\"WheelZoomTool\"},{\"attributes\":{},\"id\":\"1279\",\"type\":\"StringEditor\"},{\"attributes\":{\"fill_alpha\":{\"value\":0.1},\"fill_color\":{\"value\":\"#1f77b4\"},\"line_alpha\":{\"value\":0.1},\"line_color\":{\"value\":\"#1f77b4\"},\"size\":{\"units\":\"screen\",\"value\":10},\"x\":{\"field\":\"x\"},\"y\":{\"field\":\"y\"}},\"id\":\"1263\",\"type\":\"Circle\"},{\"attributes\":{},\"id\":\"1281\",\"type\":\"StringEditor\"},{\"attributes\":{\"columns\":[{\"id\":\"1266\",\"type\":\"TableColumn\"},{\"id\":\"1267\",\"type\":\"TableColumn\"}],\"height\":350,\"source\":{\"id\":\"1220\",\"type\":\"ColumnDataSource\"},\"view\":{\"id\":\"1269\",\"type\":\"CDSView\"},\"width\":200},\"id\":\"1268\",\"type\":\"DataTable\"},{\"attributes\":{\"active_drag\":\"auto\",\"active_inspect\":\"auto\",\"active_multi\":null,\"active_scroll\":\"auto\",\"active_tap\":\"auto\",\"tools\":[{\"id\":\"1221\",\"type\":\"HoverTool\"},{\"id\":\"1251\",\"type\":\"PanTool\"},{\"id\":\"1252\",\"type\":\"WheelZoomTool\"},{\"id\":\"1253\",\"type\":\"SaveTool\"}]},\"id\":\"1254\",\"type\":\"Toolbar\"},{\"attributes\":{\"dimension\":\"lat\"},\"id\":\"1243\",\"type\":\"MercatorTicker\"},{\"attributes\":{\"callback\":null,\"end\":10000000,\"start\":-20000000},\"id\":\"1225\",\"type\":\"Range1d\"},{\"attributes\":{\"children\":[{\"id\":\"1223\",\"subtype\":\"Figure\",\"type\":\"Plot\"},{\"id\":\"1284\",\"type\":\"WidgetBox\"}]},\"id\":\"1285\",\"type\":\"Row\"},{\"attributes\":{\"dimension\":\"lon\"},\"id\":\"1236\",\"type\":\"MercatorTickFormatter\"},{\"attributes\":{\"plot\":null,\"text\":\"Top countries that have offshore entities\"},\"id\":\"1222\",\"type\":\"Title\"},{\"attributes\":{\"tile_source\":{\"id\":\"1001\",\"type\":\"WMTSTileSource\"}},\"id\":\"1259\",\"type\":\"TileRenderer\"},{\"attributes\":{},\"id\":\"1229\",\"type\":\"LinearScale\"},{\"attributes\":{},\"id\":\"1278\",\"type\":\"StringFormatter\"},{\"attributes\":{\"children\":[{\"id\":\"1268\",\"type\":\"DataTable\"}],\"height\":350,\"width\":200},\"id\":\"1284\",\"type\":\"WidgetBox\"},{\"attributes\":{\"formatter\":{\"id\":\"1245\",\"type\":\"MercatorTickFormatter\"},\"plot\":{\"id\":\"1223\",\"subtype\":\"Figure\",\"type\":\"Plot\"},\"ticker\":{\"id\":\"1243\",\"type\":\"MercatorTicker\"}},\"id\":\"1242\",\"type\":\"MercatorAxis\"},{\"attributes\":{},\"id\":\"1276\",\"type\":\"UnionRenderers\"},{\"attributes\":{\"dimension\":1,\"plot\":{\"id\":\"1223\",\"subtype\":\"Figure\",\"type\":\"Plot\"},\"ticker\":{\"id\":\"1243\",\"type\":\"MercatorTicker\"}},\"id\":\"1250\",\"type\":\"Grid\"},{\"attributes\":{\"below\":[{\"id\":\"1233\",\"type\":\"MercatorAxis\"}],\"left\":[{\"id\":\"1242\",\"type\":\"MercatorAxis\"}],\"plot_height\":400,\"renderers\":[{\"id\":\"1233\",\"type\":\"MercatorAxis\"},{\"id\":\"1241\",\"type\":\"Grid\"},{\"id\":\"1242\",\"type\":\"MercatorAxis\"},{\"id\":\"1250\",\"type\":\"Grid\"},{\"id\":\"1259\",\"type\":\"TileRenderer\"},{\"id\":\"1264\",\"type\":\"GlyphRenderer\"}],\"title\":{\"id\":\"1222\",\"type\":\"Title\"},\"toolbar\":{\"id\":\"1254\",\"type\":\"Toolbar\"},\"toolbar_location\":null,\"x_range\":{\"id\":\"1225\",\"type\":\"Range1d\"},\"x_scale\":{\"id\":\"1229\",\"type\":\"LinearScale\"},\"y_range\":{\"id\":\"1227\",\"type\":\"Range1d\"},\"y_scale\":{\"id\":\"1231\",\"type\":\"LinearScale\"}},\"id\":\"1223\",\"subtype\":\"Figure\",\"type\":\"Plot\"},{\"attributes\":{\"callback\":null,\"tooltips\":[[\"Area\",\"@area\"],[\"Count\",\"@count\"]]},\"id\":\"1221\",\"type\":\"HoverTool\"},{\"attributes\":{\"source\":{\"id\":\"1220\",\"type\":\"ColumnDataSource\"}},\"id\":\"1265\",\"type\":\"CDSView\"},{\"attributes\":{\"attribution\":\"&copy; <a href=\\\"https://www.openstreetmap.org/copyright\\\">OpenStreetMap</a> contributors,&copy; <a href=\\\"https://cartodb.com/attributions\\\">CartoDB</a>\",\"url\":\"https://tiles.basemaps.cartocdn.com/light_all/{z}/{x}/{y}.png\"},\"id\":\"1001\",\"type\":\"WMTSTileSource\"},{\"attributes\":{},\"id\":\"1253\",\"type\":\"SaveTool\"},{\"attributes\":{},\"id\":\"1231\",\"type\":\"LinearScale\"},{\"attributes\":{\"editor\":{\"id\":\"1281\",\"type\":\"StringEditor\"},\"field\":\"count\",\"formatter\":{\"id\":\"1280\",\"type\":\"StringFormatter\"},\"title\":\"Count\"},\"id\":\"1267\",\"type\":\"TableColumn\"},{\"attributes\":{\"formatter\":{\"id\":\"1236\",\"type\":\"MercatorTickFormatter\"},\"plot\":{\"id\":\"1223\",\"subtype\":\"Figure\",\"type\":\"Plot\"},\"ticker\":{\"id\":\"1234\",\"type\":\"MercatorTicker\"}},\"id\":\"1233\",\"type\":\"MercatorAxis\"},{\"attributes\":{\"source\":{\"id\":\"1220\",\"type\":\"ColumnDataSource\"}},\"id\":\"1269\",\"type\":\"CDSView\"},{\"attributes\":{\"tools\":[{\"id\":\"1221\",\"type\":\"HoverTool\"},{\"id\":\"1251\",\"type\":\"PanTool\"},{\"id\":\"1252\",\"type\":\"WheelZoomTool\"},{\"id\":\"1253\",\"type\":\"SaveTool\"}]},\"id\":\"1287\",\"type\":\"ProxyToolbar\"},{\"attributes\":{},\"id\":\"1251\",\"type\":\"PanTool\"},{\"attributes\":{\"plot\":{\"id\":\"1223\",\"subtype\":\"Figure\",\"type\":\"Plot\"},\"ticker\":{\"id\":\"1234\",\"type\":\"MercatorTicker\"}},\"id\":\"1241\",\"type\":\"Grid\"},{\"attributes\":{\"dimension\":\"lon\"},\"id\":\"1234\",\"type\":\"MercatorTicker\"},{\"attributes\":{\"editor\":{\"id\":\"1279\",\"type\":\"StringEditor\"},\"field\":\"area\",\"formatter\":{\"id\":\"1278\",\"type\":\"StringFormatter\"},\"title\":\"Area\"},\"id\":\"1266\",\"type\":\"TableColumn\"},{\"attributes\":{\"toolbar\":{\"id\":\"1287\",\"type\":\"ProxyToolbar\"},\"toolbar_location\":\"above\"},\"id\":\"1288\",\"type\":\"ToolbarBox\"},{\"attributes\":{\"fill_alpha\":{\"value\":0.05},\"fill_color\":{\"value\":\"#FF0000\"},\"line_color\":{\"value\":\"#FF0000\"},\"size\":{\"units\":\"screen\",\"value\":10},\"x\":{\"field\":\"x\"},\"y\":{\"field\":\"y\"}},\"id\":\"1262\",\"type\":\"Circle\"},{\"attributes\":{},\"id\":\"1275\",\"type\":\"Selection\"},{\"attributes\":{\"callback\":null,\"end\":10000,\"start\":-100},\"id\":\"1227\",\"type\":\"Range1d\"},{\"attributes\":{\"dimension\":\"lat\"},\"id\":\"1245\",\"type\":\"MercatorTickFormatter\"}],\"root_ids\":[\"1289\"]},\"title\":\"Bokeh Application\",\"version\":\"1.0.2\"}};\n",
       "  var render_items = [{\"docid\":\"060ae6e7-1c02-43b1-95f4-9d0420b233f6\",\"roots\":{\"1289\":\"92a2f992-781b-4f3a-8bf4-fd01a8865c5f\"}}];\n",
       "  root.Bokeh.embed.embed_items_notebook(docs_json, render_items);\n",
       "\n",
       "  }\n",
       "  if (root.Bokeh !== undefined) {\n",
       "    embed_document(root);\n",
       "  } else {\n",
       "    var attempts = 0;\n",
       "    var timer = setInterval(function(root) {\n",
       "      if (root.Bokeh !== undefined) {\n",
       "        embed_document(root);\n",
       "        clearInterval(timer);\n",
       "      }\n",
       "      attempts++;\n",
       "      if (attempts > 100) {\n",
       "        console.log(\"Bokeh: ERROR: Unable to run BokehJS code because BokehJS library is missing\");\n",
       "        clearInterval(timer);\n",
       "      }\n",
       "    }, 10, root)\n",
       "  }\n",
       "})(window);"
      ],
      "application/vnd.bokehjs_exec.v0+json": ""
     },
     "metadata": {
      "application/vnd.bokehjs_exec.v0+json": {
       "id": "1289"
      }
     },
     "output_type": "display_data"
    }
   ],
   "source": [
    "# do the same for countries, filtering by countries > 1000\n",
    "\n",
    "s = df_entity_raw.countries.value_counts()\n",
    "s = s[s > 1000]\n",
    "country_df = pd.DataFrame(s).reset_index()\n",
    "country_df.columns = ['Area', 'Count']\n",
    "\n",
    "c_lat = []\n",
    "c_long = []\n",
    "\n",
    "for ind, row in country_df.iterrows():\n",
    "    location = geolocator.geocode(row['Area'])\n",
    "    c_lat.append(location.latitude)\n",
    "    c_long.append(location.longitude)\n",
    "\n",
    "country_df['Latitude'] = c_lat\n",
    "country_df['Longitude'] = c_long\n",
    "\n",
    "x_y_c = merc(country_df.Latitude, country_df.Longitude)\n",
    "country_df['x'] = x_y_c[0]\n",
    "country_df['y'] = x_y_c[1]\n",
    "\n",
    "output_file(\"proj_jekyll/assets/country_map.html\", title=\"country_map\")\n",
    "plot_map(country_df, \"Top countries that have offshore entities\")"
   ]
  },
  {
   "cell_type": "markdown",
   "metadata": {},
   "source": [
    "An interesting fact can be noticed from the distribution of the countries. The majority of the entities present in the papers come from a country with already favourable business condition like Honk Kong, Switzerland and Luxembourg or even from a place considered a fiscal paradise (Panama, Jersey). \n",
    "More analysis on this aspect will be performed, but generally business friendly business conditions correspond with very low tax rate. In other words the  countries with highest number of entities offshore are coming from tax haven countries.\n",
    "\n",
    "This fact could also be explained with a tendency, amplified by globalization, of big companies of starting their international business already from a convenient economy; however in order to comfirm this claim a stakeholder analysis should be done and for this reason we are not going to focus on this question."
   ]
  },
  {
   "cell_type": "markdown",
   "metadata": {},
   "source": [
    "# Structure of the investigation"
   ]
  },
  {
   "cell_type": "markdown",
   "metadata": {},
   "source": [
    "## Investigation outline"
   ]
  },
  {
   "cell_type": "markdown",
   "metadata": {},
   "source": [
    "As now it was understood that the major presence in the Panama Papers is characterized by tax havens countries, it is important to comprehend what are the business and economical conditions which influence entities to go offshore on a global level and why tax havens are such an good place to then go offshore. Hence, in order to answer to questions 3 and 4, the following structure is going to be  kept. It is important to mention that all the following investigations are not only done on a global scale, but with the help of the GDP data, the relationship between the set of economical and bureaucratic indicators and the number of offshore entities are inspected for different set of countries. The categories identified are 'Small developed countries', 'Developing Countries', 'Seven Biggest Economies' and 'Developed Countries'.\n",
    "Eventually it is important to mention that an average of the indicators in the past 15 years is considered for each country in order to fully exploit the data. In order to explore the role of each indicator, interactive plots are created to better investigate individually what are the conditions which push entities to go offshore.\n",
    "\n",
    "The following steps will be performed in this order throughout the notebook. \n",
    "\n",
    "- The GDP data is integrated with external values allowing a left join with the Panama Papers without leaving any entry without defined value.   \n",
    "- The corporate tax is investigated as a determinant of offshore companies.\n",
    "- Similar analysis as before are performed with days to open a business and time spent in regulations database.\n",
    "- The amount of corporate taxes lost is analysed country by country.\n",
    "- GINI time relation wiht numbers of Panama Papers is investigated."
   ]
  },
  {
   "cell_type": "markdown",
   "metadata": {},
   "source": [
    "## Assumptions"
   ]
  },
  {
   "cell_type": "markdown",
   "metadata": {},
   "source": [
    "In our analysis some assumtions will be made:\n",
    "\n",
    "- Countries categorization used in the analysis are created arbitrarily following common criteria.\n",
    "- The whole dataset of Panama Papers is considered for country by country analysis even if not all refer to recent years.\n",
    "- The largest part of the entities in the entity database is considered to be companies and businesses. \n",
    "- Indicators change in 15 year but the average over this period si still significant as indicator of economic activity.\n",
    "- GDP is used as a measure of economic activity and power.\n",
    "- It is assumed that all the entities present in the papers correspond to the biggest share of a company and they are not just a small share holding.\n",
    " \n",
    "The way in which the countries are categorized, although being arbitrarily, follow other categorizations diffused in the sociological and economic analysis. The second and forth assumption are linked to each other as basically an average of both data is taken. This can be considered correct as, even if the two periods of time considered not match, the largest amount of Panama Papers are concentrated in recent period. All the entries of entity database are considered as companies as even if they are referring to private households, they are still register as companies. GDP is quite a fair measure of the economic weight of a country as it describes the market value of all the final goods and services produced, in this case, yearly. Eventually concerning the last assumption often times companies present in the Panama Papers correspond to holdings placed in offshore jurisdiction which represent a percentage of the total company.  In this case it was assumed that they always represent the biggest share. This means their presence in a country directly implies their taxes will be paied in that country."
   ]
  },
  {
   "cell_type": "markdown",
   "metadata": {},
   "source": [
    "## GDP Data Integration"
   ]
  },
  {
   "cell_type": "markdown",
   "metadata": {},
   "source": [
    "In order to go further with the investigation it is crucial to have an instrument to distinguish between categories of countries. The parameters used to do so are the Total Gross Domestic Product and the Gross Domestic Product per capita which are measures of the size of the economic activity in a country and population. Hence, using these two paramters the number of entities present in the Panama Papers will be weighted according to these indicators too."
   ]
  },
  {
   "cell_type": "markdown",
   "metadata": {},
   "source": [
    "$GDP_{cap}$"
   ]
  },
  {
   "cell_type": "markdown",
   "metadata": {},
   "source": [
    "As many of the operation performed with the GDP will involve an inner joint between the latter and the entity data frame, the correctness of the operation is investigated. "
   ]
  },
  {
   "cell_type": "code",
   "execution_count": 22,
   "metadata": {},
   "outputs": [
    {
     "data": {
      "text/html": [
       "<div>\n",
       "<style scoped>\n",
       "    .dataframe tbody tr th:only-of-type {\n",
       "        vertical-align: middle;\n",
       "    }\n",
       "\n",
       "    .dataframe tbody tr th {\n",
       "        vertical-align: top;\n",
       "    }\n",
       "\n",
       "    .dataframe thead th {\n",
       "        text-align: right;\n",
       "    }\n",
       "</style>\n",
       "<table border=\"1\" class=\"dataframe\">\n",
       "  <thead>\n",
       "    <tr style=\"text-align: right;\">\n",
       "      <th></th>\n",
       "      <th>Country Name</th>\n",
       "      <th>Country Code</th>\n",
       "      <th>Indicator Name</th>\n",
       "      <th>Indicator Code</th>\n",
       "      <th>1960</th>\n",
       "      <th>1961</th>\n",
       "      <th>1962</th>\n",
       "      <th>1963</th>\n",
       "      <th>1964</th>\n",
       "      <th>1965</th>\n",
       "      <th>1966</th>\n",
       "      <th>1967</th>\n",
       "      <th>1968</th>\n",
       "      <th>1969</th>\n",
       "      <th>1970</th>\n",
       "      <th>1971</th>\n",
       "      <th>1972</th>\n",
       "      <th>1973</th>\n",
       "      <th>1974</th>\n",
       "      <th>1975</th>\n",
       "      <th>1976</th>\n",
       "      <th>1977</th>\n",
       "      <th>1978</th>\n",
       "      <th>1979</th>\n",
       "      <th>1980</th>\n",
       "      <th>1981</th>\n",
       "      <th>1982</th>\n",
       "      <th>1983</th>\n",
       "      <th>1984</th>\n",
       "      <th>1985</th>\n",
       "      <th>1986</th>\n",
       "      <th>1987</th>\n",
       "      <th>1988</th>\n",
       "      <th>1989</th>\n",
       "      <th>1990</th>\n",
       "      <th>1991</th>\n",
       "      <th>1992</th>\n",
       "      <th>1993</th>\n",
       "      <th>1994</th>\n",
       "      <th>1995</th>\n",
       "      <th>1996</th>\n",
       "      <th>1997</th>\n",
       "      <th>1998</th>\n",
       "      <th>1999</th>\n",
       "      <th>2000</th>\n",
       "      <th>2001</th>\n",
       "      <th>2002</th>\n",
       "      <th>2003</th>\n",
       "      <th>2004</th>\n",
       "      <th>2005</th>\n",
       "      <th>2006</th>\n",
       "      <th>2007</th>\n",
       "      <th>2008</th>\n",
       "      <th>2009</th>\n",
       "      <th>2010</th>\n",
       "      <th>2011</th>\n",
       "      <th>2012</th>\n",
       "      <th>2013</th>\n",
       "      <th>2014</th>\n",
       "      <th>2015</th>\n",
       "      <th>2016</th>\n",
       "      <th>2017</th>\n",
       "    </tr>\n",
       "  </thead>\n",
       "  <tbody>\n",
       "    <tr>\n",
       "      <th>0</th>\n",
       "      <td>Aruba</td>\n",
       "      <td>ABW</td>\n",
       "      <td>GDP (current US$)</td>\n",
       "      <td>NY.GDP.MKTP.CD</td>\n",
       "      <td>NaN</td>\n",
       "      <td>NaN</td>\n",
       "      <td>NaN</td>\n",
       "      <td>NaN</td>\n",
       "      <td>NaN</td>\n",
       "      <td>NaN</td>\n",
       "      <td>NaN</td>\n",
       "      <td>NaN</td>\n",
       "      <td>NaN</td>\n",
       "      <td>NaN</td>\n",
       "      <td>NaN</td>\n",
       "      <td>NaN</td>\n",
       "      <td>NaN</td>\n",
       "      <td>NaN</td>\n",
       "      <td>NaN</td>\n",
       "      <td>NaN</td>\n",
       "      <td>NaN</td>\n",
       "      <td>NaN</td>\n",
       "      <td>NaN</td>\n",
       "      <td>NaN</td>\n",
       "      <td>NaN</td>\n",
       "      <td>NaN</td>\n",
       "      <td>NaN</td>\n",
       "      <td>NaN</td>\n",
       "      <td>NaN</td>\n",
       "      <td>NaN</td>\n",
       "      <td>NaN</td>\n",
       "      <td>NaN</td>\n",
       "      <td>NaN</td>\n",
       "      <td>NaN</td>\n",
       "      <td>NaN</td>\n",
       "      <td>NaN</td>\n",
       "      <td>NaN</td>\n",
       "      <td>NaN</td>\n",
       "      <td>1.330168e+09</td>\n",
       "      <td>1.320670e+09</td>\n",
       "      <td>1.379888e+09</td>\n",
       "      <td>1.531844e+09</td>\n",
       "      <td>1.665363e+09</td>\n",
       "      <td>1.722799e+09</td>\n",
       "      <td>1.873453e+09</td>\n",
       "      <td>1.920263e+09</td>\n",
       "      <td>1.941095e+09</td>\n",
       "      <td>2.021302e+09</td>\n",
       "      <td>2.228279e+09</td>\n",
       "      <td>2.331006e+09</td>\n",
       "      <td>2.421475e+09</td>\n",
       "      <td>2.623726e+09</td>\n",
       "      <td>2.791961e+09</td>\n",
       "      <td>2.498933e+09</td>\n",
       "      <td>2.467704e+09</td>\n",
       "      <td>2.584464e+09</td>\n",
       "      <td>NaN</td>\n",
       "      <td>NaN</td>\n",
       "      <td>2.516000e+09</td>\n",
       "      <td>NaN</td>\n",
       "      <td>NaN</td>\n",
       "      <td>NaN</td>\n",
       "    </tr>\n",
       "    <tr>\n",
       "      <th>1</th>\n",
       "      <td>Afghanistan</td>\n",
       "      <td>AFG</td>\n",
       "      <td>GDP (current US$)</td>\n",
       "      <td>NY.GDP.MKTP.CD</td>\n",
       "      <td>537777811.1</td>\n",
       "      <td>548888895.6</td>\n",
       "      <td>546666677.8</td>\n",
       "      <td>751111191.1</td>\n",
       "      <td>800000044.4</td>\n",
       "      <td>1.006667e+09</td>\n",
       "      <td>1.400000e+09</td>\n",
       "      <td>1.673333e+09</td>\n",
       "      <td>1.373333e+09</td>\n",
       "      <td>1.408889e+09</td>\n",
       "      <td>1.748887e+09</td>\n",
       "      <td>1.831109e+09</td>\n",
       "      <td>1.595555e+09</td>\n",
       "      <td>1.733333e+09</td>\n",
       "      <td>2.155555e+09</td>\n",
       "      <td>2.366667e+09</td>\n",
       "      <td>2.555556e+09</td>\n",
       "      <td>2.953333e+09</td>\n",
       "      <td>3.300000e+09</td>\n",
       "      <td>3.697940e+09</td>\n",
       "      <td>3.641723e+09</td>\n",
       "      <td>3.478788e+09</td>\n",
       "      <td>NaN</td>\n",
       "      <td>NaN</td>\n",
       "      <td>NaN</td>\n",
       "      <td>NaN</td>\n",
       "      <td>NaN</td>\n",
       "      <td>NaN</td>\n",
       "      <td>NaN</td>\n",
       "      <td>NaN</td>\n",
       "      <td>NaN</td>\n",
       "      <td>NaN</td>\n",
       "      <td>NaN</td>\n",
       "      <td>NaN</td>\n",
       "      <td>NaN</td>\n",
       "      <td>NaN</td>\n",
       "      <td>NaN</td>\n",
       "      <td>NaN</td>\n",
       "      <td>NaN</td>\n",
       "      <td>NaN</td>\n",
       "      <td>NaN</td>\n",
       "      <td>2.461666e+09</td>\n",
       "      <td>4.128821e+09</td>\n",
       "      <td>4.583644e+09</td>\n",
       "      <td>5.285466e+09</td>\n",
       "      <td>6.275074e+09</td>\n",
       "      <td>7.057598e+09</td>\n",
       "      <td>9.843842e+09</td>\n",
       "      <td>1.019053e+10</td>\n",
       "      <td>1.248694e+10</td>\n",
       "      <td>1.593680e+10</td>\n",
       "      <td>1.793024e+10</td>\n",
       "      <td>2.053654e+10</td>\n",
       "      <td>2.026425e+10</td>\n",
       "      <td>2.061610e+10</td>\n",
       "      <td>1.921556e+10</td>\n",
       "      <td>1.946902e+10</td>\n",
       "      <td>2.081530e+10</td>\n",
       "    </tr>\n",
       "    <tr>\n",
       "      <th>2</th>\n",
       "      <td>Angola</td>\n",
       "      <td>AGO</td>\n",
       "      <td>GDP (current US$)</td>\n",
       "      <td>NY.GDP.MKTP.CD</td>\n",
       "      <td>NaN</td>\n",
       "      <td>NaN</td>\n",
       "      <td>NaN</td>\n",
       "      <td>NaN</td>\n",
       "      <td>NaN</td>\n",
       "      <td>NaN</td>\n",
       "      <td>NaN</td>\n",
       "      <td>NaN</td>\n",
       "      <td>NaN</td>\n",
       "      <td>NaN</td>\n",
       "      <td>NaN</td>\n",
       "      <td>NaN</td>\n",
       "      <td>NaN</td>\n",
       "      <td>NaN</td>\n",
       "      <td>NaN</td>\n",
       "      <td>NaN</td>\n",
       "      <td>NaN</td>\n",
       "      <td>NaN</td>\n",
       "      <td>NaN</td>\n",
       "      <td>NaN</td>\n",
       "      <td>5.930503e+09</td>\n",
       "      <td>5.550483e+09</td>\n",
       "      <td>5.550483e+09</td>\n",
       "      <td>5.784342e+09</td>\n",
       "      <td>6.131475e+09</td>\n",
       "      <td>7.553560e+09</td>\n",
       "      <td>7.072063e+09</td>\n",
       "      <td>8.083872e+09</td>\n",
       "      <td>8.769251e+09</td>\n",
       "      <td>1.020110e+10</td>\n",
       "      <td>1.122876e+10</td>\n",
       "      <td>1.060378e+10</td>\n",
       "      <td>8.307811e+09</td>\n",
       "      <td>5.768720e+09</td>\n",
       "      <td>4.438321e+09</td>\n",
       "      <td>5.538749e+09</td>\n",
       "      <td>7.526447e+09</td>\n",
       "      <td>7.648377e+09</td>\n",
       "      <td>6.506230e+09</td>\n",
       "      <td>6.152923e+09</td>\n",
       "      <td>9.129595e+09</td>\n",
       "      <td>8.936064e+09</td>\n",
       "      <td>1.249735e+10</td>\n",
       "      <td>1.418895e+10</td>\n",
       "      <td>1.964085e+10</td>\n",
       "      <td>2.823371e+10</td>\n",
       "      <td>4.178948e+10</td>\n",
       "      <td>6.044892e+10</td>\n",
       "      <td>8.417804e+10</td>\n",
       "      <td>7.549239e+10</td>\n",
       "      <td>8.252614e+10</td>\n",
       "      <td>1.040000e+11</td>\n",
       "      <td>1.140000e+11</td>\n",
       "      <td>1.250000e+11</td>\n",
       "      <td>1.270000e+11</td>\n",
       "      <td>1.030000e+11</td>\n",
       "      <td>9.533720e+10</td>\n",
       "      <td>1.240000e+11</td>\n",
       "    </tr>\n",
       "    <tr>\n",
       "      <th>3</th>\n",
       "      <td>Albania</td>\n",
       "      <td>ALB</td>\n",
       "      <td>GDP (current US$)</td>\n",
       "      <td>NY.GDP.MKTP.CD</td>\n",
       "      <td>NaN</td>\n",
       "      <td>NaN</td>\n",
       "      <td>NaN</td>\n",
       "      <td>NaN</td>\n",
       "      <td>NaN</td>\n",
       "      <td>NaN</td>\n",
       "      <td>NaN</td>\n",
       "      <td>NaN</td>\n",
       "      <td>NaN</td>\n",
       "      <td>NaN</td>\n",
       "      <td>NaN</td>\n",
       "      <td>NaN</td>\n",
       "      <td>NaN</td>\n",
       "      <td>NaN</td>\n",
       "      <td>NaN</td>\n",
       "      <td>NaN</td>\n",
       "      <td>NaN</td>\n",
       "      <td>NaN</td>\n",
       "      <td>NaN</td>\n",
       "      <td>NaN</td>\n",
       "      <td>NaN</td>\n",
       "      <td>NaN</td>\n",
       "      <td>NaN</td>\n",
       "      <td>NaN</td>\n",
       "      <td>1.924242e+09</td>\n",
       "      <td>1.965385e+09</td>\n",
       "      <td>2.173750e+09</td>\n",
       "      <td>2.156625e+09</td>\n",
       "      <td>2.126000e+09</td>\n",
       "      <td>2.335125e+09</td>\n",
       "      <td>2.101625e+09</td>\n",
       "      <td>1.139167e+09</td>\n",
       "      <td>7.094526e+08</td>\n",
       "      <td>1.228071e+09</td>\n",
       "      <td>1.985674e+09</td>\n",
       "      <td>2.424499e+09</td>\n",
       "      <td>3.314898e+09</td>\n",
       "      <td>2.359903e+09</td>\n",
       "      <td>2.707124e+09</td>\n",
       "      <td>3.414761e+09</td>\n",
       "      <td>3.632044e+09</td>\n",
       "      <td>4.060759e+09</td>\n",
       "      <td>4.435079e+09</td>\n",
       "      <td>5.746946e+09</td>\n",
       "      <td>7.314865e+09</td>\n",
       "      <td>8.158549e+09</td>\n",
       "      <td>8.992642e+09</td>\n",
       "      <td>1.070101e+10</td>\n",
       "      <td>1.288135e+10</td>\n",
       "      <td>1.204421e+10</td>\n",
       "      <td>1.192695e+10</td>\n",
       "      <td>1.289087e+10</td>\n",
       "      <td>1.231978e+10</td>\n",
       "      <td>1.277628e+10</td>\n",
       "      <td>1.322824e+10</td>\n",
       "      <td>1.138693e+10</td>\n",
       "      <td>1.188368e+10</td>\n",
       "      <td>1.303935e+10</td>\n",
       "    </tr>\n",
       "    <tr>\n",
       "      <th>4</th>\n",
       "      <td>Andorra</td>\n",
       "      <td>AND</td>\n",
       "      <td>GDP (current US$)</td>\n",
       "      <td>NY.GDP.MKTP.CD</td>\n",
       "      <td>NaN</td>\n",
       "      <td>NaN</td>\n",
       "      <td>NaN</td>\n",
       "      <td>NaN</td>\n",
       "      <td>NaN</td>\n",
       "      <td>NaN</td>\n",
       "      <td>NaN</td>\n",
       "      <td>NaN</td>\n",
       "      <td>NaN</td>\n",
       "      <td>NaN</td>\n",
       "      <td>7.861921e+07</td>\n",
       "      <td>8.940982e+07</td>\n",
       "      <td>1.134082e+08</td>\n",
       "      <td>1.508201e+08</td>\n",
       "      <td>1.865587e+08</td>\n",
       "      <td>2.201272e+08</td>\n",
       "      <td>2.272810e+08</td>\n",
       "      <td>2.540202e+08</td>\n",
       "      <td>3.080089e+08</td>\n",
       "      <td>4.115783e+08</td>\n",
       "      <td>4.464161e+08</td>\n",
       "      <td>3.889587e+08</td>\n",
       "      <td>3.758960e+08</td>\n",
       "      <td>3.278618e+08</td>\n",
       "      <td>3.300707e+08</td>\n",
       "      <td>3.467380e+08</td>\n",
       "      <td>4.820006e+08</td>\n",
       "      <td>6.113164e+08</td>\n",
       "      <td>7.214259e+08</td>\n",
       "      <td>7.954493e+08</td>\n",
       "      <td>1.029048e+09</td>\n",
       "      <td>1.106929e+09</td>\n",
       "      <td>1.210014e+09</td>\n",
       "      <td>1.007026e+09</td>\n",
       "      <td>1.017549e+09</td>\n",
       "      <td>1.178739e+09</td>\n",
       "      <td>1.223945e+09</td>\n",
       "      <td>1.180597e+09</td>\n",
       "      <td>1.211932e+09</td>\n",
       "      <td>1.239876e+09</td>\n",
       "      <td>1.434430e+09</td>\n",
       "      <td>1.496913e+09</td>\n",
       "      <td>1.733117e+09</td>\n",
       "      <td>2.398646e+09</td>\n",
       "      <td>2.935659e+09</td>\n",
       "      <td>3.255789e+09</td>\n",
       "      <td>3.543257e+09</td>\n",
       "      <td>4.016972e+09</td>\n",
       "      <td>4.007353e+09</td>\n",
       "      <td>3.660531e+09</td>\n",
       "      <td>3.355695e+09</td>\n",
       "      <td>3.442063e+09</td>\n",
       "      <td>3.164615e+09</td>\n",
       "      <td>3.281585e+09</td>\n",
       "      <td>3.350736e+09</td>\n",
       "      <td>2.811489e+09</td>\n",
       "      <td>2.877312e+09</td>\n",
       "      <td>3.012914e+09</td>\n",
       "    </tr>\n",
       "  </tbody>\n",
       "</table>\n",
       "</div>"
      ],
      "text/plain": [
       "  Country Name Country Code     Indicator Name  Indicator Code         1960  \\\n",
       "0        Aruba          ABW  GDP (current US$)  NY.GDP.MKTP.CD          NaN   \n",
       "1  Afghanistan          AFG  GDP (current US$)  NY.GDP.MKTP.CD  537777811.1   \n",
       "2       Angola          AGO  GDP (current US$)  NY.GDP.MKTP.CD          NaN   \n",
       "3      Albania          ALB  GDP (current US$)  NY.GDP.MKTP.CD          NaN   \n",
       "4      Andorra          AND  GDP (current US$)  NY.GDP.MKTP.CD          NaN   \n",
       "\n",
       "          1961         1962         1963         1964          1965  \\\n",
       "0          NaN          NaN          NaN          NaN           NaN   \n",
       "1  548888895.6  546666677.8  751111191.1  800000044.4  1.006667e+09   \n",
       "2          NaN          NaN          NaN          NaN           NaN   \n",
       "3          NaN          NaN          NaN          NaN           NaN   \n",
       "4          NaN          NaN          NaN          NaN           NaN   \n",
       "\n",
       "           1966          1967          1968          1969          1970  \\\n",
       "0           NaN           NaN           NaN           NaN           NaN   \n",
       "1  1.400000e+09  1.673333e+09  1.373333e+09  1.408889e+09  1.748887e+09   \n",
       "2           NaN           NaN           NaN           NaN           NaN   \n",
       "3           NaN           NaN           NaN           NaN           NaN   \n",
       "4           NaN           NaN           NaN           NaN  7.861921e+07   \n",
       "\n",
       "           1971          1972          1973          1974          1975  \\\n",
       "0           NaN           NaN           NaN           NaN           NaN   \n",
       "1  1.831109e+09  1.595555e+09  1.733333e+09  2.155555e+09  2.366667e+09   \n",
       "2           NaN           NaN           NaN           NaN           NaN   \n",
       "3           NaN           NaN           NaN           NaN           NaN   \n",
       "4  8.940982e+07  1.134082e+08  1.508201e+08  1.865587e+08  2.201272e+08   \n",
       "\n",
       "           1976          1977          1978          1979          1980  \\\n",
       "0           NaN           NaN           NaN           NaN           NaN   \n",
       "1  2.555556e+09  2.953333e+09  3.300000e+09  3.697940e+09  3.641723e+09   \n",
       "2           NaN           NaN           NaN           NaN  5.930503e+09   \n",
       "3           NaN           NaN           NaN           NaN           NaN   \n",
       "4  2.272810e+08  2.540202e+08  3.080089e+08  4.115783e+08  4.464161e+08   \n",
       "\n",
       "           1981          1982          1983          1984          1985  \\\n",
       "0           NaN           NaN           NaN           NaN           NaN   \n",
       "1  3.478788e+09           NaN           NaN           NaN           NaN   \n",
       "2  5.550483e+09  5.550483e+09  5.784342e+09  6.131475e+09  7.553560e+09   \n",
       "3           NaN           NaN           NaN  1.924242e+09  1.965385e+09   \n",
       "4  3.889587e+08  3.758960e+08  3.278618e+08  3.300707e+08  3.467380e+08   \n",
       "\n",
       "           1986          1987          1988          1989          1990  \\\n",
       "0           NaN           NaN           NaN           NaN           NaN   \n",
       "1           NaN           NaN           NaN           NaN           NaN   \n",
       "2  7.072063e+09  8.083872e+09  8.769251e+09  1.020110e+10  1.122876e+10   \n",
       "3  2.173750e+09  2.156625e+09  2.126000e+09  2.335125e+09  2.101625e+09   \n",
       "4  4.820006e+08  6.113164e+08  7.214259e+08  7.954493e+08  1.029048e+09   \n",
       "\n",
       "           1991          1992          1993          1994          1995  \\\n",
       "0           NaN           NaN           NaN  1.330168e+09  1.320670e+09   \n",
       "1           NaN           NaN           NaN           NaN           NaN   \n",
       "2  1.060378e+10  8.307811e+09  5.768720e+09  4.438321e+09  5.538749e+09   \n",
       "3  1.139167e+09  7.094526e+08  1.228071e+09  1.985674e+09  2.424499e+09   \n",
       "4  1.106929e+09  1.210014e+09  1.007026e+09  1.017549e+09  1.178739e+09   \n",
       "\n",
       "           1996          1997          1998          1999          2000  \\\n",
       "0  1.379888e+09  1.531844e+09  1.665363e+09  1.722799e+09  1.873453e+09   \n",
       "1           NaN           NaN           NaN           NaN           NaN   \n",
       "2  7.526447e+09  7.648377e+09  6.506230e+09  6.152923e+09  9.129595e+09   \n",
       "3  3.314898e+09  2.359903e+09  2.707124e+09  3.414761e+09  3.632044e+09   \n",
       "4  1.223945e+09  1.180597e+09  1.211932e+09  1.239876e+09  1.434430e+09   \n",
       "\n",
       "           2001          2002          2003          2004          2005  \\\n",
       "0  1.920263e+09  1.941095e+09  2.021302e+09  2.228279e+09  2.331006e+09   \n",
       "1  2.461666e+09  4.128821e+09  4.583644e+09  5.285466e+09  6.275074e+09   \n",
       "2  8.936064e+09  1.249735e+10  1.418895e+10  1.964085e+10  2.823371e+10   \n",
       "3  4.060759e+09  4.435079e+09  5.746946e+09  7.314865e+09  8.158549e+09   \n",
       "4  1.496913e+09  1.733117e+09  2.398646e+09  2.935659e+09  3.255789e+09   \n",
       "\n",
       "           2006          2007          2008          2009          2010  \\\n",
       "0  2.421475e+09  2.623726e+09  2.791961e+09  2.498933e+09  2.467704e+09   \n",
       "1  7.057598e+09  9.843842e+09  1.019053e+10  1.248694e+10  1.593680e+10   \n",
       "2  4.178948e+10  6.044892e+10  8.417804e+10  7.549239e+10  8.252614e+10   \n",
       "3  8.992642e+09  1.070101e+10  1.288135e+10  1.204421e+10  1.192695e+10   \n",
       "4  3.543257e+09  4.016972e+09  4.007353e+09  3.660531e+09  3.355695e+09   \n",
       "\n",
       "           2011          2012          2013          2014          2015  \\\n",
       "0  2.584464e+09           NaN           NaN  2.516000e+09           NaN   \n",
       "1  1.793024e+10  2.053654e+10  2.026425e+10  2.061610e+10  1.921556e+10   \n",
       "2  1.040000e+11  1.140000e+11  1.250000e+11  1.270000e+11  1.030000e+11   \n",
       "3  1.289087e+10  1.231978e+10  1.277628e+10  1.322824e+10  1.138693e+10   \n",
       "4  3.442063e+09  3.164615e+09  3.281585e+09  3.350736e+09  2.811489e+09   \n",
       "\n",
       "           2016          2017  \n",
       "0           NaN           NaN  \n",
       "1  1.946902e+10  2.081530e+10  \n",
       "2  9.533720e+10  1.240000e+11  \n",
       "3  1.188368e+10  1.303935e+10  \n",
       "4  2.877312e+09  3.012914e+09  "
      ]
     },
     "execution_count": 22,
     "metadata": {},
     "output_type": "execute_result"
    }
   ],
   "source": [
    "df_GDP_tot_raw.head()"
   ]
  },
  {
   "cell_type": "markdown",
   "metadata": {},
   "source": [
    "All the following numbers printed show the condition of the data frame as it is right now, after performing the operation later described. The year with less missing values among the ones that follow the 2008 economic crisis (meaning comparable GDP to the present ones) is chosen as measure of the GDP. It is 2014 with 16 missing values."
   ]
  },
  {
   "cell_type": "code",
   "execution_count": 23,
   "metadata": {},
   "outputs": [
    {
     "name": "stdout",
     "output_type": "stream",
     "text": [
      "30\n",
      "23\n",
      "18\n",
      "9\n",
      "16\n",
      "17\n"
     ]
    }
   ],
   "source": [
    "print(df_GDP_tot_raw['2017'].isna().sum())\n",
    "print(df_GDP_tot_raw['2016'].isna().sum())\n",
    "print(df_GDP_tot_raw['2015'].isna().sum())\n",
    "print(df_GDP_tot_raw['2014'].isna().sum())\n",
    "print(df_GDP_tot_raw['2013'].isna().sum())\n",
    "print(df_GDP_tot_raw['2012'].isna().sum())"
   ]
  },
  {
   "cell_type": "code",
   "execution_count": 24,
   "metadata": {
    "scrolled": true
   },
   "outputs": [],
   "source": [
    "df_GDP_tot=df_GDP_tot_raw[['Country Name','2014']].copy()\n",
    "df_GDP_tot.columns = ['countries', 'GDP_tot']\n",
    "#df_GDP_tot"
   ]
  },
  {
   "cell_type": "markdown",
   "metadata": {},
   "source": [
    "A new data frame from the `entity` one is created with only the relevant columns. (value_counts is applied) "
   ]
  },
  {
   "cell_type": "code",
   "execution_count": 25,
   "metadata": {
    "scrolled": true
   },
   "outputs": [],
   "source": [
    "df_vc=pd.DataFrame(df_entity_raw.countries.value_counts())\n",
    "df_vc.reset_index(level=0, inplace=True)\n",
    "df_vc.columns = ['countries', 'n_companies']\n",
    "#df_vc"
   ]
  },
  {
   "cell_type": "markdown",
   "metadata": {},
   "source": [
    "Now a merge with an inner join the value counts data frame `df_vc` and the `df_GDP_tot` is performed. All the lines with a missing GDP were visualized below (lines of British Virgin Islands, Turks and Caicos Island, Sint Marteen (dutch part), Monaco, Gibraltar, Cayman Islands, Bermuda and Aruba).  The missing values are manually integrated in the `.csv` looking at reliable data online. The check for nan values now shows an empty dataframe."
   ]
  },
  {
   "cell_type": "code",
   "execution_count": 26,
   "metadata": {},
   "outputs": [
    {
     "name": "stdout",
     "output_type": "stream",
     "text": [
      "Number of countries without GDP in the database:  Empty DataFrame\n",
      "Columns: [countries, GDP_tot, n_companies]\n",
      "Index: []\n"
     ]
    }
   ],
   "source": [
    "df_GDP_tot_entities=df_GDP_tot.merge(df_vc, how='inner',left_on='countries', right_on='countries')\n",
    "print('Number of countries without GDP in the database: ',df_GDP_tot_entities[df_GDP_tot_entities['GDP_tot'].isna()])\n",
    "#df_GDP_tot_entities"
   ]
  },
  {
   "cell_type": "markdown",
   "metadata": {},
   "source": [
    "$GDP_{tot}$"
   ]
  },
  {
   "cell_type": "markdown",
   "metadata": {},
   "source": [
    "The same analysis procedure is performed on the GDP pro capita data frame. The same lines of GDP were missing, and they were replaced in the same manner as for the total GDP."
   ]
  },
  {
   "cell_type": "code",
   "execution_count": 27,
   "metadata": {},
   "outputs": [
    {
     "data": {
      "text/html": [
       "<div>\n",
       "<style scoped>\n",
       "    .dataframe tbody tr th:only-of-type {\n",
       "        vertical-align: middle;\n",
       "    }\n",
       "\n",
       "    .dataframe tbody tr th {\n",
       "        vertical-align: top;\n",
       "    }\n",
       "\n",
       "    .dataframe thead th {\n",
       "        text-align: right;\n",
       "    }\n",
       "</style>\n",
       "<table border=\"1\" class=\"dataframe\">\n",
       "  <thead>\n",
       "    <tr style=\"text-align: right;\">\n",
       "      <th></th>\n",
       "      <th>Country Name</th>\n",
       "      <th>Country Code</th>\n",
       "      <th>Indicator Name</th>\n",
       "      <th>Indicator Code</th>\n",
       "      <th>1960</th>\n",
       "      <th>1961</th>\n",
       "      <th>1962</th>\n",
       "      <th>1963</th>\n",
       "      <th>1964</th>\n",
       "      <th>1965</th>\n",
       "      <th>1966</th>\n",
       "      <th>1967</th>\n",
       "      <th>1968</th>\n",
       "      <th>1969</th>\n",
       "      <th>1970</th>\n",
       "      <th>1971</th>\n",
       "      <th>1972</th>\n",
       "      <th>1973</th>\n",
       "      <th>1974</th>\n",
       "      <th>1975</th>\n",
       "      <th>1976</th>\n",
       "      <th>1977</th>\n",
       "      <th>1978</th>\n",
       "      <th>1979</th>\n",
       "      <th>1980</th>\n",
       "      <th>1981</th>\n",
       "      <th>1982</th>\n",
       "      <th>1983</th>\n",
       "      <th>1984</th>\n",
       "      <th>1985</th>\n",
       "      <th>1986</th>\n",
       "      <th>1987</th>\n",
       "      <th>1988</th>\n",
       "      <th>1989</th>\n",
       "      <th>1990</th>\n",
       "      <th>1991</th>\n",
       "      <th>1992</th>\n",
       "      <th>1993</th>\n",
       "      <th>1994</th>\n",
       "      <th>1995</th>\n",
       "      <th>1996</th>\n",
       "      <th>1997</th>\n",
       "      <th>1998</th>\n",
       "      <th>1999</th>\n",
       "      <th>2000</th>\n",
       "      <th>2001</th>\n",
       "      <th>2002</th>\n",
       "      <th>2003</th>\n",
       "      <th>2004</th>\n",
       "      <th>2005</th>\n",
       "      <th>2006</th>\n",
       "      <th>2007</th>\n",
       "      <th>2008</th>\n",
       "      <th>2009</th>\n",
       "      <th>2010</th>\n",
       "      <th>2011</th>\n",
       "      <th>2012</th>\n",
       "      <th>2013</th>\n",
       "      <th>2014</th>\n",
       "      <th>2015</th>\n",
       "      <th>2016</th>\n",
       "      <th>2017</th>\n",
       "    </tr>\n",
       "  </thead>\n",
       "  <tbody>\n",
       "    <tr>\n",
       "      <th>0</th>\n",
       "      <td>Aruba</td>\n",
       "      <td>ABW</td>\n",
       "      <td>GDP per capita (current US$)</td>\n",
       "      <td>NY.GDP.PCAP.CD</td>\n",
       "      <td>NaN</td>\n",
       "      <td>NaN</td>\n",
       "      <td>NaN</td>\n",
       "      <td>NaN</td>\n",
       "      <td>NaN</td>\n",
       "      <td>NaN</td>\n",
       "      <td>NaN</td>\n",
       "      <td>NaN</td>\n",
       "      <td>NaN</td>\n",
       "      <td>NaN</td>\n",
       "      <td>NaN</td>\n",
       "      <td>NaN</td>\n",
       "      <td>NaN</td>\n",
       "      <td>NaN</td>\n",
       "      <td>NaN</td>\n",
       "      <td>NaN</td>\n",
       "      <td>NaN</td>\n",
       "      <td>NaN</td>\n",
       "      <td>NaN</td>\n",
       "      <td>NaN</td>\n",
       "      <td>NaN</td>\n",
       "      <td>NaN</td>\n",
       "      <td>NaN</td>\n",
       "      <td>NaN</td>\n",
       "      <td>NaN</td>\n",
       "      <td>NaN</td>\n",
       "      <td>NaN</td>\n",
       "      <td>NaN</td>\n",
       "      <td>NaN</td>\n",
       "      <td>NaN</td>\n",
       "      <td>NaN</td>\n",
       "      <td>NaN</td>\n",
       "      <td>NaN</td>\n",
       "      <td>NaN</td>\n",
       "      <td>17342.471940</td>\n",
       "      <td>16441.790640</td>\n",
       "      <td>16585.195530</td>\n",
       "      <td>17926.572840</td>\n",
       "      <td>19081.351660</td>\n",
       "      <td>19356.203390</td>\n",
       "      <td>20620.700630</td>\n",
       "      <td>20670.655660</td>\n",
       "      <td>20434.299440</td>\n",
       "      <td>20834.510200</td>\n",
       "      <td>22567.824920</td>\n",
       "      <td>23302.831990</td>\n",
       "      <td>24014.944270</td>\n",
       "      <td>25921.026050</td>\n",
       "      <td>27546.899390</td>\n",
       "      <td>24631.434860</td>\n",
       "      <td>24271.940420</td>\n",
       "      <td>25324.720360</td>\n",
       "      <td>NaN</td>\n",
       "      <td>NaN</td>\n",
       "      <td>25300.000000</td>\n",
       "      <td>NaN</td>\n",
       "      <td>NaN</td>\n",
       "      <td>NaN</td>\n",
       "    </tr>\n",
       "    <tr>\n",
       "      <th>1</th>\n",
       "      <td>Afghanistan</td>\n",
       "      <td>AFG</td>\n",
       "      <td>GDP per capita (current US$)</td>\n",
       "      <td>NY.GDP.PCAP.CD</td>\n",
       "      <td>59.777327</td>\n",
       "      <td>59.878153</td>\n",
       "      <td>58.492874</td>\n",
       "      <td>78.782758</td>\n",
       "      <td>82.208444</td>\n",
       "      <td>101.290471</td>\n",
       "      <td>137.899362</td>\n",
       "      <td>161.322</td>\n",
       "      <td>129.506654</td>\n",
       "      <td>129.798541</td>\n",
       "      <td>157.187422</td>\n",
       "      <td>160.372836</td>\n",
       "      <td>136.117014</td>\n",
       "      <td>144.110319</td>\n",
       "      <td>174.942038</td>\n",
       "      <td>187.975604</td>\n",
       "      <td>199.026173</td>\n",
       "      <td>226.005344</td>\n",
       "      <td>249.287386</td>\n",
       "      <td>277.900742</td>\n",
       "      <td>274.880859</td>\n",
       "      <td>266.493042</td>\n",
       "      <td>NaN</td>\n",
       "      <td>NaN</td>\n",
       "      <td>NaN</td>\n",
       "      <td>NaN</td>\n",
       "      <td>NaN</td>\n",
       "      <td>NaN</td>\n",
       "      <td>NaN</td>\n",
       "      <td>NaN</td>\n",
       "      <td>NaN</td>\n",
       "      <td>NaN</td>\n",
       "      <td>NaN</td>\n",
       "      <td>NaN</td>\n",
       "      <td>NaN</td>\n",
       "      <td>NaN</td>\n",
       "      <td>NaN</td>\n",
       "      <td>NaN</td>\n",
       "      <td>NaN</td>\n",
       "      <td>NaN</td>\n",
       "      <td>NaN</td>\n",
       "      <td>117.409691</td>\n",
       "      <td>187.845095</td>\n",
       "      <td>198.728544</td>\n",
       "      <td>219.141353</td>\n",
       "      <td>250.294130</td>\n",
       "      <td>272.563077</td>\n",
       "      <td>369.835796</td>\n",
       "      <td>373.361116</td>\n",
       "      <td>445.893298</td>\n",
       "      <td>553.300289</td>\n",
       "      <td>603.537023</td>\n",
       "      <td>669.009051</td>\n",
       "      <td>638.612543</td>\n",
       "      <td>629.345250</td>\n",
       "      <td>569.577923</td>\n",
       "      <td>561.778746</td>\n",
       "      <td>585.850064</td>\n",
       "    </tr>\n",
       "    <tr>\n",
       "      <th>2</th>\n",
       "      <td>Angola</td>\n",
       "      <td>AGO</td>\n",
       "      <td>GDP per capita (current US$)</td>\n",
       "      <td>NY.GDP.PCAP.CD</td>\n",
       "      <td>NaN</td>\n",
       "      <td>NaN</td>\n",
       "      <td>NaN</td>\n",
       "      <td>NaN</td>\n",
       "      <td>NaN</td>\n",
       "      <td>NaN</td>\n",
       "      <td>NaN</td>\n",
       "      <td>NaN</td>\n",
       "      <td>NaN</td>\n",
       "      <td>NaN</td>\n",
       "      <td>NaN</td>\n",
       "      <td>NaN</td>\n",
       "      <td>NaN</td>\n",
       "      <td>NaN</td>\n",
       "      <td>NaN</td>\n",
       "      <td>NaN</td>\n",
       "      <td>NaN</td>\n",
       "      <td>NaN</td>\n",
       "      <td>NaN</td>\n",
       "      <td>NaN</td>\n",
       "      <td>664.117560</td>\n",
       "      <td>600.408766</td>\n",
       "      <td>579.252001</td>\n",
       "      <td>582.420126</td>\n",
       "      <td>596.602467</td>\n",
       "      <td>711.992700</td>\n",
       "      <td>647.563354</td>\n",
       "      <td>720.598939</td>\n",
       "      <td>761.618458</td>\n",
       "      <td>862.509058</td>\n",
       "      <td>922.550170</td>\n",
       "      <td>844.691134</td>\n",
       "      <td>640.622298</td>\n",
       "      <td>430.381595</td>\n",
       "      <td>320.657792</td>\n",
       "      <td>388.166766</td>\n",
       "      <td>512.620966</td>\n",
       "      <td>506.884952</td>\n",
       "      <td>419.639845</td>\n",
       "      <td>385.768854</td>\n",
       "      <td>555.296942</td>\n",
       "      <td>526.168743</td>\n",
       "      <td>711.181789</td>\n",
       "      <td>779.468317</td>\n",
       "      <td>1041.087109</td>\n",
       "      <td>1443.991924</td>\n",
       "      <td>2062.415212</td>\n",
       "      <td>2878.837305</td>\n",
       "      <td>3868.579014</td>\n",
       "      <td>3347.844900</td>\n",
       "      <td>3531.416878</td>\n",
       "      <td>4299.008136</td>\n",
       "      <td>4539.467689</td>\n",
       "      <td>4804.633826</td>\n",
       "      <td>4707.578098</td>\n",
       "      <td>3683.552607</td>\n",
       "      <td>3308.772828</td>\n",
       "      <td>4170.312280</td>\n",
       "    </tr>\n",
       "    <tr>\n",
       "      <th>3</th>\n",
       "      <td>Albania</td>\n",
       "      <td>ALB</td>\n",
       "      <td>GDP per capita (current US$)</td>\n",
       "      <td>NY.GDP.PCAP.CD</td>\n",
       "      <td>NaN</td>\n",
       "      <td>NaN</td>\n",
       "      <td>NaN</td>\n",
       "      <td>NaN</td>\n",
       "      <td>NaN</td>\n",
       "      <td>NaN</td>\n",
       "      <td>NaN</td>\n",
       "      <td>NaN</td>\n",
       "      <td>NaN</td>\n",
       "      <td>NaN</td>\n",
       "      <td>NaN</td>\n",
       "      <td>NaN</td>\n",
       "      <td>NaN</td>\n",
       "      <td>NaN</td>\n",
       "      <td>NaN</td>\n",
       "      <td>NaN</td>\n",
       "      <td>NaN</td>\n",
       "      <td>NaN</td>\n",
       "      <td>NaN</td>\n",
       "      <td>NaN</td>\n",
       "      <td>NaN</td>\n",
       "      <td>NaN</td>\n",
       "      <td>NaN</td>\n",
       "      <td>NaN</td>\n",
       "      <td>662.520052</td>\n",
       "      <td>662.914793</td>\n",
       "      <td>719.157296</td>\n",
       "      <td>699.384292</td>\n",
       "      <td>676.566733</td>\n",
       "      <td>723.409610</td>\n",
       "      <td>639.463899</td>\n",
       "      <td>348.711318</td>\n",
       "      <td>218.492166</td>\n",
       "      <td>380.527371</td>\n",
       "      <td>619.065163</td>\n",
       "      <td>760.559376</td>\n",
       "      <td>1046.358511</td>\n",
       "      <td>749.584649</td>\n",
       "      <td>865.302162</td>\n",
       "      <td>1098.425463</td>\n",
       "      <td>1175.788981</td>\n",
       "      <td>1326.970339</td>\n",
       "      <td>1453.642777</td>\n",
       "      <td>1890.681557</td>\n",
       "      <td>2416.588235</td>\n",
       "      <td>2709.142931</td>\n",
       "      <td>3005.012903</td>\n",
       "      <td>3603.013685</td>\n",
       "      <td>4370.539647</td>\n",
       "      <td>4114.136545</td>\n",
       "      <td>4094.358832</td>\n",
       "      <td>4437.178068</td>\n",
       "      <td>4247.614308</td>\n",
       "      <td>4413.081697</td>\n",
       "      <td>4578.666728</td>\n",
       "      <td>3952.830781</td>\n",
       "      <td>4131.872341</td>\n",
       "      <td>4537.862492</td>\n",
       "    </tr>\n",
       "    <tr>\n",
       "      <th>4</th>\n",
       "      <td>Andorra</td>\n",
       "      <td>AND</td>\n",
       "      <td>GDP per capita (current US$)</td>\n",
       "      <td>NY.GDP.PCAP.CD</td>\n",
       "      <td>NaN</td>\n",
       "      <td>NaN</td>\n",
       "      <td>NaN</td>\n",
       "      <td>NaN</td>\n",
       "      <td>NaN</td>\n",
       "      <td>NaN</td>\n",
       "      <td>NaN</td>\n",
       "      <td>NaN</td>\n",
       "      <td>NaN</td>\n",
       "      <td>NaN</td>\n",
       "      <td>3238.556850</td>\n",
       "      <td>3498.173652</td>\n",
       "      <td>4217.173581</td>\n",
       "      <td>5342.168560</td>\n",
       "      <td>6319.739034</td>\n",
       "      <td>7169.101006</td>\n",
       "      <td>7152.375134</td>\n",
       "      <td>7751.370216</td>\n",
       "      <td>9129.706185</td>\n",
       "      <td>11820.849390</td>\n",
       "      <td>12377.411650</td>\n",
       "      <td>10372.232830</td>\n",
       "      <td>9610.266308</td>\n",
       "      <td>8022.654781</td>\n",
       "      <td>7728.906695</td>\n",
       "      <td>7774.393829</td>\n",
       "      <td>10361.815980</td>\n",
       "      <td>12616.167570</td>\n",
       "      <td>14304.356960</td>\n",
       "      <td>15166.437850</td>\n",
       "      <td>18878.505970</td>\n",
       "      <td>19532.540150</td>\n",
       "      <td>20547.711790</td>\n",
       "      <td>16516.471030</td>\n",
       "      <td>16234.809010</td>\n",
       "      <td>18461.064860</td>\n",
       "      <td>19017.174590</td>\n",
       "      <td>18353.059720</td>\n",
       "      <td>18894.521500</td>\n",
       "      <td>19261.710500</td>\n",
       "      <td>21936.530100</td>\n",
       "      <td>22228.846490</td>\n",
       "      <td>24741.493570</td>\n",
       "      <td>32776.442270</td>\n",
       "      <td>38503.479610</td>\n",
       "      <td>41282.020120</td>\n",
       "      <td>43748.772160</td>\n",
       "      <td>48582.808460</td>\n",
       "      <td>47785.659090</td>\n",
       "      <td>43339.379870</td>\n",
       "      <td>39736.354060</td>\n",
       "      <td>41098.766940</td>\n",
       "      <td>38391.080870</td>\n",
       "      <td>40619.711300</td>\n",
       "      <td>42294.994730</td>\n",
       "      <td>36038.267600</td>\n",
       "      <td>37231.815670</td>\n",
       "      <td>39146.548840</td>\n",
       "    </tr>\n",
       "  </tbody>\n",
       "</table>\n",
       "</div>"
      ],
      "text/plain": [
       "  Country Name Country Code                Indicator Name  Indicator Code  \\\n",
       "0        Aruba          ABW  GDP per capita (current US$)  NY.GDP.PCAP.CD   \n",
       "1  Afghanistan          AFG  GDP per capita (current US$)  NY.GDP.PCAP.CD   \n",
       "2       Angola          AGO  GDP per capita (current US$)  NY.GDP.PCAP.CD   \n",
       "3      Albania          ALB  GDP per capita (current US$)  NY.GDP.PCAP.CD   \n",
       "4      Andorra          AND  GDP per capita (current US$)  NY.GDP.PCAP.CD   \n",
       "\n",
       "        1960       1961       1962       1963       1964        1965  \\\n",
       "0        NaN        NaN        NaN        NaN        NaN         NaN   \n",
       "1  59.777327  59.878153  58.492874  78.782758  82.208444  101.290471   \n",
       "2        NaN        NaN        NaN        NaN        NaN         NaN   \n",
       "3        NaN        NaN        NaN        NaN        NaN         NaN   \n",
       "4        NaN        NaN        NaN        NaN        NaN         NaN   \n",
       "\n",
       "         1966     1967        1968        1969         1970         1971  \\\n",
       "0         NaN      NaN         NaN         NaN          NaN          NaN   \n",
       "1  137.899362  161.322  129.506654  129.798541   157.187422   160.372836   \n",
       "2         NaN      NaN         NaN         NaN          NaN          NaN   \n",
       "3         NaN      NaN         NaN         NaN          NaN          NaN   \n",
       "4         NaN      NaN         NaN         NaN  3238.556850  3498.173652   \n",
       "\n",
       "          1972         1973         1974         1975         1976  \\\n",
       "0          NaN          NaN          NaN          NaN          NaN   \n",
       "1   136.117014   144.110319   174.942038   187.975604   199.026173   \n",
       "2          NaN          NaN          NaN          NaN          NaN   \n",
       "3          NaN          NaN          NaN          NaN          NaN   \n",
       "4  4217.173581  5342.168560  6319.739034  7169.101006  7152.375134   \n",
       "\n",
       "          1977         1978          1979          1980          1981  \\\n",
       "0          NaN          NaN           NaN           NaN           NaN   \n",
       "1   226.005344   249.287386    277.900742    274.880859    266.493042   \n",
       "2          NaN          NaN           NaN    664.117560    600.408766   \n",
       "3          NaN          NaN           NaN           NaN           NaN   \n",
       "4  7751.370216  9129.706185  11820.849390  12377.411650  10372.232830   \n",
       "\n",
       "          1982         1983         1984         1985          1986  \\\n",
       "0          NaN          NaN          NaN          NaN           NaN   \n",
       "1          NaN          NaN          NaN          NaN           NaN   \n",
       "2   579.252001   582.420126   596.602467   711.992700    647.563354   \n",
       "3          NaN          NaN   662.520052   662.914793    719.157296   \n",
       "4  9610.266308  8022.654781  7728.906695  7774.393829  10361.815980   \n",
       "\n",
       "           1987          1988          1989          1990          1991  \\\n",
       "0           NaN           NaN           NaN           NaN           NaN   \n",
       "1           NaN           NaN           NaN           NaN           NaN   \n",
       "2    720.598939    761.618458    862.509058    922.550170    844.691134   \n",
       "3    699.384292    676.566733    723.409610    639.463899    348.711318   \n",
       "4  12616.167570  14304.356960  15166.437850  18878.505970  19532.540150   \n",
       "\n",
       "           1992          1993          1994          1995          1996  \\\n",
       "0           NaN           NaN  17342.471940  16441.790640  16585.195530   \n",
       "1           NaN           NaN           NaN           NaN           NaN   \n",
       "2    640.622298    430.381595    320.657792    388.166766    512.620966   \n",
       "3    218.492166    380.527371    619.065163    760.559376   1046.358511   \n",
       "4  20547.711790  16516.471030  16234.809010  18461.064860  19017.174590   \n",
       "\n",
       "           1997          1998          1999          2000          2001  \\\n",
       "0  17926.572840  19081.351660  19356.203390  20620.700630  20670.655660   \n",
       "1           NaN           NaN           NaN           NaN    117.409691   \n",
       "2    506.884952    419.639845    385.768854    555.296942    526.168743   \n",
       "3    749.584649    865.302162   1098.425463   1175.788981   1326.970339   \n",
       "4  18353.059720  18894.521500  19261.710500  21936.530100  22228.846490   \n",
       "\n",
       "           2002          2003          2004          2005          2006  \\\n",
       "0  20434.299440  20834.510200  22567.824920  23302.831990  24014.944270   \n",
       "1    187.845095    198.728544    219.141353    250.294130    272.563077   \n",
       "2    711.181789    779.468317   1041.087109   1443.991924   2062.415212   \n",
       "3   1453.642777   1890.681557   2416.588235   2709.142931   3005.012903   \n",
       "4  24741.493570  32776.442270  38503.479610  41282.020120  43748.772160   \n",
       "\n",
       "           2007          2008          2009          2010          2011  \\\n",
       "0  25921.026050  27546.899390  24631.434860  24271.940420  25324.720360   \n",
       "1    369.835796    373.361116    445.893298    553.300289    603.537023   \n",
       "2   2878.837305   3868.579014   3347.844900   3531.416878   4299.008136   \n",
       "3   3603.013685   4370.539647   4114.136545   4094.358832   4437.178068   \n",
       "4  48582.808460  47785.659090  43339.379870  39736.354060  41098.766940   \n",
       "\n",
       "           2012          2013          2014          2015          2016  \\\n",
       "0           NaN           NaN  25300.000000           NaN           NaN   \n",
       "1    669.009051    638.612543    629.345250    569.577923    561.778746   \n",
       "2   4539.467689   4804.633826   4707.578098   3683.552607   3308.772828   \n",
       "3   4247.614308   4413.081697   4578.666728   3952.830781   4131.872341   \n",
       "4  38391.080870  40619.711300  42294.994730  36038.267600  37231.815670   \n",
       "\n",
       "           2017  \n",
       "0           NaN  \n",
       "1    585.850064  \n",
       "2   4170.312280  \n",
       "3   4537.862492  \n",
       "4  39146.548840  "
      ]
     },
     "execution_count": 27,
     "metadata": {},
     "output_type": "execute_result"
    }
   ],
   "source": [
    "df_GDP_cap_raw.head()"
   ]
  },
  {
   "cell_type": "code",
   "execution_count": 28,
   "metadata": {},
   "outputs": [
    {
     "name": "stdout",
     "output_type": "stream",
     "text": [
      "30\n",
      "23\n",
      "18\n",
      "9\n",
      "16\n",
      "17\n"
     ]
    }
   ],
   "source": [
    "print(df_GDP_tot_raw['2017'].isna().sum())\n",
    "print(df_GDP_tot_raw['2016'].isna().sum())\n",
    "print(df_GDP_tot_raw['2015'].isna().sum())\n",
    "print(df_GDP_tot_raw['2014'].isna().sum())\n",
    "print(df_GDP_tot_raw['2013'].isna().sum())\n",
    "print(df_GDP_tot_raw['2012'].isna().sum())"
   ]
  },
  {
   "cell_type": "code",
   "execution_count": 29,
   "metadata": {},
   "outputs": [],
   "source": [
    "df_GDP_cap=df_GDP_cap_raw[['Country Name','2014']].copy()\n",
    "df_GDP_cap.columns = ['countries', 'GDP_cap']\n",
    "#df_GDP_cap"
   ]
  },
  {
   "cell_type": "code",
   "execution_count": 30,
   "metadata": {
    "scrolled": true
   },
   "outputs": [
    {
     "name": "stdout",
     "output_type": "stream",
     "text": [
      "Number of countries without GDP in the database:  Empty DataFrame\n",
      "Columns: [countries, GDP_cap, n_companies]\n",
      "Index: []\n"
     ]
    },
    {
     "data": {
      "text/html": [
       "<div>\n",
       "<style scoped>\n",
       "    .dataframe tbody tr th:only-of-type {\n",
       "        vertical-align: middle;\n",
       "    }\n",
       "\n",
       "    .dataframe tbody tr th {\n",
       "        vertical-align: top;\n",
       "    }\n",
       "\n",
       "    .dataframe thead th {\n",
       "        text-align: right;\n",
       "    }\n",
       "</style>\n",
       "<table border=\"1\" class=\"dataframe\">\n",
       "  <thead>\n",
       "    <tr style=\"text-align: right;\">\n",
       "      <th></th>\n",
       "      <th>countries</th>\n",
       "      <th>GDP_cap</th>\n",
       "      <th>n_companies</th>\n",
       "    </tr>\n",
       "  </thead>\n",
       "  <tbody>\n",
       "    <tr>\n",
       "      <th>0</th>\n",
       "      <td>Aruba</td>\n",
       "      <td>25300.000000</td>\n",
       "      <td>27</td>\n",
       "    </tr>\n",
       "    <tr>\n",
       "      <th>1</th>\n",
       "      <td>Angola</td>\n",
       "      <td>4707.578098</td>\n",
       "      <td>10</td>\n",
       "    </tr>\n",
       "    <tr>\n",
       "      <th>2</th>\n",
       "      <td>Albania</td>\n",
       "      <td>4578.666728</td>\n",
       "      <td>2</td>\n",
       "    </tr>\n",
       "    <tr>\n",
       "      <th>3</th>\n",
       "      <td>Andorra</td>\n",
       "      <td>42294.994730</td>\n",
       "      <td>489</td>\n",
       "    </tr>\n",
       "    <tr>\n",
       "      <th>4</th>\n",
       "      <td>United Arab Emirates</td>\n",
       "      <td>44443.061510</td>\n",
       "      <td>7269</td>\n",
       "    </tr>\n",
       "  </tbody>\n",
       "</table>\n",
       "</div>"
      ],
      "text/plain": [
       "              countries       GDP_cap  n_companies\n",
       "0                 Aruba  25300.000000           27\n",
       "1                Angola   4707.578098           10\n",
       "2               Albania   4578.666728            2\n",
       "3               Andorra  42294.994730          489\n",
       "4  United Arab Emirates  44443.061510         7269"
      ]
     },
     "execution_count": 30,
     "metadata": {},
     "output_type": "execute_result"
    }
   ],
   "source": [
    "df_GDP_cap_entities=df_GDP_cap.merge(df_vc, how='inner',left_on='countries', right_on='countries')\n",
    "print('Number of countries without GDP in the database: ',df_GDP_cap_entities[df_GDP_cap_entities['GDP_cap'].isna()])\n",
    "df_GDP_cap_entities.head()"
   ]
  },
  {
   "cell_type": "markdown",
   "metadata": {},
   "source": [
    "## 3) What drives entities to go offshore and consequently how does that affect the country?"
   ]
  },
  {
   "cell_type": "markdown",
   "metadata": {},
   "source": [
    "### Dataframe preparation"
   ]
  },
  {
   "cell_type": "markdown",
   "metadata": {},
   "source": [
    "Firstly a dataframe with the country and the respective number of entities in the Panama Papers is made `country_count`. This is used as a base to subsequentially add information regarding the indicators."
   ]
  },
  {
   "cell_type": "code",
   "execution_count": 31,
   "metadata": {},
   "outputs": [],
   "source": [
    "country_count=pd.DataFrame(df_entity_mod_raw['countries'].value_counts())"
   ]
  },
  {
   "cell_type": "code",
   "execution_count": 32,
   "metadata": {
    "scrolled": true
   },
   "outputs": [],
   "source": [
    "country_count=country_count.rename(columns={'countries': 'n_companies_offshore'})\n",
    "country_count['Country Name']=country_count.index\n",
    "country_count=country_count.reset_index(drop=True)"
   ]
  },
  {
   "cell_type": "code",
   "execution_count": 33,
   "metadata": {},
   "outputs": [
    {
     "data": {
      "text/html": [
       "<div>\n",
       "<style scoped>\n",
       "    .dataframe tbody tr th:only-of-type {\n",
       "        vertical-align: middle;\n",
       "    }\n",
       "\n",
       "    .dataframe tbody tr th {\n",
       "        vertical-align: top;\n",
       "    }\n",
       "\n",
       "    .dataframe thead th {\n",
       "        text-align: right;\n",
       "    }\n",
       "</style>\n",
       "<table border=\"1\" class=\"dataframe\">\n",
       "  <thead>\n",
       "    <tr style=\"text-align: right;\">\n",
       "      <th></th>\n",
       "      <th>n_companies_offshore</th>\n",
       "      <th>Country Name</th>\n",
       "    </tr>\n",
       "  </thead>\n",
       "  <tbody>\n",
       "    <tr>\n",
       "      <th>0</th>\n",
       "      <td>37911</td>\n",
       "      <td>Hong Kong SAR, China</td>\n",
       "    </tr>\n",
       "    <tr>\n",
       "      <th>1</th>\n",
       "      <td>37911</td>\n",
       "      <td>Switzerland</td>\n",
       "    </tr>\n",
       "    <tr>\n",
       "      <th>2</th>\n",
       "      <td>21658</td>\n",
       "      <td>Channel Islands</td>\n",
       "    </tr>\n",
       "    <tr>\n",
       "      <th>3</th>\n",
       "      <td>15811</td>\n",
       "      <td>Panama</td>\n",
       "    </tr>\n",
       "    <tr>\n",
       "      <th>4</th>\n",
       "      <td>10840</td>\n",
       "      <td>Luxembourg</td>\n",
       "    </tr>\n",
       "  </tbody>\n",
       "</table>\n",
       "</div>"
      ],
      "text/plain": [
       "   n_companies_offshore          Country Name\n",
       "0                 37911  Hong Kong SAR, China\n",
       "1                 37911           Switzerland\n",
       "2                 21658       Channel Islands\n",
       "3                 15811                Panama\n",
       "4                 10840            Luxembourg"
      ]
     },
     "execution_count": 33,
     "metadata": {},
     "output_type": "execute_result"
    }
   ],
   "source": [
    "country_count.head()"
   ]
  },
  {
   "cell_type": "markdown",
   "metadata": {},
   "source": [
    "In order to investigate the causes pushing entities to go offshore, the number of entities per country has often to be weighted according to economical size: without doing so, big economies will automatically have a higher number of entities registered in the papers only because they are bigger. Hence GDP and GDP per capita are going to be used as weighting factor for the number of registered entities in papers, n in many analysis: \n",
    "\n",
    "\\begin{equation*}\n",
    "n_{w}=\\frac{n}{GDP_{indicator}}\n",
    "\\end{equation*}"
   ]
  },
  {
   "cell_type": "markdown",
   "metadata": {},
   "source": [
    "Hence dataframes for total GDP (`df_gdp`) and GDP per capita (`df_GDP_capita`) per countries are created and merged with `country_count`; this is not only useful as mentioned above to weight for the different sizes of the economies, but also to distinguish groups of countries according to their economies."
   ]
  },
  {
   "cell_type": "code",
   "execution_count": 34,
   "metadata": {},
   "outputs": [],
   "source": [
    "df_gdp=df_GDP_tot_raw.copy()"
   ]
  },
  {
   "cell_type": "code",
   "execution_count": 35,
   "metadata": {},
   "outputs": [],
   "source": [
    "df_countries_gdp=pd.DataFrame({'Country Name':df_gdp['Country Name'],'GDP':df_gdp.iloc[:,range(-15,0)].mean(axis=1,numeric_only=True)})\n",
    "# print(np.sum(df_countries_gdp['GDP'].isnull()))\n",
    "# df_gdp=df_gdp[df_gdp['GDP'].notnull()]"
   ]
  },
  {
   "cell_type": "markdown",
   "metadata": {},
   "source": [
    "Showing the missing values of GDP"
   ]
  },
  {
   "cell_type": "code",
   "execution_count": 36,
   "metadata": {},
   "outputs": [
    {
     "data": {
      "text/html": [
       "<div>\n",
       "<style scoped>\n",
       "    .dataframe tbody tr th:only-of-type {\n",
       "        vertical-align: middle;\n",
       "    }\n",
       "\n",
       "    .dataframe tbody tr th {\n",
       "        vertical-align: top;\n",
       "    }\n",
       "\n",
       "    .dataframe thead th {\n",
       "        text-align: right;\n",
       "    }\n",
       "</style>\n",
       "<table border=\"1\" class=\"dataframe\">\n",
       "  <thead>\n",
       "    <tr style=\"text-align: right;\">\n",
       "      <th></th>\n",
       "      <th>Country Name</th>\n",
       "      <th>GDP</th>\n",
       "    </tr>\n",
       "  </thead>\n",
       "  <tbody>\n",
       "    <tr>\n",
       "      <th>49</th>\n",
       "      <td>Curacao</td>\n",
       "      <td>NaN</td>\n",
       "    </tr>\n",
       "    <tr>\n",
       "      <th>108</th>\n",
       "      <td>Not classified</td>\n",
       "      <td>NaN</td>\n",
       "    </tr>\n",
       "    <tr>\n",
       "      <th>145</th>\n",
       "      <td>St. Martin (French part)</td>\n",
       "      <td>NaN</td>\n",
       "    </tr>\n",
       "    <tr>\n",
       "      <th>170</th>\n",
       "      <td>New Caledonia</td>\n",
       "      <td>NaN</td>\n",
       "    </tr>\n",
       "    <tr>\n",
       "      <th>191</th>\n",
       "      <td>Korea, Dem. People?s Rep.</td>\n",
       "      <td>NaN</td>\n",
       "    </tr>\n",
       "    <tr>\n",
       "      <th>197</th>\n",
       "      <td>French Polynesia</td>\n",
       "      <td>NaN</td>\n",
       "    </tr>\n",
       "  </tbody>\n",
       "</table>\n",
       "</div>"
      ],
      "text/plain": [
       "                  Country Name  GDP\n",
       "49                     Curacao  NaN\n",
       "108             Not classified  NaN\n",
       "145   St. Martin (French part)  NaN\n",
       "170              New Caledonia  NaN\n",
       "191  Korea, Dem. People?s Rep.  NaN\n",
       "197           French Polynesia  NaN"
      ]
     },
     "execution_count": 36,
     "metadata": {},
     "output_type": "execute_result"
    }
   ],
   "source": [
    "df_countries_gdp[df_countries_gdp['GDP'].isnull()]"
   ]
  },
  {
   "cell_type": "code",
   "execution_count": 37,
   "metadata": {},
   "outputs": [],
   "source": [
    "df_gdp_capita=df_GDP_cap_raw.copy()"
   ]
  },
  {
   "cell_type": "code",
   "execution_count": 38,
   "metadata": {},
   "outputs": [],
   "source": [
    "df_countries_gdp_capita=pd.DataFrame({'Country Name':df_gdp_capita['Country Name'],'GDP':df_gdp_capita.iloc[:,range(-15,0)].mean(axis=1,numeric_only=True)})"
   ]
  },
  {
   "cell_type": "markdown",
   "metadata": {},
   "source": [
    "Before starting the analysis is fundamantal to check which countries don't have total GDP values"
   ]
  },
  {
   "cell_type": "code",
   "execution_count": 39,
   "metadata": {},
   "outputs": [
    {
     "data": {
      "text/html": [
       "<div>\n",
       "<style scoped>\n",
       "    .dataframe tbody tr th:only-of-type {\n",
       "        vertical-align: middle;\n",
       "    }\n",
       "\n",
       "    .dataframe tbody tr th {\n",
       "        vertical-align: top;\n",
       "    }\n",
       "\n",
       "    .dataframe thead th {\n",
       "        text-align: right;\n",
       "    }\n",
       "</style>\n",
       "<table border=\"1\" class=\"dataframe\">\n",
       "  <thead>\n",
       "    <tr style=\"text-align: right;\">\n",
       "      <th></th>\n",
       "      <th>Country Name</th>\n",
       "      <th>GDP</th>\n",
       "    </tr>\n",
       "  </thead>\n",
       "  <tbody>\n",
       "    <tr>\n",
       "      <th>49</th>\n",
       "      <td>Curacao</td>\n",
       "      <td>NaN</td>\n",
       "    </tr>\n",
       "    <tr>\n",
       "      <th>108</th>\n",
       "      <td>Not classified</td>\n",
       "      <td>NaN</td>\n",
       "    </tr>\n",
       "    <tr>\n",
       "      <th>145</th>\n",
       "      <td>St. Martin (French part)</td>\n",
       "      <td>NaN</td>\n",
       "    </tr>\n",
       "    <tr>\n",
       "      <th>170</th>\n",
       "      <td>New Caledonia</td>\n",
       "      <td>NaN</td>\n",
       "    </tr>\n",
       "    <tr>\n",
       "      <th>191</th>\n",
       "      <td>Korea, Dem. People?s Rep.</td>\n",
       "      <td>NaN</td>\n",
       "    </tr>\n",
       "    <tr>\n",
       "      <th>197</th>\n",
       "      <td>French Polynesia</td>\n",
       "      <td>NaN</td>\n",
       "    </tr>\n",
       "  </tbody>\n",
       "</table>\n",
       "</div>"
      ],
      "text/plain": [
       "                  Country Name  GDP\n",
       "49                     Curacao  NaN\n",
       "108             Not classified  NaN\n",
       "145   St. Martin (French part)  NaN\n",
       "170              New Caledonia  NaN\n",
       "191  Korea, Dem. People?s Rep.  NaN\n",
       "197           French Polynesia  NaN"
      ]
     },
     "execution_count": 39,
     "metadata": {},
     "output_type": "execute_result"
    }
   ],
   "source": [
    "df_countries_gdp_capita[df_countries_gdp_capita['GDP'].isnull()]"
   ]
  },
  {
   "cell_type": "code",
   "execution_count": 40,
   "metadata": {},
   "outputs": [],
   "source": [
    "# count in panama papers and gdp is merged in one dataframe\n",
    "country_count_gdp=country_count.merge(df_countries_gdp, how='outer',left_on='Country Name', right_on='Country Name')"
   ]
  },
  {
   "cell_type": "code",
   "execution_count": 41,
   "metadata": {},
   "outputs": [],
   "source": [
    "# count in panama papers and gdp per capita is merged in one dataframe\n",
    "country_count_gdp=country_count_gdp.merge(df_countries_gdp_capita, how='outer',left_on='Country Name', right_on='Country Name')"
   ]
  },
  {
   "cell_type": "code",
   "execution_count": 42,
   "metadata": {},
   "outputs": [
    {
     "data": {
      "text/html": [
       "<div>\n",
       "<style scoped>\n",
       "    .dataframe tbody tr th:only-of-type {\n",
       "        vertical-align: middle;\n",
       "    }\n",
       "\n",
       "    .dataframe tbody tr th {\n",
       "        vertical-align: top;\n",
       "    }\n",
       "\n",
       "    .dataframe thead th {\n",
       "        text-align: right;\n",
       "    }\n",
       "</style>\n",
       "<table border=\"1\" class=\"dataframe\">\n",
       "  <thead>\n",
       "    <tr style=\"text-align: right;\">\n",
       "      <th></th>\n",
       "      <th>n_companies_offshore</th>\n",
       "      <th>Country Name</th>\n",
       "      <th>GDP_x</th>\n",
       "      <th>GDP_y</th>\n",
       "    </tr>\n",
       "  </thead>\n",
       "  <tbody>\n",
       "    <tr>\n",
       "      <th>0</th>\n",
       "      <td>37911.0</td>\n",
       "      <td>Hong Kong SAR, China</td>\n",
       "      <td>2.420000e+11</td>\n",
       "      <td>34139.405171</td>\n",
       "    </tr>\n",
       "    <tr>\n",
       "      <th>1</th>\n",
       "      <td>37911.0</td>\n",
       "      <td>Switzerland</td>\n",
       "      <td>5.693333e+11</td>\n",
       "      <td>72018.654377</td>\n",
       "    </tr>\n",
       "    <tr>\n",
       "      <th>2</th>\n",
       "      <td>21658.0</td>\n",
       "      <td>Channel Islands</td>\n",
       "      <td>9.180788e+09</td>\n",
       "      <td>59422.543726</td>\n",
       "    </tr>\n",
       "    <tr>\n",
       "      <th>3</th>\n",
       "      <td>15811.0</td>\n",
       "      <td>Panama</td>\n",
       "      <td>3.405630e+10</td>\n",
       "      <td>9062.889846</td>\n",
       "    </tr>\n",
       "    <tr>\n",
       "      <th>4</th>\n",
       "      <td>10840.0</td>\n",
       "      <td>Luxembourg</td>\n",
       "      <td>5.192631e+10</td>\n",
       "      <td>100087.833141</td>\n",
       "    </tr>\n",
       "  </tbody>\n",
       "</table>\n",
       "</div>"
      ],
      "text/plain": [
       "   n_companies_offshore          Country Name         GDP_x          GDP_y\n",
       "0               37911.0  Hong Kong SAR, China  2.420000e+11   34139.405171\n",
       "1               37911.0           Switzerland  5.693333e+11   72018.654377\n",
       "2               21658.0       Channel Islands  9.180788e+09   59422.543726\n",
       "3               15811.0                Panama  3.405630e+10    9062.889846\n",
       "4               10840.0            Luxembourg  5.192631e+10  100087.833141"
      ]
     },
     "execution_count": 42,
     "metadata": {},
     "output_type": "execute_result"
    }
   ],
   "source": [
    "country_count_gdp.head()"
   ]
  },
  {
   "cell_type": "markdown",
   "metadata": {},
   "source": [
    "Before starting the analysis is also important to check which countries don't have per capita GDP values. Except for Taiwan, the other countries didn't have a large presence in the papers so they were discarded."
   ]
  },
  {
   "cell_type": "code",
   "execution_count": 43,
   "metadata": {},
   "outputs": [
    {
     "data": {
      "text/plain": [
       "16                        Taiwan\n",
       "40                          Niue\n",
       "80                       Curacao\n",
       "151                 Cook Islands\n",
       "200               Not classified\n",
       "213     St. Martin (French part)\n",
       "225                New Caledonia\n",
       "233    Korea, Dem. People?s Rep.\n",
       "237             French Polynesia\n",
       "Name: Country Name, dtype: object"
      ]
     },
     "execution_count": 43,
     "metadata": {},
     "output_type": "execute_result"
    }
   ],
   "source": [
    "country_count_gdp['Country Name'][country_count_gdp['GDP_y'].isna()]"
   ]
  },
  {
   "cell_type": "markdown",
   "metadata": {},
   "source": [
    "### Tax Rate on income, profits and capital gains"
   ]
  },
  {
   "cell_type": "markdown",
   "metadata": {},
   "source": [
    "It is probable that entities from all over the world are firstly influenced to go set their businesses already in countries which offer particularly good business conditions such as Switzlerand, Panama, the Channel Islands (Jersey and Guernsey), Luxemburg, the Cayman Islands, Lichteinstein, Singapore and Monaco, Isle of Man and Gibraltar. These countries are known for being small and very developed with high income per capita, but also to often be tax havens. \n",
    "\n",
    "\n",
    "Hence, on the one hand it is crucial to understand what are these business conditions (economic and bureaucratic) that make this set of countries the optimum place to do business, but also to easily go offshore and on the other hand what are the economic and bureaucratic causes which influence entities in the other countries to go offshore. "
   ]
  },
  {
   "cell_type": "markdown",
   "metadata": {},
   "source": [
    "The first factor which is going to be investigated is an average of tax Rate on income, profits and capital gains; this indicator was used to take into account both corporate and capital tax rate, but also income to mitigate for the fact that not all entities in the Panama Papers are companies. In other words it is going to be investigated whether or not having a high tax rate influence entities and especially companies to go offshore in jurisdictions offering them important advantages in terms of tax savings."
   ]
  },
  {
   "cell_type": "markdown",
   "metadata": {},
   "source": [
    "Firstly the sparsity of the data is checked by querying what is the year with the highest number of data."
   ]
  },
  {
   "cell_type": "code",
   "execution_count": 44,
   "metadata": {},
   "outputs": [
    {
     "name": "stdout",
     "output_type": "stream",
     "text": [
      "Year with most data is 2010\n"
     ]
    }
   ],
   "source": [
    "years=range(1990, 2018)\n",
    "years_count=np.array([])\n",
    "\n",
    "for year in years:\n",
    "    \n",
    "    years_count=np.append(years_count,df_tax_rate[str(year)].notnull().sum())\n",
    "print ('Year with most data is', years[np.argmax(years_count)])"
   ]
  },
  {
   "cell_type": "markdown",
   "metadata": {},
   "source": [
    "In order to fully exploit the data, the average tax rate for each country is computed over a time frame of 15 years; hence it is assumed that any change in corporate tax in this time range has not affected the number of entities going offshore in this time range."
   ]
  },
  {
   "cell_type": "code",
   "execution_count": 45,
   "metadata": {},
   "outputs": [],
   "source": [
    "df_countries_tax=pd.DataFrame({'Country Name':df_tax_rate['Country Name'],'Tax Rate':df_tax_rate.iloc[:,range(-15,0)].mean(axis=1,numeric_only=True)})"
   ]
  },
  {
   "cell_type": "code",
   "execution_count": 46,
   "metadata": {},
   "outputs": [
    {
     "data": {
      "text/html": [
       "<div>\n",
       "<style scoped>\n",
       "    .dataframe tbody tr th:only-of-type {\n",
       "        vertical-align: middle;\n",
       "    }\n",
       "\n",
       "    .dataframe tbody tr th {\n",
       "        vertical-align: top;\n",
       "    }\n",
       "\n",
       "    .dataframe thead th {\n",
       "        text-align: right;\n",
       "    }\n",
       "</style>\n",
       "<table border=\"1\" class=\"dataframe\">\n",
       "  <thead>\n",
       "    <tr style=\"text-align: right;\">\n",
       "      <th></th>\n",
       "      <th>Country Name</th>\n",
       "      <th>Tax Rate</th>\n",
       "    </tr>\n",
       "  </thead>\n",
       "  <tbody>\n",
       "    <tr>\n",
       "      <th>0</th>\n",
       "      <td>Aruba</td>\n",
       "      <td>NaN</td>\n",
       "    </tr>\n",
       "    <tr>\n",
       "      <th>1</th>\n",
       "      <td>Afghanistan</td>\n",
       "      <td>3.718429</td>\n",
       "    </tr>\n",
       "    <tr>\n",
       "      <th>2</th>\n",
       "      <td>Angola</td>\n",
       "      <td>40.648405</td>\n",
       "    </tr>\n",
       "    <tr>\n",
       "      <th>3</th>\n",
       "      <td>Albania</td>\n",
       "      <td>14.046091</td>\n",
       "    </tr>\n",
       "    <tr>\n",
       "      <th>4</th>\n",
       "      <td>Andorra</td>\n",
       "      <td>NaN</td>\n",
       "    </tr>\n",
       "  </tbody>\n",
       "</table>\n",
       "</div>"
      ],
      "text/plain": [
       "  Country Name   Tax Rate\n",
       "0        Aruba        NaN\n",
       "1  Afghanistan   3.718429\n",
       "2       Angola  40.648405\n",
       "3      Albania  14.046091\n",
       "4      Andorra        NaN"
      ]
     },
     "execution_count": 46,
     "metadata": {},
     "output_type": "execute_result"
    }
   ],
   "source": [
    "df_countries_tax.head()"
   ]
  },
  {
   "cell_type": "markdown",
   "metadata": {},
   "source": [
    "A dataset with tax rate and number of companies registered in the panama papers is made."
   ]
  },
  {
   "cell_type": "code",
   "execution_count": 47,
   "metadata": {},
   "outputs": [],
   "source": [
    "country_count_tax_rate=country_count_gdp.merge(df_countries_tax, how='outer',left_on='Country Name', right_on='Country Name')"
   ]
  },
  {
   "cell_type": "markdown",
   "metadata": {},
   "source": [
    "Then for countries having a presence in Panama Papers higher than 1000 whose tax rate was missing the, an ad hoc research was done; hence individual values of corporate tax rates were added for the countries listed below since they had a consistent proportion of entities offshore."
   ]
  },
  {
   "cell_type": "code",
   "execution_count": 48,
   "metadata": {
    "scrolled": true
   },
   "outputs": [
    {
     "data": {
      "text/html": [
       "<div>\n",
       "<style scoped>\n",
       "    .dataframe tbody tr th:only-of-type {\n",
       "        vertical-align: middle;\n",
       "    }\n",
       "\n",
       "    .dataframe tbody tr th {\n",
       "        vertical-align: top;\n",
       "    }\n",
       "\n",
       "    .dataframe thead th {\n",
       "        text-align: right;\n",
       "    }\n",
       "</style>\n",
       "<table border=\"1\" class=\"dataframe\">\n",
       "  <thead>\n",
       "    <tr style=\"text-align: right;\">\n",
       "      <th></th>\n",
       "      <th>n_companies_offshore</th>\n",
       "      <th>Country Name</th>\n",
       "      <th>GDP_x</th>\n",
       "      <th>GDP_y</th>\n",
       "      <th>Tax Rate</th>\n",
       "    </tr>\n",
       "  </thead>\n",
       "  <tbody>\n",
       "    <tr>\n",
       "      <th>0</th>\n",
       "      <td>37911.0</td>\n",
       "      <td>Hong Kong SAR, China</td>\n",
       "      <td>2.420000e+11</td>\n",
       "      <td>34139.405171</td>\n",
       "      <td>NaN</td>\n",
       "    </tr>\n",
       "    <tr>\n",
       "      <th>2</th>\n",
       "      <td>21658.0</td>\n",
       "      <td>Channel Islands</td>\n",
       "      <td>9.180788e+09</td>\n",
       "      <td>59422.543726</td>\n",
       "      <td>NaN</td>\n",
       "    </tr>\n",
       "    <tr>\n",
       "      <th>3</th>\n",
       "      <td>15811.0</td>\n",
       "      <td>Panama</td>\n",
       "      <td>3.405630e+10</td>\n",
       "      <td>9062.889846</td>\n",
       "      <td>NaN</td>\n",
       "    </tr>\n",
       "    <tr>\n",
       "      <th>6</th>\n",
       "      <td>7269.0</td>\n",
       "      <td>United Arab Emirates</td>\n",
       "      <td>2.939333e+11</td>\n",
       "      <td>39757.577518</td>\n",
       "      <td>NaN</td>\n",
       "    </tr>\n",
       "    <tr>\n",
       "      <th>7</th>\n",
       "      <td>4984.0</td>\n",
       "      <td>Bahamas, The</td>\n",
       "      <td>1.048800e+10</td>\n",
       "      <td>29218.051776</td>\n",
       "      <td>NaN</td>\n",
       "    </tr>\n",
       "    <tr>\n",
       "      <th>9</th>\n",
       "      <td>4892.0</td>\n",
       "      <td>Isle of Man</td>\n",
       "      <td>5.216144e+09</td>\n",
       "      <td>65308.380697</td>\n",
       "      <td>NaN</td>\n",
       "    </tr>\n",
       "    <tr>\n",
       "      <th>14</th>\n",
       "      <td>3168.0</td>\n",
       "      <td>Monaco</td>\n",
       "      <td>5.301932e+09</td>\n",
       "      <td>148406.483360</td>\n",
       "      <td>NaN</td>\n",
       "    </tr>\n",
       "    <tr>\n",
       "      <th>16</th>\n",
       "      <td>2725.0</td>\n",
       "      <td>Taiwan</td>\n",
       "      <td>NaN</td>\n",
       "      <td>NaN</td>\n",
       "      <td>NaN</td>\n",
       "    </tr>\n",
       "    <tr>\n",
       "      <th>17</th>\n",
       "      <td>2066.0</td>\n",
       "      <td>Liechtenstein</td>\n",
       "      <td>4.922173e+09</td>\n",
       "      <td>136708.283262</td>\n",
       "      <td>NaN</td>\n",
       "    </tr>\n",
       "    <tr>\n",
       "      <th>18</th>\n",
       "      <td>2039.0</td>\n",
       "      <td>Gibraltar</td>\n",
       "      <td>2.288000e+09</td>\n",
       "      <td>92843.000000</td>\n",
       "      <td>NaN</td>\n",
       "    </tr>\n",
       "  </tbody>\n",
       "</table>\n",
       "</div>"
      ],
      "text/plain": [
       "    n_companies_offshore          Country Name         GDP_x          GDP_y  \\\n",
       "0                37911.0  Hong Kong SAR, China  2.420000e+11   34139.405171   \n",
       "2                21658.0       Channel Islands  9.180788e+09   59422.543726   \n",
       "3                15811.0                Panama  3.405630e+10    9062.889846   \n",
       "6                 7269.0  United Arab Emirates  2.939333e+11   39757.577518   \n",
       "7                 4984.0          Bahamas, The  1.048800e+10   29218.051776   \n",
       "9                 4892.0           Isle of Man  5.216144e+09   65308.380697   \n",
       "14                3168.0                Monaco  5.301932e+09  148406.483360   \n",
       "16                2725.0                Taiwan           NaN            NaN   \n",
       "17                2066.0         Liechtenstein  4.922173e+09  136708.283262   \n",
       "18                2039.0             Gibraltar  2.288000e+09   92843.000000   \n",
       "\n",
       "    Tax Rate  \n",
       "0        NaN  \n",
       "2        NaN  \n",
       "3        NaN  \n",
       "6        NaN  \n",
       "7        NaN  \n",
       "9        NaN  \n",
       "14       NaN  \n",
       "16       NaN  \n",
       "17       NaN  \n",
       "18       NaN  "
      ]
     },
     "execution_count": 48,
     "metadata": {},
     "output_type": "execute_result"
    }
   ],
   "source": [
    "country_count_tax_rate[country_count_tax_rate['Tax Rate'].isna()].head(10)"
   ]
  },
  {
   "cell_type": "markdown",
   "metadata": {},
   "source": [
    "Substitute the tax rate where NaN is present by integrating the data with additional sources. In particular the tax rate in the channel island Jersey and Guersey, in the Isle of Man, Monaco, Lichtenstein, Gibraltar, Hong Kong, British Vergin Islands, United Arab Emirates, Bahamas and Ecuador have been looked up. An average for a tax rate on income, profits and capital gains wasn't found for each country individually; as a consequence corporate tax rate were considered according to the assumption that all the entities in the papers are assumed to be companies.\n",
    "\n",
    "- Jersey and Guernesey as part of the channel islands have a corporate tax rate of 0% with exeption for some kind of businesses with maximum values of 20% [Jersey](https://www.gov.je/LifeEvents/MovingToJersey/pages/tax.aspx), [Guernsey](https://www.gov.gg/article/120167/Tax-for-businesses-companies-and-employers)\n",
    "\n",
    "- Isle of Man has a corporate tax rate of 0% with exeption for some kind of businesses with maximum values of 20% [Isle of Man](https://www.gov.im/categories/tax-vat-and-your-money/income-tax-and-national-insurance/business-and-corporations/corporate-tax-rates/)\n",
    "\n",
    "- Monaco has a corporate tax rate of 0% [Monaco](https://www.investopedia.com/ask/answers/060316/why-monaco-considered-tax-haven.asp)\n",
    "\n",
    "- Lichtenstein has a corporate tax rate of 12.5% [Lichtenstein](http://taxsummaries.pwc.com/ID/Liechtenstein-Corporate-Taxes-on-corporate-income)\n",
    "\n",
    "- Gibraltar has a corporate tax rate of 10% [Gibraltar](https://www.ey.com/Publication/vwLUAssets/ey-gibraltar-tax-facts-2017-18/$FILE/ey-gibraltar-tax-facts-2017-18.pdf)\n",
    "\n",
    "- Hong Kong have a corporate tax rate of 16.5% [Hong Kong](https://tradingeconomics.com/hong-kong/corporate-tax-rate)\n",
    "\n",
    "- British Vergin Islands have a corporate tax rate of 0% [British Vergin Islands](https://www2.deloitte.com/content/dam/Deloitte/global/Documents/Tax/dttl-tax-britishvirginislandshighlights-2018.pdf?nc=1)\n",
    "\n",
    "- United Arab Emirates have a corporate tax rate of 0% [United Arab Emirates](https://en.portal.santandertrade.com/establish-overseas/united-arab-emirates/tax-system)\n",
    "\n",
    "- Bahamas have a corporate tax rate of 0% [Bahamas](https://tradingeconomics.com/bahamas/personal-income-tax-rate)\n",
    "\n",
    "- Ecuador have a corporate tax rate of 22% [Ecuador](https://tradingeconomics.com/ecuador/corporate-tax-rate)\n",
    "\n",
    "No consistent information regarding Taiwan has been found for the lack of transparency of the Chinese government.\n"
   ]
  },
  {
   "cell_type": "code",
   "execution_count": 49,
   "metadata": {},
   "outputs": [],
   "source": [
    "country_count_tax_rate.loc[country_count_tax_rate['Country Name']=='Channel Islands','Tax Rate']=0\n",
    "country_count_tax_rate.loc[country_count_tax_rate['Country Name']=='Isle of Man','Tax Rate']=0\n",
    "country_count_tax_rate.loc[country_count_tax_rate['Country Name']=='Monaco','Tax Rate']=0\n",
    "country_count_tax_rate.loc[country_count_tax_rate['Country Name']=='Liechtenstein','Tax Rate']=12.5\n",
    "country_count_tax_rate.loc[country_count_tax_rate['Country Name']=='Gibraltar','Tax Rate']=10\n",
    "country_count_tax_rate.loc[country_count_tax_rate['Country Name']=='Hong Kong SAR, China','Tax Rate']=16.5\n",
    "country_count_tax_rate.loc[country_count_tax_rate['Country Name']=='Bahamas, The','Tax Rate']=0\n",
    "country_count_tax_rate.loc[country_count_tax_rate['Country Name']=='United Arab Emirates','Tax Rate']=0\n",
    "country_count_tax_rate.loc[country_count_tax_rate['Country Name']=='Ecuador','Tax Rate']=22\n",
    "country_count_tax_rate.loc[country_count_tax_rate['Country Name']=='British Virgin Islands','Tax Rate']=0"
   ]
  },
  {
   "cell_type": "markdown",
   "metadata": {},
   "source": [
    "#### Small Developed Countries"
   ]
  },
  {
   "cell_type": "markdown",
   "metadata": {},
   "source": [
    "Firstly the graph of tax rate and presence in Panama Paper of small developed countries with high income per capita is plotted. In fact, by looking at these relationship it will be possible to understand if all small developed countries with high income per capita present favourable characteristics to go offshore. \n",
    "\n",
    "All the countries with GDP per capita `GDP_y`>30000 and a total GDP `GDP_x`< 200 billions USD have been considered.\n",
    "\n",
    "The GDP has been used as a weight for the count of entities offshore because the discrepancy between the size of the economies is really high.\n",
    "\n",
    "By observing the plot below some important considerations can be drawn; two set of countries can be identified: tax havens countries and small developed countries. Firstly the tax havens countries can be identified very easily since they have a high presence in the papers and at the same time they have really low tax rates. The rest of the countries are small developed usually European countries. The trend of non tax havens countries shows that high tax rate is not a factor pushing entities to go offshore; in fact the opposite could be true: there seems to be a negative exponential relationship between presence in panama papers and tax rates, but the two tail test p-value (0.395) of such relationship seems to imply that no relationship exist between tax rate and number of entities in Panama Papers for small developed countries. However this relationship could imply the presence of an hidden covariate: high tax rate might be synonym of tighter control and regulations on entities going offshore, meaning that countries with tighter controls will naturally have a lower number of offshore companies.\n",
    "\n",
    "In addition the graph also seems to suggest that the resons behind the presence of many companies offshore in tax havens is not only the low taxation levels: in fact corporate tax rate of tax havens countries is often comparable to that one of other small european countries. As a matter of fact tax havens countries offer entities favorable conditions to easily set compabies offshore compared to other small countries."
   ]
  },
  {
   "cell_type": "code",
   "execution_count": 50,
   "metadata": {},
   "outputs": [
    {
     "data": {
      "text/html": [
       "\n",
       "\n",
       "\n",
       "\n",
       "\n",
       "\n",
       "  <div class=\"bk-root\" id=\"242ed67b-fa90-474b-8f2f-635ace010a86\"></div>\n"
      ]
     },
     "metadata": {},
     "output_type": "display_data"
    },
    {
     "data": {
      "application/javascript": [
       "(function(root) {\n",
       "  function embed_document(root) {\n",
       "    \n",
       "  var docs_json = {\"8ccc5130-de98-4fdc-9cb0-b0e01306b0c5\":{\"roots\":{\"references\":[{\"attributes\":{\"children\":[{\"id\":\"1474\",\"subtype\":\"Figure\",\"type\":\"Plot\"},{\"id\":\"1534\",\"subtype\":\"Figure\",\"type\":\"Plot\"}]},\"id\":\"1570\",\"type\":\"Row\"},{\"attributes\":{\"callback\":null,\"data\":{\"c\":[242000000000.0,569333333333.3334,9180787954.8,51926314674.13333,293933333333.3333,5216143943.461538,227133425171.26666,5301931545.6,4922173236.692307,2288000000.0,850000000.0,3274307831.133333,1492800000000.0,246466666666.66666,795266666666.6666,5418704083.333333,3343516256.5,1088333333333.3334,151083392370.0,241600000000.0,118940926181.06667,462666666666.6667,483466666666.6667,121546062271.0,30812990994.333332,381866666666.6667,16469675328.666666,401066666666.6667,308800000000.0,4098230769.230769,13049161890.0,2219048535.3076925,2361167216.785714,1977081765.4],\"country\":[\"Hong Kong SAR, China\",\"Switzerland\",\"Channel Islands\",\"Luxembourg\",\"United Arab Emirates\",\"Isle of Man\",\"Singapore\",\"Monaco\",\"Liechtenstein\",\"Gibraltar\",\"British Virgin Islands\",\"Andorra\",\"Canada\",\"Ireland\",\"Netherlands\",\"Bermuda\",\"Cayman Islands\",\"Australia\",\"New Zealand\",\"Finland\",\"Kuwait\",\"Belgium\",\"Sweden\",\"Qatar\",\"Macao SAR, China\",\"Austria\",\"Iceland\",\"Norway\",\"Denmark\",\"Virgin Islands (U.S.)\",\"Brunei Darussalam\",\"Faroe Islands\",\"Greenland\",\"San Marino\"],\"x\":[16.5,20.860170389713097,0.0,28.729216593654897,0.0,0.0,32.45684990164795,0.0,12.5,10.0,0.0,\"NaN\",53.77860214192079,37.94103138471929,25.5089115144116,\"NaN\",\"NaN\",64.55067318552749,52.925533566755796,17.101716281972084,0.5458449730516288,35.74571539919367,14.901043006492367,45.93791213041428,4.84529595302896,27.35709443624949,28.909050179867904,29.6173047023925,41.725671119385204,\"NaN\",\"NaN\",\"NaN\",\"NaN\",17.291533651842922],\"y\":[-6.805050125770456,-7.176601371423348,-5.6272616073940185,-6.6803582186425885,-7.606774170913472,-6.027863119211703,-7.745514455339305,-6.223648943244593,-6.3770265775175075,-6.050038794342846,-5.88527130483557,-6.825810647680471,-9.63367215161155,-8.883902319821594,-9.652539513166124,-7.5164114905252815,-7.498897573858133,-10.063634077291733,-9.315893867630418,-9.570183573306238,-9.297180065600369,-9.89441619975703,-9.944003846873546,-9.65337712940558,-9.090793848336471,-10.201700508532513,-9.040593778829416,-10.457088532849667,-10.34354925598546,-9.01053641832085,-10.115582619089098,\"NaN\",\"NaN\",\"NaN\"]},\"selected\":{\"id\":\"1604\",\"type\":\"Selection\"},\"selection_policy\":{\"id\":\"1605\",\"type\":\"UnionRenderers\"}},\"id\":\"1472\",\"type\":\"ColumnDataSource\"},{\"attributes\":{\"data_source\":{\"id\":\"1472\",\"type\":\"ColumnDataSource\"},\"glyph\":{\"id\":\"1510\",\"type\":\"Circle\"},\"hover_glyph\":null,\"muted_glyph\":null,\"nonselection_glyph\":{\"id\":\"1511\",\"type\":\"Circle\"},\"selection_glyph\":null,\"view\":{\"id\":\"1513\",\"type\":\"CDSView\"}},\"id\":\"1512\",\"type\":\"GlyphRenderer\"},{\"attributes\":{},\"id\":\"1550\",\"type\":\"BasicTicker\"},{\"attributes\":{\"fill_alpha\":{\"value\":0.1},\"fill_color\":{\"value\":\"navy\"},\"line_alpha\":{\"value\":0.1},\"line_color\":{\"value\":\"navy\"},\"size\":{\"units\":\"screen\",\"value\":450},\"x\":{\"value\":19},\"y\":{\"value\":-6.6}},\"id\":\"1524\",\"type\":\"Circle\"},{\"attributes\":{},\"id\":\"1607\",\"type\":\"UnionRenderers\"},{\"attributes\":{},\"id\":\"1608\",\"type\":\"Selection\"},{\"attributes\":{\"active_drag\":\"auto\",\"active_inspect\":\"auto\",\"active_multi\":null,\"active_scroll\":\"auto\",\"active_tap\":\"auto\",\"logo\":null,\"tools\":[{\"id\":\"1494\",\"type\":\"PanTool\"},{\"id\":\"1495\",\"type\":\"WheelZoomTool\"},{\"id\":\"1496\",\"type\":\"BoxZoomTool\"},{\"id\":\"1497\",\"type\":\"SaveTool\"},{\"id\":\"1498\",\"type\":\"ResetTool\"},{\"id\":\"1499\",\"type\":\"HelpTool\"},{\"id\":\"1514\",\"type\":\"HoverTool\"},{\"id\":\"1521\",\"type\":\"HoverTool\"},{\"id\":\"1528\",\"type\":\"HoverTool\"}]},\"id\":\"1500\",\"type\":\"Toolbar\"},{\"attributes\":{\"dimension\":1,\"plot\":{\"id\":\"1534\",\"subtype\":\"Figure\",\"type\":\"Plot\"},\"ticker\":{\"id\":\"1550\",\"type\":\"BasicTicker\"}},\"id\":\"1553\",\"type\":\"Grid\"},{\"attributes\":{\"fill_alpha\":{\"value\":0.1},\"fill_color\":{\"value\":\"#1f77b4\"},\"line_alpha\":{\"value\":0.1},\"line_color\":{\"value\":\"#1f77b4\"},\"size\":{\"units\":\"screen\",\"value\":450},\"x\":{\"value\":19},\"y\":{\"value\":-6.6}},\"id\":\"1525\",\"type\":\"Circle\"},{\"attributes\":{},\"id\":\"1609\",\"type\":\"UnionRenderers\"},{\"attributes\":{},\"id\":\"1494\",\"type\":\"PanTool\"},{\"attributes\":{\"callback\":null,\"renderers\":[{\"id\":\"1519\",\"type\":\"GlyphRenderer\"}],\"tooltips\":[[\"Set of Country\",\"Not tax havens countries, p-value=0.395\"]]},\"id\":\"1521\",\"type\":\"HoverTool\"},{\"attributes\":{\"data_source\":{\"id\":\"1523\",\"type\":\"ColumnDataSource\"},\"glyph\":{\"id\":\"1524\",\"type\":\"Circle\"},\"hover_glyph\":null,\"muted_glyph\":null,\"nonselection_glyph\":{\"id\":\"1525\",\"type\":\"Circle\"},\"selection_glyph\":null,\"view\":{\"id\":\"1527\",\"type\":\"CDSView\"}},\"id\":\"1526\",\"type\":\"GlyphRenderer\"},{\"attributes\":{},\"id\":\"1598\",\"type\":\"BasicTickFormatter\"},{\"attributes\":{},\"id\":\"1495\",\"type\":\"WheelZoomTool\"},{\"attributes\":{\"axis_label\":\"Number of Entities Offshore (log scale)\",\"formatter\":{\"id\":\"1598\",\"type\":\"BasicTickFormatter\"},\"plot\":{\"id\":\"1474\",\"subtype\":\"Figure\",\"type\":\"Plot\"},\"ticker\":{\"id\":\"1490\",\"type\":\"BasicTicker\"}},\"id\":\"1489\",\"type\":\"LinearAxis\"},{\"attributes\":{\"source\":{\"id\":\"1523\",\"type\":\"ColumnDataSource\"}},\"id\":\"1527\",\"type\":\"CDSView\"},{\"attributes\":{\"overlay\":{\"id\":\"1502\",\"type\":\"BoxAnnotation\"}},\"id\":\"1496\",\"type\":\"BoxZoomTool\"},{\"attributes\":{\"active_drag\":\"auto\",\"active_inspect\":\"auto\",\"active_multi\":null,\"active_scroll\":\"auto\",\"active_tap\":\"auto\",\"tools\":[{\"id\":\"1554\",\"type\":\"PanTool\"},{\"id\":\"1555\",\"type\":\"WheelZoomTool\"},{\"id\":\"1556\",\"type\":\"BoxZoomTool\"},{\"id\":\"1557\",\"type\":\"SaveTool\"},{\"id\":\"1558\",\"type\":\"ResetTool\"},{\"id\":\"1559\",\"type\":\"HelpTool\"}]},\"id\":\"1560\",\"type\":\"Toolbar\"},{\"attributes\":{},\"id\":\"1497\",\"type\":\"SaveTool\"},{\"attributes\":{\"below\":[{\"id\":\"1544\",\"type\":\"LinearAxis\"}],\"left\":[{\"id\":\"1549\",\"type\":\"LinearAxis\"}],\"min_border\":null,\"outline_line_color\":{\"value\":null},\"plot_height\":511,\"plot_width\":35,\"renderers\":[{\"id\":\"1544\",\"type\":\"LinearAxis\"},{\"id\":\"1548\",\"type\":\"Grid\"},{\"id\":\"1549\",\"type\":\"LinearAxis\"},{\"id\":\"1553\",\"type\":\"Grid\"},{\"id\":\"1562\",\"type\":\"BoxAnnotation\"}],\"title\":{\"id\":\"1533\",\"type\":\"Title\"},\"title_location\":\"right\",\"toolbar\":{\"id\":\"1560\",\"type\":\"Toolbar\"},\"toolbar_location\":null,\"x_range\":{\"id\":\"1536\",\"type\":\"DataRange1d\"},\"x_scale\":{\"id\":\"1540\",\"type\":\"LinearScale\"},\"y_range\":{\"id\":\"1538\",\"type\":\"DataRange1d\"},\"y_scale\":{\"id\":\"1542\",\"type\":\"LinearScale\"}},\"id\":\"1534\",\"subtype\":\"Figure\",\"type\":\"Plot\"},{\"attributes\":{},\"id\":\"1554\",\"type\":\"PanTool\"},{\"attributes\":{\"dimension\":1,\"plot\":{\"id\":\"1474\",\"subtype\":\"Figure\",\"type\":\"Plot\"},\"ticker\":{\"id\":\"1490\",\"type\":\"BasicTicker\"}},\"id\":\"1493\",\"type\":\"Grid\"},{\"attributes\":{},\"id\":\"1599\",\"type\":\"BasicTickFormatter\"},{\"attributes\":{},\"id\":\"1498\",\"type\":\"ResetTool\"},{\"attributes\":{},\"id\":\"1530\",\"type\":\"LogTicker\"},{\"attributes\":{},\"id\":\"1555\",\"type\":\"WheelZoomTool\"},{\"attributes\":{\"color_mapper\":{\"id\":\"1471\",\"type\":\"LogColorMapper\"},\"formatter\":{\"id\":\"1599\",\"type\":\"BasicTickFormatter\"},\"label_standoff\":12,\"location\":[20,0],\"plot\":{\"id\":\"1474\",\"subtype\":\"Figure\",\"type\":\"Plot\"},\"ticker\":{\"id\":\"1530\",\"type\":\"LogTicker\"}},\"id\":\"1531\",\"type\":\"ColorBar\"},{\"attributes\":{},\"id\":\"1499\",\"type\":\"HelpTool\"},{\"attributes\":{\"overlay\":{\"id\":\"1562\",\"type\":\"BoxAnnotation\"}},\"id\":\"1556\",\"type\":\"BoxZoomTool\"},{\"attributes\":{},\"id\":\"1557\",\"type\":\"SaveTool\"},{\"attributes\":{\"high\":1492800000000.0,\"low\":850000000.0,\"palette\":[\"#0072B2\",\"#E69F00\",\"#F0E442\"]},\"id\":\"1471\",\"type\":\"LogColorMapper\"},{\"attributes\":{\"plot\":null,\"text\":\"Real GDP Legend Bar (USD)\"},\"id\":\"1533\",\"type\":\"Title\"},{\"attributes\":{\"bottom_units\":\"screen\",\"fill_alpha\":{\"value\":0.5},\"fill_color\":{\"value\":\"lightgrey\"},\"left_units\":\"screen\",\"level\":\"overlay\",\"line_alpha\":{\"value\":1.0},\"line_color\":{\"value\":\"black\"},\"line_dash\":[4,4],\"line_width\":{\"value\":2},\"plot\":null,\"render_mode\":\"css\",\"right_units\":\"screen\",\"top_units\":\"screen\"},\"id\":\"1502\",\"type\":\"BoxAnnotation\"},{\"attributes\":{},\"id\":\"1558\",\"type\":\"ResetTool\"},{\"attributes\":{\"source\":{\"id\":\"1472\",\"type\":\"ColumnDataSource\"}},\"id\":\"1513\",\"type\":\"CDSView\"},{\"attributes\":{\"axis_label\":\"Tax Rate (%)\",\"formatter\":{\"id\":\"1596\",\"type\":\"BasicTickFormatter\"},\"plot\":{\"id\":\"1474\",\"subtype\":\"Figure\",\"type\":\"Plot\"},\"ticker\":{\"id\":\"1485\",\"type\":\"BasicTicker\"}},\"id\":\"1484\",\"type\":\"LinearAxis\"},{\"attributes\":{\"callback\":null},\"id\":\"1536\",\"type\":\"DataRange1d\"},{\"attributes\":{},\"id\":\"1559\",\"type\":\"HelpTool\"},{\"attributes\":{\"callback\":null},\"id\":\"1538\",\"type\":\"DataRange1d\"},{\"attributes\":{\"fill_alpha\":{\"value\":0.5},\"fill_color\":{\"field\":\"c\",\"transform\":{\"id\":\"1471\",\"type\":\"LogColorMapper\"}},\"line_alpha\":{\"value\":0.5},\"line_color\":{\"field\":\"c\",\"transform\":{\"id\":\"1471\",\"type\":\"LogColorMapper\"}},\"radius\":{\"units\":\"data\",\"value\":1},\"x\":{\"field\":\"x\"},\"y\":{\"field\":\"y\"}},\"id\":\"1510\",\"type\":\"Circle\"},{\"attributes\":{\"line_alpha\":0.1,\"line_color\":\"navy\",\"line_width\":4,\"x\":{\"field\":\"x\"},\"y\":{\"field\":\"y\"}},\"id\":\"1517\",\"type\":\"Line\"},{\"attributes\":{\"callback\":null,\"renderers\":[{\"id\":\"1512\",\"type\":\"GlyphRenderer\"}],\"tooltips\":[[\"Country\",\"@country\"],[\"(Tax Rate, Log(number of entities offshore))\",\"($x, $y)\"]]},\"id\":\"1514\",\"type\":\"HoverTool\"},{\"attributes\":{\"bottom_units\":\"screen\",\"fill_alpha\":{\"value\":0.5},\"fill_color\":{\"value\":\"lightgrey\"},\"left_units\":\"screen\",\"level\":\"overlay\",\"line_alpha\":{\"value\":1.0},\"line_color\":{\"value\":\"black\"},\"line_dash\":[4,4],\"line_width\":{\"value\":2},\"plot\":null,\"render_mode\":\"css\",\"right_units\":\"screen\",\"top_units\":\"screen\"},\"id\":\"1562\",\"type\":\"BoxAnnotation\"},{\"attributes\":{\"below\":[{\"id\":\"1484\",\"type\":\"LinearAxis\"}],\"left\":[{\"id\":\"1489\",\"type\":\"LinearAxis\"}],\"plot_height\":800,\"plot_width\":800,\"renderers\":[{\"id\":\"1484\",\"type\":\"LinearAxis\"},{\"id\":\"1488\",\"type\":\"Grid\"},{\"id\":\"1489\",\"type\":\"LinearAxis\"},{\"id\":\"1493\",\"type\":\"Grid\"},{\"id\":\"1502\",\"type\":\"BoxAnnotation\"},{\"id\":\"1512\",\"type\":\"GlyphRenderer\"},{\"id\":\"1519\",\"type\":\"GlyphRenderer\"},{\"id\":\"1526\",\"type\":\"GlyphRenderer\"},{\"id\":\"1531\",\"type\":\"ColorBar\"}],\"right\":[{\"id\":\"1531\",\"type\":\"ColorBar\"}],\"title\":{\"id\":\"1473\",\"type\":\"Title\"},\"toolbar\":{\"id\":\"1500\",\"type\":\"Toolbar\"},\"toolbar_location\":null,\"x_range\":{\"id\":\"1476\",\"type\":\"DataRange1d\"},\"x_scale\":{\"id\":\"1480\",\"type\":\"LinearScale\"},\"y_range\":{\"id\":\"1478\",\"type\":\"DataRange1d\"},\"y_scale\":{\"id\":\"1482\",\"type\":\"LinearScale\"}},\"id\":\"1474\",\"subtype\":\"Figure\",\"type\":\"Plot\"},{\"attributes\":{},\"id\":\"1540\",\"type\":\"LinearScale\"},{\"attributes\":{\"callback\":null,\"data\":{\"x\":{\"__ndarray__\":\"mxIoPKnjSkCB8Ga3c/hCQKb0ZgZIgjlA+6e+Oj4jUEB/SEjid3ZKQHOKCBQKGjFA/Cp+4I934T+I1Cmac99BQDVZSoJVzS1AVVMzgQ34RkBZzSZDlWETQG5GfYpqWztAoPQ4g7foPEBbcVSuB549QKG0jsri3ERA\",\"dtype\":\"float64\",\"shape\":[15]},\"y\":{\"__ndarray__\":\"u+Qtd4KcI8CHRmGjlmkjwPZhJtKdQSPAx3Kd5yS/I8CeshdPxJkjwITCQuaVJiPAM4Cp11rxIsAv5i6vh2IjwO6BN4mCHyPAsSzw1EyDI8BpMRizLf8iwH9AHw2PRyPAiFVedYxMI8CbbVhr004jwHc6ucHBdSPA\",\"dtype\":\"float64\",\"shape\":[15]}},\"selected\":{\"id\":\"1606\",\"type\":\"Selection\"},\"selection_policy\":{\"id\":\"1607\",\"type\":\"UnionRenderers\"}},\"id\":\"1516\",\"type\":\"ColumnDataSource\"},{\"attributes\":{},\"id\":\"1601\",\"type\":\"BasicTickFormatter\"},{\"attributes\":{},\"id\":\"1542\",\"type\":\"LinearScale\"},{\"attributes\":{\"fill_alpha\":{\"value\":0.1},\"fill_color\":{\"value\":\"#1f77b4\"},\"line_alpha\":{\"value\":0.1},\"line_color\":{\"value\":\"#1f77b4\"},\"radius\":{\"units\":\"data\",\"value\":1},\"x\":{\"field\":\"x\"},\"y\":{\"field\":\"y\"}},\"id\":\"1511\",\"type\":\"Circle\"},{\"attributes\":{\"plot\":null,\"text\":\"Number of entities offshore vs tax rate (Small developed countries)\",\"text_color\":{\"value\":\"grey\"},\"text_font_size\":{\"value\":\"11pt\"},\"text_font_style\":\"normal\"},\"id\":\"1473\",\"type\":\"Title\"},{\"attributes\":{},\"id\":\"1490\",\"type\":\"BasicTicker\"},{\"attributes\":{},\"id\":\"1603\",\"type\":\"BasicTickFormatter\"},{\"attributes\":{\"formatter\":{\"id\":\"1601\",\"type\":\"BasicTickFormatter\"},\"plot\":{\"id\":\"1534\",\"subtype\":\"Figure\",\"type\":\"Plot\"},\"ticker\":{\"id\":\"1545\",\"type\":\"BasicTicker\"}},\"id\":\"1544\",\"type\":\"LinearAxis\"},{\"attributes\":{\"formatter\":{\"id\":\"1603\",\"type\":\"BasicTickFormatter\"},\"plot\":{\"id\":\"1534\",\"subtype\":\"Figure\",\"type\":\"Plot\"},\"ticker\":{\"id\":\"1550\",\"type\":\"BasicTicker\"}},\"id\":\"1549\",\"type\":\"LinearAxis\"},{\"attributes\":{},\"id\":\"1606\",\"type\":\"Selection\"},{\"attributes\":{\"line_alpha\":0.1,\"line_color\":\"#1f77b4\",\"line_width\":4,\"x\":{\"field\":\"x\"},\"y\":{\"field\":\"y\"}},\"id\":\"1518\",\"type\":\"Line\"},{\"attributes\":{\"data_source\":{\"id\":\"1516\",\"type\":\"ColumnDataSource\"},\"glyph\":{\"id\":\"1517\",\"type\":\"Line\"},\"hover_glyph\":null,\"muted_glyph\":null,\"nonselection_glyph\":{\"id\":\"1518\",\"type\":\"Line\"},\"selection_glyph\":null,\"view\":{\"id\":\"1520\",\"type\":\"CDSView\"}},\"id\":\"1519\",\"type\":\"GlyphRenderer\"},{\"attributes\":{\"callback\":null},\"id\":\"1476\",\"type\":\"DataRange1d\"},{\"attributes\":{},\"id\":\"1482\",\"type\":\"LinearScale\"},{\"attributes\":{},\"id\":\"1545\",\"type\":\"BasicTicker\"},{\"attributes\":{},\"id\":\"1604\",\"type\":\"Selection\"},{\"attributes\":{},\"id\":\"1485\",\"type\":\"BasicTicker\"},{\"attributes\":{},\"id\":\"1596\",\"type\":\"BasicTickFormatter\"},{\"attributes\":{\"source\":{\"id\":\"1516\",\"type\":\"ColumnDataSource\"}},\"id\":\"1520\",\"type\":\"CDSView\"},{\"attributes\":{\"callback\":null},\"id\":\"1478\",\"type\":\"DataRange1d\"},{\"attributes\":{\"plot\":{\"id\":\"1534\",\"subtype\":\"Figure\",\"type\":\"Plot\"},\"ticker\":{\"id\":\"1545\",\"type\":\"BasicTicker\"}},\"id\":\"1548\",\"type\":\"Grid\"},{\"attributes\":{},\"id\":\"1605\",\"type\":\"UnionRenderers\"},{\"attributes\":{\"callback\":null,\"renderers\":[{\"id\":\"1526\",\"type\":\"GlyphRenderer\"}],\"tooltips\":[[\"Set of Country\",\"Tax havens\"]]},\"id\":\"1528\",\"type\":\"HoverTool\"},{\"attributes\":{},\"id\":\"1480\",\"type\":\"LinearScale\"},{\"attributes\":{\"plot\":{\"id\":\"1474\",\"subtype\":\"Figure\",\"type\":\"Plot\"},\"ticker\":{\"id\":\"1485\",\"type\":\"BasicTicker\"}},\"id\":\"1488\",\"type\":\"Grid\"},{\"attributes\":{\"callback\":null,\"data\":{},\"selected\":{\"id\":\"1608\",\"type\":\"Selection\"},\"selection_policy\":{\"id\":\"1609\",\"type\":\"UnionRenderers\"}},\"id\":\"1523\",\"type\":\"ColumnDataSource\"}],\"root_ids\":[\"1570\"]},\"title\":\"Bokeh Application\",\"version\":\"1.0.2\"}};\n",
       "  var render_items = [{\"docid\":\"8ccc5130-de98-4fdc-9cb0-b0e01306b0c5\",\"roots\":{\"1570\":\"242ed67b-fa90-474b-8f2f-635ace010a86\"}}];\n",
       "  root.Bokeh.embed.embed_items_notebook(docs_json, render_items);\n",
       "\n",
       "  }\n",
       "  if (root.Bokeh !== undefined) {\n",
       "    embed_document(root);\n",
       "  } else {\n",
       "    var attempts = 0;\n",
       "    var timer = setInterval(function(root) {\n",
       "      if (root.Bokeh !== undefined) {\n",
       "        embed_document(root);\n",
       "        clearInterval(timer);\n",
       "      }\n",
       "      attempts++;\n",
       "      if (attempts > 100) {\n",
       "        console.log(\"Bokeh: ERROR: Unable to run BokehJS code because BokehJS library is missing\");\n",
       "        clearInterval(timer);\n",
       "      }\n",
       "    }, 10, root)\n",
       "  }\n",
       "})(window);"
      ],
      "application/vnd.bokehjs_exec.v0+json": ""
     },
     "metadata": {
      "application/vnd.bokehjs_exec.v0+json": {
       "id": "1570"
      }
     },
     "output_type": "display_data"
    },
    {
     "data": {
      "text/plain": [
       "'C:\\\\Users\\\\Tullio\\\\Documents\\\\Minor\\\\Courses\\\\Applied Data Analysis\\\\project_ada_akbar\\\\taxratesmalldevelopedcountries.png'"
      ]
     },
     "execution_count": 50,
     "metadata": {},
     "output_type": "execute_result"
    }
   ],
   "source": [
    "selection=country_count_tax_rate['GDP_y'].apply(lambda x: x>30000) & country_count_tax_rate['GDP_x'].apply(lambda x: x<200*10e9)\n",
    "\n",
    "x = country_count_tax_rate['Tax Rate'][selection]\n",
    "y = np.log10(country_count_tax_rate['n_companies_offshore'][selection]/country_count_tax_rate['GDP_x'][selection])\n",
    "country_names=country_count_tax_rate['Country Name'][selection]\n",
    "c = country_count_tax_rate['GDP_x'][selection]\n",
    "c[c.isna()]=0\n",
    "\n",
    "# establish the color mapper schema\n",
    "color_mapper = LogColorMapper(palette=\"Colorblind3\", low=min(c),\\\n",
    "                              high=max(c))\n",
    "\n",
    "# establish the sources of data to make the interactive graph\n",
    "source=ColumnDataSource(data=dict(\n",
    "    x=list(x),\n",
    "    y=list(y),\n",
    "    country=list(country_names),\n",
    "    c=list(c),\n",
    "))\n",
    "\n",
    "    \n",
    "# set the regression line\n",
    "df=pd.DataFrame({'Tax Rate':x,'n_companies_offshore':y})\n",
    "df=df.dropna(inplace=False)\n",
    "df=df[df['n_companies_offshore'].apply(lambda x: x<-8)]\n",
    "\n",
    "a=np.array(df['Tax Rate'])\n",
    "b=np.array(df['n_companies_offshore'])\n",
    "\n",
    "m,i,r,p_value,std=stats.linregress(a,b)\n",
    "\n",
    "p = figure(title=\"Number of entities offshore vs tax rate (Small developed countries)\", plot_width=800, plot_height=800)\n",
    "\n",
    "scatter=p.scatter(x='x', y='y', radius=1, source=source, color={'field': 'c', 'transform': color_mapper}, alpha=0.5)\n",
    "hover= HoverTool(tooltips = [(\"Country\", \"@country\"),(\"(Tax Rate, Log(number of entities offshore))\", \"($x, $y)\")],renderers=[scatter])\n",
    "p.add_tools(hover)\n",
    "\n",
    "\n",
    "line=p.line(df['Tax Rate'], m*df['Tax Rate']+i, line_width=4, color='navy', alpha=0.1)\n",
    "hover0=HoverTool(tooltips = [(\"Set of Country\",'Not tax havens countries, p-value='+str(p_value)[:5])], renderers=[line])\n",
    "p.add_tools(hover0)\n",
    "circle=p.circle(19, -6.6, size=450, color=\"navy\", alpha=0.1)\n",
    "hover1=HoverTool(tooltips = [(\"Set of Country\",'Tax havens')], renderers=[circle])\n",
    "p.add_tools(hover1)\n",
    "\n",
    "\n",
    "# set the style of the title\n",
    "p.title.text_color = \"grey\"\n",
    "p.title.text_font = \"helvetica\"\n",
    "p.title.text_font_style = \"normal\"\n",
    "p.title.text_font_size = '11pt'\n",
    "\n",
    "# set the label options\n",
    "p.xaxis.axis_label='Tax Rate (%)'\n",
    "p.yaxis.axis_label='Number of Entities Offshore (log scale)'\n",
    "\n",
    "# add the color bar\n",
    "color_bar = ColorBar(color_mapper=color_mapper, ticker=LogTicker(),\n",
    "                     label_standoff=12, border_line_color=None, location=(20,0))\n",
    "\n",
    "# set the color bar title\n",
    "color_bar_height = 511\n",
    "color_bar_width = 35\n",
    "\n",
    "color_bar_plot = figure(title=\"Real GDP Legend Bar (USD)\", title_location=\"right\", \n",
    "                        height=color_bar_height, width=color_bar_width, \n",
    "                        toolbar_location=None, min_border=None, \n",
    "                        outline_line_color=None)\n",
    "\n",
    "p.add_layout(color_bar, 'right')\n",
    "\n",
    "# remove the interactive toolbar\n",
    "p.toolbar.logo = None\n",
    "p.toolbar_location = None\n",
    "\n",
    "layout = row_plot(p, color_bar_plot)\n",
    "output_file(\"taxratesmalldevelopedcountries.html\", title=\"taxratesmalldevelopedcountries\")\n",
    "show(layout)\n",
    "export_png(layout, filename=\"taxratesmalldevelopedcountries.png\")"
   ]
  },
  {
   "cell_type": "markdown",
   "metadata": {},
   "source": [
    "#### Developing Countries"
   ]
  },
  {
   "cell_type": "markdown",
   "metadata": {},
   "source": [
    "Secondly the graph of tax rate and presence in Panama Paper of developing countries is plotted. BRICs countries have been considered, as well as all other countries which had a GDP greater than 40 billions USD a year. Also in this case the GDP has been used as a weight for the count of entities offshore because the discrepancy between the size of the economies is really high.\n",
    "\n",
    "By observing this graphs a negative exponential relationship can be again observed further showing that for this category of countries tax rate is not a factor pushing entities to go offshore: actually the higher the tax rate the lower the number of companies offshore. Contrary to the little evidence found in small developed countries, developing countries show a very clear negative exponential relationship with a two tails p-value of 0.00143. This could be a further proof to the hypothesis that higher tax rates are correlates with higher regulations as shown in the graph for small developed countries; in fact in developing countries the bureaucratic machine and regulation could even disable further entities who are willing to go offshore."
   ]
  },
  {
   "cell_type": "code",
   "execution_count": 51,
   "metadata": {},
   "outputs": [
    {
     "data": {
      "text/html": [
       "\n",
       "\n",
       "\n",
       "\n",
       "\n",
       "\n",
       "  <div class=\"bk-root\" id=\"85bcc17d-af90-4db5-9b35-30ddd88ac06d\"></div>\n"
      ]
     },
     "metadata": {},
     "output_type": "display_data"
    },
    {
     "data": {
      "application/javascript": [
       "(function(root) {\n",
       "  function embed_document(root) {\n",
       "    \n",
       "  var docs_json = {\"61302e93-14bf-4467-893f-6686ce36ad3a\":{\"roots\":{\"references\":[{\"attributes\":{\"children\":[{\"id\":\"2073\",\"subtype\":\"Figure\",\"type\":\"Plot\"},{\"id\":\"2126\",\"subtype\":\"Figure\",\"type\":\"Plot\"}]},\"id\":\"2162\",\"type\":\"Row\"},{\"attributes\":{},\"id\":\"2097\",\"type\":\"ResetTool\"},{\"attributes\":{\"bottom_units\":\"screen\",\"fill_alpha\":{\"value\":0.5},\"fill_color\":{\"value\":\"lightgrey\"},\"left_units\":\"screen\",\"level\":\"overlay\",\"line_alpha\":{\"value\":1.0},\"line_color\":{\"value\":\"black\"},\"line_dash\":[4,4],\"line_width\":{\"value\":2},\"plot\":null,\"render_mode\":\"css\",\"right_units\":\"screen\",\"top_units\":\"screen\"},\"id\":\"2101\",\"type\":\"BoxAnnotation\"},{\"attributes\":{\"formatter\":{\"id\":\"2212\",\"type\":\"BasicTickFormatter\"},\"plot\":{\"id\":\"2126\",\"subtype\":\"Figure\",\"type\":\"Plot\"},\"ticker\":{\"id\":\"2137\",\"type\":\"BasicTicker\"}},\"id\":\"2136\",\"type\":\"LinearAxis\"},{\"attributes\":{},\"id\":\"2212\",\"type\":\"BasicTickFormatter\"},{\"attributes\":{\"data_source\":{\"id\":\"2071\",\"type\":\"ColumnDataSource\"},\"glyph\":{\"id\":\"2109\",\"type\":\"Circle\"},\"hover_glyph\":null,\"muted_glyph\":null,\"nonselection_glyph\":{\"id\":\"2110\",\"type\":\"Circle\"},\"selection_glyph\":null,\"view\":{\"id\":\"2112\",\"type\":\"CDSView\"}},\"id\":\"2111\",\"type\":\"GlyphRenderer\"},{\"attributes\":{},\"id\":\"2137\",\"type\":\"BasicTicker\"},{\"attributes\":{\"source\":{\"id\":\"2071\",\"type\":\"ColumnDataSource\"}},\"id\":\"2112\",\"type\":\"CDSView\"},{\"attributes\":{},\"id\":\"2214\",\"type\":\"BasicTickFormatter\"},{\"attributes\":{\"plot\":{\"id\":\"2126\",\"subtype\":\"Figure\",\"type\":\"Plot\"},\"ticker\":{\"id\":\"2137\",\"type\":\"BasicTicker\"}},\"id\":\"2140\",\"type\":\"Grid\"},{\"attributes\":{},\"id\":\"2215\",\"type\":\"Selection\"},{\"attributes\":{\"callback\":null,\"renderers\":[{\"id\":\"2111\",\"type\":\"GlyphRenderer\"}],\"tooltips\":[[\"Country\",\"@country\"],[\"(Tax Rate, Log(number of entities offshore))\",\"($x, $y)\"]]},\"id\":\"2113\",\"type\":\"HoverTool\"},{\"attributes\":{\"formatter\":{\"id\":\"2214\",\"type\":\"BasicTickFormatter\"},\"plot\":{\"id\":\"2126\",\"subtype\":\"Figure\",\"type\":\"Plot\"},\"ticker\":{\"id\":\"2142\",\"type\":\"BasicTicker\"}},\"id\":\"2141\",\"type\":\"LinearAxis\"},{\"attributes\":{},\"id\":\"2216\",\"type\":\"UnionRenderers\"},{\"attributes\":{\"plot\":null,\"text\":\"Number of entities offshore vs tax rate (Major developing countries)\",\"text_color\":{\"value\":\"grey\"},\"text_font_size\":{\"value\":\"11pt\"},\"text_font_style\":\"normal\"},\"id\":\"2072\",\"type\":\"Title\"},{\"attributes\":{\"callback\":null,\"data\":{\"x\":{\"__ndarray__\":\"RlnqSPDjB0DDvoLdW2k3QGDEjpYI8jdAtr90B7AELUDgVHt7CrsqQHaB9NLOQTFAFJIn/1C7PUBjZGJ28OtBQCm1fVj4mkVA\",\"dtype\":\"float64\",\"shape\":[9]},\"y\":{\"__ndarray__\":\"wNyBeEQ5IcCKBMYq2V8jwETEklo9biPAy6bhT+BvIsB2cWMAC1EiwL+xO87yuSLANhTGojYKJMBMmmDJ9K4kwNXQVTyNdSXA\",\"dtype\":\"float64\",\"shape\":[9]}},\"selected\":{\"id\":\"2217\",\"type\":\"Selection\"},\"selection_policy\":{\"id\":\"2218\",\"type\":\"UnionRenderers\"}},\"id\":\"2115\",\"type\":\"ColumnDataSource\"},{\"attributes\":{},\"id\":\"2142\",\"type\":\"BasicTicker\"},{\"attributes\":{},\"id\":\"2217\",\"type\":\"Selection\"},{\"attributes\":{\"line_alpha\":0.1,\"line_color\":\"navy\",\"line_width\":4,\"x\":{\"field\":\"x\"},\"y\":{\"field\":\"y\"}},\"id\":\"2116\",\"type\":\"Line\"},{\"attributes\":{\"high\":64306666666666.664,\"low\":404933333333.3333,\"palette\":[\"#0072B2\",\"#E69F00\",\"#F0E442\",\"#009E73\"]},\"id\":\"2070\",\"type\":\"LogColorMapper\"},{\"attributes\":{\"callback\":null},\"id\":\"2075\",\"type\":\"DataRange1d\"},{\"attributes\":{\"dimension\":1,\"plot\":{\"id\":\"2126\",\"subtype\":\"Figure\",\"type\":\"Plot\"},\"ticker\":{\"id\":\"2142\",\"type\":\"BasicTicker\"}},\"id\":\"2145\",\"type\":\"Grid\"},{\"attributes\":{},\"id\":\"2210\",\"type\":\"BasicTickFormatter\"},{\"attributes\":{},\"id\":\"2218\",\"type\":\"UnionRenderers\"},{\"attributes\":{\"line_alpha\":0.1,\"line_color\":\"#1f77b4\",\"line_width\":4,\"x\":{\"field\":\"x\"},\"y\":{\"field\":\"y\"}},\"id\":\"2117\",\"type\":\"Line\"},{\"attributes\":{\"callback\":null},\"id\":\"2077\",\"type\":\"DataRange1d\"},{\"attributes\":{\"data_source\":{\"id\":\"2115\",\"type\":\"ColumnDataSource\"},\"glyph\":{\"id\":\"2116\",\"type\":\"Line\"},\"hover_glyph\":null,\"muted_glyph\":null,\"nonselection_glyph\":{\"id\":\"2117\",\"type\":\"Line\"},\"selection_glyph\":null,\"view\":{\"id\":\"2119\",\"type\":\"CDSView\"}},\"id\":\"2118\",\"type\":\"GlyphRenderer\"},{\"attributes\":{},\"id\":\"2079\",\"type\":\"LinearScale\"},{\"attributes\":{\"active_drag\":\"auto\",\"active_inspect\":\"auto\",\"active_multi\":null,\"active_scroll\":\"auto\",\"active_tap\":\"auto\",\"tools\":[{\"id\":\"2146\",\"type\":\"PanTool\"},{\"id\":\"2147\",\"type\":\"WheelZoomTool\"},{\"id\":\"2148\",\"type\":\"BoxZoomTool\"},{\"id\":\"2149\",\"type\":\"SaveTool\"},{\"id\":\"2150\",\"type\":\"ResetTool\"},{\"id\":\"2151\",\"type\":\"HelpTool\"}]},\"id\":\"2152\",\"type\":\"Toolbar\"},{\"attributes\":{},\"id\":\"2146\",\"type\":\"PanTool\"},{\"attributes\":{\"source\":{\"id\":\"2115\",\"type\":\"ColumnDataSource\"}},\"id\":\"2119\",\"type\":\"CDSView\"},{\"attributes\":{},\"id\":\"2081\",\"type\":\"LinearScale\"},{\"attributes\":{},\"id\":\"2147\",\"type\":\"WheelZoomTool\"},{\"attributes\":{\"below\":[{\"id\":\"2136\",\"type\":\"LinearAxis\"}],\"left\":[{\"id\":\"2141\",\"type\":\"LinearAxis\"}],\"min_border\":null,\"outline_line_color\":{\"value\":null},\"plot_height\":511,\"plot_width\":35,\"renderers\":[{\"id\":\"2136\",\"type\":\"LinearAxis\"},{\"id\":\"2140\",\"type\":\"Grid\"},{\"id\":\"2141\",\"type\":\"LinearAxis\"},{\"id\":\"2145\",\"type\":\"Grid\"},{\"id\":\"2154\",\"type\":\"BoxAnnotation\"}],\"title\":{\"id\":\"2125\",\"type\":\"Title\"},\"title_location\":\"right\",\"toolbar\":{\"id\":\"2152\",\"type\":\"Toolbar\"},\"toolbar_location\":null,\"x_range\":{\"id\":\"2128\",\"type\":\"DataRange1d\"},\"x_scale\":{\"id\":\"2132\",\"type\":\"LinearScale\"},\"y_range\":{\"id\":\"2130\",\"type\":\"DataRange1d\"},\"y_scale\":{\"id\":\"2134\",\"type\":\"LinearScale\"}},\"id\":\"2126\",\"subtype\":\"Figure\",\"type\":\"Plot\"},{\"attributes\":{\"axis_label\":\"Tax Rate (%)\",\"formatter\":{\"id\":\"2207\",\"type\":\"BasicTickFormatter\"},\"plot\":{\"id\":\"2073\",\"subtype\":\"Figure\",\"type\":\"Plot\"},\"ticker\":{\"id\":\"2084\",\"type\":\"BasicTicker\"}},\"id\":\"2083\",\"type\":\"LinearAxis\"},{\"attributes\":{\"overlay\":{\"id\":\"2154\",\"type\":\"BoxAnnotation\"}},\"id\":\"2148\",\"type\":\"BoxZoomTool\"},{\"attributes\":{},\"id\":\"2122\",\"type\":\"LogTicker\"},{\"attributes\":{},\"id\":\"2084\",\"type\":\"BasicTicker\"},{\"attributes\":{},\"id\":\"2149\",\"type\":\"SaveTool\"},{\"attributes\":{\"color_mapper\":{\"id\":\"2070\",\"type\":\"LogColorMapper\"},\"formatter\":{\"id\":\"2210\",\"type\":\"BasicTickFormatter\"},\"label_standoff\":12,\"location\":[0,0],\"plot\":{\"id\":\"2073\",\"subtype\":\"Figure\",\"type\":\"Plot\"},\"ticker\":{\"id\":\"2122\",\"type\":\"LogTicker\"}},\"id\":\"2123\",\"type\":\"ColorBar\"},{\"attributes\":{},\"id\":\"2093\",\"type\":\"PanTool\"},{\"attributes\":{\"plot\":{\"id\":\"2073\",\"subtype\":\"Figure\",\"type\":\"Plot\"},\"ticker\":{\"id\":\"2084\",\"type\":\"BasicTicker\"}},\"id\":\"2087\",\"type\":\"Grid\"},{\"attributes\":{},\"id\":\"2150\",\"type\":\"ResetTool\"},{\"attributes\":{\"below\":[{\"id\":\"2083\",\"type\":\"LinearAxis\"}],\"left\":[{\"id\":\"2088\",\"type\":\"LinearAxis\"}],\"plot_height\":800,\"plot_width\":800,\"renderers\":[{\"id\":\"2083\",\"type\":\"LinearAxis\"},{\"id\":\"2087\",\"type\":\"Grid\"},{\"id\":\"2088\",\"type\":\"LinearAxis\"},{\"id\":\"2092\",\"type\":\"Grid\"},{\"id\":\"2101\",\"type\":\"BoxAnnotation\"},{\"id\":\"2111\",\"type\":\"GlyphRenderer\"},{\"id\":\"2118\",\"type\":\"GlyphRenderer\"},{\"id\":\"2123\",\"type\":\"ColorBar\"}],\"right\":[{\"id\":\"2123\",\"type\":\"ColorBar\"}],\"title\":{\"id\":\"2072\",\"type\":\"Title\"},\"toolbar\":{\"id\":\"2099\",\"type\":\"Toolbar\"},\"toolbar_location\":null,\"x_range\":{\"id\":\"2075\",\"type\":\"DataRange1d\"},\"x_scale\":{\"id\":\"2079\",\"type\":\"LinearScale\"},\"y_range\":{\"id\":\"2077\",\"type\":\"DataRange1d\"},\"y_scale\":{\"id\":\"2081\",\"type\":\"LinearScale\"}},\"id\":\"2073\",\"subtype\":\"Figure\",\"type\":\"Plot\"},{\"attributes\":{\"axis_label\":\"Number of Entities Offshore (log scale)\",\"formatter\":{\"id\":\"2209\",\"type\":\"BasicTickFormatter\"},\"plot\":{\"id\":\"2073\",\"subtype\":\"Figure\",\"type\":\"Plot\"},\"ticker\":{\"id\":\"2089\",\"type\":\"BasicTicker\"}},\"id\":\"2088\",\"type\":\"LinearAxis\"},{\"attributes\":{},\"id\":\"2151\",\"type\":\"HelpTool\"},{\"attributes\":{\"plot\":null,\"text\":\"Real GDP Legend Bar (USD)\"},\"id\":\"2125\",\"type\":\"Title\"},{\"attributes\":{},\"id\":\"2089\",\"type\":\"BasicTicker\"},{\"attributes\":{},\"id\":\"2098\",\"type\":\"HelpTool\"},{\"attributes\":{\"dimension\":1,\"plot\":{\"id\":\"2073\",\"subtype\":\"Figure\",\"type\":\"Plot\"},\"ticker\":{\"id\":\"2089\",\"type\":\"BasicTicker\"}},\"id\":\"2092\",\"type\":\"Grid\"},{\"attributes\":{},\"id\":\"2207\",\"type\":\"BasicTickFormatter\"},{\"attributes\":{\"callback\":null},\"id\":\"2128\",\"type\":\"DataRange1d\"},{\"attributes\":{\"bottom_units\":\"screen\",\"fill_alpha\":{\"value\":0.5},\"fill_color\":{\"value\":\"lightgrey\"},\"left_units\":\"screen\",\"level\":\"overlay\",\"line_alpha\":{\"value\":1.0},\"line_color\":{\"value\":\"black\"},\"line_dash\":[4,4],\"line_width\":{\"value\":2},\"plot\":null,\"render_mode\":\"css\",\"right_units\":\"screen\",\"top_units\":\"screen\"},\"id\":\"2154\",\"type\":\"BoxAnnotation\"},{\"attributes\":{},\"id\":\"2094\",\"type\":\"WheelZoomTool\"},{\"attributes\":{\"fill_alpha\":{\"value\":0.1},\"fill_color\":{\"value\":\"#1f77b4\"},\"line_alpha\":{\"value\":0.1},\"line_color\":{\"value\":\"#1f77b4\"},\"radius\":{\"units\":\"data\",\"value\":1},\"x\":{\"field\":\"x\"},\"y\":{\"field\":\"y\"}},\"id\":\"2110\",\"type\":\"Circle\"},{\"attributes\":{\"callback\":null},\"id\":\"2130\",\"type\":\"DataRange1d\"},{\"attributes\":{\"callback\":null,\"data\":{\"c\":[1421666666666.6667,6584000000000.0,1725266666666.6667,404933333333.3333,438466666666.6667,719600000000.0,1056200000000.0,653866666666.6666,1527933333333.3333,2047133333333.3333,1227600000000.0,8232000000000.0,7951333333333.333,16616666666666.666,2884666666666.6665,591400000000.0,464266666666.6667,19073333333333.332,20481333333333.332,1392466666666.6667,657466666666.6666,731600000000.0,3869333333333.3335,4699333333333.333,652133333333.3334,4177333333333.3335,19372000000000.0,13275333333333.334,2608000000000.0,18997333333333.332,1217600000000.0,926800000000.0,1933466666666.6667,1220066666666.6667,1221066666666.6667,8206666666666.667,3376666666666.6665,4509333333333.333,1208333333333.3333,1933466666666.6667,1221066666666.6667,14828000000000.0,64306666666666.664],\"country\":[\"Russian Federation\",\"China\",\"Brazil\",\"Argentina\",\"Poland\",\"Turkey\",\"Mexico\",\"Indonesia\",\"India\",\"Arab World\",\"Central Europe and the Baltics\",\"East Asia & Pacific (excluding high income)\",\"Early-demographic dividend\",\"East Asia & Pacific\",\"Europe & Central Asia (excluding high income)\",\"Fragile and conflict affected situations\",\"Heavily indebted poor countries (HIPC)\",\"IBRD only\",\"IDA & IBRD total\",\"IDA total\",\"IDA blend\",\"IDA only\",\"Latin America & Caribbean (excluding high income)\",\"Latin America & Caribbean\",\"Least developed countries: UN classification\",\"Lower middle income\",\"Low & middle income\",\"Late-demographic dividend\",\"Middle East & North Africa\",\"Middle income\",\"Middle East & North Africa (excluding high income)\",\"Pre-demographic dividend\",\"South Asia\",\"Sub-Saharan Africa (excluding high income)\",\"Sub-Saharan Africa\",\"East Asia & Pacific (IDA & IBRD countries)\",\"Europe & Central Asia (IDA & IBRD countries)\",\"Latin America & the Caribbean (IDA & IBRD countries)\",\"Middle East & North Africa (IDA & IBRD countries)\",\"South Asia (IDA & IBRD)\",\"Sub-Saharan Africa (IDA & IBRD countries)\",\"Upper middle income\",\"World\"],\"x\":[2.9862981506841235,23.411558002872663,23.94544354424977,14.509155495645114,13.365314348988647,17.2570621344507,29.73170466152267,35.843275831263576,43.21070390832967,22.879864300338266,15.934520807477046,32.928331692868475,23.555895522134193,35.002556166180845,13.506365350123907,\"NaN\",19.851485464402998,22.143621483164054,20.2082113781262,20.170736915816526,23.571689615700436,20.10448054397547,24.52537795337311,24.492867749367917,19.861839473330452,23.176944883445955,20.393794932106456,18.89238963081335,22.5640510966177,21.582316467110125,24.871143398386724,23.79203703648025,17.665207886946547,22.600456976310127,22.600456976310127,32.928331692868475,12.925554936259733,24.492867749367917,25.79871763639961,17.665207886946547,22.600456976310127,19.385877222777477,21.738515869508497],\"y\":[-8.529858811572389,-9.311579096652695,-9.091038517039856,-9.176019764367577,-9.443279495849152,-9.85276978089087,-10.21083280650962,-10.36833116677644,-10.861885110816559,\"NaN\",\"NaN\",\"NaN\",\"NaN\",\"NaN\",\"NaN\",\"NaN\",\"NaN\",\"NaN\",\"NaN\",\"NaN\",\"NaN\",\"NaN\",\"NaN\",\"NaN\",\"NaN\",\"NaN\",\"NaN\",\"NaN\",\"NaN\",\"NaN\",\"NaN\",\"NaN\",\"NaN\",\"NaN\",\"NaN\",\"NaN\",\"NaN\",\"NaN\",\"NaN\",\"NaN\",\"NaN\",\"NaN\",\"NaN\"]},\"selected\":{\"id\":\"2215\",\"type\":\"Selection\"},\"selection_policy\":{\"id\":\"2216\",\"type\":\"UnionRenderers\"}},\"id\":\"2071\",\"type\":\"ColumnDataSource\"},{\"attributes\":{\"overlay\":{\"id\":\"2101\",\"type\":\"BoxAnnotation\"}},\"id\":\"2095\",\"type\":\"BoxZoomTool\"},{\"attributes\":{},\"id\":\"2209\",\"type\":\"BasicTickFormatter\"},{\"attributes\":{\"fill_alpha\":{\"value\":0.5},\"fill_color\":{\"field\":\"c\",\"transform\":{\"id\":\"2070\",\"type\":\"LogColorMapper\"}},\"line_alpha\":{\"value\":0.5},\"line_color\":{\"field\":\"c\",\"transform\":{\"id\":\"2070\",\"type\":\"LogColorMapper\"}},\"radius\":{\"units\":\"data\",\"value\":1},\"x\":{\"field\":\"x\"},\"y\":{\"field\":\"y\"}},\"id\":\"2109\",\"type\":\"Circle\"},{\"attributes\":{},\"id\":\"2132\",\"type\":\"LinearScale\"},{\"attributes\":{\"callback\":null,\"renderers\":[{\"id\":\"2118\",\"type\":\"GlyphRenderer\"}],\"tooltips\":[[\"Set of Country\",\"Developing countries, p-value=0.001\"]]},\"id\":\"2120\",\"type\":\"HoverTool\"},{\"attributes\":{},\"id\":\"2096\",\"type\":\"SaveTool\"},{\"attributes\":{\"active_drag\":\"auto\",\"active_inspect\":\"auto\",\"active_multi\":null,\"active_scroll\":\"auto\",\"active_tap\":\"auto\",\"logo\":null,\"tools\":[{\"id\":\"2093\",\"type\":\"PanTool\"},{\"id\":\"2094\",\"type\":\"WheelZoomTool\"},{\"id\":\"2095\",\"type\":\"BoxZoomTool\"},{\"id\":\"2096\",\"type\":\"SaveTool\"},{\"id\":\"2097\",\"type\":\"ResetTool\"},{\"id\":\"2098\",\"type\":\"HelpTool\"},{\"id\":\"2113\",\"type\":\"HoverTool\"},{\"id\":\"2120\",\"type\":\"HoverTool\"}]},\"id\":\"2099\",\"type\":\"Toolbar\"},{\"attributes\":{},\"id\":\"2134\",\"type\":\"LinearScale\"}],\"root_ids\":[\"2162\"]},\"title\":\"Bokeh Application\",\"version\":\"1.0.2\"}};\n",
       "  var render_items = [{\"docid\":\"61302e93-14bf-4467-893f-6686ce36ad3a\",\"roots\":{\"2162\":\"85bcc17d-af90-4db5-9b35-30ddd88ac06d\"}}];\n",
       "  root.Bokeh.embed.embed_items_notebook(docs_json, render_items);\n",
       "\n",
       "  }\n",
       "  if (root.Bokeh !== undefined) {\n",
       "    embed_document(root);\n",
       "  } else {\n",
       "    var attempts = 0;\n",
       "    var timer = setInterval(function(root) {\n",
       "      if (root.Bokeh !== undefined) {\n",
       "        embed_document(root);\n",
       "        clearInterval(timer);\n",
       "      }\n",
       "      attempts++;\n",
       "      if (attempts > 100) {\n",
       "        console.log(\"Bokeh: ERROR: Unable to run BokehJS code because BokehJS library is missing\");\n",
       "        clearInterval(timer);\n",
       "      }\n",
       "    }, 10, root)\n",
       "  }\n",
       "})(window);"
      ],
      "application/vnd.bokehjs_exec.v0+json": ""
     },
     "metadata": {
      "application/vnd.bokehjs_exec.v0+json": {
       "id": "2162"
      }
     },
     "output_type": "display_data"
    },
    {
     "data": {
      "text/plain": [
       "'C:\\\\Users\\\\Tullio\\\\Documents\\\\Minor\\\\Courses\\\\Applied Data Analysis\\\\project_ada_akbar\\\\developingcountries.png'"
      ]
     },
     "execution_count": 51,
     "metadata": {},
     "output_type": "execute_result"
    }
   ],
   "source": [
    "selection=country_count_tax_rate['GDP_y'].apply(lambda x: x<15000) & country_count_tax_rate['GDP_x'].apply(lambda x: x>40*10e9)\n",
    "\n",
    "x = country_count_tax_rate['Tax Rate'][selection]\n",
    "y = np.log10(country_count_tax_rate['n_companies_offshore'][selection]/country_count_tax_rate['GDP_x'][selection])\n",
    "country_names=country_count_tax_rate['Country Name'][selection]\n",
    "c = country_count_tax_rate['GDP_x'][selection]\n",
    "c[c.isna()]=0\n",
    "\n",
    "# set the regression line\n",
    "df=pd.DataFrame({'Tax Rate':x,'n_companies_offshore':y})\n",
    "df=df.dropna(inplace=False)\n",
    "a=np.array(df['Tax Rate'])\n",
    "b=np.array(df['n_companies_offshore'])\n",
    "\n",
    "m,i,r,p_value,std=stats.linregress(a,b)\n",
    "\n",
    "\n",
    "# establish the color mapper schema\n",
    "color_mapper = LogColorMapper(palette=\"Colorblind4\", low=min(c),\\\n",
    "                              high=max(c))\n",
    "\n",
    "# establish the sources of data to make the interactive graph\n",
    "source=ColumnDataSource(data=dict(\n",
    "    x=list(x),\n",
    "    y=list(y),\n",
    "    country=list(country_names),\n",
    "    c=list(c),\n",
    "))\n",
    "\n",
    "p = figure(title=\"Number of entities offshore vs tax rate (Major developing countries)\", plot_width=800, plot_height=800)\n",
    "scatter=p.scatter(x='x', y='y', radius=1, source=source, color={'field': 'c', 'transform': color_mapper}, alpha=0.5)\n",
    "hover= HoverTool(tooltips = [(\"Country\", \"@country\"),(\"(Tax Rate, Log(number of entities offshore))\", \"($x, $y)\")],renderers=[scatter])\n",
    "p.add_tools(hover)\n",
    "\n",
    "line=p.line(df['Tax Rate'], m*df['Tax Rate']+i, line_width=4, color='navy', alpha=0.1)\n",
    "hover0=HoverTool(tooltips = [(\"Set of Country\",'Developing countries, p-value='+str(p_value)[:5])], renderers=[line])\n",
    "p.add_tools(hover0)\n",
    "\n",
    "# set the style of the title\n",
    "p.title.text_color = \"grey\"\n",
    "p.title.text_font = \"helvetica\"\n",
    "p.title.text_font_style = \"normal\"\n",
    "p.title.text_font_size = '11pt'\n",
    "\n",
    "# set the label options\n",
    "p.xaxis.axis_label='Tax Rate (%)'\n",
    "p.yaxis.axis_label='Number of Entities Offshore (log scale)'\n",
    "\n",
    "\n",
    "# set the color bar tab\n",
    "color_bar = ColorBar(color_mapper=color_mapper, ticker=LogTicker(),\n",
    "                     label_standoff=12, border_line_color=None, location=(0,0))\n",
    "\n",
    "# set the color bar title\n",
    "color_bar_height = 511\n",
    "color_bar_width = 35\n",
    "\n",
    "color_bar_plot = figure(title=\"Real GDP Legend Bar (USD)\", title_location=\"right\", \n",
    "                        height=color_bar_height, width=color_bar_width, \n",
    "                        toolbar_location=None, min_border=None, \n",
    "                        outline_line_color=None)\n",
    "\n",
    "# add the color bar\n",
    "p.add_layout(color_bar, 'right')\n",
    "\n",
    "# remove the interactive toolbar\n",
    "p.toolbar.logo = None\n",
    "p.toolbar_location = None\n",
    "\n",
    "layout = row_plot(p, color_bar_plot)\n",
    "output_file(\"developingcountries.html\", title=\"developingcountries\")\n",
    "show(layout)\n",
    "export_png(layout, filename=\"developingcountries.png\")"
   ]
  },
  {
   "cell_type": "markdown",
   "metadata": {},
   "source": [
    "#### Seven Biggest Economies"
   ]
  },
  {
   "cell_type": "markdown",
   "metadata": {},
   "source": [
    "Graph of the biggest economies. The relationship between the 7 biggest economies and tax rate has been investigated. The economies almost correspond to the G7 countries, but China has taken the place of Canada. Even though these are the biggest economies in the world, the difference in size between them influence the probability of creating business and hence having companies offshore. As a consequence also in this case the GDP was used to weight the number of offshore entities present in the panama papers. \n",
    "\n",
    "All the countries with a total GDP `GDP_x`> 200 billions USD have been considered.\n",
    "\n",
    "The figure below shows a completely different picture, compared to the previous ones: taking out Japan, it seems to be a positive exponential relationship between tax rate and number of offshore entities for the economically strongest countries suggesting that in these countries (p-value=0.531), entities are escaping corporate taxation levels by putting their companies offshore. Japan represents an exception among the 7 biggest economies: even though it has a very high tax rate, the presence of Japanese entities in the documents is really low. This could be due to cultural reasons or might be due to the fact that Japanese entities use different means to go offshore and they are not very represented in the Panama Papers themselves."
   ]
  },
  {
   "cell_type": "code",
   "execution_count": 52,
   "metadata": {},
   "outputs": [
    {
     "data": {
      "text/html": [
       "\n",
       "\n",
       "\n",
       "\n",
       "\n",
       "\n",
       "  <div class=\"bk-root\" id=\"b9e75703-255c-4102-a7a0-4dec660fb17c\"></div>\n"
      ]
     },
     "metadata": {},
     "output_type": "display_data"
    },
    {
     "data": {
      "application/javascript": [
       "(function(root) {\n",
       "  function embed_document(root) {\n",
       "    \n",
       "  var docs_json = {\"367fe32b-1bcd-4dc2-98a8-8490f9c033cd\":{\"roots\":{\"references\":[{\"attributes\":{\"below\":[{\"id\":\"2643\",\"type\":\"LinearAxis\"}],\"left\":[{\"id\":\"2648\",\"type\":\"LinearAxis\"}],\"plot_height\":800,\"plot_width\":800,\"renderers\":[{\"id\":\"2643\",\"type\":\"LinearAxis\"},{\"id\":\"2647\",\"type\":\"Grid\"},{\"id\":\"2648\",\"type\":\"LinearAxis\"},{\"id\":\"2652\",\"type\":\"Grid\"},{\"id\":\"2661\",\"type\":\"BoxAnnotation\"},{\"id\":\"2671\",\"type\":\"GlyphRenderer\"},{\"id\":\"2678\",\"type\":\"GlyphRenderer\"}],\"title\":{\"id\":\"2632\",\"type\":\"Title\"},\"toolbar\":{\"id\":\"2659\",\"type\":\"Toolbar\"},\"toolbar_location\":null,\"x_range\":{\"id\":\"2635\",\"type\":\"DataRange1d\"},\"x_scale\":{\"id\":\"2639\",\"type\":\"LinearScale\"},\"y_range\":{\"id\":\"2637\",\"type\":\"DataRange1d\"},\"y_scale\":{\"id\":\"2641\",\"type\":\"LinearScale\"}},\"id\":\"2633\",\"subtype\":\"Figure\",\"type\":\"Plot\"},{\"attributes\":{\"data_source\":{\"id\":\"2631\",\"type\":\"ColumnDataSource\"},\"glyph\":{\"id\":\"2669\",\"type\":\"Circle\"},\"hover_glyph\":null,\"muted_glyph\":null,\"nonselection_glyph\":{\"id\":\"2670\",\"type\":\"Circle\"},\"selection_glyph\":null,\"view\":{\"id\":\"2672\",\"type\":\"CDSView\"}},\"id\":\"2671\",\"type\":\"GlyphRenderer\"},{\"attributes\":{\"callback\":null,\"renderers\":[{\"id\":\"2678\",\"type\":\"GlyphRenderer\"}],\"tooltips\":[[\"Set of Country\",\"Major biggest economies, p-value=0.531\"]]},\"id\":\"2680\",\"type\":\"HoverTool\"},{\"attributes\":{},\"id\":\"2749\",\"type\":\"UnionRenderers\"},{\"attributes\":{\"data_source\":{\"id\":\"2675\",\"type\":\"ColumnDataSource\"},\"glyph\":{\"id\":\"2676\",\"type\":\"Line\"},\"hover_glyph\":null,\"muted_glyph\":null,\"nonselection_glyph\":{\"id\":\"2677\",\"type\":\"Line\"},\"selection_glyph\":null,\"view\":{\"id\":\"2679\",\"type\":\"CDSView\"}},\"id\":\"2678\",\"type\":\"GlyphRenderer\"},{\"attributes\":{\"dimension\":1,\"plot\":{\"id\":\"2633\",\"subtype\":\"Figure\",\"type\":\"Plot\"},\"ticker\":{\"id\":\"2649\",\"type\":\"BasicTicker\"}},\"id\":\"2652\",\"type\":\"Grid\"},{\"attributes\":{\"plot\":{\"id\":\"2633\",\"subtype\":\"Figure\",\"type\":\"Plot\"},\"ticker\":{\"id\":\"2644\",\"type\":\"BasicTicker\"}},\"id\":\"2647\",\"type\":\"Grid\"},{\"attributes\":{},\"id\":\"2644\",\"type\":\"BasicTicker\"},{\"attributes\":{\"callback\":null},\"id\":\"2635\",\"type\":\"DataRange1d\"},{\"attributes\":{\"active_drag\":\"auto\",\"active_inspect\":\"auto\",\"active_multi\":null,\"active_scroll\":\"auto\",\"active_tap\":\"auto\",\"logo\":null,\"tools\":[{\"id\":\"2653\",\"type\":\"PanTool\"},{\"id\":\"2654\",\"type\":\"WheelZoomTool\"},{\"id\":\"2655\",\"type\":\"BoxZoomTool\"},{\"id\":\"2656\",\"type\":\"SaveTool\"},{\"id\":\"2657\",\"type\":\"ResetTool\"},{\"id\":\"2658\",\"type\":\"HelpTool\"},{\"id\":\"2673\",\"type\":\"HoverTool\"},{\"id\":\"2680\",\"type\":\"HoverTool\"}]},\"id\":\"2659\",\"type\":\"Toolbar\"},{\"attributes\":{\"axis_label\":\"Tax Rate (%)\",\"formatter\":{\"id\":\"2743\",\"type\":\"BasicTickFormatter\"},\"plot\":{\"id\":\"2633\",\"subtype\":\"Figure\",\"type\":\"Plot\"},\"ticker\":{\"id\":\"2644\",\"type\":\"BasicTicker\"}},\"id\":\"2643\",\"type\":\"LinearAxis\"},{\"attributes\":{\"source\":{\"id\":\"2675\",\"type\":\"ColumnDataSource\"}},\"id\":\"2679\",\"type\":\"CDSView\"},{\"attributes\":{},\"id\":\"2654\",\"type\":\"WheelZoomTool\"},{\"attributes\":{},\"id\":\"2658\",\"type\":\"HelpTool\"},{\"attributes\":{\"callback\":null,\"data\":{\"country\":[\"United Kingdom\",\"China\",\"United States\",\"Italy\",\"France\",\"Germany\",\"Japan\",\"Arab World\",\"East Asia & Pacific (excluding high income)\",\"Early-demographic dividend\",\"East Asia & Pacific\",\"Europe & Central Asia (excluding high income)\",\"Europe & Central Asia\",\"Euro area\",\"European Union\",\"High income\",\"IBRD only\",\"IDA & IBRD total\",\"Latin America & Caribbean (excluding high income)\",\"Latin America & Caribbean\",\"Lower middle income\",\"Low & middle income\",\"Late-demographic dividend\",\"Middle East & North Africa\",\"Middle income\",\"North America\",\"OECD members\",\"Post-demographic dividend\",\"East Asia & Pacific (IDA & IBRD countries)\",\"Europe & Central Asia (IDA & IBRD countries)\",\"Latin America & the Caribbean (IDA & IBRD countries)\",\"Upper middle income\",\"World\"],\"x\":[35.517248247019616,23.411558002872663,52.42912336498738,32.40057162189355,24.8081142877291,16.069374184179278,47.953641203888644,22.879864300338266,32.928331692868475,23.555895522134193,35.002556166180845,13.506365350123907,17.955975666370687,23.0363693555026,19.372305257930893,25.327531180548952,22.143621483164054,20.2082113781262,24.52537795337311,24.492867749367917,23.176944883445955,20.393794932106456,18.89238963081335,22.5640510966177,21.582316467110125,53.16675972304939,26.376310217559762,24.921280943533283,32.928331692868475,12.925554936259733,24.492867749367917,19.385877222777477,21.738515869508497],\"y\":[-8.438802888543808,-9.311579096652695,-9.701512223196582,-9.766561839111558,-9.949760820648246,-10.29087059714886,-11.322391599628821,\"NaN\",\"NaN\",\"NaN\",\"NaN\",\"NaN\",\"NaN\",\"NaN\",\"NaN\",\"NaN\",\"NaN\",\"NaN\",\"NaN\",\"NaN\",\"NaN\",\"NaN\",\"NaN\",\"NaN\",\"NaN\",\"NaN\",\"NaN\",\"NaN\",\"NaN\",\"NaN\",\"NaN\",\"NaN\",\"NaN\"]},\"selected\":{\"id\":\"2746\",\"type\":\"Selection\"},\"selection_policy\":{\"id\":\"2747\",\"type\":\"UnionRenderers\"}},\"id\":\"2631\",\"type\":\"ColumnDataSource\"},{\"attributes\":{\"fill_alpha\":{\"value\":0.6},\"fill_color\":{\"value\":\"#1f77b4\"},\"line_color\":{\"value\":\"#1f77b4\"},\"radius\":{\"units\":\"data\",\"value\":1},\"x\":{\"field\":\"x\"},\"y\":{\"field\":\"y\"}},\"id\":\"2669\",\"type\":\"Circle\"},{\"attributes\":{\"callback\":null,\"renderers\":[{\"id\":\"2671\",\"type\":\"GlyphRenderer\"}],\"tooltips\":[[\"Country\",\"@country\"],[\"(Tax Rate, Log(number of entities offshore))\",\"($x, $y)\"]]},\"id\":\"2673\",\"type\":\"HoverTool\"},{\"attributes\":{\"bottom_units\":\"screen\",\"fill_alpha\":{\"value\":0.5},\"fill_color\":{\"value\":\"lightgrey\"},\"left_units\":\"screen\",\"level\":\"overlay\",\"line_alpha\":{\"value\":1.0},\"line_color\":{\"value\":\"black\"},\"line_dash\":[4,4],\"line_width\":{\"value\":2},\"plot\":null,\"render_mode\":\"css\",\"right_units\":\"screen\",\"top_units\":\"screen\"},\"id\":\"2661\",\"type\":\"BoxAnnotation\"},{\"attributes\":{},\"id\":\"2649\",\"type\":\"BasicTicker\"},{\"attributes\":{\"fill_alpha\":{\"value\":0.1},\"fill_color\":{\"value\":\"#1f77b4\"},\"line_alpha\":{\"value\":0.1},\"line_color\":{\"value\":\"#1f77b4\"},\"radius\":{\"units\":\"data\",\"value\":1},\"x\":{\"field\":\"x\"},\"y\":{\"field\":\"y\"}},\"id\":\"2670\",\"type\":\"Circle\"},{\"attributes\":{},\"id\":\"2653\",\"type\":\"PanTool\"},{\"attributes\":{},\"id\":\"2656\",\"type\":\"SaveTool\"},{\"attributes\":{\"axis_label\":\"Number of Entities Offshore (log scale)\",\"formatter\":{\"id\":\"2745\",\"type\":\"BasicTickFormatter\"},\"plot\":{\"id\":\"2633\",\"subtype\":\"Figure\",\"type\":\"Plot\"},\"ticker\":{\"id\":\"2649\",\"type\":\"BasicTicker\"}},\"id\":\"2648\",\"type\":\"LinearAxis\"},{\"attributes\":{\"plot\":null,\"text\":\"Number of entities offshore vs tax rate (G7 countries)\",\"text_color\":{\"value\":\"grey\"},\"text_font_size\":{\"value\":\"11pt\"},\"text_font_style\":\"normal\"},\"id\":\"2632\",\"type\":\"Title\"},{\"attributes\":{},\"id\":\"2747\",\"type\":\"UnionRenderers\"},{\"attributes\":{},\"id\":\"2657\",\"type\":\"ResetTool\"},{\"attributes\":{\"callback\":null,\"data\":{\"x\":{\"__ndarray__\":\"aW7IMDXCQUDDvoLdW2k3QP9IsYPtNkpAht5P7kUzQEAROvWT4M44QJc8rIHCETBA\",\"dtype\":\"float64\",\"shape\":[6]},\"y\":{\"__ndarray__\":\"mmPonTf/IsAyzElvK2UjwNyyLq/JcCLAXcKfKHcZI8D9VxV3aFkjwPf1DCcBoyPA\",\"dtype\":\"float64\",\"shape\":[6]}},\"selected\":{\"id\":\"2748\",\"type\":\"Selection\"},\"selection_policy\":{\"id\":\"2749\",\"type\":\"UnionRenderers\"}},\"id\":\"2675\",\"type\":\"ColumnDataSource\"},{\"attributes\":{},\"id\":\"2746\",\"type\":\"Selection\"},{\"attributes\":{},\"id\":\"2745\",\"type\":\"BasicTickFormatter\"},{\"attributes\":{\"line_alpha\":0.1,\"line_color\":\"#1f77b4\",\"line_width\":4,\"x\":{\"field\":\"x\"},\"y\":{\"field\":\"y\"}},\"id\":\"2677\",\"type\":\"Line\"},{\"attributes\":{},\"id\":\"2743\",\"type\":\"BasicTickFormatter\"},{\"attributes\":{},\"id\":\"2641\",\"type\":\"LinearScale\"},{\"attributes\":{\"line_alpha\":0.1,\"line_color\":\"navy\",\"line_width\":4,\"x\":{\"field\":\"x\"},\"y\":{\"field\":\"y\"}},\"id\":\"2676\",\"type\":\"Line\"},{\"attributes\":{},\"id\":\"2639\",\"type\":\"LinearScale\"},{\"attributes\":{\"source\":{\"id\":\"2631\",\"type\":\"ColumnDataSource\"}},\"id\":\"2672\",\"type\":\"CDSView\"},{\"attributes\":{},\"id\":\"2748\",\"type\":\"Selection\"},{\"attributes\":{\"overlay\":{\"id\":\"2661\",\"type\":\"BoxAnnotation\"}},\"id\":\"2655\",\"type\":\"BoxZoomTool\"},{\"attributes\":{\"callback\":null},\"id\":\"2637\",\"type\":\"DataRange1d\"}],\"root_ids\":[\"2633\"]},\"title\":\"Bokeh Application\",\"version\":\"1.0.2\"}};\n",
       "  var render_items = [{\"docid\":\"367fe32b-1bcd-4dc2-98a8-8490f9c033cd\",\"roots\":{\"2633\":\"b9e75703-255c-4102-a7a0-4dec660fb17c\"}}];\n",
       "  root.Bokeh.embed.embed_items_notebook(docs_json, render_items);\n",
       "\n",
       "  }\n",
       "  if (root.Bokeh !== undefined) {\n",
       "    embed_document(root);\n",
       "  } else {\n",
       "    var attempts = 0;\n",
       "    var timer = setInterval(function(root) {\n",
       "      if (root.Bokeh !== undefined) {\n",
       "        embed_document(root);\n",
       "        clearInterval(timer);\n",
       "      }\n",
       "      attempts++;\n",
       "      if (attempts > 100) {\n",
       "        console.log(\"Bokeh: ERROR: Unable to run BokehJS code because BokehJS library is missing\");\n",
       "        clearInterval(timer);\n",
       "      }\n",
       "    }, 10, root)\n",
       "  }\n",
       "})(window);"
      ],
      "application/vnd.bokehjs_exec.v0+json": ""
     },
     "metadata": {
      "application/vnd.bokehjs_exec.v0+json": {
       "id": "2633"
      }
     },
     "output_type": "display_data"
    },
    {
     "data": {
      "text/plain": [
       "'C:\\\\Users\\\\Tullio\\\\Documents\\\\Minor\\\\Courses\\\\Applied Data Analysis\\\\project_ada_akbar\\\\taxrateg7.png'"
      ]
     },
     "execution_count": 52,
     "metadata": {},
     "output_type": "execute_result"
    }
   ],
   "source": [
    "selection=country_count_tax_rate['GDP_x'].apply(lambda x: x>200*10e9)\n",
    "x = country_count_tax_rate['Tax Rate'][selection]\n",
    "y = np.log10(country_count_tax_rate['n_companies_offshore'][selection]/country_count_tax_rate['GDP_x'][selection])\n",
    "country_names=country_count_tax_rate['Country Name'][selection]\n",
    "\n",
    "# establish the sources of data to make the interactive graph\n",
    "source=ColumnDataSource(data=dict(\n",
    "    x=list(x),\n",
    "    y=list(y),\n",
    "    country=list(country_names),\n",
    "))\n",
    "\n",
    "# set the regression line\n",
    "df=pd.DataFrame({'Tax Rate':x,'n_companies_offshore':y, 'country_name':country_names})\n",
    "df=df[df['country_name'].apply(lambda x: str(x)!='Japan')]\n",
    "df=df.dropna(inplace=False)\n",
    "a=np.array(df['Tax Rate'])\n",
    "b=np.array(df['n_companies_offshore'])\n",
    "\n",
    "m,i,r,p_value,std=stats.linregress(a,b)\n",
    "\n",
    "p = figure(title=\"Number of entities offshore vs tax rate (G7 countries)\", plot_width=800, plot_height=800)\n",
    "scatter=p.scatter(x='x', y='y', radius=1, source=source, fill_alpha=0.6)\n",
    "hover= HoverTool(tooltips = [(\"Country\", \"@country\"),(\"(Tax Rate, Log(number of entities offshore))\", \"($x, $y)\")],renderers=[scatter])\n",
    "p.add_tools(hover)\n",
    "\n",
    "line=p.line(df['Tax Rate'], m*df['Tax Rate']+i, line_width=4, color='navy', alpha=0.1)\n",
    "hover0=HoverTool(tooltips = [(\"Set of Country\",'Major biggest economies, p-value='+str(p_value)[:5])], renderers=[line])\n",
    "p.add_tools(hover0)\n",
    "\n",
    "# set the style of the title\n",
    "p.title.text_color = \"grey\"\n",
    "p.title.text_font = \"helvetica\"\n",
    "p.title.text_font_style = \"normal\"\n",
    "p.title.text_font_size = '11pt'\n",
    "\n",
    "# set the label options\n",
    "p.xaxis.axis_label='Tax Rate (%)'\n",
    "p.yaxis.axis_label='Number of Entities Offshore (log scale)'\n",
    "\n",
    "# remove the interactive toolbar\n",
    "p.toolbar.logo = None\n",
    "p.toolbar_location = None\n",
    "\n",
    "output_file(\"taxrateg7.html\", title=\"taxrateg7\")\n",
    "\n",
    "show(p)\n",
    "export_png(p, filename=\"taxrateg7.png\")"
   ]
  },
  {
   "cell_type": "markdown",
   "metadata": {},
   "source": [
    "#### Global Perspective"
   ]
  },
  {
   "cell_type": "markdown",
   "metadata": {},
   "source": [
    "Eventually after having analyzed the above set of countries, the global picture for developed countries has been drawn. Observing the figure, on a global scale it can be seen that there is no significant correlation between corporate tax rate and presence of offshore entities in the Panama Papers. However it is clear the a positive relationship between tax rate and number of offshore entities holds true for the major economies which are the biggest data points."
   ]
  },
  {
   "cell_type": "code",
   "execution_count": 53,
   "metadata": {},
   "outputs": [
    {
     "data": {
      "text/html": [
       "\n",
       "\n",
       "\n",
       "\n",
       "\n",
       "\n",
       "  <div class=\"bk-root\" id=\"86d41596-b014-4bcf-b924-73c17c2e151a\"></div>\n"
      ]
     },
     "metadata": {},
     "output_type": "display_data"
    },
    {
     "data": {
      "application/javascript": [
       "(function(root) {\n",
       "  function embed_document(root) {\n",
       "    \n",
       "  var docs_json = {\"3caae173-f508-4a07-b122-ea39ab6fa859\":{\"roots\":{\"references\":[{\"attributes\":{\"children\":[{\"id\":\"2996\",\"subtype\":\"Figure\",\"type\":\"Plot\"},{\"id\":\"3049\",\"subtype\":\"Figure\",\"type\":\"Plot\"}]},\"id\":\"3085\",\"type\":\"Row\"},{\"attributes\":{\"bottom_units\":\"screen\",\"fill_alpha\":{\"value\":0.5},\"fill_color\":{\"value\":\"lightgrey\"},\"left_units\":\"screen\",\"level\":\"overlay\",\"line_alpha\":{\"value\":1.0},\"line_color\":{\"value\":\"black\"},\"line_dash\":[4,4],\"line_width\":{\"value\":2},\"plot\":null,\"render_mode\":\"css\",\"right_units\":\"screen\",\"top_units\":\"screen\"},\"id\":\"3077\",\"type\":\"BoxAnnotation\"},{\"attributes\":{},\"id\":\"3020\",\"type\":\"ResetTool\"},{\"attributes\":{},\"id\":\"3162\",\"type\":\"BasicTickFormatter\"},{\"attributes\":{},\"id\":\"3164\",\"type\":\"BasicTickFormatter\"},{\"attributes\":{},\"id\":\"3157\",\"type\":\"BasicTickFormatter\"},{\"attributes\":{\"callback\":null},\"id\":\"3051\",\"type\":\"DataRange1d\"},{\"attributes\":{},\"id\":\"3069\",\"type\":\"PanTool\"},{\"attributes\":{},\"id\":\"3165\",\"type\":\"Selection\"},{\"attributes\":{},\"id\":\"3012\",\"type\":\"BasicTicker\"},{\"attributes\":{},\"id\":\"3021\",\"type\":\"HelpTool\"},{\"attributes\":{},\"id\":\"3166\",\"type\":\"UnionRenderers\"},{\"attributes\":{\"plot\":null,\"text\":\"Real GDP per capita Legend Bar (USD)\"},\"id\":\"3048\",\"type\":\"Title\"},{\"attributes\":{},\"id\":\"3070\",\"type\":\"WheelZoomTool\"},{\"attributes\":{\"callback\":null,\"data\":{\"c\":[34139.40517133333,72018.65437666667,59422.543726,100087.83314133335,42089.915140666664,39757.577518000006,29218.051776,65308.38069692308,44514.55255866667,27664.74357333333,148406.48335999998,49764.76171266667,136708.2832623077,92843.0,28837.613580666664,34200.0,15433.345880666666,20952.267600000003,29813.538158,40705.07343933333,43641.797792,34121.00105666667,54731.376007333325,39053.13763533334,20890.234439999997,23439.961054,47799.616809333325,41345.20783333333,84080.9525725,61454.453850000005,18780.275228999995,48650.63502733333,34351.70849666666,44990.741085333335,38738.524536,42371.086257999996,51225.98508066667,17885.757813533335,15598.824366666666,24371.613246,67222.99931133333,54857.40289799999,39495.30974066667,45337.413664666674,22043.319871333333,51894.66819999999,81474.63766466668,55580.77363533333,21083.044485333336,23614.7,22674.086322666666,16187.456759733333,37851.61739461539,16797.731021066666,33225.774994666666,29936.964220714286,25675.560012857146,15400.0,15635.492743466664,22789.411886666665,36284.8802,32979.10055133333,45708.10021307693,41742.81313000001,37487.459001333336,16270.95105,49161.402510666674,35162.51762399999,38759.095045999995,63952.17019533333],\"country\":[\"Hong Kong SAR, China\",\"Switzerland\",\"Channel Islands\",\"Luxembourg\",\"United Kingdom\",\"United Arab Emirates\",\"Bahamas, The\",\"Isle of Man\",\"Singapore\",\"Cyprus\",\"Monaco\",\"United States\",\"Liechtenstein\",\"Gibraltar\",\"Spain\",\"British Virgin Islands\",\"Estonia\",\"Malta\",\"Israel\",\"Andorra\",\"Canada\",\"Italy\",\"Ireland\",\"France\",\"Portugal\",\"Greece\",\"Netherlands\",\"Germany\",\"Bermuda\",\"Cayman Islands\",\"Saudi Arabia\",\"Australia\",\"New Zealand\",\"Finland\",\"Kuwait\",\"Belgium\",\"Sweden\",\"Czech Republic\",\"Barbados\",\"Aruba\",\"Qatar\",\"Macao SAR, China\",\"Japan\",\"Austria\",\"Slovenia\",\"Iceland\",\"Norway\",\"Denmark\",\"Bahrain\",\"Turks and Caicos Islands\",\"Korea, Rep.\",\"Trinidad and Tobago\",\"Virgin Islands (U.S.)\",\"Oman\",\"Brunei Darussalam\",\"Guam\",\"Puerto Rico\",\"Sint Maarten (Dutch part)\",\"Slovak Republic\",\"Europe & Central Asia\",\"Euro area\",\"European Union\",\"Faroe Islands\",\"Greenland\",\"High income\",\"Northern Mariana Islands\",\"North America\",\"OECD members\",\"Post-demographic dividend\",\"San Marino\"],\"radii\":[0.242,0.5693333333333334,0.009180787954799999,0.051926314674133334,2.642,0.2939333333333333,0.010487996,0.005216143943461538,0.22713342517126667,0.0223948112652,0.0053019315456,15.42,0.004922173236692307,0.002288,1.3178,0.00085,0.020522609297333332,0.008885728832533333,0.23206666666666664,0.0032743078311333333,1.4928,2.021333333333333,0.24646666666666664,2.5386666666666664,0.21886666666666665,0.25766666666666665,0.7952666666666666,3.38,0.005418704083333333,0.0033435162565,0.5310666666666667,1.0883333333333334,0.15108339236999999,0.24159999999999998,0.11894092618106666,0.46266666666666667,0.48346666666666666,0.18650847601826667,0.004360533065399999,0.0024484849163,0.121546062271,0.030812990994333333,5.042,0.3818666666666667,0.044952051246333335,0.016469675328666666,0.4010666666666667,0.3088,0.025255331046133336,0.000797,1.1284,0.0215629590588,0.004098230769230769,0.055848738621466665,0.01304916189,0.004784571428571428,0.09416219659285714,0.0007947,0.0844086741296,20.293333333333333,12.149333333333333,16.6,0.0022190485353076926,0.002361167216785714,44.93333333333334,0.0009470714285714285,16.919999999999998,43.82666666666666,41.67333333333333,0.0019770817654],\"x\":[16.5,20.860170389713097,0.0,28.729216593654897,35.517248247019616,0.0,0.0,0.0,32.45684990164795,24.85416975819933,0.0,52.42912336498738,12.5,10.0,38.87823590204826,0.0,19.999121557183532,30.859287269815237,29.73777225403513,\"NaN\",53.77860214192079,32.40057162189355,37.94103138471929,24.8081142877291,22.544277669410572,18.578575903076636,25.5089115144116,16.069374184179278,\"NaN\",\"NaN\",\"NaN\",64.55067318552749,52.925533566755796,17.101716281972084,0.5458449730516288,35.74571539919367,14.901043006492367,15.526306477501432,31.867298329480775,\"NaN\",45.93791213041428,4.84529595302896,47.953641203888644,27.35709443624949,12.488767830141931,28.909050179867904,29.6173047023925,41.725671119385204,0.9175303081184258,\"NaN\",27.80002547415483,53.68063489872335,\"NaN\",2.719688585159481,\"NaN\",\"NaN\",\"NaN\",\"NaN\",17.145312156639303,17.955975666370687,23.0363693555026,19.372305257930893,\"NaN\",\"NaN\",25.327531180548952,\"NaN\",53.16675972304939,26.376310217559762,24.921280943533283,17.291533651842922],\"y\":[4.578765240209975,4.578765240209975,4.335618349377605,4.035029282202368,3.9831299247347003,3.8614746688571686,3.697578033651113,3.689486448364248,3.610766594773271,3.5578679615680224,3.500785172917456,3.4865721505183562,3.315130317183602,3.30941722577814,3.0666985504229953,3.044147620878723,2.9444826721501687,2.829946695941636,2.821513528404773,2.6893088591236203,2.5403294747908736,2.5390760987927767,2.507855871695831,2.45484486000851,2.385606273598312,2.346352974450639,2.247973266361807,2.2380461031287955,2.2174839442139063,2.0253058652647704,2.0253058652647704,1.9731278535996986,1.863322860120456,1.8129133566428555,1.7781512503836436,1.7708520116421442,1.7403626894942439,1.5314789170422551,1.5314789170422551,1.4313637641589874,1.4313637641589874,1.3979400086720377,1.380211241711606,1.380211241711606,1.3222192947339193,1.1760912590556813,1.146128035678238,1.146128035678238,1.1139433523068367,1.0791812460476249,0.9030899869919435,0.7781512503836436,0.6020599913279624,0.3010299956639812,0.0,0.0,0.0,0.0,0.0,\"NaN\",\"NaN\",\"NaN\",\"NaN\",\"NaN\",\"NaN\",\"NaN\",\"NaN\",\"NaN\",\"NaN\",\"NaN\"]},\"selected\":{\"id\":\"3165\",\"type\":\"Selection\"},\"selection_policy\":{\"id\":\"3166\",\"type\":\"UnionRenderers\"}},\"id\":\"2994\",\"type\":\"ColumnDataSource\"},{\"attributes\":{\"active_drag\":\"auto\",\"active_inspect\":\"auto\",\"active_multi\":null,\"active_scroll\":\"auto\",\"active_tap\":\"auto\",\"tools\":[{\"id\":\"3069\",\"type\":\"PanTool\"},{\"id\":\"3070\",\"type\":\"WheelZoomTool\"},{\"id\":\"3071\",\"type\":\"BoxZoomTool\"},{\"id\":\"3072\",\"type\":\"SaveTool\"},{\"id\":\"3073\",\"type\":\"ResetTool\"},{\"id\":\"3074\",\"type\":\"HelpTool\"}]},\"id\":\"3075\",\"type\":\"Toolbar\"},{\"attributes\":{\"plot\":{\"id\":\"2996\",\"subtype\":\"Figure\",\"type\":\"Plot\"},\"ticker\":{\"id\":\"3007\",\"type\":\"BasicTicker\"}},\"id\":\"3010\",\"type\":\"Grid\"},{\"attributes\":{\"source\":{\"id\":\"2994\",\"type\":\"ColumnDataSource\"}},\"id\":\"3035\",\"type\":\"CDSView\"},{\"attributes\":{\"fill_alpha\":{\"value\":0.5},\"fill_color\":{\"field\":\"c\",\"transform\":{\"id\":\"2993\",\"type\":\"LogColorMapper\"}},\"line_alpha\":{\"value\":0.5},\"line_color\":{\"field\":\"c\",\"transform\":{\"id\":\"2993\",\"type\":\"LogColorMapper\"}},\"radius\":{\"field\":\"radii\",\"units\":\"data\"},\"x\":{\"field\":\"x\"},\"y\":{\"field\":\"y\"}},\"id\":\"3032\",\"type\":\"Circle\"},{\"attributes\":{},\"id\":\"3167\",\"type\":\"Selection\"},{\"attributes\":{},\"id\":\"3168\",\"type\":\"UnionRenderers\"},{\"attributes\":{\"line_alpha\":0.1,\"line_color\":\"navy\",\"line_width\":4,\"x\":{\"field\":\"x\"},\"y\":{\"field\":\"y\"}},\"id\":\"3039\",\"type\":\"Line\"},{\"attributes\":{},\"id\":\"3074\",\"type\":\"HelpTool\"},{\"attributes\":{\"below\":[{\"id\":\"3059\",\"type\":\"LinearAxis\"}],\"left\":[{\"id\":\"3064\",\"type\":\"LinearAxis\"}],\"min_border\":null,\"outline_line_color\":{\"value\":null},\"plot_height\":511,\"plot_width\":35,\"renderers\":[{\"id\":\"3059\",\"type\":\"LinearAxis\"},{\"id\":\"3063\",\"type\":\"Grid\"},{\"id\":\"3064\",\"type\":\"LinearAxis\"},{\"id\":\"3068\",\"type\":\"Grid\"},{\"id\":\"3077\",\"type\":\"BoxAnnotation\"}],\"title\":{\"id\":\"3048\",\"type\":\"Title\"},\"title_location\":\"right\",\"toolbar\":{\"id\":\"3075\",\"type\":\"Toolbar\"},\"toolbar_location\":null,\"x_range\":{\"id\":\"3051\",\"type\":\"DataRange1d\"},\"x_scale\":{\"id\":\"3055\",\"type\":\"LinearScale\"},\"y_range\":{\"id\":\"3053\",\"type\":\"DataRange1d\"},\"y_scale\":{\"id\":\"3057\",\"type\":\"LinearScale\"}},\"id\":\"3049\",\"subtype\":\"Figure\",\"type\":\"Plot\"},{\"attributes\":{\"bottom_units\":\"screen\",\"fill_alpha\":{\"value\":0.5},\"fill_color\":{\"value\":\"lightgrey\"},\"left_units\":\"screen\",\"level\":\"overlay\",\"line_alpha\":{\"value\":1.0},\"line_color\":{\"value\":\"black\"},\"line_dash\":[4,4],\"line_width\":{\"value\":2},\"plot\":null,\"render_mode\":\"css\",\"right_units\":\"screen\",\"top_units\":\"screen\"},\"id\":\"3024\",\"type\":\"BoxAnnotation\"},{\"attributes\":{},\"id\":\"3045\",\"type\":\"LogTicker\"},{\"attributes\":{\"data_source\":{\"id\":\"2994\",\"type\":\"ColumnDataSource\"},\"glyph\":{\"id\":\"3032\",\"type\":\"Circle\"},\"hover_glyph\":null,\"muted_glyph\":null,\"nonselection_glyph\":{\"id\":\"3033\",\"type\":\"Circle\"},\"selection_glyph\":null,\"view\":{\"id\":\"3035\",\"type\":\"CDSView\"}},\"id\":\"3034\",\"type\":\"GlyphRenderer\"},{\"attributes\":{},\"id\":\"3160\",\"type\":\"BasicTickFormatter\"},{\"attributes\":{\"color_mapper\":{\"id\":\"2993\",\"type\":\"LogColorMapper\"},\"formatter\":{\"id\":\"3160\",\"type\":\"BasicTickFormatter\"},\"label_standoff\":12,\"location\":[0,0],\"plot\":{\"id\":\"2996\",\"subtype\":\"Figure\",\"type\":\"Plot\"},\"ticker\":{\"id\":\"3045\",\"type\":\"LogTicker\"}},\"id\":\"3046\",\"type\":\"ColorBar\"},{\"attributes\":{},\"id\":\"3055\",\"type\":\"LinearScale\"},{\"attributes\":{\"callback\":null,\"renderers\":[{\"id\":\"3034\",\"type\":\"GlyphRenderer\"}],\"tooltips\":[[\"Country\",\"@country\"],[\"(Tax Rate, Log(number of entities offshore))\",\"($x, $y)\"]]},\"id\":\"3036\",\"type\":\"HoverTool\"},{\"attributes\":{\"callback\":null},\"id\":\"3053\",\"type\":\"DataRange1d\"},{\"attributes\":{\"plot\":null,\"text\":\"Number of entities offshore vs tax rate (all developed countries)\",\"text_color\":{\"value\":\"grey\"},\"text_font_size\":{\"value\":\"11pt\"},\"text_font_style\":\"normal\"},\"id\":\"2995\",\"type\":\"Title\"},{\"attributes\":{},\"id\":\"3072\",\"type\":\"SaveTool\"},{\"attributes\":{\"line_alpha\":0.1,\"line_color\":\"#1f77b4\",\"line_width\":4,\"x\":{\"field\":\"x\"},\"y\":{\"field\":\"y\"}},\"id\":\"3040\",\"type\":\"Line\"},{\"attributes\":{\"callback\":null},\"id\":\"2998\",\"type\":\"DataRange1d\"},{\"attributes\":{\"callback\":null,\"data\":{\"x\":{\"__ndarray__\":\"AAAAAACAMEAqzmwgNNw0QAAAAAAAAAAAxHJN8K26PEBpbsgwNcJBQAAAAAAAAAAAAAAAAAAAAAAAAAAAAAAAAB9hvQ56OkBAx7KI3qraOEAAAAAAAAAAAP9IsYPtNkpAAAAAAAAAKUAAAAAAAAAkQDS8tghqcENAAAAAAAAAAAD11Cxuxv8zQL+5IUD62z5AIvp2pN68PUCbEig8qeNKQIbeT+5FM0BAgfBmt3P4QkAROvWT4M44QL8PBshVizZAw/fljB2UMkCm9GYGSII5QJc8rIHCETBA+6e+Oj4jUEB/SEjid3ZKQHOKCBQKGjFA/Cp+4I934T+I1Cmac99BQDVZSoJVzS1AThXpCngNL0DQ/mhDB94/QFVTM4EN+EZAWc0mQ5VhE0DvaDvqEPpHQG5GfYpqWztAzJfrxj/6KECg9DiDt+g8QFtxVK4Hnj1AobSOyuLcREBeo06FaFztPz52L3jOzDtAO0RbCx/XSkAPhMQW7MEFQB96cC0zJTFA\",\"dtype\":\"float64\",\"shape\":[48]},\"y\":{\"__ndarray__\":\"ZVb/jI7vA0Bz5oL2/H4DQHyhkqyLmQVACjFNO9SzAkBxIXo6lAQCQHyhkqyLmQVAfKGSrIuZBUB8oZKsi5kFQHALNUKXUwJA5MGBgN8XA0B8oZKsi5kFQCiTMuj0TwBA7r3sq9NWBECkHkHfXpcEQBEE7oTOrQFAfKGSrIuZBUD6aT3gN5UDQHUNaf/VfAJAuJaZZ8qZAkD0OdvSHS0AQPTWsDcLVQJAV5U6xADGAUCqxj7lDxkDQHxA3TmCUwNA9ToDqeS5A0BNQFgh+AYDQIZiba2s+gNAVEgjYAQu/j934S7+I0MAQOaepqMF4ANAtwEgCHSLBUBLnpk5rv4BQBw7bYHWGARAX8fO9rEIBECC9CjFz2ICQOmiEySL9wBAXxtowXMcBUARBWefgMMAQB9nsfhA1wJAe8x76B1XBEAu5jypL68CQGIYxpvmnAJABt+kBUtkAUD/5o5124EFQEA/IITRywJAcOoNUaUvAEDkD319VFMFQKcpfYDl3gNA\",\"dtype\":\"float64\",\"shape\":[48]}},\"selected\":{\"id\":\"3167\",\"type\":\"Selection\"},\"selection_policy\":{\"id\":\"3168\",\"type\":\"UnionRenderers\"}},\"id\":\"3038\",\"type\":\"ColumnDataSource\"},{\"attributes\":{\"dimension\":1,\"plot\":{\"id\":\"3049\",\"subtype\":\"Figure\",\"type\":\"Plot\"},\"ticker\":{\"id\":\"3065\",\"type\":\"BasicTicker\"}},\"id\":\"3068\",\"type\":\"Grid\"},{\"attributes\":{\"overlay\":{\"id\":\"3077\",\"type\":\"BoxAnnotation\"}},\"id\":\"3071\",\"type\":\"BoxZoomTool\"},{\"attributes\":{\"callback\":null},\"id\":\"3000\",\"type\":\"DataRange1d\"},{\"attributes\":{\"data_source\":{\"id\":\"3038\",\"type\":\"ColumnDataSource\"},\"glyph\":{\"id\":\"3039\",\"type\":\"Line\"},\"hover_glyph\":null,\"muted_glyph\":null,\"nonselection_glyph\":{\"id\":\"3040\",\"type\":\"Line\"},\"selection_glyph\":null,\"view\":{\"id\":\"3042\",\"type\":\"CDSView\"}},\"id\":\"3041\",\"type\":\"GlyphRenderer\"},{\"attributes\":{},\"id\":\"3159\",\"type\":\"BasicTickFormatter\"},{\"attributes\":{},\"id\":\"3004\",\"type\":\"LinearScale\"},{\"attributes\":{\"high\":148406.48335999998,\"low\":15400.0,\"palette\":[\"#0072B2\",\"#E69F00\",\"#F0E442\",\"#009E73\"]},\"id\":\"2993\",\"type\":\"LogColorMapper\"},{\"attributes\":{},\"id\":\"3017\",\"type\":\"WheelZoomTool\"},{\"attributes\":{},\"id\":\"3057\",\"type\":\"LinearScale\"},{\"attributes\":{},\"id\":\"3073\",\"type\":\"ResetTool\"},{\"attributes\":{},\"id\":\"3002\",\"type\":\"LinearScale\"},{\"attributes\":{\"axis_label\":\"Tax Rate (%)\",\"formatter\":{\"id\":\"3157\",\"type\":\"BasicTickFormatter\"},\"plot\":{\"id\":\"2996\",\"subtype\":\"Figure\",\"type\":\"Plot\"},\"ticker\":{\"id\":\"3007\",\"type\":\"BasicTicker\"}},\"id\":\"3006\",\"type\":\"LinearAxis\"},{\"attributes\":{\"below\":[{\"id\":\"3006\",\"type\":\"LinearAxis\"}],\"left\":[{\"id\":\"3011\",\"type\":\"LinearAxis\"}],\"plot_height\":800,\"plot_width\":800,\"renderers\":[{\"id\":\"3006\",\"type\":\"LinearAxis\"},{\"id\":\"3010\",\"type\":\"Grid\"},{\"id\":\"3011\",\"type\":\"LinearAxis\"},{\"id\":\"3015\",\"type\":\"Grid\"},{\"id\":\"3024\",\"type\":\"BoxAnnotation\"},{\"id\":\"3034\",\"type\":\"GlyphRenderer\"},{\"id\":\"3041\",\"type\":\"GlyphRenderer\"},{\"id\":\"3046\",\"type\":\"ColorBar\"}],\"right\":[{\"id\":\"3046\",\"type\":\"ColorBar\"}],\"title\":{\"id\":\"2995\",\"type\":\"Title\"},\"toolbar\":{\"id\":\"3022\",\"type\":\"Toolbar\"},\"toolbar_location\":null,\"x_range\":{\"id\":\"2998\",\"type\":\"DataRange1d\"},\"x_scale\":{\"id\":\"3002\",\"type\":\"LinearScale\"},\"y_range\":{\"id\":\"3000\",\"type\":\"DataRange1d\"},\"y_scale\":{\"id\":\"3004\",\"type\":\"LinearScale\"}},\"id\":\"2996\",\"subtype\":\"Figure\",\"type\":\"Plot\"},{\"attributes\":{\"source\":{\"id\":\"3038\",\"type\":\"ColumnDataSource\"}},\"id\":\"3042\",\"type\":\"CDSView\"},{\"attributes\":{\"dimension\":1,\"plot\":{\"id\":\"2996\",\"subtype\":\"Figure\",\"type\":\"Plot\"},\"ticker\":{\"id\":\"3012\",\"type\":\"BasicTicker\"}},\"id\":\"3015\",\"type\":\"Grid\"},{\"attributes\":{},\"id\":\"3065\",\"type\":\"BasicTicker\"},{\"attributes\":{\"fill_alpha\":{\"value\":0.1},\"fill_color\":{\"value\":\"#1f77b4\"},\"line_alpha\":{\"value\":0.1},\"line_color\":{\"value\":\"#1f77b4\"},\"radius\":{\"field\":\"radii\",\"units\":\"data\"},\"x\":{\"field\":\"x\"},\"y\":{\"field\":\"y\"}},\"id\":\"3033\",\"type\":\"Circle\"},{\"attributes\":{\"formatter\":{\"id\":\"3162\",\"type\":\"BasicTickFormatter\"},\"plot\":{\"id\":\"3049\",\"subtype\":\"Figure\",\"type\":\"Plot\"},\"ticker\":{\"id\":\"3060\",\"type\":\"BasicTicker\"}},\"id\":\"3059\",\"type\":\"LinearAxis\"},{\"attributes\":{\"callback\":null,\"renderers\":[{\"id\":\"3041\",\"type\":\"GlyphRenderer\"}],\"tooltips\":[[\"Set of Country\",\"Trend in all developed countries\"]]},\"id\":\"3043\",\"type\":\"HoverTool\"},{\"attributes\":{\"axis_label\":\"Number of Entities Offshore (log scale)\",\"formatter\":{\"id\":\"3159\",\"type\":\"BasicTickFormatter\"},\"plot\":{\"id\":\"2996\",\"subtype\":\"Figure\",\"type\":\"Plot\"},\"ticker\":{\"id\":\"3012\",\"type\":\"BasicTicker\"}},\"id\":\"3011\",\"type\":\"LinearAxis\"},{\"attributes\":{},\"id\":\"3019\",\"type\":\"SaveTool\"},{\"attributes\":{},\"id\":\"3007\",\"type\":\"BasicTicker\"},{\"attributes\":{},\"id\":\"3060\",\"type\":\"BasicTicker\"},{\"attributes\":{\"active_drag\":\"auto\",\"active_inspect\":\"auto\",\"active_multi\":null,\"active_scroll\":\"auto\",\"active_tap\":\"auto\",\"logo\":null,\"tools\":[{\"id\":\"3016\",\"type\":\"PanTool\"},{\"id\":\"3017\",\"type\":\"WheelZoomTool\"},{\"id\":\"3018\",\"type\":\"BoxZoomTool\"},{\"id\":\"3019\",\"type\":\"SaveTool\"},{\"id\":\"3020\",\"type\":\"ResetTool\"},{\"id\":\"3021\",\"type\":\"HelpTool\"},{\"id\":\"3036\",\"type\":\"HoverTool\"},{\"id\":\"3043\",\"type\":\"HoverTool\"}]},\"id\":\"3022\",\"type\":\"Toolbar\"},{\"attributes\":{},\"id\":\"3016\",\"type\":\"PanTool\"},{\"attributes\":{\"plot\":{\"id\":\"3049\",\"subtype\":\"Figure\",\"type\":\"Plot\"},\"ticker\":{\"id\":\"3060\",\"type\":\"BasicTicker\"}},\"id\":\"3063\",\"type\":\"Grid\"},{\"attributes\":{\"formatter\":{\"id\":\"3164\",\"type\":\"BasicTickFormatter\"},\"plot\":{\"id\":\"3049\",\"subtype\":\"Figure\",\"type\":\"Plot\"},\"ticker\":{\"id\":\"3065\",\"type\":\"BasicTicker\"}},\"id\":\"3064\",\"type\":\"LinearAxis\"},{\"attributes\":{\"overlay\":{\"id\":\"3024\",\"type\":\"BoxAnnotation\"}},\"id\":\"3018\",\"type\":\"BoxZoomTool\"}],\"root_ids\":[\"3085\"]},\"title\":\"Bokeh Application\",\"version\":\"1.0.2\"}};\n",
       "  var render_items = [{\"docid\":\"3caae173-f508-4a07-b122-ea39ab6fa859\",\"roots\":{\"3085\":\"86d41596-b014-4bcf-b924-73c17c2e151a\"}}];\n",
       "  root.Bokeh.embed.embed_items_notebook(docs_json, render_items);\n",
       "\n",
       "  }\n",
       "  if (root.Bokeh !== undefined) {\n",
       "    embed_document(root);\n",
       "  } else {\n",
       "    var attempts = 0;\n",
       "    var timer = setInterval(function(root) {\n",
       "      if (root.Bokeh !== undefined) {\n",
       "        embed_document(root);\n",
       "        clearInterval(timer);\n",
       "      }\n",
       "      attempts++;\n",
       "      if (attempts > 100) {\n",
       "        console.log(\"Bokeh: ERROR: Unable to run BokehJS code because BokehJS library is missing\");\n",
       "        clearInterval(timer);\n",
       "      }\n",
       "    }, 10, root)\n",
       "  }\n",
       "})(window);"
      ],
      "application/vnd.bokehjs_exec.v0+json": ""
     },
     "metadata": {
      "application/vnd.bokehjs_exec.v0+json": {
       "id": "3085"
      }
     },
     "output_type": "display_data"
    },
    {
     "data": {
      "text/plain": [
       "'C:\\\\Users\\\\Tullio\\\\Documents\\\\Minor\\\\Courses\\\\Applied Data Analysis\\\\project_ada_akbar\\\\taxrate_developed.png'"
      ]
     },
     "execution_count": 53,
     "metadata": {},
     "output_type": "execute_result"
    }
   ],
   "source": [
    "selection=country_count_tax_rate['GDP_y']>15000\n",
    "x=country_count_tax_rate['Tax Rate'][selection]\n",
    "y=np.log10(country_count_tax_rate['n_companies_offshore'][selection])\n",
    "radii=country_count_tax_rate['GDP_x'][selection]*10e-13\n",
    "country_names=country_count_tax_rate['Country Name'][selection]\n",
    "# for colors\n",
    "c = country_count_tax_rate['GDP_y'][selection]\n",
    "c[c.isna()]=0\n",
    "\n",
    "\n",
    "color_mapper = LogColorMapper(palette=\"Colorblind4\", low=min(c),\\\n",
    "                              high=max(c))\n",
    "\n",
    "source=ColumnDataSource(data=dict(\n",
    "    x=list(x),\n",
    "    y=list(y),\n",
    "    country=list(country_names),\n",
    "    radii=list(radii),\n",
    "    c=list(c),\n",
    "))\n",
    "\n",
    "\n",
    "# set the regression line\n",
    "df=pd.DataFrame({'Tax Rate':x,'n_companies_offshore':y})\n",
    "df=df.dropna(inplace=False)\n",
    "\n",
    "a=np.array(df['Tax Rate'])\n",
    "b=np.array(df['n_companies_offshore'])\n",
    "\n",
    "m,i,r,p,std=stats.linregress(a,b)\n",
    "\n",
    "p = figure(title=\"Number of entities offshore vs tax rate (all developed countries)\", plot_width=800, plot_height=800)\n",
    "scatter=p.scatter(x='x', y='y', radius='radii', source=source, color={'field': 'c', 'transform': color_mapper}, alpha=0.5)\n",
    "hover= HoverTool(tooltips = [(\"Country\", \"@country\"),(\"(Tax Rate, Log(number of entities offshore))\", \"($x, $y)\")],renderers=[scatter])\n",
    "p.add_tools(hover)\n",
    "\n",
    "line=p.line(df['Tax Rate'], m*df['Tax Rate']+i, line_width=4, color='navy', alpha=0.1)\n",
    "hover0=HoverTool(tooltips = [(\"Set of Country\",'Trend in all developed countries')], renderers=[line])\n",
    "p.add_tools(hover0)\n",
    "\n",
    "# set the color bar tab\n",
    "color_bar = ColorBar(color_mapper=color_mapper, ticker=LogTicker(),\n",
    "                     label_standoff=12, border_line_color=None, location=(0,0))\n",
    "\n",
    "# set the color bar title\n",
    "color_bar_height = 511\n",
    "color_bar_width = 35\n",
    "\n",
    "color_bar_plot = figure(title=\"Real GDP per capita Legend Bar (USD)\", title_location=\"right\", \n",
    "                        height=color_bar_height, width=color_bar_width, \n",
    "                        toolbar_location=None, min_border=None, \n",
    "                        outline_line_color=None)\n",
    "\n",
    "\n",
    "# set the style of the title\n",
    "p.title.text_color = \"grey\"\n",
    "p.title.text_font = \"helvetica\"\n",
    "p.title.text_font_style = \"normal\"\n",
    "p.title.text_font_size = '11pt'\n",
    "\n",
    "# set the label options\n",
    "p.xaxis.axis_label='Tax Rate (%)'\n",
    "p.yaxis.axis_label='Number of Entities Offshore (log scale)'\n",
    "\n",
    "# add the color bar\n",
    "p.add_layout(color_bar, 'right')\n",
    "                        \n",
    "# remove the interactive toolbar\n",
    "p.toolbar.logo = None\n",
    "p.toolbar_location = None\n",
    "\n",
    "layout = row_plot(p, color_bar_plot)\n",
    "output_file(\"taxrate_developed.html\", title=\"taxrate_developed\")\n",
    "show(layout)\n",
    "export_png(layout, filename=\"taxrate_developed.png\")"
   ]
  },
  {
   "cell_type": "markdown",
   "metadata": {},
   "source": [
    "### Days to open a  business"
   ]
  },
  {
   "cell_type": "markdown",
   "metadata": {},
   "source": [
    "Another parameter that could influence entities to go offshore is the number of days needed to open a busines. This parameter, in fact, is another indicator of business conditions in a country: the hypothesis is that entities go offshore in order to find better business conditions that the home country cannot offer them. "
   ]
  },
  {
   "cell_type": "code",
   "execution_count": 54,
   "metadata": {},
   "outputs": [
    {
     "name": "stdout",
     "output_type": "stream",
     "text": [
      "Year with most data is 2015\n"
     ]
    }
   ],
   "source": [
    "years=range(1990, 2018)\n",
    "years_count=np.array([])\n",
    "\n",
    "for year in years:\n",
    "    \n",
    "    years_count=np.append(years_count,df_ease_business[str(year)].notnull().sum())\n",
    "print ('Year with most data is', years[np.argmax(years_count)])"
   ]
  },
  {
   "cell_type": "markdown",
   "metadata": {},
   "source": [
    "In order to fully exploit the data, the average days to open a business for each country is computed over a time frame of 15 years; hence it is assumed that any change in days to open a business in this time range has not affected the number of entities going offshore in this time range."
   ]
  },
  {
   "cell_type": "code",
   "execution_count": 55,
   "metadata": {},
   "outputs": [],
   "source": [
    "#df_countries_ease_business=pd.DataFrame({'Country Name':df_ease_business['Country Name'][df_ease_business['2015'].notnull()],'days_open_business':df_ease_business['2015'][df_ease_business['2013'].notnull()]})\n",
    "df_countries_ease_business=pd.DataFrame({'Country Name':df_ease_business['Country Name'],'days_open_business':df_ease_business.iloc[:,range(-15,0)].mean(axis=1,numeric_only=True)})\n",
    "df_countries_ease_business=df_countries_ease_business[df_countries_ease_business['days_open_business'].notnull()]"
   ]
  },
  {
   "cell_type": "markdown",
   "metadata": {},
   "source": [
    "A dataset with number of days to open a business and number of companies registered in the panama papers is made. However for this coefficient it was very hard to integrate the missing data values by using other sources. As a matter of fact the this analysis is limited to the countries which have the corporate tax rate values."
   ]
  },
  {
   "cell_type": "code",
   "execution_count": 56,
   "metadata": {},
   "outputs": [],
   "source": [
    "country_count_ease_business=country_count_gdp.merge(df_countries_ease_business, how='outer',left_on='Country Name', right_on='Country Name')"
   ]
  },
  {
   "cell_type": "markdown",
   "metadata": {},
   "source": [
    "#### Small Developed Countries"
   ]
  },
  {
   "cell_type": "markdown",
   "metadata": {},
   "source": [
    "Again firstly the graph of days to open a business and presence in Panama Paper of small developed countries with high income per capita is plotted. In fact, by looking at these relationship it will be possible to understand if all small developed countries with high income per capita present favourable characteristics to go offshore.\n",
    "\n",
    "All the countries with GDP per capita `GDP_y`>30000 and a total GDP `GDP_x`< 200 billions USD have been considered.\n",
    "\n",
    "The GDP has been used as a weight for the count of entities offshore because the discrepancy between the size of the economies is really high.\n",
    "\n",
    "By observing the plot below some important considerations can be drawn; again the two set of countries can be identified: tax havens countries and small developed countries. The first ones are visibile since they have a very high number of offshore entities and the second group can be identified below. In this case it is not possible to determine whether days to open a business influence entities in countries to go offshore. Hence it seems that for this category of countries no dependency can be drawn. In fact even the regression line that should show a negative exponential relationship between days to open a business and number of entities in Panama Papers has a two tail test p-value of 0.837, which confirms the hypothesis that the slope of the line should be zero. "
   ]
  },
  {
   "cell_type": "code",
   "execution_count": 57,
   "metadata": {},
   "outputs": [
    {
     "data": {
      "text/html": [
       "\n",
       "\n",
       "\n",
       "\n",
       "\n",
       "\n",
       "  <div class=\"bk-root\" id=\"3b7a9d0f-e14a-4ef1-b1e2-7c2168520756\"></div>\n"
      ]
     },
     "metadata": {},
     "output_type": "display_data"
    },
    {
     "data": {
      "application/javascript": [
       "(function(root) {\n",
       "  function embed_document(root) {\n",
       "    \n",
       "  var docs_json = {\"9a6429d1-241f-43b6-a82f-37df77aa7379\":{\"roots\":{\"references\":[{\"attributes\":{\"children\":[{\"id\":\"3584\",\"subtype\":\"Figure\",\"type\":\"Plot\"},{\"id\":\"3644\",\"subtype\":\"Figure\",\"type\":\"Plot\"}]},\"id\":\"3680\",\"type\":\"Row\"},{\"attributes\":{\"overlay\":{\"id\":\"3612\",\"type\":\"BoxAnnotation\"}},\"id\":\"3606\",\"type\":\"BoxZoomTool\"},{\"attributes\":{},\"id\":\"3652\",\"type\":\"LinearScale\"},{\"attributes\":{\"fill_alpha\":{\"value\":0.5},\"fill_color\":{\"field\":\"c\",\"transform\":{\"id\":\"3581\",\"type\":\"LogColorMapper\"}},\"line_alpha\":{\"value\":0.5},\"line_color\":{\"field\":\"c\",\"transform\":{\"id\":\"3581\",\"type\":\"LogColorMapper\"}},\"radius\":{\"units\":\"data\",\"value\":0.01},\"x\":{\"field\":\"x\"},\"y\":{\"field\":\"y\"}},\"id\":\"3620\",\"type\":\"Circle\"},{\"attributes\":{},\"id\":\"3772\",\"type\":\"BasicTickFormatter\"},{\"attributes\":{\"line_alpha\":0.1,\"line_color\":\"navy\",\"line_width\":4,\"x\":{\"field\":\"x\"},\"y\":{\"field\":\"y\"}},\"id\":\"3627\",\"type\":\"Line\"},{\"attributes\":{\"formatter\":{\"id\":\"3774\",\"type\":\"BasicTickFormatter\"},\"plot\":{\"id\":\"3644\",\"subtype\":\"Figure\",\"type\":\"Plot\"},\"ticker\":{\"id\":\"3655\",\"type\":\"BasicTicker\"}},\"id\":\"3654\",\"type\":\"LinearAxis\"},{\"attributes\":{},\"id\":\"3774\",\"type\":\"BasicTickFormatter\"},{\"attributes\":{},\"id\":\"3605\",\"type\":\"WheelZoomTool\"},{\"attributes\":{\"line_alpha\":0.1,\"line_color\":\"#1f77b4\",\"line_width\":4,\"x\":{\"field\":\"x\"},\"y\":{\"field\":\"y\"}},\"id\":\"3628\",\"type\":\"Line\"},{\"attributes\":{},\"id\":\"3655\",\"type\":\"BasicTicker\"},{\"attributes\":{},\"id\":\"3776\",\"type\":\"BasicTickFormatter\"},{\"attributes\":{\"data_source\":{\"id\":\"3626\",\"type\":\"ColumnDataSource\"},\"glyph\":{\"id\":\"3627\",\"type\":\"Line\"},\"hover_glyph\":null,\"muted_glyph\":null,\"nonselection_glyph\":{\"id\":\"3628\",\"type\":\"Line\"},\"selection_glyph\":null,\"view\":{\"id\":\"3630\",\"type\":\"CDSView\"}},\"id\":\"3629\",\"type\":\"GlyphRenderer\"},{\"attributes\":{\"plot\":{\"id\":\"3644\",\"subtype\":\"Figure\",\"type\":\"Plot\"},\"ticker\":{\"id\":\"3655\",\"type\":\"BasicTicker\"}},\"id\":\"3658\",\"type\":\"Grid\"},{\"attributes\":{\"callback\":null,\"data\":{\"c\":[242000000000.0,569333333333.3334,9180787954.8,51926314674.13333,293933333333.3333,5216143943.461538,227133425171.26666,5301931545.6,4922173236.692307,2288000000.0,850000000.0,3274307831.133333,1492800000000.0,246466666666.66666,795266666666.6666,5418704083.333333,3343516256.5,1088333333333.3334,151083392370.0,241600000000.0,118940926181.06667,462666666666.6667,483466666666.6667,121546062271.0,30812990994.333332,381866666666.6667,16469675328.666666,401066666666.6667,308800000000.0,4098230769.230769,13049161890.0,2219048535.3076925,2361167216.785714,1977081765.4],\"country\":[\"Hong Kong SAR, China\",\"Switzerland\",\"Channel Islands\",\"Luxembourg\",\"United Arab Emirates\",\"Isle of Man\",\"Singapore\",\"Monaco\",\"Liechtenstein\",\"Gibraltar\",\"British Virgin Islands\",\"Andorra\",\"Canada\",\"Ireland\",\"Netherlands\",\"Bermuda\",\"Cayman Islands\",\"Australia\",\"New Zealand\",\"Finland\",\"Kuwait\",\"Belgium\",\"Sweden\",\"Qatar\",\"Macao SAR, China\",\"Austria\",\"Iceland\",\"Norway\",\"Denmark\",\"Virgin Islands (U.S.)\",\"Brunei Darussalam\",\"Faroe Islands\",\"Greenland\",\"San Marino\"],\"x\":[0.7650295730617386,1.1962946451439682,\"NaN\",1.2825465899699682,1.125481265700594,\"NaN\",0.5614421404196983,\"NaN\",\"NaN\",\"NaN\",\"NaN\",\"NaN\",0.6097468199942534,1.0469965626762237,0.8032619709666747,\"NaN\",\"NaN\",0.422073688388757,0.578147833922551,1.146128035678238,1.559393577744429,0.9968867645758571,1.148338190483355,0.9233382358954043,\"NaN\",1.380211241711606,0.8338753359055083,0.8269998179214606,0.7596678446896304,\"NaN\",1.943659364828903,\"NaN\",\"NaN\",1.4135791429792126],\"y\":[-6.805050125770456,-7.176601371423348,-5.6272616073940185,-6.6803582186425885,-7.606774170913472,-6.027863119211703,-7.745514455339305,-6.223648943244593,-6.3770265775175075,-6.050038794342846,-5.88527130483557,-6.825810647680471,-9.63367215161155,-8.883902319821594,-9.652539513166124,-7.5164114905252815,-7.498897573858133,-10.063634077291733,-9.315893867630418,-9.570183573306238,-9.297180065600369,-9.89441619975703,-9.944003846873546,-9.65337712940558,-9.090793848336471,-10.201700508532513,-9.040593778829416,-10.457088532849667,-10.34354925598546,-9.01053641832085,-10.115582619089098,\"NaN\",\"NaN\",\"NaN\"]},\"selected\":{\"id\":\"3777\",\"type\":\"Selection\"},\"selection_policy\":{\"id\":\"3778\",\"type\":\"UnionRenderers\"}},\"id\":\"3582\",\"type\":\"ColumnDataSource\"},{\"attributes\":{},\"id\":\"3592\",\"type\":\"LinearScale\"},{\"attributes\":{},\"id\":\"3607\",\"type\":\"SaveTool\"},{\"attributes\":{},\"id\":\"3608\",\"type\":\"ResetTool\"},{\"attributes\":{\"source\":{\"id\":\"3626\",\"type\":\"ColumnDataSource\"}},\"id\":\"3630\",\"type\":\"CDSView\"},{\"attributes\":{\"high\":1492800000000.0,\"low\":850000000.0,\"palette\":[\"#0072B2\",\"#E69F00\",\"#F0E442\"]},\"id\":\"3581\",\"type\":\"LogColorMapper\"},{\"attributes\":{\"formatter\":{\"id\":\"3776\",\"type\":\"BasicTickFormatter\"},\"plot\":{\"id\":\"3644\",\"subtype\":\"Figure\",\"type\":\"Plot\"},\"ticker\":{\"id\":\"3660\",\"type\":\"BasicTicker\"}},\"id\":\"3659\",\"type\":\"LinearAxis\"},{\"attributes\":{},\"id\":\"3609\",\"type\":\"HelpTool\"},{\"attributes\":{},\"id\":\"3777\",\"type\":\"Selection\"},{\"attributes\":{},\"id\":\"3778\",\"type\":\"UnionRenderers\"},{\"attributes\":{},\"id\":\"3600\",\"type\":\"BasicTicker\"},{\"attributes\":{\"callback\":null,\"renderers\":[{\"id\":\"3636\",\"type\":\"GlyphRenderer\"}],\"tooltips\":[[\"Set of Country\",\"Tax havens\"]]},\"id\":\"3638\",\"type\":\"HoverTool\"},{\"attributes\":{\"bottom_units\":\"screen\",\"fill_alpha\":{\"value\":0.5},\"fill_color\":{\"value\":\"lightgrey\"},\"left_units\":\"screen\",\"level\":\"overlay\",\"line_alpha\":{\"value\":1.0},\"line_color\":{\"value\":\"black\"},\"line_dash\":[4,4],\"line_width\":{\"value\":2},\"plot\":null,\"render_mode\":\"css\",\"right_units\":\"screen\",\"top_units\":\"screen\"},\"id\":\"3612\",\"type\":\"BoxAnnotation\"},{\"attributes\":{},\"id\":\"3660\",\"type\":\"BasicTicker\"},{\"attributes\":{},\"id\":\"3779\",\"type\":\"Selection\"},{\"attributes\":{\"source\":{\"id\":\"3582\",\"type\":\"ColumnDataSource\"}},\"id\":\"3623\",\"type\":\"CDSView\"},{\"attributes\":{\"callback\":null,\"data\":{},\"selected\":{\"id\":\"3781\",\"type\":\"Selection\"},\"selection_policy\":{\"id\":\"3782\",\"type\":\"UnionRenderers\"}},\"id\":\"3633\",\"type\":\"ColumnDataSource\"},{\"attributes\":{\"dimension\":1,\"plot\":{\"id\":\"3644\",\"subtype\":\"Figure\",\"type\":\"Plot\"},\"ticker\":{\"id\":\"3660\",\"type\":\"BasicTicker\"}},\"id\":\"3663\",\"type\":\"Grid\"},{\"attributes\":{},\"id\":\"3780\",\"type\":\"UnionRenderers\"},{\"attributes\":{\"fill_alpha\":{\"value\":0.1},\"fill_color\":{\"value\":\"navy\"},\"line_alpha\":{\"value\":0.1},\"line_color\":{\"value\":\"navy\"},\"size\":{\"units\":\"screen\",\"value\":370},\"x\":{\"value\":0.85},\"y\":{\"value\":-7}},\"id\":\"3634\",\"type\":\"Circle\"},{\"attributes\":{\"callback\":null,\"renderers\":[{\"id\":\"3622\",\"type\":\"GlyphRenderer\"}],\"tooltips\":[[\"Country\",\"@country\"],[\"(Tax Rate, Log(number of entities offshore))\",\"($x, $y)\"]]},\"id\":\"3624\",\"type\":\"HoverTool\"},{\"attributes\":{\"data_source\":{\"id\":\"3582\",\"type\":\"ColumnDataSource\"},\"glyph\":{\"id\":\"3620\",\"type\":\"Circle\"},\"hover_glyph\":null,\"muted_glyph\":null,\"nonselection_glyph\":{\"id\":\"3621\",\"type\":\"Circle\"},\"selection_glyph\":null,\"view\":{\"id\":\"3623\",\"type\":\"CDSView\"}},\"id\":\"3622\",\"type\":\"GlyphRenderer\"},{\"attributes\":{},\"id\":\"3781\",\"type\":\"Selection\"},{\"attributes\":{},\"id\":\"3769\",\"type\":\"BasicTickFormatter\"},{\"attributes\":{\"fill_alpha\":{\"value\":0.1},\"fill_color\":{\"value\":\"#1f77b4\"},\"line_alpha\":{\"value\":0.1},\"line_color\":{\"value\":\"#1f77b4\"},\"size\":{\"units\":\"screen\",\"value\":370},\"x\":{\"value\":0.85},\"y\":{\"value\":-7}},\"id\":\"3635\",\"type\":\"Circle\"},{\"attributes\":{\"callback\":null},\"id\":\"3586\",\"type\":\"DataRange1d\"},{\"attributes\":{},\"id\":\"3590\",\"type\":\"LinearScale\"},{\"attributes\":{\"below\":[{\"id\":\"3654\",\"type\":\"LinearAxis\"}],\"left\":[{\"id\":\"3659\",\"type\":\"LinearAxis\"}],\"min_border\":null,\"outline_line_color\":{\"value\":null},\"plot_height\":511,\"plot_width\":35,\"renderers\":[{\"id\":\"3654\",\"type\":\"LinearAxis\"},{\"id\":\"3658\",\"type\":\"Grid\"},{\"id\":\"3659\",\"type\":\"LinearAxis\"},{\"id\":\"3663\",\"type\":\"Grid\"},{\"id\":\"3672\",\"type\":\"BoxAnnotation\"}],\"title\":{\"id\":\"3643\",\"type\":\"Title\"},\"title_location\":\"right\",\"toolbar\":{\"id\":\"3670\",\"type\":\"Toolbar\"},\"toolbar_location\":null,\"x_range\":{\"id\":\"3646\",\"type\":\"DataRange1d\"},\"x_scale\":{\"id\":\"3650\",\"type\":\"LinearScale\"},\"y_range\":{\"id\":\"3648\",\"type\":\"DataRange1d\"},\"y_scale\":{\"id\":\"3652\",\"type\":\"LinearScale\"}},\"id\":\"3644\",\"subtype\":\"Figure\",\"type\":\"Plot\"},{\"attributes\":{},\"id\":\"3782\",\"type\":\"UnionRenderers\"},{\"attributes\":{\"data_source\":{\"id\":\"3633\",\"type\":\"ColumnDataSource\"},\"glyph\":{\"id\":\"3634\",\"type\":\"Circle\"},\"hover_glyph\":null,\"muted_glyph\":null,\"nonselection_glyph\":{\"id\":\"3635\",\"type\":\"Circle\"},\"selection_glyph\":null,\"view\":{\"id\":\"3637\",\"type\":\"CDSView\"}},\"id\":\"3636\",\"type\":\"GlyphRenderer\"},{\"attributes\":{\"active_drag\":\"auto\",\"active_inspect\":\"auto\",\"active_multi\":null,\"active_scroll\":\"auto\",\"active_tap\":\"auto\",\"tools\":[{\"id\":\"3664\",\"type\":\"PanTool\"},{\"id\":\"3665\",\"type\":\"WheelZoomTool\"},{\"id\":\"3666\",\"type\":\"BoxZoomTool\"},{\"id\":\"3667\",\"type\":\"SaveTool\"},{\"id\":\"3668\",\"type\":\"ResetTool\"},{\"id\":\"3669\",\"type\":\"HelpTool\"}]},\"id\":\"3670\",\"type\":\"Toolbar\"},{\"attributes\":{},\"id\":\"3664\",\"type\":\"PanTool\"},{\"attributes\":{\"source\":{\"id\":\"3633\",\"type\":\"ColumnDataSource\"}},\"id\":\"3637\",\"type\":\"CDSView\"},{\"attributes\":{\"callback\":null,\"data\":{\"x\":{\"__ndarray__\":\"4eNWwwuD4z8vgLt3f8DwPw2E7XJStOk/g28IXEED2z9Ia97iL4DiP59E5FmKVvI/exMgrkbz+D/TZHUSf+bvPzP7zd2XX/I/pCXKoPyL7T/+kAtiWBX2Py33FFQbr+o//Kh4Ush26j//eJjwMk/oP34R6I86Gf8/\",\"dtype\":\"float64\",\"shape\":[15]},\"y\":{\"__ndarray__\":\"ZEp7AzBsI8Bw1kF2dHsjwKlBDsrxciPADaRBdaJlI8CYETiPFWsjwOizwZHqfiPAmJNBoViNI8CarIaLtHkjwNtqRlP+fiPA/yO5HSN3I8Aljpn4FocjwF946W4DdCPAHSuZ+cVzI8Bu5zIdbHEjwBWnVnjDmiPA\",\"dtype\":\"float64\",\"shape\":[15]}},\"selected\":{\"id\":\"3779\",\"type\":\"Selection\"},\"selection_policy\":{\"id\":\"3780\",\"type\":\"UnionRenderers\"}},\"id\":\"3626\",\"type\":\"ColumnDataSource\"},{\"attributes\":{},\"id\":\"3665\",\"type\":\"WheelZoomTool\"},{\"attributes\":{\"axis_label\":\"Number of Entities Offshore (log scale)\",\"formatter\":{\"id\":\"3771\",\"type\":\"BasicTickFormatter\"},\"plot\":{\"id\":\"3584\",\"subtype\":\"Figure\",\"type\":\"Plot\"},\"ticker\":{\"id\":\"3600\",\"type\":\"BasicTicker\"}},\"id\":\"3599\",\"type\":\"LinearAxis\"},{\"attributes\":{\"color_mapper\":{\"id\":\"3581\",\"type\":\"LogColorMapper\"},\"formatter\":{\"id\":\"3772\",\"type\":\"BasicTickFormatter\"},\"label_standoff\":12,\"location\":[20,0],\"plot\":{\"id\":\"3584\",\"subtype\":\"Figure\",\"type\":\"Plot\"},\"ticker\":{\"id\":\"3640\",\"type\":\"LogTicker\"}},\"id\":\"3641\",\"type\":\"ColorBar\"},{\"attributes\":{\"below\":[{\"id\":\"3594\",\"type\":\"LinearAxis\"}],\"left\":[{\"id\":\"3599\",\"type\":\"LinearAxis\"}],\"plot_height\":800,\"plot_width\":800,\"renderers\":[{\"id\":\"3594\",\"type\":\"LinearAxis\"},{\"id\":\"3598\",\"type\":\"Grid\"},{\"id\":\"3599\",\"type\":\"LinearAxis\"},{\"id\":\"3603\",\"type\":\"Grid\"},{\"id\":\"3612\",\"type\":\"BoxAnnotation\"},{\"id\":\"3622\",\"type\":\"GlyphRenderer\"},{\"id\":\"3629\",\"type\":\"GlyphRenderer\"},{\"id\":\"3636\",\"type\":\"GlyphRenderer\"},{\"id\":\"3641\",\"type\":\"ColorBar\"}],\"right\":[{\"id\":\"3641\",\"type\":\"ColorBar\"}],\"title\":{\"id\":\"3583\",\"type\":\"Title\"},\"toolbar\":{\"id\":\"3610\",\"type\":\"Toolbar\"},\"toolbar_location\":null,\"x_range\":{\"id\":\"3586\",\"type\":\"DataRange1d\"},\"x_scale\":{\"id\":\"3590\",\"type\":\"LinearScale\"},\"y_range\":{\"id\":\"3588\",\"type\":\"DataRange1d\"},\"y_scale\":{\"id\":\"3592\",\"type\":\"LinearScale\"}},\"id\":\"3584\",\"subtype\":\"Figure\",\"type\":\"Plot\"},{\"attributes\":{\"overlay\":{\"id\":\"3672\",\"type\":\"BoxAnnotation\"}},\"id\":\"3666\",\"type\":\"BoxZoomTool\"},{\"attributes\":{\"callback\":null,\"renderers\":[{\"id\":\"3629\",\"type\":\"GlyphRenderer\"}],\"tooltips\":[[\"Set of Country\",\"Not tax havens countries, p-value=0.837\"]]},\"id\":\"3631\",\"type\":\"HoverTool\"},{\"attributes\":{},\"id\":\"3640\",\"type\":\"LogTicker\"},{\"attributes\":{\"plot\":null,\"text\":\"Number of entities offshore vs days to open a business(Small developed countries)\",\"text_color\":{\"value\":\"grey\"},\"text_font_size\":{\"value\":\"11pt\"},\"text_font_style\":\"normal\"},\"id\":\"3583\",\"type\":\"Title\"},{\"attributes\":{},\"id\":\"3667\",\"type\":\"SaveTool\"},{\"attributes\":{\"active_drag\":\"auto\",\"active_inspect\":\"auto\",\"active_multi\":null,\"active_scroll\":\"auto\",\"active_tap\":\"auto\",\"logo\":null,\"tools\":[{\"id\":\"3604\",\"type\":\"PanTool\"},{\"id\":\"3605\",\"type\":\"WheelZoomTool\"},{\"id\":\"3606\",\"type\":\"BoxZoomTool\"},{\"id\":\"3607\",\"type\":\"SaveTool\"},{\"id\":\"3608\",\"type\":\"ResetTool\"},{\"id\":\"3609\",\"type\":\"HelpTool\"},{\"id\":\"3624\",\"type\":\"HoverTool\"},{\"id\":\"3631\",\"type\":\"HoverTool\"},{\"id\":\"3638\",\"type\":\"HoverTool\"}]},\"id\":\"3610\",\"type\":\"Toolbar\"},{\"attributes\":{},\"id\":\"3668\",\"type\":\"ResetTool\"},{\"attributes\":{\"dimension\":1,\"plot\":{\"id\":\"3584\",\"subtype\":\"Figure\",\"type\":\"Plot\"},\"ticker\":{\"id\":\"3600\",\"type\":\"BasicTicker\"}},\"id\":\"3603\",\"type\":\"Grid\"},{\"attributes\":{\"plot\":null,\"text\":\"Real GDP Legend Bar (USD)\"},\"id\":\"3643\",\"type\":\"Title\"},{\"attributes\":{\"callback\":null},\"id\":\"3588\",\"type\":\"DataRange1d\"},{\"attributes\":{},\"id\":\"3669\",\"type\":\"HelpTool\"},{\"attributes\":{\"plot\":{\"id\":\"3584\",\"subtype\":\"Figure\",\"type\":\"Plot\"},\"ticker\":{\"id\":\"3595\",\"type\":\"BasicTicker\"}},\"id\":\"3598\",\"type\":\"Grid\"},{\"attributes\":{\"callback\":null},\"id\":\"3646\",\"type\":\"DataRange1d\"},{\"attributes\":{},\"id\":\"3604\",\"type\":\"PanTool\"},{\"attributes\":{},\"id\":\"3595\",\"type\":\"BasicTicker\"},{\"attributes\":{},\"id\":\"3771\",\"type\":\"BasicTickFormatter\"},{\"attributes\":{\"callback\":null},\"id\":\"3648\",\"type\":\"DataRange1d\"},{\"attributes\":{\"bottom_units\":\"screen\",\"fill_alpha\":{\"value\":0.5},\"fill_color\":{\"value\":\"lightgrey\"},\"left_units\":\"screen\",\"level\":\"overlay\",\"line_alpha\":{\"value\":1.0},\"line_color\":{\"value\":\"black\"},\"line_dash\":[4,4],\"line_width\":{\"value\":2},\"plot\":null,\"render_mode\":\"css\",\"right_units\":\"screen\",\"top_units\":\"screen\"},\"id\":\"3672\",\"type\":\"BoxAnnotation\"},{\"attributes\":{\"fill_alpha\":{\"value\":0.1},\"fill_color\":{\"value\":\"#1f77b4\"},\"line_alpha\":{\"value\":0.1},\"line_color\":{\"value\":\"#1f77b4\"},\"radius\":{\"units\":\"data\",\"value\":0.01},\"x\":{\"field\":\"x\"},\"y\":{\"field\":\"y\"}},\"id\":\"3621\",\"type\":\"Circle\"},{\"attributes\":{\"axis_label\":\"Days to open a business\",\"formatter\":{\"id\":\"3769\",\"type\":\"BasicTickFormatter\"},\"plot\":{\"id\":\"3584\",\"subtype\":\"Figure\",\"type\":\"Plot\"},\"ticker\":{\"id\":\"3595\",\"type\":\"BasicTicker\"}},\"id\":\"3594\",\"type\":\"LinearAxis\"},{\"attributes\":{},\"id\":\"3650\",\"type\":\"LinearScale\"}],\"root_ids\":[\"3680\"]},\"title\":\"Bokeh Application\",\"version\":\"1.0.2\"}};\n",
       "  var render_items = [{\"docid\":\"9a6429d1-241f-43b6-a82f-37df77aa7379\",\"roots\":{\"3680\":\"3b7a9d0f-e14a-4ef1-b1e2-7c2168520756\"}}];\n",
       "  root.Bokeh.embed.embed_items_notebook(docs_json, render_items);\n",
       "\n",
       "  }\n",
       "  if (root.Bokeh !== undefined) {\n",
       "    embed_document(root);\n",
       "  } else {\n",
       "    var attempts = 0;\n",
       "    var timer = setInterval(function(root) {\n",
       "      if (root.Bokeh !== undefined) {\n",
       "        embed_document(root);\n",
       "        clearInterval(timer);\n",
       "      }\n",
       "      attempts++;\n",
       "      if (attempts > 100) {\n",
       "        console.log(\"Bokeh: ERROR: Unable to run BokehJS code because BokehJS library is missing\");\n",
       "        clearInterval(timer);\n",
       "      }\n",
       "    }, 10, root)\n",
       "  }\n",
       "})(window);"
      ],
      "application/vnd.bokehjs_exec.v0+json": ""
     },
     "metadata": {
      "application/vnd.bokehjs_exec.v0+json": {
       "id": "3680"
      }
     },
     "output_type": "display_data"
    }
   ],
   "source": [
    "selection=country_count_ease_business['GDP_y'].apply(lambda x: x>30000) & country_count_ease_business['GDP_x'].apply(lambda x: x<200*10e9)\n",
    "\n",
    "x = np.log10(country_count_ease_business['days_open_business'][selection])\n",
    "y = np.log10(country_count_ease_business['n_companies_offshore'][selection]/country_count_ease_business['GDP_x'][selection])\n",
    "country_names=country_count_ease_business['Country Name'][selection]\n",
    "c = country_count_ease_business['GDP_x'][selection]\n",
    "c[c.isna()]=0\n",
    "\n",
    "# establish the color mapper schema\n",
    "color_mapper = LogColorMapper(palette=\"Colorblind3\", low=min(c),\\\n",
    "                              high=max(c))\n",
    "\n",
    "# establish the sources of data to make the interactive graph\n",
    "source=ColumnDataSource(data=dict(\n",
    "    x=list(x),\n",
    "    y=list(y),\n",
    "    country=list(country_names),\n",
    "    c=list(c),\n",
    "))\n",
    "\n",
    "    \n",
    "# set the regression line\n",
    "df=pd.DataFrame({'days_open_business':x,'n_companies_offshore':y})\n",
    "df=df.dropna(inplace=False)\n",
    "df=df[df['n_companies_offshore'].apply(lambda x: x<-8)]\n",
    "\n",
    "a=np.array(df['days_open_business'])\n",
    "b=np.array(df['n_companies_offshore'])\n",
    "\n",
    "m,i,r,p_value,std=stats.linregress(a,b)\n",
    "\n",
    "p = figure(title=\"Number of entities offshore vs days to open a business(Small developed countries)\", plot_width=800, plot_height=800)\n",
    "\n",
    "scatter=p.scatter(x='x', y='y', radius=0.01, source=source, color={'field': 'c', 'transform': color_mapper}, alpha=0.5)\n",
    "hover= HoverTool(tooltips = [(\"Country\", \"@country\"),(\"(Tax Rate, Log(number of entities offshore))\", \"($x, $y)\")],renderers=[scatter])\n",
    "p.add_tools(hover)\n",
    "\n",
    "\n",
    "line=p.line(df['days_open_business'], m*df['days_open_business']+i, line_width=4, color='navy', alpha=0.1)\n",
    "hover0=HoverTool(tooltips = [(\"Set of Country\",'Not tax havens countries, p-value='+str(p_value)[:5])], renderers=[line])\n",
    "p.add_tools(hover0)\n",
    "circle=p.circle(0.85, -7, size=370, color=\"navy\", alpha=0.1)\n",
    "hover1=HoverTool(tooltips = [(\"Set of Country\",'Tax havens')], renderers=[circle])\n",
    "p.add_tools(hover1)\n",
    "\n",
    "\n",
    "# set the style of the title\n",
    "p.title.text_color = \"grey\"\n",
    "p.title.text_font = \"helvetica\"\n",
    "p.title.text_font_style = \"normal\"\n",
    "p.title.text_font_size = '11pt'\n",
    "\n",
    "# set the label options\n",
    "p.xaxis.axis_label='Days to open a business'\n",
    "p.yaxis.axis_label='Number of Entities Offshore (log scale)'\n",
    "\n",
    "# add the color bar\n",
    "color_bar = ColorBar(color_mapper=color_mapper, ticker=LogTicker(),\n",
    "                     label_standoff=12, border_line_color=None, location=(20,0))\n",
    "\n",
    "# set the color bar title\n",
    "color_bar_height = 511\n",
    "color_bar_width = 35\n",
    "\n",
    "color_bar_plot = figure(title=\"Real GDP Legend Bar (USD)\", title_location=\"right\", \n",
    "                        height=color_bar_height, width=color_bar_width, \n",
    "                        toolbar_location=None, min_border=None, \n",
    "                        outline_line_color=None)\n",
    "\n",
    "p.add_layout(color_bar, 'right')\n",
    "\n",
    "# remove the interactive toolbar\n",
    "p.toolbar.logo = None\n",
    "p.toolbar_location = None\n",
    "\n",
    "layout = row_plot(p, color_bar_plot)\n",
    "output_file(\"daysbusinesssmalldevelopedcountries.html\", title=\"daysbusinesssmalldevelopedcountries\")\n",
    "show(layout)\n"
   ]
  },
  {
   "cell_type": "markdown",
   "metadata": {},
   "source": [
    "#### Developing Countries"
   ]
  },
  {
   "cell_type": "markdown",
   "metadata": {},
   "source": [
    "Secondly the graph of days to open a business and presence in Panama Paper of developing countries is plotted. BRICs countries have been considered, as well as all other countries which had a GDP greater than 40 billions USD a year. Also in this case the GDP has been used as a weight for the count of entities offshore because the discrepancy between the size of the economies is really high.\n",
    "\n",
    "By observing this graphs it is immediately clear that no conclusion can be drawn from the data: days to open a business is not a factor influencing in any manner entities in this category of countries to go offshore. "
   ]
  },
  {
   "cell_type": "code",
   "execution_count": 58,
   "metadata": {},
   "outputs": [
    {
     "data": {
      "text/html": [
       "\n",
       "\n",
       "\n",
       "\n",
       "\n",
       "\n",
       "  <div class=\"bk-root\" id=\"37e38646-e5bb-4acb-84ef-50a1f646bd3c\"></div>\n"
      ]
     },
     "metadata": {},
     "output_type": "display_data"
    },
    {
     "data": {
      "application/javascript": [
       "(function(root) {\n",
       "  function embed_document(root) {\n",
       "    \n",
       "  var docs_json = {\"0cecfc15-8642-4b0b-8ba9-3a18fbc25067\":{\"roots\":{\"references\":[{\"attributes\":{\"children\":[{\"id\":\"4074\",\"subtype\":\"Figure\",\"type\":\"Plot\"},{\"id\":\"4127\",\"subtype\":\"Figure\",\"type\":\"Plot\"}]},\"id\":\"4163\",\"type\":\"Row\"},{\"attributes\":{},\"id\":\"4273\",\"type\":\"BasicTickFormatter\"},{\"attributes\":{\"active_drag\":\"auto\",\"active_inspect\":\"auto\",\"active_multi\":null,\"active_scroll\":\"auto\",\"active_tap\":\"auto\",\"logo\":null,\"tools\":[{\"id\":\"4094\",\"type\":\"PanTool\"},{\"id\":\"4095\",\"type\":\"WheelZoomTool\"},{\"id\":\"4096\",\"type\":\"BoxZoomTool\"},{\"id\":\"4097\",\"type\":\"SaveTool\"},{\"id\":\"4098\",\"type\":\"ResetTool\"},{\"id\":\"4099\",\"type\":\"HelpTool\"},{\"id\":\"4114\",\"type\":\"HoverTool\"},{\"id\":\"4121\",\"type\":\"HoverTool\"}]},\"id\":\"4100\",\"type\":\"Toolbar\"},{\"attributes\":{},\"id\":\"4082\",\"type\":\"LinearScale\"},{\"attributes\":{\"source\":{\"id\":\"4116\",\"type\":\"ColumnDataSource\"}},\"id\":\"4120\",\"type\":\"CDSView\"},{\"attributes\":{},\"id\":\"4274\",\"type\":\"BasicTickFormatter\"},{\"attributes\":{\"axis_label\":\"Days to open a business\",\"formatter\":{\"id\":\"4271\",\"type\":\"BasicTickFormatter\"},\"plot\":{\"id\":\"4074\",\"subtype\":\"Figure\",\"type\":\"Plot\"},\"ticker\":{\"id\":\"4085\",\"type\":\"BasicTicker\"}},\"id\":\"4084\",\"type\":\"LinearAxis\"},{\"attributes\":{},\"id\":\"4095\",\"type\":\"WheelZoomTool\"},{\"attributes\":{\"bottom_units\":\"screen\",\"fill_alpha\":{\"value\":0.5},\"fill_color\":{\"value\":\"lightgrey\"},\"left_units\":\"screen\",\"level\":\"overlay\",\"line_alpha\":{\"value\":1.0},\"line_color\":{\"value\":\"black\"},\"line_dash\":[4,4],\"line_width\":{\"value\":2},\"plot\":null,\"render_mode\":\"css\",\"right_units\":\"screen\",\"top_units\":\"screen\"},\"id\":\"4102\",\"type\":\"BoxAnnotation\"},{\"attributes\":{\"callback\":null,\"data\":{\"c\":[1421666666666.6667,6584000000000.0,1725266666666.6667,404933333333.3333,438466666666.6667,719600000000.0,1056200000000.0,653866666666.6666,1527933333333.3333,2047133333333.3333,1227600000000.0,8232000000000.0,7951333333333.333,16616666666666.666,2884666666666.6665,591400000000.0,464266666666.6667,19073333333333.332,20481333333333.332,1392466666666.6667,657466666666.6666,731600000000.0,3869333333333.3335,4699333333333.333,652133333333.3334,4177333333333.3335,19372000000000.0,13275333333333.334,2608000000000.0,18997333333333.332,1217600000000.0,926800000000.0,1933466666666.6667,1220066666666.6667,1221066666666.6667,8206666666666.667,3376666666666.6665,4509333333333.333,1208333333333.3333,1933466666666.6667,1221066666666.6667,14828000000000.0,64306666666666.664],\"country\":[\"Russian Federation\",\"China\",\"Brazil\",\"Argentina\",\"Poland\",\"Turkey\",\"Mexico\",\"Indonesia\",\"India\",\"Arab World\",\"Central Europe and the Baltics\",\"East Asia & Pacific (excluding high income)\",\"Early-demographic dividend\",\"East Asia & Pacific\",\"Europe & Central Asia (excluding high income)\",\"Fragile and conflict affected situations\",\"Heavily indebted poor countries (HIPC)\",\"IBRD only\",\"IDA & IBRD total\",\"IDA total\",\"IDA blend\",\"IDA only\",\"Latin America & Caribbean (excluding high income)\",\"Latin America & Caribbean\",\"Least developed countries: UN classification\",\"Lower middle income\",\"Low & middle income\",\"Late-demographic dividend\",\"Middle East & North Africa\",\"Middle income\",\"Middle East & North Africa (excluding high income)\",\"Pre-demographic dividend\",\"South Asia\",\"Sub-Saharan Africa (excluding high income)\",\"Sub-Saharan Africa\",\"East Asia & Pacific (IDA & IBRD countries)\",\"Europe & Central Asia (IDA & IBRD countries)\",\"Latin America & the Caribbean (IDA & IBRD countries)\",\"Middle East & North Africa (IDA & IBRD countries)\",\"South Asia (IDA & IBRD)\",\"Sub-Saharan Africa (IDA & IBRD countries)\",\"Upper middle income\",\"World\"],\"x\":[1.0468851908377101,1.4502491083193612,1.9161379831071752,1.4125805348549276,1.6254594452030173,0.8450980400142568,0.9242792860618817,1.6508900778563125,1.493876110852823,1.4174903556298613,1.313332990624795,1.6203804067461145,1.677371873527108,1.543107450512011,1.3507917909172642,1.6779825512748712,1.5878396399538224,1.6192257835452473,1.5927512762588523,1.567618557127685,1.576774349275635,1.5653923731299817,1.8048672851850727,1.7110903303703175,1.637714083896013,1.5783223930166734,1.607466949446089,1.3567967914523142,1.3868151895931013,1.6113396513831781,1.4113248300983101,1.6197130129690627,1.3737655565390983,1.6312125167648461,1.6293251278929,1.612191564830096,1.364504906505121,1.7323166323161998,1.358826548429064,1.3737655565390983,1.6293251278929,1.6386963777981791,1.527810598941708],\"y\":[-8.529858811572389,-9.311579096652695,-9.091038517039856,-9.176019764367577,-9.443279495849152,-9.85276978089087,-10.21083280650962,-10.36833116677644,-10.861885110816559,\"NaN\",\"NaN\",\"NaN\",\"NaN\",\"NaN\",\"NaN\",\"NaN\",\"NaN\",\"NaN\",\"NaN\",\"NaN\",\"NaN\",\"NaN\",\"NaN\",\"NaN\",\"NaN\",\"NaN\",\"NaN\",\"NaN\",\"NaN\",\"NaN\",\"NaN\",\"NaN\",\"NaN\",\"NaN\",\"NaN\",\"NaN\",\"NaN\",\"NaN\",\"NaN\",\"NaN\",\"NaN\",\"NaN\",\"NaN\"]},\"selected\":{\"id\":\"4279\",\"type\":\"Selection\"},\"selection_policy\":{\"id\":\"4280\",\"type\":\"UnionRenderers\"}},\"id\":\"4072\",\"type\":\"ColumnDataSource\"},{\"attributes\":{},\"id\":\"4151\",\"type\":\"ResetTool\"},{\"attributes\":{\"plot\":null,\"text\":\"Number of entities offshore vs days to open a business (Major developing countries)\",\"text_color\":{\"value\":\"grey\"},\"text_font_size\":{\"value\":\"11pt\"},\"text_font_style\":\"normal\"},\"id\":\"4073\",\"type\":\"Title\"},{\"attributes\":{\"callback\":null,\"data\":{\"x\":{\"__ndarray__\":\"8giVrwrA8D+djrRoODT3P3gZQU2AqP4/jLACDO6Z9j+y8GHD4QH6Pz/MeAsLC+s/PTFAJ7KT7T+q8Nq2C2r6P3s3BqPq5vc/\",\"dtype\":\"float64\",\"shape\":[9]},\"y\":{\"__ndarray__\":\"u9eX4j1UI8A5vFsrwUojwEjBNfvLPyPATjRE+qNLI8DPqn8zokYjwD/uWuD8WCPAZMQvHSBXI8CBYVYUCUYjwGymCXy6SSPA\",\"dtype\":\"float64\",\"shape\":[9]}},\"selected\":{\"id\":\"4281\",\"type\":\"Selection\"},\"selection_policy\":{\"id\":\"4282\",\"type\":\"UnionRenderers\"}},\"id\":\"4116\",\"type\":\"ColumnDataSource\"},{\"attributes\":{\"high\":64306666666666.664,\"low\":404933333333.3333,\"palette\":[\"#0072B2\",\"#E69F00\",\"#F0E442\",\"#009E73\"]},\"id\":\"4071\",\"type\":\"LogColorMapper\"},{\"attributes\":{\"bottom_units\":\"screen\",\"fill_alpha\":{\"value\":0.5},\"fill_color\":{\"value\":\"lightgrey\"},\"left_units\":\"screen\",\"level\":\"overlay\",\"line_alpha\":{\"value\":1.0},\"line_color\":{\"value\":\"black\"},\"line_dash\":[4,4],\"line_width\":{\"value\":2},\"plot\":null,\"render_mode\":\"css\",\"right_units\":\"screen\",\"top_units\":\"screen\"},\"id\":\"4155\",\"type\":\"BoxAnnotation\"},{\"attributes\":{\"callback\":null,\"renderers\":[{\"id\":\"4119\",\"type\":\"GlyphRenderer\"}],\"tooltips\":[[\"Set of Country\",\"Developing countries\"]]},\"id\":\"4121\",\"type\":\"HoverTool\"},{\"attributes\":{},\"id\":\"4150\",\"type\":\"SaveTool\"},{\"attributes\":{\"active_drag\":\"auto\",\"active_inspect\":\"auto\",\"active_multi\":null,\"active_scroll\":\"auto\",\"active_tap\":\"auto\",\"tools\":[{\"id\":\"4147\",\"type\":\"PanTool\"},{\"id\":\"4148\",\"type\":\"WheelZoomTool\"},{\"id\":\"4149\",\"type\":\"BoxZoomTool\"},{\"id\":\"4150\",\"type\":\"SaveTool\"},{\"id\":\"4151\",\"type\":\"ResetTool\"},{\"id\":\"4152\",\"type\":\"HelpTool\"}]},\"id\":\"4153\",\"type\":\"Toolbar\"},{\"attributes\":{\"plot\":null,\"text\":\"Real GDP Legend Bar (USD)\"},\"id\":\"4126\",\"type\":\"Title\"},{\"attributes\":{\"axis_label\":\"Number of Entities Offshore (log scale)\",\"formatter\":{\"id\":\"4273\",\"type\":\"BasicTickFormatter\"},\"plot\":{\"id\":\"4074\",\"subtype\":\"Figure\",\"type\":\"Plot\"},\"ticker\":{\"id\":\"4090\",\"type\":\"BasicTicker\"}},\"id\":\"4089\",\"type\":\"LinearAxis\"},{\"attributes\":{\"below\":[{\"id\":\"4084\",\"type\":\"LinearAxis\"}],\"left\":[{\"id\":\"4089\",\"type\":\"LinearAxis\"}],\"plot_height\":800,\"plot_width\":800,\"renderers\":[{\"id\":\"4084\",\"type\":\"LinearAxis\"},{\"id\":\"4088\",\"type\":\"Grid\"},{\"id\":\"4089\",\"type\":\"LinearAxis\"},{\"id\":\"4093\",\"type\":\"Grid\"},{\"id\":\"4102\",\"type\":\"BoxAnnotation\"},{\"id\":\"4112\",\"type\":\"GlyphRenderer\"},{\"id\":\"4119\",\"type\":\"GlyphRenderer\"},{\"id\":\"4124\",\"type\":\"ColorBar\"}],\"right\":[{\"id\":\"4124\",\"type\":\"ColorBar\"}],\"title\":{\"id\":\"4073\",\"type\":\"Title\"},\"toolbar\":{\"id\":\"4100\",\"type\":\"Toolbar\"},\"toolbar_location\":null,\"x_range\":{\"id\":\"4076\",\"type\":\"DataRange1d\"},\"x_scale\":{\"id\":\"4080\",\"type\":\"LinearScale\"},\"y_range\":{\"id\":\"4078\",\"type\":\"DataRange1d\"},\"y_scale\":{\"id\":\"4082\",\"type\":\"LinearScale\"}},\"id\":\"4074\",\"subtype\":\"Figure\",\"type\":\"Plot\"},{\"attributes\":{\"below\":[{\"id\":\"4137\",\"type\":\"LinearAxis\"}],\"left\":[{\"id\":\"4142\",\"type\":\"LinearAxis\"}],\"min_border\":null,\"outline_line_color\":{\"value\":null},\"plot_height\":511,\"plot_width\":35,\"renderers\":[{\"id\":\"4137\",\"type\":\"LinearAxis\"},{\"id\":\"4141\",\"type\":\"Grid\"},{\"id\":\"4142\",\"type\":\"LinearAxis\"},{\"id\":\"4146\",\"type\":\"Grid\"},{\"id\":\"4155\",\"type\":\"BoxAnnotation\"}],\"title\":{\"id\":\"4126\",\"type\":\"Title\"},\"title_location\":\"right\",\"toolbar\":{\"id\":\"4153\",\"type\":\"Toolbar\"},\"toolbar_location\":null,\"x_range\":{\"id\":\"4129\",\"type\":\"DataRange1d\"},\"x_scale\":{\"id\":\"4133\",\"type\":\"LinearScale\"},\"y_range\":{\"id\":\"4131\",\"type\":\"DataRange1d\"},\"y_scale\":{\"id\":\"4135\",\"type\":\"LinearScale\"}},\"id\":\"4127\",\"subtype\":\"Figure\",\"type\":\"Plot\"},{\"attributes\":{},\"id\":\"4152\",\"type\":\"HelpTool\"},{\"attributes\":{\"data_source\":{\"id\":\"4116\",\"type\":\"ColumnDataSource\"},\"glyph\":{\"id\":\"4117\",\"type\":\"Line\"},\"hover_glyph\":null,\"muted_glyph\":null,\"nonselection_glyph\":{\"id\":\"4118\",\"type\":\"Line\"},\"selection_glyph\":null,\"view\":{\"id\":\"4120\",\"type\":\"CDSView\"}},\"id\":\"4119\",\"type\":\"GlyphRenderer\"},{\"attributes\":{},\"id\":\"4094\",\"type\":\"PanTool\"},{\"attributes\":{\"fill_alpha\":{\"value\":0.1},\"fill_color\":{\"value\":\"#1f77b4\"},\"line_alpha\":{\"value\":0.1},\"line_color\":{\"value\":\"#1f77b4\"},\"radius\":{\"units\":\"data\",\"value\":0.01},\"x\":{\"field\":\"x\"},\"y\":{\"field\":\"y\"}},\"id\":\"4111\",\"type\":\"Circle\"},{\"attributes\":{},\"id\":\"4080\",\"type\":\"LinearScale\"},{\"attributes\":{\"fill_alpha\":{\"value\":0.5},\"fill_color\":{\"field\":\"c\",\"transform\":{\"id\":\"4071\",\"type\":\"LogColorMapper\"}},\"line_alpha\":{\"value\":0.5},\"line_color\":{\"field\":\"c\",\"transform\":{\"id\":\"4071\",\"type\":\"LogColorMapper\"}},\"radius\":{\"units\":\"data\",\"value\":0.01},\"x\":{\"field\":\"x\"},\"y\":{\"field\":\"y\"}},\"id\":\"4110\",\"type\":\"Circle\"},{\"attributes\":{\"plot\":{\"id\":\"4127\",\"subtype\":\"Figure\",\"type\":\"Plot\"},\"ticker\":{\"id\":\"4138\",\"type\":\"BasicTicker\"}},\"id\":\"4141\",\"type\":\"Grid\"},{\"attributes\":{\"overlay\":{\"id\":\"4155\",\"type\":\"BoxAnnotation\"}},\"id\":\"4149\",\"type\":\"BoxZoomTool\"},{\"attributes\":{},\"id\":\"4148\",\"type\":\"WheelZoomTool\"},{\"attributes\":{},\"id\":\"4085\",\"type\":\"BasicTicker\"},{\"attributes\":{\"plot\":{\"id\":\"4074\",\"subtype\":\"Figure\",\"type\":\"Plot\"},\"ticker\":{\"id\":\"4085\",\"type\":\"BasicTicker\"}},\"id\":\"4088\",\"type\":\"Grid\"},{\"attributes\":{},\"id\":\"4147\",\"type\":\"PanTool\"},{\"attributes\":{},\"id\":\"4280\",\"type\":\"UnionRenderers\"},{\"attributes\":{\"callback\":null},\"id\":\"4078\",\"type\":\"DataRange1d\"},{\"attributes\":{},\"id\":\"4278\",\"type\":\"BasicTickFormatter\"},{\"attributes\":{\"callback\":null},\"id\":\"4129\",\"type\":\"DataRange1d\"},{\"attributes\":{\"dimension\":1,\"plot\":{\"id\":\"4074\",\"subtype\":\"Figure\",\"type\":\"Plot\"},\"ticker\":{\"id\":\"4090\",\"type\":\"BasicTicker\"}},\"id\":\"4093\",\"type\":\"Grid\"},{\"attributes\":{\"source\":{\"id\":\"4072\",\"type\":\"ColumnDataSource\"}},\"id\":\"4113\",\"type\":\"CDSView\"},{\"attributes\":{},\"id\":\"4097\",\"type\":\"SaveTool\"},{\"attributes\":{\"line_alpha\":0.1,\"line_color\":\"#1f77b4\",\"line_width\":4,\"x\":{\"field\":\"x\"},\"y\":{\"field\":\"y\"}},\"id\":\"4118\",\"type\":\"Line\"},{\"attributes\":{},\"id\":\"4133\",\"type\":\"LinearScale\"},{\"attributes\":{\"dimension\":1,\"plot\":{\"id\":\"4127\",\"subtype\":\"Figure\",\"type\":\"Plot\"},\"ticker\":{\"id\":\"4143\",\"type\":\"BasicTicker\"}},\"id\":\"4146\",\"type\":\"Grid\"},{\"attributes\":{},\"id\":\"4279\",\"type\":\"Selection\"},{\"attributes\":{},\"id\":\"4135\",\"type\":\"LinearScale\"},{\"attributes\":{},\"id\":\"4276\",\"type\":\"BasicTickFormatter\"},{\"attributes\":{},\"id\":\"4090\",\"type\":\"BasicTicker\"},{\"attributes\":{},\"id\":\"4098\",\"type\":\"ResetTool\"},{\"attributes\":{},\"id\":\"4123\",\"type\":\"LogTicker\"},{\"attributes\":{\"callback\":null,\"renderers\":[{\"id\":\"4112\",\"type\":\"GlyphRenderer\"}],\"tooltips\":[[\"Country\",\"@country\"],[\"(Tax Rate, Log(number of entities offshore))\",\"($x, $y)\"]]},\"id\":\"4114\",\"type\":\"HoverTool\"},{\"attributes\":{},\"id\":\"4099\",\"type\":\"HelpTool\"},{\"attributes\":{\"color_mapper\":{\"id\":\"4071\",\"type\":\"LogColorMapper\"},\"formatter\":{\"id\":\"4274\",\"type\":\"BasicTickFormatter\"},\"label_standoff\":12,\"location\":[0,0],\"plot\":{\"id\":\"4074\",\"subtype\":\"Figure\",\"type\":\"Plot\"},\"ticker\":{\"id\":\"4123\",\"type\":\"LogTicker\"}},\"id\":\"4124\",\"type\":\"ColorBar\"},{\"attributes\":{\"data_source\":{\"id\":\"4072\",\"type\":\"ColumnDataSource\"},\"glyph\":{\"id\":\"4110\",\"type\":\"Circle\"},\"hover_glyph\":null,\"muted_glyph\":null,\"nonselection_glyph\":{\"id\":\"4111\",\"type\":\"Circle\"},\"selection_glyph\":null,\"view\":{\"id\":\"4113\",\"type\":\"CDSView\"}},\"id\":\"4112\",\"type\":\"GlyphRenderer\"},{\"attributes\":{\"line_alpha\":0.1,\"line_color\":\"navy\",\"line_width\":4,\"x\":{\"field\":\"x\"},\"y\":{\"field\":\"y\"}},\"id\":\"4117\",\"type\":\"Line\"},{\"attributes\":{\"callback\":null},\"id\":\"4131\",\"type\":\"DataRange1d\"},{\"attributes\":{},\"id\":\"4282\",\"type\":\"UnionRenderers\"},{\"attributes\":{},\"id\":\"4138\",\"type\":\"BasicTicker\"},{\"attributes\":{},\"id\":\"4281\",\"type\":\"Selection\"},{\"attributes\":{\"formatter\":{\"id\":\"4276\",\"type\":\"BasicTickFormatter\"},\"plot\":{\"id\":\"4127\",\"subtype\":\"Figure\",\"type\":\"Plot\"},\"ticker\":{\"id\":\"4138\",\"type\":\"BasicTicker\"}},\"id\":\"4137\",\"type\":\"LinearAxis\"},{\"attributes\":{\"callback\":null},\"id\":\"4076\",\"type\":\"DataRange1d\"},{\"attributes\":{},\"id\":\"4143\",\"type\":\"BasicTicker\"},{\"attributes\":{},\"id\":\"4271\",\"type\":\"BasicTickFormatter\"},{\"attributes\":{\"formatter\":{\"id\":\"4278\",\"type\":\"BasicTickFormatter\"},\"plot\":{\"id\":\"4127\",\"subtype\":\"Figure\",\"type\":\"Plot\"},\"ticker\":{\"id\":\"4143\",\"type\":\"BasicTicker\"}},\"id\":\"4142\",\"type\":\"LinearAxis\"},{\"attributes\":{\"overlay\":{\"id\":\"4102\",\"type\":\"BoxAnnotation\"}},\"id\":\"4096\",\"type\":\"BoxZoomTool\"}],\"root_ids\":[\"4163\"]},\"title\":\"Bokeh Application\",\"version\":\"1.0.2\"}};\n",
       "  var render_items = [{\"docid\":\"0cecfc15-8642-4b0b-8ba9-3a18fbc25067\",\"roots\":{\"4163\":\"37e38646-e5bb-4acb-84ef-50a1f646bd3c\"}}];\n",
       "  root.Bokeh.embed.embed_items_notebook(docs_json, render_items);\n",
       "\n",
       "  }\n",
       "  if (root.Bokeh !== undefined) {\n",
       "    embed_document(root);\n",
       "  } else {\n",
       "    var attempts = 0;\n",
       "    var timer = setInterval(function(root) {\n",
       "      if (root.Bokeh !== undefined) {\n",
       "        embed_document(root);\n",
       "        clearInterval(timer);\n",
       "      }\n",
       "      attempts++;\n",
       "      if (attempts > 100) {\n",
       "        console.log(\"Bokeh: ERROR: Unable to run BokehJS code because BokehJS library is missing\");\n",
       "        clearInterval(timer);\n",
       "      }\n",
       "    }, 10, root)\n",
       "  }\n",
       "})(window);"
      ],
      "application/vnd.bokehjs_exec.v0+json": ""
     },
     "metadata": {
      "application/vnd.bokehjs_exec.v0+json": {
       "id": "4163"
      }
     },
     "output_type": "display_data"
    }
   ],
   "source": [
    "selection=country_count_ease_business['GDP_y'].apply(lambda x: x<15000) & country_count_ease_business['GDP_x'].apply(lambda x: x>40*10e9)\n",
    "\n",
    "x = np.log10(country_count_ease_business['days_open_business'][selection])\n",
    "y = np.log10(country_count_ease_business['n_companies_offshore'][selection]/country_count_ease_business['GDP_x'][selection])\n",
    "country_names=country_count_ease_business['Country Name'][selection]\n",
    "c = country_count_ease_business['GDP_x'][selection]\n",
    "c[c.isna()]=0\n",
    "\n",
    "# set the regression line\n",
    "df=pd.DataFrame({'days_open_business':x,'n_companies_offshore':y})\n",
    "df=df.dropna(inplace=False)\n",
    "a=np.array(df['days_open_business'])\n",
    "b=np.array(df['n_companies_offshore'])\n",
    "\n",
    "m,i,r,p,std=stats.linregress(a,b)\n",
    "\n",
    "# establish the color mapper schema\n",
    "color_mapper = LogColorMapper(palette=\"Colorblind4\", low=min(c),\\\n",
    "                              high=max(c))\n",
    "\n",
    "# establish the sources of data to make the interactive graph\n",
    "source=ColumnDataSource(data=dict(\n",
    "    x=list(x),\n",
    "    y=list(y),\n",
    "    country=list(country_names),\n",
    "    c=list(c),\n",
    "))\n",
    "\n",
    "p = figure(title=\"Number of entities offshore vs days to open a business (Major developing countries)\", plot_width=800, plot_height=800)\n",
    "scatter=p.scatter(x='x', y='y', radius=0.01, source=source, color={'field': 'c', 'transform': color_mapper}, alpha=0.5)\n",
    "hover= HoverTool(tooltips = [(\"Country\", \"@country\"),(\"(Tax Rate, Log(number of entities offshore))\", \"($x, $y)\")],renderers=[scatter])\n",
    "p.add_tools(hover)\n",
    "\n",
    "line=p.line(df['days_open_business'], m*df['days_open_business']+i, line_width=4, color='navy', alpha=0.1)\n",
    "hover0=HoverTool(tooltips = [(\"Set of Country\",'Developing countries')], renderers=[line])\n",
    "p.add_tools(hover0)\n",
    "\n",
    "# set the style of the title\n",
    "p.title.text_color = \"grey\"\n",
    "p.title.text_font = \"helvetica\"\n",
    "p.title.text_font_style = \"normal\"\n",
    "p.title.text_font_size = '11pt'\n",
    "\n",
    "# set the label options\n",
    "p.xaxis.axis_label='Days to open a business'\n",
    "p.yaxis.axis_label='Number of Entities Offshore (log scale)'\n",
    "\n",
    "\n",
    "# set the color bar tab\n",
    "color_bar = ColorBar(color_mapper=color_mapper, ticker=LogTicker(),\n",
    "                     label_standoff=12, border_line_color=None, location=(0,0))\n",
    "\n",
    "# set the color bar title\n",
    "color_bar_height = 511\n",
    "color_bar_width = 35\n",
    "\n",
    "color_bar_plot = figure(title=\"Real GDP Legend Bar (USD)\", title_location=\"right\", \n",
    "                        height=color_bar_height, width=color_bar_width, \n",
    "                        toolbar_location=None, min_border=None, \n",
    "                        outline_line_color=None)\n",
    "\n",
    "# add the color bar\n",
    "p.add_layout(color_bar, 'right')\n",
    "\n",
    "# remove the interactive toolbar\n",
    "p.toolbar.logo = None\n",
    "p.toolbar_location = None\n",
    "\n",
    "layout = row_plot(p, color_bar_plot)\n",
    "output_file(\"developingcountriesdaysbusiness.html\", title=\"developingcountriesdaysbusiness\")\n",
    "show(layout)"
   ]
  },
  {
   "cell_type": "markdown",
   "metadata": {},
   "source": [
    "#### Global Perspective"
   ]
  },
  {
   "cell_type": "markdown",
   "metadata": {},
   "source": [
    "Eventually by plotting all the developed countries together it is not possible to find a global clear relationship between number of days to open a business and number of entities in Panama Papers. Hence it can be concludede that the hypothesis established at the beginning of the analysis has been contradicted."
   ]
  },
  {
   "cell_type": "code",
   "execution_count": 59,
   "metadata": {},
   "outputs": [
    {
     "data": {
      "text/html": [
       "\n",
       "\n",
       "\n",
       "\n",
       "\n",
       "\n",
       "  <div class=\"bk-root\" id=\"d5f16213-4def-419d-ace1-2c59e6cbbac9\"></div>\n"
      ]
     },
     "metadata": {},
     "output_type": "display_data"
    },
    {
     "data": {
      "application/javascript": [
       "(function(root) {\n",
       "  function embed_document(root) {\n",
       "    \n",
       "  var docs_json = {\"c1480a8c-1304-4514-a66f-7b47a64e827b\":{\"roots\":{\"references\":[{\"attributes\":{\"children\":[{\"id\":\"4544\",\"subtype\":\"Figure\",\"type\":\"Plot\"},{\"id\":\"4597\",\"subtype\":\"Figure\",\"type\":\"Plot\"}]},\"id\":\"4633\",\"type\":\"Row\"},{\"attributes\":{\"high\":148406.48335999998,\"low\":15400.0,\"palette\":[\"#0072B2\",\"#E69F00\",\"#F0E442\",\"#009E73\"]},\"id\":\"4541\",\"type\":\"LogColorMapper\"},{\"attributes\":{},\"id\":\"4621\",\"type\":\"ResetTool\"},{\"attributes\":{\"source\":{\"id\":\"4586\",\"type\":\"ColumnDataSource\"}},\"id\":\"4590\",\"type\":\"CDSView\"},{\"attributes\":{},\"id\":\"4622\",\"type\":\"HelpTool\"},{\"attributes\":{\"overlay\":{\"id\":\"4625\",\"type\":\"BoxAnnotation\"}},\"id\":\"4619\",\"type\":\"BoxZoomTool\"},{\"attributes\":{},\"id\":\"4618\",\"type\":\"WheelZoomTool\"},{\"attributes\":{\"data_source\":{\"id\":\"4542\",\"type\":\"ColumnDataSource\"},\"glyph\":{\"id\":\"4580\",\"type\":\"Circle\"},\"hover_glyph\":null,\"muted_glyph\":null,\"nonselection_glyph\":{\"id\":\"4581\",\"type\":\"Circle\"},\"selection_glyph\":null,\"view\":{\"id\":\"4583\",\"type\":\"CDSView\"}},\"id\":\"4582\",\"type\":\"GlyphRenderer\"},{\"attributes\":{\"fill_alpha\":{\"value\":0.5},\"fill_color\":{\"field\":\"c\",\"transform\":{\"id\":\"4541\",\"type\":\"LogColorMapper\"}},\"line_alpha\":{\"value\":0.5},\"line_color\":{\"field\":\"c\",\"transform\":{\"id\":\"4541\",\"type\":\"LogColorMapper\"}},\"radius\":{\"field\":\"radii\",\"units\":\"data\"},\"x\":{\"field\":\"x\"},\"y\":{\"field\":\"y\"}},\"id\":\"4580\",\"type\":\"Circle\"},{\"attributes\":{\"data_source\":{\"id\":\"4586\",\"type\":\"ColumnDataSource\"},\"glyph\":{\"id\":\"4587\",\"type\":\"Line\"},\"hover_glyph\":null,\"muted_glyph\":null,\"nonselection_glyph\":{\"id\":\"4588\",\"type\":\"Line\"},\"selection_glyph\":null,\"view\":{\"id\":\"4590\",\"type\":\"CDSView\"}},\"id\":\"4589\",\"type\":\"GlyphRenderer\"},{\"attributes\":{},\"id\":\"4603\",\"type\":\"LinearScale\"},{\"attributes\":{\"active_drag\":\"auto\",\"active_inspect\":\"auto\",\"active_multi\":null,\"active_scroll\":\"auto\",\"active_tap\":\"auto\",\"tools\":[{\"id\":\"4617\",\"type\":\"PanTool\"},{\"id\":\"4618\",\"type\":\"WheelZoomTool\"},{\"id\":\"4619\",\"type\":\"BoxZoomTool\"},{\"id\":\"4620\",\"type\":\"SaveTool\"},{\"id\":\"4621\",\"type\":\"ResetTool\"},{\"id\":\"4622\",\"type\":\"HelpTool\"}]},\"id\":\"4623\",\"type\":\"Toolbar\"},{\"attributes\":{\"bottom_units\":\"screen\",\"fill_alpha\":{\"value\":0.5},\"fill_color\":{\"value\":\"lightgrey\"},\"left_units\":\"screen\",\"level\":\"overlay\",\"line_alpha\":{\"value\":1.0},\"line_color\":{\"value\":\"black\"},\"line_dash\":[4,4],\"line_width\":{\"value\":2},\"plot\":null,\"render_mode\":\"css\",\"right_units\":\"screen\",\"top_units\":\"screen\"},\"id\":\"4625\",\"type\":\"BoxAnnotation\"},{\"attributes\":{},\"id\":\"4593\",\"type\":\"LogTicker\"},{\"attributes\":{\"line_alpha\":0.1,\"line_color\":\"#1f77b4\",\"line_width\":4,\"x\":{\"field\":\"x\"},\"y\":{\"field\":\"y\"}},\"id\":\"4588\",\"type\":\"Line\"},{\"attributes\":{\"formatter\":{\"id\":\"4763\",\"type\":\"BasicTickFormatter\"},\"plot\":{\"id\":\"4597\",\"subtype\":\"Figure\",\"type\":\"Plot\"},\"ticker\":{\"id\":\"4608\",\"type\":\"BasicTicker\"}},\"id\":\"4607\",\"type\":\"LinearAxis\"},{\"attributes\":{},\"id\":\"4550\",\"type\":\"LinearScale\"},{\"attributes\":{},\"id\":\"4763\",\"type\":\"BasicTickFormatter\"},{\"attributes\":{\"callback\":null},\"id\":\"4546\",\"type\":\"DataRange1d\"},{\"attributes\":{\"source\":{\"id\":\"4542\",\"type\":\"ColumnDataSource\"}},\"id\":\"4583\",\"type\":\"CDSView\"},{\"attributes\":{\"callback\":null},\"id\":\"4548\",\"type\":\"DataRange1d\"},{\"attributes\":{},\"id\":\"4613\",\"type\":\"BasicTicker\"},{\"attributes\":{},\"id\":\"4765\",\"type\":\"BasicTickFormatter\"},{\"attributes\":{},\"id\":\"4620\",\"type\":\"SaveTool\"},{\"attributes\":{},\"id\":\"4766\",\"type\":\"Selection\"},{\"attributes\":{},\"id\":\"4552\",\"type\":\"LinearScale\"},{\"attributes\":{\"plot\":null,\"text\":\"Real GDP per capita Legend Bar (USD)\"},\"id\":\"4596\",\"type\":\"Title\"},{\"attributes\":{},\"id\":\"4567\",\"type\":\"SaveTool\"},{\"attributes\":{},\"id\":\"4760\",\"type\":\"BasicTickFormatter\"},{\"attributes\":{},\"id\":\"4767\",\"type\":\"UnionRenderers\"},{\"attributes\":{\"axis_label\":\"Days to open a business\",\"formatter\":{\"id\":\"4758\",\"type\":\"BasicTickFormatter\"},\"plot\":{\"id\":\"4544\",\"subtype\":\"Figure\",\"type\":\"Plot\"},\"ticker\":{\"id\":\"4555\",\"type\":\"BasicTicker\"}},\"id\":\"4554\",\"type\":\"LinearAxis\"},{\"attributes\":{\"color_mapper\":{\"id\":\"4541\",\"type\":\"LogColorMapper\"},\"formatter\":{\"id\":\"4761\",\"type\":\"BasicTickFormatter\"},\"label_standoff\":12,\"location\":[0,0],\"plot\":{\"id\":\"4544\",\"subtype\":\"Figure\",\"type\":\"Plot\"},\"ticker\":{\"id\":\"4593\",\"type\":\"LogTicker\"}},\"id\":\"4594\",\"type\":\"ColorBar\"},{\"attributes\":{},\"id\":\"4617\",\"type\":\"PanTool\"},{\"attributes\":{\"below\":[{\"id\":\"4554\",\"type\":\"LinearAxis\"}],\"left\":[{\"id\":\"4559\",\"type\":\"LinearAxis\"}],\"plot_height\":800,\"plot_width\":800,\"renderers\":[{\"id\":\"4554\",\"type\":\"LinearAxis\"},{\"id\":\"4558\",\"type\":\"Grid\"},{\"id\":\"4559\",\"type\":\"LinearAxis\"},{\"id\":\"4563\",\"type\":\"Grid\"},{\"id\":\"4572\",\"type\":\"BoxAnnotation\"},{\"id\":\"4582\",\"type\":\"GlyphRenderer\"},{\"id\":\"4589\",\"type\":\"GlyphRenderer\"},{\"id\":\"4594\",\"type\":\"ColorBar\"}],\"right\":[{\"id\":\"4594\",\"type\":\"ColorBar\"}],\"title\":{\"id\":\"4543\",\"type\":\"Title\"},\"toolbar\":{\"id\":\"4570\",\"type\":\"Toolbar\"},\"toolbar_location\":null,\"x_range\":{\"id\":\"4546\",\"type\":\"DataRange1d\"},\"x_scale\":{\"id\":\"4550\",\"type\":\"LinearScale\"},\"y_range\":{\"id\":\"4548\",\"type\":\"DataRange1d\"},\"y_scale\":{\"id\":\"4552\",\"type\":\"LinearScale\"}},\"id\":\"4544\",\"subtype\":\"Figure\",\"type\":\"Plot\"},{\"attributes\":{},\"id\":\"4768\",\"type\":\"Selection\"},{\"attributes\":{\"callback\":null,\"data\":{\"c\":[34139.40517133333,72018.65437666667,59422.543726,100087.83314133335,42089.915140666664,39757.577518000006,29218.051776,65308.38069692308,44514.55255866667,27664.74357333333,148406.48335999998,49764.76171266667,136708.2832623077,92843.0,28837.613580666664,34200.0,15433.345880666666,20952.267600000003,29813.538158,40705.07343933333,43641.797792,34121.00105666667,54731.376007333325,39053.13763533334,20890.234439999997,23439.961054,47799.616809333325,41345.20783333333,84080.9525725,61454.453850000005,18780.275228999995,48650.63502733333,34351.70849666666,44990.741085333335,38738.524536,42371.086257999996,51225.98508066667,17885.757813533335,15598.824366666666,24371.613246,67222.99931133333,54857.40289799999,39495.30974066667,45337.413664666674,22043.319871333333,51894.66819999999,81474.63766466668,55580.77363533333,21083.044485333336,23614.7,22674.086322666666,16187.456759733333,37851.61739461539,16797.731021066666,33225.774994666666,29936.964220714286,25675.560012857146,15400.0,15635.492743466664,22789.411886666665,36284.8802,32979.10055133333,45708.10021307693,41742.81313000001,37487.459001333336,16270.95105,49161.402510666674,35162.51762399999,38759.095045999995,63952.17019533333],\"country\":[\"Hong Kong SAR, China\",\"Switzerland\",\"Channel Islands\",\"Luxembourg\",\"United Kingdom\",\"United Arab Emirates\",\"Bahamas, The\",\"Isle of Man\",\"Singapore\",\"Cyprus\",\"Monaco\",\"United States\",\"Liechtenstein\",\"Gibraltar\",\"Spain\",\"British Virgin Islands\",\"Estonia\",\"Malta\",\"Israel\",\"Andorra\",\"Canada\",\"Italy\",\"Ireland\",\"France\",\"Portugal\",\"Greece\",\"Netherlands\",\"Germany\",\"Bermuda\",\"Cayman Islands\",\"Saudi Arabia\",\"Australia\",\"New Zealand\",\"Finland\",\"Kuwait\",\"Belgium\",\"Sweden\",\"Czech Republic\",\"Barbados\",\"Aruba\",\"Qatar\",\"Macao SAR, China\",\"Japan\",\"Austria\",\"Slovenia\",\"Iceland\",\"Norway\",\"Denmark\",\"Bahrain\",\"Turks and Caicos Islands\",\"Korea, Rep.\",\"Trinidad and Tobago\",\"Virgin Islands (U.S.)\",\"Oman\",\"Brunei Darussalam\",\"Guam\",\"Puerto Rico\",\"Sint Maarten (Dutch part)\",\"Slovak Republic\",\"Europe & Central Asia\",\"Euro area\",\"European Union\",\"Faroe Islands\",\"Greenland\",\"High income\",\"Northern Mariana Islands\",\"North America\",\"OECD members\",\"Post-demographic dividend\",\"San Marino\"],\"radii\":[0.00242,0.005693333333333334,9.1807879548e-05,0.0005192631467413333,0.02642,0.0029393333333333333,0.00010487996,5.216143943461538e-05,0.0022713342517126666,0.000223948112652,5.3019315456e-05,0.1542,4.9221732366923076e-05,2.288e-05,0.013178,8.5e-06,0.00020522609297333333,8.885728832533333e-05,0.0023206666666666666,3.274307831133333e-05,0.014928,0.020213333333333333,0.0024646666666666667,0.025386666666666665,0.0021886666666666665,0.0025766666666666668,0.007952666666666667,0.0338,5.418704083333333e-05,3.3435162565e-05,0.005310666666666667,0.010883333333333333,0.0015108339237,0.002416,0.0011894092618106667,0.004626666666666667,0.004834666666666667,0.0018650847601826665,4.3605330653999996e-05,2.4484849163000002e-05,0.00121546062271,0.00030812990994333333,0.05042,0.003818666666666667,0.00044952051246333334,0.00016469675328666667,0.004010666666666667,0.003088,0.0002525533104613333,7.97e-06,0.011284,0.000215629590588,4.098230769230769e-05,0.0005584873862146667,0.0001304916189,4.784571428571428e-05,0.0009416219659285715,7.947e-06,0.000844086741296,0.20293333333333333,0.12149333333333334,0.166,2.2190485353076925e-05,2.3611672167857142e-05,0.44933333333333336,9.470714285714285e-06,0.1692,0.43826666666666664,0.41673333333333334,1.9770817654e-05],\"x\":[0.7650295730617386,1.1962946451439682,\"NaN\",1.2825465899699682,0.9760878425945886,1.125481265700594,1.4065401804339552,\"NaN\",0.5614421404196983,0.8808135922807914,\"NaN\",0.7573960287930243,\"NaN\",\"NaN\",1.6586926430429243,\"NaN\",1.1602969918724493,1.4953460748258616,1.2249398265934983,\"NaN\",0.6097468199942534,0.9661417327390326,1.0469965626762237,0.7703259128716871,1.1371731930253115,1.3258966620220434,0.8032619709666747,1.2448070714251411,\"NaN\",\"NaN\",1.5312051157416637,0.422073688388757,0.578147833922551,1.146128035678238,1.559393577744429,0.9968867645758571,1.148338190483355,1.2852357284807492,1.234083206033368,\"NaN\",0.9233382358954043,\"NaN\",1.0884904701823963,1.380211241711606,1.3776184311333264,0.8338753359055083,0.8269998179214606,0.7596678446896304,0.9697546756175723,\"NaN\",1.0122344564170116,1.5270347050514952,\"NaN\",1.2446304930604792,1.943659364828903,\"NaN\",0.8081144737610869,\"NaN\",1.3177649533076692,1.2754227606205193,1.241170513211951,1.2482288696953296,\"NaN\",\"NaN\",1.2698708808385115,\"NaN\",0.6569875192117889,1.172667706204933,1.241897964049632,1.4135791429792126],\"y\":[4.578765240209975,4.578765240209975,4.335618349377605,4.035029282202368,3.9831299247347003,3.8614746688571686,3.697578033651113,3.689486448364248,3.610766594773271,3.5578679615680224,3.500785172917456,3.4865721505183562,3.315130317183602,3.30941722577814,3.0666985504229953,3.044147620878723,2.9444826721501687,2.829946695941636,2.821513528404773,2.6893088591236203,2.5403294747908736,2.5390760987927767,2.507855871695831,2.45484486000851,2.385606273598312,2.346352974450639,2.247973266361807,2.2380461031287955,2.2174839442139063,2.0253058652647704,2.0253058652647704,1.9731278535996986,1.863322860120456,1.8129133566428555,1.7781512503836436,1.7708520116421442,1.7403626894942439,1.5314789170422551,1.5314789170422551,1.4313637641589874,1.4313637641589874,1.3979400086720377,1.380211241711606,1.380211241711606,1.3222192947339193,1.1760912590556813,1.146128035678238,1.146128035678238,1.1139433523068367,1.0791812460476249,0.9030899869919435,0.7781512503836436,0.6020599913279624,0.3010299956639812,0.0,0.0,0.0,0.0,0.0,\"NaN\",\"NaN\",\"NaN\",\"NaN\",\"NaN\",\"NaN\",\"NaN\",\"NaN\",\"NaN\",\"NaN\",\"NaN\"]},\"selected\":{\"id\":\"4766\",\"type\":\"Selection\"},\"selection_policy\":{\"id\":\"4767\",\"type\":\"UnionRenderers\"}},\"id\":\"4542\",\"type\":\"ColumnDataSource\"},{\"attributes\":{},\"id\":\"4605\",\"type\":\"LinearScale\"},{\"attributes\":{},\"id\":\"4555\",\"type\":\"BasicTicker\"},{\"attributes\":{\"plot\":{\"id\":\"4597\",\"subtype\":\"Figure\",\"type\":\"Plot\"},\"ticker\":{\"id\":\"4608\",\"type\":\"BasicTicker\"}},\"id\":\"4611\",\"type\":\"Grid\"},{\"attributes\":{},\"id\":\"4769\",\"type\":\"UnionRenderers\"},{\"attributes\":{},\"id\":\"4758\",\"type\":\"BasicTickFormatter\"},{\"attributes\":{\"axis_label\":\"Number of Entities Offshore (log scale)\",\"formatter\":{\"id\":\"4760\",\"type\":\"BasicTickFormatter\"},\"plot\":{\"id\":\"4544\",\"subtype\":\"Figure\",\"type\":\"Plot\"},\"ticker\":{\"id\":\"4560\",\"type\":\"BasicTicker\"}},\"id\":\"4559\",\"type\":\"LinearAxis\"},{\"attributes\":{\"bottom_units\":\"screen\",\"fill_alpha\":{\"value\":0.5},\"fill_color\":{\"value\":\"lightgrey\"},\"left_units\":\"screen\",\"level\":\"overlay\",\"line_alpha\":{\"value\":1.0},\"line_color\":{\"value\":\"black\"},\"line_dash\":[4,4],\"line_width\":{\"value\":2},\"plot\":null,\"render_mode\":\"css\",\"right_units\":\"screen\",\"top_units\":\"screen\"},\"id\":\"4572\",\"type\":\"BoxAnnotation\"},{\"attributes\":{\"plot\":{\"id\":\"4544\",\"subtype\":\"Figure\",\"type\":\"Plot\"},\"ticker\":{\"id\":\"4555\",\"type\":\"BasicTicker\"}},\"id\":\"4558\",\"type\":\"Grid\"},{\"attributes\":{\"formatter\":{\"id\":\"4765\",\"type\":\"BasicTickFormatter\"},\"plot\":{\"id\":\"4597\",\"subtype\":\"Figure\",\"type\":\"Plot\"},\"ticker\":{\"id\":\"4613\",\"type\":\"BasicTicker\"}},\"id\":\"4612\",\"type\":\"LinearAxis\"},{\"attributes\":{\"dimension\":1,\"plot\":{\"id\":\"4544\",\"subtype\":\"Figure\",\"type\":\"Plot\"},\"ticker\":{\"id\":\"4560\",\"type\":\"BasicTicker\"}},\"id\":\"4563\",\"type\":\"Grid\"},{\"attributes\":{},\"id\":\"4761\",\"type\":\"BasicTickFormatter\"},{\"attributes\":{},\"id\":\"4568\",\"type\":\"ResetTool\"},{\"attributes\":{},\"id\":\"4569\",\"type\":\"HelpTool\"},{\"attributes\":{},\"id\":\"4560\",\"type\":\"BasicTicker\"},{\"attributes\":{},\"id\":\"4608\",\"type\":\"BasicTicker\"},{\"attributes\":{\"callback\":null,\"renderers\":[{\"id\":\"4582\",\"type\":\"GlyphRenderer\"}],\"tooltips\":[[\"Country\",\"@country\"],[\"(Tax Rate, Log(number of entities offshore))\",\"($x, $y)\"]]},\"id\":\"4584\",\"type\":\"HoverTool\"},{\"attributes\":{\"callback\":null,\"renderers\":[{\"id\":\"4589\",\"type\":\"GlyphRenderer\"}],\"tooltips\":[[\"Set of Country\",\"Trend in all developed countries, p-vaue=0.279\"]]},\"id\":\"4591\",\"type\":\"HoverTool\"},{\"attributes\":{\"active_drag\":\"auto\",\"active_inspect\":\"auto\",\"active_multi\":null,\"active_scroll\":\"auto\",\"active_tap\":\"auto\",\"logo\":null,\"tools\":[{\"id\":\"4564\",\"type\":\"PanTool\"},{\"id\":\"4565\",\"type\":\"WheelZoomTool\"},{\"id\":\"4566\",\"type\":\"BoxZoomTool\"},{\"id\":\"4567\",\"type\":\"SaveTool\"},{\"id\":\"4568\",\"type\":\"ResetTool\"},{\"id\":\"4569\",\"type\":\"HelpTool\"},{\"id\":\"4584\",\"type\":\"HoverTool\"},{\"id\":\"4591\",\"type\":\"HoverTool\"}]},\"id\":\"4570\",\"type\":\"Toolbar\"},{\"attributes\":{\"callback\":null,\"data\":{\"x\":{\"__ndarray__\":\"f7yYTB976D9PX5TaBSTzPwFHuJJPhfQ/SfE+khw87z+lHcek+AHyP5eUt0YwgfY/7lz2gVX34T8g/Jb8ny/sP3spuZiWPOg/OcP/SwGK+j9e1BuUk5DyP8RDeQHw7Pc/f5fsgFqZ8z/h41bDC4PjPwFHLRGi6u4/L4C7d3/A8D+ecmGHgqboP97nnoTcMfI/8ykUa9829T8NhO1yUrTpP7ib2dG66vM/4kB579B/+D+DbwhcQQPbP0hr3uIvgOI/n0TkWYpW8j97EyCuRvP4P9NkdRJ/5u8/M/vN3Zdf8j/em9dWU5D0P19MJwjOvvM/pCXKoPyL7T+QDrf7dGrxP/6QC2JYFfY/+FnBn7kK9j8t9xRUG6/qP/yoeFLIduo//3iY8DJP6D8+dR31OgjvP14g48EcMvA/0dlg8btu+D8ryfSpAerzP34R6I86Gf8/v0yH4hLc6T+uVyS0kBX1Pw==\",\"dtype\":\"float64\",\"shape\":[44]},\"y\":{\"__ndarray__\":\"qYFl0uTQAkAKhA5fDK4AQAC4eDquQABA+qyicUXFAUAkBwMF1wcBQMS1y6DpRv8/1GenGQvTA0CGWoxOFD4CQKNN3LyS2gJAgPbYy3PH/D9R2AWHsdsAQE6G60WzZf4/aTd55LmJAEAPvoT5ypUDQHgr+gni0QFANPfi2FtrAUB4CEyVLcoCQFhbe7cD+QBAbr2HabYJAEA8iXY/aqACQK/uMs+IcABAxJZS88IK/j/xVZRUw4MEQN+V2kjcvQNAWG5O5ajtAEBjBc2ARsP9P62lHu7lqgFATBXAddvqAEBctm9PRT0AQOzU6t4hfgBAUU+YbigIAkCsy/WOvjYBQLImEdeuif8/qjt2I0KQ/z+7OxvhmHkCQE4gsbtQggJA2sJGSbHXAkDZjO0+Tc0BQEx9Ee9vlwFAdH5qdFYV/j9EINYgwnAAQG9yLV7G9Pk/WlkoFUOaAkCa5mMJBhQAQA==\",\"dtype\":\"float64\",\"shape\":[44]}},\"selected\":{\"id\":\"4768\",\"type\":\"Selection\"},\"selection_policy\":{\"id\":\"4769\",\"type\":\"UnionRenderers\"}},\"id\":\"4586\",\"type\":\"ColumnDataSource\"},{\"attributes\":{\"callback\":null},\"id\":\"4601\",\"type\":\"DataRange1d\"},{\"attributes\":{},\"id\":\"4564\",\"type\":\"PanTool\"},{\"attributes\":{\"callback\":null},\"id\":\"4599\",\"type\":\"DataRange1d\"},{\"attributes\":{\"overlay\":{\"id\":\"4572\",\"type\":\"BoxAnnotation\"}},\"id\":\"4566\",\"type\":\"BoxZoomTool\"},{\"attributes\":{},\"id\":\"4565\",\"type\":\"WheelZoomTool\"},{\"attributes\":{\"below\":[{\"id\":\"4607\",\"type\":\"LinearAxis\"}],\"left\":[{\"id\":\"4612\",\"type\":\"LinearAxis\"}],\"min_border\":null,\"outline_line_color\":{\"value\":null},\"plot_height\":511,\"plot_width\":35,\"renderers\":[{\"id\":\"4607\",\"type\":\"LinearAxis\"},{\"id\":\"4611\",\"type\":\"Grid\"},{\"id\":\"4612\",\"type\":\"LinearAxis\"},{\"id\":\"4616\",\"type\":\"Grid\"},{\"id\":\"4625\",\"type\":\"BoxAnnotation\"}],\"title\":{\"id\":\"4596\",\"type\":\"Title\"},\"title_location\":\"right\",\"toolbar\":{\"id\":\"4623\",\"type\":\"Toolbar\"},\"toolbar_location\":null,\"x_range\":{\"id\":\"4599\",\"type\":\"DataRange1d\"},\"x_scale\":{\"id\":\"4603\",\"type\":\"LinearScale\"},\"y_range\":{\"id\":\"4601\",\"type\":\"DataRange1d\"},\"y_scale\":{\"id\":\"4605\",\"type\":\"LinearScale\"}},\"id\":\"4597\",\"subtype\":\"Figure\",\"type\":\"Plot\"},{\"attributes\":{\"fill_alpha\":{\"value\":0.1},\"fill_color\":{\"value\":\"#1f77b4\"},\"line_alpha\":{\"value\":0.1},\"line_color\":{\"value\":\"#1f77b4\"},\"radius\":{\"field\":\"radii\",\"units\":\"data\"},\"x\":{\"field\":\"x\"},\"y\":{\"field\":\"y\"}},\"id\":\"4581\",\"type\":\"Circle\"},{\"attributes\":{\"dimension\":1,\"plot\":{\"id\":\"4597\",\"subtype\":\"Figure\",\"type\":\"Plot\"},\"ticker\":{\"id\":\"4613\",\"type\":\"BasicTicker\"}},\"id\":\"4616\",\"type\":\"Grid\"},{\"attributes\":{\"plot\":null,\"text\":\"Number of entities offshore vs days to open a business (all developed countries)\",\"text_color\":{\"value\":\"grey\"},\"text_font_size\":{\"value\":\"11pt\"},\"text_font_style\":\"normal\"},\"id\":\"4543\",\"type\":\"Title\"},{\"attributes\":{\"line_alpha\":0.1,\"line_color\":\"navy\",\"line_width\":4,\"x\":{\"field\":\"x\"},\"y\":{\"field\":\"y\"}},\"id\":\"4587\",\"type\":\"Line\"}],\"root_ids\":[\"4633\"]},\"title\":\"Bokeh Application\",\"version\":\"1.0.2\"}};\n",
       "  var render_items = [{\"docid\":\"c1480a8c-1304-4514-a66f-7b47a64e827b\",\"roots\":{\"4633\":\"d5f16213-4def-419d-ace1-2c59e6cbbac9\"}}];\n",
       "  root.Bokeh.embed.embed_items_notebook(docs_json, render_items);\n",
       "\n",
       "  }\n",
       "  if (root.Bokeh !== undefined) {\n",
       "    embed_document(root);\n",
       "  } else {\n",
       "    var attempts = 0;\n",
       "    var timer = setInterval(function(root) {\n",
       "      if (root.Bokeh !== undefined) {\n",
       "        embed_document(root);\n",
       "        clearInterval(timer);\n",
       "      }\n",
       "      attempts++;\n",
       "      if (attempts > 100) {\n",
       "        console.log(\"Bokeh: ERROR: Unable to run BokehJS code because BokehJS library is missing\");\n",
       "        clearInterval(timer);\n",
       "      }\n",
       "    }, 10, root)\n",
       "  }\n",
       "})(window);"
      ],
      "application/vnd.bokehjs_exec.v0+json": ""
     },
     "metadata": {
      "application/vnd.bokehjs_exec.v0+json": {
       "id": "4633"
      }
     },
     "output_type": "display_data"
    }
   ],
   "source": [
    "selection=country_count_ease_business['GDP_y']>15000\n",
    "x=np.log10(country_count_ease_business['days_open_business'][selection])\n",
    "y=np.log10(country_count_ease_business['n_companies_offshore'][selection])\n",
    "radii=country_count_ease_business['GDP_x'][selection]*10e-15 #13\n",
    "country_names=country_count_ease_business['Country Name'][selection]\n",
    "# for colors\n",
    "c = country_count_ease_business['GDP_y'][selection]\n",
    "c[c.isna()]=0\n",
    "\n",
    "\n",
    "color_mapper = LogColorMapper(palette=\"Colorblind4\", low=min(c),\\\n",
    "                              high=max(c))\n",
    "\n",
    "source=ColumnDataSource(data=dict(\n",
    "    x=list(x),\n",
    "    y=list(y),\n",
    "    country=list(country_names),\n",
    "    radii=list(radii),\n",
    "    c=list(c),\n",
    "))\n",
    "\n",
    "\n",
    "# set the regression line\n",
    "df=pd.DataFrame({'days_open_business':x,'n_companies_offshore':y})\n",
    "df=df.dropna(inplace=False)\n",
    "\n",
    "a=np.array(df['days_open_business'])\n",
    "b=np.array(df['n_companies_offshore'])\n",
    "\n",
    "m,i,r,p_value,std=stats.linregress(a,b)\n",
    "\n",
    "p = figure(title=\"Number of entities offshore vs days to open a business (all developed countries)\", plot_width=800, plot_height=800)\n",
    "scatter=p.scatter(x='x', y='y', radius='radii', source=source, color={'field': 'c', 'transform': color_mapper}, alpha=0.5)\n",
    "hover= HoverTool(tooltips = [(\"Country\", \"@country\"),(\"(Tax Rate, Log(number of entities offshore))\", \"($x, $y)\")],renderers=[scatter])\n",
    "p.add_tools(hover)\n",
    "\n",
    "line=p.line(df['days_open_business'], m*df['days_open_business']+i, line_width=4, color='navy', alpha=0.1)\n",
    "hover0=HoverTool(tooltips = [(\"Set of Country\",'Trend in all developed countries, p-vaue='+str(p_value)[:5])], renderers=[line])\n",
    "p.add_tools(hover0)\n",
    "\n",
    "# set the color bar tab\n",
    "color_bar = ColorBar(color_mapper=color_mapper, ticker=LogTicker(),\n",
    "                     label_standoff=12, border_line_color=None, location=(0,0))\n",
    "\n",
    "# set the color bar title\n",
    "color_bar_height = 511\n",
    "color_bar_width = 35\n",
    "\n",
    "color_bar_plot = figure(title=\"Real GDP per capita Legend Bar (USD)\", title_location=\"right\", \n",
    "                        height=color_bar_height, width=color_bar_width, \n",
    "                        toolbar_location=None, min_border=None, \n",
    "                        outline_line_color=None)\n",
    "\n",
    "\n",
    "# set the style of the title\n",
    "p.title.text_color = \"grey\"\n",
    "p.title.text_font = \"helvetica\"\n",
    "p.title.text_font_style = \"normal\"\n",
    "p.title.text_font_size = '11pt'\n",
    "\n",
    "# set the label options\n",
    "p.xaxis.axis_label='Days to open a business'\n",
    "p.yaxis.axis_label='Number of Entities Offshore (log scale)'\n",
    "\n",
    "# add the color bar\n",
    "p.add_layout(color_bar, 'right')\n",
    "                        \n",
    "# remove the interactive toolbar\n",
    "p.toolbar.logo = None\n",
    "p.toolbar_location = None\n",
    "\n",
    "layout = row_plot(p, color_bar_plot)\n",
    "output_file(\"daysopenbusiness_developed.html\", title=\"daysopenbusiness_developed\")\n",
    "show(layout)"
   ]
  },
  {
   "cell_type": "markdown",
   "metadata": {},
   "source": [
    "### Time spent in regulations"
   ]
  },
  {
   "cell_type": "markdown",
   "metadata": {},
   "source": [
    "Finally the last parameter that was thought to be influencing the number of offshore entities per country is the time that entities spend for regulation. In fact this could be an important reason for which companies could be established in offshore jurisdiction."
   ]
  },
  {
   "cell_type": "code",
   "execution_count": 60,
   "metadata": {},
   "outputs": [
    {
     "name": "stdout",
     "output_type": "stream",
     "text": [
      "Year with most data is 2015\n"
     ]
    }
   ],
   "source": [
    "years=range(1990, 2018)\n",
    "years_count=np.array([])\n",
    "\n",
    "for year in years:\n",
    "    \n",
    "    years_count=np.append(years_count,df_time_regulation[str(year)].notnull().sum())\n",
    "print ('Year with most data is', years[np.argmax(years_count)])"
   ]
  },
  {
   "cell_type": "markdown",
   "metadata": {},
   "source": [
    "In order to fully exploit the data, the average time spent in regulation for each country is computed over a time frame of 15 years; hence it is assumed that any change in time spent in regulation in this time range has not affected the number of entities going offshore in this time range."
   ]
  },
  {
   "cell_type": "code",
   "execution_count": 61,
   "metadata": {},
   "outputs": [],
   "source": [
    "df_time_regulation=pd.DataFrame({'Country Name':df_time_regulation['Country Name'],'time_regulation':df_time_regulation.iloc[:,range(-15,0)].mean(axis=1,numeric_only=True)})\n",
    "df_time_regulation=df_time_regulation[df_time_regulation['time_regulation'].notnull()]"
   ]
  },
  {
   "cell_type": "code",
   "execution_count": 62,
   "metadata": {},
   "outputs": [
    {
     "data": {
      "text/html": [
       "<div>\n",
       "<style scoped>\n",
       "    .dataframe tbody tr th:only-of-type {\n",
       "        vertical-align: middle;\n",
       "    }\n",
       "\n",
       "    .dataframe tbody tr th {\n",
       "        vertical-align: top;\n",
       "    }\n",
       "\n",
       "    .dataframe thead th {\n",
       "        text-align: right;\n",
       "    }\n",
       "</style>\n",
       "<table border=\"1\" class=\"dataframe\">\n",
       "  <thead>\n",
       "    <tr style=\"text-align: right;\">\n",
       "      <th></th>\n",
       "      <th>Country Name</th>\n",
       "      <th>time_regulation</th>\n",
       "    </tr>\n",
       "  </thead>\n",
       "  <tbody>\n",
       "    <tr>\n",
       "      <th>1</th>\n",
       "      <td>Afghanistan</td>\n",
       "      <td>8.071429</td>\n",
       "    </tr>\n",
       "    <tr>\n",
       "      <th>2</th>\n",
       "      <td>Angola</td>\n",
       "      <td>64.714286</td>\n",
       "    </tr>\n",
       "    <tr>\n",
       "      <th>3</th>\n",
       "      <td>Albania</td>\n",
       "      <td>15.357143</td>\n",
       "    </tr>\n",
       "    <tr>\n",
       "      <th>5</th>\n",
       "      <td>Arab World</td>\n",
       "      <td>26.151124</td>\n",
       "    </tr>\n",
       "    <tr>\n",
       "      <th>6</th>\n",
       "      <td>United Arab Emirates</td>\n",
       "      <td>13.350000</td>\n",
       "    </tr>\n",
       "  </tbody>\n",
       "</table>\n",
       "</div>"
      ],
      "text/plain": [
       "           Country Name  time_regulation\n",
       "1           Afghanistan         8.071429\n",
       "2                Angola        64.714286\n",
       "3               Albania        15.357143\n",
       "5            Arab World        26.151124\n",
       "6  United Arab Emirates        13.350000"
      ]
     },
     "execution_count": 62,
     "metadata": {},
     "output_type": "execute_result"
    }
   ],
   "source": [
    "df_time_regulation.head()"
   ]
  },
  {
   "cell_type": "code",
   "execution_count": 63,
   "metadata": {},
   "outputs": [],
   "source": [
    "country_count_ease_regulation_time=country_count_gdp.merge(df_time_regulation, how='outer',left_on='Country Name', right_on='Country Name')"
   ]
  },
  {
   "cell_type": "markdown",
   "metadata": {},
   "source": [
    "Even though the investigation of the parameter could be very interesting, the data provided by World Bank are too sparse and they don't provide  information about many countries. Hence the analysis is jeopardized. "
   ]
  },
  {
   "cell_type": "code",
   "execution_count": 64,
   "metadata": {
    "scrolled": true
   },
   "outputs": [
    {
     "data": {
      "text/html": [
       "<div>\n",
       "<style scoped>\n",
       "    .dataframe tbody tr th:only-of-type {\n",
       "        vertical-align: middle;\n",
       "    }\n",
       "\n",
       "    .dataframe tbody tr th {\n",
       "        vertical-align: top;\n",
       "    }\n",
       "\n",
       "    .dataframe thead th {\n",
       "        text-align: right;\n",
       "    }\n",
       "</style>\n",
       "<table border=\"1\" class=\"dataframe\">\n",
       "  <thead>\n",
       "    <tr style=\"text-align: right;\">\n",
       "      <th></th>\n",
       "      <th>n_companies_offshore</th>\n",
       "      <th>Country Name</th>\n",
       "      <th>GDP_x</th>\n",
       "      <th>GDP_y</th>\n",
       "      <th>time_regulation</th>\n",
       "    </tr>\n",
       "  </thead>\n",
       "  <tbody>\n",
       "    <tr>\n",
       "      <th>2</th>\n",
       "      <td>21658.0</td>\n",
       "      <td>Channel Islands</td>\n",
       "      <td>9.180788e+09</td>\n",
       "      <td>59422.543726</td>\n",
       "      <td>NaN</td>\n",
       "    </tr>\n",
       "    <tr>\n",
       "      <th>9</th>\n",
       "      <td>4892.0</td>\n",
       "      <td>Isle of Man</td>\n",
       "      <td>5.216144e+09</td>\n",
       "      <td>65308.380697</td>\n",
       "      <td>NaN</td>\n",
       "    </tr>\n",
       "    <tr>\n",
       "      <th>14</th>\n",
       "      <td>3168.0</td>\n",
       "      <td>Monaco</td>\n",
       "      <td>5.301932e+09</td>\n",
       "      <td>148406.483360</td>\n",
       "      <td>NaN</td>\n",
       "    </tr>\n",
       "    <tr>\n",
       "      <th>16</th>\n",
       "      <td>2725.0</td>\n",
       "      <td>Taiwan</td>\n",
       "      <td>NaN</td>\n",
       "      <td>NaN</td>\n",
       "      <td>NaN</td>\n",
       "    </tr>\n",
       "    <tr>\n",
       "      <th>17</th>\n",
       "      <td>2066.0</td>\n",
       "      <td>Liechtenstein</td>\n",
       "      <td>4.922173e+09</td>\n",
       "      <td>136708.283262</td>\n",
       "      <td>NaN</td>\n",
       "    </tr>\n",
       "    <tr>\n",
       "      <th>18</th>\n",
       "      <td>2039.0</td>\n",
       "      <td>Gibraltar</td>\n",
       "      <td>2.288000e+09</td>\n",
       "      <td>92843.000000</td>\n",
       "      <td>NaN</td>\n",
       "    </tr>\n",
       "    <tr>\n",
       "      <th>29</th>\n",
       "      <td>1107.0</td>\n",
       "      <td>British Virgin Islands</td>\n",
       "      <td>8.500000e+08</td>\n",
       "      <td>34200.000000</td>\n",
       "      <td>NaN</td>\n",
       "    </tr>\n",
       "    <tr>\n",
       "      <th>37</th>\n",
       "      <td>489.0</td>\n",
       "      <td>Andorra</td>\n",
       "      <td>3.274308e+09</td>\n",
       "      <td>40705.073439</td>\n",
       "      <td>NaN</td>\n",
       "    </tr>\n",
       "    <tr>\n",
       "      <th>40</th>\n",
       "      <td>372.0</td>\n",
       "      <td>Niue</td>\n",
       "      <td>NaN</td>\n",
       "      <td>NaN</td>\n",
       "      <td>NaN</td>\n",
       "    </tr>\n",
       "    <tr>\n",
       "      <th>53</th>\n",
       "      <td>165.0</td>\n",
       "      <td>Bermuda</td>\n",
       "      <td>5.418704e+09</td>\n",
       "      <td>84080.952572</td>\n",
       "      <td>NaN</td>\n",
       "    </tr>\n",
       "  </tbody>\n",
       "</table>\n",
       "</div>"
      ],
      "text/plain": [
       "    n_companies_offshore            Country Name         GDP_x          GDP_y  \\\n",
       "2                21658.0         Channel Islands  9.180788e+09   59422.543726   \n",
       "9                 4892.0             Isle of Man  5.216144e+09   65308.380697   \n",
       "14                3168.0                  Monaco  5.301932e+09  148406.483360   \n",
       "16                2725.0                  Taiwan           NaN            NaN   \n",
       "17                2066.0           Liechtenstein  4.922173e+09  136708.283262   \n",
       "18                2039.0               Gibraltar  2.288000e+09   92843.000000   \n",
       "29                1107.0  British Virgin Islands  8.500000e+08   34200.000000   \n",
       "37                 489.0                 Andorra  3.274308e+09   40705.073439   \n",
       "40                 372.0                    Niue           NaN            NaN   \n",
       "53                 165.0                 Bermuda  5.418704e+09   84080.952572   \n",
       "\n",
       "    time_regulation  \n",
       "2               NaN  \n",
       "9               NaN  \n",
       "14              NaN  \n",
       "16              NaN  \n",
       "17              NaN  \n",
       "18              NaN  \n",
       "29              NaN  \n",
       "37              NaN  \n",
       "40              NaN  \n",
       "53              NaN  "
      ]
     },
     "execution_count": 64,
     "metadata": {},
     "output_type": "execute_result"
    }
   ],
   "source": [
    "country_count_ease_regulation_time[country_count_ease_regulation_time['time_regulation'].isna()].head(10)"
   ]
  },
  {
   "cell_type": "markdown",
   "metadata": {},
   "source": [
    "In conclusion it is clear that corporate tax is definitely a factor influencing entities to go offshore, but in different ways according to the set of countries considered. It seems that entities in the major economies are trying to escape high corporate taxation levels. While it seems that lower taxation levels in developing countries implies a higher number of companies set offshore. However it is hard to make inference statements since the correlations are often not strong enough and correlation doesn't imply causation. Also the other indicators explored such as days to open a business or time spent in regulation by businesses haven't led to the hoped results: further indicators should be explored, but the challenge of finding reliable global data has to be overcome.\n",
    " \n",
    "Hence corporate tax rate is not the only determinant for entities to go offshore: in fact it was also concluded that corporate tax rate could actually be a proxy variable for other covariates. For instance it is clear that tax havens present ideal conditions for entities to set up offshore companies: additional research should be performed in finding what are theses bureaucratic and economical factors, but the lack of transparency of these countries makes it extremely to find useful data. "
   ]
  },
  {
   "cell_type": "markdown",
   "metadata": {},
   "source": [
    "## 4) What are the consequences of offshore companies on income inequality?"
   ]
  },
  {
   "cell_type": "markdown",
   "metadata": {},
   "source": [
    "### OECD Corporate Tax: Amounts Lost"
   ]
  },
  {
   "cell_type": "markdown",
   "metadata": {},
   "source": [
    "A last piece of analysis is to come up with a hypothesized number for the amount of corporate tax revenue lost for a country **assuming that the companies offshore are evading home corporate tax.** It is very important that we assume this because it is difficult to prove that these companies are evading tax (though it is the main hypothesized reason).\n",
    "\n",
    "To do so, we obtained a [dataset from OECD](https://data.oecd.org/tax/tax-on-corporate-profits.htm) indicating the corporate tax rate % of GDP as well as a [dataset from NAICS](https://www.naics.com/business-lists/counts-by-country/) indicating the number of businesses per country. We can then calculate:\n",
    "\n",
    "$$\n",
    "Potential~Tax~Lost_{country} = \\frac{Corporate~Tax~Revenue_{country}}{Number~Businesses_{country}} \\times Number~ entities~in~PP_{country}\n",
    "$$\n",
    "\n"
   ]
  },
  {
   "cell_type": "code",
   "execution_count": 65,
   "metadata": {},
   "outputs": [],
   "source": [
    "# loading data\n",
    "\n",
    "# GDP_tot = 'API_NY.GDP.MKTP.CD_DS2_en_csv_v2_10224782.csv'\n",
    "# corp_tax_rate = 'corp_tax_rate.csv'\n",
    "# business_country = 'business_country.csv'\n",
    "\n",
    "# GDP_tot_raw_df=pd.read_csv(DATA_FOLDER + GDP_tot,skiprows=4,low_memory=False)[['Country Name', '2015']]\n",
    "GDP_tot_raw_OCDE=df_GDP_tot_raw[['Country Name', '2015']].copy()"
   ]
  },
  {
   "cell_type": "code",
   "execution_count": 66,
   "metadata": {},
   "outputs": [],
   "source": [
    "# merging corp tax table with GDP table\n",
    "m1 = corp_tax_rate_df.merge(GDP_tot_raw_OCDE, left_on='Location', \n",
    "                            right_on='Country Name', how='inner')\n",
    "\n",
    "# merging m1 with number of businesses table\n",
    "m2 = m1.merge(business_country_df, left_on='Location',\n",
    "             right_on='Country Name', how='inner')\n",
    "m2 = m2[['Location', '2015_x', '2015_y', 'Number of Businesses']]\n",
    "m2.columns = ['Location', '2015 Corp Tax Rate % of GDP', '2015 GDP', 'Number of Businesses']\n",
    "\n",
    "# calculating corporate tax revenue\n",
    "m2['Corporate Tax Revenue'] = m2['2015 Corp Tax Rate % of GDP'] * m2['2015 GDP'] / 100\n",
    "\n",
    "# calculating avg corp tax paid per business\n",
    "m2['Avg tax per business'] = m2['Corporate Tax Revenue'] / m2['Number of Businesses']\n",
    "\n",
    "# merge m2 with countries grouped by count of entries in Panama Papers\n",
    "country_entries = pd.DataFrame(df_entity_raw.countries.value_counts()).reset_index()\n",
    "country_entries.columns = ['Location', 'Count in PP']\n",
    "country_entries.loc[country_entries['Location'] == 'South Korea', 'Location'] = 'Korea, Rep.'\n",
    "m3 = m2.merge(country_entries, on='Location', how='inner')\n",
    "\n",
    "# calculate potential tax evasion\n",
    "m3['Potential Tax Lost'] = m3['Avg tax per business'] * m3['Count in PP']\n",
    "m3['Potential Real Corporate Tax Revenue'] = m3['Potential Tax Lost'] + m3['Corporate Tax Revenue']\n",
    "m3['% Tax Lost'] = m3['Potential Tax Lost'] / m3['Corporate Tax Revenue'] * 100"
   ]
  },
  {
   "cell_type": "code",
   "execution_count": 67,
   "metadata": {
    "scrolled": true
   },
   "outputs": [
    {
     "data": {
      "text/html": [
       "<div>\n",
       "<style scoped>\n",
       "    .dataframe tbody tr th:only-of-type {\n",
       "        vertical-align: middle;\n",
       "    }\n",
       "\n",
       "    .dataframe tbody tr th {\n",
       "        vertical-align: top;\n",
       "    }\n",
       "\n",
       "    .dataframe thead th {\n",
       "        text-align: right;\n",
       "    }\n",
       "</style>\n",
       "<table border=\"1\" class=\"dataframe\">\n",
       "  <thead>\n",
       "    <tr style=\"text-align: right;\">\n",
       "      <th></th>\n",
       "      <th>Location</th>\n",
       "      <th>2015 Corp Tax Rate % of GDP</th>\n",
       "      <th>2015 GDP</th>\n",
       "      <th>Number of Businesses</th>\n",
       "      <th>Corporate Tax Revenue</th>\n",
       "      <th>Avg tax per business</th>\n",
       "      <th>Count in PP</th>\n",
       "      <th>Potential Tax Lost</th>\n",
       "      <th>Potential Real Corporate Tax Revenue</th>\n",
       "      <th>% Tax Lost</th>\n",
       "    </tr>\n",
       "  </thead>\n",
       "  <tbody>\n",
       "    <tr>\n",
       "      <th>0</th>\n",
       "      <td>Australia</td>\n",
       "      <td>4.25</td>\n",
       "      <td>1.350000e+12</td>\n",
       "      <td>1873101</td>\n",
       "      <td>5.737500e+10</td>\n",
       "      <td>30631.023100</td>\n",
       "      <td>94</td>\n",
       "      <td>2.879316e+06</td>\n",
       "      <td>5.737788e+10</td>\n",
       "      <td>0.005018</td>\n",
       "    </tr>\n",
       "    <tr>\n",
       "      <th>1</th>\n",
       "      <td>Austria</td>\n",
       "      <td>2.22</td>\n",
       "      <td>3.820000e+11</td>\n",
       "      <td>547330</td>\n",
       "      <td>8.480400e+09</td>\n",
       "      <td>15494.126030</td>\n",
       "      <td>24</td>\n",
       "      <td>3.718590e+05</td>\n",
       "      <td>8.480772e+09</td>\n",
       "      <td>0.004385</td>\n",
       "    </tr>\n",
       "    <tr>\n",
       "      <th>2</th>\n",
       "      <td>Belgium</td>\n",
       "      <td>3.33</td>\n",
       "      <td>4.550000e+11</td>\n",
       "      <td>1597753</td>\n",
       "      <td>1.515150e+10</td>\n",
       "      <td>9483.005195</td>\n",
       "      <td>59</td>\n",
       "      <td>5.594973e+05</td>\n",
       "      <td>1.515206e+10</td>\n",
       "      <td>0.003693</td>\n",
       "    </tr>\n",
       "    <tr>\n",
       "      <th>3</th>\n",
       "      <td>Canada</td>\n",
       "      <td>3.41</td>\n",
       "      <td>1.560000e+12</td>\n",
       "      <td>1536428</td>\n",
       "      <td>5.319600e+10</td>\n",
       "      <td>34623.164899</td>\n",
       "      <td>347</td>\n",
       "      <td>1.201424e+07</td>\n",
       "      <td>5.320801e+10</td>\n",
       "      <td>0.022585</td>\n",
       "    </tr>\n",
       "    <tr>\n",
       "      <th>4</th>\n",
       "      <td>Chile</td>\n",
       "      <td>4.29</td>\n",
       "      <td>2.440000e+11</td>\n",
       "      <td>775308</td>\n",
       "      <td>1.046760e+10</td>\n",
       "      <td>13501.215001</td>\n",
       "      <td>140</td>\n",
       "      <td>1.890170e+06</td>\n",
       "      <td>1.046949e+10</td>\n",
       "      <td>0.018057</td>\n",
       "    </tr>\n",
       "    <tr>\n",
       "      <th>5</th>\n",
       "      <td>Czech Republic</td>\n",
       "      <td>3.59</td>\n",
       "      <td>1.870000e+11</td>\n",
       "      <td>1442568</td>\n",
       "      <td>6.713300e+09</td>\n",
       "      <td>4653.714764</td>\n",
       "      <td>34</td>\n",
       "      <td>1.582263e+05</td>\n",
       "      <td>6.713458e+09</td>\n",
       "      <td>0.002357</td>\n",
       "    </tr>\n",
       "    <tr>\n",
       "      <th>6</th>\n",
       "      <td>Denmark</td>\n",
       "      <td>2.71</td>\n",
       "      <td>3.010000e+11</td>\n",
       "      <td>495961</td>\n",
       "      <td>8.157100e+09</td>\n",
       "      <td>16447.059345</td>\n",
       "      <td>14</td>\n",
       "      <td>2.302588e+05</td>\n",
       "      <td>8.157330e+09</td>\n",
       "      <td>0.002823</td>\n",
       "    </tr>\n",
       "    <tr>\n",
       "      <th>7</th>\n",
       "      <td>Estonia</td>\n",
       "      <td>2.05</td>\n",
       "      <td>2.256696e+10</td>\n",
       "      <td>112271</td>\n",
       "      <td>4.626226e+08</td>\n",
       "      <td>4120.588737</td>\n",
       "      <td>880</td>\n",
       "      <td>3.626118e+06</td>\n",
       "      <td>4.662487e+08</td>\n",
       "      <td>0.783818</td>\n",
       "    </tr>\n",
       "    <tr>\n",
       "      <th>8</th>\n",
       "      <td>Finland</td>\n",
       "      <td>2.17</td>\n",
       "      <td>2.320000e+11</td>\n",
       "      <td>564997</td>\n",
       "      <td>5.034400e+09</td>\n",
       "      <td>8910.489790</td>\n",
       "      <td>65</td>\n",
       "      <td>5.791818e+05</td>\n",
       "      <td>5.034979e+09</td>\n",
       "      <td>0.011504</td>\n",
       "    </tr>\n",
       "    <tr>\n",
       "      <th>9</th>\n",
       "      <td>France</td>\n",
       "      <td>2.08</td>\n",
       "      <td>2.440000e+12</td>\n",
       "      <td>3497529</td>\n",
       "      <td>5.075200e+10</td>\n",
       "      <td>14510.816065</td>\n",
       "      <td>285</td>\n",
       "      <td>4.135583e+06</td>\n",
       "      <td>5.075614e+10</td>\n",
       "      <td>0.008149</td>\n",
       "    </tr>\n",
       "    <tr>\n",
       "      <th>10</th>\n",
       "      <td>Germany</td>\n",
       "      <td>1.71</td>\n",
       "      <td>3.380000e+12</td>\n",
       "      <td>3589126</td>\n",
       "      <td>5.779800e+10</td>\n",
       "      <td>16103.641945</td>\n",
       "      <td>173</td>\n",
       "      <td>2.785930e+06</td>\n",
       "      <td>5.780079e+10</td>\n",
       "      <td>0.004820</td>\n",
       "    </tr>\n",
       "    <tr>\n",
       "      <th>11</th>\n",
       "      <td>Greece</td>\n",
       "      <td>2.15</td>\n",
       "      <td>1.960000e+11</td>\n",
       "      <td>106385</td>\n",
       "      <td>4.214000e+09</td>\n",
       "      <td>39610.847394</td>\n",
       "      <td>222</td>\n",
       "      <td>8.793608e+06</td>\n",
       "      <td>4.222794e+09</td>\n",
       "      <td>0.208676</td>\n",
       "    </tr>\n",
       "    <tr>\n",
       "      <th>12</th>\n",
       "      <td>Hungary</td>\n",
       "      <td>1.79</td>\n",
       "      <td>1.230000e+11</td>\n",
       "      <td>490583</td>\n",
       "      <td>2.201700e+09</td>\n",
       "      <td>4487.925591</td>\n",
       "      <td>90</td>\n",
       "      <td>4.039133e+05</td>\n",
       "      <td>2.202104e+09</td>\n",
       "      <td>0.018346</td>\n",
       "    </tr>\n",
       "    <tr>\n",
       "      <th>13</th>\n",
       "      <td>Iceland</td>\n",
       "      <td>2.35</td>\n",
       "      <td>1.694225e+10</td>\n",
       "      <td>9245</td>\n",
       "      <td>3.981428e+08</td>\n",
       "      <td>43065.745083</td>\n",
       "      <td>15</td>\n",
       "      <td>6.459862e+05</td>\n",
       "      <td>3.987888e+08</td>\n",
       "      <td>0.162250</td>\n",
       "    </tr>\n",
       "    <tr>\n",
       "      <th>14</th>\n",
       "      <td>Ireland</td>\n",
       "      <td>2.62</td>\n",
       "      <td>2.910000e+11</td>\n",
       "      <td>302586</td>\n",
       "      <td>7.624200e+09</td>\n",
       "      <td>25196.803553</td>\n",
       "      <td>322</td>\n",
       "      <td>8.113371e+06</td>\n",
       "      <td>7.632313e+09</td>\n",
       "      <td>0.106416</td>\n",
       "    </tr>\n",
       "  </tbody>\n",
       "</table>\n",
       "</div>"
      ],
      "text/plain": [
       "          Location  2015 Corp Tax Rate % of GDP      2015 GDP  \\\n",
       "0        Australia                         4.25  1.350000e+12   \n",
       "1          Austria                         2.22  3.820000e+11   \n",
       "2          Belgium                         3.33  4.550000e+11   \n",
       "3           Canada                         3.41  1.560000e+12   \n",
       "4            Chile                         4.29  2.440000e+11   \n",
       "5   Czech Republic                         3.59  1.870000e+11   \n",
       "6          Denmark                         2.71  3.010000e+11   \n",
       "7          Estonia                         2.05  2.256696e+10   \n",
       "8          Finland                         2.17  2.320000e+11   \n",
       "9           France                         2.08  2.440000e+12   \n",
       "10         Germany                         1.71  3.380000e+12   \n",
       "11          Greece                         2.15  1.960000e+11   \n",
       "12         Hungary                         1.79  1.230000e+11   \n",
       "13         Iceland                         2.35  1.694225e+10   \n",
       "14         Ireland                         2.62  2.910000e+11   \n",
       "\n",
       "    Number of Businesses  Corporate Tax Revenue  Avg tax per business  \\\n",
       "0                1873101           5.737500e+10          30631.023100   \n",
       "1                 547330           8.480400e+09          15494.126030   \n",
       "2                1597753           1.515150e+10           9483.005195   \n",
       "3                1536428           5.319600e+10          34623.164899   \n",
       "4                 775308           1.046760e+10          13501.215001   \n",
       "5                1442568           6.713300e+09           4653.714764   \n",
       "6                 495961           8.157100e+09          16447.059345   \n",
       "7                 112271           4.626226e+08           4120.588737   \n",
       "8                 564997           5.034400e+09           8910.489790   \n",
       "9                3497529           5.075200e+10          14510.816065   \n",
       "10               3589126           5.779800e+10          16103.641945   \n",
       "11                106385           4.214000e+09          39610.847394   \n",
       "12                490583           2.201700e+09           4487.925591   \n",
       "13                  9245           3.981428e+08          43065.745083   \n",
       "14                302586           7.624200e+09          25196.803553   \n",
       "\n",
       "    Count in PP  Potential Tax Lost  Potential Real Corporate Tax Revenue  \\\n",
       "0            94        2.879316e+06                          5.737788e+10   \n",
       "1            24        3.718590e+05                          8.480772e+09   \n",
       "2            59        5.594973e+05                          1.515206e+10   \n",
       "3           347        1.201424e+07                          5.320801e+10   \n",
       "4           140        1.890170e+06                          1.046949e+10   \n",
       "5            34        1.582263e+05                          6.713458e+09   \n",
       "6            14        2.302588e+05                          8.157330e+09   \n",
       "7           880        3.626118e+06                          4.662487e+08   \n",
       "8            65        5.791818e+05                          5.034979e+09   \n",
       "9           285        4.135583e+06                          5.075614e+10   \n",
       "10          173        2.785930e+06                          5.780079e+10   \n",
       "11          222        8.793608e+06                          4.222794e+09   \n",
       "12           90        4.039133e+05                          2.202104e+09   \n",
       "13           15        6.459862e+05                          3.987888e+08   \n",
       "14          322        8.113371e+06                          7.632313e+09   \n",
       "\n",
       "    % Tax Lost  \n",
       "0     0.005018  \n",
       "1     0.004385  \n",
       "2     0.003693  \n",
       "3     0.022585  \n",
       "4     0.018057  \n",
       "5     0.002357  \n",
       "6     0.002823  \n",
       "7     0.783818  \n",
       "8     0.011504  \n",
       "9     0.008149  \n",
       "10    0.004820  \n",
       "11    0.208676  \n",
       "12    0.018346  \n",
       "13    0.162250  \n",
       "14    0.106416  "
      ]
     },
     "execution_count": 67,
     "metadata": {},
     "output_type": "execute_result"
    }
   ],
   "source": [
    "m3.head(15)"
   ]
  },
  {
   "cell_type": "markdown",
   "metadata": {},
   "source": [
    "Now that the table has been created, we can make a plot to visualize the top countries who have the most potential corporate tax revenue lost. To make the graph more readible, we select the top 15 countries."
   ]
  },
  {
   "cell_type": "code",
   "execution_count": 68,
   "metadata": {},
   "outputs": [
    {
     "data": {
      "image/png": "[encoded data removed]",
      "text/plain": [
       "<Figure size 432x288 with 1 Axes>"
      ]
     },
     "metadata": {
      "needs_background": "light"
     },
     "output_type": "display_data"
    }
   ],
   "source": [
    "m3.sort_values(['Potential Tax Lost'], inplace=True, ascending=False)\n",
    "plt.bar(m3.Location[:15], m3['Potential Tax Lost'][:15])\n",
    "plt.xticks(rotation=90)\n",
    "plt.ylabel('USD')\n",
    "plt.xlabel('Countries')\n",
    "plt.yscale('log')\n",
    "plt.title('Potential Corporate Tax Revenue Loss')\n",
    "plt.savefig('Potential Corporate Tax Revenue Loss.png',dpi=300)"
   ]
  },
  {
   "cell_type": "markdown",
   "metadata": {},
   "source": [
    "As seen from the graph, aside from Switzerland, many of the countries are not losing that much corporate tax revenue when compared to their actual corporate tax revenue. This may be because usually only large businesses with high profits have the motivation to transfer their money overseas, as they pay a larger percentages in home corporate tax. Thus they would average a higher `Avg tax per business` and consequently increase overall `Potential corporate tax loss`."
   ]
  },
  {
   "cell_type": "markdown",
   "metadata": {},
   "source": [
    "### Time dependence between entities presence in Panama Papers and GINI coefficient"
   ]
  },
  {
   "cell_type": "markdown",
   "metadata": {},
   "source": [
    "A preliminary analysis of the relation between the number of panama papers and GINI was performed with the same techniques of the ones done above. No interesting results were found and it was decided to analyse the GINI vs the number of Panama Papers time relation."
   ]
  },
  {
   "cell_type": "markdown",
   "metadata": {},
   "source": [
    "#### GINI coefficient: Global perspective "
   ]
  },
  {
   "cell_type": "markdown",
   "metadata": {},
   "source": [
    "One interesting fact that could be analysed is the time correlation between the number of Panama Papers during the years and the yearly development of other indicators such as GINI coefficient. "
   ]
  },
  {
   "cell_type": "markdown",
   "metadata": {},
   "source": [
    "To do so, the total database is considering for different purpose that will be later explained. Firstly, only the columns regarding the last $15$ years are considered and stored in ``df_GDP_w``. Then an average over these years is considered to obtain a single expression for each country and for mitigate the presence of missing value in the data. The column ``GDP_x`` is added with the mean and all the other columns are dropped."
   ]
  },
  {
   "cell_type": "code",
   "execution_count": 69,
   "metadata": {
    "scrolled": true
   },
   "outputs": [],
   "source": [
    "cols=[0]+list(range(-17,-1))\n",
    "df_GDP_w=df_GDP_tot_raw.iloc[:,cols].copy()\n",
    "df_GDP_w['GDP_x'] = df_GDP_w.iloc[:,range(-15,0)].mean(axis=1,numeric_only=True)\n",
    "df_GDP_w=df_GDP_w.drop(df_GDP_w.columns[1:17],axis=1)\n",
    "#df_GDP_w"
   ]
  },
  {
   "cell_type": "markdown",
   "metadata": {},
   "source": [
    "Now, different filter can be applied to this data frame that will influence the final data plotted later because of the presence of different joins between the latter dataset and two others. The example showed considers only countries with a GDP higher that a threshold now set to the unrealistic value of $200$, so basically considering all countries present in the data frame. "
   ]
  },
  {
   "cell_type": "code",
   "execution_count": 70,
   "metadata": {},
   "outputs": [
    {
     "data": {
      "text/html": [
       "<div>\n",
       "<style scoped>\n",
       "    .dataframe tbody tr th:only-of-type {\n",
       "        vertical-align: middle;\n",
       "    }\n",
       "\n",
       "    .dataframe tbody tr th {\n",
       "        vertical-align: top;\n",
       "    }\n",
       "\n",
       "    .dataframe thead th {\n",
       "        text-align: right;\n",
       "    }\n",
       "</style>\n",
       "<table border=\"1\" class=\"dataframe\">\n",
       "  <thead>\n",
       "    <tr style=\"text-align: right;\">\n",
       "      <th></th>\n",
       "      <th>Country Name</th>\n",
       "      <th>GDP_x</th>\n",
       "    </tr>\n",
       "  </thead>\n",
       "  <tbody>\n",
       "    <tr>\n",
       "      <th>0</th>\n",
       "      <td>Aruba</td>\n",
       "      <td>2.402359e+09</td>\n",
       "    </tr>\n",
       "    <tr>\n",
       "      <th>1</th>\n",
       "      <td>Afghanistan</td>\n",
       "      <td>1.292136e+10</td>\n",
       "    </tr>\n",
       "    <tr>\n",
       "      <th>2</th>\n",
       "      <td>Angola</td>\n",
       "      <td>7.248887e+10</td>\n",
       "    </tr>\n",
       "    <tr>\n",
       "      <th>3</th>\n",
       "      <td>Albania</td>\n",
       "      <td>1.044583e+10</td>\n",
       "    </tr>\n",
       "    <tr>\n",
       "      <th>4</th>\n",
       "      <td>Andorra</td>\n",
       "      <td>3.188988e+09</td>\n",
       "    </tr>\n",
       "  </tbody>\n",
       "</table>\n",
       "</div>"
      ],
      "text/plain": [
       "  Country Name         GDP_x\n",
       "0        Aruba  2.402359e+09\n",
       "1  Afghanistan  1.292136e+10\n",
       "2       Angola  7.248887e+10\n",
       "3      Albania  1.044583e+10\n",
       "4      Andorra  3.188988e+09"
      ]
     },
     "execution_count": 70,
     "metadata": {},
     "output_type": "execute_result"
    }
   ],
   "source": [
    "df_GDP_w=df_GDP_w[df_GDP_w['GDP_x']>200]#*10e9]\n",
    "#df_GDP_w=df_GDP_w[df_GDP_w['Country Name']=='Cyprus']\n",
    "df_GDP_w.head()"
   ]
  },
  {
   "cell_type": "markdown",
   "metadata": {},
   "source": [
    "For counting the Panama Papers, the `` df_entity_raw`` is firstly joined with ``df_GDP_w`` to consider only countries previously filtered and then all the rows with $NaN$ are dropped. "
   ]
  },
  {
   "cell_type": "code",
   "execution_count": 71,
   "metadata": {},
   "outputs": [],
   "source": [
    "df_entity_S2 = df_entity_raw.copy()\n",
    "df_entity_S2=df_entity_S2.merge(df_GDP_w, how='left',left_on='countries', right_on='Country Name')\n",
    "df_entity_S2=df_entity_S2[pd.notnull(df_entity_S2['GDP_x'])]\n",
    "#df_entity_S2"
   ]
  },
  {
   "cell_type": "markdown",
   "metadata": {},
   "source": [
    "Through converting the year column into index and use it through different function, the count of the number of entities of the countries considered going offshore yearly is calculated."
   ]
  },
  {
   "cell_type": "code",
   "execution_count": 72,
   "metadata": {
    "scrolled": true
   },
   "outputs": [],
   "source": [
    "df_entity_S2.incorporation_date = pd.to_datetime(df_entity_S2.incorporation_date)\n",
    "df_entity_S2['Year'] = df_entity_S2.apply(lambda row: row['incorporation_date'].year, axis=1)\n",
    "series_panamas = df_entity_S2.groupby(['Year'], axis=0)['Year'].count()\n",
    "series_panamas.index = series_panamas.index.astype(int)"
   ]
  },
  {
   "cell_type": "markdown",
   "metadata": {},
   "source": [
    "Here the other country feature dataset is introduced (in this case `` df_gini``). The dataset is cleaned from useless columns and the filtering join with the GDP dataset is performed. "
   ]
  },
  {
   "cell_type": "code",
   "execution_count": 73,
   "metadata": {
    "scrolled": true
   },
   "outputs": [],
   "source": [
    "series_var = df_gini.copy()\n",
    "series_var = series_var.drop(series_var.columns[1:4],axis=1).drop(series_var.columns[-1],axis=1)\n",
    "series_var=series_var.merge(df_GDP_w, how='inner',left_on='Country Name', right_on='Country Name')"
   ]
  },
  {
   "cell_type": "markdown",
   "metadata": {},
   "source": [
    "Now the latter data frame is average along the column direction, hence leaving all the years column. Different strategies were considered to make the latter average, as the purely arithmetic mean is not ideal. This is because different countries have very different weight in the world economy. One strategy was to use the GDP as weight of the country importance. This did not end up being a good solution as not all the values are available every year and so the absence of the value of a big country in one precise timestep would alter the result a lot. "
   ]
  },
  {
   "cell_type": "code",
   "execution_count": 74,
   "metadata": {},
   "outputs": [],
   "source": [
    "series_var[series_var.columns[1:57]]=series_var[series_var.columns[1:57]]#.divide(series_var['GDP_x'], axis='rows')\n",
    "series_var=series_var[series_var.columns[1:57]]\n",
    "series_var = series_var.mean(axis=0, skipna=True)\n",
    "series_var.index = series_var.index.astype(int)"
   ]
  },
  {
   "cell_type": "markdown",
   "metadata": {},
   "source": [
    "Now the 2 resulting series are plotted in one graph with the following code. Only ear after 1979 are considered as before there is no significant yearly number of Panama Papers. The results are standardized with min-max standardization to plot them on a single graph and easily compared their trend and correlation."
   ]
  },
  {
   "cell_type": "code",
   "execution_count": 75,
   "metadata": {
    "scrolled": true
   },
   "outputs": [],
   "source": [
    "series_panamas_cut = series_panamas[series_panamas.index>=1979]\n",
    "series_panamas_cut = (series_panamas_cut-series_panamas_cut.min())/(series_panamas_cut.max()-series_panamas_cut.min())\n",
    "series_var_cut=series_var[series_var.index>=1979]\n",
    "series_var_cut=(series_var_cut-series_var_cut.min())/(series_var_cut.max()-series_var_cut.min())\n",
    "df_plot = pd.concat([series_var_cut, series_panamas_cut], axis=1)\n",
    "df_plot.columns = [['Gini coefficient','Panama papers count']]"
   ]
  },
  {
   "cell_type": "code",
   "execution_count": 76,
   "metadata": {},
   "outputs": [
    {
     "data": {
      "text/plain": [
       "<matplotlib.axes._subplots.AxesSubplot at 0x1ef833f3ac8>"
      ]
     },
     "execution_count": 76,
     "metadata": {},
     "output_type": "execute_result"
    },
    {
     "data": {
      "image/png": "[encoded data removed]",
      "text/plain": [
       "<Figure size 648x288 with 1 Axes>"
      ]
     },
     "metadata": {
      "needs_background": "light"
     },
     "output_type": "display_data"
    }
   ],
   "source": [
    "df_plot.plot(figsize=(9,4))"
   ]
  },
  {
   "cell_type": "code",
   "execution_count": 77,
   "metadata": {
    "scrolled": true
   },
   "outputs": [
    {
     "data": {
      "text/plain": [
       "Text(0, 0.5, 'Panama papers count')"
      ]
     },
     "execution_count": 77,
     "metadata": {},
     "output_type": "execute_result"
    },
    {
     "data": {
      "image/png": "[encoded data removed]",
      "text/plain": [
       "<Figure size 432x288 with 1 Axes>"
      ]
     },
     "metadata": {
      "needs_background": "light"
     },
     "output_type": "display_data"
    }
   ],
   "source": [
    "plt.scatter(df_plot['Gini coefficient'], df_plot['Panama papers count'])\n",
    "plt.xlabel('Gini coefficient')\n",
    "plt.ylabel('Panama papers count')"
   ]
  },
  {
   "cell_type": "markdown",
   "metadata": {},
   "source": [
    "The resulting plot that can be seen here above. It can be seen that, on a world scale, there is no clear correlation between the develop of the GINI and the number of worldwide entities in the Panama Papers. To confirm the hypothesis that a higher number of panama paper is a sign of more inequality in the world, the two parameters would be positively correlated, so showing similar trend. All the countries in the world are very different from each other and their behaviour in the Papers can be influenced by a lot of other covariates. A machine learning algorithm could be a nice solution to find some relation using more features, but it would be very limited by the small amount of point available (the number of world countries)."
   ]
  },
  {
   "cell_type": "code",
   "execution_count": 78,
   "metadata": {},
   "outputs": [],
   "source": [
    "def series_var_processing(df,weighting):\n",
    "    series_var = df.copy()\n",
    "    series_var = series_var.drop(series_var.columns[1:4],axis=1).drop(series_var.columns[-1],axis=1)\n",
    "    series_var=series_var.merge(df_GDP_w, how='inner',left_on='Country Name', right_on='Country Name')\n",
    "    #Here the weighting of GINI is performed \n",
    "    if weighting:\n",
    "        series_var[series_var.columns[1:57]]=series_var[series_var.columns[1:57]].divide(series_var['GDP_x'], axis='rows')\n",
    "    series_var=series_var[series_var.columns[1:57]]\n",
    "    series_var = series_var.mean(axis=0, skipna=True)\n",
    "    series_var.index = series_var.index.astype(int)\n",
    "    series_panamas_cut = series_panamas[series_panamas.index>=1979]\n",
    "    series_panamas_cut = (series_panamas_cut-series_panamas_cut.min())/(series_panamas_cut.max()-series_panamas_cut.min())\n",
    "    series_var_cut=series_var[series_var.index>=1979]\n",
    "    return (series_var_cut-series_var_cut.min())/(series_var_cut.max()-series_var_cut.min())"
   ]
  },
  {
   "cell_type": "code",
   "execution_count": 79,
   "metadata": {},
   "outputs": [
    {
     "data": {
      "text/plain": [
       "<matplotlib.axes._subplots.AxesSubplot at 0x1ef834090b8>"
      ]
     },
     "execution_count": 79,
     "metadata": {},
     "output_type": "execute_result"
    },
    {
     "data": {
      "image/png": "[encoded data removed]",
      "text/plain": [
       "<Figure size 648x288 with 1 Axes>"
      ]
     },
     "metadata": {
      "needs_background": "light"
     },
     "output_type": "display_data"
    }
   ],
   "source": [
    "series_var_cut=series_var_processing(df_gini,True)\n",
    "df_plot = pd.concat([series_var_cut, series_panamas_cut], axis=1)\n",
    "df_plot.columns = [['Gini coefficient','Panama papers count']]\n",
    "df_plot.plot(figsize=(9,4))"
   ]
  },
  {
   "cell_type": "markdown",
   "metadata": {},
   "source": [
    "In the graph above the same procedure as descripted above is used but this time the GINI coefficient is weighted by dividing it by the GDP. The scatter plot is not showed no consequent time dependence could be seen in that. In this occasion the result does not seem to show any relation. The weighting of the GINI moderates its fluctuations, but missing data creates outliers. A pseudo correlation can be noticed in the first $15 - 17$ years of the plot."
   ]
  },
  {
   "cell_type": "markdown",
   "metadata": {},
   "source": [
    "#### GINI coefficient: G7 countries "
   ]
  },
  {
   "cell_type": "code",
   "execution_count": 80,
   "metadata": {},
   "outputs": [
    {
     "data": {
      "text/plain": [
       "<matplotlib.axes._subplots.AxesSubplot at 0x1ef8357f278>"
      ]
     },
     "execution_count": 80,
     "metadata": {},
     "output_type": "execute_result"
    },
    {
     "data": {
      "image/png": "[encoded data removed]",
      "text/plain": [
       "<Figure size 648x288 with 1 Axes>"
      ]
     },
     "metadata": {
      "needs_background": "light"
     },
     "output_type": "display_data"
    }
   ],
   "source": [
    "df_GDP_w=df_GDP_tot_raw.iloc[:,cols].copy()\n",
    "df_GDP_w['GDP_x'] = df_GDP_w.iloc[:,range(-15,0)].mean(axis=1,numeric_only=True)\n",
    "df_GDP_w=df_GDP_w.drop(df_GDP_w.columns[1:17],axis=1)\n",
    "#Country filtering\n",
    "df_GDP_w=df_GDP_w[df_GDP_w['GDP_x']>200*10e9]\n",
    "df_entity_S2 = df_entity_raw.copy()\n",
    "df_entity_S2=df_entity_S2.merge(df_GDP_w, how='left',left_on='countries', right_on='Country Name')\n",
    "df_entity_S2=df_entity_S2[pd.notnull(df_entity_S2['GDP_x'])]\n",
    "df_entity_S2.incorporation_date = pd.to_datetime(df_entity_S2.incorporation_date)\n",
    "df_entity_S2['Year'] = df_entity_S2.apply(lambda row: row['incorporation_date'].year, axis=1)\n",
    "series_panamas = df_entity_S2.groupby(['Year'], axis=0)['Year'].count()\n",
    "series_panamas.index = series_panamas.index.astype(int)\n",
    "series_var_cut=series_var_processing(df_gini,False)\n",
    "df_plot = pd.concat([series_var_cut, series_panamas_cut], axis=1)\n",
    "df_plot.columns = [['Gini coefficient','Panama papers count']]\n",
    "df_plot.plot(figsize=(9,4))"
   ]
  },
  {
   "cell_type": "markdown",
   "metadata": {},
   "source": [
    "As previously mentioned, the countries can be filtered by GDP using the GDP database which used with the correct join can act as a filter also for the others. The result, as in the previous case of the Tax rate, is not very meaningful. The data frame analysed has a lot of missing data, hence showing a continuous trend of it just in the last 10 years. Moreover, even in this small period, no observed correlation can be observed."
   ]
  },
  {
   "cell_type": "markdown",
   "metadata": {},
   "source": [
    "All in all the GINI coefficient has not shown to be dependent from the number of offshore entities.\n",
    "It is probable that the increasing number of offshore entities does indeed strenghten income inequality, but this cannot be proven on a macroscopic scale with the help of data used in this exploration. "
   ]
  },
  {
   "cell_type": "markdown",
   "metadata": {},
   "source": [
    "# What about staying onshore?"
   ]
  },
  {
   "cell_type": "markdown",
   "metadata": {},
   "source": [
    "The exploration above has provided numerous insights not only on the causes influencing entities to go offshore, but also on the consequences that such practises have on the home countries and could have on world income inequality in the long run, as the unknown leaker as mentioned. Some of the causes behind going offshore can be explained with data; in fact further researches are needed to obtain a greater quantity of data and use them to explore which are determinants of the number of offshore companies. In addition the phenomenon is also a sociological one and the story of each entity should be treated separately. All in all a stakeholder analysis should be performed to understand which are the individuals that, hidden behind the privacy curtains of the offshore jurisdictions, evade taxation disabling a proper redistribution of wealth. "
   ]
  }
 ],
 "metadata": {
  "kernelspec": {
   "display_name": "Python 3",
   "language": "python",
   "name": "python3"
  },
  "language_info": {
   "codemirror_mode": {
    "name": "ipython",
    "version": 3
   },
   "file_extension": ".py",
   "mimetype": "text/x-python",
   "name": "python",
   "nbconvert_exporter": "python",
   "pygments_lexer": "ipython3",
   "version": "3.6.7"
  }
 },
 "nbformat": 4,
 "nbformat_minor": 2
}
