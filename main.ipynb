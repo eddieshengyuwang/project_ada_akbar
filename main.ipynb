{
 "cells": [
  {
   "cell_type": "markdown",
   "metadata": {},
   "source": [
    "# THE PANAMA PAPERS"
   ]
  },
  {
   "cell_type": "markdown",
   "metadata": {},
   "source": [
    "## Link to data story\n",
    "The data story can be found at [this link](https://ada-akbar.github.io/2018/12/13/panama-papers.html)"
   ]
  },
  {
   "cell_type": "code",
   "execution_count": 1,
   "metadata": {},
   "outputs": [],
   "source": [
    "# Import the necessary packages to perform the data analysis\n",
    "\n",
    "# packages to process and visualize the data\n",
    "import pandas as pd\n",
    "import numpy as np\n",
    "import seaborn as sns\n",
    "import scipy\n",
    "import matplotlib.pyplot as plt\n",
    "from scipy import stats\n",
    "\n",
    "# import othe useful packages\n",
    "import os\n",
    "from geopy.geocoders import Nominatim\n",
    "from math import pi\n",
    "import math\n",
    "from bokeh.plotting import figure, show, output_file, ColumnDataSource\n",
    "from bokeh.models import HoverTool, LogColorMapper, LogTicker, ColorBar\n",
    "from bokeh.layouts import row as row_plot\n",
    "\n",
    "# packages to improve visual description and analysis\n",
    "from IPython.core.display import display\n",
    "pd.set_option('display.max_columns', 100)"
   ]
  },
  {
   "cell_type": "code",
   "execution_count": 2,
   "metadata": {},
   "outputs": [],
   "source": [
    "# Getting file names\n",
    "\n",
    "DATA_FOLDER = './data/'\n",
    "\n",
    "# Panama papers data\n",
    "edges_csv = 'panama_papers.edges.csv'\n",
    "intermediary_csv = 'panama_papers.nodes.intermediary.csv' # company or individuals\n",
    "address_csv = 'panama_papers.nodes.address.csv'\n",
    "officer_csv = 'panama_papers.nodes.officer.csv'\n",
    "entity_csv = 'panama_papers.nodes.entity.csv' # tax haven companies\n",
    "entity_csv_mod = 'panama_papers_modified.nodes.entity.csv'"
   ]
  },
  {
   "cell_type": "markdown",
   "metadata": {},
   "source": [
    "The followings are the additional datasets used for the investigation taken in the [World Bank Dataset](https://data.worldbank.org):\n",
    "\n",
    "- `API_SI.POV.GINI_DS2_en_csv_v2_10224868.csv`, is the GINI coefficient per country\n",
    "\n",
    "- `API_NY.GDP.MKTP.CD_DS2_en_csv_v2_10224782.csv`, is the GDP per country\n",
    "\n",
    "- `API_NY.GDP.PCAP.CD_DS2_en_csv_v2_10224851.csv`, is the GDP per capita per country\n",
    "\n",
    "- `API_IC.GOV.DURS.ZS_DS2_en_csv_v2_10230883.csv`, is the time spent by business in government regulation per country\n",
    "\n",
    "- `API_GC.TAX.YPKG.RV.ZS_DS2_en_csv_v2_10227627.csv`, is the tax rate on income, profits and capital gains per country\n",
    "\n",
    "- `API_IC.REG.DURS_DS2_en_csv_v2_10225592.csv`, days to open a business\n",
    "\n",
    "Every dataset is divided in n rows as many countries in the world and p columns for a range p of years usually going from the sixties to 2018. Hence each column represent the indicator per year. Not all countries have an indicator each year. Examples are given in the notebook."
   ]
  },
  {
   "cell_type": "code",
   "execution_count": 3,
   "metadata": {},
   "outputs": [],
   "source": [
    "#World Bank dataset\n",
    "GINI_coeff = 'API_SI.POV.GINI_DS2_en_csv_v2_10224868.csv'\n",
    "GDP_tot = 'API_NY.GDP.MKTP.CD_DS2_en_csv_v2_10224782.csv'\n",
    "GDP_cap = 'API_NY.GDP.PCAP.CD_DS2_en_csv_v2_10224851.csv'\n",
    "time_spent_by_bus = 'API_IC.GOV.DURS.ZS_DS2_en_csv_v2_10230883.csv'\n",
    "tax_rate = 'API_GC.TAX.YPKG.RV.ZS_DS2_en_csv_v2_10227627.csv'\n",
    "days_open_business='API_IC.REG.DURS_DS2_en_csv_v2_10225592.csv'"
   ]
  },
  {
   "cell_type": "markdown",
   "metadata": {},
   "source": [
    "The followings are the additional datasets used for the investigation taken in the [Organisation for Economic Co-operation and Development (OECD) database](https://data.oecd.org/):\n",
    "\n",
    "- `corp_tax_rate.csv`, is the corporate tax rate per country from 2000\n",
    "\n",
    "- `business_country.csv`, in the number of businesses per country\n",
    "\n",
    "In this case only the corporate tax rate has different columns, with different data for every year."
   ]
  },
  {
   "cell_type": "code",
   "execution_count": 4,
   "metadata": {},
   "outputs": [],
   "source": [
    "#OECD dataset\n",
    "corp_tax_rate = 'corp_tax_rate.csv'\n",
    "business_country = 'business_country.csv'"
   ]
  },
  {
   "cell_type": "code",
   "execution_count": 5,
   "metadata": {},
   "outputs": [],
   "source": [
    "# Importing the Panama Papers data into DataFrames\n",
    "df_edges_raw = pd.read_csv(DATA_FOLDER + edges_csv,low_memory=False)\n",
    "df_address_raw = pd.read_csv(DATA_FOLDER + address_csv,low_memory=False)\n",
    "df_entity_raw = pd.read_csv(DATA_FOLDER + entity_csv,low_memory=False)\n",
    "df_intermediary_raw = pd.read_csv(DATA_FOLDER + intermediary_csv,low_memory=False)\n",
    "df_officier_raw = pd.read_csv(DATA_FOLDER + officer_csv,low_memory=False)\n",
    "df_entity_mod_raw = pd.read_csv(DATA_FOLDER + entity_csv_mod,low_memory=False,encoding = \"ISO-8859-1\")"
   ]
  },
  {
   "cell_type": "code",
   "execution_count": 6,
   "metadata": {},
   "outputs": [],
   "source": [
    "#Importing World Bank Data\n",
    "df_GDP_tot_raw=pd.read_csv(DATA_FOLDER + GDP_tot,skiprows=4)\n",
    "df_GDP_cap_raw=pd.read_csv(DATA_FOLDER + GDP_cap,skiprows=4)\n",
    "df_tax_rate=pd.read_csv(DATA_FOLDER+tax_rate, skiprows=4)\n",
    "df_ease_business=pd.read_csv(DATA_FOLDER+days_open_business,skiprows=4)\n",
    "df_gini=pd.read_csv(DATA_FOLDER+GINI_coeff, skiprows=4)\n",
    "df_time_regulation=pd.read_csv(DATA_FOLDER+days_open_business, skiprows=4)"
   ]
  },
  {
   "cell_type": "code",
   "execution_count": 7,
   "metadata": {},
   "outputs": [],
   "source": [
    "#Importing OECD Data\n",
    "corp_tax_rate_df = pd.read_csv(DATA_FOLDER + corp_tax_rate)\n",
    "business_country_df = pd.read_csv(DATA_FOLDER + business_country)"
   ]
  },
  {
   "cell_type": "markdown",
   "metadata": {},
   "source": [
    "# Preliminary data wrangling"
   ]
  },
  {
   "cell_type": "markdown",
   "metadata": {},
   "source": [
    "## Handling data size\n",
    "\n",
    "First we will answer the question of whether we can handle the data in size."
   ]
  },
  {
   "cell_type": "code",
   "execution_count": 8,
   "metadata": {},
   "outputs": [
    {
     "name": "stdout",
     "output_type": "stream",
     "text": [
      "Edges shape:  (674102, 8)\n",
      "Intermediary shape:  (14110, 8)\n",
      "Address shape:  (93454, 8)\n",
      "Officer shape:  (238402, 7)\n",
      "Entity shape:  (213634, 17)\n"
     ]
    }
   ],
   "source": [
    "# Printing shapes of each DataFrame to see if any are too large\n",
    "\n",
    "print(\"Edges shape: \", df_edges_raw.shape)\n",
    "print(\"Intermediary shape: \", df_intermediary_raw.shape)\n",
    "print(\"Address shape: \", df_address_raw.shape)\n",
    "print(\"Officer shape: \", df_officier_raw.shape)\n",
    "print(\"Entity shape: \", df_entity_raw.shape)"
   ]
  },
  {
   "cell_type": "markdown",
   "metadata": {},
   "source": [
    "From above, we see that the DataFrame with the most number of rows is around 670,000 rows of data. In total the size of the Panama Papers dataset is around 352 MB, which is small enough for Jupyter Notebook and Pandas to handle effectively. Thus the data can definitely be handled within our approach of using purely a notebook. "
   ]
  },
  {
   "cell_type": "markdown",
   "metadata": {},
   "source": [
    "## Understanding the data\n",
    "\n",
    "Next we understand the data. Although the dataset is downloaded within `csv` format, the data is curated to work well within a graph database (specifically Neo4j as mentioned on the Panama Papers website). Here, the `Edges` table represents the edge connections within a graph database whereas all the other tables (`Intermediary`, `Address`, etc) are nodes within the graph. For example:"
   ]
  },
  {
   "cell_type": "code",
   "execution_count": 9,
   "metadata": {},
   "outputs": [
    {
     "data": {
      "text/html": [
       "<div>\n",
       "<style scoped>\n",
       "    .dataframe tbody tr th:only-of-type {\n",
       "        vertical-align: middle;\n",
       "    }\n",
       "\n",
       "    .dataframe tbody tr th {\n",
       "        vertical-align: top;\n",
       "    }\n",
       "\n",
       "    .dataframe thead th {\n",
       "        text-align: right;\n",
       "    }\n",
       "</style>\n",
       "<table border=\"1\" class=\"dataframe\">\n",
       "  <thead>\n",
       "    <tr style=\"text-align: right;\">\n",
       "      <th></th>\n",
       "      <th>START_ID</th>\n",
       "      <th>TYPE</th>\n",
       "      <th>END_ID</th>\n",
       "      <th>link</th>\n",
       "      <th>start_date</th>\n",
       "      <th>end_date</th>\n",
       "      <th>sourceID</th>\n",
       "      <th>valid_until</th>\n",
       "    </tr>\n",
       "  </thead>\n",
       "  <tbody>\n",
       "    <tr>\n",
       "      <th>0</th>\n",
       "      <td>10000035</td>\n",
       "      <td>registered_address</td>\n",
       "      <td>14095990</td>\n",
       "      <td>registered address</td>\n",
       "      <td>NaN</td>\n",
       "      <td>NaN</td>\n",
       "      <td>Panama Papers</td>\n",
       "      <td>NaN</td>\n",
       "    </tr>\n",
       "  </tbody>\n",
       "</table>\n",
       "</div>"
      ],
      "text/plain": [
       "   START_ID                TYPE    END_ID                link start_date  \\\n",
       "0  10000035  registered_address  14095990  registered address        NaN   \n",
       "\n",
       "  end_date       sourceID valid_until  \n",
       "0      NaN  Panama Papers         NaN  "
      ]
     },
     "metadata": {},
     "output_type": "display_data"
    }
   ],
   "source": [
    "display(df_edges_raw.head(1))"
   ]
  },
  {
   "cell_type": "markdown",
   "metadata": {},
   "source": [
    "To interpret this row in the `Edges` table, the `START_ID` and `END_ID` represent the node ids that the edge is connected to. But the node ids can correspond to any of `Intermediary, Address, Officer, Entity`, which may prove to be difficult in SQL or Pandas merging as we will have to look up the node id in every other table. One solution would be to use Neo4j and the Cypher querying language, which can be used to easily interpret the above information. Below we can see clearly that the start node is an Entity named *CARPENTER NELSON & CO., LTD* and the end node is an Address named *EUROFIN SERVICES S.A. P.O.BOX  6003 LAUSANNE 1002, VAUD SWITZERLAND* and the relationship type is *registered address*.\n",
    "\n",
    "<img src=\"ex_query1.png\" height=\"400\" width=\"1000\">"
   ]
  },
  {
   "cell_type": "markdown",
   "metadata": {},
   "source": [
    "For the purposes of our project, we may not even need to use Neo4j to answer our queries. However we have done the above analyis to identify the format of our data, which is crucial because if we do require a certain query, we understand how we can leverage different tools to achieve our goals.\n",
    "\n",
    "## Data Cleaning\n",
    "\n",
    "We see that `Edges` Dataframe and `Entity` Dataframe have mixed datatypes in their columns so we will inspect those more clearly. "
   ]
  },
  {
   "cell_type": "code",
   "execution_count": 10,
   "metadata": {},
   "outputs": [
    {
     "name": "stdout",
     "output_type": "stream",
     "text": [
      "[2500, 2205, 2201, 2099, 2088, 2088, 2020, 2019, 2015, 2015, 2015, 2015, 2015, 2015, 2015, 2015, 2015, 2015, 2015, 2015]\n",
      "[1974, 1973, 1973, 1972, 1968, 1966, 1965, 1959, 1957, 1957, 1194, 214, 213, 213, 206, 203, 202, 201, 201, 201, 200, 200, 200, 200, 200, 200, 200, 200, 199, 199, 96, 95, 82, 15, 14, 12, 12, 12, 12, 12, 12, 12, 12, 11, 9, 9, 6, 6, 4, 3]\n"
     ]
    }
   ],
   "source": [
    "start_dates = df_edges_raw.start_date.unique()[1:]\n",
    "start_dates = sorted(list(map(lambda x: int(x[-4:]), start_dates)), reverse=True)\n",
    "print(start_dates[:20])\n",
    "print(start_dates[-50:])"
   ]
  },
  {
   "cell_type": "markdown",
   "metadata": {},
   "source": [
    "We first see that the start_date and end_date columns in `Edges` have dates that are nonsensical, such as years that are well before/after 2015. Upon consideration of our research questions, we decide to drop the date columns from `Edges` as well as the Note column in `Entity` (For our research question of timeline of leaked papers, we will need to use the `Entity['incorporation_date']` column)."
   ]
  },
  {
   "cell_type": "code",
   "execution_count": 11,
   "metadata": {},
   "outputs": [],
   "source": [
    "edges = df_edges_raw.drop(columns=['start_date', 'end_date'])\n",
    "entity = df_entity_raw.drop(columns=['note'])"
   ]
  },
  {
   "cell_type": "markdown",
   "metadata": {},
   "source": [
    "Furthermore, we see that the `Entity['incorporation_date']` column have acceptable ranges below so we will convert that column from type object to date."
   ]
  },
  {
   "cell_type": "code",
   "execution_count": 12,
   "metadata": {
    "scrolled": false
   },
   "outputs": [
    {
     "name": "stdout",
     "output_type": "stream",
     "text": [
      "['01-APR-1975' '01-APR-1977' '01-APR-1981' ... '31-OCT-2013' '31-OCT-2014'\n",
      " nan]\n"
     ]
    }
   ],
   "source": [
    "print(entity['incorporation_date'].sort_values().unique())\n",
    "entity.incorporation_date = pd.to_datetime(entity.incorporation_date)"
   ]
  },
  {
   "cell_type": "markdown",
   "metadata": {},
   "source": [
    "## Countries' names formatting"
   ]
  },
  {
   "cell_type": "markdown",
   "metadata": {},
   "source": [
    "Eventually it is important to mention that a number of countries had different spelling in the World Bank data relatively to the names given in the Panama Papers. Hence since the number of these incongruencies was lower than 15, the names were changed manually in the Panama Paper document excel. On top of that certain small countries/islands didn't have data relative to the GDP singularly and they were included by the World Bank in bigger group of countries: for example Jersey and Guernsey are included under the name 'Channel Islands' in the World Bank dataset. Hence the names were changed in the Panama Papers dataset. The new `df_entity_mod_raw` dataframe was not considered in the first analysis because no integration with other databases was performed. "
   ]
  },
  {
   "cell_type": "markdown",
   "metadata": {},
   "source": [
    "# The Panama Papers"
   ]
  },
  {
   "cell_type": "markdown",
   "metadata": {},
   "source": [
    "The Panama Papers are leaked documents that detail financial and attorney–client information for offshore entities. The documents were created by, and taken from, Panamanian law firm and corporate service provider Mossack Fonseca, and were leaked in 2015 by an anonymous source.\n",
    "\n",
    "As shown by the exploratory analysis, the entity document of the Panama Papers is very interesting: it provides a macroscopic view of how many entities per countries are involved in settling companies offshore or funds offshore. The reasons behind making an offshore company are multiple: setting a company offshore is not a crime, but it can be an indication that the business condition in the home country are not always favorable from a privacy point of view, from a bureaucratic point of view and from a tax point of view. Hence it is crucial to understand why entities decide to set their companies offshore and what is the consequence on the home country from a wealth distribution point of view. To carry out this investigation a set of questions which provide a guideline for this analysis are going to be answered:\n",
    "\n",
    "**1)** Which are the jurisdictions in which entities found in Panama papers are registered?\n",
    "\n",
    "**2)** What countries have the most entities register in the Panama papers?\n",
    "\n",
    "**3)** What drives entities to go offshore and consequently how does that affect the country? \n",
    "\n",
    "**4)** What are the consequences of offshore companies on income inequality? "
   ]
  },
  {
   "cell_type": "markdown",
   "metadata": {},
   "source": [
    "## 1) Which are the jurisdictions in which entities found in Panama papers are registered?"
   ]
  },
  {
   "cell_type": "markdown",
   "metadata": {},
   "source": [
    "Here the jurisdiction column of the entity file is considered. It represents the county where the offshore entity is register."
   ]
  },
  {
   "cell_type": "code",
   "execution_count": 13,
   "metadata": {},
   "outputs": [
    {
     "data": {
      "text/plain": [
       "array(['Samoa', 'Panama', 'Nevada', 'United Kingdom', 'Singapore',\n",
       "       'Ras Al Khaimah', 'Isle Of Man', 'British Anguilla', 'Seychelles',\n",
       "       'Niue', 'Uruguay', 'British Virgin Islands', 'Hong Kong',\n",
       "       'New Zealand', 'Bahamas', 'Cyprus', 'Malta', 'Belize', 'Jersey',\n",
       "       'Wyoming', 'Costa Rica'], dtype=object)"
      ]
     },
     "execution_count": 13,
     "metadata": {},
     "output_type": "execute_result"
    }
   ],
   "source": [
    "df_entity_raw['jurisdiction_description'].unique()"
   ]
  },
  {
   "cell_type": "markdown",
   "metadata": {},
   "source": [
    "To better represent all the country present on different graph, all the countries appearing less times than a certain number called here threshold are grouped and considered in following steps as `Others`."
   ]
  },
  {
   "cell_type": "code",
   "execution_count": 14,
   "metadata": {
    "scrolled": true
   },
   "outputs": [
    {
     "data": {
      "text/plain": [
       "British Virgin Islands    113648\n",
       "Panama                     48360\n",
       "Bahamas                    15915\n",
       "Seychelles                 15182\n",
       "Niue                        9611\n",
       "Samoa                       5307\n",
       "British Anguilla            3253\n",
       "Nevada                      1260\n",
       "Others                      1098\n",
       "Name: jurisdiction_description, dtype: int64"
      ]
     },
     "execution_count": 14,
     "metadata": {},
     "output_type": "execute_result"
    }
   ],
   "source": [
    "threshold1=1000\n",
    "df_entity_S1=df_entity_raw.copy()\n",
    "vc=df_entity_S1.jurisdiction_description.value_counts()\n",
    "tax_havens_L=list(vc[vc > threshold1].index)\n",
    "tax_havens_S=list(vc[vc <= threshold1].index)\n",
    "df_entity_S1.loc[~df_entity_S1.jurisdiction_description.isin(tax_havens_L), 'jurisdiction_description'] = 'Others'\n",
    "df_entity_S1.jurisdiction_description.value_counts()"
   ]
  },
  {
   "cell_type": "markdown",
   "metadata": {},
   "source": [
    "A simple histogram is plotted. Logarithmic scale on the $y-axis$ is later applied noticed an approximated exponential distribution. It could be an interesting aspect to investigate. "
   ]
  },
  {
   "cell_type": "code",
   "execution_count": 15,
   "metadata": {
    "scrolled": true
   },
   "outputs": [
    {
     "name": "stdout",
     "output_type": "stream",
     "text": [
      "Countries in Others category are:  ['Hong Kong', 'United Kingdom', 'Belize', 'Costa Rica', 'Cyprus', 'Uruguay', 'New Zealand', 'Jersey', 'Wyoming', 'Malta', 'Isle Of Man', 'Ras Al Khaimah', 'Singapore']\n"
     ]
    },
    {
     "data": {
      "image/png": "[encoded data removed]",
      "text/plain": [
       "<Figure size 432x288 with 1 Axes>"
      ]
     },
     "metadata": {},
     "output_type": "display_data"
    }
   ],
   "source": [
    "df_entity_S1.jurisdiction_description.value_counts().plot(kind='bar',title='Jurisdiction description', logy=True)\n",
    "print('Countries in Others category are: ',tax_havens_S)"
   ]
  },
  {
   "cell_type": "markdown",
   "metadata": {},
   "source": [
    "Finally, we output a world map to better visualize all the jurisdictions that have offshore entities registered. First we find the latitude and longitude of all jurisdictions with help of the `Geopy` library."
   ]
  },
  {
   "cell_type": "code",
   "execution_count": 16,
   "metadata": {},
   "outputs": [],
   "source": [
    "jurisdiction_df = pd.DataFrame(df_entity_raw.jurisdiction_description.value_counts())\n",
    "jurisdiction_df.reset_index(inplace=True)\n",
    "jurisdiction_df.columns = [\"Area\", \"Count\"]\n",
    "\n",
    "# getting long, lat for all jurisdictions\n",
    "geolocator = Nominatim(user_agent='ADA_AKBAR')\n",
    "j_lat = []\n",
    "j_long = []\n",
    "\n",
    "for ind, row in jurisdiction_df.iterrows():\n",
    "    if row['Area'] == 'British Anguilla':\n",
    "        location = geolocator.geocode('Anguilla')\n",
    "    else:\n",
    "        location = geolocator.geocode(row['Area'])\n",
    "    j_lat.append(location.latitude)\n",
    "    j_long.append(location.longitude)\n",
    "\n",
    "jurisdiction_df['Latitude'] = j_lat\n",
    "jurisdiction_df['Longitude'] = j_long"
   ]
  },
  {
   "cell_type": "markdown",
   "metadata": {},
   "source": [
    "Next to plot on Bokeh, we use the Mercator Projection, which converts longitude and latitude coordinates onto the Cartesian grid so that Bokeh can successfully represent them in the plot. The equation for the Mercator Projection is:\n",
    "\n",
    "![merc](proj_jekyll/img/merc.png)"
   ]
  },
  {
   "cell_type": "code",
   "execution_count": 17,
   "metadata": {},
   "outputs": [],
   "source": [
    "def merc(lat_lst, lon_lst):\n",
    "    x_lst = []\n",
    "    y_lst = []\n",
    "    for i in range(len(lat_lst)):\n",
    "        lat = lat_lst[i]\n",
    "        lon = lon_lst[i]\n",
    "        r_major = 6378137.000\n",
    "        x = r_major * math.radians(lon)\n",
    "        scale = x/lon\n",
    "        y = 180.0/math.pi * math.log(math.tan(math.pi/4.0 + \n",
    "            lat * (math.pi/180.0)/2.0)) * scale\n",
    "        x_lst.append(x)\n",
    "        y_lst.append(y)\n",
    "    return x_lst, y_lst\n",
    "\n",
    "x_y = merc(jurisdiction_df.Latitude, jurisdiction_df.Longitude)\n",
    "jurisdiction_df['x'] = x_y[0]\n",
    "jurisdiction_df['y'] = x_y[1]"
   ]
  },
  {
   "cell_type": "markdown",
   "metadata": {},
   "source": [
    "Finally we plot the map with hovering capabilities."
   ]
  },
  {
   "cell_type": "code",
   "execution_count": 18,
   "metadata": {},
   "outputs": [
    {
     "data": {
      "text/html": [
       "\n",
       "    <div class=\"bk-root\">\n",
       "        <a href=\"https://bokeh.pydata.org\" target=\"_blank\" class=\"bk-logo bk-logo-small bk-logo-notebook\"></a>\n",
       "        <span id=\"a00039ef-2930-4216-8a00-eed5d17fc51e\">Loading BokehJS ...</span>\n",
       "    </div>"
      ]
     },
     "metadata": {},
     "output_type": "display_data"
    },
    {
     "data": {
      "application/javascript": [
       "\n",
       "(function(root) {\n",
       "  function now() {\n",
       "    return new Date();\n",
       "  }\n",
       "\n",
       "  var force = true;\n",
       "\n",
       "  if (typeof (root._bokeh_onload_callbacks) === \"undefined\" || force === true) {\n",
       "    root._bokeh_onload_callbacks = [];\n",
       "    root._bokeh_is_loading = undefined;\n",
       "  }\n",
       "\n",
       "  var JS_MIME_TYPE = 'application/javascript';\n",
       "  var HTML_MIME_TYPE = 'text/html';\n",
       "  var EXEC_MIME_TYPE = 'application/vnd.bokehjs_exec.v0+json';\n",
       "  var CLASS_NAME = 'output_bokeh rendered_html';\n",
       "\n",
       "  /**\n",
       "   * Render data to the DOM node\n",
       "   */\n",
       "  function render(props, node) {\n",
       "    var script = document.createElement(\"script\");\n",
       "    node.appendChild(script);\n",
       "  }\n",
       "\n",
       "  /**\n",
       "   * Handle when an output is cleared or removed\n",
       "   */\n",
       "  function handleClearOutput(event, handle) {\n",
       "    var cell = handle.cell;\n",
       "\n",
       "    var id = cell.output_area._bokeh_element_id;\n",
       "    var server_id = cell.output_area._bokeh_server_id;\n",
       "    // Clean up Bokeh references\n",
       "    if (id !== undefined) {\n",
       "      Bokeh.index[id].model.document.clear();\n",
       "      delete Bokeh.index[id];\n",
       "    }\n",
       "\n",
       "    if (server_id !== undefined) {\n",
       "      // Clean up Bokeh references\n",
       "      var cmd = \"from bokeh.io.state import curstate; print(curstate().uuid_to_server['\" + server_id + \"'].get_sessions()[0].document.roots[0]._id)\";\n",
       "      cell.notebook.kernel.execute(cmd, {\n",
       "        iopub: {\n",
       "          output: function(msg) {\n",
       "            var element_id = msg.content.text.trim();\n",
       "            Bokeh.index[element_id].model.document.clear();\n",
       "            delete Bokeh.index[element_id];\n",
       "          }\n",
       "        }\n",
       "      });\n",
       "      // Destroy server and session\n",
       "      var cmd = \"import bokeh.io.notebook as ion; ion.destroy_server('\" + server_id + \"')\";\n",
       "      cell.notebook.kernel.execute(cmd);\n",
       "    }\n",
       "  }\n",
       "\n",
       "  /**\n",
       "   * Handle when a new output is added\n",
       "   */\n",
       "  function handleAddOutput(event, handle) {\n",
       "    var output_area = handle.output_area;\n",
       "    var output = handle.output;\n",
       "\n",
       "    // limit handleAddOutput to display_data with EXEC_MIME_TYPE content only\n",
       "    if ((output.output_type != \"display_data\") || (!output.data.hasOwnProperty(EXEC_MIME_TYPE))) {\n",
       "      return\n",
       "    }\n",
       "\n",
       "    var toinsert = output_area.element.find(\".\" + CLASS_NAME.split(' ')[0]);\n",
       "\n",
       "    if (output.metadata[EXEC_MIME_TYPE][\"id\"] !== undefined) {\n",
       "      toinsert[toinsert.length - 1].firstChild.textContent = output.data[JS_MIME_TYPE];\n",
       "      // store reference to embed id on output_area\n",
       "      output_area._bokeh_element_id = output.metadata[EXEC_MIME_TYPE][\"id\"];\n",
       "    }\n",
       "    if (output.metadata[EXEC_MIME_TYPE][\"server_id\"] !== undefined) {\n",
       "      var bk_div = document.createElement(\"div\");\n",
       "      bk_div.innerHTML = output.data[HTML_MIME_TYPE];\n",
       "      var script_attrs = bk_div.children[0].attributes;\n",
       "      for (var i = 0; i < script_attrs.length; i++) {\n",
       "        toinsert[toinsert.length - 1].firstChild.setAttribute(script_attrs[i].name, script_attrs[i].value);\n",
       "      }\n",
       "      // store reference to server id on output_area\n",
       "      output_area._bokeh_server_id = output.metadata[EXEC_MIME_TYPE][\"server_id\"];\n",
       "    }\n",
       "  }\n",
       "\n",
       "  function register_renderer(events, OutputArea) {\n",
       "\n",
       "    function append_mime(data, metadata, element) {\n",
       "      // create a DOM node to render to\n",
       "      var toinsert = this.create_output_subarea(\n",
       "        metadata,\n",
       "        CLASS_NAME,\n",
       "        EXEC_MIME_TYPE\n",
       "      );\n",
       "      this.keyboard_manager.register_events(toinsert);\n",
       "      // Render to node\n",
       "      var props = {data: data, metadata: metadata[EXEC_MIME_TYPE]};\n",
       "      render(props, toinsert[toinsert.length - 1]);\n",
       "      element.append(toinsert);\n",
       "      return toinsert\n",
       "    }\n",
       "\n",
       "    /* Handle when an output is cleared or removed */\n",
       "    events.on('clear_output.CodeCell', handleClearOutput);\n",
       "    events.on('delete.Cell', handleClearOutput);\n",
       "\n",
       "    /* Handle when a new output is added */\n",
       "    events.on('output_added.OutputArea', handleAddOutput);\n",
       "\n",
       "    /**\n",
       "     * Register the mime type and append_mime function with output_area\n",
       "     */\n",
       "    OutputArea.prototype.register_mime_type(EXEC_MIME_TYPE, append_mime, {\n",
       "      /* Is output safe? */\n",
       "      safe: true,\n",
       "      /* Index of renderer in `output_area.display_order` */\n",
       "      index: 0\n",
       "    });\n",
       "  }\n",
       "\n",
       "  // register the mime type if in Jupyter Notebook environment and previously unregistered\n",
       "  if (root.Jupyter !== undefined) {\n",
       "    var events = require('base/js/events');\n",
       "    var OutputArea = require('notebook/js/outputarea').OutputArea;\n",
       "\n",
       "    if (OutputArea.prototype.mime_types().indexOf(EXEC_MIME_TYPE) == -1) {\n",
       "      register_renderer(events, OutputArea);\n",
       "    }\n",
       "  }\n",
       "\n",
       "  \n",
       "  if (typeof (root._bokeh_timeout) === \"undefined\" || force === true) {\n",
       "    root._bokeh_timeout = Date.now() + 5000;\n",
       "    root._bokeh_failed_load = false;\n",
       "  }\n",
       "\n",
       "  var NB_LOAD_WARNING = {'data': {'text/html':\n",
       "     \"<div style='background-color: #fdd'>\\n\"+\n",
       "     \"<p>\\n\"+\n",
       "     \"BokehJS does not appear to have successfully loaded. If loading BokehJS from CDN, this \\n\"+\n",
       "     \"may be due to a slow or bad network connection. Possible fixes:\\n\"+\n",
       "     \"</p>\\n\"+\n",
       "     \"<ul>\\n\"+\n",
       "     \"<li>re-rerun `output_notebook()` to attempt to load from CDN again, or</li>\\n\"+\n",
       "     \"<li>use INLINE resources instead, as so:</li>\\n\"+\n",
       "     \"</ul>\\n\"+\n",
       "     \"<code>\\n\"+\n",
       "     \"from bokeh.resources import INLINE\\n\"+\n",
       "     \"output_notebook(resources=INLINE)\\n\"+\n",
       "     \"</code>\\n\"+\n",
       "     \"</div>\"}};\n",
       "\n",
       "  function display_loaded() {\n",
       "    var el = document.getElementById(\"a00039ef-2930-4216-8a00-eed5d17fc51e\");\n",
       "    if (el != null) {\n",
       "      el.textContent = \"BokehJS is loading...\";\n",
       "    }\n",
       "    if (root.Bokeh !== undefined) {\n",
       "      if (el != null) {\n",
       "        el.textContent = \"BokehJS \" + root.Bokeh.version + \" successfully loaded.\";\n",
       "      }\n",
       "    } else if (Date.now() < root._bokeh_timeout) {\n",
       "      setTimeout(display_loaded, 100)\n",
       "    }\n",
       "  }\n",
       "\n",
       "\n",
       "  function run_callbacks() {\n",
       "    try {\n",
       "      root._bokeh_onload_callbacks.forEach(function(callback) { callback() });\n",
       "    }\n",
       "    finally {\n",
       "      delete root._bokeh_onload_callbacks\n",
       "    }\n",
       "    console.info(\"Bokeh: all callbacks have finished\");\n",
       "  }\n",
       "\n",
       "  function load_libs(js_urls, callback) {\n",
       "    root._bokeh_onload_callbacks.push(callback);\n",
       "    if (root._bokeh_is_loading > 0) {\n",
       "      console.log(\"Bokeh: BokehJS is being loaded, scheduling callback at\", now());\n",
       "      return null;\n",
       "    }\n",
       "    if (js_urls == null || js_urls.length === 0) {\n",
       "      run_callbacks();\n",
       "      return null;\n",
       "    }\n",
       "    console.log(\"Bokeh: BokehJS not loaded, scheduling load and callback at\", now());\n",
       "    root._bokeh_is_loading = js_urls.length;\n",
       "    for (var i = 0; i < js_urls.length; i++) {\n",
       "      var url = js_urls[i];\n",
       "      var s = document.createElement('script');\n",
       "      s.src = url;\n",
       "      s.async = false;\n",
       "      s.onreadystatechange = s.onload = function() {\n",
       "        root._bokeh_is_loading--;\n",
       "        if (root._bokeh_is_loading === 0) {\n",
       "          console.log(\"Bokeh: all BokehJS libraries loaded\");\n",
       "          run_callbacks()\n",
       "        }\n",
       "      };\n",
       "      s.onerror = function() {\n",
       "        console.warn(\"failed to load library \" + url);\n",
       "      };\n",
       "      console.log(\"Bokeh: injecting script tag for BokehJS library: \", url);\n",
       "      document.getElementsByTagName(\"head\")[0].appendChild(s);\n",
       "    }\n",
       "  };var element = document.getElementById(\"a00039ef-2930-4216-8a00-eed5d17fc51e\");\n",
       "  if (element == null) {\n",
       "    console.log(\"Bokeh: ERROR: autoload.js configured with elementid 'a00039ef-2930-4216-8a00-eed5d17fc51e' but no matching script tag was found. \")\n",
       "    return false;\n",
       "  }\n",
       "\n",
       "  var js_urls = [\"https://cdn.pydata.org/bokeh/release/bokeh-0.12.16.min.js\", \"https://cdn.pydata.org/bokeh/release/bokeh-widgets-0.12.16.min.js\", \"https://cdn.pydata.org/bokeh/release/bokeh-tables-0.12.16.min.js\", \"https://cdn.pydata.org/bokeh/release/bokeh-gl-0.12.16.min.js\"];\n",
       "\n",
       "  var inline_js = [\n",
       "    function(Bokeh) {\n",
       "      Bokeh.set_log_level(\"info\");\n",
       "    },\n",
       "    \n",
       "    function(Bokeh) {\n",
       "      \n",
       "    },\n",
       "    function(Bokeh) {\n",
       "      console.log(\"Bokeh: injecting CSS: https://cdn.pydata.org/bokeh/release/bokeh-0.12.16.min.css\");\n",
       "      Bokeh.embed.inject_css(\"https://cdn.pydata.org/bokeh/release/bokeh-0.12.16.min.css\");\n",
       "      console.log(\"Bokeh: injecting CSS: https://cdn.pydata.org/bokeh/release/bokeh-widgets-0.12.16.min.css\");\n",
       "      Bokeh.embed.inject_css(\"https://cdn.pydata.org/bokeh/release/bokeh-widgets-0.12.16.min.css\");\n",
       "      console.log(\"Bokeh: injecting CSS: https://cdn.pydata.org/bokeh/release/bokeh-tables-0.12.16.min.css\");\n",
       "      Bokeh.embed.inject_css(\"https://cdn.pydata.org/bokeh/release/bokeh-tables-0.12.16.min.css\");\n",
       "    }\n",
       "  ];\n",
       "\n",
       "  function run_inline_js() {\n",
       "    \n",
       "    if ((root.Bokeh !== undefined) || (force === true)) {\n",
       "      for (var i = 0; i < inline_js.length; i++) {\n",
       "        inline_js[i].call(root, root.Bokeh);\n",
       "      }if (force === true) {\n",
       "        display_loaded();\n",
       "      }} else if (Date.now() < root._bokeh_timeout) {\n",
       "      setTimeout(run_inline_js, 100);\n",
       "    } else if (!root._bokeh_failed_load) {\n",
       "      console.log(\"Bokeh: BokehJS failed to load within specified timeout.\");\n",
       "      root._bokeh_failed_load = true;\n",
       "    } else if (force !== true) {\n",
       "      var cell = $(document.getElementById(\"a00039ef-2930-4216-8a00-eed5d17fc51e\")).parents('.cell').data().cell;\n",
       "      cell.output_area.append_execute_result(NB_LOAD_WARNING)\n",
       "    }\n",
       "\n",
       "  }\n",
       "\n",
       "  if (root._bokeh_is_loading === 0) {\n",
       "    console.log(\"Bokeh: BokehJS loaded, going straight to plotting\");\n",
       "    run_inline_js();\n",
       "  } else {\n",
       "    load_libs(js_urls, function() {\n",
       "      console.log(\"Bokeh: BokehJS plotting callback run at\", now());\n",
       "      run_inline_js();\n",
       "    });\n",
       "  }\n",
       "}(window));"
      ],
      "application/vnd.bokehjs_load.v0+json": "\n(function(root) {\n  function now() {\n    return new Date();\n  }\n\n  var force = true;\n\n  if (typeof (root._bokeh_onload_callbacks) === \"undefined\" || force === true) {\n    root._bokeh_onload_callbacks = [];\n    root._bokeh_is_loading = undefined;\n  }\n\n  \n\n  \n  if (typeof (root._bokeh_timeout) === \"undefined\" || force === true) {\n    root._bokeh_timeout = Date.now() + 5000;\n    root._bokeh_failed_load = false;\n  }\n\n  var NB_LOAD_WARNING = {'data': {'text/html':\n     \"<div style='background-color: #fdd'>\\n\"+\n     \"<p>\\n\"+\n     \"BokehJS does not appear to have successfully loaded. If loading BokehJS from CDN, this \\n\"+\n     \"may be due to a slow or bad network connection. Possible fixes:\\n\"+\n     \"</p>\\n\"+\n     \"<ul>\\n\"+\n     \"<li>re-rerun `output_notebook()` to attempt to load from CDN again, or</li>\\n\"+\n     \"<li>use INLINE resources instead, as so:</li>\\n\"+\n     \"</ul>\\n\"+\n     \"<code>\\n\"+\n     \"from bokeh.resources import INLINE\\n\"+\n     \"output_notebook(resources=INLINE)\\n\"+\n     \"</code>\\n\"+\n     \"</div>\"}};\n\n  function display_loaded() {\n    var el = document.getElementById(\"a00039ef-2930-4216-8a00-eed5d17fc51e\");\n    if (el != null) {\n      el.textContent = \"BokehJS is loading...\";\n    }\n    if (root.Bokeh !== undefined) {\n      if (el != null) {\n        el.textContent = \"BokehJS \" + root.Bokeh.version + \" successfully loaded.\";\n      }\n    } else if (Date.now() < root._bokeh_timeout) {\n      setTimeout(display_loaded, 100)\n    }\n  }\n\n\n  function run_callbacks() {\n    try {\n      root._bokeh_onload_callbacks.forEach(function(callback) { callback() });\n    }\n    finally {\n      delete root._bokeh_onload_callbacks\n    }\n    console.info(\"Bokeh: all callbacks have finished\");\n  }\n\n  function load_libs(js_urls, callback) {\n    root._bokeh_onload_callbacks.push(callback);\n    if (root._bokeh_is_loading > 0) {\n      console.log(\"Bokeh: BokehJS is being loaded, scheduling callback at\", now());\n      return null;\n    }\n    if (js_urls == null || js_urls.length === 0) {\n      run_callbacks();\n      return null;\n    }\n    console.log(\"Bokeh: BokehJS not loaded, scheduling load and callback at\", now());\n    root._bokeh_is_loading = js_urls.length;\n    for (var i = 0; i < js_urls.length; i++) {\n      var url = js_urls[i];\n      var s = document.createElement('script');\n      s.src = url;\n      s.async = false;\n      s.onreadystatechange = s.onload = function() {\n        root._bokeh_is_loading--;\n        if (root._bokeh_is_loading === 0) {\n          console.log(\"Bokeh: all BokehJS libraries loaded\");\n          run_callbacks()\n        }\n      };\n      s.onerror = function() {\n        console.warn(\"failed to load library \" + url);\n      };\n      console.log(\"Bokeh: injecting script tag for BokehJS library: \", url);\n      document.getElementsByTagName(\"head\")[0].appendChild(s);\n    }\n  };var element = document.getElementById(\"a00039ef-2930-4216-8a00-eed5d17fc51e\");\n  if (element == null) {\n    console.log(\"Bokeh: ERROR: autoload.js configured with elementid 'a00039ef-2930-4216-8a00-eed5d17fc51e' but no matching script tag was found. \")\n    return false;\n  }\n\n  var js_urls = [\"https://cdn.pydata.org/bokeh/release/bokeh-0.12.16.min.js\", \"https://cdn.pydata.org/bokeh/release/bokeh-widgets-0.12.16.min.js\", \"https://cdn.pydata.org/bokeh/release/bokeh-tables-0.12.16.min.js\", \"https://cdn.pydata.org/bokeh/release/bokeh-gl-0.12.16.min.js\"];\n\n  var inline_js = [\n    function(Bokeh) {\n      Bokeh.set_log_level(\"info\");\n    },\n    \n    function(Bokeh) {\n      \n    },\n    function(Bokeh) {\n      console.log(\"Bokeh: injecting CSS: https://cdn.pydata.org/bokeh/release/bokeh-0.12.16.min.css\");\n      Bokeh.embed.inject_css(\"https://cdn.pydata.org/bokeh/release/bokeh-0.12.16.min.css\");\n      console.log(\"Bokeh: injecting CSS: https://cdn.pydata.org/bokeh/release/bokeh-widgets-0.12.16.min.css\");\n      Bokeh.embed.inject_css(\"https://cdn.pydata.org/bokeh/release/bokeh-widgets-0.12.16.min.css\");\n      console.log(\"Bokeh: injecting CSS: https://cdn.pydata.org/bokeh/release/bokeh-tables-0.12.16.min.css\");\n      Bokeh.embed.inject_css(\"https://cdn.pydata.org/bokeh/release/bokeh-tables-0.12.16.min.css\");\n    }\n  ];\n\n  function run_inline_js() {\n    \n    if ((root.Bokeh !== undefined) || (force === true)) {\n      for (var i = 0; i < inline_js.length; i++) {\n        inline_js[i].call(root, root.Bokeh);\n      }if (force === true) {\n        display_loaded();\n      }} else if (Date.now() < root._bokeh_timeout) {\n      setTimeout(run_inline_js, 100);\n    } else if (!root._bokeh_failed_load) {\n      console.log(\"Bokeh: BokehJS failed to load within specified timeout.\");\n      root._bokeh_failed_load = true;\n    } else if (force !== true) {\n      var cell = $(document.getElementById(\"a00039ef-2930-4216-8a00-eed5d17fc51e\")).parents('.cell').data().cell;\n      cell.output_area.append_execute_result(NB_LOAD_WARNING)\n    }\n\n  }\n\n  if (root._bokeh_is_loading === 0) {\n    console.log(\"Bokeh: BokehJS loaded, going straight to plotting\");\n    run_inline_js();\n  } else {\n    load_libs(js_urls, function() {\n      console.log(\"Bokeh: BokehJS plotting callback run at\", now());\n      run_inline_js();\n    });\n  }\n}(window));"
     },
     "metadata": {},
     "output_type": "display_data"
    },
    {
     "data": {
      "text/html": [
       "\n",
       "<div class=\"bk-root\">\n",
       "    <div class=\"bk-plotdiv\" id=\"8ef4fe1a-2e44-4024-883a-deb585338858\"></div>\n",
       "</div>"
      ]
     },
     "metadata": {},
     "output_type": "display_data"
    },
    {
     "data": {
      "application/javascript": [
       "(function(root) {\n",
       "  function embed_document(root) {\n",
       "    \n",
       "  var docs_json = {\"568b1f36-1b51-4fb6-ad9a-29054d5a1027\":{\"roots\":{\"references\":[{\"attributes\":{\"plot\":{\"id\":\"34ac6096-4bd3-45c1-939d-bd181cf703fa\",\"subtype\":\"Figure\",\"type\":\"Plot\"},\"ticker\":{\"id\":\"f9972300-9ebf-4858-8cdd-ab44fbc9bd65\",\"type\":\"MercatorTicker\"}},\"id\":\"fc1e1687-56e6-43b0-a63a-6e32c4bf6d3b\",\"type\":\"Grid\"},{\"attributes\":{\"attribution\":\"&copy; <a href=\\\"https://www.openstreetmap.org/copyright\\\">OpenStreetMap</a> contributors,&copy; <a href=\\\"https://cartodb.com/attributions\\\">CartoDB</a>\",\"url\":\"https://tiles.basemaps.cartocdn.com/light_all/{z}/{x}/{y}.png\"},\"id\":\"db34b3a1-02d9-463a-bb8b-4a09672566b1\",\"type\":\"WMTSTileSource\"},{\"attributes\":{\"formatter\":{\"id\":\"aaeea170-9d0e-4e54-950f-e2e58a441469\",\"type\":\"MercatorTickFormatter\"},\"plot\":{\"id\":\"34ac6096-4bd3-45c1-939d-bd181cf703fa\",\"subtype\":\"Figure\",\"type\":\"Plot\"},\"ticker\":{\"id\":\"642e26f3-0ab7-4359-afaf-68d81f7b06a1\",\"type\":\"MercatorTicker\"}},\"id\":\"4018c562-b6fd-4309-aa23-0d5ed1b6388e\",\"type\":\"MercatorAxis\"},{\"attributes\":{\"source\":{\"id\":\"155be5aa-aaf6-4ba6-acbe-a149ac0894c4\",\"type\":\"ColumnDataSource\"}},\"id\":\"f4121772-ceb0-4e4c-9647-85ae27bd1503\",\"type\":\"CDSView\"},{\"attributes\":{\"dimension\":\"lat\"},\"id\":\"642e26f3-0ab7-4359-afaf-68d81f7b06a1\",\"type\":\"MercatorTicker\"},{\"attributes\":{\"dimension\":1,\"plot\":{\"id\":\"34ac6096-4bd3-45c1-939d-bd181cf703fa\",\"subtype\":\"Figure\",\"type\":\"Plot\"},\"ticker\":{\"id\":\"642e26f3-0ab7-4359-afaf-68d81f7b06a1\",\"type\":\"MercatorTicker\"}},\"id\":\"356840ac-9439-4218-b3ed-c2f5c78047d5\",\"type\":\"Grid\"},{\"attributes\":{\"data_source\":{\"id\":\"155be5aa-aaf6-4ba6-acbe-a149ac0894c4\",\"type\":\"ColumnDataSource\"},\"glyph\":{\"id\":\"3859476f-3b99-4725-a09c-8b4481b20ea1\",\"type\":\"Circle\"},\"hover_glyph\":null,\"muted_glyph\":null,\"nonselection_glyph\":{\"id\":\"4ddb95f3-7810-42c5-b3d5-6da47be06dee\",\"type\":\"Circle\"},\"selection_glyph\":null,\"view\":{\"id\":\"f4121772-ceb0-4e4c-9647-85ae27bd1503\",\"type\":\"CDSView\"}},\"id\":\"ad61311a-b305-4c97-a1fc-cbd0a3f3ebe4\",\"type\":\"GlyphRenderer\"},{\"attributes\":{\"children\":[{\"id\":\"34ac6096-4bd3-45c1-939d-bd181cf703fa\",\"subtype\":\"Figure\",\"type\":\"Plot\"},{\"id\":\"9b2b6f7f-9f67-4381-9466-5a50c8ac5421\",\"type\":\"WidgetBox\"}]},\"id\":\"8e3bfbcd-b360-4289-9cb3-f7828fb4872f\",\"type\":\"Row\"},{\"attributes\":{},\"id\":\"ccbef584-25b7-40de-a24c-998c6caefa05\",\"type\":\"PanTool\"},{\"attributes\":{},\"id\":\"7c7c7120-fac0-4460-b314-aa6545cf1b45\",\"type\":\"WheelZoomTool\"},{\"attributes\":{},\"id\":\"c7217de4-4bdb-436a-bb66-74671c703755\",\"type\":\"SaveTool\"},{\"attributes\":{\"fill_alpha\":{\"value\":0.05},\"fill_color\":{\"value\":\"#FF0000\"},\"line_color\":{\"value\":\"#FF0000\"},\"size\":{\"units\":\"screen\",\"value\":10},\"x\":{\"field\":\"x\"},\"y\":{\"field\":\"y\"}},\"id\":\"3859476f-3b99-4725-a09c-8b4481b20ea1\",\"type\":\"Circle\"},{\"attributes\":{\"fill_alpha\":{\"value\":0.1},\"fill_color\":{\"value\":\"#1f77b4\"},\"line_alpha\":{\"value\":0.1},\"line_color\":{\"value\":\"#1f77b4\"},\"size\":{\"units\":\"screen\",\"value\":10},\"x\":{\"field\":\"x\"},\"y\":{\"field\":\"y\"}},\"id\":\"4ddb95f3-7810-42c5-b3d5-6da47be06dee\",\"type\":\"Circle\"},{\"attributes\":{\"editor\":{\"id\":\"62782cec-e0b0-4e0c-afa7-46eb770b152d\",\"type\":\"StringEditor\"},\"field\":\"count\",\"formatter\":{\"id\":\"b3348a97-aa66-4e5b-a838-69baabac0a94\",\"type\":\"StringFormatter\"},\"title\":\"Count\"},\"id\":\"cff0e3cd-6525-4ddc-96c7-07134c3a8f82\",\"type\":\"TableColumn\"},{\"attributes\":{\"editor\":{\"id\":\"f5e2dadf-875a-4031-9f05-ef64ded7c9f6\",\"type\":\"StringEditor\"},\"field\":\"area\",\"formatter\":{\"id\":\"d690ca01-8887-42ab-91e9-62afb370a7ce\",\"type\":\"StringFormatter\"},\"title\":\"Area\"},\"id\":\"14ac350f-23c6-4a43-8e9c-3b296c040c84\",\"type\":\"TableColumn\"},{\"attributes\":{\"columns\":[{\"id\":\"14ac350f-23c6-4a43-8e9c-3b296c040c84\",\"type\":\"TableColumn\"},{\"id\":\"cff0e3cd-6525-4ddc-96c7-07134c3a8f82\",\"type\":\"TableColumn\"}],\"height\":350,\"source\":{\"id\":\"155be5aa-aaf6-4ba6-acbe-a149ac0894c4\",\"type\":\"ColumnDataSource\"},\"view\":{\"id\":\"7814ad72-ff8f-4cc3-b44e-b30424557a05\",\"type\":\"CDSView\"},\"width\":200},\"id\":\"98471dc9-612a-4aa0-bbb0-6f8d1e5a4489\",\"type\":\"DataTable\"},{\"attributes\":{\"dimension\":\"lat\"},\"id\":\"aaeea170-9d0e-4e54-950f-e2e58a441469\",\"type\":\"MercatorTickFormatter\"},{\"attributes\":{\"source\":{\"id\":\"155be5aa-aaf6-4ba6-acbe-a149ac0894c4\",\"type\":\"ColumnDataSource\"}},\"id\":\"7814ad72-ff8f-4cc3-b44e-b30424557a05\",\"type\":\"CDSView\"},{\"attributes\":{\"children\":[{\"id\":\"8e3bfbcd-b360-4289-9cb3-f7828fb4872f\",\"type\":\"Row\"}]},\"id\":\"d0688e97-f25c-403d-a916-6f7c6b2e4297\",\"type\":\"Column\"},{\"attributes\":{},\"id\":\"20cbc745-13a0-4c0a-a1a6-5ac24cfa6126\",\"type\":\"Selection\"},{\"attributes\":{},\"id\":\"ded0ce04-dc24-44e9-9a89-9e6eac870596\",\"type\":\"UnionRenderers\"},{\"attributes\":{},\"id\":\"d690ca01-8887-42ab-91e9-62afb370a7ce\",\"type\":\"StringFormatter\"},{\"attributes\":{\"callback\":null,\"data\":{\"area\":[\"British Virgin Islands\",\"Panama\",\"Bahamas\",\"Seychelles\",\"Niue\",\"Samoa\",\"British Anguilla\",\"Nevada\",\"Hong Kong\",\"United Kingdom\",\"Belize\",\"Costa Rica\",\"Cyprus\",\"Uruguay\",\"New Zealand\",\"Jersey\",\"Wyoming\",\"Malta\",\"Isle Of Man\",\"Ras Al Khaimah\",\"Singapore\"],\"count\":[113648,48360,15915,15182,9611,5307,3253,1260,452,148,130,78,76,52,47,39,37,28,8,2,1],\"x\":[-7187472.52121889,-9051012.04859185,-8682926.371051485,6173112.667714758,-18908877.99671455,-19160316.41036838,-7021479.486661815,-13008096.908262393,12708546.221819662,-364746.6939418176,-9880728.32212776,-9359064.872463409,3689698.8268976193,-6236134.850461531,19239838.256721042,-236620.70513764827,-11974474.519314528,1608309.6163905105,-502562.83350708074,6223628.008792438,11560755.754232766],\"y\":[2084707.601405808,928281.1129455589,2847968.6954087955,-519042.2128561343,-2161252.339791614,-1547772.4037354763,2060443.593098529,4795839.031857152,2545095.077194767,7304312.167817082,1900577.3768912472,1149825.8292469077,4161476.289401565,-3878797.5699098497,-5086386.000692607,6310962.4537718855,5337887.511019714,4285303.614438497,7214944.260192893,2966622.529122114,143667.20055241938]},\"selected\":{\"id\":\"20cbc745-13a0-4c0a-a1a6-5ac24cfa6126\",\"type\":\"Selection\"},\"selection_policy\":{\"id\":\"ded0ce04-dc24-44e9-9a89-9e6eac870596\",\"type\":\"UnionRenderers\"}},\"id\":\"155be5aa-aaf6-4ba6-acbe-a149ac0894c4\",\"type\":\"ColumnDataSource\"},{\"attributes\":{},\"id\":\"62782cec-e0b0-4e0c-afa7-46eb770b152d\",\"type\":\"StringEditor\"},{\"attributes\":{\"callback\":null,\"renderers\":\"auto\",\"tooltips\":[[\"Area\",\"@area\"],[\"Count\",\"@count\"]]},\"id\":\"8b8b343a-4583-458c-9b85-5675ba1d24d9\",\"type\":\"HoverTool\"},{\"attributes\":{\"children\":[{\"id\":\"98471dc9-612a-4aa0-bbb0-6f8d1e5a4489\",\"type\":\"DataTable\"}],\"height\":350,\"width\":200},\"id\":\"9b2b6f7f-9f67-4381-9466-5a50c8ac5421\",\"type\":\"WidgetBox\"},{\"attributes\":{\"tile_source\":{\"id\":\"db34b3a1-02d9-463a-bb8b-4a09672566b1\",\"type\":\"WMTSTileSource\"}},\"id\":\"62f3b152-ae21-4b66-b602-97ad1bd0dcd6\",\"type\":\"TileRenderer\"},{\"attributes\":{},\"id\":\"f5e2dadf-875a-4031-9f05-ef64ded7c9f6\",\"type\":\"StringEditor\"},{\"attributes\":{\"below\":[{\"id\":\"4135d007-3304-4fe1-b742-41a8a7a8849e\",\"type\":\"MercatorAxis\"}],\"left\":[{\"id\":\"4018c562-b6fd-4309-aa23-0d5ed1b6388e\",\"type\":\"MercatorAxis\"}],\"plot_height\":400,\"renderers\":[{\"id\":\"4135d007-3304-4fe1-b742-41a8a7a8849e\",\"type\":\"MercatorAxis\"},{\"id\":\"fc1e1687-56e6-43b0-a63a-6e32c4bf6d3b\",\"type\":\"Grid\"},{\"id\":\"4018c562-b6fd-4309-aa23-0d5ed1b6388e\",\"type\":\"MercatorAxis\"},{\"id\":\"356840ac-9439-4218-b3ed-c2f5c78047d5\",\"type\":\"Grid\"},{\"id\":\"62f3b152-ae21-4b66-b602-97ad1bd0dcd6\",\"type\":\"TileRenderer\"},{\"id\":\"ad61311a-b305-4c97-a1fc-cbd0a3f3ebe4\",\"type\":\"GlyphRenderer\"}],\"title\":{\"id\":\"f57885a0-5c1f-45fa-b2ac-36199bc7ad22\",\"type\":\"Title\"},\"toolbar\":{\"id\":\"4858e980-a563-4340-87a4-9e7d1d578ff2\",\"type\":\"Toolbar\"},\"toolbar_location\":null,\"x_range\":{\"id\":\"40d0eaf1-d677-4efa-bf68-b45e518313cb\",\"type\":\"Range1d\"},\"x_scale\":{\"id\":\"b39e30af-b927-4a4b-90b1-abd7ca4a479f\",\"type\":\"LinearScale\"},\"y_range\":{\"id\":\"10a27a43-9dbb-4d60-b778-4dc05474e37d\",\"type\":\"Range1d\"},\"y_scale\":{\"id\":\"a48cf997-08a4-4be5-90c1-3320feeaf312\",\"type\":\"LinearScale\"}},\"id\":\"34ac6096-4bd3-45c1-939d-bd181cf703fa\",\"subtype\":\"Figure\",\"type\":\"Plot\"},{\"attributes\":{},\"id\":\"b3348a97-aa66-4e5b-a838-69baabac0a94\",\"type\":\"StringFormatter\"},{\"attributes\":{\"plot\":null,\"text\":\"Top jurisdictions by count\"},\"id\":\"f57885a0-5c1f-45fa-b2ac-36199bc7ad22\",\"type\":\"Title\"},{\"attributes\":{\"toolbar\":{\"id\":\"a3f10860-00fc-481a-ac3b-6be67339b587\",\"type\":\"ProxyToolbar\"},\"toolbar_location\":\"above\"},\"id\":\"fd04e5c6-f25d-45dd-b972-f74b6224a6ab\",\"type\":\"ToolbarBox\"},{\"attributes\":{\"callback\":null,\"end\":10000000,\"start\":-20000000},\"id\":\"40d0eaf1-d677-4efa-bf68-b45e518313cb\",\"type\":\"Range1d\"},{\"attributes\":{\"tools\":[{\"id\":\"8b8b343a-4583-458c-9b85-5675ba1d24d9\",\"type\":\"HoverTool\"},{\"id\":\"ccbef584-25b7-40de-a24c-998c6caefa05\",\"type\":\"PanTool\"},{\"id\":\"7c7c7120-fac0-4460-b314-aa6545cf1b45\",\"type\":\"WheelZoomTool\"},{\"id\":\"c7217de4-4bdb-436a-bb66-74671c703755\",\"type\":\"SaveTool\"}]},\"id\":\"a3f10860-00fc-481a-ac3b-6be67339b587\",\"type\":\"ProxyToolbar\"},{\"attributes\":{\"callback\":null,\"end\":10000,\"start\":-100},\"id\":\"10a27a43-9dbb-4d60-b778-4dc05474e37d\",\"type\":\"Range1d\"},{\"attributes\":{\"children\":[{\"id\":\"fd04e5c6-f25d-45dd-b972-f74b6224a6ab\",\"type\":\"ToolbarBox\"},{\"id\":\"d0688e97-f25c-403d-a916-6f7c6b2e4297\",\"type\":\"Column\"}]},\"id\":\"8e7d22da-7e89-4c5c-8ff9-887ebbd3e350\",\"type\":\"Column\"},{\"attributes\":{\"active_drag\":\"auto\",\"active_inspect\":\"auto\",\"active_scroll\":\"auto\",\"active_tap\":\"auto\",\"tools\":[{\"id\":\"8b8b343a-4583-458c-9b85-5675ba1d24d9\",\"type\":\"HoverTool\"},{\"id\":\"ccbef584-25b7-40de-a24c-998c6caefa05\",\"type\":\"PanTool\"},{\"id\":\"7c7c7120-fac0-4460-b314-aa6545cf1b45\",\"type\":\"WheelZoomTool\"},{\"id\":\"c7217de4-4bdb-436a-bb66-74671c703755\",\"type\":\"SaveTool\"}]},\"id\":\"4858e980-a563-4340-87a4-9e7d1d578ff2\",\"type\":\"Toolbar\"},{\"attributes\":{},\"id\":\"b39e30af-b927-4a4b-90b1-abd7ca4a479f\",\"type\":\"LinearScale\"},{\"attributes\":{},\"id\":\"a48cf997-08a4-4be5-90c1-3320feeaf312\",\"type\":\"LinearScale\"},{\"attributes\":{\"dimension\":\"lon\"},\"id\":\"8f48056a-3af5-497f-b921-d91c2b7078f0\",\"type\":\"MercatorTickFormatter\"},{\"attributes\":{\"formatter\":{\"id\":\"8f48056a-3af5-497f-b921-d91c2b7078f0\",\"type\":\"MercatorTickFormatter\"},\"plot\":{\"id\":\"34ac6096-4bd3-45c1-939d-bd181cf703fa\",\"subtype\":\"Figure\",\"type\":\"Plot\"},\"ticker\":{\"id\":\"f9972300-9ebf-4858-8cdd-ab44fbc9bd65\",\"type\":\"MercatorTicker\"}},\"id\":\"4135d007-3304-4fe1-b742-41a8a7a8849e\",\"type\":\"MercatorAxis\"},{\"attributes\":{\"dimension\":\"lon\"},\"id\":\"f9972300-9ebf-4858-8cdd-ab44fbc9bd65\",\"type\":\"MercatorTicker\"}],\"root_ids\":[\"8e7d22da-7e89-4c5c-8ff9-887ebbd3e350\"]},\"title\":\"Bokeh Application\",\"version\":\"0.12.16\"}};\n",
       "  var render_items = [{\"docid\":\"568b1f36-1b51-4fb6-ad9a-29054d5a1027\",\"elementid\":\"8ef4fe1a-2e44-4024-883a-deb585338858\",\"modelid\":\"8e7d22da-7e89-4c5c-8ff9-887ebbd3e350\"}];\n",
       "  root.Bokeh.embed.embed_items_notebook(docs_json, render_items);\n",
       "\n",
       "  }\n",
       "  if (root.Bokeh !== undefined) {\n",
       "    embed_document(root);\n",
       "  } else {\n",
       "    var attempts = 0;\n",
       "    var timer = setInterval(function(root) {\n",
       "      if (root.Bokeh !== undefined) {\n",
       "        embed_document(root);\n",
       "        clearInterval(timer);\n",
       "      }\n",
       "      attempts++;\n",
       "      if (attempts > 100) {\n",
       "        console.log(\"Bokeh: ERROR: Unable to run BokehJS code because BokehJS library is missing\")\n",
       "        clearInterval(timer);\n",
       "      }\n",
       "    }, 10, root)\n",
       "  }\n",
       "})(window);"
      ],
      "application/vnd.bokehjs_exec.v0+json": ""
     },
     "metadata": {
      "application/vnd.bokehjs_exec.v0+json": {
       "id": "8e7d22da-7e89-4c5c-8ff9-887ebbd3e350"
      }
     },
     "output_type": "display_data"
    }
   ],
   "source": [
    "from bokeh.plotting import figure, show, output_file, output_notebook\n",
    "from bokeh.tile_providers import CARTODBPOSITRON\n",
    "from bokeh.models import ColumnDataSource, HoverTool\n",
    "from bokeh.layouts import gridplot, widgetbox\n",
    "from bokeh.models.widgets import DataTable, TableColumn\n",
    "\n",
    "def plot_map(df, title):\n",
    "    source = ColumnDataSource(data=dict(\n",
    "                            x=list(df['x']), \n",
    "                            y=list(df['y']),\n",
    "                            count=list(df['Count']),\n",
    "                            area=list(df['Area'])))\n",
    "\n",
    "    hover = HoverTool(tooltips=[\n",
    "        (\"Area\", \"@area\"),\n",
    "        (\"Count\",\"@count\")])\n",
    "\n",
    "    p = figure(\n",
    "        title = title,\n",
    "        width = 600, \n",
    "        height= 400, \n",
    "        x_range=(-20000000, 10000000), y_range=(-100, 10000),\n",
    "        x_axis_type=\"mercator\", y_axis_type=\"mercator\",\n",
    "        tools=['pan', hover, 'wheel_zoom','save'])\n",
    "\n",
    "    p.add_tile(CARTODBPOSITRON)\n",
    "\n",
    "    p.circle(x = 'x',\n",
    "             y = 'y', \n",
    "             size = 10,\n",
    "             source=source, \n",
    "             line_color=\"#FF0000\", \n",
    "             fill_color=\"#FF0000\",\n",
    "             fill_alpha=0.05)\n",
    "    \n",
    "    columns = [\n",
    "        TableColumn(field=\"area\", title=\"Area\"),\n",
    "        TableColumn(field=\"count\", title=\"Count\")\n",
    "    ]\n",
    "    \n",
    "    data_table = DataTable(source=source, columns=columns, height=350, width=200)\n",
    "    grid = gridplot([p, data_table], ncols=2)\n",
    "    \n",
    "    output_notebook()\n",
    "    show(grid)\n",
    "\n",
    "output_file(\"proj_jekyll/assets/jurisdictions_map.html\", title=\"jurisdictions\")\n",
    "plot_map(jurisdiction_df, \"Top jurisdictions by count\")"
   ]
  },
  {
   "cell_type": "markdown",
   "metadata": {},
   "source": [
    "## 2) What countries have the most entities register in the Panama papers?"
   ]
  },
  {
   "cell_type": "markdown",
   "metadata": {},
   "source": [
    "The same procedure is applied to the `country` column representing the country of origin of the offshore company. As more country are included a bigger threshold needs to be chosen in order to make the plots still readable. Same as before, the count of companies for country will be represent on an interactive map."
   ]
  },
  {
   "cell_type": "code",
   "execution_count": 19,
   "metadata": {
    "scrolled": false
   },
   "outputs": [
    {
     "data": {
      "text/plain": [
       "Hong Kong               37911\n",
       "Switzerland             37911\n",
       "Others                  36495\n",
       "Panama                  15811\n",
       "Jersey                  14331\n",
       "Luxembourg              10840\n",
       "United Kingdom           9619\n",
       "Guernsey                 7327\n",
       "United Arab Emirates     7269\n",
       "Bahamas                  4984\n",
       "Uruguay                  4906\n",
       "Isle of Man              4892\n",
       "Russia                   4197\n",
       "Singapore                4081\n",
       "Cyprus                   3613\n",
       "China                    3213\n",
       "Monaco                   3168\n",
       "United States            3066\n",
       "Name: countries, dtype: int64"
      ]
     },
     "execution_count": 19,
     "metadata": {},
     "output_type": "execute_result"
    }
   ],
   "source": [
    "threshold2=3000\n",
    "vc=df_entity_S1.countries.value_counts()\n",
    "tax_evasions_L=list(vc[vc > threshold2].index)\n",
    "tax_evasions_S=list(vc[vc <= threshold2].index)\n",
    "df_entity_S1.loc[~df_entity_S1.countries.isin(tax_evasions_L), 'countries'] = 'Others'\n",
    "df_entity_S1.countries.value_counts()"
   ]
  },
  {
   "cell_type": "code",
   "execution_count": 20,
   "metadata": {},
   "outputs": [
    {
     "data": {
      "text/plain": [
       "<matplotlib.axes._subplots.AxesSubplot at 0x1fa4fb39f60>"
      ]
     },
     "execution_count": 20,
     "metadata": {},
     "output_type": "execute_result"
    },
    {
     "data": {
      "image/png": "[encoded data removed]",
      "text/plain": [
       "<Figure size 720x504 with 1 Axes>"
      ]
     },
     "metadata": {},
     "output_type": "display_data"
    }
   ],
   "source": [
    "df_entity_S1.countries.value_counts().plot(kind='bar',title='Countries', figsize=(10, 7), logy=True)"
   ]
  },
  {
   "cell_type": "markdown",
   "metadata": {},
   "source": [
    "The value of the `Others` column is very high indicating a quite heavy tail distribution. As before, plotting the bar chart with a logarithm $y-axis$, seems that the distribution has a exponential behaviour at least his first part. "
   ]
  },
  {
   "cell_type": "markdown",
   "metadata": {},
   "source": [
    "Lastly a world map is plotted again following the same Mercator Projection techinque used above."
   ]
  },
  {
   "cell_type": "code",
   "execution_count": 24,
   "metadata": {},
   "outputs": [
    {
     "data": {
      "text/html": [
       "\n",
       "    <div class=\"bk-root\">\n",
       "        <a href=\"https://bokeh.pydata.org\" target=\"_blank\" class=\"bk-logo bk-logo-small bk-logo-notebook\"></a>\n",
       "        <span id=\"9c12bb61-2a5f-4ecf-8f1a-4daf10fdba84\">Loading BokehJS ...</span>\n",
       "    </div>"
      ]
     },
     "metadata": {},
     "output_type": "display_data"
    },
    {
     "data": {
      "application/javascript": [
       "\n",
       "(function(root) {\n",
       "  function now() {\n",
       "    return new Date();\n",
       "  }\n",
       "\n",
       "  var force = true;\n",
       "\n",
       "  if (typeof (root._bokeh_onload_callbacks) === \"undefined\" || force === true) {\n",
       "    root._bokeh_onload_callbacks = [];\n",
       "    root._bokeh_is_loading = undefined;\n",
       "  }\n",
       "\n",
       "  var JS_MIME_TYPE = 'application/javascript';\n",
       "  var HTML_MIME_TYPE = 'text/html';\n",
       "  var EXEC_MIME_TYPE = 'application/vnd.bokehjs_exec.v0+json';\n",
       "  var CLASS_NAME = 'output_bokeh rendered_html';\n",
       "\n",
       "  /**\n",
       "   * Render data to the DOM node\n",
       "   */\n",
       "  function render(props, node) {\n",
       "    var script = document.createElement(\"script\");\n",
       "    node.appendChild(script);\n",
       "  }\n",
       "\n",
       "  /**\n",
       "   * Handle when an output is cleared or removed\n",
       "   */\n",
       "  function handleClearOutput(event, handle) {\n",
       "    var cell = handle.cell;\n",
       "\n",
       "    var id = cell.output_area._bokeh_element_id;\n",
       "    var server_id = cell.output_area._bokeh_server_id;\n",
       "    // Clean up Bokeh references\n",
       "    if (id !== undefined) {\n",
       "      Bokeh.index[id].model.document.clear();\n",
       "      delete Bokeh.index[id];\n",
       "    }\n",
       "\n",
       "    if (server_id !== undefined) {\n",
       "      // Clean up Bokeh references\n",
       "      var cmd = \"from bokeh.io.state import curstate; print(curstate().uuid_to_server['\" + server_id + \"'].get_sessions()[0].document.roots[0]._id)\";\n",
       "      cell.notebook.kernel.execute(cmd, {\n",
       "        iopub: {\n",
       "          output: function(msg) {\n",
       "            var element_id = msg.content.text.trim();\n",
       "            Bokeh.index[element_id].model.document.clear();\n",
       "            delete Bokeh.index[element_id];\n",
       "          }\n",
       "        }\n",
       "      });\n",
       "      // Destroy server and session\n",
       "      var cmd = \"import bokeh.io.notebook as ion; ion.destroy_server('\" + server_id + \"')\";\n",
       "      cell.notebook.kernel.execute(cmd);\n",
       "    }\n",
       "  }\n",
       "\n",
       "  /**\n",
       "   * Handle when a new output is added\n",
       "   */\n",
       "  function handleAddOutput(event, handle) {\n",
       "    var output_area = handle.output_area;\n",
       "    var output = handle.output;\n",
       "\n",
       "    // limit handleAddOutput to display_data with EXEC_MIME_TYPE content only\n",
       "    if ((output.output_type != \"display_data\") || (!output.data.hasOwnProperty(EXEC_MIME_TYPE))) {\n",
       "      return\n",
       "    }\n",
       "\n",
       "    var toinsert = output_area.element.find(\".\" + CLASS_NAME.split(' ')[0]);\n",
       "\n",
       "    if (output.metadata[EXEC_MIME_TYPE][\"id\"] !== undefined) {\n",
       "      toinsert[toinsert.length - 1].firstChild.textContent = output.data[JS_MIME_TYPE];\n",
       "      // store reference to embed id on output_area\n",
       "      output_area._bokeh_element_id = output.metadata[EXEC_MIME_TYPE][\"id\"];\n",
       "    }\n",
       "    if (output.metadata[EXEC_MIME_TYPE][\"server_id\"] !== undefined) {\n",
       "      var bk_div = document.createElement(\"div\");\n",
       "      bk_div.innerHTML = output.data[HTML_MIME_TYPE];\n",
       "      var script_attrs = bk_div.children[0].attributes;\n",
       "      for (var i = 0; i < script_attrs.length; i++) {\n",
       "        toinsert[toinsert.length - 1].firstChild.setAttribute(script_attrs[i].name, script_attrs[i].value);\n",
       "      }\n",
       "      // store reference to server id on output_area\n",
       "      output_area._bokeh_server_id = output.metadata[EXEC_MIME_TYPE][\"server_id\"];\n",
       "    }\n",
       "  }\n",
       "\n",
       "  function register_renderer(events, OutputArea) {\n",
       "\n",
       "    function append_mime(data, metadata, element) {\n",
       "      // create a DOM node to render to\n",
       "      var toinsert = this.create_output_subarea(\n",
       "        metadata,\n",
       "        CLASS_NAME,\n",
       "        EXEC_MIME_TYPE\n",
       "      );\n",
       "      this.keyboard_manager.register_events(toinsert);\n",
       "      // Render to node\n",
       "      var props = {data: data, metadata: metadata[EXEC_MIME_TYPE]};\n",
       "      render(props, toinsert[toinsert.length - 1]);\n",
       "      element.append(toinsert);\n",
       "      return toinsert\n",
       "    }\n",
       "\n",
       "    /* Handle when an output is cleared or removed */\n",
       "    events.on('clear_output.CodeCell', handleClearOutput);\n",
       "    events.on('delete.Cell', handleClearOutput);\n",
       "\n",
       "    /* Handle when a new output is added */\n",
       "    events.on('output_added.OutputArea', handleAddOutput);\n",
       "\n",
       "    /**\n",
       "     * Register the mime type and append_mime function with output_area\n",
       "     */\n",
       "    OutputArea.prototype.register_mime_type(EXEC_MIME_TYPE, append_mime, {\n",
       "      /* Is output safe? */\n",
       "      safe: true,\n",
       "      /* Index of renderer in `output_area.display_order` */\n",
       "      index: 0\n",
       "    });\n",
       "  }\n",
       "\n",
       "  // register the mime type if in Jupyter Notebook environment and previously unregistered\n",
       "  if (root.Jupyter !== undefined) {\n",
       "    var events = require('base/js/events');\n",
       "    var OutputArea = require('notebook/js/outputarea').OutputArea;\n",
       "\n",
       "    if (OutputArea.prototype.mime_types().indexOf(EXEC_MIME_TYPE) == -1) {\n",
       "      register_renderer(events, OutputArea);\n",
       "    }\n",
       "  }\n",
       "\n",
       "  \n",
       "  if (typeof (root._bokeh_timeout) === \"undefined\" || force === true) {\n",
       "    root._bokeh_timeout = Date.now() + 5000;\n",
       "    root._bokeh_failed_load = false;\n",
       "  }\n",
       "\n",
       "  var NB_LOAD_WARNING = {'data': {'text/html':\n",
       "     \"<div style='background-color: #fdd'>\\n\"+\n",
       "     \"<p>\\n\"+\n",
       "     \"BokehJS does not appear to have successfully loaded. If loading BokehJS from CDN, this \\n\"+\n",
       "     \"may be due to a slow or bad network connection. Possible fixes:\\n\"+\n",
       "     \"</p>\\n\"+\n",
       "     \"<ul>\\n\"+\n",
       "     \"<li>re-rerun `output_notebook()` to attempt to load from CDN again, or</li>\\n\"+\n",
       "     \"<li>use INLINE resources instead, as so:</li>\\n\"+\n",
       "     \"</ul>\\n\"+\n",
       "     \"<code>\\n\"+\n",
       "     \"from bokeh.resources import INLINE\\n\"+\n",
       "     \"output_notebook(resources=INLINE)\\n\"+\n",
       "     \"</code>\\n\"+\n",
       "     \"</div>\"}};\n",
       "\n",
       "  function display_loaded() {\n",
       "    var el = document.getElementById(\"9c12bb61-2a5f-4ecf-8f1a-4daf10fdba84\");\n",
       "    if (el != null) {\n",
       "      el.textContent = \"BokehJS is loading...\";\n",
       "    }\n",
       "    if (root.Bokeh !== undefined) {\n",
       "      if (el != null) {\n",
       "        el.textContent = \"BokehJS \" + root.Bokeh.version + \" successfully loaded.\";\n",
       "      }\n",
       "    } else if (Date.now() < root._bokeh_timeout) {\n",
       "      setTimeout(display_loaded, 100)\n",
       "    }\n",
       "  }\n",
       "\n",
       "\n",
       "  function run_callbacks() {\n",
       "    try {\n",
       "      root._bokeh_onload_callbacks.forEach(function(callback) { callback() });\n",
       "    }\n",
       "    finally {\n",
       "      delete root._bokeh_onload_callbacks\n",
       "    }\n",
       "    console.info(\"Bokeh: all callbacks have finished\");\n",
       "  }\n",
       "\n",
       "  function load_libs(js_urls, callback) {\n",
       "    root._bokeh_onload_callbacks.push(callback);\n",
       "    if (root._bokeh_is_loading > 0) {\n",
       "      console.log(\"Bokeh: BokehJS is being loaded, scheduling callback at\", now());\n",
       "      return null;\n",
       "    }\n",
       "    if (js_urls == null || js_urls.length === 0) {\n",
       "      run_callbacks();\n",
       "      return null;\n",
       "    }\n",
       "    console.log(\"Bokeh: BokehJS not loaded, scheduling load and callback at\", now());\n",
       "    root._bokeh_is_loading = js_urls.length;\n",
       "    for (var i = 0; i < js_urls.length; i++) {\n",
       "      var url = js_urls[i];\n",
       "      var s = document.createElement('script');\n",
       "      s.src = url;\n",
       "      s.async = false;\n",
       "      s.onreadystatechange = s.onload = function() {\n",
       "        root._bokeh_is_loading--;\n",
       "        if (root._bokeh_is_loading === 0) {\n",
       "          console.log(\"Bokeh: all BokehJS libraries loaded\");\n",
       "          run_callbacks()\n",
       "        }\n",
       "      };\n",
       "      s.onerror = function() {\n",
       "        console.warn(\"failed to load library \" + url);\n",
       "      };\n",
       "      console.log(\"Bokeh: injecting script tag for BokehJS library: \", url);\n",
       "      document.getElementsByTagName(\"head\")[0].appendChild(s);\n",
       "    }\n",
       "  };var element = document.getElementById(\"9c12bb61-2a5f-4ecf-8f1a-4daf10fdba84\");\n",
       "  if (element == null) {\n",
       "    console.log(\"Bokeh: ERROR: autoload.js configured with elementid '9c12bb61-2a5f-4ecf-8f1a-4daf10fdba84' but no matching script tag was found. \")\n",
       "    return false;\n",
       "  }\n",
       "\n",
       "  var js_urls = [\"https://cdn.pydata.org/bokeh/release/bokeh-0.12.16.min.js\", \"https://cdn.pydata.org/bokeh/release/bokeh-widgets-0.12.16.min.js\", \"https://cdn.pydata.org/bokeh/release/bokeh-tables-0.12.16.min.js\", \"https://cdn.pydata.org/bokeh/release/bokeh-gl-0.12.16.min.js\"];\n",
       "\n",
       "  var inline_js = [\n",
       "    function(Bokeh) {\n",
       "      Bokeh.set_log_level(\"info\");\n",
       "    },\n",
       "    \n",
       "    function(Bokeh) {\n",
       "      \n",
       "    },\n",
       "    function(Bokeh) {\n",
       "      console.log(\"Bokeh: injecting CSS: https://cdn.pydata.org/bokeh/release/bokeh-0.12.16.min.css\");\n",
       "      Bokeh.embed.inject_css(\"https://cdn.pydata.org/bokeh/release/bokeh-0.12.16.min.css\");\n",
       "      console.log(\"Bokeh: injecting CSS: https://cdn.pydata.org/bokeh/release/bokeh-widgets-0.12.16.min.css\");\n",
       "      Bokeh.embed.inject_css(\"https://cdn.pydata.org/bokeh/release/bokeh-widgets-0.12.16.min.css\");\n",
       "      console.log(\"Bokeh: injecting CSS: https://cdn.pydata.org/bokeh/release/bokeh-tables-0.12.16.min.css\");\n",
       "      Bokeh.embed.inject_css(\"https://cdn.pydata.org/bokeh/release/bokeh-tables-0.12.16.min.css\");\n",
       "    }\n",
       "  ];\n",
       "\n",
       "  function run_inline_js() {\n",
       "    \n",
       "    if ((root.Bokeh !== undefined) || (force === true)) {\n",
       "      for (var i = 0; i < inline_js.length; i++) {\n",
       "        inline_js[i].call(root, root.Bokeh);\n",
       "      }if (force === true) {\n",
       "        display_loaded();\n",
       "      }} else if (Date.now() < root._bokeh_timeout) {\n",
       "      setTimeout(run_inline_js, 100);\n",
       "    } else if (!root._bokeh_failed_load) {\n",
       "      console.log(\"Bokeh: BokehJS failed to load within specified timeout.\");\n",
       "      root._bokeh_failed_load = true;\n",
       "    } else if (force !== true) {\n",
       "      var cell = $(document.getElementById(\"9c12bb61-2a5f-4ecf-8f1a-4daf10fdba84\")).parents('.cell').data().cell;\n",
       "      cell.output_area.append_execute_result(NB_LOAD_WARNING)\n",
       "    }\n",
       "\n",
       "  }\n",
       "\n",
       "  if (root._bokeh_is_loading === 0) {\n",
       "    console.log(\"Bokeh: BokehJS loaded, going straight to plotting\");\n",
       "    run_inline_js();\n",
       "  } else {\n",
       "    load_libs(js_urls, function() {\n",
       "      console.log(\"Bokeh: BokehJS plotting callback run at\", now());\n",
       "      run_inline_js();\n",
       "    });\n",
       "  }\n",
       "}(window));"
      ],
      "application/vnd.bokehjs_load.v0+json": "\n(function(root) {\n  function now() {\n    return new Date();\n  }\n\n  var force = true;\n\n  if (typeof (root._bokeh_onload_callbacks) === \"undefined\" || force === true) {\n    root._bokeh_onload_callbacks = [];\n    root._bokeh_is_loading = undefined;\n  }\n\n  \n\n  \n  if (typeof (root._bokeh_timeout) === \"undefined\" || force === true) {\n    root._bokeh_timeout = Date.now() + 5000;\n    root._bokeh_failed_load = false;\n  }\n\n  var NB_LOAD_WARNING = {'data': {'text/html':\n     \"<div style='background-color: #fdd'>\\n\"+\n     \"<p>\\n\"+\n     \"BokehJS does not appear to have successfully loaded. If loading BokehJS from CDN, this \\n\"+\n     \"may be due to a slow or bad network connection. Possible fixes:\\n\"+\n     \"</p>\\n\"+\n     \"<ul>\\n\"+\n     \"<li>re-rerun `output_notebook()` to attempt to load from CDN again, or</li>\\n\"+\n     \"<li>use INLINE resources instead, as so:</li>\\n\"+\n     \"</ul>\\n\"+\n     \"<code>\\n\"+\n     \"from bokeh.resources import INLINE\\n\"+\n     \"output_notebook(resources=INLINE)\\n\"+\n     \"</code>\\n\"+\n     \"</div>\"}};\n\n  function display_loaded() {\n    var el = document.getElementById(\"9c12bb61-2a5f-4ecf-8f1a-4daf10fdba84\");\n    if (el != null) {\n      el.textContent = \"BokehJS is loading...\";\n    }\n    if (root.Bokeh !== undefined) {\n      if (el != null) {\n        el.textContent = \"BokehJS \" + root.Bokeh.version + \" successfully loaded.\";\n      }\n    } else if (Date.now() < root._bokeh_timeout) {\n      setTimeout(display_loaded, 100)\n    }\n  }\n\n\n  function run_callbacks() {\n    try {\n      root._bokeh_onload_callbacks.forEach(function(callback) { callback() });\n    }\n    finally {\n      delete root._bokeh_onload_callbacks\n    }\n    console.info(\"Bokeh: all callbacks have finished\");\n  }\n\n  function load_libs(js_urls, callback) {\n    root._bokeh_onload_callbacks.push(callback);\n    if (root._bokeh_is_loading > 0) {\n      console.log(\"Bokeh: BokehJS is being loaded, scheduling callback at\", now());\n      return null;\n    }\n    if (js_urls == null || js_urls.length === 0) {\n      run_callbacks();\n      return null;\n    }\n    console.log(\"Bokeh: BokehJS not loaded, scheduling load and callback at\", now());\n    root._bokeh_is_loading = js_urls.length;\n    for (var i = 0; i < js_urls.length; i++) {\n      var url = js_urls[i];\n      var s = document.createElement('script');\n      s.src = url;\n      s.async = false;\n      s.onreadystatechange = s.onload = function() {\n        root._bokeh_is_loading--;\n        if (root._bokeh_is_loading === 0) {\n          console.log(\"Bokeh: all BokehJS libraries loaded\");\n          run_callbacks()\n        }\n      };\n      s.onerror = function() {\n        console.warn(\"failed to load library \" + url);\n      };\n      console.log(\"Bokeh: injecting script tag for BokehJS library: \", url);\n      document.getElementsByTagName(\"head\")[0].appendChild(s);\n    }\n  };var element = document.getElementById(\"9c12bb61-2a5f-4ecf-8f1a-4daf10fdba84\");\n  if (element == null) {\n    console.log(\"Bokeh: ERROR: autoload.js configured with elementid '9c12bb61-2a5f-4ecf-8f1a-4daf10fdba84' but no matching script tag was found. \")\n    return false;\n  }\n\n  var js_urls = [\"https://cdn.pydata.org/bokeh/release/bokeh-0.12.16.min.js\", \"https://cdn.pydata.org/bokeh/release/bokeh-widgets-0.12.16.min.js\", \"https://cdn.pydata.org/bokeh/release/bokeh-tables-0.12.16.min.js\", \"https://cdn.pydata.org/bokeh/release/bokeh-gl-0.12.16.min.js\"];\n\n  var inline_js = [\n    function(Bokeh) {\n      Bokeh.set_log_level(\"info\");\n    },\n    \n    function(Bokeh) {\n      \n    },\n    function(Bokeh) {\n      console.log(\"Bokeh: injecting CSS: https://cdn.pydata.org/bokeh/release/bokeh-0.12.16.min.css\");\n      Bokeh.embed.inject_css(\"https://cdn.pydata.org/bokeh/release/bokeh-0.12.16.min.css\");\n      console.log(\"Bokeh: injecting CSS: https://cdn.pydata.org/bokeh/release/bokeh-widgets-0.12.16.min.css\");\n      Bokeh.embed.inject_css(\"https://cdn.pydata.org/bokeh/release/bokeh-widgets-0.12.16.min.css\");\n      console.log(\"Bokeh: injecting CSS: https://cdn.pydata.org/bokeh/release/bokeh-tables-0.12.16.min.css\");\n      Bokeh.embed.inject_css(\"https://cdn.pydata.org/bokeh/release/bokeh-tables-0.12.16.min.css\");\n    }\n  ];\n\n  function run_inline_js() {\n    \n    if ((root.Bokeh !== undefined) || (force === true)) {\n      for (var i = 0; i < inline_js.length; i++) {\n        inline_js[i].call(root, root.Bokeh);\n      }if (force === true) {\n        display_loaded();\n      }} else if (Date.now() < root._bokeh_timeout) {\n      setTimeout(run_inline_js, 100);\n    } else if (!root._bokeh_failed_load) {\n      console.log(\"Bokeh: BokehJS failed to load within specified timeout.\");\n      root._bokeh_failed_load = true;\n    } else if (force !== true) {\n      var cell = $(document.getElementById(\"9c12bb61-2a5f-4ecf-8f1a-4daf10fdba84\")).parents('.cell').data().cell;\n      cell.output_area.append_execute_result(NB_LOAD_WARNING)\n    }\n\n  }\n\n  if (root._bokeh_is_loading === 0) {\n    console.log(\"Bokeh: BokehJS loaded, going straight to plotting\");\n    run_inline_js();\n  } else {\n    load_libs(js_urls, function() {\n      console.log(\"Bokeh: BokehJS plotting callback run at\", now());\n      run_inline_js();\n    });\n  }\n}(window));"
     },
     "metadata": {},
     "output_type": "display_data"
    },
    {
     "data": {
      "text/html": [
       "\n",
       "<div class=\"bk-root\">\n",
       "    <div class=\"bk-plotdiv\" id=\"32c562e5-cf23-4156-9043-a3ff07f7ea8f\"></div>\n",
       "</div>"
      ]
     },
     "metadata": {},
     "output_type": "display_data"
    },
    {
     "data": {
      "application/javascript": [
       "(function(root) {\n",
       "  function embed_document(root) {\n",
       "    \n",
       "  var docs_json = {\"8e3214ef-6bd0-4a40-8ecb-ab4740e32bf1\":{\"roots\":{\"references\":[{\"attributes\":{},\"id\":\"1ddcd3df-527f-42fd-96f6-2dfb9ece770e\",\"type\":\"Selection\"},{\"attributes\":{\"attribution\":\"&copy; <a href=\\\"https://www.openstreetmap.org/copyright\\\">OpenStreetMap</a> contributors,&copy; <a href=\\\"https://cartodb.com/attributions\\\">CartoDB</a>\",\"url\":\"https://tiles.basemaps.cartocdn.com/light_all/{z}/{x}/{y}.png\"},\"id\":\"db34b3a1-02d9-463a-bb8b-4a09672566b1\",\"type\":\"WMTSTileSource\"},{\"attributes\":{\"active_drag\":\"auto\",\"active_inspect\":\"auto\",\"active_scroll\":\"auto\",\"active_tap\":\"auto\",\"tools\":[{\"id\":\"04b63ded-5d54-4f38-9e30-1bb10ec2a111\",\"type\":\"HoverTool\"},{\"id\":\"e1ac19d1-3f40-4525-a66d-2971594f85b4\",\"type\":\"PanTool\"},{\"id\":\"15c87859-1a4a-4db1-a916-5b564208ae72\",\"type\":\"WheelZoomTool\"},{\"id\":\"c6de2ba7-9727-45bb-a988-a7ca73ab2477\",\"type\":\"SaveTool\"}]},\"id\":\"09fbaf99-1a51-48b9-81d4-c4bc6df0d17f\",\"type\":\"Toolbar\"},{\"attributes\":{\"children\":[{\"id\":\"e957a38c-175d-4804-b954-96764442342e\",\"subtype\":\"Figure\",\"type\":\"Plot\"},{\"id\":\"9833faab-25eb-47bd-ae32-e98055f211a2\",\"type\":\"WidgetBox\"}]},\"id\":\"d01697c9-75a7-4e02-bf9f-0dacae8134c1\",\"type\":\"Row\"},{\"attributes\":{\"formatter\":{\"id\":\"2fa7048d-ede3-41d2-b468-9539340f0a35\",\"type\":\"MercatorTickFormatter\"},\"plot\":{\"id\":\"e957a38c-175d-4804-b954-96764442342e\",\"subtype\":\"Figure\",\"type\":\"Plot\"},\"ticker\":{\"id\":\"b62763d9-cfc7-4821-a499-78eb2d41a3d7\",\"type\":\"MercatorTicker\"}},\"id\":\"6379fb15-8a6c-40e2-888a-60bf6bb0f485\",\"type\":\"MercatorAxis\"},{\"attributes\":{\"children\":[{\"id\":\"6f1139e7-5d02-4b70-a7d2-b1993c43ea21\",\"type\":\"ToolbarBox\"},{\"id\":\"181ffe54-f425-4296-8380-0953f4a216b5\",\"type\":\"Column\"}]},\"id\":\"a5af32c1-edbc-4c17-9144-9e3bfb2efda9\",\"type\":\"Column\"},{\"attributes\":{},\"id\":\"2a87334d-51f1-4073-9ea9-8e6d36478d3e\",\"type\":\"LinearScale\"},{\"attributes\":{\"callback\":null,\"data\":{\"area\":[\"Switzerland\",\"Hong Kong\",\"Panama\",\"Jersey\",\"Luxembourg\",\"United Kingdom\",\"Guernsey\",\"United Arab Emirates\",\"Bahamas\",\"Uruguay\",\"Isle of Man\",\"Russia\",\"Singapore\",\"Cyprus\",\"China\",\"Monaco\",\"United States\",\"Taiwan\",\"Liechtenstein\",\"Gibraltar\",\"Colombia\",\"Ecuador\",\"Samoa\",\"Jordan\",\"Brazil\",\"Latvia\",\"Belize\",\"Guatemala\",\"Mauritius\",\"Spain\",\"British Virgin Islands\"],\"count\":[37911,37911,15811,14331,10840,9619,7327,7269,4984,4906,4892,4197,4081,3613,3213,3168,3066,2725,2066,2039,1854,1852,1613,1553,1399,1380,1351,1233,1217,1166,1107],\"x\":[916379.109375671,12708546.221819662,-9051012.04859185,-236620.70513764827,682352.3108602084,-364746.6939418176,-287338.1201411251,6011194.939528083,-8682926.371051485,-6236134.850461531,-502562.83350708074,10880957.702484656,11560755.754232766,3689698.8268976193,11688538.406970896,825963.6378415215,-11181584.492180988,13451331.09436194,1063452.0940343866,-596018.9695812444,-8213585.286185891,-8835060.240324289,-19160316.41036838,4112323.2180345375,-5922196.910202154,2755576.459356612,-9880728.32212776,-10007489.607405912,6408702.781499176,-538570.92109281,-7187472.52121889],\"y\":[5909256.087563407,2545095.077194767,928281.1129455589,6310962.4537718855,6414448.329426942,7304312.167817082,6353669.71198678,2753438.426757345,2847968.6954087955,-3878797.5699098497,7214944.260192893,9526226.028606495,143667.20055241938,4161476.289401565,4163891.200373253,5423929.683316068,4834564.161615891,2704534.79328417,5965222.525759214,4320013.535248008,321787.7928228937,-149155.75115758216,-1547772.4037354763,3654417.925153851,-1156588.4476574468,7727618.2961980635,1900577.3768912472,1762562.3706028375,-2305749.223644028,4768510.183828863,2084707.601405808]},\"selected\":{\"id\":\"1ddcd3df-527f-42fd-96f6-2dfb9ece770e\",\"type\":\"Selection\"},\"selection_policy\":{\"id\":\"434b953f-a066-41ba-9ba2-28f33e9febfd\",\"type\":\"UnionRenderers\"}},\"id\":\"b868f353-65c3-46b6-953c-b3c4e9284c42\",\"type\":\"ColumnDataSource\"},{\"attributes\":{\"dimension\":\"lat\"},\"id\":\"7c72262e-8040-4b2d-a16c-641c53d9ea13\",\"type\":\"MercatorTickFormatter\"},{\"attributes\":{\"callback\":null,\"end\":10000,\"start\":-100},\"id\":\"e03e8a19-3648-4b7b-abab-d4f5eb85832e\",\"type\":\"Range1d\"},{\"attributes\":{\"dimension\":\"lon\"},\"id\":\"b62763d9-cfc7-4821-a499-78eb2d41a3d7\",\"type\":\"MercatorTicker\"},{\"attributes\":{\"formatter\":{\"id\":\"7c72262e-8040-4b2d-a16c-641c53d9ea13\",\"type\":\"MercatorTickFormatter\"},\"plot\":{\"id\":\"e957a38c-175d-4804-b954-96764442342e\",\"subtype\":\"Figure\",\"type\":\"Plot\"},\"ticker\":{\"id\":\"2819d4f6-0dfc-4d09-809b-eded8670c32e\",\"type\":\"MercatorTicker\"}},\"id\":\"6800e583-abaf-41f5-8f3c-6290dcb52d65\",\"type\":\"MercatorAxis\"},{\"attributes\":{},\"id\":\"56b91ff1-e3c5-4427-a224-e0621234f0b7\",\"type\":\"StringFormatter\"},{\"attributes\":{\"below\":[{\"id\":\"6379fb15-8a6c-40e2-888a-60bf6bb0f485\",\"type\":\"MercatorAxis\"}],\"left\":[{\"id\":\"6800e583-abaf-41f5-8f3c-6290dcb52d65\",\"type\":\"MercatorAxis\"}],\"plot_height\":400,\"renderers\":[{\"id\":\"6379fb15-8a6c-40e2-888a-60bf6bb0f485\",\"type\":\"MercatorAxis\"},{\"id\":\"92e52f81-a237-4464-9563-f799a250ee1a\",\"type\":\"Grid\"},{\"id\":\"6800e583-abaf-41f5-8f3c-6290dcb52d65\",\"type\":\"MercatorAxis\"},{\"id\":\"409b8ae3-111f-4335-95b1-3418b8062485\",\"type\":\"Grid\"},{\"id\":\"06d8ae55-e0ff-4fbe-819f-8261902c77d7\",\"type\":\"TileRenderer\"},{\"id\":\"926fb2ff-9470-4880-917a-721b205ed398\",\"type\":\"GlyphRenderer\"}],\"title\":{\"id\":\"c94d219c-17af-404a-9533-ce6dd7d63b42\",\"type\":\"Title\"},\"toolbar\":{\"id\":\"09fbaf99-1a51-48b9-81d4-c4bc6df0d17f\",\"type\":\"Toolbar\"},\"toolbar_location\":null,\"x_range\":{\"id\":\"430f73ca-4f99-4e32-8021-39a698e5b32e\",\"type\":\"Range1d\"},\"x_scale\":{\"id\":\"2a87334d-51f1-4073-9ea9-8e6d36478d3e\",\"type\":\"LinearScale\"},\"y_range\":{\"id\":\"e03e8a19-3648-4b7b-abab-d4f5eb85832e\",\"type\":\"Range1d\"},\"y_scale\":{\"id\":\"a98252bd-5649-42c4-8bb7-b3d0e7c1cfc6\",\"type\":\"LinearScale\"}},\"id\":\"e957a38c-175d-4804-b954-96764442342e\",\"subtype\":\"Figure\",\"type\":\"Plot\"},{\"attributes\":{\"dimension\":\"lon\"},\"id\":\"2fa7048d-ede3-41d2-b468-9539340f0a35\",\"type\":\"MercatorTickFormatter\"},{\"attributes\":{},\"id\":\"9fc2d397-ac20-477c-8b35-3fcdf27aa5d4\",\"type\":\"StringEditor\"},{\"attributes\":{\"tile_source\":{\"id\":\"db34b3a1-02d9-463a-bb8b-4a09672566b1\",\"type\":\"WMTSTileSource\"}},\"id\":\"06d8ae55-e0ff-4fbe-819f-8261902c77d7\",\"type\":\"TileRenderer\"},{\"attributes\":{\"callback\":null,\"end\":10000000,\"start\":-20000000},\"id\":\"430f73ca-4f99-4e32-8021-39a698e5b32e\",\"type\":\"Range1d\"},{\"attributes\":{\"data_source\":{\"id\":\"b868f353-65c3-46b6-953c-b3c4e9284c42\",\"type\":\"ColumnDataSource\"},\"glyph\":{\"id\":\"d5af812d-7d88-404e-aea7-55b4817ccbc1\",\"type\":\"Circle\"},\"hover_glyph\":null,\"muted_glyph\":null,\"nonselection_glyph\":{\"id\":\"9a6cb97f-05c5-4ac9-8b53-c59e01ccb386\",\"type\":\"Circle\"},\"selection_glyph\":null,\"view\":{\"id\":\"3751c1db-a270-4912-a70b-ddda611c9334\",\"type\":\"CDSView\"}},\"id\":\"926fb2ff-9470-4880-917a-721b205ed398\",\"type\":\"GlyphRenderer\"},{\"attributes\":{\"plot\":null,\"text\":\"Top countries that have offshore entities\"},\"id\":\"c94d219c-17af-404a-9533-ce6dd7d63b42\",\"type\":\"Title\"},{\"attributes\":{},\"id\":\"434b953f-a066-41ba-9ba2-28f33e9febfd\",\"type\":\"UnionRenderers\"},{\"attributes\":{},\"id\":\"ff635aac-d754-4451-9362-a807b4f7e193\",\"type\":\"StringEditor\"},{\"attributes\":{\"source\":{\"id\":\"b868f353-65c3-46b6-953c-b3c4e9284c42\",\"type\":\"ColumnDataSource\"}},\"id\":\"3751c1db-a270-4912-a70b-ddda611c9334\",\"type\":\"CDSView\"},{\"attributes\":{\"fill_alpha\":{\"value\":0.05},\"fill_color\":{\"value\":\"#FF0000\"},\"line_color\":{\"value\":\"#FF0000\"},\"size\":{\"units\":\"screen\",\"value\":10},\"x\":{\"field\":\"x\"},\"y\":{\"field\":\"y\"}},\"id\":\"d5af812d-7d88-404e-aea7-55b4817ccbc1\",\"type\":\"Circle\"},{\"attributes\":{},\"id\":\"a98252bd-5649-42c4-8bb7-b3d0e7c1cfc6\",\"type\":\"LinearScale\"},{\"attributes\":{\"tools\":[{\"id\":\"04b63ded-5d54-4f38-9e30-1bb10ec2a111\",\"type\":\"HoverTool\"},{\"id\":\"e1ac19d1-3f40-4525-a66d-2971594f85b4\",\"type\":\"PanTool\"},{\"id\":\"15c87859-1a4a-4db1-a916-5b564208ae72\",\"type\":\"WheelZoomTool\"},{\"id\":\"c6de2ba7-9727-45bb-a988-a7ca73ab2477\",\"type\":\"SaveTool\"}]},\"id\":\"00010656-a649-4867-84fb-85cab688a94c\",\"type\":\"ProxyToolbar\"},{\"attributes\":{\"fill_alpha\":{\"value\":0.1},\"fill_color\":{\"value\":\"#1f77b4\"},\"line_alpha\":{\"value\":0.1},\"line_color\":{\"value\":\"#1f77b4\"},\"size\":{\"units\":\"screen\",\"value\":10},\"x\":{\"field\":\"x\"},\"y\":{\"field\":\"y\"}},\"id\":\"9a6cb97f-05c5-4ac9-8b53-c59e01ccb386\",\"type\":\"Circle\"},{\"attributes\":{},\"id\":\"ead69019-bbcf-449d-b1fa-fc3fafc7db32\",\"type\":\"StringFormatter\"},{\"attributes\":{\"dimension\":1,\"plot\":{\"id\":\"e957a38c-175d-4804-b954-96764442342e\",\"subtype\":\"Figure\",\"type\":\"Plot\"},\"ticker\":{\"id\":\"2819d4f6-0dfc-4d09-809b-eded8670c32e\",\"type\":\"MercatorTicker\"}},\"id\":\"409b8ae3-111f-4335-95b1-3418b8062485\",\"type\":\"Grid\"},{\"attributes\":{\"editor\":{\"id\":\"ff635aac-d754-4451-9362-a807b4f7e193\",\"type\":\"StringEditor\"},\"field\":\"count\",\"formatter\":{\"id\":\"56b91ff1-e3c5-4427-a224-e0621234f0b7\",\"type\":\"StringFormatter\"},\"title\":\"Count\"},\"id\":\"a4d40ff7-bb5e-4ab2-9470-2a482517108a\",\"type\":\"TableColumn\"},{\"attributes\":{\"editor\":{\"id\":\"9fc2d397-ac20-477c-8b35-3fcdf27aa5d4\",\"type\":\"StringEditor\"},\"field\":\"area\",\"formatter\":{\"id\":\"ead69019-bbcf-449d-b1fa-fc3fafc7db32\",\"type\":\"StringFormatter\"},\"title\":\"Area\"},\"id\":\"805cb646-aab0-40f5-85a5-88255cfa2d01\",\"type\":\"TableColumn\"},{\"attributes\":{\"plot\":{\"id\":\"e957a38c-175d-4804-b954-96764442342e\",\"subtype\":\"Figure\",\"type\":\"Plot\"},\"ticker\":{\"id\":\"b62763d9-cfc7-4821-a499-78eb2d41a3d7\",\"type\":\"MercatorTicker\"}},\"id\":\"92e52f81-a237-4464-9563-f799a250ee1a\",\"type\":\"Grid\"},{\"attributes\":{\"dimension\":\"lat\"},\"id\":\"2819d4f6-0dfc-4d09-809b-eded8670c32e\",\"type\":\"MercatorTicker\"},{\"attributes\":{\"children\":[{\"id\":\"d01697c9-75a7-4e02-bf9f-0dacae8134c1\",\"type\":\"Row\"}]},\"id\":\"181ffe54-f425-4296-8380-0953f4a216b5\",\"type\":\"Column\"},{\"attributes\":{\"toolbar\":{\"id\":\"00010656-a649-4867-84fb-85cab688a94c\",\"type\":\"ProxyToolbar\"},\"toolbar_location\":\"above\"},\"id\":\"6f1139e7-5d02-4b70-a7d2-b1993c43ea21\",\"type\":\"ToolbarBox\"},{\"attributes\":{\"source\":{\"id\":\"b868f353-65c3-46b6-953c-b3c4e9284c42\",\"type\":\"ColumnDataSource\"}},\"id\":\"9fa5a16d-2802-49a4-bc59-8705de77e058\",\"type\":\"CDSView\"},{\"attributes\":{\"columns\":[{\"id\":\"805cb646-aab0-40f5-85a5-88255cfa2d01\",\"type\":\"TableColumn\"},{\"id\":\"a4d40ff7-bb5e-4ab2-9470-2a482517108a\",\"type\":\"TableColumn\"}],\"height\":350,\"source\":{\"id\":\"b868f353-65c3-46b6-953c-b3c4e9284c42\",\"type\":\"ColumnDataSource\"},\"view\":{\"id\":\"9fa5a16d-2802-49a4-bc59-8705de77e058\",\"type\":\"CDSView\"},\"width\":200},\"id\":\"e7211ad8-6974-435c-9834-af2edd6514bd\",\"type\":\"DataTable\"},{\"attributes\":{\"callback\":null,\"renderers\":\"auto\",\"tooltips\":[[\"Area\",\"@area\"],[\"Count\",\"@count\"]]},\"id\":\"04b63ded-5d54-4f38-9e30-1bb10ec2a111\",\"type\":\"HoverTool\"},{\"attributes\":{\"children\":[{\"id\":\"e7211ad8-6974-435c-9834-af2edd6514bd\",\"type\":\"DataTable\"}],\"height\":350,\"width\":200},\"id\":\"9833faab-25eb-47bd-ae32-e98055f211a2\",\"type\":\"WidgetBox\"},{\"attributes\":{},\"id\":\"c6de2ba7-9727-45bb-a988-a7ca73ab2477\",\"type\":\"SaveTool\"},{\"attributes\":{},\"id\":\"15c87859-1a4a-4db1-a916-5b564208ae72\",\"type\":\"WheelZoomTool\"},{\"attributes\":{},\"id\":\"e1ac19d1-3f40-4525-a66d-2971594f85b4\",\"type\":\"PanTool\"}],\"root_ids\":[\"a5af32c1-edbc-4c17-9144-9e3bfb2efda9\"]},\"title\":\"Bokeh Application\",\"version\":\"0.12.16\"}};\n",
       "  var render_items = [{\"docid\":\"8e3214ef-6bd0-4a40-8ecb-ab4740e32bf1\",\"elementid\":\"32c562e5-cf23-4156-9043-a3ff07f7ea8f\",\"modelid\":\"a5af32c1-edbc-4c17-9144-9e3bfb2efda9\"}];\n",
       "  root.Bokeh.embed.embed_items_notebook(docs_json, render_items);\n",
       "\n",
       "  }\n",
       "  if (root.Bokeh !== undefined) {\n",
       "    embed_document(root);\n",
       "  } else {\n",
       "    var attempts = 0;\n",
       "    var timer = setInterval(function(root) {\n",
       "      if (root.Bokeh !== undefined) {\n",
       "        embed_document(root);\n",
       "        clearInterval(timer);\n",
       "      }\n",
       "      attempts++;\n",
       "      if (attempts > 100) {\n",
       "        console.log(\"Bokeh: ERROR: Unable to run BokehJS code because BokehJS library is missing\")\n",
       "        clearInterval(timer);\n",
       "      }\n",
       "    }, 10, root)\n",
       "  }\n",
       "})(window);"
      ],
      "application/vnd.bokehjs_exec.v0+json": ""
     },
     "metadata": {
      "application/vnd.bokehjs_exec.v0+json": {
       "id": "a5af32c1-edbc-4c17-9144-9e3bfb2efda9"
      }
     },
     "output_type": "display_data"
    }
   ],
   "source": [
    "# do the same for countries, filtering by countries > 1000\n",
    "\n",
    "s = df_entity_raw.countries.value_counts()\n",
    "s = s[s > 1000]\n",
    "country_df = pd.DataFrame(s).reset_index()\n",
    "country_df.columns = ['Area', 'Count']\n",
    "\n",
    "c_lat = []\n",
    "c_long = []\n",
    "\n",
    "for ind, row in country_df.iterrows():\n",
    "    location = geolocator.geocode(row['Area'])\n",
    "    c_lat.append(location.latitude)\n",
    "    c_long.append(location.longitude)\n",
    "\n",
    "country_df['Latitude'] = c_lat\n",
    "country_df['Longitude'] = c_long\n",
    "\n",
    "x_y_c = merc(country_df.Latitude, country_df.Longitude)\n",
    "country_df['x'] = x_y_c[0]\n",
    "country_df['y'] = x_y_c[1]\n",
    "\n",
    "output_file(\"proj_jekyll/assets/country_map.html\", title=\"country_map\")\n",
    "plot_map(country_df, \"Top countries that have offshore entities\")"
   ]
  },
  {
   "cell_type": "markdown",
   "metadata": {},
   "source": [
    "An interesting fact can be noticed from the distribution of the countries. The majority of the entities present in the papers come from a country with already favourable business condition like Honk Kong, Switzerland and Luxembourg or even from a place considered a fiscal paradise (Panama, Jersey). \n",
    "More analysis on this aspect will be performed, but generally business friendly business conditions correspond with very low tax rate. In other words the  countries with highest number of entities offshore are coming from tax haven countries.\n",
    "\n",
    "This fact could also be explained with a tendency, amplified by globalization, of big companies of starting their international business already from a convenient economy; however in order to comfirm this claim a stakeholder analysis should be done and for this reason we are not going to focus on this question."
   ]
  },
  {
   "cell_type": "markdown",
   "metadata": {},
   "source": [
    "# Structure of the investigation"
   ]
  },
  {
   "cell_type": "markdown",
   "metadata": {},
   "source": [
    "## Investigation outline"
   ]
  },
  {
   "cell_type": "markdown",
   "metadata": {},
   "source": [
    "As now it was understood that the major presence in the Panama Papers is characterized by tax havens countries, it is important to comprehend what are the business and economical conditions which influence entities to go offshore on a global level and why tax havens are such an good place to then go offshore. Hence, in order to answer to questions 3 and 4, the following structure is going to be  kept. It is important to mention that all the following investigations are not only done on a global scale, but with the help of the GDP data, the relationship between the set of economical and bureaucratic indicators and the number of offshore entities are inspected for different set of countries. The categories identified are 'Small developed countries', 'Developing Countries', 'Seven Biggest Economies' and 'Developed Countries'.\n",
    "Eventually it is important to mention that an average of the indicators in the past 15 years is considered for each country in order to fully exploit the data. In order to explore the role of each indicator, interactive plots are created to better investigate individually what are the conditions which push entities to go offshore.\n",
    "\n",
    "The following steps will be performed in this order throughout the notebook. \n",
    "\n",
    "- The GDP data is integrated with external values allowing a left join with the Panama Papers without leaving any entry without defined value.   \n",
    "- The corporate tax is investigated as a determinant of offshore companies.\n",
    "- Similar analysis as before are performed with days to open a business and time spent in regulations database.\n",
    "- The amount of corporate taxes lost is analysed country by country.\n",
    "- GINI time relation wiht numbers of Panama Papers is investigated."
   ]
  },
  {
   "cell_type": "markdown",
   "metadata": {},
   "source": [
    "## Assumptions"
   ]
  },
  {
   "cell_type": "markdown",
   "metadata": {},
   "source": [
    "In our analysis some assumtions will be made:\n",
    "\n",
    "- Countries categorization used in the analysis are created arbitrarily following common criteria.\n",
    "- The whole dataset of Panama Papers is considered for country by country analysis even if not all refer to recent years.\n",
    "- The largest part of the entities in the entity database is considered to be companies and businesses. \n",
    "- Indicators change in 15 year but the average over this period si still significant as indicator of economic activity.\n",
    "- GDP is used as a measure of economic activity and power.\n",
    "- It is assumed that all the entities present in the papers correspond to the biggest share of a company and they are not just a small share holding.\n",
    " \n",
    "The way in which the countries are categorized, although being arbitrarily, follow other categorizations diffused in the sociological and economic analysis. The second and forth assumption are linked to each other as basically an average of both data is taken. This can be considered correct as, even if the two periods of time considered not match, the largest amount of Panama Papers are concentrated in recent period. All the entries of entity database are considered as companies as even if they are referring to private households, they are still register as companies. GDP is quite a fair measure of the economic weight of a country as it describes the market value of all the final goods and services produced, in this case, yearly. Eventually concerning the last assumption often times companies present in the Panama Papers correspond to holdings placed in offshore jurisdiction which represent a percentage of the total company.  In this case it was assumed that they always represent the biggest share. This means their presence in a country directly implies their taxes will be paied in that country."
   ]
  },
  {
   "cell_type": "markdown",
   "metadata": {},
   "source": [
    "## GDP Data Integration"
   ]
  },
  {
   "cell_type": "markdown",
   "metadata": {},
   "source": [
    "In order to go further with the investigation it is crucial to have an instrument to distinguish between categories of countries. The parameters used to do so are the Total Gross Domestic Product and the Gross Domestic Product per capita which are measures of the size of the economic activity in a country and population. Hence, using these two paramters the number of entities present in the Panama Papers will be weighted according to these indicators too."
   ]
  },
  {
   "cell_type": "markdown",
   "metadata": {},
   "source": [
    "$GDP_{cap}$"
   ]
  },
  {
   "cell_type": "markdown",
   "metadata": {},
   "source": [
    "As many of the operation performed with the GDP will involve an inner joint between the latter and the entity data frame, the correctness of the operation is investigated. "
   ]
  },
  {
   "cell_type": "code",
   "execution_count": 25,
   "metadata": {},
   "outputs": [
    {
     "data": {
      "text/html": [
       "<div>\n",
       "<style scoped>\n",
       "    .dataframe tbody tr th:only-of-type {\n",
       "        vertical-align: middle;\n",
       "    }\n",
       "\n",
       "    .dataframe tbody tr th {\n",
       "        vertical-align: top;\n",
       "    }\n",
       "\n",
       "    .dataframe thead th {\n",
       "        text-align: right;\n",
       "    }\n",
       "</style>\n",
       "<table border=\"1\" class=\"dataframe\">\n",
       "  <thead>\n",
       "    <tr style=\"text-align: right;\">\n",
       "      <th></th>\n",
       "      <th>Country Name</th>\n",
       "      <th>Country Code</th>\n",
       "      <th>Indicator Name</th>\n",
       "      <th>Indicator Code</th>\n",
       "      <th>1960</th>\n",
       "      <th>1961</th>\n",
       "      <th>1962</th>\n",
       "      <th>1963</th>\n",
       "      <th>1964</th>\n",
       "      <th>1965</th>\n",
       "      <th>1966</th>\n",
       "      <th>1967</th>\n",
       "      <th>1968</th>\n",
       "      <th>1969</th>\n",
       "      <th>1970</th>\n",
       "      <th>1971</th>\n",
       "      <th>1972</th>\n",
       "      <th>1973</th>\n",
       "      <th>1974</th>\n",
       "      <th>1975</th>\n",
       "      <th>1976</th>\n",
       "      <th>1977</th>\n",
       "      <th>1978</th>\n",
       "      <th>1979</th>\n",
       "      <th>1980</th>\n",
       "      <th>1981</th>\n",
       "      <th>1982</th>\n",
       "      <th>1983</th>\n",
       "      <th>1984</th>\n",
       "      <th>1985</th>\n",
       "      <th>1986</th>\n",
       "      <th>1987</th>\n",
       "      <th>1988</th>\n",
       "      <th>1989</th>\n",
       "      <th>1990</th>\n",
       "      <th>1991</th>\n",
       "      <th>1992</th>\n",
       "      <th>1993</th>\n",
       "      <th>1994</th>\n",
       "      <th>1995</th>\n",
       "      <th>1996</th>\n",
       "      <th>1997</th>\n",
       "      <th>1998</th>\n",
       "      <th>1999</th>\n",
       "      <th>2000</th>\n",
       "      <th>2001</th>\n",
       "      <th>2002</th>\n",
       "      <th>2003</th>\n",
       "      <th>2004</th>\n",
       "      <th>2005</th>\n",
       "      <th>2006</th>\n",
       "      <th>2007</th>\n",
       "      <th>2008</th>\n",
       "      <th>2009</th>\n",
       "      <th>2010</th>\n",
       "      <th>2011</th>\n",
       "      <th>2012</th>\n",
       "      <th>2013</th>\n",
       "      <th>2014</th>\n",
       "      <th>2015</th>\n",
       "      <th>2016</th>\n",
       "      <th>2017</th>\n",
       "    </tr>\n",
       "  </thead>\n",
       "  <tbody>\n",
       "    <tr>\n",
       "      <th>0</th>\n",
       "      <td>Aruba</td>\n",
       "      <td>ABW</td>\n",
       "      <td>GDP (current US$)</td>\n",
       "      <td>NY.GDP.MKTP.CD</td>\n",
       "      <td>NaN</td>\n",
       "      <td>NaN</td>\n",
       "      <td>NaN</td>\n",
       "      <td>NaN</td>\n",
       "      <td>NaN</td>\n",
       "      <td>NaN</td>\n",
       "      <td>NaN</td>\n",
       "      <td>NaN</td>\n",
       "      <td>NaN</td>\n",
       "      <td>NaN</td>\n",
       "      <td>NaN</td>\n",
       "      <td>NaN</td>\n",
       "      <td>NaN</td>\n",
       "      <td>NaN</td>\n",
       "      <td>NaN</td>\n",
       "      <td>NaN</td>\n",
       "      <td>NaN</td>\n",
       "      <td>NaN</td>\n",
       "      <td>NaN</td>\n",
       "      <td>NaN</td>\n",
       "      <td>NaN</td>\n",
       "      <td>NaN</td>\n",
       "      <td>NaN</td>\n",
       "      <td>NaN</td>\n",
       "      <td>NaN</td>\n",
       "      <td>NaN</td>\n",
       "      <td>NaN</td>\n",
       "      <td>NaN</td>\n",
       "      <td>NaN</td>\n",
       "      <td>NaN</td>\n",
       "      <td>NaN</td>\n",
       "      <td>NaN</td>\n",
       "      <td>NaN</td>\n",
       "      <td>NaN</td>\n",
       "      <td>1.330168e+09</td>\n",
       "      <td>1.320670e+09</td>\n",
       "      <td>1.379888e+09</td>\n",
       "      <td>1.531844e+09</td>\n",
       "      <td>1.665363e+09</td>\n",
       "      <td>1.722799e+09</td>\n",
       "      <td>1.873453e+09</td>\n",
       "      <td>1.920263e+09</td>\n",
       "      <td>1.941095e+09</td>\n",
       "      <td>2.021302e+09</td>\n",
       "      <td>2.228279e+09</td>\n",
       "      <td>2.331006e+09</td>\n",
       "      <td>2.421475e+09</td>\n",
       "      <td>2.623726e+09</td>\n",
       "      <td>2.791961e+09</td>\n",
       "      <td>2.498933e+09</td>\n",
       "      <td>2.467704e+09</td>\n",
       "      <td>2.584464e+09</td>\n",
       "      <td>NaN</td>\n",
       "      <td>NaN</td>\n",
       "      <td>2.516000e+09</td>\n",
       "      <td>NaN</td>\n",
       "      <td>NaN</td>\n",
       "      <td>NaN</td>\n",
       "    </tr>\n",
       "    <tr>\n",
       "      <th>1</th>\n",
       "      <td>Afghanistan</td>\n",
       "      <td>AFG</td>\n",
       "      <td>GDP (current US$)</td>\n",
       "      <td>NY.GDP.MKTP.CD</td>\n",
       "      <td>537777811.1</td>\n",
       "      <td>548888895.6</td>\n",
       "      <td>546666677.8</td>\n",
       "      <td>751111191.1</td>\n",
       "      <td>800000044.4</td>\n",
       "      <td>1.006667e+09</td>\n",
       "      <td>1.400000e+09</td>\n",
       "      <td>1.673333e+09</td>\n",
       "      <td>1.373333e+09</td>\n",
       "      <td>1.408889e+09</td>\n",
       "      <td>1.748887e+09</td>\n",
       "      <td>1.831109e+09</td>\n",
       "      <td>1.595555e+09</td>\n",
       "      <td>1.733333e+09</td>\n",
       "      <td>2.155555e+09</td>\n",
       "      <td>2.366667e+09</td>\n",
       "      <td>2.555556e+09</td>\n",
       "      <td>2.953333e+09</td>\n",
       "      <td>3.300000e+09</td>\n",
       "      <td>3.697940e+09</td>\n",
       "      <td>3.641723e+09</td>\n",
       "      <td>3.478788e+09</td>\n",
       "      <td>NaN</td>\n",
       "      <td>NaN</td>\n",
       "      <td>NaN</td>\n",
       "      <td>NaN</td>\n",
       "      <td>NaN</td>\n",
       "      <td>NaN</td>\n",
       "      <td>NaN</td>\n",
       "      <td>NaN</td>\n",
       "      <td>NaN</td>\n",
       "      <td>NaN</td>\n",
       "      <td>NaN</td>\n",
       "      <td>NaN</td>\n",
       "      <td>NaN</td>\n",
       "      <td>NaN</td>\n",
       "      <td>NaN</td>\n",
       "      <td>NaN</td>\n",
       "      <td>NaN</td>\n",
       "      <td>NaN</td>\n",
       "      <td>NaN</td>\n",
       "      <td>2.461666e+09</td>\n",
       "      <td>4.128821e+09</td>\n",
       "      <td>4.583644e+09</td>\n",
       "      <td>5.285466e+09</td>\n",
       "      <td>6.275074e+09</td>\n",
       "      <td>7.057598e+09</td>\n",
       "      <td>9.843842e+09</td>\n",
       "      <td>1.019053e+10</td>\n",
       "      <td>1.248694e+10</td>\n",
       "      <td>1.593680e+10</td>\n",
       "      <td>1.793024e+10</td>\n",
       "      <td>2.053654e+10</td>\n",
       "      <td>2.026425e+10</td>\n",
       "      <td>2.061610e+10</td>\n",
       "      <td>1.921556e+10</td>\n",
       "      <td>1.946902e+10</td>\n",
       "      <td>2.081530e+10</td>\n",
       "    </tr>\n",
       "    <tr>\n",
       "      <th>2</th>\n",
       "      <td>Angola</td>\n",
       "      <td>AGO</td>\n",
       "      <td>GDP (current US$)</td>\n",
       "      <td>NY.GDP.MKTP.CD</td>\n",
       "      <td>NaN</td>\n",
       "      <td>NaN</td>\n",
       "      <td>NaN</td>\n",
       "      <td>NaN</td>\n",
       "      <td>NaN</td>\n",
       "      <td>NaN</td>\n",
       "      <td>NaN</td>\n",
       "      <td>NaN</td>\n",
       "      <td>NaN</td>\n",
       "      <td>NaN</td>\n",
       "      <td>NaN</td>\n",
       "      <td>NaN</td>\n",
       "      <td>NaN</td>\n",
       "      <td>NaN</td>\n",
       "      <td>NaN</td>\n",
       "      <td>NaN</td>\n",
       "      <td>NaN</td>\n",
       "      <td>NaN</td>\n",
       "      <td>NaN</td>\n",
       "      <td>NaN</td>\n",
       "      <td>5.930503e+09</td>\n",
       "      <td>5.550483e+09</td>\n",
       "      <td>5.550483e+09</td>\n",
       "      <td>5.784342e+09</td>\n",
       "      <td>6.131475e+09</td>\n",
       "      <td>7.553560e+09</td>\n",
       "      <td>7.072063e+09</td>\n",
       "      <td>8.083872e+09</td>\n",
       "      <td>8.769251e+09</td>\n",
       "      <td>1.020110e+10</td>\n",
       "      <td>1.122876e+10</td>\n",
       "      <td>1.060378e+10</td>\n",
       "      <td>8.307811e+09</td>\n",
       "      <td>5.768720e+09</td>\n",
       "      <td>4.438321e+09</td>\n",
       "      <td>5.538749e+09</td>\n",
       "      <td>7.526447e+09</td>\n",
       "      <td>7.648377e+09</td>\n",
       "      <td>6.506230e+09</td>\n",
       "      <td>6.152923e+09</td>\n",
       "      <td>9.129595e+09</td>\n",
       "      <td>8.936064e+09</td>\n",
       "      <td>1.249735e+10</td>\n",
       "      <td>1.418895e+10</td>\n",
       "      <td>1.964085e+10</td>\n",
       "      <td>2.823371e+10</td>\n",
       "      <td>4.178948e+10</td>\n",
       "      <td>6.044892e+10</td>\n",
       "      <td>8.417804e+10</td>\n",
       "      <td>7.549239e+10</td>\n",
       "      <td>8.252614e+10</td>\n",
       "      <td>1.040000e+11</td>\n",
       "      <td>1.140000e+11</td>\n",
       "      <td>1.250000e+11</td>\n",
       "      <td>1.270000e+11</td>\n",
       "      <td>1.030000e+11</td>\n",
       "      <td>9.533720e+10</td>\n",
       "      <td>1.240000e+11</td>\n",
       "    </tr>\n",
       "    <tr>\n",
       "      <th>3</th>\n",
       "      <td>Albania</td>\n",
       "      <td>ALB</td>\n",
       "      <td>GDP (current US$)</td>\n",
       "      <td>NY.GDP.MKTP.CD</td>\n",
       "      <td>NaN</td>\n",
       "      <td>NaN</td>\n",
       "      <td>NaN</td>\n",
       "      <td>NaN</td>\n",
       "      <td>NaN</td>\n",
       "      <td>NaN</td>\n",
       "      <td>NaN</td>\n",
       "      <td>NaN</td>\n",
       "      <td>NaN</td>\n",
       "      <td>NaN</td>\n",
       "      <td>NaN</td>\n",
       "      <td>NaN</td>\n",
       "      <td>NaN</td>\n",
       "      <td>NaN</td>\n",
       "      <td>NaN</td>\n",
       "      <td>NaN</td>\n",
       "      <td>NaN</td>\n",
       "      <td>NaN</td>\n",
       "      <td>NaN</td>\n",
       "      <td>NaN</td>\n",
       "      <td>NaN</td>\n",
       "      <td>NaN</td>\n",
       "      <td>NaN</td>\n",
       "      <td>NaN</td>\n",
       "      <td>1.924242e+09</td>\n",
       "      <td>1.965385e+09</td>\n",
       "      <td>2.173750e+09</td>\n",
       "      <td>2.156625e+09</td>\n",
       "      <td>2.126000e+09</td>\n",
       "      <td>2.335125e+09</td>\n",
       "      <td>2.101625e+09</td>\n",
       "      <td>1.139167e+09</td>\n",
       "      <td>7.094526e+08</td>\n",
       "      <td>1.228071e+09</td>\n",
       "      <td>1.985674e+09</td>\n",
       "      <td>2.424499e+09</td>\n",
       "      <td>3.314898e+09</td>\n",
       "      <td>2.359903e+09</td>\n",
       "      <td>2.707124e+09</td>\n",
       "      <td>3.414761e+09</td>\n",
       "      <td>3.632044e+09</td>\n",
       "      <td>4.060759e+09</td>\n",
       "      <td>4.435079e+09</td>\n",
       "      <td>5.746946e+09</td>\n",
       "      <td>7.314865e+09</td>\n",
       "      <td>8.158549e+09</td>\n",
       "      <td>8.992642e+09</td>\n",
       "      <td>1.070101e+10</td>\n",
       "      <td>1.288135e+10</td>\n",
       "      <td>1.204421e+10</td>\n",
       "      <td>1.192695e+10</td>\n",
       "      <td>1.289087e+10</td>\n",
       "      <td>1.231978e+10</td>\n",
       "      <td>1.277628e+10</td>\n",
       "      <td>1.322824e+10</td>\n",
       "      <td>1.138693e+10</td>\n",
       "      <td>1.188368e+10</td>\n",
       "      <td>1.303935e+10</td>\n",
       "    </tr>\n",
       "    <tr>\n",
       "      <th>4</th>\n",
       "      <td>Andorra</td>\n",
       "      <td>AND</td>\n",
       "      <td>GDP (current US$)</td>\n",
       "      <td>NY.GDP.MKTP.CD</td>\n",
       "      <td>NaN</td>\n",
       "      <td>NaN</td>\n",
       "      <td>NaN</td>\n",
       "      <td>NaN</td>\n",
       "      <td>NaN</td>\n",
       "      <td>NaN</td>\n",
       "      <td>NaN</td>\n",
       "      <td>NaN</td>\n",
       "      <td>NaN</td>\n",
       "      <td>NaN</td>\n",
       "      <td>7.861921e+07</td>\n",
       "      <td>8.940982e+07</td>\n",
       "      <td>1.134082e+08</td>\n",
       "      <td>1.508201e+08</td>\n",
       "      <td>1.865587e+08</td>\n",
       "      <td>2.201272e+08</td>\n",
       "      <td>2.272810e+08</td>\n",
       "      <td>2.540202e+08</td>\n",
       "      <td>3.080089e+08</td>\n",
       "      <td>4.115783e+08</td>\n",
       "      <td>4.464161e+08</td>\n",
       "      <td>3.889587e+08</td>\n",
       "      <td>3.758960e+08</td>\n",
       "      <td>3.278618e+08</td>\n",
       "      <td>3.300707e+08</td>\n",
       "      <td>3.467380e+08</td>\n",
       "      <td>4.820006e+08</td>\n",
       "      <td>6.113164e+08</td>\n",
       "      <td>7.214259e+08</td>\n",
       "      <td>7.954493e+08</td>\n",
       "      <td>1.029048e+09</td>\n",
       "      <td>1.106929e+09</td>\n",
       "      <td>1.210014e+09</td>\n",
       "      <td>1.007026e+09</td>\n",
       "      <td>1.017549e+09</td>\n",
       "      <td>1.178739e+09</td>\n",
       "      <td>1.223945e+09</td>\n",
       "      <td>1.180597e+09</td>\n",
       "      <td>1.211932e+09</td>\n",
       "      <td>1.239876e+09</td>\n",
       "      <td>1.434430e+09</td>\n",
       "      <td>1.496913e+09</td>\n",
       "      <td>1.733117e+09</td>\n",
       "      <td>2.398646e+09</td>\n",
       "      <td>2.935659e+09</td>\n",
       "      <td>3.255789e+09</td>\n",
       "      <td>3.543257e+09</td>\n",
       "      <td>4.016972e+09</td>\n",
       "      <td>4.007353e+09</td>\n",
       "      <td>3.660531e+09</td>\n",
       "      <td>3.355695e+09</td>\n",
       "      <td>3.442063e+09</td>\n",
       "      <td>3.164615e+09</td>\n",
       "      <td>3.281585e+09</td>\n",
       "      <td>3.350736e+09</td>\n",
       "      <td>2.811489e+09</td>\n",
       "      <td>2.877312e+09</td>\n",
       "      <td>3.012914e+09</td>\n",
       "    </tr>\n",
       "  </tbody>\n",
       "</table>\n",
       "</div>"
      ],
      "text/plain": [
       "  Country Name Country Code     Indicator Name  Indicator Code         1960  \\\n",
       "0        Aruba          ABW  GDP (current US$)  NY.GDP.MKTP.CD          NaN   \n",
       "1  Afghanistan          AFG  GDP (current US$)  NY.GDP.MKTP.CD  537777811.1   \n",
       "2       Angola          AGO  GDP (current US$)  NY.GDP.MKTP.CD          NaN   \n",
       "3      Albania          ALB  GDP (current US$)  NY.GDP.MKTP.CD          NaN   \n",
       "4      Andorra          AND  GDP (current US$)  NY.GDP.MKTP.CD          NaN   \n",
       "\n",
       "          1961         1962         1963         1964          1965  \\\n",
       "0          NaN          NaN          NaN          NaN           NaN   \n",
       "1  548888895.6  546666677.8  751111191.1  800000044.4  1.006667e+09   \n",
       "2          NaN          NaN          NaN          NaN           NaN   \n",
       "3          NaN          NaN          NaN          NaN           NaN   \n",
       "4          NaN          NaN          NaN          NaN           NaN   \n",
       "\n",
       "           1966          1967          1968          1969          1970  \\\n",
       "0           NaN           NaN           NaN           NaN           NaN   \n",
       "1  1.400000e+09  1.673333e+09  1.373333e+09  1.408889e+09  1.748887e+09   \n",
       "2           NaN           NaN           NaN           NaN           NaN   \n",
       "3           NaN           NaN           NaN           NaN           NaN   \n",
       "4           NaN           NaN           NaN           NaN  7.861921e+07   \n",
       "\n",
       "           1971          1972          1973          1974          1975  \\\n",
       "0           NaN           NaN           NaN           NaN           NaN   \n",
       "1  1.831109e+09  1.595555e+09  1.733333e+09  2.155555e+09  2.366667e+09   \n",
       "2           NaN           NaN           NaN           NaN           NaN   \n",
       "3           NaN           NaN           NaN           NaN           NaN   \n",
       "4  8.940982e+07  1.134082e+08  1.508201e+08  1.865587e+08  2.201272e+08   \n",
       "\n",
       "           1976          1977          1978          1979          1980  \\\n",
       "0           NaN           NaN           NaN           NaN           NaN   \n",
       "1  2.555556e+09  2.953333e+09  3.300000e+09  3.697940e+09  3.641723e+09   \n",
       "2           NaN           NaN           NaN           NaN  5.930503e+09   \n",
       "3           NaN           NaN           NaN           NaN           NaN   \n",
       "4  2.272810e+08  2.540202e+08  3.080089e+08  4.115783e+08  4.464161e+08   \n",
       "\n",
       "           1981          1982          1983          1984          1985  \\\n",
       "0           NaN           NaN           NaN           NaN           NaN   \n",
       "1  3.478788e+09           NaN           NaN           NaN           NaN   \n",
       "2  5.550483e+09  5.550483e+09  5.784342e+09  6.131475e+09  7.553560e+09   \n",
       "3           NaN           NaN           NaN  1.924242e+09  1.965385e+09   \n",
       "4  3.889587e+08  3.758960e+08  3.278618e+08  3.300707e+08  3.467380e+08   \n",
       "\n",
       "           1986          1987          1988          1989          1990  \\\n",
       "0           NaN           NaN           NaN           NaN           NaN   \n",
       "1           NaN           NaN           NaN           NaN           NaN   \n",
       "2  7.072063e+09  8.083872e+09  8.769251e+09  1.020110e+10  1.122876e+10   \n",
       "3  2.173750e+09  2.156625e+09  2.126000e+09  2.335125e+09  2.101625e+09   \n",
       "4  4.820006e+08  6.113164e+08  7.214259e+08  7.954493e+08  1.029048e+09   \n",
       "\n",
       "           1991          1992          1993          1994          1995  \\\n",
       "0           NaN           NaN           NaN  1.330168e+09  1.320670e+09   \n",
       "1           NaN           NaN           NaN           NaN           NaN   \n",
       "2  1.060378e+10  8.307811e+09  5.768720e+09  4.438321e+09  5.538749e+09   \n",
       "3  1.139167e+09  7.094526e+08  1.228071e+09  1.985674e+09  2.424499e+09   \n",
       "4  1.106929e+09  1.210014e+09  1.007026e+09  1.017549e+09  1.178739e+09   \n",
       "\n",
       "           1996          1997          1998          1999          2000  \\\n",
       "0  1.379888e+09  1.531844e+09  1.665363e+09  1.722799e+09  1.873453e+09   \n",
       "1           NaN           NaN           NaN           NaN           NaN   \n",
       "2  7.526447e+09  7.648377e+09  6.506230e+09  6.152923e+09  9.129595e+09   \n",
       "3  3.314898e+09  2.359903e+09  2.707124e+09  3.414761e+09  3.632044e+09   \n",
       "4  1.223945e+09  1.180597e+09  1.211932e+09  1.239876e+09  1.434430e+09   \n",
       "\n",
       "           2001          2002          2003          2004          2005  \\\n",
       "0  1.920263e+09  1.941095e+09  2.021302e+09  2.228279e+09  2.331006e+09   \n",
       "1  2.461666e+09  4.128821e+09  4.583644e+09  5.285466e+09  6.275074e+09   \n",
       "2  8.936064e+09  1.249735e+10  1.418895e+10  1.964085e+10  2.823371e+10   \n",
       "3  4.060759e+09  4.435079e+09  5.746946e+09  7.314865e+09  8.158549e+09   \n",
       "4  1.496913e+09  1.733117e+09  2.398646e+09  2.935659e+09  3.255789e+09   \n",
       "\n",
       "           2006          2007          2008          2009          2010  \\\n",
       "0  2.421475e+09  2.623726e+09  2.791961e+09  2.498933e+09  2.467704e+09   \n",
       "1  7.057598e+09  9.843842e+09  1.019053e+10  1.248694e+10  1.593680e+10   \n",
       "2  4.178948e+10  6.044892e+10  8.417804e+10  7.549239e+10  8.252614e+10   \n",
       "3  8.992642e+09  1.070101e+10  1.288135e+10  1.204421e+10  1.192695e+10   \n",
       "4  3.543257e+09  4.016972e+09  4.007353e+09  3.660531e+09  3.355695e+09   \n",
       "\n",
       "           2011          2012          2013          2014          2015  \\\n",
       "0  2.584464e+09           NaN           NaN  2.516000e+09           NaN   \n",
       "1  1.793024e+10  2.053654e+10  2.026425e+10  2.061610e+10  1.921556e+10   \n",
       "2  1.040000e+11  1.140000e+11  1.250000e+11  1.270000e+11  1.030000e+11   \n",
       "3  1.289087e+10  1.231978e+10  1.277628e+10  1.322824e+10  1.138693e+10   \n",
       "4  3.442063e+09  3.164615e+09  3.281585e+09  3.350736e+09  2.811489e+09   \n",
       "\n",
       "           2016          2017  \n",
       "0           NaN           NaN  \n",
       "1  1.946902e+10  2.081530e+10  \n",
       "2  9.533720e+10  1.240000e+11  \n",
       "3  1.188368e+10  1.303935e+10  \n",
       "4  2.877312e+09  3.012914e+09  "
      ]
     },
     "execution_count": 25,
     "metadata": {},
     "output_type": "execute_result"
    }
   ],
   "source": [
    "df_GDP_tot_raw.head()"
   ]
  },
  {
   "cell_type": "markdown",
   "metadata": {},
   "source": [
    "All the following numbers printed show the condition of the data frame as it is right now, after performing the operation later described. The year with less missing values among the ones that follow the 2008 economic crisis (meaning comparable GDP to the present ones) is chosen as measure of the GDP. It is 2014 with 16 missing values."
   ]
  },
  {
   "cell_type": "code",
   "execution_count": 26,
   "metadata": {},
   "outputs": [
    {
     "name": "stdout",
     "output_type": "stream",
     "text": [
      "30\n",
      "23\n",
      "18\n",
      "9\n",
      "16\n",
      "17\n"
     ]
    }
   ],
   "source": [
    "print(df_GDP_tot_raw['2017'].isna().sum())\n",
    "print(df_GDP_tot_raw['2016'].isna().sum())\n",
    "print(df_GDP_tot_raw['2015'].isna().sum())\n",
    "print(df_GDP_tot_raw['2014'].isna().sum())\n",
    "print(df_GDP_tot_raw['2013'].isna().sum())\n",
    "print(df_GDP_tot_raw['2012'].isna().sum())"
   ]
  },
  {
   "cell_type": "code",
   "execution_count": 27,
   "metadata": {
    "scrolled": true
   },
   "outputs": [],
   "source": [
    "df_GDP_tot=df_GDP_tot_raw[['Country Name','2014']].copy()\n",
    "df_GDP_tot.columns = ['countries', 'GDP_tot']\n",
    "#df_GDP_tot"
   ]
  },
  {
   "cell_type": "markdown",
   "metadata": {},
   "source": [
    "A new data frame from the `entity` one is created with only the relevant columns. (value_counts is applied) "
   ]
  },
  {
   "cell_type": "code",
   "execution_count": 28,
   "metadata": {
    "scrolled": true
   },
   "outputs": [],
   "source": [
    "df_vc=pd.DataFrame(df_entity_raw.countries.value_counts())\n",
    "df_vc.reset_index(level=0, inplace=True)\n",
    "df_vc.columns = ['countries', 'n_companies']\n",
    "#df_vc"
   ]
  },
  {
   "cell_type": "markdown",
   "metadata": {},
   "source": [
    "Now a merge with an inner join the value counts data frame `df_vc` and the `df_GDP_tot` is performed. All the lines with a missing GDP were visualized below (lines of British Virgin Islands, Turks and Caicos Island, Sint Marteen (dutch part), Monaco, Gibraltar, Cayman Islands, Bermuda and Aruba).  The missing values are manually integrated in the `.csv` looking at reliable data online. The check for nan values now shows an empty dataframe."
   ]
  },
  {
   "cell_type": "code",
   "execution_count": 29,
   "metadata": {},
   "outputs": [
    {
     "name": "stdout",
     "output_type": "stream",
     "text": [
      "Number of countries without GDP in the database:  Empty DataFrame\n",
      "Columns: [countries, GDP_tot, n_companies]\n",
      "Index: []\n"
     ]
    }
   ],
   "source": [
    "df_GDP_tot_entities=df_GDP_tot.merge(df_vc, how='inner',left_on='countries', right_on='countries')\n",
    "print('Number of countries without GDP in the database: ',df_GDP_tot_entities[df_GDP_tot_entities['GDP_tot'].isna()])\n",
    "#df_GDP_tot_entities"
   ]
  },
  {
   "cell_type": "markdown",
   "metadata": {},
   "source": [
    "$GDP_{tot}$"
   ]
  },
  {
   "cell_type": "markdown",
   "metadata": {},
   "source": [
    "The same analysis procedure is performed on the GDP pro capita data frame. The same lines of GDP were missing, and they were replaced in the same manner as for the total GDP."
   ]
  },
  {
   "cell_type": "code",
   "execution_count": 30,
   "metadata": {},
   "outputs": [
    {
     "data": {
      "text/html": [
       "<div>\n",
       "<style scoped>\n",
       "    .dataframe tbody tr th:only-of-type {\n",
       "        vertical-align: middle;\n",
       "    }\n",
       "\n",
       "    .dataframe tbody tr th {\n",
       "        vertical-align: top;\n",
       "    }\n",
       "\n",
       "    .dataframe thead th {\n",
       "        text-align: right;\n",
       "    }\n",
       "</style>\n",
       "<table border=\"1\" class=\"dataframe\">\n",
       "  <thead>\n",
       "    <tr style=\"text-align: right;\">\n",
       "      <th></th>\n",
       "      <th>Country Name</th>\n",
       "      <th>Country Code</th>\n",
       "      <th>Indicator Name</th>\n",
       "      <th>Indicator Code</th>\n",
       "      <th>1960</th>\n",
       "      <th>1961</th>\n",
       "      <th>1962</th>\n",
       "      <th>1963</th>\n",
       "      <th>1964</th>\n",
       "      <th>1965</th>\n",
       "      <th>1966</th>\n",
       "      <th>1967</th>\n",
       "      <th>1968</th>\n",
       "      <th>1969</th>\n",
       "      <th>1970</th>\n",
       "      <th>1971</th>\n",
       "      <th>1972</th>\n",
       "      <th>1973</th>\n",
       "      <th>1974</th>\n",
       "      <th>1975</th>\n",
       "      <th>1976</th>\n",
       "      <th>1977</th>\n",
       "      <th>1978</th>\n",
       "      <th>1979</th>\n",
       "      <th>1980</th>\n",
       "      <th>1981</th>\n",
       "      <th>1982</th>\n",
       "      <th>1983</th>\n",
       "      <th>1984</th>\n",
       "      <th>1985</th>\n",
       "      <th>1986</th>\n",
       "      <th>1987</th>\n",
       "      <th>1988</th>\n",
       "      <th>1989</th>\n",
       "      <th>1990</th>\n",
       "      <th>1991</th>\n",
       "      <th>1992</th>\n",
       "      <th>1993</th>\n",
       "      <th>1994</th>\n",
       "      <th>1995</th>\n",
       "      <th>1996</th>\n",
       "      <th>1997</th>\n",
       "      <th>1998</th>\n",
       "      <th>1999</th>\n",
       "      <th>2000</th>\n",
       "      <th>2001</th>\n",
       "      <th>2002</th>\n",
       "      <th>2003</th>\n",
       "      <th>2004</th>\n",
       "      <th>2005</th>\n",
       "      <th>2006</th>\n",
       "      <th>2007</th>\n",
       "      <th>2008</th>\n",
       "      <th>2009</th>\n",
       "      <th>2010</th>\n",
       "      <th>2011</th>\n",
       "      <th>2012</th>\n",
       "      <th>2013</th>\n",
       "      <th>2014</th>\n",
       "      <th>2015</th>\n",
       "      <th>2016</th>\n",
       "      <th>2017</th>\n",
       "    </tr>\n",
       "  </thead>\n",
       "  <tbody>\n",
       "    <tr>\n",
       "      <th>0</th>\n",
       "      <td>Aruba</td>\n",
       "      <td>ABW</td>\n",
       "      <td>GDP per capita (current US$)</td>\n",
       "      <td>NY.GDP.PCAP.CD</td>\n",
       "      <td>NaN</td>\n",
       "      <td>NaN</td>\n",
       "      <td>NaN</td>\n",
       "      <td>NaN</td>\n",
       "      <td>NaN</td>\n",
       "      <td>NaN</td>\n",
       "      <td>NaN</td>\n",
       "      <td>NaN</td>\n",
       "      <td>NaN</td>\n",
       "      <td>NaN</td>\n",
       "      <td>NaN</td>\n",
       "      <td>NaN</td>\n",
       "      <td>NaN</td>\n",
       "      <td>NaN</td>\n",
       "      <td>NaN</td>\n",
       "      <td>NaN</td>\n",
       "      <td>NaN</td>\n",
       "      <td>NaN</td>\n",
       "      <td>NaN</td>\n",
       "      <td>NaN</td>\n",
       "      <td>NaN</td>\n",
       "      <td>NaN</td>\n",
       "      <td>NaN</td>\n",
       "      <td>NaN</td>\n",
       "      <td>NaN</td>\n",
       "      <td>NaN</td>\n",
       "      <td>NaN</td>\n",
       "      <td>NaN</td>\n",
       "      <td>NaN</td>\n",
       "      <td>NaN</td>\n",
       "      <td>NaN</td>\n",
       "      <td>NaN</td>\n",
       "      <td>NaN</td>\n",
       "      <td>NaN</td>\n",
       "      <td>17342.471940</td>\n",
       "      <td>16441.790640</td>\n",
       "      <td>16585.195530</td>\n",
       "      <td>17926.572840</td>\n",
       "      <td>19081.351660</td>\n",
       "      <td>19356.203390</td>\n",
       "      <td>20620.700630</td>\n",
       "      <td>20670.655660</td>\n",
       "      <td>20434.299440</td>\n",
       "      <td>20834.510200</td>\n",
       "      <td>22567.824920</td>\n",
       "      <td>23302.831990</td>\n",
       "      <td>24014.944270</td>\n",
       "      <td>25921.026050</td>\n",
       "      <td>27546.899390</td>\n",
       "      <td>24631.434860</td>\n",
       "      <td>24271.940420</td>\n",
       "      <td>25324.720360</td>\n",
       "      <td>NaN</td>\n",
       "      <td>NaN</td>\n",
       "      <td>25300.000000</td>\n",
       "      <td>NaN</td>\n",
       "      <td>NaN</td>\n",
       "      <td>NaN</td>\n",
       "    </tr>\n",
       "    <tr>\n",
       "      <th>1</th>\n",
       "      <td>Afghanistan</td>\n",
       "      <td>AFG</td>\n",
       "      <td>GDP per capita (current US$)</td>\n",
       "      <td>NY.GDP.PCAP.CD</td>\n",
       "      <td>59.777327</td>\n",
       "      <td>59.878153</td>\n",
       "      <td>58.492874</td>\n",
       "      <td>78.782758</td>\n",
       "      <td>82.208444</td>\n",
       "      <td>101.290471</td>\n",
       "      <td>137.899362</td>\n",
       "      <td>161.322</td>\n",
       "      <td>129.506654</td>\n",
       "      <td>129.798541</td>\n",
       "      <td>157.187422</td>\n",
       "      <td>160.372836</td>\n",
       "      <td>136.117014</td>\n",
       "      <td>144.110319</td>\n",
       "      <td>174.942038</td>\n",
       "      <td>187.975604</td>\n",
       "      <td>199.026173</td>\n",
       "      <td>226.005344</td>\n",
       "      <td>249.287386</td>\n",
       "      <td>277.900742</td>\n",
       "      <td>274.880859</td>\n",
       "      <td>266.493042</td>\n",
       "      <td>NaN</td>\n",
       "      <td>NaN</td>\n",
       "      <td>NaN</td>\n",
       "      <td>NaN</td>\n",
       "      <td>NaN</td>\n",
       "      <td>NaN</td>\n",
       "      <td>NaN</td>\n",
       "      <td>NaN</td>\n",
       "      <td>NaN</td>\n",
       "      <td>NaN</td>\n",
       "      <td>NaN</td>\n",
       "      <td>NaN</td>\n",
       "      <td>NaN</td>\n",
       "      <td>NaN</td>\n",
       "      <td>NaN</td>\n",
       "      <td>NaN</td>\n",
       "      <td>NaN</td>\n",
       "      <td>NaN</td>\n",
       "      <td>NaN</td>\n",
       "      <td>117.409691</td>\n",
       "      <td>187.845095</td>\n",
       "      <td>198.728544</td>\n",
       "      <td>219.141353</td>\n",
       "      <td>250.294130</td>\n",
       "      <td>272.563077</td>\n",
       "      <td>369.835796</td>\n",
       "      <td>373.361116</td>\n",
       "      <td>445.893298</td>\n",
       "      <td>553.300289</td>\n",
       "      <td>603.537023</td>\n",
       "      <td>669.009051</td>\n",
       "      <td>638.612543</td>\n",
       "      <td>629.345250</td>\n",
       "      <td>569.577923</td>\n",
       "      <td>561.778746</td>\n",
       "      <td>585.850064</td>\n",
       "    </tr>\n",
       "    <tr>\n",
       "      <th>2</th>\n",
       "      <td>Angola</td>\n",
       "      <td>AGO</td>\n",
       "      <td>GDP per capita (current US$)</td>\n",
       "      <td>NY.GDP.PCAP.CD</td>\n",
       "      <td>NaN</td>\n",
       "      <td>NaN</td>\n",
       "      <td>NaN</td>\n",
       "      <td>NaN</td>\n",
       "      <td>NaN</td>\n",
       "      <td>NaN</td>\n",
       "      <td>NaN</td>\n",
       "      <td>NaN</td>\n",
       "      <td>NaN</td>\n",
       "      <td>NaN</td>\n",
       "      <td>NaN</td>\n",
       "      <td>NaN</td>\n",
       "      <td>NaN</td>\n",
       "      <td>NaN</td>\n",
       "      <td>NaN</td>\n",
       "      <td>NaN</td>\n",
       "      <td>NaN</td>\n",
       "      <td>NaN</td>\n",
       "      <td>NaN</td>\n",
       "      <td>NaN</td>\n",
       "      <td>664.117560</td>\n",
       "      <td>600.408766</td>\n",
       "      <td>579.252001</td>\n",
       "      <td>582.420126</td>\n",
       "      <td>596.602467</td>\n",
       "      <td>711.992700</td>\n",
       "      <td>647.563354</td>\n",
       "      <td>720.598939</td>\n",
       "      <td>761.618458</td>\n",
       "      <td>862.509058</td>\n",
       "      <td>922.550170</td>\n",
       "      <td>844.691134</td>\n",
       "      <td>640.622298</td>\n",
       "      <td>430.381595</td>\n",
       "      <td>320.657792</td>\n",
       "      <td>388.166766</td>\n",
       "      <td>512.620966</td>\n",
       "      <td>506.884952</td>\n",
       "      <td>419.639845</td>\n",
       "      <td>385.768854</td>\n",
       "      <td>555.296942</td>\n",
       "      <td>526.168743</td>\n",
       "      <td>711.181789</td>\n",
       "      <td>779.468317</td>\n",
       "      <td>1041.087109</td>\n",
       "      <td>1443.991924</td>\n",
       "      <td>2062.415212</td>\n",
       "      <td>2878.837305</td>\n",
       "      <td>3868.579014</td>\n",
       "      <td>3347.844900</td>\n",
       "      <td>3531.416878</td>\n",
       "      <td>4299.008136</td>\n",
       "      <td>4539.467689</td>\n",
       "      <td>4804.633826</td>\n",
       "      <td>4707.578098</td>\n",
       "      <td>3683.552607</td>\n",
       "      <td>3308.772828</td>\n",
       "      <td>4170.312280</td>\n",
       "    </tr>\n",
       "    <tr>\n",
       "      <th>3</th>\n",
       "      <td>Albania</td>\n",
       "      <td>ALB</td>\n",
       "      <td>GDP per capita (current US$)</td>\n",
       "      <td>NY.GDP.PCAP.CD</td>\n",
       "      <td>NaN</td>\n",
       "      <td>NaN</td>\n",
       "      <td>NaN</td>\n",
       "      <td>NaN</td>\n",
       "      <td>NaN</td>\n",
       "      <td>NaN</td>\n",
       "      <td>NaN</td>\n",
       "      <td>NaN</td>\n",
       "      <td>NaN</td>\n",
       "      <td>NaN</td>\n",
       "      <td>NaN</td>\n",
       "      <td>NaN</td>\n",
       "      <td>NaN</td>\n",
       "      <td>NaN</td>\n",
       "      <td>NaN</td>\n",
       "      <td>NaN</td>\n",
       "      <td>NaN</td>\n",
       "      <td>NaN</td>\n",
       "      <td>NaN</td>\n",
       "      <td>NaN</td>\n",
       "      <td>NaN</td>\n",
       "      <td>NaN</td>\n",
       "      <td>NaN</td>\n",
       "      <td>NaN</td>\n",
       "      <td>662.520052</td>\n",
       "      <td>662.914793</td>\n",
       "      <td>719.157296</td>\n",
       "      <td>699.384292</td>\n",
       "      <td>676.566733</td>\n",
       "      <td>723.409610</td>\n",
       "      <td>639.463899</td>\n",
       "      <td>348.711318</td>\n",
       "      <td>218.492166</td>\n",
       "      <td>380.527371</td>\n",
       "      <td>619.065163</td>\n",
       "      <td>760.559376</td>\n",
       "      <td>1046.358511</td>\n",
       "      <td>749.584649</td>\n",
       "      <td>865.302162</td>\n",
       "      <td>1098.425463</td>\n",
       "      <td>1175.788981</td>\n",
       "      <td>1326.970339</td>\n",
       "      <td>1453.642777</td>\n",
       "      <td>1890.681557</td>\n",
       "      <td>2416.588235</td>\n",
       "      <td>2709.142931</td>\n",
       "      <td>3005.012903</td>\n",
       "      <td>3603.013685</td>\n",
       "      <td>4370.539647</td>\n",
       "      <td>4114.136545</td>\n",
       "      <td>4094.358832</td>\n",
       "      <td>4437.178068</td>\n",
       "      <td>4247.614308</td>\n",
       "      <td>4413.081697</td>\n",
       "      <td>4578.666728</td>\n",
       "      <td>3952.830781</td>\n",
       "      <td>4131.872341</td>\n",
       "      <td>4537.862492</td>\n",
       "    </tr>\n",
       "    <tr>\n",
       "      <th>4</th>\n",
       "      <td>Andorra</td>\n",
       "      <td>AND</td>\n",
       "      <td>GDP per capita (current US$)</td>\n",
       "      <td>NY.GDP.PCAP.CD</td>\n",
       "      <td>NaN</td>\n",
       "      <td>NaN</td>\n",
       "      <td>NaN</td>\n",
       "      <td>NaN</td>\n",
       "      <td>NaN</td>\n",
       "      <td>NaN</td>\n",
       "      <td>NaN</td>\n",
       "      <td>NaN</td>\n",
       "      <td>NaN</td>\n",
       "      <td>NaN</td>\n",
       "      <td>3238.556850</td>\n",
       "      <td>3498.173652</td>\n",
       "      <td>4217.173581</td>\n",
       "      <td>5342.168560</td>\n",
       "      <td>6319.739034</td>\n",
       "      <td>7169.101006</td>\n",
       "      <td>7152.375134</td>\n",
       "      <td>7751.370216</td>\n",
       "      <td>9129.706185</td>\n",
       "      <td>11820.849390</td>\n",
       "      <td>12377.411650</td>\n",
       "      <td>10372.232830</td>\n",
       "      <td>9610.266308</td>\n",
       "      <td>8022.654781</td>\n",
       "      <td>7728.906695</td>\n",
       "      <td>7774.393829</td>\n",
       "      <td>10361.815980</td>\n",
       "      <td>12616.167570</td>\n",
       "      <td>14304.356960</td>\n",
       "      <td>15166.437850</td>\n",
       "      <td>18878.505970</td>\n",
       "      <td>19532.540150</td>\n",
       "      <td>20547.711790</td>\n",
       "      <td>16516.471030</td>\n",
       "      <td>16234.809010</td>\n",
       "      <td>18461.064860</td>\n",
       "      <td>19017.174590</td>\n",
       "      <td>18353.059720</td>\n",
       "      <td>18894.521500</td>\n",
       "      <td>19261.710500</td>\n",
       "      <td>21936.530100</td>\n",
       "      <td>22228.846490</td>\n",
       "      <td>24741.493570</td>\n",
       "      <td>32776.442270</td>\n",
       "      <td>38503.479610</td>\n",
       "      <td>41282.020120</td>\n",
       "      <td>43748.772160</td>\n",
       "      <td>48582.808460</td>\n",
       "      <td>47785.659090</td>\n",
       "      <td>43339.379870</td>\n",
       "      <td>39736.354060</td>\n",
       "      <td>41098.766940</td>\n",
       "      <td>38391.080870</td>\n",
       "      <td>40619.711300</td>\n",
       "      <td>42294.994730</td>\n",
       "      <td>36038.267600</td>\n",
       "      <td>37231.815670</td>\n",
       "      <td>39146.548840</td>\n",
       "    </tr>\n",
       "  </tbody>\n",
       "</table>\n",
       "</div>"
      ],
      "text/plain": [
       "  Country Name Country Code                Indicator Name  Indicator Code  \\\n",
       "0        Aruba          ABW  GDP per capita (current US$)  NY.GDP.PCAP.CD   \n",
       "1  Afghanistan          AFG  GDP per capita (current US$)  NY.GDP.PCAP.CD   \n",
       "2       Angola          AGO  GDP per capita (current US$)  NY.GDP.PCAP.CD   \n",
       "3      Albania          ALB  GDP per capita (current US$)  NY.GDP.PCAP.CD   \n",
       "4      Andorra          AND  GDP per capita (current US$)  NY.GDP.PCAP.CD   \n",
       "\n",
       "        1960       1961       1962       1963       1964        1965  \\\n",
       "0        NaN        NaN        NaN        NaN        NaN         NaN   \n",
       "1  59.777327  59.878153  58.492874  78.782758  82.208444  101.290471   \n",
       "2        NaN        NaN        NaN        NaN        NaN         NaN   \n",
       "3        NaN        NaN        NaN        NaN        NaN         NaN   \n",
       "4        NaN        NaN        NaN        NaN        NaN         NaN   \n",
       "\n",
       "         1966     1967        1968        1969         1970         1971  \\\n",
       "0         NaN      NaN         NaN         NaN          NaN          NaN   \n",
       "1  137.899362  161.322  129.506654  129.798541   157.187422   160.372836   \n",
       "2         NaN      NaN         NaN         NaN          NaN          NaN   \n",
       "3         NaN      NaN         NaN         NaN          NaN          NaN   \n",
       "4         NaN      NaN         NaN         NaN  3238.556850  3498.173652   \n",
       "\n",
       "          1972         1973         1974         1975         1976  \\\n",
       "0          NaN          NaN          NaN          NaN          NaN   \n",
       "1   136.117014   144.110319   174.942038   187.975604   199.026173   \n",
       "2          NaN          NaN          NaN          NaN          NaN   \n",
       "3          NaN          NaN          NaN          NaN          NaN   \n",
       "4  4217.173581  5342.168560  6319.739034  7169.101006  7152.375134   \n",
       "\n",
       "          1977         1978          1979          1980          1981  \\\n",
       "0          NaN          NaN           NaN           NaN           NaN   \n",
       "1   226.005344   249.287386    277.900742    274.880859    266.493042   \n",
       "2          NaN          NaN           NaN    664.117560    600.408766   \n",
       "3          NaN          NaN           NaN           NaN           NaN   \n",
       "4  7751.370216  9129.706185  11820.849390  12377.411650  10372.232830   \n",
       "\n",
       "          1982         1983         1984         1985          1986  \\\n",
       "0          NaN          NaN          NaN          NaN           NaN   \n",
       "1          NaN          NaN          NaN          NaN           NaN   \n",
       "2   579.252001   582.420126   596.602467   711.992700    647.563354   \n",
       "3          NaN          NaN   662.520052   662.914793    719.157296   \n",
       "4  9610.266308  8022.654781  7728.906695  7774.393829  10361.815980   \n",
       "\n",
       "           1987          1988          1989          1990          1991  \\\n",
       "0           NaN           NaN           NaN           NaN           NaN   \n",
       "1           NaN           NaN           NaN           NaN           NaN   \n",
       "2    720.598939    761.618458    862.509058    922.550170    844.691134   \n",
       "3    699.384292    676.566733    723.409610    639.463899    348.711318   \n",
       "4  12616.167570  14304.356960  15166.437850  18878.505970  19532.540150   \n",
       "\n",
       "           1992          1993          1994          1995          1996  \\\n",
       "0           NaN           NaN  17342.471940  16441.790640  16585.195530   \n",
       "1           NaN           NaN           NaN           NaN           NaN   \n",
       "2    640.622298    430.381595    320.657792    388.166766    512.620966   \n",
       "3    218.492166    380.527371    619.065163    760.559376   1046.358511   \n",
       "4  20547.711790  16516.471030  16234.809010  18461.064860  19017.174590   \n",
       "\n",
       "           1997          1998          1999          2000          2001  \\\n",
       "0  17926.572840  19081.351660  19356.203390  20620.700630  20670.655660   \n",
       "1           NaN           NaN           NaN           NaN    117.409691   \n",
       "2    506.884952    419.639845    385.768854    555.296942    526.168743   \n",
       "3    749.584649    865.302162   1098.425463   1175.788981   1326.970339   \n",
       "4  18353.059720  18894.521500  19261.710500  21936.530100  22228.846490   \n",
       "\n",
       "           2002          2003          2004          2005          2006  \\\n",
       "0  20434.299440  20834.510200  22567.824920  23302.831990  24014.944270   \n",
       "1    187.845095    198.728544    219.141353    250.294130    272.563077   \n",
       "2    711.181789    779.468317   1041.087109   1443.991924   2062.415212   \n",
       "3   1453.642777   1890.681557   2416.588235   2709.142931   3005.012903   \n",
       "4  24741.493570  32776.442270  38503.479610  41282.020120  43748.772160   \n",
       "\n",
       "           2007          2008          2009          2010          2011  \\\n",
       "0  25921.026050  27546.899390  24631.434860  24271.940420  25324.720360   \n",
       "1    369.835796    373.361116    445.893298    553.300289    603.537023   \n",
       "2   2878.837305   3868.579014   3347.844900   3531.416878   4299.008136   \n",
       "3   3603.013685   4370.539647   4114.136545   4094.358832   4437.178068   \n",
       "4  48582.808460  47785.659090  43339.379870  39736.354060  41098.766940   \n",
       "\n",
       "           2012          2013          2014          2015          2016  \\\n",
       "0           NaN           NaN  25300.000000           NaN           NaN   \n",
       "1    669.009051    638.612543    629.345250    569.577923    561.778746   \n",
       "2   4539.467689   4804.633826   4707.578098   3683.552607   3308.772828   \n",
       "3   4247.614308   4413.081697   4578.666728   3952.830781   4131.872341   \n",
       "4  38391.080870  40619.711300  42294.994730  36038.267600  37231.815670   \n",
       "\n",
       "           2017  \n",
       "0           NaN  \n",
       "1    585.850064  \n",
       "2   4170.312280  \n",
       "3   4537.862492  \n",
       "4  39146.548840  "
      ]
     },
     "execution_count": 30,
     "metadata": {},
     "output_type": "execute_result"
    }
   ],
   "source": [
    "df_GDP_cap_raw.head()"
   ]
  },
  {
   "cell_type": "code",
   "execution_count": 31,
   "metadata": {},
   "outputs": [
    {
     "name": "stdout",
     "output_type": "stream",
     "text": [
      "30\n",
      "23\n",
      "18\n",
      "9\n",
      "16\n",
      "17\n"
     ]
    }
   ],
   "source": [
    "print(df_GDP_tot_raw['2017'].isna().sum())\n",
    "print(df_GDP_tot_raw['2016'].isna().sum())\n",
    "print(df_GDP_tot_raw['2015'].isna().sum())\n",
    "print(df_GDP_tot_raw['2014'].isna().sum())\n",
    "print(df_GDP_tot_raw['2013'].isna().sum())\n",
    "print(df_GDP_tot_raw['2012'].isna().sum())"
   ]
  },
  {
   "cell_type": "code",
   "execution_count": 32,
   "metadata": {},
   "outputs": [],
   "source": [
    "df_GDP_cap=df_GDP_cap_raw[['Country Name','2014']].copy()\n",
    "df_GDP_cap.columns = ['countries', 'GDP_cap']\n",
    "#df_GDP_cap"
   ]
  },
  {
   "cell_type": "code",
   "execution_count": 33,
   "metadata": {
    "scrolled": true
   },
   "outputs": [
    {
     "name": "stdout",
     "output_type": "stream",
     "text": [
      "Number of countries without GDP in the database:  Empty DataFrame\n",
      "Columns: [countries, GDP_cap, n_companies]\n",
      "Index: []\n"
     ]
    },
    {
     "data": {
      "text/html": [
       "<div>\n",
       "<style scoped>\n",
       "    .dataframe tbody tr th:only-of-type {\n",
       "        vertical-align: middle;\n",
       "    }\n",
       "\n",
       "    .dataframe tbody tr th {\n",
       "        vertical-align: top;\n",
       "    }\n",
       "\n",
       "    .dataframe thead th {\n",
       "        text-align: right;\n",
       "    }\n",
       "</style>\n",
       "<table border=\"1\" class=\"dataframe\">\n",
       "  <thead>\n",
       "    <tr style=\"text-align: right;\">\n",
       "      <th></th>\n",
       "      <th>countries</th>\n",
       "      <th>GDP_cap</th>\n",
       "      <th>n_companies</th>\n",
       "    </tr>\n",
       "  </thead>\n",
       "  <tbody>\n",
       "    <tr>\n",
       "      <th>0</th>\n",
       "      <td>Aruba</td>\n",
       "      <td>25300.000000</td>\n",
       "      <td>27</td>\n",
       "    </tr>\n",
       "    <tr>\n",
       "      <th>1</th>\n",
       "      <td>Angola</td>\n",
       "      <td>4707.578098</td>\n",
       "      <td>10</td>\n",
       "    </tr>\n",
       "    <tr>\n",
       "      <th>2</th>\n",
       "      <td>Albania</td>\n",
       "      <td>4578.666728</td>\n",
       "      <td>2</td>\n",
       "    </tr>\n",
       "    <tr>\n",
       "      <th>3</th>\n",
       "      <td>Andorra</td>\n",
       "      <td>42294.994730</td>\n",
       "      <td>489</td>\n",
       "    </tr>\n",
       "    <tr>\n",
       "      <th>4</th>\n",
       "      <td>United Arab Emirates</td>\n",
       "      <td>44443.061510</td>\n",
       "      <td>7269</td>\n",
       "    </tr>\n",
       "  </tbody>\n",
       "</table>\n",
       "</div>"
      ],
      "text/plain": [
       "              countries       GDP_cap  n_companies\n",
       "0                 Aruba  25300.000000           27\n",
       "1                Angola   4707.578098           10\n",
       "2               Albania   4578.666728            2\n",
       "3               Andorra  42294.994730          489\n",
       "4  United Arab Emirates  44443.061510         7269"
      ]
     },
     "execution_count": 33,
     "metadata": {},
     "output_type": "execute_result"
    }
   ],
   "source": [
    "df_GDP_cap_entities=df_GDP_cap.merge(df_vc, how='inner',left_on='countries', right_on='countries')\n",
    "print('Number of countries without GDP in the database: ',df_GDP_cap_entities[df_GDP_cap_entities['GDP_cap'].isna()])\n",
    "df_GDP_cap_entities.head()"
   ]
  },
  {
   "cell_type": "markdown",
   "metadata": {},
   "source": [
    "## 3) What drives entities to go offshore and consequently how does that affect the country?"
   ]
  },
  {
   "cell_type": "markdown",
   "metadata": {},
   "source": [
    "### Dataframe preparation"
   ]
  },
  {
   "cell_type": "markdown",
   "metadata": {},
   "source": [
    "Firstly a dataframe with the country and the respective number of entities in the Panama Papers is made `country_count`. This is used as a base to subsequentially add information regarding the indicators."
   ]
  },
  {
   "cell_type": "code",
   "execution_count": 34,
   "metadata": {},
   "outputs": [],
   "source": [
    "country_count=pd.DataFrame(df_entity_mod_raw['countries'].value_counts())"
   ]
  },
  {
   "cell_type": "code",
   "execution_count": 35,
   "metadata": {
    "scrolled": true
   },
   "outputs": [],
   "source": [
    "country_count=country_count.rename(columns={'countries': 'n_companies_offshore'})\n",
    "country_count['Country Name']=country_count.index\n",
    "country_count=country_count.reset_index(drop=True)"
   ]
  },
  {
   "cell_type": "code",
   "execution_count": 36,
   "metadata": {},
   "outputs": [
    {
     "data": {
      "text/html": [
       "<div>\n",
       "<style scoped>\n",
       "    .dataframe tbody tr th:only-of-type {\n",
       "        vertical-align: middle;\n",
       "    }\n",
       "\n",
       "    .dataframe tbody tr th {\n",
       "        vertical-align: top;\n",
       "    }\n",
       "\n",
       "    .dataframe thead th {\n",
       "        text-align: right;\n",
       "    }\n",
       "</style>\n",
       "<table border=\"1\" class=\"dataframe\">\n",
       "  <thead>\n",
       "    <tr style=\"text-align: right;\">\n",
       "      <th></th>\n",
       "      <th>n_companies_offshore</th>\n",
       "      <th>Country Name</th>\n",
       "    </tr>\n",
       "  </thead>\n",
       "  <tbody>\n",
       "    <tr>\n",
       "      <th>0</th>\n",
       "      <td>37911</td>\n",
       "      <td>Switzerland</td>\n",
       "    </tr>\n",
       "    <tr>\n",
       "      <th>1</th>\n",
       "      <td>37911</td>\n",
       "      <td>Hong Kong SAR, China</td>\n",
       "    </tr>\n",
       "    <tr>\n",
       "      <th>2</th>\n",
       "      <td>21658</td>\n",
       "      <td>Channel Islands</td>\n",
       "    </tr>\n",
       "    <tr>\n",
       "      <th>3</th>\n",
       "      <td>15811</td>\n",
       "      <td>Panama</td>\n",
       "    </tr>\n",
       "    <tr>\n",
       "      <th>4</th>\n",
       "      <td>10840</td>\n",
       "      <td>Luxembourg</td>\n",
       "    </tr>\n",
       "  </tbody>\n",
       "</table>\n",
       "</div>"
      ],
      "text/plain": [
       "   n_companies_offshore          Country Name\n",
       "0                 37911           Switzerland\n",
       "1                 37911  Hong Kong SAR, China\n",
       "2                 21658       Channel Islands\n",
       "3                 15811                Panama\n",
       "4                 10840            Luxembourg"
      ]
     },
     "execution_count": 36,
     "metadata": {},
     "output_type": "execute_result"
    }
   ],
   "source": [
    "country_count.head()"
   ]
  },
  {
   "cell_type": "markdown",
   "metadata": {},
   "source": [
    "In order to investigate the causes pushing entities to go offshore, the number of entities per country has often to be weighted according to economical size: without doing so, big economies will automatically have a higher number of entities registered in the papers only because they are bigger. Hence GDP and GDP per capita are going to be used as weighting factor for the number of registered entities in papers, n in many analysis: \n",
    "\n",
    "\\begin{equation*}\n",
    "n_{w}=\\frac{n}{GDP_{indicator}}\n",
    "\\end{equation*}"
   ]
  },
  {
   "cell_type": "markdown",
   "metadata": {},
   "source": [
    "Hence dataframes for total GDP (`df_gdp`) and GDP per capita (`df_GDP_capita`) per countries are created and merged with `country_count`; this is not only useful as mentioned above to weight for the different sizes of the economies, but also to distinguish groups of countries according to their economies."
   ]
  },
  {
   "cell_type": "code",
   "execution_count": 37,
   "metadata": {},
   "outputs": [],
   "source": [
    "df_gdp=df_GDP_tot_raw.copy()"
   ]
  },
  {
   "cell_type": "code",
   "execution_count": 38,
   "metadata": {},
   "outputs": [],
   "source": [
    "df_countries_gdp=pd.DataFrame({'Country Name':df_gdp['Country Name'],'GDP':df_gdp.iloc[:,range(-15,0)].mean(axis=1,numeric_only=True)})\n",
    "# print(np.sum(df_countries_gdp['GDP'].isnull()))\n",
    "# df_gdp=df_gdp[df_gdp['GDP'].notnull()]"
   ]
  },
  {
   "cell_type": "markdown",
   "metadata": {},
   "source": [
    "Showing the missing values of GDP"
   ]
  },
  {
   "cell_type": "code",
   "execution_count": 39,
   "metadata": {},
   "outputs": [
    {
     "data": {
      "text/html": [
       "<div>\n",
       "<style scoped>\n",
       "    .dataframe tbody tr th:only-of-type {\n",
       "        vertical-align: middle;\n",
       "    }\n",
       "\n",
       "    .dataframe tbody tr th {\n",
       "        vertical-align: top;\n",
       "    }\n",
       "\n",
       "    .dataframe thead th {\n",
       "        text-align: right;\n",
       "    }\n",
       "</style>\n",
       "<table border=\"1\" class=\"dataframe\">\n",
       "  <thead>\n",
       "    <tr style=\"text-align: right;\">\n",
       "      <th></th>\n",
       "      <th>Country Name</th>\n",
       "      <th>GDP</th>\n",
       "    </tr>\n",
       "  </thead>\n",
       "  <tbody>\n",
       "    <tr>\n",
       "      <th>49</th>\n",
       "      <td>Curacao</td>\n",
       "      <td>NaN</td>\n",
       "    </tr>\n",
       "    <tr>\n",
       "      <th>108</th>\n",
       "      <td>Not classified</td>\n",
       "      <td>NaN</td>\n",
       "    </tr>\n",
       "    <tr>\n",
       "      <th>145</th>\n",
       "      <td>St. Martin (French part)</td>\n",
       "      <td>NaN</td>\n",
       "    </tr>\n",
       "    <tr>\n",
       "      <th>170</th>\n",
       "      <td>New Caledonia</td>\n",
       "      <td>NaN</td>\n",
       "    </tr>\n",
       "    <tr>\n",
       "      <th>191</th>\n",
       "      <td>Korea, Dem. People?s Rep.</td>\n",
       "      <td>NaN</td>\n",
       "    </tr>\n",
       "    <tr>\n",
       "      <th>197</th>\n",
       "      <td>French Polynesia</td>\n",
       "      <td>NaN</td>\n",
       "    </tr>\n",
       "  </tbody>\n",
       "</table>\n",
       "</div>"
      ],
      "text/plain": [
       "                  Country Name  GDP\n",
       "49                     Curacao  NaN\n",
       "108             Not classified  NaN\n",
       "145   St. Martin (French part)  NaN\n",
       "170              New Caledonia  NaN\n",
       "191  Korea, Dem. People?s Rep.  NaN\n",
       "197           French Polynesia  NaN"
      ]
     },
     "execution_count": 39,
     "metadata": {},
     "output_type": "execute_result"
    }
   ],
   "source": [
    "df_countries_gdp[df_countries_gdp['GDP'].isnull()]"
   ]
  },
  {
   "cell_type": "code",
   "execution_count": 40,
   "metadata": {},
   "outputs": [],
   "source": [
    "df_gdp_capita=df_GDP_cap_raw.copy()"
   ]
  },
  {
   "cell_type": "code",
   "execution_count": 41,
   "metadata": {},
   "outputs": [],
   "source": [
    "df_countries_gdp_capita=pd.DataFrame({'Country Name':df_gdp_capita['Country Name'],'GDP':df_gdp_capita.iloc[:,range(-15,0)].mean(axis=1,numeric_only=True)})"
   ]
  },
  {
   "cell_type": "markdown",
   "metadata": {},
   "source": [
    "Before starting the analysis is fundamantal to check which countries don't have total GDP values"
   ]
  },
  {
   "cell_type": "code",
   "execution_count": 42,
   "metadata": {},
   "outputs": [
    {
     "data": {
      "text/html": [
       "<div>\n",
       "<style scoped>\n",
       "    .dataframe tbody tr th:only-of-type {\n",
       "        vertical-align: middle;\n",
       "    }\n",
       "\n",
       "    .dataframe tbody tr th {\n",
       "        vertical-align: top;\n",
       "    }\n",
       "\n",
       "    .dataframe thead th {\n",
       "        text-align: right;\n",
       "    }\n",
       "</style>\n",
       "<table border=\"1\" class=\"dataframe\">\n",
       "  <thead>\n",
       "    <tr style=\"text-align: right;\">\n",
       "      <th></th>\n",
       "      <th>Country Name</th>\n",
       "      <th>GDP</th>\n",
       "    </tr>\n",
       "  </thead>\n",
       "  <tbody>\n",
       "    <tr>\n",
       "      <th>49</th>\n",
       "      <td>Curacao</td>\n",
       "      <td>NaN</td>\n",
       "    </tr>\n",
       "    <tr>\n",
       "      <th>108</th>\n",
       "      <td>Not classified</td>\n",
       "      <td>NaN</td>\n",
       "    </tr>\n",
       "    <tr>\n",
       "      <th>145</th>\n",
       "      <td>St. Martin (French part)</td>\n",
       "      <td>NaN</td>\n",
       "    </tr>\n",
       "    <tr>\n",
       "      <th>170</th>\n",
       "      <td>New Caledonia</td>\n",
       "      <td>NaN</td>\n",
       "    </tr>\n",
       "    <tr>\n",
       "      <th>191</th>\n",
       "      <td>Korea, Dem. People?s Rep.</td>\n",
       "      <td>NaN</td>\n",
       "    </tr>\n",
       "    <tr>\n",
       "      <th>197</th>\n",
       "      <td>French Polynesia</td>\n",
       "      <td>NaN</td>\n",
       "    </tr>\n",
       "  </tbody>\n",
       "</table>\n",
       "</div>"
      ],
      "text/plain": [
       "                  Country Name  GDP\n",
       "49                     Curacao  NaN\n",
       "108             Not classified  NaN\n",
       "145   St. Martin (French part)  NaN\n",
       "170              New Caledonia  NaN\n",
       "191  Korea, Dem. People?s Rep.  NaN\n",
       "197           French Polynesia  NaN"
      ]
     },
     "execution_count": 42,
     "metadata": {},
     "output_type": "execute_result"
    }
   ],
   "source": [
    "df_countries_gdp_capita[df_countries_gdp_capita['GDP'].isnull()]"
   ]
  },
  {
   "cell_type": "code",
   "execution_count": 43,
   "metadata": {},
   "outputs": [],
   "source": [
    "# count in panama papers and gdp is merged in one dataframe\n",
    "country_count_gdp=country_count.merge(df_countries_gdp, how='outer',left_on='Country Name', right_on='Country Name')"
   ]
  },
  {
   "cell_type": "code",
   "execution_count": 44,
   "metadata": {},
   "outputs": [],
   "source": [
    "# count in panama papers and gdp per capita is merged in one dataframe\n",
    "country_count_gdp=country_count_gdp.merge(df_countries_gdp_capita, how='outer',left_on='Country Name', right_on='Country Name')"
   ]
  },
  {
   "cell_type": "code",
   "execution_count": 45,
   "metadata": {},
   "outputs": [
    {
     "data": {
      "text/html": [
       "<div>\n",
       "<style scoped>\n",
       "    .dataframe tbody tr th:only-of-type {\n",
       "        vertical-align: middle;\n",
       "    }\n",
       "\n",
       "    .dataframe tbody tr th {\n",
       "        vertical-align: top;\n",
       "    }\n",
       "\n",
       "    .dataframe thead th {\n",
       "        text-align: right;\n",
       "    }\n",
       "</style>\n",
       "<table border=\"1\" class=\"dataframe\">\n",
       "  <thead>\n",
       "    <tr style=\"text-align: right;\">\n",
       "      <th></th>\n",
       "      <th>n_companies_offshore</th>\n",
       "      <th>Country Name</th>\n",
       "      <th>GDP_x</th>\n",
       "      <th>GDP_y</th>\n",
       "    </tr>\n",
       "  </thead>\n",
       "  <tbody>\n",
       "    <tr>\n",
       "      <th>0</th>\n",
       "      <td>37911.0</td>\n",
       "      <td>Switzerland</td>\n",
       "      <td>5.693333e+11</td>\n",
       "      <td>72018.654377</td>\n",
       "    </tr>\n",
       "    <tr>\n",
       "      <th>1</th>\n",
       "      <td>37911.0</td>\n",
       "      <td>Hong Kong SAR, China</td>\n",
       "      <td>2.420000e+11</td>\n",
       "      <td>34139.405171</td>\n",
       "    </tr>\n",
       "    <tr>\n",
       "      <th>2</th>\n",
       "      <td>21658.0</td>\n",
       "      <td>Channel Islands</td>\n",
       "      <td>9.180788e+09</td>\n",
       "      <td>59422.543726</td>\n",
       "    </tr>\n",
       "    <tr>\n",
       "      <th>3</th>\n",
       "      <td>15811.0</td>\n",
       "      <td>Panama</td>\n",
       "      <td>3.405630e+10</td>\n",
       "      <td>9062.889846</td>\n",
       "    </tr>\n",
       "    <tr>\n",
       "      <th>4</th>\n",
       "      <td>10840.0</td>\n",
       "      <td>Luxembourg</td>\n",
       "      <td>5.192631e+10</td>\n",
       "      <td>100087.833141</td>\n",
       "    </tr>\n",
       "  </tbody>\n",
       "</table>\n",
       "</div>"
      ],
      "text/plain": [
       "   n_companies_offshore          Country Name         GDP_x          GDP_y\n",
       "0               37911.0           Switzerland  5.693333e+11   72018.654377\n",
       "1               37911.0  Hong Kong SAR, China  2.420000e+11   34139.405171\n",
       "2               21658.0       Channel Islands  9.180788e+09   59422.543726\n",
       "3               15811.0                Panama  3.405630e+10    9062.889846\n",
       "4               10840.0            Luxembourg  5.192631e+10  100087.833141"
      ]
     },
     "execution_count": 45,
     "metadata": {},
     "output_type": "execute_result"
    }
   ],
   "source": [
    "country_count_gdp.head()"
   ]
  },
  {
   "cell_type": "markdown",
   "metadata": {},
   "source": [
    "Before starting the analysis is also important to check which countries don't have per capita GDP values. Except for Taiwan, the other countries didn't have a large presence in the papers so they were discarded."
   ]
  },
  {
   "cell_type": "code",
   "execution_count": 46,
   "metadata": {},
   "outputs": [
    {
     "data": {
      "text/plain": [
       "16                        Taiwan\n",
       "40                          Niue\n",
       "80                       Curacao\n",
       "150                 Cook Islands\n",
       "200               Not classified\n",
       "213     St. Martin (French part)\n",
       "225                New Caledonia\n",
       "233    Korea, Dem. People?s Rep.\n",
       "237             French Polynesia\n",
       "Name: Country Name, dtype: object"
      ]
     },
     "execution_count": 46,
     "metadata": {},
     "output_type": "execute_result"
    }
   ],
   "source": [
    "country_count_gdp['Country Name'][country_count_gdp['GDP_y'].isna()]"
   ]
  },
  {
   "cell_type": "markdown",
   "metadata": {},
   "source": [
    "### Tax Rate on income, profits and capital gains"
   ]
  },
  {
   "cell_type": "markdown",
   "metadata": {},
   "source": [
    "It is probable that entities from all over the world are firstly influenced to go set their businesses already in countries which offer particularly good business conditions such as Switzlerand, Panama, the Channel Islands (Jersey and Guernsey), Luxemburg, the Cayman Islands, Lichteinstein, Singapore and Monaco, Isle of Man and Gibraltar. These countries are known for being small and very developed with high income per capita, but also to often be tax havens. \n",
    "\n",
    "\n",
    "Hence, on the one hand it is crucial to understand what are these business conditions (economic and bureaucratic) that make this set of countries the optimum place to do business, but also to easily go offshore and on the other hand what are the economic and bureaucratic causes which influence entities in the other countries to go offshore. "
   ]
  },
  {
   "cell_type": "markdown",
   "metadata": {},
   "source": [
    "The first factor which is going to be investigated is an average of tax Rate on income, profits and capital gains; this indicator was used to take into account both corporate and capital tax rate, but also income to mitigate for the fact that not all entities in the Panama Papers are companies. In other words it is going to be investigated whether or not having a high tax rate influence entities and especially companies to go offshore in jurisdictions offering them important advantages in terms of tax savings."
   ]
  },
  {
   "cell_type": "markdown",
   "metadata": {},
   "source": [
    "Firstly the sparsity of the data is checked by querying what is the year with the highest number of data."
   ]
  },
  {
   "cell_type": "code",
   "execution_count": 47,
   "metadata": {},
   "outputs": [
    {
     "name": "stdout",
     "output_type": "stream",
     "text": [
      "Year with most data is 2010\n"
     ]
    }
   ],
   "source": [
    "years=range(1990, 2018)\n",
    "years_count=np.array([])\n",
    "\n",
    "for year in years:\n",
    "    \n",
    "    years_count=np.append(years_count,df_tax_rate[str(year)].notnull().sum())\n",
    "print ('Year with most data is', years[np.argmax(years_count)])"
   ]
  },
  {
   "cell_type": "markdown",
   "metadata": {},
   "source": [
    "In order to fully exploit the data, the average tax rate for each country is computed over a time frame of 15 years; hence it is assumed that any change in corporate tax in this time range has not affected the number of entities going offshore in this time range."
   ]
  },
  {
   "cell_type": "code",
   "execution_count": 48,
   "metadata": {},
   "outputs": [],
   "source": [
    "df_countries_tax=pd.DataFrame({'Country Name':df_tax_rate['Country Name'],'Tax Rate':df_tax_rate.iloc[:,range(-15,0)].mean(axis=1,numeric_only=True)})"
   ]
  },
  {
   "cell_type": "code",
   "execution_count": 49,
   "metadata": {},
   "outputs": [
    {
     "data": {
      "text/html": [
       "<div>\n",
       "<style scoped>\n",
       "    .dataframe tbody tr th:only-of-type {\n",
       "        vertical-align: middle;\n",
       "    }\n",
       "\n",
       "    .dataframe tbody tr th {\n",
       "        vertical-align: top;\n",
       "    }\n",
       "\n",
       "    .dataframe thead th {\n",
       "        text-align: right;\n",
       "    }\n",
       "</style>\n",
       "<table border=\"1\" class=\"dataframe\">\n",
       "  <thead>\n",
       "    <tr style=\"text-align: right;\">\n",
       "      <th></th>\n",
       "      <th>Country Name</th>\n",
       "      <th>Tax Rate</th>\n",
       "    </tr>\n",
       "  </thead>\n",
       "  <tbody>\n",
       "    <tr>\n",
       "      <th>0</th>\n",
       "      <td>Aruba</td>\n",
       "      <td>NaN</td>\n",
       "    </tr>\n",
       "    <tr>\n",
       "      <th>1</th>\n",
       "      <td>Afghanistan</td>\n",
       "      <td>3.718429</td>\n",
       "    </tr>\n",
       "    <tr>\n",
       "      <th>2</th>\n",
       "      <td>Angola</td>\n",
       "      <td>40.648405</td>\n",
       "    </tr>\n",
       "    <tr>\n",
       "      <th>3</th>\n",
       "      <td>Albania</td>\n",
       "      <td>14.046091</td>\n",
       "    </tr>\n",
       "    <tr>\n",
       "      <th>4</th>\n",
       "      <td>Andorra</td>\n",
       "      <td>NaN</td>\n",
       "    </tr>\n",
       "  </tbody>\n",
       "</table>\n",
       "</div>"
      ],
      "text/plain": [
       "  Country Name   Tax Rate\n",
       "0        Aruba        NaN\n",
       "1  Afghanistan   3.718429\n",
       "2       Angola  40.648405\n",
       "3      Albania  14.046091\n",
       "4      Andorra        NaN"
      ]
     },
     "execution_count": 49,
     "metadata": {},
     "output_type": "execute_result"
    }
   ],
   "source": [
    "df_countries_tax.head()"
   ]
  },
  {
   "cell_type": "markdown",
   "metadata": {},
   "source": [
    "A dataset with tax rate and number of companies registered in the panama papers is made."
   ]
  },
  {
   "cell_type": "code",
   "execution_count": 50,
   "metadata": {},
   "outputs": [],
   "source": [
    "country_count_tax_rate=country_count_gdp.merge(df_countries_tax, how='outer',left_on='Country Name', right_on='Country Name')"
   ]
  },
  {
   "cell_type": "markdown",
   "metadata": {},
   "source": [
    "Then for countries having a presence in Panama Papers higher than 1000 whose tax rate was missing the, an ad hoc research was done; hence individual values of corporate tax rates were added for the countries listed below since they had a consistent proportion of entities offshore."
   ]
  },
  {
   "cell_type": "code",
   "execution_count": 51,
   "metadata": {
    "scrolled": true
   },
   "outputs": [
    {
     "data": {
      "text/html": [
       "<div>\n",
       "<style scoped>\n",
       "    .dataframe tbody tr th:only-of-type {\n",
       "        vertical-align: middle;\n",
       "    }\n",
       "\n",
       "    .dataframe tbody tr th {\n",
       "        vertical-align: top;\n",
       "    }\n",
       "\n",
       "    .dataframe thead th {\n",
       "        text-align: right;\n",
       "    }\n",
       "</style>\n",
       "<table border=\"1\" class=\"dataframe\">\n",
       "  <thead>\n",
       "    <tr style=\"text-align: right;\">\n",
       "      <th></th>\n",
       "      <th>n_companies_offshore</th>\n",
       "      <th>Country Name</th>\n",
       "      <th>GDP_x</th>\n",
       "      <th>GDP_y</th>\n",
       "      <th>Tax Rate</th>\n",
       "    </tr>\n",
       "  </thead>\n",
       "  <tbody>\n",
       "    <tr>\n",
       "      <th>1</th>\n",
       "      <td>37911.0</td>\n",
       "      <td>Hong Kong SAR, China</td>\n",
       "      <td>2.420000e+11</td>\n",
       "      <td>34139.405171</td>\n",
       "      <td>NaN</td>\n",
       "    </tr>\n",
       "    <tr>\n",
       "      <th>2</th>\n",
       "      <td>21658.0</td>\n",
       "      <td>Channel Islands</td>\n",
       "      <td>9.180788e+09</td>\n",
       "      <td>59422.543726</td>\n",
       "      <td>NaN</td>\n",
       "    </tr>\n",
       "    <tr>\n",
       "      <th>3</th>\n",
       "      <td>15811.0</td>\n",
       "      <td>Panama</td>\n",
       "      <td>3.405630e+10</td>\n",
       "      <td>9062.889846</td>\n",
       "      <td>NaN</td>\n",
       "    </tr>\n",
       "    <tr>\n",
       "      <th>6</th>\n",
       "      <td>7269.0</td>\n",
       "      <td>United Arab Emirates</td>\n",
       "      <td>2.939333e+11</td>\n",
       "      <td>39757.577518</td>\n",
       "      <td>NaN</td>\n",
       "    </tr>\n",
       "    <tr>\n",
       "      <th>7</th>\n",
       "      <td>4984.0</td>\n",
       "      <td>Bahamas, The</td>\n",
       "      <td>1.048800e+10</td>\n",
       "      <td>29218.051776</td>\n",
       "      <td>NaN</td>\n",
       "    </tr>\n",
       "    <tr>\n",
       "      <th>9</th>\n",
       "      <td>4892.0</td>\n",
       "      <td>Isle of Man</td>\n",
       "      <td>5.216144e+09</td>\n",
       "      <td>65308.380697</td>\n",
       "      <td>NaN</td>\n",
       "    </tr>\n",
       "    <tr>\n",
       "      <th>14</th>\n",
       "      <td>3168.0</td>\n",
       "      <td>Monaco</td>\n",
       "      <td>5.301932e+09</td>\n",
       "      <td>148406.483360</td>\n",
       "      <td>NaN</td>\n",
       "    </tr>\n",
       "    <tr>\n",
       "      <th>16</th>\n",
       "      <td>2725.0</td>\n",
       "      <td>Taiwan</td>\n",
       "      <td>NaN</td>\n",
       "      <td>NaN</td>\n",
       "      <td>NaN</td>\n",
       "    </tr>\n",
       "    <tr>\n",
       "      <th>17</th>\n",
       "      <td>2066.0</td>\n",
       "      <td>Liechtenstein</td>\n",
       "      <td>4.922173e+09</td>\n",
       "      <td>136708.283262</td>\n",
       "      <td>NaN</td>\n",
       "    </tr>\n",
       "    <tr>\n",
       "      <th>18</th>\n",
       "      <td>2039.0</td>\n",
       "      <td>Gibraltar</td>\n",
       "      <td>2.288000e+09</td>\n",
       "      <td>92843.000000</td>\n",
       "      <td>NaN</td>\n",
       "    </tr>\n",
       "  </tbody>\n",
       "</table>\n",
       "</div>"
      ],
      "text/plain": [
       "    n_companies_offshore          Country Name         GDP_x          GDP_y  \\\n",
       "1                37911.0  Hong Kong SAR, China  2.420000e+11   34139.405171   \n",
       "2                21658.0       Channel Islands  9.180788e+09   59422.543726   \n",
       "3                15811.0                Panama  3.405630e+10    9062.889846   \n",
       "6                 7269.0  United Arab Emirates  2.939333e+11   39757.577518   \n",
       "7                 4984.0          Bahamas, The  1.048800e+10   29218.051776   \n",
       "9                 4892.0           Isle of Man  5.216144e+09   65308.380697   \n",
       "14                3168.0                Monaco  5.301932e+09  148406.483360   \n",
       "16                2725.0                Taiwan           NaN            NaN   \n",
       "17                2066.0         Liechtenstein  4.922173e+09  136708.283262   \n",
       "18                2039.0             Gibraltar  2.288000e+09   92843.000000   \n",
       "\n",
       "    Tax Rate  \n",
       "1        NaN  \n",
       "2        NaN  \n",
       "3        NaN  \n",
       "6        NaN  \n",
       "7        NaN  \n",
       "9        NaN  \n",
       "14       NaN  \n",
       "16       NaN  \n",
       "17       NaN  \n",
       "18       NaN  "
      ]
     },
     "execution_count": 51,
     "metadata": {},
     "output_type": "execute_result"
    }
   ],
   "source": [
    "country_count_tax_rate[country_count_tax_rate['Tax Rate'].isna()].head(10)"
   ]
  },
  {
   "cell_type": "markdown",
   "metadata": {},
   "source": [
    "Substitute the tax rate where NaN is present by integrating the data with additional sources. In particular the tax rate in the channel island Jersey and Guersey, in the Isle of Man, Monaco, Lichtenstein, Gibraltar, Hong Kong, British Vergin Islands, United Arab Emirates, Bahamas and Ecuador have been looked up. An average for a tax rate on income, profits and capital gains wasn't found for each country individually; as a consequence corporate tax rate were considered according to the assumption that all the entities in the papers are assumed to be companies.\n",
    "\n",
    "- Jersey and Guernesey as part of the channel islands have a corporate tax rate of 0% with exeption for some kind of businesses with maximum values of 20% [Jersey](https://www.gov.je/LifeEvents/MovingToJersey/pages/tax.aspx), [Guernsey](https://www.gov.gg/article/120167/Tax-for-businesses-companies-and-employers)\n",
    "\n",
    "- Isle of Man has a corporate tax rate of 0% with exeption for some kind of businesses with maximum values of 20% [Isle of Man](https://www.gov.im/categories/tax-vat-and-your-money/income-tax-and-national-insurance/business-and-corporations/corporate-tax-rates/)\n",
    "\n",
    "- Monaco has a corporate tax rate of 0% [Monaco](https://www.investopedia.com/ask/answers/060316/why-monaco-considered-tax-haven.asp)\n",
    "\n",
    "- Lichtenstein has a corporate tax rate of 12.5% [Lichtenstein](http://taxsummaries.pwc.com/ID/Liechtenstein-Corporate-Taxes-on-corporate-income)\n",
    "\n",
    "- Gibraltar has a corporate tax rate of 10% [Gibraltar](https://www.ey.com/Publication/vwLUAssets/ey-gibraltar-tax-facts-2017-18/$FILE/ey-gibraltar-tax-facts-2017-18.pdf)\n",
    "\n",
    "- Hong Kong have a corporate tax rate of 16.5% [Hong Kong](https://tradingeconomics.com/hong-kong/corporate-tax-rate)\n",
    "\n",
    "- British Vergin Islands have a corporate tax rate of 0% [British Vergin Islands](https://www2.deloitte.com/content/dam/Deloitte/global/Documents/Tax/dttl-tax-britishvirginislandshighlights-2018.pdf?nc=1)\n",
    "\n",
    "- United Arab Emirates have a corporate tax rate of 0% [United Arab Emirates](https://en.portal.santandertrade.com/establish-overseas/united-arab-emirates/tax-system)\n",
    "\n",
    "- Bahamas have a corporate tax rate of 0% [Bahamas](https://tradingeconomics.com/bahamas/personal-income-tax-rate)\n",
    "\n",
    "- Ecuador have a corporate tax rate of 22% [Ecuador](https://tradingeconomics.com/ecuador/corporate-tax-rate)\n",
    "\n",
    "No consistent information regarding Taiwan has been found for the lack of transparency of the Chinese government.\n"
   ]
  },
  {
   "cell_type": "code",
   "execution_count": 52,
   "metadata": {},
   "outputs": [],
   "source": [
    "country_count_tax_rate.loc[country_count_tax_rate['Country Name']=='Channel Islands','Tax Rate']=0\n",
    "country_count_tax_rate.loc[country_count_tax_rate['Country Name']=='Isle of Man','Tax Rate']=0\n",
    "country_count_tax_rate.loc[country_count_tax_rate['Country Name']=='Monaco','Tax Rate']=0\n",
    "country_count_tax_rate.loc[country_count_tax_rate['Country Name']=='Liechtenstein','Tax Rate']=12.5\n",
    "country_count_tax_rate.loc[country_count_tax_rate['Country Name']=='Gibraltar','Tax Rate']=10\n",
    "country_count_tax_rate.loc[country_count_tax_rate['Country Name']=='Hong Kong SAR, China','Tax Rate']=16.5\n",
    "country_count_tax_rate.loc[country_count_tax_rate['Country Name']=='Bahamas, The','Tax Rate']=0\n",
    "country_count_tax_rate.loc[country_count_tax_rate['Country Name']=='United Arab Emirates','Tax Rate']=0\n",
    "country_count_tax_rate.loc[country_count_tax_rate['Country Name']=='Ecuador','Tax Rate']=22\n",
    "country_count_tax_rate.loc[country_count_tax_rate['Country Name']=='British Virgin Islands','Tax Rate']=0"
   ]
  },
  {
   "cell_type": "markdown",
   "metadata": {},
   "source": [
    "#### Small Developed Countries"
   ]
  },
  {
   "cell_type": "markdown",
   "metadata": {},
   "source": [
    "Firstly the graph of tax rate and presence in Panama Paper of small developed countries with high income per capita is plotted. In fact, by looking at these relationship it will be possible to understand if all small developed countries with high income per capita present favourable characteristics to go offshore. \n",
    "\n",
    "All the countries with GDP per capita `GDP_y`>30000 and a total GDP `GDP_x`< 200 billions USD have been considered.\n",
    "\n",
    "The GDP has been used as a weight for the count of entities offshore because the discrepancy between the size of the economies is really high.\n",
    "\n",
    "By observing the plot below some important considerations can be drawn; two set of countries can be identified: tax havens countries and small developed countries. Firstly the tax havens countries can be identified very easily since they have a high presence in the papers and at the same time they have really low tax rates. The rest of the countries are small developed usually European countries. The trend of non tax havens countries shows that high tax rate is not a factor pushing entities to go offshore; in fact the opposite could be true: there seems to be a negative exponential relationship between presence in panama papers and tax rates, but the two tail test p-value (0.395) of such relationship seems to imply that no relationship exist between tax rate and number of entities in Panama Papers for small developed countries. However this relationship could imply the presence of an hidden covariate: high tax rate might be synonym of tighter control and regulations on entities going offshore, meaning that countries with tighter controls will naturally have a lower number of offshore companies.\n",
    "\n",
    "In addition the graph also seems to suggest that the resons behind the presence of many companies offshore in tax havens is not only the low taxation levels: in fact corporate tax rate of tax havens countries is often comparable to that one of other small european countries. As a matter of fact tax havens countries offer entities favorable conditions to easily set compabies offshore compared to other small countries."
   ]
  },
  {
   "cell_type": "code",
   "execution_count": 53,
   "metadata": {},
   "outputs": [
    {
     "data": {
      "text/html": [
       "\n",
       "<div class=\"bk-root\">\n",
       "    <div class=\"bk-plotdiv\" id=\"b3e5d1c0-16b9-4b3d-bd99-0c41d23d1436\"></div>\n",
       "</div>"
      ]
     },
     "metadata": {},
     "output_type": "display_data"
    },
    {
     "data": {
      "application/javascript": [
       "(function(root) {\n",
       "  function embed_document(root) {\n",
       "    \n",
       "  var docs_json = {\"06327d93-5459-43ed-9849-5e88e7a9a1f4\":{\"roots\":{\"references\":[{\"attributes\":{},\"id\":\"a85b83e7-6fae-48ca-909f-c64308327bbe\",\"type\":\"BasicTickFormatter\"},{\"attributes\":{},\"id\":\"5f43a968-0580-452b-ac0d-0b936df9612c\",\"type\":\"UnionRenderers\"},{\"attributes\":{\"line_alpha\":0.1,\"line_color\":\"navy\",\"line_width\":4,\"x\":{\"field\":\"x\"},\"y\":{\"field\":\"y\"}},\"id\":\"0360c048-fbe0-47e8-bce1-a4661e85b83f\",\"type\":\"Line\"},{\"attributes\":{},\"id\":\"e149d7ad-6d60-44ea-bbae-562b96aa7491\",\"type\":\"HelpTool\"},{\"attributes\":{\"fill_alpha\":{\"value\":0.5},\"fill_color\":{\"field\":\"c\",\"transform\":{\"id\":\"4531dd8e-8304-4f21-b2bf-f90a1a84be65\",\"type\":\"LogColorMapper\"}},\"line_alpha\":{\"value\":0.5},\"line_color\":{\"field\":\"c\",\"transform\":{\"id\":\"4531dd8e-8304-4f21-b2bf-f90a1a84be65\",\"type\":\"LogColorMapper\"}},\"radius\":{\"units\":\"data\",\"value\":1},\"x\":{\"field\":\"x\"},\"y\":{\"field\":\"y\"}},\"id\":\"c2534d0c-17dc-4868-9932-1bdc2cfaafe1\",\"type\":\"Circle\"},{\"attributes\":{\"callback\":null,\"data\":{},\"selected\":{\"id\":\"6eb2adbb-b633-490e-b82a-d170de98b81c\",\"type\":\"Selection\"},\"selection_policy\":{\"id\":\"7d39c34c-0566-4a09-adf1-38ae9da0fcd8\",\"type\":\"UnionRenderers\"}},\"id\":\"e9dc0659-6435-4752-a957-cde489d892fe\",\"type\":\"ColumnDataSource\"},{\"attributes\":{\"callback\":null,\"renderers\":[{\"id\":\"41826a9b-0367-4d0c-b3d1-30f65c0b286b\",\"type\":\"GlyphRenderer\"}],\"tooltips\":[[\"Set of Country\",\"Not tax havens countries, p-value=0.395\"]]},\"id\":\"02e9f98c-2b84-46b6-a1bb-28c82608d32e\",\"type\":\"HoverTool\"},{\"attributes\":{\"source\":{\"id\":\"617bf594-278e-44c6-9957-059f8966bc2b\",\"type\":\"ColumnDataSource\"}},\"id\":\"73b2af3f-6e68-4e77-bc3d-3244c5c85b2c\",\"type\":\"CDSView\"},{\"attributes\":{},\"id\":\"d55d74fa-ab9e-4254-895d-d6e036418508\",\"type\":\"PanTool\"},{\"attributes\":{},\"id\":\"d97a350b-14ca-49da-a858-615c1a5f77b0\",\"type\":\"LinearScale\"},{\"attributes\":{\"fill_alpha\":{\"value\":0.1},\"fill_color\":{\"value\":\"#1f77b4\"},\"line_alpha\":{\"value\":0.1},\"line_color\":{\"value\":\"#1f77b4\"},\"size\":{\"units\":\"screen\",\"value\":450},\"x\":{\"value\":19},\"y\":{\"value\":-6.6}},\"id\":\"f1d4e180-be6f-40dd-8733-f48b677914ed\",\"type\":\"Circle\"},{\"attributes\":{\"source\":{\"id\":\"e9dc0659-6435-4752-a957-cde489d892fe\",\"type\":\"ColumnDataSource\"}},\"id\":\"9273aff2-2a56-4336-a19c-bb32a4529760\",\"type\":\"CDSView\"},{\"attributes\":{\"data_source\":{\"id\":\"e9dc0659-6435-4752-a957-cde489d892fe\",\"type\":\"ColumnDataSource\"},\"glyph\":{\"id\":\"94187d5f-1901-48bd-80e9-6edded5f35f9\",\"type\":\"Circle\"},\"hover_glyph\":null,\"muted_glyph\":null,\"nonselection_glyph\":{\"id\":\"f1d4e180-be6f-40dd-8733-f48b677914ed\",\"type\":\"Circle\"},\"selection_glyph\":null,\"view\":{\"id\":\"9273aff2-2a56-4336-a19c-bb32a4529760\",\"type\":\"CDSView\"}},\"id\":\"9dfc2b56-628a-4aa7-b24f-50606a001578\",\"type\":\"GlyphRenderer\"},{\"attributes\":{},\"id\":\"704c58d2-3de4-4831-8281-b5cd3f04d9b0\",\"type\":\"LinearScale\"},{\"attributes\":{\"callback\":null},\"id\":\"dc3c73ee-23a0-4290-9c7b-3451e5c46449\",\"type\":\"DataRange1d\"},{\"attributes\":{\"active_drag\":\"auto\",\"active_inspect\":\"auto\",\"active_scroll\":\"auto\",\"active_tap\":\"auto\",\"tools\":[{\"id\":\"d55d74fa-ab9e-4254-895d-d6e036418508\",\"type\":\"PanTool\"},{\"id\":\"8403e4f8-4dd5-4de8-8793-cde9ee6a9de8\",\"type\":\"WheelZoomTool\"},{\"id\":\"d7afea82-842c-464b-baa9-b3b24f39312a\",\"type\":\"BoxZoomTool\"},{\"id\":\"b413e3ac-b8c4-4f0e-87ba-b5b4cf08095d\",\"type\":\"SaveTool\"},{\"id\":\"62524aae-2800-423b-9234-893456542f55\",\"type\":\"ResetTool\"},{\"id\":\"e149d7ad-6d60-44ea-bbae-562b96aa7491\",\"type\":\"HelpTool\"}]},\"id\":\"9d805e02-d0d9-4e99-8ae0-7f73c8a25ea9\",\"type\":\"Toolbar\"},{\"attributes\":{\"callback\":null,\"renderers\":[{\"id\":\"9dfc2b56-628a-4aa7-b24f-50606a001578\",\"type\":\"GlyphRenderer\"}],\"tooltips\":[[\"Set of Country\",\"Tax havens\"]]},\"id\":\"f26da40f-adee-4323-a2bd-934f83b9f912\",\"type\":\"HoverTool\"},{\"attributes\":{},\"id\":\"b413e3ac-b8c4-4f0e-87ba-b5b4cf08095d\",\"type\":\"SaveTool\"},{\"attributes\":{},\"id\":\"72f36ab6-c24c-4dc3-8903-fc6954ccae40\",\"type\":\"LogTicker\"},{\"attributes\":{},\"id\":\"d29b2289-2aa1-4c0a-8a5c-0da3b608866b\",\"type\":\"LinearScale\"},{\"attributes\":{},\"id\":\"93479568-2103-431f-a8b4-ea81fa51d5a5\",\"type\":\"Selection\"},{\"attributes\":{\"color_mapper\":{\"id\":\"4531dd8e-8304-4f21-b2bf-f90a1a84be65\",\"type\":\"LogColorMapper\"},\"formatter\":{\"id\":\"a28699ed-9795-4b27-8231-bcf365e80447\",\"type\":\"BasicTickFormatter\"},\"label_standoff\":12,\"location\":[20,0],\"plot\":{\"id\":\"d4eb0f1f-2ec2-4b7f-9c20-a992b81eaded\",\"subtype\":\"Figure\",\"type\":\"Plot\"},\"ticker\":{\"id\":\"72f36ab6-c24c-4dc3-8903-fc6954ccae40\",\"type\":\"LogTicker\"}},\"id\":\"f791a330-d17e-4f59-aa18-86b4cf3aba80\",\"type\":\"ColorBar\"},{\"attributes\":{\"callback\":null},\"id\":\"8d71170c-e6a4-4cb7-8d99-4f80f935acde\",\"type\":\"DataRange1d\"},{\"attributes\":{\"callback\":null},\"id\":\"5a12b93c-0bff-4cc6-ac29-ffebbeb3b7d4\",\"type\":\"DataRange1d\"},{\"attributes\":{\"plot\":null,\"text\":\"Number of entities offshore vs tax rate (Small developed countries)\",\"text_color\":{\"value\":\"grey\"},\"text_font_size\":{\"value\":\"11pt\"},\"text_font_style\":\"normal\"},\"id\":\"1c463cb8-d7e2-4387-b5bd-09f5b5b0bf3f\",\"type\":\"Title\"},{\"attributes\":{\"plot\":null,\"text\":\"Real GDP Legend Bar (USD)\"},\"id\":\"2252404f-b7ac-4163-b682-adfef80001a8\",\"type\":\"Title\"},{\"attributes\":{},\"id\":\"10cf7a0e-ef95-484f-9c32-3fa64b0d0a42\",\"type\":\"BasicTickFormatter\"},{\"attributes\":{\"below\":[{\"id\":\"114bf078-a426-4fd0-b959-5b416cbba94c\",\"type\":\"LinearAxis\"}],\"left\":[{\"id\":\"5a6ec5f7-8a29-46d1-b698-bf6eb2a923e8\",\"type\":\"LinearAxis\"}],\"min_border\":null,\"outline_line_color\":{\"value\":null},\"plot_height\":511,\"plot_width\":35,\"renderers\":[{\"id\":\"114bf078-a426-4fd0-b959-5b416cbba94c\",\"type\":\"LinearAxis\"},{\"id\":\"86e311ad-e8f3-43bd-91e9-81d9e1327e6b\",\"type\":\"Grid\"},{\"id\":\"5a6ec5f7-8a29-46d1-b698-bf6eb2a923e8\",\"type\":\"LinearAxis\"},{\"id\":\"e467a26d-b688-4efa-a87e-3599b98331b7\",\"type\":\"Grid\"},{\"id\":\"b1da8391-fa01-4d9d-a618-c9653d922ef6\",\"type\":\"BoxAnnotation\"}],\"title\":{\"id\":\"2252404f-b7ac-4163-b682-adfef80001a8\",\"type\":\"Title\"},\"title_location\":\"right\",\"toolbar\":{\"id\":\"9d805e02-d0d9-4e99-8ae0-7f73c8a25ea9\",\"type\":\"Toolbar\"},\"toolbar_location\":null,\"x_range\":{\"id\":\"5a12b93c-0bff-4cc6-ac29-ffebbeb3b7d4\",\"type\":\"DataRange1d\"},\"x_scale\":{\"id\":\"9ed58ad8-f304-42ee-a82d-d045ad44697f\",\"type\":\"LinearScale\"},\"y_range\":{\"id\":\"8d71170c-e6a4-4cb7-8d99-4f80f935acde\",\"type\":\"DataRange1d\"},\"y_scale\":{\"id\":\"d29b2289-2aa1-4c0a-8a5c-0da3b608866b\",\"type\":\"LinearScale\"}},\"id\":\"978cd50b-a753-4173-8a10-5b3af11f33ef\",\"subtype\":\"Figure\",\"type\":\"Plot\"},{\"attributes\":{},\"id\":\"9ed58ad8-f304-42ee-a82d-d045ad44697f\",\"type\":\"LinearScale\"},{\"attributes\":{\"callback\":null},\"id\":\"a281bf24-27fc-4d8a-9b98-80ee8d40dad7\",\"type\":\"DataRange1d\"},{\"attributes\":{\"bottom_units\":\"screen\",\"fill_alpha\":{\"value\":0.5},\"fill_color\":{\"value\":\"lightgrey\"},\"left_units\":\"screen\",\"level\":\"overlay\",\"line_alpha\":{\"value\":1.0},\"line_color\":{\"value\":\"black\"},\"line_dash\":[4,4],\"line_width\":{\"value\":2},\"plot\":null,\"render_mode\":\"css\",\"right_units\":\"screen\",\"top_units\":\"screen\"},\"id\":\"b1da8391-fa01-4d9d-a618-c9653d922ef6\",\"type\":\"BoxAnnotation\"},{\"attributes\":{\"plot\":{\"id\":\"978cd50b-a753-4173-8a10-5b3af11f33ef\",\"subtype\":\"Figure\",\"type\":\"Plot\"},\"ticker\":{\"id\":\"534c9520-9626-493a-b77b-b6df4ec6e54d\",\"type\":\"BasicTicker\"}},\"id\":\"86e311ad-e8f3-43bd-91e9-81d9e1327e6b\",\"type\":\"Grid\"},{\"attributes\":{\"dimension\":1,\"plot\":{\"id\":\"978cd50b-a753-4173-8a10-5b3af11f33ef\",\"subtype\":\"Figure\",\"type\":\"Plot\"},\"ticker\":{\"id\":\"807fee8f-1dcc-4f51-8b92-28d2a094a39d\",\"type\":\"BasicTicker\"}},\"id\":\"e467a26d-b688-4efa-a87e-3599b98331b7\",\"type\":\"Grid\"},{\"attributes\":{\"callback\":null,\"data\":{\"x\":{\"__ndarray__\":\"mxIoPKnjSkCB8Ga3c/hCQKb0ZgZIgjlA+6e+Oj4jUEB/SEjid3ZKQHOKCBQKGjFA/Cp+4I934T+I1Cmac99BQDVZSoJVzS1AVVMzgQ34RkBZzSZDlWETQG5GfYpqWztAoPQ4g7foPEChtI7K4txEQFtxVK4Hnj1A\",\"dtype\":\"float64\",\"shape\":[15]},\"y\":{\"__ndarray__\":\"u+Qtd4KcI8CHRmGjlmkjwPZhJtKdQSPAx3Kd5yS/I8CeshdPxJkjwITCQuaVJiPAM4Cp11rxIsAv5i6vh2IjwO6BN4mCHyPAsSzw1EyDI8BpMRizLf8iwH9AHw2PRyPAiFVedYxMI8B3OrnBwXUjwJttWGvTTiPA\",\"dtype\":\"float64\",\"shape\":[15]}},\"selected\":{\"id\":\"a73d3f3b-ff67-43ad-9347-6dfc7e27ff9c\",\"type\":\"Selection\"},\"selection_policy\":{\"id\":\"8fc981b7-92a7-4321-9520-da6d8db3a54e\",\"type\":\"UnionRenderers\"}},\"id\":\"617bf594-278e-44c6-9957-059f8966bc2b\",\"type\":\"ColumnDataSource\"},{\"attributes\":{\"data_source\":{\"id\":\"617bf594-278e-44c6-9957-059f8966bc2b\",\"type\":\"ColumnDataSource\"},\"glyph\":{\"id\":\"0360c048-fbe0-47e8-bce1-a4661e85b83f\",\"type\":\"Line\"},\"hover_glyph\":null,\"muted_glyph\":null,\"nonselection_glyph\":{\"id\":\"53d8cc7a-fb6b-4e7e-af94-5a9918f44a4e\",\"type\":\"Line\"},\"selection_glyph\":null,\"view\":{\"id\":\"73b2af3f-6e68-4e77-bc3d-3244c5c85b2c\",\"type\":\"CDSView\"}},\"id\":\"41826a9b-0367-4d0c-b3d1-30f65c0b286b\",\"type\":\"GlyphRenderer\"},{\"attributes\":{},\"id\":\"7d39c34c-0566-4a09-adf1-38ae9da0fcd8\",\"type\":\"UnionRenderers\"},{\"attributes\":{\"high\":1492800000000.0,\"low\":850000000.0,\"palette\":[\"#0072B2\",\"#E69F00\",\"#F0E442\"]},\"id\":\"4531dd8e-8304-4f21-b2bf-f90a1a84be65\",\"type\":\"LogColorMapper\"},{\"attributes\":{\"below\":[{\"id\":\"8dede3c0-9763-48c1-9be0-fac4101b404d\",\"type\":\"LinearAxis\"}],\"left\":[{\"id\":\"115a4956-a92a-43be-97b9-be7850ced842\",\"type\":\"LinearAxis\"}],\"plot_height\":800,\"plot_width\":800,\"renderers\":[{\"id\":\"8dede3c0-9763-48c1-9be0-fac4101b404d\",\"type\":\"LinearAxis\"},{\"id\":\"c9f80897-f593-4475-b70a-7c8996fad29b\",\"type\":\"Grid\"},{\"id\":\"115a4956-a92a-43be-97b9-be7850ced842\",\"type\":\"LinearAxis\"},{\"id\":\"7b4feebd-1159-43ff-b70a-b75791b0d63e\",\"type\":\"Grid\"},{\"id\":\"6528b8c3-b31b-4953-9041-d8a5c46dc5ea\",\"type\":\"BoxAnnotation\"},{\"id\":\"22f86302-06fd-4492-8d0b-a495652f7bf6\",\"type\":\"GlyphRenderer\"},{\"id\":\"41826a9b-0367-4d0c-b3d1-30f65c0b286b\",\"type\":\"GlyphRenderer\"},{\"id\":\"9dfc2b56-628a-4aa7-b24f-50606a001578\",\"type\":\"GlyphRenderer\"},{\"id\":\"f791a330-d17e-4f59-aa18-86b4cf3aba80\",\"type\":\"ColorBar\"}],\"right\":[{\"id\":\"f791a330-d17e-4f59-aa18-86b4cf3aba80\",\"type\":\"ColorBar\"}],\"title\":{\"id\":\"1c463cb8-d7e2-4387-b5bd-09f5b5b0bf3f\",\"type\":\"Title\"},\"toolbar\":{\"id\":\"36aa44fb-b011-44d4-8684-3259350eb8bf\",\"type\":\"Toolbar\"},\"toolbar_location\":null,\"x_range\":{\"id\":\"a281bf24-27fc-4d8a-9b98-80ee8d40dad7\",\"type\":\"DataRange1d\"},\"x_scale\":{\"id\":\"d97a350b-14ca-49da-a858-615c1a5f77b0\",\"type\":\"LinearScale\"},\"y_range\":{\"id\":\"dc3c73ee-23a0-4290-9c7b-3451e5c46449\",\"type\":\"DataRange1d\"},\"y_scale\":{\"id\":\"704c58d2-3de4-4831-8281-b5cd3f04d9b0\",\"type\":\"LinearScale\"}},\"id\":\"d4eb0f1f-2ec2-4b7f-9c20-a992b81eaded\",\"subtype\":\"Figure\",\"type\":\"Plot\"},{\"attributes\":{\"formatter\":{\"id\":\"a85b83e7-6fae-48ca-909f-c64308327bbe\",\"type\":\"BasicTickFormatter\"},\"plot\":{\"id\":\"978cd50b-a753-4173-8a10-5b3af11f33ef\",\"subtype\":\"Figure\",\"type\":\"Plot\"},\"ticker\":{\"id\":\"534c9520-9626-493a-b77b-b6df4ec6e54d\",\"type\":\"BasicTicker\"}},\"id\":\"114bf078-a426-4fd0-b959-5b416cbba94c\",\"type\":\"LinearAxis\"},{\"attributes\":{},\"id\":\"807fee8f-1dcc-4f51-8b92-28d2a094a39d\",\"type\":\"BasicTicker\"},{\"attributes\":{\"callback\":null,\"data\":{\"c\":[569333333333.3334,242000000000.0,9180787954.8,51926314674.13333,293933333333.3333,5216143943.461538,227133425171.26666,5301931545.6,4922173236.692307,2288000000.0,850000000.0,3274307831.133333,1492800000000.0,246466666666.66666,795266666666.6666,5418704083.333333,3343516256.5,1088333333333.3334,151083392370.0,241600000000.0,118940926181.06667,462666666666.6667,483466666666.6667,121546062271.0,30812990994.333332,381866666666.6667,16469675328.666666,308800000000.0,401066666666.6667,4098230769.230769,13049161890.0,2219048535.3076925,2361167216.785714,1977081765.4],\"country\":[\"Switzerland\",\"Hong Kong SAR, China\",\"Channel Islands\",\"Luxembourg\",\"United Arab Emirates\",\"Isle of Man\",\"Singapore\",\"Monaco\",\"Liechtenstein\",\"Gibraltar\",\"British Virgin Islands\",\"Andorra\",\"Canada\",\"Ireland\",\"Netherlands\",\"Bermuda\",\"Cayman Islands\",\"Australia\",\"New Zealand\",\"Finland\",\"Kuwait\",\"Belgium\",\"Sweden\",\"Qatar\",\"Macao SAR, China\",\"Austria\",\"Iceland\",\"Denmark\",\"Norway\",\"Virgin Islands (U.S.)\",\"Brunei Darussalam\",\"Faroe Islands\",\"Greenland\",\"San Marino\"],\"x\":[20.860170389713097,16.5,0.0,28.729216593654897,0.0,0.0,32.45684990164795,0.0,12.5,10.0,0.0,\"NaN\",53.77860214192079,37.94103138471929,25.5089115144116,\"NaN\",\"NaN\",64.55067318552749,52.925533566755796,17.101716281972084,0.5458449730516288,35.74571539919367,14.901043006492367,45.93791213041428,4.84529595302896,27.35709443624949,28.909050179867904,41.725671119385204,29.6173047023925,\"NaN\",\"NaN\",\"NaN\",\"NaN\",17.291533651842922],\"y\":[-7.176601371423348,-6.805050125770456,-5.6272616073940185,-6.6803582186425885,-7.606774170913472,-6.027863119211703,-7.745514455339305,-6.223648943244593,-6.3770265775175075,-6.050038794342846,-5.88527130483557,-6.825810647680471,-9.63367215161155,-8.883902319821594,-9.652539513166124,-7.5164114905252815,-7.498897573858133,-10.063634077291733,-9.315893867630418,-9.570183573306238,-9.297180065600369,-9.89441619975703,-9.944003846873546,-9.65337712940558,-9.090793848336471,-10.201700508532513,-9.040593778829416,-10.34354925598546,-10.457088532849667,-9.01053641832085,-10.115582619089098,\"NaN\",\"NaN\",\"NaN\"]},\"selected\":{\"id\":\"93479568-2103-431f-a8b4-ea81fa51d5a5\",\"type\":\"Selection\"},\"selection_policy\":{\"id\":\"5f43a968-0580-452b-ac0d-0b936df9612c\",\"type\":\"UnionRenderers\"}},\"id\":\"e9692f27-b2cc-4013-bee1-15ac884a7956\",\"type\":\"ColumnDataSource\"},{\"attributes\":{},\"id\":\"534c9520-9626-493a-b77b-b6df4ec6e54d\",\"type\":\"BasicTicker\"},{\"attributes\":{},\"id\":\"538f7404-cd33-4e71-8bbb-7e6727a21e0c\",\"type\":\"BasicTickFormatter\"},{\"attributes\":{\"active_drag\":\"auto\",\"active_inspect\":\"auto\",\"active_scroll\":\"auto\",\"active_tap\":\"auto\",\"logo\":null,\"tools\":[{\"id\":\"9e7884d6-27d8-4416-8271-d3e371c518df\",\"type\":\"PanTool\"},{\"id\":\"fcceab80-db14-489d-9246-9ee11dd676f4\",\"type\":\"WheelZoomTool\"},{\"id\":\"8e3fac17-4166-48fa-9f94-573bfef8c364\",\"type\":\"BoxZoomTool\"},{\"id\":\"bf2c7048-18a5-4720-96e7-1705ee44ed2d\",\"type\":\"SaveTool\"},{\"id\":\"02530cc3-9ad4-4860-90a4-19f31bcaec93\",\"type\":\"ResetTool\"},{\"id\":\"4f0acac9-f845-4753-a336-8799d92d68e6\",\"type\":\"HelpTool\"},{\"id\":\"dab33dc5-e0bd-4748-9a81-04d972d0568c\",\"type\":\"HoverTool\"},{\"id\":\"02e9f98c-2b84-46b6-a1bb-28c82608d32e\",\"type\":\"HoverTool\"},{\"id\":\"f26da40f-adee-4323-a2bd-934f83b9f912\",\"type\":\"HoverTool\"}]},\"id\":\"36aa44fb-b011-44d4-8684-3259350eb8bf\",\"type\":\"Toolbar\"},{\"attributes\":{\"formatter\":{\"id\":\"538f7404-cd33-4e71-8bbb-7e6727a21e0c\",\"type\":\"BasicTickFormatter\"},\"plot\":{\"id\":\"978cd50b-a753-4173-8a10-5b3af11f33ef\",\"subtype\":\"Figure\",\"type\":\"Plot\"},\"ticker\":{\"id\":\"807fee8f-1dcc-4f51-8b92-28d2a094a39d\",\"type\":\"BasicTicker\"}},\"id\":\"5a6ec5f7-8a29-46d1-b698-bf6eb2a923e8\",\"type\":\"LinearAxis\"},{\"attributes\":{\"source\":{\"id\":\"e9692f27-b2cc-4013-bee1-15ac884a7956\",\"type\":\"ColumnDataSource\"}},\"id\":\"edc66ca7-378e-480b-9ae4-33a2d225b303\",\"type\":\"CDSView\"},{\"attributes\":{\"line_alpha\":0.1,\"line_color\":\"#1f77b4\",\"line_width\":4,\"x\":{\"field\":\"x\"},\"y\":{\"field\":\"y\"}},\"id\":\"53d8cc7a-fb6b-4e7e-af94-5a9918f44a4e\",\"type\":\"Line\"},{\"attributes\":{},\"id\":\"a28699ed-9795-4b27-8231-bcf365e80447\",\"type\":\"BasicTickFormatter\"},{\"attributes\":{\"dimension\":1,\"plot\":{\"id\":\"d4eb0f1f-2ec2-4b7f-9c20-a992b81eaded\",\"subtype\":\"Figure\",\"type\":\"Plot\"},\"ticker\":{\"id\":\"b05c50fe-069d-4249-9ce8-312759e41e04\",\"type\":\"BasicTicker\"}},\"id\":\"7b4feebd-1159-43ff-b70a-b75791b0d63e\",\"type\":\"Grid\"},{\"attributes\":{\"axis_label\":\"Tax Rate (%)\",\"formatter\":{\"id\":\"10cf7a0e-ef95-484f-9c32-3fa64b0d0a42\",\"type\":\"BasicTickFormatter\"},\"plot\":{\"id\":\"d4eb0f1f-2ec2-4b7f-9c20-a992b81eaded\",\"subtype\":\"Figure\",\"type\":\"Plot\"},\"ticker\":{\"id\":\"5c904269-31ce-4bd9-aa57-15302308bf8a\",\"type\":\"BasicTicker\"}},\"id\":\"8dede3c0-9763-48c1-9be0-fac4101b404d\",\"type\":\"LinearAxis\"},{\"attributes\":{\"axis_label\":\"Number of Entities Offshore (log scale)\",\"formatter\":{\"id\":\"412b5979-13e8-4175-a1e3-22bd428e3840\",\"type\":\"BasicTickFormatter\"},\"plot\":{\"id\":\"d4eb0f1f-2ec2-4b7f-9c20-a992b81eaded\",\"subtype\":\"Figure\",\"type\":\"Plot\"},\"ticker\":{\"id\":\"b05c50fe-069d-4249-9ce8-312759e41e04\",\"type\":\"BasicTicker\"}},\"id\":\"115a4956-a92a-43be-97b9-be7850ced842\",\"type\":\"LinearAxis\"},{\"attributes\":{},\"id\":\"6eb2adbb-b633-490e-b82a-d170de98b81c\",\"type\":\"Selection\"},{\"attributes\":{},\"id\":\"b05c50fe-069d-4249-9ce8-312759e41e04\",\"type\":\"BasicTicker\"},{\"attributes\":{},\"id\":\"a73d3f3b-ff67-43ad-9347-6dfc7e27ff9c\",\"type\":\"Selection\"},{\"attributes\":{\"fill_alpha\":{\"value\":0.1},\"fill_color\":{\"value\":\"navy\"},\"line_alpha\":{\"value\":0.1},\"line_color\":{\"value\":\"navy\"},\"size\":{\"units\":\"screen\",\"value\":450},\"x\":{\"value\":19},\"y\":{\"value\":-6.6}},\"id\":\"94187d5f-1901-48bd-80e9-6edded5f35f9\",\"type\":\"Circle\"},{\"attributes\":{},\"id\":\"5c904269-31ce-4bd9-aa57-15302308bf8a\",\"type\":\"BasicTicker\"},{\"attributes\":{\"children\":[{\"id\":\"d4eb0f1f-2ec2-4b7f-9c20-a992b81eaded\",\"subtype\":\"Figure\",\"type\":\"Plot\"},{\"id\":\"978cd50b-a753-4173-8a10-5b3af11f33ef\",\"subtype\":\"Figure\",\"type\":\"Plot\"}]},\"id\":\"e8be5a3c-ac2a-47da-9548-ddbe2a9ae6b9\",\"type\":\"Row\"},{\"attributes\":{},\"id\":\"8fc981b7-92a7-4321-9520-da6d8db3a54e\",\"type\":\"UnionRenderers\"},{\"attributes\":{\"plot\":{\"id\":\"d4eb0f1f-2ec2-4b7f-9c20-a992b81eaded\",\"subtype\":\"Figure\",\"type\":\"Plot\"},\"ticker\":{\"id\":\"5c904269-31ce-4bd9-aa57-15302308bf8a\",\"type\":\"BasicTicker\"}},\"id\":\"c9f80897-f593-4475-b70a-7c8996fad29b\",\"type\":\"Grid\"},{\"attributes\":{},\"id\":\"62524aae-2800-423b-9234-893456542f55\",\"type\":\"ResetTool\"},{\"attributes\":{\"fill_alpha\":{\"value\":0.1},\"fill_color\":{\"value\":\"#1f77b4\"},\"line_alpha\":{\"value\":0.1},\"line_color\":{\"value\":\"#1f77b4\"},\"radius\":{\"units\":\"data\",\"value\":1},\"x\":{\"field\":\"x\"},\"y\":{\"field\":\"y\"}},\"id\":\"10f3bb36-7b43-49d6-aa9f-3c9a3d5c5bfd\",\"type\":\"Circle\"},{\"attributes\":{\"data_source\":{\"id\":\"e9692f27-b2cc-4013-bee1-15ac884a7956\",\"type\":\"ColumnDataSource\"},\"glyph\":{\"id\":\"c2534d0c-17dc-4868-9932-1bdc2cfaafe1\",\"type\":\"Circle\"},\"hover_glyph\":null,\"muted_glyph\":null,\"nonselection_glyph\":{\"id\":\"10f3bb36-7b43-49d6-aa9f-3c9a3d5c5bfd\",\"type\":\"Circle\"},\"selection_glyph\":null,\"view\":{\"id\":\"edc66ca7-378e-480b-9ae4-33a2d225b303\",\"type\":\"CDSView\"}},\"id\":\"22f86302-06fd-4492-8d0b-a495652f7bf6\",\"type\":\"GlyphRenderer\"},{\"attributes\":{},\"id\":\"9e7884d6-27d8-4416-8271-d3e371c518df\",\"type\":\"PanTool\"},{\"attributes\":{\"callback\":null,\"renderers\":[{\"id\":\"22f86302-06fd-4492-8d0b-a495652f7bf6\",\"type\":\"GlyphRenderer\"}],\"tooltips\":[[\"Country\",\"@country\"],[\"(Tax Rate, Log(number of entities offshore))\",\"($x, $y)\"]]},\"id\":\"dab33dc5-e0bd-4748-9a81-04d972d0568c\",\"type\":\"HoverTool\"},{\"attributes\":{\"bottom_units\":\"screen\",\"fill_alpha\":{\"value\":0.5},\"fill_color\":{\"value\":\"lightgrey\"},\"left_units\":\"screen\",\"level\":\"overlay\",\"line_alpha\":{\"value\":1.0},\"line_color\":{\"value\":\"black\"},\"line_dash\":[4,4],\"line_width\":{\"value\":2},\"plot\":null,\"render_mode\":\"css\",\"right_units\":\"screen\",\"top_units\":\"screen\"},\"id\":\"6528b8c3-b31b-4953-9041-d8a5c46dc5ea\",\"type\":\"BoxAnnotation\"},{\"attributes\":{},\"id\":\"fcceab80-db14-489d-9246-9ee11dd676f4\",\"type\":\"WheelZoomTool\"},{\"attributes\":{\"overlay\":{\"id\":\"6528b8c3-b31b-4953-9041-d8a5c46dc5ea\",\"type\":\"BoxAnnotation\"}},\"id\":\"8e3fac17-4166-48fa-9f94-573bfef8c364\",\"type\":\"BoxZoomTool\"},{\"attributes\":{},\"id\":\"4f0acac9-f845-4753-a336-8799d92d68e6\",\"type\":\"HelpTool\"},{\"attributes\":{},\"id\":\"bf2c7048-18a5-4720-96e7-1705ee44ed2d\",\"type\":\"SaveTool\"},{\"attributes\":{},\"id\":\"02530cc3-9ad4-4860-90a4-19f31bcaec93\",\"type\":\"ResetTool\"},{\"attributes\":{\"overlay\":{\"id\":\"b1da8391-fa01-4d9d-a618-c9653d922ef6\",\"type\":\"BoxAnnotation\"}},\"id\":\"d7afea82-842c-464b-baa9-b3b24f39312a\",\"type\":\"BoxZoomTool\"},{\"attributes\":{},\"id\":\"412b5979-13e8-4175-a1e3-22bd428e3840\",\"type\":\"BasicTickFormatter\"},{\"attributes\":{},\"id\":\"8403e4f8-4dd5-4de8-8793-cde9ee6a9de8\",\"type\":\"WheelZoomTool\"}],\"root_ids\":[\"e8be5a3c-ac2a-47da-9548-ddbe2a9ae6b9\"]},\"title\":\"Bokeh Application\",\"version\":\"0.12.16\"}};\n",
       "  var render_items = [{\"docid\":\"06327d93-5459-43ed-9849-5e88e7a9a1f4\",\"elementid\":\"b3e5d1c0-16b9-4b3d-bd99-0c41d23d1436\",\"modelid\":\"e8be5a3c-ac2a-47da-9548-ddbe2a9ae6b9\"}];\n",
       "  root.Bokeh.embed.embed_items_notebook(docs_json, render_items);\n",
       "\n",
       "  }\n",
       "  if (root.Bokeh !== undefined) {\n",
       "    embed_document(root);\n",
       "  } else {\n",
       "    var attempts = 0;\n",
       "    var timer = setInterval(function(root) {\n",
       "      if (root.Bokeh !== undefined) {\n",
       "        embed_document(root);\n",
       "        clearInterval(timer);\n",
       "      }\n",
       "      attempts++;\n",
       "      if (attempts > 100) {\n",
       "        console.log(\"Bokeh: ERROR: Unable to run BokehJS code because BokehJS library is missing\")\n",
       "        clearInterval(timer);\n",
       "      }\n",
       "    }, 10, root)\n",
       "  }\n",
       "})(window);"
      ],
      "application/vnd.bokehjs_exec.v0+json": ""
     },
     "metadata": {
      "application/vnd.bokehjs_exec.v0+json": {
       "id": "e8be5a3c-ac2a-47da-9548-ddbe2a9ae6b9"
      }
     },
     "output_type": "display_data"
    }
   ],
   "source": [
    "selection=country_count_tax_rate['GDP_y'].apply(lambda x: x>30000) & country_count_tax_rate['GDP_x'].apply(lambda x: x<200*10e9)\n",
    "\n",
    "x = country_count_tax_rate['Tax Rate'][selection]\n",
    "y = np.log10(country_count_tax_rate['n_companies_offshore'][selection]/country_count_tax_rate['GDP_x'][selection])\n",
    "country_names=country_count_tax_rate['Country Name'][selection]\n",
    "c = country_count_tax_rate['GDP_x'][selection]\n",
    "c[c.isna()]=0\n",
    "\n",
    "# establish the color mapper schema\n",
    "color_mapper = LogColorMapper(palette=\"Colorblind3\", low=min(c),\\\n",
    "                              high=max(c))\n",
    "\n",
    "# establish the sources of data to make the interactive graph\n",
    "source=ColumnDataSource(data=dict(\n",
    "    x=list(x),\n",
    "    y=list(y),\n",
    "    country=list(country_names),\n",
    "    c=list(c),\n",
    "))\n",
    "\n",
    "    \n",
    "# set the regression line\n",
    "df=pd.DataFrame({'Tax Rate':x,'n_companies_offshore':y})\n",
    "df=df.dropna(inplace=False)\n",
    "df=df[df['n_companies_offshore'].apply(lambda x: x<-8)]\n",
    "\n",
    "a=np.array(df['Tax Rate'])\n",
    "b=np.array(df['n_companies_offshore'])\n",
    "\n",
    "m,i,r,p_value,std=stats.linregress(a,b)\n",
    "\n",
    "p = figure(title=\"Number of entities offshore vs tax rate (Small developed countries)\", plot_width=800, plot_height=800)\n",
    "\n",
    "scatter=p.scatter(x='x', y='y', radius=1, source=source, color={'field': 'c', 'transform': color_mapper}, alpha=0.5)\n",
    "hover= HoverTool(tooltips = [(\"Country\", \"@country\"),(\"(Tax Rate, Log(number of entities offshore))\", \"($x, $y)\")],renderers=[scatter])\n",
    "p.add_tools(hover)\n",
    "\n",
    "\n",
    "line=p.line(df['Tax Rate'], m*df['Tax Rate']+i, line_width=4, color='navy', alpha=0.1)\n",
    "hover0=HoverTool(tooltips = [(\"Set of Country\",'Not tax havens countries, p-value='+str(p_value)[:5])], renderers=[line])\n",
    "p.add_tools(hover0)\n",
    "circle=p.circle(19, -6.6, size=450, color=\"navy\", alpha=0.1)\n",
    "hover1=HoverTool(tooltips = [(\"Set of Country\",'Tax havens')], renderers=[circle])\n",
    "p.add_tools(hover1)\n",
    "\n",
    "\n",
    "# set the style of the title\n",
    "p.title.text_color = \"grey\"\n",
    "p.title.text_font = \"helvetica\"\n",
    "p.title.text_font_style = \"normal\"\n",
    "p.title.text_font_size = '11pt'\n",
    "\n",
    "# set the label options\n",
    "p.xaxis.axis_label='Tax Rate (%)'\n",
    "p.yaxis.axis_label='Number of Entities Offshore (log scale)'\n",
    "\n",
    "# add the color bar\n",
    "color_bar = ColorBar(color_mapper=color_mapper, ticker=LogTicker(),\n",
    "                     label_standoff=12, border_line_color=None, location=(20,0))\n",
    "\n",
    "# set the color bar title\n",
    "color_bar_height = 511\n",
    "color_bar_width = 35\n",
    "\n",
    "color_bar_plot = figure(title=\"Real GDP Legend Bar (USD)\", title_location=\"right\", \n",
    "                        height=color_bar_height, width=color_bar_width, \n",
    "                        toolbar_location=None, min_border=None, \n",
    "                        outline_line_color=None)\n",
    "\n",
    "p.add_layout(color_bar, 'right')\n",
    "\n",
    "# remove the interactive toolbar\n",
    "p.toolbar.logo = None\n",
    "p.toolbar_location = None\n",
    "\n",
    "layout = row_plot(p, color_bar_plot)\n",
    "output_file(\"taxratesmalldevelopedcountries.html\", title=\"taxratesmalldevelopedcountries\")\n",
    "show(layout)"
   ]
  },
  {
   "cell_type": "markdown",
   "metadata": {},
   "source": [
    "#### Developing Countries"
   ]
  },
  {
   "cell_type": "markdown",
   "metadata": {},
   "source": [
    "Secondly the graph of tax rate and presence in Panama Paper of developing countries is plotted. BRICs countries have been considered, as well as all other countries which had a GDP greater than 40 billions USD a year. Also in this case the GDP has been used as a weight for the count of entities offshore because the discrepancy between the size of the economies is really high.\n",
    "\n",
    "By observing this graphs a negative exponential relationship can be again observed further showing that for this category of countries tax rate is not a factor pushing entities to go offshore: actually the higher the tax rate the lower the number of companies offshore. Contrary to the little evidence found in small developed countries, developing countries show a very clear negative exponential relationship with a two tails p-value of 0.00143. This could be a further proof to the hypothesis that higher tax rates are correlates with higher regulations as shown in the graph for small developed countries; in fact in developing countries the bureaucratic machine and regulation could even disable further entities who are willing to go offshore."
   ]
  },
  {
   "cell_type": "code",
   "execution_count": 54,
   "metadata": {},
   "outputs": [
    {
     "data": {
      "text/html": [
       "\n",
       "<div class=\"bk-root\">\n",
       "    <div class=\"bk-plotdiv\" id=\"7c785186-aec2-4caf-ba07-c19e496b19f9\"></div>\n",
       "</div>"
      ]
     },
     "metadata": {},
     "output_type": "display_data"
    },
    {
     "data": {
      "application/javascript": [
       "(function(root) {\n",
       "  function embed_document(root) {\n",
       "    \n",
       "  var docs_json = {\"d946dede-cb93-4b17-a247-ee5411c68751\":{\"roots\":{\"references\":[{\"attributes\":{\"callback\":null},\"id\":\"38f40d13-26cc-48ce-a9ee-7179b81493d4\",\"type\":\"DataRange1d\"},{\"attributes\":{\"callback\":null,\"data\":{\"c\":[1421666666666.6667,6584000000000.0,1725266666666.6667,404933333333.3333,438466666666.6667,719600000000.0,1056200000000.0,653866666666.6666,1527933333333.3333,2047133333333.3333,1227600000000.0,8232000000000.0,7951333333333.333,16616666666666.666,2884666666666.6665,591400000000.0,464266666666.6667,19073333333333.332,20481333333333.332,1392466666666.6667,657466666666.6666,731600000000.0,3869333333333.3335,4699333333333.333,652133333333.3334,4177333333333.3335,19372000000000.0,13275333333333.334,2608000000000.0,18997333333333.332,1217600000000.0,926800000000.0,1933466666666.6667,1220066666666.6667,1221066666666.6667,8206666666666.667,3376666666666.6665,4509333333333.333,1208333333333.3333,1933466666666.6667,1221066666666.6667,14828000000000.0,64306666666666.664],\"country\":[\"Russian Federation\",\"China\",\"Brazil\",\"Argentina\",\"Poland\",\"Turkey\",\"Mexico\",\"Indonesia\",\"India\",\"Arab World\",\"Central Europe and the Baltics\",\"East Asia & Pacific (excluding high income)\",\"Early-demographic dividend\",\"East Asia & Pacific\",\"Europe & Central Asia (excluding high income)\",\"Fragile and conflict affected situations\",\"Heavily indebted poor countries (HIPC)\",\"IBRD only\",\"IDA & IBRD total\",\"IDA total\",\"IDA blend\",\"IDA only\",\"Latin America & Caribbean (excluding high income)\",\"Latin America & Caribbean\",\"Least developed countries: UN classification\",\"Lower middle income\",\"Low & middle income\",\"Late-demographic dividend\",\"Middle East & North Africa\",\"Middle income\",\"Middle East & North Africa (excluding high income)\",\"Pre-demographic dividend\",\"South Asia\",\"Sub-Saharan Africa (excluding high income)\",\"Sub-Saharan Africa\",\"East Asia & Pacific (IDA & IBRD countries)\",\"Europe & Central Asia (IDA & IBRD countries)\",\"Latin America & the Caribbean (IDA & IBRD countries)\",\"Middle East & North Africa (IDA & IBRD countries)\",\"South Asia (IDA & IBRD)\",\"Sub-Saharan Africa (IDA & IBRD countries)\",\"Upper middle income\",\"World\"],\"x\":[2.9862981506841235,23.411558002872663,23.94544354424977,14.509155495645114,13.365314348988647,17.2570621344507,29.73170466152267,35.843275831263576,43.21070390832967,22.879864300338266,15.934520807477046,32.928331692868475,23.555895522134193,35.002556166180845,13.506365350123907,\"NaN\",19.851485464402998,22.143621483164054,20.2082113781262,20.170736915816526,23.571689615700436,20.10448054397547,24.52537795337311,24.492867749367917,19.861839473330452,23.176944883445955,20.393794932106456,18.89238963081335,22.5640510966177,21.582316467110125,24.871143398386724,23.79203703648025,17.665207886946547,22.600456976310127,22.600456976310127,32.928331692868475,12.925554936259733,24.492867749367917,25.79871763639961,17.665207886946547,22.600456976310127,19.385877222777477,21.738515869508497],\"y\":[-8.529858811572389,-9.311579096652695,-9.091038517039856,-9.176019764367577,-9.443279495849152,-9.85276978089087,-10.21083280650962,-10.36833116677644,-10.861885110816559,\"NaN\",\"NaN\",\"NaN\",\"NaN\",\"NaN\",\"NaN\",\"NaN\",\"NaN\",\"NaN\",\"NaN\",\"NaN\",\"NaN\",\"NaN\",\"NaN\",\"NaN\",\"NaN\",\"NaN\",\"NaN\",\"NaN\",\"NaN\",\"NaN\",\"NaN\",\"NaN\",\"NaN\",\"NaN\",\"NaN\",\"NaN\",\"NaN\",\"NaN\",\"NaN\",\"NaN\",\"NaN\",\"NaN\",\"NaN\"]},\"selected\":{\"id\":\"aa4a5b4a-02b4-4b3c-b1a9-e152ae15c80b\",\"type\":\"Selection\"},\"selection_policy\":{\"id\":\"b3348979-0f8d-443a-8231-c52329bca104\",\"type\":\"UnionRenderers\"}},\"id\":\"53580d45-07fa-4ca7-af45-d7a871d070bb\",\"type\":\"ColumnDataSource\"},{\"attributes\":{\"source\":{\"id\":\"53580d45-07fa-4ca7-af45-d7a871d070bb\",\"type\":\"ColumnDataSource\"}},\"id\":\"22259c11-de13-4afa-b708-24174bac8606\",\"type\":\"CDSView\"},{\"attributes\":{\"callback\":null},\"id\":\"05cb70af-3f3a-41f5-a12a-5896faa777e8\",\"type\":\"DataRange1d\"},{\"attributes\":{},\"id\":\"aaefc045-2343-4fa6-a291-d42415d9e916\",\"type\":\"LinearScale\"},{\"attributes\":{},\"id\":\"8f1cbd7c-aa53-4ad3-ac69-545997897f3f\",\"type\":\"LinearScale\"},{\"attributes\":{\"plot\":{\"id\":\"498b09aa-d8a8-4a28-9dc5-eb649b0206ca\",\"subtype\":\"Figure\",\"type\":\"Plot\"},\"ticker\":{\"id\":\"6cba1d9d-eae2-482a-9086-9234a609f606\",\"type\":\"BasicTicker\"}},\"id\":\"c7cf681c-cddd-4cf0-889f-7910b6e56db2\",\"type\":\"Grid\"},{\"attributes\":{\"axis_label\":\"Tax Rate (%)\",\"formatter\":{\"id\":\"3c05fb87-44d0-4384-b3c1-700a2f1f26e1\",\"type\":\"BasicTickFormatter\"},\"plot\":{\"id\":\"498b09aa-d8a8-4a28-9dc5-eb649b0206ca\",\"subtype\":\"Figure\",\"type\":\"Plot\"},\"ticker\":{\"id\":\"6cba1d9d-eae2-482a-9086-9234a609f606\",\"type\":\"BasicTicker\"}},\"id\":\"e92ea5d2-f5ef-470d-be1a-18ac0dc7d4d0\",\"type\":\"LinearAxis\"},{\"attributes\":{},\"id\":\"6cba1d9d-eae2-482a-9086-9234a609f606\",\"type\":\"BasicTicker\"},{\"attributes\":{\"axis_label\":\"Number of Entities Offshore (log scale)\",\"formatter\":{\"id\":\"7bfec366-81a9-45aa-82e9-91ea0d0a2f09\",\"type\":\"BasicTickFormatter\"},\"plot\":{\"id\":\"498b09aa-d8a8-4a28-9dc5-eb649b0206ca\",\"subtype\":\"Figure\",\"type\":\"Plot\"},\"ticker\":{\"id\":\"ad2a53f6-0999-433a-9b6e-0589d815e99d\",\"type\":\"BasicTicker\"}},\"id\":\"96bb65f3-26fa-49b8-ab9c-3a7ff76fde2b\",\"type\":\"LinearAxis\"},{\"attributes\":{},\"id\":\"ad2a53f6-0999-433a-9b6e-0589d815e99d\",\"type\":\"BasicTicker\"},{\"attributes\":{\"dimension\":1,\"plot\":{\"id\":\"498b09aa-d8a8-4a28-9dc5-eb649b0206ca\",\"subtype\":\"Figure\",\"type\":\"Plot\"},\"ticker\":{\"id\":\"ad2a53f6-0999-433a-9b6e-0589d815e99d\",\"type\":\"BasicTicker\"}},\"id\":\"18762aa4-8bb7-43ec-8496-000df6255e35\",\"type\":\"Grid\"},{\"attributes\":{},\"id\":\"d5970d9e-20e0-4421-b835-74a02cf6d5cd\",\"type\":\"BasicTickFormatter\"},{\"attributes\":{\"fill_alpha\":{\"value\":0.1},\"fill_color\":{\"value\":\"#1f77b4\"},\"line_alpha\":{\"value\":0.1},\"line_color\":{\"value\":\"#1f77b4\"},\"radius\":{\"units\":\"data\",\"value\":1},\"x\":{\"field\":\"x\"},\"y\":{\"field\":\"y\"}},\"id\":\"53d28f51-2315-4beb-a609-f33191322b58\",\"type\":\"Circle\"},{\"attributes\":{\"callback\":null,\"renderers\":[{\"id\":\"3c325f01-632f-42c5-a3c7-33ec6b0fe59c\",\"type\":\"GlyphRenderer\"}],\"tooltips\":[[\"Country\",\"@country\"],[\"(Tax Rate, Log(number of entities offshore))\",\"($x, $y)\"]]},\"id\":\"13e57d27-d986-4984-92c6-0e0433549889\",\"type\":\"HoverTool\"},{\"attributes\":{\"bottom_units\":\"screen\",\"fill_alpha\":{\"value\":0.5},\"fill_color\":{\"value\":\"lightgrey\"},\"left_units\":\"screen\",\"level\":\"overlay\",\"line_alpha\":{\"value\":1.0},\"line_color\":{\"value\":\"black\"},\"line_dash\":[4,4],\"line_width\":{\"value\":2},\"plot\":null,\"render_mode\":\"css\",\"right_units\":\"screen\",\"top_units\":\"screen\"},\"id\":\"f4ff281e-2ad7-4b75-a4da-805fb1120f1f\",\"type\":\"BoxAnnotation\"},{\"attributes\":{},\"id\":\"6904c50f-76e7-474b-9f58-ba8512890c2b\",\"type\":\"PanTool\"},{\"attributes\":{\"data_source\":{\"id\":\"53580d45-07fa-4ca7-af45-d7a871d070bb\",\"type\":\"ColumnDataSource\"},\"glyph\":{\"id\":\"706f75e6-3292-4648-a368-f6633bf57694\",\"type\":\"Circle\"},\"hover_glyph\":null,\"muted_glyph\":null,\"nonselection_glyph\":{\"id\":\"53d28f51-2315-4beb-a609-f33191322b58\",\"type\":\"Circle\"},\"selection_glyph\":null,\"view\":{\"id\":\"22259c11-de13-4afa-b708-24174bac8606\",\"type\":\"CDSView\"}},\"id\":\"3c325f01-632f-42c5-a3c7-33ec6b0fe59c\",\"type\":\"GlyphRenderer\"},{\"attributes\":{},\"id\":\"871e1b71-e77c-459c-bc5c-9a8f68348fb8\",\"type\":\"WheelZoomTool\"},{\"attributes\":{\"overlay\":{\"id\":\"f4ff281e-2ad7-4b75-a4da-805fb1120f1f\",\"type\":\"BoxAnnotation\"}},\"id\":\"666ef399-94a8-4823-93de-07a9b1e5b0e0\",\"type\":\"BoxZoomTool\"},{\"attributes\":{},\"id\":\"e2252ed3-c303-4ec6-b504-356c34086124\",\"type\":\"SaveTool\"},{\"attributes\":{},\"id\":\"c24136ad-5444-4f98-b0ca-3468b16c18e0\",\"type\":\"ResetTool\"},{\"attributes\":{},\"id\":\"366df4b5-b180-45d5-9afe-155eb2d4bad8\",\"type\":\"HelpTool\"},{\"attributes\":{\"line_alpha\":0.1,\"line_color\":\"#1f77b4\",\"line_width\":4,\"x\":{\"field\":\"x\"},\"y\":{\"field\":\"y\"}},\"id\":\"cf600658-576e-4f94-8841-3aa2da3455cf\",\"type\":\"Line\"},{\"attributes\":{\"high\":64306666666666.664,\"low\":404933333333.3333,\"palette\":[\"#0072B2\",\"#E69F00\",\"#F0E442\",\"#009E73\"]},\"id\":\"18ba8028-0f01-4e89-9e89-84c2506384e6\",\"type\":\"LogColorMapper\"},{\"attributes\":{\"callback\":null,\"data\":{\"x\":{\"__ndarray__\":\"RlnqSPDjB0DDvoLdW2k3QGDEjpYI8jdAtr90B7AELUDgVHt7CrsqQHaB9NLOQTFAFJIn/1C7PUBjZGJ28OtBQCm1fVj4mkVA\",\"dtype\":\"float64\",\"shape\":[9]},\"y\":{\"__ndarray__\":\"wNyBeEQ5IcCKBMYq2V8jwETEklo9biPAy6bhT+BvIsB2cWMAC1EiwL+xO87yuSLANhTGojYKJMBMmmDJ9K4kwNXQVTyNdSXA\",\"dtype\":\"float64\",\"shape\":[9]}},\"selected\":{\"id\":\"fd097403-0635-4193-b501-b31f7fcf593e\",\"type\":\"Selection\"},\"selection_policy\":{\"id\":\"d6f0e233-8855-414a-b52b-b0366dcb594e\",\"type\":\"UnionRenderers\"}},\"id\":\"c8beb069-4ada-4271-b96e-6b3033ccbcdf\",\"type\":\"ColumnDataSource\"},{\"attributes\":{\"line_alpha\":0.1,\"line_color\":\"navy\",\"line_width\":4,\"x\":{\"field\":\"x\"},\"y\":{\"field\":\"y\"}},\"id\":\"433e5e4d-d0a6-4119-bc9c-4904f9365066\",\"type\":\"Line\"},{\"attributes\":{\"color_mapper\":{\"id\":\"18ba8028-0f01-4e89-9e89-84c2506384e6\",\"type\":\"LogColorMapper\"},\"formatter\":{\"id\":\"ebe68409-fad0-44f0-9e57-dbc4c45c6cf7\",\"type\":\"BasicTickFormatter\"},\"label_standoff\":12,\"location\":[0,0],\"plot\":{\"id\":\"498b09aa-d8a8-4a28-9dc5-eb649b0206ca\",\"subtype\":\"Figure\",\"type\":\"Plot\"},\"ticker\":{\"id\":\"671960bb-95f0-4bcb-8687-8436adc628bf\",\"type\":\"LogTicker\"}},\"id\":\"569b9665-e4f1-44c5-bdc6-467580fb077a\",\"type\":\"ColorBar\"},{\"attributes\":{\"data_source\":{\"id\":\"c8beb069-4ada-4271-b96e-6b3033ccbcdf\",\"type\":\"ColumnDataSource\"},\"glyph\":{\"id\":\"433e5e4d-d0a6-4119-bc9c-4904f9365066\",\"type\":\"Line\"},\"hover_glyph\":null,\"muted_glyph\":null,\"nonselection_glyph\":{\"id\":\"cf600658-576e-4f94-8841-3aa2da3455cf\",\"type\":\"Line\"},\"selection_glyph\":null,\"view\":{\"id\":\"adad8646-1dbb-41a6-b2c4-bbb16892eb34\",\"type\":\"CDSView\"}},\"id\":\"38050b1a-671c-40a4-9e15-fdfb7427e592\",\"type\":\"GlyphRenderer\"},{\"attributes\":{\"source\":{\"id\":\"c8beb069-4ada-4271-b96e-6b3033ccbcdf\",\"type\":\"ColumnDataSource\"}},\"id\":\"adad8646-1dbb-41a6-b2c4-bbb16892eb34\",\"type\":\"CDSView\"},{\"attributes\":{\"below\":[{\"id\":\"3e844c4a-f5cc-4cff-854e-556970c6e77b\",\"type\":\"LinearAxis\"}],\"left\":[{\"id\":\"dfa1582d-3b47-4561-885c-99690020bf73\",\"type\":\"LinearAxis\"}],\"min_border\":null,\"outline_line_color\":{\"value\":null},\"plot_height\":511,\"plot_width\":35,\"renderers\":[{\"id\":\"3e844c4a-f5cc-4cff-854e-556970c6e77b\",\"type\":\"LinearAxis\"},{\"id\":\"e69d6d5d-ff7b-4d51-a093-3535f20c00ba\",\"type\":\"Grid\"},{\"id\":\"dfa1582d-3b47-4561-885c-99690020bf73\",\"type\":\"LinearAxis\"},{\"id\":\"e0b0b3c6-98da-47fc-9cc5-1fe4f85f4b11\",\"type\":\"Grid\"},{\"id\":\"3e814312-da2d-499d-8a22-0d6f69e7618f\",\"type\":\"BoxAnnotation\"}],\"title\":{\"id\":\"94f2a641-36ce-46e1-b8e6-7fe0d7d4c679\",\"type\":\"Title\"},\"title_location\":\"right\",\"toolbar\":{\"id\":\"a81089a0-5ab9-45c1-b64a-e6e6ba2aacd6\",\"type\":\"Toolbar\"},\"toolbar_location\":null,\"x_range\":{\"id\":\"52cfd007-13bf-46df-a8cb-103649f37597\",\"type\":\"DataRange1d\"},\"x_scale\":{\"id\":\"b7cca397-c5c0-4297-946a-03c5f2536fa6\",\"type\":\"LinearScale\"},\"y_range\":{\"id\":\"6013c34d-e65d-4fb4-b9a1-8d96b1c700c1\",\"type\":\"DataRange1d\"},\"y_scale\":{\"id\":\"e4a95d88-7761-46a4-943d-dee08da7cf7d\",\"type\":\"LinearScale\"}},\"id\":\"4af46392-97ac-4532-bf41-318c66947897\",\"subtype\":\"Figure\",\"type\":\"Plot\"},{\"attributes\":{},\"id\":\"671960bb-95f0-4bcb-8687-8436adc628bf\",\"type\":\"LogTicker\"},{\"attributes\":{\"below\":[{\"id\":\"e92ea5d2-f5ef-470d-be1a-18ac0dc7d4d0\",\"type\":\"LinearAxis\"}],\"left\":[{\"id\":\"96bb65f3-26fa-49b8-ab9c-3a7ff76fde2b\",\"type\":\"LinearAxis\"}],\"plot_height\":800,\"plot_width\":800,\"renderers\":[{\"id\":\"e92ea5d2-f5ef-470d-be1a-18ac0dc7d4d0\",\"type\":\"LinearAxis\"},{\"id\":\"c7cf681c-cddd-4cf0-889f-7910b6e56db2\",\"type\":\"Grid\"},{\"id\":\"96bb65f3-26fa-49b8-ab9c-3a7ff76fde2b\",\"type\":\"LinearAxis\"},{\"id\":\"18762aa4-8bb7-43ec-8496-000df6255e35\",\"type\":\"Grid\"},{\"id\":\"f4ff281e-2ad7-4b75-a4da-805fb1120f1f\",\"type\":\"BoxAnnotation\"},{\"id\":\"3c325f01-632f-42c5-a3c7-33ec6b0fe59c\",\"type\":\"GlyphRenderer\"},{\"id\":\"38050b1a-671c-40a4-9e15-fdfb7427e592\",\"type\":\"GlyphRenderer\"},{\"id\":\"569b9665-e4f1-44c5-bdc6-467580fb077a\",\"type\":\"ColorBar\"}],\"right\":[{\"id\":\"569b9665-e4f1-44c5-bdc6-467580fb077a\",\"type\":\"ColorBar\"}],\"title\":{\"id\":\"8073f784-9a9c-43fa-98ad-ee609c934fdb\",\"type\":\"Title\"},\"toolbar\":{\"id\":\"8781a13f-a6f7-4d27-8659-b11906583dc6\",\"type\":\"Toolbar\"},\"toolbar_location\":null,\"x_range\":{\"id\":\"38f40d13-26cc-48ce-a9ee-7179b81493d4\",\"type\":\"DataRange1d\"},\"x_scale\":{\"id\":\"aaefc045-2343-4fa6-a291-d42415d9e916\",\"type\":\"LinearScale\"},\"y_range\":{\"id\":\"05cb70af-3f3a-41f5-a12a-5896faa777e8\",\"type\":\"DataRange1d\"},\"y_scale\":{\"id\":\"8f1cbd7c-aa53-4ad3-ac69-545997897f3f\",\"type\":\"LinearScale\"}},\"id\":\"498b09aa-d8a8-4a28-9dc5-eb649b0206ca\",\"subtype\":\"Figure\",\"type\":\"Plot\"},{\"attributes\":{\"plot\":null,\"text\":\"Real GDP Legend Bar (USD)\"},\"id\":\"94f2a641-36ce-46e1-b8e6-7fe0d7d4c679\",\"type\":\"Title\"},{\"attributes\":{\"callback\":null},\"id\":\"52cfd007-13bf-46df-a8cb-103649f37597\",\"type\":\"DataRange1d\"},{\"attributes\":{\"active_drag\":\"auto\",\"active_inspect\":\"auto\",\"active_scroll\":\"auto\",\"active_tap\":\"auto\",\"tools\":[{\"id\":\"748fd59f-81aa-4067-9bd5-9b99ccaba470\",\"type\":\"PanTool\"},{\"id\":\"2858a824-7fcf-49e3-8eb6-4614d4ccbc17\",\"type\":\"WheelZoomTool\"},{\"id\":\"86721108-347c-4846-b79f-1d6c875b3a7a\",\"type\":\"BoxZoomTool\"},{\"id\":\"24b00755-7300-49b9-b416-bf6ca083184e\",\"type\":\"SaveTool\"},{\"id\":\"02ac0b22-ad7b-45f5-99ed-a05b23cdc15c\",\"type\":\"ResetTool\"},{\"id\":\"5e31f818-2a63-4ddb-b5a5-2c548b433c91\",\"type\":\"HelpTool\"}]},\"id\":\"a81089a0-5ab9-45c1-b64a-e6e6ba2aacd6\",\"type\":\"Toolbar\"},{\"attributes\":{},\"id\":\"b7cca397-c5c0-4297-946a-03c5f2536fa6\",\"type\":\"LinearScale\"},{\"attributes\":{\"callback\":null},\"id\":\"6013c34d-e65d-4fb4-b9a1-8d96b1c700c1\",\"type\":\"DataRange1d\"},{\"attributes\":{},\"id\":\"e4a95d88-7761-46a4-943d-dee08da7cf7d\",\"type\":\"LinearScale\"},{\"attributes\":{\"plot\":{\"id\":\"4af46392-97ac-4532-bf41-318c66947897\",\"subtype\":\"Figure\",\"type\":\"Plot\"},\"ticker\":{\"id\":\"790ebd19-2fc3-4e66-b615-14e1da0b2c37\",\"type\":\"BasicTicker\"}},\"id\":\"e69d6d5d-ff7b-4d51-a093-3535f20c00ba\",\"type\":\"Grid\"},{\"attributes\":{\"formatter\":{\"id\":\"d5970d9e-20e0-4421-b835-74a02cf6d5cd\",\"type\":\"BasicTickFormatter\"},\"plot\":{\"id\":\"4af46392-97ac-4532-bf41-318c66947897\",\"subtype\":\"Figure\",\"type\":\"Plot\"},\"ticker\":{\"id\":\"790ebd19-2fc3-4e66-b615-14e1da0b2c37\",\"type\":\"BasicTicker\"}},\"id\":\"3e844c4a-f5cc-4cff-854e-556970c6e77b\",\"type\":\"LinearAxis\"},{\"attributes\":{},\"id\":\"790ebd19-2fc3-4e66-b615-14e1da0b2c37\",\"type\":\"BasicTicker\"},{\"attributes\":{\"formatter\":{\"id\":\"f4d99612-f2ec-4bbf-b53b-c46d8ddefc1b\",\"type\":\"BasicTickFormatter\"},\"plot\":{\"id\":\"4af46392-97ac-4532-bf41-318c66947897\",\"subtype\":\"Figure\",\"type\":\"Plot\"},\"ticker\":{\"id\":\"3a0d24a1-c65e-4227-86ff-74bae898046a\",\"type\":\"BasicTicker\"}},\"id\":\"dfa1582d-3b47-4561-885c-99690020bf73\",\"type\":\"LinearAxis\"},{\"attributes\":{},\"id\":\"3a0d24a1-c65e-4227-86ff-74bae898046a\",\"type\":\"BasicTicker\"},{\"attributes\":{\"dimension\":1,\"plot\":{\"id\":\"4af46392-97ac-4532-bf41-318c66947897\",\"subtype\":\"Figure\",\"type\":\"Plot\"},\"ticker\":{\"id\":\"3a0d24a1-c65e-4227-86ff-74bae898046a\",\"type\":\"BasicTicker\"}},\"id\":\"e0b0b3c6-98da-47fc-9cc5-1fe4f85f4b11\",\"type\":\"Grid\"},{\"attributes\":{},\"id\":\"3c05fb87-44d0-4384-b3c1-700a2f1f26e1\",\"type\":\"BasicTickFormatter\"},{\"attributes\":{\"bottom_units\":\"screen\",\"fill_alpha\":{\"value\":0.5},\"fill_color\":{\"value\":\"lightgrey\"},\"left_units\":\"screen\",\"level\":\"overlay\",\"line_alpha\":{\"value\":1.0},\"line_color\":{\"value\":\"black\"},\"line_dash\":[4,4],\"line_width\":{\"value\":2},\"plot\":null,\"render_mode\":\"css\",\"right_units\":\"screen\",\"top_units\":\"screen\"},\"id\":\"3e814312-da2d-499d-8a22-0d6f69e7618f\",\"type\":\"BoxAnnotation\"},{\"attributes\":{},\"id\":\"748fd59f-81aa-4067-9bd5-9b99ccaba470\",\"type\":\"PanTool\"},{\"attributes\":{},\"id\":\"7bfec366-81a9-45aa-82e9-91ea0d0a2f09\",\"type\":\"BasicTickFormatter\"},{\"attributes\":{},\"id\":\"2858a824-7fcf-49e3-8eb6-4614d4ccbc17\",\"type\":\"WheelZoomTool\"},{\"attributes\":{\"overlay\":{\"id\":\"3e814312-da2d-499d-8a22-0d6f69e7618f\",\"type\":\"BoxAnnotation\"}},\"id\":\"86721108-347c-4846-b79f-1d6c875b3a7a\",\"type\":\"BoxZoomTool\"},{\"attributes\":{},\"id\":\"24b00755-7300-49b9-b416-bf6ca083184e\",\"type\":\"SaveTool\"},{\"attributes\":{},\"id\":\"02ac0b22-ad7b-45f5-99ed-a05b23cdc15c\",\"type\":\"ResetTool\"},{\"attributes\":{},\"id\":\"5e31f818-2a63-4ddb-b5a5-2c548b433c91\",\"type\":\"HelpTool\"},{\"attributes\":{},\"id\":\"f4d99612-f2ec-4bbf-b53b-c46d8ddefc1b\",\"type\":\"BasicTickFormatter\"},{\"attributes\":{},\"id\":\"ebe68409-fad0-44f0-9e57-dbc4c45c6cf7\",\"type\":\"BasicTickFormatter\"},{\"attributes\":{},\"id\":\"aa4a5b4a-02b4-4b3c-b1a9-e152ae15c80b\",\"type\":\"Selection\"},{\"attributes\":{},\"id\":\"b3348979-0f8d-443a-8231-c52329bca104\",\"type\":\"UnionRenderers\"},{\"attributes\":{},\"id\":\"d6f0e233-8855-414a-b52b-b0366dcb594e\",\"type\":\"UnionRenderers\"},{\"attributes\":{},\"id\":\"fd097403-0635-4193-b501-b31f7fcf593e\",\"type\":\"Selection\"},{\"attributes\":{\"active_drag\":\"auto\",\"active_inspect\":\"auto\",\"active_scroll\":\"auto\",\"active_tap\":\"auto\",\"logo\":null,\"tools\":[{\"id\":\"6904c50f-76e7-474b-9f58-ba8512890c2b\",\"type\":\"PanTool\"},{\"id\":\"871e1b71-e77c-459c-bc5c-9a8f68348fb8\",\"type\":\"WheelZoomTool\"},{\"id\":\"666ef399-94a8-4823-93de-07a9b1e5b0e0\",\"type\":\"BoxZoomTool\"},{\"id\":\"e2252ed3-c303-4ec6-b504-356c34086124\",\"type\":\"SaveTool\"},{\"id\":\"c24136ad-5444-4f98-b0ca-3468b16c18e0\",\"type\":\"ResetTool\"},{\"id\":\"366df4b5-b180-45d5-9afe-155eb2d4bad8\",\"type\":\"HelpTool\"},{\"id\":\"13e57d27-d986-4984-92c6-0e0433549889\",\"type\":\"HoverTool\"},{\"id\":\"26f58762-f9c0-4320-882a-6373e8d07e74\",\"type\":\"HoverTool\"}]},\"id\":\"8781a13f-a6f7-4d27-8659-b11906583dc6\",\"type\":\"Toolbar\"},{\"attributes\":{\"plot\":null,\"text\":\"Number of entities offshore vs tax rate (Major developing countries)\",\"text_color\":{\"value\":\"grey\"},\"text_font_size\":{\"value\":\"11pt\"},\"text_font_style\":\"normal\"},\"id\":\"8073f784-9a9c-43fa-98ad-ee609c934fdb\",\"type\":\"Title\"},{\"attributes\":{\"children\":[{\"id\":\"498b09aa-d8a8-4a28-9dc5-eb649b0206ca\",\"subtype\":\"Figure\",\"type\":\"Plot\"},{\"id\":\"4af46392-97ac-4532-bf41-318c66947897\",\"subtype\":\"Figure\",\"type\":\"Plot\"}]},\"id\":\"1d86a47b-a0ad-40ac-b884-384aba31bb6e\",\"type\":\"Row\"},{\"attributes\":{\"fill_alpha\":{\"value\":0.5},\"fill_color\":{\"field\":\"c\",\"transform\":{\"id\":\"18ba8028-0f01-4e89-9e89-84c2506384e6\",\"type\":\"LogColorMapper\"}},\"line_alpha\":{\"value\":0.5},\"line_color\":{\"field\":\"c\",\"transform\":{\"id\":\"18ba8028-0f01-4e89-9e89-84c2506384e6\",\"type\":\"LogColorMapper\"}},\"radius\":{\"units\":\"data\",\"value\":1},\"x\":{\"field\":\"x\"},\"y\":{\"field\":\"y\"}},\"id\":\"706f75e6-3292-4648-a368-f6633bf57694\",\"type\":\"Circle\"},{\"attributes\":{\"callback\":null,\"renderers\":[{\"id\":\"38050b1a-671c-40a4-9e15-fdfb7427e592\",\"type\":\"GlyphRenderer\"}],\"tooltips\":[[\"Set of Country\",\"Developing countries, p-value=0.001\"]]},\"id\":\"26f58762-f9c0-4320-882a-6373e8d07e74\",\"type\":\"HoverTool\"}],\"root_ids\":[\"1d86a47b-a0ad-40ac-b884-384aba31bb6e\"]},\"title\":\"Bokeh Application\",\"version\":\"0.12.16\"}};\n",
       "  var render_items = [{\"docid\":\"d946dede-cb93-4b17-a247-ee5411c68751\",\"elementid\":\"7c785186-aec2-4caf-ba07-c19e496b19f9\",\"modelid\":\"1d86a47b-a0ad-40ac-b884-384aba31bb6e\"}];\n",
       "  root.Bokeh.embed.embed_items_notebook(docs_json, render_items);\n",
       "\n",
       "  }\n",
       "  if (root.Bokeh !== undefined) {\n",
       "    embed_document(root);\n",
       "  } else {\n",
       "    var attempts = 0;\n",
       "    var timer = setInterval(function(root) {\n",
       "      if (root.Bokeh !== undefined) {\n",
       "        embed_document(root);\n",
       "        clearInterval(timer);\n",
       "      }\n",
       "      attempts++;\n",
       "      if (attempts > 100) {\n",
       "        console.log(\"Bokeh: ERROR: Unable to run BokehJS code because BokehJS library is missing\")\n",
       "        clearInterval(timer);\n",
       "      }\n",
       "    }, 10, root)\n",
       "  }\n",
       "})(window);"
      ],
      "application/vnd.bokehjs_exec.v0+json": ""
     },
     "metadata": {
      "application/vnd.bokehjs_exec.v0+json": {
       "id": "1d86a47b-a0ad-40ac-b884-384aba31bb6e"
      }
     },
     "output_type": "display_data"
    }
   ],
   "source": [
    "selection=country_count_tax_rate['GDP_y'].apply(lambda x: x<15000) & country_count_tax_rate['GDP_x'].apply(lambda x: x>40*10e9)\n",
    "\n",
    "x = country_count_tax_rate['Tax Rate'][selection]\n",
    "y = np.log10(country_count_tax_rate['n_companies_offshore'][selection]/country_count_tax_rate['GDP_x'][selection])\n",
    "country_names=country_count_tax_rate['Country Name'][selection]\n",
    "c = country_count_tax_rate['GDP_x'][selection]\n",
    "c[c.isna()]=0\n",
    "\n",
    "# set the regression line\n",
    "df=pd.DataFrame({'Tax Rate':x,'n_companies_offshore':y})\n",
    "df=df.dropna(inplace=False)\n",
    "a=np.array(df['Tax Rate'])\n",
    "b=np.array(df['n_companies_offshore'])\n",
    "\n",
    "m,i,r,p_value,std=stats.linregress(a,b)\n",
    "\n",
    "\n",
    "# establish the color mapper schema\n",
    "color_mapper = LogColorMapper(palette=\"Colorblind4\", low=min(c),\\\n",
    "                              high=max(c))\n",
    "\n",
    "# establish the sources of data to make the interactive graph\n",
    "source=ColumnDataSource(data=dict(\n",
    "    x=list(x),\n",
    "    y=list(y),\n",
    "    country=list(country_names),\n",
    "    c=list(c),\n",
    "))\n",
    "\n",
    "p = figure(title=\"Number of entities offshore vs tax rate (Major developing countries)\", plot_width=800, plot_height=800)\n",
    "scatter=p.scatter(x='x', y='y', radius=1, source=source, color={'field': 'c', 'transform': color_mapper}, alpha=0.5)\n",
    "hover= HoverTool(tooltips = [(\"Country\", \"@country\"),(\"(Tax Rate, Log(number of entities offshore))\", \"($x, $y)\")],renderers=[scatter])\n",
    "p.add_tools(hover)\n",
    "\n",
    "line=p.line(df['Tax Rate'], m*df['Tax Rate']+i, line_width=4, color='navy', alpha=0.1)\n",
    "hover0=HoverTool(tooltips = [(\"Set of Country\",'Developing countries, p-value='+str(p_value)[:5])], renderers=[line])\n",
    "p.add_tools(hover0)\n",
    "\n",
    "# set the style of the title\n",
    "p.title.text_color = \"grey\"\n",
    "p.title.text_font = \"helvetica\"\n",
    "p.title.text_font_style = \"normal\"\n",
    "p.title.text_font_size = '11pt'\n",
    "\n",
    "# set the label options\n",
    "p.xaxis.axis_label='Tax Rate (%)'\n",
    "p.yaxis.axis_label='Number of Entities Offshore (log scale)'\n",
    "\n",
    "\n",
    "# set the color bar tab\n",
    "color_bar = ColorBar(color_mapper=color_mapper, ticker=LogTicker(),\n",
    "                     label_standoff=12, border_line_color=None, location=(0,0))\n",
    "\n",
    "# set the color bar title\n",
    "color_bar_height = 511\n",
    "color_bar_width = 35\n",
    "\n",
    "color_bar_plot = figure(title=\"Real GDP Legend Bar (USD)\", title_location=\"right\", \n",
    "                        height=color_bar_height, width=color_bar_width, \n",
    "                        toolbar_location=None, min_border=None, \n",
    "                        outline_line_color=None)\n",
    "\n",
    "# add the color bar\n",
    "p.add_layout(color_bar, 'right')\n",
    "\n",
    "# remove the interactive toolbar\n",
    "p.toolbar.logo = None\n",
    "p.toolbar_location = None\n",
    "\n",
    "layout = row_plot(p, color_bar_plot)\n",
    "output_file(\"developingcountries.html\", title=\"developingcountries\")\n",
    "show(layout)"
   ]
  },
  {
   "cell_type": "markdown",
   "metadata": {},
   "source": [
    "#### Seven Biggest Economies"
   ]
  },
  {
   "cell_type": "markdown",
   "metadata": {},
   "source": [
    "Graph of the biggest economies. The relationship between the 7 biggest economies and tax rate has been investigated. The economies almost correspond to the G7 countries, but China has taken the place of Canada. Even though these are the biggest economies in the world, the difference in size between them influence the probability of creating business and hence having companies offshore. As a consequence also in this case the GDP was used to weight the number of offshore entities present in the panama papers. \n",
    "\n",
    "All the countries with a total GDP `GDP_x`> 200 billions USD have been considered.\n",
    "\n",
    "The figure below shows a completely different picture, compared to the previous ones: taking out Japan, it seems to be a positive exponential relationship between tax rate and number of offshore entities for the economically strongest countries suggesting that in these countries (p-value=0.531), entities are escaping corporate taxation levels by putting their companies offshore. Japan represents an exception among the 7 biggest economies: even though it has a very high tax rate, the presence of Japanese entities in the documents is really low. This could be due to cultural reasons or might be due to the fact that Japanese entities use different means to go offshore and they are not very represented in the Panama Papers themselves."
   ]
  },
  {
   "cell_type": "code",
   "execution_count": 55,
   "metadata": {},
   "outputs": [
    {
     "data": {
      "text/html": [
       "\n",
       "<div class=\"bk-root\">\n",
       "    <div class=\"bk-plotdiv\" id=\"35995539-e9d8-49d5-bd7a-fbcb8f83093e\"></div>\n",
       "</div>"
      ]
     },
     "metadata": {},
     "output_type": "display_data"
    },
    {
     "data": {
      "application/javascript": [
       "(function(root) {\n",
       "  function embed_document(root) {\n",
       "    \n",
       "  var docs_json = {\"8bb04a5c-49b4-4889-a58c-0ceda1de7aea\":{\"roots\":{\"references\":[{\"attributes\":{\"bottom_units\":\"screen\",\"fill_alpha\":{\"value\":0.5},\"fill_color\":{\"value\":\"lightgrey\"},\"left_units\":\"screen\",\"level\":\"overlay\",\"line_alpha\":{\"value\":1.0},\"line_color\":{\"value\":\"black\"},\"line_dash\":[4,4],\"line_width\":{\"value\":2},\"plot\":null,\"render_mode\":\"css\",\"right_units\":\"screen\",\"top_units\":\"screen\"},\"id\":\"847457b9-a653-4339-a5ea-05d061656b62\",\"type\":\"BoxAnnotation\"},{\"attributes\":{\"source\":{\"id\":\"e34ea032-fa2c-4c45-a0c0-ab1176fa31c3\",\"type\":\"ColumnDataSource\"}},\"id\":\"b09279c5-fe95-4e2e-8e3a-68e19d3ea9c8\",\"type\":\"CDSView\"},{\"attributes\":{},\"id\":\"9a2be9e8-f970-488f-83ed-3292387ea438\",\"type\":\"PanTool\"},{\"attributes\":{\"dimension\":1,\"plot\":{\"id\":\"f3964e04-fb3f-4a3a-9f6a-df775084c9ff\",\"subtype\":\"Figure\",\"type\":\"Plot\"},\"ticker\":{\"id\":\"fbed8014-8912-4d50-ab29-5a98c81d56e5\",\"type\":\"BasicTicker\"}},\"id\":\"cd482c19-3fdd-4cca-8b58-1d4b8e8051fe\",\"type\":\"Grid\"},{\"attributes\":{},\"id\":\"1528e94d-1045-4468-ae7d-a13dbe761f22\",\"type\":\"UnionRenderers\"},{\"attributes\":{\"callback\":null,\"renderers\":[{\"id\":\"fbfc0869-b467-4e3f-83a6-8a6da53ad926\",\"type\":\"GlyphRenderer\"}],\"tooltips\":[[\"Set of Country\",\"Major biggest economies, p-value=0.531\"]]},\"id\":\"87c90284-cce6-4d97-bfad-04088b57dba7\",\"type\":\"HoverTool\"},{\"attributes\":{},\"id\":\"177984c5-12cb-420d-87eb-f9135c65bfb9\",\"type\":\"WheelZoomTool\"},{\"attributes\":{\"below\":[{\"id\":\"5f502d26-6be9-4740-94a4-f7689a21412b\",\"type\":\"LinearAxis\"}],\"left\":[{\"id\":\"720b2c6f-5b0d-4d8f-b5e8-40195e863a07\",\"type\":\"LinearAxis\"}],\"plot_height\":800,\"plot_width\":800,\"renderers\":[{\"id\":\"5f502d26-6be9-4740-94a4-f7689a21412b\",\"type\":\"LinearAxis\"},{\"id\":\"fa953cd0-5fa7-4463-9f4c-b8ff171fa04f\",\"type\":\"Grid\"},{\"id\":\"720b2c6f-5b0d-4d8f-b5e8-40195e863a07\",\"type\":\"LinearAxis\"},{\"id\":\"cd482c19-3fdd-4cca-8b58-1d4b8e8051fe\",\"type\":\"Grid\"},{\"id\":\"847457b9-a653-4339-a5ea-05d061656b62\",\"type\":\"BoxAnnotation\"},{\"id\":\"42e3a7e5-0e34-4863-8e1a-bc133d306d7d\",\"type\":\"GlyphRenderer\"},{\"id\":\"fbfc0869-b467-4e3f-83a6-8a6da53ad926\",\"type\":\"GlyphRenderer\"}],\"title\":{\"id\":\"b8c186b2-97c7-46d4-b6d8-aa6d0a52b772\",\"type\":\"Title\"},\"toolbar\":{\"id\":\"0e5f49ce-2c27-4c47-981b-5c266bb2bd66\",\"type\":\"Toolbar\"},\"toolbar_location\":null,\"x_range\":{\"id\":\"637be004-a121-44ef-9064-13d9111bf655\",\"type\":\"DataRange1d\"},\"x_scale\":{\"id\":\"107da866-dc16-403e-b86e-f43c01486397\",\"type\":\"LinearScale\"},\"y_range\":{\"id\":\"903b74d6-7841-4f35-a878-8fe68515927d\",\"type\":\"DataRange1d\"},\"y_scale\":{\"id\":\"dc1f16fb-8f36-475d-b9a1-20df88a1bdae\",\"type\":\"LinearScale\"}},\"id\":\"f3964e04-fb3f-4a3a-9f6a-df775084c9ff\",\"subtype\":\"Figure\",\"type\":\"Plot\"},{\"attributes\":{\"overlay\":{\"id\":\"847457b9-a653-4339-a5ea-05d061656b62\",\"type\":\"BoxAnnotation\"}},\"id\":\"6d85bbea-222d-4867-8e90-138535f2528a\",\"type\":\"BoxZoomTool\"},{\"attributes\":{},\"id\":\"2f4b5769-12ac-4cd5-904d-7dd865385dc5\",\"type\":\"SaveTool\"},{\"attributes\":{},\"id\":\"30cc279a-e15e-4bda-a1f2-0314d1ca919f\",\"type\":\"ResetTool\"},{\"attributes\":{},\"id\":\"8769c38d-0191-4c6b-b8b5-ab8826dc3d60\",\"type\":\"HelpTool\"},{\"attributes\":{\"fill_alpha\":{\"value\":0.6},\"fill_color\":{\"value\":\"#1f77b4\"},\"line_color\":{\"value\":\"#1f77b4\"},\"radius\":{\"units\":\"data\",\"value\":1},\"x\":{\"field\":\"x\"},\"y\":{\"field\":\"y\"}},\"id\":\"b4c7a302-da96-4fa1-9d26-b247ff46a243\",\"type\":\"Circle\"},{\"attributes\":{\"line_alpha\":0.1,\"line_color\":\"#1f77b4\",\"line_width\":4,\"x\":{\"field\":\"x\"},\"y\":{\"field\":\"y\"}},\"id\":\"f892dfc2-75a5-44e7-86f9-97a4b5a00141\",\"type\":\"Line\"},{\"attributes\":{\"callback\":null,\"renderers\":[{\"id\":\"42e3a7e5-0e34-4863-8e1a-bc133d306d7d\",\"type\":\"GlyphRenderer\"}],\"tooltips\":[[\"Country\",\"@country\"],[\"(Tax Rate, Log(number of entities offshore))\",\"($x, $y)\"]]},\"id\":\"2c9f1216-3fc3-46ef-9e33-39ff73827351\",\"type\":\"HoverTool\"},{\"attributes\":{\"fill_alpha\":{\"value\":0.1},\"fill_color\":{\"value\":\"#1f77b4\"},\"line_alpha\":{\"value\":0.1},\"line_color\":{\"value\":\"#1f77b4\"},\"radius\":{\"units\":\"data\",\"value\":1},\"x\":{\"field\":\"x\"},\"y\":{\"field\":\"y\"}},\"id\":\"c3dbfedf-edd7-4a9f-a7d0-c34447533b55\",\"type\":\"Circle\"},{\"attributes\":{\"callback\":null,\"data\":{\"x\":{\"__ndarray__\":\"aW7IMDXCQUDDvoLdW2k3QP9IsYPtNkpAht5P7kUzQEAROvWT4M44QJc8rIHCETBA\",\"dtype\":\"float64\",\"shape\":[6]},\"y\":{\"__ndarray__\":\"mmPonTf/IsAyzElvK2UjwNyyLq/JcCLAXcKfKHcZI8D9VxV3aFkjwPf1DCcBoyPA\",\"dtype\":\"float64\",\"shape\":[6]}},\"selected\":{\"id\":\"e6568a06-1fa9-4460-8789-fdf9b296cb0f\",\"type\":\"Selection\"},\"selection_policy\":{\"id\":\"0fd53780-d1b4-4df6-ae6c-c92393c9488f\",\"type\":\"UnionRenderers\"}},\"id\":\"a98c452e-19bb-4ffd-9171-5fa47c2bb8a5\",\"type\":\"ColumnDataSource\"},{\"attributes\":{\"line_alpha\":0.1,\"line_color\":\"navy\",\"line_width\":4,\"x\":{\"field\":\"x\"},\"y\":{\"field\":\"y\"}},\"id\":\"1c35df3b-7fa4-4ff4-8d48-12969c2a912c\",\"type\":\"Line\"},{\"attributes\":{},\"id\":\"74b5791a-a399-4ff5-bfcc-9cd67845c1d6\",\"type\":\"BasicTickFormatter\"},{\"attributes\":{\"data_source\":{\"id\":\"a98c452e-19bb-4ffd-9171-5fa47c2bb8a5\",\"type\":\"ColumnDataSource\"},\"glyph\":{\"id\":\"1c35df3b-7fa4-4ff4-8d48-12969c2a912c\",\"type\":\"Line\"},\"hover_glyph\":null,\"muted_glyph\":null,\"nonselection_glyph\":{\"id\":\"f892dfc2-75a5-44e7-86f9-97a4b5a00141\",\"type\":\"Line\"},\"selection_glyph\":null,\"view\":{\"id\":\"8c78cf3b-59ec-4cf1-8433-197a6c545825\",\"type\":\"CDSView\"}},\"id\":\"fbfc0869-b467-4e3f-83a6-8a6da53ad926\",\"type\":\"GlyphRenderer\"},{\"attributes\":{\"source\":{\"id\":\"a98c452e-19bb-4ffd-9171-5fa47c2bb8a5\",\"type\":\"ColumnDataSource\"}},\"id\":\"8c78cf3b-59ec-4cf1-8433-197a6c545825\",\"type\":\"CDSView\"},{\"attributes\":{},\"id\":\"516ec67d-1022-4ad3-80f9-4bef0a89753a\",\"type\":\"BasicTickFormatter\"},{\"attributes\":{\"active_drag\":\"auto\",\"active_inspect\":\"auto\",\"active_scroll\":\"auto\",\"active_tap\":\"auto\",\"logo\":null,\"tools\":[{\"id\":\"9a2be9e8-f970-488f-83ed-3292387ea438\",\"type\":\"PanTool\"},{\"id\":\"177984c5-12cb-420d-87eb-f9135c65bfb9\",\"type\":\"WheelZoomTool\"},{\"id\":\"6d85bbea-222d-4867-8e90-138535f2528a\",\"type\":\"BoxZoomTool\"},{\"id\":\"2f4b5769-12ac-4cd5-904d-7dd865385dc5\",\"type\":\"SaveTool\"},{\"id\":\"30cc279a-e15e-4bda-a1f2-0314d1ca919f\",\"type\":\"ResetTool\"},{\"id\":\"8769c38d-0191-4c6b-b8b5-ab8826dc3d60\",\"type\":\"HelpTool\"},{\"id\":\"2c9f1216-3fc3-46ef-9e33-39ff73827351\",\"type\":\"HoverTool\"},{\"id\":\"87c90284-cce6-4d97-bfad-04088b57dba7\",\"type\":\"HoverTool\"}]},\"id\":\"0e5f49ce-2c27-4c47-981b-5c266bb2bd66\",\"type\":\"Toolbar\"},{\"attributes\":{},\"id\":\"e6568a06-1fa9-4460-8789-fdf9b296cb0f\",\"type\":\"Selection\"},{\"attributes\":{},\"id\":\"edb9f3b9-e5b5-4e86-b42d-a4c3772da7e9\",\"type\":\"Selection\"},{\"attributes\":{},\"id\":\"0fd53780-d1b4-4df6-ae6c-c92393c9488f\",\"type\":\"UnionRenderers\"},{\"attributes\":{\"data_source\":{\"id\":\"e34ea032-fa2c-4c45-a0c0-ab1176fa31c3\",\"type\":\"ColumnDataSource\"},\"glyph\":{\"id\":\"b4c7a302-da96-4fa1-9d26-b247ff46a243\",\"type\":\"Circle\"},\"hover_glyph\":null,\"muted_glyph\":null,\"nonselection_glyph\":{\"id\":\"c3dbfedf-edd7-4a9f-a7d0-c34447533b55\",\"type\":\"Circle\"},\"selection_glyph\":null,\"view\":{\"id\":\"b09279c5-fe95-4e2e-8e3a-68e19d3ea9c8\",\"type\":\"CDSView\"}},\"id\":\"42e3a7e5-0e34-4863-8e1a-bc133d306d7d\",\"type\":\"GlyphRenderer\"},{\"attributes\":{\"plot\":null,\"text\":\"Number of entities offshore vs tax rate (G7 countries)\",\"text_color\":{\"value\":\"grey\"},\"text_font_size\":{\"value\":\"11pt\"},\"text_font_style\":\"normal\"},\"id\":\"b8c186b2-97c7-46d4-b6d8-aa6d0a52b772\",\"type\":\"Title\"},{\"attributes\":{\"axis_label\":\"Number of Entities Offshore (log scale)\",\"formatter\":{\"id\":\"516ec67d-1022-4ad3-80f9-4bef0a89753a\",\"type\":\"BasicTickFormatter\"},\"plot\":{\"id\":\"f3964e04-fb3f-4a3a-9f6a-df775084c9ff\",\"subtype\":\"Figure\",\"type\":\"Plot\"},\"ticker\":{\"id\":\"fbed8014-8912-4d50-ab29-5a98c81d56e5\",\"type\":\"BasicTicker\"}},\"id\":\"720b2c6f-5b0d-4d8f-b5e8-40195e863a07\",\"type\":\"LinearAxis\"},{\"attributes\":{\"callback\":null},\"id\":\"637be004-a121-44ef-9064-13d9111bf655\",\"type\":\"DataRange1d\"},{\"attributes\":{\"callback\":null},\"id\":\"903b74d6-7841-4f35-a878-8fe68515927d\",\"type\":\"DataRange1d\"},{\"attributes\":{\"callback\":null,\"data\":{\"country\":[\"United Kingdom\",\"China\",\"United States\",\"Italy\",\"France\",\"Germany\",\"Japan\",\"Arab World\",\"East Asia & Pacific (excluding high income)\",\"Early-demographic dividend\",\"East Asia & Pacific\",\"Europe & Central Asia (excluding high income)\",\"Europe & Central Asia\",\"Euro area\",\"European Union\",\"High income\",\"IBRD only\",\"IDA & IBRD total\",\"Latin America & Caribbean (excluding high income)\",\"Latin America & Caribbean\",\"Lower middle income\",\"Low & middle income\",\"Late-demographic dividend\",\"Middle East & North Africa\",\"Middle income\",\"North America\",\"OECD members\",\"Post-demographic dividend\",\"East Asia & Pacific (IDA & IBRD countries)\",\"Europe & Central Asia (IDA & IBRD countries)\",\"Latin America & the Caribbean (IDA & IBRD countries)\",\"Upper middle income\",\"World\"],\"x\":[35.517248247019616,23.411558002872663,52.42912336498738,32.40057162189355,24.8081142877291,16.069374184179278,47.953641203888644,22.879864300338266,32.928331692868475,23.555895522134193,35.002556166180845,13.506365350123907,17.955975666370687,23.0363693555026,19.372305257930893,25.327531180548952,22.143621483164054,20.2082113781262,24.52537795337311,24.492867749367917,23.176944883445955,20.393794932106456,18.89238963081335,22.5640510966177,21.582316467110125,53.16675972304939,26.376310217559762,24.921280943533283,32.928331692868475,12.925554936259733,24.492867749367917,19.385877222777477,21.738515869508497],\"y\":[-8.438802888543808,-9.311579096652695,-9.701512223196582,-9.766561839111558,-9.949760820648246,-10.29087059714886,-11.322391599628821,\"NaN\",\"NaN\",\"NaN\",\"NaN\",\"NaN\",\"NaN\",\"NaN\",\"NaN\",\"NaN\",\"NaN\",\"NaN\",\"NaN\",\"NaN\",\"NaN\",\"NaN\",\"NaN\",\"NaN\",\"NaN\",\"NaN\",\"NaN\",\"NaN\",\"NaN\",\"NaN\",\"NaN\",\"NaN\",\"NaN\"]},\"selected\":{\"id\":\"edb9f3b9-e5b5-4e86-b42d-a4c3772da7e9\",\"type\":\"Selection\"},\"selection_policy\":{\"id\":\"1528e94d-1045-4468-ae7d-a13dbe761f22\",\"type\":\"UnionRenderers\"}},\"id\":\"e34ea032-fa2c-4c45-a0c0-ab1176fa31c3\",\"type\":\"ColumnDataSource\"},{\"attributes\":{},\"id\":\"107da866-dc16-403e-b86e-f43c01486397\",\"type\":\"LinearScale\"},{\"attributes\":{},\"id\":\"dc1f16fb-8f36-475d-b9a1-20df88a1bdae\",\"type\":\"LinearScale\"},{\"attributes\":{\"plot\":{\"id\":\"f3964e04-fb3f-4a3a-9f6a-df775084c9ff\",\"subtype\":\"Figure\",\"type\":\"Plot\"},\"ticker\":{\"id\":\"23540ac7-0df4-47ac-8829-f9e63acc0860\",\"type\":\"BasicTicker\"}},\"id\":\"fa953cd0-5fa7-4463-9f4c-b8ff171fa04f\",\"type\":\"Grid\"},{\"attributes\":{},\"id\":\"23540ac7-0df4-47ac-8829-f9e63acc0860\",\"type\":\"BasicTicker\"},{\"attributes\":{\"axis_label\":\"Tax Rate (%)\",\"formatter\":{\"id\":\"74b5791a-a399-4ff5-bfcc-9cd67845c1d6\",\"type\":\"BasicTickFormatter\"},\"plot\":{\"id\":\"f3964e04-fb3f-4a3a-9f6a-df775084c9ff\",\"subtype\":\"Figure\",\"type\":\"Plot\"},\"ticker\":{\"id\":\"23540ac7-0df4-47ac-8829-f9e63acc0860\",\"type\":\"BasicTicker\"}},\"id\":\"5f502d26-6be9-4740-94a4-f7689a21412b\",\"type\":\"LinearAxis\"},{\"attributes\":{},\"id\":\"fbed8014-8912-4d50-ab29-5a98c81d56e5\",\"type\":\"BasicTicker\"}],\"root_ids\":[\"f3964e04-fb3f-4a3a-9f6a-df775084c9ff\"]},\"title\":\"Bokeh Application\",\"version\":\"0.12.16\"}};\n",
       "  var render_items = [{\"docid\":\"8bb04a5c-49b4-4889-a58c-0ceda1de7aea\",\"elementid\":\"35995539-e9d8-49d5-bd7a-fbcb8f83093e\",\"modelid\":\"f3964e04-fb3f-4a3a-9f6a-df775084c9ff\"}];\n",
       "  root.Bokeh.embed.embed_items_notebook(docs_json, render_items);\n",
       "\n",
       "  }\n",
       "  if (root.Bokeh !== undefined) {\n",
       "    embed_document(root);\n",
       "  } else {\n",
       "    var attempts = 0;\n",
       "    var timer = setInterval(function(root) {\n",
       "      if (root.Bokeh !== undefined) {\n",
       "        embed_document(root);\n",
       "        clearInterval(timer);\n",
       "      }\n",
       "      attempts++;\n",
       "      if (attempts > 100) {\n",
       "        console.log(\"Bokeh: ERROR: Unable to run BokehJS code because BokehJS library is missing\")\n",
       "        clearInterval(timer);\n",
       "      }\n",
       "    }, 10, root)\n",
       "  }\n",
       "})(window);"
      ],
      "application/vnd.bokehjs_exec.v0+json": ""
     },
     "metadata": {
      "application/vnd.bokehjs_exec.v0+json": {
       "id": "f3964e04-fb3f-4a3a-9f6a-df775084c9ff"
      }
     },
     "output_type": "display_data"
    }
   ],
   "source": [
    "selection=country_count_tax_rate['GDP_x'].apply(lambda x: x>200*10e9)\n",
    "x = country_count_tax_rate['Tax Rate'][selection]\n",
    "y = np.log10(country_count_tax_rate['n_companies_offshore'][selection]/country_count_tax_rate['GDP_x'][selection])\n",
    "country_names=country_count_tax_rate['Country Name'][selection]\n",
    "\n",
    "# establish the sources of data to make the interactive graph\n",
    "source=ColumnDataSource(data=dict(\n",
    "    x=list(x),\n",
    "    y=list(y),\n",
    "    country=list(country_names),\n",
    "))\n",
    "\n",
    "# set the regression line\n",
    "df=pd.DataFrame({'Tax Rate':x,'n_companies_offshore':y, 'country_name':country_names})\n",
    "df=df[df['country_name'].apply(lambda x: str(x)!='Japan')]\n",
    "df=df.dropna(inplace=False)\n",
    "a=np.array(df['Tax Rate'])\n",
    "b=np.array(df['n_companies_offshore'])\n",
    "\n",
    "m,i,r,p_value,std=stats.linregress(a,b)\n",
    "\n",
    "p = figure(title=\"Number of entities offshore vs tax rate (G7 countries)\", plot_width=800, plot_height=800)\n",
    "scatter=p.scatter(x='x', y='y', radius=1, source=source, fill_alpha=0.6)\n",
    "hover= HoverTool(tooltips = [(\"Country\", \"@country\"),(\"(Tax Rate, Log(number of entities offshore))\", \"($x, $y)\")],renderers=[scatter])\n",
    "p.add_tools(hover)\n",
    "\n",
    "line=p.line(df['Tax Rate'], m*df['Tax Rate']+i, line_width=4, color='navy', alpha=0.1)\n",
    "hover0=HoverTool(tooltips = [(\"Set of Country\",'Major biggest economies, p-value='+str(p_value)[:5])], renderers=[line])\n",
    "p.add_tools(hover0)\n",
    "\n",
    "# set the style of the title\n",
    "p.title.text_color = \"grey\"\n",
    "p.title.text_font = \"helvetica\"\n",
    "p.title.text_font_style = \"normal\"\n",
    "p.title.text_font_size = '11pt'\n",
    "\n",
    "# set the label options\n",
    "p.xaxis.axis_label='Tax Rate (%)'\n",
    "p.yaxis.axis_label='Number of Entities Offshore (log scale)'\n",
    "\n",
    "# remove the interactive toolbar\n",
    "p.toolbar.logo = None\n",
    "p.toolbar_location = None\n",
    "\n",
    "output_file(\"taxrateg7.html\", title=\"taxrateg7\")\n",
    "\n",
    "show(p)"
   ]
  },
  {
   "cell_type": "markdown",
   "metadata": {},
   "source": [
    "#### Global Perspective"
   ]
  },
  {
   "cell_type": "markdown",
   "metadata": {},
   "source": [
    "Eventually after having analyzed the above set of countries, the global picture for developed countries has been drawn. Observing the figure, on a global scale it can be seen that there is no significant correlation between corporate tax rate and presence of offshore entities in the Panama Papers. However it is clear the a positive relationship between tax rate and number of offshore entities holds true for the major economies which are the biggest data points."
   ]
  },
  {
   "cell_type": "code",
   "execution_count": 56,
   "metadata": {},
   "outputs": [
    {
     "data": {
      "text/html": [
       "\n",
       "<div class=\"bk-root\">\n",
       "    <div class=\"bk-plotdiv\" id=\"a345f005-6c48-4cf0-a974-664b1260a158\"></div>\n",
       "</div>"
      ]
     },
     "metadata": {},
     "output_type": "display_data"
    },
    {
     "data": {
      "application/javascript": [
       "(function(root) {\n",
       "  function embed_document(root) {\n",
       "    \n",
       "  var docs_json = {\"02462f7b-c6db-495a-b89a-9365ef0316e5\":{\"roots\":{\"references\":[{\"attributes\":{\"active_drag\":\"auto\",\"active_inspect\":\"auto\",\"active_scroll\":\"auto\",\"active_tap\":\"auto\",\"tools\":[{\"id\":\"5601143f-98dd-437e-928d-0ac01cef6ba5\",\"type\":\"PanTool\"},{\"id\":\"3f5d3fe5-d674-4c4a-874f-ec0d4847d4ff\",\"type\":\"WheelZoomTool\"},{\"id\":\"93639878-8675-402e-b7fc-9600264704bc\",\"type\":\"BoxZoomTool\"},{\"id\":\"f5055dfb-ffe6-421f-bac8-65087916cd51\",\"type\":\"SaveTool\"},{\"id\":\"5a1f20ed-565b-4e57-9970-d720bb9dd927\",\"type\":\"ResetTool\"},{\"id\":\"0b8c95d7-8ab6-400a-91e1-b97a3e5138be\",\"type\":\"HelpTool\"}]},\"id\":\"b54cafa0-f1ca-403a-a7c7-7572b32e62e1\",\"type\":\"Toolbar\"},{\"attributes\":{},\"id\":\"64b4256a-32cb-4357-8781-cd9374f31096\",\"type\":\"BasicTickFormatter\"},{\"attributes\":{},\"id\":\"3d80d491-3bdf-4b80-81dd-e9e903694497\",\"type\":\"LinearScale\"},{\"attributes\":{\"plot\":{\"id\":\"fd5cd411-1e47-4a16-b438-c1050d7d6952\",\"subtype\":\"Figure\",\"type\":\"Plot\"},\"ticker\":{\"id\":\"23743c63-68df-451f-bf9f-e0f9cd0cb9ba\",\"type\":\"BasicTicker\"}},\"id\":\"f23b207f-e47a-4233-97ec-d1d58fa19f60\",\"type\":\"Grid\"},{\"attributes\":{\"formatter\":{\"id\":\"18b61257-55c6-4652-96dc-f69ed68bfd59\",\"type\":\"BasicTickFormatter\"},\"plot\":{\"id\":\"fd5cd411-1e47-4a16-b438-c1050d7d6952\",\"subtype\":\"Figure\",\"type\":\"Plot\"},\"ticker\":{\"id\":\"23743c63-68df-451f-bf9f-e0f9cd0cb9ba\",\"type\":\"BasicTicker\"}},\"id\":\"5489fd2f-a274-430e-b144-7de3402d4bff\",\"type\":\"LinearAxis\"},{\"attributes\":{\"callback\":null,\"data\":{\"c\":[72018.65437666667,34139.40517133333,59422.543726,100087.83314133335,42089.915140666664,39757.577518000006,29218.051776,65308.38069692308,44514.55255866667,27664.74357333333,148406.48335999998,49764.76171266667,136708.2832623077,92843.0,28837.613580666664,34200.0,15433.345880666666,20952.267600000003,29813.538158,40705.07343933333,43641.797792,34121.00105666667,54731.376007333325,39053.13763533334,20890.234439999997,23439.961054,47799.616809333325,41345.20783333333,84080.9525725,61454.453850000005,18780.275228999995,48650.63502733333,34351.70849666666,44990.741085333335,38738.524536,42371.086257999996,51225.98508066667,17885.757813533335,15598.824366666666,24371.613246,67222.99931133333,54857.40289799999,39495.30974066667,45337.413664666674,22043.319871333333,51894.66819999999,55580.77363533333,81474.63766466668,21083.044485333336,23614.7,22674.086322666666,16187.456759733333,37851.61739461539,16797.731021066666,15400.0,29936.964220714286,33225.774994666666,15635.492743466664,25675.560012857146,22789.411886666665,36284.8802,32979.10055133333,45708.10021307693,41742.81313000001,37487.459001333336,16270.95105,49161.402510666674,35162.51762399999,38759.095045999995,63952.17019533333],\"country\":[\"Switzerland\",\"Hong Kong SAR, China\",\"Channel Islands\",\"Luxembourg\",\"United Kingdom\",\"United Arab Emirates\",\"Bahamas, The\",\"Isle of Man\",\"Singapore\",\"Cyprus\",\"Monaco\",\"United States\",\"Liechtenstein\",\"Gibraltar\",\"Spain\",\"British Virgin Islands\",\"Estonia\",\"Malta\",\"Israel\",\"Andorra\",\"Canada\",\"Italy\",\"Ireland\",\"France\",\"Portugal\",\"Greece\",\"Netherlands\",\"Germany\",\"Bermuda\",\"Cayman Islands\",\"Saudi Arabia\",\"Australia\",\"New Zealand\",\"Finland\",\"Kuwait\",\"Belgium\",\"Sweden\",\"Czech Republic\",\"Barbados\",\"Aruba\",\"Qatar\",\"Macao SAR, China\",\"Japan\",\"Austria\",\"Slovenia\",\"Iceland\",\"Denmark\",\"Norway\",\"Bahrain\",\"Turks and Caicos Islands\",\"Korea, Rep.\",\"Trinidad and Tobago\",\"Virgin Islands (U.S.)\",\"Oman\",\"Sint Maarten (Dutch part)\",\"Guam\",\"Brunei Darussalam\",\"Slovak Republic\",\"Puerto Rico\",\"Europe & Central Asia\",\"Euro area\",\"European Union\",\"Faroe Islands\",\"Greenland\",\"High income\",\"Northern Mariana Islands\",\"North America\",\"OECD members\",\"Post-demographic dividend\",\"San Marino\"],\"radii\":[0.5693333333333334,0.242,0.009180787954799999,0.051926314674133334,2.642,0.2939333333333333,0.010487996,0.005216143943461538,0.22713342517126667,0.0223948112652,0.0053019315456,15.42,0.004922173236692307,0.002288,1.3178,0.00085,0.020522609297333332,0.008885728832533333,0.23206666666666664,0.0032743078311333333,1.4928,2.021333333333333,0.24646666666666664,2.5386666666666664,0.21886666666666665,0.25766666666666665,0.7952666666666666,3.38,0.005418704083333333,0.0033435162565,0.5310666666666667,1.0883333333333334,0.15108339236999999,0.24159999999999998,0.11894092618106666,0.46266666666666667,0.48346666666666666,0.18650847601826667,0.004360533065399999,0.0024484849163,0.121546062271,0.030812990994333333,5.042,0.3818666666666667,0.044952051246333335,0.016469675328666666,0.3088,0.4010666666666667,0.025255331046133336,0.000797,1.1284,0.0215629590588,0.004098230769230769,0.055848738621466665,0.0007947,0.004784571428571428,0.01304916189,0.0844086741296,0.09416219659285714,20.293333333333333,12.149333333333333,16.6,0.0022190485353076926,0.002361167216785714,44.93333333333334,0.0009470714285714285,16.919999999999998,43.82666666666666,41.67333333333333,0.0019770817654],\"x\":[20.860170389713097,16.5,0.0,28.729216593654897,35.517248247019616,0.0,0.0,0.0,32.45684990164795,24.85416975819933,0.0,52.42912336498738,12.5,10.0,38.87823590204826,0.0,19.999121557183532,30.859287269815237,29.73777225403513,\"NaN\",53.77860214192079,32.40057162189355,37.94103138471929,24.8081142877291,22.544277669410572,18.578575903076636,25.5089115144116,16.069374184179278,\"NaN\",\"NaN\",\"NaN\",64.55067318552749,52.925533566755796,17.101716281972084,0.5458449730516288,35.74571539919367,14.901043006492367,15.526306477501432,31.867298329480775,\"NaN\",45.93791213041428,4.84529595302896,47.953641203888644,27.35709443624949,12.488767830141931,28.909050179867904,41.725671119385204,29.6173047023925,0.9175303081184258,\"NaN\",27.80002547415483,53.68063489872335,\"NaN\",2.719688585159481,\"NaN\",\"NaN\",\"NaN\",17.145312156639303,\"NaN\",17.955975666370687,23.0363693555026,19.372305257930893,\"NaN\",\"NaN\",25.327531180548952,\"NaN\",53.16675972304939,26.376310217559762,24.921280943533283,17.291533651842922],\"y\":[4.578765240209975,4.578765240209975,4.335618349377605,4.035029282202368,3.9831299247347003,3.8614746688571686,3.697578033651113,3.689486448364248,3.610766594773271,3.5578679615680224,3.500785172917456,3.4865721505183562,3.315130317183602,3.30941722577814,3.0666985504229953,3.044147620878723,2.9444826721501687,2.829946695941636,2.821513528404773,2.6893088591236203,2.5403294747908736,2.5390760987927767,2.507855871695831,2.45484486000851,2.385606273598312,2.346352974450639,2.247973266361807,2.2380461031287955,2.2174839442139063,2.0253058652647704,2.0253058652647704,1.9731278535996986,1.863322860120456,1.8129133566428555,1.7781512503836436,1.7708520116421442,1.7403626894942439,1.5314789170422551,1.5314789170422551,1.4313637641589874,1.4313637641589874,1.3979400086720377,1.380211241711606,1.380211241711606,1.3222192947339193,1.1760912590556813,1.146128035678238,1.146128035678238,1.1139433523068367,1.0791812460476249,0.9030899869919435,0.7781512503836436,0.6020599913279624,0.3010299956639812,0.0,0.0,0.0,0.0,0.0,\"NaN\",\"NaN\",\"NaN\",\"NaN\",\"NaN\",\"NaN\",\"NaN\",\"NaN\",\"NaN\",\"NaN\",\"NaN\"]},\"selected\":{\"id\":\"6023dbca-afef-413d-823a-61d7d6c4c22d\",\"type\":\"Selection\"},\"selection_policy\":{\"id\":\"34d5af0b-558a-467a-8dea-b006a5c1b9f7\",\"type\":\"UnionRenderers\"}},\"id\":\"84c971b7-02d1-4636-aa3e-ff9ae99bc99b\",\"type\":\"ColumnDataSource\"},{\"attributes\":{},\"id\":\"23743c63-68df-451f-bf9f-e0f9cd0cb9ba\",\"type\":\"BasicTicker\"},{\"attributes\":{\"formatter\":{\"id\":\"680ed8a8-17c1-443e-bcb6-0c5388d7b424\",\"type\":\"BasicTickFormatter\"},\"plot\":{\"id\":\"fd5cd411-1e47-4a16-b438-c1050d7d6952\",\"subtype\":\"Figure\",\"type\":\"Plot\"},\"ticker\":{\"id\":\"f1de489f-f407-4912-bf9e-20488875d52b\",\"type\":\"BasicTicker\"}},\"id\":\"7b8e82cb-f77f-4fbe-97f5-a15752d6c35e\",\"type\":\"LinearAxis\"},{\"attributes\":{},\"id\":\"f1de489f-f407-4912-bf9e-20488875d52b\",\"type\":\"BasicTicker\"},{\"attributes\":{\"dimension\":1,\"plot\":{\"id\":\"fd5cd411-1e47-4a16-b438-c1050d7d6952\",\"subtype\":\"Figure\",\"type\":\"Plot\"},\"ticker\":{\"id\":\"f1de489f-f407-4912-bf9e-20488875d52b\",\"type\":\"BasicTicker\"}},\"id\":\"c76bca40-a790-4204-bfa4-b8996b268eb8\",\"type\":\"Grid\"},{\"attributes\":{\"bottom_units\":\"screen\",\"fill_alpha\":{\"value\":0.5},\"fill_color\":{\"value\":\"lightgrey\"},\"left_units\":\"screen\",\"level\":\"overlay\",\"line_alpha\":{\"value\":1.0},\"line_color\":{\"value\":\"black\"},\"line_dash\":[4,4],\"line_width\":{\"value\":2},\"plot\":null,\"render_mode\":\"css\",\"right_units\":\"screen\",\"top_units\":\"screen\"},\"id\":\"1f4d13f7-9038-4eab-a52d-5630e4c904d2\",\"type\":\"BoxAnnotation\"},{\"attributes\":{\"plot\":null,\"text\":\"Real GDP per capita Legend Bar (USD)\"},\"id\":\"530d6aaa-5379-4920-bf3c-eee9b553a75f\",\"type\":\"Title\"},{\"attributes\":{},\"id\":\"5601143f-98dd-437e-928d-0ac01cef6ba5\",\"type\":\"PanTool\"},{\"attributes\":{\"color_mapper\":{\"id\":\"604ea682-afad-4394-97f9-ea400bdad534\",\"type\":\"LogColorMapper\"},\"formatter\":{\"id\":\"9a850c8f-a182-4b01-9429-2968d28c8e75\",\"type\":\"BasicTickFormatter\"},\"label_standoff\":12,\"location\":[0,0],\"plot\":{\"id\":\"bc4c7001-3ab2-4b21-ad17-9dc5d27d1fe0\",\"subtype\":\"Figure\",\"type\":\"Plot\"},\"ticker\":{\"id\":\"f934d9e9-4d49-4d93-b57e-1e63a6a4c8dd\",\"type\":\"LogTicker\"}},\"id\":\"e459ac8a-4df2-47ca-a714-3a98e7b59e41\",\"type\":\"ColorBar\"},{\"attributes\":{},\"id\":\"3f5d3fe5-d674-4c4a-874f-ec0d4847d4ff\",\"type\":\"WheelZoomTool\"},{\"attributes\":{\"overlay\":{\"id\":\"1f4d13f7-9038-4eab-a52d-5630e4c904d2\",\"type\":\"BoxAnnotation\"}},\"id\":\"93639878-8675-402e-b7fc-9600264704bc\",\"type\":\"BoxZoomTool\"},{\"attributes\":{},\"id\":\"f5055dfb-ffe6-421f-bac8-65087916cd51\",\"type\":\"SaveTool\"},{\"attributes\":{},\"id\":\"9a850c8f-a182-4b01-9429-2968d28c8e75\",\"type\":\"BasicTickFormatter\"},{\"attributes\":{},\"id\":\"18b61257-55c6-4652-96dc-f69ed68bfd59\",\"type\":\"BasicTickFormatter\"},{\"attributes\":{},\"id\":\"5a1f20ed-565b-4e57-9970-d720bb9dd927\",\"type\":\"ResetTool\"},{\"attributes\":{},\"id\":\"0b8c95d7-8ab6-400a-91e1-b97a3e5138be\",\"type\":\"HelpTool\"},{\"attributes\":{\"high\":148406.48335999998,\"low\":15400.0,\"palette\":[\"#0072B2\",\"#E69F00\",\"#F0E442\",\"#009E73\"]},\"id\":\"604ea682-afad-4394-97f9-ea400bdad534\",\"type\":\"LogColorMapper\"},{\"attributes\":{},\"id\":\"680ed8a8-17c1-443e-bcb6-0c5388d7b424\",\"type\":\"BasicTickFormatter\"},{\"attributes\":{},\"id\":\"e488a4d9-bcd7-4dd6-8d80-668aa5d1dbc3\",\"type\":\"LinearScale\"},{\"attributes\":{},\"id\":\"e7c74c08-a472-40fa-88be-83d66e85f93f\",\"type\":\"BasicTickFormatter\"},{\"attributes\":{\"fill_alpha\":{\"value\":0.1},\"fill_color\":{\"value\":\"#1f77b4\"},\"line_alpha\":{\"value\":0.1},\"line_color\":{\"value\":\"#1f77b4\"},\"radius\":{\"field\":\"radii\",\"units\":\"data\"},\"x\":{\"field\":\"x\"},\"y\":{\"field\":\"y\"}},\"id\":\"8328d903-9554-4192-9cd2-92666ce72ce0\",\"type\":\"Circle\"},{\"attributes\":{},\"id\":\"1afefbdb-7e2d-4ba0-bdf8-5b7c03ee4fa1\",\"type\":\"Selection\"},{\"attributes\":{\"below\":[{\"id\":\"5489fd2f-a274-430e-b144-7de3402d4bff\",\"type\":\"LinearAxis\"}],\"left\":[{\"id\":\"7b8e82cb-f77f-4fbe-97f5-a15752d6c35e\",\"type\":\"LinearAxis\"}],\"min_border\":null,\"outline_line_color\":{\"value\":null},\"plot_height\":511,\"plot_width\":35,\"renderers\":[{\"id\":\"5489fd2f-a274-430e-b144-7de3402d4bff\",\"type\":\"LinearAxis\"},{\"id\":\"f23b207f-e47a-4233-97ec-d1d58fa19f60\",\"type\":\"Grid\"},{\"id\":\"7b8e82cb-f77f-4fbe-97f5-a15752d6c35e\",\"type\":\"LinearAxis\"},{\"id\":\"c76bca40-a790-4204-bfa4-b8996b268eb8\",\"type\":\"Grid\"},{\"id\":\"1f4d13f7-9038-4eab-a52d-5630e4c904d2\",\"type\":\"BoxAnnotation\"}],\"title\":{\"id\":\"530d6aaa-5379-4920-bf3c-eee9b553a75f\",\"type\":\"Title\"},\"title_location\":\"right\",\"toolbar\":{\"id\":\"b54cafa0-f1ca-403a-a7c7-7572b32e62e1\",\"type\":\"Toolbar\"},\"toolbar_location\":null,\"x_range\":{\"id\":\"d66f15c3-e484-425a-840f-a8350a82c253\",\"type\":\"DataRange1d\"},\"x_scale\":{\"id\":\"e488a4d9-bcd7-4dd6-8d80-668aa5d1dbc3\",\"type\":\"LinearScale\"},\"y_range\":{\"id\":\"867e80a4-5eff-4362-8132-28be30b328ba\",\"type\":\"DataRange1d\"},\"y_scale\":{\"id\":\"3d80d491-3bdf-4b80-81dd-e9e903694497\",\"type\":\"LinearScale\"}},\"id\":\"fd5cd411-1e47-4a16-b438-c1050d7d6952\",\"subtype\":\"Figure\",\"type\":\"Plot\"},{\"attributes\":{\"callback\":null},\"id\":\"d66f15c3-e484-425a-840f-a8350a82c253\",\"type\":\"DataRange1d\"},{\"attributes\":{\"callback\":null},\"id\":\"867e80a4-5eff-4362-8132-28be30b328ba\",\"type\":\"DataRange1d\"},{\"attributes\":{},\"id\":\"539f2cb8-5e67-4873-bf4c-09366f7ec9d1\",\"type\":\"LinearScale\"},{\"attributes\":{\"plot\":null,\"text\":\"Number of entities offshore vs tax rate (all developed countries)\",\"text_color\":{\"value\":\"grey\"},\"text_font_size\":{\"value\":\"11pt\"},\"text_font_style\":\"normal\"},\"id\":\"284cd1eb-41d5-4efe-8c0e-59acd7b18bee\",\"type\":\"Title\"},{\"attributes\":{\"callback\":null,\"renderers\":[{\"id\":\"ff35c9ed-90bf-4700-ba2e-fd9622a7f4c7\",\"type\":\"GlyphRenderer\"}],\"tooltips\":[[\"Country\",\"@country\"],[\"(Tax Rate, Log(number of entities offshore))\",\"($x, $y)\"]]},\"id\":\"5539eb87-e311-44ab-9783-d6e72da20a82\",\"type\":\"HoverTool\"},{\"attributes\":{\"callback\":null},\"id\":\"96b72d9c-8743-47fe-a2e8-40632906eb3c\",\"type\":\"DataRange1d\"},{\"attributes\":{\"axis_label\":\"Tax Rate (%)\",\"formatter\":{\"id\":\"64b4256a-32cb-4357-8781-cd9374f31096\",\"type\":\"BasicTickFormatter\"},\"plot\":{\"id\":\"bc4c7001-3ab2-4b21-ad17-9dc5d27d1fe0\",\"subtype\":\"Figure\",\"type\":\"Plot\"},\"ticker\":{\"id\":\"357d6c0d-483d-44c0-bf9e-07f9d74c59e1\",\"type\":\"BasicTicker\"}},\"id\":\"8904cb27-7af3-4a0b-ae1e-a5fcc417e648\",\"type\":\"LinearAxis\"},{\"attributes\":{\"callback\":null},\"id\":\"0958806c-3f00-47f8-9a16-66700b49c597\",\"type\":\"DataRange1d\"},{\"attributes\":{\"active_drag\":\"auto\",\"active_inspect\":\"auto\",\"active_scroll\":\"auto\",\"active_tap\":\"auto\",\"logo\":null,\"tools\":[{\"id\":\"251e4f65-231b-4212-b309-1d492f13af39\",\"type\":\"PanTool\"},{\"id\":\"c2275c91-8ccf-4bcc-8a4a-b3071c5c9860\",\"type\":\"WheelZoomTool\"},{\"id\":\"71ecbffd-38a9-475d-b10f-96676357828c\",\"type\":\"BoxZoomTool\"},{\"id\":\"ca9c84b4-2e05-489c-a35e-22c1d720b647\",\"type\":\"SaveTool\"},{\"id\":\"01d5bd0a-b217-47a3-8025-64d833ebcff0\",\"type\":\"ResetTool\"},{\"id\":\"c0002a2b-327b-4137-a6a8-c1a314fd871e\",\"type\":\"HelpTool\"},{\"id\":\"5539eb87-e311-44ab-9783-d6e72da20a82\",\"type\":\"HoverTool\"},{\"id\":\"4981c38a-5ee1-4a94-addf-0e54ba424ad0\",\"type\":\"HoverTool\"}]},\"id\":\"3608d3cd-fd3f-4bb5-8fd5-4fd4fee1aad8\",\"type\":\"Toolbar\"},{\"attributes\":{},\"id\":\"357d6c0d-483d-44c0-bf9e-07f9d74c59e1\",\"type\":\"BasicTicker\"},{\"attributes\":{\"axis_label\":\"Number of Entities Offshore (log scale)\",\"formatter\":{\"id\":\"e7c74c08-a472-40fa-88be-83d66e85f93f\",\"type\":\"BasicTickFormatter\"},\"plot\":{\"id\":\"bc4c7001-3ab2-4b21-ad17-9dc5d27d1fe0\",\"subtype\":\"Figure\",\"type\":\"Plot\"},\"ticker\":{\"id\":\"0d1a61ba-13ae-442c-b45f-252d5e635f1a\",\"type\":\"BasicTicker\"}},\"id\":\"dba6e8c3-4ffa-4605-82b7-69a13de86326\",\"type\":\"LinearAxis\"},{\"attributes\":{},\"id\":\"c2275c91-8ccf-4bcc-8a4a-b3071c5c9860\",\"type\":\"WheelZoomTool\"},{\"attributes\":{},\"id\":\"0d1a61ba-13ae-442c-b45f-252d5e635f1a\",\"type\":\"BasicTicker\"},{\"attributes\":{},\"id\":\"98ff42f0-7c34-416e-9ce1-b5fc5175968a\",\"type\":\"LinearScale\"},{\"attributes\":{\"below\":[{\"id\":\"8904cb27-7af3-4a0b-ae1e-a5fcc417e648\",\"type\":\"LinearAxis\"}],\"left\":[{\"id\":\"dba6e8c3-4ffa-4605-82b7-69a13de86326\",\"type\":\"LinearAxis\"}],\"plot_height\":800,\"plot_width\":800,\"renderers\":[{\"id\":\"8904cb27-7af3-4a0b-ae1e-a5fcc417e648\",\"type\":\"LinearAxis\"},{\"id\":\"ec4f433d-1751-4b97-88b5-06a578717231\",\"type\":\"Grid\"},{\"id\":\"dba6e8c3-4ffa-4605-82b7-69a13de86326\",\"type\":\"LinearAxis\"},{\"id\":\"877e4fa0-b0ee-4c91-ba89-b66aa53a86b9\",\"type\":\"Grid\"},{\"id\":\"d95d9f4c-5ed8-4c8e-b3e6-5c0df11392b8\",\"type\":\"BoxAnnotation\"},{\"id\":\"ff35c9ed-90bf-4700-ba2e-fd9622a7f4c7\",\"type\":\"GlyphRenderer\"},{\"id\":\"738f6e96-817b-4d24-804e-3bacdb552ec7\",\"type\":\"GlyphRenderer\"},{\"id\":\"e459ac8a-4df2-47ca-a714-3a98e7b59e41\",\"type\":\"ColorBar\"}],\"right\":[{\"id\":\"e459ac8a-4df2-47ca-a714-3a98e7b59e41\",\"type\":\"ColorBar\"}],\"title\":{\"id\":\"284cd1eb-41d5-4efe-8c0e-59acd7b18bee\",\"type\":\"Title\"},\"toolbar\":{\"id\":\"3608d3cd-fd3f-4bb5-8fd5-4fd4fee1aad8\",\"type\":\"Toolbar\"},\"toolbar_location\":null,\"x_range\":{\"id\":\"0958806c-3f00-47f8-9a16-66700b49c597\",\"type\":\"DataRange1d\"},\"x_scale\":{\"id\":\"539f2cb8-5e67-4873-bf4c-09366f7ec9d1\",\"type\":\"LinearScale\"},\"y_range\":{\"id\":\"96b72d9c-8743-47fe-a2e8-40632906eb3c\",\"type\":\"DataRange1d\"},\"y_scale\":{\"id\":\"98ff42f0-7c34-416e-9ce1-b5fc5175968a\",\"type\":\"LinearScale\"}},\"id\":\"bc4c7001-3ab2-4b21-ad17-9dc5d27d1fe0\",\"subtype\":\"Figure\",\"type\":\"Plot\"},{\"attributes\":{\"plot\":{\"id\":\"bc4c7001-3ab2-4b21-ad17-9dc5d27d1fe0\",\"subtype\":\"Figure\",\"type\":\"Plot\"},\"ticker\":{\"id\":\"357d6c0d-483d-44c0-bf9e-07f9d74c59e1\",\"type\":\"BasicTicker\"}},\"id\":\"ec4f433d-1751-4b97-88b5-06a578717231\",\"type\":\"Grid\"},{\"attributes\":{\"callback\":null,\"renderers\":[{\"id\":\"738f6e96-817b-4d24-804e-3bacdb552ec7\",\"type\":\"GlyphRenderer\"}],\"tooltips\":[[\"Set of Country\",\"Trend in all developed countries\"]]},\"id\":\"4981c38a-5ee1-4a94-addf-0e54ba424ad0\",\"type\":\"HoverTool\"},{\"attributes\":{},\"id\":\"c0002a2b-327b-4137-a6a8-c1a314fd871e\",\"type\":\"HelpTool\"},{\"attributes\":{},\"id\":\"01d5bd0a-b217-47a3-8025-64d833ebcff0\",\"type\":\"ResetTool\"},{\"attributes\":{\"fill_alpha\":{\"value\":0.5},\"fill_color\":{\"field\":\"c\",\"transform\":{\"id\":\"604ea682-afad-4394-97f9-ea400bdad534\",\"type\":\"LogColorMapper\"}},\"line_alpha\":{\"value\":0.5},\"line_color\":{\"field\":\"c\",\"transform\":{\"id\":\"604ea682-afad-4394-97f9-ea400bdad534\",\"type\":\"LogColorMapper\"}},\"radius\":{\"field\":\"radii\",\"units\":\"data\"},\"x\":{\"field\":\"x\"},\"y\":{\"field\":\"y\"}},\"id\":\"ba918459-9dae-4fea-9258-bb12c73c5223\",\"type\":\"Circle\"},{\"attributes\":{\"dimension\":1,\"plot\":{\"id\":\"bc4c7001-3ab2-4b21-ad17-9dc5d27d1fe0\",\"subtype\":\"Figure\",\"type\":\"Plot\"},\"ticker\":{\"id\":\"0d1a61ba-13ae-442c-b45f-252d5e635f1a\",\"type\":\"BasicTicker\"}},\"id\":\"877e4fa0-b0ee-4c91-ba89-b66aa53a86b9\",\"type\":\"Grid\"},{\"attributes\":{},\"id\":\"6023dbca-afef-413d-823a-61d7d6c4c22d\",\"type\":\"Selection\"},{\"attributes\":{\"source\":{\"id\":\"84c971b7-02d1-4636-aa3e-ff9ae99bc99b\",\"type\":\"ColumnDataSource\"}},\"id\":\"9c2e2a07-e0cc-4ec6-8358-6fb8757ab4f1\",\"type\":\"CDSView\"},{\"attributes\":{\"line_alpha\":0.1,\"line_color\":\"#1f77b4\",\"line_width\":4,\"x\":{\"field\":\"x\"},\"y\":{\"field\":\"y\"}},\"id\":\"56861f6b-37d7-4b0e-92bd-026875aebf32\",\"type\":\"Line\"},{\"attributes\":{\"bottom_units\":\"screen\",\"fill_alpha\":{\"value\":0.5},\"fill_color\":{\"value\":\"lightgrey\"},\"left_units\":\"screen\",\"level\":\"overlay\",\"line_alpha\":{\"value\":1.0},\"line_color\":{\"value\":\"black\"},\"line_dash\":[4,4],\"line_width\":{\"value\":2},\"plot\":null,\"render_mode\":\"css\",\"right_units\":\"screen\",\"top_units\":\"screen\"},\"id\":\"d95d9f4c-5ed8-4c8e-b3e6-5c0df11392b8\",\"type\":\"BoxAnnotation\"},{\"attributes\":{},\"id\":\"34d5af0b-558a-467a-8dea-b006a5c1b9f7\",\"type\":\"UnionRenderers\"},{\"attributes\":{},\"id\":\"251e4f65-231b-4212-b309-1d492f13af39\",\"type\":\"PanTool\"},{\"attributes\":{\"data_source\":{\"id\":\"84c971b7-02d1-4636-aa3e-ff9ae99bc99b\",\"type\":\"ColumnDataSource\"},\"glyph\":{\"id\":\"ba918459-9dae-4fea-9258-bb12c73c5223\",\"type\":\"Circle\"},\"hover_glyph\":null,\"muted_glyph\":null,\"nonselection_glyph\":{\"id\":\"8328d903-9554-4192-9cd2-92666ce72ce0\",\"type\":\"Circle\"},\"selection_glyph\":null,\"view\":{\"id\":\"9c2e2a07-e0cc-4ec6-8358-6fb8757ab4f1\",\"type\":\"CDSView\"}},\"id\":\"ff35c9ed-90bf-4700-ba2e-fd9622a7f4c7\",\"type\":\"GlyphRenderer\"},{\"attributes\":{\"data_source\":{\"id\":\"3e3666d2-6006-4a33-b76b-28543f5d1190\",\"type\":\"ColumnDataSource\"},\"glyph\":{\"id\":\"0900ba16-8f83-436d-8f53-cf9d6ded4943\",\"type\":\"Line\"},\"hover_glyph\":null,\"muted_glyph\":null,\"nonselection_glyph\":{\"id\":\"56861f6b-37d7-4b0e-92bd-026875aebf32\",\"type\":\"Line\"},\"selection_glyph\":null,\"view\":{\"id\":\"51f90adc-5bbc-4a92-9803-52a4ad9c21df\",\"type\":\"CDSView\"}},\"id\":\"738f6e96-817b-4d24-804e-3bacdb552ec7\",\"type\":\"GlyphRenderer\"},{\"attributes\":{\"overlay\":{\"id\":\"d95d9f4c-5ed8-4c8e-b3e6-5c0df11392b8\",\"type\":\"BoxAnnotation\"}},\"id\":\"71ecbffd-38a9-475d-b10f-96676357828c\",\"type\":\"BoxZoomTool\"},{\"attributes\":{},\"id\":\"c0205218-3f85-4c80-a6a2-d4b51e590c73\",\"type\":\"UnionRenderers\"},{\"attributes\":{},\"id\":\"ca9c84b4-2e05-489c-a35e-22c1d720b647\",\"type\":\"SaveTool\"},{\"attributes\":{\"source\":{\"id\":\"3e3666d2-6006-4a33-b76b-28543f5d1190\",\"type\":\"ColumnDataSource\"}},\"id\":\"51f90adc-5bbc-4a92-9803-52a4ad9c21df\",\"type\":\"CDSView\"},{\"attributes\":{\"callback\":null,\"data\":{\"x\":{\"__ndarray__\":\"Ks5sIDTcNEAAAAAAAIAwQAAAAAAAAAAAxHJN8K26PEBpbsgwNcJBQAAAAAAAAAAAAAAAAAAAAAAAAAAAAAAAAB9hvQ56OkBAx7KI3qraOEAAAAAAAAAAAP9IsYPtNkpAAAAAAAAAKUAAAAAAAAAkQDS8tghqcENAAAAAAAAAAAD11Cxuxv8zQL+5IUD62z5AIvp2pN68PUCbEig8qeNKQIbeT+5FM0BAgfBmt3P4QkAROvWT4M44QL8PBshVizZAw/fljB2UMkCm9GYGSII5QJc8rIHCETBA+6e+Oj4jUEB/SEjid3ZKQHOKCBQKGjFA/Cp+4I934T+I1Cmac99BQDVZSoJVzS1AThXpCngNL0DQ/mhDB94/QFVTM4EN+EZAWc0mQ5VhE0DvaDvqEPpHQG5GfYpqWztAzJfrxj/6KECg9DiDt+g8QKG0jsri3ERAW3FUrgeePUBeo06FaFztPz52L3jOzDtAO0RbCx/XSkAPhMQW7MEFQB96cC0zJTFA\",\"dtype\":\"float64\",\"shape\":[48]},\"y\":{\"__ndarray__\":\"c+aC9vx+A0BkVv+Mju8DQHyhkqyLmQVACTFNO9SzAkBxIXo6lAQCQHyhkqyLmQVAfKGSrIuZBUB8oZKsi5kFQHALNUKXUwJA5MGBgN8XA0B8oZKsi5kFQCeTMuj0TwBA7r3sq9NWBECkHkHfXpcEQBEE7oTOrQFAfKGSrIuZBUD6aT3gN5UDQHUNaf/VfAJAt5aZZ8qZAkD0OdvSHS0AQPTWsDcLVQJAV5U6xADGAUCqxj7lDxkDQHxA3TmCUwNA9DoDqeS5A0BMQFgh+AYDQIZiba2s+gNAUkgjYAQu/j924S7+I0MAQOWepqMF4ANAtwEgCHSLBUBLnpk5rv4BQBw7bYHWGARAX8fO9rEIBECC9CjFz2ICQOiiEySL9wBAXxtowXMcBUAQBWefgMMAQB9nsfhA1wJAe8x76B1XBEAu5jypL68CQAbfpAVLZAFAYhjGm+acAkD/5o5124EFQEA/IITRywJAb+oNUaUvAEDkD319VFMFQKYpfYDl3gNA\",\"dtype\":\"float64\",\"shape\":[48]}},\"selected\":{\"id\":\"1afefbdb-7e2d-4ba0-bdf8-5b7c03ee4fa1\",\"type\":\"Selection\"},\"selection_policy\":{\"id\":\"c0205218-3f85-4c80-a6a2-d4b51e590c73\",\"type\":\"UnionRenderers\"}},\"id\":\"3e3666d2-6006-4a33-b76b-28543f5d1190\",\"type\":\"ColumnDataSource\"},{\"attributes\":{\"line_alpha\":0.1,\"line_color\":\"navy\",\"line_width\":4,\"x\":{\"field\":\"x\"},\"y\":{\"field\":\"y\"}},\"id\":\"0900ba16-8f83-436d-8f53-cf9d6ded4943\",\"type\":\"Line\"},{\"attributes\":{},\"id\":\"f934d9e9-4d49-4d93-b57e-1e63a6a4c8dd\",\"type\":\"LogTicker\"},{\"attributes\":{\"children\":[{\"id\":\"bc4c7001-3ab2-4b21-ad17-9dc5d27d1fe0\",\"subtype\":\"Figure\",\"type\":\"Plot\"},{\"id\":\"fd5cd411-1e47-4a16-b438-c1050d7d6952\",\"subtype\":\"Figure\",\"type\":\"Plot\"}]},\"id\":\"5bdf7e13-8b01-4ce6-bc80-bfca15e50f1c\",\"type\":\"Row\"}],\"root_ids\":[\"5bdf7e13-8b01-4ce6-bc80-bfca15e50f1c\"]},\"title\":\"Bokeh Application\",\"version\":\"0.12.16\"}};\n",
       "  var render_items = [{\"docid\":\"02462f7b-c6db-495a-b89a-9365ef0316e5\",\"elementid\":\"a345f005-6c48-4cf0-a974-664b1260a158\",\"modelid\":\"5bdf7e13-8b01-4ce6-bc80-bfca15e50f1c\"}];\n",
       "  root.Bokeh.embed.embed_items_notebook(docs_json, render_items);\n",
       "\n",
       "  }\n",
       "  if (root.Bokeh !== undefined) {\n",
       "    embed_document(root);\n",
       "  } else {\n",
       "    var attempts = 0;\n",
       "    var timer = setInterval(function(root) {\n",
       "      if (root.Bokeh !== undefined) {\n",
       "        embed_document(root);\n",
       "        clearInterval(timer);\n",
       "      }\n",
       "      attempts++;\n",
       "      if (attempts > 100) {\n",
       "        console.log(\"Bokeh: ERROR: Unable to run BokehJS code because BokehJS library is missing\")\n",
       "        clearInterval(timer);\n",
       "      }\n",
       "    }, 10, root)\n",
       "  }\n",
       "})(window);"
      ],
      "application/vnd.bokehjs_exec.v0+json": ""
     },
     "metadata": {
      "application/vnd.bokehjs_exec.v0+json": {
       "id": "5bdf7e13-8b01-4ce6-bc80-bfca15e50f1c"
      }
     },
     "output_type": "display_data"
    }
   ],
   "source": [
    "selection=country_count_tax_rate['GDP_y']>15000\n",
    "x=country_count_tax_rate['Tax Rate'][selection]\n",
    "y=np.log10(country_count_tax_rate['n_companies_offshore'][selection])\n",
    "radii=country_count_tax_rate['GDP_x'][selection]*10e-13\n",
    "country_names=country_count_tax_rate['Country Name'][selection]\n",
    "# for colors\n",
    "c = country_count_tax_rate['GDP_y'][selection]\n",
    "c[c.isna()]=0\n",
    "\n",
    "\n",
    "color_mapper = LogColorMapper(palette=\"Colorblind4\", low=min(c),\\\n",
    "                              high=max(c))\n",
    "\n",
    "source=ColumnDataSource(data=dict(\n",
    "    x=list(x),\n",
    "    y=list(y),\n",
    "    country=list(country_names),\n",
    "    radii=list(radii),\n",
    "    c=list(c),\n",
    "))\n",
    "\n",
    "\n",
    "# set the regression line\n",
    "df=pd.DataFrame({'Tax Rate':x,'n_companies_offshore':y})\n",
    "df=df.dropna(inplace=False)\n",
    "\n",
    "a=np.array(df['Tax Rate'])\n",
    "b=np.array(df['n_companies_offshore'])\n",
    "\n",
    "m,i,r,p,std=stats.linregress(a,b)\n",
    "\n",
    "p = figure(title=\"Number of entities offshore vs tax rate (all developed countries)\", plot_width=800, plot_height=800)\n",
    "scatter=p.scatter(x='x', y='y', radius='radii', source=source, color={'field': 'c', 'transform': color_mapper}, alpha=0.5)\n",
    "hover= HoverTool(tooltips = [(\"Country\", \"@country\"),(\"(Tax Rate, Log(number of entities offshore))\", \"($x, $y)\")],renderers=[scatter])\n",
    "p.add_tools(hover)\n",
    "\n",
    "line=p.line(df['Tax Rate'], m*df['Tax Rate']+i, line_width=4, color='navy', alpha=0.1)\n",
    "hover0=HoverTool(tooltips = [(\"Set of Country\",'Trend in all developed countries')], renderers=[line])\n",
    "p.add_tools(hover0)\n",
    "\n",
    "# set the color bar tab\n",
    "color_bar = ColorBar(color_mapper=color_mapper, ticker=LogTicker(),\n",
    "                     label_standoff=12, border_line_color=None, location=(0,0))\n",
    "\n",
    "# set the color bar title\n",
    "color_bar_height = 511\n",
    "color_bar_width = 35\n",
    "\n",
    "color_bar_plot = figure(title=\"Real GDP per capita Legend Bar (USD)\", title_location=\"right\", \n",
    "                        height=color_bar_height, width=color_bar_width, \n",
    "                        toolbar_location=None, min_border=None, \n",
    "                        outline_line_color=None)\n",
    "\n",
    "\n",
    "# set the style of the title\n",
    "p.title.text_color = \"grey\"\n",
    "p.title.text_font = \"helvetica\"\n",
    "p.title.text_font_style = \"normal\"\n",
    "p.title.text_font_size = '11pt'\n",
    "\n",
    "# set the label options\n",
    "p.xaxis.axis_label='Tax Rate (%)'\n",
    "p.yaxis.axis_label='Number of Entities Offshore (log scale)'\n",
    "\n",
    "# add the color bar\n",
    "p.add_layout(color_bar, 'right')\n",
    "                        \n",
    "# remove the interactive toolbar\n",
    "p.toolbar.logo = None\n",
    "p.toolbar_location = None\n",
    "\n",
    "layout = row_plot(p, color_bar_plot)\n",
    "output_file(\"taxrate_developed.html\", title=\"taxrate_developed\")\n",
    "show(layout)\n"
   ]
  },
  {
   "cell_type": "markdown",
   "metadata": {},
   "source": [
    "### Days to open a  business"
   ]
  },
  {
   "cell_type": "markdown",
   "metadata": {},
   "source": [
    "Another parameter that could influence entities to go offshore is the number of days needed to open a busines. This parameter, in fact, is another indicator of business conditions in a country: the hypothesis is that entities go offshore in order to find better business conditions that the home country cannot offer them. "
   ]
  },
  {
   "cell_type": "code",
   "execution_count": 57,
   "metadata": {},
   "outputs": [
    {
     "name": "stdout",
     "output_type": "stream",
     "text": [
      "Year with most data is 2015\n"
     ]
    }
   ],
   "source": [
    "years=range(1990, 2018)\n",
    "years_count=np.array([])\n",
    "\n",
    "for year in years:\n",
    "    \n",
    "    years_count=np.append(years_count,df_ease_business[str(year)].notnull().sum())\n",
    "print ('Year with most data is', years[np.argmax(years_count)])"
   ]
  },
  {
   "cell_type": "markdown",
   "metadata": {},
   "source": [
    "In order to fully exploit the data, the average days to open a business for each country is computed over a time frame of 15 years; hence it is assumed that any change in days to open a business in this time range has not affected the number of entities going offshore in this time range."
   ]
  },
  {
   "cell_type": "code",
   "execution_count": 58,
   "metadata": {},
   "outputs": [],
   "source": [
    "#df_countries_ease_business=pd.DataFrame({'Country Name':df_ease_business['Country Name'][df_ease_business['2015'].notnull()],'days_open_business':df_ease_business['2015'][df_ease_business['2013'].notnull()]})\n",
    "df_countries_ease_business=pd.DataFrame({'Country Name':df_ease_business['Country Name'],'days_open_business':df_ease_business.iloc[:,range(-15,0)].mean(axis=1,numeric_only=True)})\n",
    "df_countries_ease_business=df_countries_ease_business[df_countries_ease_business['days_open_business'].notnull()]"
   ]
  },
  {
   "cell_type": "markdown",
   "metadata": {},
   "source": [
    "A dataset with number of days to open a business and number of companies registered in the panama papers is made. However for this coefficient it was very hard to integrate the missing data values by using other sources. As a matter of fact the this analysis is limited to the countries which have the corporate tax rate values."
   ]
  },
  {
   "cell_type": "code",
   "execution_count": 59,
   "metadata": {},
   "outputs": [],
   "source": [
    "country_count_ease_business=country_count_gdp.merge(df_countries_ease_business, how='outer',left_on='Country Name', right_on='Country Name')"
   ]
  },
  {
   "cell_type": "markdown",
   "metadata": {},
   "source": [
    "#### Small Developed Countries"
   ]
  },
  {
   "cell_type": "markdown",
   "metadata": {},
   "source": [
    "Again firstly the graph of days to open a business and presence in Panama Paper of small developed countries with high income per capita is plotted. In fact, by looking at these relationship it will be possible to understand if all small developed countries with high income per capita present favourable characteristics to go offshore.\n",
    "\n",
    "All the countries with GDP per capita `GDP_y`>30000 and a total GDP `GDP_x`< 200 billions USD have been considered.\n",
    "\n",
    "The GDP has been used as a weight for the count of entities offshore because the discrepancy between the size of the economies is really high.\n",
    "\n",
    "By observing the plot below some important considerations can be drawn; again the two set of countries can be identified: tax havens countries and small developed countries. The first ones are visibile since they have a very high number of offshore entities and the second group can be identified below. In this case it is not possible to determine whether days to open a business influence entities in countries to go offshore. Hence it seems that for this category of countries no dependency can be drawn. In fact even the regression line that should show a negative exponential relationship between days to open a business and number of entities in Panama Papers has a two tail test p-value of 0.837, which confirms the hypothesis that the slope of the line should be zero. "
   ]
  },
  {
   "cell_type": "code",
   "execution_count": 60,
   "metadata": {},
   "outputs": [
    {
     "data": {
      "text/html": [
       "\n",
       "<div class=\"bk-root\">\n",
       "    <div class=\"bk-plotdiv\" id=\"9f30fb1e-b7e9-4c6d-b835-aa6faf3038dd\"></div>\n",
       "</div>"
      ]
     },
     "metadata": {},
     "output_type": "display_data"
    },
    {
     "data": {
      "application/javascript": [
       "(function(root) {\n",
       "  function embed_document(root) {\n",
       "    \n",
       "  var docs_json = {\"59036ea4-4c49-4853-bb9e-06fee541f333\":{\"roots\":{\"references\":[{\"attributes\":{\"below\":[{\"id\":\"37e6b4d4-9e84-4381-b7d8-64cf380a759c\",\"type\":\"LinearAxis\"}],\"left\":[{\"id\":\"cb722379-a6f9-4166-bdf2-c003dc4c9148\",\"type\":\"LinearAxis\"}],\"min_border\":null,\"outline_line_color\":{\"value\":null},\"plot_height\":511,\"plot_width\":35,\"renderers\":[{\"id\":\"37e6b4d4-9e84-4381-b7d8-64cf380a759c\",\"type\":\"LinearAxis\"},{\"id\":\"6d3ed63c-850a-4a9a-8069-07fb7d42ecc1\",\"type\":\"Grid\"},{\"id\":\"cb722379-a6f9-4166-bdf2-c003dc4c9148\",\"type\":\"LinearAxis\"},{\"id\":\"74121d59-2867-45da-a5b4-3d50cf71b622\",\"type\":\"Grid\"},{\"id\":\"adc741bb-82ce-4e98-bf68-b6701b9d7fd1\",\"type\":\"BoxAnnotation\"}],\"title\":{\"id\":\"859bd235-b9c6-44c0-b243-195e9fea16bb\",\"type\":\"Title\"},\"title_location\":\"right\",\"toolbar\":{\"id\":\"c39b250f-4224-4d65-860e-4c9d62d4719f\",\"type\":\"Toolbar\"},\"toolbar_location\":null,\"x_range\":{\"id\":\"1e6af6f5-e1c7-456f-a486-bc2fb1fc7b88\",\"type\":\"DataRange1d\"},\"x_scale\":{\"id\":\"49e8801d-256f-4f12-9d57-932c5a7d427e\",\"type\":\"LinearScale\"},\"y_range\":{\"id\":\"fab7c25b-945b-4f51-b1d4-a236d5a6d63d\",\"type\":\"DataRange1d\"},\"y_scale\":{\"id\":\"6b8fa06e-879d-4871-b014-0e5fb6edc082\",\"type\":\"LinearScale\"}},\"id\":\"709bddf0-7b64-43c6-8372-f62079da3c0e\",\"subtype\":\"Figure\",\"type\":\"Plot\"},{\"attributes\":{\"line_alpha\":0.1,\"line_color\":\"navy\",\"line_width\":4,\"x\":{\"field\":\"x\"},\"y\":{\"field\":\"y\"}},\"id\":\"b92a2892-baf5-44b0-97c8-629e6d1214d0\",\"type\":\"Line\"},{\"attributes\":{\"line_alpha\":0.1,\"line_color\":\"#1f77b4\",\"line_width\":4,\"x\":{\"field\":\"x\"},\"y\":{\"field\":\"y\"}},\"id\":\"6aa70d02-a740-4690-8ab7-391ec3912175\",\"type\":\"Line\"},{\"attributes\":{\"data_source\":{\"id\":\"d57d9615-fd3c-4300-87d9-456098384208\",\"type\":\"ColumnDataSource\"},\"glyph\":{\"id\":\"b92a2892-baf5-44b0-97c8-629e6d1214d0\",\"type\":\"Line\"},\"hover_glyph\":null,\"muted_glyph\":null,\"nonselection_glyph\":{\"id\":\"6aa70d02-a740-4690-8ab7-391ec3912175\",\"type\":\"Line\"},\"selection_glyph\":null,\"view\":{\"id\":\"f5abc615-9423-4d8f-be7b-daa60fc4ed1b\",\"type\":\"CDSView\"}},\"id\":\"3b07b197-80f0-4d43-8644-8d5831438180\",\"type\":\"GlyphRenderer\"},{\"attributes\":{\"source\":{\"id\":\"d57d9615-fd3c-4300-87d9-456098384208\",\"type\":\"ColumnDataSource\"}},\"id\":\"f5abc615-9423-4d8f-be7b-daa60fc4ed1b\",\"type\":\"CDSView\"},{\"attributes\":{\"callback\":null,\"data\":{},\"selected\":{\"id\":\"b490e02f-3741-475d-89fb-2d76510c0564\",\"type\":\"Selection\"},\"selection_policy\":{\"id\":\"ae4fe424-0be8-4adf-9053-95e984541495\",\"type\":\"UnionRenderers\"}},\"id\":\"e7116709-c5ed-4f59-8b31-3b7dfaa343c4\",\"type\":\"ColumnDataSource\"},{\"attributes\":{\"callback\":null,\"renderers\":[{\"id\":\"3cf38947-a1bc-46b3-a804-76afef661e2f\",\"type\":\"GlyphRenderer\"}],\"tooltips\":[[\"Set of Country\",\"Tax havens\"]]},\"id\":\"4b318806-592a-46a4-835b-cf9203be1621\",\"type\":\"HoverTool\"},{\"attributes\":{\"fill_alpha\":{\"value\":0.1},\"fill_color\":{\"value\":\"#1f77b4\"},\"line_alpha\":{\"value\":0.1},\"line_color\":{\"value\":\"#1f77b4\"},\"size\":{\"units\":\"screen\",\"value\":370},\"x\":{\"value\":0.85},\"y\":{\"value\":-7}},\"id\":\"329754ee-27ff-47b7-bb2b-e5a15ba22508\",\"type\":\"Circle\"},{\"attributes\":{\"fill_alpha\":{\"value\":0.1},\"fill_color\":{\"value\":\"navy\"},\"line_alpha\":{\"value\":0.1},\"line_color\":{\"value\":\"navy\"},\"size\":{\"units\":\"screen\",\"value\":370},\"x\":{\"value\":0.85},\"y\":{\"value\":-7}},\"id\":\"0ddcb9c3-918a-41a9-be48-956a12ecab35\",\"type\":\"Circle\"},{\"attributes\":{\"source\":{\"id\":\"e7116709-c5ed-4f59-8b31-3b7dfaa343c4\",\"type\":\"ColumnDataSource\"}},\"id\":\"faeaff13-ef09-4d55-a916-cc457415d0fe\",\"type\":\"CDSView\"},{\"attributes\":{\"data_source\":{\"id\":\"e7116709-c5ed-4f59-8b31-3b7dfaa343c4\",\"type\":\"ColumnDataSource\"},\"glyph\":{\"id\":\"0ddcb9c3-918a-41a9-be48-956a12ecab35\",\"type\":\"Circle\"},\"hover_glyph\":null,\"muted_glyph\":null,\"nonselection_glyph\":{\"id\":\"329754ee-27ff-47b7-bb2b-e5a15ba22508\",\"type\":\"Circle\"},\"selection_glyph\":null,\"view\":{\"id\":\"faeaff13-ef09-4d55-a916-cc457415d0fe\",\"type\":\"CDSView\"}},\"id\":\"3cf38947-a1bc-46b3-a804-76afef661e2f\",\"type\":\"GlyphRenderer\"},{\"attributes\":{\"color_mapper\":{\"id\":\"fdda2832-2fdf-44e3-84ff-9443b2c590f6\",\"type\":\"LogColorMapper\"},\"formatter\":{\"id\":\"7c947f54-835c-4963-b92d-fc9883740f02\",\"type\":\"BasicTickFormatter\"},\"label_standoff\":12,\"location\":[20,0],\"plot\":{\"id\":\"a7b09cce-2c7d-461c-912e-d712a8439610\",\"subtype\":\"Figure\",\"type\":\"Plot\"},\"ticker\":{\"id\":\"7ac64c8e-3e9a-4c2f-8ae7-b34d4cae7296\",\"type\":\"LogTicker\"}},\"id\":\"70ac5eb5-c08b-4cf3-bbaa-001947c8d026\",\"type\":\"ColorBar\"},{\"attributes\":{},\"id\":\"c035000d-a293-4c48-85d7-31caac6d62e5\",\"type\":\"BasicTickFormatter\"},{\"attributes\":{\"callback\":null},\"id\":\"1e6af6f5-e1c7-456f-a486-bc2fb1fc7b88\",\"type\":\"DataRange1d\"},{\"attributes\":{},\"id\":\"7ac64c8e-3e9a-4c2f-8ae7-b34d4cae7296\",\"type\":\"LogTicker\"},{\"attributes\":{\"active_drag\":\"auto\",\"active_inspect\":\"auto\",\"active_scroll\":\"auto\",\"active_tap\":\"auto\",\"tools\":[{\"id\":\"76b3eb48-551d-4193-9697-c84fe3cddf15\",\"type\":\"PanTool\"},{\"id\":\"4967587f-51e7-498d-a1b3-ad4f739ec54b\",\"type\":\"WheelZoomTool\"},{\"id\":\"0222217c-70d2-4cb4-8695-b2bcb5278326\",\"type\":\"BoxZoomTool\"},{\"id\":\"03f498ed-3b84-41a3-acc1-1685e5b30abc\",\"type\":\"SaveTool\"},{\"id\":\"9d6f55c8-b960-45ba-9312-8282e6a7828a\",\"type\":\"ResetTool\"},{\"id\":\"e7efdeb1-ff8d-4fcd-b4fe-8dda9c1d163c\",\"type\":\"HelpTool\"}]},\"id\":\"c39b250f-4224-4d65-860e-4c9d62d4719f\",\"type\":\"Toolbar\"},{\"attributes\":{\"plot\":null,\"text\":\"Real GDP Legend Bar (USD)\"},\"id\":\"859bd235-b9c6-44c0-b243-195e9fea16bb\",\"type\":\"Title\"},{\"attributes\":{},\"id\":\"2b921112-e6e5-4b38-bffb-d35147738109\",\"type\":\"BasicTickFormatter\"},{\"attributes\":{},\"id\":\"49e8801d-256f-4f12-9d57-932c5a7d427e\",\"type\":\"LinearScale\"},{\"attributes\":{\"callback\":null},\"id\":\"fab7c25b-945b-4f51-b1d4-a236d5a6d63d\",\"type\":\"DataRange1d\"},{\"attributes\":{},\"id\":\"6b8fa06e-879d-4871-b014-0e5fb6edc082\",\"type\":\"LinearScale\"},{\"attributes\":{\"plot\":{\"id\":\"709bddf0-7b64-43c6-8372-f62079da3c0e\",\"subtype\":\"Figure\",\"type\":\"Plot\"},\"ticker\":{\"id\":\"f8b923ce-1ecf-4826-b689-f0373740dcc8\",\"type\":\"BasicTicker\"}},\"id\":\"6d3ed63c-850a-4a9a-8069-07fb7d42ecc1\",\"type\":\"Grid\"},{\"attributes\":{\"formatter\":{\"id\":\"c035000d-a293-4c48-85d7-31caac6d62e5\",\"type\":\"BasicTickFormatter\"},\"plot\":{\"id\":\"709bddf0-7b64-43c6-8372-f62079da3c0e\",\"subtype\":\"Figure\",\"type\":\"Plot\"},\"ticker\":{\"id\":\"f8b923ce-1ecf-4826-b689-f0373740dcc8\",\"type\":\"BasicTicker\"}},\"id\":\"37e6b4d4-9e84-4381-b7d8-64cf380a759c\",\"type\":\"LinearAxis\"},{\"attributes\":{},\"id\":\"f8b923ce-1ecf-4826-b689-f0373740dcc8\",\"type\":\"BasicTicker\"},{\"attributes\":{\"formatter\":{\"id\":\"b75bc5ef-db0d-4a7a-9797-030bb3771847\",\"type\":\"BasicTickFormatter\"},\"plot\":{\"id\":\"709bddf0-7b64-43c6-8372-f62079da3c0e\",\"subtype\":\"Figure\",\"type\":\"Plot\"},\"ticker\":{\"id\":\"c64156f6-2690-4b90-aad7-25f47f1c66c4\",\"type\":\"BasicTicker\"}},\"id\":\"cb722379-a6f9-4166-bdf2-c003dc4c9148\",\"type\":\"LinearAxis\"},{\"attributes\":{},\"id\":\"c64156f6-2690-4b90-aad7-25f47f1c66c4\",\"type\":\"BasicTicker\"},{\"attributes\":{\"dimension\":1,\"plot\":{\"id\":\"709bddf0-7b64-43c6-8372-f62079da3c0e\",\"subtype\":\"Figure\",\"type\":\"Plot\"},\"ticker\":{\"id\":\"c64156f6-2690-4b90-aad7-25f47f1c66c4\",\"type\":\"BasicTicker\"}},\"id\":\"74121d59-2867-45da-a5b4-3d50cf71b622\",\"type\":\"Grid\"},{\"attributes\":{\"children\":[{\"id\":\"a7b09cce-2c7d-461c-912e-d712a8439610\",\"subtype\":\"Figure\",\"type\":\"Plot\"},{\"id\":\"709bddf0-7b64-43c6-8372-f62079da3c0e\",\"subtype\":\"Figure\",\"type\":\"Plot\"}]},\"id\":\"dfbaba61-b308-4ac5-a977-fddcebbe7489\",\"type\":\"Row\"},{\"attributes\":{},\"id\":\"7c947f54-835c-4963-b92d-fc9883740f02\",\"type\":\"BasicTickFormatter\"},{\"attributes\":{\"bottom_units\":\"screen\",\"fill_alpha\":{\"value\":0.5},\"fill_color\":{\"value\":\"lightgrey\"},\"left_units\":\"screen\",\"level\":\"overlay\",\"line_alpha\":{\"value\":1.0},\"line_color\":{\"value\":\"black\"},\"line_dash\":[4,4],\"line_width\":{\"value\":2},\"plot\":null,\"render_mode\":\"css\",\"right_units\":\"screen\",\"top_units\":\"screen\"},\"id\":\"adc741bb-82ce-4e98-bf68-b6701b9d7fd1\",\"type\":\"BoxAnnotation\"},{\"attributes\":{},\"id\":\"76b3eb48-551d-4193-9697-c84fe3cddf15\",\"type\":\"PanTool\"},{\"attributes\":{},\"id\":\"4ba8899d-2da6-45a0-9aae-0782ad976510\",\"type\":\"Selection\"},{\"attributes\":{},\"id\":\"4967587f-51e7-498d-a1b3-ad4f739ec54b\",\"type\":\"WheelZoomTool\"},{\"attributes\":{\"overlay\":{\"id\":\"adc741bb-82ce-4e98-bf68-b6701b9d7fd1\",\"type\":\"BoxAnnotation\"}},\"id\":\"0222217c-70d2-4cb4-8695-b2bcb5278326\",\"type\":\"BoxZoomTool\"},{\"attributes\":{},\"id\":\"03f498ed-3b84-41a3-acc1-1685e5b30abc\",\"type\":\"SaveTool\"},{\"attributes\":{},\"id\":\"9d6f55c8-b960-45ba-9312-8282e6a7828a\",\"type\":\"ResetTool\"},{\"attributes\":{},\"id\":\"e7efdeb1-ff8d-4fcd-b4fe-8dda9c1d163c\",\"type\":\"HelpTool\"},{\"attributes\":{\"below\":[{\"id\":\"939506f5-d3a3-45b2-a4cd-4b8e1b1e6ebf\",\"type\":\"LinearAxis\"}],\"left\":[{\"id\":\"889b7b3e-818c-4ef6-980a-3fb972c84bbf\",\"type\":\"LinearAxis\"}],\"plot_height\":800,\"plot_width\":800,\"renderers\":[{\"id\":\"939506f5-d3a3-45b2-a4cd-4b8e1b1e6ebf\",\"type\":\"LinearAxis\"},{\"id\":\"ba2ba4b6-a6e3-48eb-aa1b-9e1b0bcb9403\",\"type\":\"Grid\"},{\"id\":\"889b7b3e-818c-4ef6-980a-3fb972c84bbf\",\"type\":\"LinearAxis\"},{\"id\":\"ba03ada9-e635-45ee-b472-dcdde58f0c36\",\"type\":\"Grid\"},{\"id\":\"35004762-b19c-499d-8f62-abf39ab25ec6\",\"type\":\"BoxAnnotation\"},{\"id\":\"030a26b6-f73b-4d8c-8722-b2fb398e3f7d\",\"type\":\"GlyphRenderer\"},{\"id\":\"3b07b197-80f0-4d43-8644-8d5831438180\",\"type\":\"GlyphRenderer\"},{\"id\":\"3cf38947-a1bc-46b3-a804-76afef661e2f\",\"type\":\"GlyphRenderer\"},{\"id\":\"70ac5eb5-c08b-4cf3-bbaa-001947c8d026\",\"type\":\"ColorBar\"}],\"right\":[{\"id\":\"70ac5eb5-c08b-4cf3-bbaa-001947c8d026\",\"type\":\"ColorBar\"}],\"title\":{\"id\":\"ebc34c33-0c67-42b1-84a3-8a816ab5da28\",\"type\":\"Title\"},\"toolbar\":{\"id\":\"186a7f47-96be-47bc-8d29-4f1e893a9e12\",\"type\":\"Toolbar\"},\"toolbar_location\":null,\"x_range\":{\"id\":\"1130b958-81d1-4aaa-aad4-c65cc030d17f\",\"type\":\"DataRange1d\"},\"x_scale\":{\"id\":\"ea63f8d7-15e0-482e-a14c-1b1f0cb937e5\",\"type\":\"LinearScale\"},\"y_range\":{\"id\":\"99d78fd4-3c6d-4422-8aeb-4d262202b69f\",\"type\":\"DataRange1d\"},\"y_scale\":{\"id\":\"a558ca90-cb10-479c-b2cf-df490ad28d07\",\"type\":\"LinearScale\"}},\"id\":\"a7b09cce-2c7d-461c-912e-d712a8439610\",\"subtype\":\"Figure\",\"type\":\"Plot\"},{\"attributes\":{},\"id\":\"f18f9231-434c-4afb-bae8-e422204f804d\",\"type\":\"UnionRenderers\"},{\"attributes\":{},\"id\":\"b75bc5ef-db0d-4a7a-9797-030bb3771847\",\"type\":\"BasicTickFormatter\"},{\"attributes\":{},\"id\":\"fe1e5218-0e54-415c-9199-9d45a22a0321\",\"type\":\"ResetTool\"},{\"attributes\":{},\"id\":\"ae4fe424-0be8-4adf-9053-95e984541495\",\"type\":\"UnionRenderers\"},{\"attributes\":{},\"id\":\"2ffe7aab-9c63-461e-a372-128ed3392a33\",\"type\":\"SaveTool\"},{\"attributes\":{},\"id\":\"cffcf2aa-d49e-4518-a24f-2328659acd5c\",\"type\":\"UnionRenderers\"},{\"attributes\":{},\"id\":\"38785703-f1e4-48e4-9ae6-4b5f867b29ff\",\"type\":\"HelpTool\"},{\"attributes\":{},\"id\":\"775900c5-714a-4cde-b000-bef510dad730\",\"type\":\"Selection\"},{\"attributes\":{\"callback\":null,\"data\":{\"x\":{\"__ndarray__\":\"4eNWwwuD4z8vgLt3f8DwPw2E7XJStOk/g28IXEED2z9Ia97iL4DiP59E5FmKVvI/exMgrkbz+D/TZHUSf+bvPzP7zd2XX/I/pCXKoPyL7T/+kAtiWBX2Py33FFQbr+o//3iY8DJP6D/8qHhSyHbqP34R6I86Gf8/\",\"dtype\":\"float64\",\"shape\":[15]},\"y\":{\"__ndarray__\":\"ZEp7AzBsI8Bw1kF2dHsjwKlBDsrxciPADaRBdaJlI8CYETiPFWsjwOizwZHqfiPAmJNBoViNI8CarIaLtHkjwNtqRlP+fiPA/yO5HSN3I8Aljpn4FocjwF946W4DdCPAbucyHWxxI8AdK5n5xXMjwBWnVnjDmiPA\",\"dtype\":\"float64\",\"shape\":[15]}},\"selected\":{\"id\":\"775900c5-714a-4cde-b000-bef510dad730\",\"type\":\"Selection\"},\"selection_policy\":{\"id\":\"f18f9231-434c-4afb-bae8-e422204f804d\",\"type\":\"UnionRenderers\"}},\"id\":\"d57d9615-fd3c-4300-87d9-456098384208\",\"type\":\"ColumnDataSource\"},{\"attributes\":{},\"id\":\"b490e02f-3741-475d-89fb-2d76510c0564\",\"type\":\"Selection\"},{\"attributes\":{\"callback\":null,\"renderers\":[{\"id\":\"030a26b6-f73b-4d8c-8722-b2fb398e3f7d\",\"type\":\"GlyphRenderer\"}],\"tooltips\":[[\"Country\",\"@country\"],[\"(Tax Rate, Log(number of entities offshore))\",\"($x, $y)\"]]},\"id\":\"2fd6f7cf-ac71-4e22-8eef-4fde5f3e722a\",\"type\":\"HoverTool\"},{\"attributes\":{},\"id\":\"28330c94-2ff5-4f88-a053-1b0ec32834ee\",\"type\":\"BasicTickFormatter\"},{\"attributes\":{\"plot\":null,\"text\":\"Number of entities offshore vs days to open a business(Small developed countries)\",\"text_color\":{\"value\":\"grey\"},\"text_font_size\":{\"value\":\"11pt\"},\"text_font_style\":\"normal\"},\"id\":\"ebc34c33-0c67-42b1-84a3-8a816ab5da28\",\"type\":\"Title\"},{\"attributes\":{\"callback\":null},\"id\":\"1130b958-81d1-4aaa-aad4-c65cc030d17f\",\"type\":\"DataRange1d\"},{\"attributes\":{\"active_drag\":\"auto\",\"active_inspect\":\"auto\",\"active_scroll\":\"auto\",\"active_tap\":\"auto\",\"logo\":null,\"tools\":[{\"id\":\"7f6d9b9b-f56b-4ec4-ae0f-df19c9a9a0d5\",\"type\":\"PanTool\"},{\"id\":\"38a87913-e28a-4daa-9086-ce15417a58c4\",\"type\":\"WheelZoomTool\"},{\"id\":\"dde44a8d-0de6-4ca8-86e9-19f5452c7f20\",\"type\":\"BoxZoomTool\"},{\"id\":\"2ffe7aab-9c63-461e-a372-128ed3392a33\",\"type\":\"SaveTool\"},{\"id\":\"fe1e5218-0e54-415c-9199-9d45a22a0321\",\"type\":\"ResetTool\"},{\"id\":\"38785703-f1e4-48e4-9ae6-4b5f867b29ff\",\"type\":\"HelpTool\"},{\"id\":\"2fd6f7cf-ac71-4e22-8eef-4fde5f3e722a\",\"type\":\"HoverTool\"},{\"id\":\"c2b8e572-ea1a-4d5f-af68-413f9b687b57\",\"type\":\"HoverTool\"},{\"id\":\"4b318806-592a-46a4-835b-cf9203be1621\",\"type\":\"HoverTool\"}]},\"id\":\"186a7f47-96be-47bc-8d29-4f1e893a9e12\",\"type\":\"Toolbar\"},{\"attributes\":{\"high\":1492800000000.0,\"low\":850000000.0,\"palette\":[\"#0072B2\",\"#E69F00\",\"#F0E442\"]},\"id\":\"fdda2832-2fdf-44e3-84ff-9443b2c590f6\",\"type\":\"LogColorMapper\"},{\"attributes\":{\"fill_alpha\":{\"value\":0.1},\"fill_color\":{\"value\":\"#1f77b4\"},\"line_alpha\":{\"value\":0.1},\"line_color\":{\"value\":\"#1f77b4\"},\"radius\":{\"units\":\"data\",\"value\":0.01},\"x\":{\"field\":\"x\"},\"y\":{\"field\":\"y\"}},\"id\":\"1ceb33b3-9be9-457b-b1e7-a156fa9b1080\",\"type\":\"Circle\"},{\"attributes\":{},\"id\":\"ea63f8d7-15e0-482e-a14c-1b1f0cb937e5\",\"type\":\"LinearScale\"},{\"attributes\":{\"callback\":null},\"id\":\"99d78fd4-3c6d-4422-8aeb-4d262202b69f\",\"type\":\"DataRange1d\"},{\"attributes\":{},\"id\":\"a558ca90-cb10-479c-b2cf-df490ad28d07\",\"type\":\"LinearScale\"},{\"attributes\":{\"plot\":{\"id\":\"a7b09cce-2c7d-461c-912e-d712a8439610\",\"subtype\":\"Figure\",\"type\":\"Plot\"},\"ticker\":{\"id\":\"6798dfa4-0e49-4956-9ba8-a283f1432271\",\"type\":\"BasicTicker\"}},\"id\":\"ba2ba4b6-a6e3-48eb-aa1b-9e1b0bcb9403\",\"type\":\"Grid\"},{\"attributes\":{\"axis_label\":\"Days to open a business\",\"formatter\":{\"id\":\"2b921112-e6e5-4b38-bffb-d35147738109\",\"type\":\"BasicTickFormatter\"},\"plot\":{\"id\":\"a7b09cce-2c7d-461c-912e-d712a8439610\",\"subtype\":\"Figure\",\"type\":\"Plot\"},\"ticker\":{\"id\":\"6798dfa4-0e49-4956-9ba8-a283f1432271\",\"type\":\"BasicTicker\"}},\"id\":\"939506f5-d3a3-45b2-a4cd-4b8e1b1e6ebf\",\"type\":\"LinearAxis\"},{\"attributes\":{},\"id\":\"6798dfa4-0e49-4956-9ba8-a283f1432271\",\"type\":\"BasicTicker\"},{\"attributes\":{\"axis_label\":\"Number of Entities Offshore (log scale)\",\"formatter\":{\"id\":\"28330c94-2ff5-4f88-a053-1b0ec32834ee\",\"type\":\"BasicTickFormatter\"},\"plot\":{\"id\":\"a7b09cce-2c7d-461c-912e-d712a8439610\",\"subtype\":\"Figure\",\"type\":\"Plot\"},\"ticker\":{\"id\":\"1ac1e3f5-7fe1-4763-9577-c132a8ea0658\",\"type\":\"BasicTicker\"}},\"id\":\"889b7b3e-818c-4ef6-980a-3fb972c84bbf\",\"type\":\"LinearAxis\"},{\"attributes\":{},\"id\":\"1ac1e3f5-7fe1-4763-9577-c132a8ea0658\",\"type\":\"BasicTicker\"},{\"attributes\":{\"dimension\":1,\"plot\":{\"id\":\"a7b09cce-2c7d-461c-912e-d712a8439610\",\"subtype\":\"Figure\",\"type\":\"Plot\"},\"ticker\":{\"id\":\"1ac1e3f5-7fe1-4763-9577-c132a8ea0658\",\"type\":\"BasicTicker\"}},\"id\":\"ba03ada9-e635-45ee-b472-dcdde58f0c36\",\"type\":\"Grid\"},{\"attributes\":{\"source\":{\"id\":\"6e7c15b1-b0c4-4b5f-b542-a3070da97d87\",\"type\":\"ColumnDataSource\"}},\"id\":\"614b0d8b-ce1a-46ea-8e89-ea0bb46120a6\",\"type\":\"CDSView\"},{\"attributes\":{\"fill_alpha\":{\"value\":0.5},\"fill_color\":{\"field\":\"c\",\"transform\":{\"id\":\"fdda2832-2fdf-44e3-84ff-9443b2c590f6\",\"type\":\"LogColorMapper\"}},\"line_alpha\":{\"value\":0.5},\"line_color\":{\"field\":\"c\",\"transform\":{\"id\":\"fdda2832-2fdf-44e3-84ff-9443b2c590f6\",\"type\":\"LogColorMapper\"}},\"radius\":{\"units\":\"data\",\"value\":0.01},\"x\":{\"field\":\"x\"},\"y\":{\"field\":\"y\"}},\"id\":\"78345d78-c920-4874-b349-cc0bf3f56aba\",\"type\":\"Circle\"},{\"attributes\":{\"callback\":null,\"renderers\":[{\"id\":\"3b07b197-80f0-4d43-8644-8d5831438180\",\"type\":\"GlyphRenderer\"}],\"tooltips\":[[\"Set of Country\",\"Not tax havens countries, p-value=0.837\"]]},\"id\":\"c2b8e572-ea1a-4d5f-af68-413f9b687b57\",\"type\":\"HoverTool\"},{\"attributes\":{\"bottom_units\":\"screen\",\"fill_alpha\":{\"value\":0.5},\"fill_color\":{\"value\":\"lightgrey\"},\"left_units\":\"screen\",\"level\":\"overlay\",\"line_alpha\":{\"value\":1.0},\"line_color\":{\"value\":\"black\"},\"line_dash\":[4,4],\"line_width\":{\"value\":2},\"plot\":null,\"render_mode\":\"css\",\"right_units\":\"screen\",\"top_units\":\"screen\"},\"id\":\"35004762-b19c-499d-8f62-abf39ab25ec6\",\"type\":\"BoxAnnotation\"},{\"attributes\":{},\"id\":\"7f6d9b9b-f56b-4ec4-ae0f-df19c9a9a0d5\",\"type\":\"PanTool\"},{\"attributes\":{\"data_source\":{\"id\":\"6e7c15b1-b0c4-4b5f-b542-a3070da97d87\",\"type\":\"ColumnDataSource\"},\"glyph\":{\"id\":\"78345d78-c920-4874-b349-cc0bf3f56aba\",\"type\":\"Circle\"},\"hover_glyph\":null,\"muted_glyph\":null,\"nonselection_glyph\":{\"id\":\"1ceb33b3-9be9-457b-b1e7-a156fa9b1080\",\"type\":\"Circle\"},\"selection_glyph\":null,\"view\":{\"id\":\"614b0d8b-ce1a-46ea-8e89-ea0bb46120a6\",\"type\":\"CDSView\"}},\"id\":\"030a26b6-f73b-4d8c-8722-b2fb398e3f7d\",\"type\":\"GlyphRenderer\"},{\"attributes\":{\"callback\":null,\"data\":{\"c\":[569333333333.3334,242000000000.0,9180787954.8,51926314674.13333,293933333333.3333,5216143943.461538,227133425171.26666,5301931545.6,4922173236.692307,2288000000.0,850000000.0,3274307831.133333,1492800000000.0,246466666666.66666,795266666666.6666,5418704083.333333,3343516256.5,1088333333333.3334,151083392370.0,241600000000.0,118940926181.06667,462666666666.6667,483466666666.6667,121546062271.0,30812990994.333332,381866666666.6667,16469675328.666666,308800000000.0,401066666666.6667,4098230769.230769,13049161890.0,2219048535.3076925,2361167216.785714,1977081765.4],\"country\":[\"Switzerland\",\"Hong Kong SAR, China\",\"Channel Islands\",\"Luxembourg\",\"United Arab Emirates\",\"Isle of Man\",\"Singapore\",\"Monaco\",\"Liechtenstein\",\"Gibraltar\",\"British Virgin Islands\",\"Andorra\",\"Canada\",\"Ireland\",\"Netherlands\",\"Bermuda\",\"Cayman Islands\",\"Australia\",\"New Zealand\",\"Finland\",\"Kuwait\",\"Belgium\",\"Sweden\",\"Qatar\",\"Macao SAR, China\",\"Austria\",\"Iceland\",\"Denmark\",\"Norway\",\"Virgin Islands (U.S.)\",\"Brunei Darussalam\",\"Faroe Islands\",\"Greenland\",\"San Marino\"],\"x\":[1.1962946451439682,0.7650295730617386,\"NaN\",1.2825465899699682,1.125481265700594,\"NaN\",0.5614421404196983,\"NaN\",\"NaN\",\"NaN\",\"NaN\",\"NaN\",0.6097468199942534,1.0469965626762237,0.8032619709666747,\"NaN\",\"NaN\",0.422073688388757,0.578147833922551,1.146128035678238,1.559393577744429,0.9968867645758571,1.148338190483355,0.9233382358954043,\"NaN\",1.380211241711606,0.8338753359055083,0.7596678446896304,0.8269998179214606,\"NaN\",1.943659364828903,\"NaN\",\"NaN\",1.4135791429792126],\"y\":[-7.176601371423348,-6.805050125770456,-5.6272616073940185,-6.6803582186425885,-7.606774170913472,-6.027863119211703,-7.745514455339305,-6.223648943244593,-6.3770265775175075,-6.050038794342846,-5.88527130483557,-6.825810647680471,-9.63367215161155,-8.883902319821594,-9.652539513166124,-7.5164114905252815,-7.498897573858133,-10.063634077291733,-9.315893867630418,-9.570183573306238,-9.297180065600369,-9.89441619975703,-9.944003846873546,-9.65337712940558,-9.090793848336471,-10.201700508532513,-9.040593778829416,-10.34354925598546,-10.457088532849667,-9.01053641832085,-10.115582619089098,\"NaN\",\"NaN\",\"NaN\"]},\"selected\":{\"id\":\"4ba8899d-2da6-45a0-9aae-0782ad976510\",\"type\":\"Selection\"},\"selection_policy\":{\"id\":\"cffcf2aa-d49e-4518-a24f-2328659acd5c\",\"type\":\"UnionRenderers\"}},\"id\":\"6e7c15b1-b0c4-4b5f-b542-a3070da97d87\",\"type\":\"ColumnDataSource\"},{\"attributes\":{},\"id\":\"38a87913-e28a-4daa-9086-ce15417a58c4\",\"type\":\"WheelZoomTool\"},{\"attributes\":{\"overlay\":{\"id\":\"35004762-b19c-499d-8f62-abf39ab25ec6\",\"type\":\"BoxAnnotation\"}},\"id\":\"dde44a8d-0de6-4ca8-86e9-19f5452c7f20\",\"type\":\"BoxZoomTool\"}],\"root_ids\":[\"dfbaba61-b308-4ac5-a977-fddcebbe7489\"]},\"title\":\"Bokeh Application\",\"version\":\"0.12.16\"}};\n",
       "  var render_items = [{\"docid\":\"59036ea4-4c49-4853-bb9e-06fee541f333\",\"elementid\":\"9f30fb1e-b7e9-4c6d-b835-aa6faf3038dd\",\"modelid\":\"dfbaba61-b308-4ac5-a977-fddcebbe7489\"}];\n",
       "  root.Bokeh.embed.embed_items_notebook(docs_json, render_items);\n",
       "\n",
       "  }\n",
       "  if (root.Bokeh !== undefined) {\n",
       "    embed_document(root);\n",
       "  } else {\n",
       "    var attempts = 0;\n",
       "    var timer = setInterval(function(root) {\n",
       "      if (root.Bokeh !== undefined) {\n",
       "        embed_document(root);\n",
       "        clearInterval(timer);\n",
       "      }\n",
       "      attempts++;\n",
       "      if (attempts > 100) {\n",
       "        console.log(\"Bokeh: ERROR: Unable to run BokehJS code because BokehJS library is missing\")\n",
       "        clearInterval(timer);\n",
       "      }\n",
       "    }, 10, root)\n",
       "  }\n",
       "})(window);"
      ],
      "application/vnd.bokehjs_exec.v0+json": ""
     },
     "metadata": {
      "application/vnd.bokehjs_exec.v0+json": {
       "id": "dfbaba61-b308-4ac5-a977-fddcebbe7489"
      }
     },
     "output_type": "display_data"
    }
   ],
   "source": [
    "selection=country_count_ease_business['GDP_y'].apply(lambda x: x>30000) & country_count_ease_business['GDP_x'].apply(lambda x: x<200*10e9)\n",
    "\n",
    "x = np.log10(country_count_ease_business['days_open_business'][selection])\n",
    "y = np.log10(country_count_ease_business['n_companies_offshore'][selection]/country_count_ease_business['GDP_x'][selection])\n",
    "country_names=country_count_ease_business['Country Name'][selection]\n",
    "c = country_count_ease_business['GDP_x'][selection]\n",
    "c[c.isna()]=0\n",
    "\n",
    "# establish the color mapper schema\n",
    "color_mapper = LogColorMapper(palette=\"Colorblind3\", low=min(c),\\\n",
    "                              high=max(c))\n",
    "\n",
    "# establish the sources of data to make the interactive graph\n",
    "source=ColumnDataSource(data=dict(\n",
    "    x=list(x),\n",
    "    y=list(y),\n",
    "    country=list(country_names),\n",
    "    c=list(c),\n",
    "))\n",
    "\n",
    "    \n",
    "# set the regression line\n",
    "df=pd.DataFrame({'days_open_business':x,'n_companies_offshore':y})\n",
    "df=df.dropna(inplace=False)\n",
    "df=df[df['n_companies_offshore'].apply(lambda x: x<-8)]\n",
    "\n",
    "a=np.array(df['days_open_business'])\n",
    "b=np.array(df['n_companies_offshore'])\n",
    "\n",
    "m,i,r,p_value,std=stats.linregress(a,b)\n",
    "\n",
    "p = figure(title=\"Number of entities offshore vs days to open a business(Small developed countries)\", plot_width=800, plot_height=800)\n",
    "\n",
    "scatter=p.scatter(x='x', y='y', radius=0.01, source=source, color={'field': 'c', 'transform': color_mapper}, alpha=0.5)\n",
    "hover= HoverTool(tooltips = [(\"Country\", \"@country\"),(\"(Tax Rate, Log(number of entities offshore))\", \"($x, $y)\")],renderers=[scatter])\n",
    "p.add_tools(hover)\n",
    "\n",
    "\n",
    "line=p.line(df['days_open_business'], m*df['days_open_business']+i, line_width=4, color='navy', alpha=0.1)\n",
    "hover0=HoverTool(tooltips = [(\"Set of Country\",'Not tax havens countries, p-value='+str(p_value)[:5])], renderers=[line])\n",
    "p.add_tools(hover0)\n",
    "circle=p.circle(0.85, -7, size=370, color=\"navy\", alpha=0.1)\n",
    "hover1=HoverTool(tooltips = [(\"Set of Country\",'Tax havens')], renderers=[circle])\n",
    "p.add_tools(hover1)\n",
    "\n",
    "\n",
    "# set the style of the title\n",
    "p.title.text_color = \"grey\"\n",
    "p.title.text_font = \"helvetica\"\n",
    "p.title.text_font_style = \"normal\"\n",
    "p.title.text_font_size = '11pt'\n",
    "\n",
    "# set the label options\n",
    "p.xaxis.axis_label='Days to open a business'\n",
    "p.yaxis.axis_label='Number of Entities Offshore (log scale)'\n",
    "\n",
    "# add the color bar\n",
    "color_bar = ColorBar(color_mapper=color_mapper, ticker=LogTicker(),\n",
    "                     label_standoff=12, border_line_color=None, location=(20,0))\n",
    "\n",
    "# set the color bar title\n",
    "color_bar_height = 511\n",
    "color_bar_width = 35\n",
    "\n",
    "color_bar_plot = figure(title=\"Real GDP Legend Bar (USD)\", title_location=\"right\", \n",
    "                        height=color_bar_height, width=color_bar_width, \n",
    "                        toolbar_location=None, min_border=None, \n",
    "                        outline_line_color=None)\n",
    "\n",
    "p.add_layout(color_bar, 'right')\n",
    "\n",
    "# remove the interactive toolbar\n",
    "p.toolbar.logo = None\n",
    "p.toolbar_location = None\n",
    "\n",
    "layout = row_plot(p, color_bar_plot)\n",
    "output_file(\"daysbusinesssmalldevelopedcountries.html\", title=\"daysbusinesssmalldevelopedcountries\")\n",
    "show(layout)\n"
   ]
  },
  {
   "cell_type": "markdown",
   "metadata": {},
   "source": [
    "#### Developing Countries"
   ]
  },
  {
   "cell_type": "markdown",
   "metadata": {},
   "source": [
    "Secondly the graph of days to open a business and presence in Panama Paper of developing countries is plotted. BRICs countries have been considered, as well as all other countries which had a GDP greater than 40 billions USD a year. Also in this case the GDP has been used as a weight for the count of entities offshore because the discrepancy between the size of the economies is really high.\n",
    "\n",
    "By observing this graphs it is immediately clear that no conclusion can be drawn from the data: days to open a business is not a factor influencing in any manner entities in this category of countries to go offshore. "
   ]
  },
  {
   "cell_type": "code",
   "execution_count": 61,
   "metadata": {},
   "outputs": [
    {
     "data": {
      "text/html": [
       "\n",
       "<div class=\"bk-root\">\n",
       "    <div class=\"bk-plotdiv\" id=\"0675744e-b205-42fc-868e-a1f490f4a841\"></div>\n",
       "</div>"
      ]
     },
     "metadata": {},
     "output_type": "display_data"
    },
    {
     "data": {
      "application/javascript": [
       "(function(root) {\n",
       "  function embed_document(root) {\n",
       "    \n",
       "  var docs_json = {\"ba31164c-2925-4864-9008-101cbe8e27a4\":{\"roots\":{\"references\":[{\"attributes\":{\"below\":[{\"id\":\"b24afa6a-1dc8-4cca-82b0-705de402c4c3\",\"type\":\"LinearAxis\"}],\"left\":[{\"id\":\"333288df-0853-4327-a50c-b6ec044644a9\",\"type\":\"LinearAxis\"}],\"plot_height\":800,\"plot_width\":800,\"renderers\":[{\"id\":\"b24afa6a-1dc8-4cca-82b0-705de402c4c3\",\"type\":\"LinearAxis\"},{\"id\":\"2978831b-2d29-4de8-aefa-abd597c6efec\",\"type\":\"Grid\"},{\"id\":\"333288df-0853-4327-a50c-b6ec044644a9\",\"type\":\"LinearAxis\"},{\"id\":\"e964d3c4-93ed-4838-8c1c-372a9a0831d9\",\"type\":\"Grid\"},{\"id\":\"999bc8b9-d05d-4322-8816-2115ab34cb13\",\"type\":\"BoxAnnotation\"},{\"id\":\"7f9e3f6f-da48-4818-b125-959b1f6ed30e\",\"type\":\"GlyphRenderer\"},{\"id\":\"e428c9ea-4f94-484b-9466-86b3b3bef0a0\",\"type\":\"GlyphRenderer\"},{\"id\":\"7af74ba0-9fa9-4067-bf5d-8167cc843c38\",\"type\":\"ColorBar\"}],\"right\":[{\"id\":\"7af74ba0-9fa9-4067-bf5d-8167cc843c38\",\"type\":\"ColorBar\"}],\"title\":{\"id\":\"091b4ee7-400d-4bc3-9126-8bacb3539129\",\"type\":\"Title\"},\"toolbar\":{\"id\":\"3df395d8-9f65-4ace-bf0c-2b985a07c709\",\"type\":\"Toolbar\"},\"toolbar_location\":null,\"x_range\":{\"id\":\"20474af1-9328-4132-a519-013e0151a34b\",\"type\":\"DataRange1d\"},\"x_scale\":{\"id\":\"3b4006ff-1c0c-4701-bb92-2f5547dc566b\",\"type\":\"LinearScale\"},\"y_range\":{\"id\":\"dd6866e7-259e-489c-89da-13c9dc58875f\",\"type\":\"DataRange1d\"},\"y_scale\":{\"id\":\"c9e7e5cf-8261-4172-a34e-eac3e2934f56\",\"type\":\"LinearScale\"}},\"id\":\"90c40c03-55ff-4292-80d3-a2494b324d49\",\"subtype\":\"Figure\",\"type\":\"Plot\"},{\"attributes\":{},\"id\":\"a6c55e5c-9a2c-406d-a4f3-2e14e6f4db5b\",\"type\":\"BasicTickFormatter\"},{\"attributes\":{\"source\":{\"id\":\"494a8731-e656-4455-afc6-1730f6c46577\",\"type\":\"ColumnDataSource\"}},\"id\":\"98eda74c-e079-406b-b011-39255fd525a4\",\"type\":\"CDSView\"},{\"attributes\":{},\"id\":\"290b8792-a47f-49a5-a36c-ffb973d81431\",\"type\":\"BasicTickFormatter\"},{\"attributes\":{\"active_drag\":\"auto\",\"active_inspect\":\"auto\",\"active_scroll\":\"auto\",\"active_tap\":\"auto\",\"logo\":null,\"tools\":[{\"id\":\"108dfd8a-359d-4fbe-bd96-33f80084a86d\",\"type\":\"PanTool\"},{\"id\":\"201715b1-f7ee-458a-941c-9d991c39d999\",\"type\":\"WheelZoomTool\"},{\"id\":\"701c2f70-a529-42e4-95ee-974709afcefe\",\"type\":\"BoxZoomTool\"},{\"id\":\"fd39cded-335c-4b98-973c-d7ca2d1d35af\",\"type\":\"SaveTool\"},{\"id\":\"c5de9cdd-4ce7-45b0-9774-7649f6edf969\",\"type\":\"ResetTool\"},{\"id\":\"b94b0c20-4fc7-40d2-8060-714cb8cdf74f\",\"type\":\"HelpTool\"},{\"id\":\"b509fa6e-5eb2-4c73-80f3-7152e4ded8b3\",\"type\":\"HoverTool\"},{\"id\":\"75207ea0-d919-409f-aee8-e77cc461af43\",\"type\":\"HoverTool\"}]},\"id\":\"3df395d8-9f65-4ace-bf0c-2b985a07c709\",\"type\":\"Toolbar\"},{\"attributes\":{\"fill_alpha\":{\"value\":0.1},\"fill_color\":{\"value\":\"#1f77b4\"},\"line_alpha\":{\"value\":0.1},\"line_color\":{\"value\":\"#1f77b4\"},\"radius\":{\"units\":\"data\",\"value\":0.01},\"x\":{\"field\":\"x\"},\"y\":{\"field\":\"y\"}},\"id\":\"664d4106-d178-4284-b96d-57d5509e0be2\",\"type\":\"Circle\"},{\"attributes\":{\"plot\":null,\"text\":\"Number of entities offshore vs days to open a business (Major developing countries)\",\"text_color\":{\"value\":\"grey\"},\"text_font_size\":{\"value\":\"11pt\"},\"text_font_style\":\"normal\"},\"id\":\"091b4ee7-400d-4bc3-9126-8bacb3539129\",\"type\":\"Title\"},{\"attributes\":{\"callback\":null},\"id\":\"20474af1-9328-4132-a519-013e0151a34b\",\"type\":\"DataRange1d\"},{\"attributes\":{},\"id\":\"3b4006ff-1c0c-4701-bb92-2f5547dc566b\",\"type\":\"LinearScale\"},{\"attributes\":{},\"id\":\"fb743c6c-c523-45ab-87fd-8d6285b9a7a2\",\"type\":\"ResetTool\"},{\"attributes\":{},\"id\":\"c9e7e5cf-8261-4172-a34e-eac3e2934f56\",\"type\":\"LinearScale\"},{\"attributes\":{\"plot\":{\"id\":\"90c40c03-55ff-4292-80d3-a2494b324d49\",\"subtype\":\"Figure\",\"type\":\"Plot\"},\"ticker\":{\"id\":\"534eb0c5-5a82-4127-aec4-42a3b804bd47\",\"type\":\"BasicTicker\"}},\"id\":\"2978831b-2d29-4de8-aefa-abd597c6efec\",\"type\":\"Grid\"},{\"attributes\":{},\"id\":\"a0e5717a-1ee2-499d-8ba7-463b1ad661e2\",\"type\":\"BasicTickFormatter\"},{\"attributes\":{\"axis_label\":\"Days to open a business\",\"formatter\":{\"id\":\"a6c55e5c-9a2c-406d-a4f3-2e14e6f4db5b\",\"type\":\"BasicTickFormatter\"},\"plot\":{\"id\":\"90c40c03-55ff-4292-80d3-a2494b324d49\",\"subtype\":\"Figure\",\"type\":\"Plot\"},\"ticker\":{\"id\":\"534eb0c5-5a82-4127-aec4-42a3b804bd47\",\"type\":\"BasicTicker\"}},\"id\":\"b24afa6a-1dc8-4cca-82b0-705de402c4c3\",\"type\":\"LinearAxis\"},{\"attributes\":{\"callback\":null},\"id\":\"dd6866e7-259e-489c-89da-13c9dc58875f\",\"type\":\"DataRange1d\"},{\"attributes\":{},\"id\":\"534eb0c5-5a82-4127-aec4-42a3b804bd47\",\"type\":\"BasicTicker\"},{\"attributes\":{},\"id\":\"5aa6d7c0-4164-4a90-ab64-179b851b5add\",\"type\":\"BasicTicker\"},{\"attributes\":{\"dimension\":1,\"plot\":{\"id\":\"90c40c03-55ff-4292-80d3-a2494b324d49\",\"subtype\":\"Figure\",\"type\":\"Plot\"},\"ticker\":{\"id\":\"5aa6d7c0-4164-4a90-ab64-179b851b5add\",\"type\":\"BasicTicker\"}},\"id\":\"e964d3c4-93ed-4838-8c1c-372a9a0831d9\",\"type\":\"Grid\"},{\"attributes\":{\"bottom_units\":\"screen\",\"fill_alpha\":{\"value\":0.5},\"fill_color\":{\"value\":\"lightgrey\"},\"left_units\":\"screen\",\"level\":\"overlay\",\"line_alpha\":{\"value\":1.0},\"line_color\":{\"value\":\"black\"},\"line_dash\":[4,4],\"line_width\":{\"value\":2},\"plot\":null,\"render_mode\":\"css\",\"right_units\":\"screen\",\"top_units\":\"screen\"},\"id\":\"0038ac67-763a-4a9a-a44a-1f9bc0e97630\",\"type\":\"BoxAnnotation\"},{\"attributes\":{\"axis_label\":\"Number of Entities Offshore (log scale)\",\"formatter\":{\"id\":\"a0e5717a-1ee2-499d-8ba7-463b1ad661e2\",\"type\":\"BasicTickFormatter\"},\"plot\":{\"id\":\"90c40c03-55ff-4292-80d3-a2494b324d49\",\"subtype\":\"Figure\",\"type\":\"Plot\"},\"ticker\":{\"id\":\"5aa6d7c0-4164-4a90-ab64-179b851b5add\",\"type\":\"BasicTicker\"}},\"id\":\"333288df-0853-4327-a50c-b6ec044644a9\",\"type\":\"LinearAxis\"},{\"attributes\":{\"high\":64306666666666.664,\"low\":404933333333.3333,\"palette\":[\"#0072B2\",\"#E69F00\",\"#F0E442\",\"#009E73\"]},\"id\":\"1693fdff-1c3e-4170-9160-65b2c6fb5b67\",\"type\":\"LogColorMapper\"},{\"attributes\":{\"source\":{\"id\":\"feca05e5-c1e2-4650-ac15-84fd657027fa\",\"type\":\"ColumnDataSource\"}},\"id\":\"b490095b-0391-4a95-af85-5c714dee0cd4\",\"type\":\"CDSView\"},{\"attributes\":{\"data_source\":{\"id\":\"feca05e5-c1e2-4650-ac15-84fd657027fa\",\"type\":\"ColumnDataSource\"},\"glyph\":{\"id\":\"7e11ebce-471a-432a-9244-171eddc84266\",\"type\":\"Circle\"},\"hover_glyph\":null,\"muted_glyph\":null,\"nonselection_glyph\":{\"id\":\"664d4106-d178-4284-b96d-57d5509e0be2\",\"type\":\"Circle\"},\"selection_glyph\":null,\"view\":{\"id\":\"b490095b-0391-4a95-af85-5c714dee0cd4\",\"type\":\"CDSView\"}},\"id\":\"7f9e3f6f-da48-4818-b125-959b1f6ed30e\",\"type\":\"GlyphRenderer\"},{\"attributes\":{\"fill_alpha\":{\"value\":0.5},\"fill_color\":{\"field\":\"c\",\"transform\":{\"id\":\"1693fdff-1c3e-4170-9160-65b2c6fb5b67\",\"type\":\"LogColorMapper\"}},\"line_alpha\":{\"value\":0.5},\"line_color\":{\"field\":\"c\",\"transform\":{\"id\":\"1693fdff-1c3e-4170-9160-65b2c6fb5b67\",\"type\":\"LogColorMapper\"}},\"radius\":{\"units\":\"data\",\"value\":0.01},\"x\":{\"field\":\"x\"},\"y\":{\"field\":\"y\"}},\"id\":\"7e11ebce-471a-432a-9244-171eddc84266\",\"type\":\"Circle\"},{\"attributes\":{},\"id\":\"108dfd8a-359d-4fbe-bd96-33f80084a86d\",\"type\":\"PanTool\"},{\"attributes\":{\"callback\":null,\"renderers\":[{\"id\":\"e428c9ea-4f94-484b-9466-86b3b3bef0a0\",\"type\":\"GlyphRenderer\"}],\"tooltips\":[[\"Set of Country\",\"Developing countries\"]]},\"id\":\"75207ea0-d919-409f-aee8-e77cc461af43\",\"type\":\"HoverTool\"},{\"attributes\":{\"bottom_units\":\"screen\",\"fill_alpha\":{\"value\":0.5},\"fill_color\":{\"value\":\"lightgrey\"},\"left_units\":\"screen\",\"level\":\"overlay\",\"line_alpha\":{\"value\":1.0},\"line_color\":{\"value\":\"black\"},\"line_dash\":[4,4],\"line_width\":{\"value\":2},\"plot\":null,\"render_mode\":\"css\",\"right_units\":\"screen\",\"top_units\":\"screen\"},\"id\":\"999bc8b9-d05d-4322-8816-2115ab34cb13\",\"type\":\"BoxAnnotation\"},{\"attributes\":{},\"id\":\"201715b1-f7ee-458a-941c-9d991c39d999\",\"type\":\"WheelZoomTool\"},{\"attributes\":{\"overlay\":{\"id\":\"999bc8b9-d05d-4322-8816-2115ab34cb13\",\"type\":\"BoxAnnotation\"}},\"id\":\"701c2f70-a529-42e4-95ee-974709afcefe\",\"type\":\"BoxZoomTool\"},{\"attributes\":{\"line_alpha\":0.1,\"line_color\":\"#1f77b4\",\"line_width\":4,\"x\":{\"field\":\"x\"},\"y\":{\"field\":\"y\"}},\"id\":\"331a6bc9-5ef4-43c6-abac-4bbbb591a532\",\"type\":\"Line\"},{\"attributes\":{},\"id\":\"b94b0c20-4fc7-40d2-8060-714cb8cdf74f\",\"type\":\"HelpTool\"},{\"attributes\":{},\"id\":\"fd39cded-335c-4b98-973c-d7ca2d1d35af\",\"type\":\"SaveTool\"},{\"attributes\":{},\"id\":\"6e697807-2253-4e78-96e4-7879ee81b8e7\",\"type\":\"HelpTool\"},{\"attributes\":{},\"id\":\"c5de9cdd-4ce7-45b0-9774-7649f6edf969\",\"type\":\"ResetTool\"},{\"attributes\":{\"callback\":null,\"data\":{\"x\":{\"__ndarray__\":\"8giVrwrA8D+djrRoODT3P3gZQU2AqP4/jLACDO6Z9j+y8GHD4QH6Pz/MeAsLC+s/PTFAJ7KT7T+q8Nq2C2r6P3s3BqPq5vc/\",\"dtype\":\"float64\",\"shape\":[9]},\"y\":{\"__ndarray__\":\"u9eX4j1UI8A5vFsrwUojwEjBNfvLPyPATjRE+qNLI8DPqn8zokYjwD/uWuD8WCPAZMQvHSBXI8CBYVYUCUYjwGymCXy6SSPA\",\"dtype\":\"float64\",\"shape\":[9]}},\"selected\":{\"id\":\"67c16bec-1b02-4e77-af98-339098270609\",\"type\":\"Selection\"},\"selection_policy\":{\"id\":\"1c268bc6-6f07-4d17-a388-685203ed9a73\",\"type\":\"UnionRenderers\"}},\"id\":\"494a8731-e656-4455-afc6-1730f6c46577\",\"type\":\"ColumnDataSource\"},{\"attributes\":{\"line_alpha\":0.1,\"line_color\":\"navy\",\"line_width\":4,\"x\":{\"field\":\"x\"},\"y\":{\"field\":\"y\"}},\"id\":\"407cd9ba-6238-4fa3-877f-debc1a217144\",\"type\":\"Line\"},{\"attributes\":{},\"id\":\"24ab83a9-dcb5-4651-bedf-2c1b92e90bf8\",\"type\":\"SaveTool\"},{\"attributes\":{\"data_source\":{\"id\":\"494a8731-e656-4455-afc6-1730f6c46577\",\"type\":\"ColumnDataSource\"},\"glyph\":{\"id\":\"407cd9ba-6238-4fa3-877f-debc1a217144\",\"type\":\"Line\"},\"hover_glyph\":null,\"muted_glyph\":null,\"nonselection_glyph\":{\"id\":\"331a6bc9-5ef4-43c6-abac-4bbbb591a532\",\"type\":\"Line\"},\"selection_glyph\":null,\"view\":{\"id\":\"98eda74c-e079-406b-b011-39255fd525a4\",\"type\":\"CDSView\"}},\"id\":\"e428c9ea-4f94-484b-9466-86b3b3bef0a0\",\"type\":\"GlyphRenderer\"},{\"attributes\":{\"callback\":null,\"data\":{\"c\":[1421666666666.6667,6584000000000.0,1725266666666.6667,404933333333.3333,438466666666.6667,719600000000.0,1056200000000.0,653866666666.6666,1527933333333.3333,2047133333333.3333,1227600000000.0,8232000000000.0,7951333333333.333,16616666666666.666,2884666666666.6665,591400000000.0,464266666666.6667,19073333333333.332,20481333333333.332,1392466666666.6667,657466666666.6666,731600000000.0,3869333333333.3335,4699333333333.333,652133333333.3334,4177333333333.3335,19372000000000.0,13275333333333.334,2608000000000.0,18997333333333.332,1217600000000.0,926800000000.0,1933466666666.6667,1220066666666.6667,1221066666666.6667,8206666666666.667,3376666666666.6665,4509333333333.333,1208333333333.3333,1933466666666.6667,1221066666666.6667,14828000000000.0,64306666666666.664],\"country\":[\"Russian Federation\",\"China\",\"Brazil\",\"Argentina\",\"Poland\",\"Turkey\",\"Mexico\",\"Indonesia\",\"India\",\"Arab World\",\"Central Europe and the Baltics\",\"East Asia & Pacific (excluding high income)\",\"Early-demographic dividend\",\"East Asia & Pacific\",\"Europe & Central Asia (excluding high income)\",\"Fragile and conflict affected situations\",\"Heavily indebted poor countries (HIPC)\",\"IBRD only\",\"IDA & IBRD total\",\"IDA total\",\"IDA blend\",\"IDA only\",\"Latin America & Caribbean (excluding high income)\",\"Latin America & Caribbean\",\"Least developed countries: UN classification\",\"Lower middle income\",\"Low & middle income\",\"Late-demographic dividend\",\"Middle East & North Africa\",\"Middle income\",\"Middle East & North Africa (excluding high income)\",\"Pre-demographic dividend\",\"South Asia\",\"Sub-Saharan Africa (excluding high income)\",\"Sub-Saharan Africa\",\"East Asia & Pacific (IDA & IBRD countries)\",\"Europe & Central Asia (IDA & IBRD countries)\",\"Latin America & the Caribbean (IDA & IBRD countries)\",\"Middle East & North Africa (IDA & IBRD countries)\",\"South Asia (IDA & IBRD)\",\"Sub-Saharan Africa (IDA & IBRD countries)\",\"Upper middle income\",\"World\"],\"x\":[1.0468851908377101,1.4502491083193612,1.9161379831071752,1.4125805348549276,1.6254594452030173,0.8450980400142568,0.9242792860618817,1.6508900778563125,1.493876110852823,1.4174903556298613,1.313332990624795,1.6203804067461145,1.677371873527108,1.543107450512011,1.3507917909172642,1.6779825512748712,1.5878396399538224,1.6192257835452473,1.5927512762588523,1.567618557127685,1.576774349275635,1.5653923731299817,1.8048672851850727,1.7110903303703175,1.637714083896013,1.5783223930166734,1.607466949446089,1.3567967914523142,1.3868151895931013,1.6113396513831781,1.4113248300983101,1.6197130129690627,1.3737655565390983,1.6312125167648461,1.6293251278929,1.612191564830096,1.364504906505121,1.7323166323161998,1.358826548429064,1.3737655565390983,1.6293251278929,1.6386963777981791,1.527810598941708],\"y\":[-8.529858811572389,-9.311579096652695,-9.091038517039856,-9.176019764367577,-9.443279495849152,-9.85276978089087,-10.21083280650962,-10.36833116677644,-10.861885110816559,\"NaN\",\"NaN\",\"NaN\",\"NaN\",\"NaN\",\"NaN\",\"NaN\",\"NaN\",\"NaN\",\"NaN\",\"NaN\",\"NaN\",\"NaN\",\"NaN\",\"NaN\",\"NaN\",\"NaN\",\"NaN\",\"NaN\",\"NaN\",\"NaN\",\"NaN\",\"NaN\",\"NaN\",\"NaN\",\"NaN\",\"NaN\",\"NaN\",\"NaN\",\"NaN\",\"NaN\",\"NaN\",\"NaN\",\"NaN\"]},\"selected\":{\"id\":\"9a2c5318-8dce-4ba5-bbd8-3ee39290f324\",\"type\":\"Selection\"},\"selection_policy\":{\"id\":\"21c28f8c-5c5e-40fa-a9d6-f7939e78df0a\",\"type\":\"UnionRenderers\"}},\"id\":\"feca05e5-c1e2-4650-ac15-84fd657027fa\",\"type\":\"ColumnDataSource\"},{\"attributes\":{},\"id\":\"21c28f8c-5c5e-40fa-a9d6-f7939e78df0a\",\"type\":\"UnionRenderers\"},{\"attributes\":{},\"id\":\"739ece81-8e8e-4060-adf3-c915ad7279b0\",\"type\":\"BasicTickFormatter\"},{\"attributes\":{},\"id\":\"bd7b05e9-47b6-4e21-8913-af3be9b74088\",\"type\":\"BasicTickFormatter\"},{\"attributes\":{},\"id\":\"9a2c5318-8dce-4ba5-bbd8-3ee39290f324\",\"type\":\"Selection\"},{\"attributes\":{\"callback\":null,\"renderers\":[{\"id\":\"7f9e3f6f-da48-4818-b125-959b1f6ed30e\",\"type\":\"GlyphRenderer\"}],\"tooltips\":[[\"Country\",\"@country\"],[\"(Tax Rate, Log(number of entities offshore))\",\"($x, $y)\"]]},\"id\":\"b509fa6e-5eb2-4c73-80f3-7152e4ded8b3\",\"type\":\"HoverTool\"},{\"attributes\":{},\"id\":\"0ade1ff1-f019-4430-bd47-453ad05ec36d\",\"type\":\"LinearScale\"},{\"attributes\":{\"dimension\":1,\"plot\":{\"id\":\"79b17d8e-339f-4cb5-af9a-ebfc258b9dc2\",\"subtype\":\"Figure\",\"type\":\"Plot\"},\"ticker\":{\"id\":\"dcd13d2c-7568-4da9-9080-fd87bfb1d58f\",\"type\":\"BasicTicker\"}},\"id\":\"8a9a4199-2d00-4959-a89a-658fe7e87cc9\",\"type\":\"Grid\"},{\"attributes\":{\"plot\":null,\"text\":\"Real GDP Legend Bar (USD)\"},\"id\":\"e03db110-2fce-4e66-856f-9dc6baa5142f\",\"type\":\"Title\"},{\"attributes\":{\"overlay\":{\"id\":\"0038ac67-763a-4a9a-a44a-1f9bc0e97630\",\"type\":\"BoxAnnotation\"}},\"id\":\"187c669b-8968-4f2d-a9d0-db69d0e709c1\",\"type\":\"BoxZoomTool\"},{\"attributes\":{},\"id\":\"083d318a-fe02-48bd-96e4-7b20466ac270\",\"type\":\"LinearScale\"},{\"attributes\":{\"formatter\":{\"id\":\"739ece81-8e8e-4060-adf3-c915ad7279b0\",\"type\":\"BasicTickFormatter\"},\"plot\":{\"id\":\"79b17d8e-339f-4cb5-af9a-ebfc258b9dc2\",\"subtype\":\"Figure\",\"type\":\"Plot\"},\"ticker\":{\"id\":\"dcd13d2c-7568-4da9-9080-fd87bfb1d58f\",\"type\":\"BasicTicker\"}},\"id\":\"9538fff2-597a-4fdf-8407-2e2946167843\",\"type\":\"LinearAxis\"},{\"attributes\":{},\"id\":\"1c268bc6-6f07-4d17-a388-685203ed9a73\",\"type\":\"UnionRenderers\"},{\"attributes\":{\"callback\":null},\"id\":\"1f902c90-5aa8-469e-b327-dbc09d35e5ac\",\"type\":\"DataRange1d\"},{\"attributes\":{\"children\":[{\"id\":\"90c40c03-55ff-4292-80d3-a2494b324d49\",\"subtype\":\"Figure\",\"type\":\"Plot\"},{\"id\":\"79b17d8e-339f-4cb5-af9a-ebfc258b9dc2\",\"subtype\":\"Figure\",\"type\":\"Plot\"}]},\"id\":\"b9e4e2e4-0231-403c-8549-67f61f5b6d59\",\"type\":\"Row\"},{\"attributes\":{},\"id\":\"d1508dd6-fddb-4dbb-94bb-b19f39273da9\",\"type\":\"WheelZoomTool\"},{\"attributes\":{\"plot\":{\"id\":\"79b17d8e-339f-4cb5-af9a-ebfc258b9dc2\",\"subtype\":\"Figure\",\"type\":\"Plot\"},\"ticker\":{\"id\":\"0b04c0de-65a5-4d25-9057-1cbab73466e4\",\"type\":\"BasicTicker\"}},\"id\":\"c1f90f3c-0319-4bab-bdcf-552ec1fa53ee\",\"type\":\"Grid\"},{\"attributes\":{},\"id\":\"0b04c0de-65a5-4d25-9057-1cbab73466e4\",\"type\":\"BasicTicker\"},{\"attributes\":{\"below\":[{\"id\":\"18d42284-d2f6-4109-beed-bd4f331ead1a\",\"type\":\"LinearAxis\"}],\"left\":[{\"id\":\"9538fff2-597a-4fdf-8407-2e2946167843\",\"type\":\"LinearAxis\"}],\"min_border\":null,\"outline_line_color\":{\"value\":null},\"plot_height\":511,\"plot_width\":35,\"renderers\":[{\"id\":\"18d42284-d2f6-4109-beed-bd4f331ead1a\",\"type\":\"LinearAxis\"},{\"id\":\"c1f90f3c-0319-4bab-bdcf-552ec1fa53ee\",\"type\":\"Grid\"},{\"id\":\"9538fff2-597a-4fdf-8407-2e2946167843\",\"type\":\"LinearAxis\"},{\"id\":\"8a9a4199-2d00-4959-a89a-658fe7e87cc9\",\"type\":\"Grid\"},{\"id\":\"0038ac67-763a-4a9a-a44a-1f9bc0e97630\",\"type\":\"BoxAnnotation\"}],\"title\":{\"id\":\"e03db110-2fce-4e66-856f-9dc6baa5142f\",\"type\":\"Title\"},\"title_location\":\"right\",\"toolbar\":{\"id\":\"2ef69367-f669-43f9-bf60-ad9a866cc402\",\"type\":\"Toolbar\"},\"toolbar_location\":null,\"x_range\":{\"id\":\"58a8e8ad-10e9-4348-8daa-f2fbb1e81b55\",\"type\":\"DataRange1d\"},\"x_scale\":{\"id\":\"083d318a-fe02-48bd-96e4-7b20466ac270\",\"type\":\"LinearScale\"},\"y_range\":{\"id\":\"1f902c90-5aa8-469e-b327-dbc09d35e5ac\",\"type\":\"DataRange1d\"},\"y_scale\":{\"id\":\"0ade1ff1-f019-4430-bd47-453ad05ec36d\",\"type\":\"LinearScale\"}},\"id\":\"79b17d8e-339f-4cb5-af9a-ebfc258b9dc2\",\"subtype\":\"Figure\",\"type\":\"Plot\"},{\"attributes\":{},\"id\":\"dcd13d2c-7568-4da9-9080-fd87bfb1d58f\",\"type\":\"BasicTicker\"},{\"attributes\":{\"active_drag\":\"auto\",\"active_inspect\":\"auto\",\"active_scroll\":\"auto\",\"active_tap\":\"auto\",\"tools\":[{\"id\":\"5da6ccc0-a3f7-4e72-880a-a868a8e46403\",\"type\":\"PanTool\"},{\"id\":\"d1508dd6-fddb-4dbb-94bb-b19f39273da9\",\"type\":\"WheelZoomTool\"},{\"id\":\"187c669b-8968-4f2d-a9d0-db69d0e709c1\",\"type\":\"BoxZoomTool\"},{\"id\":\"24ab83a9-dcb5-4651-bedf-2c1b92e90bf8\",\"type\":\"SaveTool\"},{\"id\":\"fb743c6c-c523-45ab-87fd-8d6285b9a7a2\",\"type\":\"ResetTool\"},{\"id\":\"6e697807-2253-4e78-96e4-7879ee81b8e7\",\"type\":\"HelpTool\"}]},\"id\":\"2ef69367-f669-43f9-bf60-ad9a866cc402\",\"type\":\"Toolbar\"},{\"attributes\":{\"formatter\":{\"id\":\"290b8792-a47f-49a5-a36c-ffb973d81431\",\"type\":\"BasicTickFormatter\"},\"plot\":{\"id\":\"79b17d8e-339f-4cb5-af9a-ebfc258b9dc2\",\"subtype\":\"Figure\",\"type\":\"Plot\"},\"ticker\":{\"id\":\"0b04c0de-65a5-4d25-9057-1cbab73466e4\",\"type\":\"BasicTicker\"}},\"id\":\"18d42284-d2f6-4109-beed-bd4f331ead1a\",\"type\":\"LinearAxis\"},{\"attributes\":{},\"id\":\"67c16bec-1b02-4e77-af98-339098270609\",\"type\":\"Selection\"},{\"attributes\":{},\"id\":\"b45b5ae6-a72c-49bf-83b5-b48f6d1b391b\",\"type\":\"LogTicker\"},{\"attributes\":{\"callback\":null},\"id\":\"58a8e8ad-10e9-4348-8daa-f2fbb1e81b55\",\"type\":\"DataRange1d\"},{\"attributes\":{\"color_mapper\":{\"id\":\"1693fdff-1c3e-4170-9160-65b2c6fb5b67\",\"type\":\"LogColorMapper\"},\"formatter\":{\"id\":\"bd7b05e9-47b6-4e21-8913-af3be9b74088\",\"type\":\"BasicTickFormatter\"},\"label_standoff\":12,\"location\":[0,0],\"plot\":{\"id\":\"90c40c03-55ff-4292-80d3-a2494b324d49\",\"subtype\":\"Figure\",\"type\":\"Plot\"},\"ticker\":{\"id\":\"b45b5ae6-a72c-49bf-83b5-b48f6d1b391b\",\"type\":\"LogTicker\"}},\"id\":\"7af74ba0-9fa9-4067-bf5d-8167cc843c38\",\"type\":\"ColorBar\"},{\"attributes\":{},\"id\":\"5da6ccc0-a3f7-4e72-880a-a868a8e46403\",\"type\":\"PanTool\"}],\"root_ids\":[\"b9e4e2e4-0231-403c-8549-67f61f5b6d59\"]},\"title\":\"Bokeh Application\",\"version\":\"0.12.16\"}};\n",
       "  var render_items = [{\"docid\":\"ba31164c-2925-4864-9008-101cbe8e27a4\",\"elementid\":\"0675744e-b205-42fc-868e-a1f490f4a841\",\"modelid\":\"b9e4e2e4-0231-403c-8549-67f61f5b6d59\"}];\n",
       "  root.Bokeh.embed.embed_items_notebook(docs_json, render_items);\n",
       "\n",
       "  }\n",
       "  if (root.Bokeh !== undefined) {\n",
       "    embed_document(root);\n",
       "  } else {\n",
       "    var attempts = 0;\n",
       "    var timer = setInterval(function(root) {\n",
       "      if (root.Bokeh !== undefined) {\n",
       "        embed_document(root);\n",
       "        clearInterval(timer);\n",
       "      }\n",
       "      attempts++;\n",
       "      if (attempts > 100) {\n",
       "        console.log(\"Bokeh: ERROR: Unable to run BokehJS code because BokehJS library is missing\")\n",
       "        clearInterval(timer);\n",
       "      }\n",
       "    }, 10, root)\n",
       "  }\n",
       "})(window);"
      ],
      "application/vnd.bokehjs_exec.v0+json": ""
     },
     "metadata": {
      "application/vnd.bokehjs_exec.v0+json": {
       "id": "b9e4e2e4-0231-403c-8549-67f61f5b6d59"
      }
     },
     "output_type": "display_data"
    }
   ],
   "source": [
    "selection=country_count_ease_business['GDP_y'].apply(lambda x: x<15000) & country_count_ease_business['GDP_x'].apply(lambda x: x>40*10e9)\n",
    "\n",
    "x = np.log10(country_count_ease_business['days_open_business'][selection])\n",
    "y = np.log10(country_count_ease_business['n_companies_offshore'][selection]/country_count_ease_business['GDP_x'][selection])\n",
    "country_names=country_count_ease_business['Country Name'][selection]\n",
    "c = country_count_ease_business['GDP_x'][selection]\n",
    "c[c.isna()]=0\n",
    "\n",
    "# set the regression line\n",
    "df=pd.DataFrame({'days_open_business':x,'n_companies_offshore':y})\n",
    "df=df.dropna(inplace=False)\n",
    "a=np.array(df['days_open_business'])\n",
    "b=np.array(df['n_companies_offshore'])\n",
    "\n",
    "m,i,r,p,std=stats.linregress(a,b)\n",
    "\n",
    "# establish the color mapper schema\n",
    "color_mapper = LogColorMapper(palette=\"Colorblind4\", low=min(c),\\\n",
    "                              high=max(c))\n",
    "\n",
    "# establish the sources of data to make the interactive graph\n",
    "source=ColumnDataSource(data=dict(\n",
    "    x=list(x),\n",
    "    y=list(y),\n",
    "    country=list(country_names),\n",
    "    c=list(c),\n",
    "))\n",
    "\n",
    "p = figure(title=\"Number of entities offshore vs days to open a business (Major developing countries)\", plot_width=800, plot_height=800)\n",
    "scatter=p.scatter(x='x', y='y', radius=0.01, source=source, color={'field': 'c', 'transform': color_mapper}, alpha=0.5)\n",
    "hover= HoverTool(tooltips = [(\"Country\", \"@country\"),(\"(Tax Rate, Log(number of entities offshore))\", \"($x, $y)\")],renderers=[scatter])\n",
    "p.add_tools(hover)\n",
    "\n",
    "line=p.line(df['days_open_business'], m*df['days_open_business']+i, line_width=4, color='navy', alpha=0.1)\n",
    "hover0=HoverTool(tooltips = [(\"Set of Country\",'Developing countries')], renderers=[line])\n",
    "p.add_tools(hover0)\n",
    "\n",
    "# set the style of the title\n",
    "p.title.text_color = \"grey\"\n",
    "p.title.text_font = \"helvetica\"\n",
    "p.title.text_font_style = \"normal\"\n",
    "p.title.text_font_size = '11pt'\n",
    "\n",
    "# set the label options\n",
    "p.xaxis.axis_label='Days to open a business'\n",
    "p.yaxis.axis_label='Number of Entities Offshore (log scale)'\n",
    "\n",
    "\n",
    "# set the color bar tab\n",
    "color_bar = ColorBar(color_mapper=color_mapper, ticker=LogTicker(),\n",
    "                     label_standoff=12, border_line_color=None, location=(0,0))\n",
    "\n",
    "# set the color bar title\n",
    "color_bar_height = 511\n",
    "color_bar_width = 35\n",
    "\n",
    "color_bar_plot = figure(title=\"Real GDP Legend Bar (USD)\", title_location=\"right\", \n",
    "                        height=color_bar_height, width=color_bar_width, \n",
    "                        toolbar_location=None, min_border=None, \n",
    "                        outline_line_color=None)\n",
    "\n",
    "# add the color bar\n",
    "p.add_layout(color_bar, 'right')\n",
    "\n",
    "# remove the interactive toolbar\n",
    "p.toolbar.logo = None\n",
    "p.toolbar_location = None\n",
    "\n",
    "layout = row_plot(p, color_bar_plot)\n",
    "output_file(\"developingcountriesdaysbusiness.html\", title=\"developingcountriesdaysbusiness\")\n",
    "show(layout)"
   ]
  },
  {
   "cell_type": "markdown",
   "metadata": {},
   "source": [
    "#### Global Perspective"
   ]
  },
  {
   "cell_type": "markdown",
   "metadata": {},
   "source": [
    "Eventually by plotting all the developed countries together it is not possible to find a global clear relationship between number of days to open a business and number of entities in Panama Papers. Hence it can be concludede that the hypothesis established at the beginning of the analysis has been contradicted."
   ]
  },
  {
   "cell_type": "code",
   "execution_count": 62,
   "metadata": {},
   "outputs": [
    {
     "data": {
      "text/html": [
       "\n",
       "<div class=\"bk-root\">\n",
       "    <div class=\"bk-plotdiv\" id=\"7a7955da-eff0-4106-ba33-4f8972364611\"></div>\n",
       "</div>"
      ]
     },
     "metadata": {},
     "output_type": "display_data"
    },
    {
     "data": {
      "application/javascript": [
       "(function(root) {\n",
       "  function embed_document(root) {\n",
       "    \n",
       "  var docs_json = {\"54e37094-1f8e-4cc2-b803-236182c2c84e\":{\"roots\":{\"references\":[{\"attributes\":{},\"id\":\"1964f02a-674b-4e27-b065-852137f0a261\",\"type\":\"LinearScale\"},{\"attributes\":{\"plot\":{\"id\":\"45228975-ab2c-436c-80bb-bfebe8167eb7\",\"subtype\":\"Figure\",\"type\":\"Plot\"},\"ticker\":{\"id\":\"27a51150-ee70-4bd4-af08-c47df5f805ab\",\"type\":\"BasicTicker\"}},\"id\":\"ee3cc921-58fd-448a-988a-8d73177eebc5\",\"type\":\"Grid\"},{\"attributes\":{\"callback\":null},\"id\":\"fbb1870c-7c7c-47e8-9904-22e953d02fbb\",\"type\":\"DataRange1d\"},{\"attributes\":{},\"id\":\"27a51150-ee70-4bd4-af08-c47df5f805ab\",\"type\":\"BasicTicker\"},{\"attributes\":{\"axis_label\":\"Days to open a business\",\"formatter\":{\"id\":\"91e78140-8c9c-4e55-bf61-00d8929b0ab5\",\"type\":\"BasicTickFormatter\"},\"plot\":{\"id\":\"7b7bd5c4-03da-4bfe-b6d8-7c78cf400437\",\"subtype\":\"Figure\",\"type\":\"Plot\"},\"ticker\":{\"id\":\"91cbc8a1-ffdd-44c9-9e49-7050d4f9602d\",\"type\":\"BasicTicker\"}},\"id\":\"701eb1b8-16f9-47d7-b421-a2207c2655e2\",\"type\":\"LinearAxis\"},{\"attributes\":{},\"id\":\"82b87792-5149-40bf-a9e4-bd449ddb5f30\",\"type\":\"LinearScale\"},{\"attributes\":{\"plot\":{\"id\":\"7b7bd5c4-03da-4bfe-b6d8-7c78cf400437\",\"subtype\":\"Figure\",\"type\":\"Plot\"},\"ticker\":{\"id\":\"91cbc8a1-ffdd-44c9-9e49-7050d4f9602d\",\"type\":\"BasicTicker\"}},\"id\":\"f8695abc-5632-45f4-8751-7a511f2a0d62\",\"type\":\"Grid\"},{\"attributes\":{\"dimension\":1,\"plot\":{\"id\":\"45228975-ab2c-436c-80bb-bfebe8167eb7\",\"subtype\":\"Figure\",\"type\":\"Plot\"},\"ticker\":{\"id\":\"796ea2e0-bc6d-4995-8895-6140c09a6a5b\",\"type\":\"BasicTicker\"}},\"id\":\"33b72532-d01f-4242-a3bb-bbd3c52b518b\",\"type\":\"Grid\"},{\"attributes\":{},\"id\":\"40a830dc-0902-408a-b8ba-9c1566dc1cf5\",\"type\":\"LogTicker\"},{\"attributes\":{\"formatter\":{\"id\":\"5aff7094-09c6-4d93-a229-34ab204c9516\",\"type\":\"BasicTickFormatter\"},\"plot\":{\"id\":\"45228975-ab2c-436c-80bb-bfebe8167eb7\",\"subtype\":\"Figure\",\"type\":\"Plot\"},\"ticker\":{\"id\":\"27a51150-ee70-4bd4-af08-c47df5f805ab\",\"type\":\"BasicTicker\"}},\"id\":\"de3a41ed-83d0-4b0f-8751-41a752159148\",\"type\":\"LinearAxis\"},{\"attributes\":{\"color_mapper\":{\"id\":\"68fe9724-72fd-45f7-b17c-0e6b231fe428\",\"type\":\"LogColorMapper\"},\"formatter\":{\"id\":\"15263ae4-2392-416b-a0b6-3591b741859f\",\"type\":\"BasicTickFormatter\"},\"label_standoff\":12,\"location\":[0,0],\"plot\":{\"id\":\"7b7bd5c4-03da-4bfe-b6d8-7c78cf400437\",\"subtype\":\"Figure\",\"type\":\"Plot\"},\"ticker\":{\"id\":\"40a830dc-0902-408a-b8ba-9c1566dc1cf5\",\"type\":\"LogTicker\"}},\"id\":\"ff46b893-fc44-444c-b2cd-b945f4e573e3\",\"type\":\"ColorBar\"},{\"attributes\":{},\"id\":\"5aff7094-09c6-4d93-a229-34ab204c9516\",\"type\":\"BasicTickFormatter\"},{\"attributes\":{\"children\":[{\"id\":\"7b7bd5c4-03da-4bfe-b6d8-7c78cf400437\",\"subtype\":\"Figure\",\"type\":\"Plot\"},{\"id\":\"45228975-ab2c-436c-80bb-bfebe8167eb7\",\"subtype\":\"Figure\",\"type\":\"Plot\"}]},\"id\":\"c4185fce-a5ae-4bf2-b2b6-6ba521f583f8\",\"type\":\"Row\"},{\"attributes\":{\"formatter\":{\"id\":\"7231fbc6-fd25-461c-9aaf-702e437036fa\",\"type\":\"BasicTickFormatter\"},\"plot\":{\"id\":\"45228975-ab2c-436c-80bb-bfebe8167eb7\",\"subtype\":\"Figure\",\"type\":\"Plot\"},\"ticker\":{\"id\":\"796ea2e0-bc6d-4995-8895-6140c09a6a5b\",\"type\":\"BasicTicker\"}},\"id\":\"216f7415-4adf-4525-bffc-5d93877916e0\",\"type\":\"LinearAxis\"},{\"attributes\":{},\"id\":\"4c22be75-7a6b-4123-816d-adcbf08c4a4f\",\"type\":\"WheelZoomTool\"},{\"attributes\":{},\"id\":\"a972c311-46f5-445e-9e9a-b2aad71c8f40\",\"type\":\"LinearScale\"},{\"attributes\":{},\"id\":\"2b744dd1-5269-4877-8aa0-408f3f81c15e\",\"type\":\"ResetTool\"},{\"attributes\":{},\"id\":\"7231fbc6-fd25-461c-9aaf-702e437036fa\",\"type\":\"BasicTickFormatter\"},{\"attributes\":{\"bottom_units\":\"screen\",\"fill_alpha\":{\"value\":0.5},\"fill_color\":{\"value\":\"lightgrey\"},\"left_units\":\"screen\",\"level\":\"overlay\",\"line_alpha\":{\"value\":1.0},\"line_color\":{\"value\":\"black\"},\"line_dash\":[4,4],\"line_width\":{\"value\":2},\"plot\":null,\"render_mode\":\"css\",\"right_units\":\"screen\",\"top_units\":\"screen\"},\"id\":\"66a0fd2c-b991-440e-b429-e41f94caa3a4\",\"type\":\"BoxAnnotation\"},{\"attributes\":{\"plot\":null,\"text\":\"Real GDP per capita Legend Bar (USD)\"},\"id\":\"836e005e-41d5-4fcc-993e-ddb56ccb0d68\",\"type\":\"Title\"},{\"attributes\":{},\"id\":\"13be6cc6-b987-4564-a67e-e1d93b48599b\",\"type\":\"Selection\"},{\"attributes\":{},\"id\":\"048af1ed-77b5-40e2-86e2-089b67c27f95\",\"type\":\"PanTool\"},{\"attributes\":{\"active_drag\":\"auto\",\"active_inspect\":\"auto\",\"active_scroll\":\"auto\",\"active_tap\":\"auto\",\"tools\":[{\"id\":\"048af1ed-77b5-40e2-86e2-089b67c27f95\",\"type\":\"PanTool\"},{\"id\":\"4c22be75-7a6b-4123-816d-adcbf08c4a4f\",\"type\":\"WheelZoomTool\"},{\"id\":\"0e32d5ed-36f9-4cd7-a9a5-996a030ff666\",\"type\":\"BoxZoomTool\"},{\"id\":\"64d488e7-5703-426f-9e24-1cfc8a6d914b\",\"type\":\"SaveTool\"},{\"id\":\"2b744dd1-5269-4877-8aa0-408f3f81c15e\",\"type\":\"ResetTool\"},{\"id\":\"612fdf10-f401-4bf8-8328-27689e9289a4\",\"type\":\"HelpTool\"}]},\"id\":\"3cf64896-4f44-4b74-8725-dd130b3fc1f7\",\"type\":\"Toolbar\"},{\"attributes\":{\"below\":[{\"id\":\"701eb1b8-16f9-47d7-b421-a2207c2655e2\",\"type\":\"LinearAxis\"}],\"left\":[{\"id\":\"42ee8c36-e5a4-4daf-ab09-d1947358ffae\",\"type\":\"LinearAxis\"}],\"plot_height\":800,\"plot_width\":800,\"renderers\":[{\"id\":\"701eb1b8-16f9-47d7-b421-a2207c2655e2\",\"type\":\"LinearAxis\"},{\"id\":\"f8695abc-5632-45f4-8751-7a511f2a0d62\",\"type\":\"Grid\"},{\"id\":\"42ee8c36-e5a4-4daf-ab09-d1947358ffae\",\"type\":\"LinearAxis\"},{\"id\":\"7e9f410c-697c-4243-9c6c-5b245925cadf\",\"type\":\"Grid\"},{\"id\":\"c7e50c1e-b504-4c18-89f7-1c30cd45c871\",\"type\":\"BoxAnnotation\"},{\"id\":\"c5b720e6-3d59-4727-be10-82ccb8e36abf\",\"type\":\"GlyphRenderer\"},{\"id\":\"a01931e9-65c2-4f61-acef-f96702b23d5f\",\"type\":\"GlyphRenderer\"},{\"id\":\"ff46b893-fc44-444c-b2cd-b945f4e573e3\",\"type\":\"ColorBar\"}],\"right\":[{\"id\":\"ff46b893-fc44-444c-b2cd-b945f4e573e3\",\"type\":\"ColorBar\"}],\"title\":{\"id\":\"2119c5c3-4f94-48ed-b865-af5e6b5ed6b7\",\"type\":\"Title\"},\"toolbar\":{\"id\":\"c2c15ef9-9135-493b-9d55-a5d140ad0cef\",\"type\":\"Toolbar\"},\"toolbar_location\":null,\"x_range\":{\"id\":\"10d19c42-4afb-473b-b0d7-4654e6994266\",\"type\":\"DataRange1d\"},\"x_scale\":{\"id\":\"1964f02a-674b-4e27-b065-852137f0a261\",\"type\":\"LinearScale\"},\"y_range\":{\"id\":\"f3f37fc0-5691-4efd-bc93-51d7d25e0c16\",\"type\":\"DataRange1d\"},\"y_scale\":{\"id\":\"a972c311-46f5-445e-9e9a-b2aad71c8f40\",\"type\":\"LinearScale\"}},\"id\":\"7b7bd5c4-03da-4bfe-b6d8-7c78cf400437\",\"subtype\":\"Figure\",\"type\":\"Plot\"},{\"attributes\":{\"overlay\":{\"id\":\"66a0fd2c-b991-440e-b429-e41f94caa3a4\",\"type\":\"BoxAnnotation\"}},\"id\":\"0e32d5ed-36f9-4cd7-a9a5-996a030ff666\",\"type\":\"BoxZoomTool\"},{\"attributes\":{\"dimension\":1,\"plot\":{\"id\":\"7b7bd5c4-03da-4bfe-b6d8-7c78cf400437\",\"subtype\":\"Figure\",\"type\":\"Plot\"},\"ticker\":{\"id\":\"5f1aef84-7d7f-4c38-8675-59a24652d106\",\"type\":\"BasicTicker\"}},\"id\":\"7e9f410c-697c-4243-9c6c-5b245925cadf\",\"type\":\"Grid\"},{\"attributes\":{\"axis_label\":\"Number of Entities Offshore (log scale)\",\"formatter\":{\"id\":\"4f974826-1363-4400-ad4c-ce670df30eeb\",\"type\":\"BasicTickFormatter\"},\"plot\":{\"id\":\"7b7bd5c4-03da-4bfe-b6d8-7c78cf400437\",\"subtype\":\"Figure\",\"type\":\"Plot\"},\"ticker\":{\"id\":\"5f1aef84-7d7f-4c38-8675-59a24652d106\",\"type\":\"BasicTicker\"}},\"id\":\"42ee8c36-e5a4-4daf-ab09-d1947358ffae\",\"type\":\"LinearAxis\"},{\"attributes\":{},\"id\":\"612fdf10-f401-4bf8-8328-27689e9289a4\",\"type\":\"HelpTool\"},{\"attributes\":{},\"id\":\"11a3550b-88f7-478e-9aff-61c0d60a66bd\",\"type\":\"Selection\"},{\"attributes\":{\"callback\":null,\"renderers\":[{\"id\":\"a01931e9-65c2-4f61-acef-f96702b23d5f\",\"type\":\"GlyphRenderer\"}],\"tooltips\":[[\"Set of Country\",\"Trend in all developed countries, p-vaue=0.279\"]]},\"id\":\"284cd1fd-7661-451a-8e61-47fdb96ca155\",\"type\":\"HoverTool\"},{\"attributes\":{},\"id\":\"fb12b92c-f0ef-407d-bfa8-23c630ef18c8\",\"type\":\"UnionRenderers\"},{\"attributes\":{},\"id\":\"524a6ab8-4154-4e10-9cf3-b8968099950b\",\"type\":\"UnionRenderers\"},{\"attributes\":{},\"id\":\"15263ae4-2392-416b-a0b6-3591b741859f\",\"type\":\"BasicTickFormatter\"},{\"attributes\":{\"bottom_units\":\"screen\",\"fill_alpha\":{\"value\":0.5},\"fill_color\":{\"value\":\"lightgrey\"},\"left_units\":\"screen\",\"level\":\"overlay\",\"line_alpha\":{\"value\":1.0},\"line_color\":{\"value\":\"black\"},\"line_dash\":[4,4],\"line_width\":{\"value\":2},\"plot\":null,\"render_mode\":\"css\",\"right_units\":\"screen\",\"top_units\":\"screen\"},\"id\":\"c7e50c1e-b504-4c18-89f7-1c30cd45c871\",\"type\":\"BoxAnnotation\"},{\"attributes\":{},\"id\":\"64d488e7-5703-426f-9e24-1cfc8a6d914b\",\"type\":\"SaveTool\"},{\"attributes\":{\"callback\":null},\"id\":\"983d926f-fc4d-4597-a7ce-d595f8f5fb80\",\"type\":\"DataRange1d\"},{\"attributes\":{},\"id\":\"796ea2e0-bc6d-4995-8895-6140c09a6a5b\",\"type\":\"BasicTicker\"},{\"attributes\":{},\"id\":\"91cbc8a1-ffdd-44c9-9e49-7050d4f9602d\",\"type\":\"BasicTicker\"},{\"attributes\":{},\"id\":\"4f974826-1363-4400-ad4c-ce670df30eeb\",\"type\":\"BasicTickFormatter\"},{\"attributes\":{\"active_drag\":\"auto\",\"active_inspect\":\"auto\",\"active_scroll\":\"auto\",\"active_tap\":\"auto\",\"logo\":null,\"tools\":[{\"id\":\"e065b5d5-f27b-42d1-ba61-c34ab409bc91\",\"type\":\"PanTool\"},{\"id\":\"27184e33-86d6-48f1-a88f-831d48d1e391\",\"type\":\"WheelZoomTool\"},{\"id\":\"d9882e37-6818-4ad1-8a44-0d856bd1e097\",\"type\":\"BoxZoomTool\"},{\"id\":\"7d6b231d-e855-4343-b05e-b2eba6529be7\",\"type\":\"SaveTool\"},{\"id\":\"277a15a0-faf0-48c1-bedc-4175d6ce764e\",\"type\":\"ResetTool\"},{\"id\":\"45909e0e-29e9-4f38-9965-d2b76713e862\",\"type\":\"HelpTool\"},{\"id\":\"c8f5d30e-684d-4fd0-83a1-6a96c93ac6fe\",\"type\":\"HoverTool\"},{\"id\":\"284cd1fd-7661-451a-8e61-47fdb96ca155\",\"type\":\"HoverTool\"}]},\"id\":\"c2c15ef9-9135-493b-9d55-a5d140ad0cef\",\"type\":\"Toolbar\"},{\"attributes\":{\"data_source\":{\"id\":\"ea9b406c-a21c-45f2-a11c-12c1c4dc4c51\",\"type\":\"ColumnDataSource\"},\"glyph\":{\"id\":\"44f2856e-5af1-43e8-a770-c80c13869c50\",\"type\":\"Circle\"},\"hover_glyph\":null,\"muted_glyph\":null,\"nonselection_glyph\":{\"id\":\"67deb3d8-ae41-46fc-8550-a348ea458a2a\",\"type\":\"Circle\"},\"selection_glyph\":null,\"view\":{\"id\":\"bb2a3b8f-9277-4a17-81a2-75fdc90cda5f\",\"type\":\"CDSView\"}},\"id\":\"c5b720e6-3d59-4727-be10-82ccb8e36abf\",\"type\":\"GlyphRenderer\"},{\"attributes\":{},\"id\":\"277a15a0-faf0-48c1-bedc-4175d6ce764e\",\"type\":\"ResetTool\"},{\"attributes\":{\"source\":{\"id\":\"ea9b406c-a21c-45f2-a11c-12c1c4dc4c51\",\"type\":\"ColumnDataSource\"}},\"id\":\"bb2a3b8f-9277-4a17-81a2-75fdc90cda5f\",\"type\":\"CDSView\"},{\"attributes\":{},\"id\":\"27184e33-86d6-48f1-a88f-831d48d1e391\",\"type\":\"WheelZoomTool\"},{\"attributes\":{\"below\":[{\"id\":\"de3a41ed-83d0-4b0f-8751-41a752159148\",\"type\":\"LinearAxis\"}],\"left\":[{\"id\":\"216f7415-4adf-4525-bffc-5d93877916e0\",\"type\":\"LinearAxis\"}],\"min_border\":null,\"outline_line_color\":{\"value\":null},\"plot_height\":511,\"plot_width\":35,\"renderers\":[{\"id\":\"de3a41ed-83d0-4b0f-8751-41a752159148\",\"type\":\"LinearAxis\"},{\"id\":\"ee3cc921-58fd-448a-988a-8d73177eebc5\",\"type\":\"Grid\"},{\"id\":\"216f7415-4adf-4525-bffc-5d93877916e0\",\"type\":\"LinearAxis\"},{\"id\":\"33b72532-d01f-4242-a3bb-bbd3c52b518b\",\"type\":\"Grid\"},{\"id\":\"66a0fd2c-b991-440e-b429-e41f94caa3a4\",\"type\":\"BoxAnnotation\"}],\"title\":{\"id\":\"836e005e-41d5-4fcc-993e-ddb56ccb0d68\",\"type\":\"Title\"},\"title_location\":\"right\",\"toolbar\":{\"id\":\"3cf64896-4f44-4b74-8725-dd130b3fc1f7\",\"type\":\"Toolbar\"},\"toolbar_location\":null,\"x_range\":{\"id\":\"983d926f-fc4d-4597-a7ce-d595f8f5fb80\",\"type\":\"DataRange1d\"},\"x_scale\":{\"id\":\"2e687990-b816-4fbd-ad24-321c095e8e55\",\"type\":\"LinearScale\"},\"y_range\":{\"id\":\"fbb1870c-7c7c-47e8-9904-22e953d02fbb\",\"type\":\"DataRange1d\"},\"y_scale\":{\"id\":\"82b87792-5149-40bf-a9e4-bd449ddb5f30\",\"type\":\"LinearScale\"}},\"id\":\"45228975-ab2c-436c-80bb-bfebe8167eb7\",\"subtype\":\"Figure\",\"type\":\"Plot\"},{\"attributes\":{\"high\":148406.48335999998,\"low\":15400.0,\"palette\":[\"#0072B2\",\"#E69F00\",\"#F0E442\",\"#009E73\"]},\"id\":\"68fe9724-72fd-45f7-b17c-0e6b231fe428\",\"type\":\"LogColorMapper\"},{\"attributes\":{\"overlay\":{\"id\":\"c7e50c1e-b504-4c18-89f7-1c30cd45c871\",\"type\":\"BoxAnnotation\"}},\"id\":\"d9882e37-6818-4ad1-8a44-0d856bd1e097\",\"type\":\"BoxZoomTool\"},{\"attributes\":{},\"id\":\"e065b5d5-f27b-42d1-ba61-c34ab409bc91\",\"type\":\"PanTool\"},{\"attributes\":{\"callback\":null},\"id\":\"f3f37fc0-5691-4efd-bc93-51d7d25e0c16\",\"type\":\"DataRange1d\"},{\"attributes\":{\"plot\":null,\"text\":\"Number of entities offshore vs days to open a business (all developed countries)\",\"text_color\":{\"value\":\"grey\"},\"text_font_size\":{\"value\":\"11pt\"},\"text_font_style\":\"normal\"},\"id\":\"2119c5c3-4f94-48ed-b865-af5e6b5ed6b7\",\"type\":\"Title\"},{\"attributes\":{},\"id\":\"5f1aef84-7d7f-4c38-8675-59a24652d106\",\"type\":\"BasicTicker\"},{\"attributes\":{},\"id\":\"45909e0e-29e9-4f38-9965-d2b76713e862\",\"type\":\"HelpTool\"},{\"attributes\":{\"callback\":null,\"renderers\":[{\"id\":\"c5b720e6-3d59-4727-be10-82ccb8e36abf\",\"type\":\"GlyphRenderer\"}],\"tooltips\":[[\"Country\",\"@country\"],[\"(Tax Rate, Log(number of entities offshore))\",\"($x, $y)\"]]},\"id\":\"c8f5d30e-684d-4fd0-83a1-6a96c93ac6fe\",\"type\":\"HoverTool\"},{\"attributes\":{\"fill_alpha\":{\"value\":0.1},\"fill_color\":{\"value\":\"#1f77b4\"},\"line_alpha\":{\"value\":0.1},\"line_color\":{\"value\":\"#1f77b4\"},\"radius\":{\"field\":\"radii\",\"units\":\"data\"},\"x\":{\"field\":\"x\"},\"y\":{\"field\":\"y\"}},\"id\":\"67deb3d8-ae41-46fc-8550-a348ea458a2a\",\"type\":\"Circle\"},{\"attributes\":{\"line_alpha\":0.1,\"line_color\":\"navy\",\"line_width\":4,\"x\":{\"field\":\"x\"},\"y\":{\"field\":\"y\"}},\"id\":\"87d8328e-2805-413e-a009-cdbdf9bd0897\",\"type\":\"Line\"},{\"attributes\":{\"data_source\":{\"id\":\"35135809-f36c-4d5c-8b84-3574f1128f90\",\"type\":\"ColumnDataSource\"},\"glyph\":{\"id\":\"87d8328e-2805-413e-a009-cdbdf9bd0897\",\"type\":\"Line\"},\"hover_glyph\":null,\"muted_glyph\":null,\"nonselection_glyph\":{\"id\":\"d0146b9a-6cf0-465c-969d-f5c42ff66af7\",\"type\":\"Line\"},\"selection_glyph\":null,\"view\":{\"id\":\"534a8f8f-bf54-4b7f-bc3a-8f99334e3f7d\",\"type\":\"CDSView\"}},\"id\":\"a01931e9-65c2-4f61-acef-f96702b23d5f\",\"type\":\"GlyphRenderer\"},{\"attributes\":{\"source\":{\"id\":\"35135809-f36c-4d5c-8b84-3574f1128f90\",\"type\":\"ColumnDataSource\"}},\"id\":\"534a8f8f-bf54-4b7f-bc3a-8f99334e3f7d\",\"type\":\"CDSView\"},{\"attributes\":{},\"id\":\"2e687990-b816-4fbd-ad24-321c095e8e55\",\"type\":\"LinearScale\"},{\"attributes\":{\"callback\":null,\"data\":{\"c\":[72018.65437666667,34139.40517133333,59422.543726,100087.83314133335,42089.915140666664,39757.577518000006,29218.051776,65308.38069692308,44514.55255866667,27664.74357333333,148406.48335999998,49764.76171266667,136708.2832623077,92843.0,28837.613580666664,34200.0,15433.345880666666,20952.267600000003,29813.538158,40705.07343933333,43641.797792,34121.00105666667,54731.376007333325,39053.13763533334,20890.234439999997,23439.961054,47799.616809333325,41345.20783333333,84080.9525725,61454.453850000005,18780.275228999995,48650.63502733333,34351.70849666666,44990.741085333335,38738.524536,42371.086257999996,51225.98508066667,17885.757813533335,15598.824366666666,24371.613246,67222.99931133333,54857.40289799999,39495.30974066667,45337.413664666674,22043.319871333333,51894.66819999999,55580.77363533333,81474.63766466668,21083.044485333336,23614.7,22674.086322666666,16187.456759733333,37851.61739461539,16797.731021066666,15400.0,29936.964220714286,33225.774994666666,15635.492743466664,25675.560012857146,22789.411886666665,36284.8802,32979.10055133333,45708.10021307693,41742.81313000001,37487.459001333336,16270.95105,49161.402510666674,35162.51762399999,38759.095045999995,63952.17019533333],\"country\":[\"Switzerland\",\"Hong Kong SAR, China\",\"Channel Islands\",\"Luxembourg\",\"United Kingdom\",\"United Arab Emirates\",\"Bahamas, The\",\"Isle of Man\",\"Singapore\",\"Cyprus\",\"Monaco\",\"United States\",\"Liechtenstein\",\"Gibraltar\",\"Spain\",\"British Virgin Islands\",\"Estonia\",\"Malta\",\"Israel\",\"Andorra\",\"Canada\",\"Italy\",\"Ireland\",\"France\",\"Portugal\",\"Greece\",\"Netherlands\",\"Germany\",\"Bermuda\",\"Cayman Islands\",\"Saudi Arabia\",\"Australia\",\"New Zealand\",\"Finland\",\"Kuwait\",\"Belgium\",\"Sweden\",\"Czech Republic\",\"Barbados\",\"Aruba\",\"Qatar\",\"Macao SAR, China\",\"Japan\",\"Austria\",\"Slovenia\",\"Iceland\",\"Denmark\",\"Norway\",\"Bahrain\",\"Turks and Caicos Islands\",\"Korea, Rep.\",\"Trinidad and Tobago\",\"Virgin Islands (U.S.)\",\"Oman\",\"Sint Maarten (Dutch part)\",\"Guam\",\"Brunei Darussalam\",\"Slovak Republic\",\"Puerto Rico\",\"Europe & Central Asia\",\"Euro area\",\"European Union\",\"Faroe Islands\",\"Greenland\",\"High income\",\"Northern Mariana Islands\",\"North America\",\"OECD members\",\"Post-demographic dividend\",\"San Marino\"],\"radii\":[0.005693333333333334,0.00242,9.1807879548e-05,0.0005192631467413333,0.02642,0.0029393333333333333,0.00010487996,5.216143943461538e-05,0.0022713342517126666,0.000223948112652,5.3019315456e-05,0.1542,4.9221732366923076e-05,2.288e-05,0.013178,8.5e-06,0.00020522609297333333,8.885728832533333e-05,0.0023206666666666666,3.274307831133333e-05,0.014928,0.020213333333333333,0.0024646666666666667,0.025386666666666665,0.0021886666666666665,0.0025766666666666668,0.007952666666666667,0.0338,5.418704083333333e-05,3.3435162565e-05,0.005310666666666667,0.010883333333333333,0.0015108339237,0.002416,0.0011894092618106667,0.004626666666666667,0.004834666666666667,0.0018650847601826665,4.3605330653999996e-05,2.4484849163000002e-05,0.00121546062271,0.00030812990994333333,0.05042,0.003818666666666667,0.00044952051246333334,0.00016469675328666667,0.003088,0.004010666666666667,0.0002525533104613333,7.97e-06,0.011284,0.000215629590588,4.098230769230769e-05,0.0005584873862146667,7.947e-06,4.784571428571428e-05,0.0001304916189,0.000844086741296,0.0009416219659285715,0.20293333333333333,0.12149333333333334,0.166,2.2190485353076925e-05,2.3611672167857142e-05,0.44933333333333336,9.470714285714285e-06,0.1692,0.43826666666666664,0.41673333333333334,1.9770817654e-05],\"x\":[1.1962946451439682,0.7650295730617386,\"NaN\",1.2825465899699682,0.9760878425945886,1.125481265700594,1.4065401804339552,\"NaN\",0.5614421404196983,0.8808135922807914,\"NaN\",0.7573960287930243,\"NaN\",\"NaN\",1.6586926430429243,\"NaN\",1.1602969918724493,1.4953460748258616,1.2249398265934983,\"NaN\",0.6097468199942534,0.9661417327390326,1.0469965626762237,0.7703259128716871,1.1371731930253115,1.3258966620220434,0.8032619709666747,1.2448070714251411,\"NaN\",\"NaN\",1.5312051157416637,0.422073688388757,0.578147833922551,1.146128035678238,1.559393577744429,0.9968867645758571,1.148338190483355,1.2852357284807492,1.234083206033368,\"NaN\",0.9233382358954043,\"NaN\",1.0884904701823963,1.380211241711606,1.3776184311333264,0.8338753359055083,0.7596678446896304,0.8269998179214606,0.9697546756175723,\"NaN\",1.0122344564170116,1.5270347050514952,\"NaN\",1.2446304930604792,\"NaN\",\"NaN\",1.943659364828903,1.3177649533076692,0.8081144737610869,1.2754227606205193,1.241170513211951,1.2482288696953296,\"NaN\",\"NaN\",1.2698708808385115,\"NaN\",0.6569875192117889,1.172667706204933,1.241897964049632,1.4135791429792126],\"y\":[4.578765240209975,4.578765240209975,4.335618349377605,4.035029282202368,3.9831299247347003,3.8614746688571686,3.697578033651113,3.689486448364248,3.610766594773271,3.5578679615680224,3.500785172917456,3.4865721505183562,3.315130317183602,3.30941722577814,3.0666985504229953,3.044147620878723,2.9444826721501687,2.829946695941636,2.821513528404773,2.6893088591236203,2.5403294747908736,2.5390760987927767,2.507855871695831,2.45484486000851,2.385606273598312,2.346352974450639,2.247973266361807,2.2380461031287955,2.2174839442139063,2.0253058652647704,2.0253058652647704,1.9731278535996986,1.863322860120456,1.8129133566428555,1.7781512503836436,1.7708520116421442,1.7403626894942439,1.5314789170422551,1.5314789170422551,1.4313637641589874,1.4313637641589874,1.3979400086720377,1.380211241711606,1.380211241711606,1.3222192947339193,1.1760912590556813,1.146128035678238,1.146128035678238,1.1139433523068367,1.0791812460476249,0.9030899869919435,0.7781512503836436,0.6020599913279624,0.3010299956639812,0.0,0.0,0.0,0.0,0.0,\"NaN\",\"NaN\",\"NaN\",\"NaN\",\"NaN\",\"NaN\",\"NaN\",\"NaN\",\"NaN\",\"NaN\",\"NaN\"]},\"selected\":{\"id\":\"13be6cc6-b987-4564-a67e-e1d93b48599b\",\"type\":\"Selection\"},\"selection_policy\":{\"id\":\"524a6ab8-4154-4e10-9cf3-b8968099950b\",\"type\":\"UnionRenderers\"}},\"id\":\"ea9b406c-a21c-45f2-a11c-12c1c4dc4c51\",\"type\":\"ColumnDataSource\"},{\"attributes\":{\"callback\":null},\"id\":\"10d19c42-4afb-473b-b0d7-4654e6994266\",\"type\":\"DataRange1d\"},{\"attributes\":{},\"id\":\"7d6b231d-e855-4343-b05e-b2eba6529be7\",\"type\":\"SaveTool\"},{\"attributes\":{\"line_alpha\":0.1,\"line_color\":\"#1f77b4\",\"line_width\":4,\"x\":{\"field\":\"x\"},\"y\":{\"field\":\"y\"}},\"id\":\"d0146b9a-6cf0-465c-969d-f5c42ff66af7\",\"type\":\"Line\"},{\"attributes\":{},\"id\":\"91e78140-8c9c-4e55-bf61-00d8929b0ab5\",\"type\":\"BasicTickFormatter\"},{\"attributes\":{\"callback\":null,\"data\":{\"x\":{\"__ndarray__\":\"T1+U2gUk8z9/vJhMH3voPwFHuJJPhfQ/SfE+khw87z+lHcek+AHyP5eUt0YwgfY/7lz2gVX34T8g/Jb8ny/sP3spuZiWPOg/OcP/SwGK+j9e1BuUk5DyP8RDeQHw7Pc/f5fsgFqZ8z/h41bDC4PjPwFHLRGi6u4/L4C7d3/A8D+ecmGHgqboP97nnoTcMfI/8ykUa9829T8NhO1yUrTpP7ib2dG66vM/4kB579B/+D+DbwhcQQPbP0hr3uIvgOI/n0TkWYpW8j97EyCuRvP4P9NkdRJ/5u8/M/vN3Zdf8j/em9dWU5D0P19MJwjOvvM/pCXKoPyL7T+QDrf7dGrxP/6QC2JYFfY/+FnBn7kK9j8t9xRUG6/qP/94mPAyT+g//Kh4Ush26j8+dR31OgjvP14g48EcMvA/0dlg8btu+D8ryfSpAerzP34R6I86Gf8/rlcktJAV9T+/TIfiEtzpPw==\",\"dtype\":\"float64\",\"shape\":[44]},\"y\":{\"__ndarray__\":\"CoQOXwyuAECpgWXS5NACQAC4eDquQABA+qyicUXFAUAkBwMF1wcBQMS1y6DpRv8/1GenGQvTA0CGWoxOFD4CQKNN3LyS2gJAgPbYy3PH/D9R2AWHsdsAQE6G60WzZf4/aTd55LmJAEAPvoT5ypUDQHgr+gni0QFANPfi2FtrAUB4CEyVLcoCQFhbe7cD+QBAbr2HabYJAEA8iXY/aqACQK/uMs+IcABAxJZS88IK/j/xVZRUw4MEQN+V2kjcvQNAWG5O5ajtAEBjBc2ARsP9P62lHu7lqgFATBXAddvqAEBctm9PRT0AQOzU6t4hfgBAUU+YbigIAkCsy/WOvjYBQLImEdeuif8/qjt2I0KQ/z+7OxvhmHkCQNrCRkmx1wJATiCxu1CCAkDZjO0+Tc0BQEx9Ee9vlwFAdH5qdFYV/j9EINYgwnAAQG9yLV7G9Pk/muZjCQYUAEBaWSgVQ5oCQA==\",\"dtype\":\"float64\",\"shape\":[44]}},\"selected\":{\"id\":\"11a3550b-88f7-478e-9aff-61c0d60a66bd\",\"type\":\"Selection\"},\"selection_policy\":{\"id\":\"fb12b92c-f0ef-407d-bfa8-23c630ef18c8\",\"type\":\"UnionRenderers\"}},\"id\":\"35135809-f36c-4d5c-8b84-3574f1128f90\",\"type\":\"ColumnDataSource\"},{\"attributes\":{\"fill_alpha\":{\"value\":0.5},\"fill_color\":{\"field\":\"c\",\"transform\":{\"id\":\"68fe9724-72fd-45f7-b17c-0e6b231fe428\",\"type\":\"LogColorMapper\"}},\"line_alpha\":{\"value\":0.5},\"line_color\":{\"field\":\"c\",\"transform\":{\"id\":\"68fe9724-72fd-45f7-b17c-0e6b231fe428\",\"type\":\"LogColorMapper\"}},\"radius\":{\"field\":\"radii\",\"units\":\"data\"},\"x\":{\"field\":\"x\"},\"y\":{\"field\":\"y\"}},\"id\":\"44f2856e-5af1-43e8-a770-c80c13869c50\",\"type\":\"Circle\"}],\"root_ids\":[\"c4185fce-a5ae-4bf2-b2b6-6ba521f583f8\"]},\"title\":\"Bokeh Application\",\"version\":\"0.12.16\"}};\n",
       "  var render_items = [{\"docid\":\"54e37094-1f8e-4cc2-b803-236182c2c84e\",\"elementid\":\"7a7955da-eff0-4106-ba33-4f8972364611\",\"modelid\":\"c4185fce-a5ae-4bf2-b2b6-6ba521f583f8\"}];\n",
       "  root.Bokeh.embed.embed_items_notebook(docs_json, render_items);\n",
       "\n",
       "  }\n",
       "  if (root.Bokeh !== undefined) {\n",
       "    embed_document(root);\n",
       "  } else {\n",
       "    var attempts = 0;\n",
       "    var timer = setInterval(function(root) {\n",
       "      if (root.Bokeh !== undefined) {\n",
       "        embed_document(root);\n",
       "        clearInterval(timer);\n",
       "      }\n",
       "      attempts++;\n",
       "      if (attempts > 100) {\n",
       "        console.log(\"Bokeh: ERROR: Unable to run BokehJS code because BokehJS library is missing\")\n",
       "        clearInterval(timer);\n",
       "      }\n",
       "    }, 10, root)\n",
       "  }\n",
       "})(window);"
      ],
      "application/vnd.bokehjs_exec.v0+json": ""
     },
     "metadata": {
      "application/vnd.bokehjs_exec.v0+json": {
       "id": "c4185fce-a5ae-4bf2-b2b6-6ba521f583f8"
      }
     },
     "output_type": "display_data"
    }
   ],
   "source": [
    "selection=country_count_ease_business['GDP_y']>15000\n",
    "x=np.log10(country_count_ease_business['days_open_business'][selection])\n",
    "y=np.log10(country_count_ease_business['n_companies_offshore'][selection])\n",
    "radii=country_count_ease_business['GDP_x'][selection]*10e-15 #13\n",
    "country_names=country_count_ease_business['Country Name'][selection]\n",
    "# for colors\n",
    "c = country_count_ease_business['GDP_y'][selection]\n",
    "c[c.isna()]=0\n",
    "\n",
    "\n",
    "color_mapper = LogColorMapper(palette=\"Colorblind4\", low=min(c),\\\n",
    "                              high=max(c))\n",
    "\n",
    "source=ColumnDataSource(data=dict(\n",
    "    x=list(x),\n",
    "    y=list(y),\n",
    "    country=list(country_names),\n",
    "    radii=list(radii),\n",
    "    c=list(c),\n",
    "))\n",
    "\n",
    "\n",
    "# set the regression line\n",
    "df=pd.DataFrame({'days_open_business':x,'n_companies_offshore':y})\n",
    "df=df.dropna(inplace=False)\n",
    "\n",
    "a=np.array(df['days_open_business'])\n",
    "b=np.array(df['n_companies_offshore'])\n",
    "\n",
    "m,i,r,p_value,std=stats.linregress(a,b)\n",
    "\n",
    "p = figure(title=\"Number of entities offshore vs days to open a business (all developed countries)\", plot_width=800, plot_height=800)\n",
    "scatter=p.scatter(x='x', y='y', radius='radii', source=source, color={'field': 'c', 'transform': color_mapper}, alpha=0.5)\n",
    "hover= HoverTool(tooltips = [(\"Country\", \"@country\"),(\"(Tax Rate, Log(number of entities offshore))\", \"($x, $y)\")],renderers=[scatter])\n",
    "p.add_tools(hover)\n",
    "\n",
    "line=p.line(df['days_open_business'], m*df['days_open_business']+i, line_width=4, color='navy', alpha=0.1)\n",
    "hover0=HoverTool(tooltips = [(\"Set of Country\",'Trend in all developed countries, p-vaue='+str(p_value)[:5])], renderers=[line])\n",
    "p.add_tools(hover0)\n",
    "\n",
    "# set the color bar tab\n",
    "color_bar = ColorBar(color_mapper=color_mapper, ticker=LogTicker(),\n",
    "                     label_standoff=12, border_line_color=None, location=(0,0))\n",
    "\n",
    "# set the color bar title\n",
    "color_bar_height = 511\n",
    "color_bar_width = 35\n",
    "\n",
    "color_bar_plot = figure(title=\"Real GDP per capita Legend Bar (USD)\", title_location=\"right\", \n",
    "                        height=color_bar_height, width=color_bar_width, \n",
    "                        toolbar_location=None, min_border=None, \n",
    "                        outline_line_color=None)\n",
    "\n",
    "\n",
    "# set the style of the title\n",
    "p.title.text_color = \"grey\"\n",
    "p.title.text_font = \"helvetica\"\n",
    "p.title.text_font_style = \"normal\"\n",
    "p.title.text_font_size = '11pt'\n",
    "\n",
    "# set the label options\n",
    "p.xaxis.axis_label='Days to open a business'\n",
    "p.yaxis.axis_label='Number of Entities Offshore (log scale)'\n",
    "\n",
    "# add the color bar\n",
    "p.add_layout(color_bar, 'right')\n",
    "                        \n",
    "# remove the interactive toolbar\n",
    "p.toolbar.logo = None\n",
    "p.toolbar_location = None\n",
    "\n",
    "layout = row_plot(p, color_bar_plot)\n",
    "output_file(\"daysopenbusiness_developed.html\", title=\"daysopenbusiness_developed\")\n",
    "show(layout)"
   ]
  },
  {
   "cell_type": "markdown",
   "metadata": {},
   "source": [
    "### Time spent in regulations"
   ]
  },
  {
   "cell_type": "markdown",
   "metadata": {},
   "source": [
    "Finally the last parameter that was thought to be influencing the number of offshore entities per country is the time that entities spend for regulation. In fact this could be an important reason for which companies could be established in offshore jurisdiction."
   ]
  },
  {
   "cell_type": "code",
   "execution_count": 63,
   "metadata": {},
   "outputs": [
    {
     "name": "stdout",
     "output_type": "stream",
     "text": [
      "Year with most data is 2015\n"
     ]
    }
   ],
   "source": [
    "years=range(1990, 2018)\n",
    "years_count=np.array([])\n",
    "\n",
    "for year in years:\n",
    "    \n",
    "    years_count=np.append(years_count,df_time_regulation[str(year)].notnull().sum())\n",
    "print ('Year with most data is', years[np.argmax(years_count)])"
   ]
  },
  {
   "cell_type": "markdown",
   "metadata": {},
   "source": [
    "In order to fully exploit the data, the average time spent in regulation for each country is computed over a time frame of 15 years; hence it is assumed that any change in time spent in regulation in this time range has not affected the number of entities going offshore in this time range."
   ]
  },
  {
   "cell_type": "code",
   "execution_count": 64,
   "metadata": {},
   "outputs": [],
   "source": [
    "df_time_regulation=pd.DataFrame({'Country Name':df_time_regulation['Country Name'],'time_regulation':df_time_regulation.iloc[:,range(-15,0)].mean(axis=1,numeric_only=True)})\n",
    "df_time_regulation=df_time_regulation[df_time_regulation['time_regulation'].notnull()]"
   ]
  },
  {
   "cell_type": "code",
   "execution_count": 65,
   "metadata": {},
   "outputs": [
    {
     "data": {
      "text/html": [
       "<div>\n",
       "<style scoped>\n",
       "    .dataframe tbody tr th:only-of-type {\n",
       "        vertical-align: middle;\n",
       "    }\n",
       "\n",
       "    .dataframe tbody tr th {\n",
       "        vertical-align: top;\n",
       "    }\n",
       "\n",
       "    .dataframe thead th {\n",
       "        text-align: right;\n",
       "    }\n",
       "</style>\n",
       "<table border=\"1\" class=\"dataframe\">\n",
       "  <thead>\n",
       "    <tr style=\"text-align: right;\">\n",
       "      <th></th>\n",
       "      <th>Country Name</th>\n",
       "      <th>time_regulation</th>\n",
       "    </tr>\n",
       "  </thead>\n",
       "  <tbody>\n",
       "    <tr>\n",
       "      <th>1</th>\n",
       "      <td>Afghanistan</td>\n",
       "      <td>8.071429</td>\n",
       "    </tr>\n",
       "    <tr>\n",
       "      <th>2</th>\n",
       "      <td>Angola</td>\n",
       "      <td>64.714286</td>\n",
       "    </tr>\n",
       "    <tr>\n",
       "      <th>3</th>\n",
       "      <td>Albania</td>\n",
       "      <td>15.357143</td>\n",
       "    </tr>\n",
       "    <tr>\n",
       "      <th>5</th>\n",
       "      <td>Arab World</td>\n",
       "      <td>26.151124</td>\n",
       "    </tr>\n",
       "    <tr>\n",
       "      <th>6</th>\n",
       "      <td>United Arab Emirates</td>\n",
       "      <td>13.350000</td>\n",
       "    </tr>\n",
       "  </tbody>\n",
       "</table>\n",
       "</div>"
      ],
      "text/plain": [
       "           Country Name  time_regulation\n",
       "1           Afghanistan         8.071429\n",
       "2                Angola        64.714286\n",
       "3               Albania        15.357143\n",
       "5            Arab World        26.151124\n",
       "6  United Arab Emirates        13.350000"
      ]
     },
     "execution_count": 65,
     "metadata": {},
     "output_type": "execute_result"
    }
   ],
   "source": [
    "df_time_regulation.head()"
   ]
  },
  {
   "cell_type": "code",
   "execution_count": 66,
   "metadata": {},
   "outputs": [],
   "source": [
    "country_count_ease_regulation_time=country_count_gdp.merge(df_time_regulation, how='outer',left_on='Country Name', right_on='Country Name')"
   ]
  },
  {
   "cell_type": "markdown",
   "metadata": {},
   "source": [
    "Even though the investigation of the parameter could be very interesting, the data provided by World Bank are too sparse and they don't provide  information about many countries. Hence the analysis is jeopardized. "
   ]
  },
  {
   "cell_type": "code",
   "execution_count": 67,
   "metadata": {
    "scrolled": true
   },
   "outputs": [
    {
     "data": {
      "text/html": [
       "<div>\n",
       "<style scoped>\n",
       "    .dataframe tbody tr th:only-of-type {\n",
       "        vertical-align: middle;\n",
       "    }\n",
       "\n",
       "    .dataframe tbody tr th {\n",
       "        vertical-align: top;\n",
       "    }\n",
       "\n",
       "    .dataframe thead th {\n",
       "        text-align: right;\n",
       "    }\n",
       "</style>\n",
       "<table border=\"1\" class=\"dataframe\">\n",
       "  <thead>\n",
       "    <tr style=\"text-align: right;\">\n",
       "      <th></th>\n",
       "      <th>n_companies_offshore</th>\n",
       "      <th>Country Name</th>\n",
       "      <th>GDP_x</th>\n",
       "      <th>GDP_y</th>\n",
       "      <th>time_regulation</th>\n",
       "    </tr>\n",
       "  </thead>\n",
       "  <tbody>\n",
       "    <tr>\n",
       "      <th>2</th>\n",
       "      <td>21658.0</td>\n",
       "      <td>Channel Islands</td>\n",
       "      <td>9.180788e+09</td>\n",
       "      <td>59422.543726</td>\n",
       "      <td>NaN</td>\n",
       "    </tr>\n",
       "    <tr>\n",
       "      <th>9</th>\n",
       "      <td>4892.0</td>\n",
       "      <td>Isle of Man</td>\n",
       "      <td>5.216144e+09</td>\n",
       "      <td>65308.380697</td>\n",
       "      <td>NaN</td>\n",
       "    </tr>\n",
       "    <tr>\n",
       "      <th>14</th>\n",
       "      <td>3168.0</td>\n",
       "      <td>Monaco</td>\n",
       "      <td>5.301932e+09</td>\n",
       "      <td>148406.483360</td>\n",
       "      <td>NaN</td>\n",
       "    </tr>\n",
       "    <tr>\n",
       "      <th>16</th>\n",
       "      <td>2725.0</td>\n",
       "      <td>Taiwan</td>\n",
       "      <td>NaN</td>\n",
       "      <td>NaN</td>\n",
       "      <td>NaN</td>\n",
       "    </tr>\n",
       "    <tr>\n",
       "      <th>17</th>\n",
       "      <td>2066.0</td>\n",
       "      <td>Liechtenstein</td>\n",
       "      <td>4.922173e+09</td>\n",
       "      <td>136708.283262</td>\n",
       "      <td>NaN</td>\n",
       "    </tr>\n",
       "    <tr>\n",
       "      <th>18</th>\n",
       "      <td>2039.0</td>\n",
       "      <td>Gibraltar</td>\n",
       "      <td>2.288000e+09</td>\n",
       "      <td>92843.000000</td>\n",
       "      <td>NaN</td>\n",
       "    </tr>\n",
       "    <tr>\n",
       "      <th>29</th>\n",
       "      <td>1107.0</td>\n",
       "      <td>British Virgin Islands</td>\n",
       "      <td>8.500000e+08</td>\n",
       "      <td>34200.000000</td>\n",
       "      <td>NaN</td>\n",
       "    </tr>\n",
       "    <tr>\n",
       "      <th>37</th>\n",
       "      <td>489.0</td>\n",
       "      <td>Andorra</td>\n",
       "      <td>3.274308e+09</td>\n",
       "      <td>40705.073439</td>\n",
       "      <td>NaN</td>\n",
       "    </tr>\n",
       "    <tr>\n",
       "      <th>40</th>\n",
       "      <td>372.0</td>\n",
       "      <td>Niue</td>\n",
       "      <td>NaN</td>\n",
       "      <td>NaN</td>\n",
       "      <td>NaN</td>\n",
       "    </tr>\n",
       "    <tr>\n",
       "      <th>53</th>\n",
       "      <td>165.0</td>\n",
       "      <td>Bermuda</td>\n",
       "      <td>5.418704e+09</td>\n",
       "      <td>84080.952572</td>\n",
       "      <td>NaN</td>\n",
       "    </tr>\n",
       "  </tbody>\n",
       "</table>\n",
       "</div>"
      ],
      "text/plain": [
       "    n_companies_offshore            Country Name         GDP_x          GDP_y  \\\n",
       "2                21658.0         Channel Islands  9.180788e+09   59422.543726   \n",
       "9                 4892.0             Isle of Man  5.216144e+09   65308.380697   \n",
       "14                3168.0                  Monaco  5.301932e+09  148406.483360   \n",
       "16                2725.0                  Taiwan           NaN            NaN   \n",
       "17                2066.0           Liechtenstein  4.922173e+09  136708.283262   \n",
       "18                2039.0               Gibraltar  2.288000e+09   92843.000000   \n",
       "29                1107.0  British Virgin Islands  8.500000e+08   34200.000000   \n",
       "37                 489.0                 Andorra  3.274308e+09   40705.073439   \n",
       "40                 372.0                    Niue           NaN            NaN   \n",
       "53                 165.0                 Bermuda  5.418704e+09   84080.952572   \n",
       "\n",
       "    time_regulation  \n",
       "2               NaN  \n",
       "9               NaN  \n",
       "14              NaN  \n",
       "16              NaN  \n",
       "17              NaN  \n",
       "18              NaN  \n",
       "29              NaN  \n",
       "37              NaN  \n",
       "40              NaN  \n",
       "53              NaN  "
      ]
     },
     "execution_count": 67,
     "metadata": {},
     "output_type": "execute_result"
    }
   ],
   "source": [
    "country_count_ease_regulation_time[country_count_ease_regulation_time['time_regulation'].isna()].head(10)"
   ]
  },
  {
   "cell_type": "markdown",
   "metadata": {},
   "source": [
    "In conclusion it is clear that corporate tax is definitely a factor influencing entities to go offshore, but in different ways according to the set of countries considered. It seems that entities in the major economies are trying to escape high corporate taxation levels. While it seems that lower taxation levels in developing countries implies a higher number of companies set offshore. However it is hard to make inference statements since the correlations are often not strong enough and correlation doesn't imply causation. Also the other indicators explored such as days to open a business or time spent in regulation by businesses haven't led to the hoped results: further indicators should be explored, but the challenge of finding reliable global data has to be overcome.\n",
    " \n",
    "Hence corporate tax rate is not the only determinant for entities to go offshore: in fact it was also concluded that corporate tax rate could actually be a proxy variable for other covariates. For instance it is clear that tax havens present ideal conditions for entities to set up offshore companies: additional research should be performed in finding what are theses bureaucratic and economical factors, but the lack of transparency of these countries makes it extremely to find useful data. "
   ]
  },
  {
   "cell_type": "markdown",
   "metadata": {},
   "source": [
    "## 4) What are the consequences of offshore companies on income inequality?"
   ]
  },
  {
   "cell_type": "markdown",
   "metadata": {},
   "source": [
    "### OECD Corporate Tax: Amounts Lost"
   ]
  },
  {
   "cell_type": "markdown",
   "metadata": {},
   "source": [
    "A last piece of analysis is to come up with a hypothesized number for the amount of corporate tax revenue lost for a country **assuming that the companies offshore are evading home corporate tax.** It is very important that we assume this because it is difficult to prove that these companies are evading tax (though it is the main hypothesized reason).\n",
    "\n",
    "To do so, we obtained a [dataset from OECD](https://data.oecd.org/tax/tax-on-corporate-profits.htm) indicating the corporate tax rate % of GDP as well as a [dataset from NAICS](https://www.naics.com/business-lists/counts-by-country/) indicating the number of businesses per country. We can then calculate:\n",
    "\n",
    "$$\n",
    "Potential~Tax~Lost_{country} = \\frac{Corporate~Tax~Revenue_{country}}{Number~Businesses_{country}} \\times Number~ entities~in~PP_{country}\n",
    "$$\n",
    "\n"
   ]
  },
  {
   "cell_type": "code",
   "execution_count": 68,
   "metadata": {},
   "outputs": [],
   "source": [
    "# loading data\n",
    "\n",
    "# GDP_tot = 'API_NY.GDP.MKTP.CD_DS2_en_csv_v2_10224782.csv'\n",
    "# corp_tax_rate = 'corp_tax_rate.csv'\n",
    "# business_country = 'business_country.csv'\n",
    "\n",
    "# GDP_tot_raw_df=pd.read_csv(DATA_FOLDER + GDP_tot,skiprows=4,low_memory=False)[['Country Name', '2015']]\n",
    "GDP_tot_raw_OCDE=df_GDP_tot_raw[['Country Name', '2015']].copy()"
   ]
  },
  {
   "cell_type": "code",
   "execution_count": 69,
   "metadata": {},
   "outputs": [],
   "source": [
    "# merging corp tax table with GDP table\n",
    "m1 = corp_tax_rate_df.merge(GDP_tot_raw_OCDE, left_on='Location', \n",
    "                            right_on='Country Name', how='inner')\n",
    "\n",
    "# merging m1 with number of businesses table\n",
    "m2 = m1.merge(business_country_df, left_on='Location',\n",
    "             right_on='Country Name', how='inner')\n",
    "m2 = m2[['Location', '2015_x', '2015_y', 'Number of Businesses']]\n",
    "m2.columns = ['Location', '2015 Corp Tax Rate % of GDP', '2015 GDP', 'Number of Businesses']\n",
    "\n",
    "# calculating corporate tax revenue\n",
    "m2['Corporate Tax Revenue'] = m2['2015 Corp Tax Rate % of GDP'] * m2['2015 GDP'] / 100\n",
    "\n",
    "# calculating avg corp tax paid per business\n",
    "m2['Avg tax per business'] = m2['Corporate Tax Revenue'] / m2['Number of Businesses']\n",
    "\n",
    "# merge m2 with countries grouped by count of entries in Panama Papers\n",
    "country_entries = pd.DataFrame(df_entity_raw.countries.value_counts()).reset_index()\n",
    "country_entries.columns = ['Location', 'Count in PP']\n",
    "country_entries.loc[country_entries['Location'] == 'South Korea', 'Location'] = 'Korea, Rep.'\n",
    "m3 = m2.merge(country_entries, on='Location', how='inner')\n",
    "\n",
    "# calculate potential tax evasion\n",
    "m3['Potential Tax Lost'] = m3['Avg tax per business'] * m3['Count in PP']\n",
    "m3['Potential Real Corporate Tax Revenue'] = m3['Potential Tax Lost'] + m3['Corporate Tax Revenue']\n",
    "m3['% Tax Lost'] = m3['Potential Tax Lost'] / m3['Corporate Tax Revenue'] * 100"
   ]
  },
  {
   "cell_type": "code",
   "execution_count": 70,
   "metadata": {
    "scrolled": true
   },
   "outputs": [
    {
     "data": {
      "text/html": [
       "<div>\n",
       "<style scoped>\n",
       "    .dataframe tbody tr th:only-of-type {\n",
       "        vertical-align: middle;\n",
       "    }\n",
       "\n",
       "    .dataframe tbody tr th {\n",
       "        vertical-align: top;\n",
       "    }\n",
       "\n",
       "    .dataframe thead th {\n",
       "        text-align: right;\n",
       "    }\n",
       "</style>\n",
       "<table border=\"1\" class=\"dataframe\">\n",
       "  <thead>\n",
       "    <tr style=\"text-align: right;\">\n",
       "      <th></th>\n",
       "      <th>Location</th>\n",
       "      <th>2015 Corp Tax Rate % of GDP</th>\n",
       "      <th>2015 GDP</th>\n",
       "      <th>Number of Businesses</th>\n",
       "      <th>Corporate Tax Revenue</th>\n",
       "      <th>Avg tax per business</th>\n",
       "      <th>Count in PP</th>\n",
       "      <th>Potential Tax Lost</th>\n",
       "      <th>Potential Real Corporate Tax Revenue</th>\n",
       "      <th>% Tax Lost</th>\n",
       "    </tr>\n",
       "  </thead>\n",
       "  <tbody>\n",
       "    <tr>\n",
       "      <th>0</th>\n",
       "      <td>Australia</td>\n",
       "      <td>4.25</td>\n",
       "      <td>1.350000e+12</td>\n",
       "      <td>1873101</td>\n",
       "      <td>5.737500e+10</td>\n",
       "      <td>30631.023100</td>\n",
       "      <td>94</td>\n",
       "      <td>2.879316e+06</td>\n",
       "      <td>5.737788e+10</td>\n",
       "      <td>0.005018</td>\n",
       "    </tr>\n",
       "    <tr>\n",
       "      <th>1</th>\n",
       "      <td>Austria</td>\n",
       "      <td>2.22</td>\n",
       "      <td>3.820000e+11</td>\n",
       "      <td>547330</td>\n",
       "      <td>8.480400e+09</td>\n",
       "      <td>15494.126030</td>\n",
       "      <td>24</td>\n",
       "      <td>3.718590e+05</td>\n",
       "      <td>8.480772e+09</td>\n",
       "      <td>0.004385</td>\n",
       "    </tr>\n",
       "    <tr>\n",
       "      <th>2</th>\n",
       "      <td>Belgium</td>\n",
       "      <td>3.33</td>\n",
       "      <td>4.550000e+11</td>\n",
       "      <td>1597753</td>\n",
       "      <td>1.515150e+10</td>\n",
       "      <td>9483.005195</td>\n",
       "      <td>59</td>\n",
       "      <td>5.594973e+05</td>\n",
       "      <td>1.515206e+10</td>\n",
       "      <td>0.003693</td>\n",
       "    </tr>\n",
       "    <tr>\n",
       "      <th>3</th>\n",
       "      <td>Canada</td>\n",
       "      <td>3.41</td>\n",
       "      <td>1.560000e+12</td>\n",
       "      <td>1536428</td>\n",
       "      <td>5.319600e+10</td>\n",
       "      <td>34623.164899</td>\n",
       "      <td>347</td>\n",
       "      <td>1.201424e+07</td>\n",
       "      <td>5.320801e+10</td>\n",
       "      <td>0.022585</td>\n",
       "    </tr>\n",
       "    <tr>\n",
       "      <th>4</th>\n",
       "      <td>Chile</td>\n",
       "      <td>4.29</td>\n",
       "      <td>2.440000e+11</td>\n",
       "      <td>775308</td>\n",
       "      <td>1.046760e+10</td>\n",
       "      <td>13501.215001</td>\n",
       "      <td>140</td>\n",
       "      <td>1.890170e+06</td>\n",
       "      <td>1.046949e+10</td>\n",
       "      <td>0.018057</td>\n",
       "    </tr>\n",
       "    <tr>\n",
       "      <th>5</th>\n",
       "      <td>Czech Republic</td>\n",
       "      <td>3.59</td>\n",
       "      <td>1.870000e+11</td>\n",
       "      <td>1442568</td>\n",
       "      <td>6.713300e+09</td>\n",
       "      <td>4653.714764</td>\n",
       "      <td>34</td>\n",
       "      <td>1.582263e+05</td>\n",
       "      <td>6.713458e+09</td>\n",
       "      <td>0.002357</td>\n",
       "    </tr>\n",
       "    <tr>\n",
       "      <th>6</th>\n",
       "      <td>Denmark</td>\n",
       "      <td>2.71</td>\n",
       "      <td>3.010000e+11</td>\n",
       "      <td>495961</td>\n",
       "      <td>8.157100e+09</td>\n",
       "      <td>16447.059345</td>\n",
       "      <td>14</td>\n",
       "      <td>2.302588e+05</td>\n",
       "      <td>8.157330e+09</td>\n",
       "      <td>0.002823</td>\n",
       "    </tr>\n",
       "    <tr>\n",
       "      <th>7</th>\n",
       "      <td>Estonia</td>\n",
       "      <td>2.05</td>\n",
       "      <td>2.256696e+10</td>\n",
       "      <td>112271</td>\n",
       "      <td>4.626226e+08</td>\n",
       "      <td>4120.588737</td>\n",
       "      <td>880</td>\n",
       "      <td>3.626118e+06</td>\n",
       "      <td>4.662487e+08</td>\n",
       "      <td>0.783818</td>\n",
       "    </tr>\n",
       "    <tr>\n",
       "      <th>8</th>\n",
       "      <td>Finland</td>\n",
       "      <td>2.17</td>\n",
       "      <td>2.320000e+11</td>\n",
       "      <td>564997</td>\n",
       "      <td>5.034400e+09</td>\n",
       "      <td>8910.489790</td>\n",
       "      <td>65</td>\n",
       "      <td>5.791818e+05</td>\n",
       "      <td>5.034979e+09</td>\n",
       "      <td>0.011504</td>\n",
       "    </tr>\n",
       "    <tr>\n",
       "      <th>9</th>\n",
       "      <td>France</td>\n",
       "      <td>2.08</td>\n",
       "      <td>2.440000e+12</td>\n",
       "      <td>3497529</td>\n",
       "      <td>5.075200e+10</td>\n",
       "      <td>14510.816065</td>\n",
       "      <td>285</td>\n",
       "      <td>4.135583e+06</td>\n",
       "      <td>5.075614e+10</td>\n",
       "      <td>0.008149</td>\n",
       "    </tr>\n",
       "    <tr>\n",
       "      <th>10</th>\n",
       "      <td>Germany</td>\n",
       "      <td>1.71</td>\n",
       "      <td>3.380000e+12</td>\n",
       "      <td>3589126</td>\n",
       "      <td>5.779800e+10</td>\n",
       "      <td>16103.641945</td>\n",
       "      <td>173</td>\n",
       "      <td>2.785930e+06</td>\n",
       "      <td>5.780079e+10</td>\n",
       "      <td>0.004820</td>\n",
       "    </tr>\n",
       "    <tr>\n",
       "      <th>11</th>\n",
       "      <td>Greece</td>\n",
       "      <td>2.15</td>\n",
       "      <td>1.960000e+11</td>\n",
       "      <td>106385</td>\n",
       "      <td>4.214000e+09</td>\n",
       "      <td>39610.847394</td>\n",
       "      <td>222</td>\n",
       "      <td>8.793608e+06</td>\n",
       "      <td>4.222794e+09</td>\n",
       "      <td>0.208676</td>\n",
       "    </tr>\n",
       "    <tr>\n",
       "      <th>12</th>\n",
       "      <td>Hungary</td>\n",
       "      <td>1.79</td>\n",
       "      <td>1.230000e+11</td>\n",
       "      <td>490583</td>\n",
       "      <td>2.201700e+09</td>\n",
       "      <td>4487.925591</td>\n",
       "      <td>90</td>\n",
       "      <td>4.039133e+05</td>\n",
       "      <td>2.202104e+09</td>\n",
       "      <td>0.018346</td>\n",
       "    </tr>\n",
       "    <tr>\n",
       "      <th>13</th>\n",
       "      <td>Iceland</td>\n",
       "      <td>2.35</td>\n",
       "      <td>1.694225e+10</td>\n",
       "      <td>9245</td>\n",
       "      <td>3.981428e+08</td>\n",
       "      <td>43065.745083</td>\n",
       "      <td>15</td>\n",
       "      <td>6.459862e+05</td>\n",
       "      <td>3.987888e+08</td>\n",
       "      <td>0.162250</td>\n",
       "    </tr>\n",
       "    <tr>\n",
       "      <th>14</th>\n",
       "      <td>Ireland</td>\n",
       "      <td>2.62</td>\n",
       "      <td>2.910000e+11</td>\n",
       "      <td>302586</td>\n",
       "      <td>7.624200e+09</td>\n",
       "      <td>25196.803553</td>\n",
       "      <td>322</td>\n",
       "      <td>8.113371e+06</td>\n",
       "      <td>7.632313e+09</td>\n",
       "      <td>0.106416</td>\n",
       "    </tr>\n",
       "  </tbody>\n",
       "</table>\n",
       "</div>"
      ],
      "text/plain": [
       "          Location  2015 Corp Tax Rate % of GDP      2015 GDP  \\\n",
       "0        Australia                         4.25  1.350000e+12   \n",
       "1          Austria                         2.22  3.820000e+11   \n",
       "2          Belgium                         3.33  4.550000e+11   \n",
       "3           Canada                         3.41  1.560000e+12   \n",
       "4            Chile                         4.29  2.440000e+11   \n",
       "5   Czech Republic                         3.59  1.870000e+11   \n",
       "6          Denmark                         2.71  3.010000e+11   \n",
       "7          Estonia                         2.05  2.256696e+10   \n",
       "8          Finland                         2.17  2.320000e+11   \n",
       "9           France                         2.08  2.440000e+12   \n",
       "10         Germany                         1.71  3.380000e+12   \n",
       "11          Greece                         2.15  1.960000e+11   \n",
       "12         Hungary                         1.79  1.230000e+11   \n",
       "13         Iceland                         2.35  1.694225e+10   \n",
       "14         Ireland                         2.62  2.910000e+11   \n",
       "\n",
       "    Number of Businesses  Corporate Tax Revenue  Avg tax per business  \\\n",
       "0                1873101           5.737500e+10          30631.023100   \n",
       "1                 547330           8.480400e+09          15494.126030   \n",
       "2                1597753           1.515150e+10           9483.005195   \n",
       "3                1536428           5.319600e+10          34623.164899   \n",
       "4                 775308           1.046760e+10          13501.215001   \n",
       "5                1442568           6.713300e+09           4653.714764   \n",
       "6                 495961           8.157100e+09          16447.059345   \n",
       "7                 112271           4.626226e+08           4120.588737   \n",
       "8                 564997           5.034400e+09           8910.489790   \n",
       "9                3497529           5.075200e+10          14510.816065   \n",
       "10               3589126           5.779800e+10          16103.641945   \n",
       "11                106385           4.214000e+09          39610.847394   \n",
       "12                490583           2.201700e+09           4487.925591   \n",
       "13                  9245           3.981428e+08          43065.745083   \n",
       "14                302586           7.624200e+09          25196.803553   \n",
       "\n",
       "    Count in PP  Potential Tax Lost  Potential Real Corporate Tax Revenue  \\\n",
       "0            94        2.879316e+06                          5.737788e+10   \n",
       "1            24        3.718590e+05                          8.480772e+09   \n",
       "2            59        5.594973e+05                          1.515206e+10   \n",
       "3           347        1.201424e+07                          5.320801e+10   \n",
       "4           140        1.890170e+06                          1.046949e+10   \n",
       "5            34        1.582263e+05                          6.713458e+09   \n",
       "6            14        2.302588e+05                          8.157330e+09   \n",
       "7           880        3.626118e+06                          4.662487e+08   \n",
       "8            65        5.791818e+05                          5.034979e+09   \n",
       "9           285        4.135583e+06                          5.075614e+10   \n",
       "10          173        2.785930e+06                          5.780079e+10   \n",
       "11          222        8.793608e+06                          4.222794e+09   \n",
       "12           90        4.039133e+05                          2.202104e+09   \n",
       "13           15        6.459862e+05                          3.987888e+08   \n",
       "14          322        8.113371e+06                          7.632313e+09   \n",
       "\n",
       "    % Tax Lost  \n",
       "0     0.005018  \n",
       "1     0.004385  \n",
       "2     0.003693  \n",
       "3     0.022585  \n",
       "4     0.018057  \n",
       "5     0.002357  \n",
       "6     0.002823  \n",
       "7     0.783818  \n",
       "8     0.011504  \n",
       "9     0.008149  \n",
       "10    0.004820  \n",
       "11    0.208676  \n",
       "12    0.018346  \n",
       "13    0.162250  \n",
       "14    0.106416  "
      ]
     },
     "execution_count": 70,
     "metadata": {},
     "output_type": "execute_result"
    }
   ],
   "source": [
    "m3.head(15)"
   ]
  },
  {
   "cell_type": "markdown",
   "metadata": {},
   "source": [
    "Now that the table has been created, we can make a plot to visualize the top countries who have the most potential corporate tax revenue lost. To make the graph more readible, we select the top 15 countries."
   ]
  },
  {
   "cell_type": "code",
   "execution_count": 71,
   "metadata": {},
   "outputs": [
    {
     "data": {
      "text/plain": [
       "Text(0.5,1,'Potential Corporate Tax Revenue Loss')"
      ]
     },
     "execution_count": 71,
     "metadata": {},
     "output_type": "execute_result"
    },
    {
     "data": {
      "image/png": "[encoded data removed]",
      "text/plain": [
       "<Figure size 432x288 with 1 Axes>"
      ]
     },
     "metadata": {},
     "output_type": "display_data"
    }
   ],
   "source": [
    "m3.sort_values(['Potential Tax Lost'], inplace=True, ascending=False)\n",
    "plt.bar(m3.Location[:15], m3['Potential Tax Lost'][:15])\n",
    "plt.xticks(rotation=90)\n",
    "plt.ylabel('USD')\n",
    "plt.xlabel('Countries')\n",
    "plt.yscale('log')\n",
    "plt.title('Potential Corporate Tax Revenue Loss')"
   ]
  },
  {
   "cell_type": "markdown",
   "metadata": {},
   "source": [
    "As seen from the graph, aside from Switzerland, many of the countries are not losing that much corporate tax revenue when compared to their actual corporate tax revenue. This may be because usually only large businesses with high profits have the motivation to transfer their money overseas, as they pay a larger percentages in home corporate tax. Thus they would average a higher `Avg tax per business` and consequently increase overall `Potential corporate tax loss`."
   ]
  },
  {
   "cell_type": "markdown",
   "metadata": {},
   "source": [
    "### Time dependence between entities presence in Panama Papers and GINI coefficient"
   ]
  },
  {
   "cell_type": "markdown",
   "metadata": {},
   "source": [
    "A preliminary analysis of the relation between the number of panama papers and GINI was performed with the same techniques of the ones done above. No interesting results were found and it was decided to analyse the GINI vs the number of Panama Papers time relation."
   ]
  },
  {
   "cell_type": "markdown",
   "metadata": {},
   "source": [
    "#### GINI coefficient: Global perspective "
   ]
  },
  {
   "cell_type": "markdown",
   "metadata": {},
   "source": [
    "One interesting fact that could be analysed is the time correlation between the number of Panama Papers during the years and the yearly development of other indicators such as GINI coefficient. "
   ]
  },
  {
   "cell_type": "markdown",
   "metadata": {},
   "source": [
    "To do so, the total database is considering for different purpose that will be later explained. Firstly, only the columns regarding the last $15$ years are considered and stored in ``df_GDP_w``. Then an average over these years is considered to obtain a single expression for each country and for mitigate the presence of missing value in the data. The column ``GDP_x`` is added with the mean and all the other columns are dropped."
   ]
  },
  {
   "cell_type": "code",
   "execution_count": 72,
   "metadata": {
    "scrolled": true
   },
   "outputs": [],
   "source": [
    "cols=[0]+list(range(-17,-1))\n",
    "df_GDP_w=df_GDP_tot_raw.iloc[:,cols].copy()\n",
    "df_GDP_w['GDP_x'] = df_GDP_w.iloc[:,range(-15,0)].mean(axis=1,numeric_only=True)\n",
    "df_GDP_w=df_GDP_w.drop(df_GDP_w.columns[1:17],axis=1)\n",
    "#df_GDP_w"
   ]
  },
  {
   "cell_type": "markdown",
   "metadata": {},
   "source": [
    "Now, different filter can be applied to this data frame that will influence the final data plotted later because of the presence of different joins between the latter dataset and two others. The example showed considers only countries with a GDP higher that a threshold now set to the unrealistic value of $200$, so basically considering all countries present in the data frame. "
   ]
  },
  {
   "cell_type": "code",
   "execution_count": 73,
   "metadata": {},
   "outputs": [
    {
     "data": {
      "text/html": [
       "<div>\n",
       "<style scoped>\n",
       "    .dataframe tbody tr th:only-of-type {\n",
       "        vertical-align: middle;\n",
       "    }\n",
       "\n",
       "    .dataframe tbody tr th {\n",
       "        vertical-align: top;\n",
       "    }\n",
       "\n",
       "    .dataframe thead th {\n",
       "        text-align: right;\n",
       "    }\n",
       "</style>\n",
       "<table border=\"1\" class=\"dataframe\">\n",
       "  <thead>\n",
       "    <tr style=\"text-align: right;\">\n",
       "      <th></th>\n",
       "      <th>Country Name</th>\n",
       "      <th>GDP_x</th>\n",
       "    </tr>\n",
       "  </thead>\n",
       "  <tbody>\n",
       "    <tr>\n",
       "      <th>0</th>\n",
       "      <td>Aruba</td>\n",
       "      <td>2.402359e+09</td>\n",
       "    </tr>\n",
       "    <tr>\n",
       "      <th>1</th>\n",
       "      <td>Afghanistan</td>\n",
       "      <td>1.292136e+10</td>\n",
       "    </tr>\n",
       "    <tr>\n",
       "      <th>2</th>\n",
       "      <td>Angola</td>\n",
       "      <td>7.248887e+10</td>\n",
       "    </tr>\n",
       "    <tr>\n",
       "      <th>3</th>\n",
       "      <td>Albania</td>\n",
       "      <td>1.044583e+10</td>\n",
       "    </tr>\n",
       "    <tr>\n",
       "      <th>4</th>\n",
       "      <td>Andorra</td>\n",
       "      <td>3.188988e+09</td>\n",
       "    </tr>\n",
       "  </tbody>\n",
       "</table>\n",
       "</div>"
      ],
      "text/plain": [
       "  Country Name         GDP_x\n",
       "0        Aruba  2.402359e+09\n",
       "1  Afghanistan  1.292136e+10\n",
       "2       Angola  7.248887e+10\n",
       "3      Albania  1.044583e+10\n",
       "4      Andorra  3.188988e+09"
      ]
     },
     "execution_count": 73,
     "metadata": {},
     "output_type": "execute_result"
    }
   ],
   "source": [
    "df_GDP_w=df_GDP_w[df_GDP_w['GDP_x']>200]#*10e9]\n",
    "#df_GDP_w=df_GDP_w[df_GDP_w['Country Name']=='Cyprus']\n",
    "df_GDP_w.head()"
   ]
  },
  {
   "cell_type": "markdown",
   "metadata": {},
   "source": [
    "For counting the Panama Papers, the `` df_entity_raw`` is firstly joined with ``df_GDP_w`` to consider only countries previously filtered and then all the rows with $NaN$ are dropped. "
   ]
  },
  {
   "cell_type": "code",
   "execution_count": 74,
   "metadata": {},
   "outputs": [],
   "source": [
    "df_entity_S2 = df_entity_raw.copy()\n",
    "df_entity_S2=df_entity_S2.merge(df_GDP_w, how='left',left_on='countries', right_on='Country Name')\n",
    "df_entity_S2=df_entity_S2[pd.notnull(df_entity_S2['GDP_x'])]\n",
    "#df_entity_S2"
   ]
  },
  {
   "cell_type": "markdown",
   "metadata": {},
   "source": [
    "Through converting the year column into index and use it through different function, the count of the number of entities of the countries considered going offshore yearly is calculated."
   ]
  },
  {
   "cell_type": "code",
   "execution_count": 75,
   "metadata": {
    "scrolled": true
   },
   "outputs": [],
   "source": [
    "df_entity_S2.incorporation_date = pd.to_datetime(df_entity_S2.incorporation_date)\n",
    "df_entity_S2['Year'] = df_entity_S2.apply(lambda row: row['incorporation_date'].year, axis=1)\n",
    "series_panamas = df_entity_S2.groupby(['Year'], axis=0)['Year'].count()\n",
    "series_panamas.index = series_panamas.index.astype(int)"
   ]
  },
  {
   "cell_type": "markdown",
   "metadata": {},
   "source": [
    "Here the other country feature dataset is introduced (in this case `` df_gini``). The dataset is cleaned from useless columns and the filtering join with the GDP dataset is performed. "
   ]
  },
  {
   "cell_type": "code",
   "execution_count": 76,
   "metadata": {
    "scrolled": true
   },
   "outputs": [],
   "source": [
    "series_var = df_gini.copy()\n",
    "series_var = series_var.drop(series_var.columns[1:4],axis=1).drop(series_var.columns[-1],axis=1)\n",
    "series_var=series_var.merge(df_GDP_w, how='inner',left_on='Country Name', right_on='Country Name')"
   ]
  },
  {
   "cell_type": "markdown",
   "metadata": {},
   "source": [
    "Now the latter data frame is average along the column direction, hence leaving all the years column. Different strategies were considered to make the latter average, as the purely arithmetic mean is not ideal. This is because different countries have very different weight in the world economy. One strategy was to use the GDP as weight of the country importance. This did not end up being a good solution as not all the values are available every year and so the absence of the value of a big country in one precise timestep would alter the result a lot. "
   ]
  },
  {
   "cell_type": "code",
   "execution_count": 77,
   "metadata": {},
   "outputs": [],
   "source": [
    "series_var[series_var.columns[1:57]]=series_var[series_var.columns[1:57]]#.divide(series_var['GDP_x'], axis='rows')\n",
    "series_var=series_var[series_var.columns[1:57]]\n",
    "series_var = series_var.mean(axis=0, skipna=True)\n",
    "series_var.index = series_var.index.astype(int)"
   ]
  },
  {
   "cell_type": "markdown",
   "metadata": {},
   "source": [
    "Now the 2 resulting series are plotted in one graph with the following code. Only ear after 1979 are considered as before there is no significant yearly number of Panama Papers. The results are standardized with min-max standardization to plot them on a single graph and easily compared their trend and correlation."
   ]
  },
  {
   "cell_type": "code",
   "execution_count": 78,
   "metadata": {
    "scrolled": true
   },
   "outputs": [],
   "source": [
    "series_panamas_cut = series_panamas[series_panamas.index>=1979]\n",
    "series_panamas_cut = (series_panamas_cut-series_panamas_cut.min())/(series_panamas_cut.max()-series_panamas_cut.min())\n",
    "series_var_cut=series_var[series_var.index>=1979]\n",
    "series_var_cut=(series_var_cut-series_var_cut.min())/(series_var_cut.max()-series_var_cut.min())\n",
    "df_plot = pd.concat([series_var_cut, series_panamas_cut], axis=1)\n",
    "df_plot.columns = [['Gini coefficient','Panama papers count']]"
   ]
  },
  {
   "cell_type": "code",
   "execution_count": 79,
   "metadata": {},
   "outputs": [
    {
     "data": {
      "text/plain": [
       "<matplotlib.axes._subplots.AxesSubplot at 0x1fa51ceda20>"
      ]
     },
     "execution_count": 79,
     "metadata": {},
     "output_type": "execute_result"
    },
    {
     "data": {
      "image/png": "[encoded data removed]",
      "text/plain": [
       "<Figure size 648x288 with 1 Axes>"
      ]
     },
     "metadata": {},
     "output_type": "display_data"
    }
   ],
   "source": [
    "df_plot.plot(figsize=(9,4))"
   ]
  },
  {
   "cell_type": "code",
   "execution_count": 80,
   "metadata": {
    "scrolled": true
   },
   "outputs": [
    {
     "data": {
      "text/plain": [
       "Text(0,0.5,'Panama papers count')"
      ]
     },
     "execution_count": 80,
     "metadata": {},
     "output_type": "execute_result"
    },
    {
     "data": {
      "image/png": "[encoded data removed]",
      "text/plain": [
       "<Figure size 432x288 with 1 Axes>"
      ]
     },
     "metadata": {},
     "output_type": "display_data"
    }
   ],
   "source": [
    "plt.scatter(df_plot['Gini coefficient'], df_plot['Panama papers count'])\n",
    "plt.xlabel('Gini coefficient')\n",
    "plt.ylabel('Panama papers count')"
   ]
  },
  {
   "cell_type": "markdown",
   "metadata": {},
   "source": [
    "The resulting plot that can be seen here above. It can be seen that, on a world scale, there is no clear correlation between the develop of the GINI and the number of worldwide entities in the Panama Papers. To confirm the hypothesis that a higher number of panama paper is a sign of more inequality in the world, the two parameters would be positively correlated, so showing similar trend. All the countries in the world are very different from each other and their behaviour in the Papers can be influenced by a lot of other covariates. A machine learning algorithm could be a nice solution to find some relation using more features, but it would be very limited by the small amount of point available (the number of world countries)."
   ]
  },
  {
   "cell_type": "code",
   "execution_count": 81,
   "metadata": {},
   "outputs": [],
   "source": [
    "def series_var_processing(df,weighting):\n",
    "    series_var = df.copy()\n",
    "    series_var = series_var.drop(series_var.columns[1:4],axis=1).drop(series_var.columns[-1],axis=1)\n",
    "    series_var=series_var.merge(df_GDP_w, how='inner',left_on='Country Name', right_on='Country Name')\n",
    "    #Here the weighting of GINI is performed \n",
    "    if weighting:\n",
    "        series_var[series_var.columns[1:57]]=series_var[series_var.columns[1:57]].divide(series_var['GDP_x'], axis='rows')\n",
    "    series_var=series_var[series_var.columns[1:57]]\n",
    "    series_var = series_var.mean(axis=0, skipna=True)\n",
    "    series_var.index = series_var.index.astype(int)\n",
    "    series_panamas_cut = series_panamas[series_panamas.index>=1979]\n",
    "    series_panamas_cut = (series_panamas_cut-series_panamas_cut.min())/(series_panamas_cut.max()-series_panamas_cut.min())\n",
    "    series_var_cut=series_var[series_var.index>=1979]\n",
    "    return (series_var_cut-series_var_cut.min())/(series_var_cut.max()-series_var_cut.min())"
   ]
  },
  {
   "cell_type": "code",
   "execution_count": 82,
   "metadata": {},
   "outputs": [
    {
     "data": {
      "text/plain": [
       "<matplotlib.axes._subplots.AxesSubplot at 0x1fa5166f7b8>"
      ]
     },
     "execution_count": 82,
     "metadata": {},
     "output_type": "execute_result"
    },
    {
     "data": {
      "image/png": "[encoded data removed]",
      "text/plain": [
       "<Figure size 648x288 with 1 Axes>"
      ]
     },
     "metadata": {},
     "output_type": "display_data"
    }
   ],
   "source": [
    "series_var_cut=series_var_processing(df_gini,True)\n",
    "df_plot = pd.concat([series_var_cut, series_panamas_cut], axis=1)\n",
    "df_plot.columns = [['Gini coefficient','Panama papers count']]\n",
    "df_plot.plot(figsize=(9,4))"
   ]
  },
  {
   "cell_type": "markdown",
   "metadata": {},
   "source": [
    "In the graph above the same procedure as descripted above is used but this time the GINI coefficient is weighted by dividing it by the GDP. The scatter plot is not showed no consequent time dependence could be seen in that. In this occasion the result does not seem to show any relation. The weighting of the GINI moderates its fluctuations, but missing data creates outliers. A pseudo correlation can be noticed in the first $15 - 17$ years of the plot."
   ]
  },
  {
   "cell_type": "markdown",
   "metadata": {},
   "source": [
    "#### GINI coefficient: G7 countries "
   ]
  },
  {
   "cell_type": "code",
   "execution_count": 83,
   "metadata": {},
   "outputs": [
    {
     "data": {
      "text/plain": [
       "<matplotlib.axes._subplots.AxesSubplot at 0x1fa5550f320>"
      ]
     },
     "execution_count": 83,
     "metadata": {},
     "output_type": "execute_result"
    },
    {
     "data": {
      "image/png": "[encoded data removed]",
      "text/plain": [
       "<Figure size 648x288 with 1 Axes>"
      ]
     },
     "metadata": {},
     "output_type": "display_data"
    }
   ],
   "source": [
    "df_GDP_w=df_GDP_tot_raw.iloc[:,cols].copy()\n",
    "df_GDP_w['GDP_x'] = df_GDP_w.iloc[:,range(-15,0)].mean(axis=1,numeric_only=True)\n",
    "df_GDP_w=df_GDP_w.drop(df_GDP_w.columns[1:17],axis=1)\n",
    "#Country filtering\n",
    "df_GDP_w=df_GDP_w[df_GDP_w['GDP_x']>200*10e9]\n",
    "df_entity_S2 = df_entity_raw.copy()\n",
    "df_entity_S2=df_entity_S2.merge(df_GDP_w, how='left',left_on='countries', right_on='Country Name')\n",
    "df_entity_S2=df_entity_S2[pd.notnull(df_entity_S2['GDP_x'])]\n",
    "df_entity_S2.incorporation_date = pd.to_datetime(df_entity_S2.incorporation_date)\n",
    "df_entity_S2['Year'] = df_entity_S2.apply(lambda row: row['incorporation_date'].year, axis=1)\n",
    "series_panamas = df_entity_S2.groupby(['Year'], axis=0)['Year'].count()\n",
    "series_panamas.index = series_panamas.index.astype(int)\n",
    "series_var_cut=series_var_processing(df_gini,False)\n",
    "df_plot = pd.concat([series_var_cut, series_panamas_cut], axis=1)\n",
    "df_plot.columns = [['Gini coefficient','Panama papers count']]\n",
    "df_plot.plot(figsize=(9,4))"
   ]
  },
  {
   "cell_type": "markdown",
   "metadata": {},
   "source": [
    "As previously mentioned, the countries can be filtered by GDP using the GDP database which used with the correct join can act as a filter also for the others. The result, as in the previous case of the Tax rate, is not very meaningful. The data frame analysed has a lot of missing data, hence showing a continuous trend of it just in the last 10 years. Moreover, even in this small period, no observed correlation can be observed."
   ]
  },
  {
   "cell_type": "markdown",
   "metadata": {},
   "source": [
    "All in all the GINI coefficient has not shown to be dependent from the number of offshore entities.\n",
    "It is probable that the increasing number of offshore entities does indeed strenghten income inequality, but this cannot be proven on a macroscopic scale with the help of data used in this exploration. "
   ]
  },
  {
   "cell_type": "markdown",
   "metadata": {},
   "source": [
    "# What about staying onshore?"
   ]
  },
  {
   "cell_type": "markdown",
   "metadata": {},
   "source": [
    "The exploration above has provided numerous insights not only on the causes influencing entities to go offshore, but also on the consequences that such practises have on the home countries and could have on world income inequality in the long run, as the unknown leaker as mentioned. Some of the causes behind going offshore can be explained with data; in fact further researches are needed to obtain a greater quantity of data and use them to explore which are determinants of the number of offshore companies. In addition the phenomenon is also a sociological one and the story of each entity should be treated separately. All in all a stakeholder analysis should be performed to understand which are the individuals that, hidden behind the privacy curtains of the offshore jurisdictions, evade taxation disabling a proper redistribution of wealth. "
   ]
  }
 ],
 "metadata": {
  "kernelspec": {
   "display_name": "Python 3",
   "language": "python",
   "name": "python3"
  },
  "language_info": {
   "codemirror_mode": {
    "name": "ipython",
    "version": 3
   },
   "file_extension": ".py",
   "mimetype": "text/x-python",
   "name": "python",
   "nbconvert_exporter": "python",
   "pygments_lexer": "ipython3",
   "version": "3.6.5"
  }
 },
 "nbformat": 4,
 "nbformat_minor": 2
}
