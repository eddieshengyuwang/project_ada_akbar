{
 "cells": [
  {
   "cell_type": "markdown",
   "metadata": {},
   "source": [
    "## HERE PLACE THE GRAPHS AND THE ANALYSIS THAT HAVE TO BE DONE"
   ]
  },
  {
   "cell_type": "markdown",
   "metadata": {},
   "source": [
    "The results that are going to be obtained at the end of the research will be the following:\n",
    "\n",
    "Which are the jurisdictions in which entities found in Panama papers are registered?\n",
    "\n",
    "- **Map the tax heavens jurisdiction in terms of the number of entities they have registered** DONE\n",
    "\n",
    "\n",
    "What countries have the most entities register in the Panama papers?\n",
    "\n",
    "- **Map countries in the world according to how much they appear in the Panama Papers in terms of entities **DONE\n",
    "\n",
    "\n",
    "What are the burocratic and economic causes pushing entities to go offshore? \n",
    "\n",
    "\n",
    "- **Investigate the role that the indicators 'Days to open a business', 'Tax rate', 'Time spent dealing with legal requirements', 'Ease of doing business coefficients' have in pushing entities and companies already to establish in countries which offer business friendly regulations **DONE. The conclusion is that corporate tax rate is the better indicator since data about the rest of the other indicators are missing and they much harder to find. Hence tables showing the lack of data will be presented in the notebook, but nothing of this will be put in the data story .** DONE\n",
    "\n",
    "\n",
    "- **Relationship between presence in Panama Papers and tax rate for G7 nations, for small developped and for developped and developping countries ** DONE, TO BE PLACED IN DATA STORY\n",
    "\n",
    "\n",
    "How does the number of entities in a country which are mentioned in the Panama papers reflect with the social and income inequality within a country?\n",
    "\n",
    "\n",
    "- **Show the evolution of income inequality and entities' presence in the Panama papers over time** DONE\n",
    "\n",
    "- **Explain modifications on the dataset of entities** DONE\n",
    "\n",
    "- **Estimate how many resources could be lost by tax evasion by companies going ofsshore ** DONE\n",
    "\n",
    "- **State assumptions in data story and notebook: the analysis is performed by assuming that most of the entities to go offshore are companies --> the use of corporate tax rate, GDP is used as measure to match countries and also as the only one to measure economic activity...** TO BE DONE\n",
    "\n",
    "\n",
    "- **Write story line of data story in the notebook according to the plan** TO BE DONE\n",
    "\n",
    "- **Work division update in READme and check all content and requirements of project submission** TO BE DONE\n",
    "\n",
    "- **Find nice picture for story at the beginning; in addition write conclusion and put a picture at the conclusion too.** TO BE DONE\n",
    "\n",
    "- **Write what is the structure of the analysis.** TO BE DONE"
   ]
  },
  {
   "cell_type": "code",
   "execution_count": 1,
   "metadata": {},
   "outputs": [],
   "source": [
    "# Import the necessary packages to perform the data analysis\n",
    "\n",
    "# packages to process and visualize the data\n",
    "import pandas as pd\n",
    "import numpy as np\n",
    "import seaborn as sns\n",
    "import scipy\n",
    "import matplotlib.pyplot as plt\n",
    "from scipy import stats\n",
    "\n",
    "# import othe useful packages\n",
    "import os\n",
    "from geopy.geocoders import Nominatim\n",
    "from math import pi\n",
    "import math\n",
    "from bokeh.plotting import figure, show, output_file, ColumnDataSource\n",
    "from bokeh.models import HoverTool, LogColorMapper, LogTicker, ColorBar\n",
    "from bokeh.layouts import row as row_plot\n",
    "\n",
    "# packages to improve visual description and analysis\n",
    "from IPython.core.display import display\n",
    "pd.set_option('display.max_columns', 100)"
   ]
  },
  {
   "cell_type": "code",
   "execution_count": 2,
   "metadata": {},
   "outputs": [],
   "source": [
    "# Getting file names\n",
    "\n",
    "DATA_FOLDER = './data/'\n",
    "\n",
    "# Panama papers data\n",
    "edges_csv = 'panama_papers.edges.csv'\n",
    "intermediary_csv = 'panama_papers.nodes.intermediary.csv' # company or individuals\n",
    "address_csv = 'panama_papers.nodes.address.csv'\n",
    "officer_csv = 'panama_papers.nodes.officer.csv'\n",
    "entity_csv = 'panama_papers.nodes.entity.csv' # tax haven companies\n",
    "entity_csv_mod = 'panama_papers_modified.nodes.entity.csv'"
   ]
  },
  {
   "cell_type": "markdown",
   "metadata": {},
   "source": [
    "The followings are the additional datasets used for the investigation taken in the [World Bank Dataset](https://data.worldbank.org):\n",
    "\n",
    "- `API_SI.POV.GINI_DS2_en_csv_v2_10224868.csv`, is the GINI coefficient per country\n",
    "\n",
    "- `API_NY.GDP.MKTP.CD_DS2_en_csv_v2_10224782.csv`, is the GDP per country\n",
    "\n",
    "- `API_NY.GDP.PCAP.CD_DS2_en_csv_v2_10224851.csv`, is the GDP per capita per country\n",
    "\n",
    "- `API_IC.GOV.DURS.ZS_DS2_en_csv_v2_10230883.csv`, is the time spent by business in government regulation per country\n",
    "\n",
    "- `API_GC.TAX.YPKG.RV.ZS_DS2_en_csv_v2_10227627.csv`, is the corporate tax rate per country\n",
    "\n",
    "- `API_IC.REG.DURS_DS2_en_csv_v2_10225592.csv`, days to open a business\n",
    "\n",
    "Every dataset is divided in n rows as many countries in the world and p columns for a range p of years usually going from the sixties to 2018. Hence each column represent the indicator per year. Not all countries have an indicator each year. Examples are given in the notebook."
   ]
  },
  {
   "cell_type": "code",
   "execution_count": 3,
   "metadata": {},
   "outputs": [],
   "source": [
    "#World Bank dataset\n",
    "GINI_coeff = 'API_SI.POV.GINI_DS2_en_csv_v2_10224868.csv'\n",
    "GDP_tot = 'API_NY.GDP.MKTP.CD_DS2_en_csv_v2_10224782.csv'\n",
    "GDP_cap = 'API_NY.GDP.PCAP.CD_DS2_en_csv_v2_10224851.csv'\n",
    "time_spent_by_bus = 'API_IC.GOV.DURS.ZS_DS2_en_csv_v2_10230883.csv'\n",
    "tax_rate = 'API_GC.TAX.YPKG.RV.ZS_DS2_en_csv_v2_10227627.csv'\n",
    "days_open_business='API_IC.REG.DURS_DS2_en_csv_v2_10225592.csv'"
   ]
  },
  {
   "cell_type": "code",
   "execution_count": 4,
   "metadata": {},
   "outputs": [],
   "source": [
    "# Importing the Panama Papers data into DataFrames\n",
    "df_edges_raw = pd.read_csv(DATA_FOLDER + edges_csv,low_memory=False)\n",
    "df_address_raw = pd.read_csv(DATA_FOLDER + address_csv,low_memory=False)\n",
    "df_entity_raw = pd.read_csv(DATA_FOLDER + entity_csv,low_memory=False)\n",
    "df_intermediary_raw = pd.read_csv(DATA_FOLDER + intermediary_csv,low_memory=False)\n",
    "df_officier_raw = pd.read_csv(DATA_FOLDER + officer_csv,low_memory=False)\n",
    "df_entity_mod_raw = pd.read_csv(DATA_FOLDER + entity_csv_mod,low_memory=False,encoding = \"ISO-8859-1\")"
   ]
  },
  {
   "cell_type": "code",
   "execution_count": 5,
   "metadata": {},
   "outputs": [],
   "source": [
    "#Importing World Bank Data\n",
    "df_GDP_tot_raw=pd.read_csv(DATA_FOLDER + GDP_tot,skiprows=4)\n",
    "df_GDP_cap_raw=pd.read_csv(DATA_FOLDER + GDP_cap,skiprows=4)\n",
    "df_tax_rate=pd.read_csv(DATA_FOLDER+tax_rate, skiprows=4)\n",
    "df_ease_business=pd.read_csv(DATA_FOLDER+days_open_business,skiprows=4)\n",
    "df_gini=pd.read_csv(DATA_FOLDER+GINI_coeff, skiprows=4)\n",
    "df_time_regulation=pd.read_csv(DATA_FOLDER+days_open_business, skiprows=4)"
   ]
  },
  {
   "cell_type": "markdown",
   "metadata": {},
   "source": [
    "## Handling data size\n",
    "\n",
    "First we will answer the question of whether we can handle the data in size."
   ]
  },
  {
   "cell_type": "code",
   "execution_count": 6,
   "metadata": {},
   "outputs": [
    {
     "name": "stdout",
     "output_type": "stream",
     "text": [
      "Edges shape:  (674102, 8)\n",
      "Intermediary shape:  (14110, 8)\n",
      "Address shape:  (93454, 8)\n",
      "Officer shape:  (238402, 7)\n",
      "Entity shape:  (213634, 17)\n"
     ]
    }
   ],
   "source": [
    "# Printing shapes of each DataFrame to see if any are too large\n",
    "\n",
    "print(\"Edges shape: \", df_edges_raw.shape)\n",
    "print(\"Intermediary shape: \", df_intermediary_raw.shape)\n",
    "print(\"Address shape: \", df_address_raw.shape)\n",
    "print(\"Officer shape: \", df_officier_raw.shape)\n",
    "print(\"Entity shape: \", df_entity_raw.shape)"
   ]
  },
  {
   "cell_type": "markdown",
   "metadata": {},
   "source": [
    "From above, we see that the DataFrame with the most number of rows is around 670,000 rows of data. In total the size of the Panama Papers dataset is around 352 MB, which is small enough for Jupyter Notebook and Pandas to handle effectively. Thus the data can definitely be handled within our approach of using purely a notebook. "
   ]
  },
  {
   "cell_type": "markdown",
   "metadata": {},
   "source": [
    "## Understanding the data\n",
    "\n",
    "Next we understand the data. Although the dataset is downloaded within `csv` format, the data is curated to work well within a graph database (specifically Neo4j as mentioned on the Panama Papers website). Here, the `Edges` table represents the edge connections within a graph database whereas all the other tables (`Intermediary`, `Address`, etc) are nodes within the graph. For example:"
   ]
  },
  {
   "cell_type": "code",
   "execution_count": 7,
   "metadata": {},
   "outputs": [
    {
     "data": {
      "text/html": [
       "<div>\n",
       "<style scoped>\n",
       "    .dataframe tbody tr th:only-of-type {\n",
       "        vertical-align: middle;\n",
       "    }\n",
       "\n",
       "    .dataframe tbody tr th {\n",
       "        vertical-align: top;\n",
       "    }\n",
       "\n",
       "    .dataframe thead th {\n",
       "        text-align: right;\n",
       "    }\n",
       "</style>\n",
       "<table border=\"1\" class=\"dataframe\">\n",
       "  <thead>\n",
       "    <tr style=\"text-align: right;\">\n",
       "      <th></th>\n",
       "      <th>START_ID</th>\n",
       "      <th>TYPE</th>\n",
       "      <th>END_ID</th>\n",
       "      <th>link</th>\n",
       "      <th>start_date</th>\n",
       "      <th>end_date</th>\n",
       "      <th>sourceID</th>\n",
       "      <th>valid_until</th>\n",
       "    </tr>\n",
       "  </thead>\n",
       "  <tbody>\n",
       "    <tr>\n",
       "      <th>0</th>\n",
       "      <td>10000035</td>\n",
       "      <td>registered_address</td>\n",
       "      <td>14095990</td>\n",
       "      <td>registered address</td>\n",
       "      <td>NaN</td>\n",
       "      <td>NaN</td>\n",
       "      <td>Panama Papers</td>\n",
       "      <td>NaN</td>\n",
       "    </tr>\n",
       "  </tbody>\n",
       "</table>\n",
       "</div>"
      ],
      "text/plain": [
       "   START_ID                TYPE    END_ID                link start_date  \\\n",
       "0  10000035  registered_address  14095990  registered address        NaN   \n",
       "\n",
       "  end_date       sourceID valid_until  \n",
       "0      NaN  Panama Papers         NaN  "
      ]
     },
     "metadata": {},
     "output_type": "display_data"
    }
   ],
   "source": [
    "display(df_edges_raw.head(1))"
   ]
  },
  {
   "cell_type": "markdown",
   "metadata": {},
   "source": [
    "To interpret this row in the `Edges` table, the `START_ID` and `END_ID` represent the node ids that the edge is connected to. But the node ids can correspond to any of `Intermediary, Address, Officer, Entity`, which may prove to be difficult in SQL or Pandas merging as we will have to look up the node id in every other table. One solution would be to use Neo4j and the Cypher querying language, which can be used to easily interpret the above information. Below we can see clearly that the start node is an Entity named *CARPENTER NELSON & CO., LTD* and the end node is an Address named *EUROFIN SERVICES S.A. P.O.BOX  6003 LAUSANNE 1002, VAUD SWITZERLAND* and the relationship type is *registered address*.\n",
    "\n",
    "<img src=\"ex_query1.png\" height=\"400\" width=\"1000\">"
   ]
  },
  {
   "cell_type": "markdown",
   "metadata": {},
   "source": [
    "For the purposes of our project, we may not even need to use Neo4j to answer our queries. However we have done the above analyis to identify the format of our data, which is crucial because if we do require a certain query, we understand how we can leverage different tools to achieve our goals.\n",
    "\n",
    "## Data Cleaning\n",
    "\n",
    "We see that `Edges` Dataframe and `Entity` Dataframe have mixed datatypes in their columns so we will inspect those more clearly. "
   ]
  },
  {
   "cell_type": "code",
   "execution_count": 8,
   "metadata": {},
   "outputs": [
    {
     "name": "stdout",
     "output_type": "stream",
     "text": [
      "[2500, 2205, 2201, 2099, 2088, 2088, 2020, 2019, 2015, 2015, 2015, 2015, 2015, 2015, 2015, 2015, 2015, 2015, 2015, 2015]\n",
      "[1974, 1973, 1973, 1972, 1968, 1966, 1965, 1959, 1957, 1957, 1194, 214, 213, 213, 206, 203, 202, 201, 201, 201, 200, 200, 200, 200, 200, 200, 200, 200, 199, 199, 96, 95, 82, 15, 14, 12, 12, 12, 12, 12, 12, 12, 12, 11, 9, 9, 6, 6, 4, 3]\n"
     ]
    }
   ],
   "source": [
    "start_dates = df_edges_raw.start_date.unique()[1:]\n",
    "start_dates = sorted(list(map(lambda x: int(x[-4:]), start_dates)), reverse=True)\n",
    "print(start_dates[:20])\n",
    "print(start_dates[-50:])"
   ]
  },
  {
   "cell_type": "markdown",
   "metadata": {},
   "source": [
    "We first see that the start_date and end_date columns in `Edges` have dates that are nonsensical, such as years that are well before/after 2015. Upon consideration of our research questions, we decide to drop the date columns from `Edges` as well as the Note column in `Entity` (For our research question of timeline of leaked papers, we will need to use the `Entity['incorporation_date']` column)."
   ]
  },
  {
   "cell_type": "code",
   "execution_count": 9,
   "metadata": {},
   "outputs": [],
   "source": [
    "edges = df_edges_raw.drop(columns=['start_date', 'end_date'])\n",
    "entity = df_entity_raw.drop(columns=['note'])"
   ]
  },
  {
   "cell_type": "markdown",
   "metadata": {},
   "source": [
    "Furthermore, we see that the `Entity['incorporation_date']` column have acceptable ranges below so we will convert that column from type object to date."
   ]
  },
  {
   "cell_type": "code",
   "execution_count": 10,
   "metadata": {
    "scrolled": false
   },
   "outputs": [
    {
     "name": "stdout",
     "output_type": "stream",
     "text": [
      "['01-APR-1975' '01-APR-1977' '01-APR-1981' ... '31-OCT-2013' '31-OCT-2014'\n",
      " nan]\n"
     ]
    }
   ],
   "source": [
    "print(entity['incorporation_date'].sort_values().unique())\n",
    "entity.incorporation_date = pd.to_datetime(entity.incorporation_date)"
   ]
  },
  {
   "cell_type": "markdown",
   "metadata": {},
   "source": [
    "#### Countries' names formatting"
   ]
  },
  {
   "cell_type": "markdown",
   "metadata": {},
   "source": [
    "Eventually it is important to mention that a number of countries had different spelling in the World Bank data relatively to the names given in the Panama Papers. Hence since the number of these incongruencies was lower than 15, the names were changed manually in the Panama Paper document excel. On top of that certain small countries/islands didn't have data relative to the GDP singularly and they were included by the World Bank in bigger group of countries: for example Jersey and Guernsey are included under the name 'Channel Islands' in the World Bank dataset. Hence the names were changed in the Panama Papers dataset. The new `df_entity_mod_raw` dataframe was not considered in the first analysis because no integration with other databases was performed. "
   ]
  },
  {
   "cell_type": "markdown",
   "metadata": {},
   "source": [
    "# The Panama Papers"
   ]
  },
  {
   "cell_type": "markdown",
   "metadata": {},
   "source": [
    "The Panama Papers are leaked documents that detail financial and attorney–client information for offshore entities. The documents were created by, and taken from, Panamanian law firm and corporate service provider Mossack Fonseca, and were leaked in 2015 by an anonymous source.\n",
    "\n",
    "As shown by the exploratory analysis, the entity document of the Panama Papers is very interesting: it provides a macroscopic view of how many entities per countries are involved in settling companies offshore or funds offshore. The reasons behind making an offshore company are multiple: setting a company offshore is not a crime, but it can be an indication that the business condition in the home country are not always favorable from a privacy point of view, from a bureaucratic point of view and from a tax point of view. Hence it is crucial to understand why entities decide to set their companies offshore and what is the consequence on the home country from a wealth distribution point of view. To carry out this investigation a set of questions which provide a guideline for this analysis are going to be answered\n",
    "\n",
    "**1)** Which are the jurisdictions in which entities found in Panama papers are registered?\n",
    "\n",
    "**2)** What countries have the most entities register in the Panama papers?\n",
    "\n",
    "**3)** What drives entities to go offshore and consequently how does that affect the country? \n",
    "\n",
    "**4)** What are the consequences of offshore companies on income inequality? "
   ]
  },
  {
   "cell_type": "markdown",
   "metadata": {},
   "source": [
    "## 1) Which are the jurisdictions in which entities found in Panama papers are registered?"
   ]
  },
  {
   "cell_type": "markdown",
   "metadata": {},
   "source": [
    "Here the jurisdiction column of the entity file is considered. It represents the county where the offshore entity is register."
   ]
  },
  {
   "cell_type": "code",
   "execution_count": 11,
   "metadata": {},
   "outputs": [
    {
     "data": {
      "text/plain": [
       "array(['Samoa', 'Panama', 'Nevada', 'United Kingdom', 'Singapore',\n",
       "       'Ras Al Khaimah', 'Isle Of Man', 'British Anguilla', 'Seychelles',\n",
       "       'Niue', 'Uruguay', 'British Virgin Islands', 'Hong Kong',\n",
       "       'New Zealand', 'Bahamas', 'Cyprus', 'Malta', 'Belize', 'Jersey',\n",
       "       'Wyoming', 'Costa Rica'], dtype=object)"
      ]
     },
     "execution_count": 11,
     "metadata": {},
     "output_type": "execute_result"
    }
   ],
   "source": [
    "df_entity_raw['jurisdiction_description'].unique()"
   ]
  },
  {
   "cell_type": "markdown",
   "metadata": {},
   "source": [
    "To better represent all the country present on different graph, all the countries appearing less times than a certain number called here threshold are grouped and considered in following steps as `Others`."
   ]
  },
  {
   "cell_type": "code",
   "execution_count": 12,
   "metadata": {
    "scrolled": true
   },
   "outputs": [
    {
     "data": {
      "text/plain": [
       "British Virgin Islands    113648\n",
       "Panama                     48360\n",
       "Bahamas                    15915\n",
       "Seychelles                 15182\n",
       "Niue                        9611\n",
       "Samoa                       5307\n",
       "British Anguilla            3253\n",
       "Nevada                      1260\n",
       "Others                      1098\n",
       "Name: jurisdiction_description, dtype: int64"
      ]
     },
     "execution_count": 12,
     "metadata": {},
     "output_type": "execute_result"
    }
   ],
   "source": [
    "threshold1=1000\n",
    "df_entity_S1=df_entity_raw.copy()\n",
    "vc=df_entity_S1.jurisdiction_description.value_counts()\n",
    "tax_havens_L=list(vc[vc > threshold1].index)\n",
    "tax_havens_S=list(vc[vc <= threshold1].index)\n",
    "df_entity_S1.loc[~df_entity_S1.jurisdiction_description.isin(tax_havens_L), 'jurisdiction_description'] = 'Others'\n",
    "df_entity_S1.jurisdiction_description.value_counts()"
   ]
  },
  {
   "cell_type": "markdown",
   "metadata": {},
   "source": [
    "A simple histogram is plotted. Logarithmic scale on the $y-axis$ is later applied noticed an approximated exponential distribution. It could be an interesting aspect to investigate. "
   ]
  },
  {
   "cell_type": "code",
   "execution_count": 13,
   "metadata": {
    "scrolled": true
   },
   "outputs": [
    {
     "name": "stdout",
     "output_type": "stream",
     "text": [
      "Countries in Others category are:  ['Hong Kong', 'United Kingdom', 'Belize', 'Costa Rica', 'Cyprus', 'Uruguay', 'New Zealand', 'Jersey', 'Wyoming', 'Malta', 'Isle Of Man', 'Ras Al Khaimah', 'Singapore']\n"
     ]
    },
    {
     "data": {
      "image/png": "[encoded data removed]",
      "text/plain": [
       "<Figure size 432x288 with 1 Axes>"
      ]
     },
     "metadata": {},
     "output_type": "display_data"
    }
   ],
   "source": [
    "df_entity_S1.jurisdiction_description.value_counts().plot(kind='bar',title='Jurisdiction description', logy=True)\n",
    "print('Countries in Others category are: ',tax_havens_S)"
   ]
  },
  {
   "cell_type": "markdown",
   "metadata": {},
   "source": [
    "Finally, we output a world map to better visualize all the jurisdictions that have offshore entities registered. First we find the latitude and longitude of all jurisdictions with help of the `Geopy` library."
   ]
  },
  {
   "cell_type": "code",
   "execution_count": 14,
   "metadata": {},
   "outputs": [],
   "source": [
    "jurisdiction_df = pd.DataFrame(df_entity_raw.jurisdiction_description.value_counts())\n",
    "jurisdiction_df.reset_index(inplace=True)\n",
    "jurisdiction_df.columns = [\"Area\", \"Count\"]\n",
    "\n",
    "# getting long, lat for all jurisdictions\n",
    "geolocator = Nominatim(user_agent='ADA_AKBAR')\n",
    "j_lat = []\n",
    "j_long = []\n",
    "\n",
    "for ind, row in jurisdiction_df.iterrows():\n",
    "    if row['Area'] == 'British Anguilla':\n",
    "        location = geolocator.geocode('Anguilla')\n",
    "    else:\n",
    "        location = geolocator.geocode(row['Area'])\n",
    "    j_lat.append(location.latitude)\n",
    "    j_long.append(location.longitude)\n",
    "\n",
    "jurisdiction_df['Latitude'] = j_lat\n",
    "jurisdiction_df['Longitude'] = j_long"
   ]
  },
  {
   "cell_type": "markdown",
   "metadata": {},
   "source": [
    "Next to plot on Bokeh, we use the Mercator Projection, which converts longitude and latitude coordinates onto the Cartesian grid so that Bokeh can successfully represent them in the plot. The equation for the Mercator Projection is:\n",
    "\n",
    "![merc](proj_jekyll/img/merc.png)"
   ]
  },
  {
   "cell_type": "code",
   "execution_count": 15,
   "metadata": {},
   "outputs": [],
   "source": [
    "def merc(lat_lst, lon_lst):\n",
    "    x_lst = []\n",
    "    y_lst = []\n",
    "    for i in range(len(lat_lst)):\n",
    "        lat = lat_lst[i]\n",
    "        lon = lon_lst[i]\n",
    "        r_major = 6378137.000\n",
    "        x = r_major * math.radians(lon)\n",
    "        scale = x/lon\n",
    "        y = 180.0/math.pi * math.log(math.tan(math.pi/4.0 + \n",
    "            lat * (math.pi/180.0)/2.0)) * scale\n",
    "        x_lst.append(x)\n",
    "        y_lst.append(y)\n",
    "    return x_lst, y_lst\n",
    "\n",
    "x_y = merc(jurisdiction_df.Latitude, jurisdiction_df.Longitude)\n",
    "jurisdiction_df['x'] = x_y[0]\n",
    "jurisdiction_df['y'] = x_y[1]"
   ]
  },
  {
   "cell_type": "markdown",
   "metadata": {},
   "source": [
    "Finally we plot the map with hovering capabilities."
   ]
  },
  {
   "cell_type": "code",
   "execution_count": 16,
   "metadata": {},
   "outputs": [
    {
     "data": {
      "text/html": [
       "\n",
       "    <div class=\"bk-root\">\n",
       "        <a href=\"https://bokeh.pydata.org\" target=\"_blank\" class=\"bk-logo bk-logo-small bk-logo-notebook\"></a>\n",
       "        <span id=\"0fcdb2e0-820a-4588-b7b7-e45b93a9fd0b\">Loading BokehJS ...</span>\n",
       "    </div>"
      ]
     },
     "metadata": {},
     "output_type": "display_data"
    },
    {
     "data": {
      "application/javascript": [
       "\n",
       "(function(root) {\n",
       "  function now() {\n",
       "    return new Date();\n",
       "  }\n",
       "\n",
       "  var force = true;\n",
       "\n",
       "  if (typeof (root._bokeh_onload_callbacks) === \"undefined\" || force === true) {\n",
       "    root._bokeh_onload_callbacks = [];\n",
       "    root._bokeh_is_loading = undefined;\n",
       "  }\n",
       "\n",
       "  var JS_MIME_TYPE = 'application/javascript';\n",
       "  var HTML_MIME_TYPE = 'text/html';\n",
       "  var EXEC_MIME_TYPE = 'application/vnd.bokehjs_exec.v0+json';\n",
       "  var CLASS_NAME = 'output_bokeh rendered_html';\n",
       "\n",
       "  /**\n",
       "   * Render data to the DOM node\n",
       "   */\n",
       "  function render(props, node) {\n",
       "    var script = document.createElement(\"script\");\n",
       "    node.appendChild(script);\n",
       "  }\n",
       "\n",
       "  /**\n",
       "   * Handle when an output is cleared or removed\n",
       "   */\n",
       "  function handleClearOutput(event, handle) {\n",
       "    var cell = handle.cell;\n",
       "\n",
       "    var id = cell.output_area._bokeh_element_id;\n",
       "    var server_id = cell.output_area._bokeh_server_id;\n",
       "    // Clean up Bokeh references\n",
       "    if (id !== undefined) {\n",
       "      Bokeh.index[id].model.document.clear();\n",
       "      delete Bokeh.index[id];\n",
       "    }\n",
       "\n",
       "    if (server_id !== undefined) {\n",
       "      // Clean up Bokeh references\n",
       "      var cmd = \"from bokeh.io.state import curstate; print(curstate().uuid_to_server['\" + server_id + \"'].get_sessions()[0].document.roots[0]._id)\";\n",
       "      cell.notebook.kernel.execute(cmd, {\n",
       "        iopub: {\n",
       "          output: function(msg) {\n",
       "            var element_id = msg.content.text.trim();\n",
       "            Bokeh.index[element_id].model.document.clear();\n",
       "            delete Bokeh.index[element_id];\n",
       "          }\n",
       "        }\n",
       "      });\n",
       "      // Destroy server and session\n",
       "      var cmd = \"import bokeh.io.notebook as ion; ion.destroy_server('\" + server_id + \"')\";\n",
       "      cell.notebook.kernel.execute(cmd);\n",
       "    }\n",
       "  }\n",
       "\n",
       "  /**\n",
       "   * Handle when a new output is added\n",
       "   */\n",
       "  function handleAddOutput(event, handle) {\n",
       "    var output_area = handle.output_area;\n",
       "    var output = handle.output;\n",
       "\n",
       "    // limit handleAddOutput to display_data with EXEC_MIME_TYPE content only\n",
       "    if ((output.output_type != \"display_data\") || (!output.data.hasOwnProperty(EXEC_MIME_TYPE))) {\n",
       "      return\n",
       "    }\n",
       "\n",
       "    var toinsert = output_area.element.find(\".\" + CLASS_NAME.split(' ')[0]);\n",
       "\n",
       "    if (output.metadata[EXEC_MIME_TYPE][\"id\"] !== undefined) {\n",
       "      toinsert[toinsert.length - 1].firstChild.textContent = output.data[JS_MIME_TYPE];\n",
       "      // store reference to embed id on output_area\n",
       "      output_area._bokeh_element_id = output.metadata[EXEC_MIME_TYPE][\"id\"];\n",
       "    }\n",
       "    if (output.metadata[EXEC_MIME_TYPE][\"server_id\"] !== undefined) {\n",
       "      var bk_div = document.createElement(\"div\");\n",
       "      bk_div.innerHTML = output.data[HTML_MIME_TYPE];\n",
       "      var script_attrs = bk_div.children[0].attributes;\n",
       "      for (var i = 0; i < script_attrs.length; i++) {\n",
       "        toinsert[toinsert.length - 1].firstChild.setAttribute(script_attrs[i].name, script_attrs[i].value);\n",
       "      }\n",
       "      // store reference to server id on output_area\n",
       "      output_area._bokeh_server_id = output.metadata[EXEC_MIME_TYPE][\"server_id\"];\n",
       "    }\n",
       "  }\n",
       "\n",
       "  function register_renderer(events, OutputArea) {\n",
       "\n",
       "    function append_mime(data, metadata, element) {\n",
       "      // create a DOM node to render to\n",
       "      var toinsert = this.create_output_subarea(\n",
       "        metadata,\n",
       "        CLASS_NAME,\n",
       "        EXEC_MIME_TYPE\n",
       "      );\n",
       "      this.keyboard_manager.register_events(toinsert);\n",
       "      // Render to node\n",
       "      var props = {data: data, metadata: metadata[EXEC_MIME_TYPE]};\n",
       "      render(props, toinsert[toinsert.length - 1]);\n",
       "      element.append(toinsert);\n",
       "      return toinsert\n",
       "    }\n",
       "\n",
       "    /* Handle when an output is cleared or removed */\n",
       "    events.on('clear_output.CodeCell', handleClearOutput);\n",
       "    events.on('delete.Cell', handleClearOutput);\n",
       "\n",
       "    /* Handle when a new output is added */\n",
       "    events.on('output_added.OutputArea', handleAddOutput);\n",
       "\n",
       "    /**\n",
       "     * Register the mime type and append_mime function with output_area\n",
       "     */\n",
       "    OutputArea.prototype.register_mime_type(EXEC_MIME_TYPE, append_mime, {\n",
       "      /* Is output safe? */\n",
       "      safe: true,\n",
       "      /* Index of renderer in `output_area.display_order` */\n",
       "      index: 0\n",
       "    });\n",
       "  }\n",
       "\n",
       "  // register the mime type if in Jupyter Notebook environment and previously unregistered\n",
       "  if (root.Jupyter !== undefined) {\n",
       "    var events = require('base/js/events');\n",
       "    var OutputArea = require('notebook/js/outputarea').OutputArea;\n",
       "\n",
       "    if (OutputArea.prototype.mime_types().indexOf(EXEC_MIME_TYPE) == -1) {\n",
       "      register_renderer(events, OutputArea);\n",
       "    }\n",
       "  }\n",
       "\n",
       "  \n",
       "  if (typeof (root._bokeh_timeout) === \"undefined\" || force === true) {\n",
       "    root._bokeh_timeout = Date.now() + 5000;\n",
       "    root._bokeh_failed_load = false;\n",
       "  }\n",
       "\n",
       "  var NB_LOAD_WARNING = {'data': {'text/html':\n",
       "     \"<div style='background-color: #fdd'>\\n\"+\n",
       "     \"<p>\\n\"+\n",
       "     \"BokehJS does not appear to have successfully loaded. If loading BokehJS from CDN, this \\n\"+\n",
       "     \"may be due to a slow or bad network connection. Possible fixes:\\n\"+\n",
       "     \"</p>\\n\"+\n",
       "     \"<ul>\\n\"+\n",
       "     \"<li>re-rerun `output_notebook()` to attempt to load from CDN again, or</li>\\n\"+\n",
       "     \"<li>use INLINE resources instead, as so:</li>\\n\"+\n",
       "     \"</ul>\\n\"+\n",
       "     \"<code>\\n\"+\n",
       "     \"from bokeh.resources import INLINE\\n\"+\n",
       "     \"output_notebook(resources=INLINE)\\n\"+\n",
       "     \"</code>\\n\"+\n",
       "     \"</div>\"}};\n",
       "\n",
       "  function display_loaded() {\n",
       "    var el = document.getElementById(\"0fcdb2e0-820a-4588-b7b7-e45b93a9fd0b\");\n",
       "    if (el != null) {\n",
       "      el.textContent = \"BokehJS is loading...\";\n",
       "    }\n",
       "    if (root.Bokeh !== undefined) {\n",
       "      if (el != null) {\n",
       "        el.textContent = \"BokehJS \" + root.Bokeh.version + \" successfully loaded.\";\n",
       "      }\n",
       "    } else if (Date.now() < root._bokeh_timeout) {\n",
       "      setTimeout(display_loaded, 100)\n",
       "    }\n",
       "  }\n",
       "\n",
       "\n",
       "  function run_callbacks() {\n",
       "    try {\n",
       "      root._bokeh_onload_callbacks.forEach(function(callback) { callback() });\n",
       "    }\n",
       "    finally {\n",
       "      delete root._bokeh_onload_callbacks\n",
       "    }\n",
       "    console.info(\"Bokeh: all callbacks have finished\");\n",
       "  }\n",
       "\n",
       "  function load_libs(js_urls, callback) {\n",
       "    root._bokeh_onload_callbacks.push(callback);\n",
       "    if (root._bokeh_is_loading > 0) {\n",
       "      console.log(\"Bokeh: BokehJS is being loaded, scheduling callback at\", now());\n",
       "      return null;\n",
       "    }\n",
       "    if (js_urls == null || js_urls.length === 0) {\n",
       "      run_callbacks();\n",
       "      return null;\n",
       "    }\n",
       "    console.log(\"Bokeh: BokehJS not loaded, scheduling load and callback at\", now());\n",
       "    root._bokeh_is_loading = js_urls.length;\n",
       "    for (var i = 0; i < js_urls.length; i++) {\n",
       "      var url = js_urls[i];\n",
       "      var s = document.createElement('script');\n",
       "      s.src = url;\n",
       "      s.async = false;\n",
       "      s.onreadystatechange = s.onload = function() {\n",
       "        root._bokeh_is_loading--;\n",
       "        if (root._bokeh_is_loading === 0) {\n",
       "          console.log(\"Bokeh: all BokehJS libraries loaded\");\n",
       "          run_callbacks()\n",
       "        }\n",
       "      };\n",
       "      s.onerror = function() {\n",
       "        console.warn(\"failed to load library \" + url);\n",
       "      };\n",
       "      console.log(\"Bokeh: injecting script tag for BokehJS library: \", url);\n",
       "      document.getElementsByTagName(\"head\")[0].appendChild(s);\n",
       "    }\n",
       "  };var element = document.getElementById(\"0fcdb2e0-820a-4588-b7b7-e45b93a9fd0b\");\n",
       "  if (element == null) {\n",
       "    console.log(\"Bokeh: ERROR: autoload.js configured with elementid '0fcdb2e0-820a-4588-b7b7-e45b93a9fd0b' but no matching script tag was found. \")\n",
       "    return false;\n",
       "  }\n",
       "\n",
       "  var js_urls = [\"https://cdn.pydata.org/bokeh/release/bokeh-0.12.16.min.js\", \"https://cdn.pydata.org/bokeh/release/bokeh-widgets-0.12.16.min.js\", \"https://cdn.pydata.org/bokeh/release/bokeh-tables-0.12.16.min.js\", \"https://cdn.pydata.org/bokeh/release/bokeh-gl-0.12.16.min.js\"];\n",
       "\n",
       "  var inline_js = [\n",
       "    function(Bokeh) {\n",
       "      Bokeh.set_log_level(\"info\");\n",
       "    },\n",
       "    \n",
       "    function(Bokeh) {\n",
       "      \n",
       "    },\n",
       "    function(Bokeh) {\n",
       "      console.log(\"Bokeh: injecting CSS: https://cdn.pydata.org/bokeh/release/bokeh-0.12.16.min.css\");\n",
       "      Bokeh.embed.inject_css(\"https://cdn.pydata.org/bokeh/release/bokeh-0.12.16.min.css\");\n",
       "      console.log(\"Bokeh: injecting CSS: https://cdn.pydata.org/bokeh/release/bokeh-widgets-0.12.16.min.css\");\n",
       "      Bokeh.embed.inject_css(\"https://cdn.pydata.org/bokeh/release/bokeh-widgets-0.12.16.min.css\");\n",
       "      console.log(\"Bokeh: injecting CSS: https://cdn.pydata.org/bokeh/release/bokeh-tables-0.12.16.min.css\");\n",
       "      Bokeh.embed.inject_css(\"https://cdn.pydata.org/bokeh/release/bokeh-tables-0.12.16.min.css\");\n",
       "    }\n",
       "  ];\n",
       "\n",
       "  function run_inline_js() {\n",
       "    \n",
       "    if ((root.Bokeh !== undefined) || (force === true)) {\n",
       "      for (var i = 0; i < inline_js.length; i++) {\n",
       "        inline_js[i].call(root, root.Bokeh);\n",
       "      }if (force === true) {\n",
       "        display_loaded();\n",
       "      }} else if (Date.now() < root._bokeh_timeout) {\n",
       "      setTimeout(run_inline_js, 100);\n",
       "    } else if (!root._bokeh_failed_load) {\n",
       "      console.log(\"Bokeh: BokehJS failed to load within specified timeout.\");\n",
       "      root._bokeh_failed_load = true;\n",
       "    } else if (force !== true) {\n",
       "      var cell = $(document.getElementById(\"0fcdb2e0-820a-4588-b7b7-e45b93a9fd0b\")).parents('.cell').data().cell;\n",
       "      cell.output_area.append_execute_result(NB_LOAD_WARNING)\n",
       "    }\n",
       "\n",
       "  }\n",
       "\n",
       "  if (root._bokeh_is_loading === 0) {\n",
       "    console.log(\"Bokeh: BokehJS loaded, going straight to plotting\");\n",
       "    run_inline_js();\n",
       "  } else {\n",
       "    load_libs(js_urls, function() {\n",
       "      console.log(\"Bokeh: BokehJS plotting callback run at\", now());\n",
       "      run_inline_js();\n",
       "    });\n",
       "  }\n",
       "}(window));"
      ],
      "application/vnd.bokehjs_load.v0+json": "\n(function(root) {\n  function now() {\n    return new Date();\n  }\n\n  var force = true;\n\n  if (typeof (root._bokeh_onload_callbacks) === \"undefined\" || force === true) {\n    root._bokeh_onload_callbacks = [];\n    root._bokeh_is_loading = undefined;\n  }\n\n  \n\n  \n  if (typeof (root._bokeh_timeout) === \"undefined\" || force === true) {\n    root._bokeh_timeout = Date.now() + 5000;\n    root._bokeh_failed_load = false;\n  }\n\n  var NB_LOAD_WARNING = {'data': {'text/html':\n     \"<div style='background-color: #fdd'>\\n\"+\n     \"<p>\\n\"+\n     \"BokehJS does not appear to have successfully loaded. If loading BokehJS from CDN, this \\n\"+\n     \"may be due to a slow or bad network connection. Possible fixes:\\n\"+\n     \"</p>\\n\"+\n     \"<ul>\\n\"+\n     \"<li>re-rerun `output_notebook()` to attempt to load from CDN again, or</li>\\n\"+\n     \"<li>use INLINE resources instead, as so:</li>\\n\"+\n     \"</ul>\\n\"+\n     \"<code>\\n\"+\n     \"from bokeh.resources import INLINE\\n\"+\n     \"output_notebook(resources=INLINE)\\n\"+\n     \"</code>\\n\"+\n     \"</div>\"}};\n\n  function display_loaded() {\n    var el = document.getElementById(\"0fcdb2e0-820a-4588-b7b7-e45b93a9fd0b\");\n    if (el != null) {\n      el.textContent = \"BokehJS is loading...\";\n    }\n    if (root.Bokeh !== undefined) {\n      if (el != null) {\n        el.textContent = \"BokehJS \" + root.Bokeh.version + \" successfully loaded.\";\n      }\n    } else if (Date.now() < root._bokeh_timeout) {\n      setTimeout(display_loaded, 100)\n    }\n  }\n\n\n  function run_callbacks() {\n    try {\n      root._bokeh_onload_callbacks.forEach(function(callback) { callback() });\n    }\n    finally {\n      delete root._bokeh_onload_callbacks\n    }\n    console.info(\"Bokeh: all callbacks have finished\");\n  }\n\n  function load_libs(js_urls, callback) {\n    root._bokeh_onload_callbacks.push(callback);\n    if (root._bokeh_is_loading > 0) {\n      console.log(\"Bokeh: BokehJS is being loaded, scheduling callback at\", now());\n      return null;\n    }\n    if (js_urls == null || js_urls.length === 0) {\n      run_callbacks();\n      return null;\n    }\n    console.log(\"Bokeh: BokehJS not loaded, scheduling load and callback at\", now());\n    root._bokeh_is_loading = js_urls.length;\n    for (var i = 0; i < js_urls.length; i++) {\n      var url = js_urls[i];\n      var s = document.createElement('script');\n      s.src = url;\n      s.async = false;\n      s.onreadystatechange = s.onload = function() {\n        root._bokeh_is_loading--;\n        if (root._bokeh_is_loading === 0) {\n          console.log(\"Bokeh: all BokehJS libraries loaded\");\n          run_callbacks()\n        }\n      };\n      s.onerror = function() {\n        console.warn(\"failed to load library \" + url);\n      };\n      console.log(\"Bokeh: injecting script tag for BokehJS library: \", url);\n      document.getElementsByTagName(\"head\")[0].appendChild(s);\n    }\n  };var element = document.getElementById(\"0fcdb2e0-820a-4588-b7b7-e45b93a9fd0b\");\n  if (element == null) {\n    console.log(\"Bokeh: ERROR: autoload.js configured with elementid '0fcdb2e0-820a-4588-b7b7-e45b93a9fd0b' but no matching script tag was found. \")\n    return false;\n  }\n\n  var js_urls = [\"https://cdn.pydata.org/bokeh/release/bokeh-0.12.16.min.js\", \"https://cdn.pydata.org/bokeh/release/bokeh-widgets-0.12.16.min.js\", \"https://cdn.pydata.org/bokeh/release/bokeh-tables-0.12.16.min.js\", \"https://cdn.pydata.org/bokeh/release/bokeh-gl-0.12.16.min.js\"];\n\n  var inline_js = [\n    function(Bokeh) {\n      Bokeh.set_log_level(\"info\");\n    },\n    \n    function(Bokeh) {\n      \n    },\n    function(Bokeh) {\n      console.log(\"Bokeh: injecting CSS: https://cdn.pydata.org/bokeh/release/bokeh-0.12.16.min.css\");\n      Bokeh.embed.inject_css(\"https://cdn.pydata.org/bokeh/release/bokeh-0.12.16.min.css\");\n      console.log(\"Bokeh: injecting CSS: https://cdn.pydata.org/bokeh/release/bokeh-widgets-0.12.16.min.css\");\n      Bokeh.embed.inject_css(\"https://cdn.pydata.org/bokeh/release/bokeh-widgets-0.12.16.min.css\");\n      console.log(\"Bokeh: injecting CSS: https://cdn.pydata.org/bokeh/release/bokeh-tables-0.12.16.min.css\");\n      Bokeh.embed.inject_css(\"https://cdn.pydata.org/bokeh/release/bokeh-tables-0.12.16.min.css\");\n    }\n  ];\n\n  function run_inline_js() {\n    \n    if ((root.Bokeh !== undefined) || (force === true)) {\n      for (var i = 0; i < inline_js.length; i++) {\n        inline_js[i].call(root, root.Bokeh);\n      }if (force === true) {\n        display_loaded();\n      }} else if (Date.now() < root._bokeh_timeout) {\n      setTimeout(run_inline_js, 100);\n    } else if (!root._bokeh_failed_load) {\n      console.log(\"Bokeh: BokehJS failed to load within specified timeout.\");\n      root._bokeh_failed_load = true;\n    } else if (force !== true) {\n      var cell = $(document.getElementById(\"0fcdb2e0-820a-4588-b7b7-e45b93a9fd0b\")).parents('.cell').data().cell;\n      cell.output_area.append_execute_result(NB_LOAD_WARNING)\n    }\n\n  }\n\n  if (root._bokeh_is_loading === 0) {\n    console.log(\"Bokeh: BokehJS loaded, going straight to plotting\");\n    run_inline_js();\n  } else {\n    load_libs(js_urls, function() {\n      console.log(\"Bokeh: BokehJS plotting callback run at\", now());\n      run_inline_js();\n    });\n  }\n}(window));"
     },
     "metadata": {},
     "output_type": "display_data"
    },
    {
     "data": {
      "text/html": [
       "\n",
       "<div class=\"bk-root\">\n",
       "    <div class=\"bk-plotdiv\" id=\"c3ecd017-cbde-4e0b-b471-a9ce25c5a516\"></div>\n",
       "</div>"
      ]
     },
     "metadata": {},
     "output_type": "display_data"
    },
    {
     "data": {
      "application/javascript": [
       "(function(root) {\n",
       "  function embed_document(root) {\n",
       "    \n",
       "  var docs_json = {\"ef45f940-324d-455f-8452-12ee4dcf4712\":{\"roots\":{\"references\":[{\"attributes\":{\"plot\":{\"id\":\"93435f79-c793-4411-8a97-304eca1c9065\",\"subtype\":\"Figure\",\"type\":\"Plot\"},\"ticker\":{\"id\":\"86a9c4d4-94f0-468f-b46f-b5e6af857954\",\"type\":\"MercatorTicker\"}},\"id\":\"1d23b98c-09ff-4c41-924c-06476d497abb\",\"type\":\"Grid\"},{\"attributes\":{\"formatter\":{\"id\":\"807bca1b-76b4-48c6-90f4-f134d2363b05\",\"type\":\"MercatorTickFormatter\"},\"plot\":{\"id\":\"93435f79-c793-4411-8a97-304eca1c9065\",\"subtype\":\"Figure\",\"type\":\"Plot\"},\"ticker\":{\"id\":\"86a9c4d4-94f0-468f-b46f-b5e6af857954\",\"type\":\"MercatorTicker\"}},\"id\":\"0f179704-de21-43f4-bdc4-02a66eda4562\",\"type\":\"MercatorAxis\"},{\"attributes\":{\"dimension\":\"lon\"},\"id\":\"86a9c4d4-94f0-468f-b46f-b5e6af857954\",\"type\":\"MercatorTicker\"},{\"attributes\":{\"dimension\":\"lon\"},\"id\":\"807bca1b-76b4-48c6-90f4-f134d2363b05\",\"type\":\"MercatorTickFormatter\"},{\"attributes\":{\"dimension\":1,\"plot\":{\"id\":\"93435f79-c793-4411-8a97-304eca1c9065\",\"subtype\":\"Figure\",\"type\":\"Plot\"},\"ticker\":{\"id\":\"a78d8c4f-f9fa-4598-97c8-c172370d1453\",\"type\":\"MercatorTicker\"}},\"id\":\"1d4f35b9-ac9b-4708-abf6-b81bf8f01eff\",\"type\":\"Grid\"},{\"attributes\":{\"formatter\":{\"id\":\"9008d8e1-ba46-4be8-bdbc-2850731a71cd\",\"type\":\"MercatorTickFormatter\"},\"plot\":{\"id\":\"93435f79-c793-4411-8a97-304eca1c9065\",\"subtype\":\"Figure\",\"type\":\"Plot\"},\"ticker\":{\"id\":\"a78d8c4f-f9fa-4598-97c8-c172370d1453\",\"type\":\"MercatorTicker\"}},\"id\":\"14b88769-3f39-4c4c-945a-8a8d206267c8\",\"type\":\"MercatorAxis\"},{\"attributes\":{\"dimension\":\"lat\"},\"id\":\"a78d8c4f-f9fa-4598-97c8-c172370d1453\",\"type\":\"MercatorTicker\"},{\"attributes\":{\"dimension\":\"lat\"},\"id\":\"9008d8e1-ba46-4be8-bdbc-2850731a71cd\",\"type\":\"MercatorTickFormatter\"},{\"attributes\":{\"tile_source\":{\"id\":\"6fa81db5-3227-4208-a974-d031f7525f86\",\"type\":\"WMTSTileSource\"}},\"id\":\"214fa74a-fdeb-4cb8-9f72-f3970433cdf9\",\"type\":\"TileRenderer\"},{\"attributes\":{\"editor\":{\"id\":\"02952888-f9f7-478c-ac12-5996843ab137\",\"type\":\"StringEditor\"},\"field\":\"count\",\"formatter\":{\"id\":\"f8f5c72d-7eb9-40a8-a3fc-7a5aa1cd723d\",\"type\":\"StringFormatter\"},\"title\":\"Count\"},\"id\":\"03526b54-255b-494a-8491-d6da73981ae4\",\"type\":\"TableColumn\"},{\"attributes\":{\"source\":{\"id\":\"3b23f308-ad76-4ff3-8ce1-e63a2a842dd8\",\"type\":\"ColumnDataSource\"}},\"id\":\"a5d4e404-7702-41e3-960a-bff4ba365c2a\",\"type\":\"CDSView\"},{\"attributes\":{\"fill_alpha\":{\"value\":0.1},\"fill_color\":{\"value\":\"#1f77b4\"},\"line_alpha\":{\"value\":0.1},\"line_color\":{\"value\":\"#1f77b4\"},\"size\":{\"units\":\"screen\",\"value\":10},\"x\":{\"field\":\"x\"},\"y\":{\"field\":\"y\"}},\"id\":\"63a17d75-9c87-4bf3-a772-dfefdd902031\",\"type\":\"Circle\"},{\"attributes\":{},\"id\":\"f1730cb9-1153-496f-9664-346b8e2c60e3\",\"type\":\"PanTool\"},{\"attributes\":{},\"id\":\"8747bb78-e426-4825-964a-88783008982c\",\"type\":\"WheelZoomTool\"},{\"attributes\":{},\"id\":\"79849122-f7d5-42e0-acdf-01a5e268b1b0\",\"type\":\"SaveTool\"},{\"attributes\":{\"attribution\":\"&copy; <a href=\\\"https://www.openstreetmap.org/copyright\\\">OpenStreetMap</a> contributors,&copy; <a href=\\\"https://cartodb.com/attributions\\\">CartoDB</a>\",\"url\":\"https://tiles.basemaps.cartocdn.com/light_all/{z}/{x}/{y}.png\"},\"id\":\"6fa81db5-3227-4208-a974-d031f7525f86\",\"type\":\"WMTSTileSource\"},{\"attributes\":{\"data_source\":{\"id\":\"3b23f308-ad76-4ff3-8ce1-e63a2a842dd8\",\"type\":\"ColumnDataSource\"},\"glyph\":{\"id\":\"4c267201-2230-49d7-a70f-f347d25e6fd5\",\"type\":\"Circle\"},\"hover_glyph\":null,\"muted_glyph\":null,\"nonselection_glyph\":{\"id\":\"63a17d75-9c87-4bf3-a772-dfefdd902031\",\"type\":\"Circle\"},\"selection_glyph\":null,\"view\":{\"id\":\"a5d4e404-7702-41e3-960a-bff4ba365c2a\",\"type\":\"CDSView\"}},\"id\":\"ff1a1bf2-386b-49df-842e-9f17897ed9c9\",\"type\":\"GlyphRenderer\"},{\"attributes\":{\"fill_alpha\":{\"value\":0.05},\"fill_color\":{\"value\":\"#FF0000\"},\"line_color\":{\"value\":\"#FF0000\"},\"size\":{\"units\":\"screen\",\"value\":10},\"x\":{\"field\":\"x\"},\"y\":{\"field\":\"y\"}},\"id\":\"4c267201-2230-49d7-a70f-f347d25e6fd5\",\"type\":\"Circle\"},{\"attributes\":{\"editor\":{\"id\":\"cd8c2f70-df0a-4427-89c5-06fab505a271\",\"type\":\"StringEditor\"},\"field\":\"area\",\"formatter\":{\"id\":\"b5e6e11c-0ea2-4b5d-9a2c-064e75393dbb\",\"type\":\"StringFormatter\"},\"title\":\"Area\"},\"id\":\"12e87e25-0acf-4ba9-9a4a-865ea999ef7e\",\"type\":\"TableColumn\"},{\"attributes\":{\"columns\":[{\"id\":\"12e87e25-0acf-4ba9-9a4a-865ea999ef7e\",\"type\":\"TableColumn\"},{\"id\":\"03526b54-255b-494a-8491-d6da73981ae4\",\"type\":\"TableColumn\"}],\"height\":350,\"source\":{\"id\":\"3b23f308-ad76-4ff3-8ce1-e63a2a842dd8\",\"type\":\"ColumnDataSource\"},\"view\":{\"id\":\"a43dd017-26e6-4ec0-9dd0-a5f5cae66e20\",\"type\":\"CDSView\"},\"width\":200},\"id\":\"84f070d0-c53d-4c2c-811a-60ddc1dc0988\",\"type\":\"DataTable\"},{\"attributes\":{\"source\":{\"id\":\"3b23f308-ad76-4ff3-8ce1-e63a2a842dd8\",\"type\":\"ColumnDataSource\"}},\"id\":\"a43dd017-26e6-4ec0-9dd0-a5f5cae66e20\",\"type\":\"CDSView\"},{\"attributes\":{},\"id\":\"921eb208-df04-41d3-9170-649ebc0d9008\",\"type\":\"Selection\"},{\"attributes\":{},\"id\":\"8dd0b1b6-1acd-4604-8c27-e770b5486249\",\"type\":\"UnionRenderers\"},{\"attributes\":{},\"id\":\"b5e6e11c-0ea2-4b5d-9a2c-064e75393dbb\",\"type\":\"StringFormatter\"},{\"attributes\":{\"callback\":null,\"end\":10000,\"start\":-100},\"id\":\"ba131e97-4743-42e2-beae-5972480b1727\",\"type\":\"Range1d\"},{\"attributes\":{},\"id\":\"cd8c2f70-df0a-4427-89c5-06fab505a271\",\"type\":\"StringEditor\"},{\"attributes\":{},\"id\":\"02952888-f9f7-478c-ac12-5996843ab137\",\"type\":\"StringEditor\"},{\"attributes\":{\"children\":[{\"id\":\"84f070d0-c53d-4c2c-811a-60ddc1dc0988\",\"type\":\"DataTable\"}],\"height\":350,\"width\":200},\"id\":\"24ea00a3-9990-4da6-8e25-5ef64a14f071\",\"type\":\"WidgetBox\"},{\"attributes\":{\"callback\":null,\"data\":{\"area\":[\"British Virgin Islands\",\"Panama\",\"Bahamas\",\"Seychelles\",\"Niue\",\"Samoa\",\"British Anguilla\",\"Nevada\",\"Hong Kong\",\"United Kingdom\",\"Belize\",\"Costa Rica\",\"Cyprus\",\"Uruguay\",\"New Zealand\",\"Jersey\",\"Wyoming\",\"Malta\",\"Isle Of Man\",\"Ras Al Khaimah\",\"Singapore\"],\"count\":[113648,48360,15915,15182,9611,5307,3253,1260,452,148,130,78,76,52,47,39,37,28,8,2,1],\"x\":[-7187472.52121889,-9051012.04859185,-8682926.371051485,6173112.667714758,-18908877.99671455,-19160316.41036838,-7021479.486661815,-13008096.908262393,12708546.221819662,-364746.6939418176,-9880728.32212776,-9359064.872463409,3689698.8268976193,-6236134.850461531,19239838.256721042,-236620.70513764827,-11974474.519314528,1608309.6163905105,-502562.83350708074,6223628.008792438,11560755.754232766],\"y\":[2084707.601405808,928281.1129455589,2847968.6954087955,-519042.2128561343,-2161252.339791614,-1547772.4037354763,2060443.593098529,4795839.031857152,2545095.077194767,7304312.167817082,1900577.3768912472,1149825.8292469077,4161476.289401565,-3878797.5699098497,-5086386.000692607,6310962.4537718855,5337887.511019714,4285303.614438497,7214944.260192893,2966622.529122114,143667.20055241938]},\"selected\":{\"id\":\"921eb208-df04-41d3-9170-649ebc0d9008\",\"type\":\"Selection\"},\"selection_policy\":{\"id\":\"8dd0b1b6-1acd-4604-8c27-e770b5486249\",\"type\":\"UnionRenderers\"}},\"id\":\"3b23f308-ad76-4ff3-8ce1-e63a2a842dd8\",\"type\":\"ColumnDataSource\"},{\"attributes\":{},\"id\":\"f8f5c72d-7eb9-40a8-a3fc-7a5aa1cd723d\",\"type\":\"StringFormatter\"},{\"attributes\":{\"callback\":null,\"renderers\":\"auto\",\"tooltips\":[[\"Area\",\"@area\"],[\"Count\",\"@count\"]]},\"id\":\"e930d936-4146-44d3-9f76-19e25e2b265a\",\"type\":\"HoverTool\"},{\"attributes\":{\"toolbar\":{\"id\":\"3889929d-b9af-408d-85d8-f1a0f93d9c74\",\"type\":\"ProxyToolbar\"},\"toolbar_location\":\"above\"},\"id\":\"e4d64ae0-af4e-40f0-916a-55f83ad3b608\",\"type\":\"ToolbarBox\"},{\"attributes\":{\"children\":[{\"id\":\"9fbf8874-5b68-4bfa-8895-c20525dd352f\",\"type\":\"Row\"}]},\"id\":\"ef5bcf3a-bb1d-4da5-a23c-12c1f4f5edd8\",\"type\":\"Column\"},{\"attributes\":{\"tools\":[{\"id\":\"e930d936-4146-44d3-9f76-19e25e2b265a\",\"type\":\"HoverTool\"},{\"id\":\"f1730cb9-1153-496f-9664-346b8e2c60e3\",\"type\":\"PanTool\"},{\"id\":\"8747bb78-e426-4825-964a-88783008982c\",\"type\":\"WheelZoomTool\"},{\"id\":\"79849122-f7d5-42e0-acdf-01a5e268b1b0\",\"type\":\"SaveTool\"}]},\"id\":\"3889929d-b9af-408d-85d8-f1a0f93d9c74\",\"type\":\"ProxyToolbar\"},{\"attributes\":{\"below\":[{\"id\":\"0f179704-de21-43f4-bdc4-02a66eda4562\",\"type\":\"MercatorAxis\"}],\"left\":[{\"id\":\"14b88769-3f39-4c4c-945a-8a8d206267c8\",\"type\":\"MercatorAxis\"}],\"plot_height\":400,\"renderers\":[{\"id\":\"0f179704-de21-43f4-bdc4-02a66eda4562\",\"type\":\"MercatorAxis\"},{\"id\":\"1d23b98c-09ff-4c41-924c-06476d497abb\",\"type\":\"Grid\"},{\"id\":\"14b88769-3f39-4c4c-945a-8a8d206267c8\",\"type\":\"MercatorAxis\"},{\"id\":\"1d4f35b9-ac9b-4708-abf6-b81bf8f01eff\",\"type\":\"Grid\"},{\"id\":\"214fa74a-fdeb-4cb8-9f72-f3970433cdf9\",\"type\":\"TileRenderer\"},{\"id\":\"ff1a1bf2-386b-49df-842e-9f17897ed9c9\",\"type\":\"GlyphRenderer\"}],\"title\":{\"id\":\"a140cb4f-7197-4f2c-9d5b-d3563f4f90ef\",\"type\":\"Title\"},\"toolbar\":{\"id\":\"392ad712-8a37-4a98-8920-014342c46863\",\"type\":\"Toolbar\"},\"toolbar_location\":null,\"x_range\":{\"id\":\"843bbc2f-92da-4594-915b-931d1869ca4a\",\"type\":\"Range1d\"},\"x_scale\":{\"id\":\"dd788853-790f-4543-8663-16923ca7733e\",\"type\":\"LinearScale\"},\"y_range\":{\"id\":\"ba131e97-4743-42e2-beae-5972480b1727\",\"type\":\"Range1d\"},\"y_scale\":{\"id\":\"0e681241-3410-40cd-b342-dec2857f2bd4\",\"type\":\"LinearScale\"}},\"id\":\"93435f79-c793-4411-8a97-304eca1c9065\",\"subtype\":\"Figure\",\"type\":\"Plot\"},{\"attributes\":{\"plot\":null,\"text\":\"Top jurisdictions by count\"},\"id\":\"a140cb4f-7197-4f2c-9d5b-d3563f4f90ef\",\"type\":\"Title\"},{\"attributes\":{\"children\":[{\"id\":\"e4d64ae0-af4e-40f0-916a-55f83ad3b608\",\"type\":\"ToolbarBox\"},{\"id\":\"ef5bcf3a-bb1d-4da5-a23c-12c1f4f5edd8\",\"type\":\"Column\"}]},\"id\":\"27a5255a-fbb6-4dbf-9fb2-bc5630dd7e81\",\"type\":\"Column\"},{\"attributes\":{\"callback\":null,\"end\":10000000,\"start\":-20000000},\"id\":\"843bbc2f-92da-4594-915b-931d1869ca4a\",\"type\":\"Range1d\"},{\"attributes\":{},\"id\":\"dd788853-790f-4543-8663-16923ca7733e\",\"type\":\"LinearScale\"},{\"attributes\":{\"children\":[{\"id\":\"93435f79-c793-4411-8a97-304eca1c9065\",\"subtype\":\"Figure\",\"type\":\"Plot\"},{\"id\":\"24ea00a3-9990-4da6-8e25-5ef64a14f071\",\"type\":\"WidgetBox\"}]},\"id\":\"9fbf8874-5b68-4bfa-8895-c20525dd352f\",\"type\":\"Row\"},{\"attributes\":{\"active_drag\":\"auto\",\"active_inspect\":\"auto\",\"active_scroll\":\"auto\",\"active_tap\":\"auto\",\"tools\":[{\"id\":\"e930d936-4146-44d3-9f76-19e25e2b265a\",\"type\":\"HoverTool\"},{\"id\":\"f1730cb9-1153-496f-9664-346b8e2c60e3\",\"type\":\"PanTool\"},{\"id\":\"8747bb78-e426-4825-964a-88783008982c\",\"type\":\"WheelZoomTool\"},{\"id\":\"79849122-f7d5-42e0-acdf-01a5e268b1b0\",\"type\":\"SaveTool\"}]},\"id\":\"392ad712-8a37-4a98-8920-014342c46863\",\"type\":\"Toolbar\"},{\"attributes\":{},\"id\":\"0e681241-3410-40cd-b342-dec2857f2bd4\",\"type\":\"LinearScale\"}],\"root_ids\":[\"27a5255a-fbb6-4dbf-9fb2-bc5630dd7e81\"]},\"title\":\"Bokeh Application\",\"version\":\"0.12.16\"}};\n",
       "  var render_items = [{\"docid\":\"ef45f940-324d-455f-8452-12ee4dcf4712\",\"elementid\":\"c3ecd017-cbde-4e0b-b471-a9ce25c5a516\",\"modelid\":\"27a5255a-fbb6-4dbf-9fb2-bc5630dd7e81\"}];\n",
       "  root.Bokeh.embed.embed_items_notebook(docs_json, render_items);\n",
       "\n",
       "  }\n",
       "  if (root.Bokeh !== undefined) {\n",
       "    embed_document(root);\n",
       "  } else {\n",
       "    var attempts = 0;\n",
       "    var timer = setInterval(function(root) {\n",
       "      if (root.Bokeh !== undefined) {\n",
       "        embed_document(root);\n",
       "        clearInterval(timer);\n",
       "      }\n",
       "      attempts++;\n",
       "      if (attempts > 100) {\n",
       "        console.log(\"Bokeh: ERROR: Unable to run BokehJS code because BokehJS library is missing\")\n",
       "        clearInterval(timer);\n",
       "      }\n",
       "    }, 10, root)\n",
       "  }\n",
       "})(window);"
      ],
      "application/vnd.bokehjs_exec.v0+json": ""
     },
     "metadata": {
      "application/vnd.bokehjs_exec.v0+json": {
       "id": "27a5255a-fbb6-4dbf-9fb2-bc5630dd7e81"
      }
     },
     "output_type": "display_data"
    }
   ],
   "source": [
    "from bokeh.plotting import figure, show, output_file, output_notebook\n",
    "from bokeh.tile_providers import CARTODBPOSITRON\n",
    "from bokeh.models import ColumnDataSource, HoverTool\n",
    "from bokeh.layouts import gridplot, widgetbox\n",
    "from bokeh.models.widgets import DataTable, TableColumn\n",
    "\n",
    "def plot_map(df, title):\n",
    "    source = ColumnDataSource(data=dict(\n",
    "                            x=list(df['x']), \n",
    "                            y=list(df['y']),\n",
    "                            count=list(df['Count']),\n",
    "                            area=list(df['Area'])))\n",
    "\n",
    "    hover = HoverTool(tooltips=[\n",
    "        (\"Area\", \"@area\"),\n",
    "        (\"Count\",\"@count\")])\n",
    "\n",
    "    p = figure(\n",
    "        title = title,\n",
    "        width = 600, \n",
    "        height= 400, \n",
    "        x_range=(-20000000, 10000000), y_range=(-100, 10000),\n",
    "        x_axis_type=\"mercator\", y_axis_type=\"mercator\",\n",
    "        tools=['pan', hover, 'wheel_zoom','save'])\n",
    "\n",
    "    p.add_tile(CARTODBPOSITRON)\n",
    "\n",
    "    p.circle(x = 'x',\n",
    "             y = 'y', \n",
    "             size = 10,\n",
    "             source=source, \n",
    "             line_color=\"#FF0000\", \n",
    "             fill_color=\"#FF0000\",\n",
    "             fill_alpha=0.05)\n",
    "    \n",
    "    columns = [\n",
    "        TableColumn(field=\"area\", title=\"Area\"),\n",
    "        TableColumn(field=\"count\", title=\"Count\")\n",
    "    ]\n",
    "    \n",
    "    data_table = DataTable(source=source, columns=columns, height=350, width=200)\n",
    "    grid = gridplot([p, data_table], ncols=2)\n",
    "    \n",
    "    output_notebook()\n",
    "    show(grid)\n",
    "\n",
    "output_file(\"proj_jekyll/assets/jurisdictions_map.html\", title=\"jurisdictions\")\n",
    "plot_map(jurisdiction_df, \"Top jurisdictions by count\")"
   ]
  },
  {
   "cell_type": "markdown",
   "metadata": {},
   "source": [
    "## 2) What countries have the most entities register in the Panama papers?"
   ]
  },
  {
   "cell_type": "markdown",
   "metadata": {},
   "source": [
    "The same procedure is applied to the `country` column representing the country of origin of the offshore company. As more country are included a bigger threshold needs to be chosen in order to make the plots still readable. Same as before, the count of companies for country will be represent on an interactive map."
   ]
  },
  {
   "cell_type": "code",
   "execution_count": 17,
   "metadata": {
    "scrolled": true
   },
   "outputs": [
    {
     "data": {
      "text/plain": [
       "array(['Hong Kong', 'Taiwan', 'China', 'Switzerland', 'Singapore',\n",
       "       'Brazil', 'Panama', 'Samoa', 'Liechtenstein', 'Spain', 'Thailand',\n",
       "       'Colombia', 'Jersey', 'Andorra', 'Seychelles', 'Ireland',\n",
       "       'Belgium', 'Israel', 'Gibraltar', 'Guernsey',\n",
       "       'United Arab Emirates', 'Cyprus', 'Venezuela', 'Isle of Man',\n",
       "       'Lebanon', 'Denmark', 'Uruguay', 'Jordan', 'Bahamas',\n",
       "       'United Kingdom', nan, 'Belize', 'Luxembourg', 'Ecuador',\n",
       "       'Guatemala', 'Germany', 'Mauritius', 'Turkey', 'United States',\n",
       "       'Monaco', 'Estonia', 'Niue', 'Czech Republic', 'Netherlands',\n",
       "       'Hungary', 'Costa Rica', 'Portugal', 'Cayman Islands',\n",
       "       'South Africa', 'Malta', 'New Zealand', \"Côte d'Ivoire\",\n",
       "       'Dominican Republic', 'France', 'Italy', 'Canada', 'Russia',\n",
       "       'Greece', 'Saudi Arabia', 'Qatar', 'Mexico', 'Peru', 'Bermuda',\n",
       "       'El Salvador', 'Australia', 'Saint Kitts and Nevis', 'Argentina',\n",
       "       'Japan', 'Austria', 'American Samoa', 'Paraguay', 'Chile', 'Egypt',\n",
       "       'Sweden', 'British Virgin Islands', 'Poland', 'Slovenia',\n",
       "       'Philippines', 'Saint Lucia', 'Indonesia', 'Honduras',\n",
       "       'South Korea', 'Saint Vincent and the Grenadines', 'Kuwait',\n",
       "       'Haiti', 'Zimbabwe', 'Sudan', 'Nicaragua',\n",
       "       'Turks and Caicos Islands', 'Latvia', 'Nigeria', 'Ukraine',\n",
       "       'Anguilla', 'Kenya', 'Romania', 'Norway', 'Bolivia', 'Lithuania',\n",
       "       'Viet Nam', 'Aruba', 'Bulgaria', 'Malaysia', 'Finland', 'Iran',\n",
       "       'Lesotho', 'Mozambique', 'Macao', 'Ghana', 'Georgia', 'Yemen',\n",
       "       'Antigua and Barbuda', 'Curaçao', 'India', 'Macedonia', 'Morocco',\n",
       "       'Senegal', 'Dominica', 'Namibia', 'Botswana', 'Cuba', 'Liberia',\n",
       "       'Cook Islands', 'Syria', 'Sint Maarten (Dutch part)', 'Belarus',\n",
       "       'Djibouti', 'Barbados', 'Tunisia', 'Bahrain', 'Croatia', 'Nauru',\n",
       "       'Azerbaijan', 'Pakistan', 'Libya', 'Uganda', 'Uzbekistan',\n",
       "       'Trinidad and Tobago', 'Iceland', 'Sri Lanka',\n",
       "       'U.S. Virgin Islands', 'Tanzania', 'Puerto Rico', 'Malawi', 'Chad',\n",
       "       'Guam', 'Oman', 'Jamaica', 'Mali', 'Montenegro', 'Kazakhstan',\n",
       "       'Vanuatu', 'Moldova', 'Angola', 'Bangladesh',\n",
       "       'Central African Republic', 'Brunei', 'Albania', 'Cameroon',\n",
       "       'Zambia', 'Slovakia'], dtype=object)"
      ]
     },
     "execution_count": 17,
     "metadata": {},
     "output_type": "execute_result"
    }
   ],
   "source": [
    "df_entity_raw['countries'].unique()"
   ]
  },
  {
   "cell_type": "code",
   "execution_count": 18,
   "metadata": {
    "scrolled": false
   },
   "outputs": [
    {
     "data": {
      "text/plain": [
       "Switzerland             37911\n",
       "Hong Kong               37911\n",
       "Others                  36495\n",
       "Panama                  15811\n",
       "Jersey                  14331\n",
       "Luxembourg              10840\n",
       "United Kingdom           9619\n",
       "Guernsey                 7327\n",
       "United Arab Emirates     7269\n",
       "Bahamas                  4984\n",
       "Uruguay                  4906\n",
       "Isle of Man              4892\n",
       "Russia                   4197\n",
       "Singapore                4081\n",
       "Cyprus                   3613\n",
       "China                    3213\n",
       "Monaco                   3168\n",
       "United States            3066\n",
       "Name: countries, dtype: int64"
      ]
     },
     "execution_count": 18,
     "metadata": {},
     "output_type": "execute_result"
    }
   ],
   "source": [
    "threshold2=3000\n",
    "vc=df_entity_S1.countries.value_counts()\n",
    "tax_evasions_L=list(vc[vc > threshold2].index)\n",
    "tax_evasions_S=list(vc[vc <= threshold2].index)\n",
    "df_entity_S1.loc[~df_entity_S1.countries.isin(tax_evasions_L), 'countries'] = 'Others'\n",
    "df_entity_S1.countries.value_counts()"
   ]
  },
  {
   "cell_type": "code",
   "execution_count": 19,
   "metadata": {},
   "outputs": [
    {
     "data": {
      "text/plain": [
       "<matplotlib.axes._subplots.AxesSubplot at 0x2240445b198>"
      ]
     },
     "execution_count": 19,
     "metadata": {},
     "output_type": "execute_result"
    },
    {
     "data": {
      "image/png": "[encoded data removed]",
      "text/plain": [
       "<Figure size 720x504 with 1 Axes>"
      ]
     },
     "metadata": {},
     "output_type": "display_data"
    }
   ],
   "source": [
    "df_entity_S1.countries.value_counts().plot(kind='bar',title='Countries', figsize=(10, 7), logy=True)"
   ]
  },
  {
   "cell_type": "markdown",
   "metadata": {},
   "source": [
    "The value of the `Others` column is very high indicating a quite heavy tail distribution. As before, plotting the bar chart with a logarithm $y-axis$, seems that the distribution has a exponential behaviour at least his first part. "
   ]
  },
  {
   "cell_type": "markdown",
   "metadata": {},
   "source": [
    "Lastly a world map is plotted again following the same Mercator Projection techinque used above."
   ]
  },
  {
   "cell_type": "code",
   "execution_count": 20,
   "metadata": {},
   "outputs": [
    {
     "data": {
      "text/html": [
       "\n",
       "    <div class=\"bk-root\">\n",
       "        <a href=\"https://bokeh.pydata.org\" target=\"_blank\" class=\"bk-logo bk-logo-small bk-logo-notebook\"></a>\n",
       "        <span id=\"129439f3-a735-4130-b49c-1742110972fd\">Loading BokehJS ...</span>\n",
       "    </div>"
      ]
     },
     "metadata": {},
     "output_type": "display_data"
    },
    {
     "data": {
      "application/javascript": [
       "\n",
       "(function(root) {\n",
       "  function now() {\n",
       "    return new Date();\n",
       "  }\n",
       "\n",
       "  var force = true;\n",
       "\n",
       "  if (typeof (root._bokeh_onload_callbacks) === \"undefined\" || force === true) {\n",
       "    root._bokeh_onload_callbacks = [];\n",
       "    root._bokeh_is_loading = undefined;\n",
       "  }\n",
       "\n",
       "  var JS_MIME_TYPE = 'application/javascript';\n",
       "  var HTML_MIME_TYPE = 'text/html';\n",
       "  var EXEC_MIME_TYPE = 'application/vnd.bokehjs_exec.v0+json';\n",
       "  var CLASS_NAME = 'output_bokeh rendered_html';\n",
       "\n",
       "  /**\n",
       "   * Render data to the DOM node\n",
       "   */\n",
       "  function render(props, node) {\n",
       "    var script = document.createElement(\"script\");\n",
       "    node.appendChild(script);\n",
       "  }\n",
       "\n",
       "  /**\n",
       "   * Handle when an output is cleared or removed\n",
       "   */\n",
       "  function handleClearOutput(event, handle) {\n",
       "    var cell = handle.cell;\n",
       "\n",
       "    var id = cell.output_area._bokeh_element_id;\n",
       "    var server_id = cell.output_area._bokeh_server_id;\n",
       "    // Clean up Bokeh references\n",
       "    if (id !== undefined) {\n",
       "      Bokeh.index[id].model.document.clear();\n",
       "      delete Bokeh.index[id];\n",
       "    }\n",
       "\n",
       "    if (server_id !== undefined) {\n",
       "      // Clean up Bokeh references\n",
       "      var cmd = \"from bokeh.io.state import curstate; print(curstate().uuid_to_server['\" + server_id + \"'].get_sessions()[0].document.roots[0]._id)\";\n",
       "      cell.notebook.kernel.execute(cmd, {\n",
       "        iopub: {\n",
       "          output: function(msg) {\n",
       "            var element_id = msg.content.text.trim();\n",
       "            Bokeh.index[element_id].model.document.clear();\n",
       "            delete Bokeh.index[element_id];\n",
       "          }\n",
       "        }\n",
       "      });\n",
       "      // Destroy server and session\n",
       "      var cmd = \"import bokeh.io.notebook as ion; ion.destroy_server('\" + server_id + \"')\";\n",
       "      cell.notebook.kernel.execute(cmd);\n",
       "    }\n",
       "  }\n",
       "\n",
       "  /**\n",
       "   * Handle when a new output is added\n",
       "   */\n",
       "  function handleAddOutput(event, handle) {\n",
       "    var output_area = handle.output_area;\n",
       "    var output = handle.output;\n",
       "\n",
       "    // limit handleAddOutput to display_data with EXEC_MIME_TYPE content only\n",
       "    if ((output.output_type != \"display_data\") || (!output.data.hasOwnProperty(EXEC_MIME_TYPE))) {\n",
       "      return\n",
       "    }\n",
       "\n",
       "    var toinsert = output_area.element.find(\".\" + CLASS_NAME.split(' ')[0]);\n",
       "\n",
       "    if (output.metadata[EXEC_MIME_TYPE][\"id\"] !== undefined) {\n",
       "      toinsert[toinsert.length - 1].firstChild.textContent = output.data[JS_MIME_TYPE];\n",
       "      // store reference to embed id on output_area\n",
       "      output_area._bokeh_element_id = output.metadata[EXEC_MIME_TYPE][\"id\"];\n",
       "    }\n",
       "    if (output.metadata[EXEC_MIME_TYPE][\"server_id\"] !== undefined) {\n",
       "      var bk_div = document.createElement(\"div\");\n",
       "      bk_div.innerHTML = output.data[HTML_MIME_TYPE];\n",
       "      var script_attrs = bk_div.children[0].attributes;\n",
       "      for (var i = 0; i < script_attrs.length; i++) {\n",
       "        toinsert[toinsert.length - 1].firstChild.setAttribute(script_attrs[i].name, script_attrs[i].value);\n",
       "      }\n",
       "      // store reference to server id on output_area\n",
       "      output_area._bokeh_server_id = output.metadata[EXEC_MIME_TYPE][\"server_id\"];\n",
       "    }\n",
       "  }\n",
       "\n",
       "  function register_renderer(events, OutputArea) {\n",
       "\n",
       "    function append_mime(data, metadata, element) {\n",
       "      // create a DOM node to render to\n",
       "      var toinsert = this.create_output_subarea(\n",
       "        metadata,\n",
       "        CLASS_NAME,\n",
       "        EXEC_MIME_TYPE\n",
       "      );\n",
       "      this.keyboard_manager.register_events(toinsert);\n",
       "      // Render to node\n",
       "      var props = {data: data, metadata: metadata[EXEC_MIME_TYPE]};\n",
       "      render(props, toinsert[toinsert.length - 1]);\n",
       "      element.append(toinsert);\n",
       "      return toinsert\n",
       "    }\n",
       "\n",
       "    /* Handle when an output is cleared or removed */\n",
       "    events.on('clear_output.CodeCell', handleClearOutput);\n",
       "    events.on('delete.Cell', handleClearOutput);\n",
       "\n",
       "    /* Handle when a new output is added */\n",
       "    events.on('output_added.OutputArea', handleAddOutput);\n",
       "\n",
       "    /**\n",
       "     * Register the mime type and append_mime function with output_area\n",
       "     */\n",
       "    OutputArea.prototype.register_mime_type(EXEC_MIME_TYPE, append_mime, {\n",
       "      /* Is output safe? */\n",
       "      safe: true,\n",
       "      /* Index of renderer in `output_area.display_order` */\n",
       "      index: 0\n",
       "    });\n",
       "  }\n",
       "\n",
       "  // register the mime type if in Jupyter Notebook environment and previously unregistered\n",
       "  if (root.Jupyter !== undefined) {\n",
       "    var events = require('base/js/events');\n",
       "    var OutputArea = require('notebook/js/outputarea').OutputArea;\n",
       "\n",
       "    if (OutputArea.prototype.mime_types().indexOf(EXEC_MIME_TYPE) == -1) {\n",
       "      register_renderer(events, OutputArea);\n",
       "    }\n",
       "  }\n",
       "\n",
       "  \n",
       "  if (typeof (root._bokeh_timeout) === \"undefined\" || force === true) {\n",
       "    root._bokeh_timeout = Date.now() + 5000;\n",
       "    root._bokeh_failed_load = false;\n",
       "  }\n",
       "\n",
       "  var NB_LOAD_WARNING = {'data': {'text/html':\n",
       "     \"<div style='background-color: #fdd'>\\n\"+\n",
       "     \"<p>\\n\"+\n",
       "     \"BokehJS does not appear to have successfully loaded. If loading BokehJS from CDN, this \\n\"+\n",
       "     \"may be due to a slow or bad network connection. Possible fixes:\\n\"+\n",
       "     \"</p>\\n\"+\n",
       "     \"<ul>\\n\"+\n",
       "     \"<li>re-rerun `output_notebook()` to attempt to load from CDN again, or</li>\\n\"+\n",
       "     \"<li>use INLINE resources instead, as so:</li>\\n\"+\n",
       "     \"</ul>\\n\"+\n",
       "     \"<code>\\n\"+\n",
       "     \"from bokeh.resources import INLINE\\n\"+\n",
       "     \"output_notebook(resources=INLINE)\\n\"+\n",
       "     \"</code>\\n\"+\n",
       "     \"</div>\"}};\n",
       "\n",
       "  function display_loaded() {\n",
       "    var el = document.getElementById(\"129439f3-a735-4130-b49c-1742110972fd\");\n",
       "    if (el != null) {\n",
       "      el.textContent = \"BokehJS is loading...\";\n",
       "    }\n",
       "    if (root.Bokeh !== undefined) {\n",
       "      if (el != null) {\n",
       "        el.textContent = \"BokehJS \" + root.Bokeh.version + \" successfully loaded.\";\n",
       "      }\n",
       "    } else if (Date.now() < root._bokeh_timeout) {\n",
       "      setTimeout(display_loaded, 100)\n",
       "    }\n",
       "  }\n",
       "\n",
       "\n",
       "  function run_callbacks() {\n",
       "    try {\n",
       "      root._bokeh_onload_callbacks.forEach(function(callback) { callback() });\n",
       "    }\n",
       "    finally {\n",
       "      delete root._bokeh_onload_callbacks\n",
       "    }\n",
       "    console.info(\"Bokeh: all callbacks have finished\");\n",
       "  }\n",
       "\n",
       "  function load_libs(js_urls, callback) {\n",
       "    root._bokeh_onload_callbacks.push(callback);\n",
       "    if (root._bokeh_is_loading > 0) {\n",
       "      console.log(\"Bokeh: BokehJS is being loaded, scheduling callback at\", now());\n",
       "      return null;\n",
       "    }\n",
       "    if (js_urls == null || js_urls.length === 0) {\n",
       "      run_callbacks();\n",
       "      return null;\n",
       "    }\n",
       "    console.log(\"Bokeh: BokehJS not loaded, scheduling load and callback at\", now());\n",
       "    root._bokeh_is_loading = js_urls.length;\n",
       "    for (var i = 0; i < js_urls.length; i++) {\n",
       "      var url = js_urls[i];\n",
       "      var s = document.createElement('script');\n",
       "      s.src = url;\n",
       "      s.async = false;\n",
       "      s.onreadystatechange = s.onload = function() {\n",
       "        root._bokeh_is_loading--;\n",
       "        if (root._bokeh_is_loading === 0) {\n",
       "          console.log(\"Bokeh: all BokehJS libraries loaded\");\n",
       "          run_callbacks()\n",
       "        }\n",
       "      };\n",
       "      s.onerror = function() {\n",
       "        console.warn(\"failed to load library \" + url);\n",
       "      };\n",
       "      console.log(\"Bokeh: injecting script tag for BokehJS library: \", url);\n",
       "      document.getElementsByTagName(\"head\")[0].appendChild(s);\n",
       "    }\n",
       "  };var element = document.getElementById(\"129439f3-a735-4130-b49c-1742110972fd\");\n",
       "  if (element == null) {\n",
       "    console.log(\"Bokeh: ERROR: autoload.js configured with elementid '129439f3-a735-4130-b49c-1742110972fd' but no matching script tag was found. \")\n",
       "    return false;\n",
       "  }\n",
       "\n",
       "  var js_urls = [\"https://cdn.pydata.org/bokeh/release/bokeh-0.12.16.min.js\", \"https://cdn.pydata.org/bokeh/release/bokeh-widgets-0.12.16.min.js\", \"https://cdn.pydata.org/bokeh/release/bokeh-tables-0.12.16.min.js\", \"https://cdn.pydata.org/bokeh/release/bokeh-gl-0.12.16.min.js\"];\n",
       "\n",
       "  var inline_js = [\n",
       "    function(Bokeh) {\n",
       "      Bokeh.set_log_level(\"info\");\n",
       "    },\n",
       "    \n",
       "    function(Bokeh) {\n",
       "      \n",
       "    },\n",
       "    function(Bokeh) {\n",
       "      console.log(\"Bokeh: injecting CSS: https://cdn.pydata.org/bokeh/release/bokeh-0.12.16.min.css\");\n",
       "      Bokeh.embed.inject_css(\"https://cdn.pydata.org/bokeh/release/bokeh-0.12.16.min.css\");\n",
       "      console.log(\"Bokeh: injecting CSS: https://cdn.pydata.org/bokeh/release/bokeh-widgets-0.12.16.min.css\");\n",
       "      Bokeh.embed.inject_css(\"https://cdn.pydata.org/bokeh/release/bokeh-widgets-0.12.16.min.css\");\n",
       "      console.log(\"Bokeh: injecting CSS: https://cdn.pydata.org/bokeh/release/bokeh-tables-0.12.16.min.css\");\n",
       "      Bokeh.embed.inject_css(\"https://cdn.pydata.org/bokeh/release/bokeh-tables-0.12.16.min.css\");\n",
       "    }\n",
       "  ];\n",
       "\n",
       "  function run_inline_js() {\n",
       "    \n",
       "    if ((root.Bokeh !== undefined) || (force === true)) {\n",
       "      for (var i = 0; i < inline_js.length; i++) {\n",
       "        inline_js[i].call(root, root.Bokeh);\n",
       "      }if (force === true) {\n",
       "        display_loaded();\n",
       "      }} else if (Date.now() < root._bokeh_timeout) {\n",
       "      setTimeout(run_inline_js, 100);\n",
       "    } else if (!root._bokeh_failed_load) {\n",
       "      console.log(\"Bokeh: BokehJS failed to load within specified timeout.\");\n",
       "      root._bokeh_failed_load = true;\n",
       "    } else if (force !== true) {\n",
       "      var cell = $(document.getElementById(\"129439f3-a735-4130-b49c-1742110972fd\")).parents('.cell').data().cell;\n",
       "      cell.output_area.append_execute_result(NB_LOAD_WARNING)\n",
       "    }\n",
       "\n",
       "  }\n",
       "\n",
       "  if (root._bokeh_is_loading === 0) {\n",
       "    console.log(\"Bokeh: BokehJS loaded, going straight to plotting\");\n",
       "    run_inline_js();\n",
       "  } else {\n",
       "    load_libs(js_urls, function() {\n",
       "      console.log(\"Bokeh: BokehJS plotting callback run at\", now());\n",
       "      run_inline_js();\n",
       "    });\n",
       "  }\n",
       "}(window));"
      ],
      "application/vnd.bokehjs_load.v0+json": "\n(function(root) {\n  function now() {\n    return new Date();\n  }\n\n  var force = true;\n\n  if (typeof (root._bokeh_onload_callbacks) === \"undefined\" || force === true) {\n    root._bokeh_onload_callbacks = [];\n    root._bokeh_is_loading = undefined;\n  }\n\n  \n\n  \n  if (typeof (root._bokeh_timeout) === \"undefined\" || force === true) {\n    root._bokeh_timeout = Date.now() + 5000;\n    root._bokeh_failed_load = false;\n  }\n\n  var NB_LOAD_WARNING = {'data': {'text/html':\n     \"<div style='background-color: #fdd'>\\n\"+\n     \"<p>\\n\"+\n     \"BokehJS does not appear to have successfully loaded. If loading BokehJS from CDN, this \\n\"+\n     \"may be due to a slow or bad network connection. Possible fixes:\\n\"+\n     \"</p>\\n\"+\n     \"<ul>\\n\"+\n     \"<li>re-rerun `output_notebook()` to attempt to load from CDN again, or</li>\\n\"+\n     \"<li>use INLINE resources instead, as so:</li>\\n\"+\n     \"</ul>\\n\"+\n     \"<code>\\n\"+\n     \"from bokeh.resources import INLINE\\n\"+\n     \"output_notebook(resources=INLINE)\\n\"+\n     \"</code>\\n\"+\n     \"</div>\"}};\n\n  function display_loaded() {\n    var el = document.getElementById(\"129439f3-a735-4130-b49c-1742110972fd\");\n    if (el != null) {\n      el.textContent = \"BokehJS is loading...\";\n    }\n    if (root.Bokeh !== undefined) {\n      if (el != null) {\n        el.textContent = \"BokehJS \" + root.Bokeh.version + \" successfully loaded.\";\n      }\n    } else if (Date.now() < root._bokeh_timeout) {\n      setTimeout(display_loaded, 100)\n    }\n  }\n\n\n  function run_callbacks() {\n    try {\n      root._bokeh_onload_callbacks.forEach(function(callback) { callback() });\n    }\n    finally {\n      delete root._bokeh_onload_callbacks\n    }\n    console.info(\"Bokeh: all callbacks have finished\");\n  }\n\n  function load_libs(js_urls, callback) {\n    root._bokeh_onload_callbacks.push(callback);\n    if (root._bokeh_is_loading > 0) {\n      console.log(\"Bokeh: BokehJS is being loaded, scheduling callback at\", now());\n      return null;\n    }\n    if (js_urls == null || js_urls.length === 0) {\n      run_callbacks();\n      return null;\n    }\n    console.log(\"Bokeh: BokehJS not loaded, scheduling load and callback at\", now());\n    root._bokeh_is_loading = js_urls.length;\n    for (var i = 0; i < js_urls.length; i++) {\n      var url = js_urls[i];\n      var s = document.createElement('script');\n      s.src = url;\n      s.async = false;\n      s.onreadystatechange = s.onload = function() {\n        root._bokeh_is_loading--;\n        if (root._bokeh_is_loading === 0) {\n          console.log(\"Bokeh: all BokehJS libraries loaded\");\n          run_callbacks()\n        }\n      };\n      s.onerror = function() {\n        console.warn(\"failed to load library \" + url);\n      };\n      console.log(\"Bokeh: injecting script tag for BokehJS library: \", url);\n      document.getElementsByTagName(\"head\")[0].appendChild(s);\n    }\n  };var element = document.getElementById(\"129439f3-a735-4130-b49c-1742110972fd\");\n  if (element == null) {\n    console.log(\"Bokeh: ERROR: autoload.js configured with elementid '129439f3-a735-4130-b49c-1742110972fd' but no matching script tag was found. \")\n    return false;\n  }\n\n  var js_urls = [\"https://cdn.pydata.org/bokeh/release/bokeh-0.12.16.min.js\", \"https://cdn.pydata.org/bokeh/release/bokeh-widgets-0.12.16.min.js\", \"https://cdn.pydata.org/bokeh/release/bokeh-tables-0.12.16.min.js\", \"https://cdn.pydata.org/bokeh/release/bokeh-gl-0.12.16.min.js\"];\n\n  var inline_js = [\n    function(Bokeh) {\n      Bokeh.set_log_level(\"info\");\n    },\n    \n    function(Bokeh) {\n      \n    },\n    function(Bokeh) {\n      console.log(\"Bokeh: injecting CSS: https://cdn.pydata.org/bokeh/release/bokeh-0.12.16.min.css\");\n      Bokeh.embed.inject_css(\"https://cdn.pydata.org/bokeh/release/bokeh-0.12.16.min.css\");\n      console.log(\"Bokeh: injecting CSS: https://cdn.pydata.org/bokeh/release/bokeh-widgets-0.12.16.min.css\");\n      Bokeh.embed.inject_css(\"https://cdn.pydata.org/bokeh/release/bokeh-widgets-0.12.16.min.css\");\n      console.log(\"Bokeh: injecting CSS: https://cdn.pydata.org/bokeh/release/bokeh-tables-0.12.16.min.css\");\n      Bokeh.embed.inject_css(\"https://cdn.pydata.org/bokeh/release/bokeh-tables-0.12.16.min.css\");\n    }\n  ];\n\n  function run_inline_js() {\n    \n    if ((root.Bokeh !== undefined) || (force === true)) {\n      for (var i = 0; i < inline_js.length; i++) {\n        inline_js[i].call(root, root.Bokeh);\n      }if (force === true) {\n        display_loaded();\n      }} else if (Date.now() < root._bokeh_timeout) {\n      setTimeout(run_inline_js, 100);\n    } else if (!root._bokeh_failed_load) {\n      console.log(\"Bokeh: BokehJS failed to load within specified timeout.\");\n      root._bokeh_failed_load = true;\n    } else if (force !== true) {\n      var cell = $(document.getElementById(\"129439f3-a735-4130-b49c-1742110972fd\")).parents('.cell').data().cell;\n      cell.output_area.append_execute_result(NB_LOAD_WARNING)\n    }\n\n  }\n\n  if (root._bokeh_is_loading === 0) {\n    console.log(\"Bokeh: BokehJS loaded, going straight to plotting\");\n    run_inline_js();\n  } else {\n    load_libs(js_urls, function() {\n      console.log(\"Bokeh: BokehJS plotting callback run at\", now());\n      run_inline_js();\n    });\n  }\n}(window));"
     },
     "metadata": {},
     "output_type": "display_data"
    },
    {
     "data": {
      "text/html": [
       "\n",
       "<div class=\"bk-root\">\n",
       "    <div class=\"bk-plotdiv\" id=\"5453b06b-f1ba-47f9-b936-f1f61cf2b8f4\"></div>\n",
       "</div>"
      ]
     },
     "metadata": {},
     "output_type": "display_data"
    },
    {
     "data": {
      "application/javascript": [
       "(function(root) {\n",
       "  function embed_document(root) {\n",
       "    \n",
       "  var docs_json = {\"42bbcc4e-9fca-4d2b-8ca4-9e770b3e591e\":{\"roots\":{\"references\":[{\"attributes\":{\"dimension\":\"lat\"},\"id\":\"39fc9a2c-b22d-4ccd-b36f-5e6df7c02fcf\",\"type\":\"MercatorTicker\"},{\"attributes\":{},\"id\":\"5af8559b-cdd2-49c1-9d1a-a4259fe59522\",\"type\":\"Selection\"},{\"attributes\":{\"dimension\":1,\"plot\":{\"id\":\"0745dd94-ab05-488b-985b-beaafcc474ab\",\"subtype\":\"Figure\",\"type\":\"Plot\"},\"ticker\":{\"id\":\"39fc9a2c-b22d-4ccd-b36f-5e6df7c02fcf\",\"type\":\"MercatorTicker\"}},\"id\":\"13d55a68-39b9-4676-ac91-d46959df07b9\",\"type\":\"Grid\"},{\"attributes\":{},\"id\":\"7ba13ef2-65b7-46a9-8515-718d6c4c1bcd\",\"type\":\"StringFormatter\"},{\"attributes\":{\"data_source\":{\"id\":\"45031677-b717-409a-9799-c40b933c471c\",\"type\":\"ColumnDataSource\"},\"glyph\":{\"id\":\"4ac7cd7f-fce2-4e2f-9f11-0084548179d9\",\"type\":\"Circle\"},\"hover_glyph\":null,\"muted_glyph\":null,\"nonselection_glyph\":{\"id\":\"d00cc9da-f55b-4c1c-8a44-18fc98ba8889\",\"type\":\"Circle\"},\"selection_glyph\":null,\"view\":{\"id\":\"a6e616eb-7609-4ab2-805c-eef768a2e415\",\"type\":\"CDSView\"}},\"id\":\"49f2ec02-ba13-4ab9-aa58-a98e2ca47efc\",\"type\":\"GlyphRenderer\"},{\"attributes\":{\"callback\":null,\"end\":10000000,\"start\":-20000000},\"id\":\"7eddabc9-3ecb-43c2-9f8d-503f599930d1\",\"type\":\"Range1d\"},{\"attributes\":{},\"id\":\"d1430a6c-43bd-47aa-b93a-4d3fbee04d00\",\"type\":\"LinearScale\"},{\"attributes\":{\"active_drag\":\"auto\",\"active_inspect\":\"auto\",\"active_scroll\":\"auto\",\"active_tap\":\"auto\",\"tools\":[{\"id\":\"04f4fc73-74f4-4cc0-a873-19917fcc2c66\",\"type\":\"HoverTool\"},{\"id\":\"b9e85b3a-77bb-41df-ad58-4006f757276a\",\"type\":\"PanTool\"},{\"id\":\"854947a7-12a8-4ed1-b285-b176f12f9f21\",\"type\":\"WheelZoomTool\"},{\"id\":\"9abfef72-1f10-4876-979a-58a7451b53b7\",\"type\":\"SaveTool\"}]},\"id\":\"733e39cd-3757-47c5-ac8f-f8af17a7cb6c\",\"type\":\"Toolbar\"},{\"attributes\":{\"formatter\":{\"id\":\"3a3778a2-d158-4b46-a9fc-c92eafad0937\",\"type\":\"MercatorTickFormatter\"},\"plot\":{\"id\":\"0745dd94-ab05-488b-985b-beaafcc474ab\",\"subtype\":\"Figure\",\"type\":\"Plot\"},\"ticker\":{\"id\":\"39fc9a2c-b22d-4ccd-b36f-5e6df7c02fcf\",\"type\":\"MercatorTicker\"}},\"id\":\"199bb135-cd85-4583-9f0c-fe4095686c54\",\"type\":\"MercatorAxis\"},{\"attributes\":{\"children\":[{\"id\":\"4b4336f9-816f-487e-bc2b-7d53d909b30c\",\"type\":\"ToolbarBox\"},{\"id\":\"436ee9dd-9069-4c9f-a027-89ee0971fd03\",\"type\":\"Column\"}]},\"id\":\"d3b4e826-233c-41d3-85a9-01bbb48f427c\",\"type\":\"Column\"},{\"attributes\":{\"editor\":{\"id\":\"5d3e4e23-6246-4790-bab3-958ef30cc92b\",\"type\":\"StringEditor\"},\"field\":\"area\",\"formatter\":{\"id\":\"7ba13ef2-65b7-46a9-8515-718d6c4c1bcd\",\"type\":\"StringFormatter\"},\"title\":\"Area\"},\"id\":\"90863067-d504-4d49-88cc-92285bfe4f23\",\"type\":\"TableColumn\"},{\"attributes\":{\"children\":[{\"id\":\"1ac5af5f-3408-4b90-b66d-75d03fb470b6\",\"type\":\"Row\"}]},\"id\":\"436ee9dd-9069-4c9f-a027-89ee0971fd03\",\"type\":\"Column\"},{\"attributes\":{},\"id\":\"9abfef72-1f10-4876-979a-58a7451b53b7\",\"type\":\"SaveTool\"},{\"attributes\":{},\"id\":\"9879f57e-a4f1-45ad-89b1-fb6052307a52\",\"type\":\"StringFormatter\"},{\"attributes\":{},\"id\":\"c3c42217-62f1-4ded-a33f-750421b01589\",\"type\":\"UnionRenderers\"},{\"attributes\":{\"dimension\":\"lon\"},\"id\":\"84b12698-95d1-4c80-a46f-c5eec83fb1f2\",\"type\":\"MercatorTicker\"},{\"attributes\":{\"attribution\":\"&copy; <a href=\\\"https://www.openstreetmap.org/copyright\\\">OpenStreetMap</a> contributors,&copy; <a href=\\\"https://cartodb.com/attributions\\\">CartoDB</a>\",\"url\":\"https://tiles.basemaps.cartocdn.com/light_all/{z}/{x}/{y}.png\"},\"id\":\"6fa81db5-3227-4208-a974-d031f7525f86\",\"type\":\"WMTSTileSource\"},{\"attributes\":{\"callback\":null,\"renderers\":\"auto\",\"tooltips\":[[\"Area\",\"@area\"],[\"Count\",\"@count\"]]},\"id\":\"04f4fc73-74f4-4cc0-a873-19917fcc2c66\",\"type\":\"HoverTool\"},{\"attributes\":{},\"id\":\"d6e7da03-2de3-48b0-866a-9df337b75c79\",\"type\":\"StringEditor\"},{\"attributes\":{\"tile_source\":{\"id\":\"6fa81db5-3227-4208-a974-d031f7525f86\",\"type\":\"WMTSTileSource\"}},\"id\":\"f5b7c17d-cbba-407f-a53a-f45f71d11471\",\"type\":\"TileRenderer\"},{\"attributes\":{\"editor\":{\"id\":\"d6e7da03-2de3-48b0-866a-9df337b75c79\",\"type\":\"StringEditor\"},\"field\":\"count\",\"formatter\":{\"id\":\"9879f57e-a4f1-45ad-89b1-fb6052307a52\",\"type\":\"StringFormatter\"},\"title\":\"Count\"},\"id\":\"b821ea63-42c8-4135-81be-ecf2bf57c10a\",\"type\":\"TableColumn\"},{\"attributes\":{\"fill_alpha\":{\"value\":0.1},\"fill_color\":{\"value\":\"#1f77b4\"},\"line_alpha\":{\"value\":0.1},\"line_color\":{\"value\":\"#1f77b4\"},\"size\":{\"units\":\"screen\",\"value\":10},\"x\":{\"field\":\"x\"},\"y\":{\"field\":\"y\"}},\"id\":\"d00cc9da-f55b-4c1c-8a44-18fc98ba8889\",\"type\":\"Circle\"},{\"attributes\":{},\"id\":\"b9e85b3a-77bb-41df-ad58-4006f757276a\",\"type\":\"PanTool\"},{\"attributes\":{\"children\":[{\"id\":\"0745dd94-ab05-488b-985b-beaafcc474ab\",\"subtype\":\"Figure\",\"type\":\"Plot\"},{\"id\":\"a843b331-97a8-4e9a-b2b9-c765c5641ce0\",\"type\":\"WidgetBox\"}]},\"id\":\"1ac5af5f-3408-4b90-b66d-75d03fb470b6\",\"type\":\"Row\"},{\"attributes\":{\"dimension\":\"lat\"},\"id\":\"3a3778a2-d158-4b46-a9fc-c92eafad0937\",\"type\":\"MercatorTickFormatter\"},{\"attributes\":{\"below\":[{\"id\":\"f5836a8c-c36d-4410-8e6f-31c660a87859\",\"type\":\"MercatorAxis\"}],\"left\":[{\"id\":\"199bb135-cd85-4583-9f0c-fe4095686c54\",\"type\":\"MercatorAxis\"}],\"plot_height\":400,\"renderers\":[{\"id\":\"f5836a8c-c36d-4410-8e6f-31c660a87859\",\"type\":\"MercatorAxis\"},{\"id\":\"bbb35938-e896-44b9-a8f8-bdc4cc204105\",\"type\":\"Grid\"},{\"id\":\"199bb135-cd85-4583-9f0c-fe4095686c54\",\"type\":\"MercatorAxis\"},{\"id\":\"13d55a68-39b9-4676-ac91-d46959df07b9\",\"type\":\"Grid\"},{\"id\":\"f5b7c17d-cbba-407f-a53a-f45f71d11471\",\"type\":\"TileRenderer\"},{\"id\":\"49f2ec02-ba13-4ab9-aa58-a98e2ca47efc\",\"type\":\"GlyphRenderer\"}],\"title\":{\"id\":\"606927cf-85c7-40f5-8741-ade4ee080c62\",\"type\":\"Title\"},\"toolbar\":{\"id\":\"733e39cd-3757-47c5-ac8f-f8af17a7cb6c\",\"type\":\"Toolbar\"},\"toolbar_location\":null,\"x_range\":{\"id\":\"7eddabc9-3ecb-43c2-9f8d-503f599930d1\",\"type\":\"Range1d\"},\"x_scale\":{\"id\":\"c09d0a9b-bd76-4191-bd85-23a68981f96d\",\"type\":\"LinearScale\"},\"y_range\":{\"id\":\"eae3d3fa-9178-4469-9fe5-3ac79408b9c0\",\"type\":\"Range1d\"},\"y_scale\":{\"id\":\"d1430a6c-43bd-47aa-b93a-4d3fbee04d00\",\"type\":\"LinearScale\"}},\"id\":\"0745dd94-ab05-488b-985b-beaafcc474ab\",\"subtype\":\"Figure\",\"type\":\"Plot\"},{\"attributes\":{},\"id\":\"5d3e4e23-6246-4790-bab3-958ef30cc92b\",\"type\":\"StringEditor\"},{\"attributes\":{\"formatter\":{\"id\":\"6259c54f-7cda-4182-81c9-8c181b97652f\",\"type\":\"MercatorTickFormatter\"},\"plot\":{\"id\":\"0745dd94-ab05-488b-985b-beaafcc474ab\",\"subtype\":\"Figure\",\"type\":\"Plot\"},\"ticker\":{\"id\":\"84b12698-95d1-4c80-a46f-c5eec83fb1f2\",\"type\":\"MercatorTicker\"}},\"id\":\"f5836a8c-c36d-4410-8e6f-31c660a87859\",\"type\":\"MercatorAxis\"},{\"attributes\":{},\"id\":\"c09d0a9b-bd76-4191-bd85-23a68981f96d\",\"type\":\"LinearScale\"},{\"attributes\":{\"source\":{\"id\":\"45031677-b717-409a-9799-c40b933c471c\",\"type\":\"ColumnDataSource\"}},\"id\":\"a6e616eb-7609-4ab2-805c-eef768a2e415\",\"type\":\"CDSView\"},{\"attributes\":{\"source\":{\"id\":\"45031677-b717-409a-9799-c40b933c471c\",\"type\":\"ColumnDataSource\"}},\"id\":\"9c2b79e2-a35b-4628-ac92-4b23716ac081\",\"type\":\"CDSView\"},{\"attributes\":{\"plot\":{\"id\":\"0745dd94-ab05-488b-985b-beaafcc474ab\",\"subtype\":\"Figure\",\"type\":\"Plot\"},\"ticker\":{\"id\":\"84b12698-95d1-4c80-a46f-c5eec83fb1f2\",\"type\":\"MercatorTicker\"}},\"id\":\"bbb35938-e896-44b9-a8f8-bdc4cc204105\",\"type\":\"Grid\"},{\"attributes\":{\"plot\":null,\"text\":\"Top countries that have offshore entities\"},\"id\":\"606927cf-85c7-40f5-8741-ade4ee080c62\",\"type\":\"Title\"},{\"attributes\":{\"dimension\":\"lon\"},\"id\":\"6259c54f-7cda-4182-81c9-8c181b97652f\",\"type\":\"MercatorTickFormatter\"},{\"attributes\":{\"columns\":[{\"id\":\"90863067-d504-4d49-88cc-92285bfe4f23\",\"type\":\"TableColumn\"},{\"id\":\"b821ea63-42c8-4135-81be-ecf2bf57c10a\",\"type\":\"TableColumn\"}],\"height\":350,\"source\":{\"id\":\"45031677-b717-409a-9799-c40b933c471c\",\"type\":\"ColumnDataSource\"},\"view\":{\"id\":\"9c2b79e2-a35b-4628-ac92-4b23716ac081\",\"type\":\"CDSView\"},\"width\":200},\"id\":\"fbb07f76-3a22-4700-a82f-1cc97b2b6d10\",\"type\":\"DataTable\"},{\"attributes\":{\"tools\":[{\"id\":\"04f4fc73-74f4-4cc0-a873-19917fcc2c66\",\"type\":\"HoverTool\"},{\"id\":\"b9e85b3a-77bb-41df-ad58-4006f757276a\",\"type\":\"PanTool\"},{\"id\":\"854947a7-12a8-4ed1-b285-b176f12f9f21\",\"type\":\"WheelZoomTool\"},{\"id\":\"9abfef72-1f10-4876-979a-58a7451b53b7\",\"type\":\"SaveTool\"}]},\"id\":\"9e83cf2b-0f4c-4b5d-897b-97082408b070\",\"type\":\"ProxyToolbar\"},{\"attributes\":{\"callback\":null,\"data\":{\"area\":[\"Hong Kong\",\"Switzerland\",\"Panama\",\"Jersey\",\"Luxembourg\",\"United Kingdom\",\"Guernsey\",\"United Arab Emirates\",\"Bahamas\",\"Uruguay\",\"Isle of Man\",\"Russia\",\"Singapore\",\"Cyprus\",\"China\",\"Monaco\",\"United States\",\"Taiwan\",\"Liechtenstein\",\"Gibraltar\",\"Colombia\",\"Ecuador\",\"Samoa\",\"Jordan\",\"Brazil\",\"Latvia\",\"Belize\",\"Guatemala\",\"Mauritius\",\"Spain\",\"British Virgin Islands\"],\"count\":[37911,37911,15811,14331,10840,9619,7327,7269,4984,4906,4892,4197,4081,3613,3213,3168,3066,2725,2066,2039,1854,1852,1613,1553,1399,1380,1351,1233,1217,1166,1107],\"x\":[12708546.221819662,916379.109375671,-9051012.04859185,-236620.70513764827,682352.3108602084,-364746.6939418176,-287338.1201411251,6011194.939528083,-8682926.371051485,-6236134.850461531,-502562.83350708074,10880957.702484656,11560755.754232766,3689698.8268976193,11688538.406970896,825963.6378415215,-11181584.492180988,13451331.09436194,1063452.0940343866,-596018.9695812444,-8213585.286185891,-8835060.240324289,-19160316.41036838,4112323.2180345375,-5922196.910202154,2755576.459356612,-9880728.32212776,-10007489.607405912,6408702.781499176,-538570.92109281,-7187472.52121889],\"y\":[2545095.077194767,5909256.087563407,928281.1129455589,6310962.4537718855,6414448.329426942,7304312.167817082,6353669.71198678,2753438.426757345,2847968.6954087955,-3878797.5699098497,7214944.260192893,9526226.028606495,143667.20055241938,4161476.289401565,4163891.200373253,5423929.683316068,4834564.161615891,2704534.79328417,5965222.525759214,4320013.535248008,321787.7928228937,-149155.75115758216,-1547772.4037354763,3654417.925153851,-1156588.4476574468,7727618.2961980635,1900577.3768912472,1762562.3706028375,-2305749.223644028,4768510.183828863,2084707.601405808]},\"selected\":{\"id\":\"5af8559b-cdd2-49c1-9d1a-a4259fe59522\",\"type\":\"Selection\"},\"selection_policy\":{\"id\":\"c3c42217-62f1-4ded-a33f-750421b01589\",\"type\":\"UnionRenderers\"}},\"id\":\"45031677-b717-409a-9799-c40b933c471c\",\"type\":\"ColumnDataSource\"},{\"attributes\":{\"toolbar\":{\"id\":\"9e83cf2b-0f4c-4b5d-897b-97082408b070\",\"type\":\"ProxyToolbar\"},\"toolbar_location\":\"above\"},\"id\":\"4b4336f9-816f-487e-bc2b-7d53d909b30c\",\"type\":\"ToolbarBox\"},{\"attributes\":{\"callback\":null,\"end\":10000,\"start\":-100},\"id\":\"eae3d3fa-9178-4469-9fe5-3ac79408b9c0\",\"type\":\"Range1d\"},{\"attributes\":{\"fill_alpha\":{\"value\":0.05},\"fill_color\":{\"value\":\"#FF0000\"},\"line_color\":{\"value\":\"#FF0000\"},\"size\":{\"units\":\"screen\",\"value\":10},\"x\":{\"field\":\"x\"},\"y\":{\"field\":\"y\"}},\"id\":\"4ac7cd7f-fce2-4e2f-9f11-0084548179d9\",\"type\":\"Circle\"},{\"attributes\":{},\"id\":\"854947a7-12a8-4ed1-b285-b176f12f9f21\",\"type\":\"WheelZoomTool\"},{\"attributes\":{\"children\":[{\"id\":\"fbb07f76-3a22-4700-a82f-1cc97b2b6d10\",\"type\":\"DataTable\"}],\"height\":350,\"width\":200},\"id\":\"a843b331-97a8-4e9a-b2b9-c765c5641ce0\",\"type\":\"WidgetBox\"}],\"root_ids\":[\"d3b4e826-233c-41d3-85a9-01bbb48f427c\"]},\"title\":\"Bokeh Application\",\"version\":\"0.12.16\"}};\n",
       "  var render_items = [{\"docid\":\"42bbcc4e-9fca-4d2b-8ca4-9e770b3e591e\",\"elementid\":\"5453b06b-f1ba-47f9-b936-f1f61cf2b8f4\",\"modelid\":\"d3b4e826-233c-41d3-85a9-01bbb48f427c\"}];\n",
       "  root.Bokeh.embed.embed_items_notebook(docs_json, render_items);\n",
       "\n",
       "  }\n",
       "  if (root.Bokeh !== undefined) {\n",
       "    embed_document(root);\n",
       "  } else {\n",
       "    var attempts = 0;\n",
       "    var timer = setInterval(function(root) {\n",
       "      if (root.Bokeh !== undefined) {\n",
       "        embed_document(root);\n",
       "        clearInterval(timer);\n",
       "      }\n",
       "      attempts++;\n",
       "      if (attempts > 100) {\n",
       "        console.log(\"Bokeh: ERROR: Unable to run BokehJS code because BokehJS library is missing\")\n",
       "        clearInterval(timer);\n",
       "      }\n",
       "    }, 10, root)\n",
       "  }\n",
       "})(window);"
      ],
      "application/vnd.bokehjs_exec.v0+json": ""
     },
     "metadata": {
      "application/vnd.bokehjs_exec.v0+json": {
       "id": "d3b4e826-233c-41d3-85a9-01bbb48f427c"
      }
     },
     "output_type": "display_data"
    }
   ],
   "source": [
    "# do the same for countries, filtering by countries > 1000\n",
    "\n",
    "s = df_entity_raw.countries.value_counts()\n",
    "s = s[s > 1000]\n",
    "country_df = pd.DataFrame(s).reset_index()\n",
    "country_df.columns = ['Area', 'Count']\n",
    "\n",
    "c_lat = []\n",
    "c_long = []\n",
    "\n",
    "for ind, row in country_df.iterrows():\n",
    "    location = geolocator.geocode(row['Area'])\n",
    "    c_lat.append(location.latitude)\n",
    "    c_long.append(location.longitude)\n",
    "\n",
    "country_df['Latitude'] = c_lat\n",
    "country_df['Longitude'] = c_long\n",
    "\n",
    "x_y_c = merc(country_df.Latitude, country_df.Longitude)\n",
    "country_df['x'] = x_y_c[0]\n",
    "country_df['y'] = x_y_c[1]\n",
    "\n",
    "output_file(\"proj_jekyll/assets/country_map.html\", title=\"country_map\")\n",
    "plot_map(country_df, \"Top countries that have offshore entities\")"
   ]
  },
  {
   "cell_type": "markdown",
   "metadata": {},
   "source": [
    "An interesting fact can be noticed from the distribution of the countries. The majority of the entities present in the papers come from a country with already favourable business condition like Honk Kong, Switzerland and Luxembourg or even from a place considered a fiscal paradise (Panama, Jersey). \n",
    "More analysis on this aspect will be performed, but generally business friendly business conditions correspond with very low tax rate. In other words the  countries with highest number of entities offshore are coming from tax haven countries.\n",
    "\n",
    "This fact could also be explained with a tendency, amplified by globalization, of big companies of starting their international business already from a convenient economy; however in order to comfirm this claim a stakeholder analysis should be done and for this reason we are not going to focus on this question."
   ]
  },
  {
   "cell_type": "markdown",
   "metadata": {},
   "source": [
    "### Structure of the investigation"
   ]
  },
  {
   "cell_type": "markdown",
   "metadata": {},
   "source": [
    "As now it was understood that the major presence in the Panama Papers is characterized by tax havens countries, it is important to comprehend what are the business and economical conditions which influence entities to go offshore on a global level and why tax havens are such an good place to then go offshore. Hence, in order to answer to questions 3 and 4, the following structure is going to be  kept. It is important to mention that all the following investigations are not only done on a global scale, but with the help of the GDP data, the relationship between the set of economical and bureaucratic indicators and the number of offshore entities are inspected for different set of countries. The categories identified are 'Small developped countries', 'Developping Countries', 'Seven Biggest Economies' and 'Developped Countries'.\n",
    "Eventually it is important to mention that an average of the indicators in the past 15 years is considered for each country in order to fully exploit the data. In order to explore the role of each indicator, interactive plots are created to better investigate individually what are the conditions which push entities to go offshore.\n",
    "\n",
    "Any clarific\n",
    "\n",
    "1) Firstly the corporate tax is investigated as a determinant of offshore companies.\n",
    "2)\n",
    "\n",
    "Are there burocratic and economic causes pushing entities to go offshore ?\n",
    "What are the consequences of offshore companies on income inequality?"
   ]
  },
  {
   "cell_type": "markdown",
   "metadata": {},
   "source": [
    "### Assumptions"
   ]
  },
  {
   "cell_type": "markdown",
   "metadata": {},
   "source": [
    "In our analysis we will make some assumptions:\n",
    "\n",
    "- How we chose the categories of countries\n",
    "- Offshore entities are business\n",
    "- Indicators change in 15 years doesn't matter\n",
    "- ...\n"
   ]
  },
  {
   "cell_type": "markdown",
   "metadata": {},
   "source": [
    "### GDP Data Integration"
   ]
  },
  {
   "cell_type": "markdown",
   "metadata": {},
   "source": [
    "In order to go further with the investigation it is crucial to have an instrument to distinguish between categories of countries. The parameters used to do so are the Total Gross Domestic Product and the Gross Domestic Product per capita which are measures of the size of the economic activity in a country and population. Hence, using these two paramters the number of entities present in the Panama Papers will be weighted according to these indicators too."
   ]
  },
  {
   "cell_type": "markdown",
   "metadata": {},
   "source": [
    "$GDP_{cap}$"
   ]
  },
  {
   "cell_type": "markdown",
   "metadata": {},
   "source": [
    "As many of the operation performed with the GDP will involve an inner joint between the latter and the entity data frame, the correctness of the operation is investigated. "
   ]
  },
  {
   "cell_type": "code",
   "execution_count": 21,
   "metadata": {},
   "outputs": [
    {
     "data": {
      "text/html": [
       "<div>\n",
       "<style scoped>\n",
       "    .dataframe tbody tr th:only-of-type {\n",
       "        vertical-align: middle;\n",
       "    }\n",
       "\n",
       "    .dataframe tbody tr th {\n",
       "        vertical-align: top;\n",
       "    }\n",
       "\n",
       "    .dataframe thead th {\n",
       "        text-align: right;\n",
       "    }\n",
       "</style>\n",
       "<table border=\"1\" class=\"dataframe\">\n",
       "  <thead>\n",
       "    <tr style=\"text-align: right;\">\n",
       "      <th></th>\n",
       "      <th>Country Name</th>\n",
       "      <th>Country Code</th>\n",
       "      <th>Indicator Name</th>\n",
       "      <th>Indicator Code</th>\n",
       "      <th>1960</th>\n",
       "      <th>1961</th>\n",
       "      <th>1962</th>\n",
       "      <th>1963</th>\n",
       "      <th>1964</th>\n",
       "      <th>1965</th>\n",
       "      <th>1966</th>\n",
       "      <th>1967</th>\n",
       "      <th>1968</th>\n",
       "      <th>1969</th>\n",
       "      <th>1970</th>\n",
       "      <th>1971</th>\n",
       "      <th>1972</th>\n",
       "      <th>1973</th>\n",
       "      <th>1974</th>\n",
       "      <th>1975</th>\n",
       "      <th>1976</th>\n",
       "      <th>1977</th>\n",
       "      <th>1978</th>\n",
       "      <th>1979</th>\n",
       "      <th>1980</th>\n",
       "      <th>1981</th>\n",
       "      <th>1982</th>\n",
       "      <th>1983</th>\n",
       "      <th>1984</th>\n",
       "      <th>1985</th>\n",
       "      <th>1986</th>\n",
       "      <th>1987</th>\n",
       "      <th>1988</th>\n",
       "      <th>1989</th>\n",
       "      <th>1990</th>\n",
       "      <th>1991</th>\n",
       "      <th>1992</th>\n",
       "      <th>1993</th>\n",
       "      <th>1994</th>\n",
       "      <th>1995</th>\n",
       "      <th>1996</th>\n",
       "      <th>1997</th>\n",
       "      <th>1998</th>\n",
       "      <th>1999</th>\n",
       "      <th>2000</th>\n",
       "      <th>2001</th>\n",
       "      <th>2002</th>\n",
       "      <th>2003</th>\n",
       "      <th>2004</th>\n",
       "      <th>2005</th>\n",
       "      <th>2006</th>\n",
       "      <th>2007</th>\n",
       "      <th>2008</th>\n",
       "      <th>2009</th>\n",
       "      <th>2010</th>\n",
       "      <th>2011</th>\n",
       "      <th>2012</th>\n",
       "      <th>2013</th>\n",
       "      <th>2014</th>\n",
       "      <th>2015</th>\n",
       "      <th>2016</th>\n",
       "      <th>2017</th>\n",
       "    </tr>\n",
       "  </thead>\n",
       "  <tbody>\n",
       "    <tr>\n",
       "      <th>0</th>\n",
       "      <td>Aruba</td>\n",
       "      <td>ABW</td>\n",
       "      <td>GDP (current US$)</td>\n",
       "      <td>NY.GDP.MKTP.CD</td>\n",
       "      <td>NaN</td>\n",
       "      <td>NaN</td>\n",
       "      <td>NaN</td>\n",
       "      <td>NaN</td>\n",
       "      <td>NaN</td>\n",
       "      <td>NaN</td>\n",
       "      <td>NaN</td>\n",
       "      <td>NaN</td>\n",
       "      <td>NaN</td>\n",
       "      <td>NaN</td>\n",
       "      <td>NaN</td>\n",
       "      <td>NaN</td>\n",
       "      <td>NaN</td>\n",
       "      <td>NaN</td>\n",
       "      <td>NaN</td>\n",
       "      <td>NaN</td>\n",
       "      <td>NaN</td>\n",
       "      <td>NaN</td>\n",
       "      <td>NaN</td>\n",
       "      <td>NaN</td>\n",
       "      <td>NaN</td>\n",
       "      <td>NaN</td>\n",
       "      <td>NaN</td>\n",
       "      <td>NaN</td>\n",
       "      <td>NaN</td>\n",
       "      <td>NaN</td>\n",
       "      <td>NaN</td>\n",
       "      <td>NaN</td>\n",
       "      <td>NaN</td>\n",
       "      <td>NaN</td>\n",
       "      <td>NaN</td>\n",
       "      <td>NaN</td>\n",
       "      <td>NaN</td>\n",
       "      <td>NaN</td>\n",
       "      <td>1.330168e+09</td>\n",
       "      <td>1.320670e+09</td>\n",
       "      <td>1.379888e+09</td>\n",
       "      <td>1.531844e+09</td>\n",
       "      <td>1.665363e+09</td>\n",
       "      <td>1.722799e+09</td>\n",
       "      <td>1.873453e+09</td>\n",
       "      <td>1.920263e+09</td>\n",
       "      <td>1.941095e+09</td>\n",
       "      <td>2.021302e+09</td>\n",
       "      <td>2.228279e+09</td>\n",
       "      <td>2.331006e+09</td>\n",
       "      <td>2.421475e+09</td>\n",
       "      <td>2.623726e+09</td>\n",
       "      <td>2.791961e+09</td>\n",
       "      <td>2.498933e+09</td>\n",
       "      <td>2.467704e+09</td>\n",
       "      <td>2.584464e+09</td>\n",
       "      <td>NaN</td>\n",
       "      <td>NaN</td>\n",
       "      <td>2.516000e+09</td>\n",
       "      <td>NaN</td>\n",
       "      <td>NaN</td>\n",
       "      <td>NaN</td>\n",
       "    </tr>\n",
       "    <tr>\n",
       "      <th>1</th>\n",
       "      <td>Afghanistan</td>\n",
       "      <td>AFG</td>\n",
       "      <td>GDP (current US$)</td>\n",
       "      <td>NY.GDP.MKTP.CD</td>\n",
       "      <td>537777811.1</td>\n",
       "      <td>548888895.6</td>\n",
       "      <td>546666677.8</td>\n",
       "      <td>751111191.1</td>\n",
       "      <td>800000044.4</td>\n",
       "      <td>1.006667e+09</td>\n",
       "      <td>1.400000e+09</td>\n",
       "      <td>1.673333e+09</td>\n",
       "      <td>1.373333e+09</td>\n",
       "      <td>1.408889e+09</td>\n",
       "      <td>1.748887e+09</td>\n",
       "      <td>1.831109e+09</td>\n",
       "      <td>1.595555e+09</td>\n",
       "      <td>1.733333e+09</td>\n",
       "      <td>2.155555e+09</td>\n",
       "      <td>2.366667e+09</td>\n",
       "      <td>2.555556e+09</td>\n",
       "      <td>2.953333e+09</td>\n",
       "      <td>3.300000e+09</td>\n",
       "      <td>3.697940e+09</td>\n",
       "      <td>3.641723e+09</td>\n",
       "      <td>3.478788e+09</td>\n",
       "      <td>NaN</td>\n",
       "      <td>NaN</td>\n",
       "      <td>NaN</td>\n",
       "      <td>NaN</td>\n",
       "      <td>NaN</td>\n",
       "      <td>NaN</td>\n",
       "      <td>NaN</td>\n",
       "      <td>NaN</td>\n",
       "      <td>NaN</td>\n",
       "      <td>NaN</td>\n",
       "      <td>NaN</td>\n",
       "      <td>NaN</td>\n",
       "      <td>NaN</td>\n",
       "      <td>NaN</td>\n",
       "      <td>NaN</td>\n",
       "      <td>NaN</td>\n",
       "      <td>NaN</td>\n",
       "      <td>NaN</td>\n",
       "      <td>NaN</td>\n",
       "      <td>2.461666e+09</td>\n",
       "      <td>4.128821e+09</td>\n",
       "      <td>4.583644e+09</td>\n",
       "      <td>5.285466e+09</td>\n",
       "      <td>6.275074e+09</td>\n",
       "      <td>7.057598e+09</td>\n",
       "      <td>9.843842e+09</td>\n",
       "      <td>1.019053e+10</td>\n",
       "      <td>1.248694e+10</td>\n",
       "      <td>1.593680e+10</td>\n",
       "      <td>1.793024e+10</td>\n",
       "      <td>2.053654e+10</td>\n",
       "      <td>2.026425e+10</td>\n",
       "      <td>2.061610e+10</td>\n",
       "      <td>1.921556e+10</td>\n",
       "      <td>1.946902e+10</td>\n",
       "      <td>2.081530e+10</td>\n",
       "    </tr>\n",
       "    <tr>\n",
       "      <th>2</th>\n",
       "      <td>Angola</td>\n",
       "      <td>AGO</td>\n",
       "      <td>GDP (current US$)</td>\n",
       "      <td>NY.GDP.MKTP.CD</td>\n",
       "      <td>NaN</td>\n",
       "      <td>NaN</td>\n",
       "      <td>NaN</td>\n",
       "      <td>NaN</td>\n",
       "      <td>NaN</td>\n",
       "      <td>NaN</td>\n",
       "      <td>NaN</td>\n",
       "      <td>NaN</td>\n",
       "      <td>NaN</td>\n",
       "      <td>NaN</td>\n",
       "      <td>NaN</td>\n",
       "      <td>NaN</td>\n",
       "      <td>NaN</td>\n",
       "      <td>NaN</td>\n",
       "      <td>NaN</td>\n",
       "      <td>NaN</td>\n",
       "      <td>NaN</td>\n",
       "      <td>NaN</td>\n",
       "      <td>NaN</td>\n",
       "      <td>NaN</td>\n",
       "      <td>5.930503e+09</td>\n",
       "      <td>5.550483e+09</td>\n",
       "      <td>5.550483e+09</td>\n",
       "      <td>5.784342e+09</td>\n",
       "      <td>6.131475e+09</td>\n",
       "      <td>7.553560e+09</td>\n",
       "      <td>7.072063e+09</td>\n",
       "      <td>8.083872e+09</td>\n",
       "      <td>8.769251e+09</td>\n",
       "      <td>1.020110e+10</td>\n",
       "      <td>1.122876e+10</td>\n",
       "      <td>1.060378e+10</td>\n",
       "      <td>8.307811e+09</td>\n",
       "      <td>5.768720e+09</td>\n",
       "      <td>4.438321e+09</td>\n",
       "      <td>5.538749e+09</td>\n",
       "      <td>7.526447e+09</td>\n",
       "      <td>7.648377e+09</td>\n",
       "      <td>6.506230e+09</td>\n",
       "      <td>6.152923e+09</td>\n",
       "      <td>9.129595e+09</td>\n",
       "      <td>8.936064e+09</td>\n",
       "      <td>1.249735e+10</td>\n",
       "      <td>1.418895e+10</td>\n",
       "      <td>1.964085e+10</td>\n",
       "      <td>2.823371e+10</td>\n",
       "      <td>4.178948e+10</td>\n",
       "      <td>6.044892e+10</td>\n",
       "      <td>8.417804e+10</td>\n",
       "      <td>7.549239e+10</td>\n",
       "      <td>8.252614e+10</td>\n",
       "      <td>1.040000e+11</td>\n",
       "      <td>1.140000e+11</td>\n",
       "      <td>1.250000e+11</td>\n",
       "      <td>1.270000e+11</td>\n",
       "      <td>1.030000e+11</td>\n",
       "      <td>9.533720e+10</td>\n",
       "      <td>1.240000e+11</td>\n",
       "    </tr>\n",
       "    <tr>\n",
       "      <th>3</th>\n",
       "      <td>Albania</td>\n",
       "      <td>ALB</td>\n",
       "      <td>GDP (current US$)</td>\n",
       "      <td>NY.GDP.MKTP.CD</td>\n",
       "      <td>NaN</td>\n",
       "      <td>NaN</td>\n",
       "      <td>NaN</td>\n",
       "      <td>NaN</td>\n",
       "      <td>NaN</td>\n",
       "      <td>NaN</td>\n",
       "      <td>NaN</td>\n",
       "      <td>NaN</td>\n",
       "      <td>NaN</td>\n",
       "      <td>NaN</td>\n",
       "      <td>NaN</td>\n",
       "      <td>NaN</td>\n",
       "      <td>NaN</td>\n",
       "      <td>NaN</td>\n",
       "      <td>NaN</td>\n",
       "      <td>NaN</td>\n",
       "      <td>NaN</td>\n",
       "      <td>NaN</td>\n",
       "      <td>NaN</td>\n",
       "      <td>NaN</td>\n",
       "      <td>NaN</td>\n",
       "      <td>NaN</td>\n",
       "      <td>NaN</td>\n",
       "      <td>NaN</td>\n",
       "      <td>1.924242e+09</td>\n",
       "      <td>1.965385e+09</td>\n",
       "      <td>2.173750e+09</td>\n",
       "      <td>2.156625e+09</td>\n",
       "      <td>2.126000e+09</td>\n",
       "      <td>2.335125e+09</td>\n",
       "      <td>2.101625e+09</td>\n",
       "      <td>1.139167e+09</td>\n",
       "      <td>7.094526e+08</td>\n",
       "      <td>1.228071e+09</td>\n",
       "      <td>1.985674e+09</td>\n",
       "      <td>2.424499e+09</td>\n",
       "      <td>3.314898e+09</td>\n",
       "      <td>2.359903e+09</td>\n",
       "      <td>2.707124e+09</td>\n",
       "      <td>3.414761e+09</td>\n",
       "      <td>3.632044e+09</td>\n",
       "      <td>4.060759e+09</td>\n",
       "      <td>4.435079e+09</td>\n",
       "      <td>5.746946e+09</td>\n",
       "      <td>7.314865e+09</td>\n",
       "      <td>8.158549e+09</td>\n",
       "      <td>8.992642e+09</td>\n",
       "      <td>1.070101e+10</td>\n",
       "      <td>1.288135e+10</td>\n",
       "      <td>1.204421e+10</td>\n",
       "      <td>1.192695e+10</td>\n",
       "      <td>1.289087e+10</td>\n",
       "      <td>1.231978e+10</td>\n",
       "      <td>1.277628e+10</td>\n",
       "      <td>1.322824e+10</td>\n",
       "      <td>1.138693e+10</td>\n",
       "      <td>1.188368e+10</td>\n",
       "      <td>1.303935e+10</td>\n",
       "    </tr>\n",
       "    <tr>\n",
       "      <th>4</th>\n",
       "      <td>Andorra</td>\n",
       "      <td>AND</td>\n",
       "      <td>GDP (current US$)</td>\n",
       "      <td>NY.GDP.MKTP.CD</td>\n",
       "      <td>NaN</td>\n",
       "      <td>NaN</td>\n",
       "      <td>NaN</td>\n",
       "      <td>NaN</td>\n",
       "      <td>NaN</td>\n",
       "      <td>NaN</td>\n",
       "      <td>NaN</td>\n",
       "      <td>NaN</td>\n",
       "      <td>NaN</td>\n",
       "      <td>NaN</td>\n",
       "      <td>7.861921e+07</td>\n",
       "      <td>8.940982e+07</td>\n",
       "      <td>1.134082e+08</td>\n",
       "      <td>1.508201e+08</td>\n",
       "      <td>1.865587e+08</td>\n",
       "      <td>2.201272e+08</td>\n",
       "      <td>2.272810e+08</td>\n",
       "      <td>2.540202e+08</td>\n",
       "      <td>3.080089e+08</td>\n",
       "      <td>4.115783e+08</td>\n",
       "      <td>4.464161e+08</td>\n",
       "      <td>3.889587e+08</td>\n",
       "      <td>3.758960e+08</td>\n",
       "      <td>3.278618e+08</td>\n",
       "      <td>3.300707e+08</td>\n",
       "      <td>3.467380e+08</td>\n",
       "      <td>4.820006e+08</td>\n",
       "      <td>6.113164e+08</td>\n",
       "      <td>7.214259e+08</td>\n",
       "      <td>7.954493e+08</td>\n",
       "      <td>1.029048e+09</td>\n",
       "      <td>1.106929e+09</td>\n",
       "      <td>1.210014e+09</td>\n",
       "      <td>1.007026e+09</td>\n",
       "      <td>1.017549e+09</td>\n",
       "      <td>1.178739e+09</td>\n",
       "      <td>1.223945e+09</td>\n",
       "      <td>1.180597e+09</td>\n",
       "      <td>1.211932e+09</td>\n",
       "      <td>1.239876e+09</td>\n",
       "      <td>1.434430e+09</td>\n",
       "      <td>1.496913e+09</td>\n",
       "      <td>1.733117e+09</td>\n",
       "      <td>2.398646e+09</td>\n",
       "      <td>2.935659e+09</td>\n",
       "      <td>3.255789e+09</td>\n",
       "      <td>3.543257e+09</td>\n",
       "      <td>4.016972e+09</td>\n",
       "      <td>4.007353e+09</td>\n",
       "      <td>3.660531e+09</td>\n",
       "      <td>3.355695e+09</td>\n",
       "      <td>3.442063e+09</td>\n",
       "      <td>3.164615e+09</td>\n",
       "      <td>3.281585e+09</td>\n",
       "      <td>3.350736e+09</td>\n",
       "      <td>2.811489e+09</td>\n",
       "      <td>2.877312e+09</td>\n",
       "      <td>3.012914e+09</td>\n",
       "    </tr>\n",
       "  </tbody>\n",
       "</table>\n",
       "</div>"
      ],
      "text/plain": [
       "  Country Name Country Code     Indicator Name  Indicator Code         1960  \\\n",
       "0        Aruba          ABW  GDP (current US$)  NY.GDP.MKTP.CD          NaN   \n",
       "1  Afghanistan          AFG  GDP (current US$)  NY.GDP.MKTP.CD  537777811.1   \n",
       "2       Angola          AGO  GDP (current US$)  NY.GDP.MKTP.CD          NaN   \n",
       "3      Albania          ALB  GDP (current US$)  NY.GDP.MKTP.CD          NaN   \n",
       "4      Andorra          AND  GDP (current US$)  NY.GDP.MKTP.CD          NaN   \n",
       "\n",
       "          1961         1962         1963         1964          1965  \\\n",
       "0          NaN          NaN          NaN          NaN           NaN   \n",
       "1  548888895.6  546666677.8  751111191.1  800000044.4  1.006667e+09   \n",
       "2          NaN          NaN          NaN          NaN           NaN   \n",
       "3          NaN          NaN          NaN          NaN           NaN   \n",
       "4          NaN          NaN          NaN          NaN           NaN   \n",
       "\n",
       "           1966          1967          1968          1969          1970  \\\n",
       "0           NaN           NaN           NaN           NaN           NaN   \n",
       "1  1.400000e+09  1.673333e+09  1.373333e+09  1.408889e+09  1.748887e+09   \n",
       "2           NaN           NaN           NaN           NaN           NaN   \n",
       "3           NaN           NaN           NaN           NaN           NaN   \n",
       "4           NaN           NaN           NaN           NaN  7.861921e+07   \n",
       "\n",
       "           1971          1972          1973          1974          1975  \\\n",
       "0           NaN           NaN           NaN           NaN           NaN   \n",
       "1  1.831109e+09  1.595555e+09  1.733333e+09  2.155555e+09  2.366667e+09   \n",
       "2           NaN           NaN           NaN           NaN           NaN   \n",
       "3           NaN           NaN           NaN           NaN           NaN   \n",
       "4  8.940982e+07  1.134082e+08  1.508201e+08  1.865587e+08  2.201272e+08   \n",
       "\n",
       "           1976          1977          1978          1979          1980  \\\n",
       "0           NaN           NaN           NaN           NaN           NaN   \n",
       "1  2.555556e+09  2.953333e+09  3.300000e+09  3.697940e+09  3.641723e+09   \n",
       "2           NaN           NaN           NaN           NaN  5.930503e+09   \n",
       "3           NaN           NaN           NaN           NaN           NaN   \n",
       "4  2.272810e+08  2.540202e+08  3.080089e+08  4.115783e+08  4.464161e+08   \n",
       "\n",
       "           1981          1982          1983          1984          1985  \\\n",
       "0           NaN           NaN           NaN           NaN           NaN   \n",
       "1  3.478788e+09           NaN           NaN           NaN           NaN   \n",
       "2  5.550483e+09  5.550483e+09  5.784342e+09  6.131475e+09  7.553560e+09   \n",
       "3           NaN           NaN           NaN  1.924242e+09  1.965385e+09   \n",
       "4  3.889587e+08  3.758960e+08  3.278618e+08  3.300707e+08  3.467380e+08   \n",
       "\n",
       "           1986          1987          1988          1989          1990  \\\n",
       "0           NaN           NaN           NaN           NaN           NaN   \n",
       "1           NaN           NaN           NaN           NaN           NaN   \n",
       "2  7.072063e+09  8.083872e+09  8.769251e+09  1.020110e+10  1.122876e+10   \n",
       "3  2.173750e+09  2.156625e+09  2.126000e+09  2.335125e+09  2.101625e+09   \n",
       "4  4.820006e+08  6.113164e+08  7.214259e+08  7.954493e+08  1.029048e+09   \n",
       "\n",
       "           1991          1992          1993          1994          1995  \\\n",
       "0           NaN           NaN           NaN  1.330168e+09  1.320670e+09   \n",
       "1           NaN           NaN           NaN           NaN           NaN   \n",
       "2  1.060378e+10  8.307811e+09  5.768720e+09  4.438321e+09  5.538749e+09   \n",
       "3  1.139167e+09  7.094526e+08  1.228071e+09  1.985674e+09  2.424499e+09   \n",
       "4  1.106929e+09  1.210014e+09  1.007026e+09  1.017549e+09  1.178739e+09   \n",
       "\n",
       "           1996          1997          1998          1999          2000  \\\n",
       "0  1.379888e+09  1.531844e+09  1.665363e+09  1.722799e+09  1.873453e+09   \n",
       "1           NaN           NaN           NaN           NaN           NaN   \n",
       "2  7.526447e+09  7.648377e+09  6.506230e+09  6.152923e+09  9.129595e+09   \n",
       "3  3.314898e+09  2.359903e+09  2.707124e+09  3.414761e+09  3.632044e+09   \n",
       "4  1.223945e+09  1.180597e+09  1.211932e+09  1.239876e+09  1.434430e+09   \n",
       "\n",
       "           2001          2002          2003          2004          2005  \\\n",
       "0  1.920263e+09  1.941095e+09  2.021302e+09  2.228279e+09  2.331006e+09   \n",
       "1  2.461666e+09  4.128821e+09  4.583644e+09  5.285466e+09  6.275074e+09   \n",
       "2  8.936064e+09  1.249735e+10  1.418895e+10  1.964085e+10  2.823371e+10   \n",
       "3  4.060759e+09  4.435079e+09  5.746946e+09  7.314865e+09  8.158549e+09   \n",
       "4  1.496913e+09  1.733117e+09  2.398646e+09  2.935659e+09  3.255789e+09   \n",
       "\n",
       "           2006          2007          2008          2009          2010  \\\n",
       "0  2.421475e+09  2.623726e+09  2.791961e+09  2.498933e+09  2.467704e+09   \n",
       "1  7.057598e+09  9.843842e+09  1.019053e+10  1.248694e+10  1.593680e+10   \n",
       "2  4.178948e+10  6.044892e+10  8.417804e+10  7.549239e+10  8.252614e+10   \n",
       "3  8.992642e+09  1.070101e+10  1.288135e+10  1.204421e+10  1.192695e+10   \n",
       "4  3.543257e+09  4.016972e+09  4.007353e+09  3.660531e+09  3.355695e+09   \n",
       "\n",
       "           2011          2012          2013          2014          2015  \\\n",
       "0  2.584464e+09           NaN           NaN  2.516000e+09           NaN   \n",
       "1  1.793024e+10  2.053654e+10  2.026425e+10  2.061610e+10  1.921556e+10   \n",
       "2  1.040000e+11  1.140000e+11  1.250000e+11  1.270000e+11  1.030000e+11   \n",
       "3  1.289087e+10  1.231978e+10  1.277628e+10  1.322824e+10  1.138693e+10   \n",
       "4  3.442063e+09  3.164615e+09  3.281585e+09  3.350736e+09  2.811489e+09   \n",
       "\n",
       "           2016          2017  \n",
       "0           NaN           NaN  \n",
       "1  1.946902e+10  2.081530e+10  \n",
       "2  9.533720e+10  1.240000e+11  \n",
       "3  1.188368e+10  1.303935e+10  \n",
       "4  2.877312e+09  3.012914e+09  "
      ]
     },
     "execution_count": 21,
     "metadata": {},
     "output_type": "execute_result"
    }
   ],
   "source": [
    "df_GDP_tot_raw.head()"
   ]
  },
  {
   "cell_type": "markdown",
   "metadata": {},
   "source": [
    "All the following numbers printed show the condition of the data frame as it is right now, after performing the operation later described. The year with less missing values among the ones that follow the 2008 economic crisis (meaning comparable GDP to the present ones) is chosen as measure of the GDP. It is 2014 with 16 missing values."
   ]
  },
  {
   "cell_type": "code",
   "execution_count": 22,
   "metadata": {},
   "outputs": [
    {
     "name": "stdout",
     "output_type": "stream",
     "text": [
      "30\n",
      "23\n",
      "18\n",
      "9\n",
      "16\n",
      "17\n"
     ]
    }
   ],
   "source": [
    "print(df_GDP_tot_raw['2017'].isna().sum())\n",
    "print(df_GDP_tot_raw['2016'].isna().sum())\n",
    "print(df_GDP_tot_raw['2015'].isna().sum())\n",
    "print(df_GDP_tot_raw['2014'].isna().sum())\n",
    "print(df_GDP_tot_raw['2013'].isna().sum())\n",
    "print(df_GDP_tot_raw['2012'].isna().sum())"
   ]
  },
  {
   "cell_type": "code",
   "execution_count": 23,
   "metadata": {
    "scrolled": true
   },
   "outputs": [],
   "source": [
    "df_GDP_tot=df_GDP_tot_raw[['Country Name','2014']].copy()\n",
    "df_GDP_tot.columns = ['countries', 'GDP_tot']\n",
    "#df_GDP_tot"
   ]
  },
  {
   "cell_type": "markdown",
   "metadata": {},
   "source": [
    "A new data frame from the `entity` one is created with only the relevant columns. (value_counts is applied) "
   ]
  },
  {
   "cell_type": "code",
   "execution_count": 24,
   "metadata": {
    "scrolled": true
   },
   "outputs": [],
   "source": [
    "df_vc=pd.DataFrame(df_entity_raw.countries.value_counts())\n",
    "df_vc.reset_index(level=0, inplace=True)\n",
    "df_vc.columns = ['countries', 'n_companies']\n",
    "#df_vc"
   ]
  },
  {
   "cell_type": "markdown",
   "metadata": {},
   "source": [
    "Now a merge with an inner join the value counts data frame `df_vc` and the `df_GDP_tot` is performed. All the lines with a missing GDP were visualized below (lines of British Virgin Islands, Turks and Caicos Island, Sint Marteen (dutch part), Monaco, Gibraltar, Cayman Islands, Bermuda and Aruba).  The missing values are manually integrated in the `.csv` looking at reliable data online. The check for nan values now shows an empty dataframe."
   ]
  },
  {
   "cell_type": "code",
   "execution_count": 25,
   "metadata": {},
   "outputs": [
    {
     "name": "stdout",
     "output_type": "stream",
     "text": [
      "Number of countries without GDP in the database:  Empty DataFrame\n",
      "Columns: [countries, GDP_tot, n_companies]\n",
      "Index: []\n"
     ]
    }
   ],
   "source": [
    "df_GDP_tot_entities=df_GDP_tot.merge(df_vc, how='inner',left_on='countries', right_on='countries')\n",
    "print('Number of countries without GDP in the database: ',df_GDP_tot_entities[df_GDP_tot_entities['GDP_tot'].isna()])\n",
    "#df_GDP_tot_entities"
   ]
  },
  {
   "cell_type": "markdown",
   "metadata": {},
   "source": [
    "$GDP_{tot}$"
   ]
  },
  {
   "cell_type": "markdown",
   "metadata": {},
   "source": [
    "The same analysis procedure is performed on the GDP pro capita data frame. The same lines of GDP were missing, and they were replaced in the same manner as for the total GDP."
   ]
  },
  {
   "cell_type": "code",
   "execution_count": 26,
   "metadata": {},
   "outputs": [
    {
     "data": {
      "text/html": [
       "<div>\n",
       "<style scoped>\n",
       "    .dataframe tbody tr th:only-of-type {\n",
       "        vertical-align: middle;\n",
       "    }\n",
       "\n",
       "    .dataframe tbody tr th {\n",
       "        vertical-align: top;\n",
       "    }\n",
       "\n",
       "    .dataframe thead th {\n",
       "        text-align: right;\n",
       "    }\n",
       "</style>\n",
       "<table border=\"1\" class=\"dataframe\">\n",
       "  <thead>\n",
       "    <tr style=\"text-align: right;\">\n",
       "      <th></th>\n",
       "      <th>Country Name</th>\n",
       "      <th>Country Code</th>\n",
       "      <th>Indicator Name</th>\n",
       "      <th>Indicator Code</th>\n",
       "      <th>1960</th>\n",
       "      <th>1961</th>\n",
       "      <th>1962</th>\n",
       "      <th>1963</th>\n",
       "      <th>1964</th>\n",
       "      <th>1965</th>\n",
       "      <th>1966</th>\n",
       "      <th>1967</th>\n",
       "      <th>1968</th>\n",
       "      <th>1969</th>\n",
       "      <th>1970</th>\n",
       "      <th>1971</th>\n",
       "      <th>1972</th>\n",
       "      <th>1973</th>\n",
       "      <th>1974</th>\n",
       "      <th>1975</th>\n",
       "      <th>1976</th>\n",
       "      <th>1977</th>\n",
       "      <th>1978</th>\n",
       "      <th>1979</th>\n",
       "      <th>1980</th>\n",
       "      <th>1981</th>\n",
       "      <th>1982</th>\n",
       "      <th>1983</th>\n",
       "      <th>1984</th>\n",
       "      <th>1985</th>\n",
       "      <th>1986</th>\n",
       "      <th>1987</th>\n",
       "      <th>1988</th>\n",
       "      <th>1989</th>\n",
       "      <th>1990</th>\n",
       "      <th>1991</th>\n",
       "      <th>1992</th>\n",
       "      <th>1993</th>\n",
       "      <th>1994</th>\n",
       "      <th>1995</th>\n",
       "      <th>1996</th>\n",
       "      <th>1997</th>\n",
       "      <th>1998</th>\n",
       "      <th>1999</th>\n",
       "      <th>2000</th>\n",
       "      <th>2001</th>\n",
       "      <th>2002</th>\n",
       "      <th>2003</th>\n",
       "      <th>2004</th>\n",
       "      <th>2005</th>\n",
       "      <th>2006</th>\n",
       "      <th>2007</th>\n",
       "      <th>2008</th>\n",
       "      <th>2009</th>\n",
       "      <th>2010</th>\n",
       "      <th>2011</th>\n",
       "      <th>2012</th>\n",
       "      <th>2013</th>\n",
       "      <th>2014</th>\n",
       "      <th>2015</th>\n",
       "      <th>2016</th>\n",
       "      <th>2017</th>\n",
       "    </tr>\n",
       "  </thead>\n",
       "  <tbody>\n",
       "    <tr>\n",
       "      <th>0</th>\n",
       "      <td>Aruba</td>\n",
       "      <td>ABW</td>\n",
       "      <td>GDP per capita (current US$)</td>\n",
       "      <td>NY.GDP.PCAP.CD</td>\n",
       "      <td>NaN</td>\n",
       "      <td>NaN</td>\n",
       "      <td>NaN</td>\n",
       "      <td>NaN</td>\n",
       "      <td>NaN</td>\n",
       "      <td>NaN</td>\n",
       "      <td>NaN</td>\n",
       "      <td>NaN</td>\n",
       "      <td>NaN</td>\n",
       "      <td>NaN</td>\n",
       "      <td>NaN</td>\n",
       "      <td>NaN</td>\n",
       "      <td>NaN</td>\n",
       "      <td>NaN</td>\n",
       "      <td>NaN</td>\n",
       "      <td>NaN</td>\n",
       "      <td>NaN</td>\n",
       "      <td>NaN</td>\n",
       "      <td>NaN</td>\n",
       "      <td>NaN</td>\n",
       "      <td>NaN</td>\n",
       "      <td>NaN</td>\n",
       "      <td>NaN</td>\n",
       "      <td>NaN</td>\n",
       "      <td>NaN</td>\n",
       "      <td>NaN</td>\n",
       "      <td>NaN</td>\n",
       "      <td>NaN</td>\n",
       "      <td>NaN</td>\n",
       "      <td>NaN</td>\n",
       "      <td>NaN</td>\n",
       "      <td>NaN</td>\n",
       "      <td>NaN</td>\n",
       "      <td>NaN</td>\n",
       "      <td>17342.471940</td>\n",
       "      <td>16441.790640</td>\n",
       "      <td>16585.195530</td>\n",
       "      <td>17926.572840</td>\n",
       "      <td>19081.351660</td>\n",
       "      <td>19356.203390</td>\n",
       "      <td>20620.700630</td>\n",
       "      <td>20670.655660</td>\n",
       "      <td>20434.299440</td>\n",
       "      <td>20834.510200</td>\n",
       "      <td>22567.824920</td>\n",
       "      <td>23302.831990</td>\n",
       "      <td>24014.944270</td>\n",
       "      <td>25921.026050</td>\n",
       "      <td>27546.899390</td>\n",
       "      <td>24631.434860</td>\n",
       "      <td>24271.940420</td>\n",
       "      <td>25324.720360</td>\n",
       "      <td>NaN</td>\n",
       "      <td>NaN</td>\n",
       "      <td>25300.000000</td>\n",
       "      <td>NaN</td>\n",
       "      <td>NaN</td>\n",
       "      <td>NaN</td>\n",
       "    </tr>\n",
       "    <tr>\n",
       "      <th>1</th>\n",
       "      <td>Afghanistan</td>\n",
       "      <td>AFG</td>\n",
       "      <td>GDP per capita (current US$)</td>\n",
       "      <td>NY.GDP.PCAP.CD</td>\n",
       "      <td>59.777327</td>\n",
       "      <td>59.878153</td>\n",
       "      <td>58.492874</td>\n",
       "      <td>78.782758</td>\n",
       "      <td>82.208444</td>\n",
       "      <td>101.290471</td>\n",
       "      <td>137.899362</td>\n",
       "      <td>161.322</td>\n",
       "      <td>129.506654</td>\n",
       "      <td>129.798541</td>\n",
       "      <td>157.187422</td>\n",
       "      <td>160.372836</td>\n",
       "      <td>136.117014</td>\n",
       "      <td>144.110319</td>\n",
       "      <td>174.942038</td>\n",
       "      <td>187.975604</td>\n",
       "      <td>199.026173</td>\n",
       "      <td>226.005344</td>\n",
       "      <td>249.287386</td>\n",
       "      <td>277.900742</td>\n",
       "      <td>274.880859</td>\n",
       "      <td>266.493042</td>\n",
       "      <td>NaN</td>\n",
       "      <td>NaN</td>\n",
       "      <td>NaN</td>\n",
       "      <td>NaN</td>\n",
       "      <td>NaN</td>\n",
       "      <td>NaN</td>\n",
       "      <td>NaN</td>\n",
       "      <td>NaN</td>\n",
       "      <td>NaN</td>\n",
       "      <td>NaN</td>\n",
       "      <td>NaN</td>\n",
       "      <td>NaN</td>\n",
       "      <td>NaN</td>\n",
       "      <td>NaN</td>\n",
       "      <td>NaN</td>\n",
       "      <td>NaN</td>\n",
       "      <td>NaN</td>\n",
       "      <td>NaN</td>\n",
       "      <td>NaN</td>\n",
       "      <td>117.409691</td>\n",
       "      <td>187.845095</td>\n",
       "      <td>198.728544</td>\n",
       "      <td>219.141353</td>\n",
       "      <td>250.294130</td>\n",
       "      <td>272.563077</td>\n",
       "      <td>369.835796</td>\n",
       "      <td>373.361116</td>\n",
       "      <td>445.893298</td>\n",
       "      <td>553.300289</td>\n",
       "      <td>603.537023</td>\n",
       "      <td>669.009051</td>\n",
       "      <td>638.612543</td>\n",
       "      <td>629.345250</td>\n",
       "      <td>569.577923</td>\n",
       "      <td>561.778746</td>\n",
       "      <td>585.850064</td>\n",
       "    </tr>\n",
       "    <tr>\n",
       "      <th>2</th>\n",
       "      <td>Angola</td>\n",
       "      <td>AGO</td>\n",
       "      <td>GDP per capita (current US$)</td>\n",
       "      <td>NY.GDP.PCAP.CD</td>\n",
       "      <td>NaN</td>\n",
       "      <td>NaN</td>\n",
       "      <td>NaN</td>\n",
       "      <td>NaN</td>\n",
       "      <td>NaN</td>\n",
       "      <td>NaN</td>\n",
       "      <td>NaN</td>\n",
       "      <td>NaN</td>\n",
       "      <td>NaN</td>\n",
       "      <td>NaN</td>\n",
       "      <td>NaN</td>\n",
       "      <td>NaN</td>\n",
       "      <td>NaN</td>\n",
       "      <td>NaN</td>\n",
       "      <td>NaN</td>\n",
       "      <td>NaN</td>\n",
       "      <td>NaN</td>\n",
       "      <td>NaN</td>\n",
       "      <td>NaN</td>\n",
       "      <td>NaN</td>\n",
       "      <td>664.117560</td>\n",
       "      <td>600.408766</td>\n",
       "      <td>579.252001</td>\n",
       "      <td>582.420126</td>\n",
       "      <td>596.602467</td>\n",
       "      <td>711.992700</td>\n",
       "      <td>647.563354</td>\n",
       "      <td>720.598939</td>\n",
       "      <td>761.618458</td>\n",
       "      <td>862.509058</td>\n",
       "      <td>922.550170</td>\n",
       "      <td>844.691134</td>\n",
       "      <td>640.622298</td>\n",
       "      <td>430.381595</td>\n",
       "      <td>320.657792</td>\n",
       "      <td>388.166766</td>\n",
       "      <td>512.620966</td>\n",
       "      <td>506.884952</td>\n",
       "      <td>419.639845</td>\n",
       "      <td>385.768854</td>\n",
       "      <td>555.296942</td>\n",
       "      <td>526.168743</td>\n",
       "      <td>711.181789</td>\n",
       "      <td>779.468317</td>\n",
       "      <td>1041.087109</td>\n",
       "      <td>1443.991924</td>\n",
       "      <td>2062.415212</td>\n",
       "      <td>2878.837305</td>\n",
       "      <td>3868.579014</td>\n",
       "      <td>3347.844900</td>\n",
       "      <td>3531.416878</td>\n",
       "      <td>4299.008136</td>\n",
       "      <td>4539.467689</td>\n",
       "      <td>4804.633826</td>\n",
       "      <td>4707.578098</td>\n",
       "      <td>3683.552607</td>\n",
       "      <td>3308.772828</td>\n",
       "      <td>4170.312280</td>\n",
       "    </tr>\n",
       "    <tr>\n",
       "      <th>3</th>\n",
       "      <td>Albania</td>\n",
       "      <td>ALB</td>\n",
       "      <td>GDP per capita (current US$)</td>\n",
       "      <td>NY.GDP.PCAP.CD</td>\n",
       "      <td>NaN</td>\n",
       "      <td>NaN</td>\n",
       "      <td>NaN</td>\n",
       "      <td>NaN</td>\n",
       "      <td>NaN</td>\n",
       "      <td>NaN</td>\n",
       "      <td>NaN</td>\n",
       "      <td>NaN</td>\n",
       "      <td>NaN</td>\n",
       "      <td>NaN</td>\n",
       "      <td>NaN</td>\n",
       "      <td>NaN</td>\n",
       "      <td>NaN</td>\n",
       "      <td>NaN</td>\n",
       "      <td>NaN</td>\n",
       "      <td>NaN</td>\n",
       "      <td>NaN</td>\n",
       "      <td>NaN</td>\n",
       "      <td>NaN</td>\n",
       "      <td>NaN</td>\n",
       "      <td>NaN</td>\n",
       "      <td>NaN</td>\n",
       "      <td>NaN</td>\n",
       "      <td>NaN</td>\n",
       "      <td>662.520052</td>\n",
       "      <td>662.914793</td>\n",
       "      <td>719.157296</td>\n",
       "      <td>699.384292</td>\n",
       "      <td>676.566733</td>\n",
       "      <td>723.409610</td>\n",
       "      <td>639.463899</td>\n",
       "      <td>348.711318</td>\n",
       "      <td>218.492166</td>\n",
       "      <td>380.527371</td>\n",
       "      <td>619.065163</td>\n",
       "      <td>760.559376</td>\n",
       "      <td>1046.358511</td>\n",
       "      <td>749.584649</td>\n",
       "      <td>865.302162</td>\n",
       "      <td>1098.425463</td>\n",
       "      <td>1175.788981</td>\n",
       "      <td>1326.970339</td>\n",
       "      <td>1453.642777</td>\n",
       "      <td>1890.681557</td>\n",
       "      <td>2416.588235</td>\n",
       "      <td>2709.142931</td>\n",
       "      <td>3005.012903</td>\n",
       "      <td>3603.013685</td>\n",
       "      <td>4370.539647</td>\n",
       "      <td>4114.136545</td>\n",
       "      <td>4094.358832</td>\n",
       "      <td>4437.178068</td>\n",
       "      <td>4247.614308</td>\n",
       "      <td>4413.081697</td>\n",
       "      <td>4578.666728</td>\n",
       "      <td>3952.830781</td>\n",
       "      <td>4131.872341</td>\n",
       "      <td>4537.862492</td>\n",
       "    </tr>\n",
       "    <tr>\n",
       "      <th>4</th>\n",
       "      <td>Andorra</td>\n",
       "      <td>AND</td>\n",
       "      <td>GDP per capita (current US$)</td>\n",
       "      <td>NY.GDP.PCAP.CD</td>\n",
       "      <td>NaN</td>\n",
       "      <td>NaN</td>\n",
       "      <td>NaN</td>\n",
       "      <td>NaN</td>\n",
       "      <td>NaN</td>\n",
       "      <td>NaN</td>\n",
       "      <td>NaN</td>\n",
       "      <td>NaN</td>\n",
       "      <td>NaN</td>\n",
       "      <td>NaN</td>\n",
       "      <td>3238.556850</td>\n",
       "      <td>3498.173652</td>\n",
       "      <td>4217.173581</td>\n",
       "      <td>5342.168560</td>\n",
       "      <td>6319.739034</td>\n",
       "      <td>7169.101006</td>\n",
       "      <td>7152.375134</td>\n",
       "      <td>7751.370216</td>\n",
       "      <td>9129.706185</td>\n",
       "      <td>11820.849390</td>\n",
       "      <td>12377.411650</td>\n",
       "      <td>10372.232830</td>\n",
       "      <td>9610.266308</td>\n",
       "      <td>8022.654781</td>\n",
       "      <td>7728.906695</td>\n",
       "      <td>7774.393829</td>\n",
       "      <td>10361.815980</td>\n",
       "      <td>12616.167570</td>\n",
       "      <td>14304.356960</td>\n",
       "      <td>15166.437850</td>\n",
       "      <td>18878.505970</td>\n",
       "      <td>19532.540150</td>\n",
       "      <td>20547.711790</td>\n",
       "      <td>16516.471030</td>\n",
       "      <td>16234.809010</td>\n",
       "      <td>18461.064860</td>\n",
       "      <td>19017.174590</td>\n",
       "      <td>18353.059720</td>\n",
       "      <td>18894.521500</td>\n",
       "      <td>19261.710500</td>\n",
       "      <td>21936.530100</td>\n",
       "      <td>22228.846490</td>\n",
       "      <td>24741.493570</td>\n",
       "      <td>32776.442270</td>\n",
       "      <td>38503.479610</td>\n",
       "      <td>41282.020120</td>\n",
       "      <td>43748.772160</td>\n",
       "      <td>48582.808460</td>\n",
       "      <td>47785.659090</td>\n",
       "      <td>43339.379870</td>\n",
       "      <td>39736.354060</td>\n",
       "      <td>41098.766940</td>\n",
       "      <td>38391.080870</td>\n",
       "      <td>40619.711300</td>\n",
       "      <td>42294.994730</td>\n",
       "      <td>36038.267600</td>\n",
       "      <td>37231.815670</td>\n",
       "      <td>39146.548840</td>\n",
       "    </tr>\n",
       "  </tbody>\n",
       "</table>\n",
       "</div>"
      ],
      "text/plain": [
       "  Country Name Country Code                Indicator Name  Indicator Code  \\\n",
       "0        Aruba          ABW  GDP per capita (current US$)  NY.GDP.PCAP.CD   \n",
       "1  Afghanistan          AFG  GDP per capita (current US$)  NY.GDP.PCAP.CD   \n",
       "2       Angola          AGO  GDP per capita (current US$)  NY.GDP.PCAP.CD   \n",
       "3      Albania          ALB  GDP per capita (current US$)  NY.GDP.PCAP.CD   \n",
       "4      Andorra          AND  GDP per capita (current US$)  NY.GDP.PCAP.CD   \n",
       "\n",
       "        1960       1961       1962       1963       1964        1965  \\\n",
       "0        NaN        NaN        NaN        NaN        NaN         NaN   \n",
       "1  59.777327  59.878153  58.492874  78.782758  82.208444  101.290471   \n",
       "2        NaN        NaN        NaN        NaN        NaN         NaN   \n",
       "3        NaN        NaN        NaN        NaN        NaN         NaN   \n",
       "4        NaN        NaN        NaN        NaN        NaN         NaN   \n",
       "\n",
       "         1966     1967        1968        1969         1970         1971  \\\n",
       "0         NaN      NaN         NaN         NaN          NaN          NaN   \n",
       "1  137.899362  161.322  129.506654  129.798541   157.187422   160.372836   \n",
       "2         NaN      NaN         NaN         NaN          NaN          NaN   \n",
       "3         NaN      NaN         NaN         NaN          NaN          NaN   \n",
       "4         NaN      NaN         NaN         NaN  3238.556850  3498.173652   \n",
       "\n",
       "          1972         1973         1974         1975         1976  \\\n",
       "0          NaN          NaN          NaN          NaN          NaN   \n",
       "1   136.117014   144.110319   174.942038   187.975604   199.026173   \n",
       "2          NaN          NaN          NaN          NaN          NaN   \n",
       "3          NaN          NaN          NaN          NaN          NaN   \n",
       "4  4217.173581  5342.168560  6319.739034  7169.101006  7152.375134   \n",
       "\n",
       "          1977         1978          1979          1980          1981  \\\n",
       "0          NaN          NaN           NaN           NaN           NaN   \n",
       "1   226.005344   249.287386    277.900742    274.880859    266.493042   \n",
       "2          NaN          NaN           NaN    664.117560    600.408766   \n",
       "3          NaN          NaN           NaN           NaN           NaN   \n",
       "4  7751.370216  9129.706185  11820.849390  12377.411650  10372.232830   \n",
       "\n",
       "          1982         1983         1984         1985          1986  \\\n",
       "0          NaN          NaN          NaN          NaN           NaN   \n",
       "1          NaN          NaN          NaN          NaN           NaN   \n",
       "2   579.252001   582.420126   596.602467   711.992700    647.563354   \n",
       "3          NaN          NaN   662.520052   662.914793    719.157296   \n",
       "4  9610.266308  8022.654781  7728.906695  7774.393829  10361.815980   \n",
       "\n",
       "           1987          1988          1989          1990          1991  \\\n",
       "0           NaN           NaN           NaN           NaN           NaN   \n",
       "1           NaN           NaN           NaN           NaN           NaN   \n",
       "2    720.598939    761.618458    862.509058    922.550170    844.691134   \n",
       "3    699.384292    676.566733    723.409610    639.463899    348.711318   \n",
       "4  12616.167570  14304.356960  15166.437850  18878.505970  19532.540150   \n",
       "\n",
       "           1992          1993          1994          1995          1996  \\\n",
       "0           NaN           NaN  17342.471940  16441.790640  16585.195530   \n",
       "1           NaN           NaN           NaN           NaN           NaN   \n",
       "2    640.622298    430.381595    320.657792    388.166766    512.620966   \n",
       "3    218.492166    380.527371    619.065163    760.559376   1046.358511   \n",
       "4  20547.711790  16516.471030  16234.809010  18461.064860  19017.174590   \n",
       "\n",
       "           1997          1998          1999          2000          2001  \\\n",
       "0  17926.572840  19081.351660  19356.203390  20620.700630  20670.655660   \n",
       "1           NaN           NaN           NaN           NaN    117.409691   \n",
       "2    506.884952    419.639845    385.768854    555.296942    526.168743   \n",
       "3    749.584649    865.302162   1098.425463   1175.788981   1326.970339   \n",
       "4  18353.059720  18894.521500  19261.710500  21936.530100  22228.846490   \n",
       "\n",
       "           2002          2003          2004          2005          2006  \\\n",
       "0  20434.299440  20834.510200  22567.824920  23302.831990  24014.944270   \n",
       "1    187.845095    198.728544    219.141353    250.294130    272.563077   \n",
       "2    711.181789    779.468317   1041.087109   1443.991924   2062.415212   \n",
       "3   1453.642777   1890.681557   2416.588235   2709.142931   3005.012903   \n",
       "4  24741.493570  32776.442270  38503.479610  41282.020120  43748.772160   \n",
       "\n",
       "           2007          2008          2009          2010          2011  \\\n",
       "0  25921.026050  27546.899390  24631.434860  24271.940420  25324.720360   \n",
       "1    369.835796    373.361116    445.893298    553.300289    603.537023   \n",
       "2   2878.837305   3868.579014   3347.844900   3531.416878   4299.008136   \n",
       "3   3603.013685   4370.539647   4114.136545   4094.358832   4437.178068   \n",
       "4  48582.808460  47785.659090  43339.379870  39736.354060  41098.766940   \n",
       "\n",
       "           2012          2013          2014          2015          2016  \\\n",
       "0           NaN           NaN  25300.000000           NaN           NaN   \n",
       "1    669.009051    638.612543    629.345250    569.577923    561.778746   \n",
       "2   4539.467689   4804.633826   4707.578098   3683.552607   3308.772828   \n",
       "3   4247.614308   4413.081697   4578.666728   3952.830781   4131.872341   \n",
       "4  38391.080870  40619.711300  42294.994730  36038.267600  37231.815670   \n",
       "\n",
       "           2017  \n",
       "0           NaN  \n",
       "1    585.850064  \n",
       "2   4170.312280  \n",
       "3   4537.862492  \n",
       "4  39146.548840  "
      ]
     },
     "execution_count": 26,
     "metadata": {},
     "output_type": "execute_result"
    }
   ],
   "source": [
    "df_GDP_cap_raw.head()"
   ]
  },
  {
   "cell_type": "code",
   "execution_count": 27,
   "metadata": {},
   "outputs": [
    {
     "name": "stdout",
     "output_type": "stream",
     "text": [
      "30\n",
      "23\n",
      "18\n",
      "9\n",
      "16\n",
      "17\n"
     ]
    }
   ],
   "source": [
    "print(df_GDP_tot_raw['2017'].isna().sum())\n",
    "print(df_GDP_tot_raw['2016'].isna().sum())\n",
    "print(df_GDP_tot_raw['2015'].isna().sum())\n",
    "print(df_GDP_tot_raw['2014'].isna().sum())\n",
    "print(df_GDP_tot_raw['2013'].isna().sum())\n",
    "print(df_GDP_tot_raw['2012'].isna().sum())"
   ]
  },
  {
   "cell_type": "code",
   "execution_count": 28,
   "metadata": {},
   "outputs": [],
   "source": [
    "df_GDP_cap=df_GDP_cap_raw[['Country Name','2014']].copy()\n",
    "df_GDP_cap.columns = ['countries', 'GDP_cap']\n",
    "#df_GDP_cap"
   ]
  },
  {
   "cell_type": "code",
   "execution_count": 29,
   "metadata": {
    "scrolled": true
   },
   "outputs": [
    {
     "name": "stdout",
     "output_type": "stream",
     "text": [
      "Number of countries without GDP in the database:  Empty DataFrame\n",
      "Columns: [countries, GDP_cap, n_companies]\n",
      "Index: []\n"
     ]
    },
    {
     "data": {
      "text/html": [
       "<div>\n",
       "<style scoped>\n",
       "    .dataframe tbody tr th:only-of-type {\n",
       "        vertical-align: middle;\n",
       "    }\n",
       "\n",
       "    .dataframe tbody tr th {\n",
       "        vertical-align: top;\n",
       "    }\n",
       "\n",
       "    .dataframe thead th {\n",
       "        text-align: right;\n",
       "    }\n",
       "</style>\n",
       "<table border=\"1\" class=\"dataframe\">\n",
       "  <thead>\n",
       "    <tr style=\"text-align: right;\">\n",
       "      <th></th>\n",
       "      <th>countries</th>\n",
       "      <th>GDP_cap</th>\n",
       "      <th>n_companies</th>\n",
       "    </tr>\n",
       "  </thead>\n",
       "  <tbody>\n",
       "    <tr>\n",
       "      <th>0</th>\n",
       "      <td>Aruba</td>\n",
       "      <td>25300.000000</td>\n",
       "      <td>27</td>\n",
       "    </tr>\n",
       "    <tr>\n",
       "      <th>1</th>\n",
       "      <td>Angola</td>\n",
       "      <td>4707.578098</td>\n",
       "      <td>10</td>\n",
       "    </tr>\n",
       "    <tr>\n",
       "      <th>2</th>\n",
       "      <td>Albania</td>\n",
       "      <td>4578.666728</td>\n",
       "      <td>2</td>\n",
       "    </tr>\n",
       "    <tr>\n",
       "      <th>3</th>\n",
       "      <td>Andorra</td>\n",
       "      <td>42294.994730</td>\n",
       "      <td>489</td>\n",
       "    </tr>\n",
       "    <tr>\n",
       "      <th>4</th>\n",
       "      <td>United Arab Emirates</td>\n",
       "      <td>44443.061510</td>\n",
       "      <td>7269</td>\n",
       "    </tr>\n",
       "  </tbody>\n",
       "</table>\n",
       "</div>"
      ],
      "text/plain": [
       "              countries       GDP_cap  n_companies\n",
       "0                 Aruba  25300.000000           27\n",
       "1                Angola   4707.578098           10\n",
       "2               Albania   4578.666728            2\n",
       "3               Andorra  42294.994730          489\n",
       "4  United Arab Emirates  44443.061510         7269"
      ]
     },
     "execution_count": 29,
     "metadata": {},
     "output_type": "execute_result"
    }
   ],
   "source": [
    "df_GDP_cap_entities=df_GDP_cap.merge(df_vc, how='inner',left_on='countries', right_on='countries')\n",
    "print('Number of countries without GDP in the database: ',df_GDP_cap_entities[df_GDP_cap_entities['GDP_cap'].isna()])\n",
    "df_GDP_cap_entities.head()"
   ]
  },
  {
   "cell_type": "markdown",
   "metadata": {},
   "source": [
    "## 3) What drives entities to go offshore and consequently how does that affect the country?"
   ]
  },
  {
   "cell_type": "markdown",
   "metadata": {},
   "source": [
    "### Dataframe preparation"
   ]
  },
  {
   "cell_type": "markdown",
   "metadata": {},
   "source": [
    "Firstly a dataframe with the country and the respective number of entities in the Panama Papers is made `country_count`. This is used as a base to subsequentially add information regarding the indicators."
   ]
  },
  {
   "cell_type": "code",
   "execution_count": 30,
   "metadata": {},
   "outputs": [],
   "source": [
    "country_count=pd.DataFrame(df_entity_mod_raw['countries'].value_counts())"
   ]
  },
  {
   "cell_type": "code",
   "execution_count": 31,
   "metadata": {
    "scrolled": true
   },
   "outputs": [],
   "source": [
    "country_count=country_count.rename(columns={'countries': 'n_companies_offshore'})\n",
    "country_count['Country Name']=country_count.index\n",
    "country_count=country_count.reset_index(drop=True)"
   ]
  },
  {
   "cell_type": "code",
   "execution_count": 32,
   "metadata": {},
   "outputs": [
    {
     "data": {
      "text/html": [
       "<div>\n",
       "<style scoped>\n",
       "    .dataframe tbody tr th:only-of-type {\n",
       "        vertical-align: middle;\n",
       "    }\n",
       "\n",
       "    .dataframe tbody tr th {\n",
       "        vertical-align: top;\n",
       "    }\n",
       "\n",
       "    .dataframe thead th {\n",
       "        text-align: right;\n",
       "    }\n",
       "</style>\n",
       "<table border=\"1\" class=\"dataframe\">\n",
       "  <thead>\n",
       "    <tr style=\"text-align: right;\">\n",
       "      <th></th>\n",
       "      <th>n_companies_offshore</th>\n",
       "      <th>Country Name</th>\n",
       "    </tr>\n",
       "  </thead>\n",
       "  <tbody>\n",
       "    <tr>\n",
       "      <th>0</th>\n",
       "      <td>37911</td>\n",
       "      <td>Switzerland</td>\n",
       "    </tr>\n",
       "    <tr>\n",
       "      <th>1</th>\n",
       "      <td>37911</td>\n",
       "      <td>Hong Kong SAR, China</td>\n",
       "    </tr>\n",
       "    <tr>\n",
       "      <th>2</th>\n",
       "      <td>21658</td>\n",
       "      <td>Channel Islands</td>\n",
       "    </tr>\n",
       "    <tr>\n",
       "      <th>3</th>\n",
       "      <td>15811</td>\n",
       "      <td>Panama</td>\n",
       "    </tr>\n",
       "    <tr>\n",
       "      <th>4</th>\n",
       "      <td>10840</td>\n",
       "      <td>Luxembourg</td>\n",
       "    </tr>\n",
       "  </tbody>\n",
       "</table>\n",
       "</div>"
      ],
      "text/plain": [
       "   n_companies_offshore          Country Name\n",
       "0                 37911           Switzerland\n",
       "1                 37911  Hong Kong SAR, China\n",
       "2                 21658       Channel Islands\n",
       "3                 15811                Panama\n",
       "4                 10840            Luxembourg"
      ]
     },
     "execution_count": 32,
     "metadata": {},
     "output_type": "execute_result"
    }
   ],
   "source": [
    "country_count.head()"
   ]
  },
  {
   "cell_type": "markdown",
   "metadata": {},
   "source": [
    "In order to investigate the causes pushing entities to go offshore, the number of entities per country has often to be weighted according to economical size: without doing so, big economies will automatically have a higher number of entities registered in the papers only because they are bigger. Hence GDP and GDP per capita are going to be used as weighting factor for the number of registered entities in papers, n in many analysis: \n",
    "\n",
    "\\begin{equation*}\n",
    "n_{w}=\\frac{n}{GDP_{indicator}}\n",
    "\\end{equation*}"
   ]
  },
  {
   "cell_type": "markdown",
   "metadata": {},
   "source": [
    "Hence dataframes for total GDP (`df_gdp`) and GDP per capita (`df_GDP_capita`) per countries are created and merged with `country_count`; this is not only useful as mentioned above to weight for the different sizes of the economies, but also to distinguish groups of countries according to their economies."
   ]
  },
  {
   "cell_type": "code",
   "execution_count": 33,
   "metadata": {},
   "outputs": [],
   "source": [
    "df_gdp=df_GDP_tot_raw.copy()"
   ]
  },
  {
   "cell_type": "code",
   "execution_count": 34,
   "metadata": {},
   "outputs": [],
   "source": [
    "df_countries_gdp=pd.DataFrame({'Country Name':df_gdp['Country Name'],'GDP':df_gdp.iloc[:,range(-15,0)].mean(axis=1,numeric_only=True)})\n",
    "# print(np.sum(df_countries_gdp['GDP'].isnull()))\n",
    "# df_gdp=df_gdp[df_gdp['GDP'].notnull()]"
   ]
  },
  {
   "cell_type": "markdown",
   "metadata": {},
   "source": [
    "Showing the missing values of GDP"
   ]
  },
  {
   "cell_type": "code",
   "execution_count": 35,
   "metadata": {},
   "outputs": [
    {
     "data": {
      "text/html": [
       "<div>\n",
       "<style scoped>\n",
       "    .dataframe tbody tr th:only-of-type {\n",
       "        vertical-align: middle;\n",
       "    }\n",
       "\n",
       "    .dataframe tbody tr th {\n",
       "        vertical-align: top;\n",
       "    }\n",
       "\n",
       "    .dataframe thead th {\n",
       "        text-align: right;\n",
       "    }\n",
       "</style>\n",
       "<table border=\"1\" class=\"dataframe\">\n",
       "  <thead>\n",
       "    <tr style=\"text-align: right;\">\n",
       "      <th></th>\n",
       "      <th>Country Name</th>\n",
       "      <th>GDP</th>\n",
       "    </tr>\n",
       "  </thead>\n",
       "  <tbody>\n",
       "    <tr>\n",
       "      <th>49</th>\n",
       "      <td>Curacao</td>\n",
       "      <td>NaN</td>\n",
       "    </tr>\n",
       "    <tr>\n",
       "      <th>108</th>\n",
       "      <td>Not classified</td>\n",
       "      <td>NaN</td>\n",
       "    </tr>\n",
       "    <tr>\n",
       "      <th>145</th>\n",
       "      <td>St. Martin (French part)</td>\n",
       "      <td>NaN</td>\n",
       "    </tr>\n",
       "    <tr>\n",
       "      <th>170</th>\n",
       "      <td>New Caledonia</td>\n",
       "      <td>NaN</td>\n",
       "    </tr>\n",
       "    <tr>\n",
       "      <th>191</th>\n",
       "      <td>Korea, Dem. People?s Rep.</td>\n",
       "      <td>NaN</td>\n",
       "    </tr>\n",
       "    <tr>\n",
       "      <th>197</th>\n",
       "      <td>French Polynesia</td>\n",
       "      <td>NaN</td>\n",
       "    </tr>\n",
       "  </tbody>\n",
       "</table>\n",
       "</div>"
      ],
      "text/plain": [
       "                  Country Name  GDP\n",
       "49                     Curacao  NaN\n",
       "108             Not classified  NaN\n",
       "145   St. Martin (French part)  NaN\n",
       "170              New Caledonia  NaN\n",
       "191  Korea, Dem. People?s Rep.  NaN\n",
       "197           French Polynesia  NaN"
      ]
     },
     "execution_count": 35,
     "metadata": {},
     "output_type": "execute_result"
    }
   ],
   "source": [
    "df_countries_gdp[df_countries_gdp['GDP'].isnull()]"
   ]
  },
  {
   "cell_type": "code",
   "execution_count": 36,
   "metadata": {},
   "outputs": [],
   "source": [
    "df_gdp_capita=df_GDP_cap_raw.copy()"
   ]
  },
  {
   "cell_type": "code",
   "execution_count": 37,
   "metadata": {},
   "outputs": [],
   "source": [
    "df_countries_gdp_capita=pd.DataFrame({'Country Name':df_gdp_capita['Country Name'],'GDP':df_gdp_capita.iloc[:,range(-15,0)].mean(axis=1,numeric_only=True)})"
   ]
  },
  {
   "cell_type": "markdown",
   "metadata": {},
   "source": [
    "Before starting the analysis is fundamantal to check which countries don't have total GDP values"
   ]
  },
  {
   "cell_type": "code",
   "execution_count": 38,
   "metadata": {},
   "outputs": [
    {
     "data": {
      "text/html": [
       "<div>\n",
       "<style scoped>\n",
       "    .dataframe tbody tr th:only-of-type {\n",
       "        vertical-align: middle;\n",
       "    }\n",
       "\n",
       "    .dataframe tbody tr th {\n",
       "        vertical-align: top;\n",
       "    }\n",
       "\n",
       "    .dataframe thead th {\n",
       "        text-align: right;\n",
       "    }\n",
       "</style>\n",
       "<table border=\"1\" class=\"dataframe\">\n",
       "  <thead>\n",
       "    <tr style=\"text-align: right;\">\n",
       "      <th></th>\n",
       "      <th>Country Name</th>\n",
       "      <th>GDP</th>\n",
       "    </tr>\n",
       "  </thead>\n",
       "  <tbody>\n",
       "    <tr>\n",
       "      <th>49</th>\n",
       "      <td>Curacao</td>\n",
       "      <td>NaN</td>\n",
       "    </tr>\n",
       "    <tr>\n",
       "      <th>108</th>\n",
       "      <td>Not classified</td>\n",
       "      <td>NaN</td>\n",
       "    </tr>\n",
       "    <tr>\n",
       "      <th>145</th>\n",
       "      <td>St. Martin (French part)</td>\n",
       "      <td>NaN</td>\n",
       "    </tr>\n",
       "    <tr>\n",
       "      <th>170</th>\n",
       "      <td>New Caledonia</td>\n",
       "      <td>NaN</td>\n",
       "    </tr>\n",
       "    <tr>\n",
       "      <th>191</th>\n",
       "      <td>Korea, Dem. People?s Rep.</td>\n",
       "      <td>NaN</td>\n",
       "    </tr>\n",
       "    <tr>\n",
       "      <th>197</th>\n",
       "      <td>French Polynesia</td>\n",
       "      <td>NaN</td>\n",
       "    </tr>\n",
       "  </tbody>\n",
       "</table>\n",
       "</div>"
      ],
      "text/plain": [
       "                  Country Name  GDP\n",
       "49                     Curacao  NaN\n",
       "108             Not classified  NaN\n",
       "145   St. Martin (French part)  NaN\n",
       "170              New Caledonia  NaN\n",
       "191  Korea, Dem. People?s Rep.  NaN\n",
       "197           French Polynesia  NaN"
      ]
     },
     "execution_count": 38,
     "metadata": {},
     "output_type": "execute_result"
    }
   ],
   "source": [
    "df_countries_gdp_capita[df_countries_gdp_capita['GDP'].isnull()]"
   ]
  },
  {
   "cell_type": "code",
   "execution_count": 39,
   "metadata": {},
   "outputs": [],
   "source": [
    "# count in panama papers and gdp is merged in one dataframe\n",
    "country_count_gdp=country_count.merge(df_countries_gdp, how='outer',left_on='Country Name', right_on='Country Name')"
   ]
  },
  {
   "cell_type": "code",
   "execution_count": 40,
   "metadata": {},
   "outputs": [],
   "source": [
    "# count in panama papers and gdp per capita is merged in one dataframe\n",
    "country_count_gdp=country_count_gdp.merge(df_countries_gdp_capita, how='outer',left_on='Country Name', right_on='Country Name')"
   ]
  },
  {
   "cell_type": "code",
   "execution_count": 41,
   "metadata": {},
   "outputs": [
    {
     "data": {
      "text/html": [
       "<div>\n",
       "<style scoped>\n",
       "    .dataframe tbody tr th:only-of-type {\n",
       "        vertical-align: middle;\n",
       "    }\n",
       "\n",
       "    .dataframe tbody tr th {\n",
       "        vertical-align: top;\n",
       "    }\n",
       "\n",
       "    .dataframe thead th {\n",
       "        text-align: right;\n",
       "    }\n",
       "</style>\n",
       "<table border=\"1\" class=\"dataframe\">\n",
       "  <thead>\n",
       "    <tr style=\"text-align: right;\">\n",
       "      <th></th>\n",
       "      <th>n_companies_offshore</th>\n",
       "      <th>Country Name</th>\n",
       "      <th>GDP_x</th>\n",
       "      <th>GDP_y</th>\n",
       "    </tr>\n",
       "  </thead>\n",
       "  <tbody>\n",
       "    <tr>\n",
       "      <th>0</th>\n",
       "      <td>37911.0</td>\n",
       "      <td>Switzerland</td>\n",
       "      <td>5.693333e+11</td>\n",
       "      <td>72018.654377</td>\n",
       "    </tr>\n",
       "    <tr>\n",
       "      <th>1</th>\n",
       "      <td>37911.0</td>\n",
       "      <td>Hong Kong SAR, China</td>\n",
       "      <td>2.420000e+11</td>\n",
       "      <td>34139.405171</td>\n",
       "    </tr>\n",
       "    <tr>\n",
       "      <th>2</th>\n",
       "      <td>21658.0</td>\n",
       "      <td>Channel Islands</td>\n",
       "      <td>9.180788e+09</td>\n",
       "      <td>59422.543726</td>\n",
       "    </tr>\n",
       "    <tr>\n",
       "      <th>3</th>\n",
       "      <td>15811.0</td>\n",
       "      <td>Panama</td>\n",
       "      <td>3.405630e+10</td>\n",
       "      <td>9062.889846</td>\n",
       "    </tr>\n",
       "    <tr>\n",
       "      <th>4</th>\n",
       "      <td>10840.0</td>\n",
       "      <td>Luxembourg</td>\n",
       "      <td>5.192631e+10</td>\n",
       "      <td>100087.833141</td>\n",
       "    </tr>\n",
       "  </tbody>\n",
       "</table>\n",
       "</div>"
      ],
      "text/plain": [
       "   n_companies_offshore          Country Name         GDP_x          GDP_y\n",
       "0               37911.0           Switzerland  5.693333e+11   72018.654377\n",
       "1               37911.0  Hong Kong SAR, China  2.420000e+11   34139.405171\n",
       "2               21658.0       Channel Islands  9.180788e+09   59422.543726\n",
       "3               15811.0                Panama  3.405630e+10    9062.889846\n",
       "4               10840.0            Luxembourg  5.192631e+10  100087.833141"
      ]
     },
     "execution_count": 41,
     "metadata": {},
     "output_type": "execute_result"
    }
   ],
   "source": [
    "country_count_gdp.head()"
   ]
  },
  {
   "cell_type": "markdown",
   "metadata": {},
   "source": [
    "Before starting the analysis is also important to check which countries don't have per capita GDP values. Except for Taiwan, the other countries didn't have a large presence in the papers so they were discarded."
   ]
  },
  {
   "cell_type": "code",
   "execution_count": 42,
   "metadata": {},
   "outputs": [
    {
     "data": {
      "text/plain": [
       "16                        Taiwan\n",
       "40                          Niue\n",
       "80                       Curacao\n",
       "139                 Cook Islands\n",
       "200               Not classified\n",
       "213     St. Martin (French part)\n",
       "225                New Caledonia\n",
       "233    Korea, Dem. People?s Rep.\n",
       "237             French Polynesia\n",
       "Name: Country Name, dtype: object"
      ]
     },
     "execution_count": 42,
     "metadata": {},
     "output_type": "execute_result"
    }
   ],
   "source": [
    "country_count_gdp['Country Name'][country_count_gdp['GDP_y'].isna()]"
   ]
  },
  {
   "cell_type": "markdown",
   "metadata": {},
   "source": [
    "### Corporate Tax Rate"
   ]
  },
  {
   "cell_type": "markdown",
   "metadata": {},
   "source": [
    "It is probable that entities from all over the world are firstly influenced to go set their businesses already in countries which offer particularly good business conditions such as Switzlerand, Panama, the Channel Islands (Jersey and Guernsey), Luxemburg, the Cayman Islands, Lichteinstein, Singapore and Monaco, Isle of Man and Gibraltar. These countries are known for being small and very developped with high income per capita, but also to often be tax havens. \n",
    "\n",
    "\n",
    "Hence, on the one hand it is crucial to understand what are these business conditions (economic and bureaucratic) that make this set of countries the optimum place to do business, but also to easily go offshore and on the other hand what are the economic and bureaucratic causes which influence entities in the other countries to go offshore. "
   ]
  },
  {
   "cell_type": "markdown",
   "metadata": {},
   "source": [
    "The first factor which is going to be investigated is corporate Tax Rate; in other words it is going to be investigated whether or not having a high corporate tax rate influence entities and especially companies to go offshore in jurisdictions offering them important advantages in terms of tax savings."
   ]
  },
  {
   "cell_type": "markdown",
   "metadata": {},
   "source": [
    "Firstly the sparsity of the data is checked by querying what is the year with the highest number of data."
   ]
  },
  {
   "cell_type": "code",
   "execution_count": 43,
   "metadata": {},
   "outputs": [
    {
     "name": "stdout",
     "output_type": "stream",
     "text": [
      "Year with most data is 2010\n"
     ]
    }
   ],
   "source": [
    "years=range(1990, 2018)\n",
    "years_count=np.array([])\n",
    "\n",
    "for year in years:\n",
    "    \n",
    "    years_count=np.append(years_count,df_tax_rate[str(year)].notnull().sum())\n",
    "print ('Year with most data is', years[np.argmax(years_count)])"
   ]
  },
  {
   "cell_type": "markdown",
   "metadata": {},
   "source": [
    "In order to fully exploit the data, the average tax rate for each country is computed over a time frame of 15 years; hence it is assumed that any change in corporate tax in this time range has not affected the number of entities going offshore in this time range."
   ]
  },
  {
   "cell_type": "code",
   "execution_count": 44,
   "metadata": {},
   "outputs": [],
   "source": [
    "df_countries_tax=pd.DataFrame({'Country Name':df_tax_rate['Country Name'],'Tax Rate':df_tax_rate.iloc[:,range(-15,0)].mean(axis=1,numeric_only=True)})"
   ]
  },
  {
   "cell_type": "code",
   "execution_count": 45,
   "metadata": {},
   "outputs": [
    {
     "data": {
      "text/html": [
       "<div>\n",
       "<style scoped>\n",
       "    .dataframe tbody tr th:only-of-type {\n",
       "        vertical-align: middle;\n",
       "    }\n",
       "\n",
       "    .dataframe tbody tr th {\n",
       "        vertical-align: top;\n",
       "    }\n",
       "\n",
       "    .dataframe thead th {\n",
       "        text-align: right;\n",
       "    }\n",
       "</style>\n",
       "<table border=\"1\" class=\"dataframe\">\n",
       "  <thead>\n",
       "    <tr style=\"text-align: right;\">\n",
       "      <th></th>\n",
       "      <th>Country Name</th>\n",
       "      <th>Tax Rate</th>\n",
       "    </tr>\n",
       "  </thead>\n",
       "  <tbody>\n",
       "    <tr>\n",
       "      <th>0</th>\n",
       "      <td>Aruba</td>\n",
       "      <td>NaN</td>\n",
       "    </tr>\n",
       "    <tr>\n",
       "      <th>1</th>\n",
       "      <td>Afghanistan</td>\n",
       "      <td>3.718429</td>\n",
       "    </tr>\n",
       "    <tr>\n",
       "      <th>2</th>\n",
       "      <td>Angola</td>\n",
       "      <td>40.648405</td>\n",
       "    </tr>\n",
       "    <tr>\n",
       "      <th>3</th>\n",
       "      <td>Albania</td>\n",
       "      <td>14.046091</td>\n",
       "    </tr>\n",
       "    <tr>\n",
       "      <th>4</th>\n",
       "      <td>Andorra</td>\n",
       "      <td>NaN</td>\n",
       "    </tr>\n",
       "  </tbody>\n",
       "</table>\n",
       "</div>"
      ],
      "text/plain": [
       "  Country Name   Tax Rate\n",
       "0        Aruba        NaN\n",
       "1  Afghanistan   3.718429\n",
       "2       Angola  40.648405\n",
       "3      Albania  14.046091\n",
       "4      Andorra        NaN"
      ]
     },
     "execution_count": 45,
     "metadata": {},
     "output_type": "execute_result"
    }
   ],
   "source": [
    "df_countries_tax.head()"
   ]
  },
  {
   "cell_type": "markdown",
   "metadata": {},
   "source": [
    "A dataset with tax rate and number of companies registered in the panama papers is made."
   ]
  },
  {
   "cell_type": "code",
   "execution_count": 46,
   "metadata": {},
   "outputs": [],
   "source": [
    "country_count_tax_rate=country_count_gdp.merge(df_countries_tax, how='outer',left_on='Country Name', right_on='Country Name')"
   ]
  },
  {
   "cell_type": "markdown",
   "metadata": {},
   "source": [
    "Then for countries having a presence in Panama Papers higher than 1000 whose tax rate was missing the, an ad hoc research was done; hence individual values of corporate tax rates were added for the countries listed below since they had a consistent proportion of entities offshore."
   ]
  },
  {
   "cell_type": "code",
   "execution_count": 47,
   "metadata": {
    "scrolled": true
   },
   "outputs": [
    {
     "data": {
      "text/html": [
       "<div>\n",
       "<style scoped>\n",
       "    .dataframe tbody tr th:only-of-type {\n",
       "        vertical-align: middle;\n",
       "    }\n",
       "\n",
       "    .dataframe tbody tr th {\n",
       "        vertical-align: top;\n",
       "    }\n",
       "\n",
       "    .dataframe thead th {\n",
       "        text-align: right;\n",
       "    }\n",
       "</style>\n",
       "<table border=\"1\" class=\"dataframe\">\n",
       "  <thead>\n",
       "    <tr style=\"text-align: right;\">\n",
       "      <th></th>\n",
       "      <th>n_companies_offshore</th>\n",
       "      <th>Country Name</th>\n",
       "      <th>GDP_x</th>\n",
       "      <th>GDP_y</th>\n",
       "      <th>Tax Rate</th>\n",
       "    </tr>\n",
       "  </thead>\n",
       "  <tbody>\n",
       "    <tr>\n",
       "      <th>1</th>\n",
       "      <td>37911.0</td>\n",
       "      <td>Hong Kong SAR, China</td>\n",
       "      <td>2.420000e+11</td>\n",
       "      <td>34139.405171</td>\n",
       "      <td>NaN</td>\n",
       "    </tr>\n",
       "    <tr>\n",
       "      <th>2</th>\n",
       "      <td>21658.0</td>\n",
       "      <td>Channel Islands</td>\n",
       "      <td>9.180788e+09</td>\n",
       "      <td>59422.543726</td>\n",
       "      <td>NaN</td>\n",
       "    </tr>\n",
       "    <tr>\n",
       "      <th>3</th>\n",
       "      <td>15811.0</td>\n",
       "      <td>Panama</td>\n",
       "      <td>3.405630e+10</td>\n",
       "      <td>9062.889846</td>\n",
       "      <td>NaN</td>\n",
       "    </tr>\n",
       "    <tr>\n",
       "      <th>6</th>\n",
       "      <td>7269.0</td>\n",
       "      <td>United Arab Emirates</td>\n",
       "      <td>2.939333e+11</td>\n",
       "      <td>39757.577518</td>\n",
       "      <td>NaN</td>\n",
       "    </tr>\n",
       "    <tr>\n",
       "      <th>7</th>\n",
       "      <td>4984.0</td>\n",
       "      <td>Bahamas, The</td>\n",
       "      <td>1.048800e+10</td>\n",
       "      <td>29218.051776</td>\n",
       "      <td>NaN</td>\n",
       "    </tr>\n",
       "    <tr>\n",
       "      <th>9</th>\n",
       "      <td>4892.0</td>\n",
       "      <td>Isle of Man</td>\n",
       "      <td>5.216144e+09</td>\n",
       "      <td>65308.380697</td>\n",
       "      <td>NaN</td>\n",
       "    </tr>\n",
       "    <tr>\n",
       "      <th>14</th>\n",
       "      <td>3168.0</td>\n",
       "      <td>Monaco</td>\n",
       "      <td>5.301932e+09</td>\n",
       "      <td>148406.483360</td>\n",
       "      <td>NaN</td>\n",
       "    </tr>\n",
       "    <tr>\n",
       "      <th>16</th>\n",
       "      <td>2725.0</td>\n",
       "      <td>Taiwan</td>\n",
       "      <td>NaN</td>\n",
       "      <td>NaN</td>\n",
       "      <td>NaN</td>\n",
       "    </tr>\n",
       "    <tr>\n",
       "      <th>17</th>\n",
       "      <td>2066.0</td>\n",
       "      <td>Liechtenstein</td>\n",
       "      <td>4.922173e+09</td>\n",
       "      <td>136708.283262</td>\n",
       "      <td>NaN</td>\n",
       "    </tr>\n",
       "    <tr>\n",
       "      <th>18</th>\n",
       "      <td>2039.0</td>\n",
       "      <td>Gibraltar</td>\n",
       "      <td>2.288000e+09</td>\n",
       "      <td>92843.000000</td>\n",
       "      <td>NaN</td>\n",
       "    </tr>\n",
       "    <tr>\n",
       "      <th>20</th>\n",
       "      <td>1852.0</td>\n",
       "      <td>Ecuador</td>\n",
       "      <td>7.116096e+10</td>\n",
       "      <td>4670.940109</td>\n",
       "      <td>NaN</td>\n",
       "    </tr>\n",
       "    <tr>\n",
       "      <th>29</th>\n",
       "      <td>1107.0</td>\n",
       "      <td>British Virgin Islands</td>\n",
       "      <td>8.500000e+08</td>\n",
       "      <td>34200.000000</td>\n",
       "      <td>NaN</td>\n",
       "    </tr>\n",
       "    <tr>\n",
       "      <th>33</th>\n",
       "      <td>749.0</td>\n",
       "      <td>Venezuela, RB</td>\n",
       "      <td>2.786351e+11</td>\n",
       "      <td>9643.834470</td>\n",
       "      <td>NaN</td>\n",
       "    </tr>\n",
       "    <tr>\n",
       "      <th>37</th>\n",
       "      <td>489.0</td>\n",
       "      <td>Andorra</td>\n",
       "      <td>3.274308e+09</td>\n",
       "      <td>40705.073439</td>\n",
       "      <td>NaN</td>\n",
       "    </tr>\n",
       "    <tr>\n",
       "      <th>40</th>\n",
       "      <td>372.0</td>\n",
       "      <td>Niue</td>\n",
       "      <td>NaN</td>\n",
       "      <td>NaN</td>\n",
       "      <td>NaN</td>\n",
       "    </tr>\n",
       "    <tr>\n",
       "      <th>53</th>\n",
       "      <td>165.0</td>\n",
       "      <td>Bermuda</td>\n",
       "      <td>5.418704e+09</td>\n",
       "      <td>84080.952572</td>\n",
       "      <td>NaN</td>\n",
       "    </tr>\n",
       "    <tr>\n",
       "      <th>58</th>\n",
       "      <td>106.0</td>\n",
       "      <td>Saudi Arabia</td>\n",
       "      <td>5.310667e+11</td>\n",
       "      <td>18780.275229</td>\n",
       "      <td>NaN</td>\n",
       "    </tr>\n",
       "    <tr>\n",
       "      <th>59</th>\n",
       "      <td>106.0</td>\n",
       "      <td>Cayman Islands</td>\n",
       "      <td>3.343516e+09</td>\n",
       "      <td>61454.453850</td>\n",
       "      <td>NaN</td>\n",
       "    </tr>\n",
       "    <tr>\n",
       "      <th>80</th>\n",
       "      <td>30.0</td>\n",
       "      <td>Curacao</td>\n",
       "      <td>NaN</td>\n",
       "      <td>NaN</td>\n",
       "      <td>NaN</td>\n",
       "    </tr>\n",
       "    <tr>\n",
       "      <th>82</th>\n",
       "      <td>27.0</td>\n",
       "      <td>Aruba</td>\n",
       "      <td>2.448485e+09</td>\n",
       "      <td>24371.613246</td>\n",
       "      <td>NaN</td>\n",
       "    </tr>\n",
       "    <tr>\n",
       "      <th>99</th>\n",
       "      <td>13.0</td>\n",
       "      <td>Montenegro</td>\n",
       "      <td>3.744278e+09</td>\n",
       "      <td>6047.078341</td>\n",
       "      <td>NaN</td>\n",
       "    </tr>\n",
       "    <tr>\n",
       "      <th>101</th>\n",
       "      <td>12.0</td>\n",
       "      <td>Turks and Caicos Islands</td>\n",
       "      <td>7.970000e+08</td>\n",
       "      <td>23614.700000</td>\n",
       "      <td>NaN</td>\n",
       "    </tr>\n",
       "    <tr>\n",
       "      <th>102</th>\n",
       "      <td>11.0</td>\n",
       "      <td>Cuba</td>\n",
       "      <td>6.172130e+10</td>\n",
       "      <td>5436.011173</td>\n",
       "      <td>NaN</td>\n",
       "    </tr>\n",
       "    <tr>\n",
       "      <th>103</th>\n",
       "      <td>11.0</td>\n",
       "      <td>Chad</td>\n",
       "      <td>9.459857e+09</td>\n",
       "      <td>775.479075</td>\n",
       "      <td>NaN</td>\n",
       "    </tr>\n",
       "    <tr>\n",
       "      <th>108</th>\n",
       "      <td>8.0</td>\n",
       "      <td>Haiti</td>\n",
       "      <td>6.596333e+09</td>\n",
       "      <td>651.523451</td>\n",
       "      <td>NaN</td>\n",
       "    </tr>\n",
       "    <tr>\n",
       "      <th>118</th>\n",
       "      <td>4.0</td>\n",
       "      <td>Virgin Islands (U.S.)</td>\n",
       "      <td>4.098231e+09</td>\n",
       "      <td>37851.617395</td>\n",
       "      <td>NaN</td>\n",
       "    </tr>\n",
       "    <tr>\n",
       "      <th>129</th>\n",
       "      <td>3.0</td>\n",
       "      <td>Tanzania</td>\n",
       "      <td>3.197194e+10</td>\n",
       "      <td>680.902586</td>\n",
       "      <td>NaN</td>\n",
       "    </tr>\n",
       "    <tr>\n",
       "      <th>135</th>\n",
       "      <td>2.0</td>\n",
       "      <td>Libya</td>\n",
       "      <td>5.265850e+10</td>\n",
       "      <td>8663.706564</td>\n",
       "      <td>NaN</td>\n",
       "    </tr>\n",
       "    <tr>\n",
       "      <th>139</th>\n",
       "      <td>1.0</td>\n",
       "      <td>Cook Islands</td>\n",
       "      <td>NaN</td>\n",
       "      <td>NaN</td>\n",
       "      <td>NaN</td>\n",
       "    </tr>\n",
       "    <tr>\n",
       "      <th>140</th>\n",
       "      <td>1.0</td>\n",
       "      <td>American Samoa</td>\n",
       "      <td>5.852857e+08</td>\n",
       "      <td>10336.317596</td>\n",
       "      <td>NaN</td>\n",
       "    </tr>\n",
       "    <tr>\n",
       "      <th>...</th>\n",
       "      <td>...</td>\n",
       "      <td>...</td>\n",
       "      <td>...</td>\n",
       "      <td>...</td>\n",
       "      <td>...</td>\n",
       "    </tr>\n",
       "    <tr>\n",
       "      <th>152</th>\n",
       "      <td>1.0</td>\n",
       "      <td>Nauru</td>\n",
       "      <td>7.926333e+07</td>\n",
       "      <td>6983.961425</td>\n",
       "      <td>NaN</td>\n",
       "    </tr>\n",
       "    <tr>\n",
       "      <th>153</th>\n",
       "      <td>1.0</td>\n",
       "      <td>Brunei Darussalam</td>\n",
       "      <td>1.304916e+10</td>\n",
       "      <td>33225.774995</td>\n",
       "      <td>NaN</td>\n",
       "    </tr>\n",
       "    <tr>\n",
       "      <th>154</th>\n",
       "      <td>1.0</td>\n",
       "      <td>Guam</td>\n",
       "      <td>4.784571e+09</td>\n",
       "      <td>29936.964221</td>\n",
       "      <td>NaN</td>\n",
       "    </tr>\n",
       "    <tr>\n",
       "      <th>168</th>\n",
       "      <td>NaN</td>\n",
       "      <td>Comoros</td>\n",
       "      <td>5.178151e+08</td>\n",
       "      <td>740.085314</td>\n",
       "      <td>NaN</td>\n",
       "    </tr>\n",
       "    <tr>\n",
       "      <th>178</th>\n",
       "      <td>NaN</td>\n",
       "      <td>Eritrea</td>\n",
       "      <td>1.507614e+09</td>\n",
       "      <td>359.320745</td>\n",
       "      <td>NaN</td>\n",
       "    </tr>\n",
       "    <tr>\n",
       "      <th>181</th>\n",
       "      <td>NaN</td>\n",
       "      <td>Fragile and conflict affected situations</td>\n",
       "      <td>5.914000e+11</td>\n",
       "      <td>1324.119249</td>\n",
       "      <td>NaN</td>\n",
       "    </tr>\n",
       "    <tr>\n",
       "      <th>183</th>\n",
       "      <td>NaN</td>\n",
       "      <td>Faroe Islands</td>\n",
       "      <td>2.219049e+09</td>\n",
       "      <td>45708.100213</td>\n",
       "      <td>NaN</td>\n",
       "    </tr>\n",
       "    <tr>\n",
       "      <th>185</th>\n",
       "      <td>NaN</td>\n",
       "      <td>Gabon</td>\n",
       "      <td>1.351101e+10</td>\n",
       "      <td>8064.070913</td>\n",
       "      <td>NaN</td>\n",
       "    </tr>\n",
       "    <tr>\n",
       "      <th>186</th>\n",
       "      <td>NaN</td>\n",
       "      <td>Guinea</td>\n",
       "      <td>6.695412e+09</td>\n",
       "      <td>602.861114</td>\n",
       "      <td>NaN</td>\n",
       "    </tr>\n",
       "    <tr>\n",
       "      <th>188</th>\n",
       "      <td>NaN</td>\n",
       "      <td>Guinea-Bissau</td>\n",
       "      <td>8.790480e+08</td>\n",
       "      <td>549.627905</td>\n",
       "      <td>NaN</td>\n",
       "    </tr>\n",
       "    <tr>\n",
       "      <th>191</th>\n",
       "      <td>NaN</td>\n",
       "      <td>Greenland</td>\n",
       "      <td>2.361167e+09</td>\n",
       "      <td>41742.813130</td>\n",
       "      <td>NaN</td>\n",
       "    </tr>\n",
       "    <tr>\n",
       "      <th>192</th>\n",
       "      <td>NaN</td>\n",
       "      <td>Guyana</td>\n",
       "      <td>2.243935e+09</td>\n",
       "      <td>2958.580931</td>\n",
       "      <td>NaN</td>\n",
       "    </tr>\n",
       "    <tr>\n",
       "      <th>200</th>\n",
       "      <td>NaN</td>\n",
       "      <td>Not classified</td>\n",
       "      <td>NaN</td>\n",
       "      <td>NaN</td>\n",
       "      <td>NaN</td>\n",
       "    </tr>\n",
       "    <tr>\n",
       "      <th>209</th>\n",
       "      <td>NaN</td>\n",
       "      <td>Low income</td>\n",
       "      <td>3.788667e+11</td>\n",
       "      <td>599.036384</td>\n",
       "      <td>NaN</td>\n",
       "    </tr>\n",
       "    <tr>\n",
       "      <th>213</th>\n",
       "      <td>NaN</td>\n",
       "      <td>St. Martin (French part)</td>\n",
       "      <td>NaN</td>\n",
       "      <td>NaN</td>\n",
       "      <td>NaN</td>\n",
       "    </tr>\n",
       "    <tr>\n",
       "      <th>222</th>\n",
       "      <td>NaN</td>\n",
       "      <td>Northern Mariana Islands</td>\n",
       "      <td>9.470714e+08</td>\n",
       "      <td>16270.951050</td>\n",
       "      <td>NaN</td>\n",
       "    </tr>\n",
       "    <tr>\n",
       "      <th>223</th>\n",
       "      <td>NaN</td>\n",
       "      <td>Mauritania</td>\n",
       "      <td>4.006680e+09</td>\n",
       "      <td>1075.719022</td>\n",
       "      <td>NaN</td>\n",
       "    </tr>\n",
       "    <tr>\n",
       "      <th>225</th>\n",
       "      <td>NaN</td>\n",
       "      <td>New Caledonia</td>\n",
       "      <td>NaN</td>\n",
       "      <td>NaN</td>\n",
       "      <td>NaN</td>\n",
       "    </tr>\n",
       "    <tr>\n",
       "      <th>226</th>\n",
       "      <td>NaN</td>\n",
       "      <td>Niger</td>\n",
       "      <td>5.724899e+09</td>\n",
       "      <td>334.450906</td>\n",
       "      <td>NaN</td>\n",
       "    </tr>\n",
       "    <tr>\n",
       "      <th>233</th>\n",
       "      <td>NaN</td>\n",
       "      <td>Korea, Dem. People?s Rep.</td>\n",
       "      <td>NaN</td>\n",
       "      <td>NaN</td>\n",
       "      <td>NaN</td>\n",
       "    </tr>\n",
       "    <tr>\n",
       "      <th>235</th>\n",
       "      <td>NaN</td>\n",
       "      <td>Pacific island small states</td>\n",
       "      <td>6.992216e+09</td>\n",
       "      <td>3124.243412</td>\n",
       "      <td>NaN</td>\n",
       "    </tr>\n",
       "    <tr>\n",
       "      <th>237</th>\n",
       "      <td>NaN</td>\n",
       "      <td>French Polynesia</td>\n",
       "      <td>NaN</td>\n",
       "      <td>NaN</td>\n",
       "      <td>NaN</td>\n",
       "    </tr>\n",
       "    <tr>\n",
       "      <th>243</th>\n",
       "      <td>NaN</td>\n",
       "      <td>Somalia</td>\n",
       "      <td>6.761594e+09</td>\n",
       "      <td>485.656084</td>\n",
       "      <td>NaN</td>\n",
       "    </tr>\n",
       "    <tr>\n",
       "      <th>246</th>\n",
       "      <td>NaN</td>\n",
       "      <td>South Sudan</td>\n",
       "      <td>1.206518e+10</td>\n",
       "      <td>1082.681585</td>\n",
       "      <td>NaN</td>\n",
       "    </tr>\n",
       "    <tr>\n",
       "      <th>255</th>\n",
       "      <td>NaN</td>\n",
       "      <td>Tajikistan</td>\n",
       "      <td>5.474993e+09</td>\n",
       "      <td>691.164807</td>\n",
       "      <td>NaN</td>\n",
       "    </tr>\n",
       "    <tr>\n",
       "      <th>256</th>\n",
       "      <td>NaN</td>\n",
       "      <td>Turkmenistan</td>\n",
       "      <td>2.449236e+10</td>\n",
       "      <td>4621.958350</td>\n",
       "      <td>NaN</td>\n",
       "    </tr>\n",
       "    <tr>\n",
       "      <th>260</th>\n",
       "      <td>NaN</td>\n",
       "      <td>Tonga</td>\n",
       "      <td>3.585680e+08</td>\n",
       "      <td>3436.891825</td>\n",
       "      <td>NaN</td>\n",
       "    </tr>\n",
       "    <tr>\n",
       "      <th>263</th>\n",
       "      <td>NaN</td>\n",
       "      <td>Tuvalu</td>\n",
       "      <td>3.091976e+07</td>\n",
       "      <td>2918.981703</td>\n",
       "      <td>NaN</td>\n",
       "    </tr>\n",
       "    <tr>\n",
       "      <th>266</th>\n",
       "      <td>NaN</td>\n",
       "      <td>Kosovo</td>\n",
       "      <td>5.649724e+09</td>\n",
       "      <td>3175.722361</td>\n",
       "      <td>NaN</td>\n",
       "    </tr>\n",
       "    <tr>\n",
       "      <th>267</th>\n",
       "      <td>NaN</td>\n",
       "      <td>Korea, Dem. People’s Rep.</td>\n",
       "      <td>NaN</td>\n",
       "      <td>NaN</td>\n",
       "      <td>NaN</td>\n",
       "    </tr>\n",
       "  </tbody>\n",
       "</table>\n",
       "<p>66 rows × 5 columns</p>\n",
       "</div>"
      ],
      "text/plain": [
       "     n_companies_offshore                              Country Name  \\\n",
       "1                 37911.0                      Hong Kong SAR, China   \n",
       "2                 21658.0                           Channel Islands   \n",
       "3                 15811.0                                    Panama   \n",
       "6                  7269.0                      United Arab Emirates   \n",
       "7                  4984.0                              Bahamas, The   \n",
       "9                  4892.0                               Isle of Man   \n",
       "14                 3168.0                                    Monaco   \n",
       "16                 2725.0                                    Taiwan   \n",
       "17                 2066.0                             Liechtenstein   \n",
       "18                 2039.0                                 Gibraltar   \n",
       "20                 1852.0                                   Ecuador   \n",
       "29                 1107.0                    British Virgin Islands   \n",
       "33                  749.0                             Venezuela, RB   \n",
       "37                  489.0                                   Andorra   \n",
       "40                  372.0                                      Niue   \n",
       "53                  165.0                                   Bermuda   \n",
       "58                  106.0                              Saudi Arabia   \n",
       "59                  106.0                            Cayman Islands   \n",
       "80                   30.0                                   Curacao   \n",
       "82                   27.0                                     Aruba   \n",
       "99                   13.0                                Montenegro   \n",
       "101                  12.0                  Turks and Caicos Islands   \n",
       "102                  11.0                                      Cuba   \n",
       "103                  11.0                                      Chad   \n",
       "108                   8.0                                     Haiti   \n",
       "118                   4.0                     Virgin Islands (U.S.)   \n",
       "129                   3.0                                  Tanzania   \n",
       "135                   2.0                                     Libya   \n",
       "139                   1.0                              Cook Islands   \n",
       "140                   1.0                            American Samoa   \n",
       "..                    ...                                       ...   \n",
       "152                   1.0                                     Nauru   \n",
       "153                   1.0                         Brunei Darussalam   \n",
       "154                   1.0                                      Guam   \n",
       "168                   NaN                                   Comoros   \n",
       "178                   NaN                                   Eritrea   \n",
       "181                   NaN  Fragile and conflict affected situations   \n",
       "183                   NaN                             Faroe Islands   \n",
       "185                   NaN                                     Gabon   \n",
       "186                   NaN                                    Guinea   \n",
       "188                   NaN                             Guinea-Bissau   \n",
       "191                   NaN                                 Greenland   \n",
       "192                   NaN                                    Guyana   \n",
       "200                   NaN                            Not classified   \n",
       "209                   NaN                                Low income   \n",
       "213                   NaN                  St. Martin (French part)   \n",
       "222                   NaN                  Northern Mariana Islands   \n",
       "223                   NaN                                Mauritania   \n",
       "225                   NaN                             New Caledonia   \n",
       "226                   NaN                                     Niger   \n",
       "233                   NaN                 Korea, Dem. People?s Rep.   \n",
       "235                   NaN               Pacific island small states   \n",
       "237                   NaN                          French Polynesia   \n",
       "243                   NaN                                   Somalia   \n",
       "246                   NaN                               South Sudan   \n",
       "255                   NaN                                Tajikistan   \n",
       "256                   NaN                              Turkmenistan   \n",
       "260                   NaN                                     Tonga   \n",
       "263                   NaN                                    Tuvalu   \n",
       "266                   NaN                                    Kosovo   \n",
       "267                   NaN                 Korea, Dem. People’s Rep.   \n",
       "\n",
       "            GDP_x          GDP_y  Tax Rate  \n",
       "1    2.420000e+11   34139.405171       NaN  \n",
       "2    9.180788e+09   59422.543726       NaN  \n",
       "3    3.405630e+10    9062.889846       NaN  \n",
       "6    2.939333e+11   39757.577518       NaN  \n",
       "7    1.048800e+10   29218.051776       NaN  \n",
       "9    5.216144e+09   65308.380697       NaN  \n",
       "14   5.301932e+09  148406.483360       NaN  \n",
       "16            NaN            NaN       NaN  \n",
       "17   4.922173e+09  136708.283262       NaN  \n",
       "18   2.288000e+09   92843.000000       NaN  \n",
       "20   7.116096e+10    4670.940109       NaN  \n",
       "29   8.500000e+08   34200.000000       NaN  \n",
       "33   2.786351e+11    9643.834470       NaN  \n",
       "37   3.274308e+09   40705.073439       NaN  \n",
       "40            NaN            NaN       NaN  \n",
       "53   5.418704e+09   84080.952572       NaN  \n",
       "58   5.310667e+11   18780.275229       NaN  \n",
       "59   3.343516e+09   61454.453850       NaN  \n",
       "80            NaN            NaN       NaN  \n",
       "82   2.448485e+09   24371.613246       NaN  \n",
       "99   3.744278e+09    6047.078341       NaN  \n",
       "101  7.970000e+08   23614.700000       NaN  \n",
       "102  6.172130e+10    5436.011173       NaN  \n",
       "103  9.459857e+09     775.479075       NaN  \n",
       "108  6.596333e+09     651.523451       NaN  \n",
       "118  4.098231e+09   37851.617395       NaN  \n",
       "129  3.197194e+10     680.902586       NaN  \n",
       "135  5.265850e+10    8663.706564       NaN  \n",
       "139           NaN            NaN       NaN  \n",
       "140  5.852857e+08   10336.317596       NaN  \n",
       "..            ...            ...       ...  \n",
       "152  7.926333e+07    6983.961425       NaN  \n",
       "153  1.304916e+10   33225.774995       NaN  \n",
       "154  4.784571e+09   29936.964221       NaN  \n",
       "168  5.178151e+08     740.085314       NaN  \n",
       "178  1.507614e+09     359.320745       NaN  \n",
       "181  5.914000e+11    1324.119249       NaN  \n",
       "183  2.219049e+09   45708.100213       NaN  \n",
       "185  1.351101e+10    8064.070913       NaN  \n",
       "186  6.695412e+09     602.861114       NaN  \n",
       "188  8.790480e+08     549.627905       NaN  \n",
       "191  2.361167e+09   41742.813130       NaN  \n",
       "192  2.243935e+09    2958.580931       NaN  \n",
       "200           NaN            NaN       NaN  \n",
       "209  3.788667e+11     599.036384       NaN  \n",
       "213           NaN            NaN       NaN  \n",
       "222  9.470714e+08   16270.951050       NaN  \n",
       "223  4.006680e+09    1075.719022       NaN  \n",
       "225           NaN            NaN       NaN  \n",
       "226  5.724899e+09     334.450906       NaN  \n",
       "233           NaN            NaN       NaN  \n",
       "235  6.992216e+09    3124.243412       NaN  \n",
       "237           NaN            NaN       NaN  \n",
       "243  6.761594e+09     485.656084       NaN  \n",
       "246  1.206518e+10    1082.681585       NaN  \n",
       "255  5.474993e+09     691.164807       NaN  \n",
       "256  2.449236e+10    4621.958350       NaN  \n",
       "260  3.585680e+08    3436.891825       NaN  \n",
       "263  3.091976e+07    2918.981703       NaN  \n",
       "266  5.649724e+09    3175.722361       NaN  \n",
       "267           NaN            NaN       NaN  \n",
       "\n",
       "[66 rows x 5 columns]"
      ]
     },
     "execution_count": 47,
     "metadata": {},
     "output_type": "execute_result"
    }
   ],
   "source": [
    "country_count_tax_rate[country_count_tax_rate['Tax Rate'].isna()]"
   ]
  },
  {
   "cell_type": "markdown",
   "metadata": {},
   "source": [
    "Substitute the tax rate where NaN is present by integrating the data with additional sources. In particular the tax rate in the channel island Jersey and Guersey, in the Isle of Man, Monaco, Lichtenstein, Gibraltar, Hong Kong, British Vergin Islands, United Arab Emirates, Bahamas and Ecuador have been looked up.\n",
    "\n",
    "- Jersey and Guernesey as part of the channel islands have a corporate tax rate of 0% with exeption for some kind of businesses with maximum values of 20% [Jersey](https://www.gov.je/LifeEvents/MovingToJersey/pages/tax.aspx), [Guernsey](https://www.gov.gg/article/120167/Tax-for-businesses-companies-and-employers)\n",
    "\n",
    "- Isle of Man has a corporate tax rate of 0% with exeption for some kind of businesses with maximum values of 20% [Isle of Man](https://www.gov.im/categories/tax-vat-and-your-money/income-tax-and-national-insurance/business-and-corporations/corporate-tax-rates/)\n",
    "\n",
    "- Monaco has a corporate tax rate of 0% [Monaco](https://www.investopedia.com/ask/answers/060316/why-monaco-considered-tax-haven.asp)\n",
    "\n",
    "- Lichtenstein has a corporate tax rate of 12.5% [Lichtenstein](http://taxsummaries.pwc.com/ID/Liechtenstein-Corporate-Taxes-on-corporate-income)\n",
    "\n",
    "- Gibraltar has a corporate tax rate of 10% [Gibraltar](https://www.ey.com/Publication/vwLUAssets/ey-gibraltar-tax-facts-2017-18/$FILE/ey-gibraltar-tax-facts-2017-18.pdf)\n",
    "\n",
    "- Hong Kong have a corporate tax rate of 16.5% [Hong Kong](https://tradingeconomics.com/hong-kong/corporate-tax-rate)\n",
    "\n",
    "- British Vergin Islands have a corporate tax rate of 0% [British Vergin Islands](https://www2.deloitte.com/content/dam/Deloitte/global/Documents/Tax/dttl-tax-britishvirginislandshighlights-2018.pdf?nc=1)\n",
    "\n",
    "- United Arab Emirates have a corporate tax rate of 0% [United Arab Emirates](https://en.portal.santandertrade.com/establish-overseas/united-arab-emirates/tax-system)\n",
    "\n",
    "- Bahamas have a corporate tax rate of 0% [Bahamas](https://tradingeconomics.com/bahamas/personal-income-tax-rate)\n",
    "\n",
    "- Ecuador have a corporate tax rate of 22% [Ecuador](https://tradingeconomics.com/ecuador/corporate-tax-rate)\n",
    "\n",
    "No consistent information regarding Taiwan has been found for the lack of transparency of the Chinese government.\n"
   ]
  },
  {
   "cell_type": "code",
   "execution_count": 48,
   "metadata": {},
   "outputs": [],
   "source": [
    "country_count_tax_rate.loc[country_count_tax_rate['Country Name']=='Channel Islands','Tax Rate']=0\n",
    "country_count_tax_rate.loc[country_count_tax_rate['Country Name']=='Isle of Man','Tax Rate']=0\n",
    "country_count_tax_rate.loc[country_count_tax_rate['Country Name']=='Monaco','Tax Rate']=0\n",
    "country_count_tax_rate.loc[country_count_tax_rate['Country Name']=='Liechtenstein','Tax Rate']=12.5\n",
    "country_count_tax_rate.loc[country_count_tax_rate['Country Name']=='Gibraltar','Tax Rate']=10\n",
    "country_count_tax_rate.loc[country_count_tax_rate['Country Name']=='Hong Kong SAR, China','Tax Rate']=16.5\n",
    "country_count_tax_rate.loc[country_count_tax_rate['Country Name']=='Bahamas, The','Tax Rate']=0\n",
    "country_count_tax_rate.loc[country_count_tax_rate['Country Name']=='United Arab Emirates','Tax Rate']=0\n",
    "country_count_tax_rate.loc[country_count_tax_rate['Country Name']=='Ecuador','Tax Rate']=22\n",
    "country_count_tax_rate.loc[country_count_tax_rate['Country Name']=='British Virgin Islands','Tax Rate']=0"
   ]
  },
  {
   "cell_type": "markdown",
   "metadata": {},
   "source": [
    "#### Small Developped Countries"
   ]
  },
  {
   "cell_type": "markdown",
   "metadata": {},
   "source": [
    "Firstly the graph of tax rate and presence in Panama Paper of small developped countries with high income per capita is plotted. In fact, by looking at these relationship it will be possible to understand if all small developped countries with high income per capita present favourable characteristics to go offshore. \n",
    "\n",
    "All the countries with GDP per capita `GDP_y`>30000 and a total GDP `GDP_x`< 200 billions USD have been considered.\n",
    "\n",
    "The GDP has been used as a weight for the count of entities offshore because the discrepancy between the size of the economies is really high.\n",
    "\n",
    "By observing the plot below some important considerations can be drawn; two set of countries can be identified: tax havens countries and small developped countries. Firstly the tax havens countries can be identified very easily since they have a high presence in the papers and at the same time they have really low tax rates. The rest of the countries are small developped usually European countries. The trend of non tax havens countries shows that high tax rate is not a factor pushing entities to go offshore; in fact the opposite could be true: there seems to be a negative exponential relationship between presence in panama papers and tax rates, but the two tail test p value (0.395) of such relationship seems to imply that no relationship exist between tax rate and number of entities in Panama Papers for small developped countrie. However this relationship could imply the presence of an hidden covariate: high tax rate might be sinonim of tighter control and regulations on entities going offshore, meaning that countries with tighter controls will naturally have a lower number of offshore companies.\n",
    "\n",
    "In addition the graph also seems to suggest that the resons behind the presence of many companies offshore in tax havens is not only the low taxation levels: in fact corporate tax rate of tax havens countries is often comparable to that one of other small european countries. As a matter of fact tax havens countries offer entities favorable conditions to easily set compabies offshore compared to other small countries."
   ]
  },
  {
   "cell_type": "code",
   "execution_count": 49,
   "metadata": {},
   "outputs": [
    {
     "data": {
      "text/html": [
       "\n",
       "<div class=\"bk-root\">\n",
       "    <div class=\"bk-plotdiv\" id=\"743212ad-9f8d-470c-a570-a882146dd097\"></div>\n",
       "</div>"
      ]
     },
     "metadata": {},
     "output_type": "display_data"
    },
    {
     "data": {
      "application/javascript": [
       "(function(root) {\n",
       "  function embed_document(root) {\n",
       "    \n",
       "  var docs_json = {\"0d5733f1-ef7d-4834-a3d2-893feefe180b\":{\"roots\":{\"references\":[{\"attributes\":{},\"id\":\"af38db29-b85f-4856-917f-11c42c2df769\",\"type\":\"PanTool\"},{\"attributes\":{\"bottom_units\":\"screen\",\"fill_alpha\":{\"value\":0.5},\"fill_color\":{\"value\":\"lightgrey\"},\"left_units\":\"screen\",\"level\":\"overlay\",\"line_alpha\":{\"value\":1.0},\"line_color\":{\"value\":\"black\"},\"line_dash\":[4,4],\"line_width\":{\"value\":2},\"plot\":null,\"render_mode\":\"css\",\"right_units\":\"screen\",\"top_units\":\"screen\"},\"id\":\"c7ab8a46-37db-4f94-ad0f-e8bde000aaf2\",\"type\":\"BoxAnnotation\"},{\"attributes\":{},\"id\":\"0ab7742d-49ce-44ab-906e-d88b7ee6fa3f\",\"type\":\"WheelZoomTool\"},{\"attributes\":{},\"id\":\"ceae5cd9-33d5-4cf3-981d-4ea298d408a4\",\"type\":\"BasicTicker\"},{\"attributes\":{\"overlay\":{\"id\":\"c7ab8a46-37db-4f94-ad0f-e8bde000aaf2\",\"type\":\"BoxAnnotation\"}},\"id\":\"a95fd7a8-7acd-43bb-934a-987a7cd80f55\",\"type\":\"BoxZoomTool\"},{\"attributes\":{},\"id\":\"2dccee0d-c06b-43e4-bbc4-27940f7ba6f8\",\"type\":\"SaveTool\"},{\"attributes\":{},\"id\":\"99674601-f384-4af4-87cb-7247a8c30409\",\"type\":\"ResetTool\"},{\"attributes\":{},\"id\":\"61c5b2cf-da4b-4546-9720-a29dc9736b0c\",\"type\":\"HelpTool\"},{\"attributes\":{},\"id\":\"48924f1a-6310-4742-a5ea-7e641fb4b81b\",\"type\":\"BasicTickFormatter\"},{\"attributes\":{\"line_alpha\":0.1,\"line_color\":\"#1f77b4\",\"line_width\":4,\"x\":{\"field\":\"x\"},\"y\":{\"field\":\"y\"}},\"id\":\"9f4d9a87-531b-4333-8f4e-2e5526c4f43c\",\"type\":\"Line\"},{\"attributes\":{},\"id\":\"77fdeadd-60a6-4f61-8e01-528b7a4adb0f\",\"type\":\"BasicTickFormatter\"},{\"attributes\":{},\"id\":\"a475b765-6774-4cb1-8fb2-ba7817ed2887\",\"type\":\"UnionRenderers\"},{\"attributes\":{},\"id\":\"f5a21ae2-5487-4cf0-8fb4-d94b79535355\",\"type\":\"Selection\"},{\"attributes\":{},\"id\":\"2268880f-d45f-4b3a-a2e8-a5bd0279c013\",\"type\":\"Selection\"},{\"attributes\":{},\"id\":\"e00d8cf2-8912-49f0-8601-1c75501094be\",\"type\":\"UnionRenderers\"},{\"attributes\":{},\"id\":\"e4bd4aec-f244-4eb5-8eaf-5cf664fc066f\",\"type\":\"UnionRenderers\"},{\"attributes\":{\"line_alpha\":0.1,\"line_color\":\"navy\",\"line_width\":4,\"x\":{\"field\":\"x\"},\"y\":{\"field\":\"y\"}},\"id\":\"aec9ec56-dda7-46b0-b418-3ab47d33c8e4\",\"type\":\"Line\"},{\"attributes\":{\"dimension\":1,\"plot\":{\"id\":\"d4972470-6a00-403b-bb8d-2d371e7fb9bd\",\"subtype\":\"Figure\",\"type\":\"Plot\"},\"ticker\":{\"id\":\"1d846e75-bf53-4952-959e-f93d72332b06\",\"type\":\"BasicTicker\"}},\"id\":\"02650883-8953-428b-87be-d11c911b1912\",\"type\":\"Grid\"},{\"attributes\":{},\"id\":\"d0e3e4e7-0a25-41e7-91ab-d4eeeb12235a\",\"type\":\"LinearScale\"},{\"attributes\":{\"callback\":null},\"id\":\"876914ae-dab3-4895-bc27-b268af47145b\",\"type\":\"DataRange1d\"},{\"attributes\":{},\"id\":\"0816f0b5-eb72-460f-a796-43ec8dbf42f7\",\"type\":\"LinearScale\"},{\"attributes\":{\"callback\":null,\"data\":{\"c\":[569333333333.3334,242000000000.0,9180787954.8,51926314674.13333,293933333333.3333,5216143943.461538,227133425171.26666,5301931545.6,4922173236.692307,2288000000.0,850000000.0,3274307831.133333,1492800000000.0,246466666666.66666,795266666666.6666,5418704083.333333,3343516256.5,1088333333333.3334,151083392370.0,241600000000.0,118940926181.06667,462666666666.6667,483466666666.6667,121546062271.0,30812990994.333332,381866666666.6667,16469675328.666666,401066666666.6667,308800000000.0,4098230769.230769,13049161890.0,2219048535.3076925,2361167216.785714,1977081765.4],\"country\":[\"Switzerland\",\"Hong Kong SAR, China\",\"Channel Islands\",\"Luxembourg\",\"United Arab Emirates\",\"Isle of Man\",\"Singapore\",\"Monaco\",\"Liechtenstein\",\"Gibraltar\",\"British Virgin Islands\",\"Andorra\",\"Canada\",\"Ireland\",\"Netherlands\",\"Bermuda\",\"Cayman Islands\",\"Australia\",\"New Zealand\",\"Finland\",\"Kuwait\",\"Belgium\",\"Sweden\",\"Qatar\",\"Macao SAR, China\",\"Austria\",\"Iceland\",\"Norway\",\"Denmark\",\"Virgin Islands (U.S.)\",\"Brunei Darussalam\",\"Faroe Islands\",\"Greenland\",\"San Marino\"],\"x\":[20.860170389713097,16.5,0.0,28.729216593654897,0.0,0.0,32.45684990164795,0.0,12.5,10.0,0.0,\"NaN\",53.77860214192079,37.94103138471929,25.5089115144116,\"NaN\",\"NaN\",64.55067318552749,52.925533566755796,17.101716281972084,0.5458449730516288,35.74571539919367,14.901043006492367,45.93791213041428,4.84529595302896,27.35709443624949,28.909050179867904,29.6173047023925,41.725671119385204,\"NaN\",\"NaN\",\"NaN\",\"NaN\",17.291533651842922],\"y\":[-7.176601371423348,-6.805050125770456,-5.6272616073940185,-6.6803582186425885,-7.606774170913472,-6.027863119211703,-7.745514455339305,-6.223648943244593,-6.3770265775175075,-6.050038794342846,-5.88527130483557,-6.825810647680471,-9.63367215161155,-8.883902319821594,-9.652539513166124,-7.5164114905252815,-7.498897573858133,-10.063634077291733,-9.315893867630418,-9.570183573306238,-9.297180065600369,-9.89441619975703,-9.944003846873546,-9.65337712940558,-9.090793848336471,-10.201700508532513,-9.040593778829416,-10.457088532849667,-10.34354925598546,-9.01053641832085,-10.115582619089098,\"NaN\",\"NaN\",\"NaN\"]},\"selected\":{\"id\":\"6235872a-40a7-4f98-8a7f-a0adcc46872a\",\"type\":\"Selection\"},\"selection_policy\":{\"id\":\"a475b765-6774-4cb1-8fb2-ba7817ed2887\",\"type\":\"UnionRenderers\"}},\"id\":\"3f33592d-9009-453e-a321-e6e5c3fe5949\",\"type\":\"ColumnDataSource\"},{\"attributes\":{\"plot\":{\"id\":\"54c7f319-bf8b-4950-9768-5438de1f8ef6\",\"subtype\":\"Figure\",\"type\":\"Plot\"},\"ticker\":{\"id\":\"a8625737-ff29-4eb4-b855-8795ea03497c\",\"type\":\"BasicTicker\"}},\"id\":\"dbc915ce-e0b4-4969-aefc-4e71d3e83190\",\"type\":\"Grid\"},{\"attributes\":{\"plot\":{\"id\":\"d4972470-6a00-403b-bb8d-2d371e7fb9bd\",\"subtype\":\"Figure\",\"type\":\"Plot\"},\"ticker\":{\"id\":\"ceae5cd9-33d5-4cf3-981d-4ea298d408a4\",\"type\":\"BasicTicker\"}},\"id\":\"a1fbb8f4-13da-45ea-a43d-5d93c1b9cf6d\",\"type\":\"Grid\"},{\"attributes\":{\"formatter\":{\"id\":\"77fdeadd-60a6-4f61-8e01-528b7a4adb0f\",\"type\":\"BasicTickFormatter\"},\"plot\":{\"id\":\"54c7f319-bf8b-4950-9768-5438de1f8ef6\",\"subtype\":\"Figure\",\"type\":\"Plot\"},\"ticker\":{\"id\":\"a8625737-ff29-4eb4-b855-8795ea03497c\",\"type\":\"BasicTicker\"}},\"id\":\"a1575804-2a2d-4f31-bc52-d8657ee0e3eb\",\"type\":\"LinearAxis\"},{\"attributes\":{},\"id\":\"a8625737-ff29-4eb4-b855-8795ea03497c\",\"type\":\"BasicTicker\"},{\"attributes\":{},\"id\":\"a66e1eee-7b70-43ea-95fa-1d5cca04a82f\",\"type\":\"LinearScale\"},{\"attributes\":{\"axis_label\":\"Tax Rate (%)\",\"formatter\":{\"id\":\"0fe305b8-c557-4c7e-96df-f8364cbc9d50\",\"type\":\"BasicTickFormatter\"},\"plot\":{\"id\":\"d4972470-6a00-403b-bb8d-2d371e7fb9bd\",\"subtype\":\"Figure\",\"type\":\"Plot\"},\"ticker\":{\"id\":\"ceae5cd9-33d5-4cf3-981d-4ea298d408a4\",\"type\":\"BasicTicker\"}},\"id\":\"87687b57-8441-4587-856c-01ac1e959809\",\"type\":\"LinearAxis\"},{\"attributes\":{\"formatter\":{\"id\":\"48924f1a-6310-4742-a5ea-7e641fb4b81b\",\"type\":\"BasicTickFormatter\"},\"plot\":{\"id\":\"54c7f319-bf8b-4950-9768-5438de1f8ef6\",\"subtype\":\"Figure\",\"type\":\"Plot\"},\"ticker\":{\"id\":\"2d57d1d3-f492-4492-bf04-0a9a200e1f73\",\"type\":\"BasicTicker\"}},\"id\":\"5e1a6f91-4015-4a45-8d72-bd93483a7121\",\"type\":\"LinearAxis\"},{\"attributes\":{},\"id\":\"2d57d1d3-f492-4492-bf04-0a9a200e1f73\",\"type\":\"BasicTicker\"},{\"attributes\":{\"axis_label\":\"Number of Entities Offshore (log scale)\",\"formatter\":{\"id\":\"49fd8194-6019-4bb9-b4f8-6014bfe15b02\",\"type\":\"BasicTickFormatter\"},\"plot\":{\"id\":\"d4972470-6a00-403b-bb8d-2d371e7fb9bd\",\"subtype\":\"Figure\",\"type\":\"Plot\"},\"ticker\":{\"id\":\"1d846e75-bf53-4952-959e-f93d72332b06\",\"type\":\"BasicTicker\"}},\"id\":\"ff5146ab-6aa5-4099-96d1-58097a25f748\",\"type\":\"LinearAxis\"},{\"attributes\":{\"dimension\":1,\"plot\":{\"id\":\"54c7f319-bf8b-4950-9768-5438de1f8ef6\",\"subtype\":\"Figure\",\"type\":\"Plot\"},\"ticker\":{\"id\":\"2d57d1d3-f492-4492-bf04-0a9a200e1f73\",\"type\":\"BasicTicker\"}},\"id\":\"654fce88-a80f-4254-9226-5820678d3412\",\"type\":\"Grid\"},{\"attributes\":{\"fill_alpha\":{\"value\":0.1},\"fill_color\":{\"value\":\"#1f77b4\"},\"line_alpha\":{\"value\":0.1},\"line_color\":{\"value\":\"#1f77b4\"},\"radius\":{\"units\":\"data\",\"value\":1},\"x\":{\"field\":\"x\"},\"y\":{\"field\":\"y\"}},\"id\":\"039d8167-a3ac-4ebd-af85-ceda6a706a2a\",\"type\":\"Circle\"},{\"attributes\":{},\"id\":\"0fe305b8-c557-4c7e-96df-f8364cbc9d50\",\"type\":\"BasicTickFormatter\"},{\"attributes\":{},\"id\":\"1d846e75-bf53-4952-959e-f93d72332b06\",\"type\":\"BasicTicker\"},{\"attributes\":{\"children\":[{\"id\":\"d4972470-6a00-403b-bb8d-2d371e7fb9bd\",\"subtype\":\"Figure\",\"type\":\"Plot\"},{\"id\":\"54c7f319-bf8b-4950-9768-5438de1f8ef6\",\"subtype\":\"Figure\",\"type\":\"Plot\"}]},\"id\":\"df17dd4f-7749-4681-880d-bef43d5eab69\",\"type\":\"Row\"},{\"attributes\":{},\"id\":\"7b532cdb-8a72-44c5-9d51-ede248648ac1\",\"type\":\"BasicTickFormatter\"},{\"attributes\":{\"callback\":null},\"id\":\"19304f20-4e31-41d7-a531-6c4190edea26\",\"type\":\"DataRange1d\"},{\"attributes\":{},\"id\":\"0df78283-0dc1-40e0-b218-657b4303ae67\",\"type\":\"LogTicker\"},{\"attributes\":{\"callback\":null,\"renderers\":[{\"id\":\"7207f0d8-d94e-4410-ab70-f5d9c45b2f7b\",\"type\":\"GlyphRenderer\"}],\"tooltips\":[[\"Set of Country\",\"Not tax havens countries, p-value=0.395\"]]},\"id\":\"000d8509-78e1-402a-af07-1bfb88e450ea\",\"type\":\"HoverTool\"},{\"attributes\":{},\"id\":\"0e5a143a-677d-4b87-9fec-b797f6ac182f\",\"type\":\"LinearScale\"},{\"attributes\":{\"active_drag\":\"auto\",\"active_inspect\":\"auto\",\"active_scroll\":\"auto\",\"active_tap\":\"auto\",\"tools\":[{\"id\":\"af38db29-b85f-4856-917f-11c42c2df769\",\"type\":\"PanTool\"},{\"id\":\"0ab7742d-49ce-44ab-906e-d88b7ee6fa3f\",\"type\":\"WheelZoomTool\"},{\"id\":\"a95fd7a8-7acd-43bb-934a-987a7cd80f55\",\"type\":\"BoxZoomTool\"},{\"id\":\"2dccee0d-c06b-43e4-bbc4-27940f7ba6f8\",\"type\":\"SaveTool\"},{\"id\":\"99674601-f384-4af4-87cb-7247a8c30409\",\"type\":\"ResetTool\"},{\"id\":\"61c5b2cf-da4b-4546-9720-a29dc9736b0c\",\"type\":\"HelpTool\"}]},\"id\":\"33d99a22-3b08-4365-8f48-6f26a186c03f\",\"type\":\"Toolbar\"},{\"attributes\":{\"plot\":null,\"text\":\"Real GDP Legend Bar (USD)\"},\"id\":\"341d39f8-8bb2-44ad-8c13-3231f8ca554e\",\"type\":\"Title\"},{\"attributes\":{},\"id\":\"49fd8194-6019-4bb9-b4f8-6014bfe15b02\",\"type\":\"BasicTickFormatter\"},{\"attributes\":{\"source\":{\"id\":\"3f33592d-9009-453e-a321-e6e5c3fe5949\",\"type\":\"ColumnDataSource\"}},\"id\":\"59910e19-6c5b-4ae8-8c11-1e3783e2acf3\",\"type\":\"CDSView\"},{\"attributes\":{\"callback\":null,\"renderers\":[{\"id\":\"f9bf82d0-854b-49a7-acbc-d8aaa8a091b6\",\"type\":\"GlyphRenderer\"}],\"tooltips\":[[\"Country\",\"@country\"],[\"(Tax Rate, Log(number of entities offshore))\",\"($x, $y)\"]]},\"id\":\"aefc829b-3ad1-4811-aedd-0a04c66f9993\",\"type\":\"HoverTool\"},{\"attributes\":{\"active_drag\":\"auto\",\"active_inspect\":\"auto\",\"active_scroll\":\"auto\",\"active_tap\":\"auto\",\"logo\":null,\"tools\":[{\"id\":\"19dfeb79-6928-4058-afea-0cab4cc4f3cd\",\"type\":\"PanTool\"},{\"id\":\"b6b85682-b6bc-4d3c-9fc8-36ee44ec4413\",\"type\":\"WheelZoomTool\"},{\"id\":\"3a0bd1cc-7ffe-41c7-95fd-00fcd33670ae\",\"type\":\"BoxZoomTool\"},{\"id\":\"4195767f-9693-4a4b-8cf7-7e7adf57b25b\",\"type\":\"SaveTool\"},{\"id\":\"d99704e4-4a25-4606-968d-51611f0723f3\",\"type\":\"ResetTool\"},{\"id\":\"154bff8e-58ad-400f-b28e-4e6745b5c05b\",\"type\":\"HelpTool\"},{\"id\":\"aefc829b-3ad1-4811-aedd-0a04c66f9993\",\"type\":\"HoverTool\"},{\"id\":\"000d8509-78e1-402a-af07-1bfb88e450ea\",\"type\":\"HoverTool\"},{\"id\":\"6c529f09-7465-4907-9079-e1188c88a136\",\"type\":\"HoverTool\"}]},\"id\":\"2eb5178c-c5b6-4e77-91f1-6acefd30fc6e\",\"type\":\"Toolbar\"},{\"attributes\":{\"bottom_units\":\"screen\",\"fill_alpha\":{\"value\":0.5},\"fill_color\":{\"value\":\"lightgrey\"},\"left_units\":\"screen\",\"level\":\"overlay\",\"line_alpha\":{\"value\":1.0},\"line_color\":{\"value\":\"black\"},\"line_dash\":[4,4],\"line_width\":{\"value\":2},\"plot\":null,\"render_mode\":\"css\",\"right_units\":\"screen\",\"top_units\":\"screen\"},\"id\":\"ba1bac25-fd81-4a43-8814-2b74c84f1373\",\"type\":\"BoxAnnotation\"},{\"attributes\":{},\"id\":\"19dfeb79-6928-4058-afea-0cab4cc4f3cd\",\"type\":\"PanTool\"},{\"attributes\":{\"data_source\":{\"id\":\"3f33592d-9009-453e-a321-e6e5c3fe5949\",\"type\":\"ColumnDataSource\"},\"glyph\":{\"id\":\"5789c646-64e6-462b-a1ea-044e797e1a90\",\"type\":\"Circle\"},\"hover_glyph\":null,\"muted_glyph\":null,\"nonselection_glyph\":{\"id\":\"039d8167-a3ac-4ebd-af85-ceda6a706a2a\",\"type\":\"Circle\"},\"selection_glyph\":null,\"view\":{\"id\":\"59910e19-6c5b-4ae8-8c11-1e3783e2acf3\",\"type\":\"CDSView\"}},\"id\":\"f9bf82d0-854b-49a7-acbc-d8aaa8a091b6\",\"type\":\"GlyphRenderer\"},{\"attributes\":{\"plot\":null,\"text\":\"Number of entities offshore vs tax rate (Small developped countries)\",\"text_color\":{\"value\":\"grey\"},\"text_font_size\":{\"value\":\"11pt\"},\"text_font_style\":\"normal\"},\"id\":\"070e6122-afef-41ec-b9b4-a48de34d4e8e\",\"type\":\"Title\"},{\"attributes\":{},\"id\":\"b6b85682-b6bc-4d3c-9fc8-36ee44ec4413\",\"type\":\"WheelZoomTool\"},{\"attributes\":{\"callback\":null},\"id\":\"b8554063-47bf-4865-8841-af91183c772b\",\"type\":\"DataRange1d\"},{\"attributes\":{\"overlay\":{\"id\":\"ba1bac25-fd81-4a43-8814-2b74c84f1373\",\"type\":\"BoxAnnotation\"}},\"id\":\"3a0bd1cc-7ffe-41c7-95fd-00fcd33670ae\",\"type\":\"BoxZoomTool\"},{\"attributes\":{},\"id\":\"4195767f-9693-4a4b-8cf7-7e7adf57b25b\",\"type\":\"SaveTool\"},{\"attributes\":{},\"id\":\"d99704e4-4a25-4606-968d-51611f0723f3\",\"type\":\"ResetTool\"},{\"attributes\":{},\"id\":\"154bff8e-58ad-400f-b28e-4e6745b5c05b\",\"type\":\"HelpTool\"},{\"attributes\":{\"data_source\":{\"id\":\"c99b2e54-4583-4843-a44a-d8e6a8c2cad4\",\"type\":\"ColumnDataSource\"},\"glyph\":{\"id\":\"aec9ec56-dda7-46b0-b418-3ab47d33c8e4\",\"type\":\"Line\"},\"hover_glyph\":null,\"muted_glyph\":null,\"nonselection_glyph\":{\"id\":\"9f4d9a87-531b-4333-8f4e-2e5526c4f43c\",\"type\":\"Line\"},\"selection_glyph\":null,\"view\":{\"id\":\"adc64c75-00d9-451e-aaa4-00afe7eeef1c\",\"type\":\"CDSView\"}},\"id\":\"7207f0d8-d94e-4410-ab70-f5d9c45b2f7b\",\"type\":\"GlyphRenderer\"},{\"attributes\":{\"callback\":null,\"data\":{\"x\":{\"__ndarray__\":\"mxIoPKnjSkCB8Ga3c/hCQKb0ZgZIgjlA+6e+Oj4jUEB/SEjid3ZKQHOKCBQKGjFA/Cp+4I934T+I1Cmac99BQDVZSoJVzS1AVVMzgQ34RkBZzSZDlWETQG5GfYpqWztAoPQ4g7foPEBbcVSuB549QKG0jsri3ERA\",\"dtype\":\"float64\",\"shape\":[15]},\"y\":{\"__ndarray__\":\"u+Qtd4KcI8CHRmGjlmkjwPZhJtKdQSPAx3Kd5yS/I8CeshdPxJkjwITCQuaVJiPAM4Cp11rxIsAv5i6vh2IjwO6BN4mCHyPAsSzw1EyDI8BpMRizLf8iwH9AHw2PRyPAiFVedYxMI8CbbVhr004jwHc6ucHBdSPA\",\"dtype\":\"float64\",\"shape\":[15]}},\"selected\":{\"id\":\"f5a21ae2-5487-4cf0-8fb4-d94b79535355\",\"type\":\"Selection\"},\"selection_policy\":{\"id\":\"e00d8cf2-8912-49f0-8601-1c75501094be\",\"type\":\"UnionRenderers\"}},\"id\":\"c99b2e54-4583-4843-a44a-d8e6a8c2cad4\",\"type\":\"ColumnDataSource\"},{\"attributes\":{\"below\":[{\"id\":\"a1575804-2a2d-4f31-bc52-d8657ee0e3eb\",\"type\":\"LinearAxis\"}],\"left\":[{\"id\":\"5e1a6f91-4015-4a45-8d72-bd93483a7121\",\"type\":\"LinearAxis\"}],\"min_border\":null,\"outline_line_color\":{\"value\":null},\"plot_height\":511,\"plot_width\":35,\"renderers\":[{\"id\":\"a1575804-2a2d-4f31-bc52-d8657ee0e3eb\",\"type\":\"LinearAxis\"},{\"id\":\"dbc915ce-e0b4-4969-aefc-4e71d3e83190\",\"type\":\"Grid\"},{\"id\":\"5e1a6f91-4015-4a45-8d72-bd93483a7121\",\"type\":\"LinearAxis\"},{\"id\":\"654fce88-a80f-4254-9226-5820678d3412\",\"type\":\"Grid\"},{\"id\":\"c7ab8a46-37db-4f94-ad0f-e8bde000aaf2\",\"type\":\"BoxAnnotation\"}],\"title\":{\"id\":\"341d39f8-8bb2-44ad-8c13-3231f8ca554e\",\"type\":\"Title\"},\"title_location\":\"right\",\"toolbar\":{\"id\":\"33d99a22-3b08-4365-8f48-6f26a186c03f\",\"type\":\"Toolbar\"},\"toolbar_location\":null,\"x_range\":{\"id\":\"19304f20-4e31-41d7-a531-6c4190edea26\",\"type\":\"DataRange1d\"},\"x_scale\":{\"id\":\"d0e3e4e7-0a25-41e7-91ab-d4eeeb12235a\",\"type\":\"LinearScale\"},\"y_range\":{\"id\":\"876914ae-dab3-4895-bc27-b268af47145b\",\"type\":\"DataRange1d\"},\"y_scale\":{\"id\":\"0816f0b5-eb72-460f-a796-43ec8dbf42f7\",\"type\":\"LinearScale\"}},\"id\":\"54c7f319-bf8b-4950-9768-5438de1f8ef6\",\"subtype\":\"Figure\",\"type\":\"Plot\"},{\"attributes\":{},\"id\":\"6235872a-40a7-4f98-8a7f-a0adcc46872a\",\"type\":\"Selection\"},{\"attributes\":{\"fill_alpha\":{\"value\":0.1},\"fill_color\":{\"value\":\"navy\"},\"line_alpha\":{\"value\":0.1},\"line_color\":{\"value\":\"navy\"},\"size\":{\"units\":\"screen\",\"value\":450},\"x\":{\"value\":19},\"y\":{\"value\":-6.6}},\"id\":\"ef4a6ec0-c0f2-43bc-89a8-7746855b578e\",\"type\":\"Circle\"},{\"attributes\":{\"source\":{\"id\":\"c99b2e54-4583-4843-a44a-d8e6a8c2cad4\",\"type\":\"ColumnDataSource\"}},\"id\":\"adc64c75-00d9-451e-aaa4-00afe7eeef1c\",\"type\":\"CDSView\"},{\"attributes\":{\"callback\":null,\"data\":{},\"selected\":{\"id\":\"2268880f-d45f-4b3a-a2e8-a5bd0279c013\",\"type\":\"Selection\"},\"selection_policy\":{\"id\":\"e4bd4aec-f244-4eb5-8eaf-5cf664fc066f\",\"type\":\"UnionRenderers\"}},\"id\":\"15abdeba-8c0e-454a-bd83-f500dc1c4ce1\",\"type\":\"ColumnDataSource\"},{\"attributes\":{\"callback\":null},\"id\":\"9f91e7af-3c54-4569-8388-80df6c071e15\",\"type\":\"DataRange1d\"},{\"attributes\":{\"fill_alpha\":{\"value\":0.1},\"fill_color\":{\"value\":\"#1f77b4\"},\"line_alpha\":{\"value\":0.1},\"line_color\":{\"value\":\"#1f77b4\"},\"size\":{\"units\":\"screen\",\"value\":450},\"x\":{\"value\":19},\"y\":{\"value\":-6.6}},\"id\":\"6e8a2f29-e2df-476e-8190-d61c78b9f962\",\"type\":\"Circle\"},{\"attributes\":{\"high\":1492800000000.0,\"low\":850000000.0,\"palette\":[\"#0072B2\",\"#E69F00\",\"#F0E442\"]},\"id\":\"73d3892b-f232-4436-9450-c1dd3b0b5553\",\"type\":\"LogColorMapper\"},{\"attributes\":{\"callback\":null,\"renderers\":[{\"id\":\"733174aa-5694-4d86-b6f3-00f18a7cc43f\",\"type\":\"GlyphRenderer\"}],\"tooltips\":[[\"Set of Country\",\"Tax havens\"]]},\"id\":\"6c529f09-7465-4907-9079-e1188c88a136\",\"type\":\"HoverTool\"},{\"attributes\":{\"fill_alpha\":{\"value\":0.5},\"fill_color\":{\"field\":\"c\",\"transform\":{\"id\":\"73d3892b-f232-4436-9450-c1dd3b0b5553\",\"type\":\"LogColorMapper\"}},\"line_alpha\":{\"value\":0.5},\"line_color\":{\"field\":\"c\",\"transform\":{\"id\":\"73d3892b-f232-4436-9450-c1dd3b0b5553\",\"type\":\"LogColorMapper\"}},\"radius\":{\"units\":\"data\",\"value\":1},\"x\":{\"field\":\"x\"},\"y\":{\"field\":\"y\"}},\"id\":\"5789c646-64e6-462b-a1ea-044e797e1a90\",\"type\":\"Circle\"},{\"attributes\":{\"source\":{\"id\":\"15abdeba-8c0e-454a-bd83-f500dc1c4ce1\",\"type\":\"ColumnDataSource\"}},\"id\":\"5fb2c831-006a-43d4-ad8d-d16bc8187e0e\",\"type\":\"CDSView\"},{\"attributes\":{\"data_source\":{\"id\":\"15abdeba-8c0e-454a-bd83-f500dc1c4ce1\",\"type\":\"ColumnDataSource\"},\"glyph\":{\"id\":\"ef4a6ec0-c0f2-43bc-89a8-7746855b578e\",\"type\":\"Circle\"},\"hover_glyph\":null,\"muted_glyph\":null,\"nonselection_glyph\":{\"id\":\"6e8a2f29-e2df-476e-8190-d61c78b9f962\",\"type\":\"Circle\"},\"selection_glyph\":null,\"view\":{\"id\":\"5fb2c831-006a-43d4-ad8d-d16bc8187e0e\",\"type\":\"CDSView\"}},\"id\":\"733174aa-5694-4d86-b6f3-00f18a7cc43f\",\"type\":\"GlyphRenderer\"},{\"attributes\":{\"color_mapper\":{\"id\":\"73d3892b-f232-4436-9450-c1dd3b0b5553\",\"type\":\"LogColorMapper\"},\"formatter\":{\"id\":\"7b532cdb-8a72-44c5-9d51-ede248648ac1\",\"type\":\"BasicTickFormatter\"},\"label_standoff\":12,\"location\":[20,0],\"plot\":{\"id\":\"d4972470-6a00-403b-bb8d-2d371e7fb9bd\",\"subtype\":\"Figure\",\"type\":\"Plot\"},\"ticker\":{\"id\":\"0df78283-0dc1-40e0-b218-657b4303ae67\",\"type\":\"LogTicker\"}},\"id\":\"a164aa9b-56e3-4086-b3dc-0681c3c2ed83\",\"type\":\"ColorBar\"},{\"attributes\":{\"below\":[{\"id\":\"87687b57-8441-4587-856c-01ac1e959809\",\"type\":\"LinearAxis\"}],\"left\":[{\"id\":\"ff5146ab-6aa5-4099-96d1-58097a25f748\",\"type\":\"LinearAxis\"}],\"plot_height\":800,\"plot_width\":800,\"renderers\":[{\"id\":\"87687b57-8441-4587-856c-01ac1e959809\",\"type\":\"LinearAxis\"},{\"id\":\"a1fbb8f4-13da-45ea-a43d-5d93c1b9cf6d\",\"type\":\"Grid\"},{\"id\":\"ff5146ab-6aa5-4099-96d1-58097a25f748\",\"type\":\"LinearAxis\"},{\"id\":\"02650883-8953-428b-87be-d11c911b1912\",\"type\":\"Grid\"},{\"id\":\"ba1bac25-fd81-4a43-8814-2b74c84f1373\",\"type\":\"BoxAnnotation\"},{\"id\":\"f9bf82d0-854b-49a7-acbc-d8aaa8a091b6\",\"type\":\"GlyphRenderer\"},{\"id\":\"7207f0d8-d94e-4410-ab70-f5d9c45b2f7b\",\"type\":\"GlyphRenderer\"},{\"id\":\"733174aa-5694-4d86-b6f3-00f18a7cc43f\",\"type\":\"GlyphRenderer\"},{\"id\":\"a164aa9b-56e3-4086-b3dc-0681c3c2ed83\",\"type\":\"ColorBar\"}],\"right\":[{\"id\":\"a164aa9b-56e3-4086-b3dc-0681c3c2ed83\",\"type\":\"ColorBar\"}],\"title\":{\"id\":\"070e6122-afef-41ec-b9b4-a48de34d4e8e\",\"type\":\"Title\"},\"toolbar\":{\"id\":\"2eb5178c-c5b6-4e77-91f1-6acefd30fc6e\",\"type\":\"Toolbar\"},\"toolbar_location\":null,\"x_range\":{\"id\":\"b8554063-47bf-4865-8841-af91183c772b\",\"type\":\"DataRange1d\"},\"x_scale\":{\"id\":\"0e5a143a-677d-4b87-9fec-b797f6ac182f\",\"type\":\"LinearScale\"},\"y_range\":{\"id\":\"9f91e7af-3c54-4569-8388-80df6c071e15\",\"type\":\"DataRange1d\"},\"y_scale\":{\"id\":\"a66e1eee-7b70-43ea-95fa-1d5cca04a82f\",\"type\":\"LinearScale\"}},\"id\":\"d4972470-6a00-403b-bb8d-2d371e7fb9bd\",\"subtype\":\"Figure\",\"type\":\"Plot\"}],\"root_ids\":[\"df17dd4f-7749-4681-880d-bef43d5eab69\"]},\"title\":\"Bokeh Application\",\"version\":\"0.12.16\"}};\n",
       "  var render_items = [{\"docid\":\"0d5733f1-ef7d-4834-a3d2-893feefe180b\",\"elementid\":\"743212ad-9f8d-470c-a570-a882146dd097\",\"modelid\":\"df17dd4f-7749-4681-880d-bef43d5eab69\"}];\n",
       "  root.Bokeh.embed.embed_items_notebook(docs_json, render_items);\n",
       "\n",
       "  }\n",
       "  if (root.Bokeh !== undefined) {\n",
       "    embed_document(root);\n",
       "  } else {\n",
       "    var attempts = 0;\n",
       "    var timer = setInterval(function(root) {\n",
       "      if (root.Bokeh !== undefined) {\n",
       "        embed_document(root);\n",
       "        clearInterval(timer);\n",
       "      }\n",
       "      attempts++;\n",
       "      if (attempts > 100) {\n",
       "        console.log(\"Bokeh: ERROR: Unable to run BokehJS code because BokehJS library is missing\")\n",
       "        clearInterval(timer);\n",
       "      }\n",
       "    }, 10, root)\n",
       "  }\n",
       "})(window);"
      ],
      "application/vnd.bokehjs_exec.v0+json": ""
     },
     "metadata": {
      "application/vnd.bokehjs_exec.v0+json": {
       "id": "df17dd4f-7749-4681-880d-bef43d5eab69"
      }
     },
     "output_type": "display_data"
    }
   ],
   "source": [
    "selection=country_count_tax_rate['GDP_y'].apply(lambda x: x>30000) & country_count_tax_rate['GDP_x'].apply(lambda x: x<200*10e9)\n",
    "\n",
    "x = country_count_tax_rate['Tax Rate'][selection]\n",
    "y = np.log10(country_count_tax_rate['n_companies_offshore'][selection]/country_count_tax_rate['GDP_x'][selection])\n",
    "country_names=country_count_tax_rate['Country Name'][selection]\n",
    "c = country_count_tax_rate['GDP_x'][selection]\n",
    "c[c.isna()]=0\n",
    "\n",
    "# establish the color mapper schema\n",
    "color_mapper = LogColorMapper(palette=\"Colorblind3\", low=min(c),\\\n",
    "                              high=max(c))\n",
    "\n",
    "# establish the sources of data to make the interactive graph\n",
    "source=ColumnDataSource(data=dict(\n",
    "    x=list(x),\n",
    "    y=list(y),\n",
    "    country=list(country_names),\n",
    "    c=list(c),\n",
    "))\n",
    "\n",
    "    \n",
    "# set the regression line\n",
    "df=pd.DataFrame({'Tax Rate':x,'n_companies_offshore':y})\n",
    "df=df.dropna(inplace=False)\n",
    "df=df[df['n_companies_offshore'].apply(lambda x: x<-8)]\n",
    "\n",
    "a=np.array(df['Tax Rate'])\n",
    "b=np.array(df['n_companies_offshore'])\n",
    "\n",
    "m,i,r,p_value,std=stats.linregress(a,b)\n",
    "\n",
    "p = figure(title=\"Number of entities offshore vs tax rate (Small developped countries)\", plot_width=800, plot_height=800)\n",
    "\n",
    "scatter=p.scatter(x='x', y='y', radius=1, source=source, color={'field': 'c', 'transform': color_mapper}, alpha=0.5)\n",
    "hover= HoverTool(tooltips = [(\"Country\", \"@country\"),(\"(Tax Rate, Log(number of entities offshore))\", \"($x, $y)\")],renderers=[scatter])\n",
    "p.add_tools(hover)\n",
    "\n",
    "\n",
    "line=p.line(df['Tax Rate'], m*df['Tax Rate']+i, line_width=4, color='navy', alpha=0.1)\n",
    "hover0=HoverTool(tooltips = [(\"Set of Country\",'Not tax havens countries, p-value='+str(p_value)[:5])], renderers=[line])\n",
    "p.add_tools(hover0)\n",
    "circle=p.circle(19, -6.6, size=450, color=\"navy\", alpha=0.1)\n",
    "hover1=HoverTool(tooltips = [(\"Set of Country\",'Tax havens')], renderers=[circle])\n",
    "p.add_tools(hover1)\n",
    "\n",
    "\n",
    "# set the style of the title\n",
    "p.title.text_color = \"grey\"\n",
    "p.title.text_font = \"helvetica\"\n",
    "p.title.text_font_style = \"normal\"\n",
    "p.title.text_font_size = '11pt'\n",
    "\n",
    "# set the label options\n",
    "p.xaxis.axis_label='Tax Rate (%)'\n",
    "p.yaxis.axis_label='Number of Entities Offshore (log scale)'\n",
    "\n",
    "# add the color bar\n",
    "color_bar = ColorBar(color_mapper=color_mapper, ticker=LogTicker(),\n",
    "                     label_standoff=12, border_line_color=None, location=(20,0))\n",
    "\n",
    "# set the color bar title\n",
    "color_bar_height = 511\n",
    "color_bar_width = 35\n",
    "\n",
    "color_bar_plot = figure(title=\"Real GDP Legend Bar (USD)\", title_location=\"right\", \n",
    "                        height=color_bar_height, width=color_bar_width, \n",
    "                        toolbar_location=None, min_border=None, \n",
    "                        outline_line_color=None)\n",
    "\n",
    "p.add_layout(color_bar, 'right')\n",
    "\n",
    "# remove the interactive toolbar\n",
    "p.toolbar.logo = None\n",
    "p.toolbar_location = None\n",
    "\n",
    "layout = row_plot(p, color_bar_plot)\n",
    "output_file(\"taxratesmalldeveloppedcountries.html\", title=\"taxratesmalldeveloppedcountries\")\n",
    "show(layout)"
   ]
  },
  {
   "cell_type": "markdown",
   "metadata": {},
   "source": [
    "#### Developping Countries"
   ]
  },
  {
   "cell_type": "markdown",
   "metadata": {},
   "source": [
    "Secondly the graph of tax rate and presence in Panama Paper of developping countries is plotted. BRICs countries have been considered, as well as all other countries which had a GDP greater than 40 billions USD a year. Also in this case the GDP has been used as a weight for the count of entities offshore because the discrepancy between the size of the economies is really high.\n",
    "\n",
    "By observing this graphs a negative exponential relationship can be again observed further showing that for this category of countries tax rate is not a factor pushing entities to go offshore: actually the higher the tax rate the lower the number of companies offshore. Contrary to the little evidence found in small developped countries, developping countries show a very clear negative exponential relationship with a two tails p-value of 0.00143. This could be a further proof to the hypothesis that higher tax rates are correlates with higher regulations as shown in the graph for small developped countries; in fact in developping countries the bureaucratic machine and regulation could even disable further entities who are willing to go offshore."
   ]
  },
  {
   "cell_type": "code",
   "execution_count": 50,
   "metadata": {},
   "outputs": [
    {
     "data": {
      "text/html": [
       "\n",
       "<div class=\"bk-root\">\n",
       "    <div class=\"bk-plotdiv\" id=\"c7a6a7bb-6c77-44e4-9b84-6e111c039107\"></div>\n",
       "</div>"
      ]
     },
     "metadata": {},
     "output_type": "display_data"
    },
    {
     "data": {
      "application/javascript": [
       "(function(root) {\n",
       "  function embed_document(root) {\n",
       "    \n",
       "  var docs_json = {\"755687b4-b873-4ecd-882d-2db4621309d9\":{\"roots\":{\"references\":[{\"attributes\":{},\"id\":\"d239311a-bcf6-496d-bd10-af870fcd661d\",\"type\":\"BasicTickFormatter\"},{\"attributes\":{\"source\":{\"id\":\"804db753-60f5-48d1-8cef-d4d4a8358f3a\",\"type\":\"ColumnDataSource\"}},\"id\":\"11d1c5d8-22dc-428a-92ee-cd21c649649b\",\"type\":\"CDSView\"},{\"attributes\":{},\"id\":\"9082dd25-b82b-43ac-b41b-6886b142a770\",\"type\":\"LinearScale\"},{\"attributes\":{\"callback\":null,\"data\":{\"x\":{\"__ndarray__\":\"RlnqSPDjB0DDvoLdW2k3QGDEjpYI8jdAtr90B7AELUDgVHt7CrsqQHaB9NLOQTFAFJIn/1C7PUBjZGJ28OtBQCm1fVj4mkVA\",\"dtype\":\"float64\",\"shape\":[9]},\"y\":{\"__ndarray__\":\"wNyBeEQ5IcCKBMYq2V8jwETEklo9biPAy6bhT+BvIsB2cWMAC1EiwL+xO87yuSLANhTGojYKJMBMmmDJ9K4kwNXQVTyNdSXA\",\"dtype\":\"float64\",\"shape\":[9]}},\"selected\":{\"id\":\"56a22a4a-37df-45b4-bfce-fe2cc63fc2ce\",\"type\":\"Selection\"},\"selection_policy\":{\"id\":\"1addeeb8-fce5-4b27-8de1-2cc952701fd3\",\"type\":\"UnionRenderers\"}},\"id\":\"4d0d42b6-d8ed-4c0b-bb08-7d27ff4cc168\",\"type\":\"ColumnDataSource\"},{\"attributes\":{\"axis_label\":\"Number of Entities Offshore (log scale)\",\"formatter\":{\"id\":\"0f19d7dc-ff5f-4d3b-b3f7-b919a6b43b94\",\"type\":\"BasicTickFormatter\"},\"plot\":{\"id\":\"c685967b-9384-4972-8715-aa327099785a\",\"subtype\":\"Figure\",\"type\":\"Plot\"},\"ticker\":{\"id\":\"87ccbdf4-8181-4dc2-97b0-c5ee97337d20\",\"type\":\"BasicTicker\"}},\"id\":\"291e7345-fe78-401d-9a5c-b8dd958474d0\",\"type\":\"LinearAxis\"},{\"attributes\":{\"callback\":null},\"id\":\"532dda26-85c1-4a36-a1d7-f8c4d21d7f99\",\"type\":\"DataRange1d\"},{\"attributes\":{\"high\":64306666666666.664,\"low\":404933333333.3333,\"palette\":[\"#0072B2\",\"#E69F00\",\"#F0E442\",\"#009E73\"]},\"id\":\"e4db4068-d84a-42ae-aa5e-37e4ee0e4923\",\"type\":\"LogColorMapper\"},{\"attributes\":{},\"id\":\"5e6abab5-b648-4be4-9785-3c8edc88d44d\",\"type\":\"LinearScale\"},{\"attributes\":{},\"id\":\"f8969766-f3b5-4968-a705-070ac2067240\",\"type\":\"BasicTicker\"},{\"attributes\":{\"fill_alpha\":{\"value\":0.5},\"fill_color\":{\"field\":\"c\",\"transform\":{\"id\":\"e4db4068-d84a-42ae-aa5e-37e4ee0e4923\",\"type\":\"LogColorMapper\"}},\"line_alpha\":{\"value\":0.5},\"line_color\":{\"field\":\"c\",\"transform\":{\"id\":\"e4db4068-d84a-42ae-aa5e-37e4ee0e4923\",\"type\":\"LogColorMapper\"}},\"radius\":{\"units\":\"data\",\"value\":1},\"x\":{\"field\":\"x\"},\"y\":{\"field\":\"y\"}},\"id\":\"07655a6d-5262-4112-b8d2-22c53963e3d9\",\"type\":\"Circle\"},{\"attributes\":{\"below\":[{\"id\":\"57ced750-ecb9-48f0-a2ea-3e853a625750\",\"type\":\"LinearAxis\"}],\"left\":[{\"id\":\"291e7345-fe78-401d-9a5c-b8dd958474d0\",\"type\":\"LinearAxis\"}],\"plot_height\":800,\"plot_width\":800,\"renderers\":[{\"id\":\"57ced750-ecb9-48f0-a2ea-3e853a625750\",\"type\":\"LinearAxis\"},{\"id\":\"43167d38-f297-4964-ac3d-fb3fb74740e2\",\"type\":\"Grid\"},{\"id\":\"291e7345-fe78-401d-9a5c-b8dd958474d0\",\"type\":\"LinearAxis\"},{\"id\":\"8eaef1af-ca7c-42dc-b4de-27f4d1820fc0\",\"type\":\"Grid\"},{\"id\":\"e419863e-3e3b-4ddb-83b5-ab1da359e76c\",\"type\":\"BoxAnnotation\"},{\"id\":\"7f6a1118-22e6-4881-ac25-b4fda9be1477\",\"type\":\"GlyphRenderer\"},{\"id\":\"249390d2-125c-481c-810c-f6a7fe476bf8\",\"type\":\"GlyphRenderer\"},{\"id\":\"e845effe-5ef1-4f9d-a379-6ac147b9988e\",\"type\":\"ColorBar\"}],\"right\":[{\"id\":\"e845effe-5ef1-4f9d-a379-6ac147b9988e\",\"type\":\"ColorBar\"}],\"title\":{\"id\":\"94350570-d0dd-44b5-9732-2ce6bb53b6fe\",\"type\":\"Title\"},\"toolbar\":{\"id\":\"575252aa-2ce7-4310-854a-68aebdce36c1\",\"type\":\"Toolbar\"},\"toolbar_location\":null,\"x_range\":{\"id\":\"c2d6f374-485f-463b-ba65-c17fe4934264\",\"type\":\"DataRange1d\"},\"x_scale\":{\"id\":\"9082dd25-b82b-43ac-b41b-6886b142a770\",\"type\":\"LinearScale\"},\"y_range\":{\"id\":\"f73dd8f4-1c51-4992-8846-45bf152d85f5\",\"type\":\"DataRange1d\"},\"y_scale\":{\"id\":\"82158991-f7f0-42ef-b7f5-1c71e92ceb10\",\"type\":\"LinearScale\"}},\"id\":\"c685967b-9384-4972-8715-aa327099785a\",\"subtype\":\"Figure\",\"type\":\"Plot\"},{\"attributes\":{\"callback\":null,\"renderers\":[{\"id\":\"7f6a1118-22e6-4881-ac25-b4fda9be1477\",\"type\":\"GlyphRenderer\"}],\"tooltips\":[[\"Country\",\"@country\"],[\"(Tax Rate, Log(number of entities offshore))\",\"($x, $y)\"]]},\"id\":\"abcb0fa3-5ed0-4bb2-9746-e6ca9d761405\",\"type\":\"HoverTool\"},{\"attributes\":{},\"id\":\"9c78da0a-6695-4a48-91cd-8fdecd6e4312\",\"type\":\"BasicTicker\"},{\"attributes\":{\"callback\":null,\"data\":{\"c\":[1421666666666.6667,6584000000000.0,1725266666666.6667,404933333333.3333,438466666666.6667,719600000000.0,1056200000000.0,653866666666.6666,1527933333333.3333,2047133333333.3333,1227600000000.0,8232000000000.0,7951333333333.333,16616666666666.666,2884666666666.6665,591400000000.0,464266666666.6667,19073333333333.332,20481333333333.332,1392466666666.6667,657466666666.6666,731600000000.0,3869333333333.3335,4699333333333.333,652133333333.3334,4177333333333.3335,19372000000000.0,13275333333333.334,2608000000000.0,18997333333333.332,1217600000000.0,926800000000.0,1933466666666.6667,1220066666666.6667,1221066666666.6667,8206666666666.667,3376666666666.6665,4509333333333.333,1208333333333.3333,1933466666666.6667,1221066666666.6667,14828000000000.0,64306666666666.664],\"country\":[\"Russian Federation\",\"China\",\"Brazil\",\"Argentina\",\"Poland\",\"Turkey\",\"Mexico\",\"Indonesia\",\"India\",\"Arab World\",\"Central Europe and the Baltics\",\"East Asia & Pacific (excluding high income)\",\"Early-demographic dividend\",\"East Asia & Pacific\",\"Europe & Central Asia (excluding high income)\",\"Fragile and conflict affected situations\",\"Heavily indebted poor countries (HIPC)\",\"IBRD only\",\"IDA & IBRD total\",\"IDA total\",\"IDA blend\",\"IDA only\",\"Latin America & Caribbean (excluding high income)\",\"Latin America & Caribbean\",\"Least developed countries: UN classification\",\"Lower middle income\",\"Low & middle income\",\"Late-demographic dividend\",\"Middle East & North Africa\",\"Middle income\",\"Middle East & North Africa (excluding high income)\",\"Pre-demographic dividend\",\"South Asia\",\"Sub-Saharan Africa (excluding high income)\",\"Sub-Saharan Africa\",\"East Asia & Pacific (IDA & IBRD countries)\",\"Europe & Central Asia (IDA & IBRD countries)\",\"Latin America & the Caribbean (IDA & IBRD countries)\",\"Middle East & North Africa (IDA & IBRD countries)\",\"South Asia (IDA & IBRD)\",\"Sub-Saharan Africa (IDA & IBRD countries)\",\"Upper middle income\",\"World\"],\"x\":[2.9862981506841235,23.411558002872663,23.94544354424977,14.509155495645114,13.365314348988647,17.2570621344507,29.73170466152267,35.843275831263576,43.21070390832967,22.879864300338266,15.934520807477046,32.928331692868475,23.555895522134193,35.002556166180845,13.506365350123907,\"NaN\",19.851485464402998,22.143621483164054,20.2082113781262,20.170736915816526,23.571689615700436,20.10448054397547,24.52537795337311,24.492867749367917,19.861839473330452,23.176944883445955,20.393794932106456,18.89238963081335,22.5640510966177,21.582316467110125,24.871143398386724,23.79203703648025,17.665207886946547,22.600456976310127,22.600456976310127,32.928331692868475,12.925554936259733,24.492867749367917,25.79871763639961,17.665207886946547,22.600456976310127,19.385877222777477,21.738515869508497],\"y\":[-8.529858811572389,-9.311579096652695,-9.091038517039856,-9.176019764367577,-9.443279495849152,-9.85276978089087,-10.21083280650962,-10.36833116677644,-10.861885110816559,\"NaN\",\"NaN\",\"NaN\",\"NaN\",\"NaN\",\"NaN\",\"NaN\",\"NaN\",\"NaN\",\"NaN\",\"NaN\",\"NaN\",\"NaN\",\"NaN\",\"NaN\",\"NaN\",\"NaN\",\"NaN\",\"NaN\",\"NaN\",\"NaN\",\"NaN\",\"NaN\",\"NaN\",\"NaN\",\"NaN\",\"NaN\",\"NaN\",\"NaN\",\"NaN\",\"NaN\",\"NaN\",\"NaN\",\"NaN\"]},\"selected\":{\"id\":\"245d133c-4471-415f-81f7-ceb0e57ba54d\",\"type\":\"Selection\"},\"selection_policy\":{\"id\":\"48e9c477-8b70-47bc-8610-80e39d6fdae4\",\"type\":\"UnionRenderers\"}},\"id\":\"804db753-60f5-48d1-8cef-d4d4a8358f3a\",\"type\":\"ColumnDataSource\"},{\"attributes\":{\"plot\":null,\"text\":\"Number of entities offshore vs tax rate (Major developping countries)\",\"text_color\":{\"value\":\"grey\"},\"text_font_size\":{\"value\":\"11pt\"},\"text_font_style\":\"normal\"},\"id\":\"94350570-d0dd-44b5-9732-2ce6bb53b6fe\",\"type\":\"Title\"},{\"attributes\":{\"fill_alpha\":{\"value\":0.1},\"fill_color\":{\"value\":\"#1f77b4\"},\"line_alpha\":{\"value\":0.1},\"line_color\":{\"value\":\"#1f77b4\"},\"radius\":{\"units\":\"data\",\"value\":1},\"x\":{\"field\":\"x\"},\"y\":{\"field\":\"y\"}},\"id\":\"cb352a64-8e7f-45f1-90d4-e10b0f76e9ec\",\"type\":\"Circle\"},{\"attributes\":{},\"id\":\"d06ec229-a66b-42d5-a966-362e9493fde8\",\"type\":\"BasicTickFormatter\"},{\"attributes\":{\"callback\":null},\"id\":\"b15199ce-8872-4e02-951a-fef8137b0ae9\",\"type\":\"DataRange1d\"},{\"attributes\":{\"line_alpha\":0.1,\"line_color\":\"navy\",\"line_width\":4,\"x\":{\"field\":\"x\"},\"y\":{\"field\":\"y\"}},\"id\":\"b080fd31-6280-484a-99fe-efb7f1700f86\",\"type\":\"Line\"},{\"attributes\":{\"bottom_units\":\"screen\",\"fill_alpha\":{\"value\":0.5},\"fill_color\":{\"value\":\"lightgrey\"},\"left_units\":\"screen\",\"level\":\"overlay\",\"line_alpha\":{\"value\":1.0},\"line_color\":{\"value\":\"black\"},\"line_dash\":[4,4],\"line_width\":{\"value\":2},\"plot\":null,\"render_mode\":\"css\",\"right_units\":\"screen\",\"top_units\":\"screen\"},\"id\":\"e419863e-3e3b-4ddb-83b5-ab1da359e76c\",\"type\":\"BoxAnnotation\"},{\"attributes\":{},\"id\":\"46fa6408-4cf1-4c30-80f4-458996e7fbb7\",\"type\":\"PanTool\"},{\"attributes\":{},\"id\":\"0f19d7dc-ff5f-4d3b-b3f7-b919a6b43b94\",\"type\":\"BasicTickFormatter\"},{\"attributes\":{\"bottom_units\":\"screen\",\"fill_alpha\":{\"value\":0.5},\"fill_color\":{\"value\":\"lightgrey\"},\"left_units\":\"screen\",\"level\":\"overlay\",\"line_alpha\":{\"value\":1.0},\"line_color\":{\"value\":\"black\"},\"line_dash\":[4,4],\"line_width\":{\"value\":2},\"plot\":null,\"render_mode\":\"css\",\"right_units\":\"screen\",\"top_units\":\"screen\"},\"id\":\"de271b10-2302-4c9e-bf37-156e7c038459\",\"type\":\"BoxAnnotation\"},{\"attributes\":{\"callback\":null},\"id\":\"f73dd8f4-1c51-4992-8846-45bf152d85f5\",\"type\":\"DataRange1d\"},{\"attributes\":{\"plot\":{\"id\":\"57dae1d7-a8ba-4cfa-9553-ff7d96c1740e\",\"subtype\":\"Figure\",\"type\":\"Plot\"},\"ticker\":{\"id\":\"f8969766-f3b5-4968-a705-070ac2067240\",\"type\":\"BasicTicker\"}},\"id\":\"95c06cf8-93d4-4529-abc2-efee29a03a4c\",\"type\":\"Grid\"},{\"attributes\":{\"children\":[{\"id\":\"c685967b-9384-4972-8715-aa327099785a\",\"subtype\":\"Figure\",\"type\":\"Plot\"},{\"id\":\"57dae1d7-a8ba-4cfa-9553-ff7d96c1740e\",\"subtype\":\"Figure\",\"type\":\"Plot\"}]},\"id\":\"c22777c8-a657-482d-ae96-6963dbb4fddc\",\"type\":\"Row\"},{\"attributes\":{\"color_mapper\":{\"id\":\"e4db4068-d84a-42ae-aa5e-37e4ee0e4923\",\"type\":\"LogColorMapper\"},\"formatter\":{\"id\":\"0e127f1a-a069-4fdb-8a5d-5a65daf6aa87\",\"type\":\"BasicTickFormatter\"},\"label_standoff\":12,\"location\":[0,0],\"plot\":{\"id\":\"c685967b-9384-4972-8715-aa327099785a\",\"subtype\":\"Figure\",\"type\":\"Plot\"},\"ticker\":{\"id\":\"73cee0e0-a854-4548-b4fe-977bd69286e1\",\"type\":\"LogTicker\"}},\"id\":\"e845effe-5ef1-4f9d-a379-6ac147b9988e\",\"type\":\"ColorBar\"},{\"attributes\":{\"active_drag\":\"auto\",\"active_inspect\":\"auto\",\"active_scroll\":\"auto\",\"active_tap\":\"auto\",\"logo\":null,\"tools\":[{\"id\":\"80e4dfbe-93f0-4a31-a882-7c4954830112\",\"type\":\"PanTool\"},{\"id\":\"addd0ead-c769-4b2e-a521-a9a69eba5e62\",\"type\":\"WheelZoomTool\"},{\"id\":\"3ce70c98-c263-4bb3-a7d9-b5c31e91e97b\",\"type\":\"BoxZoomTool\"},{\"id\":\"ac4e302c-f227-42a6-b389-6f852b43d450\",\"type\":\"SaveTool\"},{\"id\":\"ffb05c88-cb61-488b-9d8b-5331732cf7ec\",\"type\":\"ResetTool\"},{\"id\":\"4268216f-e80a-4d37-b7de-b817bbbe7e68\",\"type\":\"HelpTool\"},{\"id\":\"abcb0fa3-5ed0-4bb2-9746-e6ca9d761405\",\"type\":\"HoverTool\"},{\"id\":\"b1e39533-3ecf-4296-85ca-56b82a79f2ad\",\"type\":\"HoverTool\"}]},\"id\":\"575252aa-2ce7-4310-854a-68aebdce36c1\",\"type\":\"Toolbar\"},{\"attributes\":{},\"id\":\"0039b6bd-4b24-4607-8edf-50bdcbc72405\",\"type\":\"BasicTicker\"},{\"attributes\":{\"formatter\":{\"id\":\"d06ec229-a66b-42d5-a966-362e9493fde8\",\"type\":\"BasicTickFormatter\"},\"plot\":{\"id\":\"57dae1d7-a8ba-4cfa-9553-ff7d96c1740e\",\"subtype\":\"Figure\",\"type\":\"Plot\"},\"ticker\":{\"id\":\"0039b6bd-4b24-4607-8edf-50bdcbc72405\",\"type\":\"BasicTicker\"}},\"id\":\"b1ba191f-e95f-4478-b103-1caf983345e8\",\"type\":\"LinearAxis\"},{\"attributes\":{},\"id\":\"245d133c-4471-415f-81f7-ceb0e57ba54d\",\"type\":\"Selection\"},{\"attributes\":{\"dimension\":1,\"plot\":{\"id\":\"57dae1d7-a8ba-4cfa-9553-ff7d96c1740e\",\"subtype\":\"Figure\",\"type\":\"Plot\"},\"ticker\":{\"id\":\"0039b6bd-4b24-4607-8edf-50bdcbc72405\",\"type\":\"BasicTicker\"}},\"id\":\"68796882-ac8c-4b5d-99e9-bc6d43fa7686\",\"type\":\"Grid\"},{\"attributes\":{\"callback\":null},\"id\":\"c2d6f374-485f-463b-ba65-c17fe4934264\",\"type\":\"DataRange1d\"},{\"attributes\":{\"active_drag\":\"auto\",\"active_inspect\":\"auto\",\"active_scroll\":\"auto\",\"active_tap\":\"auto\",\"tools\":[{\"id\":\"46fa6408-4cf1-4c30-80f4-458996e7fbb7\",\"type\":\"PanTool\"},{\"id\":\"3841e2d0-3b54-4e58-8683-f8395a0e70a0\",\"type\":\"WheelZoomTool\"},{\"id\":\"4defb7fc-32a7-46bd-a12b-dd59c28aab9b\",\"type\":\"BoxZoomTool\"},{\"id\":\"655a9923-e70b-412e-9db4-babd63b60c9e\",\"type\":\"SaveTool\"},{\"id\":\"172c5b8b-0880-4bfd-86ae-a03e34d8091e\",\"type\":\"ResetTool\"},{\"id\":\"d5765dfd-16c3-4a21-8314-b79990a1b50e\",\"type\":\"HelpTool\"}]},\"id\":\"e97bef41-4261-4f3a-83af-4fb7fa6a298c\",\"type\":\"Toolbar\"},{\"attributes\":{\"data_source\":{\"id\":\"804db753-60f5-48d1-8cef-d4d4a8358f3a\",\"type\":\"ColumnDataSource\"},\"glyph\":{\"id\":\"07655a6d-5262-4112-b8d2-22c53963e3d9\",\"type\":\"Circle\"},\"hover_glyph\":null,\"muted_glyph\":null,\"nonselection_glyph\":{\"id\":\"cb352a64-8e7f-45f1-90d4-e10b0f76e9ec\",\"type\":\"Circle\"},\"selection_glyph\":null,\"view\":{\"id\":\"11d1c5d8-22dc-428a-92ee-cd21c649649b\",\"type\":\"CDSView\"}},\"id\":\"7f6a1118-22e6-4881-ac25-b4fda9be1477\",\"type\":\"GlyphRenderer\"},{\"attributes\":{\"plot\":null,\"text\":\"Real GDP Legend Bar (USD)\"},\"id\":\"4b13da47-cd3c-4377-a1bb-efdca8761225\",\"type\":\"Title\"},{\"attributes\":{},\"id\":\"4268216f-e80a-4d37-b7de-b817bbbe7e68\",\"type\":\"HelpTool\"},{\"attributes\":{},\"id\":\"1addeeb8-fce5-4b27-8de1-2cc952701fd3\",\"type\":\"UnionRenderers\"},{\"attributes\":{},\"id\":\"48e9c477-8b70-47bc-8610-80e39d6fdae4\",\"type\":\"UnionRenderers\"},{\"attributes\":{},\"id\":\"ffb05c88-cb61-488b-9d8b-5331732cf7ec\",\"type\":\"ResetTool\"},{\"attributes\":{},\"id\":\"73cee0e0-a854-4548-b4fe-977bd69286e1\",\"type\":\"LogTicker\"},{\"attributes\":{\"axis_label\":\"Tax Rate (%)\",\"formatter\":{\"id\":\"d239311a-bcf6-496d-bd10-af870fcd661d\",\"type\":\"BasicTickFormatter\"},\"plot\":{\"id\":\"c685967b-9384-4972-8715-aa327099785a\",\"subtype\":\"Figure\",\"type\":\"Plot\"},\"ticker\":{\"id\":\"9c78da0a-6695-4a48-91cd-8fdecd6e4312\",\"type\":\"BasicTicker\"}},\"id\":\"57ced750-ecb9-48f0-a2ea-3e853a625750\",\"type\":\"LinearAxis\"},{\"attributes\":{},\"id\":\"82158991-f7f0-42ef-b7f5-1c71e92ceb10\",\"type\":\"LinearScale\"},{\"attributes\":{},\"id\":\"56a22a4a-37df-45b4-bfce-fe2cc63fc2ce\",\"type\":\"Selection\"},{\"attributes\":{\"plot\":{\"id\":\"c685967b-9384-4972-8715-aa327099785a\",\"subtype\":\"Figure\",\"type\":\"Plot\"},\"ticker\":{\"id\":\"9c78da0a-6695-4a48-91cd-8fdecd6e4312\",\"type\":\"BasicTicker\"}},\"id\":\"43167d38-f297-4964-ac3d-fb3fb74740e2\",\"type\":\"Grid\"},{\"attributes\":{\"formatter\":{\"id\":\"a281ac22-908f-4c6a-91f1-fffc5fa6657a\",\"type\":\"BasicTickFormatter\"},\"plot\":{\"id\":\"57dae1d7-a8ba-4cfa-9553-ff7d96c1740e\",\"subtype\":\"Figure\",\"type\":\"Plot\"},\"ticker\":{\"id\":\"f8969766-f3b5-4968-a705-070ac2067240\",\"type\":\"BasicTicker\"}},\"id\":\"9a787b7a-56e8-4ede-8b03-d6824041c3f6\",\"type\":\"LinearAxis\"},{\"attributes\":{\"line_alpha\":0.1,\"line_color\":\"#1f77b4\",\"line_width\":4,\"x\":{\"field\":\"x\"},\"y\":{\"field\":\"y\"}},\"id\":\"8d87a1db-5b67-4999-9cdb-5fcc55a7364a\",\"type\":\"Line\"},{\"attributes\":{},\"id\":\"d5765dfd-16c3-4a21-8314-b79990a1b50e\",\"type\":\"HelpTool\"},{\"attributes\":{},\"id\":\"172c5b8b-0880-4bfd-86ae-a03e34d8091e\",\"type\":\"ResetTool\"},{\"attributes\":{},\"id\":\"addd0ead-c769-4b2e-a521-a9a69eba5e62\",\"type\":\"WheelZoomTool\"},{\"attributes\":{\"overlay\":{\"id\":\"de271b10-2302-4c9e-bf37-156e7c038459\",\"type\":\"BoxAnnotation\"}},\"id\":\"4defb7fc-32a7-46bd-a12b-dd59c28aab9b\",\"type\":\"BoxZoomTool\"},{\"attributes\":{\"overlay\":{\"id\":\"e419863e-3e3b-4ddb-83b5-ab1da359e76c\",\"type\":\"BoxAnnotation\"}},\"id\":\"3ce70c98-c263-4bb3-a7d9-b5c31e91e97b\",\"type\":\"BoxZoomTool\"},{\"attributes\":{},\"id\":\"a281ac22-908f-4c6a-91f1-fffc5fa6657a\",\"type\":\"BasicTickFormatter\"},{\"attributes\":{},\"id\":\"87ccbdf4-8181-4dc2-97b0-c5ee97337d20\",\"type\":\"BasicTicker\"},{\"attributes\":{},\"id\":\"0e127f1a-a069-4fdb-8a5d-5a65daf6aa87\",\"type\":\"BasicTickFormatter\"},{\"attributes\":{\"below\":[{\"id\":\"9a787b7a-56e8-4ede-8b03-d6824041c3f6\",\"type\":\"LinearAxis\"}],\"left\":[{\"id\":\"b1ba191f-e95f-4478-b103-1caf983345e8\",\"type\":\"LinearAxis\"}],\"min_border\":null,\"outline_line_color\":{\"value\":null},\"plot_height\":511,\"plot_width\":35,\"renderers\":[{\"id\":\"9a787b7a-56e8-4ede-8b03-d6824041c3f6\",\"type\":\"LinearAxis\"},{\"id\":\"95c06cf8-93d4-4529-abc2-efee29a03a4c\",\"type\":\"Grid\"},{\"id\":\"b1ba191f-e95f-4478-b103-1caf983345e8\",\"type\":\"LinearAxis\"},{\"id\":\"68796882-ac8c-4b5d-99e9-bc6d43fa7686\",\"type\":\"Grid\"},{\"id\":\"de271b10-2302-4c9e-bf37-156e7c038459\",\"type\":\"BoxAnnotation\"}],\"title\":{\"id\":\"4b13da47-cd3c-4377-a1bb-efdca8761225\",\"type\":\"Title\"},\"title_location\":\"right\",\"toolbar\":{\"id\":\"e97bef41-4261-4f3a-83af-4fb7fa6a298c\",\"type\":\"Toolbar\"},\"toolbar_location\":null,\"x_range\":{\"id\":\"b15199ce-8872-4e02-951a-fef8137b0ae9\",\"type\":\"DataRange1d\"},\"x_scale\":{\"id\":\"47e2e47b-bae5-446d-b8e3-c58fc6584499\",\"type\":\"LinearScale\"},\"y_range\":{\"id\":\"532dda26-85c1-4a36-a1d7-f8c4d21d7f99\",\"type\":\"DataRange1d\"},\"y_scale\":{\"id\":\"5e6abab5-b648-4be4-9785-3c8edc88d44d\",\"type\":\"LinearScale\"}},\"id\":\"57dae1d7-a8ba-4cfa-9553-ff7d96c1740e\",\"subtype\":\"Figure\",\"type\":\"Plot\"},{\"attributes\":{\"data_source\":{\"id\":\"4d0d42b6-d8ed-4c0b-bb08-7d27ff4cc168\",\"type\":\"ColumnDataSource\"},\"glyph\":{\"id\":\"b080fd31-6280-484a-99fe-efb7f1700f86\",\"type\":\"Line\"},\"hover_glyph\":null,\"muted_glyph\":null,\"nonselection_glyph\":{\"id\":\"8d87a1db-5b67-4999-9cdb-5fcc55a7364a\",\"type\":\"Line\"},\"selection_glyph\":null,\"view\":{\"id\":\"2bec5e6f-4e57-4302-b4a9-e3d9dfcc6404\",\"type\":\"CDSView\"}},\"id\":\"249390d2-125c-481c-810c-f6a7fe476bf8\",\"type\":\"GlyphRenderer\"},{\"attributes\":{},\"id\":\"3841e2d0-3b54-4e58-8683-f8395a0e70a0\",\"type\":\"WheelZoomTool\"},{\"attributes\":{\"source\":{\"id\":\"4d0d42b6-d8ed-4c0b-bb08-7d27ff4cc168\",\"type\":\"ColumnDataSource\"}},\"id\":\"2bec5e6f-4e57-4302-b4a9-e3d9dfcc6404\",\"type\":\"CDSView\"},{\"attributes\":{\"callback\":null,\"renderers\":[{\"id\":\"249390d2-125c-481c-810c-f6a7fe476bf8\",\"type\":\"GlyphRenderer\"}],\"tooltips\":[[\"Set of Country\",\"Developping countries, p-value=0.001\"]]},\"id\":\"b1e39533-3ecf-4296-85ca-56b82a79f2ad\",\"type\":\"HoverTool\"},{\"attributes\":{},\"id\":\"655a9923-e70b-412e-9db4-babd63b60c9e\",\"type\":\"SaveTool\"},{\"attributes\":{},\"id\":\"47e2e47b-bae5-446d-b8e3-c58fc6584499\",\"type\":\"LinearScale\"},{\"attributes\":{},\"id\":\"ac4e302c-f227-42a6-b389-6f852b43d450\",\"type\":\"SaveTool\"},{\"attributes\":{\"dimension\":1,\"plot\":{\"id\":\"c685967b-9384-4972-8715-aa327099785a\",\"subtype\":\"Figure\",\"type\":\"Plot\"},\"ticker\":{\"id\":\"87ccbdf4-8181-4dc2-97b0-c5ee97337d20\",\"type\":\"BasicTicker\"}},\"id\":\"8eaef1af-ca7c-42dc-b4de-27f4d1820fc0\",\"type\":\"Grid\"},{\"attributes\":{},\"id\":\"80e4dfbe-93f0-4a31-a882-7c4954830112\",\"type\":\"PanTool\"}],\"root_ids\":[\"c22777c8-a657-482d-ae96-6963dbb4fddc\"]},\"title\":\"Bokeh Application\",\"version\":\"0.12.16\"}};\n",
       "  var render_items = [{\"docid\":\"755687b4-b873-4ecd-882d-2db4621309d9\",\"elementid\":\"c7a6a7bb-6c77-44e4-9b84-6e111c039107\",\"modelid\":\"c22777c8-a657-482d-ae96-6963dbb4fddc\"}];\n",
       "  root.Bokeh.embed.embed_items_notebook(docs_json, render_items);\n",
       "\n",
       "  }\n",
       "  if (root.Bokeh !== undefined) {\n",
       "    embed_document(root);\n",
       "  } else {\n",
       "    var attempts = 0;\n",
       "    var timer = setInterval(function(root) {\n",
       "      if (root.Bokeh !== undefined) {\n",
       "        embed_document(root);\n",
       "        clearInterval(timer);\n",
       "      }\n",
       "      attempts++;\n",
       "      if (attempts > 100) {\n",
       "        console.log(\"Bokeh: ERROR: Unable to run BokehJS code because BokehJS library is missing\")\n",
       "        clearInterval(timer);\n",
       "      }\n",
       "    }, 10, root)\n",
       "  }\n",
       "})(window);"
      ],
      "application/vnd.bokehjs_exec.v0+json": ""
     },
     "metadata": {
      "application/vnd.bokehjs_exec.v0+json": {
       "id": "c22777c8-a657-482d-ae96-6963dbb4fddc"
      }
     },
     "output_type": "display_data"
    }
   ],
   "source": [
    "selection=country_count_tax_rate['GDP_y'].apply(lambda x: x<15000) & country_count_tax_rate['GDP_x'].apply(lambda x: x>40*10e9)\n",
    "\n",
    "x = country_count_tax_rate['Tax Rate'][selection]\n",
    "y = np.log10(country_count_tax_rate['n_companies_offshore'][selection]/country_count_tax_rate['GDP_x'][selection])\n",
    "country_names=country_count_tax_rate['Country Name'][selection]\n",
    "c = country_count_tax_rate['GDP_x'][selection]\n",
    "c[c.isna()]=0\n",
    "\n",
    "# set the regression line\n",
    "df=pd.DataFrame({'Tax Rate':x,'n_companies_offshore':y})\n",
    "df=df.dropna(inplace=False)\n",
    "a=np.array(df['Tax Rate'])\n",
    "b=np.array(df['n_companies_offshore'])\n",
    "\n",
    "m,i,r,p_value,std=stats.linregress(a,b)\n",
    "\n",
    "\n",
    "# establish the color mapper schema\n",
    "color_mapper = LogColorMapper(palette=\"Colorblind4\", low=min(c),\\\n",
    "                              high=max(c))\n",
    "\n",
    "# establish the sources of data to make the interactive graph\n",
    "source=ColumnDataSource(data=dict(\n",
    "    x=list(x),\n",
    "    y=list(y),\n",
    "    country=list(country_names),\n",
    "    c=list(c),\n",
    "))\n",
    "\n",
    "p = figure(title=\"Number of entities offshore vs tax rate (Major developping countries)\", plot_width=800, plot_height=800)\n",
    "scatter=p.scatter(x='x', y='y', radius=1, source=source, color={'field': 'c', 'transform': color_mapper}, alpha=0.5)\n",
    "hover= HoverTool(tooltips = [(\"Country\", \"@country\"),(\"(Tax Rate, Log(number of entities offshore))\", \"($x, $y)\")],renderers=[scatter])\n",
    "p.add_tools(hover)\n",
    "\n",
    "line=p.line(df['Tax Rate'], m*df['Tax Rate']+i, line_width=4, color='navy', alpha=0.1)\n",
    "hover0=HoverTool(tooltips = [(\"Set of Country\",'Developping countries, p-value='+str(p_value)[:5])], renderers=[line])\n",
    "p.add_tools(hover0)\n",
    "\n",
    "# set the style of the title\n",
    "p.title.text_color = \"grey\"\n",
    "p.title.text_font = \"helvetica\"\n",
    "p.title.text_font_style = \"normal\"\n",
    "p.title.text_font_size = '11pt'\n",
    "\n",
    "# set the label options\n",
    "p.xaxis.axis_label='Tax Rate (%)'\n",
    "p.yaxis.axis_label='Number of Entities Offshore (log scale)'\n",
    "\n",
    "\n",
    "# set the color bar tab\n",
    "color_bar = ColorBar(color_mapper=color_mapper, ticker=LogTicker(),\n",
    "                     label_standoff=12, border_line_color=None, location=(0,0))\n",
    "\n",
    "# set the color bar title\n",
    "color_bar_height = 511\n",
    "color_bar_width = 35\n",
    "\n",
    "color_bar_plot = figure(title=\"Real GDP Legend Bar (USD)\", title_location=\"right\", \n",
    "                        height=color_bar_height, width=color_bar_width, \n",
    "                        toolbar_location=None, min_border=None, \n",
    "                        outline_line_color=None)\n",
    "\n",
    "# add the color bar\n",
    "p.add_layout(color_bar, 'right')\n",
    "\n",
    "# remove the interactive toolbar\n",
    "p.toolbar.logo = None\n",
    "p.toolbar_location = None\n",
    "\n",
    "layout = row_plot(p, color_bar_plot)\n",
    "output_file(\"developpingcountries.html\", title=\"developpingcountries\")\n",
    "show(layout)"
   ]
  },
  {
   "cell_type": "markdown",
   "metadata": {},
   "source": [
    "#### Seven Biggest Economies"
   ]
  },
  {
   "cell_type": "markdown",
   "metadata": {},
   "source": [
    "Graph of the biggest economies. The relationship between the 7 biggest economies and tax rate has been investigated. The economies almost correspond to the G7 countries, but China has taken the place of Canada. Even though these are the biggest economies in the world, the difference in size between them influence the probability of creating business and hence having companies offshore. As a consequence also in this case the GDP was used to weight the number of offshore entities present in the panama papers. \n",
    "\n",
    "All the countries with a total GDP `GDP_x`> 200 billions USD have been considered.\n",
    "\n",
    "The figure below shows a completely different picture, compared to the previous ones: taking out Japan, it seems to be a positive exponential relationship between tax rate and number of offshore entities for the economically strongest countries suggesting that in these countries (p-value=0.531), entities are escaping corporate taxation levels by putting their companies offshore. Japan represents an exception among the 7 biggest economies: even though it has a very high tax rate, the presence of Japanese entities in the documents is really low. This could be due to cultural reasons or might be due to the fact that Japanese entities use different means to go offshore and they are not very represented in the Panama Papers themselves."
   ]
  },
  {
   "cell_type": "code",
   "execution_count": 51,
   "metadata": {},
   "outputs": [
    {
     "data": {
      "text/html": [
       "\n",
       "<div class=\"bk-root\">\n",
       "    <div class=\"bk-plotdiv\" id=\"6844c257-6424-496a-83f1-fef69beecb04\"></div>\n",
       "</div>"
      ]
     },
     "metadata": {},
     "output_type": "display_data"
    },
    {
     "data": {
      "application/javascript": [
       "(function(root) {\n",
       "  function embed_document(root) {\n",
       "    \n",
       "  var docs_json = {\"55783f05-ba33-40f1-a026-c01b61da37b7\":{\"roots\":{\"references\":[{\"attributes\":{\"data_source\":{\"id\":\"8a8ba8de-8372-46ea-8711-de1245b6278a\",\"type\":\"ColumnDataSource\"},\"glyph\":{\"id\":\"ec29c33b-8331-4826-8988-27de8ec98ca1\",\"type\":\"Line\"},\"hover_glyph\":null,\"muted_glyph\":null,\"nonselection_glyph\":{\"id\":\"3fce3170-df96-4c1b-ac7a-a612517270b2\",\"type\":\"Line\"},\"selection_glyph\":null,\"view\":{\"id\":\"d83fdc6b-bba4-4aa8-ac12-965cfad8b927\",\"type\":\"CDSView\"}},\"id\":\"5f8e75fe-a678-4029-90d8-bed4c560c145\",\"type\":\"GlyphRenderer\"},{\"attributes\":{},\"id\":\"cc438f27-5809-4e3a-a7bb-e259f5dea852\",\"type\":\"LinearScale\"},{\"attributes\":{},\"id\":\"53cb981c-bd59-4d81-a162-9cb5dc59583b\",\"type\":\"UnionRenderers\"},{\"attributes\":{},\"id\":\"fac4338d-2abc-4bf2-8ee0-65ad92192cdf\",\"type\":\"ResetTool\"},{\"attributes\":{\"line_alpha\":0.1,\"line_color\":\"#1f77b4\",\"line_width\":4,\"x\":{\"field\":\"x\"},\"y\":{\"field\":\"y\"}},\"id\":\"3fce3170-df96-4c1b-ac7a-a612517270b2\",\"type\":\"Line\"},{\"attributes\":{},\"id\":\"c4f193d3-010b-4aad-b535-fc48e134df15\",\"type\":\"Selection\"},{\"attributes\":{\"callback\":null,\"renderers\":[{\"id\":\"85aaa87a-c68b-44d1-889d-85293bad36a7\",\"type\":\"GlyphRenderer\"}],\"tooltips\":[[\"Country\",\"@country\"],[\"(Tax Rate, Log(number of entities offshore))\",\"($x, $y)\"]]},\"id\":\"85812ea8-f51c-4dc4-b438-fca446ea3d19\",\"type\":\"HoverTool\"},{\"attributes\":{},\"id\":\"a7915cb1-6005-4e92-b3f2-75f18ea9a265\",\"type\":\"BasicTickFormatter\"},{\"attributes\":{},\"id\":\"6cf2c010-fda6-4927-a187-8603bd297339\",\"type\":\"SaveTool\"},{\"attributes\":{\"below\":[{\"id\":\"4bf8697d-328f-442e-a859-4412e811cac9\",\"type\":\"LinearAxis\"}],\"left\":[{\"id\":\"db83b408-fd02-47d6-960c-d79d7a8a479b\",\"type\":\"LinearAxis\"}],\"plot_height\":800,\"plot_width\":800,\"renderers\":[{\"id\":\"4bf8697d-328f-442e-a859-4412e811cac9\",\"type\":\"LinearAxis\"},{\"id\":\"217ceea0-c6fa-4f13-9595-e31e2e70db9f\",\"type\":\"Grid\"},{\"id\":\"db83b408-fd02-47d6-960c-d79d7a8a479b\",\"type\":\"LinearAxis\"},{\"id\":\"d060acca-63fe-4ae8-86c4-e5a1154e3bbe\",\"type\":\"Grid\"},{\"id\":\"339f9725-4e98-4ae2-a9b5-15548042d352\",\"type\":\"BoxAnnotation\"},{\"id\":\"85aaa87a-c68b-44d1-889d-85293bad36a7\",\"type\":\"GlyphRenderer\"},{\"id\":\"5f8e75fe-a678-4029-90d8-bed4c560c145\",\"type\":\"GlyphRenderer\"}],\"title\":{\"id\":\"64c186f9-f92a-42bb-af5d-4e689822efa7\",\"type\":\"Title\"},\"toolbar\":{\"id\":\"76eb2ce9-27e7-4829-afd7-8458cea06242\",\"type\":\"Toolbar\"},\"toolbar_location\":null,\"x_range\":{\"id\":\"a56dae46-ea4a-43ad-aead-3c0628d380ed\",\"type\":\"DataRange1d\"},\"x_scale\":{\"id\":\"2df76ad9-9924-4126-8bc2-202283f99b0c\",\"type\":\"LinearScale\"},\"y_range\":{\"id\":\"ac1b8ed5-6c4c-4e45-b56d-69a4c31aa467\",\"type\":\"DataRange1d\"},\"y_scale\":{\"id\":\"cc438f27-5809-4e3a-a7bb-e259f5dea852\",\"type\":\"LinearScale\"}},\"id\":\"1c48393e-6d77-4817-a339-79a349892c56\",\"subtype\":\"Figure\",\"type\":\"Plot\"},{\"attributes\":{\"line_alpha\":0.1,\"line_color\":\"navy\",\"line_width\":4,\"x\":{\"field\":\"x\"},\"y\":{\"field\":\"y\"}},\"id\":\"ec29c33b-8331-4826-8988-27de8ec98ca1\",\"type\":\"Line\"},{\"attributes\":{\"overlay\":{\"id\":\"339f9725-4e98-4ae2-a9b5-15548042d352\",\"type\":\"BoxAnnotation\"}},\"id\":\"299ee38c-61d8-4619-ba99-2b864cda0f82\",\"type\":\"BoxZoomTool\"},{\"attributes\":{\"fill_alpha\":{\"value\":0.6},\"fill_color\":{\"value\":\"#1f77b4\"},\"line_color\":{\"value\":\"#1f77b4\"},\"radius\":{\"units\":\"data\",\"value\":1},\"x\":{\"field\":\"x\"},\"y\":{\"field\":\"y\"}},\"id\":\"cbbc0cb4-6a8b-41c9-b811-03aa9823531b\",\"type\":\"Circle\"},{\"attributes\":{},\"id\":\"5fa22820-2a1a-444b-8236-2c2eceb8195f\",\"type\":\"PanTool\"},{\"attributes\":{\"callback\":null,\"data\":{\"x\":{\"__ndarray__\":\"aW7IMDXCQUDDvoLdW2k3QP9IsYPtNkpAht5P7kUzQEAROvWT4M44QJc8rIHCETBA\",\"dtype\":\"float64\",\"shape\":[6]},\"y\":{\"__ndarray__\":\"mmPonTf/IsAyzElvK2UjwNyyLq/JcCLAXcKfKHcZI8D9VxV3aFkjwPf1DCcBoyPA\",\"dtype\":\"float64\",\"shape\":[6]}},\"selected\":{\"id\":\"c4f193d3-010b-4aad-b535-fc48e134df15\",\"type\":\"Selection\"},\"selection_policy\":{\"id\":\"9cd18688-1edd-404d-8d67-40b551140e1e\",\"type\":\"UnionRenderers\"}},\"id\":\"8a8ba8de-8372-46ea-8711-de1245b6278a\",\"type\":\"ColumnDataSource\"},{\"attributes\":{\"axis_label\":\"Tax Rate (%)\",\"formatter\":{\"id\":\"a7915cb1-6005-4e92-b3f2-75f18ea9a265\",\"type\":\"BasicTickFormatter\"},\"plot\":{\"id\":\"1c48393e-6d77-4817-a339-79a349892c56\",\"subtype\":\"Figure\",\"type\":\"Plot\"},\"ticker\":{\"id\":\"394557fc-fcb9-46f8-a7a1-b44e19579c0c\",\"type\":\"BasicTicker\"}},\"id\":\"4bf8697d-328f-442e-a859-4412e811cac9\",\"type\":\"LinearAxis\"},{\"attributes\":{\"source\":{\"id\":\"8a8ba8de-8372-46ea-8711-de1245b6278a\",\"type\":\"ColumnDataSource\"}},\"id\":\"d83fdc6b-bba4-4aa8-ac12-965cfad8b927\",\"type\":\"CDSView\"},{\"attributes\":{\"fill_alpha\":{\"value\":0.1},\"fill_color\":{\"value\":\"#1f77b4\"},\"line_alpha\":{\"value\":0.1},\"line_color\":{\"value\":\"#1f77b4\"},\"radius\":{\"units\":\"data\",\"value\":1},\"x\":{\"field\":\"x\"},\"y\":{\"field\":\"y\"}},\"id\":\"d50a16f7-8e14-411a-91e5-dc1fc63511a3\",\"type\":\"Circle\"},{\"attributes\":{\"source\":{\"id\":\"801ac248-9b21-4f50-a02d-26a51d884373\",\"type\":\"ColumnDataSource\"}},\"id\":\"fa667a03-ee07-4f9d-b4e8-33680f636383\",\"type\":\"CDSView\"},{\"attributes\":{\"callback\":null},\"id\":\"a56dae46-ea4a-43ad-aead-3c0628d380ed\",\"type\":\"DataRange1d\"},{\"attributes\":{\"plot\":{\"id\":\"1c48393e-6d77-4817-a339-79a349892c56\",\"subtype\":\"Figure\",\"type\":\"Plot\"},\"ticker\":{\"id\":\"394557fc-fcb9-46f8-a7a1-b44e19579c0c\",\"type\":\"BasicTicker\"}},\"id\":\"217ceea0-c6fa-4f13-9595-e31e2e70db9f\",\"type\":\"Grid\"},{\"attributes\":{\"active_drag\":\"auto\",\"active_inspect\":\"auto\",\"active_scroll\":\"auto\",\"active_tap\":\"auto\",\"logo\":null,\"tools\":[{\"id\":\"5fa22820-2a1a-444b-8236-2c2eceb8195f\",\"type\":\"PanTool\"},{\"id\":\"3104748b-26ab-432e-a2e2-759d8b6ef801\",\"type\":\"WheelZoomTool\"},{\"id\":\"299ee38c-61d8-4619-ba99-2b864cda0f82\",\"type\":\"BoxZoomTool\"},{\"id\":\"6cf2c010-fda6-4927-a187-8603bd297339\",\"type\":\"SaveTool\"},{\"id\":\"fac4338d-2abc-4bf2-8ee0-65ad92192cdf\",\"type\":\"ResetTool\"},{\"id\":\"80c2067f-7f89-489b-a2cf-4d0ebc7f94aa\",\"type\":\"HelpTool\"},{\"id\":\"85812ea8-f51c-4dc4-b438-fca446ea3d19\",\"type\":\"HoverTool\"},{\"id\":\"ade09602-c18d-4b1f-a862-52d5f8c750da\",\"type\":\"HoverTool\"}]},\"id\":\"76eb2ce9-27e7-4829-afd7-8458cea06242\",\"type\":\"Toolbar\"},{\"attributes\":{\"axis_label\":\"Number of Entities Offshore (log scale)\",\"formatter\":{\"id\":\"f580b5b8-b928-4740-84c2-52804e925e18\",\"type\":\"BasicTickFormatter\"},\"plot\":{\"id\":\"1c48393e-6d77-4817-a339-79a349892c56\",\"subtype\":\"Figure\",\"type\":\"Plot\"},\"ticker\":{\"id\":\"38cd6094-8edc-47f3-affe-9abfaf2746c4\",\"type\":\"BasicTicker\"}},\"id\":\"db83b408-fd02-47d6-960c-d79d7a8a479b\",\"type\":\"LinearAxis\"},{\"attributes\":{\"callback\":null},\"id\":\"ac1b8ed5-6c4c-4e45-b56d-69a4c31aa467\",\"type\":\"DataRange1d\"},{\"attributes\":{},\"id\":\"2df76ad9-9924-4126-8bc2-202283f99b0c\",\"type\":\"LinearScale\"},{\"attributes\":{},\"id\":\"9cd18688-1edd-404d-8d67-40b551140e1e\",\"type\":\"UnionRenderers\"},{\"attributes\":{\"data_source\":{\"id\":\"801ac248-9b21-4f50-a02d-26a51d884373\",\"type\":\"ColumnDataSource\"},\"glyph\":{\"id\":\"cbbc0cb4-6a8b-41c9-b811-03aa9823531b\",\"type\":\"Circle\"},\"hover_glyph\":null,\"muted_glyph\":null,\"nonselection_glyph\":{\"id\":\"d50a16f7-8e14-411a-91e5-dc1fc63511a3\",\"type\":\"Circle\"},\"selection_glyph\":null,\"view\":{\"id\":\"fa667a03-ee07-4f9d-b4e8-33680f636383\",\"type\":\"CDSView\"}},\"id\":\"85aaa87a-c68b-44d1-889d-85293bad36a7\",\"type\":\"GlyphRenderer\"},{\"attributes\":{},\"id\":\"38cd6094-8edc-47f3-affe-9abfaf2746c4\",\"type\":\"BasicTicker\"},{\"attributes\":{\"dimension\":1,\"plot\":{\"id\":\"1c48393e-6d77-4817-a339-79a349892c56\",\"subtype\":\"Figure\",\"type\":\"Plot\"},\"ticker\":{\"id\":\"38cd6094-8edc-47f3-affe-9abfaf2746c4\",\"type\":\"BasicTicker\"}},\"id\":\"d060acca-63fe-4ae8-86c4-e5a1154e3bbe\",\"type\":\"Grid\"},{\"attributes\":{},\"id\":\"519ebb86-833c-42e0-87eb-65aef97109e4\",\"type\":\"Selection\"},{\"attributes\":{},\"id\":\"3104748b-26ab-432e-a2e2-759d8b6ef801\",\"type\":\"WheelZoomTool\"},{\"attributes\":{\"plot\":null,\"text\":\"Number of entities offshore vs tax rate (G7 countries)\",\"text_color\":{\"value\":\"grey\"},\"text_font_size\":{\"value\":\"11pt\"},\"text_font_style\":\"normal\"},\"id\":\"64c186f9-f92a-42bb-af5d-4e689822efa7\",\"type\":\"Title\"},{\"attributes\":{},\"id\":\"394557fc-fcb9-46f8-a7a1-b44e19579c0c\",\"type\":\"BasicTicker\"},{\"attributes\":{\"bottom_units\":\"screen\",\"fill_alpha\":{\"value\":0.5},\"fill_color\":{\"value\":\"lightgrey\"},\"left_units\":\"screen\",\"level\":\"overlay\",\"line_alpha\":{\"value\":1.0},\"line_color\":{\"value\":\"black\"},\"line_dash\":[4,4],\"line_width\":{\"value\":2},\"plot\":null,\"render_mode\":\"css\",\"right_units\":\"screen\",\"top_units\":\"screen\"},\"id\":\"339f9725-4e98-4ae2-a9b5-15548042d352\",\"type\":\"BoxAnnotation\"},{\"attributes\":{\"callback\":null,\"renderers\":[{\"id\":\"5f8e75fe-a678-4029-90d8-bed4c560c145\",\"type\":\"GlyphRenderer\"}],\"tooltips\":[[\"Set of Country\",\"Major biggest economies, p-value=0.531\"]]},\"id\":\"ade09602-c18d-4b1f-a862-52d5f8c750da\",\"type\":\"HoverTool\"},{\"attributes\":{\"callback\":null,\"data\":{\"country\":[\"United Kingdom\",\"China\",\"United States\",\"Italy\",\"France\",\"Germany\",\"Japan\",\"Arab World\",\"East Asia & Pacific (excluding high income)\",\"Early-demographic dividend\",\"East Asia & Pacific\",\"Europe & Central Asia (excluding high income)\",\"Europe & Central Asia\",\"Euro area\",\"European Union\",\"High income\",\"IBRD only\",\"IDA & IBRD total\",\"Latin America & Caribbean (excluding high income)\",\"Latin America & Caribbean\",\"Lower middle income\",\"Low & middle income\",\"Late-demographic dividend\",\"Middle East & North Africa\",\"Middle income\",\"North America\",\"OECD members\",\"Post-demographic dividend\",\"East Asia & Pacific (IDA & IBRD countries)\",\"Europe & Central Asia (IDA & IBRD countries)\",\"Latin America & the Caribbean (IDA & IBRD countries)\",\"Upper middle income\",\"World\"],\"x\":[35.517248247019616,23.411558002872663,52.42912336498738,32.40057162189355,24.8081142877291,16.069374184179278,47.953641203888644,22.879864300338266,32.928331692868475,23.555895522134193,35.002556166180845,13.506365350123907,17.955975666370687,23.0363693555026,19.372305257930893,25.327531180548952,22.143621483164054,20.2082113781262,24.52537795337311,24.492867749367917,23.176944883445955,20.393794932106456,18.89238963081335,22.5640510966177,21.582316467110125,53.16675972304939,26.376310217559762,24.921280943533283,32.928331692868475,12.925554936259733,24.492867749367917,19.385877222777477,21.738515869508497],\"y\":[-8.438802888543808,-9.311579096652695,-9.701512223196582,-9.766561839111558,-9.949760820648246,-10.29087059714886,-11.322391599628821,\"NaN\",\"NaN\",\"NaN\",\"NaN\",\"NaN\",\"NaN\",\"NaN\",\"NaN\",\"NaN\",\"NaN\",\"NaN\",\"NaN\",\"NaN\",\"NaN\",\"NaN\",\"NaN\",\"NaN\",\"NaN\",\"NaN\",\"NaN\",\"NaN\",\"NaN\",\"NaN\",\"NaN\",\"NaN\",\"NaN\"]},\"selected\":{\"id\":\"519ebb86-833c-42e0-87eb-65aef97109e4\",\"type\":\"Selection\"},\"selection_policy\":{\"id\":\"53cb981c-bd59-4d81-a162-9cb5dc59583b\",\"type\":\"UnionRenderers\"}},\"id\":\"801ac248-9b21-4f50-a02d-26a51d884373\",\"type\":\"ColumnDataSource\"},{\"attributes\":{},\"id\":\"f580b5b8-b928-4740-84c2-52804e925e18\",\"type\":\"BasicTickFormatter\"},{\"attributes\":{},\"id\":\"80c2067f-7f89-489b-a2cf-4d0ebc7f94aa\",\"type\":\"HelpTool\"}],\"root_ids\":[\"1c48393e-6d77-4817-a339-79a349892c56\"]},\"title\":\"Bokeh Application\",\"version\":\"0.12.16\"}};\n",
       "  var render_items = [{\"docid\":\"55783f05-ba33-40f1-a026-c01b61da37b7\",\"elementid\":\"6844c257-6424-496a-83f1-fef69beecb04\",\"modelid\":\"1c48393e-6d77-4817-a339-79a349892c56\"}];\n",
       "  root.Bokeh.embed.embed_items_notebook(docs_json, render_items);\n",
       "\n",
       "  }\n",
       "  if (root.Bokeh !== undefined) {\n",
       "    embed_document(root);\n",
       "  } else {\n",
       "    var attempts = 0;\n",
       "    var timer = setInterval(function(root) {\n",
       "      if (root.Bokeh !== undefined) {\n",
       "        embed_document(root);\n",
       "        clearInterval(timer);\n",
       "      }\n",
       "      attempts++;\n",
       "      if (attempts > 100) {\n",
       "        console.log(\"Bokeh: ERROR: Unable to run BokehJS code because BokehJS library is missing\")\n",
       "        clearInterval(timer);\n",
       "      }\n",
       "    }, 10, root)\n",
       "  }\n",
       "})(window);"
      ],
      "application/vnd.bokehjs_exec.v0+json": ""
     },
     "metadata": {
      "application/vnd.bokehjs_exec.v0+json": {
       "id": "1c48393e-6d77-4817-a339-79a349892c56"
      }
     },
     "output_type": "display_data"
    }
   ],
   "source": [
    "selection=country_count_tax_rate['GDP_x'].apply(lambda x: x>200*10e9)\n",
    "x = country_count_tax_rate['Tax Rate'][selection]\n",
    "y = np.log10(country_count_tax_rate['n_companies_offshore'][selection]/country_count_tax_rate['GDP_x'][selection])\n",
    "country_names=country_count_tax_rate['Country Name'][selection]\n",
    "\n",
    "# establish the sources of data to make the interactive graph\n",
    "source=ColumnDataSource(data=dict(\n",
    "    x=list(x),\n",
    "    y=list(y),\n",
    "    country=list(country_names),\n",
    "))\n",
    "\n",
    "# set the regression line\n",
    "df=pd.DataFrame({'Tax Rate':x,'n_companies_offshore':y, 'country_name':country_names})\n",
    "df=df[df['country_name'].apply(lambda x: str(x)!='Japan')]\n",
    "df=df.dropna(inplace=False)\n",
    "a=np.array(df['Tax Rate'])\n",
    "b=np.array(df['n_companies_offshore'])\n",
    "\n",
    "m,i,r,p_value,std=stats.linregress(a,b)\n",
    "\n",
    "p = figure(title=\"Number of entities offshore vs tax rate (G7 countries)\", plot_width=800, plot_height=800)\n",
    "scatter=p.scatter(x='x', y='y', radius=1, source=source, fill_alpha=0.6)\n",
    "hover= HoverTool(tooltips = [(\"Country\", \"@country\"),(\"(Tax Rate, Log(number of entities offshore))\", \"($x, $y)\")],renderers=[scatter])\n",
    "p.add_tools(hover)\n",
    "\n",
    "line=p.line(df['Tax Rate'], m*df['Tax Rate']+i, line_width=4, color='navy', alpha=0.1)\n",
    "hover0=HoverTool(tooltips = [(\"Set of Country\",'Major biggest economies, p-value='+str(p_value)[:5])], renderers=[line])\n",
    "p.add_tools(hover0)\n",
    "\n",
    "# set the style of the title\n",
    "p.title.text_color = \"grey\"\n",
    "p.title.text_font = \"helvetica\"\n",
    "p.title.text_font_style = \"normal\"\n",
    "p.title.text_font_size = '11pt'\n",
    "\n",
    "# set the label options\n",
    "p.xaxis.axis_label='Tax Rate (%)'\n",
    "p.yaxis.axis_label='Number of Entities Offshore (log scale)'\n",
    "\n",
    "# remove the interactive toolbar\n",
    "p.toolbar.logo = None\n",
    "p.toolbar_location = None\n",
    "\n",
    "output_file(\"taxrateg7.html\", title=\"taxrateg7\")\n",
    "\n",
    "show(p)"
   ]
  },
  {
   "cell_type": "markdown",
   "metadata": {},
   "source": [
    "#### Glober Perspective"
   ]
  },
  {
   "cell_type": "markdown",
   "metadata": {},
   "source": [
    "Eventually after having analyzed the above set of countries, the global picture for developped countries has been drawn. Observing the figure, on a global scale it can be seen that there is no significant correlation between corporate tax rate and presence of offshore entities in the Panama Papers. However it is clear the a positive relationship between tax rate and number of offshore entities holds true for the major economies which are the biggest data points."
   ]
  },
  {
   "cell_type": "code",
   "execution_count": 52,
   "metadata": {},
   "outputs": [
    {
     "data": {
      "text/html": [
       "\n",
       "<div class=\"bk-root\">\n",
       "    <div class=\"bk-plotdiv\" id=\"47461f40-dda7-472e-a4ce-f8a9e57b095b\"></div>\n",
       "</div>"
      ]
     },
     "metadata": {},
     "output_type": "display_data"
    },
    {
     "data": {
      "application/javascript": [
       "(function(root) {\n",
       "  function embed_document(root) {\n",
       "    \n",
       "  var docs_json = {\"07a1ca93-7658-427f-8ada-a731784b3cf0\":{\"roots\":{\"references\":[{\"attributes\":{\"callback\":null,\"renderers\":[{\"id\":\"b2ca579b-1053-46cf-a3c5-2973ef377dc3\",\"type\":\"GlyphRenderer\"}],\"tooltips\":[[\"Set of Country\",\"Trend in all developped countries\"]]},\"id\":\"309225ef-a604-44fa-b87f-c5df1f88c1d3\",\"type\":\"HoverTool\"},{\"attributes\":{\"callback\":null,\"data\":{\"c\":[72018.65437666667,34139.40517133333,59422.543726,100087.83314133335,42089.915140666664,39757.577518000006,29218.051776,65308.38069692308,44514.55255866667,27664.74357333333,148406.48335999998,49764.76171266667,136708.2832623077,92843.0,28837.613580666664,34200.0,15433.345880666666,20952.267600000003,29813.538158,40705.07343933333,43641.797792,34121.00105666667,54731.376007333325,39053.13763533334,20890.234439999997,23439.961054,47799.616809333325,41345.20783333333,84080.9525725,18780.275228999995,61454.453850000005,48650.63502733333,34351.70849666666,44990.741085333335,38738.524536,42371.086257999996,51225.98508066667,17885.757813533335,15598.824366666666,24371.613246,67222.99931133333,54857.40289799999,39495.30974066667,45337.413664666674,22043.319871333333,51894.66819999999,81474.63766466668,55580.77363533333,21083.044485333336,23614.7,22674.086322666666,16187.456759733333,37851.61739461539,16797.731021066666,15635.492743466664,25675.560012857146,15400.0,33225.774994666666,29936.964220714286,22789.411886666665,36284.8802,32979.10055133333,45708.10021307693,41742.81313000001,37487.459001333336,16270.95105,49161.402510666674,35162.51762399999,38759.095045999995,63952.17019533333],\"country\":[\"Switzerland\",\"Hong Kong SAR, China\",\"Channel Islands\",\"Luxembourg\",\"United Kingdom\",\"United Arab Emirates\",\"Bahamas, The\",\"Isle of Man\",\"Singapore\",\"Cyprus\",\"Monaco\",\"United States\",\"Liechtenstein\",\"Gibraltar\",\"Spain\",\"British Virgin Islands\",\"Estonia\",\"Malta\",\"Israel\",\"Andorra\",\"Canada\",\"Italy\",\"Ireland\",\"France\",\"Portugal\",\"Greece\",\"Netherlands\",\"Germany\",\"Bermuda\",\"Saudi Arabia\",\"Cayman Islands\",\"Australia\",\"New Zealand\",\"Finland\",\"Kuwait\",\"Belgium\",\"Sweden\",\"Czech Republic\",\"Barbados\",\"Aruba\",\"Qatar\",\"Macao SAR, China\",\"Japan\",\"Austria\",\"Slovenia\",\"Iceland\",\"Norway\",\"Denmark\",\"Bahrain\",\"Turks and Caicos Islands\",\"Korea, Rep.\",\"Trinidad and Tobago\",\"Virgin Islands (U.S.)\",\"Oman\",\"Slovak Republic\",\"Puerto Rico\",\"Sint Maarten (Dutch part)\",\"Brunei Darussalam\",\"Guam\",\"Europe & Central Asia\",\"Euro area\",\"European Union\",\"Faroe Islands\",\"Greenland\",\"High income\",\"Northern Mariana Islands\",\"North America\",\"OECD members\",\"Post-demographic dividend\",\"San Marino\"],\"radii\":[0.5693333333333334,0.242,0.009180787954799999,0.051926314674133334,2.642,0.2939333333333333,0.010487996,0.005216143943461538,0.22713342517126667,0.0223948112652,0.0053019315456,15.42,0.004922173236692307,0.002288,1.3178,0.00085,0.020522609297333332,0.008885728832533333,0.23206666666666664,0.0032743078311333333,1.4928,2.021333333333333,0.24646666666666664,2.5386666666666664,0.21886666666666665,0.25766666666666665,0.7952666666666666,3.38,0.005418704083333333,0.5310666666666667,0.0033435162565,1.0883333333333334,0.15108339236999999,0.24159999999999998,0.11894092618106666,0.46266666666666667,0.48346666666666666,0.18650847601826667,0.004360533065399999,0.0024484849163,0.121546062271,0.030812990994333333,5.042,0.3818666666666667,0.044952051246333335,0.016469675328666666,0.4010666666666667,0.3088,0.025255331046133336,0.000797,1.1284,0.0215629590588,0.004098230769230769,0.055848738621466665,0.0844086741296,0.09416219659285714,0.0007947,0.01304916189,0.004784571428571428,20.293333333333333,12.149333333333333,16.6,0.0022190485353076926,0.002361167216785714,44.93333333333334,0.0009470714285714285,16.919999999999998,43.82666666666666,41.67333333333333,0.0019770817654],\"x\":[20.860170389713097,16.5,0.0,28.729216593654897,35.517248247019616,0.0,0.0,0.0,32.45684990164795,24.85416975819933,0.0,52.42912336498738,12.5,10.0,38.87823590204826,0.0,19.999121557183532,30.859287269815237,29.73777225403513,\"NaN\",53.77860214192079,32.40057162189355,37.94103138471929,24.8081142877291,22.544277669410572,18.578575903076636,25.5089115144116,16.069374184179278,\"NaN\",\"NaN\",\"NaN\",64.55067318552749,52.925533566755796,17.101716281972084,0.5458449730516288,35.74571539919367,14.901043006492367,15.526306477501432,31.867298329480775,\"NaN\",45.93791213041428,4.84529595302896,47.953641203888644,27.35709443624949,12.488767830141931,28.909050179867904,29.6173047023925,41.725671119385204,0.9175303081184258,\"NaN\",27.80002547415483,53.68063489872335,\"NaN\",2.719688585159481,17.145312156639303,\"NaN\",\"NaN\",\"NaN\",\"NaN\",17.955975666370687,23.0363693555026,19.372305257930893,\"NaN\",\"NaN\",25.327531180548952,\"NaN\",53.16675972304939,26.376310217559762,24.921280943533283,17.291533651842922],\"y\":[4.578765240209975,4.578765240209975,4.335618349377605,4.035029282202368,3.9831299247347003,3.8614746688571686,3.697578033651113,3.689486448364248,3.610766594773271,3.5578679615680224,3.500785172917456,3.4865721505183562,3.315130317183602,3.30941722577814,3.0666985504229953,3.044147620878723,2.9444826721501687,2.829946695941636,2.821513528404773,2.6893088591236203,2.5403294747908736,2.5390760987927767,2.507855871695831,2.45484486000851,2.385606273598312,2.346352974450639,2.247973266361807,2.2380461031287955,2.2174839442139063,2.0253058652647704,2.0253058652647704,1.9731278535996986,1.863322860120456,1.8129133566428555,1.7781512503836436,1.7708520116421442,1.7403626894942439,1.5314789170422551,1.5314789170422551,1.4313637641589874,1.4313637641589874,1.3979400086720377,1.380211241711606,1.380211241711606,1.3222192947339193,1.1760912590556813,1.146128035678238,1.146128035678238,1.1139433523068367,1.0791812460476249,0.9030899869919435,0.7781512503836436,0.6020599913279624,0.3010299956639812,0.0,0.0,0.0,0.0,0.0,\"NaN\",\"NaN\",\"NaN\",\"NaN\",\"NaN\",\"NaN\",\"NaN\",\"NaN\",\"NaN\",\"NaN\",\"NaN\"]},\"selected\":{\"id\":\"727f79c7-ff91-417e-baa0-9b53832577df\",\"type\":\"Selection\"},\"selection_policy\":{\"id\":\"61f574ac-38fb-4fc4-bc0f-616b7f5458eb\",\"type\":\"UnionRenderers\"}},\"id\":\"aaf997e6-31c4-4856-b139-b4440b39f1ec\",\"type\":\"ColumnDataSource\"},{\"attributes\":{\"line_alpha\":0.1,\"line_color\":\"#1f77b4\",\"line_width\":4,\"x\":{\"field\":\"x\"},\"y\":{\"field\":\"y\"}},\"id\":\"e01ab74f-4467-40a5-9346-f8214345d80c\",\"type\":\"Line\"},{\"attributes\":{\"source\":{\"id\":\"295523f5-6a08-47c5-9aef-468a987bac20\",\"type\":\"ColumnDataSource\"}},\"id\":\"d2dd7270-5669-416b-aa7a-879036026283\",\"type\":\"CDSView\"},{\"attributes\":{\"bottom_units\":\"screen\",\"fill_alpha\":{\"value\":0.5},\"fill_color\":{\"value\":\"lightgrey\"},\"left_units\":\"screen\",\"level\":\"overlay\",\"line_alpha\":{\"value\":1.0},\"line_color\":{\"value\":\"black\"},\"line_dash\":[4,4],\"line_width\":{\"value\":2},\"plot\":null,\"render_mode\":\"css\",\"right_units\":\"screen\",\"top_units\":\"screen\"},\"id\":\"6c5f1c07-1796-4f0b-9dda-df5d2463b846\",\"type\":\"BoxAnnotation\"},{\"attributes\":{\"dimension\":1,\"plot\":{\"id\":\"0b7b715b-68bd-48b8-8195-3966b77bf1d2\",\"subtype\":\"Figure\",\"type\":\"Plot\"},\"ticker\":{\"id\":\"88a9a672-029b-4de7-bb26-40f8e67c51a2\",\"type\":\"BasicTicker\"}},\"id\":\"915c3fdd-9d1a-40a3-80aa-9bb188cfffdc\",\"type\":\"Grid\"},{\"attributes\":{},\"id\":\"4bfebe85-abc0-4bd7-a32d-018503c47b8a\",\"type\":\"BasicTicker\"},{\"attributes\":{\"axis_label\":\"Tax Rate (%)\",\"formatter\":{\"id\":\"dac2f9b5-2b57-485e-bf80-5140062f348b\",\"type\":\"BasicTickFormatter\"},\"plot\":{\"id\":\"80e0434e-9364-45aa-b483-573e5f43f56b\",\"subtype\":\"Figure\",\"type\":\"Plot\"},\"ticker\":{\"id\":\"4bfebe85-abc0-4bd7-a32d-018503c47b8a\",\"type\":\"BasicTicker\"}},\"id\":\"cf9ac68b-12fa-4ce7-a6de-35a254ecb548\",\"type\":\"LinearAxis\"},{\"attributes\":{\"plot\":{\"id\":\"80e0434e-9364-45aa-b483-573e5f43f56b\",\"subtype\":\"Figure\",\"type\":\"Plot\"},\"ticker\":{\"id\":\"4bfebe85-abc0-4bd7-a32d-018503c47b8a\",\"type\":\"BasicTicker\"}},\"id\":\"a51fd433-232b-4165-9a8f-d7985092a39a\",\"type\":\"Grid\"},{\"attributes\":{},\"id\":\"f9f9a5d9-00dd-4132-b7dc-ae7e8e11111b\",\"type\":\"LinearScale\"},{\"attributes\":{},\"id\":\"e63223d7-9af2-45ca-b6c7-b754d2d2d13b\",\"type\":\"SaveTool\"},{\"attributes\":{\"fill_alpha\":{\"value\":0.5},\"fill_color\":{\"field\":\"c\",\"transform\":{\"id\":\"3accb683-89c3-4497-819c-070e45f6ec88\",\"type\":\"LogColorMapper\"}},\"line_alpha\":{\"value\":0.5},\"line_color\":{\"field\":\"c\",\"transform\":{\"id\":\"3accb683-89c3-4497-819c-070e45f6ec88\",\"type\":\"LogColorMapper\"}},\"radius\":{\"field\":\"radii\",\"units\":\"data\"},\"x\":{\"field\":\"x\"},\"y\":{\"field\":\"y\"}},\"id\":\"2d2d91a0-2bcb-4c47-a3d1-cf4a2249e61e\",\"type\":\"Circle\"},{\"attributes\":{},\"id\":\"727f79c7-ff91-417e-baa0-9b53832577df\",\"type\":\"Selection\"},{\"attributes\":{\"formatter\":{\"id\":\"bcf42568-cd18-44fe-a5f7-86846448e9ea\",\"type\":\"BasicTickFormatter\"},\"plot\":{\"id\":\"0b7b715b-68bd-48b8-8195-3966b77bf1d2\",\"subtype\":\"Figure\",\"type\":\"Plot\"},\"ticker\":{\"id\":\"88a9a672-029b-4de7-bb26-40f8e67c51a2\",\"type\":\"BasicTicker\"}},\"id\":\"ef17c79a-effc-4ca4-8cd0-96f5fcf114fe\",\"type\":\"LinearAxis\"},{\"attributes\":{\"axis_label\":\"Number of Entities Offshore (log scale)\",\"formatter\":{\"id\":\"8c5fc852-5d62-4d5f-813f-44b5331cdeeb\",\"type\":\"BasicTickFormatter\"},\"plot\":{\"id\":\"80e0434e-9364-45aa-b483-573e5f43f56b\",\"subtype\":\"Figure\",\"type\":\"Plot\"},\"ticker\":{\"id\":\"4392dc23-8376-4655-b849-18ba69b6ba52\",\"type\":\"BasicTicker\"}},\"id\":\"85e88f2c-c6c0-4971-b91f-02bd5ec8aef1\",\"type\":\"LinearAxis\"},{\"attributes\":{\"below\":[{\"id\":\"cf9ac68b-12fa-4ce7-a6de-35a254ecb548\",\"type\":\"LinearAxis\"}],\"left\":[{\"id\":\"85e88f2c-c6c0-4971-b91f-02bd5ec8aef1\",\"type\":\"LinearAxis\"}],\"plot_height\":800,\"plot_width\":800,\"renderers\":[{\"id\":\"cf9ac68b-12fa-4ce7-a6de-35a254ecb548\",\"type\":\"LinearAxis\"},{\"id\":\"a51fd433-232b-4165-9a8f-d7985092a39a\",\"type\":\"Grid\"},{\"id\":\"85e88f2c-c6c0-4971-b91f-02bd5ec8aef1\",\"type\":\"LinearAxis\"},{\"id\":\"9f87ab3e-903c-43bc-8ad3-5a27f1aa7a5b\",\"type\":\"Grid\"},{\"id\":\"6c5f1c07-1796-4f0b-9dda-df5d2463b846\",\"type\":\"BoxAnnotation\"},{\"id\":\"3f5ebc78-702f-48b1-a0a2-d3df1aec6842\",\"type\":\"GlyphRenderer\"},{\"id\":\"b2ca579b-1053-46cf-a3c5-2973ef377dc3\",\"type\":\"GlyphRenderer\"},{\"id\":\"dc81d252-d915-424e-82f9-0105b5503fba\",\"type\":\"ColorBar\"}],\"right\":[{\"id\":\"dc81d252-d915-424e-82f9-0105b5503fba\",\"type\":\"ColorBar\"}],\"title\":{\"id\":\"6366e076-0687-41c2-b655-852df37ae315\",\"type\":\"Title\"},\"toolbar\":{\"id\":\"8a4e92d5-85ad-445d-8213-8aa5dc12f995\",\"type\":\"Toolbar\"},\"toolbar_location\":null,\"x_range\":{\"id\":\"5d507807-2f5f-4402-9028-16ada9c1e75d\",\"type\":\"DataRange1d\"},\"x_scale\":{\"id\":\"f9f9a5d9-00dd-4132-b7dc-ae7e8e11111b\",\"type\":\"LinearScale\"},\"y_range\":{\"id\":\"5c6f6d36-85db-478a-8500-aad12821d8d8\",\"type\":\"DataRange1d\"},\"y_scale\":{\"id\":\"30b39292-553e-4a77-9337-c0543e61ad64\",\"type\":\"LinearScale\"}},\"id\":\"80e0434e-9364-45aa-b483-573e5f43f56b\",\"subtype\":\"Figure\",\"type\":\"Plot\"},{\"attributes\":{\"data_source\":{\"id\":\"295523f5-6a08-47c5-9aef-468a987bac20\",\"type\":\"ColumnDataSource\"},\"glyph\":{\"id\":\"a342406c-b4c9-4e39-8295-55a217c01ba4\",\"type\":\"Line\"},\"hover_glyph\":null,\"muted_glyph\":null,\"nonselection_glyph\":{\"id\":\"e01ab74f-4467-40a5-9346-f8214345d80c\",\"type\":\"Line\"},\"selection_glyph\":null,\"view\":{\"id\":\"d2dd7270-5669-416b-aa7a-879036026283\",\"type\":\"CDSView\"}},\"id\":\"b2ca579b-1053-46cf-a3c5-2973ef377dc3\",\"type\":\"GlyphRenderer\"},{\"attributes\":{},\"id\":\"0e12c50e-7121-487e-88c1-6e61a2c9ac6c\",\"type\":\"HelpTool\"},{\"attributes\":{\"plot\":null,\"text\":\"Real GDP per capita Legend Bar (USD)\"},\"id\":\"d366f7ae-4a6f-45f6-bdb0-6658c018bbd5\",\"type\":\"Title\"},{\"attributes\":{},\"id\":\"c7b6b345-5acb-40df-8981-63b2f93112fb\",\"type\":\"LogTicker\"},{\"attributes\":{\"active_drag\":\"auto\",\"active_inspect\":\"auto\",\"active_scroll\":\"auto\",\"active_tap\":\"auto\",\"tools\":[{\"id\":\"98695c07-5452-413c-a531-2e68416a9305\",\"type\":\"PanTool\"},{\"id\":\"2c868451-0173-4dc1-937d-59a6b186cdd7\",\"type\":\"WheelZoomTool\"},{\"id\":\"614fea20-898b-4bf1-8820-c6308875b1a9\",\"type\":\"BoxZoomTool\"},{\"id\":\"f54ae532-6578-48ec-bc2c-90a8ecdd050a\",\"type\":\"SaveTool\"},{\"id\":\"8ff2985a-bb43-4048-8966-f907d63b97b0\",\"type\":\"ResetTool\"},{\"id\":\"cb248fdc-7fac-4dbf-ad6c-36d66996f697\",\"type\":\"HelpTool\"}]},\"id\":\"6d1dd6d3-6349-4428-be08-c1953e2e5a13\",\"type\":\"Toolbar\"},{\"attributes\":{},\"id\":\"87357556-08cf-48f0-89c5-6055fd5f4dd0\",\"type\":\"LinearScale\"},{\"attributes\":{},\"id\":\"bcf42568-cd18-44fe-a5f7-86846448e9ea\",\"type\":\"BasicTickFormatter\"},{\"attributes\":{},\"id\":\"88a9a672-029b-4de7-bb26-40f8e67c51a2\",\"type\":\"BasicTicker\"},{\"attributes\":{\"children\":[{\"id\":\"80e0434e-9364-45aa-b483-573e5f43f56b\",\"subtype\":\"Figure\",\"type\":\"Plot\"},{\"id\":\"0b7b715b-68bd-48b8-8195-3966b77bf1d2\",\"subtype\":\"Figure\",\"type\":\"Plot\"}]},\"id\":\"e1fcb314-f7a0-46d8-b34e-6421dc6b1ec2\",\"type\":\"Row\"},{\"attributes\":{\"below\":[{\"id\":\"7d9a764c-1447-4955-9013-2df53f983ea8\",\"type\":\"LinearAxis\"}],\"left\":[{\"id\":\"ef17c79a-effc-4ca4-8cd0-96f5fcf114fe\",\"type\":\"LinearAxis\"}],\"min_border\":null,\"outline_line_color\":{\"value\":null},\"plot_height\":511,\"plot_width\":35,\"renderers\":[{\"id\":\"7d9a764c-1447-4955-9013-2df53f983ea8\",\"type\":\"LinearAxis\"},{\"id\":\"07e10729-a4f9-432a-bd63-fa55241b0a01\",\"type\":\"Grid\"},{\"id\":\"ef17c79a-effc-4ca4-8cd0-96f5fcf114fe\",\"type\":\"LinearAxis\"},{\"id\":\"915c3fdd-9d1a-40a3-80aa-9bb188cfffdc\",\"type\":\"Grid\"},{\"id\":\"89cfc7af-4adc-4dea-84d6-0744756dc438\",\"type\":\"BoxAnnotation\"}],\"title\":{\"id\":\"d366f7ae-4a6f-45f6-bdb0-6658c018bbd5\",\"type\":\"Title\"},\"title_location\":\"right\",\"toolbar\":{\"id\":\"6d1dd6d3-6349-4428-be08-c1953e2e5a13\",\"type\":\"Toolbar\"},\"toolbar_location\":null,\"x_range\":{\"id\":\"432bab6b-87c2-40fd-9991-ee60a652ab03\",\"type\":\"DataRange1d\"},\"x_scale\":{\"id\":\"87357556-08cf-48f0-89c5-6055fd5f4dd0\",\"type\":\"LinearScale\"},\"y_range\":{\"id\":\"1b1f4b85-9f39-408f-b05a-19ac3c59c347\",\"type\":\"DataRange1d\"},\"y_scale\":{\"id\":\"266b9d72-98c0-49bb-9c9b-1d4da319ee73\",\"type\":\"LinearScale\"}},\"id\":\"0b7b715b-68bd-48b8-8195-3966b77bf1d2\",\"subtype\":\"Figure\",\"type\":\"Plot\"},{\"attributes\":{\"line_alpha\":0.1,\"line_color\":\"navy\",\"line_width\":4,\"x\":{\"field\":\"x\"},\"y\":{\"field\":\"y\"}},\"id\":\"a342406c-b4c9-4e39-8295-55a217c01ba4\",\"type\":\"Line\"},{\"attributes\":{\"dimension\":1,\"plot\":{\"id\":\"80e0434e-9364-45aa-b483-573e5f43f56b\",\"subtype\":\"Figure\",\"type\":\"Plot\"},\"ticker\":{\"id\":\"4392dc23-8376-4655-b849-18ba69b6ba52\",\"type\":\"BasicTicker\"}},\"id\":\"9f87ab3e-903c-43bc-8ad3-5a27f1aa7a5b\",\"type\":\"Grid\"},{\"attributes\":{\"callback\":null},\"id\":\"432bab6b-87c2-40fd-9991-ee60a652ab03\",\"type\":\"DataRange1d\"},{\"attributes\":{},\"id\":\"8c5fc852-5d62-4d5f-813f-44b5331cdeeb\",\"type\":\"BasicTickFormatter\"},{\"attributes\":{},\"id\":\"4392dc23-8376-4655-b849-18ba69b6ba52\",\"type\":\"BasicTicker\"},{\"attributes\":{},\"id\":\"d01ad08b-030e-42de-a09c-57be3bcf9805\",\"type\":\"BasicTicker\"},{\"attributes\":{\"color_mapper\":{\"id\":\"3accb683-89c3-4497-819c-070e45f6ec88\",\"type\":\"LogColorMapper\"},\"formatter\":{\"id\":\"fd78383c-6082-4d62-8581-77602ec5f316\",\"type\":\"BasicTickFormatter\"},\"label_standoff\":12,\"location\":[0,0],\"plot\":{\"id\":\"80e0434e-9364-45aa-b483-573e5f43f56b\",\"subtype\":\"Figure\",\"type\":\"Plot\"},\"ticker\":{\"id\":\"c7b6b345-5acb-40df-8981-63b2f93112fb\",\"type\":\"LogTicker\"}},\"id\":\"dc81d252-d915-424e-82f9-0105b5503fba\",\"type\":\"ColorBar\"},{\"attributes\":{},\"id\":\"266b9d72-98c0-49bb-9c9b-1d4da319ee73\",\"type\":\"LinearScale\"},{\"attributes\":{},\"id\":\"922851c2-1262-410f-a99f-5723afcf59ae\",\"type\":\"PanTool\"},{\"attributes\":{\"formatter\":{\"id\":\"5ccb8a97-5ee8-479a-b01d-2cd9527b92b7\",\"type\":\"BasicTickFormatter\"},\"plot\":{\"id\":\"0b7b715b-68bd-48b8-8195-3966b77bf1d2\",\"subtype\":\"Figure\",\"type\":\"Plot\"},\"ticker\":{\"id\":\"d01ad08b-030e-42de-a09c-57be3bcf9805\",\"type\":\"BasicTicker\"}},\"id\":\"7d9a764c-1447-4955-9013-2df53f983ea8\",\"type\":\"LinearAxis\"},{\"attributes\":{\"plot\":{\"id\":\"0b7b715b-68bd-48b8-8195-3966b77bf1d2\",\"subtype\":\"Figure\",\"type\":\"Plot\"},\"ticker\":{\"id\":\"d01ad08b-030e-42de-a09c-57be3bcf9805\",\"type\":\"BasicTicker\"}},\"id\":\"07e10729-a4f9-432a-bd63-fa55241b0a01\",\"type\":\"Grid\"},{\"attributes\":{\"callback\":null,\"data\":{\"x\":{\"__ndarray__\":\"Ks5sIDTcNEAAAAAAAIAwQAAAAAAAAAAAxHJN8K26PEBpbsgwNcJBQAAAAAAAAAAAAAAAAAAAAAAAAAAAAAAAAB9hvQ56OkBAx7KI3qraOEAAAAAAAAAAAP9IsYPtNkpAAAAAAAAAKUAAAAAAAAAkQDS8tghqcENAAAAAAAAAAAD11Cxuxv8zQL+5IUD62z5AIvp2pN68PUCbEig8qeNKQIbeT+5FM0BAgfBmt3P4QkAROvWT4M44QL8PBshVizZAw/fljB2UMkCm9GYGSII5QJc8rIHCETBA+6e+Oj4jUEB/SEjid3ZKQHOKCBQKGjFA/Cp+4I934T+I1Cmac99BQDVZSoJVzS1AThXpCngNL0DQ/mhDB94/QFVTM4EN+EZAWc0mQ5VhE0DvaDvqEPpHQG5GfYpqWztAzJfrxj/6KECg9DiDt+g8QFtxVK4Hnj1AobSOyuLcREBeo06FaFztPz52L3jOzDtAO0RbCx/XSkAPhMQW7MEFQB96cC0zJTFA\",\"dtype\":\"float64\",\"shape\":[48]},\"y\":{\"__ndarray__\":\"c+aC9vx+A0BkVv+Mju8DQHyhkqyLmQVACTFNO9SzAkBxIXo6lAQCQHyhkqyLmQVAfKGSrIuZBUB8oZKsi5kFQHALNUKXUwJA5MGBgN8XA0B8oZKsi5kFQCeTMuj0TwBA7r3sq9NWBECkHkHfXpcEQBEE7oTOrQFAfKGSrIuZBUD6aT3gN5UDQHUNaf/VfAJAt5aZZ8qZAkD0OdvSHS0AQPTWsDcLVQJAV5U6xADGAUCqxj7lDxkDQHxA3TmCUwNA9DoDqeS5A0BMQFgh+AYDQIZiba2s+gNAUkgjYAQu/j924S7+I0MAQOWepqMF4ANAtwEgCHSLBUBLnpk5rv4BQBw7bYHWGARAX8fO9rEIBECC9CjFz2ICQOiiEySL9wBAXxtowXMcBUAQBWefgMMAQB9nsfhA1wJAe8x76B1XBEAu5jypL68CQGIYxpvmnAJABt+kBUtkAUD/5o5124EFQEA/IITRywJAb+oNUaUvAEDkD319VFMFQKYpfYDl3gNA\",\"dtype\":\"float64\",\"shape\":[48]}},\"selected\":{\"id\":\"8f3118df-93e0-486e-a7d8-130a61a5ce5b\",\"type\":\"Selection\"},\"selection_policy\":{\"id\":\"00d7279a-8872-4451-a557-d2eb55bdffa8\",\"type\":\"UnionRenderers\"}},\"id\":\"295523f5-6a08-47c5-9aef-468a987bac20\",\"type\":\"ColumnDataSource\"},{\"attributes\":{},\"id\":\"98695c07-5452-413c-a531-2e68416a9305\",\"type\":\"PanTool\"},{\"attributes\":{\"bottom_units\":\"screen\",\"fill_alpha\":{\"value\":0.5},\"fill_color\":{\"value\":\"lightgrey\"},\"left_units\":\"screen\",\"level\":\"overlay\",\"line_alpha\":{\"value\":1.0},\"line_color\":{\"value\":\"black\"},\"line_dash\":[4,4],\"line_width\":{\"value\":2},\"plot\":null,\"render_mode\":\"css\",\"right_units\":\"screen\",\"top_units\":\"screen\"},\"id\":\"89cfc7af-4adc-4dea-84d6-0744756dc438\",\"type\":\"BoxAnnotation\"},{\"attributes\":{\"source\":{\"id\":\"aaf997e6-31c4-4856-b139-b4440b39f1ec\",\"type\":\"ColumnDataSource\"}},\"id\":\"6ef1c65d-1974-450c-9a54-ed75384cadc3\",\"type\":\"CDSView\"},{\"attributes\":{\"callback\":null},\"id\":\"1b1f4b85-9f39-408f-b05a-19ac3c59c347\",\"type\":\"DataRange1d\"},{\"attributes\":{},\"id\":\"ae97b572-e934-42ad-b709-310d25d1264b\",\"type\":\"WheelZoomTool\"},{\"attributes\":{},\"id\":\"2c868451-0173-4dc1-937d-59a6b186cdd7\",\"type\":\"WheelZoomTool\"},{\"attributes\":{\"callback\":null},\"id\":\"5c6f6d36-85db-478a-8500-aad12821d8d8\",\"type\":\"DataRange1d\"},{\"attributes\":{\"data_source\":{\"id\":\"aaf997e6-31c4-4856-b139-b4440b39f1ec\",\"type\":\"ColumnDataSource\"},\"glyph\":{\"id\":\"2d2d91a0-2bcb-4c47-a3d1-cf4a2249e61e\",\"type\":\"Circle\"},\"hover_glyph\":null,\"muted_glyph\":null,\"nonselection_glyph\":{\"id\":\"cdc049da-358f-4b6b-8195-7cf59f1fcbdb\",\"type\":\"Circle\"},\"selection_glyph\":null,\"view\":{\"id\":\"6ef1c65d-1974-450c-9a54-ed75384cadc3\",\"type\":\"CDSView\"}},\"id\":\"3f5ebc78-702f-48b1-a0a2-d3df1aec6842\",\"type\":\"GlyphRenderer\"},{\"attributes\":{\"high\":148406.48335999998,\"low\":15400.0,\"palette\":[\"#0072B2\",\"#E69F00\",\"#F0E442\",\"#009E73\"]},\"id\":\"3accb683-89c3-4497-819c-070e45f6ec88\",\"type\":\"LogColorMapper\"},{\"attributes\":{\"active_drag\":\"auto\",\"active_inspect\":\"auto\",\"active_scroll\":\"auto\",\"active_tap\":\"auto\",\"logo\":null,\"tools\":[{\"id\":\"922851c2-1262-410f-a99f-5723afcf59ae\",\"type\":\"PanTool\"},{\"id\":\"ae97b572-e934-42ad-b709-310d25d1264b\",\"type\":\"WheelZoomTool\"},{\"id\":\"dc705511-7043-4499-92f6-15cdec354bfa\",\"type\":\"BoxZoomTool\"},{\"id\":\"e63223d7-9af2-45ca-b6c7-b754d2d2d13b\",\"type\":\"SaveTool\"},{\"id\":\"2b5ecf57-b03a-42e9-8253-4aab8e8b3c99\",\"type\":\"ResetTool\"},{\"id\":\"0e12c50e-7121-487e-88c1-6e61a2c9ac6c\",\"type\":\"HelpTool\"},{\"id\":\"4913507a-e4f5-421d-bf15-a50e6d7c0413\",\"type\":\"HoverTool\"},{\"id\":\"309225ef-a604-44fa-b87f-c5df1f88c1d3\",\"type\":\"HoverTool\"}]},\"id\":\"8a4e92d5-85ad-445d-8213-8aa5dc12f995\",\"type\":\"Toolbar\"},{\"attributes\":{},\"id\":\"dac2f9b5-2b57-485e-bf80-5140062f348b\",\"type\":\"BasicTickFormatter\"},{\"attributes\":{\"plot\":null,\"text\":\"Number of entities offshore vs tax rate (all developped countries)\",\"text_color\":{\"value\":\"grey\"},\"text_font_size\":{\"value\":\"11pt\"},\"text_font_style\":\"normal\"},\"id\":\"6366e076-0687-41c2-b655-852df37ae315\",\"type\":\"Title\"},{\"attributes\":{},\"id\":\"fd78383c-6082-4d62-8581-77602ec5f316\",\"type\":\"BasicTickFormatter\"},{\"attributes\":{\"callback\":null,\"renderers\":[{\"id\":\"3f5ebc78-702f-48b1-a0a2-d3df1aec6842\",\"type\":\"GlyphRenderer\"}],\"tooltips\":[[\"Country\",\"@country\"],[\"(Tax Rate, Log(number of entities offshore))\",\"($x, $y)\"]]},\"id\":\"4913507a-e4f5-421d-bf15-a50e6d7c0413\",\"type\":\"HoverTool\"},{\"attributes\":{\"fill_alpha\":{\"value\":0.1},\"fill_color\":{\"value\":\"#1f77b4\"},\"line_alpha\":{\"value\":0.1},\"line_color\":{\"value\":\"#1f77b4\"},\"radius\":{\"field\":\"radii\",\"units\":\"data\"},\"x\":{\"field\":\"x\"},\"y\":{\"field\":\"y\"}},\"id\":\"cdc049da-358f-4b6b-8195-7cf59f1fcbdb\",\"type\":\"Circle\"},{\"attributes\":{},\"id\":\"61f574ac-38fb-4fc4-bc0f-616b7f5458eb\",\"type\":\"UnionRenderers\"},{\"attributes\":{},\"id\":\"f54ae532-6578-48ec-bc2c-90a8ecdd050a\",\"type\":\"SaveTool\"},{\"attributes\":{\"overlay\":{\"id\":\"89cfc7af-4adc-4dea-84d6-0744756dc438\",\"type\":\"BoxAnnotation\"}},\"id\":\"614fea20-898b-4bf1-8820-c6308875b1a9\",\"type\":\"BoxZoomTool\"},{\"attributes\":{},\"id\":\"30b39292-553e-4a77-9337-c0543e61ad64\",\"type\":\"LinearScale\"},{\"attributes\":{},\"id\":\"cb248fdc-7fac-4dbf-ad6c-36d66996f697\",\"type\":\"HelpTool\"},{\"attributes\":{},\"id\":\"8ff2985a-bb43-4048-8966-f907d63b97b0\",\"type\":\"ResetTool\"},{\"attributes\":{},\"id\":\"8f3118df-93e0-486e-a7d8-130a61a5ce5b\",\"type\":\"Selection\"},{\"attributes\":{\"overlay\":{\"id\":\"6c5f1c07-1796-4f0b-9dda-df5d2463b846\",\"type\":\"BoxAnnotation\"}},\"id\":\"dc705511-7043-4499-92f6-15cdec354bfa\",\"type\":\"BoxZoomTool\"},{\"attributes\":{},\"id\":\"5ccb8a97-5ee8-479a-b01d-2cd9527b92b7\",\"type\":\"BasicTickFormatter\"},{\"attributes\":{},\"id\":\"00d7279a-8872-4451-a557-d2eb55bdffa8\",\"type\":\"UnionRenderers\"},{\"attributes\":{\"callback\":null},\"id\":\"5d507807-2f5f-4402-9028-16ada9c1e75d\",\"type\":\"DataRange1d\"},{\"attributes\":{},\"id\":\"2b5ecf57-b03a-42e9-8253-4aab8e8b3c99\",\"type\":\"ResetTool\"}],\"root_ids\":[\"e1fcb314-f7a0-46d8-b34e-6421dc6b1ec2\"]},\"title\":\"Bokeh Application\",\"version\":\"0.12.16\"}};\n",
       "  var render_items = [{\"docid\":\"07a1ca93-7658-427f-8ada-a731784b3cf0\",\"elementid\":\"47461f40-dda7-472e-a4ce-f8a9e57b095b\",\"modelid\":\"e1fcb314-f7a0-46d8-b34e-6421dc6b1ec2\"}];\n",
       "  root.Bokeh.embed.embed_items_notebook(docs_json, render_items);\n",
       "\n",
       "  }\n",
       "  if (root.Bokeh !== undefined) {\n",
       "    embed_document(root);\n",
       "  } else {\n",
       "    var attempts = 0;\n",
       "    var timer = setInterval(function(root) {\n",
       "      if (root.Bokeh !== undefined) {\n",
       "        embed_document(root);\n",
       "        clearInterval(timer);\n",
       "      }\n",
       "      attempts++;\n",
       "      if (attempts > 100) {\n",
       "        console.log(\"Bokeh: ERROR: Unable to run BokehJS code because BokehJS library is missing\")\n",
       "        clearInterval(timer);\n",
       "      }\n",
       "    }, 10, root)\n",
       "  }\n",
       "})(window);"
      ],
      "application/vnd.bokehjs_exec.v0+json": ""
     },
     "metadata": {
      "application/vnd.bokehjs_exec.v0+json": {
       "id": "e1fcb314-f7a0-46d8-b34e-6421dc6b1ec2"
      }
     },
     "output_type": "display_data"
    }
   ],
   "source": [
    "selection=country_count_tax_rate['GDP_y']>15000\n",
    "x=country_count_tax_rate['Tax Rate'][selection]\n",
    "y=np.log10(country_count_tax_rate['n_companies_offshore'][selection])\n",
    "radii=country_count_tax_rate['GDP_x'][selection]*10e-13\n",
    "country_names=country_count_tax_rate['Country Name'][selection]\n",
    "# for colors\n",
    "c = country_count_tax_rate['GDP_y'][selection]\n",
    "c[c.isna()]=0\n",
    "\n",
    "\n",
    "color_mapper = LogColorMapper(palette=\"Colorblind4\", low=min(c),\\\n",
    "                              high=max(c))\n",
    "\n",
    "source=ColumnDataSource(data=dict(\n",
    "    x=list(x),\n",
    "    y=list(y),\n",
    "    country=list(country_names),\n",
    "    radii=list(radii),\n",
    "    c=list(c),\n",
    "))\n",
    "\n",
    "\n",
    "# set the regression line\n",
    "df=pd.DataFrame({'Tax Rate':x,'n_companies_offshore':y})\n",
    "df=df.dropna(inplace=False)\n",
    "\n",
    "a=np.array(df['Tax Rate'])\n",
    "b=np.array(df['n_companies_offshore'])\n",
    "\n",
    "m,i,r,p,std=stats.linregress(a,b)\n",
    "\n",
    "p = figure(title=\"Number of entities offshore vs tax rate (all developped countries)\", plot_width=800, plot_height=800)\n",
    "scatter=p.scatter(x='x', y='y', radius='radii', source=source, color={'field': 'c', 'transform': color_mapper}, alpha=0.5)\n",
    "hover= HoverTool(tooltips = [(\"Country\", \"@country\"),(\"(Tax Rate, Log(number of entities offshore))\", \"($x, $y)\")],renderers=[scatter])\n",
    "p.add_tools(hover)\n",
    "\n",
    "line=p.line(df['Tax Rate'], m*df['Tax Rate']+i, line_width=4, color='navy', alpha=0.1)\n",
    "hover0=HoverTool(tooltips = [(\"Set of Country\",'Trend in all developped countries')], renderers=[line])\n",
    "p.add_tools(hover0)\n",
    "\n",
    "# set the color bar tab\n",
    "color_bar = ColorBar(color_mapper=color_mapper, ticker=LogTicker(),\n",
    "                     label_standoff=12, border_line_color=None, location=(0,0))\n",
    "\n",
    "# set the color bar title\n",
    "color_bar_height = 511\n",
    "color_bar_width = 35\n",
    "\n",
    "color_bar_plot = figure(title=\"Real GDP per capita Legend Bar (USD)\", title_location=\"right\", \n",
    "                        height=color_bar_height, width=color_bar_width, \n",
    "                        toolbar_location=None, min_border=None, \n",
    "                        outline_line_color=None)\n",
    "\n",
    "\n",
    "# set the style of the title\n",
    "p.title.text_color = \"grey\"\n",
    "p.title.text_font = \"helvetica\"\n",
    "p.title.text_font_style = \"normal\"\n",
    "p.title.text_font_size = '11pt'\n",
    "\n",
    "# set the label options\n",
    "p.xaxis.axis_label='Tax Rate (%)'\n",
    "p.yaxis.axis_label='Number of Entities Offshore (log scale)'\n",
    "\n",
    "# add the color bar\n",
    "p.add_layout(color_bar, 'right')\n",
    "                        \n",
    "# remove the interactive toolbar\n",
    "p.toolbar.logo = None\n",
    "p.toolbar_location = None\n",
    "\n",
    "layout = row_plot(p, color_bar_plot)\n",
    "output_file(\"taxrate_developped.html\", title=\"taxrate_developped\")\n",
    "show(layout)\n"
   ]
  },
  {
   "cell_type": "markdown",
   "metadata": {},
   "source": [
    "### Days to open a  business"
   ]
  },
  {
   "cell_type": "markdown",
   "metadata": {},
   "source": [
    "Another parameter that could influence entities to go offshore is the number of days needed to open a busines. This parameter, in fact, is another indicator of business conditions in a country: the hypothesis is that entities go offshore in order to find better business conditions that the home country cannot offer them. "
   ]
  },
  {
   "cell_type": "code",
   "execution_count": 53,
   "metadata": {},
   "outputs": [
    {
     "name": "stdout",
     "output_type": "stream",
     "text": [
      "Year with most data is 2015\n"
     ]
    }
   ],
   "source": [
    "years=range(1990, 2018)\n",
    "years_count=np.array([])\n",
    "\n",
    "for year in years:\n",
    "    \n",
    "    years_count=np.append(years_count,df_ease_business[str(year)].notnull().sum())\n",
    "print ('Year with most data is', years[np.argmax(years_count)])"
   ]
  },
  {
   "cell_type": "markdown",
   "metadata": {},
   "source": [
    "In order to fully exploit the data, the average days to open a business for each country is computed over a time frame of 15 years; hence it is assumed that any change in days to open a business in this time range has not affected the number of entities going offshore in this time range."
   ]
  },
  {
   "cell_type": "code",
   "execution_count": 54,
   "metadata": {},
   "outputs": [],
   "source": [
    "#df_countries_ease_business=pd.DataFrame({'Country Name':df_ease_business['Country Name'][df_ease_business['2015'].notnull()],'days_open_business':df_ease_business['2015'][df_ease_business['2013'].notnull()]})\n",
    "df_countries_ease_business=pd.DataFrame({'Country Name':df_ease_business['Country Name'],'days_open_business':df_ease_business.iloc[:,range(-15,0)].mean(axis=1,numeric_only=True)})\n",
    "df_countries_ease_business=df_countries_ease_business[df_countries_ease_business['days_open_business'].notnull()]"
   ]
  },
  {
   "cell_type": "markdown",
   "metadata": {},
   "source": [
    "A dataset with number of days to open a business and number of companies registered in the panama papers is made. However for this coefficient it was very hard to integrate the missing data values by using other sources. As a matter of fact the this analysis is limited to the countries which have the corporate tax rate values."
   ]
  },
  {
   "cell_type": "code",
   "execution_count": 55,
   "metadata": {},
   "outputs": [],
   "source": [
    "country_count_ease_business=country_count_gdp.merge(df_countries_ease_business, how='outer',left_on='Country Name', right_on='Country Name')"
   ]
  },
  {
   "cell_type": "markdown",
   "metadata": {},
   "source": [
    "#### Small Developped Countries"
   ]
  },
  {
   "cell_type": "markdown",
   "metadata": {},
   "source": [
    "Again firstly the graph of days to open a business and presence in Panama Paper of small developped countries with high income per capita is plotted. In fact, by looking at these relationship it will be possible to understand if all small developped countries with high income per capita present favourable characteristics to go offshore.\n",
    "\n",
    "All the countries with GDP per capita `GDP_y`>30000 and a total GDP `GDP_x`< 200 billions USD have been considered.\n",
    "\n",
    "The GDP has been used as a weight for the count of entities offshore because the discrepancy between the size of the economies is really high.\n",
    "\n",
    "By observing the plot below some important considerations can be drawn; again the two set of countries can be identified: tax havens countries and small developped countries. The first ones are visibile since they have a very high number of offshore entities and the second group can be identified below. In this case it is not possible to determine whether days to open a business influence entities in countries to go offshore. Hence it seems that for this category of countries no dependency can be drawn. In fact even the regression line that should show a negative exponential relationship between days to open a business and number of entities in Panama Papers has a two tail test p-value of 0.837, which confirms the hypothesis that the slope of the line should be zero. "
   ]
  },
  {
   "cell_type": "code",
   "execution_count": 56,
   "metadata": {},
   "outputs": [
    {
     "data": {
      "text/html": [
       "\n",
       "<div class=\"bk-root\">\n",
       "    <div class=\"bk-plotdiv\" id=\"d8919514-76cb-4a90-876e-56f758de4d3d\"></div>\n",
       "</div>"
      ]
     },
     "metadata": {},
     "output_type": "display_data"
    },
    {
     "data": {
      "application/javascript": [
       "(function(root) {\n",
       "  function embed_document(root) {\n",
       "    \n",
       "  var docs_json = {\"2befb516-250b-4c9b-aa3b-6ecffd0a76f9\":{\"roots\":{\"references\":[{\"attributes\":{},\"id\":\"d83f4171-f144-4147-9eb9-6b8ef085e36d\",\"type\":\"BasicTicker\"},{\"attributes\":{},\"id\":\"a2327e89-53a9-4fcb-8a6c-52754bfc80b0\",\"type\":\"LinearScale\"},{\"attributes\":{\"dimension\":1,\"plot\":{\"id\":\"23ee8838-3e5f-40b9-bbb5-277b4733adde\",\"subtype\":\"Figure\",\"type\":\"Plot\"},\"ticker\":{\"id\":\"d83f4171-f144-4147-9eb9-6b8ef085e36d\",\"type\":\"BasicTicker\"}},\"id\":\"84552c51-430f-4fb8-9877-0c1cd074d31b\",\"type\":\"Grid\"},{\"attributes\":{\"axis_label\":\"Number of Entities Offshore (log scale)\",\"formatter\":{\"id\":\"a9de3d3c-30b8-4d98-9390-20835626a5fe\",\"type\":\"BasicTickFormatter\"},\"plot\":{\"id\":\"4121c94e-24fc-460f-93f3-fde446ae9c70\",\"subtype\":\"Figure\",\"type\":\"Plot\"},\"ticker\":{\"id\":\"8eb29489-6d46-43ef-8903-fda44a1936aa\",\"type\":\"BasicTicker\"}},\"id\":\"6c6926a2-ce00-46e8-b8a6-72dea845a66c\",\"type\":\"LinearAxis\"},{\"attributes\":{},\"id\":\"30beccae-3e4a-4689-8468-55f8d583caf9\",\"type\":\"LinearScale\"},{\"attributes\":{},\"id\":\"73c5eb45-a111-4c8b-97bd-d581fbc48c5b\",\"type\":\"BasicTickFormatter\"},{\"attributes\":{\"dimension\":1,\"plot\":{\"id\":\"4121c94e-24fc-460f-93f3-fde446ae9c70\",\"subtype\":\"Figure\",\"type\":\"Plot\"},\"ticker\":{\"id\":\"8eb29489-6d46-43ef-8903-fda44a1936aa\",\"type\":\"BasicTicker\"}},\"id\":\"9bf0fab5-7215-4a0d-ad10-4b438f64e6ed\",\"type\":\"Grid\"},{\"attributes\":{},\"id\":\"c6bf1582-969b-4711-a15e-16779653878f\",\"type\":\"BasicTickFormatter\"},{\"attributes\":{},\"id\":\"a9de3d3c-30b8-4d98-9390-20835626a5fe\",\"type\":\"BasicTickFormatter\"},{\"attributes\":{\"bottom_units\":\"screen\",\"fill_alpha\":{\"value\":0.5},\"fill_color\":{\"value\":\"lightgrey\"},\"left_units\":\"screen\",\"level\":\"overlay\",\"line_alpha\":{\"value\":1.0},\"line_color\":{\"value\":\"black\"},\"line_dash\":[4,4],\"line_width\":{\"value\":2},\"plot\":null,\"render_mode\":\"css\",\"right_units\":\"screen\",\"top_units\":\"screen\"},\"id\":\"46a6f479-2e87-47cd-b4fd-ffabd16ed058\",\"type\":\"BoxAnnotation\"},{\"attributes\":{\"plot\":null,\"text\":\"Real GDP Legend Bar (USD)\"},\"id\":\"760de9d6-00b3-41c3-9773-f4df675c946e\",\"type\":\"Title\"},{\"attributes\":{},\"id\":\"37b1d17a-20fe-4a72-b425-b94517e7755f\",\"type\":\"PanTool\"},{\"attributes\":{\"formatter\":{\"id\":\"c66ac0a4-4134-41be-b079-212bf8f3e9cc\",\"type\":\"BasicTickFormatter\"},\"plot\":{\"id\":\"23ee8838-3e5f-40b9-bbb5-277b4733adde\",\"subtype\":\"Figure\",\"type\":\"Plot\"},\"ticker\":{\"id\":\"d83f4171-f144-4147-9eb9-6b8ef085e36d\",\"type\":\"BasicTicker\"}},\"id\":\"de8a5603-7592-40a1-9f5c-fc3bbf5c6401\",\"type\":\"LinearAxis\"},{\"attributes\":{},\"id\":\"b6630504-149f-4a16-b24f-c96c5aab36ce\",\"type\":\"Selection\"},{\"attributes\":{\"callback\":null},\"id\":\"58fdb3e9-e6b6-4349-bb23-73f8c371b674\",\"type\":\"DataRange1d\"},{\"attributes\":{},\"id\":\"eea3cf5c-9fb1-48d8-baac-45fb6e25a7e6\",\"type\":\"WheelZoomTool\"},{\"attributes\":{\"overlay\":{\"id\":\"46a6f479-2e87-47cd-b4fd-ffabd16ed058\",\"type\":\"BoxAnnotation\"}},\"id\":\"4a9ff614-4581-42f1-8f80-186068aa309a\",\"type\":\"BoxZoomTool\"},{\"attributes\":{},\"id\":\"d30e22c8-47cf-4767-b8fd-fa3f4136f86a\",\"type\":\"SaveTool\"},{\"attributes\":{},\"id\":\"d6e8aaee-b1dd-4501-9e57-45bbc945a7f3\",\"type\":\"ResetTool\"},{\"attributes\":{},\"id\":\"0de1d5ee-1a89-4de0-aa57-36f55c38333f\",\"type\":\"HelpTool\"},{\"attributes\":{\"fill_alpha\":{\"value\":0.1},\"fill_color\":{\"value\":\"#1f77b4\"},\"line_alpha\":{\"value\":0.1},\"line_color\":{\"value\":\"#1f77b4\"},\"radius\":{\"units\":\"data\",\"value\":0.01},\"x\":{\"field\":\"x\"},\"y\":{\"field\":\"y\"}},\"id\":\"ffd5ee14-5071-4975-a411-cf4af9b6837e\",\"type\":\"Circle\"},{\"attributes\":{},\"id\":\"f30ff8f2-6deb-463b-af16-d5b8e67db78a\",\"type\":\"UnionRenderers\"},{\"attributes\":{\"callback\":null,\"data\":{\"c\":[569333333333.3334,242000000000.0,9180787954.8,51926314674.13333,293933333333.3333,5216143943.461538,227133425171.26666,5301931545.6,4922173236.692307,2288000000.0,850000000.0,3274307831.133333,1492800000000.0,246466666666.66666,795266666666.6666,5418704083.333333,3343516256.5,1088333333333.3334,151083392370.0,241600000000.0,118940926181.06667,462666666666.6667,483466666666.6667,121546062271.0,30812990994.333332,381866666666.6667,16469675328.666666,401066666666.6667,308800000000.0,4098230769.230769,13049161890.0,2219048535.3076925,2361167216.785714,1977081765.4],\"country\":[\"Switzerland\",\"Hong Kong SAR, China\",\"Channel Islands\",\"Luxembourg\",\"United Arab Emirates\",\"Isle of Man\",\"Singapore\",\"Monaco\",\"Liechtenstein\",\"Gibraltar\",\"British Virgin Islands\",\"Andorra\",\"Canada\",\"Ireland\",\"Netherlands\",\"Bermuda\",\"Cayman Islands\",\"Australia\",\"New Zealand\",\"Finland\",\"Kuwait\",\"Belgium\",\"Sweden\",\"Qatar\",\"Macao SAR, China\",\"Austria\",\"Iceland\",\"Norway\",\"Denmark\",\"Virgin Islands (U.S.)\",\"Brunei Darussalam\",\"Faroe Islands\",\"Greenland\",\"San Marino\"],\"x\":[1.1962946451439682,0.7650295730617386,\"NaN\",1.2825465899699682,1.125481265700594,\"NaN\",0.5614421404196983,\"NaN\",\"NaN\",\"NaN\",\"NaN\",\"NaN\",0.6097468199942534,1.0469965626762237,0.8032619709666747,\"NaN\",\"NaN\",0.422073688388757,0.578147833922551,1.146128035678238,1.559393577744429,0.9968867645758571,1.148338190483355,0.9233382358954043,\"NaN\",1.380211241711606,0.8338753359055083,0.8269998179214606,0.7596678446896304,\"NaN\",1.943659364828903,\"NaN\",\"NaN\",1.4135791429792126],\"y\":[-7.176601371423348,-6.805050125770456,-5.6272616073940185,-6.6803582186425885,-7.606774170913472,-6.027863119211703,-7.745514455339305,-6.223648943244593,-6.3770265775175075,-6.050038794342846,-5.88527130483557,-6.825810647680471,-9.63367215161155,-8.883902319821594,-9.652539513166124,-7.5164114905252815,-7.498897573858133,-10.063634077291733,-9.315893867630418,-9.570183573306238,-9.297180065600369,-9.89441619975703,-9.944003846873546,-9.65337712940558,-9.090793848336471,-10.201700508532513,-9.040593778829416,-10.457088532849667,-10.34354925598546,-9.01053641832085,-10.115582619089098,\"NaN\",\"NaN\",\"NaN\"]},\"selected\":{\"id\":\"82d45be0-505b-4b05-8a84-82d1ece1d79c\",\"type\":\"Selection\"},\"selection_policy\":{\"id\":\"7acc6d63-6700-4e4c-8262-ee9f2332015b\",\"type\":\"UnionRenderers\"}},\"id\":\"b97a6aa1-ccc6-4c60-812d-359fb17527ce\",\"type\":\"ColumnDataSource\"},{\"attributes\":{},\"id\":\"82d45be0-505b-4b05-8a84-82d1ece1d79c\",\"type\":\"Selection\"},{\"attributes\":{},\"id\":\"c66ac0a4-4134-41be-b079-212bf8f3e9cc\",\"type\":\"BasicTickFormatter\"},{\"attributes\":{},\"id\":\"bb85bd2c-b06e-46ab-8f20-2ddd7bf0152f\",\"type\":\"UnionRenderers\"},{\"attributes\":{},\"id\":\"7acc6d63-6700-4e4c-8262-ee9f2332015b\",\"type\":\"UnionRenderers\"},{\"attributes\":{},\"id\":\"0a8bdf81-8062-4b5a-97cb-e64004bc3ce1\",\"type\":\"Selection\"},{\"attributes\":{\"fill_alpha\":{\"value\":0.5},\"fill_color\":{\"field\":\"c\",\"transform\":{\"id\":\"091423e2-f5f5-4b39-b16d-36633b464144\",\"type\":\"LogColorMapper\"}},\"line_alpha\":{\"value\":0.5},\"line_color\":{\"field\":\"c\",\"transform\":{\"id\":\"091423e2-f5f5-4b39-b16d-36633b464144\",\"type\":\"LogColorMapper\"}},\"radius\":{\"units\":\"data\",\"value\":0.01},\"x\":{\"field\":\"x\"},\"y\":{\"field\":\"y\"}},\"id\":\"3198c16d-b50c-42b0-b23c-642f6e3a622e\",\"type\":\"Circle\"},{\"attributes\":{\"plot\":{\"id\":\"23ee8838-3e5f-40b9-bbb5-277b4733adde\",\"subtype\":\"Figure\",\"type\":\"Plot\"},\"ticker\":{\"id\":\"e6bd13a4-6831-4665-b438-1d318929e0f6\",\"type\":\"BasicTicker\"}},\"id\":\"3b660086-4030-433c-b0c6-e78d6734ebcd\",\"type\":\"Grid\"},{\"attributes\":{},\"id\":\"a7af571d-a868-4845-84a7-442a9a2d45a8\",\"type\":\"LinearScale\"},{\"attributes\":{\"below\":[{\"id\":\"e71f2d27-0d8f-419c-b2cc-5b4fd7dc7db3\",\"type\":\"LinearAxis\"}],\"left\":[{\"id\":\"6c6926a2-ce00-46e8-b8a6-72dea845a66c\",\"type\":\"LinearAxis\"}],\"plot_height\":800,\"plot_width\":800,\"renderers\":[{\"id\":\"e71f2d27-0d8f-419c-b2cc-5b4fd7dc7db3\",\"type\":\"LinearAxis\"},{\"id\":\"0bbe90d3-c759-46e8-bde3-a3d20f555a6d\",\"type\":\"Grid\"},{\"id\":\"6c6926a2-ce00-46e8-b8a6-72dea845a66c\",\"type\":\"LinearAxis\"},{\"id\":\"9bf0fab5-7215-4a0d-ad10-4b438f64e6ed\",\"type\":\"Grid\"},{\"id\":\"df4b1bf1-443a-42ac-b70a-b492d45d3c8a\",\"type\":\"BoxAnnotation\"},{\"id\":\"b97c210b-7fcc-469e-86aa-197c6bebebcc\",\"type\":\"GlyphRenderer\"},{\"id\":\"ca7742a7-fc4a-412f-93c9-1363ba20c03c\",\"type\":\"GlyphRenderer\"},{\"id\":\"15b4bcb5-1c80-42cb-bbc9-08c1a5fa557e\",\"type\":\"GlyphRenderer\"},{\"id\":\"602f96a2-864c-4eef-986f-4f62c3340929\",\"type\":\"ColorBar\"}],\"right\":[{\"id\":\"602f96a2-864c-4eef-986f-4f62c3340929\",\"type\":\"ColorBar\"}],\"title\":{\"id\":\"a0a91c1b-9de6-446b-a413-7c1ece941421\",\"type\":\"Title\"},\"toolbar\":{\"id\":\"18263c87-6ddd-4e12-8445-d039a835db60\",\"type\":\"Toolbar\"},\"toolbar_location\":null,\"x_range\":{\"id\":\"dd559ba9-a11c-423b-8df0-60360e99ed6d\",\"type\":\"DataRange1d\"},\"x_scale\":{\"id\":\"a2327e89-53a9-4fcb-8a6c-52754bfc80b0\",\"type\":\"LinearScale\"},\"y_range\":{\"id\":\"58fdb3e9-e6b6-4349-bb23-73f8c371b674\",\"type\":\"DataRange1d\"},\"y_scale\":{\"id\":\"30beccae-3e4a-4689-8468-55f8d583caf9\",\"type\":\"LinearScale\"}},\"id\":\"4121c94e-24fc-460f-93f3-fde446ae9c70\",\"subtype\":\"Figure\",\"type\":\"Plot\"},{\"attributes\":{\"formatter\":{\"id\":\"73c5eb45-a111-4c8b-97bd-d581fbc48c5b\",\"type\":\"BasicTickFormatter\"},\"plot\":{\"id\":\"23ee8838-3e5f-40b9-bbb5-277b4733adde\",\"subtype\":\"Figure\",\"type\":\"Plot\"},\"ticker\":{\"id\":\"e6bd13a4-6831-4665-b438-1d318929e0f6\",\"type\":\"BasicTicker\"}},\"id\":\"352fd7a3-cd30-4843-ab44-8b7236368716\",\"type\":\"LinearAxis\"},{\"attributes\":{\"callback\":null,\"renderers\":[{\"id\":\"ca7742a7-fc4a-412f-93c9-1363ba20c03c\",\"type\":\"GlyphRenderer\"}],\"tooltips\":[[\"Set of Country\",\"Not tax havens countries, p-value=0.837\"]]},\"id\":\"0b105041-f3e9-495f-8112-6e85acb64c29\",\"type\":\"HoverTool\"},{\"attributes\":{\"bottom_units\":\"screen\",\"fill_alpha\":{\"value\":0.5},\"fill_color\":{\"value\":\"lightgrey\"},\"left_units\":\"screen\",\"level\":\"overlay\",\"line_alpha\":{\"value\":1.0},\"line_color\":{\"value\":\"black\"},\"line_dash\":[4,4],\"line_width\":{\"value\":2},\"plot\":null,\"render_mode\":\"css\",\"right_units\":\"screen\",\"top_units\":\"screen\"},\"id\":\"df4b1bf1-443a-42ac-b70a-b492d45d3c8a\",\"type\":\"BoxAnnotation\"},{\"attributes\":{},\"id\":\"e235523e-103b-4c97-afa4-87692edd99c7\",\"type\":\"PanTool\"},{\"attributes\":{\"data_source\":{\"id\":\"b97a6aa1-ccc6-4c60-812d-359fb17527ce\",\"type\":\"ColumnDataSource\"},\"glyph\":{\"id\":\"3198c16d-b50c-42b0-b23c-642f6e3a622e\",\"type\":\"Circle\"},\"hover_glyph\":null,\"muted_glyph\":null,\"nonselection_glyph\":{\"id\":\"ffd5ee14-5071-4975-a411-cf4af9b6837e\",\"type\":\"Circle\"},\"selection_glyph\":null,\"view\":{\"id\":\"4e1dfdef-e61d-43f7-9c63-1e5f052183bc\",\"type\":\"CDSView\"}},\"id\":\"b97c210b-7fcc-469e-86aa-197c6bebebcc\",\"type\":\"GlyphRenderer\"},{\"attributes\":{},\"id\":\"e169fb10-ab61-4dc4-9810-93501754fa36\",\"type\":\"WheelZoomTool\"},{\"attributes\":{\"overlay\":{\"id\":\"df4b1bf1-443a-42ac-b70a-b492d45d3c8a\",\"type\":\"BoxAnnotation\"}},\"id\":\"0440c81d-774d-4eb1-a324-64fb38b81541\",\"type\":\"BoxZoomTool\"},{\"attributes\":{},\"id\":\"f5363e9a-8e7d-4fe9-b58d-af50711353f3\",\"type\":\"SaveTool\"},{\"attributes\":{},\"id\":\"53c0b91b-5f29-4b49-9a78-f0aa2fd236c6\",\"type\":\"ResetTool\"},{\"attributes\":{},\"id\":\"92c3a494-03c6-4113-8f61-15e2b04057a9\",\"type\":\"HelpTool\"},{\"attributes\":{\"line_alpha\":0.1,\"line_color\":\"#1f77b4\",\"line_width\":4,\"x\":{\"field\":\"x\"},\"y\":{\"field\":\"y\"}},\"id\":\"a0d66d14-b272-426c-a803-e93a0282ef43\",\"type\":\"Line\"},{\"attributes\":{\"callback\":null,\"data\":{\"x\":{\"__ndarray__\":\"4eNWwwuD4z8vgLt3f8DwPw2E7XJStOk/g28IXEED2z9Ia97iL4DiP59E5FmKVvI/exMgrkbz+D/TZHUSf+bvPzP7zd2XX/I/pCXKoPyL7T/+kAtiWBX2Py33FFQbr+o//Kh4Ush26j//eJjwMk/oP34R6I86Gf8/\",\"dtype\":\"float64\",\"shape\":[15]},\"y\":{\"__ndarray__\":\"ZEp7AzBsI8Bw1kF2dHsjwKlBDsrxciPADaRBdaJlI8CYETiPFWsjwOizwZHqfiPAmJNBoViNI8CarIaLtHkjwNtqRlP+fiPA/yO5HSN3I8Aljpn4FocjwF946W4DdCPAHSuZ+cVzI8Bu5zIdbHEjwBWnVnjDmiPA\",\"dtype\":\"float64\",\"shape\":[15]}},\"selected\":{\"id\":\"b6630504-149f-4a16-b24f-c96c5aab36ce\",\"type\":\"Selection\"},\"selection_policy\":{\"id\":\"f30ff8f2-6deb-463b-af16-d5b8e67db78a\",\"type\":\"UnionRenderers\"}},\"id\":\"dfefc27a-707c-4618-a6e9-14749bc8b5f1\",\"type\":\"ColumnDataSource\"},{\"attributes\":{\"line_alpha\":0.1,\"line_color\":\"navy\",\"line_width\":4,\"x\":{\"field\":\"x\"},\"y\":{\"field\":\"y\"}},\"id\":\"9add7316-3fff-4da3-822d-e03b174db5a4\",\"type\":\"Line\"},{\"attributes\":{\"data_source\":{\"id\":\"a0415522-936a-4750-9a21-81fa3783399a\",\"type\":\"ColumnDataSource\"},\"glyph\":{\"id\":\"ee1394eb-27ef-493b-ab3b-cfa9032e44b4\",\"type\":\"Circle\"},\"hover_glyph\":null,\"muted_glyph\":null,\"nonselection_glyph\":{\"id\":\"f4b273a9-bdb3-414d-882e-94433d379270\",\"type\":\"Circle\"},\"selection_glyph\":null,\"view\":{\"id\":\"9d2973fe-7389-45b0-a63d-bfe66b277056\",\"type\":\"CDSView\"}},\"id\":\"15b4bcb5-1c80-42cb-bbc9-08c1a5fa557e\",\"type\":\"GlyphRenderer\"},{\"attributes\":{\"data_source\":{\"id\":\"dfefc27a-707c-4618-a6e9-14749bc8b5f1\",\"type\":\"ColumnDataSource\"},\"glyph\":{\"id\":\"9add7316-3fff-4da3-822d-e03b174db5a4\",\"type\":\"Line\"},\"hover_glyph\":null,\"muted_glyph\":null,\"nonselection_glyph\":{\"id\":\"a0d66d14-b272-426c-a803-e93a0282ef43\",\"type\":\"Line\"},\"selection_glyph\":null,\"view\":{\"id\":\"b6cd3d87-c09c-4f3f-9077-88d3d105ea6c\",\"type\":\"CDSView\"}},\"id\":\"ca7742a7-fc4a-412f-93c9-1363ba20c03c\",\"type\":\"GlyphRenderer\"},{\"attributes\":{\"source\":{\"id\":\"dfefc27a-707c-4618-a6e9-14749bc8b5f1\",\"type\":\"ColumnDataSource\"}},\"id\":\"b6cd3d87-c09c-4f3f-9077-88d3d105ea6c\",\"type\":\"CDSView\"},{\"attributes\":{\"below\":[{\"id\":\"352fd7a3-cd30-4843-ab44-8b7236368716\",\"type\":\"LinearAxis\"}],\"left\":[{\"id\":\"de8a5603-7592-40a1-9f5c-fc3bbf5c6401\",\"type\":\"LinearAxis\"}],\"min_border\":null,\"outline_line_color\":{\"value\":null},\"plot_height\":511,\"plot_width\":35,\"renderers\":[{\"id\":\"352fd7a3-cd30-4843-ab44-8b7236368716\",\"type\":\"LinearAxis\"},{\"id\":\"3b660086-4030-433c-b0c6-e78d6734ebcd\",\"type\":\"Grid\"},{\"id\":\"de8a5603-7592-40a1-9f5c-fc3bbf5c6401\",\"type\":\"LinearAxis\"},{\"id\":\"84552c51-430f-4fb8-9877-0c1cd074d31b\",\"type\":\"Grid\"},{\"id\":\"46a6f479-2e87-47cd-b4fd-ffabd16ed058\",\"type\":\"BoxAnnotation\"}],\"title\":{\"id\":\"760de9d6-00b3-41c3-9773-f4df675c946e\",\"type\":\"Title\"},\"title_location\":\"right\",\"toolbar\":{\"id\":\"c7639149-0c4a-4224-a9e7-f32134810f85\",\"type\":\"Toolbar\"},\"toolbar_location\":null,\"x_range\":{\"id\":\"39912491-63c1-4998-a26a-c52b4aa9c87a\",\"type\":\"DataRange1d\"},\"x_scale\":{\"id\":\"fc9da7d7-f462-4ce7-89f7-511fe8c9c31f\",\"type\":\"LinearScale\"},\"y_range\":{\"id\":\"9b75413e-6af1-4abf-94b8-e05743774580\",\"type\":\"DataRange1d\"},\"y_scale\":{\"id\":\"a7af571d-a868-4845-84a7-442a9a2d45a8\",\"type\":\"LinearScale\"}},\"id\":\"23ee8838-3e5f-40b9-bbb5-277b4733adde\",\"subtype\":\"Figure\",\"type\":\"Plot\"},{\"attributes\":{\"callback\":null,\"data\":{},\"selected\":{\"id\":\"0a8bdf81-8062-4b5a-97cb-e64004bc3ce1\",\"type\":\"Selection\"},\"selection_policy\":{\"id\":\"bb85bd2c-b06e-46ab-8f20-2ddd7bf0152f\",\"type\":\"UnionRenderers\"}},\"id\":\"a0415522-936a-4750-9a21-81fa3783399a\",\"type\":\"ColumnDataSource\"},{\"attributes\":{\"fill_alpha\":{\"value\":0.1},\"fill_color\":{\"value\":\"#1f77b4\"},\"line_alpha\":{\"value\":0.1},\"line_color\":{\"value\":\"#1f77b4\"},\"size\":{\"units\":\"screen\",\"value\":370},\"x\":{\"value\":0.85},\"y\":{\"value\":-7}},\"id\":\"f4b273a9-bdb3-414d-882e-94433d379270\",\"type\":\"Circle\"},{\"attributes\":{\"callback\":null},\"id\":\"39912491-63c1-4998-a26a-c52b4aa9c87a\",\"type\":\"DataRange1d\"},{\"attributes\":{\"source\":{\"id\":\"a0415522-936a-4750-9a21-81fa3783399a\",\"type\":\"ColumnDataSource\"}},\"id\":\"9d2973fe-7389-45b0-a63d-bfe66b277056\",\"type\":\"CDSView\"},{\"attributes\":{\"children\":[{\"id\":\"4121c94e-24fc-460f-93f3-fde446ae9c70\",\"subtype\":\"Figure\",\"type\":\"Plot\"},{\"id\":\"23ee8838-3e5f-40b9-bbb5-277b4733adde\",\"subtype\":\"Figure\",\"type\":\"Plot\"}]},\"id\":\"9272db1b-a858-4b29-9efd-3a2e54ac3d2a\",\"type\":\"Row\"},{\"attributes\":{\"callback\":null,\"renderers\":[{\"id\":\"15b4bcb5-1c80-42cb-bbc9-08c1a5fa557e\",\"type\":\"GlyphRenderer\"}],\"tooltips\":[[\"Set of Country\",\"Tax havens\"]]},\"id\":\"0dedf2d6-e443-479a-bf98-022b43ac9d27\",\"type\":\"HoverTool\"},{\"attributes\":{\"color_mapper\":{\"id\":\"091423e2-f5f5-4b39-b16d-36633b464144\",\"type\":\"LogColorMapper\"},\"formatter\":{\"id\":\"216fad0b-22bb-440f-86b8-eff4b9f7b638\",\"type\":\"BasicTickFormatter\"},\"label_standoff\":12,\"location\":[20,0],\"plot\":{\"id\":\"4121c94e-24fc-460f-93f3-fde446ae9c70\",\"subtype\":\"Figure\",\"type\":\"Plot\"},\"ticker\":{\"id\":\"940db2ca-e95c-485f-b1e6-cf797151e8e8\",\"type\":\"LogTicker\"}},\"id\":\"602f96a2-864c-4eef-986f-4f62c3340929\",\"type\":\"ColorBar\"},{\"attributes\":{\"active_drag\":\"auto\",\"active_inspect\":\"auto\",\"active_scroll\":\"auto\",\"active_tap\":\"auto\",\"tools\":[{\"id\":\"37b1d17a-20fe-4a72-b425-b94517e7755f\",\"type\":\"PanTool\"},{\"id\":\"eea3cf5c-9fb1-48d8-baac-45fb6e25a7e6\",\"type\":\"WheelZoomTool\"},{\"id\":\"4a9ff614-4581-42f1-8f80-186068aa309a\",\"type\":\"BoxZoomTool\"},{\"id\":\"d30e22c8-47cf-4767-b8fd-fa3f4136f86a\",\"type\":\"SaveTool\"},{\"id\":\"d6e8aaee-b1dd-4501-9e57-45bbc945a7f3\",\"type\":\"ResetTool\"},{\"id\":\"0de1d5ee-1a89-4de0-aa57-36f55c38333f\",\"type\":\"HelpTool\"}]},\"id\":\"c7639149-0c4a-4224-a9e7-f32134810f85\",\"type\":\"Toolbar\"},{\"attributes\":{},\"id\":\"fc9da7d7-f462-4ce7-89f7-511fe8c9c31f\",\"type\":\"LinearScale\"},{\"attributes\":{\"callback\":null},\"id\":\"9b75413e-6af1-4abf-94b8-e05743774580\",\"type\":\"DataRange1d\"},{\"attributes\":{\"plot\":{\"id\":\"4121c94e-24fc-460f-93f3-fde446ae9c70\",\"subtype\":\"Figure\",\"type\":\"Plot\"},\"ticker\":{\"id\":\"b7574b96-fd98-40bc-bfb3-039b64b7cea8\",\"type\":\"BasicTicker\"}},\"id\":\"0bbe90d3-c759-46e8-bde3-a3d20f555a6d\",\"type\":\"Grid\"},{\"attributes\":{\"axis_label\":\"Days to open a business\",\"formatter\":{\"id\":\"c6bf1582-969b-4711-a15e-16779653878f\",\"type\":\"BasicTickFormatter\"},\"plot\":{\"id\":\"4121c94e-24fc-460f-93f3-fde446ae9c70\",\"subtype\":\"Figure\",\"type\":\"Plot\"},\"ticker\":{\"id\":\"b7574b96-fd98-40bc-bfb3-039b64b7cea8\",\"type\":\"BasicTicker\"}},\"id\":\"e71f2d27-0d8f-419c-b2cc-5b4fd7dc7db3\",\"type\":\"LinearAxis\"},{\"attributes\":{\"active_drag\":\"auto\",\"active_inspect\":\"auto\",\"active_scroll\":\"auto\",\"active_tap\":\"auto\",\"logo\":null,\"tools\":[{\"id\":\"e235523e-103b-4c97-afa4-87692edd99c7\",\"type\":\"PanTool\"},{\"id\":\"e169fb10-ab61-4dc4-9810-93501754fa36\",\"type\":\"WheelZoomTool\"},{\"id\":\"0440c81d-774d-4eb1-a324-64fb38b81541\",\"type\":\"BoxZoomTool\"},{\"id\":\"f5363e9a-8e7d-4fe9-b58d-af50711353f3\",\"type\":\"SaveTool\"},{\"id\":\"53c0b91b-5f29-4b49-9a78-f0aa2fd236c6\",\"type\":\"ResetTool\"},{\"id\":\"92c3a494-03c6-4113-8f61-15e2b04057a9\",\"type\":\"HelpTool\"},{\"id\":\"20f10544-9ce8-43a6-809b-63dd74fb9581\",\"type\":\"HoverTool\"},{\"id\":\"0b105041-f3e9-495f-8112-6e85acb64c29\",\"type\":\"HoverTool\"},{\"id\":\"0dedf2d6-e443-479a-bf98-022b43ac9d27\",\"type\":\"HoverTool\"}]},\"id\":\"18263c87-6ddd-4e12-8445-d039a835db60\",\"type\":\"Toolbar\"},{\"attributes\":{},\"id\":\"e6bd13a4-6831-4665-b438-1d318929e0f6\",\"type\":\"BasicTicker\"},{\"attributes\":{},\"id\":\"b7574b96-fd98-40bc-bfb3-039b64b7cea8\",\"type\":\"BasicTicker\"},{\"attributes\":{},\"id\":\"8eb29489-6d46-43ef-8903-fda44a1936aa\",\"type\":\"BasicTicker\"},{\"attributes\":{},\"id\":\"940db2ca-e95c-485f-b1e6-cf797151e8e8\",\"type\":\"LogTicker\"},{\"attributes\":{\"source\":{\"id\":\"b97a6aa1-ccc6-4c60-812d-359fb17527ce\",\"type\":\"ColumnDataSource\"}},\"id\":\"4e1dfdef-e61d-43f7-9c63-1e5f052183bc\",\"type\":\"CDSView\"},{\"attributes\":{},\"id\":\"216fad0b-22bb-440f-86b8-eff4b9f7b638\",\"type\":\"BasicTickFormatter\"},{\"attributes\":{\"fill_alpha\":{\"value\":0.1},\"fill_color\":{\"value\":\"navy\"},\"line_alpha\":{\"value\":0.1},\"line_color\":{\"value\":\"navy\"},\"size\":{\"units\":\"screen\",\"value\":370},\"x\":{\"value\":0.85},\"y\":{\"value\":-7}},\"id\":\"ee1394eb-27ef-493b-ab3b-cfa9032e44b4\",\"type\":\"Circle\"},{\"attributes\":{\"callback\":null,\"renderers\":[{\"id\":\"b97c210b-7fcc-469e-86aa-197c6bebebcc\",\"type\":\"GlyphRenderer\"}],\"tooltips\":[[\"Country\",\"@country\"],[\"(Tax Rate, Log(number of entities offshore))\",\"($x, $y)\"]]},\"id\":\"20f10544-9ce8-43a6-809b-63dd74fb9581\",\"type\":\"HoverTool\"},{\"attributes\":{\"high\":1492800000000.0,\"low\":850000000.0,\"palette\":[\"#0072B2\",\"#E69F00\",\"#F0E442\"]},\"id\":\"091423e2-f5f5-4b39-b16d-36633b464144\",\"type\":\"LogColorMapper\"},{\"attributes\":{\"plot\":null,\"text\":\"Number of entities offshore vs days to open a business(Small developped countries)\",\"text_color\":{\"value\":\"grey\"},\"text_font_size\":{\"value\":\"11pt\"},\"text_font_style\":\"normal\"},\"id\":\"a0a91c1b-9de6-446b-a413-7c1ece941421\",\"type\":\"Title\"},{\"attributes\":{\"callback\":null},\"id\":\"dd559ba9-a11c-423b-8df0-60360e99ed6d\",\"type\":\"DataRange1d\"}],\"root_ids\":[\"9272db1b-a858-4b29-9efd-3a2e54ac3d2a\"]},\"title\":\"Bokeh Application\",\"version\":\"0.12.16\"}};\n",
       "  var render_items = [{\"docid\":\"2befb516-250b-4c9b-aa3b-6ecffd0a76f9\",\"elementid\":\"d8919514-76cb-4a90-876e-56f758de4d3d\",\"modelid\":\"9272db1b-a858-4b29-9efd-3a2e54ac3d2a\"}];\n",
       "  root.Bokeh.embed.embed_items_notebook(docs_json, render_items);\n",
       "\n",
       "  }\n",
       "  if (root.Bokeh !== undefined) {\n",
       "    embed_document(root);\n",
       "  } else {\n",
       "    var attempts = 0;\n",
       "    var timer = setInterval(function(root) {\n",
       "      if (root.Bokeh !== undefined) {\n",
       "        embed_document(root);\n",
       "        clearInterval(timer);\n",
       "      }\n",
       "      attempts++;\n",
       "      if (attempts > 100) {\n",
       "        console.log(\"Bokeh: ERROR: Unable to run BokehJS code because BokehJS library is missing\")\n",
       "        clearInterval(timer);\n",
       "      }\n",
       "    }, 10, root)\n",
       "  }\n",
       "})(window);"
      ],
      "application/vnd.bokehjs_exec.v0+json": ""
     },
     "metadata": {
      "application/vnd.bokehjs_exec.v0+json": {
       "id": "9272db1b-a858-4b29-9efd-3a2e54ac3d2a"
      }
     },
     "output_type": "display_data"
    }
   ],
   "source": [
    "selection=country_count_ease_business['GDP_y'].apply(lambda x: x>30000) & country_count_ease_business['GDP_x'].apply(lambda x: x<200*10e9)\n",
    "\n",
    "x = np.log10(country_count_ease_business['days_open_business'][selection])\n",
    "y = np.log10(country_count_ease_business['n_companies_offshore'][selection]/country_count_ease_business['GDP_x'][selection])\n",
    "country_names=country_count_ease_business['Country Name'][selection]\n",
    "c = country_count_ease_business['GDP_x'][selection]\n",
    "c[c.isna()]=0\n",
    "\n",
    "# establish the color mapper schema\n",
    "color_mapper = LogColorMapper(palette=\"Colorblind3\", low=min(c),\\\n",
    "                              high=max(c))\n",
    "\n",
    "# establish the sources of data to make the interactive graph\n",
    "source=ColumnDataSource(data=dict(\n",
    "    x=list(x),\n",
    "    y=list(y),\n",
    "    country=list(country_names),\n",
    "    c=list(c),\n",
    "))\n",
    "\n",
    "    \n",
    "# set the regression line\n",
    "df=pd.DataFrame({'days_open_business':x,'n_companies_offshore':y})\n",
    "df=df.dropna(inplace=False)\n",
    "df=df[df['n_companies_offshore'].apply(lambda x: x<-8)]\n",
    "\n",
    "a=np.array(df['days_open_business'])\n",
    "b=np.array(df['n_companies_offshore'])\n",
    "\n",
    "m,i,r,p_value,std=stats.linregress(a,b)\n",
    "\n",
    "p = figure(title=\"Number of entities offshore vs days to open a business(Small developped countries)\", plot_width=800, plot_height=800)\n",
    "\n",
    "scatter=p.scatter(x='x', y='y', radius=0.01, source=source, color={'field': 'c', 'transform': color_mapper}, alpha=0.5)\n",
    "hover= HoverTool(tooltips = [(\"Country\", \"@country\"),(\"(Tax Rate, Log(number of entities offshore))\", \"($x, $y)\")],renderers=[scatter])\n",
    "p.add_tools(hover)\n",
    "\n",
    "\n",
    "line=p.line(df['days_open_business'], m*df['days_open_business']+i, line_width=4, color='navy', alpha=0.1)\n",
    "hover0=HoverTool(tooltips = [(\"Set of Country\",'Not tax havens countries, p-value='+str(p_value)[:5])], renderers=[line])\n",
    "p.add_tools(hover0)\n",
    "circle=p.circle(0.85, -7, size=370, color=\"navy\", alpha=0.1)\n",
    "hover1=HoverTool(tooltips = [(\"Set of Country\",'Tax havens')], renderers=[circle])\n",
    "p.add_tools(hover1)\n",
    "\n",
    "\n",
    "# set the style of the title\n",
    "p.title.text_color = \"grey\"\n",
    "p.title.text_font = \"helvetica\"\n",
    "p.title.text_font_style = \"normal\"\n",
    "p.title.text_font_size = '11pt'\n",
    "\n",
    "# set the label options\n",
    "p.xaxis.axis_label='Days to open a business'\n",
    "p.yaxis.axis_label='Number of Entities Offshore (log scale)'\n",
    "\n",
    "# add the color bar\n",
    "color_bar = ColorBar(color_mapper=color_mapper, ticker=LogTicker(),\n",
    "                     label_standoff=12, border_line_color=None, location=(20,0))\n",
    "\n",
    "# set the color bar title\n",
    "color_bar_height = 511\n",
    "color_bar_width = 35\n",
    "\n",
    "color_bar_plot = figure(title=\"Real GDP Legend Bar (USD)\", title_location=\"right\", \n",
    "                        height=color_bar_height, width=color_bar_width, \n",
    "                        toolbar_location=None, min_border=None, \n",
    "                        outline_line_color=None)\n",
    "\n",
    "p.add_layout(color_bar, 'right')\n",
    "\n",
    "# remove the interactive toolbar\n",
    "p.toolbar.logo = None\n",
    "p.toolbar_location = None\n",
    "\n",
    "layout = row_plot(p, color_bar_plot)\n",
    "output_file(\"daysbusinesssmalldeveloppedcountries.html\", title=\"daysbusinesssmalldeveloppedcountries\")\n",
    "show(layout)\n"
   ]
  },
  {
   "cell_type": "markdown",
   "metadata": {},
   "source": [
    "#### Developping Countries"
   ]
  },
  {
   "cell_type": "markdown",
   "metadata": {},
   "source": [
    "Secondly the graph of days to open a business and presence in Panama Paper of developping countries is plotted. BRICs countries have been considered, as well as all other countries which had a GDP greater than 40 billions USD a year. Also in this case the GDP has been used as a weight for the count of entities offshore because the discrepancy between the size of the economies is really high.\n",
    "\n",
    "By observing this graphs it is immediately clear that no conclusion can be drawn from the data: days to open a business is not a factor influencing in any manner entities in this category of countries to go offshore. "
   ]
  },
  {
   "cell_type": "code",
   "execution_count": 57,
   "metadata": {},
   "outputs": [
    {
     "data": {
      "text/html": [
       "\n",
       "<div class=\"bk-root\">\n",
       "    <div class=\"bk-plotdiv\" id=\"d7b8c694-d05e-4436-8809-d198782b62d8\"></div>\n",
       "</div>"
      ]
     },
     "metadata": {},
     "output_type": "display_data"
    },
    {
     "data": {
      "application/javascript": [
       "(function(root) {\n",
       "  function embed_document(root) {\n",
       "    \n",
       "  var docs_json = {\"eabce8ed-3936-40cb-819e-8d8585b7d29e\":{\"roots\":{\"references\":[{\"attributes\":{\"plot\":null,\"text\":\"Real GDP Legend Bar (USD)\"},\"id\":\"ef68cd6f-1c3e-47e3-aa1b-c13461a2d53a\",\"type\":\"Title\"},{\"attributes\":{\"data_source\":{\"id\":\"56590ce6-be3f-4e65-bd56-29342ac3b391\",\"type\":\"ColumnDataSource\"},\"glyph\":{\"id\":\"2505d285-8f9b-4340-84c0-064bc37ba61b\",\"type\":\"Circle\"},\"hover_glyph\":null,\"muted_glyph\":null,\"nonselection_glyph\":{\"id\":\"a61f718b-6b5f-4aa6-a88a-f8c9c4fe3771\",\"type\":\"Circle\"},\"selection_glyph\":null,\"view\":{\"id\":\"3900c9dd-5b9c-4189-88dc-a331f718d8bd\",\"type\":\"CDSView\"}},\"id\":\"73110146-c062-4ded-8c78-e5bf726d901b\",\"type\":\"GlyphRenderer\"},{\"attributes\":{},\"id\":\"efd35dbf-0a03-4720-92f1-6dd1c09ce5a3\",\"type\":\"WheelZoomTool\"},{\"attributes\":{\"callback\":null},\"id\":\"161f12af-5df6-4740-8f00-ce05cefdf8c8\",\"type\":\"DataRange1d\"},{\"attributes\":{\"plot\":{\"id\":\"24b4a4eb-a0df-48bf-9c72-abbf4d46a9e2\",\"subtype\":\"Figure\",\"type\":\"Plot\"},\"ticker\":{\"id\":\"735fdb70-5275-467a-a65e-58cebe9c7106\",\"type\":\"BasicTicker\"}},\"id\":\"daf031a0-7590-45a4-8b09-b9a7b5d826ee\",\"type\":\"Grid\"},{\"attributes\":{\"overlay\":{\"id\":\"791608c5-632b-47c7-9c12-53651979b677\",\"type\":\"BoxAnnotation\"}},\"id\":\"4f2a46c6-3315-40ca-865b-fe3d5b5dfa97\",\"type\":\"BoxZoomTool\"},{\"attributes\":{},\"id\":\"a9e34972-bddb-437e-804a-7b3531656299\",\"type\":\"LinearScale\"},{\"attributes\":{\"formatter\":{\"id\":\"19ae77bc-149e-44e8-bf99-6ac9f432629a\",\"type\":\"BasicTickFormatter\"},\"plot\":{\"id\":\"24b4a4eb-a0df-48bf-9c72-abbf4d46a9e2\",\"subtype\":\"Figure\",\"type\":\"Plot\"},\"ticker\":{\"id\":\"552f93b2-bbfb-472a-b3aa-d644eb6ce73e\",\"type\":\"BasicTicker\"}},\"id\":\"49d66a4b-ae5a-4f30-9628-fc49ca5bb35f\",\"type\":\"LinearAxis\"},{\"attributes\":{},\"id\":\"79276771-9db5-4a61-b65d-7bbfd35ae5bf\",\"type\":\"LinearScale\"},{\"attributes\":{},\"id\":\"43b98e8c-a72e-4211-b0ae-b407fd9556e5\",\"type\":\"LogTicker\"},{\"attributes\":{\"color_mapper\":{\"id\":\"3daa0d7c-83ff-43bf-b5f9-5f4d88794daa\",\"type\":\"LogColorMapper\"},\"formatter\":{\"id\":\"24a829e1-2df4-4789-a33f-8d4e6ced80d4\",\"type\":\"BasicTickFormatter\"},\"label_standoff\":12,\"location\":[0,0],\"plot\":{\"id\":\"8b1e4168-e186-4be1-9a67-ca5eca29c79b\",\"subtype\":\"Figure\",\"type\":\"Plot\"},\"ticker\":{\"id\":\"43b98e8c-a72e-4211-b0ae-b407fd9556e5\",\"type\":\"LogTicker\"}},\"id\":\"241344fd-40e4-4106-addd-0e3883738b12\",\"type\":\"ColorBar\"},{\"attributes\":{\"fill_alpha\":{\"value\":0.5},\"fill_color\":{\"field\":\"c\",\"transform\":{\"id\":\"3daa0d7c-83ff-43bf-b5f9-5f4d88794daa\",\"type\":\"LogColorMapper\"}},\"line_alpha\":{\"value\":0.5},\"line_color\":{\"field\":\"c\",\"transform\":{\"id\":\"3daa0d7c-83ff-43bf-b5f9-5f4d88794daa\",\"type\":\"LogColorMapper\"}},\"radius\":{\"units\":\"data\",\"value\":0.01},\"x\":{\"field\":\"x\"},\"y\":{\"field\":\"y\"}},\"id\":\"2505d285-8f9b-4340-84c0-064bc37ba61b\",\"type\":\"Circle\"},{\"attributes\":{},\"id\":\"19ae77bc-149e-44e8-bf99-6ac9f432629a\",\"type\":\"BasicTickFormatter\"},{\"attributes\":{},\"id\":\"e2387064-8bf0-4851-aa1a-23e3f17eb595\",\"type\":\"LinearScale\"},{\"attributes\":{\"callback\":null},\"id\":\"42f01cd4-a621-4121-a7d6-4376028b3ce5\",\"type\":\"DataRange1d\"},{\"attributes\":{},\"id\":\"6ff83378-f7fe-4069-b1ab-b2b6c32e44af\",\"type\":\"PanTool\"},{\"attributes\":{\"high\":64306666666666.664,\"low\":404933333333.3333,\"palette\":[\"#0072B2\",\"#E69F00\",\"#F0E442\",\"#009E73\"]},\"id\":\"3daa0d7c-83ff-43bf-b5f9-5f4d88794daa\",\"type\":\"LogColorMapper\"},{\"attributes\":{\"callback\":null,\"renderers\":[{\"id\":\"73110146-c062-4ded-8c78-e5bf726d901b\",\"type\":\"GlyphRenderer\"}],\"tooltips\":[[\"Country\",\"@country\"],[\"(Tax Rate, Log(number of entities offshore))\",\"($x, $y)\"]]},\"id\":\"6b3a07f0-dd8b-4789-9eb1-5304d7414c04\",\"type\":\"HoverTool\"},{\"attributes\":{\"active_drag\":\"auto\",\"active_inspect\":\"auto\",\"active_scroll\":\"auto\",\"active_tap\":\"auto\",\"tools\":[{\"id\":\"0d1d62f5-e09b-49cf-89b3-5809100fa2c3\",\"type\":\"PanTool\"},{\"id\":\"338e772e-6f0b-4418-923d-bc7b492f145a\",\"type\":\"WheelZoomTool\"},{\"id\":\"ca115d08-161c-4b00-96bf-ede349612d81\",\"type\":\"BoxZoomTool\"},{\"id\":\"9056873a-2bdf-46a4-b23e-a348c010eaf9\",\"type\":\"SaveTool\"},{\"id\":\"48699681-aac5-4428-8c3d-dc6b5e1fa3de\",\"type\":\"ResetTool\"},{\"id\":\"11f3175f-59e4-4b12-b2b0-7d0f94ccc57f\",\"type\":\"HelpTool\"}]},\"id\":\"2861a1f3-e3c1-43ce-b74c-cb949e70a537\",\"type\":\"Toolbar\"},{\"attributes\":{},\"id\":\"ecf564dc-1a33-4475-9a83-4390e5de7ebf\",\"type\":\"BasicTicker\"},{\"attributes\":{\"line_alpha\":0.1,\"line_color\":\"#1f77b4\",\"line_width\":4,\"x\":{\"field\":\"x\"},\"y\":{\"field\":\"y\"}},\"id\":\"75c6f21c-81a6-45e5-b748-21638ee7e1d5\",\"type\":\"Line\"},{\"attributes\":{\"children\":[{\"id\":\"8b1e4168-e186-4be1-9a67-ca5eca29c79b\",\"subtype\":\"Figure\",\"type\":\"Plot\"},{\"id\":\"24b4a4eb-a0df-48bf-9c72-abbf4d46a9e2\",\"subtype\":\"Figure\",\"type\":\"Plot\"}]},\"id\":\"14662d64-d972-482e-a614-01c5f6e38656\",\"type\":\"Row\"},{\"attributes\":{\"bottom_units\":\"screen\",\"fill_alpha\":{\"value\":0.5},\"fill_color\":{\"value\":\"lightgrey\"},\"left_units\":\"screen\",\"level\":\"overlay\",\"line_alpha\":{\"value\":1.0},\"line_color\":{\"value\":\"black\"},\"line_dash\":[4,4],\"line_width\":{\"value\":2},\"plot\":null,\"render_mode\":\"css\",\"right_units\":\"screen\",\"top_units\":\"screen\"},\"id\":\"bf92914d-0dfa-4035-89f2-bf94d8e219d6\",\"type\":\"BoxAnnotation\"},{\"attributes\":{},\"id\":\"735fdb70-5275-467a-a65e-58cebe9c7106\",\"type\":\"BasicTicker\"},{\"attributes\":{},\"id\":\"634edad7-a6e7-4a5f-8917-047ccc03513a\",\"type\":\"UnionRenderers\"},{\"attributes\":{\"formatter\":{\"id\":\"89f57bc1-4859-449f-a474-1338a6213976\",\"type\":\"BasicTickFormatter\"},\"plot\":{\"id\":\"24b4a4eb-a0df-48bf-9c72-abbf4d46a9e2\",\"subtype\":\"Figure\",\"type\":\"Plot\"},\"ticker\":{\"id\":\"735fdb70-5275-467a-a65e-58cebe9c7106\",\"type\":\"BasicTicker\"}},\"id\":\"87cce844-9ffb-4b95-9289-1413a037c77e\",\"type\":\"LinearAxis\"},{\"attributes\":{\"axis_label\":\"Number of Entities Offshore (log scale)\",\"formatter\":{\"id\":\"8caccc51-f282-47be-a03e-06cb07575c2a\",\"type\":\"BasicTickFormatter\"},\"plot\":{\"id\":\"8b1e4168-e186-4be1-9a67-ca5eca29c79b\",\"subtype\":\"Figure\",\"type\":\"Plot\"},\"ticker\":{\"id\":\"ecf564dc-1a33-4475-9a83-4390e5de7ebf\",\"type\":\"BasicTicker\"}},\"id\":\"77d994b8-037e-4007-becc-7b87cec60167\",\"type\":\"LinearAxis\"},{\"attributes\":{\"dimension\":1,\"plot\":{\"id\":\"8b1e4168-e186-4be1-9a67-ca5eca29c79b\",\"subtype\":\"Figure\",\"type\":\"Plot\"},\"ticker\":{\"id\":\"ecf564dc-1a33-4475-9a83-4390e5de7ebf\",\"type\":\"BasicTicker\"}},\"id\":\"d2412506-e3b2-4a3a-afbf-a72ac6a8a88e\",\"type\":\"Grid\"},{\"attributes\":{},\"id\":\"552f93b2-bbfb-472a-b3aa-d644eb6ce73e\",\"type\":\"BasicTicker\"},{\"attributes\":{\"data_source\":{\"id\":\"97d389fb-9e98-45b5-85d7-4765202b3414\",\"type\":\"ColumnDataSource\"},\"glyph\":{\"id\":\"dc21784e-23f1-41e6-bd68-05a4846c45df\",\"type\":\"Line\"},\"hover_glyph\":null,\"muted_glyph\":null,\"nonselection_glyph\":{\"id\":\"75c6f21c-81a6-45e5-b748-21638ee7e1d5\",\"type\":\"Line\"},\"selection_glyph\":null,\"view\":{\"id\":\"549f679a-6f07-4bd5-8bb3-651daf4cf80a\",\"type\":\"CDSView\"}},\"id\":\"42bb7b57-69b2-4bf5-a92f-e7a09b9a6f94\",\"type\":\"GlyphRenderer\"},{\"attributes\":{\"dimension\":1,\"plot\":{\"id\":\"24b4a4eb-a0df-48bf-9c72-abbf4d46a9e2\",\"subtype\":\"Figure\",\"type\":\"Plot\"},\"ticker\":{\"id\":\"552f93b2-bbfb-472a-b3aa-d644eb6ce73e\",\"type\":\"BasicTicker\"}},\"id\":\"0c5eb70e-9b99-4774-869a-2ab1f81d2006\",\"type\":\"Grid\"},{\"attributes\":{},\"id\":\"654efec7-ef69-40c5-a7ec-da77b34e3844\",\"type\":\"UnionRenderers\"},{\"attributes\":{\"source\":{\"id\":\"56590ce6-be3f-4e65-bd56-29342ac3b391\",\"type\":\"ColumnDataSource\"}},\"id\":\"3900c9dd-5b9c-4189-88dc-a331f718d8bd\",\"type\":\"CDSView\"},{\"attributes\":{},\"id\":\"8caccc51-f282-47be-a03e-06cb07575c2a\",\"type\":\"BasicTickFormatter\"},{\"attributes\":{},\"id\":\"77ab4590-7f9e-4c69-a3d5-cccc437978d5\",\"type\":\"LinearScale\"},{\"attributes\":{},\"id\":\"89f57bc1-4859-449f-a474-1338a6213976\",\"type\":\"BasicTickFormatter\"},{\"attributes\":{\"bottom_units\":\"screen\",\"fill_alpha\":{\"value\":0.5},\"fill_color\":{\"value\":\"lightgrey\"},\"left_units\":\"screen\",\"level\":\"overlay\",\"line_alpha\":{\"value\":1.0},\"line_color\":{\"value\":\"black\"},\"line_dash\":[4,4],\"line_width\":{\"value\":2},\"plot\":null,\"render_mode\":\"css\",\"right_units\":\"screen\",\"top_units\":\"screen\"},\"id\":\"791608c5-632b-47c7-9c12-53651979b677\",\"type\":\"BoxAnnotation\"},{\"attributes\":{\"callback\":null,\"data\":{\"c\":[1421666666666.6667,6584000000000.0,1725266666666.6667,404933333333.3333,438466666666.6667,719600000000.0,1056200000000.0,653866666666.6666,1527933333333.3333,2047133333333.3333,1227600000000.0,8232000000000.0,7951333333333.333,16616666666666.666,2884666666666.6665,591400000000.0,464266666666.6667,19073333333333.332,20481333333333.332,1392466666666.6667,657466666666.6666,731600000000.0,3869333333333.3335,4699333333333.333,652133333333.3334,4177333333333.3335,19372000000000.0,13275333333333.334,2608000000000.0,18997333333333.332,1217600000000.0,926800000000.0,1933466666666.6667,1220066666666.6667,1221066666666.6667,8206666666666.667,3376666666666.6665,4509333333333.333,1208333333333.3333,1933466666666.6667,1221066666666.6667,14828000000000.0,64306666666666.664],\"country\":[\"Russian Federation\",\"China\",\"Brazil\",\"Argentina\",\"Poland\",\"Turkey\",\"Mexico\",\"Indonesia\",\"India\",\"Arab World\",\"Central Europe and the Baltics\",\"East Asia & Pacific (excluding high income)\",\"Early-demographic dividend\",\"East Asia & Pacific\",\"Europe & Central Asia (excluding high income)\",\"Fragile and conflict affected situations\",\"Heavily indebted poor countries (HIPC)\",\"IBRD only\",\"IDA & IBRD total\",\"IDA total\",\"IDA blend\",\"IDA only\",\"Latin America & Caribbean (excluding high income)\",\"Latin America & Caribbean\",\"Least developed countries: UN classification\",\"Lower middle income\",\"Low & middle income\",\"Late-demographic dividend\",\"Middle East & North Africa\",\"Middle income\",\"Middle East & North Africa (excluding high income)\",\"Pre-demographic dividend\",\"South Asia\",\"Sub-Saharan Africa (excluding high income)\",\"Sub-Saharan Africa\",\"East Asia & Pacific (IDA & IBRD countries)\",\"Europe & Central Asia (IDA & IBRD countries)\",\"Latin America & the Caribbean (IDA & IBRD countries)\",\"Middle East & North Africa (IDA & IBRD countries)\",\"South Asia (IDA & IBRD)\",\"Sub-Saharan Africa (IDA & IBRD countries)\",\"Upper middle income\",\"World\"],\"x\":[1.0468851908377101,1.4502491083193612,1.9161379831071752,1.4125805348549276,1.6254594452030173,0.8450980400142568,0.9242792860618817,1.6508900778563125,1.493876110852823,1.4174903556298613,1.313332990624795,1.6203804067461145,1.677371873527108,1.543107450512011,1.3507917909172642,1.6779825512748712,1.5878396399538224,1.6192257835452473,1.5927512762588523,1.567618557127685,1.576774349275635,1.5653923731299817,1.8048672851850727,1.7110903303703175,1.637714083896013,1.5783223930166734,1.607466949446089,1.3567967914523142,1.3868151895931013,1.6113396513831781,1.4113248300983101,1.6197130129690627,1.3737655565390983,1.6312125167648461,1.6293251278929,1.612191564830096,1.364504906505121,1.7323166323161998,1.358826548429064,1.3737655565390983,1.6293251278929,1.6386963777981791,1.527810598941708],\"y\":[-8.529858811572389,-9.311579096652695,-9.091038517039856,-9.176019764367577,-9.443279495849152,-9.85276978089087,-10.21083280650962,-10.36833116677644,-10.861885110816559,\"NaN\",\"NaN\",\"NaN\",\"NaN\",\"NaN\",\"NaN\",\"NaN\",\"NaN\",\"NaN\",\"NaN\",\"NaN\",\"NaN\",\"NaN\",\"NaN\",\"NaN\",\"NaN\",\"NaN\",\"NaN\",\"NaN\",\"NaN\",\"NaN\",\"NaN\",\"NaN\",\"NaN\",\"NaN\",\"NaN\",\"NaN\",\"NaN\",\"NaN\",\"NaN\",\"NaN\",\"NaN\",\"NaN\",\"NaN\"]},\"selected\":{\"id\":\"0dc2c4db-05a0-488c-b9e6-ab31138484c0\",\"type\":\"Selection\"},\"selection_policy\":{\"id\":\"634edad7-a6e7-4a5f-8917-047ccc03513a\",\"type\":\"UnionRenderers\"}},\"id\":\"56590ce6-be3f-4e65-bd56-29342ac3b391\",\"type\":\"ColumnDataSource\"},{\"attributes\":{\"overlay\":{\"id\":\"bf92914d-0dfa-4035-89f2-bf94d8e219d6\",\"type\":\"BoxAnnotation\"}},\"id\":\"ca115d08-161c-4b00-96bf-ede349612d81\",\"type\":\"BoxZoomTool\"},{\"attributes\":{},\"id\":\"11f3175f-59e4-4b12-b2b0-7d0f94ccc57f\",\"type\":\"HelpTool\"},{\"attributes\":{},\"id\":\"d21666aa-0e32-4a1b-852a-3a8f841d128f\",\"type\":\"BasicTickFormatter\"},{\"attributes\":{\"callback\":null,\"data\":{\"x\":{\"__ndarray__\":\"8giVrwrA8D+djrRoODT3P3gZQU2AqP4/jLACDO6Z9j+y8GHD4QH6Pz/MeAsLC+s/PTFAJ7KT7T+q8Nq2C2r6P3s3BqPq5vc/\",\"dtype\":\"float64\",\"shape\":[9]},\"y\":{\"__ndarray__\":\"u9eX4j1UI8A5vFsrwUojwEjBNfvLPyPATjRE+qNLI8DPqn8zokYjwD/uWuD8WCPAZMQvHSBXI8CBYVYUCUYjwGymCXy6SSPA\",\"dtype\":\"float64\",\"shape\":[9]}},\"selected\":{\"id\":\"c5fec126-ed4b-4415-b12b-7460dddc70ab\",\"type\":\"Selection\"},\"selection_policy\":{\"id\":\"654efec7-ef69-40c5-a7ec-da77b34e3844\",\"type\":\"UnionRenderers\"}},\"id\":\"97d389fb-9e98-45b5-85d7-4765202b3414\",\"type\":\"ColumnDataSource\"},{\"attributes\":{},\"id\":\"338e772e-6f0b-4418-923d-bc7b492f145a\",\"type\":\"WheelZoomTool\"},{\"attributes\":{},\"id\":\"f00d23b6-4717-4a46-898f-01434db41d45\",\"type\":\"ResetTool\"},{\"attributes\":{\"line_alpha\":0.1,\"line_color\":\"navy\",\"line_width\":4,\"x\":{\"field\":\"x\"},\"y\":{\"field\":\"y\"}},\"id\":\"dc21784e-23f1-41e6-bd68-05a4846c45df\",\"type\":\"Line\"},{\"attributes\":{},\"id\":\"0d1d62f5-e09b-49cf-89b3-5809100fa2c3\",\"type\":\"PanTool\"},{\"attributes\":{\"axis_label\":\"Days to open a business\",\"formatter\":{\"id\":\"d21666aa-0e32-4a1b-852a-3a8f841d128f\",\"type\":\"BasicTickFormatter\"},\"plot\":{\"id\":\"8b1e4168-e186-4be1-9a67-ca5eca29c79b\",\"subtype\":\"Figure\",\"type\":\"Plot\"},\"ticker\":{\"id\":\"9725f4de-c333-4a74-85ed-bbdf9b654d07\",\"type\":\"BasicTicker\"}},\"id\":\"2aadd0b1-8c60-491d-9e37-823e50fb3eb3\",\"type\":\"LinearAxis\"},{\"attributes\":{\"source\":{\"id\":\"97d389fb-9e98-45b5-85d7-4765202b3414\",\"type\":\"ColumnDataSource\"}},\"id\":\"549f679a-6f07-4bd5-8bb3-651daf4cf80a\",\"type\":\"CDSView\"},{\"attributes\":{\"callback\":null},\"id\":\"70ae01dd-744d-42dd-8ac3-2190f0079ee6\",\"type\":\"DataRange1d\"},{\"attributes\":{},\"id\":\"24a829e1-2df4-4789-a33f-8d4e6ced80d4\",\"type\":\"BasicTickFormatter\"},{\"attributes\":{},\"id\":\"9056873a-2bdf-46a4-b23e-a348c010eaf9\",\"type\":\"SaveTool\"},{\"attributes\":{\"plot\":{\"id\":\"8b1e4168-e186-4be1-9a67-ca5eca29c79b\",\"subtype\":\"Figure\",\"type\":\"Plot\"},\"ticker\":{\"id\":\"9725f4de-c333-4a74-85ed-bbdf9b654d07\",\"type\":\"BasicTicker\"}},\"id\":\"6d3af6d2-9f36-4a7f-aec4-39f3dbdf3a99\",\"type\":\"Grid\"},{\"attributes\":{\"active_drag\":\"auto\",\"active_inspect\":\"auto\",\"active_scroll\":\"auto\",\"active_tap\":\"auto\",\"logo\":null,\"tools\":[{\"id\":\"6ff83378-f7fe-4069-b1ab-b2b6c32e44af\",\"type\":\"PanTool\"},{\"id\":\"efd35dbf-0a03-4720-92f1-6dd1c09ce5a3\",\"type\":\"WheelZoomTool\"},{\"id\":\"4f2a46c6-3315-40ca-865b-fe3d5b5dfa97\",\"type\":\"BoxZoomTool\"},{\"id\":\"993f9116-188a-4a8d-adf1-3eb8609e6c55\",\"type\":\"SaveTool\"},{\"id\":\"f00d23b6-4717-4a46-898f-01434db41d45\",\"type\":\"ResetTool\"},{\"id\":\"07b72026-fdb7-423b-ab11-016f9ebb9a35\",\"type\":\"HelpTool\"},{\"id\":\"6b3a07f0-dd8b-4789-9eb1-5304d7414c04\",\"type\":\"HoverTool\"},{\"id\":\"16c35d85-f7db-4e4a-b3db-db458482eda1\",\"type\":\"HoverTool\"}]},\"id\":\"2d2618cc-c89d-43f7-8f1c-61bdbb7dbc6d\",\"type\":\"Toolbar\"},{\"attributes\":{},\"id\":\"993f9116-188a-4a8d-adf1-3eb8609e6c55\",\"type\":\"SaveTool\"},{\"attributes\":{},\"id\":\"c5fec126-ed4b-4415-b12b-7460dddc70ab\",\"type\":\"Selection\"},{\"attributes\":{},\"id\":\"0dc2c4db-05a0-488c-b9e6-ab31138484c0\",\"type\":\"Selection\"},{\"attributes\":{},\"id\":\"48699681-aac5-4428-8c3d-dc6b5e1fa3de\",\"type\":\"ResetTool\"},{\"attributes\":{\"plot\":null,\"text\":\"Number of entities offshore vs days to open a business (Major developping countries)\",\"text_color\":{\"value\":\"grey\"},\"text_font_size\":{\"value\":\"11pt\"},\"text_font_style\":\"normal\"},\"id\":\"929ca9d3-d4f1-42d4-97cc-5a579289726d\",\"type\":\"Title\"},{\"attributes\":{\"callback\":null,\"renderers\":[{\"id\":\"42bb7b57-69b2-4bf5-a92f-e7a09b9a6f94\",\"type\":\"GlyphRenderer\"}],\"tooltips\":[[\"Set of Country\",\"Developping countries\"]]},\"id\":\"16c35d85-f7db-4e4a-b3db-db458482eda1\",\"type\":\"HoverTool\"},{\"attributes\":{\"below\":[{\"id\":\"2aadd0b1-8c60-491d-9e37-823e50fb3eb3\",\"type\":\"LinearAxis\"}],\"left\":[{\"id\":\"77d994b8-037e-4007-becc-7b87cec60167\",\"type\":\"LinearAxis\"}],\"plot_height\":800,\"plot_width\":800,\"renderers\":[{\"id\":\"2aadd0b1-8c60-491d-9e37-823e50fb3eb3\",\"type\":\"LinearAxis\"},{\"id\":\"6d3af6d2-9f36-4a7f-aec4-39f3dbdf3a99\",\"type\":\"Grid\"},{\"id\":\"77d994b8-037e-4007-becc-7b87cec60167\",\"type\":\"LinearAxis\"},{\"id\":\"d2412506-e3b2-4a3a-afbf-a72ac6a8a88e\",\"type\":\"Grid\"},{\"id\":\"791608c5-632b-47c7-9c12-53651979b677\",\"type\":\"BoxAnnotation\"},{\"id\":\"73110146-c062-4ded-8c78-e5bf726d901b\",\"type\":\"GlyphRenderer\"},{\"id\":\"42bb7b57-69b2-4bf5-a92f-e7a09b9a6f94\",\"type\":\"GlyphRenderer\"},{\"id\":\"241344fd-40e4-4106-addd-0e3883738b12\",\"type\":\"ColorBar\"}],\"right\":[{\"id\":\"241344fd-40e4-4106-addd-0e3883738b12\",\"type\":\"ColorBar\"}],\"title\":{\"id\":\"929ca9d3-d4f1-42d4-97cc-5a579289726d\",\"type\":\"Title\"},\"toolbar\":{\"id\":\"2d2618cc-c89d-43f7-8f1c-61bdbb7dbc6d\",\"type\":\"Toolbar\"},\"toolbar_location\":null,\"x_range\":{\"id\":\"cabad90e-bee8-4a82-b702-1d1316511917\",\"type\":\"DataRange1d\"},\"x_scale\":{\"id\":\"77ab4590-7f9e-4c69-a3d5-cccc437978d5\",\"type\":\"LinearScale\"},\"y_range\":{\"id\":\"70ae01dd-744d-42dd-8ac3-2190f0079ee6\",\"type\":\"DataRange1d\"},\"y_scale\":{\"id\":\"e2387064-8bf0-4851-aa1a-23e3f17eb595\",\"type\":\"LinearScale\"}},\"id\":\"8b1e4168-e186-4be1-9a67-ca5eca29c79b\",\"subtype\":\"Figure\",\"type\":\"Plot\"},{\"attributes\":{\"below\":[{\"id\":\"87cce844-9ffb-4b95-9289-1413a037c77e\",\"type\":\"LinearAxis\"}],\"left\":[{\"id\":\"49d66a4b-ae5a-4f30-9628-fc49ca5bb35f\",\"type\":\"LinearAxis\"}],\"min_border\":null,\"outline_line_color\":{\"value\":null},\"plot_height\":511,\"plot_width\":35,\"renderers\":[{\"id\":\"87cce844-9ffb-4b95-9289-1413a037c77e\",\"type\":\"LinearAxis\"},{\"id\":\"daf031a0-7590-45a4-8b09-b9a7b5d826ee\",\"type\":\"Grid\"},{\"id\":\"49d66a4b-ae5a-4f30-9628-fc49ca5bb35f\",\"type\":\"LinearAxis\"},{\"id\":\"0c5eb70e-9b99-4774-869a-2ab1f81d2006\",\"type\":\"Grid\"},{\"id\":\"bf92914d-0dfa-4035-89f2-bf94d8e219d6\",\"type\":\"BoxAnnotation\"}],\"title\":{\"id\":\"ef68cd6f-1c3e-47e3-aa1b-c13461a2d53a\",\"type\":\"Title\"},\"title_location\":\"right\",\"toolbar\":{\"id\":\"2861a1f3-e3c1-43ce-b74c-cb949e70a537\",\"type\":\"Toolbar\"},\"toolbar_location\":null,\"x_range\":{\"id\":\"42f01cd4-a621-4121-a7d6-4376028b3ce5\",\"type\":\"DataRange1d\"},\"x_scale\":{\"id\":\"79276771-9db5-4a61-b65d-7bbfd35ae5bf\",\"type\":\"LinearScale\"},\"y_range\":{\"id\":\"161f12af-5df6-4740-8f00-ce05cefdf8c8\",\"type\":\"DataRange1d\"},\"y_scale\":{\"id\":\"a9e34972-bddb-437e-804a-7b3531656299\",\"type\":\"LinearScale\"}},\"id\":\"24b4a4eb-a0df-48bf-9c72-abbf4d46a9e2\",\"subtype\":\"Figure\",\"type\":\"Plot\"},{\"attributes\":{\"callback\":null},\"id\":\"cabad90e-bee8-4a82-b702-1d1316511917\",\"type\":\"DataRange1d\"},{\"attributes\":{},\"id\":\"9725f4de-c333-4a74-85ed-bbdf9b654d07\",\"type\":\"BasicTicker\"},{\"attributes\":{\"fill_alpha\":{\"value\":0.1},\"fill_color\":{\"value\":\"#1f77b4\"},\"line_alpha\":{\"value\":0.1},\"line_color\":{\"value\":\"#1f77b4\"},\"radius\":{\"units\":\"data\",\"value\":0.01},\"x\":{\"field\":\"x\"},\"y\":{\"field\":\"y\"}},\"id\":\"a61f718b-6b5f-4aa6-a88a-f8c9c4fe3771\",\"type\":\"Circle\"},{\"attributes\":{},\"id\":\"07b72026-fdb7-423b-ab11-016f9ebb9a35\",\"type\":\"HelpTool\"}],\"root_ids\":[\"14662d64-d972-482e-a614-01c5f6e38656\"]},\"title\":\"Bokeh Application\",\"version\":\"0.12.16\"}};\n",
       "  var render_items = [{\"docid\":\"eabce8ed-3936-40cb-819e-8d8585b7d29e\",\"elementid\":\"d7b8c694-d05e-4436-8809-d198782b62d8\",\"modelid\":\"14662d64-d972-482e-a614-01c5f6e38656\"}];\n",
       "  root.Bokeh.embed.embed_items_notebook(docs_json, render_items);\n",
       "\n",
       "  }\n",
       "  if (root.Bokeh !== undefined) {\n",
       "    embed_document(root);\n",
       "  } else {\n",
       "    var attempts = 0;\n",
       "    var timer = setInterval(function(root) {\n",
       "      if (root.Bokeh !== undefined) {\n",
       "        embed_document(root);\n",
       "        clearInterval(timer);\n",
       "      }\n",
       "      attempts++;\n",
       "      if (attempts > 100) {\n",
       "        console.log(\"Bokeh: ERROR: Unable to run BokehJS code because BokehJS library is missing\")\n",
       "        clearInterval(timer);\n",
       "      }\n",
       "    }, 10, root)\n",
       "  }\n",
       "})(window);"
      ],
      "application/vnd.bokehjs_exec.v0+json": ""
     },
     "metadata": {
      "application/vnd.bokehjs_exec.v0+json": {
       "id": "14662d64-d972-482e-a614-01c5f6e38656"
      }
     },
     "output_type": "display_data"
    }
   ],
   "source": [
    "selection=country_count_ease_business['GDP_y'].apply(lambda x: x<15000) & country_count_ease_business['GDP_x'].apply(lambda x: x>40*10e9)\n",
    "\n",
    "x = np.log10(country_count_ease_business['days_open_business'][selection])\n",
    "y = np.log10(country_count_ease_business['n_companies_offshore'][selection]/country_count_ease_business['GDP_x'][selection])\n",
    "country_names=country_count_ease_business['Country Name'][selection]\n",
    "c = country_count_ease_business['GDP_x'][selection]\n",
    "c[c.isna()]=0\n",
    "\n",
    "# set the regression line\n",
    "df=pd.DataFrame({'days_open_business':x,'n_companies_offshore':y})\n",
    "df=df.dropna(inplace=False)\n",
    "a=np.array(df['days_open_business'])\n",
    "b=np.array(df['n_companies_offshore'])\n",
    "\n",
    "m,i,r,p,std=stats.linregress(a,b)\n",
    "\n",
    "# establish the color mapper schema\n",
    "color_mapper = LogColorMapper(palette=\"Colorblind4\", low=min(c),\\\n",
    "                              high=max(c))\n",
    "\n",
    "# establish the sources of data to make the interactive graph\n",
    "source=ColumnDataSource(data=dict(\n",
    "    x=list(x),\n",
    "    y=list(y),\n",
    "    country=list(country_names),\n",
    "    c=list(c),\n",
    "))\n",
    "\n",
    "p = figure(title=\"Number of entities offshore vs days to open a business (Major developping countries)\", plot_width=800, plot_height=800)\n",
    "scatter=p.scatter(x='x', y='y', radius=0.01, source=source, color={'field': 'c', 'transform': color_mapper}, alpha=0.5)\n",
    "hover= HoverTool(tooltips = [(\"Country\", \"@country\"),(\"(Tax Rate, Log(number of entities offshore))\", \"($x, $y)\")],renderers=[scatter])\n",
    "p.add_tools(hover)\n",
    "\n",
    "line=p.line(df['days_open_business'], m*df['days_open_business']+i, line_width=4, color='navy', alpha=0.1)\n",
    "hover0=HoverTool(tooltips = [(\"Set of Country\",'Developping countries')], renderers=[line])\n",
    "p.add_tools(hover0)\n",
    "\n",
    "# set the style of the title\n",
    "p.title.text_color = \"grey\"\n",
    "p.title.text_font = \"helvetica\"\n",
    "p.title.text_font_style = \"normal\"\n",
    "p.title.text_font_size = '11pt'\n",
    "\n",
    "# set the label options\n",
    "p.xaxis.axis_label='Days to open a business'\n",
    "p.yaxis.axis_label='Number of Entities Offshore (log scale)'\n",
    "\n",
    "\n",
    "# set the color bar tab\n",
    "color_bar = ColorBar(color_mapper=color_mapper, ticker=LogTicker(),\n",
    "                     label_standoff=12, border_line_color=None, location=(0,0))\n",
    "\n",
    "# set the color bar title\n",
    "color_bar_height = 511\n",
    "color_bar_width = 35\n",
    "\n",
    "color_bar_plot = figure(title=\"Real GDP Legend Bar (USD)\", title_location=\"right\", \n",
    "                        height=color_bar_height, width=color_bar_width, \n",
    "                        toolbar_location=None, min_border=None, \n",
    "                        outline_line_color=None)\n",
    "\n",
    "# add the color bar\n",
    "p.add_layout(color_bar, 'right')\n",
    "\n",
    "# remove the interactive toolbar\n",
    "p.toolbar.logo = None\n",
    "p.toolbar_location = None\n",
    "\n",
    "layout = row_plot(p, color_bar_plot)\n",
    "output_file(\"developpingcountriesdaysbusiness.html\", title=\"developpingcountriesdaysbusiness\")\n",
    "show(layout)"
   ]
  },
  {
   "cell_type": "markdown",
   "metadata": {},
   "source": [
    "#### Global Perspective"
   ]
  },
  {
   "cell_type": "markdown",
   "metadata": {},
   "source": [
    "Eventually by plotting all the developped countries together it is not possible to find a global clear relationship between number of days to open a business and number of entities in Panama Papers. Hence it can be concludede that the hypothesis established at the beginning of the analysis has been contradicted."
   ]
  },
  {
   "cell_type": "code",
   "execution_count": 58,
   "metadata": {},
   "outputs": [
    {
     "data": {
      "text/html": [
       "\n",
       "<div class=\"bk-root\">\n",
       "    <div class=\"bk-plotdiv\" id=\"962aa436-5d15-49d3-800e-efc05737acf4\"></div>\n",
       "</div>"
      ]
     },
     "metadata": {},
     "output_type": "display_data"
    },
    {
     "data": {
      "application/javascript": [
       "(function(root) {\n",
       "  function embed_document(root) {\n",
       "    \n",
       "  var docs_json = {\"8ed4320c-1871-4273-b3d7-f7b55e132d98\":{\"roots\":{\"references\":[{\"attributes\":{},\"id\":\"c617edc9-8902-4cf1-9689-06d4de5df41a\",\"type\":\"UnionRenderers\"},{\"attributes\":{},\"id\":\"bd3a4978-cdf0-421e-a3cb-a5aac03868ff\",\"type\":\"BasicTickFormatter\"},{\"attributes\":{\"high\":148406.48335999998,\"low\":15400.0,\"palette\":[\"#0072B2\",\"#E69F00\",\"#F0E442\",\"#009E73\"]},\"id\":\"1417ce0f-3115-43d7-bf6f-a581182c37f1\",\"type\":\"LogColorMapper\"},{\"attributes\":{},\"id\":\"b73a88ac-1ab1-4a9e-814e-49c090408d1a\",\"type\":\"BasicTickFormatter\"},{\"attributes\":{},\"id\":\"82054c7c-e9d0-4288-a2f1-911ff056ead3\",\"type\":\"LinearScale\"},{\"attributes\":{\"source\":{\"id\":\"a0507d8f-567a-4898-86fa-a1b48106c657\",\"type\":\"ColumnDataSource\"}},\"id\":\"8c8b6c21-6662-4cad-a632-ca4542907d1c\",\"type\":\"CDSView\"},{\"attributes\":{\"plot\":{\"id\":\"7a663f31-67f4-4480-945d-6cf84851a8a4\",\"subtype\":\"Figure\",\"type\":\"Plot\"},\"ticker\":{\"id\":\"1024be87-6293-432c-8101-d84915ccf3b7\",\"type\":\"BasicTicker\"}},\"id\":\"e1f63006-6ce8-42cb-8e5f-8a9cb0081fd6\",\"type\":\"Grid\"},{\"attributes\":{},\"id\":\"6a1e5005-1aea-4257-bdc2-eb94e29ad1ae\",\"type\":\"Selection\"},{\"attributes\":{},\"id\":\"867d10c7-b11c-46df-b651-36bde97a0eb6\",\"type\":\"Selection\"},{\"attributes\":{\"dimension\":1,\"plot\":{\"id\":\"7a663f31-67f4-4480-945d-6cf84851a8a4\",\"subtype\":\"Figure\",\"type\":\"Plot\"},\"ticker\":{\"id\":\"db54021d-1afd-40e7-aa57-fac8bad56d77\",\"type\":\"BasicTicker\"}},\"id\":\"7c6378f8-c735-416c-8aa1-52aea0c2689c\",\"type\":\"Grid\"},{\"attributes\":{},\"id\":\"fecc8acd-9fdb-480f-b93c-4fd22834831b\",\"type\":\"BasicTickFormatter\"},{\"attributes\":{\"below\":[{\"id\":\"9faa5939-f106-4c9b-a751-da31b5a82f45\",\"type\":\"LinearAxis\"}],\"left\":[{\"id\":\"3a12e5e7-d793-4598-a33b-036f2141cc8c\",\"type\":\"LinearAxis\"}],\"plot_height\":800,\"plot_width\":800,\"renderers\":[{\"id\":\"9faa5939-f106-4c9b-a751-da31b5a82f45\",\"type\":\"LinearAxis\"},{\"id\":\"12acb298-e7ca-4c45-9bfa-8602ad2752db\",\"type\":\"Grid\"},{\"id\":\"3a12e5e7-d793-4598-a33b-036f2141cc8c\",\"type\":\"LinearAxis\"},{\"id\":\"3f9e0b62-cc58-46a3-816c-d852748f1f28\",\"type\":\"Grid\"},{\"id\":\"746acde7-7950-4b62-9e6e-e5a379197c32\",\"type\":\"BoxAnnotation\"},{\"id\":\"89750449-ef14-43b5-8559-171b22f35fdf\",\"type\":\"GlyphRenderer\"},{\"id\":\"2eeabce9-4191-41cc-bd25-32f2f930d313\",\"type\":\"GlyphRenderer\"},{\"id\":\"f681d490-2556-43fb-b01b-bfed46015cbd\",\"type\":\"ColorBar\"}],\"right\":[{\"id\":\"f681d490-2556-43fb-b01b-bfed46015cbd\",\"type\":\"ColorBar\"}],\"title\":{\"id\":\"d5573bac-d717-45fc-8073-1d538bb23c96\",\"type\":\"Title\"},\"toolbar\":{\"id\":\"afef0b22-f690-4917-b2a8-16564354e7b6\",\"type\":\"Toolbar\"},\"toolbar_location\":null,\"x_range\":{\"id\":\"f452630b-0d7b-440a-8e67-48f45f895cf1\",\"type\":\"DataRange1d\"},\"x_scale\":{\"id\":\"c22f4f77-265d-4955-89b8-23170e8bc8fd\",\"type\":\"LinearScale\"},\"y_range\":{\"id\":\"f83686f7-054e-4e87-ace5-ef1c9f384480\",\"type\":\"DataRange1d\"},\"y_scale\":{\"id\":\"0f3fe43d-d8d6-4cdb-be93-6b699a5eb5ec\",\"type\":\"LinearScale\"}},\"id\":\"c0379c13-ed64-4486-8068-78a7c9df31e2\",\"subtype\":\"Figure\",\"type\":\"Plot\"},{\"attributes\":{},\"id\":\"bf03b60e-01e4-4833-b46c-33853c2bee06\",\"type\":\"WheelZoomTool\"},{\"attributes\":{},\"id\":\"ee3f305b-83c6-4335-ad15-724bf9f5326e\",\"type\":\"SaveTool\"},{\"attributes\":{},\"id\":\"4371f291-1fcb-4ccd-b400-12239025c02b\",\"type\":\"ResetTool\"},{\"attributes\":{},\"id\":\"c6118cf1-ec72-4ac8-a04d-5dbbbd2d7cd6\",\"type\":\"LinearScale\"},{\"attributes\":{\"formatter\":{\"id\":\"bd3a4978-cdf0-421e-a3cb-a5aac03868ff\",\"type\":\"BasicTickFormatter\"},\"plot\":{\"id\":\"7a663f31-67f4-4480-945d-6cf84851a8a4\",\"subtype\":\"Figure\",\"type\":\"Plot\"},\"ticker\":{\"id\":\"1024be87-6293-432c-8101-d84915ccf3b7\",\"type\":\"BasicTicker\"}},\"id\":\"a7356039-a8e9-48c0-ac08-c7356dbf24a0\",\"type\":\"LinearAxis\"},{\"attributes\":{\"bottom_units\":\"screen\",\"fill_alpha\":{\"value\":0.5},\"fill_color\":{\"value\":\"lightgrey\"},\"left_units\":\"screen\",\"level\":\"overlay\",\"line_alpha\":{\"value\":1.0},\"line_color\":{\"value\":\"black\"},\"line_dash\":[4,4],\"line_width\":{\"value\":2},\"plot\":null,\"render_mode\":\"css\",\"right_units\":\"screen\",\"top_units\":\"screen\"},\"id\":\"605d36e6-22c8-474b-a374-113fbcc685c7\",\"type\":\"BoxAnnotation\"},{\"attributes\":{},\"id\":\"db54021d-1afd-40e7-aa57-fac8bad56d77\",\"type\":\"BasicTicker\"},{\"attributes\":{\"data_source\":{\"id\":\"a0507d8f-567a-4898-86fa-a1b48106c657\",\"type\":\"ColumnDataSource\"},\"glyph\":{\"id\":\"d86ac293-09da-4ec2-9a15-31d51cd9bb1e\",\"type\":\"Line\"},\"hover_glyph\":null,\"muted_glyph\":null,\"nonselection_glyph\":{\"id\":\"b85e6515-2550-40ac-b467-261d4d160404\",\"type\":\"Line\"},\"selection_glyph\":null,\"view\":{\"id\":\"8c8b6c21-6662-4cad-a632-ca4542907d1c\",\"type\":\"CDSView\"}},\"id\":\"2eeabce9-4191-41cc-bd25-32f2f930d313\",\"type\":\"GlyphRenderer\"},{\"attributes\":{\"line_alpha\":0.1,\"line_color\":\"navy\",\"line_width\":4,\"x\":{\"field\":\"x\"},\"y\":{\"field\":\"y\"}},\"id\":\"d86ac293-09da-4ec2-9a15-31d51cd9bb1e\",\"type\":\"Line\"},{\"attributes\":{\"formatter\":{\"id\":\"b73a88ac-1ab1-4a9e-814e-49c090408d1a\",\"type\":\"BasicTickFormatter\"},\"plot\":{\"id\":\"7a663f31-67f4-4480-945d-6cf84851a8a4\",\"subtype\":\"Figure\",\"type\":\"Plot\"},\"ticker\":{\"id\":\"db54021d-1afd-40e7-aa57-fac8bad56d77\",\"type\":\"BasicTicker\"}},\"id\":\"38be5674-14c7-4c6c-9688-cb16181ccf93\",\"type\":\"LinearAxis\"},{\"attributes\":{\"callback\":null,\"data\":{\"c\":[72018.65437666667,34139.40517133333,59422.543726,100087.83314133335,42089.915140666664,39757.577518000006,29218.051776,65308.38069692308,44514.55255866667,27664.74357333333,148406.48335999998,49764.76171266667,136708.2832623077,92843.0,28837.613580666664,34200.0,15433.345880666666,20952.267600000003,29813.538158,40705.07343933333,43641.797792,34121.00105666667,54731.376007333325,39053.13763533334,20890.234439999997,23439.961054,47799.616809333325,41345.20783333333,84080.9525725,18780.275228999995,61454.453850000005,48650.63502733333,34351.70849666666,44990.741085333335,38738.524536,42371.086257999996,51225.98508066667,17885.757813533335,15598.824366666666,24371.613246,67222.99931133333,54857.40289799999,39495.30974066667,45337.413664666674,22043.319871333333,51894.66819999999,81474.63766466668,55580.77363533333,21083.044485333336,23614.7,22674.086322666666,16187.456759733333,37851.61739461539,16797.731021066666,15635.492743466664,25675.560012857146,15400.0,33225.774994666666,29936.964220714286,22789.411886666665,36284.8802,32979.10055133333,45708.10021307693,41742.81313000001,37487.459001333336,16270.95105,49161.402510666674,35162.51762399999,38759.095045999995,63952.17019533333],\"country\":[\"Switzerland\",\"Hong Kong SAR, China\",\"Channel Islands\",\"Luxembourg\",\"United Kingdom\",\"United Arab Emirates\",\"Bahamas, The\",\"Isle of Man\",\"Singapore\",\"Cyprus\",\"Monaco\",\"United States\",\"Liechtenstein\",\"Gibraltar\",\"Spain\",\"British Virgin Islands\",\"Estonia\",\"Malta\",\"Israel\",\"Andorra\",\"Canada\",\"Italy\",\"Ireland\",\"France\",\"Portugal\",\"Greece\",\"Netherlands\",\"Germany\",\"Bermuda\",\"Saudi Arabia\",\"Cayman Islands\",\"Australia\",\"New Zealand\",\"Finland\",\"Kuwait\",\"Belgium\",\"Sweden\",\"Czech Republic\",\"Barbados\",\"Aruba\",\"Qatar\",\"Macao SAR, China\",\"Japan\",\"Austria\",\"Slovenia\",\"Iceland\",\"Norway\",\"Denmark\",\"Bahrain\",\"Turks and Caicos Islands\",\"Korea, Rep.\",\"Trinidad and Tobago\",\"Virgin Islands (U.S.)\",\"Oman\",\"Slovak Republic\",\"Puerto Rico\",\"Sint Maarten (Dutch part)\",\"Brunei Darussalam\",\"Guam\",\"Europe & Central Asia\",\"Euro area\",\"European Union\",\"Faroe Islands\",\"Greenland\",\"High income\",\"Northern Mariana Islands\",\"North America\",\"OECD members\",\"Post-demographic dividend\",\"San Marino\"],\"radii\":[0.005693333333333334,0.00242,9.1807879548e-05,0.0005192631467413333,0.02642,0.0029393333333333333,0.00010487996,5.216143943461538e-05,0.0022713342517126666,0.000223948112652,5.3019315456e-05,0.1542,4.9221732366923076e-05,2.288e-05,0.013178,8.5e-06,0.00020522609297333333,8.885728832533333e-05,0.0023206666666666666,3.274307831133333e-05,0.014928,0.020213333333333333,0.0024646666666666667,0.025386666666666665,0.0021886666666666665,0.0025766666666666668,0.007952666666666667,0.0338,5.418704083333333e-05,0.005310666666666667,3.3435162565e-05,0.010883333333333333,0.0015108339237,0.002416,0.0011894092618106667,0.004626666666666667,0.004834666666666667,0.0018650847601826665,4.3605330653999996e-05,2.4484849163000002e-05,0.00121546062271,0.00030812990994333333,0.05042,0.003818666666666667,0.00044952051246333334,0.00016469675328666667,0.004010666666666667,0.003088,0.0002525533104613333,7.97e-06,0.011284,0.000215629590588,4.098230769230769e-05,0.0005584873862146667,0.000844086741296,0.0009416219659285715,7.947e-06,0.0001304916189,4.784571428571428e-05,0.20293333333333333,0.12149333333333334,0.166,2.2190485353076925e-05,2.3611672167857142e-05,0.44933333333333336,9.470714285714285e-06,0.1692,0.43826666666666664,0.41673333333333334,1.9770817654e-05],\"x\":[1.1962946451439682,0.7650295730617386,\"NaN\",1.2825465899699682,0.9760878425945886,1.125481265700594,1.4065401804339552,\"NaN\",0.5614421404196983,0.8808135922807914,\"NaN\",0.7573960287930243,\"NaN\",\"NaN\",1.6586926430429243,\"NaN\",1.1602969918724493,1.4953460748258616,1.2249398265934983,\"NaN\",0.6097468199942534,0.9661417327390326,1.0469965626762237,0.7703259128716871,1.1371731930253115,1.3258966620220434,0.8032619709666747,1.2448070714251411,\"NaN\",1.5312051157416637,\"NaN\",0.422073688388757,0.578147833922551,1.146128035678238,1.559393577744429,0.9968867645758571,1.148338190483355,1.2852357284807492,1.234083206033368,\"NaN\",0.9233382358954043,\"NaN\",1.0884904701823963,1.380211241711606,1.3776184311333264,0.8338753359055083,0.8269998179214606,0.7596678446896304,0.9697546756175723,\"NaN\",1.0122344564170116,1.5270347050514952,\"NaN\",1.2446304930604792,1.3177649533076692,0.8081144737610869,\"NaN\",1.943659364828903,\"NaN\",1.2754227606205193,1.241170513211951,1.2482288696953296,\"NaN\",\"NaN\",1.2698708808385115,\"NaN\",0.6569875192117889,1.172667706204933,1.241897964049632,1.4135791429792126],\"y\":[4.578765240209975,4.578765240209975,4.335618349377605,4.035029282202368,3.9831299247347003,3.8614746688571686,3.697578033651113,3.689486448364248,3.610766594773271,3.5578679615680224,3.500785172917456,3.4865721505183562,3.315130317183602,3.30941722577814,3.0666985504229953,3.044147620878723,2.9444826721501687,2.829946695941636,2.821513528404773,2.6893088591236203,2.5403294747908736,2.5390760987927767,2.507855871695831,2.45484486000851,2.385606273598312,2.346352974450639,2.247973266361807,2.2380461031287955,2.2174839442139063,2.0253058652647704,2.0253058652647704,1.9731278535996986,1.863322860120456,1.8129133566428555,1.7781512503836436,1.7708520116421442,1.7403626894942439,1.5314789170422551,1.5314789170422551,1.4313637641589874,1.4313637641589874,1.3979400086720377,1.380211241711606,1.380211241711606,1.3222192947339193,1.1760912590556813,1.146128035678238,1.146128035678238,1.1139433523068367,1.0791812460476249,0.9030899869919435,0.7781512503836436,0.6020599913279624,0.3010299956639812,0.0,0.0,0.0,0.0,0.0,\"NaN\",\"NaN\",\"NaN\",\"NaN\",\"NaN\",\"NaN\",\"NaN\",\"NaN\",\"NaN\",\"NaN\",\"NaN\"]},\"selected\":{\"id\":\"6a1e5005-1aea-4257-bdc2-eb94e29ad1ae\",\"type\":\"Selection\"},\"selection_policy\":{\"id\":\"c617edc9-8902-4cf1-9689-06d4de5df41a\",\"type\":\"UnionRenderers\"}},\"id\":\"f77ae64d-4473-47fb-bbd5-42bee96bdc40\",\"type\":\"ColumnDataSource\"},{\"attributes\":{},\"id\":\"1024be87-6293-432c-8101-d84915ccf3b7\",\"type\":\"BasicTicker\"},{\"attributes\":{\"callback\":null},\"id\":\"8f0ed26b-24cd-4f5c-a7c6-dc650b696642\",\"type\":\"DataRange1d\"},{\"attributes\":{\"fill_alpha\":{\"value\":0.1},\"fill_color\":{\"value\":\"#1f77b4\"},\"line_alpha\":{\"value\":0.1},\"line_color\":{\"value\":\"#1f77b4\"},\"radius\":{\"field\":\"radii\",\"units\":\"data\"},\"x\":{\"field\":\"x\"},\"y\":{\"field\":\"y\"}},\"id\":\"d0a11c0d-8f07-42d3-ac27-76a0883a65d7\",\"type\":\"Circle\"},{\"attributes\":{\"data_source\":{\"id\":\"f77ae64d-4473-47fb-bbd5-42bee96bdc40\",\"type\":\"ColumnDataSource\"},\"glyph\":{\"id\":\"29ec032d-9833-4232-9028-f3d848692807\",\"type\":\"Circle\"},\"hover_glyph\":null,\"muted_glyph\":null,\"nonselection_glyph\":{\"id\":\"d0a11c0d-8f07-42d3-ac27-76a0883a65d7\",\"type\":\"Circle\"},\"selection_glyph\":null,\"view\":{\"id\":\"67e55302-3429-4805-b438-6472908da42c\",\"type\":\"CDSView\"}},\"id\":\"89750449-ef14-43b5-8559-171b22f35fdf\",\"type\":\"GlyphRenderer\"},{\"attributes\":{\"active_drag\":\"auto\",\"active_inspect\":\"auto\",\"active_scroll\":\"auto\",\"active_tap\":\"auto\",\"logo\":null,\"tools\":[{\"id\":\"34eae859-22cf-4046-a53f-062d188824c9\",\"type\":\"PanTool\"},{\"id\":\"bf03b60e-01e4-4833-b46c-33853c2bee06\",\"type\":\"WheelZoomTool\"},{\"id\":\"c354eb35-da92-43af-9fb7-7a08a2ea6f8b\",\"type\":\"BoxZoomTool\"},{\"id\":\"ee3f305b-83c6-4335-ad15-724bf9f5326e\",\"type\":\"SaveTool\"},{\"id\":\"4371f291-1fcb-4ccd-b400-12239025c02b\",\"type\":\"ResetTool\"},{\"id\":\"cb2dab1a-2c81-4e75-8efe-b511b35f9834\",\"type\":\"HelpTool\"},{\"id\":\"12225ca2-42ad-4947-a9cc-8cd5f557436b\",\"type\":\"HoverTool\"},{\"id\":\"fad89061-3b3d-4d37-8097-a7970848fce0\",\"type\":\"HoverTool\"}]},\"id\":\"afef0b22-f690-4917-b2a8-16564354e7b6\",\"type\":\"Toolbar\"},{\"attributes\":{},\"id\":\"071dbff3-0736-465e-b61e-645fa1c4e86b\",\"type\":\"PanTool\"},{\"attributes\":{},\"id\":\"e90f990b-3d40-4012-ad51-a1e84a735373\",\"type\":\"WheelZoomTool\"},{\"attributes\":{\"overlay\":{\"id\":\"746acde7-7950-4b62-9e6e-e5a379197c32\",\"type\":\"BoxAnnotation\"}},\"id\":\"c354eb35-da92-43af-9fb7-7a08a2ea6f8b\",\"type\":\"BoxZoomTool\"},{\"attributes\":{},\"id\":\"4ec44416-5761-47f3-90e1-1be99883c171\",\"type\":\"ResetTool\"},{\"attributes\":{\"overlay\":{\"id\":\"605d36e6-22c8-474b-a374-113fbcc685c7\",\"type\":\"BoxAnnotation\"}},\"id\":\"09874bc0-ff86-4db1-909c-2015413e56a5\",\"type\":\"BoxZoomTool\"},{\"attributes\":{},\"id\":\"66a0925b-da75-451c-b448-9ba12439d02a\",\"type\":\"BasicTickFormatter\"},{\"attributes\":{},\"id\":\"cb2dab1a-2c81-4e75-8efe-b511b35f9834\",\"type\":\"HelpTool\"},{\"attributes\":{\"children\":[{\"id\":\"c0379c13-ed64-4486-8068-78a7c9df31e2\",\"subtype\":\"Figure\",\"type\":\"Plot\"},{\"id\":\"7a663f31-67f4-4480-945d-6cf84851a8a4\",\"subtype\":\"Figure\",\"type\":\"Plot\"}]},\"id\":\"619c1498-d291-44c6-948e-12d9ba429884\",\"type\":\"Row\"},{\"attributes\":{\"plot\":{\"id\":\"c0379c13-ed64-4486-8068-78a7c9df31e2\",\"subtype\":\"Figure\",\"type\":\"Plot\"},\"ticker\":{\"id\":\"7ccc6ed1-c1bd-450c-9311-83072320849a\",\"type\":\"BasicTicker\"}},\"id\":\"12acb298-e7ca-4c45-9bfa-8602ad2752db\",\"type\":\"Grid\"},{\"attributes\":{},\"id\":\"d6e3b11d-fbe3-4fab-8374-1613fa7ae30b\",\"type\":\"BasicTickFormatter\"},{\"attributes\":{},\"id\":\"fd02e2c5-0630-43f6-a5fb-bf319b11936e\",\"type\":\"SaveTool\"},{\"attributes\":{\"callback\":null,\"data\":{\"x\":{\"__ndarray__\":\"T1+U2gUk8z9/vJhMH3voPwFHuJJPhfQ/SfE+khw87z+lHcek+AHyP5eUt0YwgfY/7lz2gVX34T8g/Jb8ny/sP3spuZiWPOg/OcP/SwGK+j9e1BuUk5DyP8RDeQHw7Pc/f5fsgFqZ8z/h41bDC4PjPwFHLRGi6u4/L4C7d3/A8D+ecmGHgqboP97nnoTcMfI/8ykUa9829T8NhO1yUrTpP7ib2dG66vM/4kB579B/+D+DbwhcQQPbP0hr3uIvgOI/n0TkWYpW8j97EyCuRvP4P9NkdRJ/5u8/M/vN3Zdf8j/em9dWU5D0P19MJwjOvvM/pCXKoPyL7T+QDrf7dGrxP/6QC2JYFfY/+FnBn7kK9j8t9xRUG6/qP/yoeFLIduo//3iY8DJP6D8+dR31OgjvP14g48EcMvA/0dlg8btu+D8ryfSpAerzP65XJLSQFfU/v0yH4hLc6T9+EeiPOhn/Pw==\",\"dtype\":\"float64\",\"shape\":[44]},\"y\":{\"__ndarray__\":\"CYQOXwyuAECpgWXS5NACQAC4eDquQABA+qyicUXFAUAkBwMF1wcBQMO1y6DpRv8/1GenGQvTA0CGWoxOFD4CQKJN3LyS2gJAf/bYy3PH/D9R2AWHsdsAQEyG60WzZf4/aDd55LmJAEAOvoT5ypUDQHgr+gni0QFANPfi2FtrAUB4CEyVLcoCQFdbe7cD+QBAbb2HabYJAEA8iXY/aqACQK/uMs+IcABAxJZS88IK/j/xVZRUw4MEQN+V2kjcvQNAWG5O5ajtAEBiBc2ARsP9P6ylHu7lqgFATBXAddvqAEBctm9PRT0AQOzU6t4hfgBAUU+YbigIAkCsy/WOvjYBQLEmEdeuif8/qTt2I0KQ/z+7OxvhmHkCQE4gsbtQggJA2sJGSbHXAkDZjO0+Tc0BQEx9Ee9vlwFAdH5qdFYV/j9EINYgwnAAQJrmYwkGFABAWlkoFUOaAkBuci1exvT5Pw==\",\"dtype\":\"float64\",\"shape\":[44]}},\"selected\":{\"id\":\"867d10c7-b11c-46df-b651-36bde97a0eb6\",\"type\":\"Selection\"},\"selection_policy\":{\"id\":\"8f883bc5-f872-4c49-ba29-6e7c9d494f5a\",\"type\":\"UnionRenderers\"}},\"id\":\"a0507d8f-567a-4898-86fa-a1b48106c657\",\"type\":\"ColumnDataSource\"},{\"attributes\":{\"callback\":null},\"id\":\"f83686f7-054e-4e87-ace5-ef1c9f384480\",\"type\":\"DataRange1d\"},{\"attributes\":{},\"id\":\"0f3fe43d-d8d6-4cdb-be93-6b699a5eb5ec\",\"type\":\"LinearScale\"},{\"attributes\":{\"bottom_units\":\"screen\",\"fill_alpha\":{\"value\":0.5},\"fill_color\":{\"value\":\"lightgrey\"},\"left_units\":\"screen\",\"level\":\"overlay\",\"line_alpha\":{\"value\":1.0},\"line_color\":{\"value\":\"black\"},\"line_dash\":[4,4],\"line_width\":{\"value\":2},\"plot\":null,\"render_mode\":\"css\",\"right_units\":\"screen\",\"top_units\":\"screen\"},\"id\":\"746acde7-7950-4b62-9e6e-e5a379197c32\",\"type\":\"BoxAnnotation\"},{\"attributes\":{},\"id\":\"34eae859-22cf-4046-a53f-062d188824c9\",\"type\":\"PanTool\"},{\"attributes\":{\"color_mapper\":{\"id\":\"1417ce0f-3115-43d7-bf6f-a581182c37f1\",\"type\":\"LogColorMapper\"},\"formatter\":{\"id\":\"66a0925b-da75-451c-b448-9ba12439d02a\",\"type\":\"BasicTickFormatter\"},\"label_standoff\":12,\"location\":[0,0],\"plot\":{\"id\":\"c0379c13-ed64-4486-8068-78a7c9df31e2\",\"subtype\":\"Figure\",\"type\":\"Plot\"},\"ticker\":{\"id\":\"2bec6c43-3574-4305-8777-03bd42f777e6\",\"type\":\"LogTicker\"}},\"id\":\"f681d490-2556-43fb-b01b-bfed46015cbd\",\"type\":\"ColorBar\"},{\"attributes\":{},\"id\":\"6bdd7df5-5ea6-4c86-b0f0-2981fd981542\",\"type\":\"HelpTool\"},{\"attributes\":{\"line_alpha\":0.1,\"line_color\":\"#1f77b4\",\"line_width\":4,\"x\":{\"field\":\"x\"},\"y\":{\"field\":\"y\"}},\"id\":\"b85e6515-2550-40ac-b467-261d4d160404\",\"type\":\"Line\"},{\"attributes\":{},\"id\":\"8f883bc5-f872-4c49-ba29-6e7c9d494f5a\",\"type\":\"UnionRenderers\"},{\"attributes\":{\"plot\":null,\"text\":\"Number of entities offshore vs days to open a business (all developped countries)\",\"text_color\":{\"value\":\"grey\"},\"text_font_size\":{\"value\":\"11pt\"},\"text_font_style\":\"normal\"},\"id\":\"d5573bac-d717-45fc-8073-1d538bb23c96\",\"type\":\"Title\"},{\"attributes\":{},\"id\":\"c22f4f77-265d-4955-89b8-23170e8bc8fd\",\"type\":\"LinearScale\"},{\"attributes\":{\"below\":[{\"id\":\"a7356039-a8e9-48c0-ac08-c7356dbf24a0\",\"type\":\"LinearAxis\"}],\"left\":[{\"id\":\"38be5674-14c7-4c6c-9688-cb16181ccf93\",\"type\":\"LinearAxis\"}],\"min_border\":null,\"outline_line_color\":{\"value\":null},\"plot_height\":511,\"plot_width\":35,\"renderers\":[{\"id\":\"a7356039-a8e9-48c0-ac08-c7356dbf24a0\",\"type\":\"LinearAxis\"},{\"id\":\"e1f63006-6ce8-42cb-8e5f-8a9cb0081fd6\",\"type\":\"Grid\"},{\"id\":\"38be5674-14c7-4c6c-9688-cb16181ccf93\",\"type\":\"LinearAxis\"},{\"id\":\"7c6378f8-c735-416c-8aa1-52aea0c2689c\",\"type\":\"Grid\"},{\"id\":\"605d36e6-22c8-474b-a374-113fbcc685c7\",\"type\":\"BoxAnnotation\"}],\"title\":{\"id\":\"9720851f-6823-4881-aab1-b3d0b08ae682\",\"type\":\"Title\"},\"title_location\":\"right\",\"toolbar\":{\"id\":\"4888c871-8fab-4dcf-a6e3-da55f40f04c7\",\"type\":\"Toolbar\"},\"toolbar_location\":null,\"x_range\":{\"id\":\"999ae74f-9ac8-42bb-a325-0be50dd2536f\",\"type\":\"DataRange1d\"},\"x_scale\":{\"id\":\"82054c7c-e9d0-4288-a2f1-911ff056ead3\",\"type\":\"LinearScale\"},\"y_range\":{\"id\":\"8f0ed26b-24cd-4f5c-a7c6-dc650b696642\",\"type\":\"DataRange1d\"},\"y_scale\":{\"id\":\"c6118cf1-ec72-4ac8-a04d-5dbbbd2d7cd6\",\"type\":\"LinearScale\"}},\"id\":\"7a663f31-67f4-4480-945d-6cf84851a8a4\",\"subtype\":\"Figure\",\"type\":\"Plot\"},{\"attributes\":{},\"id\":\"2bec6c43-3574-4305-8777-03bd42f777e6\",\"type\":\"LogTicker\"},{\"attributes\":{\"callback\":null},\"id\":\"f452630b-0d7b-440a-8e67-48f45f895cf1\",\"type\":\"DataRange1d\"},{\"attributes\":{\"axis_label\":\"Days to open a business\",\"formatter\":{\"id\":\"fecc8acd-9fdb-480f-b93c-4fd22834831b\",\"type\":\"BasicTickFormatter\"},\"plot\":{\"id\":\"c0379c13-ed64-4486-8068-78a7c9df31e2\",\"subtype\":\"Figure\",\"type\":\"Plot\"},\"ticker\":{\"id\":\"7ccc6ed1-c1bd-450c-9311-83072320849a\",\"type\":\"BasicTicker\"}},\"id\":\"9faa5939-f106-4c9b-a751-da31b5a82f45\",\"type\":\"LinearAxis\"},{\"attributes\":{\"axis_label\":\"Number of Entities Offshore (log scale)\",\"formatter\":{\"id\":\"d6e3b11d-fbe3-4fab-8374-1613fa7ae30b\",\"type\":\"BasicTickFormatter\"},\"plot\":{\"id\":\"c0379c13-ed64-4486-8068-78a7c9df31e2\",\"subtype\":\"Figure\",\"type\":\"Plot\"},\"ticker\":{\"id\":\"cd6ce3d6-c3ad-4cb8-97d2-04823fed01c2\",\"type\":\"BasicTicker\"}},\"id\":\"3a12e5e7-d793-4598-a33b-036f2141cc8c\",\"type\":\"LinearAxis\"},{\"attributes\":{},\"id\":\"7ccc6ed1-c1bd-450c-9311-83072320849a\",\"type\":\"BasicTicker\"},{\"attributes\":{\"active_drag\":\"auto\",\"active_inspect\":\"auto\",\"active_scroll\":\"auto\",\"active_tap\":\"auto\",\"tools\":[{\"id\":\"071dbff3-0736-465e-b61e-645fa1c4e86b\",\"type\":\"PanTool\"},{\"id\":\"e90f990b-3d40-4012-ad51-a1e84a735373\",\"type\":\"WheelZoomTool\"},{\"id\":\"09874bc0-ff86-4db1-909c-2015413e56a5\",\"type\":\"BoxZoomTool\"},{\"id\":\"fd02e2c5-0630-43f6-a5fb-bf319b11936e\",\"type\":\"SaveTool\"},{\"id\":\"4ec44416-5761-47f3-90e1-1be99883c171\",\"type\":\"ResetTool\"},{\"id\":\"6bdd7df5-5ea6-4c86-b0f0-2981fd981542\",\"type\":\"HelpTool\"}]},\"id\":\"4888c871-8fab-4dcf-a6e3-da55f40f04c7\",\"type\":\"Toolbar\"},{\"attributes\":{\"plot\":null,\"text\":\"Real GDP per capita Legend Bar (USD)\"},\"id\":\"9720851f-6823-4881-aab1-b3d0b08ae682\",\"type\":\"Title\"},{\"attributes\":{\"callback\":null,\"renderers\":[{\"id\":\"2eeabce9-4191-41cc-bd25-32f2f930d313\",\"type\":\"GlyphRenderer\"}],\"tooltips\":[[\"Set of Country\",\"Trend in all developped countries, p-vaue=0.279\"]]},\"id\":\"fad89061-3b3d-4d37-8097-a7970848fce0\",\"type\":\"HoverTool\"},{\"attributes\":{\"callback\":null},\"id\":\"999ae74f-9ac8-42bb-a325-0be50dd2536f\",\"type\":\"DataRange1d\"},{\"attributes\":{},\"id\":\"cd6ce3d6-c3ad-4cb8-97d2-04823fed01c2\",\"type\":\"BasicTicker\"},{\"attributes\":{\"fill_alpha\":{\"value\":0.5},\"fill_color\":{\"field\":\"c\",\"transform\":{\"id\":\"1417ce0f-3115-43d7-bf6f-a581182c37f1\",\"type\":\"LogColorMapper\"}},\"line_alpha\":{\"value\":0.5},\"line_color\":{\"field\":\"c\",\"transform\":{\"id\":\"1417ce0f-3115-43d7-bf6f-a581182c37f1\",\"type\":\"LogColorMapper\"}},\"radius\":{\"field\":\"radii\",\"units\":\"data\"},\"x\":{\"field\":\"x\"},\"y\":{\"field\":\"y\"}},\"id\":\"29ec032d-9833-4232-9028-f3d848692807\",\"type\":\"Circle\"},{\"attributes\":{\"dimension\":1,\"plot\":{\"id\":\"c0379c13-ed64-4486-8068-78a7c9df31e2\",\"subtype\":\"Figure\",\"type\":\"Plot\"},\"ticker\":{\"id\":\"cd6ce3d6-c3ad-4cb8-97d2-04823fed01c2\",\"type\":\"BasicTicker\"}},\"id\":\"3f9e0b62-cc58-46a3-816c-d852748f1f28\",\"type\":\"Grid\"},{\"attributes\":{\"callback\":null,\"renderers\":[{\"id\":\"89750449-ef14-43b5-8559-171b22f35fdf\",\"type\":\"GlyphRenderer\"}],\"tooltips\":[[\"Country\",\"@country\"],[\"(Tax Rate, Log(number of entities offshore))\",\"($x, $y)\"]]},\"id\":\"12225ca2-42ad-4947-a9cc-8cd5f557436b\",\"type\":\"HoverTool\"},{\"attributes\":{\"source\":{\"id\":\"f77ae64d-4473-47fb-bbd5-42bee96bdc40\",\"type\":\"ColumnDataSource\"}},\"id\":\"67e55302-3429-4805-b438-6472908da42c\",\"type\":\"CDSView\"}],\"root_ids\":[\"619c1498-d291-44c6-948e-12d9ba429884\"]},\"title\":\"Bokeh Application\",\"version\":\"0.12.16\"}};\n",
       "  var render_items = [{\"docid\":\"8ed4320c-1871-4273-b3d7-f7b55e132d98\",\"elementid\":\"962aa436-5d15-49d3-800e-efc05737acf4\",\"modelid\":\"619c1498-d291-44c6-948e-12d9ba429884\"}];\n",
       "  root.Bokeh.embed.embed_items_notebook(docs_json, render_items);\n",
       "\n",
       "  }\n",
       "  if (root.Bokeh !== undefined) {\n",
       "    embed_document(root);\n",
       "  } else {\n",
       "    var attempts = 0;\n",
       "    var timer = setInterval(function(root) {\n",
       "      if (root.Bokeh !== undefined) {\n",
       "        embed_document(root);\n",
       "        clearInterval(timer);\n",
       "      }\n",
       "      attempts++;\n",
       "      if (attempts > 100) {\n",
       "        console.log(\"Bokeh: ERROR: Unable to run BokehJS code because BokehJS library is missing\")\n",
       "        clearInterval(timer);\n",
       "      }\n",
       "    }, 10, root)\n",
       "  }\n",
       "})(window);"
      ],
      "application/vnd.bokehjs_exec.v0+json": ""
     },
     "metadata": {
      "application/vnd.bokehjs_exec.v0+json": {
       "id": "619c1498-d291-44c6-948e-12d9ba429884"
      }
     },
     "output_type": "display_data"
    }
   ],
   "source": [
    "selection=country_count_ease_business['GDP_y']>15000\n",
    "x=np.log10(country_count_ease_business['days_open_business'][selection])\n",
    "y=np.log10(country_count_ease_business['n_companies_offshore'][selection])\n",
    "radii=country_count_ease_business['GDP_x'][selection]*10e-15 #13\n",
    "country_names=country_count_ease_business['Country Name'][selection]\n",
    "# for colors\n",
    "c = country_count_ease_business['GDP_y'][selection]\n",
    "c[c.isna()]=0\n",
    "\n",
    "\n",
    "color_mapper = LogColorMapper(palette=\"Colorblind4\", low=min(c),\\\n",
    "                              high=max(c))\n",
    "\n",
    "source=ColumnDataSource(data=dict(\n",
    "    x=list(x),\n",
    "    y=list(y),\n",
    "    country=list(country_names),\n",
    "    radii=list(radii),\n",
    "    c=list(c),\n",
    "))\n",
    "\n",
    "\n",
    "# set the regression line\n",
    "df=pd.DataFrame({'days_open_business':x,'n_companies_offshore':y})\n",
    "df=df.dropna(inplace=False)\n",
    "\n",
    "a=np.array(df['days_open_business'])\n",
    "b=np.array(df['n_companies_offshore'])\n",
    "\n",
    "m,i,r,p_value,std=stats.linregress(a,b)\n",
    "\n",
    "p = figure(title=\"Number of entities offshore vs days to open a business (all developped countries)\", plot_width=800, plot_height=800)\n",
    "scatter=p.scatter(x='x', y='y', radius='radii', source=source, color={'field': 'c', 'transform': color_mapper}, alpha=0.5)\n",
    "hover= HoverTool(tooltips = [(\"Country\", \"@country\"),(\"(Tax Rate, Log(number of entities offshore))\", \"($x, $y)\")],renderers=[scatter])\n",
    "p.add_tools(hover)\n",
    "\n",
    "line=p.line(df['days_open_business'], m*df['days_open_business']+i, line_width=4, color='navy', alpha=0.1)\n",
    "hover0=HoverTool(tooltips = [(\"Set of Country\",'Trend in all developped countries, p-vaue='+str(p_value)[:5])], renderers=[line])\n",
    "p.add_tools(hover0)\n",
    "\n",
    "# set the color bar tab\n",
    "color_bar = ColorBar(color_mapper=color_mapper, ticker=LogTicker(),\n",
    "                     label_standoff=12, border_line_color=None, location=(0,0))\n",
    "\n",
    "# set the color bar title\n",
    "color_bar_height = 511\n",
    "color_bar_width = 35\n",
    "\n",
    "color_bar_plot = figure(title=\"Real GDP per capita Legend Bar (USD)\", title_location=\"right\", \n",
    "                        height=color_bar_height, width=color_bar_width, \n",
    "                        toolbar_location=None, min_border=None, \n",
    "                        outline_line_color=None)\n",
    "\n",
    "\n",
    "# set the style of the title\n",
    "p.title.text_color = \"grey\"\n",
    "p.title.text_font = \"helvetica\"\n",
    "p.title.text_font_style = \"normal\"\n",
    "p.title.text_font_size = '11pt'\n",
    "\n",
    "# set the label options\n",
    "p.xaxis.axis_label='Days to open a business'\n",
    "p.yaxis.axis_label='Number of Entities Offshore (log scale)'\n",
    "\n",
    "# add the color bar\n",
    "p.add_layout(color_bar, 'right')\n",
    "                        \n",
    "# remove the interactive toolbar\n",
    "p.toolbar.logo = None\n",
    "p.toolbar_location = None\n",
    "\n",
    "layout = row_plot(p, color_bar_plot)\n",
    "output_file(\"daysopenbusiness_developped.html\", title=\"daysopenbusiness_developped\")\n",
    "show(layout)"
   ]
  },
  {
   "cell_type": "markdown",
   "metadata": {},
   "source": [
    "### Time spent in regulations"
   ]
  },
  {
   "cell_type": "markdown",
   "metadata": {},
   "source": [
    "Finally the last parameter that was thought to be influencing the number of offshore entities per country is the time that entities spend for regulation. In fact this could be an important reason for which companies could be established in offshore jurisdiction."
   ]
  },
  {
   "cell_type": "code",
   "execution_count": 59,
   "metadata": {},
   "outputs": [
    {
     "name": "stdout",
     "output_type": "stream",
     "text": [
      "Year with most data is 2015\n"
     ]
    }
   ],
   "source": [
    "years=range(1990, 2018)\n",
    "years_count=np.array([])\n",
    "\n",
    "for year in years:\n",
    "    \n",
    "    years_count=np.append(years_count,df_time_regulation[str(year)].notnull().sum())\n",
    "print ('Year with most data is', years[np.argmax(years_count)])"
   ]
  },
  {
   "cell_type": "markdown",
   "metadata": {},
   "source": [
    "In order to fully exploit the data, the average time spent in regulation for each country is computed over a time frame of 15 years; hence it is assumed that any change in time spent in regulation in this time range has not affected the number of entities going offshore in this time range."
   ]
  },
  {
   "cell_type": "code",
   "execution_count": 60,
   "metadata": {},
   "outputs": [],
   "source": [
    "df_time_regulation=pd.DataFrame({'Country Name':df_time_regulation['Country Name'],'time_regulation':df_time_regulation.iloc[:,range(-15,0)].mean(axis=1,numeric_only=True)})\n",
    "df_time_regulation=df_time_regulation[df_time_regulation['time_regulation'].notnull()]"
   ]
  },
  {
   "cell_type": "code",
   "execution_count": 61,
   "metadata": {},
   "outputs": [
    {
     "data": {
      "text/html": [
       "<div>\n",
       "<style scoped>\n",
       "    .dataframe tbody tr th:only-of-type {\n",
       "        vertical-align: middle;\n",
       "    }\n",
       "\n",
       "    .dataframe tbody tr th {\n",
       "        vertical-align: top;\n",
       "    }\n",
       "\n",
       "    .dataframe thead th {\n",
       "        text-align: right;\n",
       "    }\n",
       "</style>\n",
       "<table border=\"1\" class=\"dataframe\">\n",
       "  <thead>\n",
       "    <tr style=\"text-align: right;\">\n",
       "      <th></th>\n",
       "      <th>Country Name</th>\n",
       "      <th>time_regulation</th>\n",
       "    </tr>\n",
       "  </thead>\n",
       "  <tbody>\n",
       "    <tr>\n",
       "      <th>1</th>\n",
       "      <td>Afghanistan</td>\n",
       "      <td>8.071429</td>\n",
       "    </tr>\n",
       "    <tr>\n",
       "      <th>2</th>\n",
       "      <td>Angola</td>\n",
       "      <td>64.714286</td>\n",
       "    </tr>\n",
       "    <tr>\n",
       "      <th>3</th>\n",
       "      <td>Albania</td>\n",
       "      <td>15.357143</td>\n",
       "    </tr>\n",
       "    <tr>\n",
       "      <th>5</th>\n",
       "      <td>Arab World</td>\n",
       "      <td>26.151124</td>\n",
       "    </tr>\n",
       "    <tr>\n",
       "      <th>6</th>\n",
       "      <td>United Arab Emirates</td>\n",
       "      <td>13.350000</td>\n",
       "    </tr>\n",
       "  </tbody>\n",
       "</table>\n",
       "</div>"
      ],
      "text/plain": [
       "           Country Name  time_regulation\n",
       "1           Afghanistan         8.071429\n",
       "2                Angola        64.714286\n",
       "3               Albania        15.357143\n",
       "5            Arab World        26.151124\n",
       "6  United Arab Emirates        13.350000"
      ]
     },
     "execution_count": 61,
     "metadata": {},
     "output_type": "execute_result"
    }
   ],
   "source": [
    "df_time_regulation.head()"
   ]
  },
  {
   "cell_type": "code",
   "execution_count": 62,
   "metadata": {},
   "outputs": [],
   "source": [
    "country_count_ease_regulation_time=country_count_gdp.merge(df_time_regulation, how='outer',left_on='Country Name', right_on='Country Name')"
   ]
  },
  {
   "cell_type": "markdown",
   "metadata": {},
   "source": [
    "Even though the investigation of the parameter could be very interesting, the data provided by World Bank are too sparse and they don't provide  information about many countries. Hence the analysis is jeopardized. "
   ]
  },
  {
   "cell_type": "code",
   "execution_count": 63,
   "metadata": {
    "scrolled": true
   },
   "outputs": [
    {
     "data": {
      "text/html": [
       "<div>\n",
       "<style scoped>\n",
       "    .dataframe tbody tr th:only-of-type {\n",
       "        vertical-align: middle;\n",
       "    }\n",
       "\n",
       "    .dataframe tbody tr th {\n",
       "        vertical-align: top;\n",
       "    }\n",
       "\n",
       "    .dataframe thead th {\n",
       "        text-align: right;\n",
       "    }\n",
       "</style>\n",
       "<table border=\"1\" class=\"dataframe\">\n",
       "  <thead>\n",
       "    <tr style=\"text-align: right;\">\n",
       "      <th></th>\n",
       "      <th>n_companies_offshore</th>\n",
       "      <th>Country Name</th>\n",
       "      <th>GDP_x</th>\n",
       "      <th>GDP_y</th>\n",
       "      <th>time_regulation</th>\n",
       "    </tr>\n",
       "  </thead>\n",
       "  <tbody>\n",
       "    <tr>\n",
       "      <th>2</th>\n",
       "      <td>21658.0</td>\n",
       "      <td>Channel Islands</td>\n",
       "      <td>9.180788e+09</td>\n",
       "      <td>59422.543726</td>\n",
       "      <td>NaN</td>\n",
       "    </tr>\n",
       "    <tr>\n",
       "      <th>9</th>\n",
       "      <td>4892.0</td>\n",
       "      <td>Isle of Man</td>\n",
       "      <td>5.216144e+09</td>\n",
       "      <td>65308.380697</td>\n",
       "      <td>NaN</td>\n",
       "    </tr>\n",
       "    <tr>\n",
       "      <th>14</th>\n",
       "      <td>3168.0</td>\n",
       "      <td>Monaco</td>\n",
       "      <td>5.301932e+09</td>\n",
       "      <td>148406.483360</td>\n",
       "      <td>NaN</td>\n",
       "    </tr>\n",
       "    <tr>\n",
       "      <th>16</th>\n",
       "      <td>2725.0</td>\n",
       "      <td>Taiwan</td>\n",
       "      <td>NaN</td>\n",
       "      <td>NaN</td>\n",
       "      <td>NaN</td>\n",
       "    </tr>\n",
       "    <tr>\n",
       "      <th>17</th>\n",
       "      <td>2066.0</td>\n",
       "      <td>Liechtenstein</td>\n",
       "      <td>4.922173e+09</td>\n",
       "      <td>136708.283262</td>\n",
       "      <td>NaN</td>\n",
       "    </tr>\n",
       "    <tr>\n",
       "      <th>18</th>\n",
       "      <td>2039.0</td>\n",
       "      <td>Gibraltar</td>\n",
       "      <td>2.288000e+09</td>\n",
       "      <td>92843.000000</td>\n",
       "      <td>NaN</td>\n",
       "    </tr>\n",
       "    <tr>\n",
       "      <th>29</th>\n",
       "      <td>1107.0</td>\n",
       "      <td>British Virgin Islands</td>\n",
       "      <td>8.500000e+08</td>\n",
       "      <td>34200.000000</td>\n",
       "      <td>NaN</td>\n",
       "    </tr>\n",
       "    <tr>\n",
       "      <th>37</th>\n",
       "      <td>489.0</td>\n",
       "      <td>Andorra</td>\n",
       "      <td>3.274308e+09</td>\n",
       "      <td>40705.073439</td>\n",
       "      <td>NaN</td>\n",
       "    </tr>\n",
       "    <tr>\n",
       "      <th>40</th>\n",
       "      <td>372.0</td>\n",
       "      <td>Niue</td>\n",
       "      <td>NaN</td>\n",
       "      <td>NaN</td>\n",
       "      <td>NaN</td>\n",
       "    </tr>\n",
       "    <tr>\n",
       "      <th>53</th>\n",
       "      <td>165.0</td>\n",
       "      <td>Bermuda</td>\n",
       "      <td>5.418704e+09</td>\n",
       "      <td>84080.952572</td>\n",
       "      <td>NaN</td>\n",
       "    </tr>\n",
       "    <tr>\n",
       "      <th>59</th>\n",
       "      <td>106.0</td>\n",
       "      <td>Cayman Islands</td>\n",
       "      <td>3.343516e+09</td>\n",
       "      <td>61454.453850</td>\n",
       "      <td>NaN</td>\n",
       "    </tr>\n",
       "    <tr>\n",
       "      <th>80</th>\n",
       "      <td>30.0</td>\n",
       "      <td>Curacao</td>\n",
       "      <td>NaN</td>\n",
       "      <td>NaN</td>\n",
       "      <td>NaN</td>\n",
       "    </tr>\n",
       "    <tr>\n",
       "      <th>82</th>\n",
       "      <td>27.0</td>\n",
       "      <td>Aruba</td>\n",
       "      <td>2.448485e+09</td>\n",
       "      <td>24371.613246</td>\n",
       "      <td>NaN</td>\n",
       "    </tr>\n",
       "    <tr>\n",
       "      <th>85</th>\n",
       "      <td>25.0</td>\n",
       "      <td>Macao SAR, China</td>\n",
       "      <td>3.081299e+10</td>\n",
       "      <td>54857.402898</td>\n",
       "      <td>NaN</td>\n",
       "    </tr>\n",
       "    <tr>\n",
       "      <th>101</th>\n",
       "      <td>12.0</td>\n",
       "      <td>Turks and Caicos Islands</td>\n",
       "      <td>7.970000e+08</td>\n",
       "      <td>23614.700000</td>\n",
       "      <td>NaN</td>\n",
       "    </tr>\n",
       "    <tr>\n",
       "      <th>102</th>\n",
       "      <td>11.0</td>\n",
       "      <td>Cuba</td>\n",
       "      <td>6.172130e+10</td>\n",
       "      <td>5436.011173</td>\n",
       "      <td>NaN</td>\n",
       "    </tr>\n",
       "    <tr>\n",
       "      <th>118</th>\n",
       "      <td>4.0</td>\n",
       "      <td>Virgin Islands (U.S.)</td>\n",
       "      <td>4.098231e+09</td>\n",
       "      <td>37851.617395</td>\n",
       "      <td>NaN</td>\n",
       "    </tr>\n",
       "    <tr>\n",
       "      <th>139</th>\n",
       "      <td>1.0</td>\n",
       "      <td>Cook Islands</td>\n",
       "      <td>NaN</td>\n",
       "      <td>NaN</td>\n",
       "      <td>NaN</td>\n",
       "    </tr>\n",
       "    <tr>\n",
       "      <th>140</th>\n",
       "      <td>1.0</td>\n",
       "      <td>American Samoa</td>\n",
       "      <td>5.852857e+08</td>\n",
       "      <td>10336.317596</td>\n",
       "      <td>NaN</td>\n",
       "    </tr>\n",
       "    <tr>\n",
       "      <th>151</th>\n",
       "      <td>1.0</td>\n",
       "      <td>Sint Maarten (Dutch part)</td>\n",
       "      <td>7.947000e+08</td>\n",
       "      <td>15400.000000</td>\n",
       "      <td>NaN</td>\n",
       "    </tr>\n",
       "    <tr>\n",
       "      <th>152</th>\n",
       "      <td>1.0</td>\n",
       "      <td>Nauru</td>\n",
       "      <td>7.926333e+07</td>\n",
       "      <td>6983.961425</td>\n",
       "      <td>NaN</td>\n",
       "    </tr>\n",
       "    <tr>\n",
       "      <th>154</th>\n",
       "      <td>1.0</td>\n",
       "      <td>Guam</td>\n",
       "      <td>4.784571e+09</td>\n",
       "      <td>29936.964221</td>\n",
       "      <td>NaN</td>\n",
       "    </tr>\n",
       "    <tr>\n",
       "      <th>183</th>\n",
       "      <td>NaN</td>\n",
       "      <td>Faroe Islands</td>\n",
       "      <td>2.219049e+09</td>\n",
       "      <td>45708.100213</td>\n",
       "      <td>NaN</td>\n",
       "    </tr>\n",
       "    <tr>\n",
       "      <th>191</th>\n",
       "      <td>NaN</td>\n",
       "      <td>Greenland</td>\n",
       "      <td>2.361167e+09</td>\n",
       "      <td>41742.813130</td>\n",
       "      <td>NaN</td>\n",
       "    </tr>\n",
       "    <tr>\n",
       "      <th>200</th>\n",
       "      <td>NaN</td>\n",
       "      <td>Not classified</td>\n",
       "      <td>NaN</td>\n",
       "      <td>NaN</td>\n",
       "      <td>NaN</td>\n",
       "    </tr>\n",
       "    <tr>\n",
       "      <th>213</th>\n",
       "      <td>NaN</td>\n",
       "      <td>St. Martin (French part)</td>\n",
       "      <td>NaN</td>\n",
       "      <td>NaN</td>\n",
       "      <td>NaN</td>\n",
       "    </tr>\n",
       "    <tr>\n",
       "      <th>222</th>\n",
       "      <td>NaN</td>\n",
       "      <td>Northern Mariana Islands</td>\n",
       "      <td>9.470714e+08</td>\n",
       "      <td>16270.951050</td>\n",
       "      <td>NaN</td>\n",
       "    </tr>\n",
       "    <tr>\n",
       "      <th>225</th>\n",
       "      <td>NaN</td>\n",
       "      <td>New Caledonia</td>\n",
       "      <td>NaN</td>\n",
       "      <td>NaN</td>\n",
       "      <td>NaN</td>\n",
       "    </tr>\n",
       "    <tr>\n",
       "      <th>233</th>\n",
       "      <td>NaN</td>\n",
       "      <td>Korea, Dem. People?s Rep.</td>\n",
       "      <td>NaN</td>\n",
       "      <td>NaN</td>\n",
       "      <td>NaN</td>\n",
       "    </tr>\n",
       "    <tr>\n",
       "      <th>237</th>\n",
       "      <td>NaN</td>\n",
       "      <td>French Polynesia</td>\n",
       "      <td>NaN</td>\n",
       "      <td>NaN</td>\n",
       "      <td>NaN</td>\n",
       "    </tr>\n",
       "    <tr>\n",
       "      <th>256</th>\n",
       "      <td>NaN</td>\n",
       "      <td>Turkmenistan</td>\n",
       "      <td>2.449236e+10</td>\n",
       "      <td>4621.958350</td>\n",
       "      <td>NaN</td>\n",
       "    </tr>\n",
       "    <tr>\n",
       "      <th>263</th>\n",
       "      <td>NaN</td>\n",
       "      <td>Tuvalu</td>\n",
       "      <td>3.091976e+07</td>\n",
       "      <td>2918.981703</td>\n",
       "      <td>NaN</td>\n",
       "    </tr>\n",
       "  </tbody>\n",
       "</table>\n",
       "</div>"
      ],
      "text/plain": [
       "     n_companies_offshore               Country Name         GDP_x  \\\n",
       "2                 21658.0            Channel Islands  9.180788e+09   \n",
       "9                  4892.0                Isle of Man  5.216144e+09   \n",
       "14                 3168.0                     Monaco  5.301932e+09   \n",
       "16                 2725.0                     Taiwan           NaN   \n",
       "17                 2066.0              Liechtenstein  4.922173e+09   \n",
       "18                 2039.0                  Gibraltar  2.288000e+09   \n",
       "29                 1107.0     British Virgin Islands  8.500000e+08   \n",
       "37                  489.0                    Andorra  3.274308e+09   \n",
       "40                  372.0                       Niue           NaN   \n",
       "53                  165.0                    Bermuda  5.418704e+09   \n",
       "59                  106.0             Cayman Islands  3.343516e+09   \n",
       "80                   30.0                    Curacao           NaN   \n",
       "82                   27.0                      Aruba  2.448485e+09   \n",
       "85                   25.0           Macao SAR, China  3.081299e+10   \n",
       "101                  12.0   Turks and Caicos Islands  7.970000e+08   \n",
       "102                  11.0                       Cuba  6.172130e+10   \n",
       "118                   4.0      Virgin Islands (U.S.)  4.098231e+09   \n",
       "139                   1.0               Cook Islands           NaN   \n",
       "140                   1.0             American Samoa  5.852857e+08   \n",
       "151                   1.0  Sint Maarten (Dutch part)  7.947000e+08   \n",
       "152                   1.0                      Nauru  7.926333e+07   \n",
       "154                   1.0                       Guam  4.784571e+09   \n",
       "183                   NaN              Faroe Islands  2.219049e+09   \n",
       "191                   NaN                  Greenland  2.361167e+09   \n",
       "200                   NaN             Not classified           NaN   \n",
       "213                   NaN   St. Martin (French part)           NaN   \n",
       "222                   NaN   Northern Mariana Islands  9.470714e+08   \n",
       "225                   NaN              New Caledonia           NaN   \n",
       "233                   NaN  Korea, Dem. People?s Rep.           NaN   \n",
       "237                   NaN           French Polynesia           NaN   \n",
       "256                   NaN               Turkmenistan  2.449236e+10   \n",
       "263                   NaN                     Tuvalu  3.091976e+07   \n",
       "\n",
       "             GDP_y  time_regulation  \n",
       "2     59422.543726              NaN  \n",
       "9     65308.380697              NaN  \n",
       "14   148406.483360              NaN  \n",
       "16             NaN              NaN  \n",
       "17   136708.283262              NaN  \n",
       "18    92843.000000              NaN  \n",
       "29    34200.000000              NaN  \n",
       "37    40705.073439              NaN  \n",
       "40             NaN              NaN  \n",
       "53    84080.952572              NaN  \n",
       "59    61454.453850              NaN  \n",
       "80             NaN              NaN  \n",
       "82    24371.613246              NaN  \n",
       "85    54857.402898              NaN  \n",
       "101   23614.700000              NaN  \n",
       "102    5436.011173              NaN  \n",
       "118   37851.617395              NaN  \n",
       "139            NaN              NaN  \n",
       "140   10336.317596              NaN  \n",
       "151   15400.000000              NaN  \n",
       "152    6983.961425              NaN  \n",
       "154   29936.964221              NaN  \n",
       "183   45708.100213              NaN  \n",
       "191   41742.813130              NaN  \n",
       "200            NaN              NaN  \n",
       "213            NaN              NaN  \n",
       "222   16270.951050              NaN  \n",
       "225            NaN              NaN  \n",
       "233            NaN              NaN  \n",
       "237            NaN              NaN  \n",
       "256    4621.958350              NaN  \n",
       "263    2918.981703              NaN  "
      ]
     },
     "execution_count": 63,
     "metadata": {},
     "output_type": "execute_result"
    }
   ],
   "source": [
    "country_count_ease_regulation_time[country_count_ease_regulation_time['time_regulation'].isna()]"
   ]
  },
  {
   "cell_type": "markdown",
   "metadata": {},
   "source": [
    "PLACE CONCLUSION OF THIS ANALYSIS MATCHING DATA STORY"
   ]
  },
  {
   "cell_type": "markdown",
   "metadata": {},
   "source": [
    "#### OECD Corporate Tax: Amounts Lost"
   ]
  },
  {
   "cell_type": "markdown",
   "metadata": {},
   "source": [
    "A last piece of analysis is to come up with a hypothesized number for the amount of corporate tax revenue lost for a country **assuming that the companies offshore are evading home corporate tax.** It is very important that we assume this because it is difficult to prove that these companies are evading tax (though it is the main hypothesized reason).\n",
    "\n",
    "To do so, we obtained a [dataset from OECD](https://data.oecd.org/tax/tax-on-corporate-profits.htm) indicating the corporate tax rate % of GDP as well as a [dataset from NAICS](https://www.naics.com/business-lists/counts-by-country/) indicating the number of businesses per country. We can then calculate:\n",
    "\n",
    "$$\n",
    "Potential~Tax~Lost_{country} = \\frac{Corporate~Tax~Revenue_{country}}{Number~Businesses_{country}} \\times Number~ entities~in~PP_{country}\n",
    "$$\n",
    "\n"
   ]
  },
  {
   "cell_type": "code",
   "execution_count": 77,
   "metadata": {},
   "outputs": [],
   "source": [
    "# loading data\n",
    "\n",
    "GDP_tot = 'API_NY.GDP.MKTP.CD_DS2_en_csv_v2_10224782.csv'\n",
    "corp_tax_rate = 'corp_tax_rate.csv'\n",
    "business_country = 'business_country.csv'\n",
    "\n",
    "GDP_tot_raw_df=pd.read_csv(DATA_FOLDER + GDP_tot,skiprows=4,low_memory=False)[['Country Name', '2015']]\n",
    "corp_tax_rate_df = pd.read_csv(DATA_FOLDER + corp_tax_rate)[['Location', '2015']]\n",
    "business_country_df = pd.read_csv(DATA_FOLDER + business_country)"
   ]
  },
  {
   "cell_type": "code",
   "execution_count": 78,
   "metadata": {},
   "outputs": [],
   "source": [
    "# merging corp tax table with GDP table\n",
    "m1 = corp_tax_rate_df.merge(GDP_tot_raw_df, left_on='Location', \n",
    "                            right_on='Country Name', how='inner')\n",
    "\n",
    "# merging m1 with number of businesses table\n",
    "m2 = m1.merge(business_country_df, left_on='Location',\n",
    "             right_on='Country Name', how='inner')\n",
    "m2 = m2[['Location', '2015_x', '2015_y', 'Number of Businesses']]\n",
    "m2.columns = ['Location', '2015 Corp Tax Rate % of GDP', '2015 GDP', 'Number of Businesses']\n",
    "\n",
    "# calculating corporate tax revenue\n",
    "m2['Corporate Tax Revenue'] = m2['2015 Corp Tax Rate % of GDP'] * m2['2015 GDP'] / 100\n",
    "\n",
    "# calculating avg corp tax paid per business\n",
    "m2['Avg tax per business'] = m2['Corporate Tax Revenue'] / m2['Number of Businesses']\n",
    "\n",
    "# merge m2 with countries grouped by count of entries in Panama Papers\n",
    "country_entries = pd.DataFrame(df_entity_raw.countries.value_counts()).reset_index()\n",
    "country_entries.columns = ['Location', 'Count in PP']\n",
    "country_entries.loc[country_entries['Location'] == 'South Korea', 'Location'] = 'Korea, Rep.'\n",
    "m3 = m2.merge(country_entries, on='Location', how='inner')\n",
    "\n",
    "# calculate potential tax evasion\n",
    "m3['Potential Tax Lost'] = m3['Avg tax per business'] * m3['Count in PP']\n",
    "m3['Potential Real Corporate Tax Revenue'] = m3['Potential Tax Lost'] + m3['Corporate Tax Revenue']\n",
    "m3['% Tax Lost'] = m3['Potential Tax Lost'] / m3['Corporate Tax Revenue'] * 100"
   ]
  },
  {
   "cell_type": "code",
   "execution_count": 79,
   "metadata": {
    "scrolled": true
   },
   "outputs": [
    {
     "data": {
      "text/html": [
       "<div>\n",
       "<style scoped>\n",
       "    .dataframe tbody tr th:only-of-type {\n",
       "        vertical-align: middle;\n",
       "    }\n",
       "\n",
       "    .dataframe tbody tr th {\n",
       "        vertical-align: top;\n",
       "    }\n",
       "\n",
       "    .dataframe thead th {\n",
       "        text-align: right;\n",
       "    }\n",
       "</style>\n",
       "<table border=\"1\" class=\"dataframe\">\n",
       "  <thead>\n",
       "    <tr style=\"text-align: right;\">\n",
       "      <th></th>\n",
       "      <th>Location</th>\n",
       "      <th>2015 Corp Tax Rate % of GDP</th>\n",
       "      <th>2015 GDP</th>\n",
       "      <th>Number of Businesses</th>\n",
       "      <th>Corporate Tax Revenue</th>\n",
       "      <th>Avg tax per business</th>\n",
       "      <th>Count in PP</th>\n",
       "      <th>Potential Tax Lost</th>\n",
       "      <th>Potential Real Corporate Tax Revenue</th>\n",
       "      <th>% Tax Lost</th>\n",
       "    </tr>\n",
       "  </thead>\n",
       "  <tbody>\n",
       "    <tr>\n",
       "      <th>0</th>\n",
       "      <td>Australia</td>\n",
       "      <td>4.25</td>\n",
       "      <td>1.350000e+12</td>\n",
       "      <td>1873101</td>\n",
       "      <td>5.737500e+10</td>\n",
       "      <td>30631.023100</td>\n",
       "      <td>94</td>\n",
       "      <td>2.879316e+06</td>\n",
       "      <td>5.737788e+10</td>\n",
       "      <td>0.005018</td>\n",
       "    </tr>\n",
       "    <tr>\n",
       "      <th>1</th>\n",
       "      <td>Austria</td>\n",
       "      <td>2.22</td>\n",
       "      <td>3.820000e+11</td>\n",
       "      <td>547330</td>\n",
       "      <td>8.480400e+09</td>\n",
       "      <td>15494.126030</td>\n",
       "      <td>24</td>\n",
       "      <td>3.718590e+05</td>\n",
       "      <td>8.480772e+09</td>\n",
       "      <td>0.004385</td>\n",
       "    </tr>\n",
       "    <tr>\n",
       "      <th>2</th>\n",
       "      <td>Belgium</td>\n",
       "      <td>3.33</td>\n",
       "      <td>4.550000e+11</td>\n",
       "      <td>1597753</td>\n",
       "      <td>1.515150e+10</td>\n",
       "      <td>9483.005195</td>\n",
       "      <td>59</td>\n",
       "      <td>5.594973e+05</td>\n",
       "      <td>1.515206e+10</td>\n",
       "      <td>0.003693</td>\n",
       "    </tr>\n",
       "    <tr>\n",
       "      <th>3</th>\n",
       "      <td>Canada</td>\n",
       "      <td>3.41</td>\n",
       "      <td>1.560000e+12</td>\n",
       "      <td>1536428</td>\n",
       "      <td>5.319600e+10</td>\n",
       "      <td>34623.164899</td>\n",
       "      <td>347</td>\n",
       "      <td>1.201424e+07</td>\n",
       "      <td>5.320801e+10</td>\n",
       "      <td>0.022585</td>\n",
       "    </tr>\n",
       "    <tr>\n",
       "      <th>4</th>\n",
       "      <td>Chile</td>\n",
       "      <td>4.29</td>\n",
       "      <td>2.440000e+11</td>\n",
       "      <td>775308</td>\n",
       "      <td>1.046760e+10</td>\n",
       "      <td>13501.215001</td>\n",
       "      <td>140</td>\n",
       "      <td>1.890170e+06</td>\n",
       "      <td>1.046949e+10</td>\n",
       "      <td>0.018057</td>\n",
       "    </tr>\n",
       "    <tr>\n",
       "      <th>5</th>\n",
       "      <td>Czech Republic</td>\n",
       "      <td>3.59</td>\n",
       "      <td>1.870000e+11</td>\n",
       "      <td>1442568</td>\n",
       "      <td>6.713300e+09</td>\n",
       "      <td>4653.714764</td>\n",
       "      <td>34</td>\n",
       "      <td>1.582263e+05</td>\n",
       "      <td>6.713458e+09</td>\n",
       "      <td>0.002357</td>\n",
       "    </tr>\n",
       "    <tr>\n",
       "      <th>6</th>\n",
       "      <td>Denmark</td>\n",
       "      <td>2.71</td>\n",
       "      <td>3.010000e+11</td>\n",
       "      <td>495961</td>\n",
       "      <td>8.157100e+09</td>\n",
       "      <td>16447.059345</td>\n",
       "      <td>14</td>\n",
       "      <td>2.302588e+05</td>\n",
       "      <td>8.157330e+09</td>\n",
       "      <td>0.002823</td>\n",
       "    </tr>\n",
       "    <tr>\n",
       "      <th>7</th>\n",
       "      <td>Estonia</td>\n",
       "      <td>2.05</td>\n",
       "      <td>2.256696e+10</td>\n",
       "      <td>112271</td>\n",
       "      <td>4.626226e+08</td>\n",
       "      <td>4120.588737</td>\n",
       "      <td>880</td>\n",
       "      <td>3.626118e+06</td>\n",
       "      <td>4.662487e+08</td>\n",
       "      <td>0.783818</td>\n",
       "    </tr>\n",
       "    <tr>\n",
       "      <th>8</th>\n",
       "      <td>Finland</td>\n",
       "      <td>2.17</td>\n",
       "      <td>2.320000e+11</td>\n",
       "      <td>564997</td>\n",
       "      <td>5.034400e+09</td>\n",
       "      <td>8910.489790</td>\n",
       "      <td>65</td>\n",
       "      <td>5.791818e+05</td>\n",
       "      <td>5.034979e+09</td>\n",
       "      <td>0.011504</td>\n",
       "    </tr>\n",
       "    <tr>\n",
       "      <th>9</th>\n",
       "      <td>France</td>\n",
       "      <td>2.08</td>\n",
       "      <td>2.440000e+12</td>\n",
       "      <td>3497529</td>\n",
       "      <td>5.075200e+10</td>\n",
       "      <td>14510.816065</td>\n",
       "      <td>285</td>\n",
       "      <td>4.135583e+06</td>\n",
       "      <td>5.075614e+10</td>\n",
       "      <td>0.008149</td>\n",
       "    </tr>\n",
       "    <tr>\n",
       "      <th>10</th>\n",
       "      <td>Germany</td>\n",
       "      <td>1.71</td>\n",
       "      <td>3.380000e+12</td>\n",
       "      <td>3589126</td>\n",
       "      <td>5.779800e+10</td>\n",
       "      <td>16103.641945</td>\n",
       "      <td>173</td>\n",
       "      <td>2.785930e+06</td>\n",
       "      <td>5.780079e+10</td>\n",
       "      <td>0.004820</td>\n",
       "    </tr>\n",
       "    <tr>\n",
       "      <th>11</th>\n",
       "      <td>Greece</td>\n",
       "      <td>2.15</td>\n",
       "      <td>1.960000e+11</td>\n",
       "      <td>106385</td>\n",
       "      <td>4.214000e+09</td>\n",
       "      <td>39610.847394</td>\n",
       "      <td>222</td>\n",
       "      <td>8.793608e+06</td>\n",
       "      <td>4.222794e+09</td>\n",
       "      <td>0.208676</td>\n",
       "    </tr>\n",
       "    <tr>\n",
       "      <th>12</th>\n",
       "      <td>Hungary</td>\n",
       "      <td>1.79</td>\n",
       "      <td>1.230000e+11</td>\n",
       "      <td>490583</td>\n",
       "      <td>2.201700e+09</td>\n",
       "      <td>4487.925591</td>\n",
       "      <td>90</td>\n",
       "      <td>4.039133e+05</td>\n",
       "      <td>2.202104e+09</td>\n",
       "      <td>0.018346</td>\n",
       "    </tr>\n",
       "    <tr>\n",
       "      <th>13</th>\n",
       "      <td>Iceland</td>\n",
       "      <td>2.35</td>\n",
       "      <td>1.694225e+10</td>\n",
       "      <td>9245</td>\n",
       "      <td>3.981428e+08</td>\n",
       "      <td>43065.745083</td>\n",
       "      <td>15</td>\n",
       "      <td>6.459862e+05</td>\n",
       "      <td>3.987888e+08</td>\n",
       "      <td>0.162250</td>\n",
       "    </tr>\n",
       "    <tr>\n",
       "      <th>14</th>\n",
       "      <td>Ireland</td>\n",
       "      <td>2.62</td>\n",
       "      <td>2.910000e+11</td>\n",
       "      <td>302586</td>\n",
       "      <td>7.624200e+09</td>\n",
       "      <td>25196.803553</td>\n",
       "      <td>322</td>\n",
       "      <td>8.113371e+06</td>\n",
       "      <td>7.632313e+09</td>\n",
       "      <td>0.106416</td>\n",
       "    </tr>\n",
       "  </tbody>\n",
       "</table>\n",
       "</div>"
      ],
      "text/plain": [
       "          Location  2015 Corp Tax Rate % of GDP      2015 GDP  \\\n",
       "0        Australia                         4.25  1.350000e+12   \n",
       "1          Austria                         2.22  3.820000e+11   \n",
       "2          Belgium                         3.33  4.550000e+11   \n",
       "3           Canada                         3.41  1.560000e+12   \n",
       "4            Chile                         4.29  2.440000e+11   \n",
       "5   Czech Republic                         3.59  1.870000e+11   \n",
       "6          Denmark                         2.71  3.010000e+11   \n",
       "7          Estonia                         2.05  2.256696e+10   \n",
       "8          Finland                         2.17  2.320000e+11   \n",
       "9           France                         2.08  2.440000e+12   \n",
       "10         Germany                         1.71  3.380000e+12   \n",
       "11          Greece                         2.15  1.960000e+11   \n",
       "12         Hungary                         1.79  1.230000e+11   \n",
       "13         Iceland                         2.35  1.694225e+10   \n",
       "14         Ireland                         2.62  2.910000e+11   \n",
       "\n",
       "    Number of Businesses  Corporate Tax Revenue  Avg tax per business  \\\n",
       "0                1873101           5.737500e+10          30631.023100   \n",
       "1                 547330           8.480400e+09          15494.126030   \n",
       "2                1597753           1.515150e+10           9483.005195   \n",
       "3                1536428           5.319600e+10          34623.164899   \n",
       "4                 775308           1.046760e+10          13501.215001   \n",
       "5                1442568           6.713300e+09           4653.714764   \n",
       "6                 495961           8.157100e+09          16447.059345   \n",
       "7                 112271           4.626226e+08           4120.588737   \n",
       "8                 564997           5.034400e+09           8910.489790   \n",
       "9                3497529           5.075200e+10          14510.816065   \n",
       "10               3589126           5.779800e+10          16103.641945   \n",
       "11                106385           4.214000e+09          39610.847394   \n",
       "12                490583           2.201700e+09           4487.925591   \n",
       "13                  9245           3.981428e+08          43065.745083   \n",
       "14                302586           7.624200e+09          25196.803553   \n",
       "\n",
       "    Count in PP  Potential Tax Lost  Potential Real Corporate Tax Revenue  \\\n",
       "0            94        2.879316e+06                          5.737788e+10   \n",
       "1            24        3.718590e+05                          8.480772e+09   \n",
       "2            59        5.594973e+05                          1.515206e+10   \n",
       "3           347        1.201424e+07                          5.320801e+10   \n",
       "4           140        1.890170e+06                          1.046949e+10   \n",
       "5            34        1.582263e+05                          6.713458e+09   \n",
       "6            14        2.302588e+05                          8.157330e+09   \n",
       "7           880        3.626118e+06                          4.662487e+08   \n",
       "8            65        5.791818e+05                          5.034979e+09   \n",
       "9           285        4.135583e+06                          5.075614e+10   \n",
       "10          173        2.785930e+06                          5.780079e+10   \n",
       "11          222        8.793608e+06                          4.222794e+09   \n",
       "12           90        4.039133e+05                          2.202104e+09   \n",
       "13           15        6.459862e+05                          3.987888e+08   \n",
       "14          322        8.113371e+06                          7.632313e+09   \n",
       "\n",
       "    % Tax Lost  \n",
       "0     0.005018  \n",
       "1     0.004385  \n",
       "2     0.003693  \n",
       "3     0.022585  \n",
       "4     0.018057  \n",
       "5     0.002357  \n",
       "6     0.002823  \n",
       "7     0.783818  \n",
       "8     0.011504  \n",
       "9     0.008149  \n",
       "10    0.004820  \n",
       "11    0.208676  \n",
       "12    0.018346  \n",
       "13    0.162250  \n",
       "14    0.106416  "
      ]
     },
     "execution_count": 79,
     "metadata": {},
     "output_type": "execute_result"
    }
   ],
   "source": [
    "m3.head(15)"
   ]
  },
  {
   "cell_type": "markdown",
   "metadata": {},
   "source": [
    "Now that the table has been created, we can make a plot to visualize the top countries who have the most potential corporate tax revenue lost. To make the graph more readible, we select the top 15 countries."
   ]
  },
  {
   "cell_type": "code",
   "execution_count": 81,
   "metadata": {},
   "outputs": [
    {
     "data": {
      "text/plain": [
       "Text(0.5,1,'Potential Corporate Tax Revenue Loss')"
      ]
     },
     "execution_count": 81,
     "metadata": {},
     "output_type": "execute_result"
    },
    {
     "data": {
      "image/png": "[encoded data removed]",
      "text/plain": [
       "<Figure size 432x288 with 1 Axes>"
      ]
     },
     "metadata": {},
     "output_type": "display_data"
    }
   ],
   "source": [
    "m3.sort_values(['Potential Tax Lost'], inplace=True, ascending=False)\n",
    "plt.bar(m3.Location[:15], m3['Potential Tax Lost'][:15])\n",
    "plt.xticks(rotation=90)\n",
    "plt.ylabel('USD')\n",
    "plt.xlabel('Countries')\n",
    "plt.yscale('log')\n",
    "plt.title('Potential Corporate Tax Revenue Loss')"
   ]
  },
  {
   "cell_type": "markdown",
   "metadata": {},
   "source": [
    "As seen from the graph, aside from Switzerland, many of the countries are not losing that much corporate tax revenue when compared to their actual corporate tax revenue. This may be because usually only large businesses with high profits have the motivation to transfer their money overseas, as they pay a larger percentages in home corporate tax. Thus they would average a higher `Avg tax per business` and consequently increase overall `Potential corporate tax loss`."
   ]
  },
  {
   "cell_type": "markdown",
   "metadata": {},
   "source": [
    "## 4) What are the consequences of offshore companies on income inequality?"
   ]
  },
  {
   "cell_type": "markdown",
   "metadata": {},
   "source": [
    "### Time dependence between entities presence in Panama Papers, economic indicators and GINI coefficient"
   ]
  },
  {
   "cell_type": "markdown",
   "metadata": {},
   "source": [
    "#### GINI coefficient: Global perspective "
   ]
  },
  {
   "cell_type": "markdown",
   "metadata": {},
   "source": [
    "One interesting fact that could be analysed is the time correlation between the number of Panama Papers during the years and the yearly development of other indicators such as GINI coefficient. "
   ]
  },
  {
   "cell_type": "markdown",
   "metadata": {},
   "source": [
    "To do so, the total database is considering for different purpose that will be later explained. Firstly, only the columns regarding the last $15$ years are considered and stored in ``df_GDP_w``. Then an average over these years is considered to obtain a single expression for each country and for mitigate the presence of missing value in the data. The column ``GDP_x`` is added with the mean and all the other columns are dropped."
   ]
  },
  {
   "cell_type": "code",
   "execution_count": 64,
   "metadata": {
    "scrolled": true
   },
   "outputs": [],
   "source": [
    "cols=[0]+list(range(-17,-1))\n",
    "df_GDP_w=df_GDP_tot_raw.iloc[:,cols].copy()\n",
    "df_GDP_w['GDP_x'] = df_GDP_w.iloc[:,range(-15,0)].mean(axis=1,numeric_only=True)\n",
    "df_GDP_w=df_GDP_w.drop(df_GDP_w.columns[1:17],axis=1)\n",
    "#df_GDP_w"
   ]
  },
  {
   "cell_type": "markdown",
   "metadata": {},
   "source": [
    "Now, different filter can be applied to this data frame that will influence the final data plotted later because of the presence of different joins between the latter dataset and two others. The example showed considers only countries with a GDP higher that a threshold now set to the unrealistic value of $200$, so basically considering all countries present in the data frame. "
   ]
  },
  {
   "cell_type": "code",
   "execution_count": 65,
   "metadata": {},
   "outputs": [
    {
     "data": {
      "text/html": [
       "<div>\n",
       "<style scoped>\n",
       "    .dataframe tbody tr th:only-of-type {\n",
       "        vertical-align: middle;\n",
       "    }\n",
       "\n",
       "    .dataframe tbody tr th {\n",
       "        vertical-align: top;\n",
       "    }\n",
       "\n",
       "    .dataframe thead th {\n",
       "        text-align: right;\n",
       "    }\n",
       "</style>\n",
       "<table border=\"1\" class=\"dataframe\">\n",
       "  <thead>\n",
       "    <tr style=\"text-align: right;\">\n",
       "      <th></th>\n",
       "      <th>Country Name</th>\n",
       "      <th>GDP_x</th>\n",
       "    </tr>\n",
       "  </thead>\n",
       "  <tbody>\n",
       "    <tr>\n",
       "      <th>0</th>\n",
       "      <td>Aruba</td>\n",
       "      <td>2.402359e+09</td>\n",
       "    </tr>\n",
       "    <tr>\n",
       "      <th>1</th>\n",
       "      <td>Afghanistan</td>\n",
       "      <td>1.292136e+10</td>\n",
       "    </tr>\n",
       "    <tr>\n",
       "      <th>2</th>\n",
       "      <td>Angola</td>\n",
       "      <td>7.248887e+10</td>\n",
       "    </tr>\n",
       "    <tr>\n",
       "      <th>3</th>\n",
       "      <td>Albania</td>\n",
       "      <td>1.044583e+10</td>\n",
       "    </tr>\n",
       "    <tr>\n",
       "      <th>4</th>\n",
       "      <td>Andorra</td>\n",
       "      <td>3.188988e+09</td>\n",
       "    </tr>\n",
       "  </tbody>\n",
       "</table>\n",
       "</div>"
      ],
      "text/plain": [
       "  Country Name         GDP_x\n",
       "0        Aruba  2.402359e+09\n",
       "1  Afghanistan  1.292136e+10\n",
       "2       Angola  7.248887e+10\n",
       "3      Albania  1.044583e+10\n",
       "4      Andorra  3.188988e+09"
      ]
     },
     "execution_count": 65,
     "metadata": {},
     "output_type": "execute_result"
    }
   ],
   "source": [
    "df_GDP_w=df_GDP_w[df_GDP_w['GDP_x']>200]#*10e9]\n",
    "#df_GDP_w=df_GDP_w[df_GDP_w['Country Name']=='Cyprus']\n",
    "df_GDP_w.head()"
   ]
  },
  {
   "cell_type": "markdown",
   "metadata": {},
   "source": [
    "For counting the Panama Papers, the `` df_entity_raw`` is firstly joined with ``df_GDP_w`` to consider only countries previously filtered and then all the rows with $NaN$ are dropped. "
   ]
  },
  {
   "cell_type": "code",
   "execution_count": 66,
   "metadata": {},
   "outputs": [],
   "source": [
    "df_entity_S2 = df_entity_raw.copy()\n",
    "df_entity_S2=df_entity_S2.merge(df_GDP_w, how='left',left_on='countries', right_on='Country Name')\n",
    "df_entity_S2=df_entity_S2[pd.notnull(df_entity_S2['GDP_x'])]\n",
    "#df_entity_S2"
   ]
  },
  {
   "cell_type": "markdown",
   "metadata": {},
   "source": [
    "Through converting the year column into index and use it through different function, the count of the number of entities of the countries considered going offshore yearly is calculated."
   ]
  },
  {
   "cell_type": "code",
   "execution_count": 67,
   "metadata": {
    "scrolled": true
   },
   "outputs": [],
   "source": [
    "df_entity_S2.incorporation_date = pd.to_datetime(df_entity_S2.incorporation_date)\n",
    "df_entity_S2['Year'] = df_entity_S2.apply(lambda row: row['incorporation_date'].year, axis=1)\n",
    "series_panamas = df_entity_S2.groupby(['Year'], axis=0)['Year'].count()\n",
    "series_panamas.index = series_panamas.index.astype(int)"
   ]
  },
  {
   "cell_type": "markdown",
   "metadata": {},
   "source": [
    "Here the other country feature dataset is introduced (in this case `` df_gini``). The dataset is cleaned from useless columns and the filtering join with the GDP dataset is performed. "
   ]
  },
  {
   "cell_type": "code",
   "execution_count": 68,
   "metadata": {
    "scrolled": true
   },
   "outputs": [],
   "source": [
    "series_var = df_gini.copy()\n",
    "series_var = series_var.drop(series_var.columns[1:4],axis=1).drop(series_var.columns[-1],axis=1)\n",
    "series_var=series_var.merge(df_GDP_w, how='inner',left_on='Country Name', right_on='Country Name')"
   ]
  },
  {
   "cell_type": "markdown",
   "metadata": {},
   "source": [
    "Now the latter data frame is average along the column direction, hence leaving all the years column. Different strategies were considered to make the latter average, as the purely arithmetic mean is not ideal. This is because different countries have very different weight in the world economy. One strategy was to use the GDP as weight of the country importance. This did not end up being a good solution as not all the values are available every year and so the absence of the value of a big country in one precise timestep would alter the result a lot. "
   ]
  },
  {
   "cell_type": "code",
   "execution_count": 69,
   "metadata": {},
   "outputs": [],
   "source": [
    "series_var[series_var.columns[1:57]]=series_var[series_var.columns[1:57]]#.divide(series_var['GDP_x'], axis='rows')\n",
    "series_var=series_var[series_var.columns[1:57]]\n",
    "series_var = series_var.mean(axis=0, skipna=True)\n",
    "series_var.index = series_var.index.astype(int)"
   ]
  },
  {
   "cell_type": "markdown",
   "metadata": {},
   "source": [
    "Now the 2 resulting series are plotted in one graph with the following code. Only ear after 1979 are considered as before there is no significant yearly number of Panama Papers. The results are standardized with min-max standardization to plot them on a single graph and easily compared their trend and correlation."
   ]
  },
  {
   "cell_type": "code",
   "execution_count": 70,
   "metadata": {
    "scrolled": true
   },
   "outputs": [],
   "source": [
    "series_panamas_cut = series_panamas[series_panamas.index>=1979]\n",
    "series_panamas_cut = (series_panamas_cut-series_panamas_cut.min())/(series_panamas_cut.max()-series_panamas_cut.min())\n",
    "series_var_cut=series_var[series_var.index>=1979]\n",
    "series_var_cut=(series_var_cut-series_var_cut.min())/(series_var_cut.max()-series_var_cut.min())\n",
    "df_plot = pd.concat([series_var_cut, series_panamas_cut], axis=1)\n",
    "df_plot.columns = [['Gini coefficient','Panama papers count']]"
   ]
  },
  {
   "cell_type": "code",
   "execution_count": 71,
   "metadata": {},
   "outputs": [
    {
     "data": {
      "text/plain": [
       "<matplotlib.axes._subplots.AxesSubplot at 0x22407a23470>"
      ]
     },
     "execution_count": 71,
     "metadata": {},
     "output_type": "execute_result"
    },
    {
     "data": {
      "image/png": "[encoded data removed]",
      "text/plain": [
       "<Figure size 648x288 with 1 Axes>"
      ]
     },
     "metadata": {},
     "output_type": "display_data"
    }
   ],
   "source": [
    "df_plot.plot(figsize=(9,4))"
   ]
  },
  {
   "cell_type": "code",
   "execution_count": 72,
   "metadata": {
    "scrolled": true
   },
   "outputs": [
    {
     "data": {
      "text/plain": [
       "<matplotlib.collections.PathCollection at 0x2240bd39160>"
      ]
     },
     "execution_count": 72,
     "metadata": {},
     "output_type": "execute_result"
    },
    {
     "data": {
      "image/png": "[encoded data removed]",
      "text/plain": [
       "<Figure size 432x288 with 1 Axes>"
      ]
     },
     "metadata": {},
     "output_type": "display_data"
    }
   ],
   "source": [
    "plt.scatter(df_plot['Gini coefficient'], df_plot['Panama papers count'])"
   ]
  },
  {
   "cell_type": "markdown",
   "metadata": {},
   "source": [
    "The resulting plot that can be seen here above. It can be seen that, on a world scale, there is no clear correlation between the develop of the GINI and the number of worldwide entities in the Panama Papers. To confirm the hypothesis that a higher number of panama paper is a sign of more inequality in the world, the two parameters would be positively correlated, so showing similar trend. All the countries in the world are very different from each other and their behaviour in the Papers can be influenced by a lot of other covariates. A machine learning algorithm could be a nice solution to find some relation using more features, but it would be very limited by the small amount of point available (the number of world countries)."
   ]
  },
  {
   "cell_type": "code",
   "execution_count": 73,
   "metadata": {},
   "outputs": [],
   "source": [
    "def series_var_processing(df,weighting):\n",
    "    series_var = df.copy()\n",
    "    series_var = series_var.drop(series_var.columns[1:4],axis=1).drop(series_var.columns[-1],axis=1)\n",
    "    series_var=series_var.merge(df_GDP_w, how='inner',left_on='Country Name', right_on='Country Name')\n",
    "    #Here the weighting of GINI is performed \n",
    "    if weighting:\n",
    "        series_var[series_var.columns[1:57]]=series_var[series_var.columns[1:57]].divide(series_var['GDP_x'], axis='rows')\n",
    "    series_var=series_var[series_var.columns[1:57]]\n",
    "    series_var = series_var.mean(axis=0, skipna=True)\n",
    "    series_var.index = series_var.index.astype(int)\n",
    "    series_panamas_cut = series_panamas[series_panamas.index>=1979]\n",
    "    series_panamas_cut = (series_panamas_cut-series_panamas_cut.min())/(series_panamas_cut.max()-series_panamas_cut.min())\n",
    "    series_var_cut=series_var[series_var.index>=1979]\n",
    "    return (series_var_cut-series_var_cut.min())/(series_var_cut.max()-series_var_cut.min())"
   ]
  },
  {
   "cell_type": "code",
   "execution_count": 74,
   "metadata": {},
   "outputs": [
    {
     "data": {
      "text/plain": [
       "<matplotlib.axes._subplots.AxesSubplot at 0x22412c6d470>"
      ]
     },
     "execution_count": 74,
     "metadata": {},
     "output_type": "execute_result"
    },
    {
     "data": {
      "image/png": "[encoded data removed]",
      "text/plain": [
       "<Figure size 648x288 with 1 Axes>"
      ]
     },
     "metadata": {},
     "output_type": "display_data"
    }
   ],
   "source": [
    "series_var_cut=series_var_processing(df_gini,True)\n",
    "df_plot = pd.concat([series_var_cut, series_panamas_cut], axis=1)\n",
    "df_plot.columns = [['Gini coefficient','Panama papers count']]\n",
    "df_plot.plot(figsize=(9,4))"
   ]
  },
  {
   "cell_type": "markdown",
   "metadata": {},
   "source": [
    "In the graph above the same procedure as descripted above is used but this time the GINI coefficient is weighted by dividing it by the GDP. The scatter plot is not showed no consequent time dependence could be seen in that. In this occasion the result does not seem to show any relation. The weighting of the GINI moderates its fluctuations, but missing data creates outliers. A pseudo correlation can be noticed in the first $15 - 17$ years of the plot."
   ]
  },
  {
   "cell_type": "markdown",
   "metadata": {},
   "source": [
    "#### Corporate Tax Rate: Global perspective "
   ]
  },
  {
   "cell_type": "code",
   "execution_count": 75,
   "metadata": {},
   "outputs": [
    {
     "data": {
      "text/plain": [
       "<matplotlib.axes._subplots.AxesSubplot at 0x2240bd1b6d8>"
      ]
     },
     "execution_count": 75,
     "metadata": {},
     "output_type": "execute_result"
    },
    {
     "data": {
      "image/png": "[encoded data removed]",
      "text/plain": [
       "<Figure size 648x288 with 1 Axes>"
      ]
     },
     "metadata": {},
     "output_type": "display_data"
    }
   ],
   "source": [
    "series_var_cut=series_var_processing(df_tax_rate,False)\n",
    "df_plot = pd.concat([series_var_cut, series_panamas_cut], axis=1)\n",
    "df_plot.columns = [['Tax Rate','Panama papers count']]\n",
    "df_plot.plot(figsize=(9,4))"
   ]
  },
  {
   "cell_type": "markdown",
   "metadata": {},
   "source": [
    "For the Tax rate the same procedure applied before to the GINI is done but this time instead of GINI; tax rate is considered. No weighting is considered. As in the analsyis performed before, there is no clear intertemporal relationship between the presence of entities in the Panama Papers and the worldwide corporate tax rate."
   ]
  },
  {
   "cell_type": "markdown",
   "metadata": {},
   "source": [
    "#### GINI coefficient: G7 countries "
   ]
  },
  {
   "cell_type": "code",
   "execution_count": 76,
   "metadata": {},
   "outputs": [
    {
     "data": {
      "text/plain": [
       "<matplotlib.axes._subplots.AxesSubplot at 0x2240c413ac8>"
      ]
     },
     "execution_count": 76,
     "metadata": {},
     "output_type": "execute_result"
    },
    {
     "data": {
      "image/png": "[encoded data removed]",
      "text/plain": [
       "<Figure size 648x288 with 1 Axes>"
      ]
     },
     "metadata": {},
     "output_type": "display_data"
    }
   ],
   "source": [
    "df_GDP_w=df_GDP_tot_raw.iloc[:,cols].copy()\n",
    "df_GDP_w['GDP_x'] = df_GDP_w.iloc[:,range(-15,0)].mean(axis=1,numeric_only=True)\n",
    "df_GDP_w=df_GDP_w.drop(df_GDP_w.columns[1:17],axis=1)\n",
    "#Country filtering\n",
    "df_GDP_w=df_GDP_w[df_GDP_w['GDP_x']>200*10e9]\n",
    "df_entity_S2 = df_entity_raw.copy()\n",
    "df_entity_S2=df_entity_S2.merge(df_GDP_w, how='left',left_on='countries', right_on='Country Name')\n",
    "df_entity_S2=df_entity_S2[pd.notnull(df_entity_S2['GDP_x'])]\n",
    "df_entity_S2.incorporation_date = pd.to_datetime(df_entity_S2.incorporation_date)\n",
    "df_entity_S2['Year'] = df_entity_S2.apply(lambda row: row['incorporation_date'].year, axis=1)\n",
    "series_panamas = df_entity_S2.groupby(['Year'], axis=0)['Year'].count()\n",
    "series_panamas.index = series_panamas.index.astype(int)\n",
    "series_var_cut=series_var_processing(df_gini,False)\n",
    "df_plot = pd.concat([series_var_cut, series_panamas_cut], axis=1)\n",
    "df_plot.columns = [['Gini coefficient','Panama papers count']]\n",
    "df_plot.plot(figsize=(9,4))"
   ]
  },
  {
   "cell_type": "markdown",
   "metadata": {},
   "source": [
    "As previously mentioned, the countries can be filtered by GDP using the GDP database which used with the correct join can act as a filter also for the others. The result, as in the previous case of the Tax rate, is not very meaningful. The data frame analysed has a lot of missing data, hence showing a continuous trend of it just in the last 10 years. Moreover, even in this small period, no observed correlation can be observed."
   ]
  },
  {
   "cell_type": "markdown",
   "metadata": {},
   "source": [
    "PLACE CONCLUSION OF THIS ANALYSIS MATCHING DATA STORY"
   ]
  },
  {
   "cell_type": "code",
   "execution_count": null,
   "metadata": {},
   "outputs": [],
   "source": []
  },
  {
   "cell_type": "code",
   "execution_count": null,
   "metadata": {},
   "outputs": [],
   "source": []
  },
  {
   "cell_type": "code",
   "execution_count": null,
   "metadata": {},
   "outputs": [],
   "source": []
  },
  {
   "cell_type": "code",
   "execution_count": null,
   "metadata": {},
   "outputs": [],
   "source": []
  },
  {
   "cell_type": "markdown",
   "metadata": {},
   "source": [
    "# Old storyline for milestone 2"
   ]
  },
  {
   "cell_type": "markdown",
   "metadata": {},
   "source": [
    "All in all there is a chunck of entities/companies which are registered in Panama papers and which come already from countries with favorable business conditions. Hence it will be important to understand what are these favorable conditions. To do so a set of indicators was selected to investigate what are the economical and bureacratic condition influencing entities in countries to go offshore."
   ]
  },
  {
   "cell_type": "markdown",
   "metadata": {},
   "source": [
    "**Investigate the role that the indicators 'Days to open a business', 'Tax rate', 'Time spent dealing with legal requirements', 'Ease of doing business coefficients' have in pushing entities and companies already to establish in countries which offer business friendly regulations**"
   ]
  },
  {
   "cell_type": "code",
   "execution_count": null,
   "metadata": {},
   "outputs": [],
   "source": [
    "country_count=pd.DataFrame(df_entity_raw['countries'].value_counts())"
   ]
  },
  {
   "cell_type": "markdown",
   "metadata": {},
   "source": [
    "Firstly a dataframe with the country and the respective number of entities in the Panama Papers is made. This is used as a base to subsequentially add information regarding the indicators."
   ]
  },
  {
   "cell_type": "code",
   "execution_count": null,
   "metadata": {
    "scrolled": true
   },
   "outputs": [],
   "source": [
    "country_count=country_count.rename(columns={'countries': 'n_companies_offshore'})\n",
    "country_count['Country Name']=country_count.index\n",
    "country_count=country_count.reset_index(drop=True)"
   ]
  },
  {
   "cell_type": "code",
   "execution_count": null,
   "metadata": {},
   "outputs": [],
   "source": [
    "country_count.head()"
   ]
  },
  {
   "cell_type": "markdown",
   "metadata": {},
   "source": [
    "In order to investigate the relationship between income inequality and number of entities in the Panama papers per country, the number of entities per country has to be weighted according to economical size: without doing so, big economies will automatically have a higher number of entities registered in the papers only because they are bigger. Hence GDP and GDP per capita are going to be used as weighting factor for the number of registered entities in papers, n: \n",
    "\n",
    "\\begin{equation*}\n",
    "n_{w}=\\frac{n}{GDP_{indicator}}\n",
    "\\end{equation*}"
   ]
  },
  {
   "cell_type": "code",
   "execution_count": null,
   "metadata": {},
   "outputs": [],
   "source": [
    "# name formatting \n",
    "df_gdp=df_GDP_tot_raw\n",
    "df_gdp_capita=df_GDP_cap_raw"
   ]
  },
  {
   "cell_type": "code",
   "execution_count": null,
   "metadata": {},
   "outputs": [],
   "source": [
    "df_countries_gdp_capita=pd.DataFrame({'Country Name':df_gdp_capita['Country Name'][df_gdp_capita['2014'].notnull()],'GDP':df_gdp_capita['2014'][df_gdp_capita['2014'].notnull()]})"
   ]
  },
  {
   "cell_type": "code",
   "execution_count": null,
   "metadata": {},
   "outputs": [],
   "source": [
    "df_countries_gdp=pd.DataFrame({'Country Name':df_gdp['Country Name'][df_gdp['2014'].notnull()],'GDP':df_gdp['2014'][df_gdp['2014'].notnull()]})"
   ]
  },
  {
   "cell_type": "code",
   "execution_count": null,
   "metadata": {},
   "outputs": [],
   "source": [
    "# count in panama papers and gdp is merged in one dataframe\n",
    "country_count_gdp=country_count.merge(df_countries_gdp, how='inner',left_on='Country Name', right_on='Country Name')"
   ]
  },
  {
   "cell_type": "code",
   "execution_count": null,
   "metadata": {},
   "outputs": [],
   "source": [
    "# count in panama papers and gdp per capita is merged in one dataframe\n",
    "country_count_gdp=country_count_gdp.merge(df_countries_gdp_capita, how='inner',left_on='Country Name', right_on='Country Name')"
   ]
  },
  {
   "cell_type": "code",
   "execution_count": null,
   "metadata": {},
   "outputs": [],
   "source": [
    "country_count_gdp.head()"
   ]
  },
  {
   "cell_type": "markdown",
   "metadata": {},
   "source": [
    "As highlighted initially, there is a chunck of entities/companies which are registered in Panama papers and which come already from countries with favorable business conditions. Hence it will be important to understand what are these favorable conditions. The year with most data regarding each indicator will be considered assuming that the change in each indicator in the last 10 years is irrelevant. In order to explore the role of each indicator, interactive plots are created to better investigate individually what are the conditions which push entities to go offshore."
   ]
  },
  {
   "cell_type": "markdown",
   "metadata": {},
   "source": [
    "#### Tax Rate"
   ]
  },
  {
   "cell_type": "markdown",
   "metadata": {},
   "source": [
    "Chances of having lower tax rates already push companies to have holdings in tax havens. Do greater tax rates correspond with higher income inequality?"
   ]
  },
  {
   "cell_type": "code",
   "execution_count": null,
   "metadata": {},
   "outputs": [],
   "source": [
    "years=range(1990, 2018)\n",
    "years_count=np.array([])\n",
    "\n",
    "for year in years:\n",
    "    \n",
    "    years_count=np.append(years_count,df_tax_weight[str(year)].notnull().sum())\n",
    "print ('Year with most data is', years[np.argmax(years_count)])"
   ]
  },
  {
   "cell_type": "code",
   "execution_count": null,
   "metadata": {},
   "outputs": [],
   "source": [
    "df_countries_tax=pd.DataFrame({'Country Name':df_tax_weight['Country Name'][df_tax_weight['2013'].notnull()],'Tax Rate':df_tax_weight['2013'][df_tax_weight['2013'].notnull()]})"
   ]
  },
  {
   "cell_type": "code",
   "execution_count": null,
   "metadata": {},
   "outputs": [],
   "source": [
    "df_countries_tax.head()"
   ]
  },
  {
   "cell_type": "markdown",
   "metadata": {},
   "source": [
    "The distribution of the tax rate overall is found"
   ]
  },
  {
   "cell_type": "code",
   "execution_count": null,
   "metadata": {
    "scrolled": true
   },
   "outputs": [],
   "source": [
    "sns.kdeplot(df_countries_tax['Tax Rate'], shade=True)"
   ]
  },
  {
   "cell_type": "markdown",
   "metadata": {},
   "source": [
    "A dataset with tax rate and number of companies registered in the panama papers is made."
   ]
  },
  {
   "cell_type": "code",
   "execution_count": null,
   "metadata": {},
   "outputs": [],
   "source": [
    "country_count_tax_rate=country_count_gdp.merge(df_countries_tax, how='inner',left_on='Country Name', right_on='Country Name')"
   ]
  },
  {
   "cell_type": "code",
   "execution_count": null,
   "metadata": {
    "scrolled": true
   },
   "outputs": [],
   "source": [
    "country_count_tax_rate.head()"
   ]
  },
  {
   "cell_type": "code",
   "execution_count": null,
   "metadata": {
    "scrolled": false
   },
   "outputs": [],
   "source": [
    "sns.jointplot(country_count_tax_rate['Tax Rate'],np.log10(country_count_tax_rate['n_companies_offshore']), kind=\"kdeplot\", n_levels=30)"
   ]
  },
  {
   "cell_type": "markdown",
   "metadata": {},
   "source": [
    "Below an interactive graph showing the relationship between the tax rate and the number of offshore entities is made to investigate a relationship between the two variables and look how each country behave."
   ]
  },
  {
   "cell_type": "code",
   "execution_count": null,
   "metadata": {},
   "outputs": [],
   "source": [
    "x = country_count_tax_rate['Tax Rate']\n",
    "y = np.log10(country_count_tax_rate['n_companies_offshore']/country_count_tax_rate['GDP_y'])\n",
    "#radii = possibility to add radii as a measure of the economy size\n",
    "\n",
    "source=ColumnDataSource(data=dict(\n",
    "    x=list(country_count_tax_rate['Tax Rate']),\n",
    "    y=list(np.log10(country_count_tax_rate['n_companies_offshore']/country_count_tax_rate['GDP_y'])),\n",
    "    country=list(country_count_tax_rate['Country Name']),\n",
    "))\n",
    "\n",
    "colors = [\n",
    "    \"#%02x%02x%02x\" % (int(r), int(g), 150) for r, g in zip(50+2*x, 30+2*y)\n",
    "]\n",
    "\n",
    "hover= HoverTool(tooltips = [(\"Country\", \"@country\"),(\"(Tax Rate, Logfrequency)\", \"($x, $y)\")])\n",
    "\n",
    "TOOLS=\"hover,crosshair,pan,wheel_zoom,zoom_in,zoom_out,box_zoom,undo,redo,reset,tap,save,box_select,poly_select,lasso_select,\"\n",
    "\n",
    "\n",
    "p = figure(tools=[hover])\n",
    "\n",
    "p.scatter(x='x', y='y', radius=1, source=source, fill_alpha=0.6)\n",
    "\n",
    "output_file(\"tax rate.html\", title=\"Tax Rate plot\")\n",
    "\n",
    "show(p)"
   ]
  },
  {
   "cell_type": "markdown",
   "metadata": {},
   "source": [
    "### Ease of Business coefficient"
   ]
  },
  {
   "cell_type": "markdown",
   "metadata": {},
   "source": [
    "Chances of having better business already push companies to have holdings in tax havens or semi tax haven countries such as Singapore, Switzerland or Hong Kong. How much weight does this coefficient have?"
   ]
  },
  {
   "cell_type": "code",
   "execution_count": null,
   "metadata": {},
   "outputs": [],
   "source": [
    "years=range(1990, 2018)\n",
    "years_count=np.array([])\n",
    "\n",
    "for year in years:\n",
    "    \n",
    "    years_count=np.append(years_count,df_ease_business[str(year)].notnull().sum())\n",
    "print ('Year with most data is', years[np.argmax(years_count)])"
   ]
  },
  {
   "cell_type": "code",
   "execution_count": null,
   "metadata": {},
   "outputs": [],
   "source": [
    "df_countries_ease_business=pd.DataFrame({'Country Name':df_ease_business['Country Name'][df_ease_business['2017'].notnull()],'days_open_business':df_ease_business['2017'][df_ease_business['2017'].notnull()]})"
   ]
  },
  {
   "cell_type": "code",
   "execution_count": null,
   "metadata": {},
   "outputs": [],
   "source": [
    "df_countries_ease_business.head()"
   ]
  },
  {
   "cell_type": "code",
   "execution_count": null,
   "metadata": {},
   "outputs": [],
   "source": [
    "country_count_ease_business=country_count_gdp.merge(df_countries_ease_business, how='inner',left_on='Country Name', right_on='Country Name')"
   ]
  },
  {
   "cell_type": "markdown",
   "metadata": {},
   "source": [
    "The distribution of the ease of business coefficients is found"
   ]
  },
  {
   "cell_type": "code",
   "execution_count": null,
   "metadata": {},
   "outputs": [],
   "source": [
    "country_count_ease_business['days_open_business'].plot(kind='hist')"
   ]
  },
  {
   "cell_type": "code",
   "execution_count": null,
   "metadata": {
    "scrolled": true
   },
   "outputs": [],
   "source": [
    "country_count_ease_business.head()"
   ]
  },
  {
   "cell_type": "markdown",
   "metadata": {},
   "source": [
    "A dataset with ease of business conditions and number of companies registered in the panama papers is made."
   ]
  },
  {
   "cell_type": "code",
   "execution_count": null,
   "metadata": {
    "scrolled": true
   },
   "outputs": [],
   "source": [
    "sns.jointplot(country_count_ease_business['days_open_business'],np.log10(country_count_ease_business['n_companies_offshore']), kind='kde')"
   ]
  },
  {
   "cell_type": "code",
   "execution_count": null,
   "metadata": {},
   "outputs": [],
   "source": [
    "x = country_count_ease_business['days_open_business']\n",
    "y = np.log10(country_count_ease_business['n_companies_offshore']/country_count_ease_business['GDP_y'])\n",
    "#radii = possibility to add radii as a measure of the economy size\n",
    "\n",
    "source=ColumnDataSource(data=dict(\n",
    "    x=list(country_count_ease_business['days_open_business']),\n",
    "    y=list(np.log10(country_count_ease_business['n_companies_offshore']/country_count_ease_business['GDP_y'])),\n",
    "    country=list(country_count_ease_business['Country Name']),\n",
    "))\n",
    "\n",
    "colors = [\n",
    "    \"#%02x%02x%02x\" % (int(r), int(g), 150) for r, g in zip(50+2*x, 30+2*y)\n",
    "]\n",
    "\n",
    "hover= HoverTool(tooltips = [(\"Country\", \"@country\"),(\"(days to open business, Logfrequency)\", \"($x, $y)\")])\n",
    "\n",
    "TOOLS=\"hover,crosshair,pan,wheel_zoom,zoom_in,zoom_out,box_zoom,undo,redo,reset,tap,save,box_select,poly_select,lasso_select,\"\n",
    "\n",
    "\n",
    "p = figure(tools=[hover])\n",
    "\n",
    "p.scatter(x='x', y='y', radius=1, source=source, fill_alpha=0.6)\n",
    "\n",
    "output_file(\"days_open_business.html\", title=\"Days open business plot\")\n",
    "\n",
    "show(p)"
   ]
  },
  {
   "cell_type": "markdown",
   "metadata": {},
   "source": [
    "#### Example of Gini Coefficient Analysis"
   ]
  },
  {
   "cell_type": "markdown",
   "metadata": {},
   "source": [
    "Finally an example of how the above mentioned coefficients will be used as weighting factors to investigate income inequality is given for tax rate."
   ]
  },
  {
   "cell_type": "code",
   "execution_count": null,
   "metadata": {},
   "outputs": [],
   "source": [
    "df_gini.head()"
   ]
  },
  {
   "cell_type": "code",
   "execution_count": null,
   "metadata": {},
   "outputs": [],
   "source": [
    "years=range(1990, 2018)\n",
    "years_count=np.array([])\n",
    "\n",
    "for year in years:\n",
    "    \n",
    "    years_count=np.append(years_count,df_gini[str(year)].notnull().sum())\n",
    "print ('Year with most data is', years[np.argmax(years_count)])"
   ]
  },
  {
   "cell_type": "code",
   "execution_count": null,
   "metadata": {},
   "outputs": [],
   "source": [
    "df_countries_gini=pd.DataFrame({'Country Name':df_gini['Country Name'][df_gini['2010'].notnull()],'Gini Coefficient':df_gini['2010'][df_gini['2010'].notnull()]})"
   ]
  },
  {
   "cell_type": "code",
   "execution_count": null,
   "metadata": {},
   "outputs": [],
   "source": [
    "df_countries_gini.head()"
   ]
  },
  {
   "cell_type": "code",
   "execution_count": null,
   "metadata": {},
   "outputs": [],
   "source": [
    "country_count_gini=country_count_gdp.merge(df_countries_gini, how='inner',left_on='Country Name', right_on='Country Name')"
   ]
  },
  {
   "cell_type": "code",
   "execution_count": null,
   "metadata": {},
   "outputs": [],
   "source": [
    "country_count_gini=country_count_gini.merge(df_countries_tax, how='inner',left_on='Country Name', right_on='Country Name')"
   ]
  },
  {
   "cell_type": "code",
   "execution_count": null,
   "metadata": {
    "scrolled": true
   },
   "outputs": [],
   "source": [
    "country_count_gini.head()"
   ]
  },
  {
   "cell_type": "markdown",
   "metadata": {},
   "source": [
    "The graph below shows that by taking account of multiple factors which influence a business to have an offshore holding and investigate the relationship with income inequality an interesting result arises. There seems to be a positive relationship between income inequality and presence in the panama papers. This suggests that even if entities move their capitals/businesses offshore without the intention of evading taxes, the discrepancy between the business conditions with their own home country can correlate with high income inequality. This is the case of some countris in Latin America such as Colombia, Uruguay, Ecuador, Costa Rica and Paraguay."
   ]
  },
  {
   "cell_type": "code",
   "execution_count": null,
   "metadata": {},
   "outputs": [],
   "source": [
    "x = country_count_gini['Gini Coefficient']\n",
    "y = np.log10(country_count_gini['n_companies_offshore']*country_count_gini['Tax Rate']/country_count_gini['GDP_y'])\n",
    "\n",
    "# radii = country_count_gini['Gini Coefficient']\n",
    "# radii=list(country_count_gini['Gini Coefficient']*0.05),\n",
    "\n",
    "source=ColumnDataSource(data=dict(\n",
    "    x=list(country_count_gini['Gini Coefficient']),\n",
    "    y=list(np.log10(country_count_gini['n_companies_offshore']*country_count_gini['Tax Rate']/country_count_gini['GDP_y'])),\n",
    "    country=list(country_count_gini['Country Name']),\n",
    "))\n",
    "\n",
    "colors = [\n",
    "    \"#%02x%02x%02x\" % (int(r), int(g), 150) for r, g in zip(50+2*x, 30+2*y)\n",
    "]\n",
    "\n",
    "hover= HoverTool(tooltips = [(\"Country\", \"@country\"),(\"(Gini, Logfrequency)\", \"($x, $y)\")])\n",
    "\n",
    "TOOLS=\"hover,crosshair,pan,wheel_zoom,zoom_in,zoom_out,box_zoom,undo,redo,reset,tap,save,box_select,poly_select,lasso_select,\"\n",
    "\n",
    "\n",
    "p = figure(tools=[hover])\n",
    "\n",
    "p.scatter(x='x', y='y', radius=1, source=source, fill_alpha=0.6)\n",
    "\n",
    "output_file(\"gini.html\", title=\"Gini Coefficient plot\")\n",
    "\n",
    "show(p)"
   ]
  },
  {
   "cell_type": "markdown",
   "metadata": {},
   "source": [
    "### Evolution in Time"
   ]
  },
  {
   "cell_type": "markdown",
   "metadata": {},
   "source": [
    "To answer the second question, we will look at the incorporation dates of different entities and groupby count by year to plot a time series chart."
   ]
  },
  {
   "cell_type": "code",
   "execution_count": null,
   "metadata": {},
   "outputs": [],
   "source": [
    "entity['Year'] = entity.apply(lambda row: row['incorporation_date'].year, axis=1)"
   ]
  },
  {
   "cell_type": "code",
   "execution_count": null,
   "metadata": {},
   "outputs": [],
   "source": [
    "series = entity.groupby(['Year'], axis=0)['Year'].count()"
   ]
  },
  {
   "cell_type": "code",
   "execution_count": null,
   "metadata": {
    "scrolled": true
   },
   "outputs": [],
   "source": [
    "x = series.index.tolist()\n",
    "y = series.tolist()\n",
    "\n",
    "plt.plot(x,y)\n",
    "plt.show()"
   ]
  },
  {
   "cell_type": "markdown",
   "metadata": {},
   "source": [
    "Thus we observe that the number of incorporations peaked between 20"
   ]
  }
 ],
 "metadata": {
  "kernelspec": {
   "display_name": "Python [conda env:anaconda3]",
   "language": "python",
   "name": "conda-env-anaconda3-py"
  },
  "language_info": {
   "codemirror_mode": {
    "name": "ipython",
    "version": 3
   },
   "file_extension": ".py",
   "mimetype": "text/x-python",
   "name": "python",
   "nbconvert_exporter": "python",
   "pygments_lexer": "ipython3",
   "version": "3.6.5"
  }
 },
 "nbformat": 4,
 "nbformat_minor": 2
}
