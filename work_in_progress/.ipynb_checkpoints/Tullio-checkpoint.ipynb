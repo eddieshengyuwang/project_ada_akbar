{
 "cells": [
  {
   "cell_type": "code",
   "execution_count": 1,
   "metadata": {},
   "outputs": [],
   "source": [
    "# Import the necessary packages to perform the data analysis\n",
    "\n",
    "# packages to process and visualize the data\n",
    "import pandas as pd\n",
    "import numpy as np\n",
    "import seaborn as sns\n",
    "import scipy\n",
    "import matplotlib.pyplot as plt\n",
    "import json\n",
    "import folium\n",
    "#from geopy.geocoders import Nominatim\n",
    "#from webcolors import rgb_to_name\n",
    "\n",
    "# packages to improve visual description and analysis\n",
    "from IPython.core import display as ICD\n",
    "pd.set_option('display.max_columns', 100)\n",
    "import os"
   ]
  },
  {
   "cell_type": "markdown",
   "metadata": {},
   "source": [
    "Import the dataset of top 2000 companies"
   ]
  },
  {
   "cell_type": "code",
   "execution_count": 2,
   "metadata": {},
   "outputs": [],
   "source": [
    "path='../data/'"
   ]
  },
  {
   "cell_type": "code",
   "execution_count": 3,
   "metadata": {},
   "outputs": [],
   "source": [
    "#World Bank dataset\n",
    "GINI_coeff = 'API_SI.POV.GINI_DS2_en_csv_v2_10224868.csv'\n",
    "ease_of_bus = 'API_IC.BUS.EASE.XQ_DS2_en_csv_v2_10226725.csv'\n",
    "GDP_tot = 'API_NY.GDP.MKTP.CD_DS2_en_csv_v2_10224782.csv'\n",
    "GDP_cap = 'API_NY.GDP.PCAP.CD_DS2_en_csv_v2_10224851.csv'\n",
    "time_start_bus = 'API_IC.REG.DURS_DS2_en_csv_v2_10225592.csv'\n",
    "time_spent_by_bus = 'API_IC.GOV.DURS.ZS_DS2_en_csv_v2_10230883.csv'\n",
    "tax_rate = 'API_IC.TAX.TOTL.CP.ZS_DS2_en_csv_v2_10226097.csv'"
   ]
  },
  {
   "cell_type": "code",
   "execution_count": 4,
   "metadata": {},
   "outputs": [],
   "source": [
    "panama_docs=[]\n",
    "GDP_docs=[]\n",
    "for i in os.listdir(path):\n",
    "    if i[:13]=='panama_papers':\n",
    "        panama_docs.append(i)\n",
    "    if i[:10]=='API_NY.GDP':\n",
    "        GDP_docs.append(i)"
   ]
  },
  {
   "cell_type": "code",
   "execution_count": 5,
   "metadata": {},
   "outputs": [],
   "source": [
    "df_edges_raw = pd.read_csv(path + panama_docs[0],low_memory=False)\n",
    "df_address_raw = pd.read_csv(path + panama_docs[1],low_memory=False)\n",
    "df_entity_raw = pd.read_csv(path + panama_docs[2],low_memory=False)\n",
    "df_intermediary_raw = pd.read_csv(path + panama_docs[3],low_memory=False)\n",
    "df_officier_raw = pd.read_csv(path + panama_docs[4],low_memory=False)"
   ]
  },
  {
   "cell_type": "code",
   "execution_count": 6,
   "metadata": {},
   "outputs": [],
   "source": [
    "df_GDP_tot_raw=pd.read_csv(path + GDP_docs[0],skiprows=4,low_memory=False)\n",
    "df_GDP_cap_raw=pd.read_csv(path + GDP_docs[1],skiprows=4,low_memory=False)\n",
    "df_tax_weight=pd.read_csv(path+tax_rate, skiprows=4)\n",
    "df_ease_business=pd.read_csv(path+ease_of_bus,skiprows=4)\n",
    "df_gini=pd.read_csv(path+GINI_coeff, skiprows=4)"
   ]
  },
  {
   "cell_type": "code",
   "execution_count": null,
   "metadata": {},
   "outputs": [],
   "source": [
    "df_entity_raw"
   ]
  },
  {
   "cell_type": "markdown",
   "metadata": {},
   "source": [
    "**1) Map the tax heavens jurisdiction in terms of the number of entities they have registered**\n",
    "\n",
    "\n",
    "Here the jurisdiction column of the entity file is considered. It represents the county where the offshore entity is register."
   ]
  },
  {
   "cell_type": "code",
   "execution_count": null,
   "metadata": {},
   "outputs": [],
   "source": [
    "df_entity_raw['jurisdiction_description'].unique()"
   ]
  },
  {
   "cell_type": "markdown",
   "metadata": {},
   "source": [
    "To better represent all the country present on different graph, all the countries appearing less times than a certain number called here threshold are grouped and considered in following steps as `Others`."
   ]
  },
  {
   "cell_type": "code",
   "execution_count": null,
   "metadata": {
    "scrolled": true
   },
   "outputs": [],
   "source": [
    "threshold1=1000\n",
    "df_entity_S1=df_entity_raw.copy()\n",
    "vc=df_entity_S1.jurisdiction_description.value_counts()\n",
    "tax_heavens_L=list(vc[vc > threshold1].index)\n",
    "tax_heavens_S=list(vc[vc <= threshold1].index)\n",
    "df_entity_S1.loc[~df_entity_S1.jurisdiction_description.isin(tax_heavens_L), 'jurisdiction_description'] = 'Others'\n",
    "df_entity_S1.jurisdiction_description.value_counts()"
   ]
  },
  {
   "cell_type": "markdown",
   "metadata": {},
   "source": [
    "A simple histogram is plotted. Logarithmic scale on the $y-axis$ is later applied noticed an approximated exponential distribution. It could be an interesting aspect to investigate. "
   ]
  },
  {
   "cell_type": "code",
   "execution_count": null,
   "metadata": {
    "scrolled": true
   },
   "outputs": [],
   "source": [
    "df_entity_S1.jurisdiction_description.value_counts().plot(kind='bar',title='Jurisdiction description', logy=True)\n",
    "print('Countries in Others category are: ',tax_heavens_S)"
   ]
  },
  {
   "cell_type": "markdown",
   "metadata": {},
   "source": [
    "A pie chart is also plotted. As mentioned above a heat map of the distribution around the world will be represented."
   ]
  },
  {
   "cell_type": "code",
   "execution_count": null,
   "metadata": {
    "scrolled": true
   },
   "outputs": [],
   "source": [
    "df_entity_S1.jurisdiction_description.value_counts().sort_index().plot(kind='pie', figsize=(7, 7), title='Jurisdiction description')"
   ]
  },
  {
   "cell_type": "markdown",
   "metadata": {},
   "source": [
    "**2) Map countries in the world according to how much they appear in the Panama Papers in terms of the entities**"
   ]
  },
  {
   "cell_type": "markdown",
   "metadata": {},
   "source": [
    "The same procedure is applied to the `country` column representing the country of origin of the offshore company. As more country are included a bigger threshold needs to be chosen in order to make the plots still readable. Same as before, the count of companies for country will be represent on a heat map."
   ]
  },
  {
   "cell_type": "code",
   "execution_count": null,
   "metadata": {
    "scrolled": true
   },
   "outputs": [],
   "source": [
    "df_entity_raw['countries'].unique()"
   ]
  },
  {
   "cell_type": "code",
   "execution_count": null,
   "metadata": {
    "scrolled": true
   },
   "outputs": [],
   "source": [
    "threshold2=3000\n",
    "vc=df_entity_S1.countries.value_counts()\n",
    "tax_evasions_L=list(vc[vc > threshold2].index)\n",
    "tax_evasions_S=list(vc[vc <= threshold2].index)\n",
    "df_entity_S1.loc[~df_entity_S1.countries.isin(tax_evasions_L), 'countries'] = 'Others'\n",
    "df_entity_S1.countries.value_counts()"
   ]
  },
  {
   "cell_type": "code",
   "execution_count": null,
   "metadata": {},
   "outputs": [],
   "source": [
    "df_entity_S1.countries.value_counts().plot(kind='bar',title='Countries', figsize=(10, 7), logy=True)"
   ]
  },
  {
   "cell_type": "markdown",
   "metadata": {},
   "source": [
    "The value of the `Others` column is very high indicating a quite heavy tail distribution. As before, plotting the bar chart with a logarithm $y-axis$, seems that the distribution has a exponential behaviour at least his first part. "
   ]
  },
  {
   "cell_type": "code",
   "execution_count": null,
   "metadata": {},
   "outputs": [],
   "source": [
    "df_entity_S1.countries.value_counts().sort_index().plot(kind='pie', figsize=(7, 7), title='Countries')"
   ]
  },
  {
   "cell_type": "markdown",
   "metadata": {},
   "source": [
    "An interesting fact can be notice from the distribution of the countries. The majority of the entities present in the papers come from a country with already favourable business condition like Honk Kong, Switzerland and Luxembourg or even from a place considered a fiscal paradise (Panama, Jersey). This fact can be explained with a tendency, amplified by globalization, of big companies of starting their international business already from a convenient economy. Later queries will need to take into account these facts, maybe weighting output by indicator of the economic situation of the county of origin. \n",
    "More analysis on this aspect will be performed.\n"
   ]
  },
  {
   "cell_type": "markdown",
   "metadata": {},
   "source": [
    "**Plotting distributions on a map**"
   ]
  },
  {
   "cell_type": "code",
   "execution_count": null,
   "metadata": {},
   "outputs": [],
   "source": [
    "state_geo_path = path+'countries.geojson'\n",
    "geo_json_data = json.load(open(state_geo_path))"
   ]
  },
  {
   "cell_type": "code",
   "execution_count": null,
   "metadata": {},
   "outputs": [],
   "source": [
    "geo_json_data['objects']['cantons']['geometries'][0]"
   ]
  },
  {
   "cell_type": "code",
   "execution_count": null,
   "metadata": {},
   "outputs": [],
   "source": [
    "m_world = folium.Map([0,0], tiles='cartodbpositron', zoom_start=2)\n",
    "m_world"
   ]
  },
  {
   "cell_type": "code",
   "execution_count": null,
   "metadata": {},
   "outputs": [],
   "source": [
    "folium.TopoJson(geo_json_data,'objects.cantons').add_to(m_world)\n",
    "m_world"
   ]
  },
  {
   "cell_type": "code",
   "execution_count": null,
   "metadata": {},
   "outputs": [],
   "source": []
  },
  {
   "cell_type": "code",
   "execution_count": null,
   "metadata": {},
   "outputs": [],
   "source": []
  },
  {
   "cell_type": "code",
   "execution_count": null,
   "metadata": {},
   "outputs": [],
   "source": []
  },
  {
   "cell_type": "markdown",
   "metadata": {},
   "source": [
    "**3)GDP_cap Analysis**"
   ]
  },
  {
   "cell_type": "markdown",
   "metadata": {},
   "source": [
    "As many of the operation performed with the GDP will involve an inner joint between the latter and the entity data frame, the correctness of the operation is investigated. "
   ]
  },
  {
   "cell_type": "code",
   "execution_count": null,
   "metadata": {},
   "outputs": [],
   "source": [
    "df_GDP_tot_raw"
   ]
  },
  {
   "cell_type": "markdown",
   "metadata": {},
   "source": [
    "All the following numbers printed show the condition of the data frame as it is right now, after performing the operation later described. The year with less missing values among the ones that follow the 2008 economic crisis (meaning comparable GDP to the present ones) is chosen as measure of the GDP. It is 2014 with 16 missing values."
   ]
  },
  {
   "cell_type": "code",
   "execution_count": null,
   "metadata": {},
   "outputs": [],
   "source": [
    "print(df_GDP_tot_raw['2017'].isna().sum())\n",
    "print(df_GDP_tot_raw['2016'].isna().sum())\n",
    "print(df_GDP_tot_raw['2015'].isna().sum())\n",
    "print(df_GDP_tot_raw['2014'].isna().sum())\n",
    "print(df_GDP_tot_raw['2013'].isna().sum())\n",
    "print(df_GDP_tot_raw['2012'].isna().sum())"
   ]
  },
  {
   "cell_type": "code",
   "execution_count": null,
   "metadata": {},
   "outputs": [],
   "source": [
    "df_GDP_tot_raw[df_GDP_tot_raw['2014'].isna()]"
   ]
  },
  {
   "cell_type": "code",
   "execution_count": null,
   "metadata": {
    "scrolled": true
   },
   "outputs": [],
   "source": [
    "df_GDP_tot=df_GDP_tot_raw[['Country Name','2014']].copy()\n",
    "df_GDP_tot.columns = ['countries', 'GDP_tot']\n",
    "#df_GDP_tot"
   ]
  },
  {
   "cell_type": "markdown",
   "metadata": {},
   "source": [
    "A new data frame from the `entity` one is created with only the relevant columns. (value_counts is applied) "
   ]
  },
  {
   "cell_type": "code",
   "execution_count": null,
   "metadata": {
    "scrolled": true
   },
   "outputs": [],
   "source": [
    "df_vc=pd.DataFrame(df_entity_raw.countries.value_counts())\n",
    "df_vc.reset_index(level=0, inplace=True)\n",
    "df_vc.columns = ['countries', 'n_companies']\n",
    "#df_vc"
   ]
  },
  {
   "cell_type": "markdown",
   "metadata": {},
   "source": [
    "Now a merge with an inner join the value counts data frame `df_vc` and the `df_GDP_tot` is performed. All the lines with a missing GDP were visualized below (lines of British Virgin Islands, Turks and Caicos Island, Sint Marteen (dutch part), Monaco, Gibraltar, Cayman Islands, Bermuda and Aruba).  The missing values are manually integrated in the `.csv` looking at reliable data online. The check for nan values now shows an empty dataframe."
   ]
  },
  {
   "cell_type": "code",
   "execution_count": null,
   "metadata": {},
   "outputs": [],
   "source": [
    "df_GDP_tot_entities=df_vc.merge(df_GDP_tot, how='left',left_on='countries', right_on='countries')\n",
    "print('Number of countries without GDP in the database: ',df_GDP_tot_entities[df_GDP_tot_entities['GDP_tot'].isna()])\n",
    "#df_GDP_tot_entities"
   ]
  },
  {
   "cell_type": "markdown",
   "metadata": {},
   "source": [
    "**3)GDP_tot Analysis**"
   ]
  },
  {
   "cell_type": "markdown",
   "metadata": {},
   "source": [
    "The same analysis procedure is performed on the GDP pro capita data frame. The same lines of GDP were missing, and they were replaced in the same manner as for the total GDP."
   ]
  },
  {
   "cell_type": "code",
   "execution_count": null,
   "metadata": {},
   "outputs": [],
   "source": [
    "df_GDP_cap_raw"
   ]
  },
  {
   "cell_type": "code",
   "execution_count": null,
   "metadata": {},
   "outputs": [],
   "source": [
    "print(df_GDP_cap_raw['2017'].isna().sum())\n",
    "print(df_GDP_cap_raw['2016'].isna().sum())\n",
    "print(df_GDP_cap_raw['2015'].isna().sum())\n",
    "print(df_GDP_cap_raw['2014'].isna().sum())\n",
    "print(df_GDP_cap_raw['2013'].isna().sum())\n",
    "print(df_GDP_cap_raw['2012'].isna().sum())"
   ]
  },
  {
   "cell_type": "code",
   "execution_count": null,
   "metadata": {},
   "outputs": [],
   "source": [
    "df_GDP_cap=df_GDP_cap_raw[['Country Name','2014']].copy()\n",
    "df_GDP_cap.columns = ['countries', 'GDP_cap']\n",
    "#df_GDP_cap"
   ]
  },
  {
   "cell_type": "code",
   "execution_count": null,
   "metadata": {
    "scrolled": true
   },
   "outputs": [],
   "source": [
    "df_GDP_cap_entities=df_GDP_cap.merge(df_vc, how='inner',left_on='countries', right_on='countries')\n",
    "print('Number of countries without GDP in the database: ',df_GDP_cap_entities[df_GDP_cap_entities['GDP_cap'].isna()])\n",
    "#df_GDP_cap_entities"
   ]
  },
  {
   "cell_type": "markdown",
   "metadata": {},
   "source": [
    "**Chechking mean approximation of databases**"
   ]
  },
  {
   "cell_type": "code",
   "execution_count": null,
   "metadata": {},
   "outputs": [],
   "source": [
    "df_tax_weight"
   ]
  },
  {
   "cell_type": "code",
   "execution_count": null,
   "metadata": {
    "scrolled": true
   },
   "outputs": [],
   "source": [
    "http://127.0.0.1:8888/notebooks/ada/Courses/Applied%20Data%20Analysis/project_ada_akbar/work_in_progress/Tullio.ipynb#cols=[0]+list(range(-9,-1))\n",
    "cols\n",
    "df_tax_weight_short=df_tax_weight.iloc[:,cols].copy()\n",
    "df_tax_weight_short['mean'] = df_tax_weight_short.iloc[:,range(-8,0)].mean(axis=1,numeric_only=True)\n",
    "df_tax_weight_short"
   ]
  },
  {
   "cell_type": "markdown",
   "metadata": {},
   "source": [
    "**Chechking yearly dependance**"
   ]
  },
  {
   "cell_type": "markdown",
   "metadata": {},
   "source": [
    "One interesting fact that could be analysed is the time correlation between the number of Panama Papers during the years and the yearly development of other indicators such as GINI coefficient. "
   ]
  },
  {
   "cell_type": "markdown",
   "metadata": {},
   "source": [
    "To do so, the total database is considering for different purpose that will be later explained. Firstly, only the columns regarding the last $15$ years are considered and stored in ``df_GDP_w``. Then an average over these years is considered to obtain a single expression for each country and for mitigate the presence of missing value in the data. The column ``GDP_x`` is added with the mean and all the other columns are dropped."
   ]
  },
  {
   "cell_type": "code",
   "execution_count": 7,
   "metadata": {
    "scrolled": true
   },
   "outputs": [],
   "source": [
    "cols=[0]+list(range(-17,-1))\n",
    "df_GDP_w=df_GDP_tot_raw.iloc[:,cols].copy()\n",
    "df_GDP_w['GDP_x'] = df_GDP_w.iloc[:,range(-15,0)].mean(axis=1,numeric_only=True)\n",
    "df_GDP_w=df_GDP_w.drop(df_GDP_w.columns[1:17],axis=1)\n",
    "#df_GDP_w"
   ]
  },
  {
   "cell_type": "markdown",
   "metadata": {},
   "source": [
    "Now, different filter can be applied to this data frame that will influence the final data plotted later because of the presence of different joins between the latter dataset and two others. The example showed considers only countries with a GDP higher that a threshold now set to the unrealistic value of $200$, so basically considering all countries present in the data frame. "
   ]
  },
  {
   "cell_type": "code",
   "execution_count": 8,
   "metadata": {},
   "outputs": [],
   "source": [
    "df_GDP_w=df_GDP_w[df_GDP_w['GDP_x']>200]#*10e9]\n",
    "#df_GDP_w=df_GDP_w[df_GDP_w['Country Name']=='Cyprus']\n",
    "df_GDP_w.head()"
   ]
  },
  {
   "cell_type": "markdown",
   "metadata": {},
   "source": [
    "For counting the Panama Papers, the `` df_entity_raw`` is firstly joined with ``df_GDP_w`` to consider only countries previously filtered and then all the rows with $NaN$ are dropped. "
   ]
  },
  {
   "cell_type": "code",
   "execution_count": 11,
   "metadata": {},
   "outputs": [],
   "source": [
    "df_entity_S2 = df_entity_raw.copy()\n",
    "df_entity_S2=df_entity_S2.merge(df_GDP_w, how='left',left_on='countries', right_on='Country Name')\n",
    "df_entity_S2=df_entity_S2[pd.notnull(df_entity_S2['GDP_x'])]\n",
    "#df_entity_S2"
   ]
  },
  {
   "cell_type": "markdown",
   "metadata": {},
   "source": [
    "Through converting the year column into index and use it through different function, the count of the number of entities of the countries considered going offshore yearly is calculated."
   ]
  },
  {
   "cell_type": "code",
   "execution_count": 13,
   "metadata": {
    "scrolled": true
   },
   "outputs": [],
   "source": [
    "df_entity_S2.incorporation_date = pd.to_datetime(df_entity_S2.incorporation_date)\n",
    "df_entity_S2['Year'] = df_entity_S2.apply(lambda row: row['incorporation_date'].year, axis=1)\n",
    "series_panamas = df_entity_S2.groupby(['Year'], axis=0)['Year'].count()\n",
    "series_panamas.index = series_panamas.index.astype(int)"
   ]
  },
  {
   "cell_type": "markdown",
   "metadata": {},
   "source": [
    "Here the other country feature dataset is introduced (in this case `` df_gini``). The dataset is cleaned from useless columns and the filtering join with the GDP dataset is performed. "
   ]
  },
  {
   "cell_type": "code",
   "execution_count": 14,
   "metadata": {
    "scrolled": true
   },
   "outputs": [],
   "source": [
    "series_var = df_gini.copy()\n",
    "series_var = series_var.drop(series_var.columns[1:4],axis=1).drop(series_var.columns[-1],axis=1)\n",
    "series_var=series_var.merge(df_GDP_w, how='inner',left_on='Country Name', right_on='Country Name')\n",
    "series_var.head()"
   ]
  },
  {
   "cell_type": "markdown",
   "metadata": {},
   "source": [
    "Now the latter data frame is average along the column direction, hence leaving all the years column. Different strategies were considered to make the latter average, as the purely arithmetic mean is not ideal. This is because different countries have very different weight in the world economy. One strategy was to use the GDP as weight of the country importance. This did not end up being a good solution as not all the values are available every year and so the absence of the value of a big country in one precise timestep would alter the result a lot. "
   ]
  },
  {
   "cell_type": "code",
   "execution_count": 18,
   "metadata": {},
   "outputs": [],
   "source": [
    "series_var[series_var.columns[1:57]]=series_var[series_var.columns[1:57]]#.divide(series_var['GDP_x'], axis='rows')\n",
    "series_var=series_var[series_var.columns[1:57]]\n",
    "series_var = series_var.mean(axis=0, skipna=True)\n",
    "series_var.index = series_var.index.astype(int)"
   ]
  },
  {
   "cell_type": "markdown",
   "metadata": {},
   "source": [
    "Now the 2 resulting series are plotted in one graph with the following code. Only ear after 1979 are considered as before there is no significant yearly number of Panama Papers. The results are standardized with min-max standardization to plot them on a single graph and easily compared their trend and correlation."
   ]
  },
  {
   "cell_type": "code",
   "execution_count": 19,
   "metadata": {
    "scrolled": true
   },
   "outputs": [],
   "source": [
    "series_panamas_cut = series_panamas[series_panamas.index>=1979]\n",
    "series_panamas_cut = (series_panamas_cut-series_panamas_cut.min())/(series_panamas_cut.max()-series_panamas_cut.min())\n",
    "series_var_cut=series_var[series_var.index>=1979]\n",
    "series_var_cut=(series_var_cut-series_var_cut.min())/(series_var_cut.max()-series_var_cut.min())\n",
    "df_plot = pd.concat([series_var_cut, series_panamas_cut], axis=1)\n",
    "df_plot.columns = [['Gini coefficient','Panama papers count']]"
   ]
  },
  {
   "cell_type": "code",
   "execution_count": 36,
   "metadata": {
    "scrolled": true
   },
   "outputs": [
    {
     "data": {
      "text/plain": [
       "<matplotlib.axes._subplots.AxesSubplot at 0x7f3458f33518>"
      ]
     },
     "execution_count": 36,
     "metadata": {},
     "output_type": "execute_result"
    },
    {
     "data": {
      "image/png": "[encoded data removed]",
      "text/plain": [
       "<Figure size 648x288 with 1 Axes>"
      ]
     },
     "metadata": {
      "needs_background": "light"
     },
     "output_type": "display_data"
    }
   ],
   "source": [
    "df_plot.plot(figsize=(9,4))"
   ]
  },
  {
   "cell_type": "markdown",
   "metadata": {},
   "source": []
  }
 ],
 "metadata": {
  "kernelspec": {
   "display_name": "Python 3",
   "language": "python",
   "name": "python3"
  },
  "language_info": {
   "codemirror_mode": {
    "name": "ipython",
    "version": 3
   },
   "file_extension": ".py",
   "mimetype": "text/x-python",
   "name": "python",
   "nbconvert_exporter": "python",
   "pygments_lexer": "ipython3",
   "version": "3.6.7"
  }
 },
 "nbformat": 4,
 "nbformat_minor": 2
}
